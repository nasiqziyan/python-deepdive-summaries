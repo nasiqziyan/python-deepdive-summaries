{
 "cells": [
  {
   "cell_type": "markdown",
   "id": "72e21bdf-4ce0-4be1-a09b-2327b785be49",
   "metadata": {},
   "source": [
    "# Project 5"
   ]
  },
  {
   "cell_type": "markdown",
   "id": "59350639-97d6-494a-8f4c-2348668c03e7",
   "metadata": {},
   "source": [
    "#### Description"
   ]
  },
  {
   "cell_type": "markdown",
   "id": "5f0c27e3-9a6c-4076-9b11-719d5aaadfcb",
   "metadata": {},
   "source": [
    "Suppose we are writing an application that uses exceptions and we want our exception messages (and type) to be very consistent, as well as provide some way to easily list out all the possible exceptions used in our app."
   ]
  },
  {
   "cell_type": "markdown",
   "id": "4c221561-5ed6-4213-9a12-b9f80c074f44",
   "metadata": {},
   "source": [
    "Although there are many other approaches to doing this (as with any problem), let's use enumerations specifically to implement this functionality."
   ]
  },
  {
   "cell_type": "markdown",
   "id": "c7c5891b-d580-4187-a4a7-127d656282ae",
   "metadata": {},
   "source": [
    "What we want is a mechanism whereby we can raise an exception this way:"
   ]
  },
  {
   "cell_type": "markdown",
   "id": "b68ff15f-8859-4bd1-8c3b-94898a258b09",
   "metadata": {},
   "source": [
    "```\n",
    "AppException.Timeout.throw()\n",
    "```\n",
    "which will raise a custom exception `ConnectionException('100 - Timeout connecting to resource')`"
   ]
  },
  {
   "cell_type": "markdown",
   "id": "9f131da9-1c03-493c-8e4e-fd3b12de94f1",
   "metadata": {},
   "source": [
    "And something like this as well:\n",
    "```\n",
    "AppException.NotAnInteger.throw()\n",
    "```\n",
    "which will raise a `ValueError('200 - Value is not an integer')`"
   ]
  },
  {
   "cell_type": "markdown",
   "id": "fae2df6b-1171-4a92-9747-1e8c518f5aea",
   "metadata": {},
   "source": [
    "This means our exception will need to contain the exception key (such as `Timeout` or `NotAnInteger`) as well as the exception class we want to raise, and the default message itself. We also want to have consistent error codes (integer values) for each exception.\n",
    "\n",
    "We'll need to implement a `throw` method (we can't use the reserved name `raise`) that will raise the exception with the default message. In addition we'd like to be able to override the default message with a custom one if we prefer:\n",
    "```\n",
    "AppException.Timeout.throw('Timeout connecting to database')\n",
    "```\n",
    "\n",
    "We'll also need to implement some properties for the exception code, class (type), and message."
   ]
  },
  {
   "cell_type": "markdown",
   "id": "7dbdb2b0-e23a-4fe9-8788-a7bdaf1d088f",
   "metadata": {},
   "source": [
    "#### Main Solution"
   ]
  },
  {
   "cell_type": "markdown",
   "id": "11d08d67-80b9-4c2a-a0c2-ecc7f88a3ce7",
   "metadata": {},
   "source": [
    "First let's create a few custom exceptions that we can use, but of course we can also use all the builtin exceptions too."
   ]
  },
  {
   "cell_type": "code",
   "execution_count": 2,
   "id": "03bff2f4-a3ac-472a-bb2c-cbbb3bd362e6",
   "metadata": {},
   "outputs": [],
   "source": [
    "class GenericException(Exception):\n",
    "    pass\n",
    "\n",
    "class Timeout(Exception):\n",
    "    pass"
   ]
  },
  {
   "cell_type": "code",
   "execution_count": 3,
   "id": "3e6ab62e-0bb7-4df0-9b1f-9c383d6330c4",
   "metadata": {},
   "outputs": [],
   "source": [
    "from enum import Enum, unique\n",
    "\n",
    "class AppException(Enum):\n",
    "    Generic = (100, GenericException, 'Application exception.')\n",
    "    Timeout = (101, Timeout, 'Timeout connecting to resource.')\n",
    "    NotAnInteger = (200, ValueError, 'Value must be an integer.')\n",
    "    NotAList = (201, ValueError, 'Value must be a list.')\n",
    "    \n",
    "    def __new__(cls, ex_code, ex_class, ex_message):\n",
    "        # create a new instance of cls\n",
    "        member = object.__new__(cls)\n",
    "        \n",
    "        # set up instance attributes\n",
    "        member._value_ = ex_code\n",
    "        member.exception = ex_class\n",
    "        member.message = ex_message\n",
    "        return member"
   ]
  },
  {
   "cell_type": "markdown",
   "id": "50b01330-9cfa-4c64-b867-642b72b7f244",
   "metadata": {},
   "source": [
    "So this is a good start. We can use our enum this way:"
   ]
  },
  {
   "cell_type": "code",
   "execution_count": 4,
   "id": "28c94080-da44-4fc4-b591-140b8d4ca497",
   "metadata": {},
   "outputs": [
    {
     "data": {
      "text/plain": [
       "(101, 'Timeout connecting to resource.', __main__.Timeout)"
      ]
     },
     "execution_count": 4,
     "metadata": {},
     "output_type": "execute_result"
    }
   ],
   "source": [
    "AppException.Timeout.value, AppException.Timeout.message, AppException.Timeout.exception"
   ]
  },
  {
   "cell_type": "markdown",
   "id": "1f57a428-e272-47a5-bb3d-e9bfef913a72",
   "metadata": {},
   "source": [
    "Since we passed the exception type which is a callable into each enum, we can raise the exception simply by calling it:"
   ]
  },
  {
   "cell_type": "code",
   "execution_count": 14,
   "id": "4dd26220-efdd-48c8-b9ce-b806091a4a33",
   "metadata": {},
   "outputs": [
    {
     "ename": "Timeout",
     "evalue": "\n\tRaising Error code: 101.\n\tMessage: Timeout connecting to resource.",
     "output_type": "error",
     "traceback": [
      "\u001b[1;31m---------------------------------------------------------------------------\u001b[0m",
      "\u001b[1;31mTimeout\u001b[0m                                   Traceback (most recent call last)",
      "Cell \u001b[1;32mIn[14], line 1\u001b[0m\n\u001b[1;32m----> 1\u001b[0m \u001b[38;5;28;01mraise\u001b[39;00m AppException\u001b[38;5;241m.\u001b[39mTimeout\u001b[38;5;241m.\u001b[39mexception(\u001b[38;5;124mf\u001b[39m\u001b[38;5;124m'\u001b[39m\u001b[38;5;130;01m\\n\u001b[39;00m\u001b[38;5;130;01m\\t\u001b[39;00m\u001b[38;5;124mRaising Error code: \u001b[39m\u001b[38;5;132;01m{\u001b[39;00mAppException\u001b[38;5;241m.\u001b[39mTimeout\u001b[38;5;241m.\u001b[39mvalue\u001b[38;5;132;01m}\u001b[39;00m\u001b[38;5;124m.\u001b[39m\u001b[38;5;130;01m\\n\u001b[39;00m\u001b[38;5;130;01m\\t\u001b[39;00m\u001b[38;5;124mMessage: \u001b[39m\u001b[38;5;132;01m{\u001b[39;00mAppException\u001b[38;5;241m.\u001b[39mTimeout\u001b[38;5;241m.\u001b[39mmessage\u001b[38;5;132;01m}\u001b[39;00m\u001b[38;5;124m'\u001b[39m)\n",
      "\u001b[1;31mTimeout\u001b[0m: \n\tRaising Error code: 101.\n\tMessage: Timeout connecting to resource."
     ]
    }
   ],
   "source": [
    "raise AppException.Timeout.exception(f'\\n\\tRaising Error code: {AppException.Timeout.value}.\\n\\tMessage: {AppException.Timeout.message}')"
   ]
  },
  {
   "cell_type": "markdown",
   "id": "57cd4b4f-7910-476c-8a3e-6f56bc484a77",
   "metadata": {},
   "source": [
    "This is not what we want in two ways:\n",
    "1. Firstly, we want the ability to do `AppException.Timeout.code` which should give us the same thing as `AppException.Timeout.value`. We will resolve this with a `property` which will act like an alias.\n",
    "2. The formatting for when we raise an exception is verbose. We want it to autoformat but allow us to override if we want. We will resolve this with a method `.throw()` which will contain the formatting implementation and overridability.\n"
   ]
  },
  {
   "cell_type": "code",
   "execution_count": 17,
   "id": "1ac1936d-4126-4704-a1b1-8a474036cc86",
   "metadata": {},
   "outputs": [],
   "source": [
    "class AppException(Enum):\n",
    "    Generic = (100, GenericException, 'Application exception.')\n",
    "    Timeout = (101, Timeout, 'Timeout connecting to resource.')\n",
    "    NotAnInteger = (200, ValueError, 'Value must be an integer.')\n",
    "    NotAList = (201, ValueError, 'Value must be a list.')\n",
    "    \n",
    "    def __new__(cls, ex_code, ex_class, ex_message):\n",
    "        # create a new instance of cls\n",
    "        member = object.__new__(cls)\n",
    "        \n",
    "        # set up instance attributes\n",
    "        member._value_ = ex_code\n",
    "        member.exception = ex_class\n",
    "        member.message = ex_message\n",
    "        return member\n",
    "    \n",
    "    @property\n",
    "    def code(self):\n",
    "        return self.value\n",
    "    \n",
    "    def throw(self, message=None):\n",
    "        message = message or self.message\n",
    "        raise self.exception(f'\\n\\tRaising Error code: {AppException.Timeout.value}.\\n\\tMessage: {AppException.Timeout.message}')"
   ]
  },
  {
   "cell_type": "code",
   "execution_count": 18,
   "id": "69ede0b0-46b6-44ae-910f-7251f701ce20",
   "metadata": {},
   "outputs": [
    {
     "ename": "Timeout",
     "evalue": "\n\tRaising Error code: 101.\n\tMessage: Timeout connecting to resource.",
     "output_type": "error",
     "traceback": [
      "\u001b[1;31m---------------------------------------------------------------------------\u001b[0m",
      "\u001b[1;31mTimeout\u001b[0m                                   Traceback (most recent call last)",
      "Cell \u001b[1;32mIn[18], line 1\u001b[0m\n\u001b[1;32m----> 1\u001b[0m \u001b[38;5;28;01mraise\u001b[39;00m \u001b[43mAppException\u001b[49m\u001b[38;5;241;43m.\u001b[39;49m\u001b[43mTimeout\u001b[49m\u001b[38;5;241;43m.\u001b[39;49m\u001b[43mthrow\u001b[49m\u001b[43m(\u001b[49m\u001b[43m)\u001b[49m\n",
      "Cell \u001b[1;32mIn[17], line 23\u001b[0m, in \u001b[0;36mAppException.throw\u001b[1;34m(self, message)\u001b[0m\n\u001b[0;32m     21\u001b[0m \u001b[38;5;28;01mdef\u001b[39;00m \u001b[38;5;21mthrow\u001b[39m(\u001b[38;5;28mself\u001b[39m, message\u001b[38;5;241m=\u001b[39m\u001b[38;5;28;01mNone\u001b[39;00m):\n\u001b[0;32m     22\u001b[0m     message \u001b[38;5;241m=\u001b[39m message \u001b[38;5;129;01mor\u001b[39;00m \u001b[38;5;28mself\u001b[39m\u001b[38;5;241m.\u001b[39mmessage\n\u001b[1;32m---> 23\u001b[0m     \u001b[38;5;28;01mraise\u001b[39;00m \u001b[38;5;28mself\u001b[39m\u001b[38;5;241m.\u001b[39mexception(\u001b[38;5;124mf\u001b[39m\u001b[38;5;124m'\u001b[39m\u001b[38;5;130;01m\\n\u001b[39;00m\u001b[38;5;130;01m\\t\u001b[39;00m\u001b[38;5;124mRaising Error code: \u001b[39m\u001b[38;5;132;01m{\u001b[39;00mAppException\u001b[38;5;241m.\u001b[39mTimeout\u001b[38;5;241m.\u001b[39mvalue\u001b[38;5;132;01m}\u001b[39;00m\u001b[38;5;124m.\u001b[39m\u001b[38;5;130;01m\\n\u001b[39;00m\u001b[38;5;130;01m\\t\u001b[39;00m\u001b[38;5;124mMessage: \u001b[39m\u001b[38;5;132;01m{\u001b[39;00mAppException\u001b[38;5;241m.\u001b[39mTimeout\u001b[38;5;241m.\u001b[39mmessage\u001b[38;5;132;01m}\u001b[39;00m\u001b[38;5;124m'\u001b[39m)\n",
      "\u001b[1;31mTimeout\u001b[0m: \n\tRaising Error code: 101.\n\tMessage: Timeout connecting to resource."
     ]
    }
   ],
   "source": [
    "raise AppException.Timeout.throw()"
   ]
  },
  {
   "cell_type": "code",
   "execution_count": 20,
   "id": "de544671-00a4-4e8e-893d-9fc0f98f1def",
   "metadata": {},
   "outputs": [
    {
     "ename": "Timeout",
     "evalue": "\n\tRaising Error code: 101.\n\tMessage: Timeout connecting to resource.",
     "output_type": "error",
     "traceback": [
      "\u001b[1;31m---------------------------------------------------------------------------\u001b[0m",
      "\u001b[1;31mTimeout\u001b[0m                                   Traceback (most recent call last)",
      "Cell \u001b[1;32mIn[20], line 1\u001b[0m\n\u001b[1;32m----> 1\u001b[0m \u001b[38;5;28;01mraise\u001b[39;00m \u001b[43mAppException\u001b[49m\u001b[38;5;241;43m.\u001b[39;49m\u001b[43mTimeout\u001b[49m\u001b[38;5;241;43m.\u001b[39;49m\u001b[43mthrow\u001b[49m\u001b[43m(\u001b[49m\u001b[38;5;124;43m'\u001b[39;49m\u001b[38;5;124;43mTimeout connecting to the database\u001b[39;49m\u001b[38;5;124;43m'\u001b[39;49m\u001b[43m)\u001b[49m\n",
      "Cell \u001b[1;32mIn[17], line 23\u001b[0m, in \u001b[0;36mAppException.throw\u001b[1;34m(self, message)\u001b[0m\n\u001b[0;32m     21\u001b[0m \u001b[38;5;28;01mdef\u001b[39;00m \u001b[38;5;21mthrow\u001b[39m(\u001b[38;5;28mself\u001b[39m, message\u001b[38;5;241m=\u001b[39m\u001b[38;5;28;01mNone\u001b[39;00m):\n\u001b[0;32m     22\u001b[0m     message \u001b[38;5;241m=\u001b[39m message \u001b[38;5;129;01mor\u001b[39;00m \u001b[38;5;28mself\u001b[39m\u001b[38;5;241m.\u001b[39mmessage\n\u001b[1;32m---> 23\u001b[0m     \u001b[38;5;28;01mraise\u001b[39;00m \u001b[38;5;28mself\u001b[39m\u001b[38;5;241m.\u001b[39mexception(\u001b[38;5;124mf\u001b[39m\u001b[38;5;124m'\u001b[39m\u001b[38;5;130;01m\\n\u001b[39;00m\u001b[38;5;130;01m\\t\u001b[39;00m\u001b[38;5;124mRaising Error code: \u001b[39m\u001b[38;5;132;01m{\u001b[39;00mAppException\u001b[38;5;241m.\u001b[39mTimeout\u001b[38;5;241m.\u001b[39mvalue\u001b[38;5;132;01m}\u001b[39;00m\u001b[38;5;124m.\u001b[39m\u001b[38;5;130;01m\\n\u001b[39;00m\u001b[38;5;130;01m\\t\u001b[39;00m\u001b[38;5;124mMessage: \u001b[39m\u001b[38;5;132;01m{\u001b[39;00mAppException\u001b[38;5;241m.\u001b[39mTimeout\u001b[38;5;241m.\u001b[39mmessage\u001b[38;5;132;01m}\u001b[39;00m\u001b[38;5;124m'\u001b[39m)\n",
      "\u001b[1;31mTimeout\u001b[0m: \n\tRaising Error code: 101.\n\tMessage: Timeout connecting to resource."
     ]
    }
   ],
   "source": [
    "raise AppException.Timeout.throw('Timeout connecting to the database')"
   ]
  },
  {
   "cell_type": "markdown",
   "id": "f7e578a0-5d16-4600-be0b-bc43152d3044",
   "metadata": {},
   "source": [
    "If a user wants to know all the exceptions we have, we can simply list them out:"
   ]
  },
  {
   "cell_type": "code",
   "execution_count": 21,
   "id": "88d84103-66e5-4167-b052-e5fc40adecf5",
   "metadata": {},
   "outputs": [
    {
     "data": {
      "text/plain": [
       "[<AppException.Generic: 100>,\n",
       " <AppException.Timeout: 101>,\n",
       " <AppException.NotAnInteger: 200>,\n",
       " <AppException.NotAList: 201>]"
      ]
     },
     "execution_count": 21,
     "metadata": {},
     "output_type": "execute_result"
    }
   ],
   "source": [
    "list(AppException)"
   ]
  }
 ],
 "metadata": {
  "kernelspec": {
   "display_name": "Python 3 (ipykernel)",
   "language": "python",
   "name": "python3"
  },
  "language_info": {
   "codemirror_mode": {
    "name": "ipython",
    "version": 3
   },
   "file_extension": ".py",
   "mimetype": "text/x-python",
   "name": "python",
   "nbconvert_exporter": "python",
   "pygments_lexer": "ipython3",
   "version": "3.10.4"
  }
 },
 "nbformat": 4,
 "nbformat_minor": 5
}
