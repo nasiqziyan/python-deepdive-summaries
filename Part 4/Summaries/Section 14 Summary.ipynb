{
 "cells": [
  {
   "cell_type": "markdown",
   "id": "0a28e652-f168-4931-b084-0a93a41afaed",
   "metadata": {},
   "source": [
    "# 00 - Introduction"
   ]
  },
  {
   "cell_type": "markdown",
   "id": "588c67c5-0aa6-48dc-9a0d-a13d69ad69bf",
   "metadata": {},
   "source": [
    "What is metaprogramming?\n",
    "\n",
    "Wikipedia: A programming technique in which computer programs have the ability to treat other programs as their data.\n",
    "\n",
    "It means that a program can be designed to read, generate, analyse, or transform other programs, and even modify itself while running.\n",
    "\n",
    "The basic idea is we can use **code** to modify **code**.\n",
    "\n",
    "Here are some examples:\n",
    "\n",
    "- decorators: use a function to modify the behaviour of another function (typically).\n",
    "- descriptors: use code to modify the behaviour of the dot (`.`) operator.\n",
    "- metaclasses:\n",
    "    - use code to create classes (types; same thing). Can be though of class (type) factory.\n",
    "    - Superficially, metaclasses are not difficult to understand, but the details can get complicated.\n",
    "    - Knowing when to use them is not easy. Generally speaking, they're useful for libraries/frameworks, not for application code.\n",
    "    - This section will take lots of time to understand and absorb - re-reading will probably be necessary."
   ]
  },
  {
   "cell_type": "markdown",
   "id": "abfc8aaa-1d54-4e60-831a-1fd52d23fb73",
   "metadata": {},
   "source": [
    "# 01 - Decorators and Descriptors - Review"
   ]
  },
  {
   "cell_type": "markdown",
   "id": "531dc3db-8005-428a-a19c-e8a76263d91f",
   "metadata": {},
   "source": [
    "Covered extensively in other summaries - no need to repeat here."
   ]
  },
  {
   "cell_type": "markdown",
   "id": "84ece36e-a817-4c0c-a7fa-b2807610efb7",
   "metadata": {},
   "source": [
    "# 02 - The `__new__` Method"
   ]
  },
  {
   "cell_type": "markdown",
   "id": "53f85bf6-5586-4a25-88e0-9fb828fa06de",
   "metadata": {},
   "source": [
    "We've studied the `__init__` method quite a bit so far. It is basically a method that gets called right after the class instance has been created, usually invoked when we call the Class with arguments to instantiate an instance."
   ]
  },
  {
   "cell_type": "markdown",
   "id": "c85b79dc-f231-4b4d-bb24-10cf398a446f",
   "metadata": {},
   "source": [
    "The `__new__` method is the method that is invoked to actually create the new object, as an instance of the desired class."
   ]
  },
  {
   "cell_type": "markdown",
   "id": "a53f3c76-9ea0-4362-b9b6-46fd9e689b27",
   "metadata": {},
   "source": [
    "Since the `object` class provides a default implementation for `__new__` we rarely have to bother with it, but sometimes we want to intercept the instance creation to tweak things a bit."
   ]
  },
  {
   "cell_type": "markdown",
   "id": "97819235-526c-4a5a-98fb-786340a03a43",
   "metadata": {},
   "source": [
    "The `__new__` method, unlike the `__init__` method is actually a **static** method, not an **instance** method. Which kinds of make sense since the instance does not exist yet - that's what the `__new__` method is trying to create.\n",
    "\n",
    "Why it's not a **class** method is more complicated. We'll see why that's the case as we explore `__new__`."
   ]
  },
  {
   "cell_type": "markdown",
   "id": "fd7effd1-0b60-4ddc-a40d-fa3a710415e8",
   "metadata": {},
   "source": [
    "Remember how we create instances of a class - we call the class with whatever arguments we need to initialize the class state:\n",
    "\n",
    "```python\n",
    "p = Person(name, age)\n",
    "```"
   ]
  },
  {
   "cell_type": "markdown",
   "id": "3b9558de-a9d0-4dca-a352-6f7846fd0174",
   "metadata": {},
   "source": [
    "The creation of the class instance is then done in two steps:\n",
    "1. The `__new__` method is called via inheritance from `object`. It receives, as arguments, the class object we want an instance of, and any additional arguments we pass to the creation call (e.g. `name` and `age`). It should return a new instance of the class (and it may have used the arguments to initialize stuff in the class too, that's up to how you write your `__new__` method)\n",
    "3. If the object returned by `__new__` is an instance of the class specified in the call to `__new__`, then the `__init__` method is also called. The `__init__` method is an instance method and does not return anything (well, it returns None)."
   ]
  },
  {
   "cell_type": "markdown",
   "id": "99bb3ec0-9a37-48ac-9720-6f3ed913f77f",
   "metadata": {},
   "source": [
    "The manual approach to creating an instance of the class above is as follows:\n",
    "```python\n",
    "p = object.__new__(Person)\n",
    "p.__init__(name, age)\n",
    "```\n",
    "There are some small differences between these two approaches which we'll cover soon."
   ]
  },
  {
   "cell_type": "markdown",
   "id": "bc9091a0-449b-4b9b-8a33-65dc10a6c296",
   "metadata": {},
   "source": [
    "The `__new__` method has the following parameters: `object.__new__(class, *args, **kwargs)`\n",
    "- The `*args` and `**kwargs` are ignored, **but**, they must match what we intend to pass to the `__init__`of `class`\n",
    "- A new object of type `class` is returned"
   ]
  },
  {
   "cell_type": "markdown",
   "id": "7cacd44b-f2e1-479d-a912-6513b071ae1a",
   "metadata": {},
   "source": [
    "##### Overriding the `__new__` method"
   ]
  },
  {
   "cell_type": "markdown",
   "id": "b462f1dd-22d3-42be-9ff4-b85c1a8d3d9c",
   "metadata": {},
   "source": [
    "We *can* override this method in our own custom classes. \n",
    "\n",
    "This should return a new object which is an instance of `class` but it doesn't *have to*, the consequence being that `__init__` is no longer called on the instance of `class`.\n",
    "\n",
    "We don't typically override the internal implementations of `__new__`; rather, we do something before/after creating the object which we perform by delegating to `super().__new__` - similar to how we use decorators. \n",
    "\n",
    "We typically move some/all of the `__init__` logic into `__new__` after the instance has been instantiated because that's no different to running the logic in `__init__`."
   ]
  },
  {
   "cell_type": "markdown",
   "id": "ef261714-897d-4bdb-9913-104bc27c1080",
   "metadata": {},
   "source": [
    "Here's how we can do it in practice:"
   ]
  },
  {
   "cell_type": "code",
   "execution_count": 6,
   "id": "75c5c408-b0eb-4007-9c3b-b2cb1cabb34e",
   "metadata": {},
   "outputs": [],
   "source": [
    "class Person:\n",
    "    def __new__(cls, name, age):\n",
    "        # do stuff here\n",
    "        instance = super().__new__(cls)  \n",
    "        # do stuff here\n",
    "        return instance"
   ]
  },
  {
   "cell_type": "markdown",
   "id": "8bed39e8-b4c1-4ccc-add9-3dc96ab48e61",
   "metadata": {},
   "source": [
    "When we call `Person('Guido', 68)`:\n",
    "- Python calls `__new__(Person, 'Guido', 68)`\n",
    "- `__new__` returns an object\n",
    "    - if that object is of the same type as the \"requested\":\n",
    "        - `new_object.__init__('Guido', 68)` is called\n",
    "    - else:\n",
    "        - don't attempt to call the `__init__`.\n",
    "\n",
    "Note: \n",
    "- We don't need to pass the other *args/**kwargs to the `super().__new__()`, just the `Person.__new__()`. If we define an `__init__` for this `Person` class, we must have `name` and `age` as parameters.\n",
    "- Using `object.__new__` instead of `super().__new__` wil raise issues when dealing with inheritance; child classes will be instantiated and initialised but parent classes will only be initialised, **not instantiated**."
   ]
  },
  {
   "cell_type": "markdown",
   "id": "179962f6-85cf-4d82-8aa3-2d30f467fae8",
   "metadata": {},
   "source": [
    "#### Code"
   ]
  },
  {
   "cell_type": "markdown",
   "id": "736a6c44-78b9-429f-bd3a-e82372026745",
   "metadata": {},
   "source": [
    "When we want to inherit from the builtin types such as `int`, `float`, etc., we can only override the `__new__`, not the `__init__` due to the implementation details in the C language.\n",
    "\n",
    "So, if we wanted to create an integer using the `int()` constructor, but instead of just returning the integer, we return the square of it, we may try: "
   ]
  },
  {
   "cell_type": "code",
   "execution_count": 3,
   "id": "e4151e00-5228-4b62-ac65-b3df9a45097b",
   "metadata": {},
   "outputs": [
    {
     "ename": "TypeError",
     "evalue": "object.__init__() takes exactly one argument (the instance to initialize)",
     "output_type": "error",
     "traceback": [
      "\u001b[1;31m---------------------------------------------------------------------------\u001b[0m",
      "\u001b[1;31mTypeError\u001b[0m                                 Traceback (most recent call last)",
      "Cell \u001b[1;32mIn[3], line 5\u001b[0m\n\u001b[0;32m      2\u001b[0m     \u001b[38;5;28;01mdef\u001b[39;00m \u001b[38;5;21m__init__\u001b[39m(\u001b[38;5;28mself\u001b[39m, x):\n\u001b[0;32m      3\u001b[0m         \u001b[38;5;28msuper\u001b[39m()\u001b[38;5;241m.\u001b[39m\u001b[38;5;21m__init__\u001b[39m(x \u001b[38;5;241m*\u001b[39m\u001b[38;5;241m*\u001b[39m \u001b[38;5;241m2\u001b[39m)\n\u001b[1;32m----> 5\u001b[0m res \u001b[38;5;241m=\u001b[39m \u001b[43mSquared\u001b[49m\u001b[43m(\u001b[49m\u001b[38;5;241;43m4\u001b[39;49m\u001b[43m)\u001b[49m\n",
      "Cell \u001b[1;32mIn[3], line 3\u001b[0m, in \u001b[0;36mSquared.__init__\u001b[1;34m(self, x)\u001b[0m\n\u001b[0;32m      2\u001b[0m \u001b[38;5;28;01mdef\u001b[39;00m \u001b[38;5;21m__init__\u001b[39m(\u001b[38;5;28mself\u001b[39m, x):\n\u001b[1;32m----> 3\u001b[0m     \u001b[38;5;28;43msuper\u001b[39;49m\u001b[43m(\u001b[49m\u001b[43m)\u001b[49m\u001b[38;5;241;43m.\u001b[39;49m\u001b[38;5;21;43m__init__\u001b[39;49m\u001b[43m(\u001b[49m\u001b[43mx\u001b[49m\u001b[43m \u001b[49m\u001b[38;5;241;43m*\u001b[39;49m\u001b[38;5;241;43m*\u001b[39;49m\u001b[43m \u001b[49m\u001b[38;5;241;43m2\u001b[39;49m\u001b[43m)\u001b[49m\n",
      "\u001b[1;31mTypeError\u001b[0m: object.__init__() takes exactly one argument (the instance to initialize)"
     ]
    }
   ],
   "source": [
    "class Squared(int):\n",
    "    def __init__(self, x):\n",
    "        super().__init__(x ** 2)\n",
    "\n",
    "res = Squared(4)"
   ]
  },
  {
   "cell_type": "markdown",
   "id": "bab8e681-3011-43bf-8579-04d78e3e7218",
   "metadata": {},
   "source": [
    "But the correct approach is:"
   ]
  },
  {
   "cell_type": "code",
   "execution_count": 5,
   "id": "9e7c7e62-e698-4a4c-a649-8086ed4bc6ea",
   "metadata": {},
   "outputs": [
    {
     "data": {
      "text/plain": [
       "16"
      ]
     },
     "execution_count": 5,
     "metadata": {},
     "output_type": "execute_result"
    }
   ],
   "source": [
    "class Squared(int):\n",
    "    def __new__(cls, x):\n",
    "        return super().__new__(cls, x ** 2)\n",
    "\n",
    "Squared(4)"
   ]
  },
  {
   "cell_type": "markdown",
   "id": "32f85fa7-fb8f-467e-a59a-00a919d36d67",
   "metadata": {},
   "source": [
    "Here's a quick example:\n",
    "\n",
    "Let's say we want to write a bound method that calculates the area. One (unconventional) way we could do this is: "
   ]
  },
  {
   "cell_type": "code",
   "execution_count": 17,
   "id": "8afa56ab-9b5a-499b-b193-9ce3a41c9eac",
   "metadata": {},
   "outputs": [
    {
     "data": {
      "text/plain": [
       "12"
      ]
     },
     "execution_count": 17,
     "metadata": {},
     "output_type": "execute_result"
    }
   ],
   "source": [
    "class Square:\n",
    "    area = lambda self: self.w * self.l\n",
    "\n",
    "    def __init__(self, w, l):\n",
    "        self.w = w\n",
    "        self.l = l\n",
    "\n",
    "s = Square(3, 4)\n",
    "\n",
    "s.area()"
   ]
  },
  {
   "cell_type": "markdown",
   "id": "d59cb0da-58ca-4862-9283-fa718753b33e",
   "metadata": {},
   "source": [
    "`area` is an honest-to-goodness bound method of `s`, which means the first argument is the instance `self`."
   ]
  },
  {
   "cell_type": "code",
   "execution_count": 25,
   "id": "a14c82a6-c1c9-41cf-b5b9-565f33f5248a",
   "metadata": {},
   "outputs": [
    {
     "data": {
      "text/plain": [
       "<bound method Square.<lambda> of <__main__.Square object at 0x000001C0B8207640>>"
      ]
     },
     "execution_count": 25,
     "metadata": {},
     "output_type": "execute_result"
    }
   ],
   "source": [
    "s.area"
   ]
  },
  {
   "cell_type": "markdown",
   "id": "de4e4382-e385-428d-b2c8-08d9f6aa8849",
   "metadata": {},
   "source": [
    "Another way we can do this is via `__new__`:"
   ]
  },
  {
   "cell_type": "code",
   "execution_count": 27,
   "id": "6d524518-82aa-4e5f-9469-5601b52e0b60",
   "metadata": {},
   "outputs": [
    {
     "data": {
      "text/plain": [
       "12"
      ]
     },
     "execution_count": 27,
     "metadata": {},
     "output_type": "execute_result"
    }
   ],
   "source": [
    "class Square:\n",
    "    def __new__(cls, w, l):\n",
    "        cls.area = lambda self: self.w * self.l\n",
    "        instance = super().__new__(cls)\n",
    "        instance.w = w\n",
    "        instance.l = l\n",
    "        return instance\n",
    "\n",
    "s = Square(3, 4)\n",
    "\n",
    "s.area()"
   ]
  },
  {
   "cell_type": "markdown",
   "id": "05406666-56d9-4808-ac90-d2c1f6fee585",
   "metadata": {},
   "source": [
    "# 03 - How Classes are Created"
   ]
  },
  {
   "cell_type": "markdown",
   "id": "39d9d5ea-7f8f-4936-aa97-6135c557d8bf",
   "metadata": {},
   "source": [
    "# 04 - Inheriting from type"
   ]
  },
  {
   "cell_type": "markdown",
   "id": "81a58a4c-2fcf-48d9-8a86-ddae5321747b",
   "metadata": {},
   "source": [
    "# 05 - Metaclasses"
   ]
  },
  {
   "cell_type": "markdown",
   "id": "141cd334-56aa-45ac-b2b4-042e201cb2c4",
   "metadata": {},
   "source": [
    "# 06 - Class Decorators"
   ]
  },
  {
   "cell_type": "markdown",
   "id": "e88dcfb5-e925-49c4-ad18-8e566eb95206",
   "metadata": {},
   "source": [
    "# 07 - Decorator Classes"
   ]
  },
  {
   "cell_type": "markdown",
   "id": "afaa42f6-ba38-4574-9c78-7d79813f668e",
   "metadata": {},
   "source": [
    "# 08 - Metaclasses vs Class Decorators"
   ]
  },
  {
   "cell_type": "markdown",
   "id": "a70345af-0938-46c5-b04f-e0f45d09259d",
   "metadata": {},
   "source": [
    "# 09 - Metaclass Parameters"
   ]
  },
  {
   "cell_type": "markdown",
   "id": "5e3a0545-8f63-4557-80ce-24779f173b9b",
   "metadata": {},
   "source": [
    "# 10 - The __prepare__ Method"
   ]
  },
  {
   "cell_type": "markdown",
   "id": "1a193195-0a32-4a8a-ad7b-8c89ea5d8ac7",
   "metadata": {},
   "source": [
    "# 11 - Metaprogramming Application 1"
   ]
  },
  {
   "cell_type": "markdown",
   "id": "4aab5157-276f-49bb-9ecb-469bcda2e5c5",
   "metadata": {},
   "source": [
    "# 12 - Metaprogramming - Application 2"
   ]
  },
  {
   "cell_type": "markdown",
   "id": "20896f3d-7970-451e-9391-97415e631b14",
   "metadata": {},
   "source": [
    "# 13 - Metaprogramming - Application 3"
   ]
  },
  {
   "cell_type": "markdown",
   "id": "de0e5a35-7178-46a5-afb1-7801e52bd2ae",
   "metadata": {},
   "source": [
    "# 14 - Attribute Read Accessors"
   ]
  },
  {
   "cell_type": "markdown",
   "id": "6b882fb8-699f-4203-9d3e-05f60832131e",
   "metadata": {},
   "source": [
    "# 15 - Attribute Write Accessors"
   ]
  },
  {
   "cell_type": "markdown",
   "id": "8aa29ae3-4d59-49c6-b86c-2739659292e9",
   "metadata": {},
   "source": [
    "# 16 - Accessors - Application"
   ]
  }
 ],
 "metadata": {
  "kernelspec": {
   "display_name": "Python 3 (ipykernel)",
   "language": "python",
   "name": "python3"
  },
  "language_info": {
   "codemirror_mode": {
    "name": "ipython",
    "version": 3
   },
   "file_extension": ".py",
   "mimetype": "text/x-python",
   "name": "python",
   "nbconvert_exporter": "python",
   "pygments_lexer": "ipython3",
   "version": "3.10.4"
  }
 },
 "nbformat": 4,
 "nbformat_minor": 5
}
