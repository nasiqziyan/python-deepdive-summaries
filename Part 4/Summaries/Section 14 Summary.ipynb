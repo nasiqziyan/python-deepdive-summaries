{
 "cells": [
  {
   "cell_type": "markdown",
   "id": "0a28e652-f168-4931-b084-0a93a41afaed",
   "metadata": {},
   "source": [
    "# 00 - Introduction"
   ]
  },
  {
   "cell_type": "markdown",
   "id": "588c67c5-0aa6-48dc-9a0d-a13d69ad69bf",
   "metadata": {},
   "source": [
    "What is metaprogramming?\n",
    "\n",
    "Wikipedia: A programming technique in which computer programs have the ability to treat other programs as their data.\n",
    "\n",
    "It means that a program can be designed to read, generate, analyse, or transform other programs, and even modify itself while running.\n",
    "\n",
    "The basic idea is we can use **code** to modify **code**.\n",
    "\n",
    "Here are some examples:\n",
    "\n",
    "- decorators: use a function to modify the behaviour of another function (typically).\n",
    "- descriptors: use code to modify the behaviour of the dot (`.`) operator.\n",
    "- metaclasses:\n",
    "    - use code to create classes (types; same thing). Can be though of class (type) factory.\n",
    "    - Superficially, metaclasses are not difficult to understand, but the details can get complicated.\n",
    "    - Knowing when to use them is not easy. Generally speaking, they're useful for libraries/frameworks, not for application code.\n",
    "    - This section will take lots of time to understand and absorb - re-reading will probably be necessary."
   ]
  },
  {
   "cell_type": "markdown",
   "id": "abfc8aaa-1d54-4e60-831a-1fd52d23fb73",
   "metadata": {},
   "source": [
    "# 01 - Decorators and Descriptors - Review"
   ]
  },
  {
   "cell_type": "markdown",
   "id": "531dc3db-8005-428a-a19c-e8a76263d91f",
   "metadata": {},
   "source": [
    "Covered extensively in other summaries - no need to repeat here."
   ]
  },
  {
   "cell_type": "markdown",
   "id": "84ece36e-a817-4c0c-a7fa-b2807610efb7",
   "metadata": {},
   "source": [
    "# 02 - The `__new__` Method"
   ]
  },
  {
   "cell_type": "markdown",
   "id": "53f85bf6-5586-4a25-88e0-9fb828fa06de",
   "metadata": {},
   "source": [
    "We've studied the `__init__` method quite a bit so far. It is basically a method that gets called right after the class instance has been created, usually invoked when we call the Class with arguments to instantiate an instance."
   ]
  },
  {
   "cell_type": "markdown",
   "id": "c85b79dc-f231-4b4d-bb24-10cf398a446f",
   "metadata": {},
   "source": [
    "The `__new__` method is the method that is invoked to actually create the new object, as an instance of the desired class."
   ]
  },
  {
   "cell_type": "markdown",
   "id": "a53f3c76-9ea0-4362-b9b6-46fd9e689b27",
   "metadata": {},
   "source": [
    "Since the `object` class provides a default implementation for `__new__` we rarely have to bother with it, but sometimes we want to intercept the instance creation to tweak things a bit."
   ]
  },
  {
   "cell_type": "markdown",
   "id": "97819235-526c-4a5a-98fb-786340a03a43",
   "metadata": {},
   "source": [
    "The `__new__` method, unlike the `__init__` method is actually a **static** method, not an **instance** method. Which kinds of make sense since the instance does not exist yet - that's what the `__new__` method is trying to create.\n",
    "\n",
    "Why it's not a **class** method is more complicated. We'll see why that's the case as we explore `__new__`."
   ]
  },
  {
   "cell_type": "markdown",
   "id": "fd7effd1-0b60-4ddc-a40d-fa3a710415e8",
   "metadata": {},
   "source": [
    "Remember how we create instances of a class - we call the class with whatever arguments we need to initialize the class state:\n",
    "\n",
    "```python\n",
    "p = Person(name, age)\n",
    "```"
   ]
  },
  {
   "cell_type": "markdown",
   "id": "3b9558de-a9d0-4dca-a352-6f7846fd0174",
   "metadata": {},
   "source": [
    "The creation of the class instance is then done in two steps:\n",
    "1. The `__new__` method is called via inheritance from `object`. It receives, as arguments, the class object we want an instance of, and any additional arguments we pass to the creation call (e.g. `name` and `age`). It should return a new instance of the class (and it may have used the arguments to initialize stuff in the class too, that's up to how you write your `__new__` method)\n",
    "3. If the object returned by `__new__` is an instance of the class specified in the call to `__new__`, then the `__init__` method is also called. The `__init__` method is an instance method and does not return anything (well, it returns None)."
   ]
  },
  {
   "cell_type": "markdown",
   "id": "99bb3ec0-9a37-48ac-9720-6f3ed913f77f",
   "metadata": {},
   "source": [
    "The manual approach to creating an instance of the class above is as follows:\n",
    "```python\n",
    "p = object.__new__(Person)\n",
    "p.__init__(name, age)\n",
    "```\n",
    "There are some small differences between these two approaches which we'll cover soon."
   ]
  },
  {
   "cell_type": "markdown",
   "id": "bc9091a0-449b-4b9b-8a33-65dc10a6c296",
   "metadata": {},
   "source": [
    "The `__new__` method has the following parameters: `object.__new__(class, *args, **kwargs)`\n",
    "- The `*args` and `**kwargs` are ignored, **but**, they must match what we intend to pass to the `__init__`of `class`\n",
    "- A new object of type `class` is returned"
   ]
  },
  {
   "cell_type": "markdown",
   "id": "7cacd44b-f2e1-479d-a912-6513b071ae1a",
   "metadata": {},
   "source": [
    "##### Overriding the `__new__` method"
   ]
  },
  {
   "cell_type": "markdown",
   "id": "b462f1dd-22d3-42be-9ff4-b85c1a8d3d9c",
   "metadata": {},
   "source": [
    "We *can* override this method in our own custom classes. \n",
    "\n",
    "This should return a new object which is an instance of `class` but it doesn't *have to*, the consequence being that `__init__` is no longer called on the instance of `class`.\n",
    "\n",
    "We don't typically override the internal implementations of `__new__`; rather, we do something before/after creating the object which we perform by delegating to `super().__new__` - similar to how we use decorators. \n",
    "\n",
    "We typically move all of the `__init__` logic into `__new__` after the instance has been instantiated because that's no different to running the logic in `__init__`.\n",
    "\n",
    "So, **in metaprogramming, we should only implement one of the two**."
   ]
  },
  {
   "cell_type": "markdown",
   "id": "ef261714-897d-4bdb-9913-104bc27c1080",
   "metadata": {},
   "source": [
    "Here's how we can do it in practice:"
   ]
  },
  {
   "cell_type": "code",
   "execution_count": 6,
   "id": "75c5c408-b0eb-4007-9c3b-b2cb1cabb34e",
   "metadata": {},
   "outputs": [],
   "source": [
    "class Person:\n",
    "    def __new__(cls, name, age):\n",
    "        # do stuff here\n",
    "        instance = super().__new__(cls)  \n",
    "        # do stuff here\n",
    "        return instance"
   ]
  },
  {
   "cell_type": "markdown",
   "id": "8bed39e8-b4c1-4ccc-add9-3dc96ab48e61",
   "metadata": {},
   "source": [
    "When we call `Person('Guido', 68)`:\n",
    "- Python calls `__new__(Person, 'Guido', 68)`\n",
    "- `__new__` returns an object\n",
    "    - if that object is of the same type as the \"requested\":\n",
    "        - `new_object.__init__('Guido', 68)` is called\n",
    "    - else:\n",
    "        - don't attempt to call the `__init__`.\n",
    "\n",
    "Note: \n",
    "- We don't need to pass the other *args/**kwargs to the `super().__new__()`, just the `Person.__new__()`. If we define an `__init__` for this `Person` class, we must have `name` and `age` as parameters.\n",
    "- Using `object.__new__` instead of `super().__new__` wil raise issues when dealing with inheritance; child classes will be instantiated and initialised but parent classes will only be initialised, **not instantiated**."
   ]
  },
  {
   "cell_type": "markdown",
   "id": "179962f6-85cf-4d82-8aa3-2d30f467fae8",
   "metadata": {},
   "source": [
    "#### Code"
   ]
  },
  {
   "cell_type": "markdown",
   "id": "736a6c44-78b9-429f-bd3a-e82372026745",
   "metadata": {},
   "source": [
    "When we want to inherit from the builtin types such as `int`, `float`, etc., we can only override the `__new__`, not the `__init__` due to the implementation details in the C language.\n",
    "\n",
    "So, if we wanted to create an integer using the `int()` constructor, but instead of just returning the integer, we return the square of it, we may try: "
   ]
  },
  {
   "cell_type": "code",
   "execution_count": 3,
   "id": "e4151e00-5228-4b62-ac65-b3df9a45097b",
   "metadata": {},
   "outputs": [
    {
     "ename": "TypeError",
     "evalue": "object.__init__() takes exactly one argument (the instance to initialize)",
     "output_type": "error",
     "traceback": [
      "\u001b[1;31m---------------------------------------------------------------------------\u001b[0m",
      "\u001b[1;31mTypeError\u001b[0m                                 Traceback (most recent call last)",
      "Cell \u001b[1;32mIn[3], line 5\u001b[0m\n\u001b[0;32m      2\u001b[0m     \u001b[38;5;28;01mdef\u001b[39;00m \u001b[38;5;21m__init__\u001b[39m(\u001b[38;5;28mself\u001b[39m, x):\n\u001b[0;32m      3\u001b[0m         \u001b[38;5;28msuper\u001b[39m()\u001b[38;5;241m.\u001b[39m\u001b[38;5;21m__init__\u001b[39m(x \u001b[38;5;241m*\u001b[39m\u001b[38;5;241m*\u001b[39m \u001b[38;5;241m2\u001b[39m)\n\u001b[1;32m----> 5\u001b[0m res \u001b[38;5;241m=\u001b[39m \u001b[43mSquared\u001b[49m\u001b[43m(\u001b[49m\u001b[38;5;241;43m4\u001b[39;49m\u001b[43m)\u001b[49m\n",
      "Cell \u001b[1;32mIn[3], line 3\u001b[0m, in \u001b[0;36mSquared.__init__\u001b[1;34m(self, x)\u001b[0m\n\u001b[0;32m      2\u001b[0m \u001b[38;5;28;01mdef\u001b[39;00m \u001b[38;5;21m__init__\u001b[39m(\u001b[38;5;28mself\u001b[39m, x):\n\u001b[1;32m----> 3\u001b[0m     \u001b[38;5;28;43msuper\u001b[39;49m\u001b[43m(\u001b[49m\u001b[43m)\u001b[49m\u001b[38;5;241;43m.\u001b[39;49m\u001b[38;5;21;43m__init__\u001b[39;49m\u001b[43m(\u001b[49m\u001b[43mx\u001b[49m\u001b[43m \u001b[49m\u001b[38;5;241;43m*\u001b[39;49m\u001b[38;5;241;43m*\u001b[39;49m\u001b[43m \u001b[49m\u001b[38;5;241;43m2\u001b[39;49m\u001b[43m)\u001b[49m\n",
      "\u001b[1;31mTypeError\u001b[0m: object.__init__() takes exactly one argument (the instance to initialize)"
     ]
    }
   ],
   "source": [
    "class Squared(int):\n",
    "    def __init__(self, x):\n",
    "        super().__init__(x ** 2)\n",
    "\n",
    "res = Squared(4)"
   ]
  },
  {
   "cell_type": "markdown",
   "id": "bab8e681-3011-43bf-8579-04d78e3e7218",
   "metadata": {},
   "source": [
    "But the correct approach is:"
   ]
  },
  {
   "cell_type": "code",
   "execution_count": 5,
   "id": "9e7c7e62-e698-4a4c-a649-8086ed4bc6ea",
   "metadata": {},
   "outputs": [
    {
     "data": {
      "text/plain": [
       "16"
      ]
     },
     "execution_count": 5,
     "metadata": {},
     "output_type": "execute_result"
    }
   ],
   "source": [
    "class Squared(int):\n",
    "    def __new__(cls, x):\n",
    "        return super().__new__(cls, x ** 2)\n",
    "\n",
    "Squared(4)"
   ]
  },
  {
   "cell_type": "markdown",
   "id": "32f85fa7-fb8f-467e-a59a-00a919d36d67",
   "metadata": {},
   "source": [
    "Here's a quick example:\n",
    "\n",
    "Let's say we want to write a bound method that calculates the area. One (unconventional) way we could do this is: "
   ]
  },
  {
   "cell_type": "code",
   "execution_count": 17,
   "id": "8afa56ab-9b5a-499b-b193-9ce3a41c9eac",
   "metadata": {},
   "outputs": [
    {
     "data": {
      "text/plain": [
       "12"
      ]
     },
     "execution_count": 17,
     "metadata": {},
     "output_type": "execute_result"
    }
   ],
   "source": [
    "class Square:\n",
    "    area = lambda self: self.w * self.l\n",
    "\n",
    "    def __init__(self, w, l):\n",
    "        self.w = w\n",
    "        self.l = l\n",
    "\n",
    "s = Square(3, 4)\n",
    "\n",
    "s.area()"
   ]
  },
  {
   "cell_type": "markdown",
   "id": "d59cb0da-58ca-4862-9283-fa718753b33e",
   "metadata": {},
   "source": [
    "`area` is an honest-to-goodness bound method of `s`, which means the first argument is the instance `self`."
   ]
  },
  {
   "cell_type": "code",
   "execution_count": 25,
   "id": "a14c82a6-c1c9-41cf-b5b9-565f33f5248a",
   "metadata": {},
   "outputs": [
    {
     "data": {
      "text/plain": [
       "<bound method Square.<lambda> of <__main__.Square object at 0x000001C0B8207640>>"
      ]
     },
     "execution_count": 25,
     "metadata": {},
     "output_type": "execute_result"
    }
   ],
   "source": [
    "s.area"
   ]
  },
  {
   "cell_type": "markdown",
   "id": "de4e4382-e385-428d-b2c8-08d9f6aa8849",
   "metadata": {},
   "source": [
    "Another way we can do this is via `__new__`:"
   ]
  },
  {
   "cell_type": "code",
   "execution_count": 27,
   "id": "6d524518-82aa-4e5f-9469-5601b52e0b60",
   "metadata": {},
   "outputs": [
    {
     "data": {
      "text/plain": [
       "12"
      ]
     },
     "execution_count": 27,
     "metadata": {},
     "output_type": "execute_result"
    }
   ],
   "source": [
    "class Square:\n",
    "    def __new__(cls, w, l):\n",
    "        cls.area = lambda self: self.w * self.l\n",
    "        instance = super().__new__(cls)\n",
    "        instance.w = w\n",
    "        instance.l = l\n",
    "        return instance\n",
    "\n",
    "s = Square(3, 4)\n",
    "\n",
    "s.area()"
   ]
  },
  {
   "cell_type": "markdown",
   "id": "05406666-56d9-4808-ac90-d2c1f6fee585",
   "metadata": {},
   "source": [
    "# 03 - How Classes are Created"
   ]
  },
  {
   "cell_type": "markdown",
   "id": "36d7864f-6fb4-4d13-89b0-16cce22a750f",
   "metadata": {},
   "source": [
    "Classes are instances of `type`, so we often say classes *are* types, and types are callable. Like all other objects in Python, `type` inherits from `object`."
   ]
  },
  {
   "cell_type": "markdown",
   "id": "4bb26b45-4f47-4240-89f4-7696e65b58ce",
   "metadata": {},
   "source": [
    "#### Inner mechanics of class creation"
   ]
  },
  {
   "cell_type": "markdown",
   "id": "858f7b49-fb44-40a7-a017-2e51a3793a2b",
   "metadata": {},
   "source": [
    "Let's take the following code as an example:\n",
    "```python\n",
    "class Person:\n",
    "    planet = 'Earth'\n",
    "    name = property(fget=lambda self: self._name)\n",
    "\n",
    "    def __init__(self, name):\n",
    "    self._name = name\n",
    "```"
   ]
  },
  {
   "cell_type": "markdown",
   "id": "0be4eb4a-4398-41c8-9657-422ffa5ec10c",
   "metadata": {},
   "source": [
    "Here are the following steps of class creation:\n",
    "\n",
    "1. The class **body** is extracted (and treated as a blob of text for now).\n",
    "2. A new dictionary is created - this will be the namespace of the new class.\n",
    "3. The body code is executed which populates the namespace, adding symbols (keys) for `planet`, `name`, `__init__`. (If this is confusing, just imagine this body of text in the global (module) namespace. The module namespace will have these exact symbols.)\n",
    "4. Python uses the `type` class to create a new instance of `type` using the name of the class `Person`, the classes it inherits from, and the namespace made previously. -> `type(class_name, class_bases, class_dict)`.\n",
    "5. Just as calling `Person('Alex')` returns an instance of `Person`, calling `type('Person', ...)` returns an instance of `type`."
   ]
  },
  {
   "cell_type": "markdown",
   "id": "ff14d973-1fd2-4cf2-a44d-bc8bc3280bf6",
   "metadata": {},
   "source": [
    "To get an idea of how this works, we can visualise the process in code with the `exec(object, globals, locals)` function:\n",
    "\n",
    "Passing `globals()` into `globals` lets the function see our global scope whereas `locals` is the dictionary to be used to store all the symbols for the executed program."
   ]
  },
  {
   "cell_type": "code",
   "execution_count": 2,
   "id": "167b72e1-0cd7-487b-948b-c6b79979e479",
   "metadata": {},
   "outputs": [],
   "source": [
    "namespace = {}\n",
    "exec('''\n",
    "a = 20\n",
    "b = 20\n",
    "def __init__(self):\n",
    "    pass\n",
    "''', globals(), namespace)"
   ]
  },
  {
   "cell_type": "code",
   "execution_count": 3,
   "id": "3115002f-911f-444a-88e4-8670b912e903",
   "metadata": {},
   "outputs": [
    {
     "data": {
      "text/plain": [
       "{'a': 20, 'b': 20, '__init__': <function __main__.__init__(self)>}"
      ]
     },
     "execution_count": 3,
     "metadata": {},
     "output_type": "execute_result"
    }
   ],
   "source": [
    "namespace"
   ]
  },
  {
   "cell_type": "markdown",
   "id": "d2084638-fbd2-46d0-b44c-7e584946daca",
   "metadata": {},
   "source": [
    "As you can see, our namespace got populated with our symbols. This is exactly what happens with our class **body**"
   ]
  },
  {
   "cell_type": "markdown",
   "id": "e889a7ec-3dea-4b91-9a1f-52e142cc28fe",
   "metadata": {},
   "source": [
    "##### Manual Class Creation"
   ]
  },
  {
   "cell_type": "markdown",
   "id": "a46002bc-14af-467f-8f61-d850c96eeec7",
   "metadata": {},
   "source": [
    "The `type` function has two primary ways of being called:\n",
    "- with a single argument -> returning the type of that argument\n",
    "- with three arguments (name, bases, dict) -> returning a new type\n",
    "\n",
    "The second approach is what we're exploring. "
   ]
  },
  {
   "cell_type": "code",
   "execution_count": 11,
   "id": "afc572e4-a116-42ed-b2b4-cb8ca1ba4f6f",
   "metadata": {},
   "outputs": [],
   "source": [
    "class_name = 'Circle'"
   ]
  },
  {
   "cell_type": "markdown",
   "id": "ca09ed64-d8f1-429b-84b2-05ecc1282165",
   "metadata": {},
   "source": [
    "Let's deal with populating a namespace using the class body first."
   ]
  },
  {
   "cell_type": "code",
   "execution_count": 12,
   "id": "89f4f27d-f620-4a0a-9073-c737086aca3c",
   "metadata": {},
   "outputs": [],
   "source": [
    "class_body = \"\"\"\n",
    "def __init__(self, x, y, r):\n",
    "    self.x = x\n",
    "    self.y = y\n",
    "    self.r = r\n",
    "\n",
    "def area(self):\n",
    "    return math.pi * self.r ** 2\n",
    "\"\"\""
   ]
  },
  {
   "cell_type": "code",
   "execution_count": 13,
   "id": "70379de6-ef5b-466b-9086-d52fd2cda018",
   "metadata": {},
   "outputs": [],
   "source": [
    "class_bases = ()  # defaults to object"
   ]
  },
  {
   "cell_type": "code",
   "execution_count": 14,
   "id": "12d6ee50-fcc4-4787-95d0-037c26344217",
   "metadata": {},
   "outputs": [],
   "source": [
    "class_dict = {}"
   ]
  },
  {
   "cell_type": "code",
   "execution_count": 15,
   "id": "4029e25c-93d9-4c5e-9f41-c321bfea4208",
   "metadata": {},
   "outputs": [],
   "source": [
    "exec(class_body, globals(), class_dict)"
   ]
  },
  {
   "cell_type": "code",
   "execution_count": 16,
   "id": "1e6308da-7cb9-4198-8e07-9a6eca304b44",
   "metadata": {},
   "outputs": [
    {
     "data": {
      "text/plain": [
       "{'__init__': <function __main__.__init__(self, x, y, r)>,\n",
       " 'area': <function __main__.area(self)>}"
      ]
     },
     "execution_count": 16,
     "metadata": {},
     "output_type": "execute_result"
    }
   ],
   "source": [
    "class_dict"
   ]
  },
  {
   "cell_type": "markdown",
   "id": "60725521-7b45-4f95-9efb-743ad2b52344",
   "metadata": {},
   "source": [
    "Now let's construct an instance of `type` with name `'Circle'`:"
   ]
  },
  {
   "cell_type": "code",
   "execution_count": 17,
   "id": "17c87b7c-d445-4716-a297-3e247a6c3aa3",
   "metadata": {},
   "outputs": [],
   "source": [
    "Circle = type(class_name, class_bases, class_dict)"
   ]
  },
  {
   "cell_type": "code",
   "execution_count": 20,
   "id": "a22ec835-ba87-495d-9682-c0e2bfa5dc30",
   "metadata": {},
   "outputs": [
    {
     "data": {
      "text/plain": [
       "mappingproxy({'__init__': <function __main__.__init__(self, x, y, r)>,\n",
       "              'area': <function __main__.area(self)>,\n",
       "              '__module__': '__main__',\n",
       "              '__dict__': <attribute '__dict__' of 'Circle' objects>,\n",
       "              '__weakref__': <attribute '__weakref__' of 'Circle' objects>,\n",
       "              '__doc__': None})"
      ]
     },
     "execution_count": 20,
     "metadata": {},
     "output_type": "execute_result"
    }
   ],
   "source": [
    "Circle.__dict__"
   ]
  },
  {
   "cell_type": "markdown",
   "id": "7b7204a0-9da5-4842-bcd0-5a8488516296",
   "metadata": {},
   "source": [
    "As you can see the `Circle` namespace dict contains our functions `__init__` and `area`."
   ]
  },
  {
   "cell_type": "code",
   "execution_count": 19,
   "id": "1227c8f7-3e67-4aaa-b85d-1076d94161e9",
   "metadata": {},
   "outputs": [],
   "source": [
    "c = Circle(0, 0, 1)"
   ]
  },
  {
   "cell_type": "code",
   "execution_count": 20,
   "id": "b18f7499-923d-4364-82b4-f1f02ae65cb1",
   "metadata": {},
   "outputs": [
    {
     "data": {
      "text/plain": [
       "(0, 0, 1)"
      ]
     },
     "execution_count": 20,
     "metadata": {},
     "output_type": "execute_result"
    }
   ],
   "source": [
    "c.x, c.y, c.r"
   ]
  },
  {
   "cell_type": "code",
   "execution_count": 21,
   "id": "fc709806-fbc3-4c93-9bb2-47370823f0c9",
   "metadata": {},
   "outputs": [
    {
     "data": {
      "text/plain": [
       "3.141592653589793"
      ]
     },
     "execution_count": 21,
     "metadata": {},
     "output_type": "execute_result"
    }
   ],
   "source": [
    "c.area()"
   ]
  },
  {
   "cell_type": "markdown",
   "id": "479a09d9-9ed5-433f-978e-0b8661578d7d",
   "metadata": {},
   "source": [
    "So as you can see, we use the `type` class to construct new types (classes), basically creating instances of `type`.\n",
    "\n",
    "This is why we refer to `type` as a **metaclass**. It is a class used to construct classes."
   ]
  },
  {
   "cell_type": "markdown",
   "id": "39d9d5ea-7f8f-4936-aa97-6135c557d8bf",
   "metadata": {},
   "source": [
    "# 04 - Inheriting from type"
   ]
  },
  {
   "cell_type": "markdown",
   "id": "e15f13ca-5c4c-4a40-8b21-292620063386",
   "metadata": {},
   "source": [
    "Since `type` inherits from object, it has `__new__` and `__init__`. Calling `type` will call `__new__`. So..\n",
    "\n",
    "`type(name, bases, class_dict)`\n",
    "\n",
    "is similar\n",
    "\n",
    "`type.__new__(type, name, bases, class_dict)`\n",
    "\n",
    "which returns an instance of `type`. Remember of course that the `__init__` will no longer be called - but remember **in metaprogramming, we only implement one of the two**"
   ]
  },
  {
   "cell_type": "markdown",
   "id": "fa7cc285-4227-4d40-ab79-8a70ec238b30",
   "metadata": {},
   "source": [
    "Since `type` is a class, it can be used as a **base class** for a custom class: `MyClass = class MyType(type)`\n",
    "\n",
    "We can also override `__new__` where we tweak things, but **delegate** to `type` for actually creating the `type`, e.g. for creating the class `Circle`, *not the instance of `Circle`.*\n",
    "\n",
    "Note that, despite `MyClass` being used for **creating classes**, it is also, in itself, a class. It's a class used for creating classes - a metaclass - a type."
   ]
  },
  {
   "cell_type": "markdown",
   "id": "cc66f78e-00ed-4660-a9e2-633cf571fb3b",
   "metadata": {},
   "source": [
    "#### Example"
   ]
  },
  {
   "cell_type": "markdown",
   "id": "b7559e11-3cc3-49cd-82d3-003a6ae58ff4",
   "metadata": {},
   "source": [
    "Recall that the first argument of `__new__` is `cls` which will refer to the class we want to create an instance of. Since, this instance will be a class used to create other classes, I will call it `mcls`, short for metaclass.\n",
    "\n",
    "and the remaining arguments should match the arguments of the `__init__`. \n",
    "\n",
    "Previously, we had to rely on the `type(name, bases, dict)` for creating our class, but if we inherit from it, we can do stuff before/after the creation process which we **delegate** back to `type`. \n",
    "\n",
    "Since, we'll be inheriting from `type`, calling `super().__new__` will perform the delegation."
   ]
  },
  {
   "cell_type": "code",
   "execution_count": 31,
   "id": "9fbae978-1c61-40a7-b9b1-bb17389e3a6f",
   "metadata": {},
   "outputs": [],
   "source": [
    "import math\n",
    "\n",
    "class CustomType(type):\n",
    "    def __new__(mcls, name, bases, class_dict):\n",
    "        print('Customized type creation!')\n",
    "        cls_obj = super().__new__(mcls, name, bases, class_dict)  # delegate to super (type in this case)\n",
    "        cls_obj.circ = lambda self: 2 * math.pi * self.r  # basically attaching a function to the class\n",
    "        return cls_obj"
   ]
  },
  {
   "cell_type": "markdown",
   "id": "b043e7e4-37dc-4de2-9b8e-c93956967aa7",
   "metadata": {},
   "source": [
    "Previously, we created `Circle` using `type(name, bases, dict)`. Now, let's go through the same process to create our `Circle` class using `CustomType` instead of `type`."
   ]
  },
  {
   "cell_type": "code",
   "execution_count": 32,
   "id": "202bc740-7d86-42c3-a7ae-dab1cfdb91a9",
   "metadata": {},
   "outputs": [],
   "source": [
    "class_body = \"\"\"\n",
    "def __init__(self, x, y, r):\n",
    "    self.x = x\n",
    "    self.y = y\n",
    "    self.r = r\n",
    "\n",
    "def area(self):\n",
    "    return math.pi * self.r ** 2\n",
    "\"\"\""
   ]
  },
  {
   "cell_type": "markdown",
   "id": "38bd0c24-459d-4b83-879d-9577cb7f6b62",
   "metadata": {},
   "source": [
    "And we create our class dictionary by executing the above code in the context of that dictionary:"
   ]
  },
  {
   "cell_type": "code",
   "execution_count": 33,
   "id": "c82b0022-b993-44b8-b702-0b456ea794b6",
   "metadata": {},
   "outputs": [],
   "source": [
    "class_dict = {}\n",
    "exec(class_body, globals(), class_dict)"
   ]
  },
  {
   "cell_type": "markdown",
   "id": "8e4fb0ae-d08a-4b5c-9735-b7489fb731ac",
   "metadata": {},
   "source": [
    "Then we create the `Circle` class:"
   ]
  },
  {
   "cell_type": "code",
   "execution_count": 34,
   "id": "9945e9bd-10a4-4730-80fb-4cc2cc0e9061",
   "metadata": {},
   "outputs": [
    {
     "name": "stdout",
     "output_type": "stream",
     "text": [
      "Customized type creation!\n"
     ]
    }
   ],
   "source": [
    "Circle = CustomType('Circle', (), class_dict)"
   ]
  },
  {
   "cell_type": "markdown",
   "id": "974c09af-84d2-480c-bc94-a2f556489660",
   "metadata": {},
   "source": [
    "Available to our class is everything in the namespace which was populated using the `class_body` string:"
   ]
  },
  {
   "cell_type": "code",
   "execution_count": 35,
   "id": "e5e3049c-a758-4973-adf5-6d70db178618",
   "metadata": {},
   "outputs": [
    {
     "data": {
      "text/plain": [
       "3.141592653589793"
      ]
     },
     "execution_count": 35,
     "metadata": {},
     "output_type": "execute_result"
    }
   ],
   "source": [
    "c = Circle(0, 0, 1)\n",
    "c.area()"
   ]
  },
  {
   "cell_type": "markdown",
   "id": "09cf6723-27e9-4894-81a3-3ea78857b622",
   "metadata": {},
   "source": [
    "But, don't forget! We also injected a bound method called `circ()` for instances of any classes created using the metaclass `CustomType`.\n",
    "\n",
    "We actually injected this after **delegation**, but we could just have easily added it to our `class_dict` before delegation:\n",
    "\n",
    "`class_dict['circ'] = lambda self: 2 * math.pi * self.r`"
   ]
  },
  {
   "cell_type": "code",
   "execution_count": 36,
   "id": "2a060c83-b448-46c8-9e3c-013abc4f6aaa",
   "metadata": {},
   "outputs": [
    {
     "data": {
      "text/plain": [
       "6.283185307179586"
      ]
     },
     "execution_count": 36,
     "metadata": {},
     "output_type": "execute_result"
    }
   ],
   "source": [
    "c.circ()"
   ]
  },
  {
   "cell_type": "markdown",
   "id": "81a58a4c-2fcf-48d9-8a86-ddae5321747b",
   "metadata": {},
   "source": [
    "# 05 - Metaclasses"
   ]
  },
  {
   "cell_type": "markdown",
   "id": "777721cf-fc63-4672-8596-6aab52da8192",
   "metadata": {},
   "source": [
    "A **metaclass** of a class is defined as the class used to create that class.\n",
    "\n",
    "By default, Python uses the `type` metaclass for creating our classes, but this can be overrided very easily, for example: `class Person(metaclass=MyType)`.\n",
    "\n",
    "So, by default, Python does for example: `class Person(metaclass=type)`.\n",
    "\n",
    "Putting it all together:"
   ]
  },
  {
   "cell_type": "code",
   "execution_count": 41,
   "id": "efb7631c-e364-443d-b67d-f8bd93ef5319",
   "metadata": {},
   "outputs": [
    {
     "name": "stdout",
     "output_type": "stream",
     "text": [
      "Using custom metaclass MyType to create class Person\n"
     ]
    }
   ],
   "source": [
    "class MyType(type):\n",
    "    def __new__(mcls, name, bases, cls_dict):\n",
    "        print(f\"Using custom metaclass {mcls.__name__} to create class {name}\")\n",
    "        # tweak things\n",
    "        # delegate to `type` for class creation\n",
    "        new_class = super().__new__(mcls, name, bases, cls_dict)\n",
    "        # tweak some more\n",
    "        # recall that __new__ should return the instance of what it promised to create\n",
    "        return new_class\n",
    "\n",
    "class Person(metaclass=MyType):\n",
    "    def __init__(self, name):\n",
    "        self.name = name"
   ]
  },
  {
   "cell_type": "markdown",
   "id": "a43965bd-0b26-4ed6-8e54-6853efc658c9",
   "metadata": {},
   "source": [
    "This is identical to several tedious steps carried out in the previous section except Python takes care of all of this heavy lifting.\n",
    "\n",
    "Python calls `MyType` with `MyType` itself as `mcls`, `Person` as the `name`, `object` as the `bases` (by default) and the `Person` class body as the `cls_dict`."
   ]
  },
  {
   "cell_type": "markdown",
   "id": "141cd334-56aa-45ac-b2b4-042e201cb2c4",
   "metadata": {},
   "source": [
    "# 06 - Class Decorators"
   ]
  },
  {
   "cell_type": "markdown",
   "id": "0cf40737-b325-4474-8b2a-2149f1e64a84",
   "metadata": {},
   "source": [
    "While metaclasses are very powerful, they can be hard to understand when reading code. Most of the time decorators work just as well while being much easier to read.\n",
    "\n",
    "Writing class decorators is similar to writing function decorators except that the decorator needs to expect a class. Even parametrised decorators (decorator factory) are fairly intuitive: "
   ]
  },
  {
   "cell_type": "code",
   "execution_count": 49,
   "id": "ee9e71a5-7b11-4a08-9050-c31af1a6e62d",
   "metadata": {},
   "outputs": [
    {
     "data": {
      "text/plain": [
       "0.02"
      ]
     },
     "execution_count": 49,
     "metadata": {},
     "output_type": "execute_result"
    }
   ],
   "source": [
    "def apr(rate):\n",
    "    def inner(cls):\n",
    "        cls.apr = rate\n",
    "        return cls\n",
    "    return inner\n",
    "\n",
    "@apr(0.02)\n",
    "class SavingsAccount():\n",
    "    pass\n",
    "\n",
    "s = SavingsAccount()\n",
    "s.apr"
   ]
  },
  {
   "cell_type": "markdown",
   "id": "7569990a-22d3-42cd-8e00-7bef5e862827",
   "metadata": {},
   "source": [
    "This is equivalent to:"
   ]
  },
  {
   "cell_type": "code",
   "execution_count": 50,
   "id": "47d93d4b-1e97-445c-af3a-2f91fe062092",
   "metadata": {},
   "outputs": [
    {
     "data": {
      "text/plain": [
       "0.02"
      ]
     },
     "execution_count": 50,
     "metadata": {},
     "output_type": "execute_result"
    }
   ],
   "source": [
    "class SavingsAccount():\n",
    "    pass\n",
    "\n",
    "SavingsAccount = apr(0.02)(SavingsAccount)\n",
    "\n",
    "s = SavingsAccount()\n",
    "s.apr"
   ]
  },
  {
   "cell_type": "markdown",
   "id": "dfee8878-a094-4b42-8cf3-846562ae2e64",
   "metadata": {},
   "source": [
    "A metaclass can be used but we currently don't know how to pass the `rate` parameter via a metaclass approach and we'll also have inheritance issues.\n",
    "\n",
    "So for this purpose, metaclasses are overkill! "
   ]
  },
  {
   "cell_type": "markdown",
   "id": "deddf212-6f5d-4be5-aa5c-74c195865234",
   "metadata": {},
   "source": [
    "#### Example 1: Logger for all methods of a Class"
   ]
  },
  {
   "cell_type": "markdown",
   "id": "9e254d7f-cd13-471d-a73e-448d6bb7f978",
   "metadata": {},
   "source": [
    "Let's say we have a class with a number of methods. Each method takes a number of args and returns something. What if we wanted to log each call with their result?\n",
    "\n",
    "We could decorate each method with a logger but that can become repetitive. Another option is to view the `vars` of the class and decorate anything that is a callable."
   ]
  },
  {
   "cell_type": "code",
   "execution_count": 38,
   "id": "5b444d08-21e0-4996-ac17-607ff20a5d7e",
   "metadata": {},
   "outputs": [],
   "source": [
    "from functools import wraps\n",
    "\n",
    "def func_logger(fn):\n",
    "    @wraps(fn)\n",
    "    def inner(*args, **kwargs):\n",
    "        result = fn(*args, **kwargs)\n",
    "        print(f'log: {fn.__qualname__}({args}, {kwargs}) = {result}')\n",
    "        return result\n",
    "    return inner"
   ]
  },
  {
   "cell_type": "code",
   "execution_count": 39,
   "id": "c768a3e0-d6f6-483f-a9fe-cddedc69f351",
   "metadata": {},
   "outputs": [],
   "source": [
    "def class_logger(cls):\n",
    "    for method_name, obj in vars(cls).items():\n",
    "        if callable(obj):\n",
    "            print(\"decorating: \", cls, obj)\n",
    "            setattr(cls, method_name, func_logger(obj))\n",
    "    return cls"
   ]
  },
  {
   "cell_type": "markdown",
   "id": "df2ae743-ec0c-4204-9885-c1d34b719129",
   "metadata": {},
   "source": [
    "So now we could do this:"
   ]
  },
  {
   "cell_type": "code",
   "execution_count": 40,
   "id": "76df8445-4e06-42dd-a724-6eca2b258ade",
   "metadata": {},
   "outputs": [
    {
     "name": "stdout",
     "output_type": "stream",
     "text": [
      "decorating:  <class '__main__.Person'> <function Person.__init__ at 0x0000018858A6C3A0>\n",
      "decorating:  <class '__main__.Person'> <function Person.greet at 0x0000018858A6FB50>\n"
     ]
    }
   ],
   "source": [
    "@class_logger\n",
    "class Person:\n",
    "    def __init__(self, name, age):\n",
    "        self.name = name\n",
    "        self.age = age\n",
    "    \n",
    "    def greet(self):\n",
    "        return f'Hello, my name is {self.name} and I am {self.age}'"
   ]
  },
  {
   "cell_type": "code",
   "execution_count": 41,
   "id": "c5a56d39-4b13-46b6-9d06-e928f8d808a8",
   "metadata": {},
   "outputs": [
    {
     "name": "stdout",
     "output_type": "stream",
     "text": [
      "log: Person.__init__((<__main__.Person object at 0x00000188576D3790>, 'John', 78), {}) = None\n"
     ]
    }
   ],
   "source": [
    "p = Person('John', 78)"
   ]
  },
  {
   "cell_type": "code",
   "execution_count": 42,
   "id": "f61b5cbd-984d-46d0-8ddd-697eb6ed1df8",
   "metadata": {},
   "outputs": [
    {
     "name": "stdout",
     "output_type": "stream",
     "text": [
      "log: Person.greet((<__main__.Person object at 0x00000188576D3790>,), {}) = Hello, my name is John and I am 78\n"
     ]
    },
    {
     "data": {
      "text/plain": [
       "'Hello, my name is John and I am 78'"
      ]
     },
     "execution_count": 42,
     "metadata": {},
     "output_type": "execute_result"
    }
   ],
   "source": [
    "p.greet()"
   ]
  },
  {
   "cell_type": "markdown",
   "id": "3735ad6f-3ec2-4e44-9fdc-7fda012ae3f5",
   "metadata": {},
   "source": [
    "We will run into issues with static methods and class methods as they are **not** callables. (From Python 3.10, they are callables as they implement `__call__`, in addition to `__get__`.)\n",
    "\n",
    "\n",
    "They are instead **descriptors** which are classes. The consequence of this is that if we want to decorate a method with `@staticmethod` or `@classmethod` in addition to a function decorator e.g. `@func_logger`, **we must apply the `@func_logger` first and __then__ the `@staticmethod`/`@classmethod`**"
   ]
  },
  {
   "cell_type": "markdown",
   "id": "b1c9d0ce-0cc4-48b1-bca2-37a79d6bce44",
   "metadata": {},
   "source": [
    "If however, we want to decorate our class as before but have it figure out how to deal with static and class methods, we can do that too."
   ]
  },
  {
   "cell_type": "markdown",
   "id": "8d62d516-aec4-413b-a184-e27f42ca70da",
   "metadata": {},
   "source": [
    "Remember that all methods are **non-data descriptors** which means:\n",
    "- They have the `__get__` method.\n",
    "- Depending on how `__get__` is called, it either returns the function itself or the bound method. This is how python differentiates between the two.\n",
    "\n",
    "We know that `__get__` takes 3 parameters. Here's what they are for regular functions:\n",
    "- `self`: the function itself e.g. `add` because we have `add.__get__()`.\n",
    "- `instance`: either `None` or our `__main__` module; we can think of our `__main__` module as the class housing this function, so calling it directly is like calling it from the module 'class' instead of an instance.\n",
    "- `owner_class`: in this case, it will be our `__main__`module\n",
    "\n",
    "If `instance=None`, `__get__` returns the function as opposed to a bound method. Where is the pointer to that function? In the `__func__` attribute of the descriptor."
   ]
  },
  {
   "cell_type": "code",
   "execution_count": 43,
   "id": "dae55c33-277d-4a2b-9439-1f3881708870",
   "metadata": {},
   "outputs": [],
   "source": [
    "def class_logger(cls):\n",
    "    for name, obj in vars(cls).items():\n",
    "        if callable(obj):\n",
    "            print('decorating:', cls, name)\n",
    "            setattr(cls, name, func_logger(obj))\n",
    "            \n",
    "        elif isinstance(obj, staticmethod):\n",
    "            original_func = obj.__func__\n",
    "            print('decorating static method', original_func)\n",
    "            decorated_func = func_logger(original_func)\n",
    "            method = staticmethod(decorated_func)\n",
    "            print(method, type(method))\n",
    "            setattr(cls, name, method)\n",
    "            \n",
    "        elif isinstance(obj, classmethod):\n",
    "            original_func = obj.__func__\n",
    "            print('decorating class method', original_func)\n",
    "            decorated_func = func_logger(original_func)\n",
    "            method = classmethod(decorated_func)\n",
    "            setattr(cls, name, method)\n",
    "            \n",
    "    return cls"
   ]
  },
  {
   "cell_type": "code",
   "execution_count": 44,
   "id": "c7694f36-d715-4964-a91b-3effafa9eb62",
   "metadata": {},
   "outputs": [
    {
     "name": "stdout",
     "output_type": "stream",
     "text": [
      "decorating: <class '__main__.Person'> static_method\n",
      "decorating class method <function Person.class_method at 0x0000018858A6E560>\n",
      "decorating: <class '__main__.Person'> instance_method\n"
     ]
    }
   ],
   "source": [
    "@class_logger\n",
    "class Person:\n",
    "    @staticmethod\n",
    "    def static_method(a, b):\n",
    "        print('static_method called...', a, b)\n",
    "        \n",
    "    @classmethod\n",
    "    def class_method(cls, a, b):\n",
    "        print('class_method called...', cls, a, b)\n",
    "        \n",
    "    def instance_method(self, a, b):\n",
    "        print('instance_method called...', self, a, b)"
   ]
  },
  {
   "cell_type": "code",
   "execution_count": 45,
   "id": "1bcba921-f949-4c66-8fa8-99273128a3ea",
   "metadata": {},
   "outputs": [
    {
     "name": "stdout",
     "output_type": "stream",
     "text": [
      "static_method called... 10 20\n",
      "log: Person.static_method((10, 20), {}) = None\n"
     ]
    }
   ],
   "source": [
    "Person.static_method(10, 20)"
   ]
  },
  {
   "cell_type": "code",
   "execution_count": 46,
   "id": "f9d3d9d8-f71f-45ff-99b0-847f3809bab6",
   "metadata": {},
   "outputs": [
    {
     "name": "stdout",
     "output_type": "stream",
     "text": [
      "class_method called... <class '__main__.Person'> 10 20\n",
      "log: Person.class_method((<class '__main__.Person'>, 10, 20), {}) = None\n"
     ]
    }
   ],
   "source": [
    "Person.class_method(10, 20)"
   ]
  },
  {
   "cell_type": "code",
   "execution_count": 47,
   "id": "30abcf3d-547c-49cd-841b-c88ec2a40e49",
   "metadata": {},
   "outputs": [
    {
     "name": "stdout",
     "output_type": "stream",
     "text": [
      "instance_method called... <__main__.Person object at 0x00000188576D6A10> 10 20\n",
      "log: Person.instance_method((<__main__.Person object at 0x00000188576D6A10>, 10, 20), {}) = None\n"
     ]
    }
   ],
   "source": [
    "Person().instance_method(10, 20)"
   ]
  },
  {
   "cell_type": "markdown",
   "id": "ee86aa91-5675-48cf-bc91-1d635acff3f4",
   "metadata": {},
   "source": [
    "This is good, but what about **properties**?\n",
    "\n",
    "As you may remember, the property class has an `fset`, `fget` and `fdel` attribute which are handles to their respective functions. The issue is that these are all read-only attributes.\n",
    "\n",
    "But, remember that properties also have `getter()`, `setter()` and `deleter()` methods which take a function, stores it in the descriptor and then returns the descriptor itself. (Remember, this is why we can only call `@<some_prop>.setter` after applying the `@property` decorator. "
   ]
  },
  {
   "cell_type": "code",
   "execution_count": 48,
   "id": "356d6d82-71fc-4562-bbeb-8a8d3ee7d086",
   "metadata": {},
   "outputs": [],
   "source": [
    "def class_logger(cls):\n",
    "    for name, obj in vars(cls).items():\n",
    "        if callable(obj):\n",
    "            print('decorating:', cls, name)\n",
    "            setattr(cls, name, func_logger(obj))\n",
    "            \n",
    "        elif isinstance(obj, staticmethod):\n",
    "            original_func = obj.__func__\n",
    "            print('decorating static method', original_func)\n",
    "            decorated_func = func_logger(original_func)\n",
    "            method = staticmethod(decorated_func)\n",
    "            print(method, type(method))\n",
    "            setattr(cls, name, method)\n",
    "            \n",
    "        elif isinstance(obj, classmethod):\n",
    "            original_func = obj.__func__\n",
    "            print('decorating class method', original_func)\n",
    "            decorated_func = func_logger(original_func)\n",
    "            method = classmethod(decorated_func)\n",
    "            setattr(cls, name, method)\n",
    "            \n",
    "        elif isinstance(obj, property):\n",
    "            print('decorating property', obj)\n",
    "            if obj.fget:\n",
    "                obj = obj.getter(func_logger(obj.fget))\n",
    "            if obj.fset:\n",
    "                obj = obj.setter(func_logger(obj.fset))\n",
    "            if obj.fdel:\n",
    "                obj = obj.deleter(func_logger(obj.fdel))\n",
    "            setattr(cls, name, obj)\n",
    "    return cls"
   ]
  },
  {
   "cell_type": "markdown",
   "id": "c282e1ff-d8be-4b95-907a-d39faf9e2560",
   "metadata": {},
   "source": [
    "So, here we've checked to see if the property which is a descriptor has received `fget`. If it has, we want to replace the entire property with a new property with a modified `fget`. This modification involves taking the original `fget` function from our property, decorate it with `func_logger` and essentially creating a new entire property whose `fget` is equal to our decorated function.\n",
    "\n",
    "Again, recall that the `getter()` of a property descriptor takes a function, stores it in the `fget` attribute of the descriptor, and returns a descriptor new descriptor. When we call the propery e.g. `Person.age`, the `__get__` is called on the `age` descriptor which calls the function stored in `fget`. "
   ]
  },
  {
   "cell_type": "code",
   "execution_count": 49,
   "id": "b9142161-d5d9-44e0-b13d-5fa33ee9931c",
   "metadata": {},
   "outputs": [
    {
     "name": "stdout",
     "output_type": "stream",
     "text": [
      "<property object at 0x0000018858AACD10>\n",
      "original x called\n"
     ]
    }
   ],
   "source": [
    "class A:\n",
    "    @property\n",
    "    def x():\n",
    "        print('original x called')\n",
    "\n",
    "print(A.x)\n",
    "A.x.fget()"
   ]
  },
  {
   "cell_type": "code",
   "execution_count": 50,
   "id": "921402a2-ef5c-446c-b40b-f69dc0236c61",
   "metadata": {},
   "outputs": [
    {
     "name": "stdout",
     "output_type": "stream",
     "text": [
      "<property object at 0x0000018858A92A70>\n",
      "new x called\n"
     ]
    }
   ],
   "source": [
    "def new_x():\n",
    "    print('new x called')\n",
    "\n",
    "A.x = A.x.getter(new_x)\n",
    "print(A.x)\n",
    "A.x.fget()"
   ]
  },
  {
   "cell_type": "markdown",
   "id": "c4986a5a-a218-41e2-9311-d3e51df4eb94",
   "metadata": {},
   "source": [
    "Let's now demonstrate it:"
   ]
  },
  {
   "cell_type": "code",
   "execution_count": 52,
   "id": "2af49ec0-8265-43f6-8a3d-55ebadf2b39f",
   "metadata": {},
   "outputs": [
    {
     "name": "stdout",
     "output_type": "stream",
     "text": [
      "decorating: <class '__main__.Person'> __init__\n",
      "decorating property <property object at 0x0000018858AACF90>\n"
     ]
    }
   ],
   "source": [
    "@class_logger\n",
    "class Person:\n",
    "    def __init__(self, name):\n",
    "        self._name = name\n",
    "        \n",
    "    @property\n",
    "    def name(self):\n",
    "        return self._name"
   ]
  },
  {
   "cell_type": "code",
   "execution_count": 53,
   "id": "c4388e17-b92e-4fb9-9cc3-93f5fb6884cd",
   "metadata": {},
   "outputs": [
    {
     "name": "stdout",
     "output_type": "stream",
     "text": [
      "log: Person.__init__((<__main__.Person object at 0x00000188576F8F10>, 'David'), {}) = None\n"
     ]
    }
   ],
   "source": [
    "p = Person('David')"
   ]
  },
  {
   "cell_type": "code",
   "execution_count": 54,
   "id": "22e5be73-3f1d-475e-8efa-b8f7dad988bd",
   "metadata": {},
   "outputs": [
    {
     "name": "stdout",
     "output_type": "stream",
     "text": [
      "log: Person.name((<__main__.Person object at 0x00000188576F8F10>,), {}) = David\n"
     ]
    },
    {
     "data": {
      "text/plain": [
       "'David'"
      ]
     },
     "execution_count": 54,
     "metadata": {},
     "output_type": "execute_result"
    }
   ],
   "source": [
    "p.name"
   ]
  },
  {
   "cell_type": "markdown",
   "id": "09b87ec8-ffcc-4e43-83a2-b38835ad5fc9",
   "metadata": {},
   "source": [
    "Perfect!"
   ]
  },
  {
   "cell_type": "markdown",
   "id": "9240a07e-eb7b-48d2-9480-766ec1dedb9e",
   "metadata": {},
   "source": [
    "But there's a problem...\n",
    "\n",
    "We try to catch all functions in our class using the `callable` predicate function, but as we'll now show, **not all callables are functions**."
   ]
  },
  {
   "cell_type": "code",
   "execution_count": 55,
   "id": "45808777-3605-4972-8791-49a85c80aefb",
   "metadata": {},
   "outputs": [
    {
     "name": "stdout",
     "output_type": "stream",
     "text": [
      "decorating: <class '__main__.Person'> Other\n",
      "decorating: <class '__main__.Person'> other\n"
     ]
    }
   ],
   "source": [
    "@class_logger\n",
    "class Person:\n",
    "    class Other:\n",
    "        def __call__(self):\n",
    "            print('called instance of Other...')\n",
    "            \n",
    "    other = Other()"
   ]
  },
  {
   "cell_type": "markdown",
   "id": "345dd303-dc37-4433-9d14-632f5f4fdb90",
   "metadata": {},
   "source": [
    "So, as you see it decorated both the class `Other` (since classes are callables), and it decorated `other` since we made instances of `Other` callable too."
   ]
  },
  {
   "cell_type": "markdown",
   "id": "5802b265-eb7b-4134-932c-f6355c883bb9",
   "metadata": {},
   "source": [
    "So maybe we can use the `inspect` module to restrict our callables further.\n",
    "\n",
    "In the original notebook, you can find the code to build up the following table that outlines how each predicate function in the `inspect` module treats static methods, class methods, instance methods, properties (`name`), dunder methods, classes within classes and instances of those (which have implemented `__call__`).\n",
    "\n",
    "```\n",
    "                   static_method\tcls_method   \tinst_method  \tname         \t__add__      \tOther        \tother        \r\n",
    "isroutine          True         \tTrue         \tTrue         \tFalse        \tTrue         \tFalse        \tFalse        \r\n",
    "ismethod           False        \tFalse        \tFalse        \tFalse        \tFalse        \tFalse        \tFalse        \r\n",
    "isfunction         False        \tFalse        \tTrue         \tFalse        \tTrue         \tFalse        \tFalse        \r\n",
    "isbuiltin          False        \tFalse        \tFalse        \tFalse        \tFalse        \tFalse        \tFalse        \r\n",
    "ismethoddescriptor True         \tTrue         \tFalse        \tFalse        \tFalse        \tFalse        \tFalse   "
   ]
  },
  {
   "cell_type": "markdown",
   "id": "79d6eb40-b1ad-47f3-b6a9-e0884c5a4c8b",
   "metadata": {},
   "source": [
    "The TLDR is that we want to use `isroutine` so that we can also decorate dunder methods, but we will still need our current implementation for properties, static methods and class methods. With some additional refactoring, we get:"
   ]
  },
  {
   "cell_type": "code",
   "execution_count": 57,
   "id": "d28a8702-75d1-4eb0-876d-830751bec4be",
   "metadata": {},
   "outputs": [],
   "source": [
    "import inspect\n",
    "\n",
    "def class_logger(cls):\n",
    "    for name, obj in vars(cls).items():\n",
    "        if isinstance(obj, (staticmethod, classmethod)):\n",
    "            type_ = type(obj)\n",
    "            original_func = obj.__func__\n",
    "            print(f'decorating {type_.__name__} method', original_func)\n",
    "            decorated_func = func_logger(original_func)\n",
    "            method = type_(decorated_func)\n",
    "            setattr(cls, name, method)\n",
    "            \n",
    "        elif isinstance(obj, property):\n",
    "            print('decorating property', obj)\n",
    "            if obj.fget:\n",
    "                obj = obj.getter(func_logger(obj.fget))\n",
    "            if obj.fset:\n",
    "                obj = obj.setter(func_logger(obj.fset))\n",
    "            if obj.fdel:\n",
    "                obj = obj.deleter(func_logger(obj.fdel))\n",
    "            setattr(cls, name, obj)\n",
    "            \n",
    "        elif inspect.isroutine(obj):\n",
    "            print('decorating:', cls, name)\n",
    "            setattr(cls, name, func_logger(obj))\n",
    "    return cls"
   ]
  },
  {
   "cell_type": "code",
   "execution_count": 58,
   "id": "a442064e-3f18-4a6b-ba83-180ec9e4bf9a",
   "metadata": {},
   "outputs": [
    {
     "name": "stdout",
     "output_type": "stream",
     "text": [
      "decorating: <class '__main__.MyClass.Other'> __call__\n",
      "decorating staticmethod method <function MyClass.static_method at 0x0000018858B08820>\n",
      "decorating classmethod method <function MyClass.cls_method at 0x0000018858B088B0>\n",
      "decorating: <class '__main__.MyClass'> inst_method\n",
      "decorating property <property object at 0x0000018858ABEFC0>\n",
      "decorating: <class '__main__.MyClass'> __add__\n"
     ]
    }
   ],
   "source": [
    "@class_logger\n",
    "class MyClass:\n",
    "    @staticmethod\n",
    "    def static_method():\n",
    "        print('static_method called...')\n",
    "    \n",
    "    @classmethod\n",
    "    def cls_method(cls):\n",
    "        print('class method called...')\n",
    "    \n",
    "    def inst_method(self):\n",
    "        print('instance method called...')\n",
    "    \n",
    "    @property\n",
    "    def name(self):\n",
    "        print('name getter called...')\n",
    "    \n",
    "    def __add__(self, other):\n",
    "        print('__add__ called...')\n",
    "    \n",
    "    @class_logger\n",
    "    class Other:\n",
    "        def __call__(self):\n",
    "            print(f'{self}.__call__ called...')\n",
    "        \n",
    "    other = Other()"
   ]
  },
  {
   "cell_type": "markdown",
   "id": "e88dcfb5-e925-49c4-ad18-8e566eb95206",
   "metadata": {},
   "source": [
    "# 07 - Decorator Classes"
   ]
  },
  {
   "cell_type": "markdown",
   "id": "92719291-fba8-4b2e-969f-3ee58ee796a4",
   "metadata": {},
   "source": [
    "First off, don't confuse this with class decorators - here I'm talking about using a class to create decorators - that can be used to decorate functions, or classes - but instead of the decorator being a function, it is a class whose instances will act as decorators."
   ]
  },
  {
   "cell_type": "markdown",
   "id": "2a5fd6fe-a3ea-4def-83fb-0fa3766da3b6",
   "metadata": {},
   "source": [
    "We do this by making instances of the decorator class **callable**, by implementing the `__call__` method.\n",
    "\n",
    "Here's a basic example to illustrate it:"
   ]
  },
  {
   "cell_type": "code",
   "execution_count": 1,
   "id": "66165595-f201-48d7-afe2-15cb4afb06c5",
   "metadata": {},
   "outputs": [],
   "source": [
    "class Logger:\n",
    "    def __init__(self, fn):\n",
    "        self.fn = fn\n",
    "        \n",
    "    def __call__(self, *args, **kwargs):\n",
    "        print(f'Log: {self.fn.__name__} called.')\n",
    "        return self.fn(*args, **kwargs)"
   ]
  },
  {
   "cell_type": "code",
   "execution_count": 2,
   "id": "9f99b5db-4bbc-4c59-894e-bc3efbc5ebb8",
   "metadata": {},
   "outputs": [],
   "source": [
    "@Logger\n",
    "def say_hello():\n",
    "    pass"
   ]
  },
  {
   "cell_type": "code",
   "execution_count": 3,
   "id": "8fe2364b-63fc-40ac-bc42-4f201798be1a",
   "metadata": {},
   "outputs": [
    {
     "name": "stdout",
     "output_type": "stream",
     "text": [
      "Log: say_hello called.\n"
     ]
    }
   ],
   "source": [
    "say_hello()"
   ]
  },
  {
   "cell_type": "markdown",
   "id": "121dad9f-a0a4-4692-8dde-f5e1488ad43b",
   "metadata": {},
   "source": [
    "**One limitation** with this approach is that we cannot decorate bound methods. Let's try it to see why we can't."
   ]
  },
  {
   "cell_type": "code",
   "execution_count": 4,
   "id": "22ef7e98-6c80-4982-a089-49ea44312aa8",
   "metadata": {},
   "outputs": [],
   "source": [
    "class Person:\n",
    "    def __init__(self, name):\n",
    "        self.name = name\n",
    "        \n",
    "    @Logger\n",
    "    def say_hello(self):\n",
    "        return f'{self.name} says hello!'"
   ]
  },
  {
   "cell_type": "code",
   "execution_count": 5,
   "id": "a741848b-0d19-4b24-96c9-05ef35f61819",
   "metadata": {},
   "outputs": [],
   "source": [
    "p = Person('David')"
   ]
  },
  {
   "cell_type": "code",
   "execution_count": 6,
   "id": "a679d19b-3d1d-49b4-aaa0-24f5a4d96871",
   "metadata": {},
   "outputs": [
    {
     "name": "stdout",
     "output_type": "stream",
     "text": [
      "Log: say_hello called.\n"
     ]
    },
    {
     "ename": "TypeError",
     "evalue": "Person.say_hello() missing 1 required positional argument: 'self'",
     "output_type": "error",
     "traceback": [
      "\u001b[1;31m---------------------------------------------------------------------------\u001b[0m",
      "\u001b[1;31mTypeError\u001b[0m                                 Traceback (most recent call last)",
      "Cell \u001b[1;32mIn[6], line 1\u001b[0m\n\u001b[1;32m----> 1\u001b[0m \u001b[43mp\u001b[49m\u001b[38;5;241;43m.\u001b[39;49m\u001b[43msay_hello\u001b[49m\u001b[43m(\u001b[49m\u001b[43m)\u001b[49m\n",
      "Cell \u001b[1;32mIn[1], line 7\u001b[0m, in \u001b[0;36mLogger.__call__\u001b[1;34m(self, *args, **kwargs)\u001b[0m\n\u001b[0;32m      5\u001b[0m \u001b[38;5;28;01mdef\u001b[39;00m \u001b[38;5;21m__call__\u001b[39m(\u001b[38;5;28mself\u001b[39m, \u001b[38;5;241m*\u001b[39margs, \u001b[38;5;241m*\u001b[39m\u001b[38;5;241m*\u001b[39mkwargs):\n\u001b[0;32m      6\u001b[0m     \u001b[38;5;28mprint\u001b[39m(\u001b[38;5;124mf\u001b[39m\u001b[38;5;124m'\u001b[39m\u001b[38;5;124mLog: \u001b[39m\u001b[38;5;132;01m{\u001b[39;00m\u001b[38;5;28mself\u001b[39m\u001b[38;5;241m.\u001b[39mfn\u001b[38;5;241m.\u001b[39m\u001b[38;5;18m__name__\u001b[39m\u001b[38;5;132;01m}\u001b[39;00m\u001b[38;5;124m called.\u001b[39m\u001b[38;5;124m'\u001b[39m)\n\u001b[1;32m----> 7\u001b[0m     \u001b[38;5;28;01mreturn\u001b[39;00m \u001b[38;5;28mself\u001b[39m\u001b[38;5;241m.\u001b[39mfn(\u001b[38;5;241m*\u001b[39margs, \u001b[38;5;241m*\u001b[39m\u001b[38;5;241m*\u001b[39mkwargs)\n",
      "\u001b[1;31mTypeError\u001b[0m: Person.say_hello() missing 1 required positional argument: 'self'"
     ]
    }
   ],
   "source": [
    "p.say_hello()"
   ]
  },
  {
   "cell_type": "markdown",
   "id": "76448c70-ec52-481d-92db-b786dd7e3e13",
   "metadata": {},
   "source": [
    "We must first remember the difference between functions and methods.\n",
    "\n",
    "Functions implement the **(non-data) descriptor protocol**: Implement the `__get__` method. If called from an instance, return a bound method. Otherwise, return the descriptor itself."
   ]
  },
  {
   "cell_type": "code",
   "execution_count": 9,
   "id": "e75cf593-8a6b-4316-a8b5-609562f381c8",
   "metadata": {},
   "outputs": [
    {
     "name": "stdout",
     "output_type": "stream",
     "text": [
      "<function my_func at 0x000001C6C7D39F30>\n"
     ]
    },
    {
     "data": {
      "text/plain": [
       "True"
      ]
     },
     "execution_count": 9,
     "metadata": {},
     "output_type": "execute_result"
    }
   ],
   "source": [
    "def my_func():\n",
    "    pass\n",
    "    \n",
    "print(my_func)\n",
    "hasattr(my_func, '__get__')"
   ]
  },
  {
   "cell_type": "code",
   "execution_count": 11,
   "id": "6f08301b-2171-4756-bc75-95b3ee9e4ab4",
   "metadata": {},
   "outputs": [
    {
     "name": "stdout",
     "output_type": "stream",
     "text": [
      "<function A.my_func at 0x000001C6C7F6D3F0>\n",
      "<bound method A.my_func of <__main__.A object at 0x000001C6C908B940>>\n"
     ]
    },
    {
     "data": {
      "text/plain": [
       "True"
      ]
     },
     "execution_count": 11,
     "metadata": {},
     "output_type": "execute_result"
    }
   ],
   "source": [
    "class A:\n",
    "    def my_func(self):\n",
    "        pass\n",
    "\n",
    "a = A()\n",
    "\n",
    "print(A.my_func)  # returns the descriptor\n",
    "print(a.my_func)  # returns a bound method using types.MethodType\n",
    "hasattr(A.my_func, '__get__')"
   ]
  },
  {
   "cell_type": "markdown",
   "id": "d0639b5c-db4d-4681-8dbd-9a83df86fef7",
   "metadata": {},
   "source": [
    "Bound methods are created with `types.MethodType`"
   ]
  },
  {
   "cell_type": "markdown",
   "id": "979d66d0-6a49-45be-972a-43e7b2a9184e",
   "metadata": {},
   "source": [
    "Here's a trimmed snippet on `MethodType` from `help`:\n",
    "```\n",
    "class method(object)\n",
    " |  method(function, instance)\n",
    " |  \n",
    " |  Create a bound instance method object.\n",
    " |  ----------------------------------------------------------------------\n",
    " |  Data descriptors defined here:\n",
    " |  \n",
    " |  __func__\n",
    " |      the function (or other callable) implementing a method\n",
    " |  \n",
    " |  __self__\n",
    " |      the instance to which a method is bound\n",
    "```"
   ]
  },
  {
   "cell_type": "markdown",
   "id": "23f1eb9e-8513-483e-981d-27a0823fda99",
   "metadata": {},
   "source": [
    "When creating our `MethodType`, the `function` parameter is the callable that will call our decorated function; in other words, it's our descriptor instance itself: `self`.\n",
    "\n",
    "The `instance` is the object that the descriptor is bound to; in other words, it's the instance of the class containing the decorated method."
   ]
  },
  {
   "cell_type": "markdown",
   "id": "6999f162-7f89-42d0-a9f8-b267f73038dd",
   "metadata": {},
   "source": [
    "Let's create our modified `Logger`:"
   ]
  },
  {
   "cell_type": "code",
   "execution_count": 16,
   "id": "88c4cb48-9daa-498a-92f1-af82ce9a7c01",
   "metadata": {},
   "outputs": [],
   "source": [
    "from types import MethodType\n",
    "\n",
    "class Logger:\n",
    "    def __init__(self, fn):\n",
    "        self.fn = fn\n",
    "        \n",
    "    def __call__(self, *args, **kwargs):\n",
    "        print(f'Log: {self.fn.__name__} called.')\n",
    "        return self.fn(*args, **kwargs)\n",
    "    \n",
    "    def __get__(self, instance, owner_class):\n",
    "        print(f'__get__ called: self={self}, instance={instance}')\n",
    "        if instance is None:\n",
    "            return self\n",
    "        else:\n",
    "            # self is callable, since it implements __call__\n",
    "            return MethodType(self, instance)"
   ]
  },
  {
   "cell_type": "code",
   "execution_count": 17,
   "id": "ac984f50-6241-45e2-891f-70638fd2057a",
   "metadata": {},
   "outputs": [],
   "source": [
    "class Person:\n",
    "    def __init__(self, name):\n",
    "        self.name = name\n",
    "        \n",
    "    @Logger\n",
    "    def say_hello(self):\n",
    "        return f'{self.name} says hello!'"
   ]
  },
  {
   "cell_type": "code",
   "execution_count": 18,
   "id": "5d2162d0-8502-42aa-8c1f-37873f51f24c",
   "metadata": {},
   "outputs": [],
   "source": [
    "p = Person('David')"
   ]
  },
  {
   "cell_type": "code",
   "execution_count": 19,
   "id": "1c8b9367-825f-4480-86f8-931b4d3aa329",
   "metadata": {},
   "outputs": [
    {
     "name": "stdout",
     "output_type": "stream",
     "text": [
      "__get__ called: self=<__main__.Logger object at 0x000001C6C909D3C0>, instance=<__main__.Person object at 0x000001C6C905C9D0>\n"
     ]
    },
    {
     "data": {
      "text/plain": [
       "<bound method ? of <__main__.Person object at 0x000001C6C905C9D0>>"
      ]
     },
     "execution_count": 19,
     "metadata": {},
     "output_type": "execute_result"
    }
   ],
   "source": [
    "p.say_hello"
   ]
  },
  {
   "cell_type": "markdown",
   "id": "6a7fe113-3304-4fbe-bc9e-1316da828f4b",
   "metadata": {},
   "source": [
    "As you can see `say_hello` is now considered a bound method. And it bound the callable instance of Logger to the Person instance."
   ]
  },
  {
   "cell_type": "code",
   "execution_count": 20,
   "id": "70fb5282-eece-40c6-b445-54913a428494",
   "metadata": {},
   "outputs": [
    {
     "name": "stdout",
     "output_type": "stream",
     "text": [
      "__get__ called: self=<__main__.Logger object at 0x000001C6C909D3C0>, instance=<__main__.Person object at 0x000001C6C905C9D0>\n",
      "Log: say_hello called.\n"
     ]
    },
    {
     "data": {
      "text/plain": [
       "'David says hello!'"
      ]
     },
     "execution_count": 20,
     "metadata": {},
     "output_type": "execute_result"
    }
   ],
   "source": [
    "p.say_hello()"
   ]
  },
  {
   "cell_type": "markdown",
   "id": "bcee5f0e-e493-452b-b6b0-5724d4bc2059",
   "metadata": {},
   "source": [
    "The last thing we should check is that the decorator works with class and static methods too."
   ]
  },
  {
   "cell_type": "markdown",
   "id": "11c8a4d2-8642-41b4-9035-1106b19bdbcc",
   "metadata": {},
   "source": [
    "Just remember that the order of the decorators is important - we need to decorate with our logger before we decorate with the static and class decorators. that way we end up decorating the decorated function (so just a plain fuinction decorator), and then making it into a class or static method."
   ]
  },
  {
   "cell_type": "code",
   "execution_count": 23,
   "id": "a53889ed-32df-431f-86db-26d933a003d3",
   "metadata": {},
   "outputs": [],
   "source": [
    "class Person:\n",
    "    @classmethod\n",
    "    @Logger\n",
    "    def cls_method(cls):\n",
    "        print('class method called...')\n",
    "        \n",
    "    @staticmethod\n",
    "    @Logger\n",
    "    def static_method():\n",
    "        print('static method called...')\n",
    "        "
   ]
  },
  {
   "cell_type": "code",
   "execution_count": 24,
   "id": "9abfdd05-9111-4b96-9dde-75229f1d1854",
   "metadata": {},
   "outputs": [
    {
     "name": "stdout",
     "output_type": "stream",
     "text": [
      "Log: cls_method called.\n",
      "class method called...\n"
     ]
    }
   ],
   "source": [
    "Person.cls_method()"
   ]
  },
  {
   "cell_type": "code",
   "execution_count": 25,
   "id": "5dd0e141-9f1d-4663-b3ca-b24d0f2e4871",
   "metadata": {},
   "outputs": [
    {
     "name": "stdout",
     "output_type": "stream",
     "text": [
      "Log: static_method called.\n",
      "static method called...\n"
     ]
    }
   ],
   "source": [
    "Person.static_method()"
   ]
  },
  {
   "cell_type": "markdown",
   "id": "afaa42f6-ba38-4574-9c78-7d79813f668e",
   "metadata": {},
   "source": [
    "# 08 - Metaclasses vs Class Decorators"
   ]
  },
  {
   "cell_type": "markdown",
   "id": "9958ff71-5e1a-4571-a246-fb8bc5664630",
   "metadata": {},
   "source": [
    "The main advantages of class decorators over metaclasses are that you can:\n",
    "- stack decorators,\n",
    "- decorate classes in an inheritance chain with different decorators.\n",
    "\n",
    "The main advantage of metaclasses over decorators is that:\n",
    "- subclasses inherit parent metaclasses. In our example before with the class decorator `@class_logger`, any subclass of `Person`, such as `Student(Person)`, will not be logged. We would have to remember to decorate `Student` with `@class_logger`. We wouldn't have to do this if we used a metaclass instead."
   ]
  },
  {
   "cell_type": "markdown",
   "id": "a70345af-0938-46c5-b04f-e0f45d09259d",
   "metadata": {},
   "source": [
    "# 09 - Metaclass Parameters"
   ]
  },
  {
   "cell_type": "markdown",
   "id": "91e9b49e-8f35-46ea-b565-921d3475c8e4",
   "metadata": {},
   "source": [
    "So this is the simplest form of creating metaclasses:"
   ]
  },
  {
   "cell_type": "code",
   "execution_count": 8,
   "id": "f26c02c4-69f8-4caa-97e8-cba082bcdc18",
   "metadata": {},
   "outputs": [],
   "source": [
    "class MetaClass(type):\n",
    "    def __new__(mcls, name, bases, class_dict):\n",
    "        return super().__new__(mcls, name, bases, class_dict)\n",
    "\n",
    "class MyClass(metaclass=MetaClass):\n",
    "    pass"
   ]
  },
  {
   "cell_type": "markdown",
   "id": "dd52d7e6-c9c2-4cc9-842f-a8e011b1d258",
   "metadata": {},
   "source": [
    "Can we add additional arguments to our `__new__`?\n",
    "\n",
    "Yes, from Python 3.6 onwards:"
   ]
  },
  {
   "cell_type": "code",
   "execution_count": 9,
   "id": "b020ca44-baae-4550-96ea-3396f75ef632",
   "metadata": {},
   "outputs": [],
   "source": [
    "class MetaClass(type):\n",
    "    def __new__(mcls, name, bases, class_dict, arg1, arg2, arg3=None):\n",
    "        return super().__new__(mcls, name, bases, class_dict)\n",
    "\n",
    "class MyClass(metaclass=MetaClass, arg1=1, arg2=2, arg3=3):\n",
    "    pass"
   ]
  },
  {
   "cell_type": "markdown",
   "id": "895cc875-dc97-4647-bc19-49ece859d79b",
   "metadata": {},
   "source": [
    "Notice that the arguments **must** be passed as **named** arguments, except for default arguments like `arg3`. The reason why is because positional arguments are reserved for the parent objects that we inherit from."
   ]
  },
  {
   "cell_type": "markdown",
   "id": "818ad31a-87c3-4579-a8fa-f8a194565bd0",
   "metadata": {},
   "source": [
    "Why might we want to pass additional arguments?\n",
    "\n",
    "If we want to create a class with a number of class attributes that will only be determined at run time, we can pass these attributes in to the class definition. For example:"
   ]
  },
  {
   "cell_type": "code",
   "execution_count": 21,
   "id": "bbd484d3-5e64-4707-bdb5-9652c162bac8",
   "metadata": {},
   "outputs": [],
   "source": [
    "class AutoClassAttrib(type):\n",
    "    def __new__(mcls, name, bases, cls_dict, extra_attrs=None):\n",
    "        if extra_attrs:\n",
    "            print('Creating class with some extra attributes: ', extra_attrs)\n",
    "            # here I'm going to things directly into the cls_dict namespace\n",
    "            # but could also create the class first, then add using setattr\n",
    "            for attr_name, attr_value in extra_attrs:\n",
    "                cls_dict[attr_name] = attr_value\n",
    "        return super().__new__(mcls, name, bases, cls_dict)"
   ]
  },
  {
   "cell_type": "code",
   "execution_count": 22,
   "id": "48cb140e-2d2b-4e02-a5bf-005a0c416fef",
   "metadata": {},
   "outputs": [
    {
     "name": "stdout",
     "output_type": "stream",
     "text": [
      "Creating class with some extra attributes:  [('account_type', 'Savings'), ('apr', 0.5)]\n"
     ]
    }
   ],
   "source": [
    "class Account(metaclass=AutoClassAttrib, extra_attrs=[('account_type', 'Savings'), ('apr', 0.5)]):\n",
    "    pass"
   ]
  },
  {
   "cell_type": "code",
   "execution_count": 23,
   "id": "749fb836-5d52-4749-b5ef-03e4ad33e41d",
   "metadata": {},
   "outputs": [
    {
     "data": {
      "text/plain": [
       "('Savings', 0.5)"
      ]
     },
     "execution_count": 23,
     "metadata": {},
     "output_type": "execute_result"
    }
   ],
   "source": [
    "Account.account_type, Account.apr"
   ]
  },
  {
   "cell_type": "markdown",
   "id": "ae55edcd-4694-46b6-a921-efabfa1693c3",
   "metadata": {},
   "source": [
    "An ever so slightly simpler way is the following:"
   ]
  },
  {
   "cell_type": "code",
   "execution_count": 35,
   "id": "a4f219a0-8ac3-4598-998e-0a4154cf3151",
   "metadata": {},
   "outputs": [],
   "source": [
    "class AutoClassAttrib(type):\n",
    "    def __new__(mcls, name, bases, cls_dict, **extra_attrs):\n",
    "        print('Creating class with some extra attributes: ', extra_attrs)\n",
    "        cls_dict.update(extra_attrs)\n",
    "        return super().__new__(mcls, name, bases, cls_dict)    "
   ]
  },
  {
   "cell_type": "code",
   "execution_count": 36,
   "id": "bb6a801f-66b1-4938-8368-cb998fb62fbc",
   "metadata": {},
   "outputs": [
    {
     "name": "stdout",
     "output_type": "stream",
     "text": [
      "Creating class with some extra attributes:  {'account_type': 'Savings', 'apr': 0.5}\n"
     ]
    }
   ],
   "source": [
    "class Account(metaclass=AutoClassAttrib, account_type='Savings', apr=0.5):\n",
    "    pass"
   ]
  },
  {
   "cell_type": "code",
   "execution_count": 38,
   "id": "04ab9ea9-3e15-42f0-b84a-3305b8964a80",
   "metadata": {},
   "outputs": [
    {
     "data": {
      "text/plain": [
       "('Savings', 0.5)"
      ]
     },
     "execution_count": 38,
     "metadata": {},
     "output_type": "execute_result"
    }
   ],
   "source": [
    "Account.account_type, Account.apr"
   ]
  },
  {
   "cell_type": "markdown",
   "id": "5e3a0545-8f63-4557-80ce-24779f173b9b",
   "metadata": {},
   "source": [
    "# 10 - The `__prepare__` Method"
   ]
  },
  {
   "cell_type": "markdown",
   "id": "57e2dad7-c81f-4859-a5fb-c7e08649b216",
   "metadata": {},
   "source": [
    "We know that when we call `class MyClass(metaclass=MyMeta)`, the `__new__` of `MyMeta` is called with `__new__(mcls, name, bases, cls_dict)`.\n",
    "\n",
    "We know `cls_dict` will become the namespace of our created classes, but where and how is the `cls_dict` populated?"
   ]
  },
  {
   "cell_type": "code",
   "execution_count": 17,
   "id": "43146a29-b382-4a6a-b4e9-c4e0a5f13ce9",
   "metadata": {},
   "outputs": [],
   "source": [
    "class MyMeta(type):\n",
    "    def __new__(mcls, name, bases, cls_dict):\n",
    "        print(f\"Using custom metaclass {mcls.__name__} to create class {name}\")\n",
    "        print(f\"{cls_dict = }\")\n",
    "        new_class = super().__new__(mcls, name, bases, cls_dict)\n",
    "        return new_class"
   ]
  },
  {
   "cell_type": "code",
   "execution_count": 18,
   "id": "216c0865-f09b-4388-ad03-3664f52f063f",
   "metadata": {},
   "outputs": [
    {
     "name": "stdout",
     "output_type": "stream",
     "text": [
      "Using custom metaclass MyMeta to create class Person\n",
      "cls_dict = {'__module__': '__main__', '__qualname__': 'Person', '__init__': <function Person.__init__ at 0x0000026B46E42440>}\n"
     ]
    }
   ],
   "source": [
    "class Person(metaclass=MyMeta):\n",
    "    def __init__(self, name):\n",
    "        self.name = name"
   ]
  },
  {
   "cell_type": "markdown",
   "id": "687ae1bf-fb02-427b-a69e-ecf4e28355a1",
   "metadata": {},
   "source": [
    "In fact, `__prepare__`, another static method implemented by `type`, is called before `__new__`.\n",
    "\n",
    "`__prepare__` also receives any additional named args passed to our metaclass (`class MyMeta(metaclass=MyMeta, <kwargs>)`) and must return a **mapping type**, e.g. an **empty** `dict`.\n",
    "\n",
    "Python then manipulates the empty dict, injecting in what we see above e.g. `__module__`, `__qualname__`, etc. before calling `__new__` with this dictionary as `cls_dict`."
   ]
  },
  {
   "cell_type": "markdown",
   "id": "5144a013-e849-4314-9958-9cf647e018f2",
   "metadata": {},
   "source": [
    "Let's replicate what Python does, but instead of returning an empty dictionary, we'll add some items. This will also demonstrate that Python is injecting what I mentioned above, not `__prepare__`."
   ]
  },
  {
   "cell_type": "code",
   "execution_count": 22,
   "id": "62bf62c5-3210-4c57-aec5-52b89da6ddda",
   "metadata": {},
   "outputs": [],
   "source": [
    "class MyMeta(type):\n",
    "    @staticmethod\n",
    "    def __prepare__(name, bases, **kwargs):\n",
    "        print('__prepare__ called...')\n",
    "        print('\\tname:', name)\n",
    "        print('\\tkwargs:', kwargs)\n",
    "        return {'a': 100, 'b': 200}\n",
    "\n",
    "    def __new__(mcls, name, bases, cls_dict, **kwargs):\n",
    "        print('__new__ called...')\n",
    "        print('\\tcls_dict:', cls_dict)\n",
    "        print('\\tkwargs:', kwargs)\n",
    "        return super().__new__(mcls, name, bases, cls_dict)"
   ]
  },
  {
   "cell_type": "code",
   "execution_count": 23,
   "id": "447b63cd-3b53-4d29-9b3b-30170827a37b",
   "metadata": {},
   "outputs": [
    {
     "name": "stdout",
     "output_type": "stream",
     "text": [
      "__prepare__ called...\n",
      "\tname: MyClass\n",
      "\tkwargs: {}\n",
      "__new__ called...\n",
      "\tcls_dict: {'a': 100, 'b': 200, '__module__': '__main__', '__qualname__': 'MyClass'}\n",
      "\tkwargs: {}\n"
     ]
    }
   ],
   "source": [
    "class MyClass(metaclass=MyMeta):\n",
    "    pass"
   ]
  },
  {
   "cell_type": "markdown",
   "id": "f5bbf324-f4e2-43fa-a95e-7f157a079e59",
   "metadata": {},
   "source": [
    "Here's an easier way of seeing what `__prepare__` returns:"
   ]
  },
  {
   "cell_type": "code",
   "execution_count": 24,
   "id": "2bcd83fc-a7ba-491f-91e4-60850ede0edd",
   "metadata": {},
   "outputs": [
    {
     "data": {
      "text/plain": [
       "{}"
      ]
     },
     "execution_count": 24,
     "metadata": {},
     "output_type": "execute_result"
    }
   ],
   "source": [
    "type.__prepare__()"
   ]
  },
  {
   "cell_type": "markdown",
   "id": "48307456-f8c2-4ae6-8bdb-ccca117ccd8c",
   "metadata": {},
   "source": [
    "This gives us an alternative approach to populating our `cls_dict` in `__new__`. Previously we would do:"
   ]
  },
  {
   "cell_type": "code",
   "execution_count": 25,
   "id": "23533307-3c96-4377-bf32-e6c7fa5651eb",
   "metadata": {},
   "outputs": [
    {
     "data": {
      "text/plain": [
       "mappingproxy({'__module__': '__main__',\n",
       "              'arg1': 100,\n",
       "              'arg2': 200,\n",
       "              '__dict__': <attribute '__dict__' of 'MyClass' objects>,\n",
       "              '__weakref__': <attribute '__weakref__' of 'MyClass' objects>,\n",
       "              '__doc__': None})"
      ]
     },
     "execution_count": 25,
     "metadata": {},
     "output_type": "execute_result"
    }
   ],
   "source": [
    "class MyMeta(type):\n",
    "    def __new__(mcls, name, bases, cls_dict, **kwargs):\n",
    "        cls_dict.update(kwargs)\n",
    "        return super().__new__(mcls, name, bases, cls_dict)\n",
    "\n",
    "class MyClass(metaclass=MyMeta, arg1=100, arg2=200):\n",
    "    pass\n",
    "\n",
    "vars(MyClass)"
   ]
  },
  {
   "cell_type": "markdown",
   "id": "ec6a8d13-92bb-42b9-bb71-bf6c550ee956",
   "metadata": {},
   "source": [
    "But now we can do the following:"
   ]
  },
  {
   "cell_type": "code",
   "execution_count": 28,
   "id": "7800374c-3fc2-4e2d-a43a-c32db9ebb26d",
   "metadata": {},
   "outputs": [
    {
     "data": {
      "text/plain": [
       "mappingproxy({'arg1': 100,\n",
       "              'arg2': 200,\n",
       "              '__module__': '__main__',\n",
       "              '__dict__': <attribute '__dict__' of 'MyClass' objects>,\n",
       "              '__weakref__': <attribute '__weakref__' of 'MyClass' objects>,\n",
       "              '__doc__': None})"
      ]
     },
     "execution_count": 28,
     "metadata": {},
     "output_type": "execute_result"
    }
   ],
   "source": [
    "class MyMeta(type):\n",
    "    def __prepare__(name, bases, **kwargs):\n",
    "        return kwargs\n",
    "        \n",
    "    def __new__(mcls, name, bases, cls_dict, **kwargs):\n",
    "        return super().__new__(mcls, name, bases, cls_dict)\n",
    "\n",
    "class MyClass(metaclass=MyMeta, arg1=100, arg2=200):\n",
    "    pass\n",
    "\n",
    "vars(MyClass)"
   ]
  },
  {
   "cell_type": "markdown",
   "id": "7f9985c6-d667-462a-953d-c950454ca0eb",
   "metadata": {},
   "source": [
    "while ensuring `__new__` is defined because this lets us specify additional `kwargs`. By default, `__new__` does not accept additional arguments. "
   ]
  },
  {
   "cell_type": "markdown",
   "id": "7fdc2607-6699-4fe4-a5b2-5119d64fd17f",
   "metadata": {},
   "source": [
    "#### Classes, Metaclasses, and `__call__`"
   ]
  },
  {
   "cell_type": "markdown",
   "id": "0d68a1a5-387e-4f74-b5dc-18329034b731",
   "metadata": {},
   "source": [
    "Consider the following:"
   ]
  },
  {
   "cell_type": "code",
   "execution_count": 29,
   "id": "1b5878ae-50f3-4266-baba-248b2f7a8069",
   "metadata": {},
   "outputs": [],
   "source": [
    "class Person:\n",
    "    def __call__(self):\n",
    "        pass"
   ]
  },
  {
   "cell_type": "markdown",
   "id": "6cfead9a-738b-453d-baa4-079069804b72",
   "metadata": {},
   "source": [
    "We know that this makes **instances** of this class a callable, not the class itself:"
   ]
  },
  {
   "cell_type": "code",
   "execution_count": 31,
   "id": "c2d1f51a-d000-4dfa-92bd-23fac4eab9e6",
   "metadata": {},
   "outputs": [],
   "source": [
    "p = Person()  # not this\n",
    "p()  # but this"
   ]
  },
  {
   "cell_type": "markdown",
   "id": "dc513365-c776-462e-b779-66c3b4f1e9dd",
   "metadata": {},
   "source": [
    "But, since `Person` is also callable, it must implement `__call__`. Therefore, its metaclass, `type`, implements `__call__`."
   ]
  },
  {
   "cell_type": "markdown",
   "id": "e1b103f0-7784-425b-bb67-e1219f523687",
   "metadata": {},
   "source": [
    "Let's chronologically lay out the steps taken when `p = Person()` is called.\n",
    "\n",
    "1. Firstly, `type.__call__` is called.\n",
    "2. `type.__call__` then calls `Person.__new__` to initialise the class, returning an instance of `Person`.\n",
    "3. `type.__call__` then calls `__init__` on the instance to instantiate it. This is then associated to the symbol `p`."
   ]
  },
  {
   "cell_type": "markdown",
   "id": "6268a10e-eca3-479b-9de9-1fba9638a11e",
   "metadata": {},
   "source": [
    "Okay, but we can also do:\n",
    "```python\n",
    "type(name, bases, cls_dict)\n",
    "```"
   ]
  },
  {
   "cell_type": "markdown",
   "id": "e61c6d6e-9bb2-49b3-9340-50f1e5b9245d",
   "metadata": {},
   "source": [
    "Therefore `type` is *also* a callable, which means *its* metaclass must implement `__call__`. \n",
    "\n",
    "What is the metaclass of `type`? Itself.\n",
    "\n",
    "**The type of `type` is `type`.**"
   ]
  },
  {
   "cell_type": "markdown",
   "id": "e3e66589-aa23-47b2-825d-9b8b35f9ed02",
   "metadata": {},
   "source": [
    "So what are the chronological steps when `type` is called - which occurs when `Person = type(name, bases, cls_dict)` is called, for example.\n",
    "\n",
    "Pretty much the exact same steps as above.\n",
    "\n",
    "1. Firstly, `type.__call__` is called.\n",
    "2. `type.__call__` then calls `type.__new__` to initialise the class, returning an instance of `type` which is the `Person` **class**.\n",
    "3. `type.__call__` then calls `__init__` on the instance (`Person` is the instance) -> `Person.__init__(). This is then associated to the symbol `Person`."
   ]
  },
  {
   "cell_type": "markdown",
   "id": "0007fbc6-07f8-4ccb-975d-a0d93dc59b24",
   "metadata": {},
   "source": [
    "Let's compare and summarise by taking a look at the chronology of traditional **declarative** class creation.\n",
    "\n",
    "When we type `class Person(metaclass=type)`:\n",
    "\n",
    "1. `type.__prepare__` is called returning an empty dictionary.\n",
    "2. An internal python process runs to populate the dictionary with `__qualname__`, `__docs__`, etc, prepares the class body, the bases, etc., before finally calling `type.__call__`.\n",
    "3. `type.__call__` calls `type.__new__` to initialise the class, returning an instance of `type` which is the `Person` **class**.\n",
    "4. `type.__call__` then calls `__init__` on the instance (`Person` is the instance) -> `Person.__init__()`. This is then associated to the symbol `Person`."
   ]
  },
  {
   "cell_type": "markdown",
   "id": "1a193195-0a32-4a8a-ad7b-8c89ea5d8ac7",
   "metadata": {},
   "source": [
    "# 11 - Metaprogramming Application 1"
   ]
  },
  {
   "cell_type": "markdown",
   "id": "4aab5157-276f-49bb-9ecb-469bcda2e5c5",
   "metadata": {},
   "source": [
    "# 12 - Metaprogramming - Application 2"
   ]
  },
  {
   "cell_type": "markdown",
   "id": "20896f3d-7970-451e-9391-97415e631b14",
   "metadata": {},
   "source": [
    "# 13 - Metaprogramming - Application 3"
   ]
  },
  {
   "cell_type": "markdown",
   "id": "de0e5a35-7178-46a5-afb1-7801e52bd2ae",
   "metadata": {},
   "source": [
    "# 14 - Attribute Read Accessors"
   ]
  },
  {
   "cell_type": "markdown",
   "id": "6b882fb8-699f-4203-9d3e-05f60832131e",
   "metadata": {},
   "source": [
    "# 15 - Attribute Write Accessors"
   ]
  },
  {
   "cell_type": "markdown",
   "id": "8aa29ae3-4d59-49c6-b86c-2739659292e9",
   "metadata": {},
   "source": [
    "# 16 - Accessors - Application"
   ]
  }
 ],
 "metadata": {
  "kernelspec": {
   "display_name": "Python 3 (ipykernel)",
   "language": "python",
   "name": "python3"
  },
  "language_info": {
   "codemirror_mode": {
    "name": "ipython",
    "version": 3
   },
   "file_extension": ".py",
   "mimetype": "text/x-python",
   "name": "python",
   "nbconvert_exporter": "python",
   "pygments_lexer": "ipython3",
   "version": "3.10.4"
  }
 },
 "nbformat": 4,
 "nbformat_minor": 5
}
