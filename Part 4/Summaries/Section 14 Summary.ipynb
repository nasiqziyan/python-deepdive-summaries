{
 "cells": [
  {
   "cell_type": "markdown",
   "id": "0a28e652-f168-4931-b084-0a93a41afaed",
   "metadata": {},
   "source": [
    "# 00 - Introduction"
   ]
  },
  {
   "cell_type": "markdown",
   "id": "588c67c5-0aa6-48dc-9a0d-a13d69ad69bf",
   "metadata": {},
   "source": [
    "What is metaprogramming?\n",
    "\n",
    "Wikipedia: A programming technique in which computer programs have the ability to treat other programs as their data.\n",
    "\n",
    "It means that a program can be designed to read, generate, analyse, or transform other programs, and even modify itself while running.\n",
    "\n",
    "The basic idea is we can use **code** to modify **code**.\n",
    "\n",
    "Here are some examples:\n",
    "\n",
    "- decorators: use a function to modify the behaviour of another function (typically).\n",
    "- descriptors: use code to modify the behaviour of the dot (`.`) operator.\n",
    "- metaclasses:\n",
    "    - use code to create classes (types; same thing). Can be though of class (type) factory.\n",
    "    - Superficially, metaclasses are not difficult to understand, but the details can get complicated.\n",
    "    - Knowing when to use them is not easy. Generally speaking, they're useful for libraries/frameworks, not for application code.\n",
    "    - This section will take lots of time to understand and absorb - re-reading will probably be necessary."
   ]
  },
  {
   "cell_type": "markdown",
   "id": "abfc8aaa-1d54-4e60-831a-1fd52d23fb73",
   "metadata": {},
   "source": [
    "# 01 - Decorators and Descriptors - Review"
   ]
  },
  {
   "cell_type": "markdown",
   "id": "531dc3db-8005-428a-a19c-e8a76263d91f",
   "metadata": {},
   "source": [
    "Covered extensively in other summaries - no need to repeat here."
   ]
  },
  {
   "cell_type": "markdown",
   "id": "84ece36e-a817-4c0c-a7fa-b2807610efb7",
   "metadata": {},
   "source": [
    "# 02 - The `__new__` Method"
   ]
  },
  {
   "cell_type": "markdown",
   "id": "53f85bf6-5586-4a25-88e0-9fb828fa06de",
   "metadata": {},
   "source": [
    "We've studied the `__init__` method quite a bit so far. It is basically a method that gets called right after the class instance has been created, usually invoked when we call the Class with arguments to instantiate an instance."
   ]
  },
  {
   "cell_type": "markdown",
   "id": "c85b79dc-f231-4b4d-bb24-10cf398a446f",
   "metadata": {},
   "source": [
    "The `__new__` method is the method that is invoked to actually create the new object, as an instance of the desired class."
   ]
  },
  {
   "cell_type": "markdown",
   "id": "a53f3c76-9ea0-4362-b9b6-46fd9e689b27",
   "metadata": {},
   "source": [
    "Since the `object` class provides a default implementation for `__new__` we rarely have to bother with it, but sometimes we want to intercept the instance creation to tweak things a bit."
   ]
  },
  {
   "cell_type": "markdown",
   "id": "97819235-526c-4a5a-98fb-786340a03a43",
   "metadata": {},
   "source": [
    "The `__new__` method, unlike the `__init__` method is actually a **static** method, not an **instance** method. Which kinds of make sense since the instance does not exist yet - that's what the `__new__` method is trying to create.\n",
    "\n",
    "Why it's not a **class** method is more complicated. We'll see why that's the case as we explore `__new__`."
   ]
  },
  {
   "cell_type": "markdown",
   "id": "fd7effd1-0b60-4ddc-a40d-fa3a710415e8",
   "metadata": {},
   "source": [
    "Remember how we create instances of a class - we call the class with whatever arguments we need to initialize the class state:\n",
    "\n",
    "```python\n",
    "p = Person(name, age)\n",
    "```"
   ]
  },
  {
   "cell_type": "markdown",
   "id": "3b9558de-a9d0-4dca-a352-6f7846fd0174",
   "metadata": {},
   "source": [
    "The creation of the class instance is then done in two steps:\n",
    "1. The `__new__` method is called via inheritance from `object`. It receives, as arguments, the class object we want an instance of, and any additional arguments we pass to the creation call (e.g. `name` and `age`). It should return a new instance of the class (and it may have used the arguments to initialize stuff in the class too, that's up to how you write your `__new__` method)\n",
    "3. If the object returned by `__new__` is an instance of the class specified in the call to `__new__`, then the `__init__` method is also called. The `__init__` method is an instance method and does not return anything (well, it returns None)."
   ]
  },
  {
   "cell_type": "markdown",
   "id": "99bb3ec0-9a37-48ac-9720-6f3ed913f77f",
   "metadata": {},
   "source": [
    "The manual approach to creating an instance of the class above is as follows:\n",
    "```python\n",
    "p = object.__new__(Person)\n",
    "p.__init__(name, age)\n",
    "```\n",
    "There are some small differences between these two approaches which we'll cover soon."
   ]
  },
  {
   "cell_type": "markdown",
   "id": "bc9091a0-449b-4b9b-8a33-65dc10a6c296",
   "metadata": {},
   "source": [
    "The `__new__` method has the following parameters: `object.__new__(class, *args, **kwargs)`\n",
    "- The `*args` and `**kwargs` are ignored, **but**, they must match what we intend to pass to the `__init__`of `class`\n",
    "- A new object of type `class` is returned"
   ]
  },
  {
   "cell_type": "markdown",
   "id": "7cacd44b-f2e1-479d-a912-6513b071ae1a",
   "metadata": {},
   "source": [
    "##### Overriding the `__new__` method"
   ]
  },
  {
   "cell_type": "markdown",
   "id": "b462f1dd-22d3-42be-9ff4-b85c1a8d3d9c",
   "metadata": {},
   "source": [
    "We *can* override this method in our own custom classes. \n",
    "\n",
    "This should return a new object which is an instance of `class` but it doesn't *have to*, the consequence being that `__init__` is no longer called on the instance of `class`.\n",
    "\n",
    "We don't typically override the internal implementations of `__new__`; rather, we do something before/after creating the object which we perform by delegating to `super().__new__` - similar to how we use decorators. \n",
    "\n",
    "We typically move all of the `__init__` logic into `__new__` after the instance has been instantiated because that's no different to running the logic in `__init__`.\n",
    "\n",
    "So, **in metaprogramming, we should only implement one of the two**."
   ]
  },
  {
   "cell_type": "markdown",
   "id": "ef261714-897d-4bdb-9913-104bc27c1080",
   "metadata": {},
   "source": [
    "Here's how we can do it in practice:"
   ]
  },
  {
   "cell_type": "code",
   "execution_count": 6,
   "id": "75c5c408-b0eb-4007-9c3b-b2cb1cabb34e",
   "metadata": {},
   "outputs": [],
   "source": [
    "class Person:\n",
    "    def __new__(cls, name, age):\n",
    "        # do stuff here\n",
    "        instance = super().__new__(cls)  \n",
    "        # do stuff here\n",
    "        return instance"
   ]
  },
  {
   "cell_type": "markdown",
   "id": "8bed39e8-b4c1-4ccc-add9-3dc96ab48e61",
   "metadata": {},
   "source": [
    "When we call `Person('Guido', 68)`:\n",
    "- Python calls `__new__(Person, 'Guido', 68)`\n",
    "- `__new__` returns an object\n",
    "    - if that object is of the same type as the \"requested\":\n",
    "        - `new_object.__init__('Guido', 68)` is called\n",
    "    - else:\n",
    "        - don't attempt to call the `__init__`.\n",
    "\n",
    "Note: \n",
    "- We don't need to pass the other *args/**kwargs to the `super().__new__()`, just the `Person.__new__()`. If we define an `__init__` for this `Person` class, we must have `name` and `age` as parameters.\n",
    "- Using `object.__new__` instead of `super().__new__` wil raise issues when dealing with inheritance; child classes will be instantiated and initialised but parent classes will only be initialised, **not instantiated**."
   ]
  },
  {
   "cell_type": "markdown",
   "id": "179962f6-85cf-4d82-8aa3-2d30f467fae8",
   "metadata": {},
   "source": [
    "#### Code"
   ]
  },
  {
   "cell_type": "markdown",
   "id": "736a6c44-78b9-429f-bd3a-e82372026745",
   "metadata": {},
   "source": [
    "When we want to inherit from the builtin types such as `int`, `float`, etc., we can only override the `__new__`, not the `__init__` due to the implementation details in the C language.\n",
    "\n",
    "So, if we wanted to create an integer using the `int()` constructor, but instead of just returning the integer, we return the square of it, we may try: "
   ]
  },
  {
   "cell_type": "code",
   "execution_count": 3,
   "id": "e4151e00-5228-4b62-ac65-b3df9a45097b",
   "metadata": {},
   "outputs": [
    {
     "ename": "TypeError",
     "evalue": "object.__init__() takes exactly one argument (the instance to initialize)",
     "output_type": "error",
     "traceback": [
      "\u001b[1;31m---------------------------------------------------------------------------\u001b[0m",
      "\u001b[1;31mTypeError\u001b[0m                                 Traceback (most recent call last)",
      "Cell \u001b[1;32mIn[3], line 5\u001b[0m\n\u001b[0;32m      2\u001b[0m     \u001b[38;5;28;01mdef\u001b[39;00m \u001b[38;5;21m__init__\u001b[39m(\u001b[38;5;28mself\u001b[39m, x):\n\u001b[0;32m      3\u001b[0m         \u001b[38;5;28msuper\u001b[39m()\u001b[38;5;241m.\u001b[39m\u001b[38;5;21m__init__\u001b[39m(x \u001b[38;5;241m*\u001b[39m\u001b[38;5;241m*\u001b[39m \u001b[38;5;241m2\u001b[39m)\n\u001b[1;32m----> 5\u001b[0m res \u001b[38;5;241m=\u001b[39m \u001b[43mSquared\u001b[49m\u001b[43m(\u001b[49m\u001b[38;5;241;43m4\u001b[39;49m\u001b[43m)\u001b[49m\n",
      "Cell \u001b[1;32mIn[3], line 3\u001b[0m, in \u001b[0;36mSquared.__init__\u001b[1;34m(self, x)\u001b[0m\n\u001b[0;32m      2\u001b[0m \u001b[38;5;28;01mdef\u001b[39;00m \u001b[38;5;21m__init__\u001b[39m(\u001b[38;5;28mself\u001b[39m, x):\n\u001b[1;32m----> 3\u001b[0m     \u001b[38;5;28;43msuper\u001b[39;49m\u001b[43m(\u001b[49m\u001b[43m)\u001b[49m\u001b[38;5;241;43m.\u001b[39;49m\u001b[38;5;21;43m__init__\u001b[39;49m\u001b[43m(\u001b[49m\u001b[43mx\u001b[49m\u001b[43m \u001b[49m\u001b[38;5;241;43m*\u001b[39;49m\u001b[38;5;241;43m*\u001b[39;49m\u001b[43m \u001b[49m\u001b[38;5;241;43m2\u001b[39;49m\u001b[43m)\u001b[49m\n",
      "\u001b[1;31mTypeError\u001b[0m: object.__init__() takes exactly one argument (the instance to initialize)"
     ]
    }
   ],
   "source": [
    "class Squared(int):\n",
    "    def __init__(self, x):\n",
    "        super().__init__(x ** 2)\n",
    "\n",
    "res = Squared(4)"
   ]
  },
  {
   "cell_type": "markdown",
   "id": "bab8e681-3011-43bf-8579-04d78e3e7218",
   "metadata": {},
   "source": [
    "But the correct approach is:"
   ]
  },
  {
   "cell_type": "code",
   "execution_count": 5,
   "id": "9e7c7e62-e698-4a4c-a649-8086ed4bc6ea",
   "metadata": {},
   "outputs": [
    {
     "data": {
      "text/plain": [
       "16"
      ]
     },
     "execution_count": 5,
     "metadata": {},
     "output_type": "execute_result"
    }
   ],
   "source": [
    "class Squared(int):\n",
    "    def __new__(cls, x):\n",
    "        return super().__new__(cls, x ** 2)\n",
    "\n",
    "Squared(4)"
   ]
  },
  {
   "cell_type": "markdown",
   "id": "32f85fa7-fb8f-467e-a59a-00a919d36d67",
   "metadata": {},
   "source": [
    "Here's a quick example:\n",
    "\n",
    "Let's say we want to write a bound method that calculates the area. One (unconventional) way we could do this is: "
   ]
  },
  {
   "cell_type": "code",
   "execution_count": 17,
   "id": "8afa56ab-9b5a-499b-b193-9ce3a41c9eac",
   "metadata": {},
   "outputs": [
    {
     "data": {
      "text/plain": [
       "12"
      ]
     },
     "execution_count": 17,
     "metadata": {},
     "output_type": "execute_result"
    }
   ],
   "source": [
    "class Square:\n",
    "    area = lambda self: self.w * self.l\n",
    "\n",
    "    def __init__(self, w, l):\n",
    "        self.w = w\n",
    "        self.l = l\n",
    "\n",
    "s = Square(3, 4)\n",
    "\n",
    "s.area()"
   ]
  },
  {
   "cell_type": "markdown",
   "id": "d59cb0da-58ca-4862-9283-fa718753b33e",
   "metadata": {},
   "source": [
    "`area` is an honest-to-goodness bound method of `s`, which means the first argument is the instance `self`."
   ]
  },
  {
   "cell_type": "code",
   "execution_count": 25,
   "id": "a14c82a6-c1c9-41cf-b5b9-565f33f5248a",
   "metadata": {},
   "outputs": [
    {
     "data": {
      "text/plain": [
       "<bound method Square.<lambda> of <__main__.Square object at 0x000001C0B8207640>>"
      ]
     },
     "execution_count": 25,
     "metadata": {},
     "output_type": "execute_result"
    }
   ],
   "source": [
    "s.area"
   ]
  },
  {
   "cell_type": "markdown",
   "id": "de4e4382-e385-428d-b2c8-08d9f6aa8849",
   "metadata": {},
   "source": [
    "Another way we can do this is via `__new__`:"
   ]
  },
  {
   "cell_type": "code",
   "execution_count": 27,
   "id": "6d524518-82aa-4e5f-9469-5601b52e0b60",
   "metadata": {},
   "outputs": [
    {
     "data": {
      "text/plain": [
       "12"
      ]
     },
     "execution_count": 27,
     "metadata": {},
     "output_type": "execute_result"
    }
   ],
   "source": [
    "class Square:\n",
    "    def __new__(cls, w, l):\n",
    "        cls.area = lambda self: self.w * self.l\n",
    "        instance = super().__new__(cls)\n",
    "        instance.w = w\n",
    "        instance.l = l\n",
    "        return instance\n",
    "\n",
    "s = Square(3, 4)\n",
    "\n",
    "s.area()"
   ]
  },
  {
   "cell_type": "markdown",
   "id": "05406666-56d9-4808-ac90-d2c1f6fee585",
   "metadata": {},
   "source": [
    "# 03 - How Classes are Created"
   ]
  },
  {
   "cell_type": "markdown",
   "id": "36d7864f-6fb4-4d13-89b0-16cce22a750f",
   "metadata": {},
   "source": [
    "Classes are instances of `type`, so we often say classes *are* types, and types are callable. Like all other objects in Python, `type` inherits from `object`."
   ]
  },
  {
   "cell_type": "markdown",
   "id": "4bb26b45-4f47-4240-89f4-7696e65b58ce",
   "metadata": {},
   "source": [
    "#### Inner mechanics of class creation"
   ]
  },
  {
   "cell_type": "markdown",
   "id": "858f7b49-fb44-40a7-a017-2e51a3793a2b",
   "metadata": {},
   "source": [
    "Let's take the following code as an example:\n",
    "```python\n",
    "class Person:\n",
    "    planet = 'Earth'\n",
    "    name = property(fget=lambda self: self._name)\n",
    "\n",
    "    def __init__(self, name):\n",
    "    self._name = name\n",
    "```"
   ]
  },
  {
   "cell_type": "markdown",
   "id": "0be4eb4a-4398-41c8-9657-422ffa5ec10c",
   "metadata": {},
   "source": [
    "Here are the following steps of class creation:\n",
    "\n",
    "1. The class **body** is extracted (and treated as a blob of text for now).\n",
    "2. A new dictionary is created - this will be the namespace of the new class.\n",
    "3. The body code is executed which populates the namespace, adding symbols (keys) for `planet`, `name`, `__init__`. (If this is confusing, just imagine this body of text in the global (module) namespace. The module namespace will have these exact symbols.)\n",
    "4. Python uses the `type` class to create a new instance of `type` using the name of the class `Person`, the classes it inherits from, and the namespace made previously. -> `type(class_name, class_bases, class_dict)`.\n",
    "5. Just as calling `Person('Alex')` returns an instance of `Person`, calling `type('Person', ...)` returns an instance of `type`."
   ]
  },
  {
   "cell_type": "markdown",
   "id": "ff14d973-1fd2-4cf2-a44d-bc8bc3280bf6",
   "metadata": {},
   "source": [
    "To get an idea of how this works, we can visualise the process in code with the `exec(object, globals, locals)` function:\n",
    "\n",
    "Passing `globals()` into `globals` lets the function see our global scope whereas `locals` is the dictionary to be used to store all the symbols for the executed program."
   ]
  },
  {
   "cell_type": "code",
   "execution_count": 2,
   "id": "167b72e1-0cd7-487b-948b-c6b79979e479",
   "metadata": {},
   "outputs": [],
   "source": [
    "namespace = {}\n",
    "exec('''\n",
    "a = 20\n",
    "b = 20\n",
    "def __init__(self):\n",
    "    pass\n",
    "''', globals(), namespace)"
   ]
  },
  {
   "cell_type": "code",
   "execution_count": 3,
   "id": "3115002f-911f-444a-88e4-8670b912e903",
   "metadata": {},
   "outputs": [
    {
     "data": {
      "text/plain": [
       "{'a': 20, 'b': 20, '__init__': <function __main__.__init__(self)>}"
      ]
     },
     "execution_count": 3,
     "metadata": {},
     "output_type": "execute_result"
    }
   ],
   "source": [
    "namespace"
   ]
  },
  {
   "cell_type": "markdown",
   "id": "d2084638-fbd2-46d0-b44c-7e584946daca",
   "metadata": {},
   "source": [
    "As you can see, our namespace got populated with our symbols. This is exactly what happens with our class **body**"
   ]
  },
  {
   "cell_type": "markdown",
   "id": "e889a7ec-3dea-4b91-9a1f-52e142cc28fe",
   "metadata": {},
   "source": [
    "##### Manual Class Creation"
   ]
  },
  {
   "cell_type": "markdown",
   "id": "a46002bc-14af-467f-8f61-d850c96eeec7",
   "metadata": {},
   "source": [
    "The `type` function has two primary ways of being called:\n",
    "- with a single argument -> returning the type of that argument\n",
    "- with three arguments (name, bases, dict) -> returning a new type\n",
    "\n",
    "The second approach is what we're exploring. "
   ]
  },
  {
   "cell_type": "code",
   "execution_count": 11,
   "id": "afc572e4-a116-42ed-b2b4-cb8ca1ba4f6f",
   "metadata": {},
   "outputs": [],
   "source": [
    "class_name = 'Circle'"
   ]
  },
  {
   "cell_type": "markdown",
   "id": "ca09ed64-d8f1-429b-84b2-05ecc1282165",
   "metadata": {},
   "source": [
    "Let's deal with populating a namespace using the class body first."
   ]
  },
  {
   "cell_type": "code",
   "execution_count": 12,
   "id": "89f4f27d-f620-4a0a-9073-c737086aca3c",
   "metadata": {},
   "outputs": [],
   "source": [
    "class_body = \"\"\"\n",
    "def __init__(self, x, y, r):\n",
    "    self.x = x\n",
    "    self.y = y\n",
    "    self.r = r\n",
    "\n",
    "def area(self):\n",
    "    return math.pi * self.r ** 2\n",
    "\"\"\""
   ]
  },
  {
   "cell_type": "code",
   "execution_count": 13,
   "id": "70379de6-ef5b-466b-9086-d52fd2cda018",
   "metadata": {},
   "outputs": [],
   "source": [
    "class_bases = ()  # defaults to object"
   ]
  },
  {
   "cell_type": "code",
   "execution_count": 14,
   "id": "12d6ee50-fcc4-4787-95d0-037c26344217",
   "metadata": {},
   "outputs": [],
   "source": [
    "class_dict = {}"
   ]
  },
  {
   "cell_type": "code",
   "execution_count": 15,
   "id": "4029e25c-93d9-4c5e-9f41-c321bfea4208",
   "metadata": {},
   "outputs": [],
   "source": [
    "exec(class_body, globals(), class_dict)"
   ]
  },
  {
   "cell_type": "code",
   "execution_count": 16,
   "id": "1e6308da-7cb9-4198-8e07-9a6eca304b44",
   "metadata": {},
   "outputs": [
    {
     "data": {
      "text/plain": [
       "{'__init__': <function __main__.__init__(self, x, y, r)>,\n",
       " 'area': <function __main__.area(self)>}"
      ]
     },
     "execution_count": 16,
     "metadata": {},
     "output_type": "execute_result"
    }
   ],
   "source": [
    "class_dict"
   ]
  },
  {
   "cell_type": "markdown",
   "id": "60725521-7b45-4f95-9efb-743ad2b52344",
   "metadata": {},
   "source": [
    "Now let's construct an instance of `type` with name `'Circle'`:"
   ]
  },
  {
   "cell_type": "code",
   "execution_count": 17,
   "id": "17c87b7c-d445-4716-a297-3e247a6c3aa3",
   "metadata": {},
   "outputs": [],
   "source": [
    "Circle = type(class_name, class_bases, class_dict)"
   ]
  },
  {
   "cell_type": "code",
   "execution_count": 20,
   "id": "a22ec835-ba87-495d-9682-c0e2bfa5dc30",
   "metadata": {},
   "outputs": [
    {
     "data": {
      "text/plain": [
       "mappingproxy({'__init__': <function __main__.__init__(self, x, y, r)>,\n",
       "              'area': <function __main__.area(self)>,\n",
       "              '__module__': '__main__',\n",
       "              '__dict__': <attribute '__dict__' of 'Circle' objects>,\n",
       "              '__weakref__': <attribute '__weakref__' of 'Circle' objects>,\n",
       "              '__doc__': None})"
      ]
     },
     "execution_count": 20,
     "metadata": {},
     "output_type": "execute_result"
    }
   ],
   "source": [
    "Circle.__dict__"
   ]
  },
  {
   "cell_type": "markdown",
   "id": "7b7204a0-9da5-4842-bcd0-5a8488516296",
   "metadata": {},
   "source": [
    "As you can see the `Circle` namespace dict contains our functions `__init__` and `area`."
   ]
  },
  {
   "cell_type": "code",
   "execution_count": 19,
   "id": "1227c8f7-3e67-4aaa-b85d-1076d94161e9",
   "metadata": {},
   "outputs": [],
   "source": [
    "c = Circle(0, 0, 1)"
   ]
  },
  {
   "cell_type": "code",
   "execution_count": 20,
   "id": "b18f7499-923d-4364-82b4-f1f02ae65cb1",
   "metadata": {},
   "outputs": [
    {
     "data": {
      "text/plain": [
       "(0, 0, 1)"
      ]
     },
     "execution_count": 20,
     "metadata": {},
     "output_type": "execute_result"
    }
   ],
   "source": [
    "c.x, c.y, c.r"
   ]
  },
  {
   "cell_type": "code",
   "execution_count": 21,
   "id": "fc709806-fbc3-4c93-9bb2-47370823f0c9",
   "metadata": {},
   "outputs": [
    {
     "data": {
      "text/plain": [
       "3.141592653589793"
      ]
     },
     "execution_count": 21,
     "metadata": {},
     "output_type": "execute_result"
    }
   ],
   "source": [
    "c.area()"
   ]
  },
  {
   "cell_type": "markdown",
   "id": "479a09d9-9ed5-433f-978e-0b8661578d7d",
   "metadata": {},
   "source": [
    "So as you can see, we use the `type` class to construct new types (classes), basically creating instances of `type`.\n",
    "\n",
    "This is why we refer to `type` as a **metaclass**. It is a class used to construct classes."
   ]
  },
  {
   "cell_type": "markdown",
   "id": "39d9d5ea-7f8f-4936-aa97-6135c557d8bf",
   "metadata": {},
   "source": [
    "# 04 - Inheriting from type"
   ]
  },
  {
   "cell_type": "markdown",
   "id": "e15f13ca-5c4c-4a40-8b21-292620063386",
   "metadata": {},
   "source": [
    "Since `type` inherits from object, it has `__new__` and `__init__`. Calling `type` will call `__new__`. So..\n",
    "\n",
    "`type(name, bases, class_dict)`\n",
    "\n",
    "is similar\n",
    "\n",
    "`type.__new__(type, name, bases, class_dict)`\n",
    "\n",
    "which returns an instance of `type`. Remember of course that the `__init__` will no longer be called - but remember **in metaprogramming, we only implement one of the two**"
   ]
  },
  {
   "cell_type": "markdown",
   "id": "fa7cc285-4227-4d40-ab79-8a70ec238b30",
   "metadata": {},
   "source": [
    "Since `type` is a class, it can be used as a **base class** for a custom class: `MyClass = class MyType(type)`\n",
    "\n",
    "We can also override `__new__` where we tweak things, but **delegate** to `type` for actually creating the `type`, e.g. for creating the class `Circle`, *not the instance of `Circle`.*\n",
    "\n",
    "Note that, despite `MyClass` being used for **creating classes**, it is also, in itself, a class. It's a class used for creating classes - a metaclass - a type."
   ]
  },
  {
   "cell_type": "markdown",
   "id": "cc66f78e-00ed-4660-a9e2-633cf571fb3b",
   "metadata": {},
   "source": [
    "#### Example"
   ]
  },
  {
   "cell_type": "markdown",
   "id": "b7559e11-3cc3-49cd-82d3-003a6ae58ff4",
   "metadata": {},
   "source": [
    "Recall that the first argument of `__new__` is `cls` which will refer to the class we want to create an instance of. Since, this instance will be a class used to create other classes, I will call it `mcls`, short for metaclass.\n",
    "\n",
    "and the remaining arguments should match the arguments of the `__init__`. \n",
    "\n",
    "Previously, we had to rely on the `type(name, bases, dict)` for creating our class, but if we inherit from it, we can do stuff before/after the creation process which we **delegate** back to `type`. \n",
    "\n",
    "Since, we'll be inheriting from `type`, calling `super().__new__` will perform the delegation."
   ]
  },
  {
   "cell_type": "code",
   "execution_count": 31,
   "id": "9fbae978-1c61-40a7-b9b1-bb17389e3a6f",
   "metadata": {},
   "outputs": [],
   "source": [
    "import math\n",
    "\n",
    "class CustomType(type):\n",
    "    def __new__(mcls, name, bases, class_dict):\n",
    "        print('Customized type creation!')\n",
    "        cls_obj = super().__new__(mcls, name, bases, class_dict)  # delegate to super (type in this case)\n",
    "        cls_obj.circ = lambda self: 2 * math.pi * self.r  # basically attaching a function to the class\n",
    "        return cls_obj"
   ]
  },
  {
   "cell_type": "markdown",
   "id": "b043e7e4-37dc-4de2-9b8e-c93956967aa7",
   "metadata": {},
   "source": [
    "Previously, we created `Circle` using `type(name, bases, dict)`. Now, let's go through the same process to create our `Circle` class using `CustomType` instead of `type`."
   ]
  },
  {
   "cell_type": "code",
   "execution_count": 32,
   "id": "202bc740-7d86-42c3-a7ae-dab1cfdb91a9",
   "metadata": {},
   "outputs": [],
   "source": [
    "class_body = \"\"\"\n",
    "def __init__(self, x, y, r):\n",
    "    self.x = x\n",
    "    self.y = y\n",
    "    self.r = r\n",
    "\n",
    "def area(self):\n",
    "    return math.pi * self.r ** 2\n",
    "\"\"\""
   ]
  },
  {
   "cell_type": "markdown",
   "id": "38bd0c24-459d-4b83-879d-9577cb7f6b62",
   "metadata": {},
   "source": [
    "And we create our class dictionary by executing the above code in the context of that dictionary:"
   ]
  },
  {
   "cell_type": "code",
   "execution_count": 33,
   "id": "c82b0022-b993-44b8-b702-0b456ea794b6",
   "metadata": {},
   "outputs": [],
   "source": [
    "class_dict = {}\n",
    "exec(class_body, globals(), class_dict)"
   ]
  },
  {
   "cell_type": "markdown",
   "id": "8e4fb0ae-d08a-4b5c-9735-b7489fb731ac",
   "metadata": {},
   "source": [
    "Then we create the `Circle` class:"
   ]
  },
  {
   "cell_type": "code",
   "execution_count": 34,
   "id": "9945e9bd-10a4-4730-80fb-4cc2cc0e9061",
   "metadata": {},
   "outputs": [
    {
     "name": "stdout",
     "output_type": "stream",
     "text": [
      "Customized type creation!\n"
     ]
    }
   ],
   "source": [
    "Circle = CustomType('Circle', (), class_dict)"
   ]
  },
  {
   "cell_type": "markdown",
   "id": "974c09af-84d2-480c-bc94-a2f556489660",
   "metadata": {},
   "source": [
    "Available to our class is everything in the namespace which was populated using the `class_body` string:"
   ]
  },
  {
   "cell_type": "code",
   "execution_count": 35,
   "id": "e5e3049c-a758-4973-adf5-6d70db178618",
   "metadata": {},
   "outputs": [
    {
     "data": {
      "text/plain": [
       "3.141592653589793"
      ]
     },
     "execution_count": 35,
     "metadata": {},
     "output_type": "execute_result"
    }
   ],
   "source": [
    "c = Circle(0, 0, 1)\n",
    "c.area()"
   ]
  },
  {
   "cell_type": "markdown",
   "id": "09cf6723-27e9-4894-81a3-3ea78857b622",
   "metadata": {},
   "source": [
    "But, don't forget! We also injected a bound method called `circ()` for instances of any classes created using the metaclass `CustomType`.\n",
    "\n",
    "We actually injected this after **delegation**, but we could just have easily added it to our `class_dict` before delegation:\n",
    "\n",
    "`class_dict['circ'] = lambda self: 2 * math.pi * self.r`"
   ]
  },
  {
   "cell_type": "code",
   "execution_count": 36,
   "id": "2a060c83-b448-46c8-9e3c-013abc4f6aaa",
   "metadata": {},
   "outputs": [
    {
     "data": {
      "text/plain": [
       "6.283185307179586"
      ]
     },
     "execution_count": 36,
     "metadata": {},
     "output_type": "execute_result"
    }
   ],
   "source": [
    "c.circ()"
   ]
  },
  {
   "cell_type": "markdown",
   "id": "81a58a4c-2fcf-48d9-8a86-ddae5321747b",
   "metadata": {},
   "source": [
    "# 05 - Metaclasses"
   ]
  },
  {
   "cell_type": "markdown",
   "id": "777721cf-fc63-4672-8596-6aab52da8192",
   "metadata": {},
   "source": [
    "A **metaclass** of a class is defined as the class used to create that class.\n",
    "\n",
    "By default, Python uses the `type` metaclass for creating our classes, but this can be overrided very easily, for example: `class Person(metaclass=MyType)`.\n",
    "\n",
    "So, by default, Python does for example: `class Person(metaclass=type)`.\n",
    "\n",
    "Putting it all together:"
   ]
  },
  {
   "cell_type": "code",
   "execution_count": 41,
   "id": "efb7631c-e364-443d-b67d-f8bd93ef5319",
   "metadata": {},
   "outputs": [
    {
     "name": "stdout",
     "output_type": "stream",
     "text": [
      "Using custom metaclass MyType to create class Person\n"
     ]
    }
   ],
   "source": [
    "class MyType(type):\n",
    "    def __new__(mcls, name, bases, cls_dict):\n",
    "        print(f\"Using custom metaclass {mcls.__name__} to create class {name}\")\n",
    "        # tweak things\n",
    "        # delegate to `type` for class creation\n",
    "        new_class = super().__new__(mcls, name, bases, cls_dict)\n",
    "        # tweak some more\n",
    "        # recall that __new__ should return the instance of what it promised to create\n",
    "        return new_class\n",
    "\n",
    "class Person(metaclass=MyType):\n",
    "    def __init__(self, name):\n",
    "        self.name = name"
   ]
  },
  {
   "cell_type": "markdown",
   "id": "a43965bd-0b26-4ed6-8e54-6853efc658c9",
   "metadata": {},
   "source": [
    "This is identical to several tedious steps carried out in the previous section except Python takes care of all of this heavy lifting.\n",
    "\n",
    "Python calls `MyType` with `MyType` itself as `mcls`, `Person` as the `name`, `object` as the `bases` (by default) and the `Person` class body as the `cls_dict`."
   ]
  },
  {
   "cell_type": "markdown",
   "id": "141cd334-56aa-45ac-b2b4-042e201cb2c4",
   "metadata": {},
   "source": [
    "# 06 - Class Decorators"
   ]
  },
  {
   "cell_type": "markdown",
   "id": "0cf40737-b325-4474-8b2a-2149f1e64a84",
   "metadata": {},
   "source": [
    "While metaclasses are very powerful, they can be hard to understand when reading code. Most of the time decorators work just as well while being much easier to read.\n",
    "\n",
    "Writing class decorators is similar to writing function decorators except that the decorator needs to expect a class. Even parametrised decorators (decorator factory) are fairly intuitive: "
   ]
  },
  {
   "cell_type": "code",
   "execution_count": 49,
   "id": "ee9e71a5-7b11-4a08-9050-c31af1a6e62d",
   "metadata": {},
   "outputs": [
    {
     "data": {
      "text/plain": [
       "0.02"
      ]
     },
     "execution_count": 49,
     "metadata": {},
     "output_type": "execute_result"
    }
   ],
   "source": [
    "def apr(rate):\n",
    "    def inner(cls):\n",
    "        cls.apr = rate\n",
    "        return cls\n",
    "    return inner\n",
    "\n",
    "@apr(0.02)\n",
    "class SavingsAccount():\n",
    "    pass\n",
    "\n",
    "s = SavingsAccount()\n",
    "s.apr"
   ]
  },
  {
   "cell_type": "markdown",
   "id": "7569990a-22d3-42cd-8e00-7bef5e862827",
   "metadata": {},
   "source": [
    "This is equivalent to:"
   ]
  },
  {
   "cell_type": "code",
   "execution_count": 50,
   "id": "47d93d4b-1e97-445c-af3a-2f91fe062092",
   "metadata": {},
   "outputs": [
    {
     "data": {
      "text/plain": [
       "0.02"
      ]
     },
     "execution_count": 50,
     "metadata": {},
     "output_type": "execute_result"
    }
   ],
   "source": [
    "class SavingsAccount():\n",
    "    pass\n",
    "\n",
    "SavingsAccount = apr(0.02)(SavingsAccount)\n",
    "\n",
    "s = SavingsAccount()\n",
    "s.apr"
   ]
  },
  {
   "cell_type": "markdown",
   "id": "dfee8878-a094-4b42-8cf3-846562ae2e64",
   "metadata": {},
   "source": [
    "A metaclass can be used but we currently don't know how to pass the `rate` parameter via a metaclass approach and we'll also have inheritance issues.\n",
    "\n",
    "So for this purpose, metaclasses are overkill! "
   ]
  },
  {
   "cell_type": "markdown",
   "id": "deddf212-6f5d-4be5-aa5c-74c195865234",
   "metadata": {},
   "source": [
    "#### Example 1: Logger for all methods of a Class"
   ]
  },
  {
   "cell_type": "markdown",
   "id": "9e254d7f-cd13-471d-a73e-448d6bb7f978",
   "metadata": {},
   "source": [
    "Let's say we have a class with a number of methods. Each method takes a number of args and returns something. What if we wanted to log each call with their result?\n",
    "\n",
    "We could decorate each method with a logger but that can become repetitive. Another option is to view the `vars` of the class and decorate anything that is a callable."
   ]
  },
  {
   "cell_type": "code",
   "execution_count": 57,
   "id": "5b444d08-21e0-4996-ac17-607ff20a5d7e",
   "metadata": {},
   "outputs": [],
   "source": [
    "from functools import wraps\n",
    "\n",
    "def func_logger(fn):\n",
    "    @wraps(fn)\n",
    "    def inner(*args, **kwargs):\n",
    "        result = fn(*args, **kwargs)\n",
    "        print(f'log: {fn.__qualname__}({args}, {kwargs}) = {result}')\n",
    "        return result\n",
    "    return inner"
   ]
  },
  {
   "cell_type": "code",
   "execution_count": 60,
   "id": "c768a3e0-d6f6-483f-a9fe-cddedc69f351",
   "metadata": {},
   "outputs": [],
   "source": [
    "def class_logger(cls):\n",
    "    for method_name, obj in vars(cls).items():\n",
    "        if callable(obj):\n",
    "            print(\"decorating: \", cls, obj)\n",
    "            setattr(cls, method_name, func_logger(obj))\n",
    "    return cls"
   ]
  },
  {
   "cell_type": "markdown",
   "id": "df2ae743-ec0c-4204-9885-c1d34b719129",
   "metadata": {},
   "source": [
    "So now we could do this:"
   ]
  },
  {
   "cell_type": "code",
   "execution_count": 61,
   "id": "76df8445-4e06-42dd-a724-6eca2b258ade",
   "metadata": {},
   "outputs": [
    {
     "name": "stdout",
     "output_type": "stream",
     "text": [
      "decorating:  <class '__main__.Person'> <function Person.__init__ at 0x00000223287A2710>\n",
      "decorating:  <class '__main__.Person'> <function Person.greet at 0x00000223287A3490>\n"
     ]
    }
   ],
   "source": [
    "@class_logger\n",
    "class Person:\n",
    "    def __init__(self, name, age):\n",
    "        self.name = name\n",
    "        self.age = age\n",
    "    \n",
    "    def greet(self):\n",
    "        return f'Hello, my name is {self.name} and I am {self.age}'"
   ]
  },
  {
   "cell_type": "code",
   "execution_count": 63,
   "id": "c5a56d39-4b13-46b6-9d06-e928f8d808a8",
   "metadata": {},
   "outputs": [
    {
     "name": "stdout",
     "output_type": "stream",
     "text": [
      "log: Person.__init__((<__main__.Person object at 0x0000022328785510>, 'John', 78), {}) = None\n"
     ]
    }
   ],
   "source": [
    "p = Person('John', 78)"
   ]
  },
  {
   "cell_type": "code",
   "execution_count": 64,
   "id": "f61b5cbd-984d-46d0-8ddd-697eb6ed1df8",
   "metadata": {},
   "outputs": [
    {
     "name": "stdout",
     "output_type": "stream",
     "text": [
      "log: Person.greet((<__main__.Person object at 0x0000022328785510>,), {}) = Hello, my name is John and I am 78\n"
     ]
    },
    {
     "data": {
      "text/plain": [
       "'Hello, my name is John and I am 78'"
      ]
     },
     "execution_count": 64,
     "metadata": {},
     "output_type": "execute_result"
    }
   ],
   "source": [
    "p.greet()"
   ]
  },
  {
   "cell_type": "markdown",
   "id": "3735ad6f-3ec2-4e44-9fdc-7fda012ae3f5",
   "metadata": {},
   "source": [
    "We will run into issues with static methods and class methods as they are **not** callables. (From Python 3.10, they are callables as they implement `__call__`, in addition to `__get__`.)\n",
    "\n",
    "\n",
    "They are instead **descriptors** which are classes. The consequence of this is that if we want to decorate a method with `@staticmethod` or `@classmethod` in addition to a function decorator e.g. `@func_logger`, **we must apply the `@func_logger` first and __then__ the `@staticmethod`/`@classmethod`**"
   ]
  },
  {
   "cell_type": "markdown",
   "id": "b1c9d0ce-0cc4-48b1-bca2-37a79d6bce44",
   "metadata": {},
   "source": [
    "If however, we want to decorate our class as before but have it figure out how to deal with static and class methods, we can do that too."
   ]
  },
  {
   "cell_type": "markdown",
   "id": "8d62d516-aec4-413b-a184-e27f42ca70da",
   "metadata": {},
   "source": [
    "Remember that all methods are **non-data descriptors** which means:\n",
    "- They have the `__get__` method.\n",
    "- Depending on how `__get__` is called, it either returns the function itself or the bound method. This is how python differentiates between the two.\n",
    "\n",
    "We know that `__get__` takes 3 parameters. Here's what they are for regular functions:\n",
    "- `self`: the function itself e.g. `add` because we have `add.__get__()`.\n",
    "- `instance`: either `None` or our `__main__` module; we can think of our `__main__` module as the class housing this function, so calling it directly is like calling it from the module 'class' instead of an instance.\n",
    "- `owner_class`: in this case, it will be our `__main__`module\n",
    "\n",
    "If `instance=None`, `__get__` returns the function as opposed to a bound method. Where is the pointer to that function? In the `__func__` attribute of the descriptor."
   ]
  },
  {
   "cell_type": "code",
   "execution_count": 93,
   "id": "dae55c33-277d-4a2b-9439-1f3881708870",
   "metadata": {},
   "outputs": [],
   "source": [
    "def class_logger(cls):\n",
    "    for name, obj in vars(cls).items():\n",
    "        if callable(obj):\n",
    "            print('decorating:', cls, name)\n",
    "            setattr(cls, name, func_logger(obj))\n",
    "            \n",
    "        elif isinstance(obj, staticmethod):\n",
    "            original_func = obj.__func__\n",
    "            print('decorating static method', original_func)\n",
    "            decorated_func = func_logger(original_func)\n",
    "            method = staticmethod(decorated_func)\n",
    "            print(method, type(method))\n",
    "            setattr(cls, name, method)\n",
    "            \n",
    "        elif isinstance(obj, classmethod):\n",
    "            original_func = obj.__func__\n",
    "            print('decorating class method', original_func)\n",
    "            decorated_func = func_logger(original_func)\n",
    "            method = classmethod(decorated_func)\n",
    "            setattr(cls, name, method)\n",
    "            \n",
    "    return cls"
   ]
  },
  {
   "cell_type": "code",
   "execution_count": 94,
   "id": "c7694f36-d715-4964-a91b-3effafa9eb62",
   "metadata": {},
   "outputs": [
    {
     "name": "stdout",
     "output_type": "stream",
     "text": [
      "decorating: <class '__main__.Person'> static_method\n",
      "decorating class method <function Person.class_method at 0x0000022329BA89D0>\n",
      "decorating: <class '__main__.Person'> instance_method\n"
     ]
    }
   ],
   "source": [
    "@class_logger\n",
    "class Person:\n",
    "    @staticmethod\n",
    "    def static_method(a, b):\n",
    "        print('static_method called...', a, b)\n",
    "        \n",
    "    @classmethod\n",
    "    def class_method(cls, a, b):\n",
    "        print('class_method called...', cls, a, b)\n",
    "        \n",
    "    def instance_method(self, a, b):\n",
    "        print('instance_method called...', self, a, b)"
   ]
  },
  {
   "cell_type": "code",
   "execution_count": 95,
   "id": "1bcba921-f949-4c66-8fa8-99273128a3ea",
   "metadata": {},
   "outputs": [
    {
     "name": "stdout",
     "output_type": "stream",
     "text": [
      "static_method called... 10 20\n",
      "log: Person.static_method((10, 20), {}) = None\n"
     ]
    }
   ],
   "source": [
    "Person.static_method(10, 20)"
   ]
  },
  {
   "cell_type": "code",
   "execution_count": 96,
   "id": "f9d3d9d8-f71f-45ff-99b0-847f3809bab6",
   "metadata": {},
   "outputs": [
    {
     "name": "stdout",
     "output_type": "stream",
     "text": [
      "class_method called... <class '__main__.Person'> 10 20\n",
      "log: Person.class_method((<class '__main__.Person'>, 10, 20), {}) = None\n"
     ]
    }
   ],
   "source": [
    "Person.class_method(10, 20)"
   ]
  },
  {
   "cell_type": "code",
   "execution_count": 97,
   "id": "30abcf3d-547c-49cd-841b-c88ec2a40e49",
   "metadata": {},
   "outputs": [
    {
     "name": "stdout",
     "output_type": "stream",
     "text": [
      "instance_method called... <__main__.Person object at 0x000002232879D750> 10 20\n",
      "log: Person.instance_method((<__main__.Person object at 0x000002232879D750>, 10, 20), {}) = None\n"
     ]
    }
   ],
   "source": [
    "Person().instance_method(10, 20)"
   ]
  },
  {
   "cell_type": "markdown",
   "id": "ee86aa91-5675-48cf-bc91-1d635acff3f4",
   "metadata": {},
   "source": [
    "This is good, but what about **properties**?\n",
    "\n",
    "As you may remember, the property class has an `fset`, `fget` and `fdel` attribute which are handles to their respective functions. The issue is that these are all read-only attributes.\n",
    "\n",
    "But, remember that properties also have `getter()`, `setter()` and `deleter()` methods which take a function, stores it in the descriptor and then returns the descriptor itself. (Remember, this is why we can only call `@<some_prop>.setter` after applying the `@property` decorator. "
   ]
  },
  {
   "cell_type": "code",
   "execution_count": 129,
   "id": "356d6d82-71fc-4562-bbeb-8a8d3ee7d086",
   "metadata": {},
   "outputs": [],
   "source": [
    "def class_logger(cls):\n",
    "    for name, obj in vars(cls).items():\n",
    "        if callable(obj):\n",
    "            print('decorating:', cls, name)\n",
    "            setattr(cls, name, func_logger(obj))\n",
    "            \n",
    "        elif isinstance(obj, staticmethod):\n",
    "            original_func = obj.__func__\n",
    "            print('decorating static method', original_func)\n",
    "            decorated_func = func_logger(original_func)\n",
    "            method = staticmethod(decorated_func)\n",
    "            print(method, type(method))\n",
    "            setattr(cls, name, method)\n",
    "            \n",
    "        elif isinstance(obj, classmethod):\n",
    "            original_func = obj.__func__\n",
    "            print('decorating class method', original_func)\n",
    "            decorated_func = func_logger(original_func)\n",
    "            method = classmethod(decorated_func)\n",
    "            setattr(cls, name, method)\n",
    "            \n",
    "        elif isinstance(obj, property):\n",
    "            print('decorating property', obj)\n",
    "            if obj.fget:\n",
    "                obj = obj.getter(func_logger(obj.fget))\n",
    "            if obj.fset:\n",
    "                obj = obj.setter(func_logger(obj.fset))\n",
    "            if obj.fdel:\n",
    "                obj = obj.deleter(func_logger(obj.fdel))\n",
    "            setattr(cls, name, obj)\n",
    "    return cls"
   ]
  },
  {
   "cell_type": "markdown",
   "id": "c282e1ff-d8be-4b95-907a-d39faf9e2560",
   "metadata": {},
   "source": [
    "So, here we've checked to see if the property which is a descriptor has received `fget`. If it has, we want to replace the entire property with a new property with a modified `fget`. This modification involves taking the original `fget` function from our property, decorate it with `func_logger` and essentially creating a new entire property whose `fget` is equal to our decorated function.\n",
    "\n",
    "Again, recall that the `getter()` of a descriptor takes a function, stores it in the `fget` attribute of the descriptor, and returns the descriptor back. When we call the propery e.g. `Person.age`, the `__get__` is called on the `age` descriptor which calls the function stored in `fget`. "
   ]
  },
  {
   "cell_type": "markdown",
   "id": "e88dcfb5-e925-49c4-ad18-8e566eb95206",
   "metadata": {},
   "source": [
    "# 07 - Decorator Classes"
   ]
  },
  {
   "cell_type": "code",
   "execution_count": null,
   "id": "bc83fe16-c14a-4677-a524-a498b6d4b089",
   "metadata": {},
   "outputs": [],
   "source": []
  },
  {
   "cell_type": "markdown",
   "id": "afaa42f6-ba38-4574-9c78-7d79813f668e",
   "metadata": {},
   "source": [
    "# 08 - Metaclasses vs Class Decorators"
   ]
  },
  {
   "cell_type": "markdown",
   "id": "a70345af-0938-46c5-b04f-e0f45d09259d",
   "metadata": {},
   "source": [
    "# 09 - Metaclass Parameters"
   ]
  },
  {
   "cell_type": "markdown",
   "id": "5e3a0545-8f63-4557-80ce-24779f173b9b",
   "metadata": {},
   "source": [
    "# 10 - The `__prepare__` Method"
   ]
  },
  {
   "cell_type": "markdown",
   "id": "1a193195-0a32-4a8a-ad7b-8c89ea5d8ac7",
   "metadata": {},
   "source": [
    "# 11 - Metaprogramming Application 1"
   ]
  },
  {
   "cell_type": "markdown",
   "id": "4aab5157-276f-49bb-9ecb-469bcda2e5c5",
   "metadata": {},
   "source": [
    "# 12 - Metaprogramming - Application 2"
   ]
  },
  {
   "cell_type": "markdown",
   "id": "20896f3d-7970-451e-9391-97415e631b14",
   "metadata": {},
   "source": [
    "# 13 - Metaprogramming - Application 3"
   ]
  },
  {
   "cell_type": "markdown",
   "id": "de0e5a35-7178-46a5-afb1-7801e52bd2ae",
   "metadata": {},
   "source": [
    "# 14 - Attribute Read Accessors"
   ]
  },
  {
   "cell_type": "markdown",
   "id": "6b882fb8-699f-4203-9d3e-05f60832131e",
   "metadata": {},
   "source": [
    "# 15 - Attribute Write Accessors"
   ]
  },
  {
   "cell_type": "markdown",
   "id": "8aa29ae3-4d59-49c6-b86c-2739659292e9",
   "metadata": {},
   "source": [
    "# 16 - Accessors - Application"
   ]
  }
 ],
 "metadata": {
  "kernelspec": {
   "display_name": "Python 3 (ipykernel)",
   "language": "python",
   "name": "python3"
  },
  "language_info": {
   "codemirror_mode": {
    "name": "ipython",
    "version": 3
   },
   "file_extension": ".py",
   "mimetype": "text/x-python",
   "name": "python",
   "nbconvert_exporter": "python",
   "pygments_lexer": "ipython3",
   "version": "3.10.4"
  }
 },
 "nbformat": 4,
 "nbformat_minor": 5
}
