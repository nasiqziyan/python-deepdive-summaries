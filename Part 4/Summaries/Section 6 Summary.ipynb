{
 "cells": [
  {
   "cell_type": "markdown",
   "id": "829fa14f-dc5a-4b2b-9cea-c33fb133ccaf",
   "metadata": {},
   "source": [
    "# 01 - Single Inheritance"
   ]
  },
  {
   "cell_type": "markdown",
   "id": "8ac02949-99a6-44f4-874b-79fcb91d35fb",
   "metadata": {},
   "source": [
    "Python supports multiple inheritance, unlike languages like Java which only support single inheritance (but allows multiple interfaces), but we'll look at that later."
   ]
  },
  {
   "cell_type": "markdown",
   "id": "1ac66a3e-43be-47eb-abf7-66b2de314429",
   "metadata": {},
   "source": [
    "#### Some basics"
   ]
  },
  {
   "cell_type": "markdown",
   "id": "043c4fee-92e5-4be6-8e71-072f52c12998",
   "metadata": {},
   "source": [
    "If our classes tend to form a natural hierarchy, then creating an inheritance tree may be useful.\n",
    "\n",
    "Classes lower down in the hierarchy will **inherit** characteristics (state and behaviour i.e properties and methods) from those higher up. \n",
    "\n",
    "But they can also **extend** to have characteristics that those higher up didn't have.\n",
    "\n",
    "They can also **override** characteristics in those higher up.\n",
    "\n",
    "**Inherits from / subclasses / is a child of / derives from** are all synonymous terms. Note that the terms **child** and **parent** refer to direct relationships while **ancestor** refers to indirect relationships. So if **A** inherits from **B** which inherits from **C**, then **C** is *not* a parent of **A** but it *is* an ancestor."
   ]
  },
  {
   "cell_type": "markdown",
   "id": "c6f9a55b-e56c-4763-8f10-9a6bd638d9f4",
   "metadata": {},
   "source": [
    "#### `isinstance` vs `type` vs `issubclass`"
   ]
  },
  {
   "cell_type": "markdown",
   "id": "0f8a4db2-9dbc-47a5-a9e5-4c5fafea9d93",
   "metadata": {},
   "source": [
    "If `Student` inherits from `Person`, then any instances of `Student` are automatically instances of `Person`. But, `Person` instances are of course not `Student` instances.\n",
    "\n",
    "`isinstance` does not look at direct relationships; since all objects inherit from `object`, `isinstance(<anything>, object)` will always be `True`.\n",
    "\n",
    "The same applies for `issubclass` but **issubclass** can only be used to inspect inheritance relationships between **classes** not instances.\n",
    "\n",
    "`type` returns the class that was used to create the instance - it does not look at inheritance."
   ]
  },
  {
   "cell_type": "code",
   "execution_count": 2,
   "id": "c0e0bbcb-48e6-4c62-9cd0-bfb04e61d2e7",
   "metadata": {},
   "outputs": [
    {
     "data": {
      "text/plain": [
       "True"
      ]
     },
     "execution_count": 2,
     "metadata": {},
     "output_type": "execute_result"
    }
   ],
   "source": [
    "class Person:\n",
    "    pass\n",
    "\n",
    "class Student(Person):\n",
    "    pass\n",
    "\n",
    "s1 = Student()\n",
    "\n",
    "isinstance(s1, Person)"
   ]
  },
  {
   "cell_type": "code",
   "execution_count": 3,
   "id": "be9c9470-07a6-43d5-a00d-bdf4d32e1d31",
   "metadata": {},
   "outputs": [
    {
     "data": {
      "text/plain": [
       "True"
      ]
     },
     "execution_count": 3,
     "metadata": {},
     "output_type": "execute_result"
    }
   ],
   "source": [
    "class CollegeStudent(Student):\n",
    "    pass\n",
    "\n",
    "issubclass(CollegeStudent, Person)"
   ]
  },
  {
   "cell_type": "markdown",
   "id": "1125a1dc-3b97-4623-90ba-e568751b3230",
   "metadata": {},
   "source": [
    "One useful thing to remember is that the types printed out using `type` aren't necessarily the builtin objects themselves but rather a string representation. But the actual types can be found in other modules. Here are two examples below:"
   ]
  },
  {
   "cell_type": "code",
   "execution_count": 16,
   "id": "0b2187c6-3416-408e-98aa-341a6f887e7a",
   "metadata": {},
   "outputs": [
    {
     "data": {
      "text/plain": [
       "True"
      ]
     },
     "execution_count": 16,
     "metadata": {},
     "output_type": "execute_result"
    }
   ],
   "source": [
    "import types\n",
    "\n",
    "def my_func():\n",
    "    pass\n",
    "\n",
    "types.FunctionType is type(my_func)"
   ]
  },
  {
   "cell_type": "code",
   "execution_count": 17,
   "id": "55f046f7-946a-4fb1-b3f1-466b9568cd34",
   "metadata": {},
   "outputs": [
    {
     "data": {
      "text/plain": [
       "True"
      ]
     },
     "execution_count": 17,
     "metadata": {},
     "output_type": "execute_result"
    }
   ],
   "source": [
    "import math\n",
    "\n",
    "types.ModuleType is type(math)"
   ]
  },
  {
   "cell_type": "markdown",
   "id": "fb1c9620-2879-477b-b5de-60f3c39d5066",
   "metadata": {},
   "source": [
    "# 02 - The object Class"
   ]
  },
  {
   "cell_type": "markdown",
   "id": "157a2aab-5884-4d16-9b2e-2aba2d824ddd",
   "metadata": {},
   "source": [
    "Despite being lowercase, `object` is a class, not an instance of some other class."
   ]
  },
  {
   "cell_type": "markdown",
   "id": "c9d1e79d-a524-49a8-acab-a57b2cbdd0ae",
   "metadata": {},
   "source": [
    "If one of our classes does not override a characteristic from `object` when it inherited it, then that characteristic will be **identical** to the one found in our class. For example, if we do not implement `__init__` method, then the `__init__` method of `object` will be called."
   ]
  },
  {
   "cell_type": "code",
   "execution_count": 18,
   "id": "4dd0ac84-6cb2-4a4b-b6a9-22af7590f708",
   "metadata": {},
   "outputs": [
    {
     "data": {
      "text/plain": [
       "True"
      ]
     },
     "execution_count": 18,
     "metadata": {},
     "output_type": "execute_result"
    }
   ],
   "source": [
    "class Person:\n",
    "    pass\n",
    "\n",
    "Person.__init__ is object.__init__"
   ]
  },
  {
   "cell_type": "markdown",
   "id": "2d1685b6-e0b1-469f-a246-f6e8f3536eb0",
   "metadata": {},
   "source": [
    "But instances will technically have a different `__init__`."
   ]
  },
  {
   "cell_type": "code",
   "execution_count": 26,
   "id": "07eedbc3-dddb-4778-bec4-a8dabcc01520",
   "metadata": {},
   "outputs": [
    {
     "data": {
      "text/plain": [
       "(<method-wrapper '__init__' of Person object at 0x0000019FDF8A12A0>,\n",
       " <slot wrapper '__init__' of 'object' objects>,\n",
       " <slot wrapper '__init__' of 'object' objects>)"
      ]
     },
     "execution_count": 26,
     "metadata": {},
     "output_type": "execute_result"
    }
   ],
   "source": [
    "p1 = Person()\n",
    "\n",
    "p1.__init__, Person.__init__, object.__init__"
   ]
  },
  {
   "cell_type": "markdown",
   "id": "bd9631e5-dfc2-403d-b6b0-cdc008365973",
   "metadata": {},
   "source": [
    "# 03 - Overriding"
   ]
  },
  {
   "cell_type": "markdown",
   "id": "40a8c1da-cf49-4c5a-8f69-5a442dc3ef4a",
   "metadata": {},
   "source": [
    "# 04 - Extending"
   ]
  },
  {
   "cell_type": "markdown",
   "id": "1cf88681-e77d-4cff-918e-b3d85fa5e50e",
   "metadata": {},
   "source": [
    "# 05 - Delegating to Parent"
   ]
  },
  {
   "cell_type": "markdown",
   "id": "3a906475-54e6-466c-8410-5224d01a33d3",
   "metadata": {},
   "source": [
    "# 06 - Slots"
   ]
  },
  {
   "cell_type": "markdown",
   "id": "92ba62fc-6b36-4a52-a875-a7a15f97bc13",
   "metadata": {},
   "source": [
    "# 07 - Slots and Single Inheritance"
   ]
  },
  {
   "cell_type": "code",
   "execution_count": null,
   "id": "fe1b2f1d-7708-4308-a879-a7db9e597909",
   "metadata": {},
   "outputs": [],
   "source": []
  }
 ],
 "metadata": {
  "kernelspec": {
   "display_name": "Python 3 (ipykernel)",
   "language": "python",
   "name": "python3"
  },
  "language_info": {
   "codemirror_mode": {
    "name": "ipython",
    "version": 3
   },
   "file_extension": ".py",
   "mimetype": "text/x-python",
   "name": "python",
   "nbconvert_exporter": "python",
   "pygments_lexer": "ipython3",
   "version": "3.10.4"
  }
 },
 "nbformat": 4,
 "nbformat_minor": 5
}
