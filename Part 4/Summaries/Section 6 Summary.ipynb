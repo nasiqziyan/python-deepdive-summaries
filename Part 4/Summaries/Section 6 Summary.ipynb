{
 "cells": [
  {
   "cell_type": "markdown",
   "id": "829fa14f-dc5a-4b2b-9cea-c33fb133ccaf",
   "metadata": {},
   "source": [
    "# 01 - Single Inheritance"
   ]
  },
  {
   "cell_type": "markdown",
   "id": "8ac02949-99a6-44f4-874b-79fcb91d35fb",
   "metadata": {},
   "source": [
    "Python supports multiple inheritance, unlike languages like Java which only support single inheritance (but allows multiple interfaces), but we'll look at that later."
   ]
  },
  {
   "cell_type": "markdown",
   "id": "1ac66a3e-43be-47eb-abf7-66b2de314429",
   "metadata": {},
   "source": [
    "#### Some basics"
   ]
  },
  {
   "cell_type": "markdown",
   "id": "043c4fee-92e5-4be6-8e71-072f52c12998",
   "metadata": {},
   "source": [
    "If our classes tend to form a natural hierarchy, then creating an inheritance tree may be useful.\n",
    "\n",
    "Classes lower down in the hierarchy will **inherit** characteristics (state and behaviour i.e properties and methods) from those higher up. \n",
    "\n",
    "But they can also **extend** to have characteristics that those higher up didn't have.\n",
    "\n",
    "They can also **override** characteristics in those higher up.\n",
    "\n",
    "**Inherits from / subclasses / is a child of / derives from** are all synonymous terms. Note that the terms **child** and **parent** refer to direct relationships while **ancestor** refers to indirect relationships. So if **A** inherits from **B** which inherits from **C**, then **C** is *not* a parent of **A** but it *is* an ancestor."
   ]
  },
  {
   "cell_type": "markdown",
   "id": "c6f9a55b-e56c-4763-8f10-9a6bd638d9f4",
   "metadata": {},
   "source": [
    "#### `isinstance` vs `type` vs `issubclass`"
   ]
  },
  {
   "cell_type": "markdown",
   "id": "0f8a4db2-9dbc-47a5-a9e5-4c5fafea9d93",
   "metadata": {},
   "source": [
    "If `Student` inherits from `Person`, then any instances of `Student` are automatically instances of `Person`. But, `Person` instances are of course not `Student` instances.\n",
    "\n",
    "`isinstance` does not look at direct relationships; since all objects inherit from `object`, `isinstance(<anything>, object)` will always be `True`.\n",
    "\n",
    "The same applies for `issubclass` but **issubclass** can only be used to inspect inheritance relationships between **classes** not instances.\n",
    "\n",
    "`type` returns the class that was used to create the instance - it does not look at inheritance."
   ]
  },
  {
   "cell_type": "code",
   "execution_count": 2,
   "id": "c0e0bbcb-48e6-4c62-9cd0-bfb04e61d2e7",
   "metadata": {},
   "outputs": [
    {
     "data": {
      "text/plain": [
       "True"
      ]
     },
     "execution_count": 2,
     "metadata": {},
     "output_type": "execute_result"
    }
   ],
   "source": [
    "class Person:\n",
    "    pass\n",
    "\n",
    "class Student(Person):\n",
    "    pass\n",
    "\n",
    "s1 = Student()\n",
    "\n",
    "isinstance(s1, Person)"
   ]
  },
  {
   "cell_type": "code",
   "execution_count": 3,
   "id": "be9c9470-07a6-43d5-a00d-bdf4d32e1d31",
   "metadata": {},
   "outputs": [
    {
     "data": {
      "text/plain": [
       "True"
      ]
     },
     "execution_count": 3,
     "metadata": {},
     "output_type": "execute_result"
    }
   ],
   "source": [
    "class CollegeStudent(Student):\n",
    "    pass\n",
    "\n",
    "issubclass(CollegeStudent, Person)"
   ]
  },
  {
   "cell_type": "markdown",
   "id": "1125a1dc-3b97-4623-90ba-e568751b3230",
   "metadata": {},
   "source": [
    "One useful thing to remember is that the types printed out using `type` aren't necessarily the builtin objects themselves but rather a string representation. But the actual types can be found in other modules. Here are two examples below:"
   ]
  },
  {
   "cell_type": "code",
   "execution_count": 16,
   "id": "0b2187c6-3416-408e-98aa-341a6f887e7a",
   "metadata": {},
   "outputs": [
    {
     "data": {
      "text/plain": [
       "True"
      ]
     },
     "execution_count": 16,
     "metadata": {},
     "output_type": "execute_result"
    }
   ],
   "source": [
    "import types\n",
    "\n",
    "def my_func():\n",
    "    pass\n",
    "\n",
    "types.FunctionType is type(my_func)"
   ]
  },
  {
   "cell_type": "code",
   "execution_count": 17,
   "id": "55f046f7-946a-4fb1-b3f1-466b9568cd34",
   "metadata": {},
   "outputs": [
    {
     "data": {
      "text/plain": [
       "True"
      ]
     },
     "execution_count": 17,
     "metadata": {},
     "output_type": "execute_result"
    }
   ],
   "source": [
    "import math\n",
    "\n",
    "types.ModuleType is type(math)"
   ]
  },
  {
   "cell_type": "markdown",
   "id": "fb1c9620-2879-477b-b5de-60f3c39d5066",
   "metadata": {},
   "source": [
    "# 02 - The object Class"
   ]
  },
  {
   "cell_type": "markdown",
   "id": "157a2aab-5884-4d16-9b2e-2aba2d824ddd",
   "metadata": {},
   "source": [
    "Despite being lowercase, `object` is a class, not an instance of some other class."
   ]
  },
  {
   "cell_type": "markdown",
   "id": "c9d1e79d-a524-49a8-acab-a57b2cbdd0ae",
   "metadata": {},
   "source": [
    "If one of our classes does not override a characteristic from `object` when it inherited it, then that characteristic will be **identical** to the one found in our class. For example, if we do not implement `__init__` method, then the `__init__` method of `object` will be called."
   ]
  },
  {
   "cell_type": "code",
   "execution_count": 18,
   "id": "4dd0ac84-6cb2-4a4b-b6a9-22af7590f708",
   "metadata": {},
   "outputs": [
    {
     "data": {
      "text/plain": [
       "True"
      ]
     },
     "execution_count": 18,
     "metadata": {},
     "output_type": "execute_result"
    }
   ],
   "source": [
    "class Person:\n",
    "    pass\n",
    "\n",
    "Person.__init__ is object.__init__"
   ]
  },
  {
   "cell_type": "markdown",
   "id": "2d1685b6-e0b1-469f-a246-f6e8f3536eb0",
   "metadata": {},
   "source": [
    "But instances will technically have a different `__init__`."
   ]
  },
  {
   "cell_type": "code",
   "execution_count": 26,
   "id": "07eedbc3-dddb-4778-bec4-a8dabcc01520",
   "metadata": {},
   "outputs": [
    {
     "data": {
      "text/plain": [
       "(<method-wrapper '__init__' of Person object at 0x0000019FDF8A12A0>,\n",
       " <slot wrapper '__init__' of 'object' objects>,\n",
       " <slot wrapper '__init__' of 'object' objects>)"
      ]
     },
     "execution_count": 26,
     "metadata": {},
     "output_type": "execute_result"
    }
   ],
   "source": [
    "p1 = Person()\n",
    "\n",
    "p1.__init__, Person.__init__, object.__init__"
   ]
  },
  {
   "cell_type": "markdown",
   "id": "bd9631e5-dfc2-403d-b6b0-cdc008365973",
   "metadata": {},
   "source": [
    "# 03 - Overriding"
   ]
  },
  {
   "cell_type": "markdown",
   "id": "097c3364-9bbb-40b4-9b2e-94f196dd1408",
   "metadata": {},
   "source": [
    "When we inherit from another class, we inherit its attributes, including all callables. We can choose to redefine an existing callable in the subclass - this is known as **overriding**."
   ]
  },
  {
   "cell_type": "markdown",
   "id": "3ec711e5-1773-4a86-884b-6f679f21a774",
   "metadata": {},
   "source": [
    "When it comes to calling a method of our class, we first look to see we've overridden it within the class. If not, we go up the inheritance tree to see if it can be found there, eventually ending up at the `object` level. If it's not found there, we'll get an error."
   ]
  },
  {
   "cell_type": "markdown",
   "id": "7867d6fd-4014-4033-8f30-a1e401f8b10d",
   "metadata": {},
   "source": [
    "**Tip**\n",
    "\n",
    "- Objects have a property: `__class__` -> returns the **class** the object was created from (but we should use `type()` instead; see later).\n",
    "- Classes have a propery: `__name__` -> returns a **string** containing the name of the class.\n",
    "\n",
    "If we want to get the name of the class used to create the object -> `object.__class__.__name__`"
   ]
  },
  {
   "cell_type": "markdown",
   "id": "a87d4369-ef8b-4fe6-b3cc-8445249d22ec",
   "metadata": {},
   "source": [
    "Here's an example to demonstrate an important point:"
   ]
  },
  {
   "cell_type": "code",
   "execution_count": 1,
   "id": "e7e3e1f7-7833-4ef5-ba52-e7abc1b61863",
   "metadata": {},
   "outputs": [],
   "source": [
    "class Person:\n",
    "    def eat(self):\n",
    "        print('Person eats')\n",
    "\n",
    "    def work(self):\n",
    "        print('Person works')\n",
    "\n",
    "    def sleep(self):\n",
    "        print('Person sleeps')\n",
    "\n",
    "    def routine(self):\n",
    "        self.eat()\n",
    "        self.work()\n",
    "        self.sleep()\n",
    "\n",
    "class Student(Person):\n",
    "    def work(self):\n",
    "        print('Student studies')"
   ]
  },
  {
   "cell_type": "code",
   "execution_count": 2,
   "id": "517ba10b-36c6-419b-ad82-828e82cd835c",
   "metadata": {},
   "outputs": [
    {
     "name": "stdout",
     "output_type": "stream",
     "text": [
      "Person eats\n",
      "Student studies\n",
      "Person sleeps\n"
     ]
    }
   ],
   "source": [
    "s = Student()\n",
    "s.routine()"
   ]
  },
  {
   "cell_type": "markdown",
   "id": "c9195cba-db1c-42c9-bd3e-5f456b228208",
   "metadata": {},
   "source": [
    "**Methods called from an instance are always bound to that instance**\n",
    "\n",
    "- Above we see `routine` being called first - this is **bound** to the `Student` instance (so `self` is a `Student` object).\n",
    "- Since `routine` doesn't exist in `Student`, we look up the inheritance tree, find it in `Person` and call it.\n",
    "- Again, since `routine` is called and therefore bound to `s`, the `self` in `routine(self)` method refers to the instance of `Student`.\n",
    "- So `self.work()` will look for `work` in `s` first which it finds.."
   ]
  },
  {
   "cell_type": "markdown",
   "id": "40a8c1da-cf49-4c5a-8f69-5a442dc3ef4a",
   "metadata": {},
   "source": [
    "# 04 - Extending"
   ]
  },
  {
   "cell_type": "markdown",
   "id": "730c786d-f1f3-4802-b9e4-f8396d78700e",
   "metadata": {},
   "source": [
    "Extending is used for creating a more specialised subclass. \n",
    "\n",
    "Here's a similar example to the above where the generic `Person` class has some defined functionality, but the `Student` class has extended on top of it:"
   ]
  },
  {
   "cell_type": "code",
   "execution_count": 3,
   "id": "a64f9d9f-a507-42d3-8382-52170959e922",
   "metadata": {},
   "outputs": [],
   "source": [
    "class Person:\n",
    "    def eat(self):\n",
    "        print('Person eats')\n",
    "\n",
    "    def sleep(self):\n",
    "        print('Person sleeps')\n",
    "\n",
    "    def routine(self):\n",
    "        self.eat()\n",
    "        self.study()  # not defined in this class\n",
    "        self.sleep()\n",
    "\n",
    "class Student(Person):\n",
    "    def study(self):\n",
    "        print('Student studies')"
   ]
  },
  {
   "cell_type": "code",
   "execution_count": 4,
   "id": "f175391a-b2ee-40e4-b463-2508850106bb",
   "metadata": {},
   "outputs": [
    {
     "name": "stdout",
     "output_type": "stream",
     "text": [
      "Person eats\n",
      "Student studies\n",
      "Person sleeps\n"
     ]
    }
   ],
   "source": [
    "s = Student()\n",
    "s.routine()"
   ]
  },
  {
   "cell_type": "markdown",
   "id": "ab0c18c9-e42c-48ad-9331-60f2f50f988a",
   "metadata": {},
   "source": [
    "Of course, we'll have a problem if we call `p.routine()`, but sometimes it may be that the `Person` class is intended to be interacted with via inheritance **only**. \n",
    "\n",
    "These types of classes are known as **abstract base classes (abc)**.\n",
    "\n",
    "In these classes, it will generally provide some generic behaviour (`eat` and `sleep`) but will expect all inheritors to implement some specific behaviour (`study`). "
   ]
  },
  {
   "cell_type": "markdown",
   "id": "015f5727-8f8d-473b-9852-b76a407160d9",
   "metadata": {},
   "source": [
    "#### Example"
   ]
  },
  {
   "cell_type": "markdown",
   "id": "0e9afdf6-1a47-4a2e-ad82-1f8648b82923",
   "metadata": {},
   "source": [
    "Here is an important example to highlight the differences in behaviour with class attributes vs instance attributes:"
   ]
  },
  {
   "cell_type": "code",
   "execution_count": 13,
   "id": "ae322c1d-5a71-4117-a491-08e0c721faf5",
   "metadata": {},
   "outputs": [],
   "source": [
    "class Account:\n",
    "    apr = 3.0\n",
    "    def __init__(self):\n",
    "        self.account_type = 'Generic Account'\n",
    "        \n",
    "    def calc_interest(self):\n",
    "        return f'Calc interest on {self.account_type} with APR = {self.apr}'"
   ]
  },
  {
   "cell_type": "code",
   "execution_count": 14,
   "id": "7cfe4b3e-e951-42ae-9433-51ed5bc56c77",
   "metadata": {},
   "outputs": [],
   "source": [
    "class Savings(Account):\n",
    "    apr = 5.0\n",
    "    \n",
    "    def __init__(self):\n",
    "        self.account_type = 'Savings Account'"
   ]
  },
  {
   "cell_type": "code",
   "execution_count": 17,
   "id": "c291d45c-6f06-4997-b68b-6f6ec3dc2a1b",
   "metadata": {},
   "outputs": [
    {
     "data": {
      "text/plain": [
       "'Calc interest on Generic Account with APR = 3.0'"
      ]
     },
     "execution_count": 17,
     "metadata": {},
     "output_type": "execute_result"
    }
   ],
   "source": [
    "a = Account()\n",
    "a.calc_interest()"
   ]
  },
  {
   "cell_type": "code",
   "execution_count": 18,
   "id": "0ecbe179-378f-4822-a0b6-3bf8f8ec1457",
   "metadata": {},
   "outputs": [
    {
     "data": {
      "text/plain": [
       "'Calc interest on Savings Account with APR = 5.0'"
      ]
     },
     "execution_count": 18,
     "metadata": {},
     "output_type": "execute_result"
    }
   ],
   "source": [
    "s = Savings()\n",
    "s.calc_interest()"
   ]
  },
  {
   "cell_type": "markdown",
   "id": "1bb26b73-9999-42d5-b316-49568950bb7a",
   "metadata": {},
   "source": [
    "**Both** of these worked because `self.apr` did not exist as an instance attribute so we looked at the bound instance's class attribute.\n",
    "\n",
    "Had we used `Account.apr` or `Savings.apr` instead of `self.apr`, one of the two would give us the wrong number.\n",
    "\n",
    "The issue with this approach is someone could define `self.apr = 500` and this would take precedence in `calc_interest()`:"
   ]
  },
  {
   "cell_type": "code",
   "execution_count": 19,
   "id": "3acb1084-91a3-4dbf-a109-d045e67b0f55",
   "metadata": {},
   "outputs": [
    {
     "data": {
      "text/plain": [
       "'Calc interest on Savings Account with APR = 500'"
      ]
     },
     "execution_count": 19,
     "metadata": {},
     "output_type": "execute_result"
    }
   ],
   "source": [
    "s = Savings()\n",
    "s.apr = 500\n",
    "s.calc_interest()"
   ]
  },
  {
   "cell_type": "markdown",
   "id": "c1aed1c9-3da6-4109-a8de-71ea4f0a0674",
   "metadata": {},
   "source": [
    "What we need instead of either of these is to find the `apr` attribute of the class that this instance was created from. We can use `type(self)` (or slightly worse `self.__class__`) for this very purpose:"
   ]
  },
  {
   "cell_type": "code",
   "execution_count": 20,
   "id": "153e321c-4573-4f87-ae62-9099f44bb4cc",
   "metadata": {},
   "outputs": [],
   "source": [
    "class Account:\n",
    "    apr = 3.0\n",
    "    def __init__(self):\n",
    "        self.account_type = 'Generic Account'\n",
    "        \n",
    "    def calc_interest(self):\n",
    "        return f'Calc interest on {self.account_type} with APR = {type(self).apr}'"
   ]
  },
  {
   "cell_type": "code",
   "execution_count": 21,
   "id": "ab62fa83-8973-4989-8939-541b85f1b832",
   "metadata": {},
   "outputs": [],
   "source": [
    "class Savings(Account):\n",
    "    apr = 5.0\n",
    "    \n",
    "    def __init__(self):\n",
    "        self.account_type = 'Savings Account'"
   ]
  },
  {
   "cell_type": "code",
   "execution_count": 22,
   "id": "32751eb7-6a41-4225-aaa3-5c03057ce4c0",
   "metadata": {},
   "outputs": [
    {
     "data": {
      "text/plain": [
       "'Calc interest on Generic Account with APR = 3.0'"
      ]
     },
     "execution_count": 22,
     "metadata": {},
     "output_type": "execute_result"
    }
   ],
   "source": [
    "a = Account()\n",
    "a.calc_interest()"
   ]
  },
  {
   "cell_type": "code",
   "execution_count": 23,
   "id": "e6ba7fe1-15bf-4131-965f-c57af8d17902",
   "metadata": {},
   "outputs": [
    {
     "data": {
      "text/plain": [
       "'Calc interest on Savings Account with APR = 5.0'"
      ]
     },
     "execution_count": 23,
     "metadata": {},
     "output_type": "execute_result"
    }
   ],
   "source": [
    "s = Savings()\n",
    "s.calc_interest()"
   ]
  },
  {
   "cell_type": "markdown",
   "id": "1cf88681-e77d-4cff-918e-b3d85fa5e50e",
   "metadata": {},
   "source": [
    "# 05 - Delegating to Parent"
   ]
  },
  {
   "cell_type": "markdown",
   "id": "7bf0f5a2-137c-4055-94e7-1e9fe7e5d6d1",
   "metadata": {},
   "source": [
    "This is an important subsection. Consider the following code:"
   ]
  },
  {
   "cell_type": "code",
   "execution_count": 24,
   "id": "628d3fb9-f34c-43f0-a024-52ab12488bf3",
   "metadata": {},
   "outputs": [],
   "source": [
    "class Person:\n",
    "    def __init__(self, name, age):\n",
    "        self.name = name\n",
    "        self.age = age\n",
    "\n",
    "class Student(Person):\n",
    "    def __init__(self, name, age, major):\n",
    "        self.name = name\n",
    "        self.age = age\n",
    "        self.major = major"
   ]
  },
  {
   "cell_type": "markdown",
   "id": "b3647700-97f9-4d6b-a005-ff37d1e70211",
   "metadata": {},
   "source": [
    "Here we've overridden the `__init__` method, but we've had to copy a large chunk of the `__init__` code into our subclass. This goes against OOP where we try to use OOP principles to reduce repeated code. \n",
    "\n",
    "Instead, we should **delegate** back to the parent class for all the generics -> `super()` returns a **proxy object** - \"an object that delegates calls to the correct class methods without making an additional object in order to do so\". \n",
    "\n",
    "**But note:** the `self` argument of the parent method is *still* the instance that the method was **bound** to.\n",
    "\n",
    "This allows us to run the method in the parent class *as* it's defined in the parent class, even if we have an override in place."
   ]
  },
  {
   "cell_type": "code",
   "execution_count": 45,
   "id": "81b51f46-0625-4206-8935-7a5feadccf33",
   "metadata": {},
   "outputs": [],
   "source": [
    "class Person:\n",
    "    def __init__(self, name, age):\n",
    "        self.name = name\n",
    "        self.age = age\n",
    "        print(f\"self is an instance of {type(self).__name__} class\")\n",
    "\n",
    "class Student(Person):\n",
    "    def __init__(self, name, age, major):\n",
    "        super().__init__(name, age)\n",
    "        self.major = major"
   ]
  },
  {
   "cell_type": "code",
   "execution_count": 46,
   "id": "1c1c5e8b-70a9-4e86-af2d-29cc4594547f",
   "metadata": {},
   "outputs": [
    {
     "name": "stdout",
     "output_type": "stream",
     "text": [
      "self is an instance of Student class\n"
     ]
    },
    {
     "data": {
      "text/plain": [
       "('John', 20, 'math')"
      ]
     },
     "execution_count": 46,
     "metadata": {},
     "output_type": "execute_result"
    }
   ],
   "source": [
    "s = Student('John', 20, 'math')\n",
    "s.name, s.age, s.major"
   ]
  },
  {
   "cell_type": "markdown",
   "id": "a05294bf-e42f-4acb-b405-b7e87310cfd5",
   "metadata": {},
   "source": [
    "In general, you should always **delegate first** (call `super()` before doing anything). \n",
    "\n",
    "This is because calling `super()` later might overwrite stuff you did just before. \n",
    "\n",
    "Let's demonstrate that. \n",
    "\n",
    "In the example below, the `Student` class makes it clear that it only modifies `name` and `age` via `Person`, but the `Person` class also overwrites the `major` attribute."
   ]
  },
  {
   "cell_type": "code",
   "execution_count": 4,
   "id": "ccd3f631-b36f-4f7f-90e7-2a8ea0ad4dcd",
   "metadata": {},
   "outputs": [
    {
     "data": {
      "text/plain": [
       "'N/A'"
      ]
     },
     "execution_count": 4,
     "metadata": {},
     "output_type": "execute_result"
    }
   ],
   "source": [
    "class Person:\n",
    "    def __init__(self, name, age):\n",
    "        self.name = name\n",
    "        self.age = age\n",
    "        self.major = 'N/A'\n",
    "\n",
    "class Student(Person):\n",
    "    def __init__(self, name, age, major):\n",
    "        self.major = major\n",
    "        super().__init__(name, age)\n",
    "        \n",
    "\n",
    "s = Student('John', 24, 'Maths')\n",
    "s.major"
   ]
  },
  {
   "cell_type": "markdown",
   "id": "3a906475-54e6-466c-8410-5224d01a33d3",
   "metadata": {},
   "source": [
    "# 06 - Slots"
   ]
  },
  {
   "cell_type": "markdown",
   "id": "c5c6bc69-1ccc-4f22-b151-54368bf0fc77",
   "metadata": {},
   "source": [
    "Recall that instance attributes are normally stored in a dictionary bound to the class instance.\n",
    "\n",
    "Below `p`, the instance attribute has a `__dict__` property which stores its instance attributes `x` and `y`. This is known as an **instance dictionary**."
   ]
  },
  {
   "cell_type": "code",
   "execution_count": 5,
   "id": "1bca2355-e58e-4bb4-b48e-d0944427e1e1",
   "metadata": {},
   "outputs": [
    {
     "data": {
      "text/plain": [
       "{'x': 0, 'y': 0}"
      ]
     },
     "execution_count": 5,
     "metadata": {},
     "output_type": "execute_result"
    }
   ],
   "source": [
    "class Point:\n",
    "    def __init__(self, x, y):\n",
    "        self.x = x\n",
    "        self.y = y\n",
    "\n",
    "p = Point(0, 0)\n",
    "p.__dict__"
   ]
  },
  {
   "cell_type": "markdown",
   "id": "0d59a7a7-73bf-448b-943d-4e813472fd46",
   "metadata": {},
   "source": [
    "The problem with this is if we have *many* `Point`s. This will lead to *many* dictionaries, each with a significant overhead.\n",
    "\n",
    "Besides key-sharing (introduced in Python 3.3), Python implements **slots**.\n",
    "\n",
    "**Slots** of a class are used to tell Python that instances of our class will only contain certain **pre-determined** attributes. (Class attributes are unaffected.)\n",
    "\n",
    "With this information, Python will use a more compact data structure to store these **pre-determined** attributes instead of a **dictionary**. \n",
    "\n",
    "So `p.__dict__` will no longer be available, nor will `vars(p)` but `dir(p)` will be available.\n",
    "\n",
    "The `__slots__` variable takes an iterable containing our attribute names in string form: "
   ]
  },
  {
   "cell_type": "code",
   "execution_count": 17,
   "id": "95cbab1e-2e5b-4f4c-b2a3-c20a5fc5222e",
   "metadata": {},
   "outputs": [],
   "source": [
    "class Point:\n",
    "    __slots__ = ('x', 'y')\n",
    "    def __init__(self, x, y):\n",
    "        self.x = x\n",
    "        self.y = y"
   ]
  },
  {
   "cell_type": "markdown",
   "id": "21e6026a-df38-43b6-b35f-9341457dda5d",
   "metadata": {},
   "source": [
    "*Why not use slots everywhere?*\n",
    "\n",
    "**Slots** makes no difference to how we **use** instance attributes, only how its **stored**, *except* in one significant way.\n",
    "\n",
    "We **cannot** add any attributes to our object that are **not** defined the **slots**."
   ]
  },
  {
   "cell_type": "code",
   "execution_count": 18,
   "id": "fbb2edbb-69a4-44db-b49c-7e925fc05f2d",
   "metadata": {},
   "outputs": [
    {
     "data": {
      "text/plain": [
       "(100, 0)"
      ]
     },
     "execution_count": 18,
     "metadata": {},
     "output_type": "execute_result"
    }
   ],
   "source": [
    "p = Point(0, 0)\n",
    "p.x = 100\n",
    "p.x, p.y"
   ]
  },
  {
   "cell_type": "code",
   "execution_count": 19,
   "id": "c5ac39de-fc1a-4620-a8fe-9a2bfd50344a",
   "metadata": {},
   "outputs": [
    {
     "ename": "AttributeError",
     "evalue": "'Point' object has no attribute 'z'",
     "output_type": "error",
     "traceback": [
      "\u001b[1;31m---------------------------------------------------------------------------\u001b[0m",
      "\u001b[1;31mAttributeError\u001b[0m                            Traceback (most recent call last)",
      "Cell \u001b[1;32mIn[19], line 1\u001b[0m\n\u001b[1;32m----> 1\u001b[0m \u001b[43mp\u001b[49m\u001b[38;5;241;43m.\u001b[39;49m\u001b[43mz\u001b[49m \u001b[38;5;241m=\u001b[39m \u001b[38;5;241m200\u001b[39m\n",
      "\u001b[1;31mAttributeError\u001b[0m: 'Point' object has no attribute 'z'"
     ]
    }
   ],
   "source": [
    "p.z = 200"
   ]
  },
  {
   "cell_type": "markdown",
   "id": "cdb41165-3aec-4f3b-b61f-61c26a79d9f5",
   "metadata": {},
   "source": [
    "As a result, **slots** should really only be used when you need the memory savings; for example, if you are creating an object for each row of data in a database and you several thousand rows."
   ]
  },
  {
   "cell_type": "markdown",
   "id": "92ba62fc-6b36-4a52-a875-a7a15f97bc13",
   "metadata": {},
   "source": [
    "# 07 - Slots and Single Inheritance"
   ]
  },
  {
   "cell_type": "markdown",
   "id": "91b70541-e24f-427e-a117-c3e75b29ca92",
   "metadata": {},
   "source": [
    "Slots can be inherited via single inheritance .\n",
    "\n",
    "If a parent class uses slots for some given attributes, then the child class will use it too. \n",
    "\n",
    "But, the child class will have an **instance dictionary** (`__dict__`), but it won't contain the slotted variables."
   ]
  },
  {
   "cell_type": "code",
   "execution_count": 25,
   "id": "1642262d-3ad9-40bb-9716-19dbce2a6770",
   "metadata": {},
   "outputs": [],
   "source": [
    "class Person:\n",
    "    __slots__ = 'name',\n",
    "\n",
    "    def __init__(self, name):\n",
    "        self.name = name\n",
    "\n",
    "class Student(Person):\n",
    "    pass"
   ]
  },
  {
   "cell_type": "code",
   "execution_count": 26,
   "id": "53d19a97-3649-40df-b06f-09b6269f8d8d",
   "metadata": {},
   "outputs": [
    {
     "data": {
      "text/plain": [
       "{}"
      ]
     },
     "execution_count": 26,
     "metadata": {},
     "output_type": "execute_result"
    }
   ],
   "source": [
    "s = Student('Eric')\n",
    "s.__dict__"
   ]
  },
  {
   "cell_type": "markdown",
   "id": "c9512995-c6f5-4145-ad12-cdd9f0c013a2",
   "metadata": {},
   "source": [
    "So, we can we see that we have an instance dictionary to store attributes, but we won't find `\"name\"` there, since `\"name\"` is a **slot** defined in the parent class.\n",
    "\n",
    "We can add attributes because there's an instance dictionary, but if we wanted to freeze our subclass too, we could define `__slots__ = tuple()` for example."
   ]
  },
  {
   "cell_type": "markdown",
   "id": "c218f411-7e6d-4265-8f93-049deba17f0d",
   "metadata": {},
   "source": [
    "As a general rule, we should not redefine a slot attribute in a **subclass**. \n",
    "\n",
    "This will increase the memory usage but more importantly, this will hide the attribute defined in the parent class.\n",
    "\n",
    "What does this mean? If we access the slot variable in a child class, it will use the child's slot variable instead of the parent's. So if our parent's slot variable has a `property` and `setter`, none of these will be used."
   ]
  },
  {
   "cell_type": "markdown",
   "id": "65b32bbb-2a97-4a75-bcf0-7c254393c0d0",
   "metadata": {},
   "source": [
    "**Properties vs slotted attributes**\n",
    "\n",
    "These two are actually very similar to each other. For one, neither are stored in the **instance dictionary** (but both are stored in the class dictionary, `<class>.__dict__`). If a property e.g. `self.name` has a backing variable i.e. `self._name`, then `_name` will be present in the instance dictionary but not the property `name` itself.\n",
    "\n",
    "Their similarity is due to the fact that both use **data descriptors**. \n",
    "\n",
    "Slots essentially **create** properties. **Data descriptors** are classes that implement certain methods (`__get__`, `__set__`, etc.), just like we have iterators that implement the `__iter__` and `__next__` method as part of the iterator protocol."
   ]
  },
  {
   "cell_type": "markdown",
   "id": "74e55397-7852-4367-a7c3-7a7a828e49b5",
   "metadata": {},
   "source": [
    "**Best of both worlds**\n",
    "\n",
    "If want an instance that has both slotted variables and instance variables, there's a very simple solution. We simply add `\"__dict__\"` to the `__slots__`:"
   ]
  },
  {
   "cell_type": "code",
   "execution_count": 27,
   "id": "7c20984a-683e-4532-8e9f-81c23e5c67a2",
   "metadata": {},
   "outputs": [
    {
     "data": {
      "text/plain": [
       "('Alex', 24, {'age': 24})"
      ]
     },
     "execution_count": 27,
     "metadata": {},
     "output_type": "execute_result"
    }
   ],
   "source": [
    "class Person:\n",
    "    __slots__ = \"name\", \"__dict__\"\n",
    "\n",
    "    def __init__(self, name, age):\n",
    "        self.name = name\n",
    "        self.age = age\n",
    "\n",
    "p = Person(\"Alex\", 24)\n",
    "p.name, p.age, p.__dict__"
   ]
  },
  {
   "cell_type": "markdown",
   "id": "4327b292-735f-4936-b36d-8300cb4fd848",
   "metadata": {},
   "source": [
    "Since `__dict__` is now being created for all instances, the memory savings are now less than before."
   ]
  }
 ],
 "metadata": {
  "kernelspec": {
   "display_name": "Python 3 (ipykernel)",
   "language": "python",
   "name": "python3"
  },
  "language_info": {
   "codemirror_mode": {
    "name": "ipython",
    "version": 3
   },
   "file_extension": ".py",
   "mimetype": "text/x-python",
   "name": "python",
   "nbconvert_exporter": "python",
   "pygments_lexer": "ipython3",
   "version": "3.10.4"
  }
 },
 "nbformat": 4,
 "nbformat_minor": 5
}
