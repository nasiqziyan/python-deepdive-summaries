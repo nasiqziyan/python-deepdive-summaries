{
 "cells": [
  {
   "cell_type": "markdown",
   "id": "8b13a91b-dc21-4212-a917-b9bc766e9489",
   "metadata": {},
   "source": [
    "# Project 6 - Exceptions"
   ]
  },
  {
   "cell_type": "markdown",
   "id": "1dbec06b-53b2-43f5-950b-cca312777d7c",
   "metadata": {},
   "source": [
    "#### Description"
   ]
  },
  {
   "cell_type": "markdown",
   "id": "8831b851-9845-426e-964b-d3d9459d2d25",
   "metadata": {},
   "source": [
    "Suppose we have a Widget online sales application and we are writing the backend for it. We want a base `WidgetException` class that we will use as the base class for all our custom exceptions we raise from our Widget application."
   ]
  },
  {
   "cell_type": "markdown",
   "id": "9f2fef1a-d146-42d8-8e8a-bceacfe27605",
   "metadata": {},
   "source": [
    "Furthermore we have determined that we will need the following categories of exceptions:"
   ]
  },
  {
   "cell_type": "markdown",
   "id": "6913c4a7-bfa4-49e5-97ed-d473afb702d9",
   "metadata": {},
   "source": [
    "```\n",
    "1. Supplier exceptions\n",
    "    a. Not manufactured anymore\n",
    "    b. Production delayed\n",
    "    c. Shipping delayed\n",
    "    \n",
    "2. Checkout exceptions\n",
    "    a. Inventory type exceptions\n",
    "        - out of stock\n",
    "    b. Pricing exceptions\n",
    "        - invalid coupon code\n",
    "        - cannot stack coupons\n",
    "```"
   ]
  },
  {
   "cell_type": "markdown",
   "id": "9577739e-d126-4a3c-8634-6a7e39738b2d",
   "metadata": {},
   "source": [
    "Write an exception class hierarchy to capture this. In addition, we would like to implement the following functionality:\n",
    "* implement separate internal error message and user error message\n",
    "* implement an http status code associated to each exception type (keep it simple, use a 500 (server error) error for everything except invalid coupon code, and cannot stack coupons, these can be 400 (bad request)\n",
    "* implement a logging function that can be called to log the exception details, time it occurred, etc.\n",
    "* implement a function that can be called to produce a json string containing the exception details you want to display to your user (include http status code (e.g. 400), the user error message, etc)"
   ]
  },
  {
   "cell_type": "markdown",
   "id": "9823e2bd-a755-4df9-a3f8-01ff5066a685",
   "metadata": {},
   "source": [
    "##### Bonus"
   ]
  },
  {
   "cell_type": "markdown",
   "id": "8aac5952-a6d1-48e9-8296-12ca278ae354",
   "metadata": {},
   "source": [
    "Log the traceback too - you'll have to do a bit of research for that! \n",
    "\n",
    "I'm going to use the `TracebackException` class in the `traceback` module:\n",
    "\n",
    "https://docs.python.org/3/library/traceback.html#tracebackexception-objects"
   ]
  },
  {
   "cell_type": "markdown",
   "id": "6a2cec9b-f86b-4893-86da-1c7b006d6e21",
   "metadata": {},
   "source": [
    "In particular, look at the class method `from_exception` (and remember that inside your exception class, the exception will be `self`!) and the `format` instance method. That method returns a generator, so you'll need to `list` it to print out everything in that traceback."
   ]
  },
  {
   "cell_type": "markdown",
   "id": "e48166cb-75b2-4638-aa38-875c3208009a",
   "metadata": {},
   "source": [
    "#### Solution"
   ]
  },
  {
   "cell_type": "markdown",
   "id": "42c3ea53-decf-4bd6-8442-7fd9ef24b665",
   "metadata": {},
   "source": [
    "Let's first define our base class:\n",
    "\n",
    "Note: To get the traceback string that python (or jupyter) prints out for us, we need to use the `traceback` module. Since the `traceback.TracebackException.from_exception` expects an exception instance, we need to pass `self`. This function returns a generator which we'll need to consume inside our `log_exception` method."
   ]
  },
  {
   "cell_type": "code",
   "execution_count": 21,
   "id": "352d9f0e-7e7d-41d7-8003-35a9e9bf5958",
   "metadata": {},
   "outputs": [],
   "source": [
    "from http import HTTPStatus\n",
    "from datetime import datetime\n",
    "import traceback\n",
    "import json"
   ]
  },
  {
   "cell_type": "code",
   "execution_count": 22,
   "id": "f9ef1720-af24-4228-aab0-b2ca43068cc4",
   "metadata": {},
   "outputs": [],
   "source": [
    "class WidgetException(Exception):\n",
    "    message = 'Generic Widget exception.'\n",
    "    http_status = HTTPStatus.INTERNAL_SERVER_ERROR\n",
    "    \n",
    "    def __init__(self, *args, customer_message=None):\n",
    "        super().__init__(*args)\n",
    "        if args:\n",
    "            self.message = args[0]\n",
    "        self.customer_message = customer_message if customer_message is not None else self.message\n",
    "        \n",
    "    @property\n",
    "    def traceback(self):\n",
    "        return traceback.TracebackException.from_exception(self).format()\n",
    "    \n",
    "    def log_exception(self):\n",
    "        exception = {\n",
    "            \"type\": type(self).__name__,\n",
    "            \"message\": self.message,\n",
    "            \"args\": self.args[1:],\n",
    "            \"traceback\": list(self.traceback)\n",
    "        }\n",
    "        print(f'EXCEPTION: {datetime.utcnow().isoformat()}: {exception}')\n",
    "        \n",
    "    def to_json(self):\n",
    "        response = {\n",
    "            'code': self.http_status.value,\n",
    "            'message': '{}: {}'.format(self.http_status.phrase, self.customer_message),\n",
    "            'category': type(self).__name__,\n",
    "            'time_utc': datetime.utcnow().isoformat()            \n",
    "        }\n",
    "        return json.dumps(response)"
   ]
  },
  {
   "cell_type": "markdown",
   "id": "c5aad0a0-0b92-4c22-9697-df10ffc2e603",
   "metadata": {},
   "source": [
    "Now we can define our exception sub types, including the http status for each:"
   ]
  },
  {
   "cell_type": "code",
   "execution_count": 23,
   "id": "f6064434-8b91-4411-bd9f-a6e8b805b185",
   "metadata": {},
   "outputs": [],
   "source": [
    "class SupplierException(WidgetException):\n",
    "    message = 'Supplier exception.'\n",
    "    http_status = HTTPStatus.INTERNAL_SERVER_ERROR\n",
    "\n",
    "class NotManufacturedException(SupplierException):\n",
    "    message = 'Widget is no longer manufactured by supplier.'\n",
    "    http_status = HTTPStatus.INTERNAL_SERVER_ERROR\n",
    "    \n",
    "class ProductionDelayedException(SupplierException):\n",
    "    message = 'Widget production has been delayed by supplier.'\n",
    "    http_status = HTTPStatus.INTERNAL_SERVER_ERROR\n",
    "    \n",
    "class ShippingDelayedException(SupplierException):\n",
    "    message = 'Widget shipping has been delayed by supplier.'\n",
    "    http_status = HTTPStatus.INTERNAL_SERVER_ERROR\n",
    "    \n",
    "class CheckoutException(WidgetException):\n",
    "    message = 'Checkout exception.'\n",
    "    http_status = HTTPStatus.INTERNAL_SERVER_ERROR\n",
    "    \n",
    "class InventoryException(CheckoutException):\n",
    "    message = 'Checkout inventory exception.'\n",
    "    http_status = HTTPStatus.INTERNAL_SERVER_ERROR\n",
    "    \n",
    "class OutOfStockException(InventoryException):\n",
    "    message = 'Inventory out of stock'\n",
    "    http_status = HTTPStatus.INTERNAL_SERVER_ERROR\n",
    "    \n",
    "class PricingException(CheckoutException):\n",
    "    message = 'Checkout pricing exception.'\n",
    "    http_status = HTTPStatus.INTERNAL_SERVER_ERROR\n",
    "    \n",
    "class InvalidCouponCodeException(PricingException):\n",
    "    message = 'Invalid checkout coupon code.'\n",
    "    http_status = HTTPStatus.BAD_REQUEST\n",
    "    \n",
    "class CannotStackCouponException(PricingException):\n",
    "    message = 'Cannot stack checkout coupon codes.'\n",
    "    http_status = HTTPStatus.BAD_REQUEST"
   ]
  },
  {
   "cell_type": "markdown",
   "id": "6c501e26-7c86-42c5-a5f9-98002466b4b5",
   "metadata": {},
   "source": [
    "Let's try out an example:"
   ]
  },
  {
   "cell_type": "code",
   "execution_count": 24,
   "id": "9ca9e9af-8c94-4e58-bf1f-7133d01da811",
   "metadata": {},
   "outputs": [],
   "source": [
    "e = InvalidCouponCodeException('User tried to pull a fast one on us', customer_message='Sorry. This coupon has expired.')"
   ]
  },
  {
   "cell_type": "code",
   "execution_count": 25,
   "id": "4298e0ee-e2c9-4d1c-8dd0-40e17de1e93d",
   "metadata": {},
   "outputs": [
    {
     "name": "stdout",
     "output_type": "stream",
     "text": [
      "EXCEPTION: 2024-10-25T11:19:54.760052: {'type': 'InvalidCouponCodeException', 'message': 'User tried to pull a fast one on us', 'args': (), 'traceback': ['InvalidCouponCodeException: User tried to pull a fast one on us\\n']}\n"
     ]
    }
   ],
   "source": [
    "e.log_exception()"
   ]
  },
  {
   "cell_type": "code",
   "execution_count": 26,
   "id": "4d6c9bce-fa0c-4fd2-98ae-da856ef2afb4",
   "metadata": {},
   "outputs": [
    {
     "data": {
      "text/plain": [
       "'{\"code\": 400, \"message\": \"Bad Request: Sorry. This coupon has expired.\", \"category\": \"InvalidCouponCodeException\", \"time_utc\": \"2024-10-25T11:19:54.952985\"}'"
      ]
     },
     "execution_count": 26,
     "metadata": {},
     "output_type": "execute_result"
    }
   ],
   "source": [
    "e.to_json()"
   ]
  },
  {
   "cell_type": "markdown",
   "id": "1813bb8e-ac06-4e4c-9675-afefa31f15e6",
   "metadata": {},
   "source": [
    "Note:\n",
    "- how we pass the user a message different to what we log.\n",
    "- our traceback was empty above (the exception is present, but there is no call stack) - because we did not actually raise the exception!"
   ]
  },
  {
   "cell_type": "markdown",
   "id": "8c9c5f09-3283-4368-ac9f-22d99deac0bc",
   "metadata": {},
   "source": [
    "Let's actually raise the exception now:"
   ]
  },
  {
   "cell_type": "code",
   "execution_count": 27,
   "id": "32230040-1ed0-4666-bf64-8ac28d8edffa",
   "metadata": {},
   "outputs": [
    {
     "name": "stdout",
     "output_type": "stream",
     "text": [
      "EXCEPTION: 2024-10-25T11:22:28.142061: {'type': 'InvalidCouponCodeException', 'message': 'User tried to use an old coupon', 'args': (), 'traceback': ['Traceback (most recent call last):\\n', '  File \"C:\\\\Users\\\\nasiq\\\\AppData\\\\Local\\\\Temp\\\\ipykernel_12224\\\\3487775253.py\", line 2, in <module>\\n    raise ValueError\\n', 'ValueError\\n', '\\nDuring handling of the above exception, another exception occurred:\\n\\n', 'Traceback (most recent call last):\\n', '  File \"C:\\\\Users\\\\nasiq\\\\AppData\\\\Local\\\\Temp\\\\ipykernel_12224\\\\3487775253.py\", line 5, in <module>\\n    raise InvalidCouponCodeException(\\n', 'InvalidCouponCodeException: User tried to use an old coupon\\n']}\n",
      "------------\n",
      "{\"code\": 400, \"message\": \"Bad Request: Sorry. This coupon has expired.\", \"category\": \"InvalidCouponCodeException\", \"time_utc\": \"2024-10-25T11:22:28.142061\"}\n",
      "------------\n",
      "Traceback (most recent call last):\n",
      "  File \"C:\\Users\\nasiq\\AppData\\Local\\Temp\\ipykernel_12224\\3487775253.py\", line 2, in <module>\n",
      "    raise ValueError\n",
      "ValueError\n",
      "\n",
      "During handling of the above exception, another exception occurred:\n",
      "\n",
      "Traceback (most recent call last):\n",
      "  File \"C:\\Users\\nasiq\\AppData\\Local\\Temp\\ipykernel_12224\\3487775253.py\", line 5, in <module>\n",
      "    raise InvalidCouponCodeException(\n",
      "InvalidCouponCodeException: User tried to use an old coupon\n",
      "\n"
     ]
    }
   ],
   "source": [
    "try:\n",
    "    raise ValueError\n",
    "except ValueError:\n",
    "    try:\n",
    "        raise InvalidCouponCodeException(\n",
    "            'User tried to use an old coupon', customer_message='Sorry. This coupon has expired.'\n",
    "        )\n",
    "    except InvalidCouponCodeException as ex:\n",
    "        ex.log_exception()\n",
    "        print('------------')\n",
    "        print(ex.to_json())\n",
    "        print('------------')\n",
    "        print(''.join(ex.traceback))"
   ]
  }
 ],
 "metadata": {
  "kernelspec": {
   "display_name": "Python 3 (ipykernel)",
   "language": "python",
   "name": "python3"
  },
  "language_info": {
   "codemirror_mode": {
    "name": "ipython",
    "version": 3
   },
   "file_extension": ".py",
   "mimetype": "text/x-python",
   "name": "python",
   "nbconvert_exporter": "python",
   "pygments_lexer": "ipython3",
   "version": "3.10.4"
  }
 },
 "nbformat": 4,
 "nbformat_minor": 5
}
