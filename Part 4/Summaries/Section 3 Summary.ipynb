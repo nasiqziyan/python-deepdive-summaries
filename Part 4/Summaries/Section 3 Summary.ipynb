{
 "cells": [
  {
   "cell_type": "markdown",
   "id": "7552a827-04e0-4ed0-8e57-93d591d34f5f",
   "metadata": {},
   "source": [
    "My approach for summarising this section/project will be to cut out most, if not all, of the intermediate steps found in the original solutions for the sake of brevity."
   ]
  },
  {
   "cell_type": "markdown",
   "id": "16ba5a44-ef7b-4955-9c92-e9eb12731f3b",
   "metadata": {},
   "source": [
    "# 01 - Project 1"
   ]
  },
  {
   "cell_type": "markdown",
   "id": "42f8acf5-d249-49f8-99ef-a898ff01af10",
   "metadata": {},
   "source": [
    "We need to design an dimplement a class that will be used to represent bank accounts.\n",
    "\n",
    "We want the following functionality and characteristics:\n",
    "- accounts are uniquely identified by an **account number** (assume it will just be passed in the initializer)\n",
    "- account holders have a **first** and **last** name\n",
    "- accounts have an associated **preferred time zone offset** (e.g. -7 for MST)\n",
    "- **balances** need to be zero or higher, and should not be directly settable.\n",
    "- but, **deposits** and **withdrawals** can be made (given sufficient funds)\n",
    "    - if a withdrawal is attempted that would result in nagative funds, the transaction should be declined.\n",
    "- a **monthly interest rate** exists and is applicable to all accounts **uniformly**. There should be a method that can be called to calculate the interest on the current balance using the current interest rate, and **add it** to the balance.\n",
    "- each deposit and withdrawal must generate a **confirmation number** composed of:\n",
    "    - the transaction type: `D` for deposit, and `W` for withdrawal, `I` for interest deposit, and `X` for declined (in which case the balance remains unaffected)\n",
    "    - the account number\n",
    "    - the time the transaction was made, using UTC\n",
    "    - an incrementing number (that increments across all accounts and transactions)\n",
    "    - for (extreme!) simplicity assume that the transaction id starts at zero (or whatever number you choose) whenever the program starts\n",
    "    - the confirmation number should be returned from any of the transaction methods (deposit, withdraw, etc)\n",
    "- create a **method** that, given a confirmation number, returns:\n",
    "    - the account number, transaction code (D, W, etc), datetime (UTC format), date time (in whatever timezone is specified in te argument, but more human readable), the transaction ID\n",
    "    - make it so it is a nicely structured object (so can use dotted notation to access these three attributes)\n",
    "    - I purposefully made it so the desired timezone is passed as an argument. Can you figure out why? (hint: does this method require any information from any instance?)"
   ]
  },
  {
   "cell_type": "markdown",
   "id": "ae513787-de7c-4ae7-bcef-b95e9d6416ab",
   "metadata": {},
   "source": [
    "For example, we may have an account with:\n",
    "- account number `140568` \n",
    "- preferred time zone offset of -7 (MST) \n",
    "- an existing balance of `100.00`\n",
    "\n",
    "Suppose the last transaction ID in the system was `123`, and a deposit is made for `50.00` on `2019-03-15T14:59:00` (UTC) on that account (or `2019-03-15T07:59:00` in account's preferred time zone offset)\n",
    "\n",
    "The new balance should reflect `150.00` and the confirmation number returned should look something like this:\n",
    "\n",
    "```D-140568-20190315145900-124```\n",
    "\n",
    "We also want a method that given the confirmation number returns an object with attributes:\n",
    "- `result.account_number` --> `140568`\n",
    "- `result.transaction_code` --> `D`\n",
    "- `result.transaction_id` --> `124`\n",
    "- `result.time` --> `2019-03-15 07:59:00 (MST)`\n",
    "- `result.time_utc` --> `2019-03-15T14:59:00`"
   ]
  },
  {
   "cell_type": "markdown",
   "id": "2b99ea76-b0a6-4eca-90a0-3d98376bd5f5",
   "metadata": {},
   "source": [
    "Furthermore, if current interest rate is `0.5%`, and the account's balance is `1000.00`, then the result of calling the `deposit_interest` (or whatever name you choose) method, should result in a new transaction and a new balance of `1050.00`. Calling this method should also return a confirmation number.\n",
    "\n",
    "For simplicty, just use floats, but be aware that for these types of situations you'll probably want to use `Decimal` objects instead of floats."
   ]
  },
  {
   "cell_type": "markdown",
   "id": "c42b9666-e76b-4231-8617-2ecb8d4a577b",
   "metadata": {},
   "source": [
    "There are going to be many ways to design something like this, especially since I have not nailed down all the specific requirements, so you'll have to fill the gaps yourself and decide what other things you may want to implement (like is the account number going to be a mutable property, or \"read-only\" and so on).\n",
    "\n",
    "See how many different ideas you can use from what we covered in the last section. "
   ]
  },
  {
   "cell_type": "markdown",
   "id": "1b10f497-460c-46ef-8113-5ae52438433e",
   "metadata": {},
   "source": [
    "My approach will end up creating two classes: a `TimeZone` class used to store the time zone name and offset definition (in hours and minutes), and a main class called `Account` that will have the following \"public\" interface:\n",
    "- initializer with account number, first name, last name, optional preferred time zone, starting balance (defaults to 0)\n",
    "- a first name property (read/write)\n",
    "- a last name property (read/write)\n",
    "- a full name property (computed, read-only)\n",
    "- a balance property (read-only)\n",
    "- an interest rate property (class level property)\n",
    "- deposit, withdraw, pay_interest methods\n",
    "- parse confirmation code\n",
    "\n",
    "Class will have additional state and methods, but those will be used for implementation."
   ]
  },
  {
   "cell_type": "markdown",
   "id": "381ddfec-ad70-4c0a-ba55-4ba0f8c93215",
   "metadata": {},
   "source": [
    "You should also remember to test your code! In the solutions I will introduce you to Python's `unittest` package. Even if you skip this project, at least review that video and/or notebook if you are unfamiliar with `unittest`."
   ]
  },
  {
   "cell_type": "markdown",
   "id": "d793213a-39af-4fa6-862e-39c416059efc",
   "metadata": {},
   "source": [
    "# 02 - TimeZone Class"
   ]
  },
  {
   "cell_type": "markdown",
   "id": "bfa5e63e-bdf4-4f23-a47a-249e6fc50826",
   "metadata": {},
   "source": [
    "First, we want to create a class called `TimeZone` instantiated with a `name`, `offset_hours` and `offset_minutes`. It will have two instance properties (read-only) that are the `name` and the `offset` (a `timedelta` object made from the passed in hours and minutes).\n",
    "\n",
    "We should be able to use it like so:\n",
    "```python\n",
    "tz1 = TimeZone('ABC', -2, -15)\n",
    "dt = datetime.utcnow() --> 2019-06-02 23:27:15.937254\n",
    "print(dt + tz1.offset) --> 2019-06-02 21:12:15.937254\n",
    "```\n",
    "\n",
    "With regards to error handling:\n",
    "- The name should be a string with no whitespace and not `None`.\n",
    "- The hours and minutes offsets must be integers.\n",
    "- The minutes offset must be between -59 and 59 inclusive.\n",
    "- The total offset must be between -12:00 and +14:00. (If someone sets `hours_offset = -12` and `minutes_offset = -30`, that should raise an error"
   ]
  },
  {
   "cell_type": "code",
   "execution_count": 15,
   "id": "79cd0a5c-ab9f-4cfc-ac6e-fd5706c8b7db",
   "metadata": {},
   "outputs": [],
   "source": [
    "import numbers\n",
    "from datetime import timedelta\n",
    "\n",
    "class TimeZone:\n",
    "    def __init__(self, name, offset_hours, offset_minutes):\n",
    "        if name is None or len(str(name).strip()) == 0:\n",
    "            raise ValueError('Timezone name cannot be empty.')\n",
    "            \n",
    "        self._name = str(name).strip()\n",
    "        \n",
    "        if not isinstance(offset_hours, numbers.Integral):\n",
    "            raise ValueError('Hour offset must be an integer.')\n",
    "        \n",
    "        if not isinstance(offset_minutes, numbers.Integral):\n",
    "            raise ValueError('Minutes offset must be an integer.')\n",
    "            \n",
    "        if abs(offset_minutes) > 59:\n",
    "            raise ValueError('Minutes offset must between -59 and 59 (inclusive).')\n",
    "            \n",
    "        # for time delta sign of minutes will be set to sign of hours\n",
    "        offset = timedelta(hours=offset_hours, minutes=offset_minutes)\n",
    "\n",
    "        # offsets are technically bounded between -12:00 and 14:00\n",
    "        # see: https://en.wikipedia.org/wiki/List_of_UTC_time_offsets\n",
    "        if offset < timedelta(hours=-12, minutes=0) or offset > timedelta(hours=14, minutes=0):\n",
    "            raise ValueError('Offset must be between -12:00 and +14:00.')\n",
    "            \n",
    "        self._offset_hours = offset_hours\n",
    "        self._offset_minutes = offset_minutes\n",
    "        self._offset = offset\n",
    "        \n",
    "    @property\n",
    "    def offset(self):\n",
    "        return self._offset\n",
    "    \n",
    "    @property\n",
    "    def name(self):\n",
    "        return self._name\n",
    "    \n",
    "    def __eq__(self, other):\n",
    "        return (isinstance(other, TimeZone) and \n",
    "                self.name == other.name and \n",
    "                self._offset_hours == other._offset_hours and\n",
    "                self._offset_minutes == other._offset_minutes)\n",
    "    def __repr__(self):\n",
    "        return (f\"TimeZone(name='{self.name}', \"\n",
    "                f\"offset_hours={self._offset_hours}, \"\n",
    "                f\"offset_minutes={self._offset_minutes})\")"
   ]
  },
  {
   "cell_type": "code",
   "execution_count": 16,
   "id": "ef5105f8-f568-42d2-b785-f2e3f2b579df",
   "metadata": {},
   "outputs": [
    {
     "data": {
      "text/plain": [
       "'ABC'"
      ]
     },
     "execution_count": 16,
     "metadata": {},
     "output_type": "execute_result"
    }
   ],
   "source": [
    "tz1 = TimeZone('ABC', -2, -15)\n",
    "tz1.name"
   ]
  },
  {
   "cell_type": "code",
   "execution_count": 17,
   "id": "ce07f710-8d88-49f9-9b10-30215bfa9a26",
   "metadata": {},
   "outputs": [
    {
     "name": "stdout",
     "output_type": "stream",
     "text": [
      "2024-06-30 18:16:24.618444\n"
     ]
    }
   ],
   "source": [
    "from datetime import datetime\n",
    "\n",
    "dt = datetime.utcnow()\n",
    "print(dt)"
   ]
  },
  {
   "cell_type": "code",
   "execution_count": 18,
   "id": "cbade558-4087-4cfe-8283-bdbf813d75ff",
   "metadata": {},
   "outputs": [
    {
     "name": "stdout",
     "output_type": "stream",
     "text": [
      "2024-06-30 16:01:24.618444\n"
     ]
    }
   ],
   "source": [
    "print(dt + tz1.offset)"
   ]
  },
  {
   "cell_type": "markdown",
   "id": "c70dc362-5cae-48d2-99ca-0945d4cd6bf1",
   "metadata": {},
   "source": [
    "As we can see the offset seems to be working (-2:15 from current time)"
   ]
  },
  {
   "cell_type": "markdown",
   "id": "5a160c94-9087-4739-8a74-972010a298a1",
   "metadata": {},
   "source": [
    "# 03 - Transaction Numbers"
   ]
  },
  {
   "cell_type": "markdown",
   "id": "5ca0c4f1-19ba-4b64-96b8-65ac3538451a",
   "metadata": {},
   "source": [
    "# 04 - Account Number, First Name, Last Name"
   ]
  },
  {
   "cell_type": "markdown",
   "id": "d61f7db4-ca70-4272-aabe-7eb9cedf5f29",
   "metadata": {},
   "source": [
    "# 05 - Adding Preferred TimeZone Property"
   ]
  },
  {
   "cell_type": "markdown",
   "id": "173e05b9-8349-465c-9ce6-016d558d28ce",
   "metadata": {},
   "source": [
    "# 06 - Balance"
   ]
  },
  {
   "cell_type": "markdown",
   "id": "e553d2f7-f644-428e-a94b-6fe474574c56",
   "metadata": {},
   "source": [
    "# 07 - Interest Rate"
   ]
  },
  {
   "cell_type": "markdown",
   "id": "d49bedd9-3caa-418e-bb2c-498f90ae9fb2",
   "metadata": {},
   "source": [
    "# 08 - Transaction Codes"
   ]
  },
  {
   "cell_type": "markdown",
   "id": "dd6d48a6-3319-4825-9776-1178f8b243f6",
   "metadata": {},
   "source": [
    "# 09 - Confirmation Code"
   ]
  },
  {
   "cell_type": "markdown",
   "id": "dff437d3-97e8-4e2a-a0c2-f583d73ec760",
   "metadata": {},
   "source": [
    "# 10 - Transactions"
   ]
  },
  {
   "cell_type": "markdown",
   "id": "c448c7bd-7ccd-4f2b-8bdd-eec977dd014a",
   "metadata": {},
   "source": [
    "# 11 - Testing using unittest"
   ]
  }
 ],
 "metadata": {
  "kernelspec": {
   "display_name": "Python 3 (ipykernel)",
   "language": "python",
   "name": "python3"
  },
  "language_info": {
   "codemirror_mode": {
    "name": "ipython",
    "version": 3
   },
   "file_extension": ".py",
   "mimetype": "text/x-python",
   "name": "python",
   "nbconvert_exporter": "python",
   "pygments_lexer": "ipython3",
   "version": "3.10.4"
  }
 },
 "nbformat": 4,
 "nbformat_minor": 5
}
