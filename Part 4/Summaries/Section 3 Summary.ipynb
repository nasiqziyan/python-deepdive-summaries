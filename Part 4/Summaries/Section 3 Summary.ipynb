{
 "cells": [
  {
   "cell_type": "markdown",
   "id": "7552a827-04e0-4ed0-8e57-93d591d34f5f",
   "metadata": {},
   "source": [
    "My approach for summarising this section/project will be to cut out most, if not all, of the intermediate steps found in the original solutions for the sake of brevity."
   ]
  },
  {
   "cell_type": "markdown",
   "id": "16ba5a44-ef7b-4955-9c92-e9eb12731f3b",
   "metadata": {},
   "source": [
    "# 01 - Project 1"
   ]
  },
  {
   "cell_type": "markdown",
   "id": "42f8acf5-d249-49f8-99ef-a898ff01af10",
   "metadata": {},
   "source": [
    "We need to design an dimplement a class that will be used to represent bank accounts.\n",
    "\n",
    "We want the following functionality and characteristics:\n",
    "- accounts are uniquely identified by an **account number** (assume it will just be passed in the initializer)\n",
    "- account holders have a **first** and **last** name\n",
    "- accounts have an associated **preferred time zone offset** (e.g. -7 for MST)\n",
    "- **balances** need to be zero or higher, and should not be directly settable.\n",
    "- but, **deposits** and **withdrawals** can be made (given sufficient funds)\n",
    "    - if a withdrawal is attempted that would result in nagative funds, the transaction should be declined.\n",
    "- a **monthly interest rate** exists and is applicable to all accounts **uniformly**. There should be a method that can be called to calculate the interest on the current balance using the current interest rate, and **add it** to the balance.\n",
    "- each deposit and withdrawal must generate a **confirmation number** composed of:\n",
    "    - the transaction type: `D` for deposit, and `W` for withdrawal, `I` for interest deposit, and `X` for declined (in which case the balance remains unaffected)\n",
    "    - the account number\n",
    "    - the time the transaction was made, using UTC\n",
    "    - an incrementing number (that increments across all accounts and transactions)\n",
    "    - for (extreme!) simplicity assume that the transaction id starts at zero (or whatever number you choose) whenever the program starts\n",
    "    - the confirmation number should be returned from any of the transaction methods (deposit, withdraw, etc)\n",
    "- create a **method** that, given a confirmation number, returns:\n",
    "    - the account number, transaction code (D, W, etc), datetime (UTC format), date time (in whatever timezone is specified in te argument, but more human readable), the transaction ID\n",
    "    - make it so it is a nicely structured object (so can use dotted notation to access these three attributes)\n",
    "    - I purposefully made it so the desired timezone is passed as an argument. Can you figure out why? (hint: does this method require any information from any instance?)"
   ]
  },
  {
   "cell_type": "markdown",
   "id": "ae513787-de7c-4ae7-bcef-b95e9d6416ab",
   "metadata": {},
   "source": [
    "For example, we may have an account with:\n",
    "- account number `140568` \n",
    "- preferred time zone offset of -7 (MST) \n",
    "- an existing balance of `100.00`\n",
    "\n",
    "Suppose the last transaction ID in the system was `123`, and a deposit is made for `50.00` on `2019-03-15T14:59:00` (UTC) on that account (or `2019-03-15T07:59:00` in account's preferred time zone offset)\n",
    "\n",
    "The new balance should reflect `150.00` and the confirmation number returned should look something like this:\n",
    "\n",
    "```D-140568-20190315145900-124```\n",
    "\n",
    "We also want a method that given the confirmation number returns an object with attributes:\n",
    "- `result.account_number` --> `140568`\n",
    "- `result.transaction_code` --> `D`\n",
    "- `result.transaction_id` --> `124`\n",
    "- `result.time` --> `2019-03-15 07:59:00 (MST)`\n",
    "- `result.time_utc` --> `2019-03-15T14:59:00`"
   ]
  },
  {
   "cell_type": "markdown",
   "id": "2b99ea76-b0a6-4eca-90a0-3d98376bd5f5",
   "metadata": {},
   "source": [
    "Furthermore, if current interest rate is `0.5%`, and the account's balance is `1000.00`, then the result of calling the `deposit_interest` (or whatever name you choose) method, should result in a new transaction and a new balance of `1050.00`. Calling this method should also return a confirmation number.\n",
    "\n",
    "For simplicty, just use floats, but be aware that for these types of situations you'll probably want to use `Decimal` objects instead of floats."
   ]
  },
  {
   "cell_type": "markdown",
   "id": "c42b9666-e76b-4231-8617-2ecb8d4a577b",
   "metadata": {},
   "source": [
    "There are going to be many ways to design something like this, especially since I have not nailed down all the specific requirements, so you'll have to fill the gaps yourself and decide what other things you may want to implement (like is the account number going to be a mutable property, or \"read-only\" and so on).\n",
    "\n",
    "See how many different ideas you can use from what we covered in the last section. "
   ]
  },
  {
   "cell_type": "markdown",
   "id": "1b10f497-460c-46ef-8113-5ae52438433e",
   "metadata": {},
   "source": [
    "My approach will end up creating two classes: a `TimeZone` class used to store the time zone name and offset definition (in hours and minutes), and a main class called `Account` that will have the following \"public\" interface:\n",
    "- initializer with account number, first name, last name, optional preferred time zone, starting balance (defaults to 0)\n",
    "- a first name property (read/write)\n",
    "- a last name property (read/write)\n",
    "- a full name property (computed, read-only)\n",
    "- a balance property (read-only)\n",
    "- an interest rate property (class level property)\n",
    "- deposit, withdraw, pay_interest methods\n",
    "- parse confirmation code\n",
    "\n",
    "Class will have additional state and methods, but those will be used for implementation."
   ]
  },
  {
   "cell_type": "markdown",
   "id": "381ddfec-ad70-4c0a-ba55-4ba0f8c93215",
   "metadata": {},
   "source": [
    "You should also remember to test your code! In the solutions I will introduce you to Python's `unittest` package. Even if you skip this project, at least review that video and/or notebook if you are unfamiliar with `unittest`."
   ]
  },
  {
   "cell_type": "markdown",
   "id": "d793213a-39af-4fa6-862e-39c416059efc",
   "metadata": {},
   "source": [
    "# 02 - TimeZone Class"
   ]
  },
  {
   "cell_type": "markdown",
   "id": "bfa5e63e-bdf4-4f23-a47a-249e6fc50826",
   "metadata": {},
   "source": [
    "First, we want to create a class called `TimeZone` instantiated with a `name`, `offset_hours` and `offset_minutes`. It will have two instance properties (read-only) that are the `name` and the `offset` (a `timedelta` object made from the passed in hours and minutes).\n",
    "\n",
    "We should be able to use it like so:\n",
    "```python\n",
    "tz1 = TimeZone('ABC', -2, -15)\n",
    "dt = datetime.utcnow() --> 2019-06-02 23:27:15.937254\n",
    "print(dt + tz1.offset) --> 2019-06-02 21:12:15.937254\n",
    "```\n",
    "\n",
    "With regards to error handling:\n",
    "- The name should be a string with no whitespace and not `None`.\n",
    "- The hours and minutes offsets must be integers.\n",
    "- The minutes offset must be between -59 and 59 inclusive.\n",
    "- The total offset must be between -12:00 and +14:00. (If someone sets `hours_offset = -12` and `minutes_offset = -30`, that should raise an error"
   ]
  },
  {
   "cell_type": "code",
   "execution_count": 2,
   "id": "79cd0a5c-ab9f-4cfc-ac6e-fd5706c8b7db",
   "metadata": {},
   "outputs": [],
   "source": [
    "import numbers\n",
    "from datetime import timedelta\n",
    "\n",
    "class TimeZone:\n",
    "    def __init__(self, name, offset_hours, offset_minutes):\n",
    "        if name is None or len(str(name).strip()) == 0:\n",
    "            raise ValueError('Timezone name cannot be empty.')\n",
    "            \n",
    "        self._name = str(name).strip()\n",
    "        \n",
    "        if not isinstance(offset_hours, numbers.Integral):\n",
    "            raise ValueError('Hour offset must be an integer.')\n",
    "        \n",
    "        if not isinstance(offset_minutes, numbers.Integral):\n",
    "            raise ValueError('Minutes offset must be an integer.')\n",
    "            \n",
    "        if abs(offset_minutes) > 59:\n",
    "            raise ValueError('Minutes offset must between -59 and 59 (inclusive).')\n",
    "            \n",
    "        # for time delta sign of minutes will be set to sign of hours\n",
    "        offset = timedelta(hours=offset_hours, minutes=offset_minutes)\n",
    "\n",
    "        # offsets are technically bounded between -12:00 and 14:00\n",
    "        # see: https://en.wikipedia.org/wiki/List_of_UTC_time_offsets\n",
    "        if offset < timedelta(hours=-12, minutes=0) or offset > timedelta(hours=14, minutes=0):\n",
    "            raise ValueError('Offset must be between -12:00 and +14:00.')\n",
    "            \n",
    "        self._offset_hours = offset_hours\n",
    "        self._offset_minutes = offset_minutes\n",
    "        self._offset = offset\n",
    "        \n",
    "    @property\n",
    "    def offset(self):\n",
    "        return self._offset\n",
    "    \n",
    "    @property\n",
    "    def name(self):\n",
    "        return self._name\n",
    "    \n",
    "    def __eq__(self, other):\n",
    "        return (isinstance(other, TimeZone) and \n",
    "                self.name == other.name and \n",
    "                self._offset_hours == other._offset_hours and\n",
    "                self._offset_minutes == other._offset_minutes)\n",
    "    def __repr__(self):\n",
    "        return (f\"TimeZone(name='{self.name}', \"\n",
    "                f\"offset_hours={self._offset_hours}, \"\n",
    "                f\"offset_minutes={self._offset_minutes})\")"
   ]
  },
  {
   "cell_type": "code",
   "execution_count": 3,
   "id": "ef5105f8-f568-42d2-b785-f2e3f2b579df",
   "metadata": {},
   "outputs": [
    {
     "data": {
      "text/plain": [
       "'ABC'"
      ]
     },
     "execution_count": 3,
     "metadata": {},
     "output_type": "execute_result"
    }
   ],
   "source": [
    "tz1 = TimeZone('ABC', -2, -15)\n",
    "tz1.name"
   ]
  },
  {
   "cell_type": "code",
   "execution_count": 4,
   "id": "ce07f710-8d88-49f9-9b10-30215bfa9a26",
   "metadata": {},
   "outputs": [
    {
     "name": "stdout",
     "output_type": "stream",
     "text": [
      "2024-07-03 14:49:56.236368\n"
     ]
    }
   ],
   "source": [
    "from datetime import datetime\n",
    "\n",
    "dt = datetime.utcnow()\n",
    "print(dt)"
   ]
  },
  {
   "cell_type": "code",
   "execution_count": 5,
   "id": "cbade558-4087-4cfe-8283-bdbf813d75ff",
   "metadata": {},
   "outputs": [
    {
     "name": "stdout",
     "output_type": "stream",
     "text": [
      "2024-07-03 12:34:56.236368\n"
     ]
    }
   ],
   "source": [
    "print(dt + tz1.offset)"
   ]
  },
  {
   "cell_type": "markdown",
   "id": "c70dc362-5cae-48d2-99ca-0945d4cd6bf1",
   "metadata": {},
   "source": [
    "As we can see the offset seems to be working (-2:15 from current time)"
   ]
  },
  {
   "cell_type": "markdown",
   "id": "5a160c94-9087-4739-8a74-972010a298a1",
   "metadata": {},
   "source": [
    "# 03 - Transaction Numbers"
   ]
  },
  {
   "cell_type": "markdown",
   "id": "cc8dc30e-2542-475c-bbbb-6538e448d985",
   "metadata": {},
   "source": [
    "We want a way of incrementing a transaction number that is unqiue to all accounts. Therefore, whatever approach we take, it must be a class attribute of the `Accounts` class.\n",
    "\n",
    "We could:\n",
    "- Create a `TransactionID` class that stores a number and has a method for incrementing it (perhaps by also implementing the iterator protocol).\n",
    "- Create an infinite generator that yields a value and then increments it\n",
    "- Use the inbuilt `itertools.count` which does the above.\n",
    "\n",
    "The last approach will be the easiest and simplest."
   ]
  },
  {
   "cell_type": "code",
   "execution_count": 6,
   "id": "8ea4d282-8980-4f47-86c1-2e5b07380af1",
   "metadata": {},
   "outputs": [
    {
     "data": {
      "text/plain": [
       "102"
      ]
     },
     "execution_count": 6,
     "metadata": {},
     "output_type": "execute_result"
    }
   ],
   "source": [
    "import itertools\n",
    "\n",
    "transaction_counter = itertools.count(start=100)\n",
    "next(transaction_counter)\n",
    "next(transaction_counter)\n",
    "next(transaction_counter)"
   ]
  },
  {
   "cell_type": "markdown",
   "id": "a3afc8c2-c2b1-4b1a-ae20-0cf9289b7c1c",
   "metadata": {},
   "source": [
    "We will implement this into our `Account` class below."
   ]
  },
  {
   "cell_type": "markdown",
   "id": "5ca0c4f1-19ba-4b64-96b8-65ac3538451a",
   "metadata": {},
   "source": [
    "# 04 - Account Number, First Name, Last Name"
   ]
  },
  {
   "cell_type": "markdown",
   "id": "4f03538f-8ca8-4fc1-afbd-1793ccabc31d",
   "metadata": {},
   "source": [
    "- Now we need to create an `Account` class that requires an `account_number` (read_only), `first_name` and `last_name` (read and write). \n",
    "- Since the validation steps for the first and last name will be identical, we need to create a method that generalises this validation. For the purposes of getting more comfortable with `setattr`, we will use it call the setter."
   ]
  },
  {
   "cell_type": "code",
   "execution_count": 7,
   "id": "362c08ef-fcbf-472a-8d96-96d59ad730a0",
   "metadata": {},
   "outputs": [],
   "source": [
    "class Account:\n",
    "    transaction_counter = itertools.count(100)\n",
    "    \n",
    "    def __init__(self, account_number, first_name, last_name):\n",
    "        # in practice we probably would want to add checks to make sure these values are valid / non-empty\n",
    "        self._account_number = account_number\n",
    "        self.first_name = first_name\n",
    "        self.last_name = last_name\n",
    "        \n",
    "    @property\n",
    "    def account_number(self):\n",
    "        return self._account_number\n",
    "    \n",
    "    @property \n",
    "    def first_name(self):\n",
    "        return self._first_name\n",
    "    \n",
    "    @first_name.setter\n",
    "    def first_name(self, value):\n",
    "        self.validate_and_set_name('_first_name', value, 'First Name')\n",
    "        \n",
    "    @property\n",
    "    def last_name(self):\n",
    "        return self._last_name\n",
    "    \n",
    "    @last_name.setter\n",
    "    def last_name(self, value):\n",
    "        self.validate_and_set_name('_last_name', value, 'Last Name')\n",
    "        \n",
    "    # also going to create a full_name computed property, for ease of use\n",
    "    @property\n",
    "    def full_name(self):\n",
    "        return f'{self.first_name} {self.last_name}'\n",
    "    \n",
    "    \n",
    "    def validate_and_set_name(self, property_name, value, field_title):\n",
    "        if value is None or len(str(value).strip()) == 0:\n",
    "            raise ValueError(f'{field_title} cannot be empty.')\n",
    "        setattr(self, property_name, value)"
   ]
  },
  {
   "cell_type": "code",
   "execution_count": 8,
   "id": "b196120a-2fd2-48fd-9d59-03722e438e13",
   "metadata": {},
   "outputs": [
    {
     "data": {
      "text/plain": [
       "('Alex', 'Martelli', 'Alex Martelli')"
      ]
     },
     "execution_count": 8,
     "metadata": {},
     "output_type": "execute_result"
    }
   ],
   "source": [
    "a = Account('12345', 'Alex', 'Martelli')\n",
    "a.first_name, a.last_name, a.full_name"
   ]
  },
  {
   "cell_type": "markdown",
   "id": "d61f7db4-ca70-4272-aabe-7eb9cedf5f29",
   "metadata": {},
   "source": [
    "# 05 - Adding Preferred TimeZone Property"
   ]
  },
  {
   "cell_type": "markdown",
   "id": "4a84f0f6-0495-403d-ba33-0cd1695582c6",
   "metadata": {},
   "source": [
    "- Add a parameter to the previous class called `timezone` and default it to `None`.\n",
    "- Inside our class, if the `timezone` is `None`, we want to set it to a `TimeZone` instance called 'UTC' with offset: 0 hours and 0 minutes.\n",
    "- Implement the above using getters and setters."
   ]
  },
  {
   "cell_type": "code",
   "execution_count": 9,
   "id": "27b46250-1953-4a29-bd87-823ed3054867",
   "metadata": {},
   "outputs": [],
   "source": [
    "class Account:\n",
    "    transaction_counter = itertools.count(100)\n",
    "    \n",
    "    def __init__(self, account_number, first_name, last_name, \n",
    "                 timezone=None):\n",
    "        # in practice we probably would want to add checks to make \n",
    "        # sure these values are valid / non-empty\n",
    "        self._account_number = account_number\n",
    "        self.first_name = first_name\n",
    "        self.last_name = last_name\n",
    "        \n",
    "        if timezone is None:\n",
    "            timezone = TimeZone('UTC', 0, 0)\n",
    "        self.timezone = timezone\n",
    "        \n",
    "    @property\n",
    "    def account_number(self):\n",
    "        return self._account_number\n",
    "    \n",
    "    @property \n",
    "    def first_name(self):\n",
    "        return self._first_name\n",
    "    \n",
    "    @first_name.setter\n",
    "    def first_name(self, value):\n",
    "        self.validate_and_set_name('_first_name', value, 'First Name')\n",
    "        \n",
    "    @property\n",
    "    def last_name(self):\n",
    "        return self._last_name\n",
    "    \n",
    "    @last_name.setter\n",
    "    def last_name(self, value):\n",
    "        self.validate_and_set_name('_last_name', value, 'Last Name')\n",
    "        \n",
    "    # also going to create a full_name computed property, for ease of use\n",
    "    @property\n",
    "    def full_name(self):\n",
    "        return f'{self.first_name} {self.last_name}'\n",
    "    \n",
    "    \n",
    "    @property\n",
    "    def timezone(self):\n",
    "        return self._timezone\n",
    "    \n",
    "    @timezone.setter\n",
    "    def timezone(self, value):\n",
    "        if not isinstance(value, TimeZone):\n",
    "            raise ValueError('Time zone must be a valid TimeZone object.')\n",
    "        self._timezone = value\n",
    "            \n",
    "    def validate_and_set_name(self, property_name, value, field_title):\n",
    "        if value is None or len(str(value).strip()) == 0:\n",
    "            raise ValueError(f'{field_title} cannot be empty.')\n",
    "        setattr(self, property_name, value)"
   ]
  },
  {
   "cell_type": "code",
   "execution_count": 10,
   "id": "133c3cd5-0b35-4ec1-ab90-7ce4be3f8804",
   "metadata": {},
   "outputs": [
    {
     "name": "stdout",
     "output_type": "stream",
     "text": [
      "Time zone must be a valid TimeZone object.\n"
     ]
    }
   ],
   "source": [
    "try:\n",
    "    a = Account('123', 'John', 'Smith', '-7:00')\n",
    "except ValueError as ex:\n",
    "    print(ex)"
   ]
  },
  {
   "cell_type": "code",
   "execution_count": 11,
   "id": "7967e318-bcfd-4b24-b86e-85203f8c57b2",
   "metadata": {},
   "outputs": [
    {
     "name": "stdout",
     "output_type": "stream",
     "text": [
      "TimeZone(name='UTC', offset_hours=0, offset_minutes=0)\n"
     ]
    }
   ],
   "source": [
    "a = Account('123', 'John', 'Smith')\n",
    "print(a.timezone)"
   ]
  },
  {
   "cell_type": "markdown",
   "id": "173e05b9-8349-465c-9ce6-016d558d28ce",
   "metadata": {},
   "source": [
    "# 06 - Balance"
   ]
  },
  {
   "cell_type": "markdown",
   "id": "1306123f-ebe0-4463-b198-94929d931a5e",
   "metadata": {},
   "source": [
    "- Create an `initial_balance` parameter. It should be read-only, modifiable only through transactions (implemented later), and greater than some `min_value` if specified."
   ]
  },
  {
   "cell_type": "code",
   "execution_count": 12,
   "id": "b8839239-480c-4efd-8790-bc87245ef6d9",
   "metadata": {},
   "outputs": [],
   "source": [
    "class Account:\n",
    "    transaction_counter = itertools.count(100)\n",
    "    \n",
    "    def __init__(self, account_number, first_name, last_name, initial_balance,\n",
    "                 timezone=None):\n",
    "        # in practice we probably would want to add checks to make \n",
    "        # sure these values are valid / non-empty\n",
    "        self._account_number = account_number\n",
    "        self.first_name = first_name\n",
    "        self.last_name = last_name\n",
    "        \n",
    "        if timezone is None:\n",
    "            timezone = TimeZone('UTC', 0, 0)\n",
    "        self.timezone = timezone\n",
    "        \n",
    "        self._balance = Account.validate_real_number(initial_balance)\n",
    "        \n",
    "    @property\n",
    "    def account_number(self):\n",
    "        return self._account_number\n",
    "    \n",
    "    @property \n",
    "    def first_name(self):\n",
    "        return self._first_name\n",
    "    \n",
    "    @first_name.setter\n",
    "    def first_name(self, value):\n",
    "        self.validate_and_set_name('_first_name', value, 'First Name')\n",
    "        \n",
    "    @property\n",
    "    def last_name(self):\n",
    "        return self._last_name\n",
    "    \n",
    "    @last_name.setter\n",
    "    def last_name(self, value):\n",
    "        self.validate_and_set_name('_last_name', value, 'Last Name')\n",
    "        \n",
    "    # also going to create a full_name computed property, for ease of use\n",
    "    @property\n",
    "    def full_name(self):\n",
    "        return f'{self.first_name} {self.last_name}'\n",
    "    \n",
    "    \n",
    "    @property\n",
    "    def timezone(self):\n",
    "        return self._timezone\n",
    "\n",
    "    @property\n",
    "    def balance(self):\n",
    "        return self._balance\n",
    "    \n",
    "    @timezone.setter\n",
    "    def timezone(self, value):\n",
    "        if not isinstance(value, TimeZone):\n",
    "            raise ValueError('Time zone must be a valid TimeZone object.')\n",
    "        self._timezone = value\n",
    "            \n",
    "    def validate_and_set_name(self, property_name, value, field_title):\n",
    "        if value is None or len(str(value).strip()) == 0:\n",
    "            raise ValueError(f'{field_title} cannot be empty.')\n",
    "        setattr(self, property_name, value)\n",
    "\n",
    "    @staticmethod\n",
    "    def validate_real_number(value, min_value=None):\n",
    "        if not isinstance(value, numbers.Real):\n",
    "            raise ValueError('Value must be a real number.')\n",
    "            \n",
    "        if min_value is not None and value < min_value:\n",
    "            raise ValueError(f'Value must be at least {min_value}')\n",
    "            \n",
    "        # validation passed, return valid value\n",
    "        return value"
   ]
  },
  {
   "cell_type": "code",
   "execution_count": 13,
   "id": "5613dd7b-772b-4506-9288-ed4bec29ca93",
   "metadata": {},
   "outputs": [
    {
     "data": {
      "text/plain": [
       "500"
      ]
     },
     "execution_count": 13,
     "metadata": {},
     "output_type": "execute_result"
    }
   ],
   "source": [
    "a = Account('123', 'John', 'Smith', initial_balance=500)\n",
    "a.balance"
   ]
  },
  {
   "cell_type": "markdown",
   "id": "e553d2f7-f644-428e-a94b-6fe474574c56",
   "metadata": {},
   "source": [
    "# 07 - Interest Rate"
   ]
  },
  {
   "cell_type": "markdown",
   "id": "89e7b087-583c-43a5-96c2-a0e6865636d3",
   "metadata": {},
   "source": [
    "- Write the interest rate of `0.5` as a class attribute (in units of %).\n",
    "- Since we haven't learnt about class properties, create class methods for modifying the interest rate."
   ]
  },
  {
   "cell_type": "code",
   "execution_count": 14,
   "id": "d21be630-3c02-45c9-90db-b54b8f09afcc",
   "metadata": {},
   "outputs": [],
   "source": [
    "class Account:\n",
    "    transaction_counter = itertools.count(100)\n",
    "    _interest_rate = 0.5  # percentage\n",
    "    \n",
    "    def __init__(self, account_number, first_name, last_name, \n",
    "                 initial_balance = 0,\n",
    "                 timezone=None):\n",
    "        # in practice we probably would want to add checks to make \n",
    "        # sure these values are valid / non-empty\n",
    "        self._account_number = account_number\n",
    "        self.first_name = first_name\n",
    "        self.last_name = last_name\n",
    "        \n",
    "        if timezone is None:\n",
    "            timezone = TimeZone('UTC', 0, 0)\n",
    "        self.timezone = timezone\n",
    "        \n",
    "        self._balance = Account.validate_real_number(initial_balance)\n",
    "        \n",
    "    @property\n",
    "    def account_number(self):\n",
    "        return self._account_number\n",
    "    \n",
    "    @property \n",
    "    def first_name(self):\n",
    "        return self._first_name\n",
    "    \n",
    "    @first_name.setter\n",
    "    def first_name(self, value):\n",
    "        self.validate_and_set_name('_first_name', value, 'First Name')\n",
    "        \n",
    "    @property\n",
    "    def last_name(self):\n",
    "        return self._last_name\n",
    "    \n",
    "    @last_name.setter\n",
    "    def last_name(self, value):\n",
    "        self.validate_and_set_name('_last_name', value, 'Last Name')\n",
    "        \n",
    "    # also going to create a full_name computed property, for ease of use\n",
    "    @property\n",
    "    def full_name(self):\n",
    "        return f'{self.first_name} {self.last_name}'\n",
    "    \n",
    "    \n",
    "    @property\n",
    "    def timezone(self):\n",
    "        return self._timezone\n",
    "\n",
    "    @property\n",
    "    def balance(self):\n",
    "        return self._balance\n",
    "    \n",
    "    @timezone.setter\n",
    "    def timezone(self, value):\n",
    "        if not isinstance(value, TimeZone):\n",
    "            raise ValueError('Time zone must be a valid TimeZone object.')\n",
    "        self._timezone = value\n",
    "            \n",
    "    def validate_and_set_name(self, property_name, value, field_title):\n",
    "        if value is None or len(str(value).strip()) == 0:\n",
    "            raise ValueError(f'{field_title} cannot be empty.')\n",
    "        setattr(self, property_name, value)\n",
    "\n",
    "    @classmethod\n",
    "    def get_interest_rate(cls):\n",
    "        return cls._interest_rate\n",
    "\n",
    "    @classmethod\n",
    "    def set_interest_rate(cls, value):\n",
    "        if not isinstance(value, numbers.Real):\n",
    "            raise ValueError('Interest rate must be a real number')\n",
    "        if value < 0:\n",
    "            raise ValueError('Interest rate cannot be negative.')\n",
    "        cls._interest_rate = value\n",
    "\n",
    "    @staticmethod\n",
    "    def validate_real_number(value, min_value=None):\n",
    "        if not isinstance(value, numbers.Real):\n",
    "            raise ValueError('Value must be a real number.')\n",
    "            \n",
    "        if min_value is not None and value < min_value:\n",
    "            raise ValueError(f'Value must be at least {min_value}')\n",
    "            \n",
    "        # validation passed, return valid value\n",
    "        return value"
   ]
  },
  {
   "cell_type": "code",
   "execution_count": 15,
   "id": "9c59fb01-4d5e-4b6d-9fa6-baab431dbbdc",
   "metadata": {},
   "outputs": [
    {
     "data": {
      "text/plain": [
       "0.5"
      ]
     },
     "execution_count": 15,
     "metadata": {},
     "output_type": "execute_result"
    }
   ],
   "source": [
    "Account.get_interest_rate()"
   ]
  },
  {
   "cell_type": "code",
   "execution_count": 16,
   "id": "f6556cf5-d217-4a47-b816-b492400df928",
   "metadata": {},
   "outputs": [
    {
     "data": {
      "text/plain": [
       "10"
      ]
     },
     "execution_count": 16,
     "metadata": {},
     "output_type": "execute_result"
    }
   ],
   "source": [
    "Account.set_interest_rate(10)\n",
    "Account.get_interest_rate()"
   ]
  },
  {
   "cell_type": "markdown",
   "id": "d49bedd9-3caa-418e-bb2c-498f90ae9fb2",
   "metadata": {},
   "source": [
    "# 08 - Transaction Codes"
   ]
  },
  {
   "cell_type": "markdown",
   "id": "7e88bbe5-e596-4630-8f43-d0c89e9b0795",
   "metadata": {},
   "source": [
    "- Create a dictionary storing the transaction codes accessible by their human-readable meanings:\n",
    "    - D: Deposit\n",
    "    - W: Withdrawal\n",
    "    - I: Interest (deposit due to interest)\n",
    "    - X: Rejected\n"
   ]
  },
  {
   "cell_type": "code",
   "execution_count": 17,
   "id": "330a7440-d5c5-4cd7-9976-c81470cf6438",
   "metadata": {},
   "outputs": [],
   "source": [
    "class Account:\n",
    "    transaction_counter = itertools.count(100)\n",
    "    _interest_rate = 0.5  # percentage\n",
    "\n",
    "    _transaction_codes = {\n",
    "        'deposit': 'D',\n",
    "        'withdraw': 'W',\n",
    "        'interest': 'I',\n",
    "        'rejected': 'X'\n",
    "    }\n",
    "    \n",
    "    def __init__(self, account_number, first_name, last_name, \n",
    "                 initial_balance = 0,\n",
    "                 timezone=None):\n",
    "        # in practice we probably would want to add checks to make \n",
    "        # sure these values are valid / non-empty\n",
    "        self._account_number = account_number\n",
    "        self.first_name = first_name\n",
    "        self.last_name = last_name\n",
    "        \n",
    "        if timezone is None:\n",
    "            timezone = TimeZone('UTC', 0, 0)\n",
    "        self.timezone = timezone\n",
    "        \n",
    "        self._balance = Account.validate_real_number(initial_balance)\n",
    "        \n",
    "    @property\n",
    "    def account_number(self):\n",
    "        return self._account_number\n",
    "    \n",
    "    @property \n",
    "    def first_name(self):\n",
    "        return self._first_name\n",
    "    \n",
    "    @first_name.setter\n",
    "    def first_name(self, value):\n",
    "        self.validate_and_set_name('_first_name', value, 'First Name')\n",
    "        \n",
    "    @property\n",
    "    def last_name(self):\n",
    "        return self._last_name\n",
    "    \n",
    "    @last_name.setter\n",
    "    def last_name(self, value):\n",
    "        self.validate_and_set_name('_last_name', value, 'Last Name')\n",
    "        \n",
    "    # also going to create a full_name computed property, for ease of use\n",
    "    @property\n",
    "    def full_name(self):\n",
    "        return f'{self.first_name} {self.last_name}'\n",
    "    \n",
    "    \n",
    "    @property\n",
    "    def timezone(self):\n",
    "        return self._timezone\n",
    "\n",
    "    @property\n",
    "    def balance(self):\n",
    "        return self._balance\n",
    "    \n",
    "    @timezone.setter\n",
    "    def timezone(self, value):\n",
    "        if not isinstance(value, TimeZone):\n",
    "            raise ValueError('Time zone must be a valid TimeZone object.')\n",
    "        self._timezone = value\n",
    "            \n",
    "    def validate_and_set_name(self, property_name, value, field_title):\n",
    "        if value is None or len(str(value).strip()) == 0:\n",
    "            raise ValueError(f'{field_title} cannot be empty.')\n",
    "        setattr(self, property_name, value)\n",
    "\n",
    "    @classmethod\n",
    "    def get_interest_rate(cls):\n",
    "        return cls._interest_rate\n",
    "\n",
    "    @classmethod\n",
    "    def set_interest_rate(cls, value):\n",
    "        if not isinstance(value, numbers.Real):\n",
    "            raise ValueError('Interest rate must be a real number')\n",
    "        if value < 0:\n",
    "            raise ValueError('Interest rate cannot be negative.')\n",
    "        cls._interest_rate = value\n",
    "\n",
    "    @staticmethod\n",
    "    def validate_real_number(value, min_value=None):\n",
    "        if not isinstance(value, numbers.Real):\n",
    "            raise ValueError('Value must be a real number.')\n",
    "            \n",
    "        if min_value is not None and value < min_value:\n",
    "            raise ValueError(f'Value must be at least {min_value}')\n",
    "            \n",
    "        # validation passed, return valid value\n",
    "        return value"
   ]
  },
  {
   "cell_type": "markdown",
   "id": "2d842d63-b0f0-4786-bb11-570c58a4494d",
   "metadata": {},
   "source": [
    "We should actually be using enumerations for the transaction codes, but since we haven't learn't about them yet (see section 10), we'll stick to this approach. To implement it, we would have a module called enumerations.py or something containing the following code:"
   ]
  },
  {
   "cell_type": "code",
   "execution_count": 18,
   "id": "12383705-a482-4f29-bfe1-15ec4226f57b",
   "metadata": {},
   "outputs": [],
   "source": [
    "from enum import Enum\n",
    "\n",
    "class ConfirmationCode(Enum):\n",
    "    deposit = 'D'\n",
    "    withdraw = 'W'\n",
    "    interest = 'I'\n",
    "    rejected = 'X'"
   ]
  },
  {
   "cell_type": "markdown",
   "id": "fbda38d6-6d05-456d-84de-139f20781165",
   "metadata": {},
   "source": [
    "Here's how we'd access them:"
   ]
  },
  {
   "cell_type": "code",
   "execution_count": 19,
   "id": "c6385a6e-3b00-4d61-b98a-f0dbe79b5413",
   "metadata": {},
   "outputs": [
    {
     "data": {
      "text/plain": [
       "('deposit', 'D')"
      ]
     },
     "execution_count": 19,
     "metadata": {},
     "output_type": "execute_result"
    }
   ],
   "source": [
    "ConfirmationCode.deposit.name, ConfirmationCode.deposit.value"
   ]
  },
  {
   "cell_type": "markdown",
   "id": "dd6d48a6-3319-4825-9776-1178f8b243f6",
   "metadata": {},
   "source": [
    "# 09 - Confirmation Code"
   ]
  },
  {
   "cell_type": "markdown",
   "id": "0dd78a4e-e2d4-4c77-b0b0-8622c3715033",
   "metadata": {},
   "source": [
    "Whenever a transaction is made, we need to generate a transaction code that should contain:\n",
    "- the transaction code\n",
    "- the account number\n",
    "- the date / time in UTC of the transaction\n",
    "- the transaction number\n",
    "\n",
    "Something like:\n",
    "```D-140568-20190115154500-124```"
   ]
  },
  {
   "cell_type": "markdown",
   "id": "b7b0289e-4ce3-4b42-93f9-d382995a5ef3",
   "metadata": {},
   "source": [
    "Here's the function in isolation:\n",
    "```python\n",
    "    def generate_confirmation_code(self, transaction_code):\n",
    "        # main difficulty here is to generate the current time in UTC using this formatting:\n",
    "        # YYYYMMDDHHMMSS\n",
    "        dt_str = datetime.utcnow().strftime('%Y%m%d%H%M%S')\n",
    "        return f'{transaction_code}-{self.account_number}-{dt_str}-{next(Account.transaction_counter)}'\n",
    "```\n",
    "For a deposit ('D') to account with account number A123 and the counter's default start point at 100, we may expect the output to be something like:\n",
    "```python\n",
    "'D-A123-20190602232855-100'\n",
    "```"
   ]
  },
  {
   "cell_type": "markdown",
   "id": "cc9e46e5-867f-424a-8bd4-dc18301f025e",
   "metadata": {},
   "source": [
    "We also want a function that takes the above string and does the reverse essentially - `result.transaction_code` -> `'D'`, `result.account_number` -> `'A123'` etc. \n",
    "- We could create a class to get the dot notation but that may be overkill for something like this - use a named tuple called `Confirmation` instead.\n",
    "- Add one extra field to the named tuple called `time` which takes the `utc_time` in the string and converts it to their preferred time zone. You may also format this string to appear more readable to the user."
   ]
  },
  {
   "cell_type": "code",
   "execution_count": 20,
   "id": "c1758455-3e11-487a-9a23-26e9a259ac07",
   "metadata": {},
   "outputs": [],
   "source": [
    "from collections import namedtuple\n",
    "\n",
    "Confirmation = namedtuple('Confirmation', 'account_number, transaction_code, transaction_id, time_utc, time')"
   ]
  },
  {
   "cell_type": "code",
   "execution_count": 21,
   "id": "12992197-f8db-4b9c-9ca4-be804a784ce1",
   "metadata": {},
   "outputs": [],
   "source": [
    "class Account:\n",
    "    transaction_counter = itertools.count(100)\n",
    "    _interest_rate = 0.5  # percentage\n",
    "    \n",
    "    _transaction_codes = {\n",
    "        'deposit': 'D',\n",
    "        'withdraw': 'W',\n",
    "        'interest': 'I',\n",
    "        'rejected': 'X'\n",
    "    }\n",
    "    \n",
    "    def __init__(self, account_number, first_name, last_name, timezone=None, initial_balance=0):\n",
    "        # in practice we probably would want to add checks to make sure these values are valid / non-empty\n",
    "        self._account_number = account_number\n",
    "        self.first_name = first_name\n",
    "        self.last_name = last_name\n",
    "        \n",
    "        if timezone is None:\n",
    "            timezone = TimeZone('UTC', 0, 0)\n",
    "        self.timezone = timezone\n",
    "        \n",
    "        self._balance = float(initial_balance)  # force use of floats here, but maybe Decimal would be better\n",
    "        \n",
    "    @property\n",
    "    def account_number(self):\n",
    "        return self._account_number\n",
    "    \n",
    "    @property \n",
    "    def first_name(self):\n",
    "        return self._first_name\n",
    "    \n",
    "    @first_name.setter\n",
    "    def first_name(self, value):\n",
    "        self.validate_and_set_name('_first_name', value, 'First Name')\n",
    "        \n",
    "    @property\n",
    "    def last_name(self):\n",
    "        return self._last_name\n",
    "    \n",
    "    @last_name.setter\n",
    "    def last_name(self, value):\n",
    "        self.validate_and_set_name('_last_name', value, 'Last Name')\n",
    "        \n",
    "    # also going to create a full_name computed property, for ease of use\n",
    "    @property\n",
    "    def full_name(self):\n",
    "        return f'{self.first_name} {self.last_name}'\n",
    "        \n",
    "    @property\n",
    "    def timezone(self):\n",
    "        return self._timezone\n",
    "    \n",
    "    @property\n",
    "    def balance(self):\n",
    "        return self._balance\n",
    "    \n",
    "    @timezone.setter\n",
    "    def timezone(self, value):\n",
    "        if not isinstance(value, TimeZone):\n",
    "            raise ValueError('Time zone must be a valid TimeZone object.')\n",
    "        self._timezone = value\n",
    "          \n",
    "    @classmethod\n",
    "    def get_interest_rate(cls):\n",
    "        return cls._interest_rate\n",
    "    \n",
    "    @classmethod\n",
    "    def set_interest_rate(cls, value):\n",
    "        if not isinstance(value, numbers.Real):\n",
    "            raise ValueError('Interest rate must be a real number')\n",
    "        if value < 0:\n",
    "            raise ValueError('Interest rate cannot be negative.')\n",
    "        cls._interest_rate = value\n",
    "        \n",
    "    def validate_and_set_name(self, property_name, value, field_title):\n",
    "        if value is None or len(str(value).strip()) == 0:\n",
    "            raise ValueError(f'{field_title} cannot be empty.')\n",
    "        setattr(self, property_name, value)\n",
    "        \n",
    "    def generate_confirmation_code(self, transaction_code):\n",
    "        # main difficulty here is to generate the current time in UTC using this formatting:\n",
    "        # YYYYMMDDHHMMSS\n",
    "        dt_str = datetime.utcnow().strftime('%Y%m%d%H%M%S')\n",
    "        return f'{transaction_code}-{self.account_number}-{dt_str}-{next(Account.transaction_counter)}'\n",
    "    \n",
    "    @staticmethod\n",
    "    def parse_confirmation_code(confirmation_code, preferred_time_zone=None):\n",
    "        # dummy-A100-20190325224918-101\n",
    "        parts = confirmation_code.split('-')\n",
    "        if len(parts) != 4:\n",
    "            # really simplistic validation here - would need something better\n",
    "            raise ValueError('Invalid confirmation code')\n",
    "        \n",
    "        # unpack into separate variables\n",
    "        transaction_code, account_number, raw_dt_utc, transaction_id = parts\n",
    "        \n",
    "        # need to convert raw_dt_utc into a proper datetime object\n",
    "        try:\n",
    "            dt_utc = datetime.strptime(raw_dt_utc, '%Y%m%d%H%M%S')\n",
    "        except ValueError as ex:\n",
    "            # again, probably need better error handling here\n",
    "            raise ValueError('Invalid transaction datetime') from ex\n",
    "          \n",
    "        if preferred_time_zone is None:\n",
    "            preferred_time_zone = TimeZone('UTC', 0, 0)\n",
    "            \n",
    "        if not isinstance(preferred_time_zone, TimeZone):\n",
    "            raise ValueError('Invalid TimeZone specified.')\n",
    "            \n",
    "        dt_preferred = dt_utc + preferred_time_zone.offset\n",
    "        dt_preferred_str = f\"{dt_preferred.strftime('%Y-%m-%d %H:%M:%S')} ({preferred_time_zone.name})\"\n",
    "        \n",
    "        return Confirmation(account_number, transaction_code, transaction_id, dt_utc.isoformat(), dt_preferred_str)\n",
    "    \n",
    "    def make_transaction(self):\n",
    "        return self.generate_confirmation_code('X')"
   ]
  },
  {
   "cell_type": "code",
   "execution_count": 22,
   "id": "1ca0b654-7745-49d4-b1b4-84d69795e0bc",
   "metadata": {},
   "outputs": [
    {
     "name": "stdout",
     "output_type": "stream",
     "text": [
      "X-A123-20240703144957-100\n"
     ]
    }
   ],
   "source": [
    "a = Account('A123', 'John', 'Cleese', initial_balance=100)\n",
    "conf_code = a.make_transaction()\n",
    "print(conf_code)"
   ]
  },
  {
   "cell_type": "code",
   "execution_count": 23,
   "id": "794289ff-8cab-4014-85bb-8f7046d61cfe",
   "metadata": {},
   "outputs": [
    {
     "data": {
      "text/plain": [
       "Confirmation(account_number='A123', transaction_code='X', transaction_id='100', time_utc='2024-07-03T14:49:57', time='2024-07-03 14:49:57 (UTC)')"
      ]
     },
     "execution_count": 23,
     "metadata": {},
     "output_type": "execute_result"
    }
   ],
   "source": [
    "Account.parse_confirmation_code(conf_code)"
   ]
  },
  {
   "cell_type": "code",
   "execution_count": 24,
   "id": "6c1d752f-caa9-4819-8983-6979a285c910",
   "metadata": {},
   "outputs": [
    {
     "data": {
      "text/plain": [
       "Confirmation(account_number='A123', transaction_code='X', transaction_id='100', time_utc='2024-07-03T14:49:57', time='2024-07-03 07:49:57 (MST)')"
      ]
     },
     "execution_count": 24,
     "metadata": {},
     "output_type": "execute_result"
    }
   ],
   "source": [
    "Account.parse_confirmation_code(conf_code, TimeZone('MST', -7, 0))"
   ]
  },
  {
   "cell_type": "markdown",
   "id": "2abaf508-c477-4797-88be-fa977b0d4980",
   "metadata": {
    "editable": true,
    "slideshow": {
     "slide_type": ""
    },
    "tags": []
   },
   "source": [
    "**Note:**\n",
    "- For real production grade work, you should use timezone *aware* datetime objects and make use of the **pytz** library. This approach is fine to illustrate the OOP concepts though.\n",
    "- The reason why we used `from ex` in `raise ValueError('Invalid transaction datetime') from ex` will be explained in Section 12. For now, it helps to find the original cause with `ex.__cause__` by tracking further. But, the default behaviour is implicitly using `from ex` as opposed to something like `from None` which squashes the trace to that point."
   ]
  },
  {
   "cell_type": "markdown",
   "id": "dff437d3-97e8-4e2a-a0c2-f583d73ec760",
   "metadata": {},
   "source": [
    "# 10 - Transactions"
   ]
  },
  {
   "cell_type": "markdown",
   "id": "1f686aa3-0f3b-4a32-b1fd-32f760be640a",
   "metadata": {
    "editable": true,
    "slideshow": {
     "slide_type": ""
    },
    "tags": []
   },
   "source": [
    "- First make a deposit method in `Account` that must not be <= 0.\n",
    "```python\n",
    "    def deposit(self, value):\n",
    "        if not isinstance(value, numbers.Real):\n",
    "            raise ValueError('Deposit value must be a real number.')\n",
    "        if value <= 0:\n",
    "            raise ValueError('Deposit value must be a positive number.')\n",
    "        \n",
    "        # get transaction code\n",
    "        transaction_code = Account._transaction_codes['deposit']\n",
    "        \n",
    "        # generate a confirmation code BEFORE making transaction in case an error occurs afterwards.\n",
    "        conf_code = self.generate_confirmation_code(transaction_code)\n",
    "        \n",
    "        # make deposit and return conf code\n",
    "        self._balance += value\n",
    "        return conf_code\n",
    "```\n",
    "- Make a `withdraw` method that handles withdrawing over the balance (invalid) and valid withdrawals.\n",
    "```python\n",
    "    def withdraw(self, value):  \n",
    "        accepted = False\n",
    "        if self.balance - value < 0:\n",
    "            # insufficient funds - we'll reject this transaction\n",
    "            transaction_code = Account._transaction_codes['rejected']\n",
    "        else:\n",
    "            transaction_code = Account._transaction_codes['withdraw']\n",
    "            accepted = True\n",
    "            \n",
    "        conf_code = self.generate_confirmation_code(transaction_code)\n",
    "        \n",
    "        # Doing this here in case there's a problem generating a confirmation code\n",
    "        # - do not want to modify the balance if we cannot generate a transaction code successfully\n",
    "        if accepted:\n",
    "            self._balance -= value\n",
    "```\n",
    "- Make a pay_interest method.\n",
    "```python\n",
    "    def pay_interest(self):\n",
    "        interest = self.balance * Account.get_interest_rate() / 100\n",
    "        conf_code = self.generate_confirmation_code(Account._transaction_codes['interest'])\n",
    "        self._balance += interest\n",
    "        return conf_code\n",
    "```"
   ]
  },
  {
   "cell_type": "code",
   "execution_count": 25,
   "id": "bec98dbf-872e-4b62-8a64-507a704be41a",
   "metadata": {},
   "outputs": [],
   "source": [
    "class Account:\n",
    "    transaction_counter = itertools.count(100)\n",
    "    _interest_rate = 0.5  # percentage\n",
    "    \n",
    "    _transaction_codes = {\n",
    "        'deposit': 'D',\n",
    "        'withdraw': 'W',\n",
    "        'interest': 'I',\n",
    "        'rejected': 'X'\n",
    "    }\n",
    "    \n",
    "    def __init__(self, account_number, first_name, last_name, timezone=None, initial_balance=0):\n",
    "        # in practice we probably would want to add checks to make sure these values are valid / non-empty\n",
    "        self._account_number = account_number\n",
    "        self.first_name = first_name\n",
    "        self.last_name = last_name\n",
    "        \n",
    "        if timezone is None:\n",
    "            timezone = TimeZone('UTC', 0, 0)\n",
    "        self.timezone = timezone\n",
    "        \n",
    "        self._balance = float(initial_balance)  # force use of floats here, but maybe Decimal would be better\n",
    "        \n",
    "    @property\n",
    "    def account_number(self):\n",
    "        return self._account_number\n",
    "    \n",
    "    @property \n",
    "    def first_name(self):\n",
    "        return self._first_name\n",
    "    \n",
    "    @first_name.setter\n",
    "    def first_name(self, value):\n",
    "        self.validate_and_set_name('_first_name', value, 'First Name')\n",
    "        \n",
    "    @property\n",
    "    def last_name(self):\n",
    "        return self._last_name\n",
    "    \n",
    "    @last_name.setter\n",
    "    def last_name(self, value):\n",
    "        self.validate_and_set_name('_last_name', value, 'Last Name')\n",
    "        \n",
    "    # also going to create a full_name computed property, for ease of use\n",
    "    @property\n",
    "    def full_name(self):\n",
    "        return f'{self.first_name} {self.last_name}'\n",
    "        \n",
    "    @property\n",
    "    def timezone(self):\n",
    "        return self._timezone\n",
    "    \n",
    "    @property\n",
    "    def balance(self):\n",
    "        return self._balance\n",
    "    \n",
    "    @timezone.setter\n",
    "    def timezone(self, value):\n",
    "        if not isinstance(value, TimeZone):\n",
    "            raise ValueError('Time zone must be a valid TimeZone object.')\n",
    "        self._timezone = value\n",
    "          \n",
    "    @classmethod\n",
    "    def get_interest_rate(cls):\n",
    "        return cls._interest_rate\n",
    "    \n",
    "    @classmethod\n",
    "    def set_interest_rate(cls, value):\n",
    "        if not isinstance(value, numbers.Real):\n",
    "            raise ValueError('Interest rate must be a real number')\n",
    "        if value < 0:\n",
    "            raise ValueError('Interest rate cannot be negative.')\n",
    "        cls._interest_rate = value\n",
    "        \n",
    "    def validate_and_set_name(self, property_name, value, field_title):\n",
    "        if value is None or len(str(value).strip()) == 0:\n",
    "            raise ValueError(f'{field_title} cannot be empty.')\n",
    "        setattr(self, property_name, value)\n",
    "        \n",
    "    def generate_confirmation_code(self, transaction_code):\n",
    "        # main difficulty here is to generate the current time in UTC using this formatting:\n",
    "        # YYYYMMDDHHMMSS\n",
    "        dt_str = datetime.utcnow().strftime('%Y%m%d%H%M%S')\n",
    "        return f'{transaction_code}-{self.account_number}-{dt_str}-{next(Account.transaction_counter)}'\n",
    "    \n",
    "    @staticmethod\n",
    "    def parse_confirmation_code(confirmation_code, preferred_time_zone=None):\n",
    "        # dummy-A100-20190325224918-101\n",
    "        parts = confirmation_code.split('-')\n",
    "        if len(parts) != 4:\n",
    "            # really simplistic validation here - would need something better\n",
    "            raise ValueError('Invalid confirmation code')\n",
    "        \n",
    "        # unpack into separate variables\n",
    "        transaction_code, account_number, raw_dt_utc, transaction_id = parts\n",
    "        \n",
    "        # need to convert raw_dt_utc into a proper datetime object\n",
    "        try:\n",
    "            dt_utc = datetime.strptime(raw_dt_utc, '%Y%m%d%H%M%S')\n",
    "        except ValueError as ex:\n",
    "            # again, probably need better error handling here\n",
    "            raise ValueError('Invalid transaction datetime') from ex\n",
    "          \n",
    "        if preferred_time_zone is None:\n",
    "            preferred_time_zone = TimeZone('UTC', 0, 0)\n",
    "            \n",
    "        if not isinstance(preferred_time_zone, TimeZone):\n",
    "            raise ValueError('Invalid TimeZone specified.')\n",
    "            \n",
    "        dt_preferred = dt_utc + preferred_time_zone.offset\n",
    "        dt_preferred_str = f\"{dt_preferred.strftime('%Y-%m-%d %H:%M:%S')} ({preferred_time_zone.name})\"\n",
    "        \n",
    "        return Confirmation(account_number, transaction_code, transaction_id, dt_utc.isoformat(), dt_preferred_str)\n",
    "    \n",
    "    def deposit(self, value):\n",
    "        if not isinstance(value, numbers.Real):\n",
    "            raise ValueError('Deposit value must be a real number.')\n",
    "        if value <= 0:\n",
    "            raise ValueError('Deposit value must be a positive number.')\n",
    "        \n",
    "        # get transaction code\n",
    "        transaction_code = Account._transaction_codes['deposit']\n",
    "        \n",
    "        # generate a confirmation code\n",
    "        conf_code = self.generate_confirmation_code(transaction_code)\n",
    "        \n",
    "        # make deposit and return conf code\n",
    "        self._balance += value\n",
    "        return conf_code\n",
    "    \n",
    "    def withdraw(self, value):\n",
    "        # hmmm... repetitive code! we'll need to fix this\n",
    "        # TODO: refactor a function to validate a valid positive number\n",
    "        #       and use in __init__, deposit and \n",
    "        \n",
    "        accepted = False\n",
    "        if self.balance - value < 0:\n",
    "            # insufficient funds - we'll reject this transaction\n",
    "            transaction_code = Account._transaction_codes['rejected']\n",
    "        else:\n",
    "            transaction_code = Account._transaction_codes['withdraw']\n",
    "            accepted = True\n",
    "            \n",
    "        conf_code = self.generate_confirmation_code(transaction_code)\n",
    "        \n",
    "        # Doing this here in case there's a problem generating a confirmation code\n",
    "        # - do not want to modify the balance if we cannot generate a transaction code successfully\n",
    "        if accepted:\n",
    "            self._balance -= value\n",
    "            \n",
    "        return conf_code\n",
    "    \n",
    "    def pay_interest(self):\n",
    "        interest = self.balance * Account.get_interest_rate() / 100\n",
    "        conf_code = self.generate_confirmation_code(Account._transaction_codes['interest'])\n",
    "        self._balance += interest\n",
    "        return conf_code"
   ]
  },
  {
   "cell_type": "code",
   "execution_count": 26,
   "id": "6f84254c-b4ae-4ff7-b0fb-bd8f3d06286d",
   "metadata": {},
   "outputs": [],
   "source": [
    "a = Account('A100', 'Eric', 'Idle', TimeZone('MST', -7, 0), 100.0)"
   ]
  },
  {
   "cell_type": "code",
   "execution_count": 27,
   "id": "25af1c70-aba9-45f9-9490-aae73d63eefd",
   "metadata": {},
   "outputs": [
    {
     "data": {
      "text/plain": [
       "100.0"
      ]
     },
     "execution_count": 27,
     "metadata": {},
     "output_type": "execute_result"
    }
   ],
   "source": [
    "a.balance"
   ]
  },
  {
   "cell_type": "code",
   "execution_count": 28,
   "id": "9a0da7a4-5004-4f6c-a79f-4c6fefcb1ba7",
   "metadata": {},
   "outputs": [
    {
     "data": {
      "text/plain": [
       "'D-A100-20240703145027-100'"
      ]
     },
     "execution_count": 28,
     "metadata": {},
     "output_type": "execute_result"
    }
   ],
   "source": [
    "a.deposit(100)"
   ]
  },
  {
   "cell_type": "code",
   "execution_count": 29,
   "id": "ff49fbea-889a-425c-95f7-9f576024fb00",
   "metadata": {},
   "outputs": [
    {
     "data": {
      "text/plain": [
       "200.0"
      ]
     },
     "execution_count": 29,
     "metadata": {},
     "output_type": "execute_result"
    }
   ],
   "source": [
    "a.balance"
   ]
  },
  {
   "cell_type": "code",
   "execution_count": 30,
   "id": "6c66811b-a9b0-48d0-a8de-32bf21b3a114",
   "metadata": {},
   "outputs": [
    {
     "data": {
      "text/plain": [
       "'W-A100-20240703145029-101'"
      ]
     },
     "execution_count": 30,
     "metadata": {},
     "output_type": "execute_result"
    }
   ],
   "source": [
    "a.withdraw(100)"
   ]
  },
  {
   "cell_type": "code",
   "execution_count": 31,
   "id": "288dcc72-b200-49f2-985f-be36601601a7",
   "metadata": {},
   "outputs": [
    {
     "data": {
      "text/plain": [
       "100.0"
      ]
     },
     "execution_count": 31,
     "metadata": {},
     "output_type": "execute_result"
    }
   ],
   "source": [
    "a.balance"
   ]
  },
  {
   "cell_type": "code",
   "execution_count": 32,
   "id": "a806896c-5558-4c86-9bb1-d14e8b681cf3",
   "metadata": {},
   "outputs": [
    {
     "data": {
      "text/plain": [
       "'X-A100-20240703145030-102'"
      ]
     },
     "execution_count": 32,
     "metadata": {},
     "output_type": "execute_result"
    }
   ],
   "source": [
    "a.withdraw(1000)"
   ]
  },
  {
   "cell_type": "markdown",
   "id": "f90a123c-62d7-4d22-976d-68d65c5394e5",
   "metadata": {},
   "source": [
    "#### Refactoring"
   ]
  },
  {
   "cell_type": "markdown",
   "id": "66709341-7b44-467d-b715-1d4f58570f59",
   "metadata": {},
   "source": [
    "So now, let's refactor some code. We have to do that real positive number validation. We'll deal with it in the same we dealt with the name validations, except we won't be storing anything - this is going to be a good candidate for a static method.\n",
    "\n",
    "While we're at it, we'll modify our `__init__` method as well to validate the balance. Remember I had stated in the project description that balances should never be negative. So, I'm going to introduce a subtle bug here where the initialization will validate that the initial balance is a real number, but will not validate that it be non-negative. We'll \"catch\" that bug later."
   ]
  },
  {
   "cell_type": "code",
   "execution_count": 33,
   "id": "bbb5cbf6-e630-4bd8-9e23-773cc419009f",
   "metadata": {},
   "outputs": [],
   "source": [
    "class Account:\n",
    "    transaction_counter = itertools.count(100)\n",
    "    _interest_rate = 0.5  # percentage\n",
    "    \n",
    "    _transaction_codes = {\n",
    "        'deposit': 'D',\n",
    "        'withdraw': 'W',\n",
    "        'interest': 'I',\n",
    "        'rejected': 'X'\n",
    "    }\n",
    "    \n",
    "    def __init__(self, account_number, first_name, last_name, timezone=None, initial_balance=0):\n",
    "        # in practice we probably would want to add checks to make sure these values are valid / non-empty\n",
    "        self._account_number = account_number\n",
    "        self.first_name = first_name\n",
    "        self.last_name = last_name\n",
    "        \n",
    "        if timezone is None:\n",
    "            timezone = TimeZone('UTC', 0, 0)\n",
    "        self.timezone = timezone\n",
    "        \n",
    "        self._balance = Account.validate_real_number(initial_balance, min_value=0)\n",
    "        \n",
    "    @property\n",
    "    def account_number(self):\n",
    "        return self._account_number\n",
    "    \n",
    "    @property \n",
    "    def first_name(self):\n",
    "        return self._first_name\n",
    "    \n",
    "    @first_name.setter\n",
    "    def first_name(self, value):\n",
    "        self.validate_and_set_name('_first_name', value, 'First Name')\n",
    "        \n",
    "    @property\n",
    "    def last_name(self):\n",
    "        return self._last_name\n",
    "    \n",
    "    @last_name.setter\n",
    "    def last_name(self, value):\n",
    "        self.validate_and_set_name('_last_name', value, 'Last Name')\n",
    "        \n",
    "    # also going to create a full_name computed property, for ease of use\n",
    "    @property\n",
    "    def full_name(self):\n",
    "        return f'{self.first_name} {self.last_name}'\n",
    "        \n",
    "    @property\n",
    "    def timezone(self):\n",
    "        return self._timezone\n",
    "    \n",
    "    @property\n",
    "    def balance(self):\n",
    "        return self._balance\n",
    "    \n",
    "    @timezone.setter\n",
    "    def timezone(self, value):\n",
    "        if not isinstance(value, TimeZone):\n",
    "            raise ValueError('Time zone must be a valid TimeZone object.')\n",
    "        self._timezone = value\n",
    "          \n",
    "    @classmethod\n",
    "    def get_interest_rate(cls):\n",
    "        return cls._interest_rate\n",
    "    \n",
    "    @classmethod\n",
    "    def set_interest_rate(cls, value):\n",
    "        if not isinstance(value, numbers.Real):\n",
    "            raise ValueError('Interest rate must be a real number')\n",
    "        if value < 0:\n",
    "            raise ValueError('Interest rate cannot be negative.')\n",
    "        cls._interest_rate = value\n",
    "        \n",
    "    def validate_and_set_name(self, property_name, value, field_title):\n",
    "        if value is None or len(str(value).strip()) == 0:\n",
    "            raise ValueError(f'{field_title} cannot be empty.')\n",
    "        setattr(self, property_name, value)\n",
    "        \n",
    "    @staticmethod\n",
    "    def validate_real_number(value, min_value=None):\n",
    "        if not isinstance(value, numbers.Real):\n",
    "            raise ValueError('Value must be a real number.')\n",
    "            \n",
    "        if min_value is not None and value < min_value:\n",
    "            raise ValueError(f'Value must be at least {min_value}')\n",
    "            \n",
    "        # validation passed, return valid value\n",
    "        return value\n",
    "    \n",
    "    def generate_confirmation_code(self, transaction_code):\n",
    "        # main difficulty here is to generate the current time in UTC using this formatting:\n",
    "        # YYYYMMDDHHMMSS\n",
    "        dt_str = datetime.utcnow().strftime('%Y%m%d%H%M%S')\n",
    "        return f'{transaction_code}-{self.account_number}-{dt_str}-{next(Account.transaction_counter)}'\n",
    "    \n",
    "    @staticmethod\n",
    "    def parse_confirmation_code(confirmation_code, preferred_time_zone=None):\n",
    "        # dummy-A100-20190325224918-101\n",
    "        parts = confirmation_code.split('-')\n",
    "        if len(parts) != 4:\n",
    "            # really simplistic validation here - would need something better\n",
    "            raise ValueError('Invalid confirmation code')\n",
    "        \n",
    "        # unpack into separate variables\n",
    "        transaction_code, account_number, raw_dt_utc, transaction_id = parts\n",
    "        \n",
    "        # need to convert raw_dt_utc into a proper datetime object\n",
    "        try:\n",
    "            dt_utc = datetime.strptime(raw_dt_utc, '%Y%m%d%H%M%S')\n",
    "        except ValueError as ex:\n",
    "            # again, probably need better error handling here\n",
    "            raise ValueError('Invalid transaction datetime') from ex\n",
    "          \n",
    "        if preferred_time_zone is None:\n",
    "            preferred_time_zone = TimeZone('UTC', 0, 0)\n",
    "            \n",
    "        if not isinstance(preferred_time_zone, TimeZone):\n",
    "            raise ValueError('Invalid TimeZone specified.')\n",
    "            \n",
    "        dt_preferred = dt_utc + preferred_time_zone.offset\n",
    "        dt_preferred_str = f\"{dt_preferred.strftime('%Y-%m-%d %H:%M:%S')} ({preferred_time_zone.name})\"\n",
    "        \n",
    "        return Confirmation(account_number, transaction_code, transaction_id, dt_utc.isoformat(), dt_preferred_str)\n",
    "    \n",
    "    def deposit(self, value):\n",
    "        value = Account.validate_real_number(value, min_value=0.01)\n",
    "       \n",
    "        # get transaction code\n",
    "        transaction_code = Account._transaction_codes['deposit']\n",
    "        \n",
    "        # generate a confirmation code\n",
    "        conf_code = self.generate_confirmation_code(transaction_code)\n",
    "        \n",
    "        # make deposit and return conf code\n",
    "        self._balance += value\n",
    "        return conf_code\n",
    "    \n",
    "    def withdraw(self, value):\n",
    "        value = Account.validate_real_number(value, min_value=0.01)\n",
    "        accepted = False\n",
    "        if self.balance - value < 0:\n",
    "            # insufficient funds - we'll reject this transaction\n",
    "            transaction_code = Account._transaction_codes['rejected']\n",
    "        else:\n",
    "            transaction_code = Account._transaction_codes['withdraw']\n",
    "            accepted = True\n",
    "            \n",
    "        conf_code = self.generate_confirmation_code(transaction_code)\n",
    "        \n",
    "        # Doing this here in case there's a problem generating a confirmation code\n",
    "        # - do not want to modify the balance if we cannot generate a transaction code successfully\n",
    "        if accepted:\n",
    "            self._balance -= value\n",
    "            \n",
    "        return conf_code\n",
    "    \n",
    "    def pay_interest(self):\n",
    "        interest = self.balance * Account.get_interest_rate() / 100\n",
    "        conf_code = self.generate_confirmation_code(self._transaction_codes['interest'])\n",
    "        self._balance += interest\n",
    "        return conf_code"
   ]
  },
  {
   "cell_type": "markdown",
   "id": "c448c7bd-7ccd-4f2b-8bdd-eec977dd014a",
   "metadata": {
    "editable": true,
    "slideshow": {
     "slide_type": ""
    },
    "tags": []
   },
   "source": [
    "# 11 - Testing using unittest"
   ]
  },
  {
   "cell_type": "markdown",
   "id": "8f3ff8ba-0e97-4c6a-a999-e4860759c9a0",
   "metadata": {},
   "source": [
    "#### Final Code:"
   ]
  },
  {
   "cell_type": "markdown",
   "id": "39461d86-71f1-40e4-9b07-80fae2385e9c",
   "metadata": {},
   "source": [
    "This section contains the final, completed code. I have modified it slightly from the previous section so that all tests pass first time. The only thing I changed was adding: `min_value=0` in `        self._balance = Account.validate_real_number(initial_balance, min_value=0)`"
   ]
  },
  {
   "cell_type": "code",
   "execution_count": 34,
   "id": "54fa5ce4-b69b-4443-9f7b-4f5f88043651",
   "metadata": {},
   "outputs": [],
   "source": [
    "class Account:\n",
    "    transaction_counter = itertools.count(100)\n",
    "    _interest_rate = 0.5  # percentage\n",
    "    \n",
    "    _transaction_codes = {\n",
    "        'deposit': 'D',\n",
    "        'withdraw': 'W',\n",
    "        'interest': 'I',\n",
    "        'rejected': 'X'\n",
    "    }\n",
    "    \n",
    "    def __init__(self, account_number, first_name, last_name, timezone=None, initial_balance=0):\n",
    "        # in practice we probably would want to add checks to make sure these values are valid / non-empty\n",
    "        self._account_number = account_number\n",
    "        self.first_name = first_name\n",
    "        self.last_name = last_name\n",
    "        \n",
    "        if timezone is None:\n",
    "            timezone = TimeZone('UTC', 0, 0)\n",
    "        self.timezone = timezone\n",
    "        \n",
    "        self._balance = Account.validate_real_number(initial_balance, min_value=0)\n",
    "        \n",
    "    @property\n",
    "    def account_number(self):\n",
    "        return self._account_number\n",
    "    \n",
    "    @property \n",
    "    def first_name(self):\n",
    "        return self._first_name\n",
    "    \n",
    "    @first_name.setter\n",
    "    def first_name(self, value):\n",
    "        self.validate_and_set_name('_first_name', value, 'First Name')\n",
    "        \n",
    "    @property\n",
    "    def last_name(self):\n",
    "        return self._last_name\n",
    "    \n",
    "    @last_name.setter\n",
    "    def last_name(self, value):\n",
    "        self.validate_and_set_name('_last_name', value, 'Last Name')\n",
    "        \n",
    "    # also going to create a full_name computed property, for ease of use\n",
    "    @property\n",
    "    def full_name(self):\n",
    "        return f'{self.first_name} {self.last_name}'\n",
    "        \n",
    "    @property\n",
    "    def timezone(self):\n",
    "        return self._timezone\n",
    "    \n",
    "    @property\n",
    "    def balance(self):\n",
    "        return self._balance\n",
    "    \n",
    "    @timezone.setter\n",
    "    def timezone(self, value):\n",
    "        if not isinstance(value, TimeZone):\n",
    "            raise ValueError('Time zone must be a valid TimeZone object.')\n",
    "        self._timezone = value\n",
    "          \n",
    "    @classmethod\n",
    "    def get_interest_rate(cls):\n",
    "        return cls._interest_rate\n",
    "    \n",
    "    @classmethod\n",
    "    def set_interest_rate(cls, value):\n",
    "        if not isinstance(value, numbers.Real):\n",
    "            raise ValueError('Interest rate must be a real number')\n",
    "        if value < 0:\n",
    "            raise ValueError('Interest rate cannot be negative.')\n",
    "        cls._interest_rate = value\n",
    "        \n",
    "    def validate_and_set_name(self, property_name, value, field_title):\n",
    "        if value is None or len(str(value).strip()) == 0:\n",
    "            raise ValueError(f'{field_title} cannot be empty.')\n",
    "        setattr(self, property_name, value)\n",
    "        \n",
    "    @staticmethod\n",
    "    def validate_real_number(value, min_value=None):\n",
    "        if not isinstance(value, numbers.Real):\n",
    "            raise ValueError('Value must be a real number.')\n",
    "            \n",
    "        if min_value is not None and value < min_value:\n",
    "            raise ValueError(f'Value must be at least {min_value}')\n",
    "            \n",
    "        # validation passed, return valid value\n",
    "        return value\n",
    "    \n",
    "    def generate_confirmation_code(self, transaction_code):\n",
    "        # main difficulty here is to generate the current time in UTC using this formatting:\n",
    "        # YYYYMMDDHHMMSS\n",
    "        dt_str = datetime.utcnow().strftime('%Y%m%d%H%M%S')\n",
    "        return f'{transaction_code}-{self.account_number}-{dt_str}-{next(Account.transaction_counter)}'\n",
    "    \n",
    "    @staticmethod\n",
    "    def parse_confirmation_code(confirmation_code, preferred_time_zone=None):\n",
    "        # dummy-A100-20190325224918-101\n",
    "        parts = confirmation_code.split('-')\n",
    "        if len(parts) != 4:\n",
    "            # really simplistic validation here - would need something better\n",
    "            raise ValueError('Invalid confirmation code')\n",
    "        \n",
    "        # unpack into separate variables\n",
    "        transaction_code, account_number, raw_dt_utc, transaction_id = parts\n",
    "        \n",
    "        # need to convert raw_dt_utc into a proper datetime object\n",
    "        try:\n",
    "            dt_utc = datetime.strptime(raw_dt_utc, '%Y%m%d%H%M%S')\n",
    "        except ValueError as ex:\n",
    "            # again, probably need better error handling here\n",
    "            raise ValueError('Invalid transaction datetime') from ex\n",
    "          \n",
    "        if preferred_time_zone is None:\n",
    "            preferred_time_zone = TimeZone('UTC', 0, 0)\n",
    "            \n",
    "        if not isinstance(preferred_time_zone, TimeZone):\n",
    "            raise ValueError('Invalid TimeZone specified.')\n",
    "            \n",
    "        dt_preferred = dt_utc + preferred_time_zone.offset\n",
    "        dt_preferred_str = f\"{dt_preferred.strftime('%Y-%m-%d %H:%M:%S')} ({preferred_time_zone.name})\"\n",
    "        \n",
    "        return Confirmation(account_number, transaction_code, transaction_id, dt_utc.isoformat(), dt_preferred_str)\n",
    "    \n",
    "    def deposit(self, value):\n",
    "        value = Account.validate_real_number(value, min_value=0.01)\n",
    "       \n",
    "        # get transaction code\n",
    "        transaction_code = Account._transaction_codes['deposit']\n",
    "        \n",
    "        # generate a confirmation code\n",
    "        conf_code = self.generate_confirmation_code(transaction_code)\n",
    "        \n",
    "        # make deposit and return conf code\n",
    "        self._balance += value\n",
    "        return conf_code\n",
    "    \n",
    "    def withdraw(self, value):\n",
    "        value = Account.validate_real_number(value, min_value=0.01)\n",
    "        accepted = False\n",
    "        if self.balance - value < 0:\n",
    "            # insufficient funds - we'll reject this transaction\n",
    "            transaction_code = Account._transaction_codes['rejected']\n",
    "        else:\n",
    "            transaction_code = Account._transaction_codes['withdraw']\n",
    "            accepted = True\n",
    "            \n",
    "        conf_code = self.generate_confirmation_code(transaction_code)\n",
    "        \n",
    "        # Doing this here in case there's a problem generating a confirmation code\n",
    "        # - do not want to modify the balance if we cannot generate a transaction code successfully\n",
    "        if accepted:\n",
    "            self._balance -= value\n",
    "            \n",
    "        return conf_code\n",
    "    \n",
    "    def pay_interest(self):\n",
    "        interest = self.balance * Account.get_interest_rate() / 100\n",
    "        conf_code = self.generate_confirmation_code(self._transaction_codes['interest'])\n",
    "        self._balance += interest\n",
    "        return conf_code"
   ]
  },
  {
   "cell_type": "markdown",
   "id": "b876ad5f-3e0f-4013-9b22-442449f1c6fa",
   "metadata": {},
   "source": [
    "Here are all the tests. More tests will be needed for maximum coverage but these initial tests demonstrate the procedure. I won't explain any of them for the sake of brevity. See original notebook for step-by-step buildup.\n",
    "\n",
    "Also, the approach to running the tests below is somewhat atypical. Normally, we run them from the command line, but we want to keep everything in this notebook for ease, so there's a bit of boilerplate code:"
   ]
  },
  {
   "cell_type": "code",
   "execution_count": 43,
   "id": "65ce90fb-fa57-480c-b7d4-4caf4e877931",
   "metadata": {},
   "outputs": [],
   "source": [
    "import unittest"
   ]
  },
  {
   "cell_type": "code",
   "execution_count": 44,
   "id": "5ce995e8-af07-465e-adf5-6b036d6bc151",
   "metadata": {},
   "outputs": [],
   "source": [
    "def run_tests(test_class):\n",
    "    suite = unittest.TestLoader().loadTestsFromTestCase(test_class)\n",
    "    runner = unittest.TextTestRunner(verbosity=2)\n",
    "    result = runner.run(suite)"
   ]
  },
  {
   "cell_type": "code",
   "execution_count": 45,
   "id": "b4750a6f-6375-4a4c-bb37-850ee95e4652",
   "metadata": {},
   "outputs": [],
   "source": [
    "class TestAccount(unittest.TestCase):\n",
    "    \n",
    "    def test_create_timezone(self):\n",
    "        tz = TimeZone('ABC', -1, -30)\n",
    "        self.assertEqual('ABC', tz.name)\n",
    "        self.assertEqual(timedelta(hours=-1, minutes=-30), tz.offset)\n",
    "        \n",
    "    def test_timezones_equal(self):\n",
    "        tz1 = TimeZone('ABC', -1, -30)\n",
    "        tz2 = TimeZone('ABC', -1, -30)\n",
    "        self.assertEqual(tz1, tz2)\n",
    "        \n",
    "    def test_timezones_not_equal(self):\n",
    "        tz = TimeZone('ABC', -1, -30)\n",
    "        \n",
    "        test_timezones = (\n",
    "            TimeZone('DEF', -1, -30),\n",
    "            TimeZone('ABC', -1, 0),\n",
    "            TimeZone('ABC', 1, -30)\n",
    "        )\n",
    "        for i, test_tz in enumerate(test_timezones):\n",
    "            with self.subTest(test_number=i):\n",
    "                self.assertNotEqual(tz, test_tz)\n",
    "                \n",
    "    def test_create_account(self):\n",
    "        account_number = 'A100'\n",
    "        first_name = 'FIRST'\n",
    "        last_name = 'LAST'\n",
    "        tz = TimeZone('TZ', 1, 30)\n",
    "        balance = 100.00\n",
    "        \n",
    "        a = Account(account_number, first_name, last_name, tz, balance)\n",
    "        self.assertEqual(account_number, a.account_number)\n",
    "        self.assertEqual(first_name, a.first_name)\n",
    "        self.assertEqual(last_name, a.last_name)\n",
    "        self.assertEqual(first_name + ' ' + last_name, a.full_name)\n",
    "        self.assertEqual(tz, a.timezone)\n",
    "        self.assertEqual(balance, a.balance)\n",
    "        \n",
    "    def test_create_account_blank_first_name(self):\n",
    "        account_number = 'A100'\n",
    "        first_name = ''\n",
    "        last_name = 'LAST'\n",
    "        tz = TimeZone('TZ', 1, 30)\n",
    "        balance = 100.00\n",
    "        \n",
    "        with self.assertRaises(ValueError):\n",
    "            a = Account(account_number, first_name, last_name, tz, balance)\n",
    "            \n",
    "    def test_create_account_negative_balance(self):\n",
    "        account_number = 'A100'\n",
    "        first_name = 'FIRST'\n",
    "        last_name = 'LAST'\n",
    "        tz = TimeZone('TZ', 1, 30)\n",
    "        balance = -100.00\n",
    "        \n",
    "        with self.assertRaises(ValueError):\n",
    "            a = Account(account_number, first_name, last_name, tz, balance)\n",
    "            \n",
    "    def test_account_deposit_ok(self):\n",
    "        account_number = 'A100'\n",
    "        first_name = 'FIRST'\n",
    "        last_name = 'LAST'\n",
    "        balance = 100.00\n",
    "        \n",
    "        a = Account(account_number, first_name, last_name, initial_balance=balance)\n",
    "        conf_code = a.deposit(100)\n",
    "        self.assertEqual(200, a.balance)\n",
    "        self.assertIn('D-', conf_code)\n",
    "    \n",
    "    def test_account_deposit_negative_amount(self):\n",
    "        account_number = 'A100'\n",
    "        first_name = 'FIRST'\n",
    "        last_name = 'LAST'\n",
    "        balance = 100.00\n",
    "        \n",
    "        a = Account(account_number, first_name, last_name, initial_balance=balance)\n",
    "        with self.assertRaises(ValueError):\n",
    "            conf_code = a.deposit(-100)\n",
    "        \n",
    "    def test_account_withdraw_ok(self):\n",
    "        account_number = 'A100'\n",
    "        first_name = 'FIRST'\n",
    "        last_name = 'LAST'\n",
    "        balance = 100.00\n",
    "        \n",
    "        a = Account(account_number, first_name, last_name, initial_balance=balance)\n",
    "        conf_code = a.withdraw(20)\n",
    "        self.assertEqual(80, a.balance)\n",
    "        self.assertIn('W-', conf_code)\n",
    "        \n",
    "    \n",
    "    def test_account_withdraw_overdraw(self):\n",
    "        account_number = 'A100'\n",
    "        first_name = 'FIRST'\n",
    "        last_name = 'LAST'\n",
    "        balance = 100.00\n",
    "        \n",
    "        a = Account(account_number, first_name, last_name, initial_balance=balance)\n",
    "        conf_code = a.withdraw(200)\n",
    "        self.assertIn('X-', conf_code)\n",
    "        self.assertEqual(balance, a.balance)"
   ]
  },
  {
   "cell_type": "code",
   "execution_count": 46,
   "id": "d787b91c-643d-41b6-bea9-ce702bd9d868",
   "metadata": {},
   "outputs": [
    {
     "name": "stderr",
     "output_type": "stream",
     "text": [
      "test_account_deposit_negative_amount (__main__.TestAccount) ... ok\n",
      "test_account_deposit_ok (__main__.TestAccount) ... ok\n",
      "test_account_withdraw_ok (__main__.TestAccount) ... ok\n",
      "test_account_withdraw_overdraw (__main__.TestAccount) ... ok\n",
      "test_create_account (__main__.TestAccount) ... ok\n",
      "test_create_account_blank_first_name (__main__.TestAccount) ... ok\n",
      "test_create_account_negative_balance (__main__.TestAccount) ... ok\n",
      "test_create_timezone (__main__.TestAccount) ... ok\n",
      "test_timezones_equal (__main__.TestAccount) ... ok\n",
      "test_timezones_not_equal (__main__.TestAccount) ... ok\n",
      "\n",
      "----------------------------------------------------------------------\n",
      "Ran 10 tests in 0.007s\n",
      "\n",
      "OK\n"
     ]
    }
   ],
   "source": [
    "run_tests(TestAccount)"
   ]
  }
 ],
 "metadata": {
  "kernelspec": {
   "display_name": "Python 3 (ipykernel)",
   "language": "python",
   "name": "python3"
  },
  "language_info": {
   "codemirror_mode": {
    "name": "ipython",
    "version": 3
   },
   "file_extension": ".py",
   "mimetype": "text/x-python",
   "name": "python",
   "nbconvert_exporter": "python",
   "pygments_lexer": "ipython3",
   "version": "3.8.0"
  }
 },
 "nbformat": 4,
 "nbformat_minor": 5
}
