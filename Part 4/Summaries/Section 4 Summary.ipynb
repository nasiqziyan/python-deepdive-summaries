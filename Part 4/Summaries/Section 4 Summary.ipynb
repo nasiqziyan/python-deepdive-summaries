{
 "cells": [
  {
   "cell_type": "markdown",
   "id": "1eadc6f7-e550-4f4d-88ec-6303e6bfec12",
   "metadata": {},
   "source": [
    "**Polymorphism** is the ability to define a generic type of behaviour that may behave different when applied to different types.\n",
    "\n",
    "Python is very polymorphic\n",
    "- It makes use of [duck typing](https://realpython.com/duck-typing-python/#:~:text=Python%20makes%20extensive%20use%20of,a%20core%20concept%20in%20Python.)\n",
    "- Operators +, -, * and / are polymorphic because they work with different types (ints, floats, decimals, lists, tuples, custom objects etc).\n",
    "- When certain dunder methods are implemented in a class to satisfy a protocol, then the instances of that class will be able to make use of that protocol's behaviour. For example, implementing `__enter__` and `__exit__` will make the class function as a context manager with the `with` keyword.. `__iter__` and `__next__` can be implemented for iterable/iterator functionality with the `for` keyword. `__get/set/delitem__` gives sequence functionality with slicing operators (`a[i:j]`) etc.\n",
    "\n",
    "We'll now look at some dunder methods."
   ]
  },
  {
   "cell_type": "markdown",
   "id": "d97551c1-8dfa-49c9-aa17-7b59c574e667",
   "metadata": {},
   "source": [
    "# 01 - __str__ and __repr__ Methods"
   ]
  },
  {
   "cell_type": "markdown",
   "id": "f447e904-616b-4568-b2e5-6c29f46c1aad",
   "metadata": {},
   "source": [
    "Both used for creating a string representation of an object\n",
    "\n",
    "What's the difference?\n",
    "- typically `__repr__` used by developers - often try to make the representation such that the string can be used to recreate the object - the way you'd instantiate the object.\n",
    "- `__str__` is used by `str()` and `print()` functions as well as various formatting functions e.g. f-strings. It's typically used for display purposes to the end user, logging, etc.\n",
    "\n",
    "If `__str__` is not implemented, Python will look for `__repr__` instead.\n",
    "\n",
    "If neither is implemented, Python will look up the inheritance tree to eventually reach `Object` which has a defined `__repr__`."
   ]
  },
  {
   "cell_type": "markdown",
   "id": "a96b2bbf-5b0f-488f-82e7-d344d668ed09",
   "metadata": {},
   "source": [
    "Here's an example:"
   ]
  },
  {
   "cell_type": "code",
   "execution_count": 2,
   "id": "d803884c-59a1-4fcb-8ad4-c7cdc2dfbb66",
   "metadata": {},
   "outputs": [],
   "source": [
    "class Person:\n",
    "    def __init__(self, name, age):\n",
    "        self.name = name\n",
    "        self.age = age\n",
    "        \n",
    "    def __repr__(self):\n",
    "        print('__repr__ called')\n",
    "        return f\"Person(name='{self.name}, age=self.age')\"\n",
    "    \n",
    "    def __str__(self):\n",
    "        print('__str__ called')\n",
    "        return self.name"
   ]
  },
  {
   "cell_type": "code",
   "execution_count": 3,
   "id": "f6aaf613-caaf-4d60-9283-389617d11d68",
   "metadata": {},
   "outputs": [],
   "source": [
    "p = Person('Python', 30)"
   ]
  },
  {
   "cell_type": "markdown",
   "id": "684963e1-6ebd-46d7-a90e-f3975b739ab3",
   "metadata": {},
   "source": [
    "In Jupyter's console, the return of an object will favour the `__repr__` which makes sense as this is what developers will want to see."
   ]
  },
  {
   "cell_type": "code",
   "execution_count": 4,
   "id": "2eaecb28-00a6-4e65-b037-893b80189192",
   "metadata": {},
   "outputs": [
    {
     "name": "stdout",
     "output_type": "stream",
     "text": [
      "__repr__ called\n"
     ]
    },
    {
     "data": {
      "text/plain": [
       "Person(name='Python, age=self.age')"
      ]
     },
     "execution_count": 4,
     "metadata": {},
     "output_type": "execute_result"
    }
   ],
   "source": [
    "p"
   ]
  },
  {
   "cell_type": "markdown",
   "id": "c2770d20-8e21-409b-97f5-86ae2a77b71e",
   "metadata": {},
   "source": [
    "But `print` gives the expected `__str__` output."
   ]
  },
  {
   "cell_type": "code",
   "execution_count": 6,
   "id": "edcd3222-1fa5-4dbc-bcd3-fc8e4b646654",
   "metadata": {},
   "outputs": [
    {
     "name": "stdout",
     "output_type": "stream",
     "text": [
      "__str__ called\n",
      "Python\n"
     ]
    }
   ],
   "source": [
    "print(p)"
   ]
  },
  {
   "cell_type": "markdown",
   "id": "8a7d4c4c-b32d-41e1-b79b-36726414d1f1",
   "metadata": {},
   "source": [
    "# 02 - Arithmetic Operators"
   ]
  },
  {
   "cell_type": "markdown",
   "id": "6c0447d4-5b2a-44e1-8dda-484a9463a7a2",
   "metadata": {},
   "source": [
    "We have `__add__`, `__sub__`, `__mul__`, `__truediv__` (/), `__floordiv__` (//), `__mod__` (%), `__pow__` and `__matmul__` (@).\n",
    "\n",
    "Regarding `__matmul__`, python doesn't actually implement this in any type but it was added for better **numpy** support of matrix multiplication.\n",
    "\n",
    "If we want to indicate that any one of these haven't been implemented, we should implement it and `return NotImplemented` (as opposed to raising an exception). "
   ]
  },
  {
   "cell_type": "markdown",
   "id": "099b9bcf-ff23-4dd9-bbe0-e9073d0c7ba5",
   "metadata": {},
   "source": [
    "Below is an example class that implements adding, subtracting, scalar and dot products of vectors, along with some additional dunder methods such as `__iadd__`, `__neg__` and `__abs__`. \n",
    "\n",
    "After that, we have the descriptions of the different methods implemented as well as some code executions to demonstrate it working:"
   ]
  },
  {
   "cell_type": "markdown",
   "id": "25a8957c-b9f3-4e57-b004-b689a3dbf07f",
   "metadata": {},
   "source": [
    "#### Vector Class Example"
   ]
  },
  {
   "cell_type": "code",
   "execution_count": 23,
   "id": "2671fb59-4ad3-4d89-9f78-c17962175655",
   "metadata": {},
   "outputs": [],
   "source": [
    "from numbers import Real\n",
    "from math import sqrt\n",
    "\n",
    "class Vector:\n",
    "    def __init__(self, *components):\n",
    "        # validate number of components is at least one, and all of them are real numbers\n",
    "        if len(components) < 1:\n",
    "            raise ValueError('Cannot create an empty Vector.')\n",
    "        for component in components:\n",
    "            if not isinstance(component, Real):\n",
    "                raise ValueError(f'Vector components must all be real numbers - {component} is invalid.')\n",
    "        \n",
    "        # use immutable storage for vector\n",
    "        self._components = tuple(components)\n",
    "        \n",
    "    def __len__(self):\n",
    "        return len(self._components)\n",
    "        \n",
    "    @property\n",
    "    def components(self):\n",
    "        return self._components\n",
    "    \n",
    "    def __repr__(self):\n",
    "        # works - but unwieldy for high dimension vectors\n",
    "        return f'Vector{self._components}'\n",
    "    \n",
    "    def validate_type_and_dimension(self, v):\n",
    "        return isinstance(v, Vector) and len(v) == len(self)\n",
    "            \n",
    "    def __add__(self, other):\n",
    "        if not self.validate_type_and_dimension(other):\n",
    "            return NotImplemented\n",
    "        components = (x + y for x, y in zip(self.components, other.components))\n",
    "        return Vector(*components)\n",
    "            \n",
    "    def __sub__(self, other):\n",
    "        if not self.validate_type_and_dimension(other):\n",
    "            return NotImplemented\n",
    "        components = (x - y for x, y in zip(self.components, other.components))\n",
    "        return Vector(*components)\n",
    "    \n",
    "    def __mul__(self, other):\n",
    "        print('__mul__ called...')\n",
    "        if isinstance(other, Real):\n",
    "            components = (other * x for x in self.components)\n",
    "            return Vector(*components)\n",
    "        if self.validate_type_and_dimension(other):\n",
    "            # dot product\n",
    "            components = (x * y for x, y in zip(self.components, other.components))\n",
    "            return sum(components)\n",
    "        return NotImplemented\n",
    "    \n",
    "    def __rmul__(self, other):\n",
    "        print('__rmul__ called...')\n",
    "        # for us, multiplication is commutative, so we can leverage our existing __mul__ method\n",
    "        return self * other\n",
    "    \n",
    "    def __iadd__(self, other):\n",
    "        print('__radd__ called...')\n",
    "        if self.validate_type_and_dimension(other):\n",
    "            components = (x + y for x, y in zip(self.components, other.components))\n",
    "            self._components = tuple(components)  # mutating our Vector object\n",
    "            return self # don't forget to return the result of the operation!\n",
    "        return NotImplemented\n",
    "        \n",
    "    def __neg__(self):\n",
    "        print('__neg__ called...')\n",
    "        components = (-x for x in self.components)\n",
    "        return Vector(*components)\n",
    "    \n",
    "    def __abs__(self):\n",
    "        print('__abs__ called...')\n",
    "        return sqrt(sum(x ** 2 for x in self.components))"
   ]
  },
  {
   "cell_type": "markdown",
   "id": "f171a109-bdb6-469d-b5e1-7cbc40e707e1",
   "metadata": {},
   "source": [
    "#### Reflected Operators"
   ]
  },
  {
   "cell_type": "markdown",
   "id": "f75fbdd3-8a46-4fe4-afd4-001650c57214",
   "metadata": {},
   "source": [
    "**If the first operand of a reflected operator (e.g. `__add__`, `__mul__`) returns `NotImplemented` AND operands are not of the same type**, Python will swap the operands and try the reflected dunder method (e.g. `__radd__`, `__rmul__`). \n",
    "\n",
    "If the operands are of the same type then we never have to worry about the reflected dunder method as it will never be called. If that type has implemented `__mul__`, then order is unimportant as both objects being of that type will have access to `__mul__` so the method can be called. If `__mul__` is not defined, then neither order will work. \n",
    "\n",
    "All dunders above are reflected operators except `__matmul__`.\n",
    "\n",
    "Typically the reflected operator will delegate back to the original. For example, `__rmul__` is often implemented by delegating back to `__mul__` either by calling `__mul__` explictly or just using the `*` operator. "
   ]
  },
  {
   "cell_type": "markdown",
   "id": "30b6c77b-1b90-454b-8646-7e0462ace75a",
   "metadata": {},
   "source": [
    "**Addition/Subtraction**"
   ]
  },
  {
   "cell_type": "code",
   "execution_count": 24,
   "id": "a0035042-e76e-4823-9cf3-44817cc8044e",
   "metadata": {},
   "outputs": [],
   "source": [
    "v1 = Vector(1, 2)\n",
    "v2 = Vector(3, 4)"
   ]
  },
  {
   "cell_type": "code",
   "execution_count": 25,
   "id": "0aa95e45-c0bb-48b1-a3e8-61305f0f4552",
   "metadata": {},
   "outputs": [
    {
     "data": {
      "text/plain": [
       "Vector(4, 6)"
      ]
     },
     "execution_count": 25,
     "metadata": {},
     "output_type": "execute_result"
    }
   ],
   "source": [
    "v1 + v2"
   ]
  },
  {
   "cell_type": "code",
   "execution_count": 26,
   "id": "58fa466d-4b46-49ed-8cd1-0a7908f0473b",
   "metadata": {},
   "outputs": [
    {
     "data": {
      "text/plain": [
       "Vector(-2, -2)"
      ]
     },
     "execution_count": 26,
     "metadata": {},
     "output_type": "execute_result"
    }
   ],
   "source": [
    "v1 - v2"
   ]
  },
  {
   "cell_type": "markdown",
   "id": "b9bdac22-f887-4395-ab9a-43fb0a379fdd",
   "metadata": {},
   "source": [
    "**Multiplication and Reflected Multiplication / Scalar Product**"
   ]
  },
  {
   "cell_type": "code",
   "execution_count": 27,
   "id": "6b400da6-44c3-410d-9839-3d981526e416",
   "metadata": {},
   "outputs": [],
   "source": [
    "v1 = Vector(1, 2)"
   ]
  },
  {
   "cell_type": "code",
   "execution_count": 28,
   "id": "c1b03ff6-1e5a-4f05-95c1-f8b32072a8f1",
   "metadata": {},
   "outputs": [
    {
     "name": "stdout",
     "output_type": "stream",
     "text": [
      "__mul__ called...\n"
     ]
    },
    {
     "data": {
      "text/plain": [
       "Vector(10, 20)"
      ]
     },
     "execution_count": 28,
     "metadata": {},
     "output_type": "execute_result"
    }
   ],
   "source": [
    "v1 * 10"
   ]
  },
  {
   "cell_type": "code",
   "execution_count": 29,
   "id": "8c5ed263-4343-4b78-8c31-edc45d2d53fa",
   "metadata": {},
   "outputs": [
    {
     "name": "stdout",
     "output_type": "stream",
     "text": [
      "__rmul__ called...\n",
      "__mul__ called...\n"
     ]
    },
    {
     "data": {
      "text/plain": [
       "Vector(10, 20)"
      ]
     },
     "execution_count": 29,
     "metadata": {},
     "output_type": "execute_result"
    }
   ],
   "source": [
    "10 * v1"
   ]
  },
  {
   "cell_type": "markdown",
   "id": "b170463b-b8af-4236-bdca-218da6faf915",
   "metadata": {},
   "source": [
    "This only works because the `integer` class has not implemented `__mul__` so it returns `NotImplemented` and both objects are of different types. Also note how `__rmul__` has been implemented with `return self * other` which leverages `__mul__`."
   ]
  },
  {
   "cell_type": "markdown",
   "id": "bdb301f3-aae5-4931-90a7-288677d181f6",
   "metadata": {},
   "source": [
    "**Dot Product**"
   ]
  },
  {
   "cell_type": "code",
   "execution_count": 30,
   "id": "6eb5e36d-31f1-453f-a716-d99c32901e7c",
   "metadata": {},
   "outputs": [],
   "source": [
    "v1 = Vector(2, 3)\n",
    "v2 = Vector(4, 5)"
   ]
  },
  {
   "cell_type": "code",
   "execution_count": 31,
   "id": "bbe790e8-1e42-4a6c-bdc5-5787add8cae8",
   "metadata": {},
   "outputs": [
    {
     "name": "stdout",
     "output_type": "stream",
     "text": [
      "__mul__ called...\n"
     ]
    },
    {
     "data": {
      "text/plain": [
       "23"
      ]
     },
     "execution_count": 31,
     "metadata": {},
     "output_type": "execute_result"
    }
   ],
   "source": [
    "v1 * v2"
   ]
  },
  {
   "cell_type": "markdown",
   "id": "8fbdc8c0-0222-4f07-937f-e5f939d1c810",
   "metadata": {},
   "source": [
    "#### In-Place Operators"
   ]
  },
  {
   "cell_type": "markdown",
   "id": "552e5454-bd88-4a25-b0e1-a9bb866af9d5",
   "metadata": {},
   "source": [
    "Examples of these are `__iadd__` (+=), `__isub__` (-=), `__imul__` (\\*=), `__itruediv__` (/=), `__ifloordiv__` (//=), `__imod__` (%=) and `__ipow__` (**=).\n",
    "\n",
    "Since these are in-place, typically in-place operators will try to **mutate** the object on the left of the expression, but this is **not** guaranteed. Tuples are a good example:"
   ]
  },
  {
   "cell_type": "code",
   "execution_count": 32,
   "id": "782552c9-6c95-4411-8bce-944452be5735",
   "metadata": {},
   "outputs": [
    {
     "name": "stdout",
     "output_type": "stream",
     "text": [
      "2383005389568\n",
      "2383005565392\n"
     ]
    }
   ],
   "source": [
    "t = (1, 2)\n",
    "print(id(t))\n",
    "t += (3, 4)\n",
    "print(id(t))"
   ]
  },
  {
   "cell_type": "markdown",
   "id": "01cf6968-56f1-4dbf-9eb9-ad40ffec916f",
   "metadata": {},
   "source": [
    "Therefore, the in-place dunder methods will not force you to keep the return an object of the same ID.\n",
    "\n",
    "Here's our implementation:"
   ]
  },
  {
   "cell_type": "code",
   "execution_count": 33,
   "id": "0754fa37-cb4c-45dc-87bb-656d435d03ee",
   "metadata": {},
   "outputs": [
    {
     "name": "stdout",
     "output_type": "stream",
     "text": [
      "2382985773552\n",
      "__radd__ called...\n",
      "2382985773552 Vector(11, 22)\n"
     ]
    }
   ],
   "source": [
    "v1 = Vector(1, 2)\n",
    "v2 = Vector(10, 20)\n",
    "\n",
    "print(id(v1))\n",
    "\n",
    "v1 += v2\n",
    "\n",
    "print(id(v1), v1)"
   ]
  },
  {
   "cell_type": "markdown",
   "id": "60c19b77-fdd0-44f3-9fbd-2fde16328854",
   "metadata": {},
   "source": [
    "#### Unary Operators"
   ]
  },
  {
   "cell_type": "markdown",
   "id": "55a5f1f8-8427-479e-912f-d2a3fab647ec",
   "metadata": {},
   "source": [
    "Examples of these are `__neg__` (-a), `__pos__` (+a), `__abs__` (`abs(a)`).\n",
    "\n",
    "First, negation:"
   ]
  },
  {
   "cell_type": "code",
   "execution_count": 34,
   "id": "ec0615c0-ba33-41f2-95e0-224c16042ca5",
   "metadata": {},
   "outputs": [
    {
     "name": "stdout",
     "output_type": "stream",
     "text": [
      "__neg__ called...\n"
     ]
    },
    {
     "data": {
      "text/plain": [
       "Vector(-1, -2)"
      ]
     },
     "execution_count": 34,
     "metadata": {},
     "output_type": "execute_result"
    }
   ],
   "source": [
    "v1 = Vector(1, 2)\n",
    "-v1"
   ]
  },
  {
   "cell_type": "markdown",
   "id": "06838f28-0784-4e90-bcf2-9d373314ef09",
   "metadata": {},
   "source": [
    "So we can use it in arithmetic operations such as:"
   ]
  },
  {
   "cell_type": "code",
   "execution_count": 35,
   "id": "51f57bc1-bbd0-46d6-8b66-694f274b0cd5",
   "metadata": {},
   "outputs": [
    {
     "name": "stdout",
     "output_type": "stream",
     "text": [
      "__neg__ called...\n"
     ]
    },
    {
     "data": {
      "text/plain": [
       "Vector(9, 8)"
      ]
     },
     "execution_count": 35,
     "metadata": {},
     "output_type": "execute_result"
    }
   ],
   "source": [
    "v2 = Vector(10, 10)\n",
    "\n",
    "v2 + -v1"
   ]
  },
  {
   "cell_type": "markdown",
   "id": "02165503-a2a8-40de-8f5b-10ea42478a15",
   "metadata": {},
   "source": [
    "Now, absolute values:"
   ]
  },
  {
   "cell_type": "code",
   "execution_count": 36,
   "id": "7b22e44c-554b-45f3-bd01-c18f3256487e",
   "metadata": {},
   "outputs": [],
   "source": [
    "v1 = Vector(1, 1)"
   ]
  },
  {
   "cell_type": "code",
   "execution_count": 37,
   "id": "52f916f7-a0f4-429d-8b5e-ae0de206af2e",
   "metadata": {},
   "outputs": [
    {
     "name": "stdout",
     "output_type": "stream",
     "text": [
      "__abs__ called...\n"
     ]
    },
    {
     "data": {
      "text/plain": [
       "1.4142135623730951"
      ]
     },
     "execution_count": 37,
     "metadata": {},
     "output_type": "execute_result"
    }
   ],
   "source": [
    "abs(v1)"
   ]
  },
  {
   "cell_type": "markdown",
   "id": "d20cd075-5596-4a96-99be-5cb2726c3407",
   "metadata": {},
   "source": [
    "# 03 - Rich Comparisons"
   ]
  },
  {
   "cell_type": "markdown",
   "id": "a2450f85-ae90-4387-a114-ba2dfb54e60e",
   "metadata": {},
   "source": [
    "Rich comparisons (<, <=, >, >=, ==) are quite straightforward. \n",
    "\n",
    "If `==` is not implemented, Python defaults to the identity operator: `is`.\n",
    "\n",
    "Furthermore, if one comparison does not exist (object returns `NotImplemented`), Python will try to the reverse the operands and the operator (and unlike the arithmetic operators, both operands can be of the same type).\n",
    "\n",
    "So if `a` has not implemented `__lt__`, then `a < b` will attempt `b > a` : `b.__gt__(a)`. \n",
    "\n",
    "The same applies for <=.\n",
    "For `==`, we get `!=` for free, as Python will just do `not(a == b)`."
   ]
  },
  {
   "cell_type": "markdown",
   "id": "b9be90ab-1228-4fc5-8a06-5f6cc169f188",
   "metadata": {},
   "source": [
    "**Total Ordering**\n",
    "\n",
    "In many cases, we can use the `@totalordering` decorator to derive almost all rich comparisons from just two base ones: the `__eq__` and one other one, maybe `__lt__`, or `__le__`, etc.\n",
    "\n",
    "For example, if `==` and `<` is defined, then:\n",
    "- `a <= b` is `a == b or a < b`\n",
    "- `a > b` is `b < a`\n",
    "- `a >= b` is `a == b or b < a`\n",
    "- `a != b` is `not(a == b)`\n",
    "\n",
    "On the other hand if we define `==` and `<=`, then:\n",
    "- `a < b` is `a <= b and not(a == b)`\n",
    "- `a >= b` is `b <= a`\n",
    "- `a > b` is `b <= a and not(b == a)`\n",
    "- `a != b` is `not(a == b)`"
   ]
  },
  {
   "cell_type": "code",
   "execution_count": 11,
   "id": "8a973ff9-7608-4754-b96b-ff8cc038de53",
   "metadata": {},
   "outputs": [],
   "source": [
    "from functools import total_ordering\n",
    "\n",
    "@total_ordering\n",
    "class Number:\n",
    "    def __init__(self, x):\n",
    "        self.x = x\n",
    "        \n",
    "    def __eq__(self, other):\n",
    "        print('__eq__ called...')\n",
    "        if isinstance(other, Number):\n",
    "            return self.x == other.x\n",
    "        return NotImplemented\n",
    "    \n",
    "    def __lt__(self, other):\n",
    "        print('__lt__ called...')\n",
    "        if isinstance(other, Number):\n",
    "            return self.x < other.x\n",
    "        return NotImplemented"
   ]
  },
  {
   "cell_type": "code",
   "execution_count": 12,
   "id": "eab45d93-8e83-4fd7-8c61-cca05f2cd8e4",
   "metadata": {},
   "outputs": [],
   "source": [
    "a = Number(1)\n",
    "b = Number(2)\n",
    "c = Number(1)"
   ]
  },
  {
   "cell_type": "code",
   "execution_count": 13,
   "id": "95019034-2229-403b-9dc5-19f7a3f51c6e",
   "metadata": {},
   "outputs": [
    {
     "name": "stdout",
     "output_type": "stream",
     "text": [
      "__lt__ called...\n"
     ]
    },
    {
     "data": {
      "text/plain": [
       "True"
      ]
     },
     "execution_count": 13,
     "metadata": {},
     "output_type": "execute_result"
    }
   ],
   "source": [
    "a < b"
   ]
  },
  {
   "cell_type": "code",
   "execution_count": 14,
   "id": "d6280d5c-7429-4ed5-9974-9865a552d67d",
   "metadata": {},
   "outputs": [
    {
     "name": "stdout",
     "output_type": "stream",
     "text": [
      "__lt__ called...\n"
     ]
    },
    {
     "data": {
      "text/plain": [
       "True"
      ]
     },
     "execution_count": 14,
     "metadata": {},
     "output_type": "execute_result"
    }
   ],
   "source": [
    "a <= b"
   ]
  },
  {
   "cell_type": "markdown",
   "id": "e6e9d076-b627-4c0b-8dbe-f74a5f57a69c",
   "metadata": {},
   "source": [
    "You'll notice that `__eq__` was not called - that's because `a < b` was True, and short-circuit evaluation. In this next example though, you'll see both methods are called:"
   ]
  },
  {
   "cell_type": "code",
   "execution_count": 15,
   "id": "efb81224-c151-4dbe-8528-7e67e9c0d0d2",
   "metadata": {},
   "outputs": [
    {
     "name": "stdout",
     "output_type": "stream",
     "text": [
      "__lt__ called...\n",
      "__eq__ called...\n"
     ]
    },
    {
     "data": {
      "text/plain": [
       "True"
      ]
     },
     "execution_count": 15,
     "metadata": {},
     "output_type": "execute_result"
    }
   ],
   "source": [
    "a <= c"
   ]
  },
  {
   "cell_type": "markdown",
   "id": "ed63f895-1daf-4cbe-ab81-85abb71fac05",
   "metadata": {},
   "source": [
    "# 04 - Hashing and Equality"
   ]
  },
  {
   "cell_type": "markdown",
   "id": "794ff76e-40b7-4c97-9641-6f79efe61774",
   "metadata": {},
   "source": [
    "Since this has been covered in more detail elsewhere, I will just jot down some reminders and useful tips:"
   ]
  },
  {
   "cell_type": "markdown",
   "id": "d5943132-f431-40b4-a574-86840828c86c",
   "metadata": {},
   "source": [
    "Recall that for an object to be usable in a mapping type (key in a dictionary, element of a set, etc.) it must be **hashable**.\n",
    "\n",
    "Therefore we should implement `__hash__` and `__eq__`. \n",
    "\n",
    "If `__eq__` is implemented, `__hash__` is implicitly set to `None` unless `__hash__` is implemented. Check out [Part 3: Section 3 - Subsection 05 Custom Classes and Hashing](https://github.com/nasiqziyan/python-deepdive-summaries/blob/main/Part%203/Summaries/Section%203%20Summary.ipynb) for more info. \n",
    "\n",
    "Always remember the rule for hash functions: **If two objects compare equal (==), they must hash equal.**\n",
    "\n",
    "If `__eq__` has been overrided, then two objects may compare equal but Python knows they can't possible hash equal since, if `__hash__` hasn't been implemented, it will default to using the memory ID which is unique for all objects. "
   ]
  },
  {
   "cell_type": "markdown",
   "id": "55efd6d5-08a3-43fa-bb27-81864fb5ae17",
   "metadata": {},
   "source": [
    "All objects inherit from `object`. Since this class has implemented default behaviours for `__hash__`, `__eq__`, etc., all objects will use this unless overridden."
   ]
  },
  {
   "cell_type": "markdown",
   "id": "f9983fdc-e22c-444f-9124-695ab018c545",
   "metadata": {},
   "source": [
    "Generally speaking, if we want to hash an instance based off one of its properties e.g. `self.name`, then we should make that property immutable. We do this by implementing the getter `@property` but not the setter."
   ]
  },
  {
   "cell_type": "markdown",
   "id": "7e00e376-fe70-49a3-bd4b-3c68b7ff245f",
   "metadata": {},
   "source": [
    "# 05 - Booleans"
   ]
  },
  {
   "cell_type": "markdown",
   "id": "73a4f606-9dd2-41c7-89f4-cb7e583f9a09",
   "metadata": {},
   "source": [
    "As we know, all objects in Python have an associated boolean value. This can be overridden with `__bool__`. \n",
    "\n",
    "If `__bool__` is not defined, \n",
    "- Python will look for `__len__`. If that returns **0**, we return `False`; else, we return `True`.\n",
    "- if neither `__bool__` or `__len__` is present, we always return `True`.\n",
    "\n",
    "Therefore, for custom iterables, we only need to implement `__len__` and not `__bool__` to stay consistent with other collection types.\n",
    "\n",
    "So by default, all objects are truthy."
   ]
  },
  {
   "cell_type": "markdown",
   "id": "4aa24331-3739-479c-95c5-108f24ef4800",
   "metadata": {},
   "source": [
    "# 06 - Callables"
   ]
  },
  {
   "cell_type": "markdown",
   "id": "182b7139-93cf-4c83-aebb-fe06a6deb9a3",
   "metadata": {},
   "source": [
    "- Any object can be amde to emulate a callable by implementing a `__call__` method. Many tools in the standard library actually implement this. For example, `partial` from `functools` is a class that behaves like a function via `__call__`.\n",
    "\n",
    "- We can find out if any object is a callable with `callable()`, e.g. `callable(print) -> True`."
   ]
  },
  {
   "cell_type": "markdown",
   "id": "30c3884b-f6fd-47cf-95d3-a33d9beadfb5",
   "metadata": {},
   "source": [
    "#### Example 1 - Cache with a cache-miss counter"
   ]
  },
  {
   "cell_type": "markdown",
   "id": "cf88e304-5cd0-4ec8-8ef6-07018071d2b8",
   "metadata": {},
   "source": [
    "I want to implement a dictionary to act as a cache, but I also want to keep track of the cache misses so I can later evaluate if my caching strategy is effective or not.\n",
    "\n",
    "The `defaultdict` class can be useful as a cache; if a value is not found in our `defaultdict`, Python will call the `defaultdict's` callable which we can set up to increment a counter. \n",
    "\n",
    "**simple approach**:"
   ]
  },
  {
   "cell_type": "code",
   "execution_count": 3,
   "id": "20375d1e-d26f-4bc2-8abc-a1a8d0971c99",
   "metadata": {},
   "outputs": [],
   "source": [
    "miss_counter = 0"
   ]
  },
  {
   "cell_type": "code",
   "execution_count": 4,
   "id": "c174357f-4dcd-4c15-ac7d-3237044d5151",
   "metadata": {},
   "outputs": [],
   "source": [
    "def default_value():\n",
    "    global miss_counter\n",
    "    miss_counter += 1\n",
    "    return 'N/A'"
   ]
  },
  {
   "cell_type": "markdown",
   "id": "a2f5b58a-1ba6-4670-9083-7fb537cc87b6",
   "metadata": {},
   "source": [
    "And now we can use it this way:"
   ]
  },
  {
   "cell_type": "code",
   "execution_count": 6,
   "id": "53dc92ae-b2d2-4432-9844-9e375b712fe4",
   "metadata": {},
   "outputs": [],
   "source": [
    "from collections import defaultdict\n",
    "\n",
    "d = defaultdict(default_value)"
   ]
  },
  {
   "cell_type": "code",
   "execution_count": 7,
   "id": "cf93681d-8cd9-4a35-bb2e-7900a3105222",
   "metadata": {},
   "outputs": [
    {
     "data": {
      "text/plain": [
       "'N/A'"
      ]
     },
     "execution_count": 7,
     "metadata": {},
     "output_type": "execute_result"
    }
   ],
   "source": [
    "d['a'] = 1\n",
    "d['a']\n",
    "d['b']\n",
    "d['c']"
   ]
  },
  {
   "cell_type": "code",
   "execution_count": 8,
   "id": "cfb75652-add4-4527-9a69-87539333305a",
   "metadata": {},
   "outputs": [
    {
     "data": {
      "text/plain": [
       "2"
      ]
     },
     "execution_count": 8,
     "metadata": {},
     "output_type": "execute_result"
    }
   ],
   "source": [
    "miss_counter"
   ]
  },
  {
   "cell_type": "markdown",
   "id": "fbce3c5e-b497-47e3-9225-6675b21a72f2",
   "metadata": {},
   "source": [
    "This works, but is not very good - the `default_value` function **relies** on us having a global `miss_counter` variable - if we don't have it our function won't work. Additionally we cannot use it to keep track of different cache instances since they would all use the same instance of `miss_counter`."
   ]
  },
  {
   "cell_type": "markdown",
   "id": "2dedd35b-3a25-48a7-824f-5a54a03573c2",
   "metadata": {},
   "source": [
    "**Better Approach**"
   ]
  },
  {
   "cell_type": "markdown",
   "id": "e801870e-89f6-4d03-92fa-681e4a17be76",
   "metadata": {},
   "source": [
    "We can instead use the `__call__` to treat a class like a callable:"
   ]
  },
  {
   "cell_type": "code",
   "execution_count": 21,
   "id": "3602b888-3841-4331-8305-9433679acb7f",
   "metadata": {},
   "outputs": [],
   "source": [
    "class DefaultValue:\n",
    "    def __init__(self, default_value):\n",
    "        self.default_value = default_value\n",
    "        self.counter = 0\n",
    "        \n",
    "    def __call__(self):\n",
    "        self.counter += 1\n",
    "        return self.default_value"
   ]
  },
  {
   "cell_type": "code",
   "execution_count": 22,
   "id": "b2744c77-fb46-4bec-ab3b-31734f539975",
   "metadata": {},
   "outputs": [],
   "source": [
    "def_1 = DefaultValue(None)\n",
    "\n",
    "cache_1 = defaultdict(def_1)\n",
    "\n",
    "cache_1['a'] = 1\n",
    "cache_1['a']\n",
    "cache_1['b']\n",
    "cache_1['c']"
   ]
  },
  {
   "cell_type": "code",
   "execution_count": 23,
   "id": "165b7342-a714-48e0-9a48-022e76f40897",
   "metadata": {},
   "outputs": [
    {
     "data": {
      "text/plain": [
       "2"
      ]
     },
     "execution_count": 23,
     "metadata": {},
     "output_type": "execute_result"
    }
   ],
   "source": [
    "def_1.counter"
   ]
  },
  {
   "cell_type": "code",
   "execution_count": 24,
   "id": "ebf7d6d7-eeff-41e9-b61d-f29c0f582875",
   "metadata": {},
   "outputs": [
    {
     "data": {
      "text/plain": [
       "0"
      ]
     },
     "execution_count": 24,
     "metadata": {},
     "output_type": "execute_result"
    }
   ],
   "source": [
    "def_2 = DefaultValue(0)\n",
    "\n",
    "cache_2 = defaultdict(def_2)\n",
    "\n",
    "cache_2['a'] = 1\n",
    "cache_2['a']\n",
    "cache_2['b']\n",
    "cache_2['c']"
   ]
  },
  {
   "cell_type": "code",
   "execution_count": 25,
   "id": "ff0b245a-3734-49b6-826c-332982b4f9f5",
   "metadata": {},
   "outputs": [
    {
     "data": {
      "text/plain": [
       "2"
      ]
     },
     "execution_count": 25,
     "metadata": {},
     "output_type": "execute_result"
    }
   ],
   "source": [
    "def_2.counter"
   ]
  },
  {
   "cell_type": "markdown",
   "id": "d7766f70-bd05-4258-8003-25d3ad161ee0",
   "metadata": {},
   "source": [
    "#### Example 2 - Profiler Decorator"
   ]
  },
  {
   "cell_type": "markdown",
   "id": "d9edf1fb-bcb6-486b-a72b-4d28f259d33b",
   "metadata": {},
   "source": [
    "Let's say that we want to write a profiler decorator to decorate functions in the module scope only (decorating methods will be looked at in Section 8 - Descriptors). \n",
    "\n",
    "The profiler will return the number of times the function was called (counter), the total elapsed time over all function calls and the average time (total elapsed / counter).\n",
    "\n",
    "Let's say we want these values accessible from the function. We can do this by adding attributes to our function (remember everything is an object and objects have attributes).\n",
    "\n",
    "Here's how we might do it:"
   ]
  },
  {
   "cell_type": "markdown",
   "id": "9305fbff-9780-40c4-824e-3cfc2e4e190b",
   "metadata": {},
   "source": [
    "##### Closure Approach"
   ]
  },
  {
   "cell_type": "code",
   "execution_count": 54,
   "id": "130b02da-59e3-4487-8d01-50ce9bd4c778",
   "metadata": {},
   "outputs": [],
   "source": [
    "from time import perf_counter, sleep\n",
    "from functools import wraps\n",
    "import random\n",
    "\n",
    "def profiler(fn):\n",
    "    _counter = 0\n",
    "    _time_elapsed = 0\n",
    "    _avg_time = 0\n",
    "\n",
    "    def inner(*args, **kwargs):\n",
    "        nonlocal _counter\n",
    "        nonlocal _time_elapsed\n",
    "        nonlocal _avg_time\n",
    "        _counter += 1\n",
    "        start = perf_counter()\n",
    "        result = fn()\n",
    "        end = perf_counter()\n",
    "        _time_elapsed += (end - start)\n",
    "        _avg_time = _time_elapsed / _counter\n",
    "        return result\n",
    "\n",
    "    inner.counter = _counter\n",
    "    inner.time_elapsed = _time_elapsed\n",
    "    inner.avg_time = _avg_time\n",
    "\n",
    "    return inner\n",
    "\n",
    "@profiler\n",
    "def func_1():\n",
    "    sleep(random.random())"
   ]
  },
  {
   "cell_type": "code",
   "execution_count": 55,
   "id": "2123e941-bd23-44ca-8efc-86d47873187f",
   "metadata": {},
   "outputs": [
    {
     "data": {
      "text/plain": [
       "(None, None)"
      ]
     },
     "execution_count": 55,
     "metadata": {},
     "output_type": "execute_result"
    }
   ],
   "source": [
    "func_1(), func_1()"
   ]
  },
  {
   "cell_type": "code",
   "execution_count": 56,
   "id": "5eff9168-d297-4ee3-b0a5-2e41400b8da6",
   "metadata": {},
   "outputs": [
    {
     "data": {
      "text/plain": [
       "0"
      ]
     },
     "execution_count": 56,
     "metadata": {},
     "output_type": "execute_result"
    }
   ],
   "source": [
    "func_1.counter"
   ]
  },
  {
   "cell_type": "markdown",
   "id": "67fe4df0-d26e-4e5c-ae1f-61ba2311dfd8",
   "metadata": {},
   "source": [
    "Why didn't this work?\n",
    "\n",
    "When `func_1` was called, `_counter = 0` executed then `inner.counter = _counter` executed, but nothing inside `inner()` executed. \n",
    "\n",
    "So `inner.counter` was set to point to 0.\n",
    "\n",
    "After `inner` is called, `_counter` does indeed update, but `inner.counter` is still pointing to the old reference. How do we fix this?\n",
    "\n",
    "We simply want `inner.counter` to point to the same **cell** (see Part 1, Section 7, Subsection 3) as `inner's` counter and `profiler's` counter. \n",
    "\n",
    "We therefore need to make `inner.counter` a **callable** which returns the free variable `_counter`"
   ]
  },
  {
   "cell_type": "code",
   "execution_count": 57,
   "id": "e0a115af-e21b-4522-a092-6c7c51637f71",
   "metadata": {},
   "outputs": [],
   "source": [
    "from time import perf_counter, sleep\n",
    "from functools import wraps\n",
    "import random\n",
    "\n",
    "def profiler(fn):\n",
    "    _counter = 0\n",
    "    _time_elapsed = 0\n",
    "    _avg_time = 0\n",
    "\n",
    "    def inner(*args, **kwargs):\n",
    "        nonlocal _counter\n",
    "        nonlocal _time_elapsed\n",
    "        nonlocal _avg_time\n",
    "        _counter += 1\n",
    "        start = perf_counter()\n",
    "        result = fn()\n",
    "        end = perf_counter()\n",
    "        _time_elapsed += (end - start)\n",
    "        _avg_time = _time_elapsed / _counter\n",
    "        return result\n",
    "\n",
    "    def counter():\n",
    "        return _counter\n",
    "\n",
    "    def time_elapsed():\n",
    "        return _time_elapsed\n",
    "\n",
    "    def avg_time():\n",
    "        return _avg_time\n",
    "\n",
    "    inner.counter = counter\n",
    "    inner.time_elapsed = time_elapsed\n",
    "    inner.avg_time = avg_time\n",
    "\n",
    "    return inner\n",
    "\n",
    "@profiler\n",
    "def func_1():\n",
    "    sleep(random.random())"
   ]
  },
  {
   "cell_type": "code",
   "execution_count": 58,
   "id": "3e411d1a-de97-4649-b661-e531f163a39d",
   "metadata": {},
   "outputs": [
    {
     "data": {
      "text/plain": [
       "(None, None)"
      ]
     },
     "execution_count": 58,
     "metadata": {},
     "output_type": "execute_result"
    }
   ],
   "source": [
    "func_1(), func_1()"
   ]
  },
  {
   "cell_type": "code",
   "execution_count": 59,
   "id": "e348de6c-e687-46c9-9baf-2717d6aff8f1",
   "metadata": {},
   "outputs": [
    {
     "data": {
      "text/plain": [
       "2"
      ]
     },
     "execution_count": 59,
     "metadata": {},
     "output_type": "execute_result"
    }
   ],
   "source": [
    "func_1.counter()"
   ]
  },
  {
   "cell_type": "code",
   "execution_count": 61,
   "id": "594ffcaa-4e35-43ec-8aa8-8256c4812eba",
   "metadata": {},
   "outputs": [
    {
     "data": {
      "text/plain": [
       "0.09571774999858462"
      ]
     },
     "execution_count": 61,
     "metadata": {},
     "output_type": "execute_result"
    }
   ],
   "source": [
    "func_1.avg_time()"
   ]
  },
  {
   "cell_type": "markdown",
   "id": "cdd7f4fe-30cf-4c8a-b3cb-00f8bf22a441",
   "metadata": {},
   "source": [
    "##### Class Approach"
   ]
  },
  {
   "cell_type": "markdown",
   "id": "e987fdc2-3a94-4c7e-a2d8-d73b6be3b860",
   "metadata": {},
   "source": [
    "The last approach was a little convoluted...\n",
    "\n",
    "Here's how we would make a decorator using a class. Note that we will calculate avg_time more lazily. We could've done this above by modifying the `avg_time` closure to compute `_time_elapsed / _counter`, but I wanted the pattern to be clear."
   ]
  },
  {
   "cell_type": "code",
   "execution_count": 63,
   "id": "101fac7a-10d0-4f5d-abca-f4b77b8bfe0f",
   "metadata": {},
   "outputs": [],
   "source": [
    "class Profiler:\n",
    "    def __init__(self, fn):\n",
    "        self.counter = 0\n",
    "        self.total_elapsed = 0\n",
    "        self.fn = fn\n",
    "        \n",
    "    def __call__(self, *args, **kwargs):\n",
    "        self.counter += 1\n",
    "        start = perf_counter()\n",
    "        result = self.fn(*args, **kwargs)\n",
    "        end = perf_counter()\n",
    "        self.total_elapsed += (end - start)\n",
    "        return result\n",
    "        \n",
    "    @property\n",
    "    def avg_time(self):\n",
    "        return self.total_elapsed / self.counter"
   ]
  },
  {
   "cell_type": "code",
   "execution_count": 64,
   "id": "2dc7dfb8-c1ad-422a-afcb-1589fd527b4a",
   "metadata": {},
   "outputs": [],
   "source": [
    "@Profiler\n",
    "def func_1():\n",
    "    sleep(random.random())"
   ]
  },
  {
   "cell_type": "markdown",
   "id": "5bb31a79-ab4b-48b5-954e-ed345065ea63",
   "metadata": {},
   "source": [
    "At this point, `func_1` is an **instance** of `Profiler`. These instances are **callable** due to `__call__`:"
   ]
  },
  {
   "cell_type": "code",
   "execution_count": 65,
   "id": "17a71b8b-5d5e-4fe7-9775-a36bab324525",
   "metadata": {},
   "outputs": [
    {
     "data": {
      "text/plain": [
       "(None, None)"
      ]
     },
     "execution_count": 65,
     "metadata": {},
     "output_type": "execute_result"
    }
   ],
   "source": [
    "func_1(), func_1()"
   ]
  },
  {
   "cell_type": "code",
   "execution_count": 66,
   "id": "9f850adf-8397-4405-b9ab-b15b9dca5aa5",
   "metadata": {},
   "outputs": [
    {
     "data": {
      "text/plain": [
       "0.6357646000014938"
      ]
     },
     "execution_count": 66,
     "metadata": {},
     "output_type": "execute_result"
    }
   ],
   "source": [
    "func_1.avg_time"
   ]
  },
  {
   "cell_type": "markdown",
   "id": "b185a9b2-bd86-44ea-8622-fbbfb975b9cb",
   "metadata": {},
   "source": [
    "# 07 - The __del__ Method"
   ]
  },
  {
   "cell_type": "markdown",
   "id": "7888ee11-4d8a-4aac-b76f-a7c996bdaef4",
   "metadata": {},
   "source": [
    "The `__del__` method is a **class finaliser**. \n",
    "\n",
    "The **garbage collector** destroys objects that are no longer referenced anywhere.\n",
    "\n",
    "It is the method that is called right before the object is destroyed by the **garbage collector (GC)** -> the GC therefore determines when `__del__` is called, not us.\n",
    "\n",
    "This is *even when we use the `del` keyword*. The `del` keyword only removes that current reference to the object, but if there are more references, `__del__` won't be called. If our object raises an exception, that exception is an object with a **stack trace** (`.__traceback__`) which holds a reference to that object (`ex.__traceback__.tb_frame.f_locals` is a dictionary containing a key which is the variable name associated with that object, and the value is the object itself). If we destroy our reference to it, but forget to destroy the stack trace's reference, that object **does not** get destroyed."
   ]
  },
  {
   "cell_type": "markdown",
   "id": "b2b3012c-4af0-428a-aa7b-24741ff9c210",
   "metadata": {},
   "source": [
    "If we do want to clean up resources after assignment, we should not use the `__del__` keyword as it's nondeterministic. Instead, we should use **context managers**."
   ]
  },
  {
   "cell_type": "markdown",
   "id": "8870d59c-20b0-46da-a685-fe3a090cbe08",
   "metadata": {},
   "source": [
    "As this method is not used very often, I won't expand upon it in any more depth."
   ]
  },
  {
   "cell_type": "markdown",
   "id": "1a1454a0-239f-4351-8d45-133a6ec5e8e9",
   "metadata": {},
   "source": [
    "# 08 - The __format__ Method"
   ]
  },
  {
   "cell_type": "markdown",
   "id": "4cb67eca-6866-41cf-abae-09088c1bf281",
   "metadata": {},
   "source": [
    "The `format` method is yet another representation function alongside `__str__` and `__repr__`.\n",
    "```python\n",
    "format(value, format_spec)\n",
    "```\n",
    "We can use it for floats, datetimes, etc."
   ]
  },
  {
   "cell_type": "code",
   "execution_count": 67,
   "id": "922ae5d8-5c5a-4229-8710-9ea5a37501c9",
   "metadata": {},
   "outputs": [
    {
     "data": {
      "text/plain": [
       "'0.33'"
      ]
     },
     "execution_count": 67,
     "metadata": {},
     "output_type": "execute_result"
    }
   ],
   "source": [
    "format(1/3, '.2f')"
   ]
  },
  {
   "cell_type": "code",
   "execution_count": 72,
   "id": "273b38a1-b2de-4ab6-ad76-a10ef559afd4",
   "metadata": {},
   "outputs": [
    {
     "data": {
      "text/plain": [
       "'Thu 2024-07-11  04:34 PM'"
      ]
     },
     "execution_count": 72,
     "metadata": {},
     "output_type": "execute_result"
    }
   ],
   "source": [
    "from datetime import datetime\n",
    "\n",
    "now = datetime.now()\n",
    "format(now, '%a %Y-%m-%d  %I:%M %p')"
   ]
  },
  {
   "cell_type": "markdown",
   "id": "11e07412-7f56-4bae-8865-1bb537820885",
   "metadata": {},
   "source": [
    "We can override the format specification through `__format__`, but in general we don't want to do so, as it's fairly complex, and it's often easier to delegate to an object which has already implemented formatting e.g. `float()` takes any number and formats it according to its own specification."
   ]
  },
  {
   "cell_type": "code",
   "execution_count": 70,
   "id": "d00de31e-3b70-44e9-8618-835dda9fb0d2",
   "metadata": {},
   "outputs": [
    {
     "data": {
      "text/plain": [
       "0.5"
      ]
     },
     "execution_count": 70,
     "metadata": {},
     "output_type": "execute_result"
    }
   ],
   "source": [
    "float(0.500000)"
   ]
  },
  {
   "cell_type": "markdown",
   "id": "7ea62911-134c-40f7-8d38-7a55c11321ba",
   "metadata": {},
   "source": [
    "Below, we will delegate to `datetime's` formatting specification. This is used when a `datetime` object is passed as a value to the `format()` function:"
   ]
  },
  {
   "cell_type": "code",
   "execution_count": 73,
   "id": "69194f06-3084-4daf-a157-74e44589c17c",
   "metadata": {},
   "outputs": [],
   "source": [
    "class Person:\n",
    "    def __init__(self, name, dob):\n",
    "        self.name = name\n",
    "        self.dob = dob\n",
    "        \n",
    "    def __repr__(self):\n",
    "        print('__repr__ called...')\n",
    "        return f'Person(name={self.name}, dob={self.dob.isoformat()})'\n",
    "    \n",
    "    def __str__(self):\n",
    "        print('__str__ called...')\n",
    "        return f'Person({self.name})'\n",
    "    \n",
    "    def __format__(self, date_format_spec):\n",
    "        print(f'__format__ called with {repr(date_format_spec)}...')\n",
    "        dob = format(self.dob, date_format_spec)\n",
    "        return f'Person(name={self.name}, dob={dob})'"
   ]
  },
  {
   "cell_type": "markdown",
   "id": "af64ed68-df3c-432f-ab18-8d0ecdc6c5d0",
   "metadata": {},
   "source": [
    "So now have:"
   ]
  },
  {
   "cell_type": "code",
   "execution_count": 74,
   "id": "9c1d49b6-673d-4ff6-bb55-40d725835859",
   "metadata": {},
   "outputs": [],
   "source": [
    "from datetime import date\n",
    "\n",
    "p = Person('Alex', date(1900, 10, 20))"
   ]
  },
  {
   "cell_type": "code",
   "execution_count": 75,
   "id": "9eb20bd8-afcf-47a3-a9b6-9706697969aa",
   "metadata": {},
   "outputs": [
    {
     "name": "stdout",
     "output_type": "stream",
     "text": [
      "__str__ called...\n"
     ]
    },
    {
     "data": {
      "text/plain": [
       "'Person(Alex)'"
      ]
     },
     "execution_count": 75,
     "metadata": {},
     "output_type": "execute_result"
    }
   ],
   "source": [
    "str(p)"
   ]
  },
  {
   "cell_type": "code",
   "execution_count": 76,
   "id": "8e8fc839-039f-4cdc-96f8-c82ed4d4830e",
   "metadata": {},
   "outputs": [
    {
     "name": "stdout",
     "output_type": "stream",
     "text": [
      "__repr__ called...\n"
     ]
    },
    {
     "data": {
      "text/plain": [
       "'Person(name=Alex, dob=1900-10-20)'"
      ]
     },
     "execution_count": 76,
     "metadata": {},
     "output_type": "execute_result"
    }
   ],
   "source": [
    "repr(p)"
   ]
  },
  {
   "cell_type": "code",
   "execution_count": 77,
   "id": "c263d2e0-ebe0-474e-bb89-2d3a1510519f",
   "metadata": {},
   "outputs": [
    {
     "name": "stdout",
     "output_type": "stream",
     "text": [
      "__format__ called with '%B %d, %Y'...\n"
     ]
    },
    {
     "data": {
      "text/plain": [
       "'Person(name=Alex, dob=October 20, 1900)'"
      ]
     },
     "execution_count": 77,
     "metadata": {},
     "output_type": "execute_result"
    }
   ],
   "source": [
    "format(p, '%B %d, %Y')"
   ]
  }
 ],
 "metadata": {
  "kernelspec": {
   "display_name": "Python 3 (ipykernel)",
   "language": "python",
   "name": "python3"
  },
  "language_info": {
   "codemirror_mode": {
    "name": "ipython",
    "version": 3
   },
   "file_extension": ".py",
   "mimetype": "text/x-python",
   "name": "python",
   "nbconvert_exporter": "python",
   "pygments_lexer": "ipython3",
   "version": "3.10.4"
  }
 },
 "nbformat": 4,
 "nbformat_minor": 5
}
