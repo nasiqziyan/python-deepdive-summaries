{
 "cells": [
  {
   "cell_type": "markdown",
   "id": "1eadc6f7-e550-4f4d-88ec-6303e6bfec12",
   "metadata": {},
   "source": [
    "**Polymorphism** is the ability to define a generic type of behaviour that may behave different when applied to different types.\n",
    "\n",
    "Python is very polymorphic\n",
    "- It makes use of [duck typing](https://realpython.com/duck-typing-python/#:~:text=Python%20makes%20extensive%20use%20of,a%20core%20concept%20in%20Python.)\n",
    "- Operators +, -, * and / are polymorphic because they work with different types (ints, floats, decimals, lists, tuples, custom objects etc).\n",
    "- When certain dunder methods are implemented in a class to satisfy a protocol, then the instances of that class will be able to make use of that protocol's behaviour. For example, implementing `__enter__` and `__exit__` will make the class function as a context manager with the `with` keyword.. `__iter__` and `__next__` can be implemented for iterable/iterator functionality with the `for` keyword. `__get/set/delitem__` gives sequence functionality with slicing operators (`a[i:j]`) etc.\n",
    "\n",
    "We'll now look at some dunder methods."
   ]
  },
  {
   "cell_type": "markdown",
   "id": "d97551c1-8dfa-49c9-aa17-7b59c574e667",
   "metadata": {},
   "source": [
    "# 01 - __str__ and __repr__ Methods"
   ]
  },
  {
   "cell_type": "markdown",
   "id": "f447e904-616b-4568-b2e5-6c29f46c1aad",
   "metadata": {},
   "source": [
    "Both used for creating a string representation of an object\n",
    "\n",
    "What's the difference?\n",
    "- typically `__repr__` used by developers - often try to make the representation such that the string can be used to recreate the object - the way you'd instantiate the object.\n",
    "- `__str__` is used by `str()` and `print()` functions as well as various formatting functions e.g. f-strings. It's typically used for display purposes to the end user, logging, etc.\n",
    "\n",
    "If `__str__` is not implemented, Python will look for `__repr__` instead.\n",
    "\n",
    "If neither is implemented, Python will look up the inheritance tree to eventually reach `Object` which has a defined `__repr__`."
   ]
  },
  {
   "cell_type": "markdown",
   "id": "a96b2bbf-5b0f-488f-82e7-d344d668ed09",
   "metadata": {},
   "source": [
    "Here's an example:"
   ]
  },
  {
   "cell_type": "code",
   "execution_count": 2,
   "id": "d803884c-59a1-4fcb-8ad4-c7cdc2dfbb66",
   "metadata": {},
   "outputs": [],
   "source": [
    "class Person:\n",
    "    def __init__(self, name, age):\n",
    "        self.name = name\n",
    "        self.age = age\n",
    "        \n",
    "    def __repr__(self):\n",
    "        print('__repr__ called')\n",
    "        return f\"Person(name='{self.name}, age=self.age')\"\n",
    "    \n",
    "    def __str__(self):\n",
    "        print('__str__ called')\n",
    "        return self.name"
   ]
  },
  {
   "cell_type": "code",
   "execution_count": 3,
   "id": "f6aaf613-caaf-4d60-9283-389617d11d68",
   "metadata": {},
   "outputs": [],
   "source": [
    "p = Person('Python', 30)"
   ]
  },
  {
   "cell_type": "markdown",
   "id": "684963e1-6ebd-46d7-a90e-f3975b739ab3",
   "metadata": {},
   "source": [
    "In Jupyter's console, the return of an object will favour the `__repr__` which makes sense as this is what developers will want to see."
   ]
  },
  {
   "cell_type": "code",
   "execution_count": 4,
   "id": "2eaecb28-00a6-4e65-b037-893b80189192",
   "metadata": {},
   "outputs": [
    {
     "name": "stdout",
     "output_type": "stream",
     "text": [
      "__repr__ called\n"
     ]
    },
    {
     "data": {
      "text/plain": [
       "Person(name='Python, age=self.age')"
      ]
     },
     "execution_count": 4,
     "metadata": {},
     "output_type": "execute_result"
    }
   ],
   "source": [
    "p"
   ]
  },
  {
   "cell_type": "markdown",
   "id": "c2770d20-8e21-409b-97f5-86ae2a77b71e",
   "metadata": {},
   "source": [
    "But `print` gives the expected `__str__` output."
   ]
  },
  {
   "cell_type": "code",
   "execution_count": 6,
   "id": "edcd3222-1fa5-4dbc-bcd3-fc8e4b646654",
   "metadata": {},
   "outputs": [
    {
     "name": "stdout",
     "output_type": "stream",
     "text": [
      "__str__ called\n",
      "Python\n"
     ]
    }
   ],
   "source": [
    "print(p)"
   ]
  },
  {
   "cell_type": "markdown",
   "id": "8a7d4c4c-b32d-41e1-b79b-36726414d1f1",
   "metadata": {},
   "source": [
    "# 02 - Arithmetic Operators"
   ]
  },
  {
   "cell_type": "markdown",
   "id": "6c0447d4-5b2a-44e1-8dda-484a9463a7a2",
   "metadata": {},
   "source": [
    "We have `__add__`, `__sub__`, `__mul__`, `__truediv__` (/), `__floordiv__` (//), `__mod__` (%), `__pow__` and `__matmul__` (@).\n",
    "\n",
    "Regarding `__matmul__`, python doesn't actually implement this in any type but it was added for better **numpy** support of matrix multiplication.\n",
    "\n",
    "If we want to indicate that any one of these haven't been implemented, we should implement it and `return NotImplemented` (as opposed to raising an exception). "
   ]
  },
  {
   "cell_type": "markdown",
   "id": "099b9bcf-ff23-4dd9-bbe0-e9073d0c7ba5",
   "metadata": {},
   "source": [
    "Below is an example class that implements adding, subtracting, scalar and dot products of vectors, along with some additional dunder methods such as `__iadd__`, `__neg__` and `__abs__`. \n",
    "\n",
    "After that, we have the descriptions of the different methods implemented as well as some code executions to demonstrate it working:"
   ]
  },
  {
   "cell_type": "markdown",
   "id": "25a8957c-b9f3-4e57-b004-b689a3dbf07f",
   "metadata": {},
   "source": [
    "#### Vector Class Example"
   ]
  },
  {
   "cell_type": "code",
   "execution_count": 23,
   "id": "2671fb59-4ad3-4d89-9f78-c17962175655",
   "metadata": {},
   "outputs": [],
   "source": [
    "from numbers import Real\n",
    "from math import sqrt\n",
    "\n",
    "class Vector:\n",
    "    def __init__(self, *components):\n",
    "        # validate number of components is at least one, and all of them are real numbers\n",
    "        if len(components) < 1:\n",
    "            raise ValueError('Cannot create an empty Vector.')\n",
    "        for component in components:\n",
    "            if not isinstance(component, Real):\n",
    "                raise ValueError(f'Vector components must all be real numbers - {component} is invalid.')\n",
    "        \n",
    "        # use immutable storage for vector\n",
    "        self._components = tuple(components)\n",
    "        \n",
    "    def __len__(self):\n",
    "        return len(self._components)\n",
    "        \n",
    "    @property\n",
    "    def components(self):\n",
    "        return self._components\n",
    "    \n",
    "    def __repr__(self):\n",
    "        # works - but unwieldy for high dimension vectors\n",
    "        return f'Vector{self._components}'\n",
    "    \n",
    "    def validate_type_and_dimension(self, v):\n",
    "        return isinstance(v, Vector) and len(v) == len(self)\n",
    "            \n",
    "    def __add__(self, other):\n",
    "        if not self.validate_type_and_dimension(other):\n",
    "            return NotImplemented\n",
    "        components = (x + y for x, y in zip(self.components, other.components))\n",
    "        return Vector(*components)\n",
    "            \n",
    "    def __sub__(self, other):\n",
    "        if not self.validate_type_and_dimension(other):\n",
    "            return NotImplemented\n",
    "        components = (x - y for x, y in zip(self.components, other.components))\n",
    "        return Vector(*components)\n",
    "    \n",
    "    def __mul__(self, other):\n",
    "        print('__mul__ called...')\n",
    "        if isinstance(other, Real):\n",
    "            components = (other * x for x in self.components)\n",
    "            return Vector(*components)\n",
    "        if self.validate_type_and_dimension(other):\n",
    "            # dot product\n",
    "            components = (x * y for x, y in zip(self.components, other.components))\n",
    "            return sum(components)\n",
    "        return NotImplemented\n",
    "    \n",
    "    def __rmul__(self, other):\n",
    "        print('__rmul__ called...')\n",
    "        # for us, multiplication is commutative, so we can leverage our existing __mul__ method\n",
    "        return self * other\n",
    "    \n",
    "    def __iadd__(self, other):\n",
    "        print('__radd__ called...')\n",
    "        if self.validate_type_and_dimension(other):\n",
    "            components = (x + y for x, y in zip(self.components, other.components))\n",
    "            self._components = tuple(components)  # mutating our Vector object\n",
    "            return self # don't forget to return the result of the operation!\n",
    "        return NotImplemented\n",
    "        \n",
    "    def __neg__(self):\n",
    "        print('__neg__ called...')\n",
    "        components = (-x for x in self.components)\n",
    "        return Vector(*components)\n",
    "    \n",
    "    def __abs__(self):\n",
    "        print('__abs__ called...')\n",
    "        return sqrt(sum(x ** 2 for x in self.components))"
   ]
  },
  {
   "cell_type": "markdown",
   "id": "f171a109-bdb6-469d-b5e1-7cbc40e707e1",
   "metadata": {},
   "source": [
    "#### Reflected Operators"
   ]
  },
  {
   "cell_type": "markdown",
   "id": "f75fbdd3-8a46-4fe4-afd4-001650c57214",
   "metadata": {},
   "source": [
    "**If the first operand of a reflected operator (e.g. `__add__`, `__mul__`) returns `NotImplemented` AND operands are not of the same type**, Python will swap the operands and try the reflected dunder method (e.g. `__radd__`, `__rmul__`). \n",
    "\n",
    "If the operands are of the same type then we never have to worry about the reflected dunder method as it will never be called. If that type has implemented `__mul__`, then order is unimportant as both objects being of that type will have access to `__mul__` so the method can be called. If `__mul__` is not defined, then neither order will work. \n",
    "\n",
    "All dunders above are reflected operators except `__matmul__`.\n",
    "\n",
    "Typically the reflected operator will delegate back to the original. For example, `__rmul__` is often implemented by delegating back to `__mul__` either by calling `__mul__` explictly or just using the `*` operator. "
   ]
  },
  {
   "cell_type": "markdown",
   "id": "30b6c77b-1b90-454b-8646-7e0462ace75a",
   "metadata": {},
   "source": [
    "**Addition/Subtraction**"
   ]
  },
  {
   "cell_type": "code",
   "execution_count": 24,
   "id": "a0035042-e76e-4823-9cf3-44817cc8044e",
   "metadata": {},
   "outputs": [],
   "source": [
    "v1 = Vector(1, 2)\n",
    "v2 = Vector(3, 4)"
   ]
  },
  {
   "cell_type": "code",
   "execution_count": 25,
   "id": "0aa95e45-c0bb-48b1-a3e8-61305f0f4552",
   "metadata": {},
   "outputs": [
    {
     "data": {
      "text/plain": [
       "Vector(4, 6)"
      ]
     },
     "execution_count": 25,
     "metadata": {},
     "output_type": "execute_result"
    }
   ],
   "source": [
    "v1 + v2"
   ]
  },
  {
   "cell_type": "code",
   "execution_count": 26,
   "id": "58fa466d-4b46-49ed-8cd1-0a7908f0473b",
   "metadata": {},
   "outputs": [
    {
     "data": {
      "text/plain": [
       "Vector(-2, -2)"
      ]
     },
     "execution_count": 26,
     "metadata": {},
     "output_type": "execute_result"
    }
   ],
   "source": [
    "v1 - v2"
   ]
  },
  {
   "cell_type": "markdown",
   "id": "b9bdac22-f887-4395-ab9a-43fb0a379fdd",
   "metadata": {},
   "source": [
    "**Multiplication and Reflected Multiplication / Scalar Product**"
   ]
  },
  {
   "cell_type": "code",
   "execution_count": 27,
   "id": "6b400da6-44c3-410d-9839-3d981526e416",
   "metadata": {},
   "outputs": [],
   "source": [
    "v1 = Vector(1, 2)"
   ]
  },
  {
   "cell_type": "code",
   "execution_count": 28,
   "id": "c1b03ff6-1e5a-4f05-95c1-f8b32072a8f1",
   "metadata": {},
   "outputs": [
    {
     "name": "stdout",
     "output_type": "stream",
     "text": [
      "__mul__ called...\n"
     ]
    },
    {
     "data": {
      "text/plain": [
       "Vector(10, 20)"
      ]
     },
     "execution_count": 28,
     "metadata": {},
     "output_type": "execute_result"
    }
   ],
   "source": [
    "v1 * 10"
   ]
  },
  {
   "cell_type": "code",
   "execution_count": 29,
   "id": "8c5ed263-4343-4b78-8c31-edc45d2d53fa",
   "metadata": {},
   "outputs": [
    {
     "name": "stdout",
     "output_type": "stream",
     "text": [
      "__rmul__ called...\n",
      "__mul__ called...\n"
     ]
    },
    {
     "data": {
      "text/plain": [
       "Vector(10, 20)"
      ]
     },
     "execution_count": 29,
     "metadata": {},
     "output_type": "execute_result"
    }
   ],
   "source": [
    "10 * v1"
   ]
  },
  {
   "cell_type": "markdown",
   "id": "b170463b-b8af-4236-bdca-218da6faf915",
   "metadata": {},
   "source": [
    "This only works because the `integer` class has not implemented `__mul__` so it returns `NotImplemented` and both objects are of different types. Also note how `__rmul__` has been implemented with `return self * other` which leverages `__mul__`."
   ]
  },
  {
   "cell_type": "markdown",
   "id": "bdb301f3-aae5-4931-90a7-288677d181f6",
   "metadata": {},
   "source": [
    "**Dot Product**"
   ]
  },
  {
   "cell_type": "code",
   "execution_count": 30,
   "id": "6eb5e36d-31f1-453f-a716-d99c32901e7c",
   "metadata": {},
   "outputs": [],
   "source": [
    "v1 = Vector(2, 3)\n",
    "v2 = Vector(4, 5)"
   ]
  },
  {
   "cell_type": "code",
   "execution_count": 31,
   "id": "bbe790e8-1e42-4a6c-bdc5-5787add8cae8",
   "metadata": {},
   "outputs": [
    {
     "name": "stdout",
     "output_type": "stream",
     "text": [
      "__mul__ called...\n"
     ]
    },
    {
     "data": {
      "text/plain": [
       "23"
      ]
     },
     "execution_count": 31,
     "metadata": {},
     "output_type": "execute_result"
    }
   ],
   "source": [
    "v1 * v2"
   ]
  },
  {
   "cell_type": "markdown",
   "id": "8fbdc8c0-0222-4f07-937f-e5f939d1c810",
   "metadata": {},
   "source": [
    "#### In-Place Operators"
   ]
  },
  {
   "cell_type": "markdown",
   "id": "552e5454-bd88-4a25-b0e1-a9bb866af9d5",
   "metadata": {},
   "source": [
    "Examples of these are `__iadd__` (+=), `__isub__` (-=), `__imul__` (\\*=), `__itruediv__` (/=), `__ifloordiv__` (//=), `__imod__` (%=) and `__ipow__` (**=).\n",
    "\n",
    "Since these are in-place, typically in-place operators will try to **mutate** the object on the left of the expression, but this is **not** guaranteed. Tuples are a good example:"
   ]
  },
  {
   "cell_type": "code",
   "execution_count": 32,
   "id": "782552c9-6c95-4411-8bce-944452be5735",
   "metadata": {},
   "outputs": [
    {
     "name": "stdout",
     "output_type": "stream",
     "text": [
      "2383005389568\n",
      "2383005565392\n"
     ]
    }
   ],
   "source": [
    "t = (1, 2)\n",
    "print(id(t))\n",
    "t += (3, 4)\n",
    "print(id(t))"
   ]
  },
  {
   "cell_type": "markdown",
   "id": "01cf6968-56f1-4dbf-9eb9-ad40ffec916f",
   "metadata": {},
   "source": [
    "Therefore, the in-place dunder methods will not force you to keep the return an object of the same ID.\n",
    "\n",
    "Here's our implementation:"
   ]
  },
  {
   "cell_type": "code",
   "execution_count": 33,
   "id": "0754fa37-cb4c-45dc-87bb-656d435d03ee",
   "metadata": {},
   "outputs": [
    {
     "name": "stdout",
     "output_type": "stream",
     "text": [
      "2382985773552\n",
      "__radd__ called...\n",
      "2382985773552 Vector(11, 22)\n"
     ]
    }
   ],
   "source": [
    "v1 = Vector(1, 2)\n",
    "v2 = Vector(10, 20)\n",
    "\n",
    "print(id(v1))\n",
    "\n",
    "v1 += v2\n",
    "\n",
    "print(id(v1), v1)"
   ]
  },
  {
   "cell_type": "markdown",
   "id": "60c19b77-fdd0-44f3-9fbd-2fde16328854",
   "metadata": {},
   "source": [
    "#### Unary Operators"
   ]
  },
  {
   "cell_type": "markdown",
   "id": "55a5f1f8-8427-479e-912f-d2a3fab647ec",
   "metadata": {},
   "source": [
    "Examples of these are `__neg__` (-a), `__pos__` (+a), `__abs__` (`abs(a)`).\n",
    "\n",
    "First, negation:"
   ]
  },
  {
   "cell_type": "code",
   "execution_count": 34,
   "id": "ec0615c0-ba33-41f2-95e0-224c16042ca5",
   "metadata": {},
   "outputs": [
    {
     "name": "stdout",
     "output_type": "stream",
     "text": [
      "__neg__ called...\n"
     ]
    },
    {
     "data": {
      "text/plain": [
       "Vector(-1, -2)"
      ]
     },
     "execution_count": 34,
     "metadata": {},
     "output_type": "execute_result"
    }
   ],
   "source": [
    "v1 = Vector(1, 2)\n",
    "-v1"
   ]
  },
  {
   "cell_type": "markdown",
   "id": "06838f28-0784-4e90-bcf2-9d373314ef09",
   "metadata": {},
   "source": [
    "So we can use it in arithmetic operations such as:"
   ]
  },
  {
   "cell_type": "code",
   "execution_count": 35,
   "id": "51f57bc1-bbd0-46d6-8b66-694f274b0cd5",
   "metadata": {},
   "outputs": [
    {
     "name": "stdout",
     "output_type": "stream",
     "text": [
      "__neg__ called...\n"
     ]
    },
    {
     "data": {
      "text/plain": [
       "Vector(9, 8)"
      ]
     },
     "execution_count": 35,
     "metadata": {},
     "output_type": "execute_result"
    }
   ],
   "source": [
    "v2 = Vector(10, 10)\n",
    "\n",
    "v2 + -v1"
   ]
  },
  {
   "cell_type": "markdown",
   "id": "02165503-a2a8-40de-8f5b-10ea42478a15",
   "metadata": {},
   "source": [
    "Now, absolute values:"
   ]
  },
  {
   "cell_type": "code",
   "execution_count": 36,
   "id": "7b22e44c-554b-45f3-bd01-c18f3256487e",
   "metadata": {},
   "outputs": [],
   "source": [
    "v1 = Vector(1, 1)"
   ]
  },
  {
   "cell_type": "code",
   "execution_count": 37,
   "id": "52f916f7-a0f4-429d-8b5e-ae0de206af2e",
   "metadata": {},
   "outputs": [
    {
     "name": "stdout",
     "output_type": "stream",
     "text": [
      "__abs__ called...\n"
     ]
    },
    {
     "data": {
      "text/plain": [
       "1.4142135623730951"
      ]
     },
     "execution_count": 37,
     "metadata": {},
     "output_type": "execute_result"
    }
   ],
   "source": [
    "abs(v1)"
   ]
  },
  {
   "cell_type": "markdown",
   "id": "d20cd075-5596-4a96-99be-5cb2726c3407",
   "metadata": {},
   "source": [
    "# 03 - Rich Comparisons"
   ]
  },
  {
   "cell_type": "markdown",
   "id": "a2450f85-ae90-4387-a114-ba2dfb54e60e",
   "metadata": {},
   "source": [
    "Rich comparisons (<, <=, >, >=, ==) are quite straightforward. \n",
    "\n",
    "If `==` is not implemented, Python defaults to the identity operator: `is`.\n",
    "\n",
    "Furthermore, if one comparison does not exist (object returns `NotImplemented`), Python will try to the reverse the operands and the operator (and unlike the arithmetic operators, both operands can be of the same type).\n",
    "\n",
    "So if `a` has not implemented `__lt__`, then `a < b` will attempt `b > a` : `b.__gt__(a)`. \n",
    "\n",
    "The same applies for <=.\n",
    "For `==`, we get `!=` for free, as Python will just do `not(a == b)`."
   ]
  },
  {
   "cell_type": "markdown",
   "id": "b9be90ab-1228-4fc5-8a06-5f6cc169f188",
   "metadata": {},
   "source": [
    "**Total Ordering**\n",
    "\n",
    "In many cases, we can use the `@totalordering` decorator to derive almost all rich comparisons from just two base ones: the `__eq__` and one other one, maybe `__lt__`, or `__le__`, etc.\n",
    "\n",
    "For example, if `==` and `<` is defined, then:\n",
    "- `a <= b` is `a == b or a < b`\n",
    "- `a > b` is `b < a`\n",
    "- `a >= b` is `a == b or b < a`\n",
    "- `a != b` is `not(a == b)`\n",
    "\n",
    "On the other hand if we define `==` and `<=`, then:\n",
    "- `a < b` is `a <= b and not(a == b)`\n",
    "- `a >= b` is `b <= a`\n",
    "- `a > b` is `b <= a and not(b == a)`\n",
    "- `a != b` is `not(a == b)`"
   ]
  },
  {
   "cell_type": "code",
   "execution_count": 11,
   "id": "8a973ff9-7608-4754-b96b-ff8cc038de53",
   "metadata": {},
   "outputs": [],
   "source": [
    "from functools import total_ordering\n",
    "\n",
    "@total_ordering\n",
    "class Number:\n",
    "    def __init__(self, x):\n",
    "        self.x = x\n",
    "        \n",
    "    def __eq__(self, other):\n",
    "        print('__eq__ called...')\n",
    "        if isinstance(other, Number):\n",
    "            return self.x == other.x\n",
    "        return NotImplemented\n",
    "    \n",
    "    def __lt__(self, other):\n",
    "        print('__lt__ called...')\n",
    "        if isinstance(other, Number):\n",
    "            return self.x < other.x\n",
    "        return NotImplemented"
   ]
  },
  {
   "cell_type": "code",
   "execution_count": 12,
   "id": "eab45d93-8e83-4fd7-8c61-cca05f2cd8e4",
   "metadata": {},
   "outputs": [],
   "source": [
    "a = Number(1)\n",
    "b = Number(2)\n",
    "c = Number(1)"
   ]
  },
  {
   "cell_type": "code",
   "execution_count": 13,
   "id": "95019034-2229-403b-9dc5-19f7a3f51c6e",
   "metadata": {},
   "outputs": [
    {
     "name": "stdout",
     "output_type": "stream",
     "text": [
      "__lt__ called...\n"
     ]
    },
    {
     "data": {
      "text/plain": [
       "True"
      ]
     },
     "execution_count": 13,
     "metadata": {},
     "output_type": "execute_result"
    }
   ],
   "source": [
    "a < b"
   ]
  },
  {
   "cell_type": "code",
   "execution_count": 14,
   "id": "d6280d5c-7429-4ed5-9974-9865a552d67d",
   "metadata": {},
   "outputs": [
    {
     "name": "stdout",
     "output_type": "stream",
     "text": [
      "__lt__ called...\n"
     ]
    },
    {
     "data": {
      "text/plain": [
       "True"
      ]
     },
     "execution_count": 14,
     "metadata": {},
     "output_type": "execute_result"
    }
   ],
   "source": [
    "a <= b"
   ]
  },
  {
   "cell_type": "markdown",
   "id": "e6e9d076-b627-4c0b-8dbe-f74a5f57a69c",
   "metadata": {},
   "source": [
    "You'll notice that `__eq__` was not called - that's because `a < b` was True, and short-circuit evaluation. In this next example though, you'll see both methods are called:"
   ]
  },
  {
   "cell_type": "code",
   "execution_count": 15,
   "id": "efb81224-c151-4dbe-8528-7e67e9c0d0d2",
   "metadata": {},
   "outputs": [
    {
     "name": "stdout",
     "output_type": "stream",
     "text": [
      "__lt__ called...\n",
      "__eq__ called...\n"
     ]
    },
    {
     "data": {
      "text/plain": [
       "True"
      ]
     },
     "execution_count": 15,
     "metadata": {},
     "output_type": "execute_result"
    }
   ],
   "source": [
    "a <= c"
   ]
  },
  {
   "cell_type": "markdown",
   "id": "ed63f895-1daf-4cbe-ab81-85abb71fac05",
   "metadata": {},
   "source": [
    "# 04 - Hashing and Equality"
   ]
  },
  {
   "cell_type": "markdown",
   "id": "794ff76e-40b7-4c97-9641-6f79efe61774",
   "metadata": {},
   "source": [
    "Since this has been covered in more detail elsewhere, I will just jot down some reminders and useful tips:"
   ]
  },
  {
   "cell_type": "markdown",
   "id": "d5943132-f431-40b4-a574-86840828c86c",
   "metadata": {},
   "source": [
    "Recall that for an object to be usable in a mapping type (key in a dictionary, element of a set, etc.) it must be **hashable**.\n",
    "\n",
    "Therefore we should implement `__hash__` and `__eq__`. \n",
    "\n",
    "If `__eq__` is implemented, `__hash__` is implicitly set to `None` unless `__hash__` is implemented. Check out [Part 3: Section 3 - Subsection 05 Custom Classes and Hashing](https://github.com/nasiqziyan/python-deepdive-summaries/blob/main/Part%203/Summaries/Section%203%20Summary.ipynb) for more info. \n",
    "\n",
    "Always remember the rule for hash functions: **If two objects compare equal (==), they must hash equal.**\n",
    "\n",
    "If `__eq__` has been overrided, then two objects may compare equal but Python knows they can't possible hash equal since, if `__hash__` hasn't been implemented, it will default to using the memory ID which is unique for all objects. "
   ]
  },
  {
   "cell_type": "markdown",
   "id": "55efd6d5-08a3-43fa-bb27-81864fb5ae17",
   "metadata": {},
   "source": [
    "All objects inherit from `object`. Since this class has implemented default behaviours for `__hash__`, `__eq__`, etc., all objects will use this unless overridden."
   ]
  },
  {
   "cell_type": "markdown",
   "id": "f9983fdc-e22c-444f-9124-695ab018c545",
   "metadata": {},
   "source": [
    "Generally speaking, if we want to hash an instance based off one of its properties e.g. `self.name`, then we should make that property immutable. We do this by implementing the getter `@property` but not the setter."
   ]
  },
  {
   "cell_type": "markdown",
   "id": "7e00e376-fe70-49a3-bd4b-3c68b7ff245f",
   "metadata": {},
   "source": [
    "# 05 - Booleans"
   ]
  },
  {
   "cell_type": "markdown",
   "id": "73a4f606-9dd2-41c7-89f4-cb7e583f9a09",
   "metadata": {},
   "source": [
    "As we know, all objects in Python have an associated boolean value. This can be overridden with `__bool__`. \n",
    "\n",
    "If `__bool__` is not defined, \n",
    "- Python will look for `__len__`. If that returns **0**, we return `False`; else, we return `True`.\n",
    "- if neither `__bool__` or `__len__` is present, we always return `True`.\n",
    "\n",
    "Therefore, for custom iterables, we only need to implement `__len__` and not `__bool__` to stay consistent with other collection types.\n",
    "\n",
    "So by default, all objects are truthy."
   ]
  },
  {
   "cell_type": "markdown",
   "id": "4aa24331-3739-479c-95c5-108f24ef4800",
   "metadata": {},
   "source": [
    "# 06 - Callables"
   ]
  },
  {
   "cell_type": "markdown",
   "id": "182b7139-93cf-4c83-aebb-fe06a6deb9a3",
   "metadata": {},
   "source": [
    "- Any object can be amde to emulate a callable by implementing a `__call__` method. Many tools in the standard library actually implement this. For example, `partial` from `functools` is a class that behaves like a function via `__call__`.\n",
    "\n",
    "- We can find out if any object is a callable with `callable()`, e.g. `callable(print) -> True`."
   ]
  },
  {
   "cell_type": "code",
   "execution_count": null,
   "id": "4aed5075-3917-4c3f-89e8-f2e5c8300749",
   "metadata": {},
   "outputs": [],
   "source": []
  },
  {
   "cell_type": "markdown",
   "id": "b185a9b2-bd86-44ea-8622-fbbfb975b9cb",
   "metadata": {},
   "source": [
    "# 07 - The __del__ Method"
   ]
  },
  {
   "cell_type": "markdown",
   "id": "1a1454a0-239f-4351-8d45-133a6ec5e8e9",
   "metadata": {},
   "source": [
    "# 08 - The __format__ Method"
   ]
  }
 ],
 "metadata": {
  "kernelspec": {
   "display_name": "Python 3 (ipykernel)",
   "language": "python",
   "name": "python3"
  },
  "language_info": {
   "codemirror_mode": {
    "name": "ipython",
    "version": 3
   },
   "file_extension": ".py",
   "mimetype": "text/x-python",
   "name": "python",
   "nbconvert_exporter": "python",
   "pygments_lexer": "ipython3",
   "version": "3.8.0"
  }
 },
 "nbformat": 4,
 "nbformat_minor": 5
}
