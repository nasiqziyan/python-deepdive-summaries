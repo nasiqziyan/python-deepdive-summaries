{
 "cells": [
  {
   "cell_type": "markdown",
   "id": "89fb4f91-c554-4400-8f5d-2a2f6526fb65",
   "metadata": {},
   "source": [
    "# 01 - Python Exceptions"
   ]
  },
  {
   "cell_type": "markdown",
   "id": "a9f037ab-a983-4434-bee0-d3ddab2dfa3f",
   "metadata": {},
   "source": [
    "When an exception is raised, Python triggers a special execution **propagation** workflow.\n",
    "\n",
    "If the current call does not handle the exception, it is propagated up the stack to the caller. If the exception isn't handled anywhere throughout our code, then it propagates to the module level which terminates our program."
   ]
  },
  {
   "cell_type": "markdown",
   "id": "99f3d061-be0a-4f87-98e0-2e566cbba64c",
   "metadata": {},
   "source": [
    "In-built Python exceptions are arranged in the following hierarchy:\n",
    "- `BaseException`\n",
    "    - `SystemExit` (raised on `sys.exit()`)\n",
    "    - `KeyboardInterrupt` (raised on Ctrl+C for example)\n",
    "    - `GeneratorExit` (raised when generator or coroutine is closed)\n",
    "    - `Exception` -> Everything else. Subclasses of this includes `ValueError`, `TypeError`, `SyntaxError`, `RuntimeError`"
   ]
  },
  {
   "cell_type": "markdown",
   "id": "b039636b-6c20-4c7c-b81c-fee40915afc8",
   "metadata": {},
   "source": [
    "The most basic structure of exception handling is the following:\n",
    "```python\n",
    "try:\n",
    "    ...\n",
    "except ValueError as ex:\n",
    "    ...\n",
    "```\n",
    "The `as` keyword in the `except` block gives us a handle to the **instance** of the exception."
   ]
  },
  {
   "cell_type": "markdown",
   "id": "fddffbf9-2543-44c6-a728-05a045c59855",
   "metadata": {},
   "source": [
    "Here is a basic example to highlight the importance of avoiding bare exceptions. We are iterating through an iterable and squaring each value. Ideally we want to guard against calling `squares(seq, max_n)` with a `max_n` greater than the length of `seq`."
   ]
  },
  {
   "cell_type": "code",
   "execution_count": 16,
   "id": "bb77e972-3296-4e12-81d5-47f9b41bd1d2",
   "metadata": {},
   "outputs": [],
   "source": [
    "def square(seq, index):\n",
    "    return seq[index] ** 2\n",
    "\n",
    "def squares(seq, max_n):\n",
    "    for i in range(max_n):\n",
    "        try:\n",
    "            yield square(seq, i)\n",
    "        except:\n",
    "            return"
   ]
  },
  {
   "cell_type": "code",
   "execution_count": 17,
   "id": "5561a164-1e3d-4b73-a581-6c445bb3b673",
   "metadata": {},
   "outputs": [
    {
     "data": {
      "text/plain": [
       "[1, 4, 9, 16, 25]"
      ]
     },
     "execution_count": 17,
     "metadata": {},
     "output_type": "execute_result"
    }
   ],
   "source": [
    "l = [1, 2, 3, 4, 5]\n",
    "list(squares(l, 10))"
   ]
  },
  {
   "cell_type": "markdown",
   "id": "95530a15-4e87-475a-82ea-089d63768c78",
   "metadata": {},
   "source": [
    "This ran successfully as expected as we caught the `IndexError` due to `max_n` being greater than the length of the sequence. "
   ]
  },
  {
   "cell_type": "code",
   "execution_count": 18,
   "id": "9cb038f0-5e97-433c-beb7-8d9eaca42312",
   "metadata": {},
   "outputs": [
    {
     "data": {
      "text/plain": [
       "[1, 4]"
      ]
     },
     "execution_count": 18,
     "metadata": {},
     "output_type": "execute_result"
    }
   ],
   "source": [
    "l = [1, 2, '3', 4, 5]\n",
    "list(squares(l, 10))"
   ]
  },
  {
   "cell_type": "markdown",
   "id": "187a2306-574a-4daf-912c-7f66c176dfad",
   "metadata": {},
   "source": [
    "This should've terminated with a meaningful output as `seq['3'] ** 2` should raise a **TypeError**. But it actually ran successfully.\n",
    "\n",
    "This was because this exception was caught by our bare exception causing our program to terminate, but really, we would want this error to bubble up as we only intended to guard against `IndexErrors`. Fixing this, we get the desired bubble-up: "
   ]
  },
  {
   "cell_type": "code",
   "execution_count": 12,
   "id": "29cacbf4-bfdf-4a89-80c4-a7223957340a",
   "metadata": {},
   "outputs": [],
   "source": [
    "def square(seq, index):\n",
    "    return seq[index] ** 2\n",
    "\n",
    "def squares(seq, max_n):\n",
    "    for i in range(max_n):\n",
    "        try:\n",
    "            yield square(seq, i)\n",
    "        except IndexError:\n",
    "            return"
   ]
  },
  {
   "cell_type": "code",
   "execution_count": 13,
   "id": "d1c4721a-9d8b-44a2-9049-b2cdf365f203",
   "metadata": {},
   "outputs": [
    {
     "ename": "TypeError",
     "evalue": "unsupported operand type(s) for ** or pow(): 'str' and 'int'",
     "output_type": "error",
     "traceback": [
      "\u001b[1;31m---------------------------------------------------------------------------\u001b[0m",
      "\u001b[1;31mTypeError\u001b[0m                                 Traceback (most recent call last)",
      "Cell \u001b[1;32mIn[13], line 2\u001b[0m\n\u001b[0;32m      1\u001b[0m l \u001b[38;5;241m=\u001b[39m [\u001b[38;5;241m1\u001b[39m, \u001b[38;5;241m2\u001b[39m, \u001b[38;5;124m'\u001b[39m\u001b[38;5;124m3\u001b[39m\u001b[38;5;124m'\u001b[39m, \u001b[38;5;241m4\u001b[39m, \u001b[38;5;241m5\u001b[39m]\n\u001b[1;32m----> 2\u001b[0m \u001b[38;5;28;43mlist\u001b[39;49m\u001b[43m(\u001b[49m\u001b[43msquares\u001b[49m\u001b[43m(\u001b[49m\u001b[43ml\u001b[49m\u001b[43m,\u001b[49m\u001b[43m \u001b[49m\u001b[38;5;241;43m10\u001b[39;49m\u001b[43m)\u001b[49m\u001b[43m)\u001b[49m\n",
      "Cell \u001b[1;32mIn[12], line 7\u001b[0m, in \u001b[0;36msquares\u001b[1;34m(seq, max_n)\u001b[0m\n\u001b[0;32m      5\u001b[0m \u001b[38;5;28;01mfor\u001b[39;00m i \u001b[38;5;129;01min\u001b[39;00m \u001b[38;5;28mrange\u001b[39m(max_n):\n\u001b[0;32m      6\u001b[0m     \u001b[38;5;28;01mtry\u001b[39;00m:\n\u001b[1;32m----> 7\u001b[0m         \u001b[38;5;28;01myield\u001b[39;00m \u001b[43msquare\u001b[49m\u001b[43m(\u001b[49m\u001b[43mseq\u001b[49m\u001b[43m,\u001b[49m\u001b[43m \u001b[49m\u001b[43mi\u001b[49m\u001b[43m)\u001b[49m\n\u001b[0;32m      8\u001b[0m     \u001b[38;5;28;01mexcept\u001b[39;00m \u001b[38;5;167;01mIndexError\u001b[39;00m:\n\u001b[0;32m      9\u001b[0m         \u001b[38;5;28;01mreturn\u001b[39;00m\n",
      "Cell \u001b[1;32mIn[12], line 2\u001b[0m, in \u001b[0;36msquare\u001b[1;34m(seq, index)\u001b[0m\n\u001b[0;32m      1\u001b[0m \u001b[38;5;28;01mdef\u001b[39;00m \u001b[38;5;21msquare\u001b[39m(seq, index):\n\u001b[1;32m----> 2\u001b[0m     \u001b[38;5;28;01mreturn\u001b[39;00m \u001b[43mseq\u001b[49m\u001b[43m[\u001b[49m\u001b[43mindex\u001b[49m\u001b[43m]\u001b[49m\u001b[43m \u001b[49m\u001b[38;5;241;43m*\u001b[39;49m\u001b[38;5;241;43m*\u001b[39;49m\u001b[43m \u001b[49m\u001b[38;5;241;43m2\u001b[39;49m\n",
      "\u001b[1;31mTypeError\u001b[0m: unsupported operand type(s) for ** or pow(): 'str' and 'int'"
     ]
    }
   ],
   "source": [
    "l = [1, 2, '3', 4, 5]\n",
    "list(squares(l, 10))"
   ]
  },
  {
   "cell_type": "markdown",
   "id": "3c373b5e-a07d-4f2f-9dfc-42516f918043",
   "metadata": {},
   "source": [
    "# 02 - Handling Exceptions"
   ]
  },
  {
   "cell_type": "markdown",
   "id": "de88e11a-0673-46dc-b290-be64106bb9e8",
   "metadata": {},
   "source": [
    "# 03 - Raising Exceptions"
   ]
  },
  {
   "cell_type": "markdown",
   "id": "30a694a3-57bb-44b2-abc8-e09d81dd9505",
   "metadata": {},
   "source": [
    "# 04 - Custom Exceptions"
   ]
  },
  {
   "cell_type": "code",
   "execution_count": null,
   "id": "8bda4907-f60c-4b1e-bbbb-cd091df9fc7f",
   "metadata": {},
   "outputs": [],
   "source": []
  }
 ],
 "metadata": {
  "kernelspec": {
   "display_name": "Python 3 (ipykernel)",
   "language": "python",
   "name": "python3"
  },
  "language_info": {
   "codemirror_mode": {
    "name": "ipython",
    "version": 3
   },
   "file_extension": ".py",
   "mimetype": "text/x-python",
   "name": "python",
   "nbconvert_exporter": "python",
   "pygments_lexer": "ipython3",
   "version": "3.10.4"
  }
 },
 "nbformat": 4,
 "nbformat_minor": 5
}
