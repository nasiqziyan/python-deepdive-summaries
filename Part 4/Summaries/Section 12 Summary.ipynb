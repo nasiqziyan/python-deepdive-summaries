{
 "cells": [
  {
   "cell_type": "markdown",
   "id": "89fb4f91-c554-4400-8f5d-2a2f6526fb65",
   "metadata": {},
   "source": [
    "# 01 - Python Exceptions"
   ]
  },
  {
   "cell_type": "markdown",
   "id": "a9f037ab-a983-4434-bee0-d3ddab2dfa3f",
   "metadata": {},
   "source": [
    "When an exception is raised, Python triggers a special execution **propagation** workflow.\n",
    "\n",
    "If the current call does not handle the exception, it is propagated up the stack to the caller. If the exception isn't handled anywhere throughout our code, then it propagates to the module level which terminates our program."
   ]
  },
  {
   "cell_type": "markdown",
   "id": "99f3d061-be0a-4f87-98e0-2e566cbba64c",
   "metadata": {},
   "source": [
    "In-built Python exceptions are arranged in the following hierarchy:\n",
    "- `BaseException`\n",
    "    - `SystemExit` (raised on `sys.exit()`)\n",
    "    - `KeyboardInterrupt` (raised on Ctrl+C for example)\n",
    "    - `GeneratorExit` (raised when generator or coroutine is closed)\n",
    "    - `Exception` -> Everything else. Subclasses of this includes `ValueError`, `TypeError`, `SyntaxError`, `RuntimeError`"
   ]
  },
  {
   "cell_type": "markdown",
   "id": "b039636b-6c20-4c7c-b81c-fee40915afc8",
   "metadata": {},
   "source": [
    "The structure of total exception handling is the following:\n",
    "```python\n",
    "try:\n",
    "    <code we want to protect from exceptions>\n",
    "    \n",
    "except <ExceptionType> as ex:\n",
    "    <code that runs if specified <ExceptionType> occurs (or any subclass)> # This should be the most specific exception.\n",
    "\n",
    "except <ExceptionType2> as ex2:\n",
    "    <code that runs if specified <ExceptionType> occurs (or any subclass)> # This should be less specific than the first exception.\n",
    "    \n",
    "finally:\n",
    "    <code that always executes whether exception occured or not>\n",
    "    \n",
    "else:\n",
    "    <code that executes if try terminates without exceptions>\n",
    "```\n",
    "The `as` keyword in the `except` block gives us a handle to the **instance** of the exception."
   ]
  },
  {
   "cell_type": "markdown",
   "id": "fddffbf9-2543-44c6-a728-05a045c59855",
   "metadata": {},
   "source": [
    "Here is a basic example to highlight the importance of avoiding bare exceptions. We are iterating through an iterable and squaring each value. Ideally we want to guard against calling `squares(seq, max_n)` with a `max_n` greater than the length of `seq`."
   ]
  },
  {
   "cell_type": "code",
   "execution_count": 16,
   "id": "bb77e972-3296-4e12-81d5-47f9b41bd1d2",
   "metadata": {},
   "outputs": [],
   "source": [
    "def square(seq, index):\n",
    "    return seq[index] ** 2\n",
    "\n",
    "def squares(seq, max_n):\n",
    "    for i in range(max_n):\n",
    "        try:\n",
    "            yield square(seq, i)\n",
    "        except:\n",
    "            return"
   ]
  },
  {
   "cell_type": "code",
   "execution_count": 17,
   "id": "5561a164-1e3d-4b73-a581-6c445bb3b673",
   "metadata": {},
   "outputs": [
    {
     "data": {
      "text/plain": [
       "[1, 4, 9, 16, 25]"
      ]
     },
     "execution_count": 17,
     "metadata": {},
     "output_type": "execute_result"
    }
   ],
   "source": [
    "l = [1, 2, 3, 4, 5]\n",
    "list(squares(l, 10))"
   ]
  },
  {
   "cell_type": "markdown",
   "id": "95530a15-4e87-475a-82ea-089d63768c78",
   "metadata": {},
   "source": [
    "This ran successfully as expected as we caught the `IndexError` due to `max_n` being greater than the length of the sequence. "
   ]
  },
  {
   "cell_type": "code",
   "execution_count": 18,
   "id": "9cb038f0-5e97-433c-beb7-8d9eaca42312",
   "metadata": {},
   "outputs": [
    {
     "data": {
      "text/plain": [
       "[1, 4]"
      ]
     },
     "execution_count": 18,
     "metadata": {},
     "output_type": "execute_result"
    }
   ],
   "source": [
    "l = [1, 2, '3', 4, 5]\n",
    "list(squares(l, 10))"
   ]
  },
  {
   "cell_type": "markdown",
   "id": "187a2306-574a-4daf-912c-7f66c176dfad",
   "metadata": {},
   "source": [
    "This should've terminated with a meaningful output as `seq['3'] ** 2` should raise a **TypeError**. But it actually ran successfully.\n",
    "\n",
    "This was because this exception was caught by our bare exception causing our program to terminate, but really, we would want this error to bubble up as we only intended to guard against `IndexErrors`. Fixing this, we get the desired bubble-up: "
   ]
  },
  {
   "cell_type": "code",
   "execution_count": 12,
   "id": "29cacbf4-bfdf-4a89-80c4-a7223957340a",
   "metadata": {},
   "outputs": [],
   "source": [
    "def square(seq, index):\n",
    "    return seq[index] ** 2\n",
    "\n",
    "def squares(seq, max_n):\n",
    "    for i in range(max_n):\n",
    "        try:\n",
    "            yield square(seq, i)\n",
    "        except IndexError:\n",
    "            return"
   ]
  },
  {
   "cell_type": "code",
   "execution_count": 13,
   "id": "d1c4721a-9d8b-44a2-9049-b2cdf365f203",
   "metadata": {},
   "outputs": [
    {
     "ename": "TypeError",
     "evalue": "unsupported operand type(s) for ** or pow(): 'str' and 'int'",
     "output_type": "error",
     "traceback": [
      "\u001b[1;31m---------------------------------------------------------------------------\u001b[0m",
      "\u001b[1;31mTypeError\u001b[0m                                 Traceback (most recent call last)",
      "Cell \u001b[1;32mIn[13], line 2\u001b[0m\n\u001b[0;32m      1\u001b[0m l \u001b[38;5;241m=\u001b[39m [\u001b[38;5;241m1\u001b[39m, \u001b[38;5;241m2\u001b[39m, \u001b[38;5;124m'\u001b[39m\u001b[38;5;124m3\u001b[39m\u001b[38;5;124m'\u001b[39m, \u001b[38;5;241m4\u001b[39m, \u001b[38;5;241m5\u001b[39m]\n\u001b[1;32m----> 2\u001b[0m \u001b[38;5;28;43mlist\u001b[39;49m\u001b[43m(\u001b[49m\u001b[43msquares\u001b[49m\u001b[43m(\u001b[49m\u001b[43ml\u001b[49m\u001b[43m,\u001b[49m\u001b[43m \u001b[49m\u001b[38;5;241;43m10\u001b[39;49m\u001b[43m)\u001b[49m\u001b[43m)\u001b[49m\n",
      "Cell \u001b[1;32mIn[12], line 7\u001b[0m, in \u001b[0;36msquares\u001b[1;34m(seq, max_n)\u001b[0m\n\u001b[0;32m      5\u001b[0m \u001b[38;5;28;01mfor\u001b[39;00m i \u001b[38;5;129;01min\u001b[39;00m \u001b[38;5;28mrange\u001b[39m(max_n):\n\u001b[0;32m      6\u001b[0m     \u001b[38;5;28;01mtry\u001b[39;00m:\n\u001b[1;32m----> 7\u001b[0m         \u001b[38;5;28;01myield\u001b[39;00m \u001b[43msquare\u001b[49m\u001b[43m(\u001b[49m\u001b[43mseq\u001b[49m\u001b[43m,\u001b[49m\u001b[43m \u001b[49m\u001b[43mi\u001b[49m\u001b[43m)\u001b[49m\n\u001b[0;32m      8\u001b[0m     \u001b[38;5;28;01mexcept\u001b[39;00m \u001b[38;5;167;01mIndexError\u001b[39;00m:\n\u001b[0;32m      9\u001b[0m         \u001b[38;5;28;01mreturn\u001b[39;00m\n",
      "Cell \u001b[1;32mIn[12], line 2\u001b[0m, in \u001b[0;36msquare\u001b[1;34m(seq, index)\u001b[0m\n\u001b[0;32m      1\u001b[0m \u001b[38;5;28;01mdef\u001b[39;00m \u001b[38;5;21msquare\u001b[39m(seq, index):\n\u001b[1;32m----> 2\u001b[0m     \u001b[38;5;28;01mreturn\u001b[39;00m \u001b[43mseq\u001b[49m\u001b[43m[\u001b[49m\u001b[43mindex\u001b[49m\u001b[43m]\u001b[49m\u001b[43m \u001b[49m\u001b[38;5;241;43m*\u001b[39;49m\u001b[38;5;241;43m*\u001b[39;49m\u001b[43m \u001b[49m\u001b[38;5;241;43m2\u001b[39;49m\n",
      "\u001b[1;31mTypeError\u001b[0m: unsupported operand type(s) for ** or pow(): 'str' and 'int'"
     ]
    }
   ],
   "source": [
    "l = [1, 2, '3', 4, 5]\n",
    "list(squares(l, 10))"
   ]
  },
  {
   "cell_type": "markdown",
   "id": "3c373b5e-a07d-4f2f-9dfc-42516f918043",
   "metadata": {},
   "source": [
    "# 02 - Handling Exceptions"
   ]
  },
  {
   "cell_type": "markdown",
   "id": "e5c2d59d-d2d8-40f4-99c1-9448e3236df2",
   "metadata": {},
   "source": [
    "#### Lecture"
   ]
  },
  {
   "cell_type": "markdown",
   "id": "754bff9f-9278-43d3-85cf-ccca6cfbb7f6",
   "metadata": {},
   "source": [
    "One important rule of them regarding exception handling is to **only guard code where you can do something about the exception**.\n",
    "\n",
    "If you can't do anything about it, then terminating your code is a valid option"
   ]
  },
  {
   "cell_type": "markdown",
   "id": "d57c2ae8-d60b-4ac1-85ca-0704ad7ea938",
   "metadata": {},
   "source": [
    "As seen in the previous subsection, we can have multiple exceptions for a given `try`. \n",
    "\n",
    "We should ensure that our `except` blocks go from most specific to least (in terms of class hierarchy) as the first `except` statement that matches will run which will prevent any further `excepts` from running."
   ]
  },
  {
   "cell_type": "markdown",
   "id": "7fcf874a-66c0-45f0-86df-ed08789fbd6a",
   "metadata": {},
   "source": [
    "We can also handle **multiple** exceptions in the **same** way by grouping them into a tuple:\n",
    "```python\n",
    "try:\n",
    "    ...\n",
    "except (ValueError, TypeError) as ex:\n",
    "    log(ex)\n",
    "```"
   ]
  },
  {
   "cell_type": "markdown",
   "id": "e9b57eed-e501-407e-9962-99dcf5dd3b06",
   "metadata": {},
   "source": [
    "Regarding **Bare Exceptions** (`except:`), although these are discouraged, they can be useful if we want to log all exceptions before re-raising the same exception.\n",
    "\n",
    "In this scenario, we may want a handle on the exception object. We can do this by calling `sys.exc_info()` within the exception clause which returns the following tuple: `(exc_type, exc_value, exc_traceback)`."
   ]
  },
  {
   "cell_type": "markdown",
   "id": "658f2e29-86b2-4e57-857a-f4cde7103236",
   "metadata": {},
   "source": [
    "**Exception Objects**\n",
    "\n",
    "The properties and methods of an exception depend on the exception. Standard exceptions always have at least these two properties:\n",
    "- `args`: arguments used to create exception object - often just the error message we want to be printed out - used in `str` and `repr` methods.\n",
    "- `__traceback__`: the traceback object. Rarely used in practice but can be useful for logging."
   ]
  },
  {
   "cell_type": "markdown",
   "id": "9e6c272b-a35a-4a02-b096-02f1fac72ccf",
   "metadata": {},
   "source": [
    "**Handling Exceptions vs Avoiding Exceptions**\n",
    "\n",
    "\"It's easier to ask for forgiveness than it is to get permission\" (EAFP). \n",
    "\n",
    "In Python, we tend to prefer this principle which is facilitated with `try-except` as opposed to convoluted, nested `if-else` blocks.\n",
    "\n",
    "This is because the latter approach makes it difficult to determine all possible things that can go wrong, such as forgetting to close files, or all possibilities to consider. \n",
    "\n",
    "For example, how do we conclusively determine if something is a sequence? We could use `hasattr(<seq>, '__getitem__')` but dictionaries implement this despite not being traditional sequences. The simplest way is just to `try: seq[idx]` and catch any exceptions."
   ]
  },
  {
   "cell_type": "markdown",
   "id": "daee0709-b19a-442f-98e0-de9daa79861e",
   "metadata": {},
   "source": [
    "#### Code"
   ]
  },
  {
   "cell_type": "markdown",
   "id": "224f7c13-977a-40e9-ac92-d5856aed2805",
   "metadata": {},
   "source": [
    "Printing the exception object utilises the string representation which prints our custom message. If we provided multiple arguments, these appear comma-separated like a tuple, but it's a *string*."
   ]
  },
  {
   "cell_type": "code",
   "execution_count": 6,
   "id": "2c88a2b4-8619-4935-9123-7d58b2db9ffa",
   "metadata": {},
   "outputs": [
    {
     "name": "stdout",
     "output_type": "stream",
     "text": [
      "('custom message', 'secondary message')\n"
     ]
    }
   ],
   "source": [
    "try:\n",
    "    raise ValueError('custom message', 'secondary message')\n",
    "except ValueError as ex:\n",
    "    print(ex)"
   ]
  },
  {
   "cell_type": "markdown",
   "id": "1a67c78c-645e-4448-b96e-11a1eac7b320",
   "metadata": {},
   "source": [
    "We can get each individual argument back using the `args` property:"
   ]
  },
  {
   "cell_type": "code",
   "execution_count": 35,
   "id": "87deb90f-5dda-417d-a019-3244af742d70",
   "metadata": {},
   "outputs": [
    {
     "name": "stdout",
     "output_type": "stream",
     "text": [
      "secondary message\n"
     ]
    }
   ],
   "source": [
    "try:\n",
    "    raise ValueError('custom message', 'secondary message')\n",
    "except ValueError as ex:\n",
    "    print(ex.args[1])"
   ]
  },
  {
   "cell_type": "markdown",
   "id": "3a72b475-24da-463d-add3-75e6c69e3e34",
   "metadata": {},
   "source": [
    "For extra information, we can use `repr`:"
   ]
  },
  {
   "cell_type": "code",
   "execution_count": 2,
   "id": "3ce9498b-14da-438a-b366-b381552c900b",
   "metadata": {},
   "outputs": [
    {
     "name": "stdout",
     "output_type": "stream",
     "text": [
      "ValueError('custom message', 'secondary message')\n"
     ]
    }
   ],
   "source": [
    "try:\n",
    "    raise ValueError('custom message', 'secondary message')\n",
    "except ValueError as ex:\n",
    "    print(repr(ex))"
   ]
  },
  {
   "cell_type": "markdown",
   "id": "cee8ff0c-d121-4208-8ff4-2ab5acb94a62",
   "metadata": {},
   "source": [
    "Consider the following example:"
   ]
  },
  {
   "cell_type": "code",
   "execution_count": 8,
   "id": "6b95b6ee-f58f-452c-a76d-452d3df3a281",
   "metadata": {},
   "outputs": [
    {
     "name": "stdout",
     "output_type": "stream",
     "text": [
      "no exception occurred...\n"
     ]
    }
   ],
   "source": [
    "try:\n",
    "    a = 10\n",
    "except ValueError:\n",
    "    print('value error...')\n",
    "else:\n",
    "    print('no exception occurred...')"
   ]
  },
  {
   "cell_type": "markdown",
   "id": "c5fd48b7-311e-4966-a404-6e3a6785c7ec",
   "metadata": {},
   "source": [
    "Some developers are tempted to ignore the `else` clause altogether, and write the following:"
   ]
  },
  {
   "cell_type": "code",
   "execution_count": 9,
   "id": "57ce905a-5d35-4536-bcaf-7128708d5aa0",
   "metadata": {},
   "outputs": [
    {
     "name": "stdout",
     "output_type": "stream",
     "text": [
      "no exception occurred...\n"
     ]
    }
   ],
   "source": [
    "try:\n",
    "    a = 10\n",
    "except ValueError:\n",
    "    print('value error...')\n",
    "\n",
    "print('no exception occurred...')"
   ]
  },
  {
   "cell_type": "markdown",
   "id": "fa7f277c-fb0e-456c-ab41-c4b472401ea2",
   "metadata": {},
   "source": [
    "Although this *may* seem identical and intuitive as `else` clauses in `if` blocks can be omitted without loss of functionality, this is **not** the case here.\n",
    "\n",
    "If an excpeption *is* caught, the difference between these two examples is demonstrated:"
   ]
  },
  {
   "cell_type": "code",
   "execution_count": 10,
   "id": "7dbdd500-9038-41c4-b46f-94187b412856",
   "metadata": {},
   "outputs": [
    {
     "name": "stdout",
     "output_type": "stream",
     "text": [
      "value error...\n"
     ]
    }
   ],
   "source": [
    "try:\n",
    "    raise ValueError()\n",
    "except ValueError:\n",
    "    print('value error...')\n",
    "else:\n",
    "    print('no exception occurred...')"
   ]
  },
  {
   "cell_type": "code",
   "execution_count": 11,
   "id": "d7b15ad4-41f0-4641-86cd-d3cb82e7e9ca",
   "metadata": {},
   "outputs": [
    {
     "name": "stdout",
     "output_type": "stream",
     "text": [
      "value error...\n",
      "no exception occurred...\n"
     ]
    }
   ],
   "source": [
    "try:\n",
    "    raise ValueError()\n",
    "except ValueError:\n",
    "    print('value error...')\n",
    "\n",
    "print('no exception occurred...')"
   ]
  },
  {
   "cell_type": "markdown",
   "id": "6e2e4a5d-4076-4b29-994b-93c69d8574ae",
   "metadata": {},
   "source": [
    "#### Example"
   ]
  },
  {
   "cell_type": "markdown",
   "id": "b20eebaf-e0a8-4b34-b0ee-031b02538292",
   "metadata": {},
   "source": [
    "Here we want to create a simple function to transform `0`, `1`, `\"0\"`, `\"1\"`, `\"T\"`, `\"F\"`, `\"True\"`, `\"False\"`, `True` and `False` into the equivalent boolean type, as well as case insensitive versions of the strings."
   ]
  },
  {
   "cell_type": "code",
   "execution_count": 12,
   "id": "370c78b6-f6ec-4efd-ac18-9d27095dab3e",
   "metadata": {},
   "outputs": [],
   "source": [
    "class ConversionError(Exception):\n",
    "    pass"
   ]
  },
  {
   "cell_type": "code",
   "execution_count": 13,
   "id": "b8e8fd8d-6dae-405b-9f42-b9544dc2ada8",
   "metadata": {},
   "outputs": [],
   "source": [
    "def convert_int(val):\n",
    "    if not isinstance(val, int):  # remember this will work for booleans too!\n",
    "        raise TypeError()\n",
    "    if val not in {0, 1}:\n",
    "        raise ValueError(\"Integer values 0 or 1 only\")\n",
    "    return bool(val)"
   ]
  },
  {
   "cell_type": "code",
   "execution_count": 14,
   "id": "191af4b7-0c14-4dcd-9603-e561c2e2df4b",
   "metadata": {},
   "outputs": [],
   "source": [
    "def convert_str(val):\n",
    "    if not isinstance(val, str):\n",
    "        raise TypeError()\n",
    "        \n",
    "    val = val.casefold()  # for case-insensitive comparisons\n",
    "    if val in {'0', 'f', 'false'}:\n",
    "        return False\n",
    "    elif val in {'1', 't', 'true'}:\n",
    "        return True\n",
    "    else:\n",
    "        raise ValueError('Admissible string values are: T, F, True, False (case insensitive)')"
   ]
  },
  {
   "cell_type": "code",
   "execution_count": 15,
   "id": "15792a24-41bf-4ba9-93fd-e95c0a30f6d0",
   "metadata": {},
   "outputs": [],
   "source": [
    "def make_bool(val):\n",
    "    for converter in (convert_int, convert_str):\n",
    "        try:\n",
    "            return converter(val)\n",
    "        except TypeError:\n",
    "            error_msg = f'The type {type(val).__name__} cannot be converted to a bool'\n",
    "        except ValueError as ex:\n",
    "            error_msg = f'The value {val} cannot be converted to a bool: {ex}'\n",
    "            break\n",
    " \n",
    "    raise ConversionError(error_msg)"
   ]
  },
  {
   "cell_type": "code",
   "execution_count": 16,
   "id": "8ff10ae2-22c2-419c-b0aa-44830cb01811",
   "metadata": {},
   "outputs": [
    {
     "name": "stdout",
     "output_type": "stream",
     "text": [
      "True True\n",
      "0 False\n",
      "T True\n",
      "false False\n",
      "10 The value 10 cannot be converted to a bool: Integer values 0 or 1 only\n",
      "ABC The value ABC cannot be converted to a bool: Admissible string values are: T, F, True, False (case insensitive)\n",
      "1.0 The type float cannot be converted to a bool\n"
     ]
    }
   ],
   "source": [
    "values = [True, 0, 'T', 'false', 10, 'ABC', 1.0]\n",
    "\n",
    "for value in values:\n",
    "    try:\n",
    "        result = make_bool(value)\n",
    "    except ConversionError as ex:\n",
    "        result = str(ex)\n",
    "\n",
    "    print(value, result)"
   ]
  },
  {
   "cell_type": "markdown",
   "id": "de88e11a-0673-46dc-b290-be64106bb9e8",
   "metadata": {},
   "source": [
    "# 03 - Raising Exceptions"
   ]
  },
  {
   "cell_type": "markdown",
   "id": "68cb9be1-41c6-4250-a540-ae74e5c95c90",
   "metadata": {},
   "source": [
    "Raising exceptions are simple. We just need to ensure that we raise an object that inherits from `BaseException`, not necessarily directly.\n",
    "\n",
    "If we're within an `except` clause and we want to perform some cleanup, logging etc., before **re-raising** our current exception, all we need to do is write `raise` without specifying an object. This will resume the exception propagation as before. Here's an example with a perfectly acceptable **bare** exception:\n",
    "```python\n",
    "try:\n",
    "    ...\n",
    "except:\n",
    "    log(...)\n",
    "    raise\n",
    "```"
   ]
  },
  {
   "cell_type": "markdown",
   "id": "ecc87f36-efe4-48a7-8695-6872b00b275f",
   "metadata": {},
   "source": [
    "**Limiting Traceback Output with `from`**"
   ]
  },
  {
   "cell_type": "markdown",
   "id": "bf2845a7-19a4-4a31-a282-f823b72f0b25",
   "metadata": {},
   "source": [
    "Sometimes, we may only want to print the final exception in a deeply nested exception block. We might want to do this to avoid overwhelming the user or to hide internal implementation details."
   ]
  },
  {
   "cell_type": "code",
   "execution_count": 13,
   "id": "892a73e0-29d7-4dcf-810e-f97f8dac2f70",
   "metadata": {},
   "outputs": [
    {
     "ename": "KeyError",
     "evalue": "'level 3'",
     "output_type": "error",
     "traceback": [
      "\u001b[0;31m---------------------------------------------------------------------------\u001b[0m",
      "\u001b[0;31mValueError\u001b[0m                                Traceback (most recent call last)",
      "\u001b[0;32m<ipython-input-13-92454c6ac7b1>\u001b[0m in \u001b[0;36m<module>\u001b[0;34m\u001b[0m\n\u001b[1;32m      1\u001b[0m \u001b[0;32mtry\u001b[0m\u001b[0;34m:\u001b[0m\u001b[0;34m\u001b[0m\u001b[0;34m\u001b[0m\u001b[0m\n\u001b[0;32m----> 2\u001b[0;31m     \u001b[0;32mraise\u001b[0m \u001b[0mValueError\u001b[0m\u001b[0;34m(\u001b[0m\u001b[0;34m'level 1'\u001b[0m\u001b[0;34m)\u001b[0m\u001b[0;34m\u001b[0m\u001b[0;34m\u001b[0m\u001b[0m\n\u001b[0m\u001b[1;32m      3\u001b[0m \u001b[0;32mexcept\u001b[0m \u001b[0mValueError\u001b[0m\u001b[0;34m:\u001b[0m\u001b[0;34m\u001b[0m\u001b[0;34m\u001b[0m\u001b[0m\n",
      "\u001b[0;31mValueError\u001b[0m: level 1",
      "\nDuring handling of the above exception, another exception occurred:\n",
      "\u001b[0;31mTypeError\u001b[0m                                 Traceback (most recent call last)",
      "\u001b[0;32m<ipython-input-13-92454c6ac7b1>\u001b[0m in \u001b[0;36m<module>\u001b[0;34m\u001b[0m\n\u001b[1;32m      4\u001b[0m     \u001b[0;32mtry\u001b[0m\u001b[0;34m:\u001b[0m\u001b[0;34m\u001b[0m\u001b[0;34m\u001b[0m\u001b[0m\n\u001b[0;32m----> 5\u001b[0;31m         \u001b[0;32mraise\u001b[0m \u001b[0mTypeError\u001b[0m\u001b[0;34m(\u001b[0m\u001b[0;34m'level 2'\u001b[0m\u001b[0;34m)\u001b[0m\u001b[0;34m\u001b[0m\u001b[0;34m\u001b[0m\u001b[0m\n\u001b[0m\u001b[1;32m      6\u001b[0m     \u001b[0;32mexcept\u001b[0m \u001b[0mTypeError\u001b[0m\u001b[0;34m:\u001b[0m\u001b[0;34m\u001b[0m\u001b[0;34m\u001b[0m\u001b[0m\n",
      "\u001b[0;31mTypeError\u001b[0m: level 2",
      "\nDuring handling of the above exception, another exception occurred:\n",
      "\u001b[0;31mKeyError\u001b[0m                                  Traceback (most recent call last)",
      "\u001b[0;32m<ipython-input-13-92454c6ac7b1>\u001b[0m in \u001b[0;36m<module>\u001b[0;34m\u001b[0m\n\u001b[1;32m      5\u001b[0m         \u001b[0;32mraise\u001b[0m \u001b[0mTypeError\u001b[0m\u001b[0;34m(\u001b[0m\u001b[0;34m'level 2'\u001b[0m\u001b[0;34m)\u001b[0m\u001b[0;34m\u001b[0m\u001b[0;34m\u001b[0m\u001b[0m\n\u001b[1;32m      6\u001b[0m     \u001b[0;32mexcept\u001b[0m \u001b[0mTypeError\u001b[0m\u001b[0;34m:\u001b[0m\u001b[0;34m\u001b[0m\u001b[0;34m\u001b[0m\u001b[0m\n\u001b[0;32m----> 7\u001b[0;31m         \u001b[0;32mraise\u001b[0m \u001b[0mKeyError\u001b[0m\u001b[0;34m(\u001b[0m\u001b[0;34m'level 3'\u001b[0m\u001b[0;34m)\u001b[0m\u001b[0;34m\u001b[0m\u001b[0;34m\u001b[0m\u001b[0m\n\u001b[0m",
      "\u001b[0;31mKeyError\u001b[0m: 'level 3'"
     ]
    }
   ],
   "source": [
    "try:\n",
    "    raise ValueError('level 1')\n",
    "except ValueError:\n",
    "    try:\n",
    "        raise TypeError('level 2')\n",
    "    except TypeError:\n",
    "        raise KeyError('level 3')"
   ]
  },
  {
   "cell_type": "markdown",
   "id": "5b2b2490-0b7f-465a-a00e-5c69f17b3606",
   "metadata": {},
   "source": [
    "We do this with the following syntax: `Raise <ExceptionType> from None`:"
   ]
  },
  {
   "cell_type": "code",
   "execution_count": 26,
   "id": "281b5e1d-5079-47dc-a74d-7f3dd97c264e",
   "metadata": {},
   "outputs": [
    {
     "ename": "ValueError",
     "evalue": "Cannot recover",
     "output_type": "error",
     "traceback": [
      "\u001b[1;31m---------------------------------------------------------------------------\u001b[0m",
      "\u001b[1;31mValueError\u001b[0m                                Traceback (most recent call last)",
      "Cell \u001b[1;32mIn[26], line 10\u001b[0m\n\u001b[0;32m      8\u001b[0m     \u001b[38;5;28;01mraise\u001b[39;00m \u001b[38;5;167;01mValueError\u001b[39;00m(\u001b[38;5;124m'\u001b[39m\u001b[38;5;124mlevel 3\u001b[39m\u001b[38;5;124m'\u001b[39m) \n\u001b[0;32m      9\u001b[0m \u001b[38;5;28;01mexcept\u001b[39;00m:\n\u001b[1;32m---> 10\u001b[0m     \u001b[38;5;28;01mraise\u001b[39;00m \u001b[38;5;167;01mValueError\u001b[39;00m(\u001b[38;5;124m'\u001b[39m\u001b[38;5;124mCannot recover\u001b[39m\u001b[38;5;124m'\u001b[39m) \u001b[38;5;28;01mfrom\u001b[39;00m \u001b[38;5;28;01mNone\u001b[39;00m\n",
      "\u001b[1;31mValueError\u001b[0m: Cannot recover"
     ]
    }
   ],
   "source": [
    "try:\n",
    "    raise ValueError('level 1')\n",
    "except ValueError:\n",
    "    try:\n",
    "        raise ValueError('level 2')\n",
    "    except ValueError:\n",
    "        try:\n",
    "            raise ValueError('level 3') \n",
    "        except:\n",
    "            raise ValueError('Cannot recover') from None"
   ]
  },
  {
   "cell_type": "markdown",
   "id": "f974e563-a685-4093-9857-1b74231cef97",
   "metadata": {},
   "source": [
    "We can also bypass exceptions by passing in the `exception` object whose traceback we want to use. In the example above, let's say we only want to display the traceback associated with the first `try` if we reach the final 'Cannot recover' exception. Here's how we do it:"
   ]
  },
  {
   "cell_type": "code",
   "execution_count": 30,
   "id": "d6305b2c-831f-477b-b792-a1f6e839cf66",
   "metadata": {},
   "outputs": [
    {
     "ename": "ValueError",
     "evalue": "Cannot recover",
     "output_type": "error",
     "traceback": [
      "\u001b[1;31m---------------------------------------------------------------------------\u001b[0m",
      "\u001b[1;31mValueError\u001b[0m                                Traceback (most recent call last)",
      "Cell \u001b[1;32mIn[30], line 2\u001b[0m\n\u001b[0;32m      1\u001b[0m \u001b[38;5;28;01mtry\u001b[39;00m:\n\u001b[1;32m----> 2\u001b[0m     \u001b[38;5;28;01mraise\u001b[39;00m \u001b[38;5;167;01mValueError\u001b[39;00m(\u001b[38;5;124m'\u001b[39m\u001b[38;5;124mlevel 1\u001b[39m\u001b[38;5;124m'\u001b[39m)\n\u001b[0;32m      3\u001b[0m \u001b[38;5;28;01mexcept\u001b[39;00m \u001b[38;5;167;01mValueError\u001b[39;00m \u001b[38;5;28;01mas\u001b[39;00m ex_1:  \u001b[38;5;66;03m# specify the handle of the tb object\u001b[39;00m\n",
      "\u001b[1;31mValueError\u001b[0m: level 1",
      "\nThe above exception was the direct cause of the following exception:\n",
      "\u001b[1;31mValueError\u001b[0m                                Traceback (most recent call last)",
      "Cell \u001b[1;32mIn[30], line 10\u001b[0m\n\u001b[0;32m      8\u001b[0m     \u001b[38;5;28;01mraise\u001b[39;00m \u001b[38;5;167;01mValueError\u001b[39;00m(\u001b[38;5;124m'\u001b[39m\u001b[38;5;124mlevel 3\u001b[39m\u001b[38;5;124m'\u001b[39m) \n\u001b[0;32m      9\u001b[0m \u001b[38;5;28;01mexcept\u001b[39;00m:\n\u001b[1;32m---> 10\u001b[0m     \u001b[38;5;28;01mraise\u001b[39;00m \u001b[38;5;167;01mValueError\u001b[39;00m(\u001b[38;5;124m'\u001b[39m\u001b[38;5;124mCannot recover\u001b[39m\u001b[38;5;124m'\u001b[39m) \u001b[38;5;28;01mfrom\u001b[39;00m \u001b[38;5;21;01mex_1\u001b[39;00m  \u001b[38;5;66;03m# utilise handle\u001b[39;00m\n",
      "\u001b[1;31mValueError\u001b[0m: Cannot recover"
     ]
    }
   ],
   "source": [
    "try:\n",
    "    raise ValueError('level 1')\n",
    "except ValueError as ex_1:  # specify the handle of the tb object\n",
    "    try:\n",
    "        raise ValueError('level 2')\n",
    "    except ValueError:\n",
    "        try:\n",
    "            raise ValueError('level 3') \n",
    "        except:\n",
    "            raise ValueError('Cannot recover') from ex_1  # utilise handle"
   ]
  },
  {
   "cell_type": "markdown",
   "id": "30a694a3-57bb-44b2-abc8-e09d81dd9505",
   "metadata": {},
   "source": [
    "# 04 - Custom Exceptions"
   ]
  },
  {
   "cell_type": "markdown",
   "id": "af612ca9-c545-489a-92e5-d74c23c11671",
   "metadata": {},
   "source": [
    "#### Lecture"
   ]
  },
  {
   "cell_type": "markdown",
   "id": "af2183d0-7c27-488a-a3b2-01300cd2b0a8",
   "metadata": {},
   "source": [
    "For the most simple custom exception cases, it's sufficient to create a class that inherits from `Exception` with a docstring:"
   ]
  },
  {
   "cell_type": "code",
   "execution_count": 31,
   "id": "bb196f56-d974-44fb-9911-5967caebfb90",
   "metadata": {},
   "outputs": [],
   "source": [
    "class WidgetException(Exception):\n",
    "    \"\"\"base custom exception for the widget library\"\"\""
   ]
  },
  {
   "cell_type": "markdown",
   "id": "a28f70f3-e52b-4ae6-9614-d50b5e4d5979",
   "metadata": {},
   "source": [
    "But we can add additional functionality and even override special methods such as `str` and `repr`.\n",
    "\n",
    "For example, we can add **auto-logging** to your exceptions, or create a suitable **json** representation for our exception which can be passed around with a consistent structure."
   ]
  },
  {
   "cell_type": "markdown",
   "id": "dc28b803-7ac5-48e9-8d62-092abb5e57b8",
   "metadata": {},
   "source": [
    "**Multiple Inheritance**"
   ]
  },
  {
   "cell_type": "markdown",
   "id": "44b0ae2f-b4ae-4325-9814-72db7f01116e",
   "metadata": {},
   "source": [
    "Choosing the appropriate exception type to catch can be challenging if multiple seem applicable. \n",
    "\n",
    "So, sometimes it might make sense to create a custom exception that inherits from **all**. This custom exception will be raised if **any** of the multiple exceptions are raised."
   ]
  },
  {
   "cell_type": "code",
   "execution_count": 34,
   "id": "71897030-5a1f-4ebe-ac5b-5c7b462fff29",
   "metadata": {},
   "outputs": [
    {
     "ename": "ValueError",
     "evalue": "Invalid Value",
     "output_type": "error",
     "traceback": [
      "\u001b[1;31m---------------------------------------------------------------------------\u001b[0m",
      "\u001b[1;31mValueError\u001b[0m                                Traceback (most recent call last)",
      "Cell \u001b[1;32mIn[34], line 8\u001b[0m\n\u001b[0;32m      5\u001b[0m \u001b[38;5;250m    \u001b[39m\u001b[38;5;124;03m\"\"\"raised if either exception is seen\"\"\"\u001b[39;00m\n\u001b[0;32m      7\u001b[0m \u001b[38;5;28;01mtry\u001b[39;00m:\n\u001b[1;32m----> 8\u001b[0m     \u001b[38;5;28;01mraise\u001b[39;00m \u001b[38;5;167;01mValueError\u001b[39;00m(\u001b[38;5;124m'\u001b[39m\u001b[38;5;124mInvalid Value\u001b[39m\u001b[38;5;124m'\u001b[39m)\n\u001b[0;32m      9\u001b[0m \u001b[38;5;28;01mexcept\u001b[39;00m InvalidSalePrice:\n\u001b[0;32m     10\u001b[0m     \u001b[38;5;28mprint\u001b[39m(ex)\n",
      "\u001b[1;31mValueError\u001b[0m: Invalid Value"
     ]
    }
   ],
   "source": [
    "class SalesException(Exception):\n",
    "    \"\"\"base custom exception for the Sales module\"\"\"\n",
    "\n",
    "class InvalidSalePrice(SalesException, ValueError):\n",
    "    \"\"\"raised if either exception is seen\"\"\"\n",
    "\n",
    "try:\n",
    "    raise ValueError('Invalid Value')\n",
    "except InvalidSalePrice:\n",
    "    print(ex)"
   ]
  },
  {
   "cell_type": "markdown",
   "id": "423a7d1b-1260-4dc1-b100-cace3788b33c",
   "metadata": {},
   "source": [
    "#### Example"
   ]
  },
  {
   "cell_type": "markdown",
   "id": "b756409a-dc5c-412c-a189-45d2dc6263eb",
   "metadata": {},
   "source": [
    "Often when we have a relatively complex application, we create our own hierarchy of exceptions, where we use some base exception for our application, and every other exception is a subclass of that exception."
   ]
  },
  {
   "cell_type": "markdown",
   "id": "61771021-8188-41c4-a0e5-dcf3b1d761eb",
   "metadata": {},
   "source": [
    "For example, suppose we are writing a REST API. When we raise a custom exception, we'll also want to return an HTTP exception response to the API caller. We could write code like this in our API calls:"
   ]
  },
  {
   "cell_type": "markdown",
   "id": "369739ff-4d05-4e70-8a7f-d022c30495fc",
   "metadata": {},
   "source": [
    "Suppose we need to retrieve an account (by ID) from a database. Here I'm just going to mock this:\n",
    "```python\n",
    "class APIException(Exception):\n",
    "    \"\"\"Base API exception\"\"\"\n",
    "    \n",
    "class ApplicationException(APIException):\n",
    "    \"\"\"Indicates an application error (not user caused) - 5xx HTTP type errors\"\"\"\n",
    "    \n",
    "class DBException(ApplicationException):\n",
    "    \"\"\"General database exception\"\"\"\n",
    "    \n",
    "class DBConnectionError(DBException):\n",
    "    \"\"\"Indicates an error connecting to database\"\"\"\n",
    "    \n",
    "class ClientException(APIException):\n",
    "    \"\"\"Indicates exception that was caused by user, not an internal error\"\"\"\n",
    "    \n",
    "class NotFoundError(ClientException):\n",
    "    \"\"\"Indicates resource was not found\"\"\"\n",
    "\n",
    "class NotAuthorizedError(ClientException):\n",
    "    \"\"\"User is not authorized to perform requested action on resource\"\"\"\n",
    "```"
   ]
  },
  {
   "cell_type": "markdown",
   "id": "7812777d-a9d5-4e7a-8343-cc467c0b0ef2",
   "metadata": {},
   "source": [
    "So we have this exception hierarchy:\n",
    "\n",
    "```\n",
    "APIException\n",
    "   - ApplicationException (5xx errors)\n",
    "       - DBException\n",
    "           - DBConnectionError\n",
    "   - ClientException\n",
    "       - NotFoundError\n",
    "       - NotAuthorizedError\n",
    "```"
   ]
  },
  {
   "cell_type": "markdown",
   "id": "5708e71e-f3ea-49e0-90b1-bcc5408861ca",
   "metadata": {},
   "source": [
    "The current limitation of this approach is we'll need to articulate what type of HTTP response should be returned for each exception after catching them. \n",
    "\n",
    "It would be much cleaner to articulate this within each exception class. For example, `NotFoundError` should be associated with the **HTTP 404** error.\n",
    "\n",
    "Some more nice-to-haves:\n",
    "- Bound to the base exception class should be a `to_json` method which bundles the exception information into a dictionary according to an appropriate schema.\n",
    "- Bound to the base exception class should be a `log_exception` method which constructs a json string with the relevant exception information and (for now,) prints it out.\n",
    "\n",
    "Here's our final base class:"
   ]
  },
  {
   "cell_type": "code",
   "execution_count": 14,
   "id": "cecd2c7e-1036-4af6-b532-7408bdd09866",
   "metadata": {},
   "outputs": [],
   "source": [
    "from datetime import datetime\n",
    "from http import HTTPStatus\n",
    "import json\n",
    "\n",
    "class APIException(Exception):\n",
    "    \"\"\"Base API exception\"\"\"\n",
    "    \n",
    "    http_status = HTTPStatus.INTERNAL_SERVER_ERROR\n",
    "    internal_err_msg = 'API exception occurred.'\n",
    "    user_err_msg = \"We are sorry. An unexpected error occurred on our end.\"\n",
    "    \n",
    "    def __init__(self, *args, user_err_msg = None):\n",
    "        if args:\n",
    "            self.internal_err_msg = args[0]\n",
    "            super().__init__(*args)\n",
    "        else:\n",
    "            super().__init__(self.internal_err_msg)\n",
    "            \n",
    "        if user_err_msg is not None:\n",
    "            self.user_err_msg = user_err_msg\n",
    "    \n",
    "    def to_json(self):\n",
    "        err_object = {'status': self.http_status, 'message': self.user_err_msg}\n",
    "        return json.dumps(err_object)\n",
    "    \n",
    "    def log_exception(self):\n",
    "        exception = {\n",
    "            \"type\": type(self).__name__,\n",
    "            \"http_status\": self.http_status,\n",
    "            \"message\": self.args[0] if self.args else self.internal_err_msg,\n",
    "            \"args\": self.args[1:]\n",
    "        }\n",
    "        print(f'EXCEPTION: {datetime.utcnow().isoformat()}: {exception}')"
   ]
  },
  {
   "cell_type": "markdown",
   "id": "0de3be46-aeaf-4f4e-b6f3-d9d9119f5eb9",
   "metadata": {},
   "source": [
    "Here's our hierarchy where we override the class attributes in the base class."
   ]
  },
  {
   "cell_type": "code",
   "execution_count": 15,
   "id": "ee7491ab-ace9-4446-81f7-830806ca02f5",
   "metadata": {},
   "outputs": [],
   "source": [
    "class ApplicationException(APIException):\n",
    "    \"\"\"Indicates an application error (not user caused) - 5xx HTTP type errors\"\"\"\n",
    "    http_status = HTTPStatus.INTERNAL_SERVER_ERROR\n",
    "    internal_err_msg = \"Generic server side exception.\"\n",
    "    user_err_msg = \"We are sorry. An unexpected error occurred on our end.\"\n",
    "    \n",
    "class DBException(ApplicationException):\n",
    "    \"\"\"General database exception\"\"\"\n",
    "    http_status = HTTPStatus.INTERNAL_SERVER_ERROR\n",
    "    internal_err_msg = \"Database exception.\"\n",
    "    user_err_msg = \"We are sorry. An unexpected error occurred on our end.\"\n",
    "    \n",
    "class DBConnectionError(DBException):\n",
    "    \"\"\"Indicates an error connecting to database\"\"\"\n",
    "    http_status = HTTPStatus.INTERNAL_SERVER_ERROR\n",
    "    internal_err_msg = \"DB connection error.\"\n",
    "    user_err_msg = \"We are sorry. An unexpected error occurred on our end.\"\n",
    "    \n",
    "class ClientException(APIException):\n",
    "    \"\"\"Indicates exception that was caused by user, not an internal error\"\"\"\n",
    "    http_status = HTTPStatus.BAD_REQUEST\n",
    "    internal_err_msg = \"Client submitted bad request.\"\n",
    "    user_err_msg = \"A bad request was received.\"\n",
    "    \n",
    "class NotFoundError(ClientException):\n",
    "    \"\"\"Indicates resource was not found\"\"\"\n",
    "    http_status = HTTPStatus.NOT_FOUND\n",
    "    internal_err_msg = \"Resource was not found.\"\n",
    "    user_err_msg = \"Requested resource was not found.\"\n",
    "\n",
    "class NotAuthorizedError(ClientException):\n",
    "    \"\"\"User is not authorized to perform requested action on resource\"\"\"\n",
    "    http_status = HTTPStatus.UNAUTHORIZED\n",
    "    internal_err_msg = \"Client not authorized to perform operation.\"\n",
    "    user_err_msg = \"You are not authorized to perform this request.\""
   ]
  },
  {
   "cell_type": "markdown",
   "id": "810cdcb7-541a-4035-910b-c44886285591",
   "metadata": {},
   "source": [
    "To test our code for now, we can mock the different exceptions in the following way.\n",
    "\n",
    "Also, notice how we can pass extra information to our exception class, such as `\"db=db01\"`, which will get stored under `self.args` of our exception instance, and is subsequently passed to our logger."
   ]
  },
  {
   "cell_type": "code",
   "execution_count": 25,
   "id": "79c7572f-970c-4502-8ccf-d0f0546dc3a6",
   "metadata": {},
   "outputs": [],
   "source": [
    "class Account:\n",
    "    def __init__(self, account_id, account_type):\n",
    "        self.account_id = account_id\n",
    "        self.account_type = account_type"
   ]
  },
  {
   "cell_type": "code",
   "execution_count": 26,
   "id": "92f7609a-d0f2-43b2-8f43-bf2197ecb419",
   "metadata": {},
   "outputs": [],
   "source": [
    "def lookup_account_by_id(account_id):\n",
    "    # mock of various exceptions that could be raised getting an account from database\n",
    "    if not isinstance(account_id, int) or account_id <= 0:\n",
    "        raise ClientException(f'Account number {account_id} is invalid.', \n",
    "                              f'account_id = {account_id}',\n",
    "                              'type error - account number not an integer')\n",
    "        \n",
    "    if account_id < 100:\n",
    "        raise DBConnectionError('Permanent failure connecting to database.', 'db=db01')\n",
    "    elif account_id < 200:\n",
    "        raise NotAuthorizedError('User does not have permissions to read this account', f'account_id={account_id}')\n",
    "    elif account_id < 300:\n",
    "        raise NotFoundError(f'Account not found.', f'account_id={account_id}')\n",
    "    else:\n",
    "        return Account(account_id, 'Savings')"
   ]
  },
  {
   "cell_type": "markdown",
   "id": "e9dd393e-0bab-4d1b-99e3-6116897d5edc",
   "metadata": {},
   "source": [
    "Now we can re-write our API endpoint and very easily handle those exceptions:\n",
    "\n",
    "Notice how we only need to catch the base class `APIException` instead of trying to handle each exception separately e.g. `ClientException`, `DBConnectionError`, `NotFoundError`, etc."
   ]
  },
  {
   "cell_type": "code",
   "execution_count": 27,
   "id": "66efaf0c-554c-4cf0-9f93-a6660ee78e86",
   "metadata": {},
   "outputs": [],
   "source": [
    "def get_account(account_id):\n",
    "    try:\n",
    "        account = lookup_account_by_id(account_id)\n",
    "    except APIException as ex:\n",
    "        ex.log_exception()\n",
    "        return ex.to_json()\n",
    "    else:\n",
    "        return HTTPStatus.OK, {\"id\": account.account_id, \"type\": account.account_type}"
   ]
  },
  {
   "cell_type": "markdown",
   "id": "cd2acb95-a1cf-420f-aa87-39c3c0501964",
   "metadata": {},
   "source": [
    "Playing around with it:"
   ]
  },
  {
   "cell_type": "code",
   "execution_count": 19,
   "id": "e2ea1436-0366-405a-a52c-534b9de15593",
   "metadata": {},
   "outputs": [
    {
     "name": "stdout",
     "output_type": "stream",
     "text": [
      "EXCEPTION: 2024-10-25T10:31:36.849004: {'type': 'ClientException', 'http_status': <HTTPStatus.BAD_REQUEST: 400>, 'message': 'Account number ABC is invalid.', 'args': ('account_id = ABC', 'type error - account number not an integer')}\n"
     ]
    },
    {
     "data": {
      "text/plain": [
       "'{\"status\": 400, \"message\": \"A bad request was received.\"}'"
      ]
     },
     "execution_count": 19,
     "metadata": {},
     "output_type": "execute_result"
    }
   ],
   "source": [
    "get_account('ABC')"
   ]
  },
  {
   "cell_type": "code",
   "execution_count": 20,
   "id": "afed7b46-3c12-43b5-a8ba-2be9a30b2375",
   "metadata": {},
   "outputs": [
    {
     "name": "stdout",
     "output_type": "stream",
     "text": [
      "EXCEPTION: 2024-10-25T10:31:37.828073: {'type': 'DBConnectionError', 'http_status': <HTTPStatus.INTERNAL_SERVER_ERROR: 500>, 'message': 'Permanent failure connecting to database.', 'args': ('db=db01',)}\n"
     ]
    },
    {
     "data": {
      "text/plain": [
       "'{\"status\": 500, \"message\": \"We are sorry. An unexpected error occurred on our end.\"}'"
      ]
     },
     "execution_count": 20,
     "metadata": {},
     "output_type": "execute_result"
    }
   ],
   "source": [
    "get_account(50)"
   ]
  },
  {
   "cell_type": "code",
   "execution_count": 21,
   "id": "66c18d19-aee7-4b3f-b50a-f53d7a3f4d5f",
   "metadata": {},
   "outputs": [
    {
     "name": "stdout",
     "output_type": "stream",
     "text": [
      "EXCEPTION: 2024-10-25T10:31:38.146063: {'type': 'NotAuthorizedError', 'http_status': <HTTPStatus.UNAUTHORIZED: 401>, 'message': 'User does not have permissions to read this account', 'args': ('account_id=150',)}\n"
     ]
    },
    {
     "data": {
      "text/plain": [
       "'{\"status\": 401, \"message\": \"You are not authorized to perform this request.\"}'"
      ]
     },
     "execution_count": 21,
     "metadata": {},
     "output_type": "execute_result"
    }
   ],
   "source": [
    "get_account(150)"
   ]
  },
  {
   "cell_type": "code",
   "execution_count": 22,
   "id": "4b6f8104-c35f-4245-a19a-74ca3837651c",
   "metadata": {},
   "outputs": [
    {
     "name": "stdout",
     "output_type": "stream",
     "text": [
      "EXCEPTION: 2024-10-25T10:31:38.318985: {'type': 'NotFoundError', 'http_status': <HTTPStatus.NOT_FOUND: 404>, 'message': 'Account not found.', 'args': ('account_id=250',)}\n"
     ]
    },
    {
     "data": {
      "text/plain": [
       "'{\"status\": 404, \"message\": \"Requested resource was not found.\"}'"
      ]
     },
     "execution_count": 22,
     "metadata": {},
     "output_type": "execute_result"
    }
   ],
   "source": [
    "get_account(250)"
   ]
  },
  {
   "cell_type": "code",
   "execution_count": 23,
   "id": "6ada430c-001a-47ea-bbea-bb888cdf18ff",
   "metadata": {},
   "outputs": [
    {
     "data": {
      "text/plain": [
       "(<HTTPStatus.OK: 200>, {'id': 350, 'type': 'Savings'})"
      ]
     },
     "execution_count": 23,
     "metadata": {},
     "output_type": "execute_result"
    }
   ],
   "source": [
    "get_account(350)"
   ]
  }
 ],
 "metadata": {
  "kernelspec": {
   "display_name": "Python 3 (ipykernel)",
   "language": "python",
   "name": "python3"
  },
  "language_info": {
   "codemirror_mode": {
    "name": "ipython",
    "version": 3
   },
   "file_extension": ".py",
   "mimetype": "text/x-python",
   "name": "python",
   "nbconvert_exporter": "python",
   "pygments_lexer": "ipython3",
   "version": "3.10.4"
  }
 },
 "nbformat": 4,
 "nbformat_minor": 5
}
