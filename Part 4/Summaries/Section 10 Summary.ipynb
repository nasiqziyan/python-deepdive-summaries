{
 "cells": [
  {
   "cell_type": "markdown",
   "id": "1d630dbe-cebc-45a9-bb18-8a6c345e45cc",
   "metadata": {},
   "source": [
    "# 01 - Enumerations"
   ]
  },
  {
   "cell_type": "markdown",
   "id": "2b92c241-2be9-48c9-8f0c-3ec761359850",
   "metadata": {},
   "source": [
    "#### Motivation"
   ]
  },
  {
   "cell_type": "markdown",
   "id": "56e369ce-25b9-4373-bf48-11bed974f3eb",
   "metadata": {},
   "source": [
    "How do we deal with collections of related constants? One way would be:"
   ]
  },
  {
   "cell_type": "code",
   "execution_count": 3,
   "id": "d90fd076-5a23-4630-8f6c-89839541fb89",
   "metadata": {},
   "outputs": [
    {
     "data": {
      "text/plain": [
       "True"
      ]
     },
     "execution_count": 3,
     "metadata": {},
     "output_type": "execute_result"
    }
   ],
   "source": [
    "RED = 1\n",
    "GREEN = 2\n",
    "BLUE = 3\n",
    "\n",
    "COLOURS = (RED, GREEN, BLUE)\n",
    "\n",
    "RED in COLOURS"
   ]
  },
  {
   "cell_type": "markdown",
   "id": "327114a4-7198-49aa-99a2-a5f060b8c763",
   "metadata": {},
   "source": [
    "But this causes the following issues:"
   ]
  },
  {
   "cell_type": "code",
   "execution_count": 4,
   "id": "f4754525-72db-40b4-9f6e-822c2e9371ab",
   "metadata": {},
   "outputs": [
    {
     "name": "stdout",
     "output_type": "stream",
     "text": [
      "True\n",
      "True\n"
     ]
    }
   ],
   "source": [
    "print(1 in COLOURS)\n",
    "print(RED < GREEN)"
   ]
  },
  {
   "cell_type": "markdown",
   "id": "1690f533-1f4a-4a8f-9a14-3a637de3ef01",
   "metadata": {},
   "source": [
    "Even if we were to assign the symbols to meaningful strings e.g. `RED = 'red'`, we can run into issues and accidents such as having non-unique values by doing `GREEN = 'red'` for example. We could also do `RED * 2`..."
   ]
  },
  {
   "cell_type": "markdown",
   "id": "5a0be79e-a20d-4cb3-9618-eef09f847578",
   "metadata": {},
   "source": [
    "What do we really want? \n",
    "\n",
    "An **immutable** collection of related **constant** members:\n",
    "- having unique names e.g. RED\n",
    "- having an associated **constant** value e.g. 1\n",
    "- having unique associated values\n",
    "- not allowing operations e.g. `RED * 2`\n",
    "- lookup member by name\n",
    "- lookup member by value\n"
   ]
  },
  {
   "cell_type": "markdown",
   "id": "a325b53b-df6b-4ec6-b98e-556cae65fb17",
   "metadata": {},
   "source": [
    "**Aliases**\n",
    "\n",
    "Sometimes we want multiple symbols to refer to the same thing:\n",
    "```python\n",
    "POLY_4 = 4\n",
    "RECTANCLE = 4\n",
    "SQUARE = 4\n",
    "RHOMBUS = 4\n",
    "```\n",
    "Here, the last three are aliases for `POLY_4`. With reverse lookups, we want to return the original, not the alias, so `4 -> POLY_4`."
   ]
  },
  {
   "cell_type": "markdown",
   "id": "e7c76697-47af-4d74-b07c-31cf206ddac5",
   "metadata": {},
   "source": [
    "#### Lecture"
   ]
  },
  {
   "cell_type": "markdown",
   "id": "e419f0ed-c878-4158-845a-c6201bb52d7d",
   "metadata": {},
   "source": [
    "Here's the basic setup:"
   ]
  },
  {
   "cell_type": "code",
   "execution_count": 5,
   "id": "68daa6b7-7d4d-4196-a9f2-df0179d92b85",
   "metadata": {},
   "outputs": [],
   "source": [
    "from enum import Enum\n",
    "\n",
    "class Colour(Enum):\n",
    "    RED = 1\n",
    "    GREEN = 2\n",
    "    BLUE = 3"
   ]
  },
  {
   "cell_type": "markdown",
   "id": "92b696cf-7c3b-4130-a992-bfe157d81900",
   "metadata": {},
   "source": [
    "Here's some terminology:\n",
    "\n",
    "- `Colour` is called an **enumeration** (enum for short)\n",
    "- `Colour.RED` is called an **enumeration member** (and their values are just called values)\n",
    "- The `type` of a member is the **enumeration** that it belongs to. This is odd; see below (and metaprogramming sections)"
   ]
  },
  {
   "cell_type": "code",
   "execution_count": 6,
   "id": "e7196936-0fee-4fb9-b2d1-a7c65a52a600",
   "metadata": {},
   "outputs": [
    {
     "name": "stdout",
     "output_type": "stream",
     "text": [
      "<enum 'Colour'>\n"
     ]
    }
   ],
   "source": [
    "print(type(Colour.RED))"
   ]
  },
  {
   "cell_type": "code",
   "execution_count": 7,
   "id": "806b82f5-a11a-4a22-a5f8-e5bbbb09891b",
   "metadata": {},
   "outputs": [
    {
     "data": {
      "text/plain": [
       "int"
      ]
     },
     "execution_count": 7,
     "metadata": {},
     "output_type": "execute_result"
    }
   ],
   "source": [
    "class Colour2:\n",
    "    RED = 1\n",
    "\n",
    "type(Colour2.RED)"
   ]
  },
  {
   "cell_type": "markdown",
   "id": "073e016d-e5be-4e08-b879-5fe2c4bb4cc7",
   "metadata": {},
   "source": [
    "Here's some basics:"
   ]
  },
  {
   "cell_type": "code",
   "execution_count": 8,
   "id": "ef013b50-5297-4f49-8155-dd079abe252e",
   "metadata": {},
   "outputs": [
    {
     "name": "stdout",
     "output_type": "stream",
     "text": [
      "isinstance(Colour.RED, Colour) = True\n",
      "str(Colour.RED) = 'Colour.RED'\n",
      "repr(Colour.RED) = '<Colour.RED: 1>'\n",
      "Colour.RED.name = 'RED'\n",
      "Colour.RED.value = 1\n"
     ]
    }
   ],
   "source": [
    "print(f\"{isinstance(Colour.RED, Colour) = }\")\n",
    "print(f\"{str(Colour.RED) = }\")\n",
    "print(f\"{repr(Colour.RED) = }\")\n",
    "print(f\"{Colour.RED.name = }\")\n",
    "print(f\"{Colour.RED.value = }\")\n"
   ]
  },
  {
   "cell_type": "markdown",
   "id": "3a421ba8-f2a6-42ec-bc00-afc76d6111e1",
   "metadata": {},
   "source": [
    "**Equality and Membership**\n",
    "\n",
    "Equality is done using identity:`is` (but `==` works too, but shouldn't be used as it can be overridden)"
   ]
  },
  {
   "cell_type": "code",
   "execution_count": 9,
   "id": "8acf7979-a8ae-491a-b221-c495090310e5",
   "metadata": {},
   "outputs": [
    {
     "data": {
      "text/plain": [
       "True"
      ]
     },
     "execution_count": 9,
     "metadata": {},
     "output_type": "execute_result"
    }
   ],
   "source": [
    "Colour.GREEN in Colour"
   ]
  },
  {
   "cell_type": "markdown",
   "id": "23b8b3c3-e628-48f5-acf7-ee28c8984d8e",
   "metadata": {},
   "source": [
    "But note that members and their associated values are **not equal**!"
   ]
  },
  {
   "cell_type": "code",
   "execution_count": 10,
   "id": "8646042a-57c5-410b-834f-ad8bd97babaf",
   "metadata": {},
   "outputs": [
    {
     "data": {
      "text/plain": [
       "False"
      ]
     },
     "execution_count": 10,
     "metadata": {},
     "output_type": "execute_result"
    }
   ],
   "source": [
    "Colour.RED == 1"
   ]
  },
  {
   "cell_type": "markdown",
   "id": "75e13e50-ad52-4172-9f9c-fa67c98a295a",
   "metadata": {},
   "source": [
    "**Hashability**\n",
    "\n",
    "Enumeration members are always **hashable**. This is so that they can be used as:\n",
    "- keys in dictionaries\n",
    "- elements of a set\n",
    "\n",
    "For example:"
   ]
  },
  {
   "cell_type": "code",
   "execution_count": 11,
   "id": "c642a7c2-78ed-47dc-af54-d09247482509",
   "metadata": {},
   "outputs": [],
   "source": [
    "pixel_colour = {\n",
    "    Colour.RED: 100,\n",
    "    Colour.GREEN: 25,\n",
    "    Colour.BLUE: 255\n",
    "}"
   ]
  },
  {
   "cell_type": "markdown",
   "id": "a6156d85-11f0-45be-b172-2473121c5272",
   "metadata": {},
   "source": [
    "**Lookup**\n",
    "\n",
    "There are two ways we can retrieve a member. Either through its value directly (e.g. 1 for `Colour.RED`) or by the string of the member name (e.g. `'RED'`).\n",
    "\n",
    "To do this, know that enumerations are **callables**.\n",
    "\n",
    "Searching by value:"
   ]
  },
  {
   "cell_type": "code",
   "execution_count": 12,
   "id": "e823b674-1ba1-44a7-9530-bbcde8be1b08",
   "metadata": {},
   "outputs": [
    {
     "data": {
      "text/plain": [
       "<Colour.RED: 1>"
      ]
     },
     "execution_count": 12,
     "metadata": {},
     "output_type": "execute_result"
    }
   ],
   "source": [
    "Colour(1)"
   ]
  },
  {
   "cell_type": "markdown",
   "id": "e6b3748d-68d2-455c-ac90-1cf6482fea3f",
   "metadata": {},
   "source": [
    "Searching by member (note square brackets):"
   ]
  },
  {
   "cell_type": "code",
   "execution_count": 13,
   "id": "56a14fea-2089-4adf-a5b8-e617f16d36d8",
   "metadata": {},
   "outputs": [
    {
     "data": {
      "text/plain": [
       "<Colour.RED: 1>"
      ]
     },
     "execution_count": 13,
     "metadata": {},
     "output_type": "execute_result"
    }
   ],
   "source": [
    "Colour['RED']"
   ]
  },
  {
   "cell_type": "markdown",
   "id": "ea681358-9058-40b5-9866-65f053eb2005",
   "metadata": {},
   "source": [
    "This works because `__getitem__` has been implemented."
   ]
  },
  {
   "cell_type": "markdown",
   "id": "a55b8ae7-9cae-4a64-aa76-5d521abf188f",
   "metadata": {},
   "source": [
    "We can use dot notation or `getattr` to search by member name too, if we want to avoid try-excepts when getting an enumeration member:"
   ]
  },
  {
   "cell_type": "code",
   "execution_count": 27,
   "id": "644278c4-6c0f-48ae-b4e7-1b0f2ea7a9b6",
   "metadata": {},
   "outputs": [
    {
     "name": "stdout",
     "output_type": "stream",
     "text": [
      "None\n"
     ]
    }
   ],
   "source": [
    "print(getattr(Colour, \"TURQUOISE\", None))"
   ]
  },
  {
   "cell_type": "markdown",
   "id": "506a542b-4063-455f-8874-b02c3f22f780",
   "metadata": {},
   "source": [
    "**Enumerating Members**\n",
    "\n",
    "Enumerations are **iterables**, so we can `list(Colour)` with **definition order** preserved:"
   ]
  },
  {
   "cell_type": "code",
   "execution_count": 14,
   "id": "614d1ddc-6c8d-4be8-9bee-0926d30b0d88",
   "metadata": {},
   "outputs": [
    {
     "data": {
      "text/plain": [
       "[<Colour.GREEN: 2>, <Colour.RED: 1>, <Colour.BLUE: 3>]"
      ]
     },
     "execution_count": 14,
     "metadata": {},
     "output_type": "execute_result"
    }
   ],
   "source": [
    "class Colour(Enum):\n",
    "    GREEN = 2\n",
    "    RED = 1\n",
    "    BLUE = 3\n",
    "\n",
    "list(Colour)"
   ]
  },
  {
   "cell_type": "markdown",
   "id": "d20297d6-fac6-41be-a8ef-92ff329c8b1a",
   "metadata": {},
   "source": [
    "We also have the `__members__` property which returns a dict where the keys are the names as strings, and the values are the values."
   ]
  },
  {
   "cell_type": "code",
   "execution_count": 15,
   "id": "049bb0ac-d28d-4e08-9026-2646b543385c",
   "metadata": {},
   "outputs": [
    {
     "data": {
      "text/plain": [
       "mappingproxy({'GREEN': <Colour.GREEN: 2>,\n",
       "              'RED': <Colour.RED: 1>,\n",
       "              'BLUE': <Colour.BLUE: 3>})"
      ]
     },
     "execution_count": 15,
     "metadata": {},
     "output_type": "execute_result"
    }
   ],
   "source": [
    "Colour.__members__"
   ]
  },
  {
   "cell_type": "markdown",
   "id": "52a996cc-f7fb-421d-bd43-8974a826fc87",
   "metadata": {},
   "source": [
    "**Constant Members**\n",
    "\n",
    "Once an enumeration has been declared:\n",
    "- member list is immutable (cannot add or remove members)\n",
    "- member values are immutable\n",
    "- cannot be subclassed, **unless it contains no members**. You'll see why creating empty enumerations can be useful."
   ]
  },
  {
   "cell_type": "code",
   "execution_count": 22,
   "id": "62b93b3d-f8bd-4f9d-aa18-549df87dc476",
   "metadata": {},
   "outputs": [
    {
     "data": {
      "text/plain": [
       "<Colour.RED: 1>"
      ]
     },
     "execution_count": 22,
     "metadata": {},
     "output_type": "execute_result"
    }
   ],
   "source": [
    "Colour(1)"
   ]
  },
  {
   "cell_type": "markdown",
   "id": "6a71caa0-5dad-4471-9a2b-659f4b082b9b",
   "metadata": {},
   "source": [
    "# 02 - Aliases"
   ]
  },
  {
   "cell_type": "markdown",
   "id": "0179257e-6879-46b4-b064-8cb7784ed4c2",
   "metadata": {},
   "source": [
    "While members must be unique, the `Enum` class *does* let us create multiple members with the same value. The difference is, only the first one will be the *true* member and the rest will be **aliases**. \n",
    "\n",
    "This is allowed:"
   ]
  },
  {
   "cell_type": "code",
   "execution_count": 28,
   "id": "34d2a16a-a0d8-447b-87a4-1af68a087e8a",
   "metadata": {},
   "outputs": [
    {
     "data": {
      "text/plain": [
       "[<Colour.red: 1>, <Colour.blue: 2>]"
      ]
     },
     "execution_count": 28,
     "metadata": {},
     "output_type": "execute_result"
    }
   ],
   "source": [
    "class Colour(Enum):\n",
    "    red = 1\n",
    "    crimson = 1\n",
    "    carmine = 1\n",
    "    blue = 2\n",
    "    aquamarine = 2\n",
    "\n",
    "list(Colour)"
   ]
  },
  {
   "cell_type": "markdown",
   "id": "597ec533-e66e-41ba-83cc-fbafa46dec29",
   "metadata": {},
   "source": [
    "The aliased members simply point to the original:"
   ]
  },
  {
   "cell_type": "code",
   "execution_count": 30,
   "id": "1952632d-ac6f-4dd5-9d56-1370065dc41e",
   "metadata": {},
   "outputs": [
    {
     "data": {
      "text/plain": [
       "<Colour.red: 1>"
      ]
     },
     "execution_count": 30,
     "metadata": {},
     "output_type": "execute_result"
    }
   ],
   "source": [
    "Colour.crimson"
   ]
  },
  {
   "cell_type": "markdown",
   "id": "c4c03270-7fd9-4b94-a6d9-e51169eb7eb5",
   "metadata": {},
   "source": [
    "The same is true for reverse lookups:"
   ]
  },
  {
   "cell_type": "code",
   "execution_count": 32,
   "id": "d8030570-4f60-461c-b97a-932c337a739f",
   "metadata": {},
   "outputs": [
    {
     "data": {
      "text/plain": [
       "<Colour.red: 1>"
      ]
     },
     "execution_count": 32,
     "metadata": {},
     "output_type": "execute_result"
    }
   ],
   "source": [
    "Colour(1)"
   ]
  },
  {
   "cell_type": "markdown",
   "id": "e7f6d3f0-fd88-4350-b2c1-ac90abd21e96",
   "metadata": {},
   "source": [
    "**Ensuring unique values**\n",
    "\n",
    "Sometimes we may want a guarantee of no aliases. The easiest way to do this is with the `@enum.unique` decorator:"
   ]
  },
  {
   "cell_type": "code",
   "execution_count": 31,
   "id": "8a6c10d7-4f01-4dd6-b1c0-5d15f2543d15",
   "metadata": {},
   "outputs": [
    {
     "ename": "ValueError",
     "evalue": "duplicate values found in <enum 'Colour'>: crimson -> red, carmine -> red, aquamarine -> blue",
     "output_type": "error",
     "traceback": [
      "\u001b[1;31m---------------------------------------------------------------------------\u001b[0m",
      "\u001b[1;31mValueError\u001b[0m                                Traceback (most recent call last)",
      "Cell \u001b[1;32mIn[31], line 4\u001b[0m\n\u001b[0;32m      1\u001b[0m \u001b[38;5;28;01mimport\u001b[39;00m \u001b[38;5;21;01menum\u001b[39;00m\n\u001b[0;32m      3\u001b[0m \u001b[38;5;129;43m@enum\u001b[39;49m\u001b[38;5;241;43m.\u001b[39;49m\u001b[43munique\u001b[49m\n\u001b[1;32m----> 4\u001b[0m \u001b[38;5;28;43;01mclass\u001b[39;49;00m\u001b[43m \u001b[49m\u001b[38;5;21;43;01mColour\u001b[39;49;00m\u001b[43m(\u001b[49m\u001b[43mEnum\u001b[49m\u001b[43m)\u001b[49m\u001b[43m:\u001b[49m\n\u001b[0;32m      5\u001b[0m \u001b[43m    \u001b[49m\u001b[43mred\u001b[49m\u001b[43m \u001b[49m\u001b[38;5;241;43m=\u001b[39;49m\u001b[43m \u001b[49m\u001b[38;5;241;43m1\u001b[39;49m\n\u001b[0;32m      6\u001b[0m \u001b[43m    \u001b[49m\u001b[43mcrimson\u001b[49m\u001b[43m \u001b[49m\u001b[38;5;241;43m=\u001b[39;49m\u001b[43m \u001b[49m\u001b[38;5;241;43m1\u001b[39;49m\n",
      "File \u001b[1;32m~\\AppData\\Local\\Programs\\Python\\Python310\\lib\\enum.py:1022\u001b[0m, in \u001b[0;36munique\u001b[1;34m(enumeration)\u001b[0m\n\u001b[0;32m   1019\u001b[0m \u001b[38;5;28;01mif\u001b[39;00m duplicates:\n\u001b[0;32m   1020\u001b[0m     alias_details \u001b[38;5;241m=\u001b[39m \u001b[38;5;124m'\u001b[39m\u001b[38;5;124m, \u001b[39m\u001b[38;5;124m'\u001b[39m\u001b[38;5;241m.\u001b[39mjoin(\n\u001b[0;32m   1021\u001b[0m             [\u001b[38;5;124m\"\u001b[39m\u001b[38;5;132;01m%s\u001b[39;00m\u001b[38;5;124m -> \u001b[39m\u001b[38;5;132;01m%s\u001b[39;00m\u001b[38;5;124m\"\u001b[39m \u001b[38;5;241m%\u001b[39m (alias, name) \u001b[38;5;28;01mfor\u001b[39;00m (alias, name) \u001b[38;5;129;01min\u001b[39;00m duplicates])\n\u001b[1;32m-> 1022\u001b[0m     \u001b[38;5;28;01mraise\u001b[39;00m \u001b[38;5;167;01mValueError\u001b[39;00m(\u001b[38;5;124m'\u001b[39m\u001b[38;5;124mduplicate values found in \u001b[39m\u001b[38;5;132;01m%r\u001b[39;00m\u001b[38;5;124m: \u001b[39m\u001b[38;5;132;01m%s\u001b[39;00m\u001b[38;5;124m'\u001b[39m \u001b[38;5;241m%\u001b[39m\n\u001b[0;32m   1023\u001b[0m             (enumeration, alias_details))\n\u001b[0;32m   1024\u001b[0m \u001b[38;5;28;01mreturn\u001b[39;00m enumeration\n",
      "\u001b[1;31mValueError\u001b[0m: duplicate values found in <enum 'Colour'>: crimson -> red, carmine -> red, aquamarine -> blue"
     ]
    }
   ],
   "source": [
    "import enum\n",
    "\n",
    "@enum.unique\n",
    "class Colour(Enum):\n",
    "    red = 1\n",
    "    crimson = 1\n",
    "    carmine = 1\n",
    "    blue = 2\n",
    "    aquamarine = 2"
   ]
  },
  {
   "cell_type": "markdown",
   "id": "0036b50c-c55d-4568-8048-198ab0dacdcc",
   "metadata": {},
   "source": [
    "#### Example"
   ]
  },
  {
   "cell_type": "markdown",
   "id": "9f96db15-ac00-4127-a066-fd8a14bd2331",
   "metadata": {},
   "source": [
    "There are times when the ability to define these aliases can be useful. Let's say you have to deal with statuses that are returned as strings from different systems."
   ]
  },
  {
   "cell_type": "markdown",
   "id": "8b04693e-b534-4199-ac06-9393c2bd0df6",
   "metadata": {},
   "source": [
    "These systems may not always define exactly the same strings to mean the same thing (maybe they were developed independently). In a case like this, being able to create aliases could be useful to bring uniformity to our own code."
   ]
  },
  {
   "cell_type": "markdown",
   "id": "67009ac8-99fb-45ee-a14e-ec39a0f35b91",
   "metadata": {},
   "source": [
    "Let's say we have the following status definitions as described by different systems:\n",
    "\n",
    "```\n",
    "Us        System 1               System 2\n",
    "-------------------------------------------\n",
    "ready     ready                  ready\n",
    "running   busy                   processing\n",
    "ok        finished_no_error      ran_ok\n",
    "errors    finished_with_errors   errored\n",
    "```"
   ]
  },
  {
   "cell_type": "markdown",
   "id": "fe193ccf-7f0f-4572-96b7-0f35905cbf8c",
   "metadata": {},
   "source": [
    "We can the easily achieve this using this class with aliases:"
   ]
  },
  {
   "cell_type": "code",
   "execution_count": 34,
   "id": "0eb2a32a-e748-471c-8094-50e71394ef4d",
   "metadata": {},
   "outputs": [],
   "source": [
    "class Status(enum.Enum):\n",
    "    ready = 'ready'\n",
    "    \n",
    "    running = 'running'\n",
    "    busy = 'running'\n",
    "    processing = 'running'\n",
    "    \n",
    "    ok = 'ok'\n",
    "    finished_no_error = 'ok'\n",
    "    ran_ok = 'ok'\n",
    "    \n",
    "    errors = 'errors'\n",
    "    finished_with_errors = 'errors'\n",
    "    errored = 'errors'"
   ]
  },
  {
   "cell_type": "code",
   "execution_count": 36,
   "id": "31ebbf25-948b-4a83-9d97-ed8f5f976a22",
   "metadata": {},
   "outputs": [
    {
     "data": {
      "text/plain": [
       "[<Status.ready: 'ready'>,\n",
       " <Status.running: 'running'>,\n",
       " <Status.ok: 'ok'>,\n",
       " <Status.errors: 'errors'>]"
      ]
     },
     "execution_count": 36,
     "metadata": {},
     "output_type": "execute_result"
    }
   ],
   "source": [
    "list(Status)"
   ]
  },
  {
   "cell_type": "markdown",
   "id": "ce0add17-0b3e-496a-8792-2fb89b88d2ed",
   "metadata": {},
   "source": [
    "We can now programmatically evaluate any status and have it return our definition:"
   ]
  },
  {
   "cell_type": "code",
   "execution_count": 37,
   "id": "9516e3d3-d684-4d8e-828b-6fbff328e06d",
   "metadata": {},
   "outputs": [
    {
     "data": {
      "text/plain": [
       "<Status.running: 'running'>"
      ]
     },
     "execution_count": 37,
     "metadata": {},
     "output_type": "execute_result"
    }
   ],
   "source": [
    "Status['busy']"
   ]
  },
  {
   "cell_type": "markdown",
   "id": "9ececc15-b4a2-4352-94c0-93148faf29b1",
   "metadata": {},
   "source": [
    "# 03 - Customizing and Extending Enumerations"
   ]
  },
  {
   "cell_type": "markdown",
   "id": "62f97cd2-dda4-4bd3-bce6-b8fba285cf61",
   "metadata": {},
   "source": [
    "#### Customising"
   ]
  },
  {
   "cell_type": "markdown",
   "id": "49b29bde-5eec-4596-aed5-daeaac9a0c2b",
   "metadata": {},
   "source": [
    "Remember that enumerations are **classes** while enumeration members are class attributes that *become* **instances** of that class via metaprogramming.\n",
    "\n",
    "This means that if we define functions in the enumeration class, these will be **bound methods** to the members. We can also implement dunder methods such as `__bool__`.\n",
    "\n",
    "Consider the following example:"
   ]
  },
  {
   "cell_type": "code",
   "execution_count": 52,
   "id": "0d138e40-f329-476b-bbd2-4f713ce44cbf",
   "metadata": {},
   "outputs": [
    {
     "name": "stdout",
     "output_type": "stream",
     "text": [
      "READY! Doing something...\n",
      "BUSY! Dont do something...\n"
     ]
    }
   ],
   "source": [
    "class State(Enum):\n",
    "    READY = 1\n",
    "    BUSY = 0\n",
    "\n",
    "if State.READY:\n",
    "    print('READY! Doing something...')\n",
    "\n",
    "if State.BUSY:\n",
    "    print('BUSY! Dont do something...')"
   ]
  },
  {
   "cell_type": "markdown",
   "id": "ea68d6c0-4147-474c-b47e-b34a8764e123",
   "metadata": {},
   "source": [
    "Out the box, **members are always truthy**, which is why `State.BUSY` returned `True`. We can override this with `__bool__`."
   ]
  },
  {
   "cell_type": "code",
   "execution_count": 53,
   "id": "0d534799-0f35-44c3-a16a-2e7d87b18189",
   "metadata": {},
   "outputs": [
    {
     "name": "stdout",
     "output_type": "stream",
     "text": [
      "READY! Doing something...\n"
     ]
    }
   ],
   "source": [
    "class State(Enum):\n",
    "    READY = 1\n",
    "    BUSY = 0\n",
    "\n",
    "    def __bool__(self):\n",
    "        return bool(self.value)\n",
    "\n",
    "if State.READY:\n",
    "    print('READY! Doing something...')\n",
    "\n",
    "if State.BUSY:\n",
    "    print('BUSY! Dont do something...')"
   ]
  },
  {
   "cell_type": "markdown",
   "id": "4c24427c-445c-48e6-8760-4bf7f5f7d8d3",
   "metadata": {},
   "source": [
    "#### Extending/Subclassing"
   ]
  },
  {
   "cell_type": "markdown",
   "id": "418b8a76-da87-4937-9ad6-a01dfe42c114",
   "metadata": {},
   "source": [
    "As mentioned before, we cannot extend an enum that contains members because the subclassed enum will be mutating the original which violates the innate immutability of enumerations.\n",
    "\n",
    "But subclass an empty enumeration can be useful. Here we create a base enumeration class containing all the methods and none of the members.\n",
    "\n",
    "Then we subclass it and create our members to have all the methods and all the members."
   ]
  },
  {
   "cell_type": "markdown",
   "id": "c6b9046c-e87a-46ae-b687-71a1f80d32a3",
   "metadata": {},
   "source": [
    "##### Simple Example"
   ]
  },
  {
   "cell_type": "markdown",
   "id": "bdda5d55-207c-4096-a6a8-44cc31c8bc6b",
   "metadata": {},
   "source": [
    "Here's an example of where this might be useful:"
   ]
  },
  {
   "cell_type": "code",
   "execution_count": 57,
   "id": "01efb195-6b59-48a2-b898-2061d18961f8",
   "metadata": {},
   "outputs": [],
   "source": [
    "from functools import total_ordering\n",
    "\n",
    "@total_ordering\n",
    "class OrderedEnum(Enum):\n",
    "    \"\"\"Creates an ordering based on the member values. \n",
    "    So member values have to support rich comparisons.\n",
    "    \"\"\"\n",
    "    \n",
    "    def __lt__(self, other):\n",
    "        if isinstance(other, OrderedEnum):\n",
    "            return self.value < other.value\n",
    "        return NotImplemented"
   ]
  },
  {
   "cell_type": "markdown",
   "id": "0cd46876-c707-4d21-b219-34e00de20f1b",
   "metadata": {},
   "source": [
    "And now we can create other enumerations that will support ordering without having to retype the `__lt__` implementation, or even the decorator:"
   ]
  },
  {
   "cell_type": "code",
   "execution_count": 58,
   "id": "e8a636e3-4bfe-4d88-b184-9e6fb8fced4d",
   "metadata": {},
   "outputs": [],
   "source": [
    "class Number(OrderedEnum):\n",
    "    ONE = 1\n",
    "    TWO = 2\n",
    "    THREE = 3\n",
    "    \n",
    "class Dimension(OrderedEnum):\n",
    "    D1 = 1,\n",
    "    D2 = 1, 1\n",
    "    D3 = 1, 1, 1"
   ]
  },
  {
   "cell_type": "code",
   "execution_count": 59,
   "id": "372cfcaf-afa2-4c37-80af-50df2d30075a",
   "metadata": {},
   "outputs": [
    {
     "data": {
      "text/plain": [
       "True"
      ]
     },
     "execution_count": 59,
     "metadata": {},
     "output_type": "execute_result"
    }
   ],
   "source": [
    "Number.ONE < Number.THREE"
   ]
  },
  {
   "cell_type": "code",
   "execution_count": 60,
   "id": "722aabc9-3c14-4bd4-b590-2aedb76839e8",
   "metadata": {},
   "outputs": [
    {
     "data": {
      "text/plain": [
       "True"
      ]
     },
     "execution_count": 60,
     "metadata": {},
     "output_type": "execute_result"
    }
   ],
   "source": [
    "Dimension.D1 < Dimension.D3"
   ]
  },
  {
   "cell_type": "markdown",
   "id": "bd82bbf1-a263-41e7-9a11-626bfba50577",
   "metadata": {},
   "source": [
    "##### HTTP Example"
   ]
  },
  {
   "cell_type": "markdown",
   "id": "744efd67-749d-43d0-9170-9ed4001efa34",
   "metadata": {},
   "source": [
    "The HTTP status codes are a type of enum (called `EnumMeta` but don't worry about that): "
   ]
  },
  {
   "cell_type": "code",
   "execution_count": 62,
   "id": "42801d47-0d26-4536-ae79-e30428db6913",
   "metadata": {},
   "outputs": [
    {
     "data": {
      "text/plain": [
       "[<HTTPStatus.CONTINUE: 100>,\n",
       " <HTTPStatus.SWITCHING_PROTOCOLS: 101>,\n",
       " <HTTPStatus.PROCESSING: 102>,\n",
       " <HTTPStatus.EARLY_HINTS: 103>,\n",
       " <HTTPStatus.OK: 200>]"
      ]
     },
     "execution_count": 62,
     "metadata": {},
     "output_type": "execute_result"
    }
   ],
   "source": [
    "from http import HTTPStatus\n",
    "\n",
    "list(HTTPStatus)[0:5]"
   ]
  },
  {
   "cell_type": "code",
   "execution_count": 63,
   "id": "56f7c63c-e57c-415a-aa6e-6812ad85a369",
   "metadata": {},
   "outputs": [
    {
     "data": {
      "text/plain": [
       "<HTTPStatus.NOT_FOUND: 404>"
      ]
     },
     "execution_count": 63,
     "metadata": {},
     "output_type": "execute_result"
    }
   ],
   "source": [
    "HTTPStatus(404)"
   ]
  },
  {
   "cell_type": "markdown",
   "id": "b1ad7d16-bfba-4eea-a9d9-7178697888b8",
   "metadata": {},
   "source": [
    "This has other properties besides `<member>.name` and `<member>.value` such as `<member>.phrase` which is more readable:"
   ]
  },
  {
   "cell_type": "code",
   "execution_count": 67,
   "id": "afded9e4-dd1a-4f0a-bc32-60870550e7cf",
   "metadata": {},
   "outputs": [
    {
     "data": {
      "text/plain": [
       "('NOT_FOUND', 404, 'Not Found')"
      ]
     },
     "execution_count": 67,
     "metadata": {},
     "output_type": "execute_result"
    }
   ],
   "source": [
    "HTTPStatus.NOT_FOUND.name, HTTPStatus.NOT_FOUND.value, HTTPStatus.NOT_FOUND.phrase, "
   ]
  },
  {
   "cell_type": "markdown",
   "id": "05d1190e-b859-4301-b3c4-a0cb3cd534a1",
   "metadata": {},
   "source": [
    "#### Replicating HTTP Example"
   ]
  },
  {
   "cell_type": "markdown",
   "id": "95496d45-8667-43c8-a20e-483c3e205092",
   "metadata": {},
   "source": [
    "Let's make a simpler version of `HTTPStatus` with only two statuses.\n",
    "\n",
    "To do this, there are a few things we need to remember:\n",
    "- members **need** to be **instances** of our class.\n",
    "- `__new__` is responsible for creating instances and, **for Enums**, it runs when compiling the class. Its first argument is always `cls`.\n",
    "- The remaining arguments of `__new__` are our members' declared values when unpacked. If we have a single value, we have a single additional arg. If we have a tuple of three values, we have three additional args.\n",
    "- enumeration members have an special `._value_` attribute inherited from `Enum` which is used to map our declared value to `<member>.value`.\n",
    "\n",
    "With all that being said, we can create our replicate:"
   ]
  },
  {
   "cell_type": "code",
   "execution_count": 91,
   "id": "0de49da5-17c7-433b-a7db-6f0c6c55c14f",
   "metadata": {},
   "outputs": [
    {
     "name": "stdout",
     "output_type": "stream",
     "text": [
      "iran\n",
      "new ran\n",
      "<enum 'AppStatus'> 0 No Problem!\n",
      "new ran\n",
      "<enum 'AppStatus'> 1 Crap!\n"
     ]
    }
   ],
   "source": [
    "class AppStatus(Enum):\n",
    "    OK = (0, 'No Problem!')\n",
    "    FAILED = (1, 'Crap!')\n",
    "    \n",
    "    def __new__(cls, member_value, member_phrase):\n",
    "        # create a new instance of cls\n",
    "        print(cls, member_value, member_phrase)\n",
    "        member = object.__new__(cls)\n",
    "        \n",
    "        # set up instance attributes\n",
    "        member._value_ = member_value\n",
    "        member.phrase = member_phrase\n",
    "        return member"
   ]
  },
  {
   "cell_type": "markdown",
   "id": "6cc9f2a1-a7f3-43bc-985e-02f337434ec8",
   "metadata": {},
   "source": [
    "We needed to delegate to `object` for instantiating (not initialising) our instance of `AppStatus` as opposed to instantiating via `member = AppStatus()` as that would implictly call `__new__` and cause infinite recursion.\n",
    "\n",
    "Thereafter, we setup our own attributes on our member.\n",
    "\n",
    "This gives us the replicated functionality of `HTTPStatus`:"
   ]
  },
  {
   "cell_type": "code",
   "execution_count": 78,
   "id": "854ae2de-8e42-4ff2-8b5d-61f1fafcb7b3",
   "metadata": {},
   "outputs": [
    {
     "data": {
      "text/plain": [
       "('OK', 0, 'No Problem!')"
      ]
     },
     "execution_count": 78,
     "metadata": {},
     "output_type": "execute_result"
    }
   ],
   "source": [
    "AppStatus.OK.name, AppStatus.OK.value, AppStatus.OK.phrase"
   ]
  },
  {
   "cell_type": "code",
   "execution_count": 79,
   "id": "157345fa-80d0-4297-986c-1e6cf8c00573",
   "metadata": {},
   "outputs": [
    {
     "data": {
      "text/plain": [
       "('FAILED', 1, 'Crap!')"
      ]
     },
     "execution_count": 79,
     "metadata": {},
     "output_type": "execute_result"
    }
   ],
   "source": [
    "AppStatus.FAILED.name, AppStatus.FAILED.value, AppStatus.FAILED.phrase"
   ]
  },
  {
   "cell_type": "markdown",
   "id": "9f8c9cd4-4bec-4ffd-95e3-b26e6eeeba07",
   "metadata": {},
   "source": [
    "This is a strong case for subclassing:"
   ]
  },
  {
   "cell_type": "code",
   "execution_count": 93,
   "id": "69e1e2f6-8b6b-4ef7-9cf8-a1566010d954",
   "metadata": {},
   "outputs": [],
   "source": [
    "class TwoValueEnum(Enum):\n",
    "    def __new__(cls, member_value, member_phrase):\n",
    "        member = object.__new__(cls)\n",
    "        member._value_ = member_value\n",
    "        member.phrase = member_phrase\n",
    "        return member"
   ]
  },
  {
   "cell_type": "markdown",
   "id": "4817d216-c334-4768-939b-e9ddb8109c9e",
   "metadata": {},
   "source": [
    "And then inherit this for any enumeration where we want to support a value as a `(code, phrase)` tuple:"
   ]
  },
  {
   "cell_type": "code",
   "execution_count": 94,
   "id": "8ea9061b-657c-4278-aaab-c2ef8c4a3616",
   "metadata": {},
   "outputs": [],
   "source": [
    "class AppStatus(TwoValueEnum):\n",
    "    OK = (0, 'No Problem!')\n",
    "    FAILED = (1, 'Crap!')"
   ]
  },
  {
   "cell_type": "code",
   "execution_count": 95,
   "id": "8f298b9a-651a-48a3-b513-6dc74b614db5",
   "metadata": {},
   "outputs": [
    {
     "data": {
      "text/plain": [
       "('OK', 0, 'No Problem!')"
      ]
     },
     "execution_count": 95,
     "metadata": {},
     "output_type": "execute_result"
    }
   ],
   "source": [
    "AppStatus.OK.name, AppStatus.OK.value, AppStatus.OK.phrase"
   ]
  },
  {
   "cell_type": "code",
   "execution_count": 97,
   "id": "c993f6d1-e400-45a2-a0cb-60ed668c3e83",
   "metadata": {},
   "outputs": [
    {
     "data": {
      "text/plain": [
       "<AppStatus.OK: 0>"
      ]
     },
     "execution_count": 97,
     "metadata": {},
     "output_type": "execute_result"
    }
   ],
   "source": [
    "AppStatus(0)"
   ]
  },
  {
   "cell_type": "markdown",
   "id": "95b56779-f193-4b69-b5cb-e825472c3eb7",
   "metadata": {},
   "source": [
    "# 04 - Automatic Values"
   ]
  },
  {
   "cell_type": "markdown",
   "id": "93ef177e-f993-4131-b4c5-0b823829ad5f",
   "metadata": {},
   "source": [
    "We can use `enum.auto()` to assign values to members automatically. \n",
    "\n",
    "Behind the scenes, this uses a static method in the `Enum` class called `_generate_next_value(name, start, count, last_values)`.\n",
    "- `name`: the member's name\n",
    "- `start`: we won't cover this; it's essentially used for creating enumerations functionally as opposed to declaratively\n",
    "- `count`: the number of members that have **already** been created (including aliases!)\n",
    "- `last_values`: a list containing all the previous values that have been assigned to members.\n",
    "\n",
    "returns: value to be assigned to that particular member.\n",
    "\n",
    "By default, its implementation results in sequential integer numbers from 1.\n",
    "\n",
    "Here's a basic example:"
   ]
  },
  {
   "cell_type": "code",
   "execution_count": 103,
   "id": "215b6009-7f7a-4758-b946-e9816d782836",
   "metadata": {},
   "outputs": [
    {
     "data": {
      "text/plain": [
       "[<Number.ONE: 1>, <Number.TWO: 2>, <Number.THREE: 3>]"
      ]
     },
     "execution_count": 103,
     "metadata": {},
     "output_type": "execute_result"
    }
   ],
   "source": [
    "class Number(Enum):\n",
    "    ONE = enum.auto()\n",
    "    TWO = enum.auto()\n",
    "    THREE = enum.auto()\n",
    "\n",
    "list(Number)"
   ]
  }
 ],
 "metadata": {
  "kernelspec": {
   "display_name": "Python 3 (ipykernel)",
   "language": "python",
   "name": "python3"
  },
  "language_info": {
   "codemirror_mode": {
    "name": "ipython",
    "version": 3
   },
   "file_extension": ".py",
   "mimetype": "text/x-python",
   "name": "python",
   "nbconvert_exporter": "python",
   "pygments_lexer": "ipython3",
   "version": "3.10.4"
  }
 },
 "nbformat": 4,
 "nbformat_minor": 5
}
