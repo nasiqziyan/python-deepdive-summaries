{
 "cells": [
  {
   "cell_type": "code",
   "execution_count": 6,
   "id": "d0bb47e5-e8f8-46f6-864b-bd7d117df492",
   "metadata": {},
   "outputs": [],
   "source": [
    "class CharField:\n",
    "    def __init__(self, min_=None, max_=None):\n",
    "        min_ = min_ or 0  # in case min_ is None\n",
    "        min_ = max(min_, 0)  # replaces negative value with zero\n",
    "        self._min = min_\n",
    "        self._max = max_\n",
    "\n",
    "    def __set_name__(self, owner_class, prop_name):\n",
    "        self.prop_name = prop_name\n",
    "        \n",
    "    def __set__(self, instance, value):\n",
    "        if not isinstance(value, str):\n",
    "            raise ValueError(f'{self.prop_name} must be a string.')\n",
    "        if self._min is not None and len(value) < self._min:\n",
    "            raise ValueError(f'{self.prop_name} must be >= {self._min} chars.')\n",
    "        if self._max is not None and len(value) > self._max:\n",
    "            raise ValueError(f'{self.prop_name} must be <= {self._max} chars')\n",
    "        instance.__dict__[self.prop_name] = value\n",
    "        \n",
    "    def __get__(self, instance, owner_class):\n",
    "        if instance is None:\n",
    "            return self\n",
    "        else:\n",
    "            return instance.__dict__.get(self.prop_name, None)\n",
    "    "
   ]
  },
  {
   "cell_type": "markdown",
   "id": "1d630dbe-cebc-45a9-bb18-8a6c345e45cc",
   "metadata": {},
   "source": [
    "# 01 - Enumerations"
   ]
  },
  {
   "cell_type": "markdown",
   "id": "2b92c241-2be9-48c9-8f0c-3ec761359850",
   "metadata": {},
   "source": [
    "#### Motivation"
   ]
  },
  {
   "cell_type": "markdown",
   "id": "56e369ce-25b9-4373-bf48-11bed974f3eb",
   "metadata": {},
   "source": [
    "How do we deal with collections of related constants? One way would be:"
   ]
  },
  {
   "cell_type": "code",
   "execution_count": 2,
   "id": "d90fd076-5a23-4630-8f6c-89839541fb89",
   "metadata": {},
   "outputs": [
    {
     "data": {
      "text/plain": [
       "True"
      ]
     },
     "execution_count": 2,
     "metadata": {},
     "output_type": "execute_result"
    }
   ],
   "source": [
    "RED = 1\n",
    "GREEN = 2\n",
    "BLUE = 3\n",
    "\n",
    "COLOURS = (RED, GREEN, BLUE)\n",
    "\n",
    "RED in COLOURS"
   ]
  },
  {
   "cell_type": "markdown",
   "id": "327114a4-7198-49aa-99a2-a5f060b8c763",
   "metadata": {},
   "source": [
    "But this causes the following issues:"
   ]
  },
  {
   "cell_type": "code",
   "execution_count": 5,
   "id": "f4754525-72db-40b4-9f6e-822c2e9371ab",
   "metadata": {},
   "outputs": [
    {
     "name": "stdout",
     "output_type": "stream",
     "text": [
      "True\n",
      "True\n"
     ]
    }
   ],
   "source": [
    "print(1 in COLOURS)\n",
    "print(RED < GREEN)"
   ]
  },
  {
   "cell_type": "markdown",
   "id": "1690f533-1f4a-4a8f-9a14-3a637de3ef01",
   "metadata": {},
   "source": [
    "Even if we were to assign the symbols to meaningful strings e.g. `RED = 'red'`, we can run into issues and accidents such as having non-unique values by doing `GREEN = 'red'` for example. We could also do `RED * 2`..."
   ]
  },
  {
   "cell_type": "markdown",
   "id": "5a0be79e-a20d-4cb3-9618-eef09f847578",
   "metadata": {},
   "source": [
    "What do we really want? \n",
    "\n",
    "An **immutable** collection of related **constant** members:\n",
    "- having unique names e.g. RED\n",
    "- having an associated **constant** value e.g. 1\n",
    "- having unique associated values\n",
    "- not allowing operations e.g. `RED * 2`\n",
    "- lookup member by name\n",
    "- lookup member by value\n"
   ]
  },
  {
   "cell_type": "markdown",
   "id": "a325b53b-df6b-4ec6-b98e-556cae65fb17",
   "metadata": {},
   "source": [
    "**Aliases**\n",
    "\n",
    "Sometimes we want multiple symbols to refer to the same thing:\n",
    "```python\n",
    "POLY_4 = 4\n",
    "RECTANCLE = 4\n",
    "SQUARE = 4\n",
    "RHOMBUS = 4\n",
    "```\n",
    "Here, the last three are aliases for `POLY_4`. With reverse lookups, we want to return the original, not the alias, so `4 -> POLY_4`."
   ]
  },
  {
   "cell_type": "markdown",
   "id": "e7c76697-47af-4d74-b07c-31cf206ddac5",
   "metadata": {},
   "source": [
    "#### Lecture"
   ]
  },
  {
   "cell_type": "markdown",
   "id": "e419f0ed-c878-4158-845a-c6201bb52d7d",
   "metadata": {},
   "source": [
    "Here's the basic setup:"
   ]
  },
  {
   "cell_type": "code",
   "execution_count": 12,
   "id": "68daa6b7-7d4d-4196-a9f2-df0179d92b85",
   "metadata": {},
   "outputs": [],
   "source": [
    "from enum import Enum\n",
    "\n",
    "class Colour(Enum):\n",
    "    RED = 1\n",
    "    GREEN = 2\n",
    "    BLUE = 3"
   ]
  },
  {
   "cell_type": "markdown",
   "id": "92b696cf-7c3b-4130-a992-bfe157d81900",
   "metadata": {},
   "source": [
    "Here's some terminology:\n",
    "\n",
    "- `Colour` is called an **enumeration** (enum for short)\n",
    "- `Colour.RED` is called an **enumeration member** (and their values are just called values)\n",
    "- The `type` of a member is the **enumeration** that it belongs to. This is odd; see below (and metaprogramming sections)"
   ]
  },
  {
   "cell_type": "code",
   "execution_count": 22,
   "id": "e7196936-0fee-4fb9-b2d1-a7c65a52a600",
   "metadata": {},
   "outputs": [
    {
     "name": "stdout",
     "output_type": "stream",
     "text": [
      "<enum 'Colour'>\n"
     ]
    }
   ],
   "source": [
    "print(type(Colour.RED))"
   ]
  },
  {
   "cell_type": "code",
   "execution_count": 17,
   "id": "806b82f5-a11a-4a22-a5f8-e5bbbb09891b",
   "metadata": {},
   "outputs": [
    {
     "data": {
      "text/plain": [
       "int"
      ]
     },
     "execution_count": 17,
     "metadata": {},
     "output_type": "execute_result"
    }
   ],
   "source": [
    "class Colour2:\n",
    "    RED = 1\n",
    "\n",
    "type(Colour2.RED)"
   ]
  },
  {
   "cell_type": "markdown",
   "id": "073e016d-e5be-4e08-b879-5fe2c4bb4cc7",
   "metadata": {},
   "source": [
    "Here's some basics:"
   ]
  },
  {
   "cell_type": "code",
   "execution_count": 25,
   "id": "ef013b50-5297-4f49-8155-dd079abe252e",
   "metadata": {},
   "outputs": [
    {
     "name": "stdout",
     "output_type": "stream",
     "text": [
      "isinstance(Colour.RED, Colour) = True\n",
      "str(Colour.RED) = 'Colour.RED'\n",
      "repr(Colour.RED) = '<Colour.RED: 1>'\n",
      "Colour.RED.name = 'RED'\n",
      "Colour.RED.value = 1\n"
     ]
    }
   ],
   "source": [
    "print(f\"{isinstance(Colour.RED, Colour) = }\")\n",
    "print(f\"{str(Colour.RED) = }\")\n",
    "print(f\"{repr(Colour.RED) = }\")\n",
    "print(f\"{Colour.RED.name = }\")\n",
    "print(f\"{Colour.RED.value = }\")\n"
   ]
  },
  {
   "cell_type": "markdown",
   "id": "3a421ba8-f2a6-42ec-bc00-afc76d6111e1",
   "metadata": {},
   "source": [
    "**Equality and Membership**\n",
    "\n",
    "Equality is done using identity:`is` (but `==` works too, but shouldn't be used as it can be overridden)"
   ]
  },
  {
   "cell_type": "code",
   "execution_count": 26,
   "id": "8acf7979-a8ae-491a-b221-c495090310e5",
   "metadata": {},
   "outputs": [
    {
     "data": {
      "text/plain": [
       "True"
      ]
     },
     "execution_count": 26,
     "metadata": {},
     "output_type": "execute_result"
    }
   ],
   "source": [
    "Colour.GREEN in Colour"
   ]
  },
  {
   "cell_type": "markdown",
   "id": "23b8b3c3-e628-48f5-acf7-ee28c8984d8e",
   "metadata": {},
   "source": [
    "But note that members and their associated values are **not equal**!"
   ]
  },
  {
   "cell_type": "code",
   "execution_count": 29,
   "id": "8646042a-57c5-410b-834f-ad8bd97babaf",
   "metadata": {},
   "outputs": [
    {
     "data": {
      "text/plain": [
       "False"
      ]
     },
     "execution_count": 29,
     "metadata": {},
     "output_type": "execute_result"
    }
   ],
   "source": [
    "Colour.RED == 1"
   ]
  },
  {
   "cell_type": "markdown",
   "id": "75e13e50-ad52-4172-9f9c-fa67c98a295a",
   "metadata": {},
   "source": [
    "**Hashability**\n",
    "\n",
    "Enumeration members are always **hashable**. This is so that they can be used as:\n",
    "- keys in dictionaries\n",
    "- elements of a set\n",
    "\n",
    "For example:"
   ]
  },
  {
   "cell_type": "code",
   "execution_count": 30,
   "id": "c642a7c2-78ed-47dc-af54-d09247482509",
   "metadata": {},
   "outputs": [],
   "source": [
    "pixel_colour = {\n",
    "    Colour.RED: 100,\n",
    "    Colour.GREEN: 25,\n",
    "    Colour.BLUE: 255\n",
    "}"
   ]
  },
  {
   "cell_type": "markdown",
   "id": "a6156d85-11f0-45be-b172-2473121c5272",
   "metadata": {},
   "source": [
    "**Lookup**\n",
    "\n",
    "There are two ways we can retrieve a member. Either through its value directly (e.g. 1 for `Colour.RED`) or by the string of the member name (e.g. `'RED'`).\n",
    "\n",
    "To do this, know that enumerations are **callables**:"
   ]
  },
  {
   "cell_type": "code",
   "execution_count": 32,
   "id": "e823b674-1ba1-44a7-9530-bbcde8be1b08",
   "metadata": {},
   "outputs": [
    {
     "data": {
      "text/plain": [
       "<Colour.RED: 1>"
      ]
     },
     "execution_count": 32,
     "metadata": {},
     "output_type": "execute_result"
    }
   ],
   "source": [
    "Colour(1)"
   ]
  },
  {
   "cell_type": "code",
   "execution_count": 33,
   "id": "56a14fea-2089-4adf-a5b8-e617f16d36d8",
   "metadata": {},
   "outputs": [
    {
     "data": {
      "text/plain": [
       "<Colour.RED: 1>"
      ]
     },
     "execution_count": 33,
     "metadata": {},
     "output_type": "execute_result"
    }
   ],
   "source": [
    "Colour['RED']"
   ]
  },
  {
   "cell_type": "markdown",
   "id": "506a542b-4063-455f-8874-b02c3f22f780",
   "metadata": {},
   "source": [
    "**Enumerating Members**\n",
    "\n",
    "Enumerations are **iterables**, so we can `list(Colour)` with **definition order** preserved:"
   ]
  },
  {
   "cell_type": "code",
   "execution_count": 34,
   "id": "614d1ddc-6c8d-4be8-9bee-0926d30b0d88",
   "metadata": {},
   "outputs": [
    {
     "data": {
      "text/plain": [
       "[<Colour.GREEN: 2>, <Colour.RED: 1>, <Colour.BLUE: 3>]"
      ]
     },
     "execution_count": 34,
     "metadata": {},
     "output_type": "execute_result"
    }
   ],
   "source": [
    "class Colour(Enum):\n",
    "    GREEN = 2\n",
    "    RED = 1\n",
    "    BLUE = 3\n",
    "\n",
    "list(Colour)"
   ]
  },
  {
   "cell_type": "markdown",
   "id": "d20297d6-fac6-41be-a8ef-92ff329c8b1a",
   "metadata": {},
   "source": [
    "We also have the `__members__` property which returns a dict where the keys are the names as strings, and the values are the values."
   ]
  },
  {
   "cell_type": "code",
   "execution_count": 37,
   "id": "049bb0ac-d28d-4e08-9026-2646b543385c",
   "metadata": {},
   "outputs": [
    {
     "data": {
      "text/plain": [
       "mappingproxy({'GREEN': <Colour.GREEN: 2>,\n",
       "              'RED': <Colour.RED: 1>,\n",
       "              'BLUE': <Colour.BLUE: 3>})"
      ]
     },
     "execution_count": 37,
     "metadata": {},
     "output_type": "execute_result"
    }
   ],
   "source": [
    "Colour.__members__"
   ]
  },
  {
   "cell_type": "markdown",
   "id": "52a996cc-f7fb-421d-bd43-8974a826fc87",
   "metadata": {},
   "source": [
    "**Constant Members**\n",
    "\n",
    "Once an enumeration has been declared:\n",
    "- member list is immutable (cannot add or remove members)\n",
    "- member values are immutable\n",
    "- cannot be subclassed, **unless it contains no members**. You'll see why creating empty enumerations can be useful."
   ]
  },
  {
   "cell_type": "markdown",
   "id": "6a71caa0-5dad-4471-9a2b-659f4b082b9b",
   "metadata": {},
   "source": [
    "# 02 - Aliases"
   ]
  },
  {
   "cell_type": "markdown",
   "id": "9ececc15-b4a2-4352-94c0-93148faf29b1",
   "metadata": {},
   "source": [
    "# 03 - Customizing and Extending Enumerations"
   ]
  },
  {
   "cell_type": "markdown",
   "id": "95b56779-f193-4b69-b5cb-e825472c3eb7",
   "metadata": {},
   "source": [
    "# 04 - Automatic Values"
   ]
  },
  {
   "cell_type": "code",
   "execution_count": null,
   "id": "215b6009-7f7a-4758-b946-e9816d782836",
   "metadata": {},
   "outputs": [],
   "source": []
  }
 ],
 "metadata": {
  "kernelspec": {
   "display_name": "Python 3 (ipykernel)",
   "language": "python",
   "name": "python3"
  },
  "language_info": {
   "codemirror_mode": {
    "name": "ipython",
    "version": 3
   },
   "file_extension": ".py",
   "mimetype": "text/x-python",
   "name": "python",
   "nbconvert_exporter": "python",
   "pygments_lexer": "ipython3",
   "version": "3.10.4"
  }
 },
 "nbformat": 4,
 "nbformat_minor": 5
}
