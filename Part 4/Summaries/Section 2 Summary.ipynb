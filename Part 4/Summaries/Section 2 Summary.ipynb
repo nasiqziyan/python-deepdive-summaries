{
 "cells": [
  {
   "cell_type": "markdown",
   "id": "022284cf-435a-4d67-8eb8-52e9bee686b2",
   "metadata": {},
   "source": [
    "# 01 - Objects and Classes"
   ]
  },
  {
   "cell_type": "markdown",
   "id": "0ec474d5-af28-409e-88d2-0dc49fd99a9c",
   "metadata": {},
   "source": [
    "We will try to refer to instances of classes as **instances** and not **objects** throughout this course because pretty much everything is an object.\n",
    "\n",
    "The class itself is also called a `type`. For example, we call `list` a type but it's also a `list` class.\n",
    "\n",
    "The type of our classes (not instances) are of type: `type`. This includes things like the `list` class - we'll look into all of this later.\n",
    "\n",
    "The type of `type` is also of type: `type`. Again, we'll look into all of this later."
   ]
  },
  {
   "cell_type": "markdown",
   "id": "daf4940b-9fdf-4095-8518-4627068ccd58",
   "metadata": {},
   "source": [
    "# 02 - Class Attributes"
   ]
  },
  {
   "cell_type": "markdown",
   "id": "9333f096-d637-4fd9-a61e-f3561b1c052b",
   "metadata": {},
   "source": [
    "Everything in this subsection is related to the class itself, **not the instances of the class**."
   ]
  },
  {
   "cell_type": "markdown",
   "id": "4b2a0c68-740f-4c31-81ca-f98d3bd12537",
   "metadata": {},
   "source": [
    "We can **get** the attributes of **any object** in general, not just classes, using the `getattr` function:\n",
    "```python\n",
    "getattr(object_symbol, attribute_name, optional_default)\n",
    "```\n",
    "- The shorthand dot notation is identical to this except you can't specify defaults with dot notation.\n",
    "- When bounded to a class, they are often called **data attributes** or **class attributes** in contrast to **instance attributes**.\n",
    "\n",
    "Here's a simple example:"
   ]
  },
  {
   "cell_type": "code",
   "execution_count": 14,
   "id": "9e35f5ef-6208-43a7-8ce6-d9867633d10b",
   "metadata": {},
   "outputs": [
    {
     "name": "stdout",
     "output_type": "stream",
     "text": [
      "Python\n",
      "N/A\n"
     ]
    }
   ],
   "source": [
    "class MyClass:\n",
    "    language = 'Python'\n",
    "    version = '3.6'\n",
    "\n",
    "print(getattr(MyClass, 'language'))\n",
    "print(getattr(MyClass, 'x', 'N/A'))"
   ]
  },
  {
   "cell_type": "markdown",
   "id": "04c72894-23c0-41f7-810a-35887eb5ba8f",
   "metadata": {},
   "source": [
    "We can **set** the attributes of **any object** in general, not just classes, using the `setattr` function:\n",
    "```python\n",
    "getattr(object_symbol, attribute_name, attribute value)\n",
    "```\n",
    "- Since python is a dynamic language, we can define attributes in our code to modify our classes at runtime.\n",
    "\n",
    "Here's a simple example:"
   ]
  },
  {
   "cell_type": "code",
   "execution_count": 15,
   "id": "57e7dbdc-1b91-447a-a512-d11f3ea81390",
   "metadata": {},
   "outputs": [
    {
     "name": "stdout",
     "output_type": "stream",
     "text": [
      "3.7\n",
      "100\n"
     ]
    }
   ],
   "source": [
    "class MyClass:\n",
    "    language = 'Python'\n",
    "    version = '3.6'\n",
    "\n",
    "setattr(MyClass, 'version', '3.7')\n",
    "print(getattr(MyClass, 'version'))\n",
    "\n",
    "setattr(MyClass, 'x', 100)\n",
    "print(getattr(MyClass, 'x'))"
   ]
  },
  {
   "cell_type": "markdown",
   "id": "64d6e9e5-6e3c-4944-9ce1-f6ec87f42971",
   "metadata": {},
   "source": [
    "We can **delete** the attributes of **any object** (usually), not just classes, using the `delattr` function:\n",
    "```python\n",
    "delattr(object_symbol, attribute_name)\n",
    "```\n",
    "- We can also use the `del` keyword which we've seen in the past for removing keys from dictionaries. This fact will become more relevant after reading down below."
   ]
  },
  {
   "cell_type": "markdown",
   "id": "abedc10a-51fb-499b-924d-1b13c96bdbd8",
   "metadata": {},
   "source": [
    "**Where is the state stored?**\n",
    "\n",
    "- The state of a class is stored in a dictionary accessed with `__dict__`.\n",
    "- This returns a **mappingproxy** which is a hashmap (dictionary) but not a python `dict`. It is essentially a read-only dictionary that's only mutable via `setattr`. This is in contrast to the state of an instance accessed by `__dict__` which *is* a python `dict` and is therefore read-and-write.\n",
    "- This dictionary is often called the **class namespace**."
   ]
  },
  {
   "cell_type": "code",
   "execution_count": 16,
   "id": "28cf1c89-351b-4598-a726-cd9fd4d34ef3",
   "metadata": {},
   "outputs": [
    {
     "data": {
      "text/plain": [
       "mappingproxy({'__module__': '__main__',\n",
       "              'language': 'Python',\n",
       "              'version': '3.7',\n",
       "              '__dict__': <attribute '__dict__' of 'MyClass' objects>,\n",
       "              '__weakref__': <attribute '__weakref__' of 'MyClass' objects>,\n",
       "              '__doc__': None,\n",
       "              'x': 100})"
      ]
     },
     "execution_count": 16,
     "metadata": {},
     "output_type": "execute_result"
    }
   ],
   "source": [
    "MyClass.__dict__"
   ]
  },
  {
   "cell_type": "markdown",
   "id": "50786f1c-99bd-4239-a835-ed4d17fd1e81",
   "metadata": {},
   "source": [
    "While we can get (but not set) attributes via this dictionary, it's better to use `getattr` or the dot notation as classes can sometimes have attributes that **don't** show up in this dictionary e.g. `__name__`."
   ]
  },
  {
   "cell_type": "code",
   "execution_count": 17,
   "id": "565e76d4-bf46-4b76-89ff-a0bae2bdd8a8",
   "metadata": {},
   "outputs": [
    {
     "data": {
      "text/plain": [
       "'Python'"
      ]
     },
     "execution_count": 17,
     "metadata": {},
     "output_type": "execute_result"
    }
   ],
   "source": [
    "MyClass.__dict__['language']"
   ]
  },
  {
   "cell_type": "markdown",
   "id": "5c1fd806-b196-4220-bce6-89ec86ff192f",
   "metadata": {},
   "source": [
    "# 03 - Callable Class Attributes"
   ]
  },
  {
   "cell_type": "markdown",
   "id": "089e08ac-24d7-430e-a87b-ee2ba49bd883",
   "metadata": {},
   "source": [
    "Class attributes can be any object type, including callables such as functions. These are **not** instance methods as they do not take `self` in their argument. They are typically called **function attributes**."
   ]
  },
  {
   "cell_type": "code",
   "execution_count": 19,
   "id": "eaf1ab26-8383-47c3-b008-b4f884876cf0",
   "metadata": {},
   "outputs": [],
   "source": [
    "class Program:\n",
    "    language = 'Python'\n",
    "    \n",
    "    def say_hello():\n",
    "        print(f'Hello from {Program.language}!')"
   ]
  },
  {
   "cell_type": "markdown",
   "id": "137acb2a-6419-4047-831f-88c9ac333793",
   "metadata": {},
   "source": [
    "Since this function is an **attribute**, we can use `getattr` or dot notation:"
   ]
  },
  {
   "cell_type": "code",
   "execution_count": 21,
   "id": "e1febc68-698d-4c18-91b8-c2b338bb537f",
   "metadata": {},
   "outputs": [
    {
     "name": "stdout",
     "output_type": "stream",
     "text": [
      "Hello from Python!\n",
      "Hello from Python!\n"
     ]
    }
   ],
   "source": [
    "Program.say_hello()\n",
    "getattr(Program, 'say_hello')()"
   ]
  },
  {
   "cell_type": "markdown",
   "id": "f7130204-3405-4b56-b47f-0da175e22bf1",
   "metadata": {},
   "source": [
    "# 04 - Classes are Callable"
   ]
  },
  {
   "cell_type": "markdown",
   "id": "145f9d9e-2009-43d7-9265-111d78eee79a",
   "metadata": {},
   "source": [
    "When we use the `class` keyword, Python automatically adds behaviours to the class.\n",
    "\n",
    "It makes it a callable with a return value that is an object which we call an **instance**.\n",
    "\n",
    "The **instance** has its own **_distinct_** namespace which is separate to the namespace of the class itself.\n",
    "\n",
    "`__dict__` on the instances returns the instance's **local** namespace while `__dict__` on the class returns the class' namespace."
   ]
  },
  {
   "cell_type": "code",
   "execution_count": 28,
   "id": "076ef262-7ad1-4777-be83-45cc88a26d9e",
   "metadata": {},
   "outputs": [],
   "source": [
    "class Program:\n",
    "    language = 'Python'\n",
    "    \n",
    "    def say_hello():\n",
    "        print(f'Hello from {Program.language}!')"
   ]
  },
  {
   "cell_type": "code",
   "execution_count": 29,
   "id": "bc53fd30-0cf1-49e0-bf04-ce6ff5e58e9e",
   "metadata": {},
   "outputs": [
    {
     "data": {
      "text/plain": [
       "mappingproxy({'__module__': '__main__',\n",
       "              'language': 'Python',\n",
       "              'say_hello': <function __main__.Program.say_hello()>,\n",
       "              '__dict__': <attribute '__dict__' of 'Program' objects>,\n",
       "              '__weakref__': <attribute '__weakref__' of 'Program' objects>,\n",
       "              '__doc__': None})"
      ]
     },
     "execution_count": 29,
     "metadata": {},
     "output_type": "execute_result"
    }
   ],
   "source": [
    "Program.__dict__"
   ]
  },
  {
   "cell_type": "code",
   "execution_count": 30,
   "id": "1e6d118e-0f40-4d5b-a22b-47ca52db8197",
   "metadata": {},
   "outputs": [
    {
     "data": {
      "text/plain": [
       "{}"
      ]
     },
     "execution_count": 30,
     "metadata": {},
     "output_type": "execute_result"
    }
   ],
   "source": [
    "p.__dict__"
   ]
  },
  {
   "cell_type": "markdown",
   "id": "7cdc20fe-fe28-4551-9a0b-caa12b530dc7",
   "metadata": {},
   "source": [
    "We should **always** use the `type` function over the `__class__` attribute to access the original class.\n",
    "\n",
    "This is because `__class__` is just an attribute that can be manually modified:"
   ]
  },
  {
   "cell_type": "code",
   "execution_count": 34,
   "id": "d5f17eac-d274-4400-bb47-210f7efd45b2",
   "metadata": {},
   "outputs": [],
   "source": [
    "class MyClass:\n",
    "    __class__ = str\n",
    "\n",
    "m = MyClass()"
   ]
  },
  {
   "cell_type": "code",
   "execution_count": 35,
   "id": "04a7743e-0d7a-43ff-8d1e-0660653d493a",
   "metadata": {},
   "outputs": [
    {
     "name": "stdout",
     "output_type": "stream",
     "text": [
      "<class 'str'>\n",
      "<class '__main__.MyClass'>\n"
     ]
    }
   ],
   "source": [
    "print(m.__class__)\n",
    "print(type(m))"
   ]
  },
  {
   "cell_type": "markdown",
   "id": "7e2912a3-567b-44fe-9baf-984fe3af9da7",
   "metadata": {},
   "source": [
    "The `isinstance` function *is* affected by our modification too. This is more related to **metaprogramming** so we'll cover it in more detail later, but to demonstrate:"
   ]
  },
  {
   "cell_type": "code",
   "execution_count": 39,
   "id": "5e87db65-5982-4ac5-b455-d0fa1b812972",
   "metadata": {},
   "outputs": [
    {
     "name": "stdout",
     "output_type": "stream",
     "text": [
      "True\n",
      "True\n"
     ]
    }
   ],
   "source": [
    "print(isinstance(m, str))\n",
    "print(isinstance(m, MyClass))"
   ]
  },
  {
   "cell_type": "markdown",
   "id": "dd71c1bd-78c8-4595-8e31-ddcb932254e5",
   "metadata": {},
   "source": [
    "But we should definitely use **isinstance** when it comes to inheritance which we'll also look at later."
   ]
  },
  {
   "cell_type": "markdown",
   "id": "f0bc2bb2-3fac-4c46-a34e-b71bd703ba6c",
   "metadata": {},
   "source": [
    "# 05 - Data Attributes"
   ]
  },
  {
   "cell_type": "markdown",
   "id": "6583bb6c-cb6c-4c9b-9f6f-ecab183297b0",
   "metadata": {},
   "source": [
    "Let's illustrate the differences between the class and instance namespaces with an example. \n",
    "\n",
    "We will demonstrate how performing a lookup for an instance attribute will look in the local namespace, and if it doesn't find it there, it will look in the class namespace:"
   ]
  },
  {
   "cell_type": "code",
   "execution_count": 47,
   "id": "83fb1daa-229c-4529-97b5-1ae002fb28a9",
   "metadata": {},
   "outputs": [],
   "source": [
    "class BankAccount:\n",
    "    apr = 1.2"
   ]
  },
  {
   "cell_type": "code",
   "execution_count": 52,
   "id": "b9aedc3c-d31b-4361-81da-2b98f8e68d95",
   "metadata": {},
   "outputs": [
    {
     "data": {
      "text/plain": [
       "{}"
      ]
     },
     "execution_count": 52,
     "metadata": {},
     "output_type": "execute_result"
    }
   ],
   "source": [
    "acc_1 = BankAccount()\n",
    "acc_2 = BankAccount()\n",
    "\n",
    "acc_1.__dict__"
   ]
  },
  {
   "cell_type": "code",
   "execution_count": 50,
   "id": "9f93ad8f-e771-4825-b1b7-ef99a7f7a500",
   "metadata": {},
   "outputs": [
    {
     "data": {
      "text/plain": [
       "1.2"
      ]
     },
     "execution_count": 50,
     "metadata": {},
     "output_type": "execute_result"
    }
   ],
   "source": [
    "acc_1.apr"
   ]
  },
  {
   "cell_type": "markdown",
   "id": "f58999f9-2690-49f8-9465-f52ca9b888f8",
   "metadata": {},
   "source": [
    "If we set the **instance attribute**, only that instance's namespace will be affected. Other instance namespaces and the class namespace itself will be unaffected."
   ]
  },
  {
   "cell_type": "code",
   "execution_count": 56,
   "id": "54bec3a3-300a-4f9d-bb8a-f8d8e2b0c0a3",
   "metadata": {},
   "outputs": [
    {
     "data": {
      "text/plain": [
       "({'apr': 0}, {})"
      ]
     },
     "execution_count": 56,
     "metadata": {},
     "output_type": "execute_result"
    }
   ],
   "source": [
    "acc_1.apr = 0\n",
    "\n",
    "acc_1.__dict__, acc_2.__dict__"
   ]
  },
  {
   "cell_type": "markdown",
   "id": "9c720aa7-7db5-4efc-a6fe-e686fddee558",
   "metadata": {},
   "source": [
    "If we get the **instance attribute** back, we'll always search in the local namespace first before moving up the inheritance tree:"
   ]
  },
  {
   "cell_type": "code",
   "execution_count": 57,
   "id": "6f7238a1-53d0-4386-8069-acb1eb0f10a3",
   "metadata": {},
   "outputs": [
    {
     "data": {
      "text/plain": [
       "(0, 1.2)"
      ]
     },
     "execution_count": 57,
     "metadata": {},
     "output_type": "execute_result"
    }
   ],
   "source": [
    "acc_1.apr, acc_2.apr"
   ]
  },
  {
   "cell_type": "markdown",
   "id": "a310bd93-4e24-4a2a-a78e-0fe2564443e4",
   "metadata": {},
   "source": [
    "# 06 - Function Attributes"
   ]
  },
  {
   "cell_type": "markdown",
   "id": "83bbe86a-d94a-456f-b61b-bf3f495637e3",
   "metadata": {},
   "source": [
    "So far, we have been dealing with non-callable attributes. When attributes are actually functions, things behave differently.\n",
    "\n",
    "Let's look at the difference between viewing this function through the class vs. through an instance:"
   ]
  },
  {
   "cell_type": "code",
   "execution_count": 5,
   "id": "81e8e647-9ba1-4857-8a97-7c749f01f0b4",
   "metadata": {},
   "outputs": [],
   "source": [
    "class Person:\n",
    "    def say_hello():\n",
    "        print('Hello!')"
   ]
  },
  {
   "cell_type": "code",
   "execution_count": 6,
   "id": "5f183f09-fb4e-4ac8-aa53-8a9766b579c2",
   "metadata": {},
   "outputs": [
    {
     "data": {
      "text/plain": [
       "<function __main__.Person.say_hello()>"
      ]
     },
     "execution_count": 6,
     "metadata": {},
     "output_type": "execute_result"
    }
   ],
   "source": [
    "Person.say_hello"
   ]
  },
  {
   "cell_type": "code",
   "execution_count": 17,
   "id": "3751322e-4a32-426e-8cca-a431418bbb56",
   "metadata": {},
   "outputs": [
    {
     "data": {
      "text/plain": [
       "<bound method Person.say_hello of <__main__.Person object at 0x00000229C2158A60>>"
      ]
     },
     "execution_count": 17,
     "metadata": {},
     "output_type": "execute_result"
    }
   ],
   "source": [
    "p = Person()\n",
    "p.say_hello"
   ]
  },
  {
   "cell_type": "code",
   "execution_count": 27,
   "id": "bd61693b-5e98-40d2-8da7-7c08a4fc8816",
   "metadata": {},
   "outputs": [
    {
     "data": {
      "text/plain": [
       "(function, method)"
      ]
     },
     "execution_count": 27,
     "metadata": {},
     "output_type": "execute_result"
    }
   ],
   "source": [
    "type(Person.say_hello), type(p.say_hello)"
   ]
  },
  {
   "cell_type": "markdown",
   "id": "11a91c6f-3c60-4a26-a91c-6656d6229ce7",
   "metadata": {},
   "source": [
    "**Bound methods** \n",
    "\n",
    "- These are different from functions.\n",
    "- They can only be called bound methods once an instance has been made which binds it to the method - otherwise, they're just functions.\n",
    "- The object that they are bound to is passed (injected) to the method as its **first parameter**.\n",
    "- Methods are objects and like any objects in Python, it has attributes:\n",
    "    - `__self__`: the instance the method is bound to.\n",
    "    - `__func__`: the original function defined in the class. This is how the method knows what function to call."
   ]
  },
  {
   "cell_type": "markdown",
   "id": "a1d34a67-c5f5-4304-b713-f80d230c4e0c",
   "metadata": {},
   "source": [
    "We cannot call `say_hello` as a bound method since the function hasn't been set up to deal with taking the instance as its first argument. We'll fix that:"
   ]
  },
  {
   "cell_type": "code",
   "execution_count": 23,
   "id": "8bd7effa-fd9e-44ed-b8f6-65f211d042d1",
   "metadata": {},
   "outputs": [],
   "source": [
    "class Person:\n",
    "    language = 'Python'\n",
    "    def say_hello(obj, name):\n",
    "        print(f'Hello! {name}! I am {obj.language}.')"
   ]
  },
  {
   "cell_type": "markdown",
   "id": "dc0bd4a9-d70b-4175-8c25-e77b32cb4d1c",
   "metadata": {},
   "source": [
    "As can be seen below, calling the bound method is identical to calling the function with the instance. The `obj.language` used was not found in the local namespace so it was searched for in the class namespace.\n",
    "\n",
    "By convention, we should use `self` for the name of the instance which we shall do from now on."
   ]
  },
  {
   "cell_type": "code",
   "execution_count": 25,
   "id": "66fc87d6-8c2d-4fd7-b1b8-d8c3df68045f",
   "metadata": {},
   "outputs": [
    {
     "name": "stdout",
     "output_type": "stream",
     "text": [
      "Hello! John! I am Python.\n",
      "Hello! John! I am Python.\n"
     ]
    }
   ],
   "source": [
    "python = Person()\n",
    "python.say_hello('John')\n",
    "Person.say_hello(python, 'John')"
   ]
  },
  {
   "cell_type": "markdown",
   "id": "64a2f68c-d0c9-4316-9563-887885659cbd",
   "metadata": {},
   "source": [
    "We can add methods *after* creating the class definition (monkeypatching). We must remember to add `self` as the first argument to ensure it's treated like a method:"
   ]
  },
  {
   "cell_type": "code",
   "execution_count": 51,
   "id": "2fd95dca-b426-4493-888b-da648f9fd810",
   "metadata": {},
   "outputs": [
    {
     "data": {
      "text/plain": [
       "<bound method <lambda> of <__main__.Person object at 0x00000229C2007A00>>"
      ]
     },
     "execution_count": 51,
     "metadata": {},
     "output_type": "execute_result"
    }
   ],
   "source": [
    "Person.say_goodbye = lambda self, name: print(f'Goodbye {name}! From {self.language}.')\n",
    "python.say_goodbye"
   ]
  },
  {
   "cell_type": "code",
   "execution_count": 52,
   "id": "b0e88a05-9f9f-44d3-89a2-d998c2293ff7",
   "metadata": {},
   "outputs": [
    {
     "name": "stdout",
     "output_type": "stream",
     "text": [
      "Goodbye John! From Python.\n"
     ]
    }
   ],
   "source": [
    "python.say_goodbye('John')"
   ]
  },
  {
   "cell_type": "markdown",
   "id": "f5d5afd7-cd2d-471d-871c-a18a9acab51d",
   "metadata": {},
   "source": [
    "This runtime initialisation **only affects the bound instance**. If a new instance is created, it will not have access to this method, because `say_goodbye` is only bound to `python`."
   ]
  },
  {
   "cell_type": "code",
   "execution_count": 57,
   "id": "68755890-2542-48df-a694-924b72028a85",
   "metadata": {},
   "outputs": [
    {
     "ename": "AttributeError",
     "evalue": "'Person' object has no attribute 'say_goodbye'",
     "output_type": "error",
     "traceback": [
      "\u001b[1;31m---------------------------------------------------------------------------\u001b[0m",
      "\u001b[1;31mAttributeError\u001b[0m                            Traceback (most recent call last)",
      "Cell \u001b[1;32mIn[57], line 2\u001b[0m\n\u001b[0;32m      1\u001b[0m java \u001b[38;5;241m=\u001b[39m Person()\n\u001b[1;32m----> 2\u001b[0m \u001b[43mjava\u001b[49m\u001b[38;5;241;43m.\u001b[39;49m\u001b[43msay_goodbye\u001b[49m()\n",
      "\u001b[1;31mAttributeError\u001b[0m: 'Person' object has no attribute 'say_goodbye'"
     ]
    }
   ],
   "source": [
    "java = Person()\n",
    "java.say_goodbye()"
   ]
  },
  {
   "cell_type": "markdown",
   "id": "a761463f-8820-4f93-a725-07c422eb3395",
   "metadata": {},
   "source": [
    "# 07 - Initializing Class Instances"
   ]
  },
  {
   "cell_type": "markdown",
   "id": "ec9554b1-129d-4b8a-8ff0-921cff48f386",
   "metadata": {},
   "source": [
    "We've seen that when we instantiate a class, we\n",
    "1. create a **new instance** of the class\n",
    "2. **initialise** the namespace of the instance: `obj.__dict__ -> {}`\n",
    "\n",
    "We can \"intercept\" both the creating and initialization phases, by using special methods `__new__` and `__init__`.\n",
    "\n",
    "We'll come back to `__new__` later. For now we'll focus on `__init__`.\n",
    "\n",
    "But as you already might know, we can perform our own initialisation. We do this with `__init__` function which is a **class attribute** in the **class namespace**. It is only when we've created the instance and created the instance namespace (`obj.__dict__ -> {}`) that the `__init__` function is called as a bound method."
   ]
  },
  {
   "cell_type": "code",
   "execution_count": 44,
   "id": "05f49d3d-9938-4e9d-b232-d736054612d2",
   "metadata": {},
   "outputs": [],
   "source": [
    "class MyClass:\n",
    "    def __init__(self, version):\n",
    "        self.version = version"
   ]
  },
  {
   "cell_type": "code",
   "execution_count": 46,
   "id": "a2f6cdc1-c31d-4748-965b-cf03c64aa1e8",
   "metadata": {},
   "outputs": [
    {
     "data": {
      "text/plain": [
       "3.7"
      ]
     },
     "execution_count": 46,
     "metadata": {},
     "output_type": "execute_result"
    }
   ],
   "source": [
    "m = MyClass(3.7)\n",
    "m.version"
   ]
  },
  {
   "cell_type": "code",
   "execution_count": 49,
   "id": "f05d22c1-5695-47a4-8d70-f7ae8b38040d",
   "metadata": {},
   "outputs": [
    {
     "data": {
      "text/plain": [
       "3.8"
      ]
     },
     "execution_count": 49,
     "metadata": {},
     "output_type": "execute_result"
    }
   ],
   "source": [
    "MyClass.__init__(m, 3.8)\n",
    "m.version"
   ]
  },
  {
   "cell_type": "markdown",
   "id": "50c29797-b29c-4e8a-8ccb-2fa35508b083",
   "metadata": {},
   "source": [
    "# 08 - Creating Attributes at Run-Time"
   ]
  },
  {
   "cell_type": "markdown",
   "id": "c6520cc1-bc2c-40e3-88e7-74eeb253bebe",
   "metadata": {},
   "source": [
    "Another way we can create and bind a method to an instance at runtime is using `MethodType` from the `types` library:\n",
    "```python\n",
    "MethodType(function, object)\n",
    "```\n",
    "where the `function` is the function we want to bind and the `object` is that object we want to bind it to."
   ]
  },
  {
   "cell_type": "code",
   "execution_count": 59,
   "id": "b30a78f0-7fd2-4e53-bccd-c71eaf89e9b2",
   "metadata": {},
   "outputs": [],
   "source": [
    "from types import MethodType\n",
    "\n",
    "class Person:\n",
    "    language = 'Python'\n",
    "\n",
    "p = Person()\n",
    "p.say_hello = MethodType(lambda self, name: f'Hello {name}! I am {self.language}.', p)"
   ]
  },
  {
   "cell_type": "code",
   "execution_count": 60,
   "id": "128a4428-1668-4f35-8850-5a5bff300f04",
   "metadata": {},
   "outputs": [
    {
     "data": {
      "text/plain": [
       "'Hello John! I am Python.'"
      ]
     },
     "execution_count": 60,
     "metadata": {},
     "output_type": "execute_result"
    }
   ],
   "source": [
    "p.say_hello('John')"
   ]
  },
  {
   "cell_type": "markdown",
   "id": "509770d0-0d31-4c73-868e-c07711d2d586",
   "metadata": {},
   "source": [
    "As seen before, this runtime initialisation **only affects the bound instance**. If a new instance is created, it will not have access to this method, because `say_hello` is only bound to `python`."
   ]
  },
  {
   "cell_type": "code",
   "execution_count": 63,
   "id": "71838070-d2f2-41cf-a5ab-f21875c0d15e",
   "metadata": {},
   "outputs": [
    {
     "ename": "AttributeError",
     "evalue": "'Person' object has no attribute 'say_hello'",
     "output_type": "error",
     "traceback": [
      "\u001b[1;31m---------------------------------------------------------------------------\u001b[0m",
      "\u001b[1;31mAttributeError\u001b[0m                            Traceback (most recent call last)",
      "Cell \u001b[1;32mIn[63], line 2\u001b[0m\n\u001b[0;32m      1\u001b[0m java \u001b[38;5;241m=\u001b[39m Person()\n\u001b[1;32m----> 2\u001b[0m \u001b[43mjava\u001b[49m\u001b[38;5;241;43m.\u001b[39;49m\u001b[43msay_hello\u001b[49m(\u001b[38;5;124m'\u001b[39m\u001b[38;5;124mJohn\u001b[39m\u001b[38;5;124m'\u001b[39m)\n",
      "\u001b[1;31mAttributeError\u001b[0m: 'Person' object has no attribute 'say_hello'"
     ]
    }
   ],
   "source": [
    "java = Person()\n",
    "java.say_hello('John')"
   ]
  },
  {
   "cell_type": "markdown",
   "id": "21f6631e-a82b-4a43-bc26-7ae8bd52a548",
   "metadata": {},
   "source": [
    "With this approach, we can define different functions and register them to different instances. The only common thing we would need among the different instances is a register manager written in the original class which would handle the assignment/binding and maybe some error handling. \n",
    "\n",
    "See original notebook for an example."
   ]
  },
  {
   "cell_type": "markdown",
   "id": "3c9b2c17-62ca-445b-b897-831e31673917",
   "metadata": {},
   "source": [
    "# 09 - Properties"
   ]
  },
  {
   "cell_type": "markdown",
   "id": "d4bdf3bc-4247-4dbf-9e17-0d8608e8528f",
   "metadata": {},
   "source": [
    "So far, what we've seen in our classes are \"bare\" attributes which we access directly via dot notation (or `getattr`, `setattr`). These are always publicly accessible in python but we can prepend attributes with an underscore to indicate that it's private. \n",
    "\n",
    "Often a bare attribute works just fine, and if, later, we decide we need to manage getting/setting/deleting the attribute value, we can switch over to properties without breaking our class interface, because properties use the same dotted notation. This is unlike languages like Java - and hence why in those languages it is recommended to **always** use getter and setter functions. *Not so* in Python!"
   ]
  },
  {
   "cell_type": "markdown",
   "id": "8d31d765-1f11-42ea-8b6b-a2e8b10c9655",
   "metadata": {},
   "source": [
    "We've often seen properties being used as decorators but they are just classes which we can instantiate. Here's an example:"
   ]
  },
  {
   "cell_type": "code",
   "execution_count": 4,
   "id": "7f43700f-f3a2-47e0-9e70-a17c5cd83894",
   "metadata": {},
   "outputs": [],
   "source": [
    "class Person:\n",
    "    def __init__(self, name):\n",
    "        self.name = name  # note how we are actually setting the value for name using the property!\n",
    "        \n",
    "    def get_name(self):\n",
    "        return self._name\n",
    "    \n",
    "    def set_name(self, value):\n",
    "        self._name = value\n",
    "            \n",
    "    name = property(fget=get_name, fset=set_name)  # this is a class attribute"
   ]
  },
  {
   "cell_type": "code",
   "execution_count": 5,
   "id": "71a2d2d2-ae3b-419a-acb3-f6d3b1bcc637",
   "metadata": {},
   "outputs": [
    {
     "name": "stdout",
     "output_type": "stream",
     "text": [
      "Eric\n"
     ]
    }
   ],
   "source": [
    "p = Person('John')\n",
    "p.name = 'Eric'\n",
    "print(p.name)"
   ]
  },
  {
   "cell_type": "markdown",
   "id": "079e68c9-e088-48e9-9af6-90d8a7a97dec",
   "metadata": {},
   "source": [
    "`p.name` will first look in the local (instance) namespace and it won't find it there.. So it looks in the class namespace and finds it.\n",
    "\n",
    "Below, we further prove that `name` is a class attribute and not an instance attribute. "
   ]
  },
  {
   "cell_type": "code",
   "execution_count": 9,
   "id": "8facbaf8-80cc-46e1-a9c9-d461625876ce",
   "metadata": {},
   "outputs": [
    {
     "name": "stdout",
     "output_type": "stream",
     "text": [
      "{'_name': 'Eric'}\n"
     ]
    }
   ],
   "source": [
    "print(p.__dict__)"
   ]
  },
  {
   "cell_type": "markdown",
   "id": "c9a96bbc-7762-467d-b5c5-0f1db8cae728",
   "metadata": {},
   "source": [
    "The property object will call the function in `fget` or `fset` depending on how the class attribute `name` was used.\n",
    "\n",
    "How does python actually implement `property` to do these bound getter and setter methods? We'll see later on.."
   ]
  },
  {
   "cell_type": "markdown",
   "id": "94be267b-4e3c-4a20-9406-9ffd1289cf69",
   "metadata": {},
   "source": [
    "The `property` class can be used in another way. It has getter, setter and deleter methods which take the relevant callable as an argument: "
   ]
  },
  {
   "cell_type": "code",
   "execution_count": 24,
   "id": "cca60590-5bfa-4974-bee8-c83b50db3641",
   "metadata": {},
   "outputs": [],
   "source": [
    "class Person:\n",
    "    def __init__(self, name):\n",
    "        self.name = name  \n",
    "        \n",
    "    def get_name(self):\n",
    "        return self._name\n",
    "    \n",
    "    def set_name(self, value):\n",
    "        self._name = value\n",
    "            \n",
    "    name = property()\n",
    "    name = name.getter(get_name)\n",
    "    name = name.setter(set_name)"
   ]
  },
  {
   "cell_type": "code",
   "execution_count": 23,
   "id": "6b42615d-5fd1-4902-9687-c38a3a2ca92c",
   "metadata": {},
   "outputs": [
    {
     "name": "stdout",
     "output_type": "stream",
     "text": [
      "Eric\n"
     ]
    }
   ],
   "source": [
    "p = Person('John')\n",
    "p.name = 'Eric'\n",
    "print(p.name)"
   ]
  },
  {
   "cell_type": "markdown",
   "id": "1cc01cf8-19d7-4b7f-964e-ff5f8a9e06fa",
   "metadata": {},
   "source": [
    "Or in this way:"
   ]
  },
  {
   "cell_type": "code",
   "execution_count": 26,
   "id": "75e92bd6-fcd8-4b9f-abb1-1b00e668a414",
   "metadata": {},
   "outputs": [],
   "source": [
    "class Person:\n",
    "    def __init__(self, name):\n",
    "        self.name = name  \n",
    "        \n",
    "    def get_name(self):\n",
    "        return self._name\n",
    "    \n",
    "    def set_name(self, value):\n",
    "        self._name = value\n",
    "            \n",
    "    name = property(get_name)  # name is passed positionally to property"
   ]
  },
  {
   "cell_type": "markdown",
   "id": "4867fbc6-5ce3-437a-a4b5-57b999413fef",
   "metadata": {},
   "source": [
    "This form makes it easier to see the decorator pattern emerging of `x = a(x)`. We would just need to replace the names of our getters and setters with the name of our property. We haven't included the setter line yet which will become clear in a moment."
   ]
  },
  {
   "cell_type": "markdown",
   "id": "ff90fbba-da96-4c8a-906d-7601d5c90a2f",
   "metadata": {},
   "source": [
    "# 10 - Property Decorators"
   ]
  },
  {
   "cell_type": "markdown",
   "id": "ea5b7b77-a312-4054-a840-92e29d68a2dd",
   "metadata": {},
   "source": [
    "Applying the @property decorator to the getter is simple to understand: \n",
    "```python\n",
    "    def name(self):\n",
    "        return self._name\n",
    "\n",
    "    name = property(name)  \n",
    "```\n",
    "is equivalent to\n",
    "```python\n",
    "    @property\n",
    "    def name(self):\n",
    "        return self._name\n",
    "```"
   ]
  },
  {
   "cell_type": "markdown",
   "id": "97d5a8e5-9c02-49a9-9033-bf7f0f8e9a81",
   "metadata": {},
   "source": [
    "But for the setter, we will need to follow the order of execution carefully. At the end of the decorated function, `name` is a **property instance** with the getter function defined/applied to it. If we want to apply the setter function, we must use the `.setter` method on our property instance. Therefore, we get:\n",
    "```python\n",
    "    def set_name(self):\n",
    "        return self._name\n",
    "\n",
    "    name = name.setter(set_name)\n",
    "```\n",
    "which is equivalent to:\n",
    "```python\n",
    "    @name.setter\n",
    "    def set_name(self):\n",
    "        return self._name\n",
    "```\n",
    "\n",
    "We can call the decorated function `name` instead of `set_name` because the `name` in the decorator `@name.setter` is pointing to the previous property instance. But we can't write: \n",
    "```python\n",
    "    def name(self):\n",
    "        return self._name\n",
    "\n",
    "    name = name.setter(name)\n",
    "```\n",
    "because `name` in `name.setter` gets redefined to the function above. Therefore, since that function has no method called `setter`, we would get an error with this approach. This explanation was included here to illustrate that the non-decorator vs decorator approaches are not entirely equivalent.\n",
    "\n",
    "One final note: if we want more information on a property, we must write the docstring **in the getter** for it to be visible with the `help()` function."
   ]
  },
  {
   "cell_type": "markdown",
   "id": "8352faf7-16bb-475d-90f0-4f32d67d401a",
   "metadata": {},
   "source": [
    "The final answer:"
   ]
  },
  {
   "cell_type": "code",
   "execution_count": 53,
   "id": "7fbc179f-a3ea-4618-989d-3f0ae999ac95",
   "metadata": {},
   "outputs": [],
   "source": [
    "class Person:\n",
    "    def __init__(self, name):\n",
    "        self.name = name  \n",
    "\n",
    "    @property\n",
    "    def name(self):\n",
    "        \"\"\"This is the name\"\"\"\n",
    "        return self._name\n",
    "\n",
    "    @name.setter\n",
    "    def name(self, value):\n",
    "        self._name = value"
   ]
  },
  {
   "cell_type": "code",
   "execution_count": 54,
   "id": "03d3a877-cf70-4930-840b-e97a3bb9bbcd",
   "metadata": {},
   "outputs": [
    {
     "name": "stdout",
     "output_type": "stream",
     "text": [
      "Eric\n"
     ]
    }
   ],
   "source": [
    "p = Person('John')\n",
    "p.name = 'Eric'\n",
    "print(p.name)"
   ]
  },
  {
   "cell_type": "code",
   "execution_count": 55,
   "id": "43b4af09-77f6-454d-adc5-b2bc8c05b937",
   "metadata": {},
   "outputs": [
    {
     "name": "stdout",
     "output_type": "stream",
     "text": [
      "Help on property:\n",
      "\n",
      "    This is the name\n",
      "\n"
     ]
    }
   ],
   "source": [
    "help(Person.name)"
   ]
  },
  {
   "cell_type": "markdown",
   "id": "63550adf-164e-4357-bc5c-84a09f85c8fb",
   "metadata": {},
   "source": [
    "We now have a property called `name` with both getter and setter applied."
   ]
  },
  {
   "cell_type": "markdown",
   "id": "5f3ed228-7ead-453a-a3ac-f596abbeb148",
   "metadata": {},
   "source": [
    "How do we create a class with a setter but *not* a getter? And how would we provide a docstring in that case? As we saw above, the setter decorator relied on the property instance created from decorating the getter.\n",
    "\n",
    "One solution is to instantiate the property class with no arguments:"
   ]
  },
  {
   "cell_type": "code",
   "execution_count": 56,
   "id": "e9ecf193-3d4f-43a7-ab7f-e51fd0ff0add",
   "metadata": {},
   "outputs": [],
   "source": [
    "class Person:\n",
    "    name = property(doc='This is a write-only property') \n",
    "    \n",
    "    @name.setter\n",
    "    def name(self, value):\n",
    "        print('setter called')\n",
    "        self._name = value"
   ]
  },
  {
   "cell_type": "code",
   "execution_count": 57,
   "id": "e3afceea-f913-435b-899b-011782f99577",
   "metadata": {},
   "outputs": [
    {
     "name": "stdout",
     "output_type": "stream",
     "text": [
      "setter called\n"
     ]
    }
   ],
   "source": [
    "p = Person()\n",
    "p.name = 'Eric'"
   ]
  },
  {
   "cell_type": "code",
   "execution_count": 58,
   "id": "0026aa2b-5f30-4b05-a4ef-c540412db0f1",
   "metadata": {},
   "outputs": [
    {
     "name": "stdout",
     "output_type": "stream",
     "text": [
      "Help on property:\n",
      "\n",
      "    This is a write-only property\n",
      "\n"
     ]
    }
   ],
   "source": [
    "help(Person.name)"
   ]
  },
  {
   "cell_type": "markdown",
   "id": "80ea1d46-b7da-4a99-a9c2-f07c6617343e",
   "metadata": {},
   "source": [
    "# 11 - Read-Only and Computed Properties"
   ]
  },
  {
   "cell_type": "markdown",
   "id": "e08fa83c-cdf2-4c05-be66-7121a3cd885b",
   "metadata": {},
   "source": [
    "To make a read-only property, all we need to do is implement a getter but not a setter. Of course the property can still be modified via the \"private\" attribute but there's nothing in Python to prevent that."
   ]
  },
  {
   "cell_type": "markdown",
   "id": "f563f280-c79f-4abe-98eb-06c38fae6ddb",
   "metadata": {},
   "source": [
    "Computed properties are when the property getter performs some computation but can still be deemed a property as opposed to a method.\n",
    "\n",
    "For example, given a radius of a circle, the area can be a computed property. \n",
    "\n",
    "We may also want to **cache** computed properties. Here we store and access the value as a property but any time we change anything that affects the computation, we **invalidate the cache** and re-calculate the property. For example, if the radius changes, the area must be re-calculated. Here's a simple implementation:"
   ]
  },
  {
   "cell_type": "code",
   "execution_count": 70,
   "id": "abe23520-206f-4438-8237-48aa01336b7b",
   "metadata": {},
   "outputs": [],
   "source": [
    "from math import pi\n",
    "\n",
    "class Circle:\n",
    "    def __init__(self, radius):\n",
    "        self._radius = radius\n",
    "        self._area = None\n",
    "        \n",
    "    @property\n",
    "    def radius(self):\n",
    "        return self._radius\n",
    "    \n",
    "    @radius.setter\n",
    "    def radius(self, value):\n",
    "        self._area = None  # invalidate cache\n",
    "        self._radius = value\n",
    "        \n",
    "    @property\n",
    "    def area(self):\n",
    "        if self._area is None:  # check to see if cache invalidated\n",
    "            print('calculating area..')\n",
    "            self._area = pi * (self.radius ** 2)\n",
    "        return self._area"
   ]
  },
  {
   "cell_type": "code",
   "execution_count": 71,
   "id": "1bb08761-1933-438c-aace-5c4b2862cdcc",
   "metadata": {},
   "outputs": [
    {
     "name": "stdout",
     "output_type": "stream",
     "text": [
      "calculating area..\n"
     ]
    },
    {
     "data": {
      "text/plain": [
       "3.141592653589793"
      ]
     },
     "execution_count": 71,
     "metadata": {},
     "output_type": "execute_result"
    }
   ],
   "source": [
    "c = Circle(1)\n",
    "c.area\n",
    "c.area\n",
    "c.area"
   ]
  },
  {
   "cell_type": "code",
   "execution_count": 72,
   "id": "82bc1163-467c-4eb3-8a76-54fd55b42190",
   "metadata": {},
   "outputs": [
    {
     "name": "stdout",
     "output_type": "stream",
     "text": [
      "calculating area..\n"
     ]
    },
    {
     "data": {
      "text/plain": [
       "12.566370614359172"
      ]
     },
     "execution_count": 72,
     "metadata": {},
     "output_type": "execute_result"
    }
   ],
   "source": [
    "c.radius = 2\n",
    "c.area"
   ]
  },
  {
   "cell_type": "markdown",
   "id": "94538a76-9e50-4e14-b131-977361c32fca",
   "metadata": {},
   "source": [
    "In the original notebook, you can find a more complex example of caching computed properties in a class that downloads webpages. But the approach is principally identical to the above."
   ]
  },
  {
   "cell_type": "markdown",
   "id": "07e2202a-ffba-46c4-bfda-8ca6b2864d98",
   "metadata": {},
   "source": [
    "# 12 - Deleting Properties"
   ]
  },
  {
   "cell_type": "markdown",
   "id": "5a31c35d-152e-4f7d-89cf-b770db9a4c54",
   "metadata": {},
   "source": [
    "Just like we can delete an attribute from an instance object, we can also delete a property from an instance object.\n",
    "\n",
    "Note that this action simply runs the deleter method, but the property remains defined **on the class**. It does not remove the property from the class, instead it is generally used to remove the property value from the **instance**."
   ]
  },
  {
   "cell_type": "markdown",
   "id": "67944bd7-8dd6-43e1-9a27-25b6db3bccbb",
   "metadata": {},
   "source": [
    "Properties, like attributes, can be deleted by using the `del` keyword, or the `delattr` function. But the property instance **still exists**. Therefore, we can run the setter to recreate it after deleting:"
   ]
  },
  {
   "cell_type": "code",
   "execution_count": 75,
   "id": "fc7043ec-26fb-4d73-8492-ce06f6c5d8d4",
   "metadata": {},
   "outputs": [],
   "source": [
    "class Person:\n",
    "    def __init__(self, name):\n",
    "        self.name = name\n",
    "\n",
    "    @property\n",
    "    def name(self):\n",
    "        print('getting name property value...')\n",
    "        return self._name\n",
    "    \n",
    "    @name.setter\n",
    "    def name(self, value):\n",
    "        \"\"\"Person name\"\"\"\n",
    "        print(f'setting name property to {value}...')\n",
    "        self._name = value\n",
    "    \n",
    "    @name.deleter\n",
    "    def name(self):\n",
    "        # delete the underlying data\n",
    "        print('deleting name property value...')\n",
    "        del self._name"
   ]
  },
  {
   "cell_type": "code",
   "execution_count": 76,
   "id": "810555d1-c889-41f8-9ccd-40491961a156",
   "metadata": {},
   "outputs": [
    {
     "name": "stdout",
     "output_type": "stream",
     "text": [
      "setting name property to Alex...\n"
     ]
    }
   ],
   "source": [
    "p = Person('Alex')"
   ]
  },
  {
   "cell_type": "code",
   "execution_count": 77,
   "id": "2463851a-11ca-45fa-99ad-693fd1901d46",
   "metadata": {},
   "outputs": [
    {
     "name": "stdout",
     "output_type": "stream",
     "text": [
      "getting name property value...\n"
     ]
    },
    {
     "data": {
      "text/plain": [
       "'Alex'"
      ]
     },
     "execution_count": 77,
     "metadata": {},
     "output_type": "execute_result"
    }
   ],
   "source": [
    "p.name"
   ]
  },
  {
   "cell_type": "code",
   "execution_count": 78,
   "id": "28880e68-aa8a-4918-8df7-a7b35e7348a7",
   "metadata": {},
   "outputs": [
    {
     "name": "stdout",
     "output_type": "stream",
     "text": [
      "deleting name property value...\n"
     ]
    }
   ],
   "source": [
    "del p.name"
   ]
  },
  {
   "cell_type": "code",
   "execution_count": 79,
   "id": "f162fe8a-b0a9-4959-8782-dfc41a5700c9",
   "metadata": {},
   "outputs": [
    {
     "name": "stdout",
     "output_type": "stream",
     "text": [
      "setting name property to John...\n"
     ]
    }
   ],
   "source": [
    "p.name = 'John'"
   ]
  },
  {
   "cell_type": "markdown",
   "id": "b26ad791-665c-458b-9f33-4f4d734a19af",
   "metadata": {},
   "source": [
    "Before we wrap up the properties section, we may have the following question:\n",
    "\n",
    "Q: We saw how to use the `property` class to define **instance** properties. Can we create **class** properties? \n",
    "\n",
    "A: Yes, and they're called **metaclasses** which we'll cover later on.."
   ]
  },
  {
   "cell_type": "markdown",
   "id": "3bad272c-c017-49c8-8998-de408d9eee9b",
   "metadata": {},
   "source": [
    "# 13 - Class and Static Methods"
   ]
  },
  {
   "cell_type": "markdown",
   "id": "b8793387-a475-46ca-bf15-e42ca7e73e26",
   "metadata": {},
   "source": [
    "Earlier, we saw how we can define a plain function in a class:"
   ]
  },
  {
   "cell_type": "code",
   "execution_count": 96,
   "id": "b3a01c8a-9abf-4e3f-af61-fea423ce6425",
   "metadata": {},
   "outputs": [],
   "source": [
    "class MyClass:\n",
    "    def hello():\n",
    "        print('Hello')"
   ]
  },
  {
   "cell_type": "markdown",
   "id": "68447847-2ce6-4776-af26-ef9ea63e9433",
   "metadata": {},
   "source": [
    "This is **not bound** to our class."
   ]
  },
  {
   "cell_type": "code",
   "execution_count": 97,
   "id": "78c83a7c-5cdd-4a3b-a152-f7a4b561cfa6",
   "metadata": {},
   "outputs": [
    {
     "data": {
      "text/plain": [
       "<function __main__.MyClass.hello()>"
      ]
     },
     "execution_count": 97,
     "metadata": {},
     "output_type": "execute_result"
    }
   ],
   "source": [
    "MyClass.hello"
   ]
  },
  {
   "cell_type": "markdown",
   "id": "b59ea76e-008d-456d-bcee-bd4a20869882",
   "metadata": {},
   "source": [
    "##### Instance Method"
   ]
  },
  {
   "cell_type": "markdown",
   "id": "2f4ac192-3189-45c8-b33c-a1780d6afccc",
   "metadata": {},
   "source": [
    "We also saw how we can define a regular function that will be **bound to an instance** -> instance method:"
   ]
  },
  {
   "cell_type": "code",
   "execution_count": 110,
   "id": "54b2673d-a3e9-4ec1-8227-b1fff1465dff",
   "metadata": {},
   "outputs": [
    {
     "data": {
      "text/plain": [
       "<bound method MyClass.hello of <__main__.MyClass object at 0x000001B7173410F0>>"
      ]
     },
     "execution_count": 110,
     "metadata": {},
     "output_type": "execute_result"
    }
   ],
   "source": [
    "class MyClass:\n",
    "    def hello(self):  # instance is injected\n",
    "        print(f'Hello from {self}')\n",
    "\n",
    "m = MyClass()\n",
    "m.hello  # hello bounded to instance `m`"
   ]
  },
  {
   "cell_type": "code",
   "execution_count": 111,
   "id": "c0af1d31-5f8e-4909-8f25-7df83294e850",
   "metadata": {},
   "outputs": [
    {
     "name": "stdout",
     "output_type": "stream",
     "text": [
      "Hello from <__main__.MyClass object at 0x000001B7173410F0>\n"
     ]
    }
   ],
   "source": [
    "m.hello()"
   ]
  },
  {
   "cell_type": "markdown",
   "id": "e74ee6d4-4daf-4ac9-9fa7-c1bf4967f917",
   "metadata": {},
   "source": [
    "##### Class Method"
   ]
  },
  {
   "cell_type": "markdown",
   "id": "4d886e8e-aea7-439f-936a-19a255a351f6",
   "metadata": {},
   "source": [
    "But can we define a function in a class that will **always be bound to the class** and *never* the instance?\n",
    "\n",
    "Yes, using `@classmethod`. `hello()` is no longer a regular function inside `MyClass`:"
   ]
  },
  {
   "cell_type": "code",
   "execution_count": 112,
   "id": "b0b8ebfb-be37-487d-a700-a7094a9dbce3",
   "metadata": {},
   "outputs": [
    {
     "data": {
      "text/plain": [
       "<bound method MyClass.hello of <class '__main__.MyClass'>>"
      ]
     },
     "execution_count": 112,
     "metadata": {},
     "output_type": "execute_result"
    }
   ],
   "source": [
    "class MyClass:\n",
    "    @classmethod\n",
    "    def hello(cls):  # class is injected\n",
    "        print(f'Hello from {cls}')\n",
    "\n",
    "m = MyClass()\n",
    "m.hello  # hello bounded to instance `m`"
   ]
  },
  {
   "cell_type": "code",
   "execution_count": 113,
   "id": "b9f6a5e3-dd9b-4bfd-954f-6f6276b060de",
   "metadata": {},
   "outputs": [
    {
     "name": "stdout",
     "output_type": "stream",
     "text": [
      "Hello from <class '__main__.MyClass'>\n"
     ]
    }
   ],
   "source": [
    "m.hello()"
   ]
  },
  {
   "cell_type": "markdown",
   "id": "6456857d-318c-469b-8fad-042602c3594d",
   "metadata": {},
   "source": [
    "Class methods have **no knowledge** of their instances."
   ]
  },
  {
   "cell_type": "markdown",
   "id": "cc6d4523-b98b-4f8b-83f5-b71517cc5a2a",
   "metadata": {},
   "source": [
    "##### Static Method"
   ]
  },
  {
   "cell_type": "markdown",
   "id": "bfb5b3fc-dc16-46a5-92a5-3ad62a832a70",
   "metadata": {},
   "source": [
    "Can we define a function in a class that will **never be bound to any object when called**?\n",
    "\n",
    "Yes, using `@staticmethod`. Although we say \"method\", it is actually just a regular function *because* it's unbounded."
   ]
  },
  {
   "cell_type": "code",
   "execution_count": 114,
   "id": "4a259423-fd7a-4a0a-ad8a-7b5c629d8f2b",
   "metadata": {},
   "outputs": [
    {
     "name": "stdout",
     "output_type": "stream",
     "text": [
      "Hello\n",
      "Hello\n"
     ]
    }
   ],
   "source": [
    "class MyClass:\n",
    "    @staticmethod\n",
    "    def hello():\n",
    "        print(f'Hello')\n",
    "\n",
    "m = MyClass()\n",
    "\n",
    "MyClass.hello()\n",
    "m.hello()"
   ]
  },
  {
   "cell_type": "code",
   "execution_count": 115,
   "id": "1ddfc3a8-6978-4d30-825c-d7f0e964c4b1",
   "metadata": {},
   "outputs": [
    {
     "data": {
      "text/plain": [
       "(<function __main__.MyClass.hello()>, <function __main__.MyClass.hello()>)"
      ]
     },
     "execution_count": 115,
     "metadata": {},
     "output_type": "execute_result"
    }
   ],
   "source": [
    "MyClass.hello, m.hello"
   ]
  },
  {
   "cell_type": "markdown",
   "id": "32feacaf-9834-4f48-860a-468df4fe0479",
   "metadata": {},
   "source": [
    "Static methods are often discouraged as they can be placed at the module level if they're not bound to anything. But, sometimes it may make more sense to collect them in a class."
   ]
  },
  {
   "cell_type": "markdown",
   "id": "5338c959-880f-4fe5-be14-cbacdc240788",
   "metadata": {},
   "source": [
    "#### Example"
   ]
  },
  {
   "cell_type": "markdown",
   "id": "2866ff87-ec6e-48ba-9390-c4c7f517ecb3",
   "metadata": {},
   "source": [
    "Let's see a more concrete example of using these different method types.\n",
    "\n",
    "We're going to create a `Timer` class that will allow us to get the current time (in both UTC and some timezone), as well as record start/stop times.\n",
    "\n",
    "We want to have the same timezone for all instances of our `Timer` class with an easy way to change the timezone for all instances when needed.\n",
    "\n",
    "If you need to work with timezones, I recommend you use the `pyrz` 3rd party library. Here, I'll just use the standard library, which is definitely not as easy to use as `pytz`."
   ]
  },
  {
   "cell_type": "markdown",
   "id": "24a32ef4-6a80-485f-9734-7a0f27cf30a3",
   "metadata": {},
   "source": [
    "I have copied and pasted the final implementation from the original notebook for the sake of brevity; please see that if you prefer to see the gradual build up to the final implementation."
   ]
  },
  {
   "cell_type": "code",
   "execution_count": 118,
   "id": "93834e30-4a7a-4902-a186-5871348b02ac",
   "metadata": {},
   "outputs": [],
   "source": [
    "from datetime import datetime, timezone, timedelta\n",
    "\n",
    "\n",
    "class TimerError(Exception):\n",
    "    \"\"\"A custom exception used for Timer class\"\"\"\n",
    "    # (since \"\"\"...\"\"\" is a statement, we don't need to pass)\n",
    "    \n",
    "class Timer:\n",
    "    tz = timezone.utc  # class variable to store the timezone - default to UTC\n",
    "    \n",
    "    def __init__(self):\n",
    "        # use these instance variables to keep track of start/end times\n",
    "        self._time_start = None\n",
    "        self._time_end = None\n",
    "        \n",
    "    @staticmethod\n",
    "    def current_dt_utc():\n",
    "        \"\"\"Returns non-naive current UTC\"\"\"\n",
    "        return datetime.now(timezone.utc)\n",
    "    \n",
    "    @classmethod\n",
    "    def set_tz(cls, offset, name):\n",
    "        cls.tz = timezone(timedelta(hours=offset), name)\n",
    "        \n",
    "    @classmethod\n",
    "    def current_dt(cls):\n",
    "        return datetime.now(cls.tz)\n",
    "    \n",
    "    def start(self):\n",
    "        # internally we always non-naive UTC\n",
    "        self._time_start = self.current_dt_utc()\n",
    "        self._time_end = None\n",
    "        \n",
    "    def stop(self):\n",
    "        if self._time_start is None:\n",
    "            # cannot stop if timer was not started!\n",
    "            raise TimerError('Timer must be started before it can be stopped.')\n",
    "        self._time_end = self.current_dt_utc()\n",
    "        \n",
    "    @property\n",
    "    def start_time(self):\n",
    "        if self._time_start is None:\n",
    "            raise TimerError('Timer has not been started.')\n",
    "        # since tz is a class variable, we can just as easily access it from self\n",
    "        return self._time_start.astimezone(self.tz)  \n",
    "        \n",
    "    @property\n",
    "    def end_time(self):\n",
    "        if self._time_end is None:\n",
    "            raise TimerError('Timer has not been stopped.')\n",
    "        return self._time_end.astimezone(self.tz)\n",
    "    \n",
    "    @property\n",
    "    def elapsed(self):\n",
    "        if self._time_start is None:\n",
    "            raise TimerError('Timer must be started before an elapsed time is available')\n",
    "            \n",
    "        if self._time_end is None:\n",
    "            # timer has not ben stopped, calculate elapsed between start and now\n",
    "            elapsed_time = self.current_dt_utc() - self._time_start\n",
    "        else:\n",
    "            # timer has been stopped, calculate elapsed between start and end\n",
    "            elapsed_time = self._time_end - self._time_start\n",
    "            \n",
    "        return elapsed_time.total_seconds()"
   ]
  },
  {
   "cell_type": "code",
   "execution_count": 119,
   "id": "aa3be7e3-a2c5-4bf3-9b50-2ee26680adab",
   "metadata": {},
   "outputs": [
    {
     "name": "stdout",
     "output_type": "stream",
     "text": [
      "Start time: 2024-06-27 16:38:39.213091+00:00\n",
      "End time: 2024-06-27 16:38:41.222213+00:00\n",
      "Elapsed: 2.009122 seconds\n"
     ]
    }
   ],
   "source": [
    "from time import sleep\n",
    "\n",
    "t1 = Timer()\n",
    "t1.start()\n",
    "sleep(2)\n",
    "t1.stop()\n",
    "print(f'Start time: {t1.start_time}')\n",
    "print(f'End time: {t1.end_time}')\n",
    "print(f'Elapsed: {t1.elapsed} seconds')"
   ]
  },
  {
   "cell_type": "code",
   "execution_count": 120,
   "id": "8ccabe62-6f90-4978-9cd0-7428fe7c8add",
   "metadata": {},
   "outputs": [
    {
     "name": "stdout",
     "output_type": "stream",
     "text": [
      "Start time: 2024-06-27 16:38:41.246210+00:00\n",
      "End time: 2024-06-27 16:38:44.254180+00:00\n",
      "Elapsed: 3.00797 seconds\n"
     ]
    }
   ],
   "source": [
    "t2 = Timer()\n",
    "t2.start()\n",
    "sleep(3)\n",
    "t2.stop()\n",
    "print(f'Start time: {t2.start_time}')\n",
    "print(f'End time: {t2.end_time}')\n",
    "print(f'Elapsed: {t2.elapsed} seconds')"
   ]
  },
  {
   "cell_type": "markdown",
   "id": "5f20745f-bcc4-47f1-ac97-4a84e3f86bf3",
   "metadata": {},
   "source": [
    "So our timer works. Furthermore, we want to use `MST` throughout our application, so we'll set it, and since it's a class level attribute, we only need to change it once. **This is a key takeaway from this example.**"
   ]
  },
  {
   "cell_type": "code",
   "execution_count": 121,
   "id": "9b2169a9-3b79-4043-b2d6-514c5cdd2219",
   "metadata": {},
   "outputs": [],
   "source": [
    "Timer.set_tz(-7, 'MST')"
   ]
  },
  {
   "cell_type": "code",
   "execution_count": 122,
   "id": "2f84cad0-d732-400d-8426-c4489e74a5c2",
   "metadata": {},
   "outputs": [
    {
     "name": "stdout",
     "output_type": "stream",
     "text": [
      "Start time: 2024-06-27 09:38:39.213091-07:00\n",
      "End time: 2024-06-27 09:38:41.222213-07:00\n",
      "Elapsed: 2.009122 seconds\n"
     ]
    }
   ],
   "source": [
    "print(f'Start time: {t1.start_time}')\n",
    "print(f'End time: {t1.end_time}')\n",
    "print(f'Elapsed: {t1.elapsed} seconds')"
   ]
  },
  {
   "cell_type": "code",
   "execution_count": 123,
   "id": "221bf43f-45f5-486e-b014-b72afe9eba5e",
   "metadata": {},
   "outputs": [
    {
     "name": "stdout",
     "output_type": "stream",
     "text": [
      "Start time: 2024-06-27 09:38:41.246210-07:00\n",
      "End time: 2024-06-27 09:38:44.254180-07:00\n",
      "Elapsed: 3.00797 seconds\n"
     ]
    }
   ],
   "source": [
    "print(f'Start time: {t2.start_time}')\n",
    "print(f'End time: {t2.end_time}')\n",
    "print(f'Elapsed: {t2.elapsed} seconds')"
   ]
  },
  {
   "cell_type": "markdown",
   "id": "60439220-69f8-440f-aa08-23b8b072c391",
   "metadata": {},
   "source": [
    "#### Python Builtin and Standard Types"
   ]
  },
  {
   "cell_type": "markdown",
   "id": "02e98363-9d94-47f1-89b2-ecd663712ae0",
   "metadata": {},
   "source": [
    "This small section is just to illustrate that not all types that we use are directly available in the builtins."
   ]
  },
  {
   "cell_type": "markdown",
   "id": "5acf3aa8-c6d6-49a7-81f9-b26f75989693",
   "metadata": {},
   "source": [
    "Builtin: `int`, `str`, `list`, `tuple`, ...\n",
    "Not Builtin: `functions`, `modules`, `generators`\n",
    "\n",
    "Calling `type()` on any of the instances of the builtins will return a class that *is* directly available in Python"
   ]
  },
  {
   "cell_type": "code",
   "execution_count": 128,
   "id": "9711d398-d772-4f12-9a7f-244b4caf59a4",
   "metadata": {},
   "outputs": [
    {
     "data": {
      "text/plain": [
       "True"
      ]
     },
     "execution_count": 128,
     "metadata": {},
     "output_type": "execute_result"
    }
   ],
   "source": [
    "l = [1, 2, 3]\n",
    "type(l) is list"
   ]
  },
  {
   "cell_type": "markdown",
   "id": "b9df7a80-5602-4843-ad4c-8f99a19fba9f",
   "metadata": {},
   "source": [
    "But calling `type()` on any non-builtins will return a class that *is not* directly available in Python. \n",
    "\n",
    "But we can access them using the `types` library:"
   ]
  },
  {
   "cell_type": "code",
   "execution_count": 129,
   "id": "fdf7139e-a34b-4044-9f0e-47a744550efd",
   "metadata": {},
   "outputs": [
    {
     "data": {
      "text/plain": [
       "True"
      ]
     },
     "execution_count": 129,
     "metadata": {},
     "output_type": "execute_result"
    }
   ],
   "source": [
    "import types\n",
    "\n",
    "def my_func():\n",
    "    pass\n",
    "\n",
    "type(my_func) is types.FunctionType"
   ]
  },
  {
   "cell_type": "markdown",
   "id": "9e345a63-3b88-4f54-9bc2-b0ed6795b7b5",
   "metadata": {},
   "source": [
    "# 14 - Class Body Scope"
   ]
  },
  {
   "cell_type": "markdown",
   "id": "45fea1b7-3f7d-48a3-97d7-59273c325174",
   "metadata": {},
   "source": [
    "The class body is a scope and therefore has it's own namespace.\n",
    "\n",
    "However, functions defined inside the class are not nested in the body scope - instead they are nested in whatever scope the class itself is in - usually the module.\n",
    "\n",
    "Let's demonstrate this with an example:"
   ]
  },
  {
   "cell_type": "code",
   "execution_count": 131,
   "id": "d4dd28c4-8eef-4fd9-8796-9ce89c57d12a",
   "metadata": {},
   "outputs": [],
   "source": [
    "class Python:\n",
    "    kingdom = 'animalia'\n",
    "    phylum = 'chordata'\n",
    "    family = 'pythonidae'\n",
    "\n",
    "    def __init__(self, species):\n",
    "        self.species = species\n",
    "\n",
    "    def say_hello(self):\n",
    "        return 'ssss...'"
   ]
  },
  {
   "cell_type": "markdown",
   "id": "f2d0b8d9-f5dd-4563-8387-c9f52d7d4427",
   "metadata": {},
   "source": [
    "<img src=s2-images/2.1.png width=700 />"
   ]
  },
  {
   "cell_type": "markdown",
   "id": "79f71e28-dd9a-4ea4-bba2-0cec36ebd233",
   "metadata": {},
   "source": [
    "**Scopes**\n",
    "\n",
    "Recall that symbols point to **objects**\n",
    "\n",
    "\n",
    "- module1.py:\n",
    "    - `Python` (symbol)\n",
    "    - `p` (symbol)\n",
    "    - `__init__` (function object)\n",
    "    - `say_hello` (function object)\n",
    " \n",
    "- `Python`:\n",
    "    - `kingdom` (symbol)\n",
    "    - `phylum` (symbol)\n",
    "    - `family` (symbol)\n",
    "    - `__init__` (symbol)\n",
    "    - `say_hello` (symbol)"
   ]
  },
  {
   "cell_type": "markdown",
   "id": "7089162a-cc18-41ce-a2ef-8a47a0996ab0",
   "metadata": {},
   "source": [
    "What's so significant about the `__init__` and `say_hello` function objects existing in the enclosing scope of the class and not the class itself?\n",
    "\n",
    "When Python looks for a symbol in a function, it will **not** use the class body scope and instead use the module scope.\n",
    "\n",
    "Here's an example:"
   ]
  },
  {
   "cell_type": "markdown",
   "id": "bafeb2a8-f9a6-4498-8f0b-db3db129c6c0",
   "metadata": {},
   "source": [
    "Writing something like this will not work:"
   ]
  },
  {
   "cell_type": "code",
   "execution_count": 1,
   "id": "33f8d2f0-dc6a-42fd-b2b0-4fd4bfd9bb04",
   "metadata": {},
   "outputs": [],
   "source": [
    "class Language:\n",
    "    MAJOR = 3\n",
    "    MINOR = 7\n",
    "    REVISION = 4\n",
    "    \n",
    "    @classmethod\n",
    "    def cls_version(cls):\n",
    "        return '{}.{}.{}'.format(MAJOR, MINOR, REVISION)"
   ]
  },
  {
   "cell_type": "code",
   "execution_count": 2,
   "id": "ff02c4b0-ef38-473b-89b2-165e49fcab1c",
   "metadata": {},
   "outputs": [
    {
     "ename": "NameError",
     "evalue": "name 'MAJOR' is not defined",
     "output_type": "error",
     "traceback": [
      "\u001b[1;31m---------------------------------------------------------------------------\u001b[0m",
      "\u001b[1;31mNameError\u001b[0m                                 Traceback (most recent call last)",
      "Cell \u001b[1;32mIn[2], line 1\u001b[0m\n\u001b[1;32m----> 1\u001b[0m \u001b[43mLanguage\u001b[49m\u001b[38;5;241;43m.\u001b[39;49m\u001b[43mcls_version\u001b[49m\u001b[43m(\u001b[49m\u001b[43m)\u001b[49m\n",
      "Cell \u001b[1;32mIn[1], line 8\u001b[0m, in \u001b[0;36mLanguage.cls_version\u001b[1;34m(cls)\u001b[0m\n\u001b[0;32m      6\u001b[0m \u001b[38;5;129m@classmethod\u001b[39m\n\u001b[0;32m      7\u001b[0m \u001b[38;5;28;01mdef\u001b[39;00m \u001b[38;5;21mcls_version\u001b[39m(\u001b[38;5;28mcls\u001b[39m):\n\u001b[1;32m----> 8\u001b[0m     \u001b[38;5;28;01mreturn\u001b[39;00m \u001b[38;5;124m'\u001b[39m\u001b[38;5;132;01m{}\u001b[39;00m\u001b[38;5;124m.\u001b[39m\u001b[38;5;132;01m{}\u001b[39;00m\u001b[38;5;124m.\u001b[39m\u001b[38;5;132;01m{}\u001b[39;00m\u001b[38;5;124m'\u001b[39m\u001b[38;5;241m.\u001b[39mformat(\u001b[43mMAJOR\u001b[49m, MINOR, REVISION)\n",
      "\u001b[1;31mNameError\u001b[0m: name 'MAJOR' is not defined"
     ]
    }
   ],
   "source": [
    "Language.cls_version()"
   ]
  },
  {
   "cell_type": "markdown",
   "id": "161b1519-faec-44d2-8c22-f7c731df57e8",
   "metadata": {},
   "source": [
    "The scope that is used is always the enclosing scope, which is not necessarily the module scope. If it doesn't find it there, it will look expand out one scope further, and so on."
   ]
  },
  {
   "cell_type": "code",
   "execution_count": 7,
   "id": "c8453610-e1a4-42d7-91a9-97e6af0ba161",
   "metadata": {},
   "outputs": [],
   "source": [
    "MAJOR = 0\n",
    "MINOR = 0\n",
    "REVISION = 1\n",
    "\n",
    "def gen_class():\n",
    "    MAJOR = 0\n",
    "    MINOR = 4\n",
    "    REVISION = 2\n",
    "    \n",
    "    class Language:\n",
    "        MAJOR = 3\n",
    "        MINOR = 7\n",
    "        REVISION = 4\n",
    "\n",
    "        @classmethod\n",
    "        def version(cls):\n",
    "            return '{}.{}.{}'.format(MAJOR, MINOR, REVISION)\n",
    "        \n",
    "    return Language"
   ]
  },
  {
   "cell_type": "code",
   "execution_count": 8,
   "id": "0aefeb8b-7a61-4d24-b183-f6a4a60e3150",
   "metadata": {},
   "outputs": [],
   "source": [
    "my_cls = gen_class()"
   ]
  },
  {
   "cell_type": "code",
   "execution_count": 9,
   "id": "d0392609-877a-433e-860b-06df58b040af",
   "metadata": {},
   "outputs": [
    {
     "data": {
      "text/plain": [
       "'0.4.2'"
      ]
     },
     "execution_count": 9,
     "metadata": {},
     "output_type": "execute_result"
    }
   ],
   "source": [
    "my_cls.version()"
   ]
  },
  {
   "cell_type": "markdown",
   "id": "a932b57d-3cf6-4fed-9eb2-cae7ba683e1b",
   "metadata": {},
   "source": [
    "The fact that `MAJOR`, `MINOR` and `REVISION` are interacting with variables from an outer scope makes `version(cls)` a **closure**:"
   ]
  },
  {
   "cell_type": "code",
   "execution_count": 10,
   "id": "f23cfa7e-69a1-4e7f-8345-ed5ff487159f",
   "metadata": {},
   "outputs": [
    {
     "data": {
      "text/plain": [
       "ClosureVars(nonlocals={'MAJOR': 0, 'MINOR': 4, 'REVISION': 2}, globals={}, builtins={'format': <built-in function format>}, unbound=set())"
      ]
     },
     "execution_count": 10,
     "metadata": {},
     "output_type": "execute_result"
    }
   ],
   "source": [
    "import inspect\n",
    "\n",
    "inspect.getclosurevars(my_cls.version)"
   ]
  },
  {
   "cell_type": "markdown",
   "id": "64786a08-7229-4d6c-b5cd-24acc1fb0c9f",
   "metadata": {},
   "source": [
    "Let's go through one final example:"
   ]
  },
  {
   "cell_type": "code",
   "execution_count": 12,
   "id": "76bb792b-55b2-4593-94d0-2ba5aae8f3ed",
   "metadata": {},
   "outputs": [],
   "source": [
    "name = 'Guido'\n",
    "\n",
    "class MyClass:\n",
    "    name = 'Raymond'\n",
    "    list_1 = [name] * 3\n",
    "    list_2 = [name.upper() for i in range(3)]\n",
    "    \n",
    "    @classmethod\n",
    "    def hello(cls):\n",
    "        return '{} says hello'.format(name)"
   ]
  },
  {
   "cell_type": "markdown",
   "id": "e32b5366-ee5d-4cab-8998-6a473cb29efc",
   "metadata": {},
   "source": [
    "We know that the `name` in `hello(cls)` will find `Guido` because `hello(cls)` is a **function** and functions live in the outer scope:"
   ]
  },
  {
   "cell_type": "code",
   "execution_count": 13,
   "id": "67e703fe-18b8-44da-9531-992080ff08b9",
   "metadata": {},
   "outputs": [
    {
     "data": {
      "text/plain": [
       "'Guido says hello'"
      ]
     },
     "execution_count": 13,
     "metadata": {},
     "output_type": "execute_result"
    }
   ],
   "source": [
    "MyClass.hello()"
   ]
  },
  {
   "cell_type": "markdown",
   "id": "484517e6-bf0f-45cf-ab54-e56d5d7c033a",
   "metadata": {},
   "source": [
    "We know that `list_1` will find `Raymond` as `list_1` is **not a function** so it will search in the current scope:"
   ]
  },
  {
   "cell_type": "code",
   "execution_count": 14,
   "id": "d3546326-323c-4885-8d00-a7c9a75aa3f2",
   "metadata": {},
   "outputs": [
    {
     "data": {
      "text/plain": [
       "['Raymond', 'Raymond', 'Raymond']"
      ]
     },
     "execution_count": 14,
     "metadata": {},
     "output_type": "execute_result"
    }
   ],
   "source": [
    "MyClass.list_1"
   ]
  },
  {
   "cell_type": "markdown",
   "id": "503c186b-d39b-4c39-9de1-f0021b1a10bb",
   "metadata": {},
   "source": [
    "But, what does `list_2` return?"
   ]
  },
  {
   "cell_type": "code",
   "execution_count": 15,
   "id": "377a9fa0-7f7d-4253-a453-ffc2a6d9eaa3",
   "metadata": {},
   "outputs": [
    {
     "data": {
      "text/plain": [
       "['GUIDO', 'GUIDO', 'GUIDO']"
      ]
     },
     "execution_count": 15,
     "metadata": {},
     "output_type": "execute_result"
    }
   ],
   "source": [
    "MyClass.list_2"
   ]
  },
  {
   "cell_type": "markdown",
   "id": "6aa6ab14-b76f-41f6-8d6c-f42b9687e1c9",
   "metadata": {},
   "source": [
    "Remember what we discussed about comprehensions in an earlier part of this course?\n",
    "\n",
    "**List comprehensions are thinly veiled functions!** The same goes for generator comprehensions, dictionary comprehensions, set comprehensions etc.\n",
    "\n",
    "So the `name` in `name.upper()` is a free variable pointing to the outer (module) scope."
   ]
  }
 ],
 "metadata": {
  "kernelspec": {
   "display_name": "Python 3 (ipykernel)",
   "language": "python",
   "name": "python3"
  },
  "language_info": {
   "codemirror_mode": {
    "name": "ipython",
    "version": 3
   },
   "file_extension": ".py",
   "mimetype": "text/x-python",
   "name": "python",
   "nbconvert_exporter": "python",
   "pygments_lexer": "ipython3",
   "version": "3.10.4"
  }
 },
 "nbformat": 4,
 "nbformat_minor": 5
}
