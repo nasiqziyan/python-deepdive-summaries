{
 "cells": [
  {
   "cell_type": "markdown",
   "id": "022284cf-435a-4d67-8eb8-52e9bee686b2",
   "metadata": {},
   "source": [
    "# 01 - Objects and Classes"
   ]
  },
  {
   "cell_type": "markdown",
   "id": "0ec474d5-af28-409e-88d2-0dc49fd99a9c",
   "metadata": {},
   "source": [
    "We will try to refer to instances of classes as **instances** and not **objects** throughout this course because pretty much everything is an object.\n",
    "\n",
    "The class itself is also called a `type`. For example, we call `list` a type but it's also a `list` class.\n",
    "\n",
    "The type of our classes (not instances) are of type: `type`. This includes things like the `list` class - we'll look into all of this later.\n",
    "\n",
    "The type of `type` is also of type: `type`. Again, we'll look into all of this later."
   ]
  },
  {
   "cell_type": "markdown",
   "id": "daf4940b-9fdf-4095-8518-4627068ccd58",
   "metadata": {},
   "source": [
    "# 02 - Class Attributes"
   ]
  },
  {
   "cell_type": "markdown",
   "id": "9333f096-d637-4fd9-a61e-f3561b1c052b",
   "metadata": {},
   "source": [
    "Everything in this subsection is related to the class itself, **not the instances of the class**."
   ]
  },
  {
   "cell_type": "markdown",
   "id": "4b2a0c68-740f-4c31-81ca-f98d3bd12537",
   "metadata": {},
   "source": [
    "We can **get** the attributes of **any object** in general, not just classes, using the `getattr` function:\n",
    "```python\n",
    "getattr(object_symbol, attribute_name, optional_default)\n",
    "```\n",
    "- The shorthand dot notation is identical to this except you can't specify defaults with dot notation.\n",
    "- When bounded to a class, they are often called **data attributes** or **class attributes** in contrast to **instance attributes**.\n",
    "\n",
    "Here's a simple example:"
   ]
  },
  {
   "cell_type": "code",
   "execution_count": 14,
   "id": "9e35f5ef-6208-43a7-8ce6-d9867633d10b",
   "metadata": {},
   "outputs": [
    {
     "name": "stdout",
     "output_type": "stream",
     "text": [
      "Python\n",
      "N/A\n"
     ]
    }
   ],
   "source": [
    "class MyClass:\n",
    "    language = 'Python'\n",
    "    version = '3.6'\n",
    "\n",
    "print(getattr(MyClass, 'language'))\n",
    "print(getattr(MyClass, 'x', 'N/A'))"
   ]
  },
  {
   "cell_type": "markdown",
   "id": "04c72894-23c0-41f7-810a-35887eb5ba8f",
   "metadata": {},
   "source": [
    "We can **set** the attributes of **any object** in general, not just classes, using the `setattr` function:\n",
    "```python\n",
    "getattr(object_symbol, attribute_name, attribute value)\n",
    "```\n",
    "- Since python is a dynamic language, we can define attributes in our code to modify our classes at runtime.\n",
    "\n",
    "Here's a simple example:"
   ]
  },
  {
   "cell_type": "code",
   "execution_count": 15,
   "id": "57e7dbdc-1b91-447a-a512-d11f3ea81390",
   "metadata": {},
   "outputs": [
    {
     "name": "stdout",
     "output_type": "stream",
     "text": [
      "3.7\n",
      "100\n"
     ]
    }
   ],
   "source": [
    "class MyClass:\n",
    "    language = 'Python'\n",
    "    version = '3.6'\n",
    "\n",
    "setattr(MyClass, 'version', '3.7')\n",
    "print(getattr(MyClass, 'version'))\n",
    "\n",
    "setattr(MyClass, 'x', 100)\n",
    "print(getattr(MyClass, 'x'))"
   ]
  },
  {
   "cell_type": "markdown",
   "id": "64d6e9e5-6e3c-4944-9ce1-f6ec87f42971",
   "metadata": {},
   "source": [
    "We can **delete** the attributes of **any object** (usually), not just classes, using the `delattr` function:\n",
    "```python\n",
    "delattr(object_symbol, attribute_name)\n",
    "```\n",
    "- We can also use the `del` keyword which we've seen in the past for removing keys from dictionaries. This fact will become more relevant after reading down below."
   ]
  },
  {
   "cell_type": "markdown",
   "id": "abedc10a-51fb-499b-924d-1b13c96bdbd8",
   "metadata": {},
   "source": [
    "**Where is the state stored?**\n",
    "\n",
    "- The state of a class is stored in a dictionary accessed with `__dict__`.\n",
    "- This returns a **mappingproxy** which is a hashmap (dictionary) but not a python `dict`. It is essentially a read-only dictionary that's only mutable via `setattr`. This is in contrast to the state of an instance accessed by `__dict__` which *is* a python `dict` and is therefore read-and-write.\n",
    "- This dictionary is often called the **class namespace**."
   ]
  },
  {
   "cell_type": "code",
   "execution_count": 16,
   "id": "28cf1c89-351b-4598-a726-cd9fd4d34ef3",
   "metadata": {},
   "outputs": [
    {
     "data": {
      "text/plain": [
       "mappingproxy({'__module__': '__main__',\n",
       "              'language': 'Python',\n",
       "              'version': '3.7',\n",
       "              '__dict__': <attribute '__dict__' of 'MyClass' objects>,\n",
       "              '__weakref__': <attribute '__weakref__' of 'MyClass' objects>,\n",
       "              '__doc__': None,\n",
       "              'x': 100})"
      ]
     },
     "execution_count": 16,
     "metadata": {},
     "output_type": "execute_result"
    }
   ],
   "source": [
    "MyClass.__dict__"
   ]
  },
  {
   "cell_type": "markdown",
   "id": "50786f1c-99bd-4239-a835-ed4d17fd1e81",
   "metadata": {},
   "source": [
    "While we can get (but not set) attributes via this dictionary, it's better to use `getattr` or the dot notation as classes can sometimes have attributes that **don't** show up in this dictionary e.g. `__name__`."
   ]
  },
  {
   "cell_type": "code",
   "execution_count": 17,
   "id": "565e76d4-bf46-4b76-89ff-a0bae2bdd8a8",
   "metadata": {},
   "outputs": [
    {
     "data": {
      "text/plain": [
       "'Python'"
      ]
     },
     "execution_count": 17,
     "metadata": {},
     "output_type": "execute_result"
    }
   ],
   "source": [
    "MyClass.__dict__['language']"
   ]
  },
  {
   "cell_type": "markdown",
   "id": "5c1fd806-b196-4220-bce6-89ec86ff192f",
   "metadata": {},
   "source": [
    "# 03 - Callable Class Attributes"
   ]
  },
  {
   "cell_type": "markdown",
   "id": "089e08ac-24d7-430e-a87b-ee2ba49bd883",
   "metadata": {},
   "source": [
    "Class attributes can be any object type, including callables such as functions. These are **not** instance methods as they do not take `self` in their argument. They are typically called **function attributes**."
   ]
  },
  {
   "cell_type": "code",
   "execution_count": 19,
   "id": "eaf1ab26-8383-47c3-b008-b4f884876cf0",
   "metadata": {},
   "outputs": [],
   "source": [
    "class Program:\n",
    "    language = 'Python'\n",
    "    \n",
    "    def say_hello():\n",
    "        print(f'Hello from {Program.language}!')"
   ]
  },
  {
   "cell_type": "markdown",
   "id": "137acb2a-6419-4047-831f-88c9ac333793",
   "metadata": {},
   "source": [
    "Since this function is an **attribute**, we can use `getattr` or dot notation:"
   ]
  },
  {
   "cell_type": "code",
   "execution_count": 21,
   "id": "e1febc68-698d-4c18-91b8-c2b338bb537f",
   "metadata": {},
   "outputs": [
    {
     "name": "stdout",
     "output_type": "stream",
     "text": [
      "Hello from Python!\n",
      "Hello from Python!\n"
     ]
    }
   ],
   "source": [
    "Program.say_hello()\n",
    "getattr(Program, 'say_hello')()"
   ]
  },
  {
   "cell_type": "markdown",
   "id": "f7130204-3405-4b56-b47f-0da175e22bf1",
   "metadata": {},
   "source": [
    "# 04 - Classes are Callable"
   ]
  },
  {
   "cell_type": "markdown",
   "id": "145f9d9e-2009-43d7-9265-111d78eee79a",
   "metadata": {},
   "source": [
    "When we use the `class` keyword, Python automatically adds behaviours to the class.\n",
    "\n",
    "It makes it a callable with a return value that is an object which we call an **instance**.\n",
    "\n",
    "The **instance** has its own **_distinct_** namespace which is separate to the namespace of the class itself.\n",
    "\n",
    "`__dict__` on the instances returns the instance's **local** namespace while `__dict__` on the class returns the class' namespace."
   ]
  },
  {
   "cell_type": "code",
   "execution_count": 28,
   "id": "076ef262-7ad1-4777-be83-45cc88a26d9e",
   "metadata": {},
   "outputs": [],
   "source": [
    "class Program:\n",
    "    language = 'Python'\n",
    "    \n",
    "    def say_hello():\n",
    "        print(f'Hello from {Program.language}!')"
   ]
  },
  {
   "cell_type": "code",
   "execution_count": 29,
   "id": "bc53fd30-0cf1-49e0-bf04-ce6ff5e58e9e",
   "metadata": {},
   "outputs": [
    {
     "data": {
      "text/plain": [
       "mappingproxy({'__module__': '__main__',\n",
       "              'language': 'Python',\n",
       "              'say_hello': <function __main__.Program.say_hello()>,\n",
       "              '__dict__': <attribute '__dict__' of 'Program' objects>,\n",
       "              '__weakref__': <attribute '__weakref__' of 'Program' objects>,\n",
       "              '__doc__': None})"
      ]
     },
     "execution_count": 29,
     "metadata": {},
     "output_type": "execute_result"
    }
   ],
   "source": [
    "Program.__dict__"
   ]
  },
  {
   "cell_type": "code",
   "execution_count": 30,
   "id": "1e6d118e-0f40-4d5b-a22b-47ca52db8197",
   "metadata": {},
   "outputs": [
    {
     "data": {
      "text/plain": [
       "{}"
      ]
     },
     "execution_count": 30,
     "metadata": {},
     "output_type": "execute_result"
    }
   ],
   "source": [
    "p.__dict__"
   ]
  },
  {
   "cell_type": "markdown",
   "id": "7cdc20fe-fe28-4551-9a0b-caa12b530dc7",
   "metadata": {},
   "source": [
    "We should **always** use the `type` function over the `__class__` attribute to access the original class.\n",
    "\n",
    "This is because `__class__` is just an attribute that can be manually modified:"
   ]
  },
  {
   "cell_type": "code",
   "execution_count": 34,
   "id": "d5f17eac-d274-4400-bb47-210f7efd45b2",
   "metadata": {},
   "outputs": [],
   "source": [
    "class MyClass:\n",
    "    __class__ = str\n",
    "\n",
    "m = MyClass()"
   ]
  },
  {
   "cell_type": "code",
   "execution_count": 35,
   "id": "04a7743e-0d7a-43ff-8d1e-0660653d493a",
   "metadata": {},
   "outputs": [
    {
     "name": "stdout",
     "output_type": "stream",
     "text": [
      "<class 'str'>\n",
      "<class '__main__.MyClass'>\n"
     ]
    }
   ],
   "source": [
    "print(m.__class__)\n",
    "print(type(m))"
   ]
  },
  {
   "cell_type": "markdown",
   "id": "7e2912a3-567b-44fe-9baf-984fe3af9da7",
   "metadata": {},
   "source": [
    "The `isinstance` function *is* affected by our modification too. This is more related to **metaprogramming** so we'll cover it in more detail later, but to demonstrate:"
   ]
  },
  {
   "cell_type": "code",
   "execution_count": 39,
   "id": "5e87db65-5982-4ac5-b455-d0fa1b812972",
   "metadata": {},
   "outputs": [
    {
     "name": "stdout",
     "output_type": "stream",
     "text": [
      "True\n",
      "True\n"
     ]
    }
   ],
   "source": [
    "print(isinstance(m, str))\n",
    "print(isinstance(m, MyClass))"
   ]
  },
  {
   "cell_type": "markdown",
   "id": "dd71c1bd-78c8-4595-8e31-ddcb932254e5",
   "metadata": {},
   "source": [
    "But we should definitely use **isinstance** when it comes to inheritance which we'll also look at later."
   ]
  },
  {
   "cell_type": "markdown",
   "id": "f0bc2bb2-3fac-4c46-a34e-b71bd703ba6c",
   "metadata": {},
   "source": [
    "# 05 - Data Attributes"
   ]
  },
  {
   "cell_type": "markdown",
   "id": "6583bb6c-cb6c-4c9b-9f6f-ecab183297b0",
   "metadata": {},
   "source": [
    "Let's illustrate the differences between the class and instance namespaces with an example. \n",
    "\n",
    "We will demonstrate how performing a lookup for an instance attribute will look in the local namespace, and if it doesn't find it there, it will look in the class namespace:"
   ]
  },
  {
   "cell_type": "code",
   "execution_count": 47,
   "id": "83fb1daa-229c-4529-97b5-1ae002fb28a9",
   "metadata": {},
   "outputs": [],
   "source": [
    "class BankAccount:\n",
    "    apr = 1.2"
   ]
  },
  {
   "cell_type": "code",
   "execution_count": 52,
   "id": "b9aedc3c-d31b-4361-81da-2b98f8e68d95",
   "metadata": {},
   "outputs": [
    {
     "data": {
      "text/plain": [
       "{}"
      ]
     },
     "execution_count": 52,
     "metadata": {},
     "output_type": "execute_result"
    }
   ],
   "source": [
    "acc_1 = BankAccount()\n",
    "acc_2 = BankAccount()\n",
    "\n",
    "acc_1.__dict__"
   ]
  },
  {
   "cell_type": "code",
   "execution_count": 50,
   "id": "9f93ad8f-e771-4825-b1b7-ef99a7f7a500",
   "metadata": {},
   "outputs": [
    {
     "data": {
      "text/plain": [
       "1.2"
      ]
     },
     "execution_count": 50,
     "metadata": {},
     "output_type": "execute_result"
    }
   ],
   "source": [
    "acc_1.apr"
   ]
  },
  {
   "cell_type": "markdown",
   "id": "f58999f9-2690-49f8-9465-f52ca9b888f8",
   "metadata": {},
   "source": [
    "If we set the **instance attribute**, only that instance's namespace will be affected. Other instance namespaces and the class namespace itself will be unaffected."
   ]
  },
  {
   "cell_type": "code",
   "execution_count": 56,
   "id": "54bec3a3-300a-4f9d-bb8a-f8d8e2b0c0a3",
   "metadata": {},
   "outputs": [
    {
     "data": {
      "text/plain": [
       "({'apr': 0}, {})"
      ]
     },
     "execution_count": 56,
     "metadata": {},
     "output_type": "execute_result"
    }
   ],
   "source": [
    "acc_1.apr = 0\n",
    "\n",
    "acc_1.__dict__, acc_2.__dict__"
   ]
  },
  {
   "cell_type": "markdown",
   "id": "9c720aa7-7db5-4efc-a6fe-e686fddee558",
   "metadata": {},
   "source": [
    "If we get the **instance attribute** back, we'll always search in the local namespace first before moving up the inheritance tree:"
   ]
  },
  {
   "cell_type": "code",
   "execution_count": 57,
   "id": "6f7238a1-53d0-4386-8069-acb1eb0f10a3",
   "metadata": {},
   "outputs": [
    {
     "data": {
      "text/plain": [
       "(0, 1.2)"
      ]
     },
     "execution_count": 57,
     "metadata": {},
     "output_type": "execute_result"
    }
   ],
   "source": [
    "acc_1.apr, acc_2.apr"
   ]
  },
  {
   "cell_type": "markdown",
   "id": "a310bd93-4e24-4a2a-a78e-0fe2564443e4",
   "metadata": {},
   "source": [
    "# 06 - Function Attributes"
   ]
  },
  {
   "cell_type": "markdown",
   "id": "a761463f-8820-4f93-a725-07c422eb3395",
   "metadata": {},
   "source": [
    "# 07 - Initializing Class Instances"
   ]
  },
  {
   "cell_type": "markdown",
   "id": "50c29797-b29c-4e8a-8ccb-2fa35508b083",
   "metadata": {},
   "source": [
    "# 08 - Creating Attributes at Run-Time"
   ]
  },
  {
   "cell_type": "markdown",
   "id": "3c9b2c17-62ca-445b-b897-831e31673917",
   "metadata": {},
   "source": [
    "# 09 - Properties"
   ]
  },
  {
   "cell_type": "markdown",
   "id": "ff90fbba-da96-4c8a-906d-7601d5c90a2f",
   "metadata": {},
   "source": [
    "# 10 - Property Decorators"
   ]
  },
  {
   "cell_type": "markdown",
   "id": "80ea1d46-b7da-4a99-a9c2-f07c6617343e",
   "metadata": {},
   "source": [
    "# 11 - Read-Only and Computed Properties"
   ]
  },
  {
   "cell_type": "markdown",
   "id": "07e2202a-ffba-46c4-bfda-8ca6b2864d98",
   "metadata": {},
   "source": [
    "# 12 - Deleting Properties"
   ]
  },
  {
   "cell_type": "markdown",
   "id": "3bad272c-c017-49c8-8998-de408d9eee9b",
   "metadata": {},
   "source": [
    "# 13 - Class and Static Methods"
   ]
  },
  {
   "cell_type": "markdown",
   "id": "9e345a63-3b88-4f54-9bc2-b0ed6795b7b5",
   "metadata": {},
   "source": [
    "# 14 - Class Body Scope"
   ]
  }
 ],
 "metadata": {
  "kernelspec": {
   "display_name": "Python 3 (ipykernel)",
   "language": "python",
   "name": "python3"
  },
  "language_info": {
   "codemirror_mode": {
    "name": "ipython",
    "version": 3
   },
   "file_extension": ".py",
   "mimetype": "text/x-python",
   "name": "python",
   "nbconvert_exporter": "python",
   "pygments_lexer": "ipython3",
   "version": "3.10.4"
  }
 },
 "nbformat": 4,
 "nbformat_minor": 5
}
