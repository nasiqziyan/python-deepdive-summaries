{
 "cells": [
  {
   "cell_type": "markdown",
   "id": "8fb494de-3fa8-4163-80a5-17dd785844f6",
   "metadata": {},
   "source": [
    "**Note:** This project contains setting up an appropriate directory structure which includes testing using pytest. Since the focus of these notebooks is the code, everything will be available in this one notebook under different headings. \n",
    "\n",
    "I have also cut out all docstrings for brevity."
   ]
  },
  {
   "cell_type": "markdown",
   "id": "52b00e78-88ad-443f-85a5-20f79570fef0",
   "metadata": {},
   "source": [
    "### Project 3 - Single Inheritance - Solution"
   ]
  },
  {
   "cell_type": "markdown",
   "id": "76e753a0-00da-4d3f-ae44-927bb9b00948",
   "metadata": {},
   "source": [
    "You are writing an inventory application for a budding tech guy who has a video channel featuring computer builds.\n",
    "Basically they have a pool of inventory, (for example 5 x AMD Ryzen 2-2700 CPUs) that they use for builds. When they take a CPU from the pool, they will indicate this using the object that tracks that sepcific type of CPU. They may also purchase additional CPUs, or retire some (because they overclocked it too much and burnt them out!)."
   ]
  },
  {
   "cell_type": "markdown",
   "id": "a1d510a6-11ee-4c9c-8c42-54c3e1713c2e",
   "metadata": {},
   "source": [
    "Technically we would want a database to back all this data, but here we're just going to build the classes we'll use while our program is running and not worry about retrieving or saving the state of the inventory."
   ]
  },
  {
   "cell_type": "markdown",
   "id": "18e28bca-7e19-473f-829d-686f7a6ae3fb",
   "metadata": {},
   "source": [
    "The base class is going to be a general `Resource`. This class should provide functionality common to all the actual resources (CPU, GPU, Memory, HDD, SSD) - for this exercise we're only going to implement CPU, HDD and SSD."
   ]
  },
  {
   "cell_type": "markdown",
   "id": "1738557b-31ac-4c8f-b8e2-9703697351e9",
   "metadata": {},
   "source": [
    "It should provide this at a minimum:"
   ]
  },
  {
   "cell_type": "markdown",
   "id": "24a5d611-48d5-4f0f-b641-71a6c052ae0a",
   "metadata": {},
   "source": [
    "- `name` : user-friendly name of resource instance (e.g.` Intel Core i9-9900K`)\n",
    "- `manufacturer` - resource instance manufacturer (e.g. `Nvidia`)\n",
    "- `total` : inventory total (how many are in the inventory pool)\n",
    "- `allocated` : number allocated (how many are already in use)\n",
    "- a `__str__` representation that just returns the resource name\n",
    "- a mode detailed `__repr__` implementation\n",
    "- `claim(n)` : method to take n resources from the pool (as long as inventory is available)\n",
    "- `freeup(n)` : method to return n resources to the pool (e.g. disassembled some builds)\n",
    "- `died(n)` : method to return and permanently remove inventory from the pool (e.g. they broke something) - as long as total available allows it\n",
    "- `purchased(n)` - method to add inventory to the pool (e.g. they purchased a new CPU)\n",
    "- `category` - computed property that returns a lower case version of the class name"
   ]
  },
  {
   "cell_type": "markdown",
   "id": "c1346953-5efe-4755-9f0a-7c3ec1d89d11",
   "metadata": {},
   "source": [
    "Next we are going to define child classes for each of CPU, HDD and SDD."
   ]
  },
  {
   "cell_type": "markdown",
   "id": "05c1c0ac-daa5-4ac9-b2b4-546683ffb061",
   "metadata": {},
   "source": [
    "For the `CPU` class:\n",
    "- `cores` (e.g. `8`)\n",
    "- `socket` (e.g. `AM4`)\n",
    "- `power_watts` (e.g. `94`)"
   ]
  },
  {
   "cell_type": "markdown",
   "id": "bfba3ac1-e0c4-4668-b472-65cd381780f9",
   "metadata": {},
   "source": [
    "For the HDD and SDD classes, we're going to create an intermediate class called `Storage` with these additional properties:\n",
    "- `capacity_GB` (e.g. `120`)"
   ]
  },
  {
   "cell_type": "markdown",
   "id": "edb673ce-2884-4974-8c2b-ccaac2ea68cd",
   "metadata": {},
   "source": [
    "The `HDD` class extends `Storage` and has these additional properties:\n",
    "- `size` (e.g. ``2.5\"``)\n",
    "- `rpm` (e.g. `7000`)"
   ]
  },
  {
   "cell_type": "markdown",
   "id": "a66abce5-d408-4d3d-817d-bc0a31bfa721",
   "metadata": {},
   "source": [
    "The `SSD` class extends `Storage` and has these additional properties:\n",
    "- `interface` (e.g. `PCIe NVMe 3.0 x4`)"
   ]
  },
  {
   "cell_type": "markdown",
   "id": "d1b8a8e0-66cc-4008-91b5-ab08a2323562",
   "metadata": {},
   "source": [
    "For all your classes, implement a full constructor that can be used to initialize all the properties, some form of validation on numeric types, as well as customized `__repr__` as you see fit."
   ]
  },
  {
   "cell_type": "markdown",
   "id": "6e90d6a4-f886-42ee-83ba-ff226a38c304",
   "metadata": {},
   "source": [
    "For the `total` and `allocated` values in the `Resource` init, think of the arguments there as the **current** total and allocated counts. Those `total` and `allocated` attributes should be private **read-only** properties, but they are modifiable through the various methods such as `claim`, `return`, `died` and `purchased`. Other attributes like `name`, `manufacturer_name`, etc should be read-only."
   ]
  },
  {
   "cell_type": "markdown",
   "id": "3b8b0bf6-2126-4b34-a26c-ca7a51ea736d",
   "metadata": {},
   "source": [
    "# Solution"
   ]
  },
  {
   "cell_type": "markdown",
   "id": "806f4284-008b-468f-af1f-dbf3d25f9cd5",
   "metadata": {},
   "source": [
    "#### Main Solution"
   ]
  },
  {
   "cell_type": "markdown",
   "id": "d5bd5dac-0347-446e-b782-bbf3544d1340",
   "metadata": {},
   "source": [
    "1. Create a helper function `validate_integer` that will allow us to validate that a value is an integer, optionally between a min and max (inclusive), and raises a `TypeError`, `ValueError` with a custom error message that can be overriden when bound checks fail.\n",
    "\n",
    "2. Create the unit tests for the `validate_integer` function. (See \"Tests Solution\" subsection.)\n",
    "\n",
    "3. Implement the `Resource` class.\n",
    "\n",
    "4. Create the unit tests for the `Resource` class.\n",
    "\n",
    "5. Create the `CPU`, `Storage`, `HDD` and `SSD` class.\n",
    "\n",
    "6. Create the tests for the aforementioned classes."
   ]
  },
  {
   "cell_type": "code",
   "execution_count": 1,
   "id": "58ef2539-c39c-46c7-8951-816f760fb934",
   "metadata": {},
   "outputs": [],
   "source": [
    "# STEP 1\n",
    "def validate_integer(\n",
    "        arg_name, arg_value, min_value=None, max_value=None,\n",
    "        custom_min_message=None, custom_max_message=None\n",
    "):\n",
    "    if not isinstance(arg_value, int):\n",
    "        raise TypeError(f'{arg_name} must be an integer.')\n",
    "\n",
    "    if min_value is not None and arg_value < min_value:\n",
    "        if custom_min_message is not None:\n",
    "            raise ValueError(custom_min_message)\n",
    "        raise ValueError(f'{arg_name} cannot be less than {min_value}')\n",
    "\n",
    "    if max_value is not None and arg_value > max_value:\n",
    "        if custom_max_message is not None:\n",
    "            raise ValueError(custom_max_message)\n",
    "        raise ValueError(f'{arg_name} cannot be greater than {max_value}')"
   ]
  },
  {
   "cell_type": "code",
   "execution_count": 2,
   "id": "0ef4c6d6-fb36-46a8-8b29-427a23fee696",
   "metadata": {},
   "outputs": [],
   "source": [
    "# STEP 3\n",
    "class Resource:\n",
    "    def __init__(self, name, manufacturer, total, allocated):\n",
    "        self._name = name\n",
    "        self._manufacturer = manufacturer\n",
    "\n",
    "        validate_integer('total', total, min_value=0)\n",
    "        self._total = total\n",
    "\n",
    "        validate_integer(\n",
    "            'allocated', allocated, 0, total,\n",
    "            custom_max_message='Allocated inventory cannot exceed total inventory'\n",
    "        )\n",
    "        self._allocated = allocated\n",
    "\n",
    "    @property\n",
    "    def name(self):\n",
    "        return self._name\n",
    "\n",
    "    @property\n",
    "    def manufacturer(self):\n",
    "        return self._manufacturer\n",
    "\n",
    "    @property\n",
    "    def total(self):\n",
    "        return self._total\n",
    "\n",
    "    @property\n",
    "    def allocated(self):\n",
    "        return self._allocated\n",
    "\n",
    "    @property\n",
    "    def category(self):\n",
    "        return type(self).__name__.lower()\n",
    "\n",
    "    @property\n",
    "    def available(self):\n",
    "        return self.total - self.allocated\n",
    "\n",
    "    def __str__(self):\n",
    "        return self.name\n",
    "\n",
    "    def __repr__(self):\n",
    "        return (f'{self.name} ({self.category} - {self.manufacturer}) : '\n",
    "                f'total={self.total}, allocated={self.allocated}'\n",
    "                )\n",
    "\n",
    "    def claim(self, num):\n",
    "        validate_integer(\n",
    "            'num', num, 1, self.available,\n",
    "            custom_max_message='Cannot claim more than available'\n",
    "        )\n",
    "        self._allocated += num\n",
    "\n",
    "    def freeup(self, num):\n",
    "        validate_integer(\n",
    "            'num', num, 1, self.allocated,\n",
    "            custom_max_message='Cannot return more than allocated'\n",
    "        )\n",
    "        self._allocated -= num\n",
    "\n",
    "    def died(self, num):\n",
    "        validate_integer('num', num, 1, self.allocated,\n",
    "                         custom_max_message='Cannot retire more than allocated')\n",
    "        self._total -= num\n",
    "        self._allocated -= num\n",
    "\n",
    "    def purchased(self, num):\n",
    "        validate_integer('num', num, 1)\n",
    "        self._total += num"
   ]
  },
  {
   "cell_type": "code",
   "execution_count": 3,
   "id": "c53c6dfc-9e95-4416-b0ee-c4fd0f01819d",
   "metadata": {},
   "outputs": [],
   "source": [
    "# STEP 5\n",
    "class CPU(Resource):\n",
    "    def __init__(\n",
    "            self, name, manufacturer, total, allocated,\n",
    "            cores, socket, power_watts\n",
    "    ):\n",
    "        super().__init__(name, manufacturer, total, allocated)\n",
    "\n",
    "        validate_integer('cores', cores, 1)\n",
    "        validate_integer('power_watts', power_watts, 1)\n",
    "\n",
    "        self._cores = cores\n",
    "        self._socket = socket\n",
    "        self._power_watts = power_watts\n",
    "\n",
    "    @property\n",
    "    def cores(self):\n",
    "        return self._cores\n",
    "\n",
    "    @property\n",
    "    def socket(self):\n",
    "        return self._socket\n",
    "\n",
    "    @property\n",
    "    def power_watts(self):\n",
    "        return self._power_watts\n",
    "\n",
    "    def __repr__(self):\n",
    "        return f'{self.category}: {self.name} ({self.socket} - x{self.cores})'\n",
    "\n",
    "\n",
    "class Storage(Resource):\n",
    "    def __init__(self, name, manufacturer, total, allocated, capacity_gb):\n",
    "        \n",
    "        super().__init__(name, manufacturer, total, allocated)\n",
    "        validate_integer('capacity_gb', capacity_gb, 1)\n",
    "        self._capacity_gb = capacity_gb\n",
    "\n",
    "    @property\n",
    "    def capacity_gb(self):\n",
    "        return self._capacity_gb\n",
    "\n",
    "    def __repr__(self):\n",
    "        return f'{self.category}: {self.capacity_gb} GB'\n",
    "\n",
    "\n",
    "class HDD(Storage):\n",
    "    def __init__(\n",
    "            self, name, manufacturer, total, allocated, capacity_gb,\n",
    "            size, rpm\n",
    "    ):\n",
    "        super().__init__(name, manufacturer, total, allocated, capacity_gb)\n",
    "\n",
    "        allowed_sizes = ['2.5\"', '3.5\"']\n",
    "        if size not in allowed_sizes:\n",
    "            raise ValueError(f'Invalid HDD size. '\n",
    "                             f'Must be one of {\", \".join(allowed_sizes)}')\n",
    "        validate_integer('rpm', rpm, min_value=1_000, max_value=50_000)\n",
    "\n",
    "        self._size = size\n",
    "        self._rpm = rpm\n",
    "\n",
    "    @property\n",
    "    def size(self):\n",
    "        return self._size\n",
    "\n",
    "    @property\n",
    "    def rpm(self):\n",
    "        return self._rpm\n",
    "\n",
    "    def __repr__(self):\n",
    "        s = super().__repr__()\n",
    "        return f'{s} ({self.size}, {self.rpm} rpm)'\n",
    "\n",
    "\n",
    "class SSD(Storage):\n",
    "    def __init__(\n",
    "            self, name, manufacturer, total, allocated, capacity_gb,\n",
    "            interface\n",
    "    ):\n",
    "        super().__init__(name, manufacturer, total, allocated, capacity_gb)\n",
    "\n",
    "        self._interface = interface\n",
    "\n",
    "    @property\n",
    "    def interface(self):\n",
    "        return self._interface\n",
    "\n",
    "    def __repr__(self):\n",
    "        s = super().__repr__()\n",
    "        return f'{s} ({self.interface})'"
   ]
  },
  {
   "cell_type": "markdown",
   "id": "81fa6c26-afb6-4ad5-94ef-c652c94ba317",
   "metadata": {},
   "source": [
    "#### Tests Solution"
   ]
  },
  {
   "cell_type": "code",
   "execution_count": 5,
   "id": "5770a749-f2a0-4924-a940-c7a2268db08e",
   "metadata": {},
   "outputs": [],
   "source": [
    "# STEP 2"
   ]
  },
  {
   "cell_type": "code",
   "execution_count": 6,
   "id": "76e411e4-96d1-491d-8491-1139fe7e35a1",
   "metadata": {},
   "outputs": [],
   "source": [
    "import pytest\n",
    "import ipytest\n",
    "ipytest.autoconfig()"
   ]
  },
  {
   "cell_type": "markdown",
   "id": "1f81e058-6fba-40e9-a20b-824087c853d9",
   "metadata": {},
   "source": [
    "##### Validator"
   ]
  },
  {
   "cell_type": "code",
   "execution_count": 9,
   "id": "0e2c7b57-de2a-4dcd-83b9-565efd86ad86",
   "metadata": {},
   "outputs": [],
   "source": [
    "class TestIntegerValidator:\n",
    "    def test_valid(self):\n",
    "        validate_integer('arg', 10, 0, 20, 'custom min msg', 'custom max msg')\n",
    "\n",
    "    def test_type_error(self):\n",
    "        with pytest.raises(TypeError):\n",
    "            validate_integer('arg', 1.5)\n",
    "\n",
    "    def test_min_std_err_msg(self):\n",
    "        with pytest.raises(ValueError) as ex:\n",
    "            validate_integer('arg', 10, 100)\n",
    "        assert 'arg' in str(ex.value)\n",
    "        assert '100' in str(ex.value)\n",
    "\n",
    "    def test_min_custom_msg(self):\n",
    "        with pytest.raises(ValueError) as ex:\n",
    "            validate_integer('arg', 10, 100, custom_min_message='custom')\n",
    "        assert str(ex.value) == 'custom'\n",
    "\n",
    "    def test_max_std_err_msg(self):\n",
    "        with pytest.raises(ValueError) as ex:\n",
    "            validate_integer('arg', 10, 1, 5)\n",
    "        assert 'arg' in str(ex.value)\n",
    "        assert '5' in str(ex.value)\n",
    "\n",
    "    def test_max_custom_err_msg(self):\n",
    "        with pytest.raises(ValueError) as ex:\n",
    "            validate_integer('arg', 10, 1, 5, custom_max_message='custom')\n",
    "        assert str(ex.value) == 'custom'"
   ]
  },
  {
   "cell_type": "markdown",
   "id": "ee961cdc-6e4a-4500-8956-9dc007072443",
   "metadata": {},
   "source": [
    "##### Resource"
   ]
  },
  {
   "cell_type": "markdown",
   "id": "33f4da27-ed3d-4ac1-ad08-251580241923",
   "metadata": {},
   "source": [
    "Pytest fixtures are a flexible and powerful way to manage test setup and teardown, making your tests cleaner and more maintainable.\n",
    "\n",
    "The yield keyword is used to separate setup code from teardown code. Code before the yield runs before the test, and code after the yield runs after the test.\n",
    "\n",
    "\n",
    "To explain one example below: we apply the pytest fixture on the `resource_values` function marking it as a fixture which will be passed as an argument to one of our test functions.\n",
    "\n",
    "When this test function runs, it will call (inject) the fixture into the test function making whatever was returned from the fixture available to the test function.\n",
    "\n",
    "`test_create_resource` has the `resource` fixture as an argument. This will be called to return a `Resource` object. This object itself will call the `resource_values` fixture to populate the `Resource` parameters. "
   ]
  },
  {
   "cell_type": "code",
   "execution_count": 10,
   "id": "d814c9f1-8a26-4446-9399-bfe6c8781d18",
   "metadata": {},
   "outputs": [],
   "source": [
    "# STEP 4\n",
    "@pytest.fixture\n",
    "def resource_values():\n",
    "    return {\n",
    "        'name': 'Parrot',\n",
    "        'manufacturer': 'Pirates A-Hoy',\n",
    "        'total': 100,\n",
    "        'allocated': 50\n",
    "    }\n",
    "\n",
    "\n",
    "@pytest.fixture\n",
    "def resource(resource_values):\n",
    "    return Resource(**resource_values)\n",
    "\n",
    "\n",
    "def test_create_resource(resource_values, resource):\n",
    "    for attr_name in resource_values:\n",
    "        assert getattr(resource, attr_name) == resource_values.get(attr_name)\n",
    "\n",
    "\n",
    "def test_create_invalid_total_type():\n",
    "    with pytest.raises(TypeError):\n",
    "        Resource('Parrot', 'Pirates A-Hoy', 10.5, 5)\n",
    "\n",
    "\n",
    "def test_create_invalid_allocated_type():\n",
    "    with pytest.raises(TypeError):\n",
    "        Resource('name', 'manu', 10, 2.5)\n",
    "\n",
    "\n",
    "def test_create_invalid_total_value():\n",
    "    with pytest.raises(ValueError):\n",
    "        Resource('name', 'manu', -10, 0)\n"
   ]
  },
  {
   "cell_type": "markdown",
   "id": "cf54f36d-663d-4f3a-8388-8373f9692cba",
   "metadata": {},
   "source": [
    "`parametrize` allows us to call the same test function but with various arguments. \n",
    "\n",
    "In the first example below, we want to create a resource whose `total=10` and `allocated=-5`. \n",
    "\n",
    "Then, we want to create a resource whose `total=10` and `allocated=20`. \n",
    "\n",
    "We can do this in one shot with `parametrize`:\n",
    "\n",
    "For the first argument, we supply the names of these variable arguments as a comma-separated string.\n",
    "\n",
    "For the second argument, we supply an iterable of subiterables, where the subiterables are the argument pair to be unpacked as `total` and `allocated` in that order."
   ]
  },
  {
   "cell_type": "code",
   "execution_count": 11,
   "id": "7640f627-cf83-4ab2-a442-d39220712c6d",
   "metadata": {},
   "outputs": [],
   "source": [
    "@pytest.mark.parametrize('total,allocated', [(10, -5), (10, 20)])\n",
    "def test_create_invalid_allocated_value(total, allocated):\n",
    "    with pytest.raises(ValueError):\n",
    "        Resource('name', 'manu', total, allocated)\n",
    "\n",
    "\n",
    "def test_total(resource):\n",
    "    assert resource.total == resource._total\n",
    "\n",
    "\n",
    "def test_allocated(resource):\n",
    "    assert resource.allocated == resource._allocated\n",
    "\n",
    "\n",
    "def test_available(resource, resource_values):\n",
    "    assert resource.available == resource.total - resource.allocated\n",
    "\n",
    "\n",
    "def test_category(resource):\n",
    "    assert resource.category == 'resource'\n",
    "\n",
    "\n",
    "def test_str_repr(resource):\n",
    "    assert str(resource) == resource.name\n",
    "\n",
    "\n",
    "def test_repr_repr(resource):\n",
    "    assert repr(resource) == '{} ({} - {}) : total={}, allocated={}'.format(\n",
    "        resource.name, resource.category, resource.manufacturer, resource.total,\n",
    "        resource.allocated\n",
    "    )\n",
    "\n",
    "\n",
    "def test_claim(resource):\n",
    "    n = 2\n",
    "    original_total = resource.total\n",
    "    original_allocated = resource.allocated\n",
    "    resource.claim(n)\n",
    "    assert resource.total == original_total\n",
    "    assert resource.allocated == original_allocated + n\n",
    "\n",
    "\n",
    "@pytest.mark.parametrize('value', [-1, 0, 1_000])\n",
    "def test_claim_invalid(resource, value):\n",
    "    with pytest.raises(ValueError):\n",
    "        resource.claim(value)\n",
    "\n",
    "\n",
    "def test_freeup(resource):\n",
    "    n = 2\n",
    "    original_total = resource.total\n",
    "    original_allocated = resource.allocated\n",
    "    resource.freeup(n)\n",
    "    assert resource.allocated == original_allocated - n\n",
    "    assert resource.total == original_total\n",
    "\n",
    "\n",
    "@pytest.mark.parametrize('value', [-1, 0, 1_000])\n",
    "def test_freeup_invalid(resource, value):\n",
    "    with pytest.raises(ValueError):\n",
    "        resource.freeup(value)\n",
    "\n",
    "\n",
    "def test_died(resource):\n",
    "    n = 2\n",
    "    original_total = resource.total\n",
    "    original_allocated = resource.allocated\n",
    "    resource.died(n)\n",
    "    assert resource.total == original_total - n\n",
    "    assert resource.allocated == original_allocated - n\n",
    "\n",
    "\n",
    "@pytest.mark.parametrize('value', [-1, 0, 1_000])\n",
    "def test_died_invalid(resource, value):\n",
    "    with pytest.raises(ValueError):\n",
    "        resource.died(value)\n",
    "\n",
    "\n",
    "def test_purchased(resource):\n",
    "    n = 2\n",
    "    original_total = resource.total\n",
    "    original_allocated = resource.allocated\n",
    "    resource.purchased(n)\n",
    "    assert resource.total == original_total + n\n",
    "    assert resource.allocated == original_allocated\n",
    "\n",
    "\n",
    "@pytest.mark.parametrize('value', [-1, 0])\n",
    "def test_purchased_invalid(resource, value):\n",
    "    with pytest.raises(ValueError):\n",
    "        resource.purchased(value)"
   ]
  },
  {
   "cell_type": "markdown",
   "id": "f2956519-ce2a-4008-87c5-43e3a8995f29",
   "metadata": {},
   "source": [
    "##### CPU"
   ]
  },
  {
   "cell_type": "code",
   "execution_count": 12,
   "id": "b1cc1014-15f8-4b39-ba23-6c86215faa09",
   "metadata": {},
   "outputs": [],
   "source": [
    "# STEP 6\n",
    "@pytest.fixture\n",
    "def cpu_values():\n",
    "    return {\n",
    "        'name': 'RYZEN Threadripper 2990WX',\n",
    "        'manufacturer': 'AMD',\n",
    "        'total': 10,\n",
    "        'allocated': 3,\n",
    "        'cores': 32,\n",
    "        'socket': 'sTR4',\n",
    "        'power_watts': 250\n",
    "    }\n",
    "\n",
    "\n",
    "@pytest.fixture\n",
    "def cpu(cpu_values):\n",
    "    return CPU(**cpu_values)\n",
    "\n",
    "\n",
    "def test_create_cpu(cpu, cpu_values):\n",
    "    for attr_name in cpu_values:\n",
    "        assert getattr(cpu, attr_name) == cpu_values.get(attr_name)\n",
    "\n",
    "\n",
    "@pytest.mark.parametrize(\n",
    "    'cores, exception', [(10.5, TypeError), (-1, ValueError), (0, ValueError)]\n",
    ")\n",
    "def test_create_invalid_cores(cores, exception, cpu_values):\n",
    "    cpu_values['cores'] = cores\n",
    "    with pytest.raises(exception):\n",
    "        CPU(**cpu_values)\n",
    "\n",
    "\n",
    "@pytest.mark.parametrize(\n",
    "    'watts, exception', [(10.5, TypeError), (-1, ValueError), (0, ValueError)]\n",
    ")\n",
    "def test_create_invalid_power(watts, exception, cpu_values):\n",
    "    cpu_values['power_watts'] = watts\n",
    "    with pytest.raises(exception):\n",
    "        CPU(**cpu_values)\n",
    "\n",
    "\n",
    "def test_repr(cpu):\n",
    "    assert cpu.category in repr(cpu)\n",
    "    assert cpu.name in repr(cpu)\n",
    "    assert cpu.socket in repr(cpu)\n",
    "    assert str(cpu.cores) in repr(cpu)"
   ]
  },
  {
   "cell_type": "markdown",
   "id": "5494acce-73ef-40ca-b5f7-d13c8fd9f0d1",
   "metadata": {},
   "source": [
    "##### Storage"
   ]
  },
  {
   "cell_type": "code",
   "execution_count": 13,
   "id": "1c50f93b-3a14-4c46-8ef7-e518af94b86b",
   "metadata": {},
   "outputs": [],
   "source": [
    "@pytest.fixture\n",
    "def storage_values():\n",
    "    return {\n",
    "        'name': 'Thumbdrive',\n",
    "        'manufacturer': 'Sandisk',\n",
    "        'total': 10,\n",
    "        'allocated': 3,\n",
    "        'capacity_gb': 512\n",
    "    }\n",
    "\n",
    "\n",
    "@pytest.fixture\n",
    "def storage(storage_values):\n",
    "    return Storage(**storage_values)\n",
    "\n",
    "\n",
    "def test_create(storage, storage_values):\n",
    "    for attr_name in storage_values:\n",
    "        assert getattr(storage, attr_name) == storage_values.get(attr_name)\n",
    "\n",
    "\n",
    "@pytest.mark.parametrize(\n",
    "    'gb, exception', [(10.5, TypeError), (-1, ValueError), (0, ValueError)]\n",
    ")\n",
    "def test_create_invalid_storage(gb, exception, storage_values):\n",
    "    storage_values['capacity_gb'] = gb\n",
    "    with pytest.raises(exception):\n",
    "        Storage(**storage_values)\n",
    "\n",
    "\n",
    "def test_repr(storage):\n",
    "    assert storage.category in repr(storage)\n",
    "    assert str(storage.capacity_gb) in repr(storage)"
   ]
  },
  {
   "cell_type": "markdown",
   "id": "ce74ba5b-b124-4190-a316-a8175a41c339",
   "metadata": {},
   "source": [
    "##### SSD"
   ]
  },
  {
   "cell_type": "code",
   "execution_count": 7,
   "id": "0f61df42-97d9-41ff-aa96-f6aad7623513",
   "metadata": {},
   "outputs": [],
   "source": [
    "@pytest.fixture\n",
    "def ssd_values():\n",
    "    return {\n",
    "        'name': 'Samsung 860 EVO',\n",
    "        'manufacturer': 'Samsung',\n",
    "        'total': 10,\n",
    "        'allocated': 3,\n",
    "        'capacity_gb': 1_000,\n",
    "        'interface': 'SATA III'\n",
    "    }\n",
    "\n",
    "\n",
    "@pytest.fixture\n",
    "def ssd(ssd_values):\n",
    "    return SSD(**ssd_values)\n",
    "\n",
    "\n",
    "def test_create(ssd, ssd_values):\n",
    "    for attr_name in ssd_values:\n",
    "        assert getattr(ssd, attr_name) == ssd_values.get(attr_name)\n",
    "\n",
    "\n",
    "def test_repr(ssd):\n",
    "    assert ssd.category in repr(ssd)\n",
    "    assert str(ssd.capacity_gb) in repr(ssd)\n",
    "    assert ssd.interface in repr(ssd)"
   ]
  },
  {
   "cell_type": "markdown",
   "id": "648c9c94-4b6c-4e80-a1a1-3c0cebb148ab",
   "metadata": {},
   "source": [
    "##### HDD"
   ]
  },
  {
   "cell_type": "code",
   "execution_count": 14,
   "id": "75387166-95c4-4eac-8ba2-47f62732cde3",
   "metadata": {},
   "outputs": [],
   "source": [
    "@pytest.fixture\n",
    "def hdd_values():\n",
    "    return {\n",
    "        'name': '1TB SATA HDD',\n",
    "        'manufacturer': 'Seagate',\n",
    "        'total': 10,\n",
    "        'allocated': 3,\n",
    "        'capacity_gb': 1_000,\n",
    "        'size': '3.5\"',\n",
    "        'rpm': 10_000\n",
    "    }\n",
    "\n",
    "\n",
    "@pytest.fixture\n",
    "def hdd(hdd_values):\n",
    "    return HDD(**hdd_values)\n",
    "\n",
    "\n",
    "def test_create(hdd, hdd_values):\n",
    "    for attr_name in hdd_values:\n",
    "        assert getattr(hdd, attr_name) == hdd_values.get(attr_name)\n",
    "\n",
    "\n",
    "@pytest.mark.parametrize('size', ['2.5', '5.25\"'])\n",
    "def test_create_invalid_size(size, hdd_values):\n",
    "    hdd_values['size'] = size\n",
    "    with pytest.raises(ValueError):\n",
    "        HDD(**hdd_values)\n",
    "\n",
    "\n",
    "@pytest.mark.parametrize(\n",
    "    'rpm, exception',\n",
    "    [\n",
    "        ('100', TypeError),\n",
    "        (100, ValueError),\n",
    "        (100_000, ValueError)\n",
    "    ]\n",
    ")\n",
    "def test_create_invalid_rpm(rpm, exception, hdd_values):\n",
    "    hdd_values['rpm'] = rpm\n",
    "    with pytest.raises(exception):\n",
    "        HDD(**hdd_values)\n",
    "\n",
    "\n",
    "def test_repr(hdd):\n",
    "    assert hdd.category in repr(hdd)\n",
    "    assert str(hdd.capacity_gb) in repr(hdd)\n",
    "    assert hdd.size in repr(hdd)\n",
    "    assert str(hdd.rpm) in repr(hdd)"
   ]
  },
  {
   "cell_type": "markdown",
   "id": "335b67b7-494b-4600-a524-cb3413f68af8",
   "metadata": {},
   "source": [
    "##### Running the tests"
   ]
  },
  {
   "cell_type": "code",
   "execution_count": 15,
   "id": "8de1dda2-c94e-4470-8c3b-8288ec77be09",
   "metadata": {},
   "outputs": [
    {
     "name": "stdout",
     "output_type": "stream",
     "text": [
      "\u001b[32m.\u001b[0m\u001b[32m.\u001b[0m\u001b[32m.\u001b[0m\u001b[32m.\u001b[0m\u001b[32m.\u001b[0m\u001b[32m.\u001b[0m\u001b[32m.\u001b[0m\u001b[32m.\u001b[0m\u001b[32m.\u001b[0m\u001b[32m.\u001b[0m\u001b[32m.\u001b[0m\u001b[32m.\u001b[0m\u001b[32m.\u001b[0m\u001b[32m.\u001b[0m\u001b[32m.\u001b[0m\u001b[32m.\u001b[0m\u001b[32m.\u001b[0m\u001b[32m.\u001b[0m\u001b[32m.\u001b[0m\u001b[32m.\u001b[0m\u001b[32m.\u001b[0m\u001b[32m.\u001b[0m\u001b[32m.\u001b[0m\u001b[32m.\u001b[0m\u001b[32m.\u001b[0m\u001b[32m.\u001b[0m\u001b[32m.\u001b[0m\u001b[32m.\u001b[0m\u001b[32m.\u001b[0m\u001b[32m.\u001b[0m\u001b[32m.\u001b[0m\u001b[32m.\u001b[0m\u001b[32m.\u001b[0m\u001b[32m.\u001b[0m\u001b[32m.\u001b[0m\u001b[32m.\u001b[0m\u001b[32m.\u001b[0m\u001b[32m.\u001b[0m\u001b[32m.\u001b[0m\u001b[32m.\u001b[0m\u001b[32m.\u001b[0m\u001b[32m.\u001b[0m\u001b[32m.\u001b[0m\u001b[32m.\u001b[0m\u001b[32m.\u001b[0m\u001b[32m.\u001b[0m\u001b[32m.\u001b[0m\u001b[32m.\u001b[0m\u001b[32m.\u001b[0m\u001b[32m.\u001b[0m\u001b[32m                                           [100%]\u001b[0m\n",
      "\u001b[32m\u001b[32m\u001b[1m50 passed\u001b[0m\u001b[32m in 0.15s\u001b[0m\u001b[0m\n"
     ]
    },
    {
     "data": {
      "text/plain": [
       "<ExitCode.OK: 0>"
      ]
     },
     "execution_count": 15,
     "metadata": {},
     "output_type": "execute_result"
    }
   ],
   "source": [
    "ipytest.run()"
   ]
  }
 ],
 "metadata": {
  "kernelspec": {
   "display_name": "Python 3 (ipykernel)",
   "language": "python",
   "name": "python3"
  },
  "language_info": {
   "codemirror_mode": {
    "name": "ipython",
    "version": 3
   },
   "file_extension": ".py",
   "mimetype": "text/x-python",
   "name": "python",
   "nbconvert_exporter": "python",
   "pygments_lexer": "ipython3",
   "version": "3.10.4"
  }
 },
 "nbformat": 4,
 "nbformat_minor": 5
}
