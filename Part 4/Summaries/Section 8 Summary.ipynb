{
 "cells": [
  {
   "cell_type": "markdown",
   "id": "485abaeb-509c-4a86-9be6-faf6315d6ebc",
   "metadata": {},
   "source": [
    "# 01 - Descriptors"
   ]
  },
  {
   "cell_type": "markdown",
   "id": "856a5c6c-1f24-44a4-aee3-680845fb345e",
   "metadata": {},
   "source": [
    "These are the underpinning mechanism for properties, methods, slots, and even functions!"
   ]
  },
  {
   "cell_type": "markdown",
   "id": "26592279-fa6b-4680-9eea-1a94064dd9f9",
   "metadata": {},
   "source": [
    "Suppose we want a `Point2D` class whose coordinates must always be **integers**.\n",
    "\n",
    "Since plain attributes cannot guarantee this, we typically use `property` with getter and setter methods. After adding multiple properties, we end up with a lot of very similar boiler-plate code..\n",
    "\n",
    "What we would like is to have some class e.g. `IntegerValue` that defines these get and set methods according to how we want. Then, we could use a number of `IntegerValue` instances within our class and have them **bound** to our instance just like attributes."
   ]
  },
  {
   "cell_type": "markdown",
   "id": "cbcdd1da-a192-4aec-b306-345533db9791",
   "metadata": {},
   "source": [
    "The solution is the **descriptor protocol**.\n",
    "\n",
    "There are 4 main methods that make up the protocol - not all are required.\n",
    "- `__get__` -> `p.x`\n",
    "- `__set__` -> `p.x = 100`\n",
    "- `__delete__` -> `del p.x`\n",
    "- `__set_name__` -> new in Python 3.6 - we'll come back to this later."
   ]
  },
  {
   "cell_type": "markdown",
   "id": "c9d6f833-536c-4d15-9399-a3ad225ad473",
   "metadata": {},
   "source": [
    "There are two types of descriptors:\n",
    "\n",
    "- Non-data descriptors: Implement only `__get__` **only** (and optionally `__set_name__`).\n",
    "- Data descriptors: Implement `__set__` and/or `__delete__` (and often `__get__`).\n",
    "\n",
    "This distinction affects how Python accesses data."
   ]
  },
  {
   "cell_type": "markdown",
   "id": "20ffff9f-3f2e-4855-810a-cda1090053d5",
   "metadata": {},
   "source": [
    "#### Example 1"
   ]
  },
  {
   "cell_type": "markdown",
   "id": "576f6866-49d7-4335-a23f-8bb9ea0291b7",
   "metadata": {},
   "source": [
    "Let's create a simple non-data descriptor (don't worry about `instance` and `owner_class` for now):"
   ]
  },
  {
   "cell_type": "code",
   "execution_count": 10,
   "id": "0ea4515f-420f-4e2e-a342-28d7c4a4082f",
   "metadata": {},
   "outputs": [],
   "source": [
    "from datetime import datetime\n",
    "\n",
    "class TimeUTC:\n",
    "    def __get__(self, instance, owner_class):\n",
    "        return datetime.utcnow().isoformat()"
   ]
  },
  {
   "cell_type": "markdown",
   "id": "903b65e1-0952-44fe-ac42-6ea74eb50640",
   "metadata": {},
   "source": [
    "So `TimeUTC` is a class that implements the `__get__` method only, and is therefore considered a non-data descriptor."
   ]
  },
  {
   "cell_type": "markdown",
   "id": "a39a309b-d55d-481e-9762-bee338e3ffc9",
   "metadata": {},
   "source": [
    "We can now use it to create properties in other classes:"
   ]
  },
  {
   "cell_type": "code",
   "execution_count": 11,
   "id": "c53d6959-aa93-41f2-9ce0-fcb8bcb5f232",
   "metadata": {},
   "outputs": [],
   "source": [
    "class Logger:\n",
    "    current_time = TimeUTC()"
   ]
  },
  {
   "cell_type": "markdown",
   "id": "21e6f7d0-8572-43b9-8508-77b95145240a",
   "metadata": {},
   "source": [
    "Note that `current_time` is a class attribute:"
   ]
  },
  {
   "cell_type": "code",
   "execution_count": 12,
   "id": "c82ef978-9e8a-4f16-b594-4d0651585956",
   "metadata": {},
   "outputs": [
    {
     "data": {
      "text/plain": [
       "'2024-08-05T14:09:20.516021'"
      ]
     },
     "execution_count": 12,
     "metadata": {},
     "output_type": "execute_result"
    }
   ],
   "source": [
    "l = Logger()\n",
    "l.current_time"
   ]
  },
  {
   "cell_type": "markdown",
   "id": "ca045904-c9b0-4b73-8568-58c625e0ece3",
   "metadata": {},
   "source": [
    "This should seem quite odd. All `l.current_time` should do is return the (`repr` of our) `TimeUTC` instance. \n",
    "\n",
    "Instead it **calls** the `__get__` method.\n",
    "\n",
    "This works when we access the class attribute through the class itself:"
   ]
  },
  {
   "cell_type": "code",
   "execution_count": 13,
   "id": "53757299-d7b4-499d-9722-4e06f3f04bf0",
   "metadata": {},
   "outputs": [
    {
     "data": {
      "text/plain": [
       "'2024-08-05T14:09:20.875894'"
      ]
     },
     "execution_count": 13,
     "metadata": {},
     "output_type": "execute_result"
    }
   ],
   "source": [
    "Logger.current_time"
   ]
  },
  {
   "cell_type": "markdown",
   "id": "49560ef7-74b8-4d50-b929-32277fe1cb48",
   "metadata": {},
   "source": [
    "#### Example 2"
   ]
  },
  {
   "cell_type": "markdown",
   "id": "3b6f81cf-dd19-4434-9fbf-f5ff69846913",
   "metadata": {},
   "source": [
    "Lets create a `Deck` class that will return a **random** card from 2 to Ace and a **random** suit from the 4 suits. \n",
    "\n",
    "Since both attributes, card and suit, are effectively making a random choice from an iterable, we can cut down on the repeated code using a descriptor.\n",
    "\n",
    "We'll do this example both the traditional and the descriptor way to demonstrate their similarities/differences."
   ]
  },
  {
   "cell_type": "markdown",
   "id": "8fe7ca80-dc65-41eb-b045-3bc7cd6e5129",
   "metadata": {},
   "source": [
    "##### Traditional"
   ]
  },
  {
   "cell_type": "code",
   "execution_count": 14,
   "id": "e29c91a1-0304-4b61-b08a-244ba8e1e0d0",
   "metadata": {},
   "outputs": [],
   "source": [
    "from random import seed, choice"
   ]
  },
  {
   "cell_type": "code",
   "execution_count": 22,
   "id": "8a924620-aae7-4389-b945-f11bad21feb2",
   "metadata": {},
   "outputs": [
    {
     "name": "stdout",
     "output_type": "stream",
     "text": [
      "8 Club\n",
      "2 Diamond\n",
      "J Club\n",
      "8 Diamond\n",
      "9 Diamond\n"
     ]
    }
   ],
   "source": [
    "seed(0)\n",
    "\n",
    "class Deck:\n",
    "    @property\n",
    "    def card(self):\n",
    "        return choice(tuple('23456789JQKA') + ('10',))\n",
    "\n",
    "    @property\n",
    "    def suit(self):\n",
    "        return choice(('Spade', 'Heart', 'Diamond', 'Club'))\n",
    "\n",
    "d = Deck()\n",
    "\n",
    "for _ in range(5):\n",
    "    print(d.card, d.suit)"
   ]
  },
  {
   "cell_type": "markdown",
   "id": "e6d03588-3b67-4470-9bb7-97dc6ce0aaf5",
   "metadata": {},
   "source": [
    "##### Non-data Descriptor"
   ]
  },
  {
   "cell_type": "code",
   "execution_count": 24,
   "id": "97fece03-bd1a-405e-95a4-bc98f15b2aff",
   "metadata": {},
   "outputs": [
    {
     "name": "stdout",
     "output_type": "stream",
     "text": [
      "8 Club\n",
      "2 Diamond\n",
      "J Club\n",
      "8 Diamond\n",
      "9 Diamond\n"
     ]
    }
   ],
   "source": [
    "seed(0)\n",
    "\n",
    "class Choice:\n",
    "    def __init__(self, *choices):\n",
    "        self.choices = choices\n",
    "\n",
    "    def __get__(self, instance, owner_class):\n",
    "        return choice(self.choices)\n",
    "\n",
    "class Deck:\n",
    "    card = Choice(*'23456789JQKA', '10')\n",
    "    suit = Choice('Spade', 'Heart', 'Diamond', 'Club')\n",
    "\n",
    "d = Deck()\n",
    "\n",
    "for _ in range(5):\n",
    "    print(d.card, d.suit)"
   ]
  },
  {
   "cell_type": "markdown",
   "id": "8ed7523f-426a-4a21-987f-f8b87a5f98bd",
   "metadata": {},
   "source": [
    "So **non-data descriptors** are very similar to `property` without a lot of the boilerplate. \n",
    "\n",
    "**Non-data descriptors** are therefore very useful if we have several properties with very similar validation. The end result is a lot less code in the target class."
   ]
  },
  {
   "cell_type": "markdown",
   "id": "69c20051-d686-494f-ab71-963e04218364",
   "metadata": {},
   "source": [
    "# 02 - Getters and Setters"
   ]
  },
  {
   "cell_type": "markdown",
   "id": "0bda440d-f86e-4b2b-bbb7-79699cb392b8",
   "metadata": {},
   "source": [
    "In the previous subsection, we saw the two ways of accessing the attribute:"
   ]
  },
  {
   "cell_type": "markdown",
   "id": "6dc0c35c-8206-4ff4-a168-37355274e4ac",
   "metadata": {},
   "source": [
    "#### The `__get__` method"
   ]
  },
  {
   "cell_type": "code",
   "execution_count": 29,
   "id": "f460385a-9355-4b07-bcdf-87561b8ce752",
   "metadata": {},
   "outputs": [],
   "source": [
    "class TimeUTC:\n",
    "    def __get__(self, instance, owner_class):\n",
    "        return datetime.utcnow().isoformat()\n",
    "\n",
    "class Logger:\n",
    "    current_time = TimeUTC()"
   ]
  },
  {
   "cell_type": "code",
   "execution_count": 30,
   "id": "46b56fed-e9bd-4965-815d-8bc107a7433f",
   "metadata": {},
   "outputs": [
    {
     "data": {
      "text/plain": [
       "('2024-08-05T14:59:26.162925', '2024-08-05T14:59:26.162925')"
      ]
     },
     "execution_count": 30,
     "metadata": {},
     "output_type": "execute_result"
    }
   ],
   "source": [
    "l.current_time, Logger.current_time"
   ]
  },
  {
   "cell_type": "markdown",
   "id": "963385c1-3f73-4e87-a9bc-422a70a83c68",
   "metadata": {},
   "source": [
    "When `__get__` was called, we may want to know \n",
    "\n",
    "- which **instance** was used or `None` if called from the class.\n",
    "- what class owns the `TimeUTC` (descriptor) instance. In our case, it belongs to the `Logger` class.\n",
    "\n",
    "This is why we have the **signature**: `__get__(self, instance, owner_class)`\n",
    "\n",
    "(Note: A **signature** refers to the structure and components of a function or method definition, detailing how it can be called.)\n",
    "\n",
    "These components are passed into the `__get__` method when it's called. This means we can control the return based on whether it was \n",
    "- called from the class.\n",
    "- called from the instance."
   ]
  },
  {
   "cell_type": "markdown",
   "id": "55c45519-66a8-40b9-a85b-ab83b6e59469",
   "metadata": {},
   "source": [
    "Very often, we choose to:\n",
    "- return the descriptor `TimeUTC` **instance** when called from the **class** (`Logger`). This gives us an easy handle to the descriptor instance.\n",
    "- return the attribute **value** (`datetime.now()`) when called from an instance of the class (`l`)."
   ]
  },
  {
   "cell_type": "code",
   "execution_count": 31,
   "id": "9b04b395-bff7-4df0-ae4b-c9524cbf235e",
   "metadata": {},
   "outputs": [],
   "source": [
    "class TimeUTC:\n",
    "    def __get__(self, instance, owner_class):\n",
    "        if instance is None:\n",
    "            return self\n",
    "        return datetime.utcnow().isoformat()\n",
    "\n",
    "class Logger:\n",
    "    current_time = TimeUTC()"
   ]
  },
  {
   "cell_type": "code",
   "execution_count": 32,
   "id": "7a17b3ea-3312-4ee5-88fb-72b2cbaa5dcb",
   "metadata": {},
   "outputs": [
    {
     "data": {
      "text/plain": [
       "('2024-08-05T14:59:28.312074', <__main__.TimeUTC at 0x2a476fbb6a0>)"
      ]
     },
     "execution_count": 32,
     "metadata": {},
     "output_type": "execute_result"
    }
   ],
   "source": [
    "l.current_time, Logger.current_time"
   ]
  },
  {
   "cell_type": "markdown",
   "id": "3aa8ebdf-0b72-447e-bba3-d84dc12c53ea",
   "metadata": {},
   "source": [
    "Returning the descriptor instance when called from the class is consistent with how `property` works:"
   ]
  },
  {
   "cell_type": "code",
   "execution_count": 33,
   "id": "9d0695d0-367d-4a08-b5eb-895a601c7ef3",
   "metadata": {},
   "outputs": [
    {
     "data": {
      "text/plain": [
       "<property at 0x2a4771dd530>"
      ]
     },
     "execution_count": 33,
     "metadata": {},
     "output_type": "execute_result"
    }
   ],
   "source": [
    "class Logger:\n",
    "    @property\n",
    "    def current_time(self):\n",
    "        return datetime.utcnow().isoformat()\n",
    "\n",
    "Logger.current_time"
   ]
  },
  {
   "cell_type": "markdown",
   "id": "7aca27e8-a93c-4db2-949d-4845e6f3059c",
   "metadata": {},
   "source": [
    "So `property` **implements** the **descriptor protocol**. It might be a little easier to see if it's not used as a decorator:"
   ]
  },
  {
   "cell_type": "code",
   "execution_count": 37,
   "id": "b5838146-57aa-472a-b035-654f612a556b",
   "metadata": {},
   "outputs": [
    {
     "data": {
      "text/plain": [
       "(<property at 0x2a4771fc900>, '2024-08-05T15:32:03.094962')"
      ]
     },
     "execution_count": 37,
     "metadata": {},
     "output_type": "execute_result"
    }
   ],
   "source": [
    "class Logger:\n",
    "    def current_time(self):\n",
    "        return datetime.utcnow().isoformat()\n",
    "\n",
    "    current_time = property(fget=current_time)\n",
    "\n",
    "l = Logger()\n",
    "\n",
    "Logger.current_time, l.current_time"
   ]
  },
  {
   "cell_type": "markdown",
   "id": "d811f447-92e2-48c6-94fc-1d466d80394a",
   "metadata": {},
   "source": [
    "#### Caveat"
   ]
  },
  {
   "cell_type": "markdown",
   "id": "263d4c74-35e8-4638-95da-8ae3cc1330ae",
   "metadata": {},
   "source": [
    "There's an important caveat with these descriptors that we'll soon see as less of an issue.\n",
    "\n",
    "You'll notice that these descriptors are class attributes: `current_time = TimeUTC()`.\n",
    "\n",
    "Since only one instance of `TimeUTC` is being made, all `Logger` instances will share this one instance. \n",
    "\n",
    "For this particular example where we only get a constant value, there's no issue.\n",
    "\n",
    "But what if want to \"store\" and retrieve\" instance-specific data using `__set__`? After all, setting a value should be specific to the instance. \n",
    "\n",
    "In fact, this is not an issue because both the `__get__` and `__set__` methods need to know the `instance` and we can use this information to store instance-specific data.\n",
    "\n",
    "Let's demonstrate the issue with another example:"
   ]
  },
  {
   "cell_type": "code",
   "execution_count": 55,
   "id": "5b8ae6ba-2e47-4b1a-ba4b-77c42525f0a1",
   "metadata": {},
   "outputs": [],
   "source": [
    "class Countdown:\n",
    "    'non-data descriptor'\n",
    "    def __init__(self, start):\n",
    "        self.start = start + 1\n",
    "\n",
    "    def __get__(self, instance, owner):\n",
    "        if instance is None:\n",
    "            return self\n",
    "        self.start -= 1\n",
    "        return self.start"
   ]
  },
  {
   "cell_type": "code",
   "execution_count": 56,
   "id": "c2b43d7c-e7d9-4e31-8566-31859d2616d4",
   "metadata": {},
   "outputs": [],
   "source": [
    "class Rocket:\n",
    "    countdown = Countdown(10)"
   ]
  },
  {
   "cell_type": "code",
   "execution_count": 57,
   "id": "4836020d-2806-43f8-9bab-48c562896ba5",
   "metadata": {},
   "outputs": [],
   "source": [
    "rocket1 = Rocket()\n",
    "rocket2 = Rocket()"
   ]
  },
  {
   "cell_type": "code",
   "execution_count": 58,
   "id": "986d9368-875b-48a4-aa7d-cf1c5e5b9a53",
   "metadata": {},
   "outputs": [
    {
     "data": {
      "text/plain": [
       "(10, 9, 8, 7, 6)"
      ]
     },
     "execution_count": 58,
     "metadata": {},
     "output_type": "execute_result"
    }
   ],
   "source": [
    "rocket1.countdown, rocket1.countdown, rocket1.countdown, rocket1.countdown, rocket1.countdown,"
   ]
  },
  {
   "cell_type": "code",
   "execution_count": 59,
   "id": "5883b3d4-8b57-4ebd-87be-a9695814f644",
   "metadata": {},
   "outputs": [
    {
     "data": {
      "text/plain": [
       "5"
      ]
     },
     "execution_count": 59,
     "metadata": {},
     "output_type": "execute_result"
    }
   ],
   "source": [
    "rocket2.countdown"
   ]
  },
  {
   "cell_type": "markdown",
   "id": "d7076740-d895-45ed-ad3c-a6a958ae843b",
   "metadata": {},
   "source": [
    "#### The `__set__` method"
   ]
  },
  {
   "cell_type": "markdown",
   "id": "8bb02073-0ecb-4d43-b49d-5db3fb64716f",
   "metadata": {},
   "source": [
    "The signature is as follows: `__set__(self, instance, value)`\n",
    "- `self`: this references the descriptor instance, just like we had for the `__get__` example (e.g. `TimeUTC()`).\n",
    "- `instance`: the instance that the descriptor is *bound* to. This will be `None` if the descriptor was called from the class that the descriptor belongs to.\n",
    "- `value`: the value we want to assign to the attribute.\n",
    "\n",
    "Why is there no `owner_class` like we have in `__get__`?\n",
    "\n",
    "Setters (and deleters) are **always** called from instances. We never want to set a class attribute from an instance, we only want to affect the instance."
   ]
  },
  {
   "cell_type": "code",
   "execution_count": 60,
   "id": "a0bd8dec-4a0b-43a3-8a27-87ae40155274",
   "metadata": {},
   "outputs": [
    {
     "name": "stdout",
     "output_type": "stream",
     "text": [
      "__set__ called, instance=<__main__.Point2D object at 0x000002A4773ACFA0>, value=100\n"
     ]
    }
   ],
   "source": [
    "class IntegerValue:    \n",
    "    def __set__(self, instance, value):\n",
    "        print(f'__set__ called, instance={instance}, value={value}')\n",
    "\n",
    "class Point2D:\n",
    "    x = IntegerValue()\n",
    "\n",
    "p = Point2D()\n",
    "p.x = 100"
   ]
  },
  {
   "cell_type": "markdown",
   "id": "2b4cbc38-a963-45b9-8d59-5f8b8ec5c26f",
   "metadata": {},
   "source": [
    "The reason why I haven't elaborated on how to actually set the value for the instance is because its *not* straightforward.\n",
    "\n",
    "Currently, we are suffering from the caveat outlined earlier where different instances are sharing the same `IntegerValue` instance.\n",
    "\n",
    "We might naively think to set the value on the instance like `instance.x = value`, but we don't have access to the symbol `x`. So what symbol would we use? There's plenty of other issues to consider. \n",
    "\n",
    "The next subsection will explore the various solutions."
   ]
  },
  {
   "cell_type": "markdown",
   "id": "9c17087b-224f-4df3-8c81-0771bb9fbf19",
   "metadata": {},
   "source": [
    "# 03 - Using as Instance Properties"
   ]
  },
  {
   "cell_type": "markdown",
   "id": "0dc041ba-8884-494d-afc1-918773cf9441",
   "metadata": {},
   "source": [
    "# 04 - Strong and Weak References"
   ]
  },
  {
   "cell_type": "markdown",
   "id": "4cac0bfc-2d7b-4845-b611-14ef25f12017",
   "metadata": {},
   "source": [
    "# 05 - Back to Instance Properties"
   ]
  },
  {
   "cell_type": "markdown",
   "id": "cd79a1ab-cd55-41c3-9eff-c9aaa25b1bd2",
   "metadata": {},
   "source": [
    "# 06 - The __set_name__ Method"
   ]
  },
  {
   "cell_type": "markdown",
   "id": "f78661bd-ef21-4025-a328-314cc021ade5",
   "metadata": {},
   "source": [
    "# 07 - Property Lookup Resolution"
   ]
  },
  {
   "cell_type": "markdown",
   "id": "85f7d2a6-df87-4fd0-a673-abbadeabb329",
   "metadata": {},
   "source": [
    "# 08 - Properties and Descriptors"
   ]
  },
  {
   "cell_type": "markdown",
   "id": "5152d3dd-f456-4ab3-bbc9-ca24ebecf3ef",
   "metadata": {},
   "source": [
    "# 09 - Application - Example 1"
   ]
  },
  {
   "cell_type": "markdown",
   "id": "c4cd859d-7d6b-470d-8484-020379276d81",
   "metadata": {},
   "source": [
    "# 10 - Application - Example 2"
   ]
  },
  {
   "cell_type": "markdown",
   "id": "976ac581-146d-47de-a6b6-8ae4383d9928",
   "metadata": {},
   "source": [
    "# 11 - Functions and Descriptors"
   ]
  }
 ],
 "metadata": {
  "kernelspec": {
   "display_name": "Python 3 (ipykernel)",
   "language": "python",
   "name": "python3"
  },
  "language_info": {
   "codemirror_mode": {
    "name": "ipython",
    "version": 3
   },
   "file_extension": ".py",
   "mimetype": "text/x-python",
   "name": "python",
   "nbconvert_exporter": "python",
   "pygments_lexer": "ipython3",
   "version": "3.10.4"
  }
 },
 "nbformat": 4,
 "nbformat_minor": 5
}
