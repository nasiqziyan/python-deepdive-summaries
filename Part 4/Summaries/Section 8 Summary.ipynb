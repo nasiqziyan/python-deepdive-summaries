{
 "cells": [
  {
   "cell_type": "markdown",
   "id": "485abaeb-509c-4a86-9be6-faf6315d6ebc",
   "metadata": {},
   "source": [
    "# 01 - Descriptors"
   ]
  },
  {
   "cell_type": "markdown",
   "id": "856a5c6c-1f24-44a4-aee3-680845fb345e",
   "metadata": {},
   "source": [
    "These are the underpinning mechanism for properties, methods, slots, and even functions!"
   ]
  },
  {
   "cell_type": "markdown",
   "id": "26592279-fa6b-4680-9eea-1a94064dd9f9",
   "metadata": {},
   "source": [
    "Suppose we want a `Point2D` class whose coordinates must always be **integers**.\n",
    "\n",
    "Since plain attributes cannot guarantee this, we typically use `property` with getter and setter methods. After adding multiple properties, we end up with a lot of very similar boiler-plate code..\n",
    "\n",
    "What we would like is to have some class e.g. `IntegerValue` that defines these get and set methods according to how we want. Then, we could use a number of `IntegerValue` instances within our class and have them **bound** to our instance just like attributes."
   ]
  },
  {
   "cell_type": "markdown",
   "id": "cbcdd1da-a192-4aec-b306-345533db9791",
   "metadata": {},
   "source": [
    "The solution is the **descriptor protocol**.\n",
    "\n",
    "There are 4 main methods that make up the protocol - not all are required.\n",
    "- `__get__` -> `p.x`\n",
    "- `__set__` -> `p.x = 100`\n",
    "- `__delete__` -> `del p.x`\n",
    "- `__set_name__` -> new in Python 3.6 - we'll come back to this later."
   ]
  },
  {
   "cell_type": "markdown",
   "id": "c9d6f833-536c-4d15-9399-a3ad225ad473",
   "metadata": {},
   "source": [
    "There are two types of descriptors:\n",
    "\n",
    "- Non-data descriptors: Implement only `__get__` **only** (and optionally `__set_name__`). If called from an instance, return a bound method. Otherwise, return the descriptor itself.\n",
    "- Data descriptors: Implement `__set__` and/or `__delete__` (and often `__get__`).\n",
    "\n",
    "This distinction affects how Python accesses data."
   ]
  },
  {
   "cell_type": "markdown",
   "id": "20ffff9f-3f2e-4855-810a-cda1090053d5",
   "metadata": {},
   "source": [
    "#### Example 1"
   ]
  },
  {
   "cell_type": "markdown",
   "id": "576f6866-49d7-4335-a23f-8bb9ea0291b7",
   "metadata": {},
   "source": [
    "Let's create a simple non-data descriptor (don't worry about `instance` and `owner_class` for now):"
   ]
  },
  {
   "cell_type": "code",
   "execution_count": 10,
   "id": "0ea4515f-420f-4e2e-a342-28d7c4a4082f",
   "metadata": {},
   "outputs": [],
   "source": [
    "from datetime import datetime\n",
    "\n",
    "class TimeUTC:\n",
    "    def __get__(self, instance, owner_class):\n",
    "        return datetime.utcnow().isoformat()"
   ]
  },
  {
   "cell_type": "markdown",
   "id": "903b65e1-0952-44fe-ac42-6ea74eb50640",
   "metadata": {},
   "source": [
    "So `TimeUTC` is a class that implements the `__get__` method only, and is therefore considered a non-data descriptor."
   ]
  },
  {
   "cell_type": "markdown",
   "id": "a39a309b-d55d-481e-9762-bee338e3ffc9",
   "metadata": {},
   "source": [
    "We can now use it to create properties in other classes:"
   ]
  },
  {
   "cell_type": "code",
   "execution_count": 11,
   "id": "c53d6959-aa93-41f2-9ce0-fcb8bcb5f232",
   "metadata": {},
   "outputs": [],
   "source": [
    "class Logger:\n",
    "    current_time = TimeUTC()"
   ]
  },
  {
   "cell_type": "markdown",
   "id": "21e6f7d0-8572-43b9-8508-77b95145240a",
   "metadata": {},
   "source": [
    "Note that `current_time` is a class attribute:"
   ]
  },
  {
   "cell_type": "code",
   "execution_count": 12,
   "id": "c82ef978-9e8a-4f16-b594-4d0651585956",
   "metadata": {},
   "outputs": [
    {
     "data": {
      "text/plain": [
       "'2024-08-05T14:09:20.516021'"
      ]
     },
     "execution_count": 12,
     "metadata": {},
     "output_type": "execute_result"
    }
   ],
   "source": [
    "l = Logger()\n",
    "l.current_time"
   ]
  },
  {
   "cell_type": "markdown",
   "id": "ca045904-c9b0-4b73-8568-58c625e0ece3",
   "metadata": {},
   "source": [
    "This should seem quite odd. All `l.current_time` should do is return the (`repr` of our) `TimeUTC` instance. \n",
    "\n",
    "Instead it **calls** the `__get__` method.\n",
    "\n",
    "This works when we access the class attribute through the class itself:"
   ]
  },
  {
   "cell_type": "code",
   "execution_count": 13,
   "id": "53757299-d7b4-499d-9722-4e06f3f04bf0",
   "metadata": {},
   "outputs": [
    {
     "data": {
      "text/plain": [
       "'2024-08-05T14:09:20.875894'"
      ]
     },
     "execution_count": 13,
     "metadata": {},
     "output_type": "execute_result"
    }
   ],
   "source": [
    "Logger.current_time"
   ]
  },
  {
   "cell_type": "markdown",
   "id": "49560ef7-74b8-4d50-b929-32277fe1cb48",
   "metadata": {},
   "source": [
    "#### Example 2"
   ]
  },
  {
   "cell_type": "markdown",
   "id": "3b6f81cf-dd19-4434-9fbf-f5ff69846913",
   "metadata": {},
   "source": [
    "Lets create a `Deck` class that will return a **random** card from 2 to Ace and a **random** suit from the 4 suits. \n",
    "\n",
    "Since both attributes, card and suit, are effectively making a random choice from an iterable, we can cut down on the repeated code using a descriptor.\n",
    "\n",
    "We'll do this example both the traditional and the descriptor way to demonstrate their similarities/differences."
   ]
  },
  {
   "cell_type": "markdown",
   "id": "8fe7ca80-dc65-41eb-b045-3bc7cd6e5129",
   "metadata": {},
   "source": [
    "##### Traditional"
   ]
  },
  {
   "cell_type": "code",
   "execution_count": 14,
   "id": "e29c91a1-0304-4b61-b08a-244ba8e1e0d0",
   "metadata": {},
   "outputs": [],
   "source": [
    "from random import seed, choice"
   ]
  },
  {
   "cell_type": "code",
   "execution_count": 22,
   "id": "8a924620-aae7-4389-b945-f11bad21feb2",
   "metadata": {},
   "outputs": [
    {
     "name": "stdout",
     "output_type": "stream",
     "text": [
      "8 Club\n",
      "2 Diamond\n",
      "J Club\n",
      "8 Diamond\n",
      "9 Diamond\n"
     ]
    }
   ],
   "source": [
    "seed(0)\n",
    "\n",
    "class Deck:\n",
    "    @property\n",
    "    def card(self):\n",
    "        return choice(tuple('23456789JQKA') + ('10',))\n",
    "\n",
    "    @property\n",
    "    def suit(self):\n",
    "        return choice(('Spade', 'Heart', 'Diamond', 'Club'))\n",
    "\n",
    "d = Deck()\n",
    "\n",
    "for _ in range(5):\n",
    "    print(d.card, d.suit)"
   ]
  },
  {
   "cell_type": "markdown",
   "id": "e6d03588-3b67-4470-9bb7-97dc6ce0aaf5",
   "metadata": {},
   "source": [
    "##### Non-data Descriptor"
   ]
  },
  {
   "cell_type": "code",
   "execution_count": 24,
   "id": "97fece03-bd1a-405e-95a4-bc98f15b2aff",
   "metadata": {},
   "outputs": [
    {
     "name": "stdout",
     "output_type": "stream",
     "text": [
      "8 Club\n",
      "2 Diamond\n",
      "J Club\n",
      "8 Diamond\n",
      "9 Diamond\n"
     ]
    }
   ],
   "source": [
    "seed(0)\n",
    "\n",
    "class Choice:\n",
    "    def __init__(self, *choices):\n",
    "        self.choices = choices\n",
    "\n",
    "    def __get__(self, instance, owner_class):\n",
    "        return choice(self.choices)\n",
    "\n",
    "class Deck:\n",
    "    card = Choice(*'23456789JQKA', '10')\n",
    "    suit = Choice('Spade', 'Heart', 'Diamond', 'Club')\n",
    "\n",
    "d = Deck()\n",
    "\n",
    "for _ in range(5):\n",
    "    print(d.card, d.suit)"
   ]
  },
  {
   "cell_type": "markdown",
   "id": "8ed7523f-426a-4a21-987f-f8b87a5f98bd",
   "metadata": {},
   "source": [
    "So **non-data descriptors** are very similar to `property` without a lot of the boilerplate. \n",
    "\n",
    "**Non-data descriptors** are therefore very useful if we have several properties with very similar validation. The end result is a lot less code in the target class."
   ]
  },
  {
   "cell_type": "markdown",
   "id": "69c20051-d686-494f-ab71-963e04218364",
   "metadata": {},
   "source": [
    "# 02 - Getters and Setters"
   ]
  },
  {
   "cell_type": "markdown",
   "id": "0bda440d-f86e-4b2b-bbb7-79699cb392b8",
   "metadata": {},
   "source": [
    "In the previous subsection, we saw the two ways of accessing the attribute:"
   ]
  },
  {
   "cell_type": "markdown",
   "id": "6dc0c35c-8206-4ff4-a168-37355274e4ac",
   "metadata": {},
   "source": [
    "#### The `__get__` method"
   ]
  },
  {
   "cell_type": "code",
   "execution_count": 29,
   "id": "f460385a-9355-4b07-bcdf-87561b8ce752",
   "metadata": {},
   "outputs": [],
   "source": [
    "class TimeUTC:\n",
    "    def __get__(self, instance, owner_class):\n",
    "        return datetime.utcnow().isoformat()\n",
    "\n",
    "class Logger:\n",
    "    current_time = TimeUTC()"
   ]
  },
  {
   "cell_type": "code",
   "execution_count": 30,
   "id": "46b56fed-e9bd-4965-815d-8bc107a7433f",
   "metadata": {},
   "outputs": [
    {
     "data": {
      "text/plain": [
       "('2024-08-05T14:59:26.162925', '2024-08-05T14:59:26.162925')"
      ]
     },
     "execution_count": 30,
     "metadata": {},
     "output_type": "execute_result"
    }
   ],
   "source": [
    "l.current_time, Logger.current_time"
   ]
  },
  {
   "cell_type": "markdown",
   "id": "963385c1-3f73-4e87-a9bc-422a70a83c68",
   "metadata": {},
   "source": [
    "When `__get__` was called, we may want to know \n",
    "\n",
    "- which **instance** was used or `None` if called from the class.\n",
    "- what class owns the `TimeUTC` (descriptor) instance. In our case, it belongs to the `Logger` class.\n",
    "\n",
    "This is why we have the **signature**: `__get__(self, instance, owner_class)`\n",
    "\n",
    "(Note: A **signature** refers to the structure and components of a function or method definition, detailing how it can be called.)\n",
    "\n",
    "These components are passed into the `__get__` method when it's called. This means we can control the return based on whether it was \n",
    "- called from the class.\n",
    "- called from the instance."
   ]
  },
  {
   "cell_type": "markdown",
   "id": "55c45519-66a8-40b9-a85b-ab83b6e59469",
   "metadata": {},
   "source": [
    "Very often, we choose to:\n",
    "- return the descriptor `TimeUTC` **instance** when called from the **class** (`Logger`). This gives us an easy handle to the descriptor instance.\n",
    "- return the attribute **value** (`datetime.now()`) when called from an instance of the class (`l`)."
   ]
  },
  {
   "cell_type": "code",
   "execution_count": 31,
   "id": "9b04b395-bff7-4df0-ae4b-c9524cbf235e",
   "metadata": {},
   "outputs": [],
   "source": [
    "class TimeUTC:\n",
    "    def __get__(self, instance, owner_class):\n",
    "        if instance is None:\n",
    "            return self\n",
    "        return datetime.utcnow().isoformat()\n",
    "\n",
    "class Logger:\n",
    "    current_time = TimeUTC()"
   ]
  },
  {
   "cell_type": "code",
   "execution_count": 32,
   "id": "7a17b3ea-3312-4ee5-88fb-72b2cbaa5dcb",
   "metadata": {},
   "outputs": [
    {
     "data": {
      "text/plain": [
       "('2024-08-05T14:59:28.312074', <__main__.TimeUTC at 0x2a476fbb6a0>)"
      ]
     },
     "execution_count": 32,
     "metadata": {},
     "output_type": "execute_result"
    }
   ],
   "source": [
    "l.current_time, Logger.current_time"
   ]
  },
  {
   "cell_type": "markdown",
   "id": "3aa8ebdf-0b72-447e-bba3-d84dc12c53ea",
   "metadata": {},
   "source": [
    "Returning the descriptor instance when called from the class is consistent with how `property` works:"
   ]
  },
  {
   "cell_type": "code",
   "execution_count": 33,
   "id": "9d0695d0-367d-4a08-b5eb-895a601c7ef3",
   "metadata": {},
   "outputs": [
    {
     "data": {
      "text/plain": [
       "<property at 0x2a4771dd530>"
      ]
     },
     "execution_count": 33,
     "metadata": {},
     "output_type": "execute_result"
    }
   ],
   "source": [
    "class Logger:\n",
    "    @property\n",
    "    def current_time(self):\n",
    "        return datetime.utcnow().isoformat()\n",
    "\n",
    "Logger.current_time"
   ]
  },
  {
   "cell_type": "markdown",
   "id": "7aca27e8-a93c-4db2-949d-4845e6f3059c",
   "metadata": {},
   "source": [
    "So `property` **implements** the **descriptor protocol**. It might be a little easier to see if it's not used as a decorator:"
   ]
  },
  {
   "cell_type": "code",
   "execution_count": 37,
   "id": "b5838146-57aa-472a-b035-654f612a556b",
   "metadata": {},
   "outputs": [
    {
     "data": {
      "text/plain": [
       "(<property at 0x2a4771fc900>, '2024-08-05T15:32:03.094962')"
      ]
     },
     "execution_count": 37,
     "metadata": {},
     "output_type": "execute_result"
    }
   ],
   "source": [
    "class Logger:\n",
    "    def current_time(self):\n",
    "        return datetime.utcnow().isoformat()\n",
    "\n",
    "    current_time = property(fget=current_time)\n",
    "\n",
    "l = Logger()\n",
    "\n",
    "Logger.current_time, l.current_time"
   ]
  },
  {
   "cell_type": "markdown",
   "id": "d811f447-92e2-48c6-94fc-1d466d80394a",
   "metadata": {},
   "source": [
    "#### Caveat"
   ]
  },
  {
   "cell_type": "markdown",
   "id": "263d4c74-35e8-4638-95da-8ae3cc1330ae",
   "metadata": {},
   "source": [
    "There's an important caveat with these descriptors that we'll soon see as less of an issue.\n",
    "\n",
    "You'll notice that these descriptors are class attributes: `current_time = TimeUTC()`.\n",
    "\n",
    "Since only one instance of `TimeUTC` is being made, all `Logger` instances will share this one instance. \n",
    "\n",
    "For this particular example where we only get a constant value, there's no issue.\n",
    "\n",
    "But what if want to \"store\" and retrieve\" instance-specific data using `__set__`? After all, setting a value should be specific to the instance. \n",
    "\n",
    "In fact, this is not an issue because both the `__get__` and `__set__` methods need to know the `instance` and we can use this information to store instance-specific data.\n",
    "\n",
    "Let's demonstrate the issue with another example:"
   ]
  },
  {
   "cell_type": "code",
   "execution_count": 55,
   "id": "5b8ae6ba-2e47-4b1a-ba4b-77c42525f0a1",
   "metadata": {},
   "outputs": [],
   "source": [
    "class Countdown:\n",
    "    'non-data descriptor'\n",
    "    def __init__(self, start):\n",
    "        self.start = start + 1\n",
    "\n",
    "    def __get__(self, instance, owner):\n",
    "        if instance is None:\n",
    "            return self\n",
    "        self.start -= 1\n",
    "        return self.start"
   ]
  },
  {
   "cell_type": "code",
   "execution_count": 56,
   "id": "c2b43d7c-e7d9-4e31-8566-31859d2616d4",
   "metadata": {},
   "outputs": [],
   "source": [
    "class Rocket:\n",
    "    countdown = Countdown(10)"
   ]
  },
  {
   "cell_type": "code",
   "execution_count": 57,
   "id": "4836020d-2806-43f8-9bab-48c562896ba5",
   "metadata": {},
   "outputs": [],
   "source": [
    "rocket1 = Rocket()\n",
    "rocket2 = Rocket()"
   ]
  },
  {
   "cell_type": "code",
   "execution_count": 58,
   "id": "986d9368-875b-48a4-aa7d-cf1c5e5b9a53",
   "metadata": {},
   "outputs": [
    {
     "data": {
      "text/plain": [
       "(10, 9, 8, 7, 6)"
      ]
     },
     "execution_count": 58,
     "metadata": {},
     "output_type": "execute_result"
    }
   ],
   "source": [
    "rocket1.countdown, rocket1.countdown, rocket1.countdown, rocket1.countdown, rocket1.countdown,"
   ]
  },
  {
   "cell_type": "code",
   "execution_count": 59,
   "id": "5883b3d4-8b57-4ebd-87be-a9695814f644",
   "metadata": {},
   "outputs": [
    {
     "data": {
      "text/plain": [
       "5"
      ]
     },
     "execution_count": 59,
     "metadata": {},
     "output_type": "execute_result"
    }
   ],
   "source": [
    "rocket2.countdown"
   ]
  },
  {
   "cell_type": "markdown",
   "id": "d7076740-d895-45ed-ad3c-a6a958ae843b",
   "metadata": {},
   "source": [
    "#### The `__set__` method"
   ]
  },
  {
   "cell_type": "markdown",
   "id": "8bb02073-0ecb-4d43-b49d-5db3fb64716f",
   "metadata": {},
   "source": [
    "The signature is as follows: `__set__(self, instance, value)`\n",
    "- `self`: this references the descriptor instance, just like we had for the `__get__` example (e.g. `TimeUTC()`).\n",
    "- `instance`: the instance that the descriptor is *bound* to. This will be `None` if the descriptor was called from the class that the descriptor belongs to.\n",
    "- `value`: the value we want to assign to the attribute.\n",
    "\n",
    "Why is there no `owner_class` like we have in `__get__`?\n",
    "\n",
    "Setters (and deleters) are **always** called from instances. We never want to set a class attribute from an instance, we only want to affect the instance."
   ]
  },
  {
   "cell_type": "code",
   "execution_count": 60,
   "id": "a0bd8dec-4a0b-43a3-8a27-87ae40155274",
   "metadata": {},
   "outputs": [
    {
     "name": "stdout",
     "output_type": "stream",
     "text": [
      "__set__ called, instance=<__main__.Point2D object at 0x000002A4773ACFA0>, value=100\n"
     ]
    }
   ],
   "source": [
    "class IntegerValue:    \n",
    "    def __set__(self, instance, value):\n",
    "        print(f'__set__ called, instance={instance}, value={value}')\n",
    "\n",
    "class Point2D:\n",
    "    x = IntegerValue()\n",
    "\n",
    "p = Point2D()\n",
    "p.x = 100"
   ]
  },
  {
   "cell_type": "markdown",
   "id": "2b4cbc38-a963-45b9-8d59-5f8b8ec5c26f",
   "metadata": {},
   "source": [
    "The reason why I haven't elaborated on how to actually set the value for the instance is because its *not* straightforward.\n",
    "\n",
    "Currently, we are suffering from the caveat outlined earlier where different instances are sharing the same `IntegerValue` instance.\n",
    "\n",
    "We might naively think to set the value on the instance like `instance.x = value`, but we don't have access to the symbol `x`. So what symbol would we use? What if our class uses slots? Then we can't store things in the instance dictionary because we don't *have* an instance dictionary.\n",
    "\n",
    "There's plenty of other issues to consider.\n",
    "\n",
    "The next subsection will explore the various solutions."
   ]
  },
  {
   "cell_type": "markdown",
   "id": "9c17087b-224f-4df3-8c81-0771bb9fbf19",
   "metadata": {},
   "source": [
    "# 03 - Using as Instance Properties"
   ]
  },
  {
   "cell_type": "markdown",
   "id": "93743a78-0943-43d1-85a5-79aab2dd2c4b",
   "metadata": {},
   "source": [
    "#### Storing in descriptor's local dictionary"
   ]
  },
  {
   "cell_type": "markdown",
   "id": "bd4b342d-fc50-4bd1-b9fd-bc2dac10381b",
   "metadata": {},
   "source": [
    "We could store it as:\n",
    "\n",
    "key = object (problem if object is not hashable)\n",
    "\n",
    "value = attribute value"
   ]
  },
  {
   "cell_type": "code",
   "execution_count": 1,
   "id": "596a9e7e-4884-45cb-80e7-71d1ff8d7bfd",
   "metadata": {},
   "outputs": [],
   "source": [
    "class IntegerValue:\n",
    "    def __init__(self):\n",
    "        self.data = {}\n",
    "\n",
    "    def __set__(self, instance, value):\n",
    "        self.data[instance] = int(value)\n",
    "\n",
    "    def __get__(self, instance, owner):\n",
    "        if instance is None:\n",
    "            return self\n",
    "        return self.data.get(instance)"
   ]
  },
  {
   "cell_type": "code",
   "execution_count": 2,
   "id": "9e000884-acfc-4986-a548-0fe6480012ed",
   "metadata": {},
   "outputs": [
    {
     "data": {
      "text/plain": [
       "(100, 200)"
      ]
     },
     "execution_count": 2,
     "metadata": {},
     "output_type": "execute_result"
    }
   ],
   "source": [
    "class Point2D:\n",
    "    x = IntegerValue()\n",
    "    y = IntegerValue()\n",
    "\n",
    "\n",
    "p1 = Point2D()\n",
    "\n",
    "p1.x = 100.1\n",
    "p1.y = 200.2\n",
    "p1.x, p1.y"
   ]
  },
  {
   "cell_type": "markdown",
   "id": "d78d1376-a3ef-4fce-a1c3-c5e6f6f9efd5",
   "metadata": {},
   "source": [
    "We now essentially have a dictionary for each variable that's shared over all instances of this class."
   ]
  },
  {
   "cell_type": "code",
   "execution_count": 7,
   "id": "497ce450-84b1-44f3-8d79-111033fd68c1",
   "metadata": {},
   "outputs": [
    {
     "data": {
      "text/plain": [
       "{<__main__.Point2D at 0x2489f9cff10>: 100,\n",
       " <__main__.Point2D at 0x2489f9cf700>: 1000,\n",
       " <__main__.Point2D at 0x2489f9cffd0>: 10000}"
      ]
     },
     "execution_count": 7,
     "metadata": {},
     "output_type": "execute_result"
    }
   ],
   "source": [
    "p2 = Point2D()\n",
    "p2.x = 1000.1\n",
    "\n",
    "p3 = Point2D()\n",
    "p3.x = 10000.1\n",
    "\n",
    "Point2D.x.data"
   ]
  },
  {
   "cell_type": "markdown",
   "id": "4e77ecab-4a7e-4b4d-8d9c-d31dae68dfbb",
   "metadata": {},
   "source": [
    "But there's a subtle issue with this. \n",
    "\n",
    "After the line: `p = Point2D()`, we have **1 reference** to the object `p`.\n",
    "\n",
    "After `p.x = 100.1`, we store our instance in our dictionary and therefore have **2 references** to the object `p`.\n",
    "\n",
    "If we `del p`, we will delete the local symbol, but **not** the reference in the dictonary - we have a **memory leak**.\n",
    "\n",
    "The solution is to use **weak references**..."
   ]
  },
  {
   "cell_type": "markdown",
   "id": "0dc041ba-8884-494d-afc1-918773cf9441",
   "metadata": {},
   "source": [
    "# 04 - Strong and Weak References"
   ]
  },
  {
   "cell_type": "markdown",
   "id": "8875d312-55d9-49f0-a86e-9d15b59a5ddb",
   "metadata": {},
   "source": [
    "Throughout this entire course, we have only used **strong** references."
   ]
  },
  {
   "cell_type": "markdown",
   "id": "e642c13a-e79a-4fff-bb4b-248b5cf6de47",
   "metadata": {},
   "source": [
    "If we have:\n",
    "```python\n",
    "p1 = Person()\n",
    "p2 = p1\n",
    "```\n",
    "we have the following arrangement: `p1 ---> [Person Object] <--- p2`\n",
    "\n",
    "When we `del p1`, at least one **strong** reference remains, so the object is *not* garbage collected."
   ]
  },
  {
   "cell_type": "markdown",
   "id": "b71cb186-1931-49df-8747-1617c9121c41",
   "metadata": {},
   "source": [
    "A **weak** reference is another type of object in Python. It **does not affect the reference count as far as the memory manager is concerned**.\n",
    "\n",
    "Using a weak reference, we will have the following arrangement: `p1 --[strong]--> [Person Object] <--[weak]-- p2`\n",
    "\n",
    "`del p1` will result in **garbage collection** and `p2` will be considered **\"dead\"**.\n"
   ]
  },
  {
   "cell_type": "markdown",
   "id": "ce089c83-8212-4dd6-9790-934e31c8e8d7",
   "metadata": {},
   "source": [
    "So the solution in our code is to store a **weak** reference to the object as the key, rather than the object itself."
   ]
  },
  {
   "cell_type": "markdown",
   "id": "56145447-6c40-4507-a2dd-76527dec0af7",
   "metadata": {},
   "source": [
    "Here's how to **create** a weak reference."
   ]
  },
  {
   "cell_type": "code",
   "execution_count": 10,
   "id": "b91f0048-2855-46a0-bc54-e63ffff38500",
   "metadata": {},
   "outputs": [],
   "source": [
    "class Person:\n",
    "    pass"
   ]
  },
  {
   "cell_type": "code",
   "execution_count": 11,
   "id": "af4b4e6c-b6cd-4068-84a8-1ad4aeb7c83f",
   "metadata": {},
   "outputs": [
    {
     "data": {
      "text/plain": [
       "<weakref at 0x0000024F2A82BD30; to 'Person' at 0x0000024F295CC3A0>"
      ]
     },
     "execution_count": 11,
     "metadata": {},
     "output_type": "execute_result"
    }
   ],
   "source": [
    "import weakref\n",
    "\n",
    "p1 = Person()\n",
    "p2 = weakref.ref(p1)\n",
    "p2"
   ]
  },
  {
   "cell_type": "markdown",
   "id": "e358a3d2-361e-434b-a505-1133947b01b6",
   "metadata": {},
   "source": [
    "Our weak reference is now a **callable** which when called, Python will see if that object is still around and if so, will return it. Otherwise it will return `None`."
   ]
  },
  {
   "cell_type": "code",
   "execution_count": 12,
   "id": "9207e319-a6f3-44f0-bfeb-4f3c870c6237",
   "metadata": {},
   "outputs": [
    {
     "data": {
      "text/plain": [
       "<__main__.Person at 0x24f295cc3a0>"
      ]
     },
     "execution_count": 12,
     "metadata": {},
     "output_type": "execute_result"
    }
   ],
   "source": [
    "p2()"
   ]
  },
  {
   "cell_type": "markdown",
   "id": "4be9bf91-354a-45fd-93ee-8ddfcfcec6c5",
   "metadata": {},
   "source": [
    "Going back to our original problem, we can now store all of these **weak** references in a dictionary. \n",
    "\n",
    "But, `weakref` has a `WeakKeyDictionary` just for that! \n",
    "\n",
    "This is far more convenient to use for two reasons:\n",
    "\n",
    "1. We don't need to create the weak reference ourselves. Instead, we pass our strong reference as the key and this dictionary will **automatically convert** it into a **weak** reference.\n",
    "2. The item is **automatically removed** from the weak key dictionary once the object is **dead**."
   ]
  },
  {
   "cell_type": "code",
   "execution_count": 13,
   "id": "a7cb1d93-17dc-4b83-9120-c26604b9a8cc",
   "metadata": {},
   "outputs": [],
   "source": [
    "from weakref import WeakKeyDictionary\n",
    "\n",
    "p1 = Person()\n",
    "d = WeakKeyDictionary()\n",
    "d[p1] = 'some value'"
   ]
  },
  {
   "cell_type": "markdown",
   "id": "19f4595e-a7cc-4840-845b-ce131e77738d",
   "metadata": {},
   "source": [
    "While `d.keys()` returns the actual objects, we can find the **weak** references via `d.keyrefs()`: (I am not running `list(d.keys())` because that list will store *another* reference to `p1` which will mess up reference counting later.)"
   ]
  },
  {
   "cell_type": "code",
   "execution_count": 14,
   "id": "717df5cd-72b7-4d0f-a4c2-bf064e723ee3",
   "metadata": {},
   "outputs": [
    {
     "data": {
      "text/plain": [
       "[<weakref at 0x0000024F293F6020; to 'Person' at 0x0000024F2A7C64A0>]"
      ]
     },
     "execution_count": 14,
     "metadata": {},
     "output_type": "execute_result"
    }
   ],
   "source": [
    "d.keyrefs()"
   ]
  },
  {
   "cell_type": "code",
   "execution_count": 15,
   "id": "b90eb3d0-cb29-49df-a380-d97d3296a510",
   "metadata": {},
   "outputs": [
    {
     "name": "stdout",
     "output_type": "stream",
     "text": [
      "1\n"
     ]
    }
   ],
   "source": [
    "import weakref\n",
    "print(weakref.getweakrefcount(p1))"
   ]
  },
  {
   "cell_type": "markdown",
   "id": "b98c7441-ea84-44f3-acb7-a22087f8653f",
   "metadata": {},
   "source": [
    "Where is Python getting this information?\n",
    "\n",
    "It's actually stored in the object itself! But this is an internal implementation (as a doubly-linked list) so we can't do much with it."
   ]
  },
  {
   "cell_type": "code",
   "execution_count": 16,
   "id": "dc1bc33a-5e33-4a5b-9556-2458e09180e0",
   "metadata": {},
   "outputs": [
    {
     "data": {
      "text/plain": [
       "<weakref at 0x0000024F293F6020; to 'Person' at 0x0000024F2A7C64A0>"
      ]
     },
     "execution_count": 16,
     "metadata": {},
     "output_type": "execute_result"
    }
   ],
   "source": [
    "p1.__weakref__"
   ]
  },
  {
   "cell_type": "markdown",
   "id": "37fb85f8-94a3-4617-a6ea-52f41933de90",
   "metadata": {},
   "source": [
    "Let's delete this reference just to confirm that the `WeakKeyDictionary` handles the cleanup:"
   ]
  },
  {
   "cell_type": "code",
   "execution_count": 17,
   "id": "6933e210-094e-4a80-9cc0-ba6d19b6c18c",
   "metadata": {},
   "outputs": [],
   "source": [
    "del p1"
   ]
  },
  {
   "cell_type": "code",
   "execution_count": 18,
   "id": "59b1115f-77df-4725-bbf5-29a4a6dd930e",
   "metadata": {},
   "outputs": [
    {
     "name": "stdout",
     "output_type": "stream",
     "text": [
      "[]\n",
      "[]\n"
     ]
    }
   ],
   "source": [
    "print(list(d.keys()))\n",
    "print(d.keyrefs())"
   ]
  },
  {
   "cell_type": "markdown",
   "id": "67fcf161-8859-45c1-907d-d7897f568e0e",
   "metadata": {},
   "source": [
    "**Caveat**\n",
    "- If we use **slots**, then we won't have an instance dictionary so we'd be unable to have a `.__weakref__` key.\n",
    "\n",
    "- The object must be hashable, so if we implement `__eq__`, we must remember to implement `__hash__` too.\n",
    "\n",
    "- We cannot create weak references for most types. This includes: `str`, `list`, `int`, `dict`.\n",
    "\n"
   ]
  },
  {
   "cell_type": "code",
   "execution_count": 19,
   "id": "3f0c5c60-4ab5-4054-81b0-75428c1744fd",
   "metadata": {},
   "outputs": [
    {
     "ename": "TypeError",
     "evalue": "cannot create weak reference to 'list' object",
     "output_type": "error",
     "traceback": [
      "\u001b[1;31m---------------------------------------------------------------------------\u001b[0m",
      "\u001b[1;31mTypeError\u001b[0m                                 Traceback (most recent call last)",
      "Cell \u001b[1;32mIn[19], line 2\u001b[0m\n\u001b[0;32m      1\u001b[0m l \u001b[38;5;241m=\u001b[39m [\u001b[38;5;241m1\u001b[39m, \u001b[38;5;241m2\u001b[39m, \u001b[38;5;241m3\u001b[39m]\n\u001b[1;32m----> 2\u001b[0m w \u001b[38;5;241m=\u001b[39m \u001b[43mweakref\u001b[49m\u001b[38;5;241;43m.\u001b[39;49m\u001b[43mref\u001b[49m\u001b[43m(\u001b[49m\u001b[43ml\u001b[49m\u001b[43m)\u001b[49m\n",
      "\u001b[1;31mTypeError\u001b[0m: cannot create weak reference to 'list' object"
     ]
    }
   ],
   "source": [
    "l = [1, 2, 3]\n",
    "w = weakref.ref(l)"
   ]
  },
  {
   "cell_type": "code",
   "execution_count": 20,
   "id": "432ee7e0-7b80-4a39-b257-0adef2972d39",
   "metadata": {},
   "outputs": [
    {
     "ename": "TypeError",
     "evalue": "cannot create weak reference to 'str' object",
     "output_type": "error",
     "traceback": [
      "\u001b[1;31m---------------------------------------------------------------------------\u001b[0m",
      "\u001b[1;31mTypeError\u001b[0m                                 Traceback (most recent call last)",
      "Cell \u001b[1;32mIn[20], line 2\u001b[0m\n\u001b[0;32m      1\u001b[0m d \u001b[38;5;241m=\u001b[39m WeakKeyDictionary()\n\u001b[1;32m----> 2\u001b[0m \u001b[43md\u001b[49m\u001b[43m[\u001b[49m\u001b[38;5;124;43m'\u001b[39;49m\u001b[38;5;124;43mpython\u001b[39;49m\u001b[38;5;124;43m'\u001b[39;49m\u001b[43m]\u001b[49m \u001b[38;5;241m=\u001b[39m \u001b[38;5;124m'\u001b[39m\u001b[38;5;124msome value\u001b[39m\u001b[38;5;124m'\u001b[39m\n",
      "File \u001b[1;32m~\\AppData\\Local\\Programs\\Python\\Python310\\lib\\weakref.py:429\u001b[0m, in \u001b[0;36mWeakKeyDictionary.__setitem__\u001b[1;34m(self, key, value)\u001b[0m\n\u001b[0;32m    428\u001b[0m \u001b[38;5;28;01mdef\u001b[39;00m \u001b[38;5;21m__setitem__\u001b[39m(\u001b[38;5;28mself\u001b[39m, key, value):\n\u001b[1;32m--> 429\u001b[0m     \u001b[38;5;28mself\u001b[39m\u001b[38;5;241m.\u001b[39mdata[\u001b[43mref\u001b[49m\u001b[43m(\u001b[49m\u001b[43mkey\u001b[49m\u001b[43m,\u001b[49m\u001b[43m \u001b[49m\u001b[38;5;28;43mself\u001b[39;49m\u001b[38;5;241;43m.\u001b[39;49m\u001b[43m_remove\u001b[49m\u001b[43m)\u001b[49m] \u001b[38;5;241m=\u001b[39m value\n",
      "\u001b[1;31mTypeError\u001b[0m: cannot create weak reference to 'str' object"
     ]
    }
   ],
   "source": [
    "d = WeakKeyDictionary()\n",
    "d['python'] = 'some value'"
   ]
  },
  {
   "cell_type": "markdown",
   "id": "4cac0bfc-2d7b-4845-b611-14ef25f12017",
   "metadata": {},
   "source": [
    "# 05 - Back to Instance Properties"
   ]
  },
  {
   "cell_type": "markdown",
   "id": "b40e6b6e-456b-4e65-b7c0-66fe80f2bf4b",
   "metadata": {},
   "source": [
    "#### Penultimate \"Good Enough\" Solution"
   ]
  },
  {
   "cell_type": "markdown",
   "id": "f38d9df5-9a1e-4214-b6e9-0fb7ea1593d8",
   "metadata": {},
   "source": [
    "This is our **Penultimate Approach** of implementing **data descriptors** that:\n",
    "- have **instance specific** storage\n",
    "- do not use the instance itself for storage (`__slots__` problem)\n",
    "- handles cleanup after objects get **finalised** (i.e. garbage collected)\n",
    "\n",
    "but cannot:\n",
    "- handle **non-hashable** instances.\n",
    "\n",
    "This approach will be fine for 99% of cases."
   ]
  },
  {
   "cell_type": "code",
   "execution_count": 3,
   "id": "4a695846-71f7-4406-9dab-711e76cf6848",
   "metadata": {},
   "outputs": [],
   "source": [
    "from weakref import WeakKeyDictionary\n",
    "\n",
    "class IntegerValue:\n",
    "    def __init__(self):\n",
    "        self.data = WeakKeyDictionary()\n",
    "\n",
    "    def __set__(self, instance, value):\n",
    "        self.data[instance] = int(value)\n",
    "\n",
    "    def __get__(self, instance, owner):\n",
    "        if instance is None:\n",
    "            return self\n",
    "        return self.data.get(instance)"
   ]
  },
  {
   "cell_type": "code",
   "execution_count": 4,
   "id": "8735f732-e8f2-4ea9-ab44-5de307e9f917",
   "metadata": {},
   "outputs": [
    {
     "data": {
      "text/plain": [
       "100"
      ]
     },
     "execution_count": 4,
     "metadata": {},
     "output_type": "execute_result"
    }
   ],
   "source": [
    "class Point2D:\n",
    "    x = IntegerValue()\n",
    "    \n",
    "    def __init__(self, x):\n",
    "        self.x = x  # this is calling x.__set__\n",
    "\n",
    "p1 = Point2D(100.1)\n",
    "p1.x"
   ]
  },
  {
   "cell_type": "code",
   "execution_count": 5,
   "id": "0994c50a-0ded-4864-a25c-a5cb98ebbb17",
   "metadata": {},
   "outputs": [],
   "source": [
    "del p1"
   ]
  },
  {
   "cell_type": "code",
   "execution_count": 6,
   "id": "d7b5281d-013a-4d30-bba4-210c9366c010",
   "metadata": {},
   "outputs": [
    {
     "data": {
      "text/plain": [
       "[]"
      ]
     },
     "execution_count": 6,
     "metadata": {},
     "output_type": "execute_result"
    }
   ],
   "source": [
    "list(Point2D.x.data)"
   ]
  },
  {
   "cell_type": "markdown",
   "id": "e0f8db70-8c5c-4eb8-bc00-2e3eedf5b517",
   "metadata": {},
   "source": [
    "**Note** that, there is one extra improvement that can be made which is to implement `__set_name__`. See subsection 6 for understanding how this works in more detail."
   ]
  },
  {
   "cell_type": "code",
   "execution_count": 12,
   "id": "028a3b58-0a2f-4c74-b0e9-c7967ce2bb4e",
   "metadata": {},
   "outputs": [],
   "source": [
    "from weakref import WeakKeyDictionary\n",
    "\n",
    "class IntegerValue:\n",
    "    def __set__(self, instance, value):\n",
    "        instance.__dict__[self.property_name] = int(value)\n",
    "\n",
    "    def __set_name__(self, owner_class, property_name):\n",
    "        self.property_name = property_name\n",
    "\n",
    "    def __get__(self, instance, owner):\n",
    "        if instance is None:\n",
    "            return self\n",
    "        return instance.__dict__.get(self.property_name, None)"
   ]
  },
  {
   "cell_type": "code",
   "execution_count": 15,
   "id": "28457525-aeac-4acb-87ce-dd88c5690a8d",
   "metadata": {},
   "outputs": [
    {
     "data": {
      "text/plain": [
       "100"
      ]
     },
     "execution_count": 15,
     "metadata": {},
     "output_type": "execute_result"
    }
   ],
   "source": [
    "class Point2D:\n",
    "    x = IntegerValue()\n",
    "    \n",
    "    def __init__(self, x):\n",
    "        self.x = x  # this is calling x.__set__\n",
    "\n",
    "p1 = Point2D(100.1)\n",
    "p1.x"
   ]
  },
  {
   "cell_type": "markdown",
   "id": "2d8203ec-3cad-4286-8e80-73e21adf44d6",
   "metadata": {},
   "source": [
    "#### Final Perfect Solution"
   ]
  },
  {
   "cell_type": "markdown",
   "id": "f31bf9d4-acae-4cd5-8f10-0be51a86125f",
   "metadata": {},
   "source": [
    "Before we can implement the perfect solution, we need to learn about once extra thing.\n",
    "\n",
    "`weakref.ref()` has an additional parameter, that takes a **callable**. \n",
    "\n",
    "This **callable** receives the **weak reference**, *not* the object to it, and is called immediately after the object is garbage collected; if there's **at least one** reference remaining, this callable *won't* be called. This is how the `WeakRefDictionary` knows when to remove the weak reference from the dictionary - presumably the callable is going into the dictionary and removing it. We will use this mechanism to remove **dead** references from our regular dictionary instead of using a `WeakRefDictionary`\n",
    "\n",
    "Let's show a simple demonstration of how it works:"
   ]
  },
  {
   "cell_type": "code",
   "execution_count": 20,
   "id": "f4315017-3d56-4ee6-afd9-fad92f583903",
   "metadata": {},
   "outputs": [],
   "source": [
    "import weakref\n",
    "\n",
    "def obj_destroyed(obj):\n",
    "    print(f'{obj} has just been destroyed.')\n",
    "\n",
    "p = Point2D(100.1)\n",
    "p_weak = weakref.ref(p, obj_destroyed)"
   ]
  },
  {
   "cell_type": "code",
   "execution_count": 21,
   "id": "f3e8ceda-3a2a-4958-8005-c476d0b2e1ae",
   "metadata": {},
   "outputs": [
    {
     "name": "stdout",
     "output_type": "stream",
     "text": [
      "<weakref at 0x000001E1F2666D40; dead> has just been destroyed.\n"
     ]
    }
   ],
   "source": [
    "del p"
   ]
  },
  {
   "cell_type": "markdown",
   "id": "bc840d51-0748-4caa-b45e-e12dc913e4ca",
   "metadata": {},
   "source": [
    "Now we can move onto our **Perfect Approach** of implementing **data descriptors** that:\n",
    "- have **instance specific** storage\n",
    "- do not use the instance itself for storage (`__slots__` problem)\n",
    "- handles cleanup after objects get **finalised** (i.e. garbage collected)\n",
    "- handles **non-hashable** instances."
   ]
  },
  {
   "cell_type": "markdown",
   "id": "81bf474d-9fdd-461a-bded-2a503c705f6d",
   "metadata": {},
   "source": [
    "To implement this we need to:\n",
    "1. Use a **regular** dictionary instead of a **WeakRefDictionary**.\n",
    "2. Use the `id` of an instance as the key (because it's unique), not a weak reference to it. Note that the `id` value of an object is **not** a strong reference to the obect itself.\n",
    "3. Instead of storing just the value, we will store a `tuple` containing the value *and* a **weak reference**. This **weak reference** will take an additional parameter called `self._finalise_instance` which will be responsible for eventually removing the associated key from the dictionary upon **finalisation**.\n",
    "4. Create a method called `self._finalise_instance` which will receive the weak object and then iterate through all values in our dictionary until it finds the tuple containing the **same** weak reference (reverse lookup). Once this has been found, delete the associated key.\n",
    "5. Get the desired value back via the instance's `id`. This will return a `tuple` so ensure you return the 2nd value in it.\n",
    "6. If your class `Point2D` uses **slots**, make sure to add `'__weakref__`' to the `__slots__` attribute. This will enable use to make **weak** references of instances of this class."
   ]
  },
  {
   "cell_type": "code",
   "execution_count": 41,
   "id": "b4048952-2d02-40b5-82c6-d228415b34db",
   "metadata": {},
   "outputs": [],
   "source": [
    "import weakref\n",
    "\n",
    "class IntegerValue:\n",
    "    def __init__(self):\n",
    "        self.data = {}\n",
    "\n",
    "    def __set__(self, instance, value):\n",
    "        self.data[id(instance)] = (weakref.ref(instance, self._finalise_instance), int(value))\n",
    "\n",
    "    def __get__(self, instance, owner):\n",
    "        if instance is None:\n",
    "            return self\n",
    "        value_tuple = self.data.get(id(instance))\n",
    "        return value_tuple[1]\n",
    "\n",
    "    def _finalise_instance(self, weak_ref):\n",
    "        for key, value in self.data.items():\n",
    "            if value[0] is weak_ref:\n",
    "                del self.data[key]\n",
    "                break\n"
   ]
  },
  {
   "cell_type": "code",
   "execution_count": 42,
   "id": "c2d95cdd-11e1-46b9-ac6f-f57ca4517c3b",
   "metadata": {},
   "outputs": [
    {
     "data": {
      "text/plain": [
       "100"
      ]
     },
     "execution_count": 42,
     "metadata": {},
     "output_type": "execute_result"
    }
   ],
   "source": [
    "class Point2D:\n",
    "    __slots__ = '__weakref__',\n",
    "    x = IntegerValue()\n",
    "    \n",
    "    def __init__(self, x, y=None):\n",
    "        self.x = x  # this is calling x.__set__\n",
    "\n",
    "    def __eq__(self, other):  # class no longer hashable as __hash__ hasn't been implemented.\n",
    "        return isinstance(other, Point) and self.x == other.x\n",
    "\n",
    "p1 = Point2D(100.1)\n",
    "p1.x"
   ]
  },
  {
   "cell_type": "code",
   "execution_count": 43,
   "id": "5eb147be-74d2-4c9a-ba00-5ae842cd6858",
   "metadata": {},
   "outputs": [],
   "source": [
    "del p1"
   ]
  },
  {
   "cell_type": "code",
   "execution_count": 44,
   "id": "01d1cf3f-281e-451c-80a3-b1ee97250ec4",
   "metadata": {},
   "outputs": [
    {
     "data": {
      "text/plain": [
       "[]"
      ]
     },
     "execution_count": 44,
     "metadata": {},
     "output_type": "execute_result"
    }
   ],
   "source": [
    "list(Point2D.x.data)"
   ]
  },
  {
   "cell_type": "markdown",
   "id": "3b380858-a7d7-4d5e-a53b-ca7e6797c473",
   "metadata": {},
   "source": [
    "#### Practical Example"
   ]
  },
  {
   "cell_type": "markdown",
   "id": "cba1fad8-d539-469b-9d71-adf83763f500",
   "metadata": {},
   "source": [
    "Below is an example that will demonstrate how descriptors result in much simpler code compared to creating numerous properties which all call the same refactored method:"
   ]
  },
  {
   "cell_type": "code",
   "execution_count": 1,
   "id": "785dad63-2a7e-4f5d-856a-eceb76ab8d06",
   "metadata": {},
   "outputs": [],
   "source": [
    "import weakref\n",
    "\n",
    "class ValidString:\n",
    "    def __init__(self, min_length=0, max_length=255):\n",
    "        self.data = {}\n",
    "        self._min_length = min_length\n",
    "        self._max_length = max_length\n",
    "        \n",
    "    def __set__(self, instance, value):\n",
    "        if not isinstance(value, str):\n",
    "            raise ValueError('Value must be a string.')\n",
    "        if len(value) < self._min_length:\n",
    "            raise ValueError(\n",
    "                f'Value should be at least {self._min_length} characters.'\n",
    "            )\n",
    "        if len(value) > self._max_length:\n",
    "            raise ValueError(\n",
    "                f'Value cannot exceed {self._max_length} characters.'\n",
    "            )\n",
    "        self.data[id(instance)] = (weakref.ref(instance, self._finalize_instance), value)\n",
    "        \n",
    "    def __get__(self, instance, owner_class):\n",
    "        if instance is None:\n",
    "            return self\n",
    "        else:\n",
    "            value_tuple = self.data.get(id(instance))\n",
    "            return value_tuple[1]  \n",
    "        \n",
    "    def _finalize_instance(self, weak_ref):\n",
    "        for key, value in self.data.items():\n",
    "            if value[0] is weak_ref:\n",
    "                del self.data[key]\n",
    "                break"
   ]
  },
  {
   "cell_type": "markdown",
   "id": "db1d3c23-abc6-4205-a86a-7a0aaf8505de",
   "metadata": {},
   "source": [
    "We can now use `ValidString` as many times as we need:"
   ]
  },
  {
   "cell_type": "code",
   "execution_count": 2,
   "id": "96d04bd7-0a65-43d1-806e-612980c833ab",
   "metadata": {},
   "outputs": [],
   "source": [
    "class Person:\n",
    "    __slots__ = '__weakref__',\n",
    "    \n",
    "    first_name = ValidString(1, 100)\n",
    "    last_name = ValidString(1, 100)\n",
    "    \n",
    "    def __eq__(self, other):\n",
    "        return (\n",
    "            isinstance(other, Person) and \n",
    "            self.first_name == other.first_name and \n",
    "            self.last_name == other.last_name\n",
    "        )"
   ]
  },
  {
   "cell_type": "code",
   "execution_count": 3,
   "id": "ff8784fe-2e5e-4b26-b067-0781c0906620",
   "metadata": {},
   "outputs": [],
   "source": [
    "p1, p2 = Person(), Person()\n",
    "\n",
    "p1.first_name, p1.last_name = 'Guido', 'van Rossum'\n",
    "p2.first_name, p2.last_name = 'Raymond', 'Hettinger'"
   ]
  },
  {
   "cell_type": "code",
   "execution_count": 4,
   "id": "aef34667-5673-4b38-92b9-f51458bcaad5",
   "metadata": {},
   "outputs": [],
   "source": [
    "class BankAccount:\n",
    "    __slots__ = '__weakref__',\n",
    "    \n",
    "    account_number = ValidString(10, 255)\n",
    "    \n",
    "    def __eq__(self, other):\n",
    "        return (\n",
    "            isinstance(other, BankAccount) and \n",
    "            self.account_number == other.account_number\n",
    "        )"
   ]
  },
  {
   "cell_type": "code",
   "execution_count": 5,
   "id": "05eef4ee-ea14-4ab6-bb03-38c641b845f2",
   "metadata": {},
   "outputs": [
    {
     "ename": "ValueError",
     "evalue": "Value should be at least 10 characters.",
     "output_type": "error",
     "traceback": [
      "\u001b[1;31m---------------------------------------------------------------------------\u001b[0m",
      "\u001b[1;31mValueError\u001b[0m                                Traceback (most recent call last)",
      "Cell \u001b[1;32mIn[5], line 2\u001b[0m\n\u001b[0;32m      1\u001b[0m b1, b2 \u001b[38;5;241m=\u001b[39m BankAccount(), BankAccount()\n\u001b[1;32m----> 2\u001b[0m \u001b[43mb1\u001b[49m\u001b[38;5;241;43m.\u001b[39;49m\u001b[43maccount_number\u001b[49m \u001b[38;5;241m=\u001b[39m \u001b[38;5;124m'\u001b[39m\u001b[38;5;124mtooshort\u001b[39m\u001b[38;5;124m'\u001b[39m\n",
      "Cell \u001b[1;32mIn[1], line 13\u001b[0m, in \u001b[0;36mValidString.__set__\u001b[1;34m(self, instance, value)\u001b[0m\n\u001b[0;32m     11\u001b[0m     \u001b[38;5;28;01mraise\u001b[39;00m \u001b[38;5;167;01mValueError\u001b[39;00m(\u001b[38;5;124m'\u001b[39m\u001b[38;5;124mValue must be a string.\u001b[39m\u001b[38;5;124m'\u001b[39m)\n\u001b[0;32m     12\u001b[0m \u001b[38;5;28;01mif\u001b[39;00m \u001b[38;5;28mlen\u001b[39m(value) \u001b[38;5;241m<\u001b[39m \u001b[38;5;28mself\u001b[39m\u001b[38;5;241m.\u001b[39m_min_length:\n\u001b[1;32m---> 13\u001b[0m     \u001b[38;5;28;01mraise\u001b[39;00m \u001b[38;5;167;01mValueError\u001b[39;00m(\n\u001b[0;32m     14\u001b[0m         \u001b[38;5;124mf\u001b[39m\u001b[38;5;124m'\u001b[39m\u001b[38;5;124mValue should be at least \u001b[39m\u001b[38;5;132;01m{\u001b[39;00m\u001b[38;5;28mself\u001b[39m\u001b[38;5;241m.\u001b[39m_min_length\u001b[38;5;132;01m}\u001b[39;00m\u001b[38;5;124m characters.\u001b[39m\u001b[38;5;124m'\u001b[39m\n\u001b[0;32m     15\u001b[0m     )\n\u001b[0;32m     16\u001b[0m \u001b[38;5;28;01mif\u001b[39;00m \u001b[38;5;28mlen\u001b[39m(value) \u001b[38;5;241m>\u001b[39m \u001b[38;5;28mself\u001b[39m\u001b[38;5;241m.\u001b[39m_max_length:\n\u001b[0;32m     17\u001b[0m     \u001b[38;5;28;01mraise\u001b[39;00m \u001b[38;5;167;01mValueError\u001b[39;00m(\n\u001b[0;32m     18\u001b[0m         \u001b[38;5;124mf\u001b[39m\u001b[38;5;124m'\u001b[39m\u001b[38;5;124mValue cannot exceed \u001b[39m\u001b[38;5;132;01m{\u001b[39;00m\u001b[38;5;28mself\u001b[39m\u001b[38;5;241m.\u001b[39m_max_length\u001b[38;5;132;01m}\u001b[39;00m\u001b[38;5;124m characters.\u001b[39m\u001b[38;5;124m'\u001b[39m\n\u001b[0;32m     19\u001b[0m     )\n",
      "\u001b[1;31mValueError\u001b[0m: Value should be at least 10 characters."
     ]
    }
   ],
   "source": [
    "b1, b2 = BankAccount(), BankAccount()\n",
    "b1.account_number = 'tooshort'"
   ]
  },
  {
   "cell_type": "code",
   "execution_count": 6,
   "id": "642ac727-640d-4a96-9d07-17822b519428",
   "metadata": {},
   "outputs": [],
   "source": [
    "del p1\n",
    "del p2\n",
    "del b1\n",
    "del b2"
   ]
  },
  {
   "cell_type": "code",
   "execution_count": 7,
   "id": "35e2c76b-b1b4-45db-be7b-259046305a71",
   "metadata": {},
   "outputs": [
    {
     "data": {
      "text/plain": [
       "{}"
      ]
     },
     "execution_count": 7,
     "metadata": {},
     "output_type": "execute_result"
    }
   ],
   "source": [
    "Person.first_name.data"
   ]
  },
  {
   "cell_type": "markdown",
   "id": "cd79a1ab-cd55-41c3-9eff-c9aaa25b1bd2",
   "metadata": {},
   "source": [
    "# 06 - The `__set_name__` Method"
   ]
  },
  {
   "cell_type": "markdown",
   "id": "8e4abdca-8c1a-4df4-ad1d-a6d0322aeb15",
   "metadata": {},
   "source": [
    "Let's go back to our penultimate \"good enough\" solution from the last section. The `set_name` method (only Python 3.6+) is useful for validation-based descriptors. \n",
    "\n",
    "The `__set_name__` method allows us to store the attribute name e.g. `x` in the **instance dictionary**. For example, for the `Point2D` class, we may have: `p.x -> 10`.\n",
    "\n",
    "Wait a minute! Wouldn't the instance dictionary *shadow* the class attribute? After all, these data descriptors are instantiated as class attributes when creating the class, not when creating the class attributes. So, shouldn't `p.x = 20` modify the instance dictionary and completely sidestep the data descriptor? \n",
    "\n",
    "*Not always..*\n",
    "\n",
    "Now we need to clearly distinguish between **non-data** descriptors and **data** descriptors."
   ]
  },
  {
   "cell_type": "markdown",
   "id": "5c219829-2ba9-4fdd-813c-ecfe45838606",
   "metadata": {},
   "source": [
    "Let's first look at a simple example:"
   ]
  },
  {
   "cell_type": "markdown",
   "id": "fde2bdb3-106d-4a18-9d97-0dad90c08409",
   "metadata": {},
   "source": [
    "It gets called once when the descriptor instance is created (so when the class containing it is compiled), and passes the property name as the argument."
   ]
  },
  {
   "cell_type": "markdown",
   "id": "71ecba0c-3b1a-4be5-9e87-c62cf60f4bd2",
   "metadata": {},
   "source": [
    "Let's see a simple example illustrating this:"
   ]
  },
  {
   "cell_type": "code",
   "execution_count": 1,
   "id": "aa8a5b6f-f114-4405-9246-74b0bf691022",
   "metadata": {},
   "outputs": [],
   "source": [
    "class ValidString:\n",
    "    def __set_name__(self, owner_class, property_name):\n",
    "        print(f'__set_name__ called: owner={owner_class}, prop={property_name}')"
   ]
  },
  {
   "cell_type": "code",
   "execution_count": 2,
   "id": "aac34e8d-6600-4ef6-aca2-8a33becb2f15",
   "metadata": {},
   "outputs": [
    {
     "name": "stdout",
     "output_type": "stream",
     "text": [
      "__set_name__ called: owner=<class '__main__.Person'>, prop=name\n"
     ]
    }
   ],
   "source": [
    "class Person:\n",
    "    name = ValidString()"
   ]
  },
  {
   "cell_type": "markdown",
   "id": "2dda12ee-deb5-4cb5-b125-c6fa1af47d84",
   "metadata": {},
   "source": [
    "As you can see `__set_name__` was called when the `Person` class was created passing in the `owner_class` and `property_name`. This is the **only** time it gets called.\n",
    "\n",
    "To reiterate, the `__set_name__` was called *because* it was defined in a class.\n",
    "\n",
    "The main advantage of this is that we can capture the property name:"
   ]
  },
  {
   "cell_type": "code",
   "execution_count": 2,
   "id": "219fc176-d068-41d7-8f0a-75ae1d1a7105",
   "metadata": {},
   "outputs": [],
   "source": [
    "class ValidString:\n",
    "    def __set_name__(self, owner_class, property_name):\n",
    "        print(f'__set_name__ called: owner={owner_class}, prop={property_name}')\n",
    "        self.property_name = property_name\n",
    "        \n",
    "    def __get__(self, instance, owner_class):\n",
    "        if instance is None:\n",
    "            return self\n",
    "        else:\n",
    "            print(f'__get__ called for property {self.property_name} '\n",
    "                  f'of instance {instance}')"
   ]
  },
  {
   "cell_type": "code",
   "execution_count": 3,
   "id": "228e6f60-4e92-46b6-bec3-a074de647a33",
   "metadata": {},
   "outputs": [
    {
     "name": "stdout",
     "output_type": "stream",
     "text": [
      "__set_name__ called: owner=<class '__main__.Person'>, prop=first_name\n",
      "__set_name__ called: owner=<class '__main__.Person'>, prop=last_name\n"
     ]
    }
   ],
   "source": [
    "class Person:\n",
    "    first_name = ValidString()\n",
    "    last_name = ValidString()"
   ]
  },
  {
   "cell_type": "markdown",
   "id": "d7dfa30b-fd57-43bd-8d88-525a2aa8324c",
   "metadata": {},
   "source": [
    "Now watch what happens when we get the property form the instances:"
   ]
  },
  {
   "cell_type": "code",
   "execution_count": 4,
   "id": "8ea65f12-b8ed-4358-a4c5-8549621f1802",
   "metadata": {},
   "outputs": [],
   "source": [
    "p = Person()"
   ]
  },
  {
   "cell_type": "code",
   "execution_count": 5,
   "id": "ef5f09a1-b59c-4605-b274-250c3b145a64",
   "metadata": {},
   "outputs": [
    {
     "name": "stdout",
     "output_type": "stream",
     "text": [
      "__get__ called for property first_name of instance <__main__.Person object at 0x000001664B06D240>\n"
     ]
    }
   ],
   "source": [
    "p.first_name"
   ]
  },
  {
   "cell_type": "markdown",
   "id": "9fecd133-d59c-45b0-bfb9-b8ec0e9e402c",
   "metadata": {},
   "source": [
    "Here's the chronology:\n",
    "\n",
    "1. When `first_name = ValidString()` runs, the `__set_name__` property will be called.\n",
    "2. In this particular instance of `ValidString`, the `self.property_name` is equal to \"first_name\".\n",
    "3. We get *another* instance of `ValidString` whose `self.property_name` is equal to \"last_name\".\n",
    "4. When we create an instance of `Person` and access `p.first_name`, we get a handle on the first instance of `ValidString` - whose `self.property_name`is equal to \"first_name\".\n",
    "\n",
    "This has solved our problem that we faced in \"Section 2: The `__set__` method\" where we had no way of getting a handle on the property name."
   ]
  },
  {
   "cell_type": "markdown",
   "id": "a76d0bda-18ac-4fe8-b891-10fb7e0a1570",
   "metadata": {},
   "source": [
    "Now let's walk through 2 examples in this section. \n",
    "\n",
    "In the first example, we will prepend attributes with an `_` so that we're certain we aren't clashing instance attributes with class attributes.\n",
    "\n",
    "In the second example, we will **not** prepend attributes with `_`. "
   ]
  },
  {
   "cell_type": "markdown",
   "id": "a61ffdab-fd18-4ffd-bfef-b2106a25fc54",
   "metadata": {},
   "source": [
    "#### Approach 1: Attributes prepended with `_`"
   ]
  },
  {
   "cell_type": "code",
   "execution_count": 6,
   "id": "d581a38e-d88f-47c7-ac40-b3289aa2d545",
   "metadata": {},
   "outputs": [],
   "source": [
    "class ValidString():\n",
    "    def __init__(self, min_length):\n",
    "        self.min_length = min_length\n",
    "        \n",
    "    def __set_name__(self, owner_class, property_name):\n",
    "        self.property_name = property_name\n",
    "\n",
    "    def __set__(self, instance, value):\n",
    "        if not isinstance(value, str):\n",
    "            raise ValueError(f'{self.property_name} must be a string.')\n",
    "        if len(value) < self.min_length:\n",
    "            raise ValueError(f'{self.property_name} must be at least {self.min_length} characters')\n",
    "        key = '_' + self.property_name\n",
    "        setattr(instance, key, value)\n",
    "        \n",
    "    def __get__(self, instance, owner_class):\n",
    "        if instance is None:\n",
    "            return self\n",
    "        else:\n",
    "            key = '_' + self.property_name\n",
    "            return getattr(instance, key, None)"
   ]
  },
  {
   "cell_type": "code",
   "execution_count": 7,
   "id": "87a7453e-9329-437d-8f2c-9c2844c3427e",
   "metadata": {},
   "outputs": [],
   "source": [
    "class Person:\n",
    "    first_name = ValidString(1)\n",
    "    last_name = ValidString(2)"
   ]
  },
  {
   "cell_type": "code",
   "execution_count": 10,
   "id": "7ad990d4-66f6-4e68-abd2-bbcd794a0da7",
   "metadata": {},
   "outputs": [
    {
     "data": {
      "text/plain": [
       "'Alex'"
      ]
     },
     "execution_count": 10,
     "metadata": {},
     "output_type": "execute_result"
    }
   ],
   "source": [
    "p = Person()\n",
    "p.first_name = 'Alex'\n",
    "p.first_name"
   ]
  },
  {
   "cell_type": "code",
   "execution_count": 11,
   "id": "13dfe722-e923-4c69-84c5-7c8f272f2db2",
   "metadata": {},
   "outputs": [
    {
     "ename": "ValueError",
     "evalue": "last_name must be at least 2 characters",
     "output_type": "error",
     "traceback": [
      "\u001b[1;31m---------------------------------------------------------------------------\u001b[0m",
      "\u001b[1;31mValueError\u001b[0m                                Traceback (most recent call last)",
      "Cell \u001b[1;32mIn[11], line 1\u001b[0m\n\u001b[1;32m----> 1\u001b[0m \u001b[43mp\u001b[49m\u001b[38;5;241;43m.\u001b[39;49m\u001b[43mlast_name\u001b[49m \u001b[38;5;241m=\u001b[39m \u001b[38;5;124m'\u001b[39m\u001b[38;5;124mM\u001b[39m\u001b[38;5;124m'\u001b[39m\n",
      "Cell \u001b[1;32mIn[6], line 12\u001b[0m, in \u001b[0;36mValidString.__set__\u001b[1;34m(self, instance, value)\u001b[0m\n\u001b[0;32m     10\u001b[0m     \u001b[38;5;28;01mraise\u001b[39;00m \u001b[38;5;167;01mValueError\u001b[39;00m(\u001b[38;5;124mf\u001b[39m\u001b[38;5;124m'\u001b[39m\u001b[38;5;132;01m{\u001b[39;00m\u001b[38;5;28mself\u001b[39m\u001b[38;5;241m.\u001b[39mproperty_name\u001b[38;5;132;01m}\u001b[39;00m\u001b[38;5;124m must be a string.\u001b[39m\u001b[38;5;124m'\u001b[39m)\n\u001b[0;32m     11\u001b[0m \u001b[38;5;28;01mif\u001b[39;00m \u001b[38;5;28mlen\u001b[39m(value) \u001b[38;5;241m<\u001b[39m \u001b[38;5;28mself\u001b[39m\u001b[38;5;241m.\u001b[39mmin_length:\n\u001b[1;32m---> 12\u001b[0m     \u001b[38;5;28;01mraise\u001b[39;00m \u001b[38;5;167;01mValueError\u001b[39;00m(\u001b[38;5;124mf\u001b[39m\u001b[38;5;124m'\u001b[39m\u001b[38;5;132;01m{\u001b[39;00m\u001b[38;5;28mself\u001b[39m\u001b[38;5;241m.\u001b[39mproperty_name\u001b[38;5;132;01m}\u001b[39;00m\u001b[38;5;124m must be at least \u001b[39m\u001b[38;5;132;01m{\u001b[39;00m\u001b[38;5;28mself\u001b[39m\u001b[38;5;241m.\u001b[39mmin_length\u001b[38;5;132;01m}\u001b[39;00m\u001b[38;5;124m characters\u001b[39m\u001b[38;5;124m'\u001b[39m)\n\u001b[0;32m     13\u001b[0m key \u001b[38;5;241m=\u001b[39m \u001b[38;5;124m'\u001b[39m\u001b[38;5;124m_\u001b[39m\u001b[38;5;124m'\u001b[39m \u001b[38;5;241m+\u001b[39m \u001b[38;5;28mself\u001b[39m\u001b[38;5;241m.\u001b[39mproperty_name\n\u001b[0;32m     14\u001b[0m \u001b[38;5;28msetattr\u001b[39m(instance, key, value)\n",
      "\u001b[1;31mValueError\u001b[0m: last_name must be at least 2 characters"
     ]
    }
   ],
   "source": [
    "p.last_name = 'M'"
   ]
  },
  {
   "cell_type": "markdown",
   "id": "d42e4d79-18cb-4f68-9803-491aac3bd6cb",
   "metadata": {},
   "source": [
    "All looks fine so far.. Let's look at the instance dictionary to see how the successfully made attribute was saved:"
   ]
  },
  {
   "cell_type": "code",
   "execution_count": 12,
   "id": "e28433cc-6157-4f97-9917-c764e8317a8f",
   "metadata": {},
   "outputs": [
    {
     "data": {
      "text/plain": [
       "{'_first_name': 'Alex'}"
      ]
     },
     "execution_count": 12,
     "metadata": {},
     "output_type": "execute_result"
    }
   ],
   "source": [
    "p.__dict__"
   ]
  },
  {
   "cell_type": "markdown",
   "id": "6c75bca9-4b2c-4a6e-b771-7663a74ca319",
   "metadata": {},
   "source": [
    "This is perfectly fine except that we run the risk of overwriting another attribute that happens to be called `_first_name`. This issue won't exist for the second approach."
   ]
  },
  {
   "cell_type": "markdown",
   "id": "9b2ca300-8410-4ce6-ab12-29b7d4b46ea2",
   "metadata": {},
   "source": [
    "#### Approach 2: Attributes *not* prepended with `_`"
   ]
  },
  {
   "cell_type": "code",
   "execution_count": 22,
   "id": "6b2c4ef3-1627-4c78-934f-9e661f40b659",
   "metadata": {},
   "outputs": [],
   "source": [
    "class ValidString:\n",
    "    def __init__(self, min_length):\n",
    "        self.min_length = min_length\n",
    "        \n",
    "    def __set_name__(self, owner_class, property_name):\n",
    "        self.property_name = property_name\n",
    "\n",
    "    def __set__(self, instance, value):\n",
    "        if not isinstance(value, str):\n",
    "            raise ValueError(f'{self.property_name} must be a string.')\n",
    "        if len(value) < self.min_length:\n",
    "            raise ValueError(f'{self.property_name} must be at least '\n",
    "                             f'{self.min_length} characters'\n",
    "                            )\n",
    "        instance.__dict__[self.property_name] = value\n",
    "        \n",
    "    def __get__(self, instance, owner_class):\n",
    "        if instance is None:\n",
    "            return self\n",
    "        else:\n",
    "            print (f'calling __get__ for {self.property_name}')\n",
    "            return instance.__dict__.get(self.property_name, None)"
   ]
  },
  {
   "cell_type": "code",
   "execution_count": 23,
   "id": "8e218479-762a-4399-8368-648719881549",
   "metadata": {},
   "outputs": [],
   "source": [
    "class Person:\n",
    "    first_name = ValidString(1)\n",
    "    last_name = ValidString(2)"
   ]
  },
  {
   "cell_type": "code",
   "execution_count": 24,
   "id": "77377975-4113-48f4-98fa-280eb73be5a4",
   "metadata": {},
   "outputs": [],
   "source": [
    "p = Person()"
   ]
  },
  {
   "cell_type": "markdown",
   "id": "4f9be071-fe46-4761-8d49-f1734097f136",
   "metadata": {},
   "source": [
    "Firstly, you might be wondering why we had to use `instance.__dict[self.property_name] = value` instead of `setattr(instance, self.property_name, value)`.\n",
    "\n",
    "The reason is because `instance.<property_name> = value` would return an instance of the descriptor and call the `__set__` method which will lead us into infinite recursion."
   ]
  },
  {
   "cell_type": "code",
   "execution_count": 25,
   "id": "35376834-a921-428d-9ed9-e2ad8ab53aff",
   "metadata": {},
   "outputs": [],
   "source": [
    "p.first_name = 'Alex'"
   ]
  },
  {
   "cell_type": "code",
   "execution_count": 26,
   "id": "d31464ff-d6b9-4da7-8a32-bbd1778ced2d",
   "metadata": {},
   "outputs": [
    {
     "data": {
      "text/plain": [
       "{'first_name': 'Alex'}"
      ]
     },
     "execution_count": 26,
     "metadata": {},
     "output_type": "execute_result"
    }
   ],
   "source": [
    "p.__dict__"
   ]
  },
  {
   "cell_type": "markdown",
   "id": "00b0f5b8-71f8-4323-8ba5-82ab97febf40",
   "metadata": {},
   "source": [
    "Now, what will happen when we call `p.first_name`? Will we:\n",
    "\n",
    "(A) Look in the instance dictionary and immediately return `'Alex'` - sidestepping the entire descriptor, or\n",
    "\n",
    "(B) Retrieve the descriptor associated with `first_name` and call `__get__`?\n",
    "\n",
    "We've added a print statement in the `__get__` to see which:"
   ]
  },
  {
   "cell_type": "code",
   "execution_count": 28,
   "id": "4ee74194-9726-4ed0-ab3b-ddf31527d30c",
   "metadata": {},
   "outputs": [
    {
     "name": "stdout",
     "output_type": "stream",
     "text": [
      "calling __get__ for first_name\n"
     ]
    },
    {
     "data": {
      "text/plain": [
       "'Alex'"
      ]
     },
     "execution_count": 28,
     "metadata": {},
     "output_type": "execute_result"
    }
   ],
   "source": [
    "p.first_name"
   ]
  },
  {
   "cell_type": "markdown",
   "id": "5389b8c2-6aa1-4bcf-9f28-c50de7961dc8",
   "metadata": {},
   "source": [
    "This is *very odd*...\n",
    "\n",
    "Since we know that Python always prioritises looking in the instance dictionary before class attributes, option (A) is what we would expect. \n",
    "\n",
    "In fact, option (A) is *chosen* sometimes. We'll see how Python makes its choice in the next section."
   ]
  },
  {
   "cell_type": "markdown",
   "id": "f78661bd-ef21-4025-a328-314cc021ade5",
   "metadata": {},
   "source": [
    "# 07 - Property Lookup Resolution"
   ]
  },
  {
   "cell_type": "markdown",
   "id": "2991719c-b240-4998-8511-7cd4db483654",
   "metadata": {},
   "source": [
    "The choice of (A) and (B) is actually quite simple.\n",
    "\n",
    "- Option (A) - **_prioritise_ the instance dictionary** - for **non-data** descriptors. If not present, use the data descriptor.\n",
    "- Option (B) - **override the instance dictionary** - for **data** descriptors"
   ]
  },
  {
   "cell_type": "markdown",
   "id": "2c0bc42c-ea2d-45be-98a3-7fa58cdc5142",
   "metadata": {},
   "source": [
    "We showed Option (B) in action in the last subsection. Now we'll show the Option (A) in action..."
   ]
  },
  {
   "cell_type": "code",
   "execution_count": 60,
   "id": "55a2ee8f-5a1b-4cbf-adb7-c0fb1d540655",
   "metadata": {},
   "outputs": [
    {
     "data": {
      "text/plain": [
       "{'first_name': 'Alex'}"
      ]
     },
     "execution_count": 60,
     "metadata": {},
     "output_type": "execute_result"
    }
   ],
   "source": [
    "class ValidString:\n",
    "    def __set_name__(self, owner_class, property_name):\n",
    "        self.property_name = property_name\n",
    "\n",
    "    def __get__(self, instance, owner):\n",
    "        print('calling __get__')\n",
    "        if instance is None:\n",
    "            return self\n",
    "        return instance.__dict__.get(self.property_name, None)\n",
    "    \n",
    "class Person:\n",
    "    first_name = ValidString()\n",
    "\n",
    "p = Person()\n",
    "p.first_name = 'Alex'\n",
    "p.__dict__"
   ]
  },
  {
   "cell_type": "markdown",
   "id": "9e3b2a50-109f-4c1c-ab11-4d3fbbf0d707",
   "metadata": {},
   "source": [
    "Since `ValidString` is a **non-data** descriptor, Python will look inside the instance dictionary first:"
   ]
  },
  {
   "cell_type": "code",
   "execution_count": 61,
   "id": "28323486-9211-4785-9c23-22fb36901d90",
   "metadata": {},
   "outputs": [
    {
     "data": {
      "text/plain": [
       "'Alex'"
      ]
     },
     "execution_count": 61,
     "metadata": {},
     "output_type": "execute_result"
    }
   ],
   "source": [
    "p.first_name"
   ]
  },
  {
   "cell_type": "markdown",
   "id": "63cbc3f2-26a8-497f-b675-f386f408ecfc",
   "metadata": {},
   "source": [
    "Now, let's remove `first_name` from the instance dictionary and show that Python will default to the descriptor in this case:"
   ]
  },
  {
   "cell_type": "code",
   "execution_count": 62,
   "id": "ea215caa-4e59-4b31-925a-229762f72169",
   "metadata": {},
   "outputs": [
    {
     "name": "stdout",
     "output_type": "stream",
     "text": [
      "calling __get__\n"
     ]
    }
   ],
   "source": [
    "del p.__dict__['first_name']\n",
    "p.first_name"
   ]
  },
  {
   "cell_type": "markdown",
   "id": "27cfbfd9-9b4e-4fc0-86a1-693c04fdbc57",
   "metadata": {},
   "source": [
    "**Conclusion**: We have no real need to prepend property names with `_`."
   ]
  },
  {
   "cell_type": "markdown",
   "id": "85f7d2a6-df87-4fd0-a673-abbadeabb329",
   "metadata": {},
   "source": [
    "# 08 - Properties and Descriptors"
   ]
  },
  {
   "cell_type": "markdown",
   "id": "45c73a48-dd9f-4b4d-b5f3-3125e2919b68",
   "metadata": {},
   "source": [
    "With everything that we know now, we can finally fully understand how `property` works.\n",
    "\n",
    "Let's say we have a property called `@age`. We'll use the non-decorator approach to make it more clear.\n",
    "We might have something like this:\n",
    "```python\n",
    "age = property(fget=get_age, fset=set_age)\n",
    "```\n",
    "When we do `p.age`, that will call the getter `__get__` which **delegates** to `get_age(instance=p)`.\n",
    "\n",
    "When we do `p.age = 10`, that will call the setter `__set__` which **delegates** to `set_age(instance=p, value=10)`. If `fset` is not defined, we still call `__set__` but raise an `AttributeError` instead."
   ]
  },
  {
   "cell_type": "markdown",
   "id": "760aaa78-a684-4c27-ad6f-80f1cb222c3e",
   "metadata": {},
   "source": [
    "We can now make our very own version of the `property` class. We'll call it `MakeProperty`:"
   ]
  },
  {
   "cell_type": "code",
   "execution_count": 7,
   "id": "3df8fe45-3bdf-43b1-bb4b-4d6c739e66ef",
   "metadata": {},
   "outputs": [],
   "source": [
    "class MakeProperty:\n",
    "    def __init__(self, fget=None, fset=None):\n",
    "        self.fget = fget\n",
    "        self.fset = fset\n",
    "        \n",
    "    def __set_name__(self, owner_class, prop_name):\n",
    "        self.prop_name = prop_name\n",
    "        \n",
    "    def __get__(self, instance, owner_class):\n",
    "        if instance is None:\n",
    "            return self\n",
    "        if self.fget is None:\n",
    "            raise AttributeError(f'{self.prop_name} is not readable.')\n",
    "        return self.fget(instance)  # looking at the Person class, `first_name` takes the arg `self` which refers to a Person instance\n",
    "                                    # `instance` on this line refers to the exact same thing (while `self` here refers to the descriptor instance).\n",
    "            \n",
    "    def __set__(self, instance, value):\n",
    "        if self.fset is None:\n",
    "            raise AttributeError(f'{self.prop_name} is not writable.')\n",
    "        self.fset(instance, value)\n",
    "        \n",
    "    def setter(self, fset):\n",
    "        self.fset = fset\n",
    "        return self\n",
    "        "
   ]
  },
  {
   "cell_type": "code",
   "execution_count": 8,
   "id": "b4bcd345-d372-45c5-b7f3-c3a474a620e3",
   "metadata": {},
   "outputs": [],
   "source": [
    "class Person:\n",
    "    @MakeProperty\n",
    "    def first_name(self):\n",
    "        return getattr(self, '_first_name', None)\n",
    "    \n",
    "    @first_name.setter\n",
    "    def first_name(self, value):\n",
    "        self._first_name = value\n",
    "        \n",
    "    @MakeProperty\n",
    "    def last_name(self):\n",
    "        return getattr(self, '_last_name', None)\n",
    "    \n",
    "    @last_name.setter\n",
    "    def last_name(self, value):\n",
    "        self._last_name = value"
   ]
  },
  {
   "cell_type": "code",
   "execution_count": 9,
   "id": "c6215a7b-033d-4b54-bb3a-5ed969ef5da3",
   "metadata": {},
   "outputs": [],
   "source": [
    "p1 = Person()"
   ]
  },
  {
   "cell_type": "code",
   "execution_count": 10,
   "id": "9d8765e6-6dfc-43e7-9efd-655f60cc3971",
   "metadata": {},
   "outputs": [
    {
     "data": {
      "text/plain": [
       "{'_first_name': 'Raymond'}"
      ]
     },
     "execution_count": 10,
     "metadata": {},
     "output_type": "execute_result"
    }
   ],
   "source": [
    "p1.first_name = 'Raymond'\n",
    "p1.__dict__"
   ]
  },
  {
   "cell_type": "code",
   "execution_count": 11,
   "id": "59012e1e-6e17-4744-9ca8-4a069ae81399",
   "metadata": {},
   "outputs": [
    {
     "data": {
      "text/plain": [
       "{'_first_name': 'Raymond', '_last_name': 'Hettinger'}"
      ]
     },
     "execution_count": 11,
     "metadata": {},
     "output_type": "execute_result"
    }
   ],
   "source": [
    "p1.last_name = 'Hettinger'\n",
    "p1.__dict__"
   ]
  },
  {
   "cell_type": "markdown",
   "id": "5152d3dd-f456-4ab3-bbc9-ca24ebecf3ef",
   "metadata": {},
   "source": [
    "# 09 - Application - Example 1"
   ]
  },
  {
   "cell_type": "markdown",
   "id": "02e809e8-f47e-4345-9b43-1586b3d7b53e",
   "metadata": {},
   "source": [
    "We have already seen that data validation works well with descriptors.\n",
    "\n",
    "For example, we may want our object attributes to have valid values for some of it's attributes:"
   ]
  },
  {
   "cell_type": "code",
   "execution_count": 1,
   "id": "4e48303e-ed8c-4f97-aef3-eb8d283d9548",
   "metadata": {},
   "outputs": [],
   "source": [
    "class Int:\n",
    "    def __set_name__(self, owner_class, prop_name):\n",
    "        self.prop_name = prop_name\n",
    "        \n",
    "    def __set__(self, instance, value):\n",
    "        if not isinstance(value, int):\n",
    "            raise ValueError(f'{self.prop_name} must be an integer.')\n",
    "        instance.__dict__[self.prop_name] = value\n",
    "        \n",
    "    def __get__(self, instance, owner_class):\n",
    "        if instance is None:\n",
    "            return self\n",
    "        else:\n",
    "            return instance.__dict__.get(self.prop_name, None)\n",
    "            "
   ]
  },
  {
   "cell_type": "code",
   "execution_count": 2,
   "id": "541eb119-1892-47be-8148-36a439b87d47",
   "metadata": {},
   "outputs": [],
   "source": [
    "class Float:\n",
    "    def __set_name__(self, owner_class, prop_name):\n",
    "        self.prop_name = prop_name\n",
    "        \n",
    "    def __set__(self, instance, value):\n",
    "        if not isinstance(value, float):\n",
    "            raise ValueError(f'{self.prop_name} must be a float.')\n",
    "        instance.__dict__[self.prop_name] = value\n",
    "        \n",
    "    def __get__(self, instance, value):\n",
    "        if instance is None:\n",
    "            return self\n",
    "        else:\n",
    "            return instance.__dict__.get(self.prop_name, None)"
   ]
  },
  {
   "cell_type": "code",
   "execution_count": 3,
   "id": "0299c7d4-f52c-4925-b297-cbe7ead0a640",
   "metadata": {},
   "outputs": [],
   "source": [
    "class List:\n",
    "    def __set_name__(self, owner_class, prop_name):\n",
    "        self.prop_name = prop_name\n",
    "        \n",
    "    def __set__(self, instance, value):\n",
    "        if not isinstance(value, list):\n",
    "            raise ValueError(f'{self.prop_name} must be a list.')\n",
    "        instance.__dict__[self.prop_name] = value\n",
    "        \n",
    "    def __get__(self, instance, value):\n",
    "        if instance is None:\n",
    "            return self\n",
    "        else:\n",
    "            return instance.__dict__.get(self.prop_name, None)\n",
    "        \n",
    "    "
   ]
  },
  {
   "cell_type": "markdown",
   "id": "0e35b985-d1b9-41c1-8db1-7afc98dc55e3",
   "metadata": {},
   "source": [
    "We can now use these descriptors in multiple class definitions, and as many times as we want in each class:"
   ]
  },
  {
   "cell_type": "code",
   "execution_count": 4,
   "id": "065c65c3-04c4-4cbb-b90b-768ed3080ae6",
   "metadata": {},
   "outputs": [],
   "source": [
    "class Person:\n",
    "    age = Int()\n",
    "    height = Float()\n",
    "    tags = List()\n",
    "    favourite_foods = List()"
   ]
  },
  {
   "cell_type": "code",
   "execution_count": 13,
   "id": "56cd8098-b116-4a0b-a8d6-18d65d65bd6d",
   "metadata": {},
   "outputs": [
    {
     "data": {
      "text/plain": [
       "{'age': 20,\n",
       " 'height': 1.74,\n",
       " 'tags': ['a', 'b'],\n",
       " 'favourite_foods': ['Pizza', 'Chocolate']}"
      ]
     },
     "execution_count": 13,
     "metadata": {},
     "output_type": "execute_result"
    }
   ],
   "source": [
    "p = Person()\n",
    "p.age = 20\n",
    "p.height = 1.74\n",
    "p.tags = ['a', 'b']\n",
    "p.favourite_foods = ['Pizza', 'Chocolate']\n",
    "p.__dict__"
   ]
  },
  {
   "cell_type": "markdown",
   "id": "8095ceb5-e07c-4d65-b6e4-1c932a471096",
   "metadata": {},
   "source": [
    "If we wanted to be even more generic and prevent all this copying and pasting, we could write a generic class that takes a specific type and does the above behaviour:"
   ]
  },
  {
   "cell_type": "code",
   "execution_count": 14,
   "id": "903552af-6eff-4295-9e6f-202f821b172a",
   "metadata": {},
   "outputs": [],
   "source": [
    "class ValidType:\n",
    "    def __init__(self, type_):\n",
    "        self._type = type_\n",
    "        \n",
    "    def __set_name__(self, owner_class, prop_name):\n",
    "        self.prop_name = prop_name\n",
    "        \n",
    "    def __set__(self, instance, value):\n",
    "        if not isinstance(value, self._type):\n",
    "            raise ValueError(f'{self.prop_name} must be of type '\n",
    "                             f'{self._type.__name__}'\n",
    "                            )\n",
    "        instance.__dict__[self.prop_name] = value\n",
    "        \n",
    "    def __get__(self, instance, owner_class):\n",
    "        if instance is None:\n",
    "            return self\n",
    "        else:\n",
    "            return instance.__dict__.get(self.prop_name, None)"
   ]
  },
  {
   "cell_type": "markdown",
   "id": "b06331d4-8d28-42f8-8d54-c5439091cb9d",
   "metadata": {},
   "source": [
    "And now we can achieve the same functionality as before:"
   ]
  },
  {
   "cell_type": "code",
   "execution_count": 21,
   "id": "cc29915f-ce74-47a5-abd8-b3afc28cee51",
   "metadata": {},
   "outputs": [],
   "source": [
    "import numbers\n",
    "\n",
    "class Person:\n",
    "    age = ValidType(int)\n",
    "    height = ValidType(numbers.Real)\n",
    "    tags = ValidType(list)\n",
    "    favorite_foods = ValidType(tuple)\n",
    "    name = ValidType(str)"
   ]
  },
  {
   "cell_type": "code",
   "execution_count": 22,
   "id": "b58cabe5-646d-4690-a024-c09307d308ef",
   "metadata": {},
   "outputs": [
    {
     "data": {
      "text/plain": [
       "{'age': 20,\n",
       " 'height': 1.74,\n",
       " 'tags': ['a', 'b'],\n",
       " 'favourite_foods': ['Pizza', 'Chocolate']}"
      ]
     },
     "execution_count": 22,
     "metadata": {},
     "output_type": "execute_result"
    }
   ],
   "source": [
    "p = Person()\n",
    "p.age = 20\n",
    "p.height = 1.74\n",
    "p.tags = ['a', 'b']\n",
    "p.favourite_foods = ['Pizza', 'Chocolate']\n",
    "p.__dict__"
   ]
  },
  {
   "cell_type": "markdown",
   "id": "44539f1a-36ac-4812-a185-9386a0da006b",
   "metadata": {},
   "source": [
    "One other small change we've made here is to use `numbers.Real` instead of `float` because a value of `1` for example is not a float, but it is a `Real` number."
   ]
  },
  {
   "cell_type": "markdown",
   "id": "c4cd859d-7d6b-470d-8484-020379276d81",
   "metadata": {},
   "source": [
    "# 10 - Application - Example 2"
   ]
  },
  {
   "cell_type": "markdown",
   "id": "91dd5ceb-3230-4fce-a8ae-865927aca0dd",
   "metadata": {},
   "source": [
    "Suppose we have a `Polygon` class that has a vertices property that needs to be defined as a sequence of `Point2D` instances. So here, not only do we want the `vertices` attribute of our `Polygon` to be an iterable of some kind, we also want the elements to all be instances of the `Point2D` class. In turn we'll also want to make sure that coordinates for `Point2D` are non-negative integer values (as might be expected in computer screen coordinates):"
   ]
  },
  {
   "cell_type": "markdown",
   "id": "91056051-3828-446d-8f91-22687860625b",
   "metadata": {},
   "source": [
    "Let's start by defining the `Point2D` class, but we'll need a descriptor for the coordinates to ensure they are integer values, possibly bounded between min and max values:"
   ]
  },
  {
   "cell_type": "code",
   "execution_count": 24,
   "id": "2b3adf04-574f-46ef-8ab4-35a001ffe4fd",
   "metadata": {},
   "outputs": [],
   "source": [
    "class Int:\n",
    "    def __init__(self, min_value=None, max_value=None):\n",
    "        self.min_value = min_value\n",
    "        self.max_value = max_value\n",
    "        \n",
    "    def __set_name__(self, owner_class, name):\n",
    "        self.name = name\n",
    "        \n",
    "    def __set__(self, instance, value):\n",
    "        if not isinstance(value, int):\n",
    "            raise ValueError(f'{self.name} must be an int.')\n",
    "        if self.min_value is not None and value < self.min_value:\n",
    "            raise ValueError(f'{self.name} must be at least {self.min_value}')\n",
    "        if self.max_value is not None and value > self.max_value:\n",
    "            raise ValueError(f'{self.name} cannot exceed {self.max_value}')\n",
    "        instance.__dict__[self.name] = value\n",
    "        \n",
    "    def __get__(self, instance, owner_class):\n",
    "        if instance is None:\n",
    "            return self\n",
    "        else:\n",
    "            return instance.__dict__.get(self.name, None)"
   ]
  },
  {
   "cell_type": "code",
   "execution_count": 25,
   "id": "507a68aa-ebd2-4e85-8e54-a656f74516e6",
   "metadata": {},
   "outputs": [],
   "source": [
    "class Point2D:\n",
    "    x = Int(min_value=0, max_value=800)\n",
    "    y = Int(min_value=0, max_value=400)\n",
    "    \n",
    "    def __init__(self, x, y):\n",
    "        self.x = x\n",
    "        self.y = y\n",
    "        \n",
    "    def __repr__(self):\n",
    "        return f'Point2D(x={self.x}, y={self.y})'\n",
    "    \n",
    "    def __str__(self):\n",
    "        return f'({self.x}, {self.y})'"
   ]
  },
  {
   "cell_type": "markdown",
   "id": "27f609a4-ffb7-4f44-89a9-509890fd8f32",
   "metadata": {},
   "source": [
    "Next let's create a validator that checks that we have a sequence (mutable or immutable, does not matter) of `Point2D` objects. "
   ]
  },
  {
   "cell_type": "markdown",
   "id": "919051b1-5853-40c9-ba57-e1b6ba011f88",
   "metadata": {},
   "source": [
    "To check of something is a sequence, we can use the abstract base classes defined in the `collections` module:"
   ]
  },
  {
   "cell_type": "code",
   "execution_count": 26,
   "id": "229fb83f-ef3f-4deb-a0a4-23daa70e5a87",
   "metadata": {},
   "outputs": [],
   "source": [
    "import collections"
   ]
  },
  {
   "cell_type": "code",
   "execution_count": 27,
   "id": "67a95b07-b458-4057-876e-59da2fe10958",
   "metadata": {},
   "outputs": [
    {
     "data": {
      "text/plain": [
       "True"
      ]
     },
     "execution_count": 27,
     "metadata": {},
     "output_type": "execute_result"
    }
   ],
   "source": [
    "isinstance([1, 2, 3], collections.abc.Sequence)"
   ]
  },
  {
   "cell_type": "code",
   "execution_count": 28,
   "id": "2d5a06ac-ede8-43a8-9ae2-60eb2a014000",
   "metadata": {},
   "outputs": [
    {
     "data": {
      "text/plain": [
       "True"
      ]
     },
     "execution_count": 28,
     "metadata": {},
     "output_type": "execute_result"
    }
   ],
   "source": [
    "isinstance([1, 2, 3], collections.abc.MutableSequence)"
   ]
  },
  {
   "cell_type": "code",
   "execution_count": 29,
   "id": "89b8eb01-519d-44a5-825b-e635f17c496b",
   "metadata": {},
   "outputs": [
    {
     "data": {
      "text/plain": [
       "True"
      ]
     },
     "execution_count": 29,
     "metadata": {},
     "output_type": "execute_result"
    }
   ],
   "source": [
    "isinstance((1, 2, 3), collections.abc.Sequence)"
   ]
  },
  {
   "cell_type": "code",
   "execution_count": 30,
   "id": "408e3ecd-0f47-46f8-aa8f-116f01bdbd84",
   "metadata": {},
   "outputs": [
    {
     "data": {
      "text/plain": [
       "False"
      ]
     },
     "execution_count": 30,
     "metadata": {},
     "output_type": "execute_result"
    }
   ],
   "source": [
    "isinstance((1, 2, 3), collections.abc.MutableSequence)"
   ]
  },
  {
   "cell_type": "markdown",
   "id": "05688520-e887-4c15-95ce-0d64b7a18b5e",
   "metadata": {},
   "source": [
    "So let's write the validator:"
   ]
  },
  {
   "cell_type": "code",
   "execution_count": 31,
   "id": "6239f0a8-8729-4584-bf97-68d068ae46b7",
   "metadata": {},
   "outputs": [],
   "source": [
    "class Point2DSequence:\n",
    "    def __init__(self, min_length=None, max_length=None):\n",
    "        self.min_length = min_length\n",
    "        self.max_length = max_length\n",
    "        \n",
    "    def __set_name__(self, cls, name):\n",
    "        self.name = name\n",
    "        \n",
    "    def __set__(self, instance, value):\n",
    "        if not isinstance(value, collections.abc.Sequence):\n",
    "            raise ValueError(f'{self.name} must be a sequence type.')\n",
    "        if self.min_length is not None and len(value) < self.min_length:\n",
    "            raise ValueError(f'{self.name} must contain at least '\n",
    "                             f'{self.min_length} elements'\n",
    "                            )\n",
    "        if self.max_length is not None and len(value) > self.max_length:\n",
    "            raise ValueError(f'{self.name} cannot contain more than  '\n",
    "                             f'{self.max_length} elements'\n",
    "                            )\n",
    "        for index, item in enumerate(value):\n",
    "            if not isinstance(item, Point2D):\n",
    "                raise ValueError(f'Item at index {index} is not a Point2D instance.')\n",
    "                \n",
    "        # value passes checks - want to store it as a mutable sequence so we can \n",
    "        # append to it later\n",
    "        instance.__dict__[self.name] = list(value)\n",
    "        \n",
    "    def __get__(self, instance, cls):\n",
    "        if instance is None:\n",
    "            return self\n",
    "        else:\n",
    "            if self.name not in instance.__dict__:\n",
    "                # current point list has not been defined,\n",
    "                # so let's create an empty list\n",
    "                instance.__dict__[self.name] = []\n",
    "            return instance.__dict__.get(self.name)"
   ]
  },
  {
   "cell_type": "markdown",
   "id": "222c9930-7c93-4ffa-9ce7-e7d5706ad77a",
   "metadata": {},
   "source": [
    "And now we can use this for our `Polygon` class:"
   ]
  },
  {
   "cell_type": "code",
   "execution_count": 32,
   "id": "5978a18e-b06c-4789-9e8e-981ad7d672dc",
   "metadata": {},
   "outputs": [],
   "source": [
    "class Polygon:\n",
    "    vertices = Point2DSequence(min_length=3)\n",
    "    \n",
    "    def __init__(self, *vertices):\n",
    "        self.vertices = vertices"
   ]
  },
  {
   "cell_type": "code",
   "execution_count": 15,
   "id": "06c50598-4977-4333-8dda-2d3ae14d3895",
   "metadata": {},
   "outputs": [
    {
     "name": "stdout",
     "output_type": "stream",
     "text": [
      "vertices must contain at least 3 elements\n"
     ]
    }
   ],
   "source": [
    "try:\n",
    "    p = Polygon()\n",
    "except ValueError as ex:\n",
    "    print(ex)"
   ]
  },
  {
   "cell_type": "code",
   "execution_count": 33,
   "id": "0cc56bb6-7c1c-413c-9462-506e9924e33f",
   "metadata": {},
   "outputs": [],
   "source": [
    "p = Polygon(Point2D(0,0), Point2D(0, 1), Point2D(1, 0))"
   ]
  },
  {
   "cell_type": "code",
   "execution_count": 34,
   "id": "4e0863cd-47d9-49d0-845d-2982cfd1c701",
   "metadata": {},
   "outputs": [
    {
     "data": {
      "text/plain": [
       "[Point2D(x=0, y=0), Point2D(x=0, y=1), Point2D(x=1, y=0)]"
      ]
     },
     "execution_count": 34,
     "metadata": {},
     "output_type": "execute_result"
    }
   ],
   "source": [
    "p.vertices"
   ]
  },
  {
   "cell_type": "markdown",
   "id": "18f1ddc6-ce82-4fa7-986d-890e96352ea2",
   "metadata": {},
   "source": [
    "OK, so, for completeness, let's write a method that we can use to append new points to the vertices list (that's why we made it a mutable sequence type!). We'll also implement the **sequence protocol** while we're at it.\n",
    "\n",
    "To append, we need to know what's the `max_length` which is stored in the descriptor. Luckily, the `__get__` method has been written to return `self` if no instance is provided, i.e., if we call the descriptor through the class *instead of* the instance: `Polygon.vertices` -> `Polygon.vertices.max_length`. \n",
    "\n",
    "But the issue with this is if we subclass `Polygon` to create e.g. `Triangle` (`max_length=3` and `min_length=3`), we won't be getting the subclassed `max_length` or `min_length`.\n",
    "\n",
    "So we should use `type(self)` instead of `Polygon`..."
   ]
  },
  {
   "cell_type": "code",
   "execution_count": 43,
   "id": "9ec6a20e-449b-4dc1-9dda-32a5afb3abca",
   "metadata": {},
   "outputs": [],
   "source": [
    "class Polygon:\n",
    "    vertices = Point2DSequence(min_length=3)\n",
    "    \n",
    "    def __init__(self, *vertices):\n",
    "        self.vertices = vertices\n",
    "        \n",
    "    def append(self, pt):\n",
    "        if not isinstance(pt, Point2D):\n",
    "            raise ValueError('Can only append Point2D instances.')\n",
    "        max_length = type(self).vertices.max_length\n",
    "        if max_length is not None and len(self.vertices) >= max_length:\n",
    "            # cannot add more points!\n",
    "            raise ValueError(f'Vertices length is at max ({max_length})')\n",
    "        self.vertices.append(pt)\n",
    "                \n",
    "    def __len__(self):\n",
    "        return len(self.vertices)\n",
    "        \n",
    "    def __getitem__(self, idx):\n",
    "        return self.vertices[idx]"
   ]
  },
  {
   "cell_type": "code",
   "execution_count": 44,
   "id": "85566b58-00e4-4672-900b-bdebd9157ef1",
   "metadata": {},
   "outputs": [],
   "source": [
    "p = Polygon(Point2D(0,0), Point2D(1,0), Point2D(0,1))"
   ]
  },
  {
   "cell_type": "code",
   "execution_count": 45,
   "id": "9d3e143f-7c67-4b7e-abf8-842efd23350e",
   "metadata": {},
   "outputs": [
    {
     "data": {
      "text/plain": [
       "[Point2D(x=0, y=0), Point2D(x=1, y=0), Point2D(x=0, y=1)]"
      ]
     },
     "execution_count": 45,
     "metadata": {},
     "output_type": "execute_result"
    }
   ],
   "source": [
    "p.vertices"
   ]
  },
  {
   "cell_type": "code",
   "execution_count": 46,
   "id": "033f2cee-0181-4bf4-a337-b7213719b872",
   "metadata": {},
   "outputs": [],
   "source": [
    "p.append(Point2D(10, 10))"
   ]
  },
  {
   "cell_type": "code",
   "execution_count": 47,
   "id": "21a7852e-0826-48b5-81db-ed2fcc748251",
   "metadata": {},
   "outputs": [
    {
     "data": {
      "text/plain": [
       "[Point2D(x=0, y=0), Point2D(x=1, y=0), Point2D(x=0, y=1), Point2D(x=10, y=10)]"
      ]
     },
     "execution_count": 47,
     "metadata": {},
     "output_type": "execute_result"
    }
   ],
   "source": [
    "p.vertices"
   ]
  },
  {
   "cell_type": "markdown",
   "id": "0c936854-64ab-4fb6-8288-da7b034928db",
   "metadata": {},
   "source": [
    "Now look how simple our subclasses look - it will inherit all methods (including the `__init__`):"
   ]
  },
  {
   "cell_type": "code",
   "execution_count": 48,
   "id": "a3ebb221-bdd6-42e2-ae60-d9142032bd1e",
   "metadata": {},
   "outputs": [],
   "source": [
    "class Triangle(Polygon):\n",
    "    vertices = Point2DSequence(min_length=3, max_length=3)"
   ]
  },
  {
   "cell_type": "code",
   "execution_count": 49,
   "id": "e7665b7c-b4bc-498a-9b78-a30bb7526ba1",
   "metadata": {},
   "outputs": [
    {
     "data": {
      "text/plain": [
       "[Point2D(x=0, y=0), Point2D(x=1, y=0), Point2D(x=0, y=1)]"
      ]
     },
     "execution_count": 49,
     "metadata": {},
     "output_type": "execute_result"
    }
   ],
   "source": [
    "t = Triangle(Point2D(0,0), Point2D(1,0), Point2D(0,1))\n",
    "t.vertices"
   ]
  },
  {
   "cell_type": "code",
   "execution_count": 51,
   "id": "6a2163b1-d13d-4e0b-bddc-7ba392256e40",
   "metadata": {},
   "outputs": [
    {
     "data": {
      "text/plain": [
       "3"
      ]
     },
     "execution_count": 51,
     "metadata": {},
     "output_type": "execute_result"
    }
   ],
   "source": [
    "len(t)"
   ]
  },
  {
   "cell_type": "code",
   "execution_count": 52,
   "id": "76ba60fd-2944-4d42-9857-e14a38a9f14e",
   "metadata": {},
   "outputs": [
    {
     "data": {
      "text/plain": [
       "[Point2D(x=1, y=0), Point2D(x=0, y=1)]"
      ]
     },
     "execution_count": 52,
     "metadata": {},
     "output_type": "execute_result"
    }
   ],
   "source": [
    "t[1:3]"
   ]
  },
  {
   "cell_type": "markdown",
   "id": "976ac581-146d-47de-a6b6-8ae4383d9928",
   "metadata": {},
   "source": [
    "# 11 - Functions and Descriptors"
   ]
  },
  {
   "cell_type": "markdown",
   "id": "7e7886f6-30f0-42b8-b4ec-127bb6639582",
   "metadata": {},
   "source": [
    "Have you ever wondered how Python knows that a particular function is defined inside a class and therefore treats it like a bound method? Is there something happing at the C level?\n",
    "\n",
    "No! -> functions are objects that implement the **non-data descriptor protocol**. Just like non-data descriptors:\n",
    "- They have the `__get__` method.\n",
    "- Depending on how `__get__` is called, it either returns the function itself or the bound method. This is how python differentiates between the two."
   ]
  },
  {
   "cell_type": "code",
   "execution_count": 1,
   "id": "9e782a35-e6f4-40d3-ab9f-0b110d2f48ca",
   "metadata": {},
   "outputs": [
    {
     "data": {
      "text/plain": [
       "True"
      ]
     },
     "execution_count": 1,
     "metadata": {},
     "output_type": "execute_result"
    }
   ],
   "source": [
    "def add(a, b):\n",
    "    return a + b\n",
    "\n",
    "hasattr(add, '__get__')"
   ]
  },
  {
   "cell_type": "markdown",
   "id": "5ffc6132-0574-4370-948a-990b730bd81c",
   "metadata": {},
   "source": [
    "We know that `__get__` takes 3 parameters. Here's what they are for regular functions:\n",
    "- `self`: the function itself e.g. `add` because we have `add.__get__()`.\n",
    "- `instance`: either `None` or our `__main__` module; we can think of our `__main__` module as the class housing this function, so calling it directly is like calling it from the module 'class' instead of an instance.\n",
    "- `owner_class`: in this case, it will be our `__main__`module"
   ]
  },
  {
   "cell_type": "markdown",
   "id": "343319db-2ead-4f34-82e4-a9a536b975b3",
   "metadata": {},
   "source": [
    "Let's prove that the function is returned if we manually call these arguments into the `__get__`"
   ]
  },
  {
   "cell_type": "code",
   "execution_count": 2,
   "id": "7f1d5a64-13a5-4c96-b4d1-d0be4cc19c21",
   "metadata": {},
   "outputs": [
    {
     "data": {
      "text/plain": [
       "<function __main__.add(a, b)>"
      ]
     },
     "execution_count": 2,
     "metadata": {},
     "output_type": "execute_result"
    }
   ],
   "source": [
    "import sys\n",
    "me = sys.modules['__main__']\n",
    "\n",
    "f = add.__get__(None, me)  # self is implicitly passed, instance=None, me=owner_class\n",
    "f"
   ]
  },
  {
   "cell_type": "markdown",
   "id": "a53e3e9f-9684-46ff-8ea2-0873004478d0",
   "metadata": {},
   "source": [
    "Now, let's compare this to calling this same function from a class. Here `instance=None` so we expect it to be pretty much identical to above. "
   ]
  },
  {
   "cell_type": "code",
   "execution_count": 3,
   "id": "f0fd8d18-83f0-4f58-a842-c20c7123801e",
   "metadata": {},
   "outputs": [
    {
     "data": {
      "text/plain": [
       "<function __main__.Operation.add(self, a, b)>"
      ]
     },
     "execution_count": 3,
     "metadata": {},
     "output_type": "execute_result"
    }
   ],
   "source": [
    "class Operation:\n",
    "    def add(self, a, b):\n",
    "        return a + b\n",
    "\n",
    "Operation.add"
   ]
  },
  {
   "cell_type": "markdown",
   "id": "39f0568a-a14e-472b-9dfc-2edb622f05fe",
   "metadata": {},
   "source": [
    "And from an instance - here `instance=o` returned a **bound method**"
   ]
  },
  {
   "cell_type": "code",
   "execution_count": 4,
   "id": "cba07f90-820a-493d-a7ee-a96530832f5b",
   "metadata": {},
   "outputs": [
    {
     "data": {
      "text/plain": [
       "<bound method Operation.add of <__main__.Operation object at 0x000002A36A571690>>"
      ]
     },
     "execution_count": 4,
     "metadata": {},
     "output_type": "execute_result"
    }
   ],
   "source": [
    "o = Operation()\n",
    "o.add"
   ]
  },
  {
   "cell_type": "markdown",
   "id": "ece099ed-0a1c-4d13-a2c5-7200c3e47d75",
   "metadata": {},
   "source": [
    "We can get the exact same thing by doing this manually:"
   ]
  },
  {
   "cell_type": "code",
   "execution_count": 10,
   "id": "eb23b2d8-2aca-44cf-bc60-980c15beadc9",
   "metadata": {},
   "outputs": [
    {
     "data": {
      "text/plain": [
       "(True, False)"
      ]
     },
     "execution_count": 10,
     "metadata": {},
     "output_type": "execute_result"
    }
   ],
   "source": [
    "bound_method = Operation.add.__get__(o, Operation)\n",
    "\n",
    "bound_method == o.add, bound_method is o.add"
   ]
  },
  {
   "cell_type": "markdown",
   "id": "ba6fee32-e645-44e1-9789-346c67ed51ff",
   "metadata": {},
   "source": [
    "Note that `__get__` returns a **new** function each time it's called which is why `bound_method` is not **identical** (but is equivalent) to `o.add`."
   ]
  },
  {
   "cell_type": "markdown",
   "id": "219af8ec-4348-4730-8073-0614061dbaa4",
   "metadata": {},
   "source": [
    "From the bound method, where does python look for the associated function? In the `__func__` attribute:"
   ]
  },
  {
   "cell_type": "code",
   "execution_count": 11,
   "id": "7a523365-1d0c-47cc-b5c2-02bc4ff47913",
   "metadata": {},
   "outputs": [
    {
     "data": {
      "text/plain": [
       "<function __main__.Operation.add(self, a, b)>"
      ]
     },
     "execution_count": 11,
     "metadata": {},
     "output_type": "execute_result"
    }
   ],
   "source": [
    "bound_method.__func__"
   ]
  },
  {
   "cell_type": "markdown",
   "id": "9f26e9af-f3d9-467c-8bec-270c8aba6a1e",
   "metadata": {},
   "source": [
    "Just for some points of clarification:\n",
    "\n",
    "When we retrieve the attribute `Operation.add`, we are in fact calling `Operation.add.__get__` with `instance` set to `None` and `owner_class` set to `Operation`. This tells Python to return the descriptor itself.\n",
    "\n",
    "When we retrieve the attribute `o.add`, we are in fact calling `o.add.__get__` with `instance` set to `o` and `owner_class` set to `Operation`. This tells Python to return a bound method which is a `types.MethodType` object."
   ]
  },
  {
   "cell_type": "markdown",
   "id": "f346c004-d236-455f-a8b9-f532daac56b9",
   "metadata": {},
   "source": [
    "Here's a trimmed snippet on `MethodType` from `help`:\n",
    "```\n",
    "class method(object)\n",
    " |  method(function, instance)\n",
    " |  \n",
    " |  Create a bound instance method object.\n",
    " |  ----------------------------------------------------------------------\n",
    " |  Data descriptors defined here:\n",
    " |  \n",
    " |  __func__\n",
    " |      the function (or other callable) implementing a method\n",
    " |  \n",
    " |  __self__\n",
    " |      the instance to which a method is bound\n",
    "```"
   ]
  },
  {
   "cell_type": "markdown",
   "id": "a3738d9e-dc6e-4118-abc8-1510f9027fe6",
   "metadata": {},
   "source": [
    "Now we mimic the behaviour of a method without actually creating one the traditional way:"
   ]
  },
  {
   "cell_type": "code",
   "execution_count": 4,
   "id": "92339eb2-8489-434d-a6c9-04f333db2928",
   "metadata": {},
   "outputs": [],
   "source": [
    "import types\n",
    "\n",
    "def say_hello(self):\n",
    "    if self and hasattr(self, 'name'):\n",
    "        return f'{self.name} says hello!'\n",
    "    else:\n",
    "        return 'Hello!'\n",
    "\n",
    "class Person:\n",
    "    def __init__(self, name):\n",
    "        self.name = name"
   ]
  },
  {
   "cell_type": "code",
   "execution_count": 5,
   "id": "d2c39eca-fb4c-4e49-830e-10f59c9a159b",
   "metadata": {},
   "outputs": [],
   "source": [
    "p = Person('Alex')\n",
    "m = types.MethodType(say_hello, p)"
   ]
  },
  {
   "cell_type": "code",
   "execution_count": 6,
   "id": "f08bd46b-7b6b-45cd-af91-723bbbdd862d",
   "metadata": {},
   "outputs": [
    {
     "data": {
      "text/plain": [
       "<bound method say_hello of <__main__.Person object at 0x000002A6E67198A0>>"
      ]
     },
     "execution_count": 6,
     "metadata": {},
     "output_type": "execute_result"
    }
   ],
   "source": [
    "m"
   ]
  },
  {
   "cell_type": "code",
   "execution_count": 7,
   "id": "aba24252-67ae-4cba-b08c-c3ec83ce2e17",
   "metadata": {},
   "outputs": [
    {
     "data": {
      "text/plain": [
       "'Alex says hello!'"
      ]
     },
     "execution_count": 7,
     "metadata": {},
     "output_type": "execute_result"
    }
   ],
   "source": [
    "m()"
   ]
  },
  {
   "cell_type": "markdown",
   "id": "3b801dd9-17b9-482d-9bee-b963914a0297",
   "metadata": {},
   "source": [
    "This information can be particular useful when making decorator classes in the metaprogramming section."
   ]
  }
 ],
 "metadata": {
  "kernelspec": {
   "display_name": "Python 3 (ipykernel)",
   "language": "python",
   "name": "python3"
  },
  "language_info": {
   "codemirror_mode": {
    "name": "ipython",
    "version": 3
   },
   "file_extension": ".py",
   "mimetype": "text/x-python",
   "name": "python",
   "nbconvert_exporter": "python",
   "pygments_lexer": "ipython3",
   "version": "3.10.4"
  }
 },
 "nbformat": 4,
 "nbformat_minor": 5
}
