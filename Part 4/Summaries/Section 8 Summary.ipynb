{
 "cells": [
  {
   "cell_type": "markdown",
   "id": "485abaeb-509c-4a86-9be6-faf6315d6ebc",
   "metadata": {},
   "source": [
    "# 01 - Descriptors"
   ]
  },
  {
   "cell_type": "markdown",
   "id": "856a5c6c-1f24-44a4-aee3-680845fb345e",
   "metadata": {},
   "source": [
    "These are the underpinning mechanism for properties, methods, slots, and even functions!"
   ]
  },
  {
   "cell_type": "markdown",
   "id": "26592279-fa6b-4680-9eea-1a94064dd9f9",
   "metadata": {},
   "source": [
    "Suppose we want a `Point2D` class whose coordinates must always be **integers**.\n",
    "\n",
    "Since plain attributes cannot guarantee this, we typically use `property` with getter and setter methods. After adding multiple properties, we end up with a lot of very similar boiler-plate code..\n",
    "\n",
    "What we would like is to have some class e.g. `IntegerValue` that defines these get and set methods according to how we want. Then, we could use a number of `IntegerValue` instances within our class and have them **bound** to our instance just like attributes."
   ]
  },
  {
   "cell_type": "markdown",
   "id": "cbcdd1da-a192-4aec-b306-345533db9791",
   "metadata": {},
   "source": [
    "The solution is the **descriptor protocol**.\n",
    "\n",
    "There are 4 main methods that make up the protocol - not all are required.\n",
    "- `__get__` -> `p.x`\n",
    "- `__set__` -> `p.x = 100`\n",
    "- `__delete__` -> `del p.x`\n",
    "- `__set_name__` -> new in Python 3.6 - we'll come back to this later."
   ]
  },
  {
   "cell_type": "markdown",
   "id": "c9d6f833-536c-4d15-9399-a3ad225ad473",
   "metadata": {},
   "source": [
    "There are two types of descriptors:\n",
    "\n",
    "- Non-data descriptors: Implement only `__get__` **only** (and optionally `__set_name__`).\n",
    "- Data descriptors: Implement `__set__` and/or `__delete__` (and often `__get__`).\n",
    "\n",
    "This distinction affects how Python accesses data."
   ]
  },
  {
   "cell_type": "markdown",
   "id": "20ffff9f-3f2e-4855-810a-cda1090053d5",
   "metadata": {},
   "source": [
    "#### Example 1"
   ]
  },
  {
   "cell_type": "markdown",
   "id": "576f6866-49d7-4335-a23f-8bb9ea0291b7",
   "metadata": {},
   "source": [
    "Let's create a simple non-data descriptor (don't worry about `instance` and `owner_class` for now):"
   ]
  },
  {
   "cell_type": "code",
   "execution_count": 10,
   "id": "0ea4515f-420f-4e2e-a342-28d7c4a4082f",
   "metadata": {},
   "outputs": [],
   "source": [
    "from datetime import datetime\n",
    "\n",
    "class TimeUTC:\n",
    "    def __get__(self, instance, owner_class):\n",
    "        return datetime.utcnow().isoformat()"
   ]
  },
  {
   "cell_type": "markdown",
   "id": "903b65e1-0952-44fe-ac42-6ea74eb50640",
   "metadata": {},
   "source": [
    "So `TimeUTC` is a class that implements the `__get__` method only, and is therefore considered a non-data descriptor."
   ]
  },
  {
   "cell_type": "markdown",
   "id": "a39a309b-d55d-481e-9762-bee338e3ffc9",
   "metadata": {},
   "source": [
    "We can now use it to create properties in other classes:"
   ]
  },
  {
   "cell_type": "code",
   "execution_count": 11,
   "id": "c53d6959-aa93-41f2-9ce0-fcb8bcb5f232",
   "metadata": {},
   "outputs": [],
   "source": [
    "class Logger:\n",
    "    current_time = TimeUTC()"
   ]
  },
  {
   "cell_type": "markdown",
   "id": "21e6f7d0-8572-43b9-8508-77b95145240a",
   "metadata": {},
   "source": [
    "Note that `current_time` is a class attribute:"
   ]
  },
  {
   "cell_type": "code",
   "execution_count": 12,
   "id": "c82ef978-9e8a-4f16-b594-4d0651585956",
   "metadata": {},
   "outputs": [
    {
     "data": {
      "text/plain": [
       "'2024-08-05T14:09:20.516021'"
      ]
     },
     "execution_count": 12,
     "metadata": {},
     "output_type": "execute_result"
    }
   ],
   "source": [
    "l = Logger()\n",
    "l.current_time"
   ]
  },
  {
   "cell_type": "markdown",
   "id": "ca045904-c9b0-4b73-8568-58c625e0ece3",
   "metadata": {},
   "source": [
    "This should seem quite odd. All `l.current_time` should do is return the (`repr` of our) `TimeUTC` instance. \n",
    "\n",
    "Instead it **calls** the `__get__` method.\n",
    "\n",
    "This works when we access the class attribute through the class itself:"
   ]
  },
  {
   "cell_type": "code",
   "execution_count": 13,
   "id": "53757299-d7b4-499d-9722-4e06f3f04bf0",
   "metadata": {},
   "outputs": [
    {
     "data": {
      "text/plain": [
       "'2024-08-05T14:09:20.875894'"
      ]
     },
     "execution_count": 13,
     "metadata": {},
     "output_type": "execute_result"
    }
   ],
   "source": [
    "Logger.current_time"
   ]
  },
  {
   "cell_type": "markdown",
   "id": "49560ef7-74b8-4d50-b929-32277fe1cb48",
   "metadata": {},
   "source": [
    "#### Example 2"
   ]
  },
  {
   "cell_type": "markdown",
   "id": "3b6f81cf-dd19-4434-9fbf-f5ff69846913",
   "metadata": {},
   "source": [
    "Lets create a `Deck` class that will return a **random** card from 2 to Ace and a **random** suit from the 4 suits. \n",
    "\n",
    "Since both attributes, card and suit, are effectively making a random choice from an iterable, we can cut down on the repeated code using a descriptor.\n",
    "\n",
    "We'll do this example both the traditional and the descriptor way to demonstrate their similarities/differences."
   ]
  },
  {
   "cell_type": "markdown",
   "id": "8fe7ca80-dc65-41eb-b045-3bc7cd6e5129",
   "metadata": {},
   "source": [
    "##### Traditional"
   ]
  },
  {
   "cell_type": "code",
   "execution_count": 14,
   "id": "e29c91a1-0304-4b61-b08a-244ba8e1e0d0",
   "metadata": {},
   "outputs": [],
   "source": [
    "from random import seed, choice"
   ]
  },
  {
   "cell_type": "code",
   "execution_count": 22,
   "id": "8a924620-aae7-4389-b945-f11bad21feb2",
   "metadata": {},
   "outputs": [
    {
     "name": "stdout",
     "output_type": "stream",
     "text": [
      "8 Club\n",
      "2 Diamond\n",
      "J Club\n",
      "8 Diamond\n",
      "9 Diamond\n"
     ]
    }
   ],
   "source": [
    "seed(0)\n",
    "\n",
    "class Deck:\n",
    "    @property\n",
    "    def card(self):\n",
    "        return choice(tuple('23456789JQKA') + ('10',))\n",
    "\n",
    "    @property\n",
    "    def suit(self):\n",
    "        return choice(('Spade', 'Heart', 'Diamond', 'Club'))\n",
    "\n",
    "d = Deck()\n",
    "\n",
    "for _ in range(5):\n",
    "    print(d.card, d.suit)"
   ]
  },
  {
   "cell_type": "markdown",
   "id": "e6d03588-3b67-4470-9bb7-97dc6ce0aaf5",
   "metadata": {},
   "source": [
    "##### Non-data Descriptor"
   ]
  },
  {
   "cell_type": "code",
   "execution_count": 24,
   "id": "97fece03-bd1a-405e-95a4-bc98f15b2aff",
   "metadata": {},
   "outputs": [
    {
     "name": "stdout",
     "output_type": "stream",
     "text": [
      "8 Club\n",
      "2 Diamond\n",
      "J Club\n",
      "8 Diamond\n",
      "9 Diamond\n"
     ]
    }
   ],
   "source": [
    "seed(0)\n",
    "\n",
    "class Choice:\n",
    "    def __init__(self, *choices):\n",
    "        self.choices = choices\n",
    "\n",
    "    def __get__(self, instance, owner_class):\n",
    "        return choice(self.choices)\n",
    "\n",
    "class Deck:\n",
    "    card = Choice(*'23456789JQKA', '10')\n",
    "    suit = Choice('Spade', 'Heart', 'Diamond', 'Club')\n",
    "\n",
    "d = Deck()\n",
    "\n",
    "for _ in range(5):\n",
    "    print(d.card, d.suit)"
   ]
  },
  {
   "cell_type": "markdown",
   "id": "8ed7523f-426a-4a21-987f-f8b87a5f98bd",
   "metadata": {},
   "source": [
    "So **non-data descriptors** are very similar to `property` without a lot of the boilerplate. \n",
    "\n",
    "**Non-data descriptors** are therefore very useful if we have several properties with very similar validation. The end result is a lot less code in the target class."
   ]
  },
  {
   "cell_type": "markdown",
   "id": "69c20051-d686-494f-ab71-963e04218364",
   "metadata": {},
   "source": [
    "# 02 - Getters and Setters"
   ]
  },
  {
   "cell_type": "markdown",
   "id": "0bda440d-f86e-4b2b-bbb7-79699cb392b8",
   "metadata": {},
   "source": [
    "In the previous subsection, we saw the two ways of accessing the attribute:"
   ]
  },
  {
   "cell_type": "markdown",
   "id": "6dc0c35c-8206-4ff4-a168-37355274e4ac",
   "metadata": {},
   "source": [
    "#### The `__get__` method"
   ]
  },
  {
   "cell_type": "code",
   "execution_count": 29,
   "id": "f460385a-9355-4b07-bcdf-87561b8ce752",
   "metadata": {},
   "outputs": [],
   "source": [
    "class TimeUTC:\n",
    "    def __get__(self, instance, owner_class):\n",
    "        return datetime.utcnow().isoformat()\n",
    "\n",
    "class Logger:\n",
    "    current_time = TimeUTC()"
   ]
  },
  {
   "cell_type": "code",
   "execution_count": 30,
   "id": "46b56fed-e9bd-4965-815d-8bc107a7433f",
   "metadata": {},
   "outputs": [
    {
     "data": {
      "text/plain": [
       "('2024-08-05T14:59:26.162925', '2024-08-05T14:59:26.162925')"
      ]
     },
     "execution_count": 30,
     "metadata": {},
     "output_type": "execute_result"
    }
   ],
   "source": [
    "l.current_time, Logger.current_time"
   ]
  },
  {
   "cell_type": "markdown",
   "id": "963385c1-3f73-4e87-a9bc-422a70a83c68",
   "metadata": {},
   "source": [
    "When `__get__` was called, we may want to know \n",
    "\n",
    "- which **instance** was used or `None` if called from the class.\n",
    "- what class owns the `TimeUTC` (descriptor) instance. In our case, it belongs to the `Logger` class.\n",
    "\n",
    "This is why we have the **signature**: `__get__(self, instance, owner_class)`\n",
    "\n",
    "(Note: A **signature** refers to the structure and components of a function or method definition, detailing how it can be called.)\n",
    "\n",
    "These components are passed into the `__get__` method when it's called. This means we can control the return based on whether it was \n",
    "- called from the class.\n",
    "- called from the instance."
   ]
  },
  {
   "cell_type": "markdown",
   "id": "55c45519-66a8-40b9-a85b-ab83b6e59469",
   "metadata": {},
   "source": [
    "Very often, we choose to:\n",
    "- return the descriptor `TimeUTC` **instance** when called from the **class** (`Logger`). This gives us an easy handle to the descriptor instance.\n",
    "- return the attribute **value** (`datetime.now()`) when called from an instance of the class (`l`)."
   ]
  },
  {
   "cell_type": "code",
   "execution_count": 31,
   "id": "9b04b395-bff7-4df0-ae4b-c9524cbf235e",
   "metadata": {},
   "outputs": [],
   "source": [
    "class TimeUTC:\n",
    "    def __get__(self, instance, owner_class):\n",
    "        if instance is None:\n",
    "            return self\n",
    "        return datetime.utcnow().isoformat()\n",
    "\n",
    "class Logger:\n",
    "    current_time = TimeUTC()"
   ]
  },
  {
   "cell_type": "code",
   "execution_count": 32,
   "id": "7a17b3ea-3312-4ee5-88fb-72b2cbaa5dcb",
   "metadata": {},
   "outputs": [
    {
     "data": {
      "text/plain": [
       "('2024-08-05T14:59:28.312074', <__main__.TimeUTC at 0x2a476fbb6a0>)"
      ]
     },
     "execution_count": 32,
     "metadata": {},
     "output_type": "execute_result"
    }
   ],
   "source": [
    "l.current_time, Logger.current_time"
   ]
  },
  {
   "cell_type": "markdown",
   "id": "3aa8ebdf-0b72-447e-bba3-d84dc12c53ea",
   "metadata": {},
   "source": [
    "Returning the descriptor instance when called from the class is consistent with how `property` works:"
   ]
  },
  {
   "cell_type": "code",
   "execution_count": 33,
   "id": "9d0695d0-367d-4a08-b5eb-895a601c7ef3",
   "metadata": {},
   "outputs": [
    {
     "data": {
      "text/plain": [
       "<property at 0x2a4771dd530>"
      ]
     },
     "execution_count": 33,
     "metadata": {},
     "output_type": "execute_result"
    }
   ],
   "source": [
    "class Logger:\n",
    "    @property\n",
    "    def current_time(self):\n",
    "        return datetime.utcnow().isoformat()\n",
    "\n",
    "Logger.current_time"
   ]
  },
  {
   "cell_type": "markdown",
   "id": "7aca27e8-a93c-4db2-949d-4845e6f3059c",
   "metadata": {},
   "source": [
    "So `property` **implements** the **descriptor protocol**. It might be a little easier to see if it's not used as a decorator:"
   ]
  },
  {
   "cell_type": "code",
   "execution_count": 37,
   "id": "b5838146-57aa-472a-b035-654f612a556b",
   "metadata": {},
   "outputs": [
    {
     "data": {
      "text/plain": [
       "(<property at 0x2a4771fc900>, '2024-08-05T15:32:03.094962')"
      ]
     },
     "execution_count": 37,
     "metadata": {},
     "output_type": "execute_result"
    }
   ],
   "source": [
    "class Logger:\n",
    "    def current_time(self):\n",
    "        return datetime.utcnow().isoformat()\n",
    "\n",
    "    current_time = property(fget=current_time)\n",
    "\n",
    "l = Logger()\n",
    "\n",
    "Logger.current_time, l.current_time"
   ]
  },
  {
   "cell_type": "markdown",
   "id": "d811f447-92e2-48c6-94fc-1d466d80394a",
   "metadata": {},
   "source": [
    "#### Caveat"
   ]
  },
  {
   "cell_type": "markdown",
   "id": "263d4c74-35e8-4638-95da-8ae3cc1330ae",
   "metadata": {},
   "source": [
    "There's an important caveat with these descriptors that we'll soon see as less of an issue.\n",
    "\n",
    "You'll notice that these descriptors are class attributes: `current_time = TimeUTC()`.\n",
    "\n",
    "Since only one instance of `TimeUTC` is being made, all `Logger` instances will share this one instance. \n",
    "\n",
    "For this particular example where we only get a constant value, there's no issue.\n",
    "\n",
    "But what if want to \"store\" and retrieve\" instance-specific data using `__set__`? After all, setting a value should be specific to the instance. \n",
    "\n",
    "In fact, this is not an issue because both the `__get__` and `__set__` methods need to know the `instance` and we can use this information to store instance-specific data.\n",
    "\n",
    "Let's demonstrate the issue with another example:"
   ]
  },
  {
   "cell_type": "code",
   "execution_count": 55,
   "id": "5b8ae6ba-2e47-4b1a-ba4b-77c42525f0a1",
   "metadata": {},
   "outputs": [],
   "source": [
    "class Countdown:\n",
    "    'non-data descriptor'\n",
    "    def __init__(self, start):\n",
    "        self.start = start + 1\n",
    "\n",
    "    def __get__(self, instance, owner):\n",
    "        if instance is None:\n",
    "            return self\n",
    "        self.start -= 1\n",
    "        return self.start"
   ]
  },
  {
   "cell_type": "code",
   "execution_count": 56,
   "id": "c2b43d7c-e7d9-4e31-8566-31859d2616d4",
   "metadata": {},
   "outputs": [],
   "source": [
    "class Rocket:\n",
    "    countdown = Countdown(10)"
   ]
  },
  {
   "cell_type": "code",
   "execution_count": 57,
   "id": "4836020d-2806-43f8-9bab-48c562896ba5",
   "metadata": {},
   "outputs": [],
   "source": [
    "rocket1 = Rocket()\n",
    "rocket2 = Rocket()"
   ]
  },
  {
   "cell_type": "code",
   "execution_count": 58,
   "id": "986d9368-875b-48a4-aa7d-cf1c5e5b9a53",
   "metadata": {},
   "outputs": [
    {
     "data": {
      "text/plain": [
       "(10, 9, 8, 7, 6)"
      ]
     },
     "execution_count": 58,
     "metadata": {},
     "output_type": "execute_result"
    }
   ],
   "source": [
    "rocket1.countdown, rocket1.countdown, rocket1.countdown, rocket1.countdown, rocket1.countdown,"
   ]
  },
  {
   "cell_type": "code",
   "execution_count": 59,
   "id": "5883b3d4-8b57-4ebd-87be-a9695814f644",
   "metadata": {},
   "outputs": [
    {
     "data": {
      "text/plain": [
       "5"
      ]
     },
     "execution_count": 59,
     "metadata": {},
     "output_type": "execute_result"
    }
   ],
   "source": [
    "rocket2.countdown"
   ]
  },
  {
   "cell_type": "markdown",
   "id": "d7076740-d895-45ed-ad3c-a6a958ae843b",
   "metadata": {},
   "source": [
    "#### The `__set__` method"
   ]
  },
  {
   "cell_type": "markdown",
   "id": "8bb02073-0ecb-4d43-b49d-5db3fb64716f",
   "metadata": {},
   "source": [
    "The signature is as follows: `__set__(self, instance, value)`\n",
    "- `self`: this references the descriptor instance, just like we had for the `__get__` example (e.g. `TimeUTC()`).\n",
    "- `instance`: the instance that the descriptor is *bound* to. This will be `None` if the descriptor was called from the class that the descriptor belongs to.\n",
    "- `value`: the value we want to assign to the attribute.\n",
    "\n",
    "Why is there no `owner_class` like we have in `__get__`?\n",
    "\n",
    "Setters (and deleters) are **always** called from instances. We never want to set a class attribute from an instance, we only want to affect the instance."
   ]
  },
  {
   "cell_type": "code",
   "execution_count": 60,
   "id": "a0bd8dec-4a0b-43a3-8a27-87ae40155274",
   "metadata": {},
   "outputs": [
    {
     "name": "stdout",
     "output_type": "stream",
     "text": [
      "__set__ called, instance=<__main__.Point2D object at 0x000002A4773ACFA0>, value=100\n"
     ]
    }
   ],
   "source": [
    "class IntegerValue:    \n",
    "    def __set__(self, instance, value):\n",
    "        print(f'__set__ called, instance={instance}, value={value}')\n",
    "\n",
    "class Point2D:\n",
    "    x = IntegerValue()\n",
    "\n",
    "p = Point2D()\n",
    "p.x = 100"
   ]
  },
  {
   "cell_type": "markdown",
   "id": "2b4cbc38-a963-45b9-8d59-5f8b8ec5c26f",
   "metadata": {},
   "source": [
    "The reason why I haven't elaborated on how to actually set the value for the instance is because its *not* straightforward.\n",
    "\n",
    "Currently, we are suffering from the caveat outlined earlier where different instances are sharing the same `IntegerValue` instance.\n",
    "\n",
    "We might naively think to set the value on the instance like `instance.x = value`, but we don't have access to the symbol `x`. So what symbol would we use? What if our class uses slots? Then we can't store things in the instance dictionary because we don't *have* an instance dictionary.\n",
    "\n",
    "There's plenty of other issues to consider.\n",
    "\n",
    "The next subsection will explore the various solutions."
   ]
  },
  {
   "cell_type": "markdown",
   "id": "9c17087b-224f-4df3-8c81-0771bb9fbf19",
   "metadata": {},
   "source": [
    "# 03 - Using as Instance Properties"
   ]
  },
  {
   "cell_type": "markdown",
   "id": "93743a78-0943-43d1-85a5-79aab2dd2c4b",
   "metadata": {},
   "source": [
    "#### Storing in descriptor's local dictionary"
   ]
  },
  {
   "cell_type": "markdown",
   "id": "bd4b342d-fc50-4bd1-b9fd-bc2dac10381b",
   "metadata": {},
   "source": [
    "We could store it as:\n",
    "\n",
    "key = object (problem if object is not hashable)\n",
    "value = attribute value"
   ]
  },
  {
   "cell_type": "code",
   "execution_count": 1,
   "id": "596a9e7e-4884-45cb-80e7-71d1ff8d7bfd",
   "metadata": {},
   "outputs": [],
   "source": [
    "class IntegerValue:\n",
    "    def __init__(self):\n",
    "        self.data = {}\n",
    "\n",
    "    def __set__(self, instance, value):\n",
    "        self.data[instance] = int(value)\n",
    "\n",
    "    def __get__(self, instance, owner):\n",
    "        if instance is None:\n",
    "            return self\n",
    "        return self.data.get(instance)"
   ]
  },
  {
   "cell_type": "code",
   "execution_count": 2,
   "id": "9e000884-acfc-4986-a548-0fe6480012ed",
   "metadata": {},
   "outputs": [
    {
     "data": {
      "text/plain": [
       "(100, 200)"
      ]
     },
     "execution_count": 2,
     "metadata": {},
     "output_type": "execute_result"
    }
   ],
   "source": [
    "class Point2D:\n",
    "    x = IntegerValue()\n",
    "    y = IntegerValue()\n",
    "\n",
    "\n",
    "p1 = Point2D()\n",
    "\n",
    "p1.x = 100.1\n",
    "p1.y = 200.2\n",
    "p1.x, p1.y"
   ]
  },
  {
   "cell_type": "markdown",
   "id": "d78d1376-a3ef-4fce-a1c3-c5e6f6f9efd5",
   "metadata": {},
   "source": [
    "We now essentially have a dictionary for each variable that's shared over all instances of this class."
   ]
  },
  {
   "cell_type": "code",
   "execution_count": 7,
   "id": "497ce450-84b1-44f3-8d79-111033fd68c1",
   "metadata": {},
   "outputs": [
    {
     "data": {
      "text/plain": [
       "{<__main__.Point2D at 0x2489f9cff10>: 100,\n",
       " <__main__.Point2D at 0x2489f9cf700>: 1000,\n",
       " <__main__.Point2D at 0x2489f9cffd0>: 10000}"
      ]
     },
     "execution_count": 7,
     "metadata": {},
     "output_type": "execute_result"
    }
   ],
   "source": [
    "p2 = Point2D()\n",
    "p2.x = 1000.1\n",
    "\n",
    "p3 = Point2D()\n",
    "p3.x = 10000.1\n",
    "\n",
    "Point2D.x.data"
   ]
  },
  {
   "cell_type": "markdown",
   "id": "4e77ecab-4a7e-4b4d-8d9c-d31dae68dfbb",
   "metadata": {},
   "source": [
    "But there's a subtle issue with this. \n",
    "\n",
    "After the line: `p = Point2D()`, we have **1 reference** to the object `p`.\n",
    "\n",
    "After `p.x = 100.1`, we store our instance in our dictionary and therefore have **2 references** to the object `p`.\n",
    "\n",
    "If we `del p`, we will delete the local symbol, but **not** the reference in the dictonary - we have a **memory leak**.\n",
    "\n",
    "The solution is to use **weak references**..."
   ]
  },
  {
   "cell_type": "markdown",
   "id": "0dc041ba-8884-494d-afc1-918773cf9441",
   "metadata": {},
   "source": [
    "# 04 - Strong and Weak References"
   ]
  },
  {
   "cell_type": "markdown",
   "id": "8875d312-55d9-49f0-a86e-9d15b59a5ddb",
   "metadata": {},
   "source": [
    "Throughout this entire course, we have only used **strong** references."
   ]
  },
  {
   "cell_type": "markdown",
   "id": "e642c13a-e79a-4fff-bb4b-248b5cf6de47",
   "metadata": {},
   "source": [
    "If we have:\n",
    "```python\n",
    "p1 = Person()\n",
    "p2 = p1\n",
    "```\n",
    "we have the following arrangement: `p1 ---> [Person Object] <--- p2`\n",
    "\n",
    "When we `del p1`, at least one **strong** reference remains, so the object is *not* garbage collected."
   ]
  },
  {
   "cell_type": "markdown",
   "id": "b71cb186-1931-49df-8747-1617c9121c41",
   "metadata": {},
   "source": [
    "A **weak** reference is another type of object in Python. It **does not affect the reference count as far as the memory manager is concerned**.\n",
    "\n",
    "Using a weak reference, we will have the following arrangement: `p1 --[strong]--> [Person Object] <--[weak]-- p2`\n",
    "\n",
    "`del p1` will result in **garbage collection** and `p2` will be considered **\"dead\"**.\n"
   ]
  },
  {
   "cell_type": "markdown",
   "id": "ce089c83-8212-4dd6-9790-934e31c8e8d7",
   "metadata": {},
   "source": [
    "So the solution in our code is to store a **weak** reference to the object as the key, rather than the object itself."
   ]
  },
  {
   "cell_type": "markdown",
   "id": "56145447-6c40-4507-a2dd-76527dec0af7",
   "metadata": {},
   "source": [
    "Here's how to **create** a weak reference."
   ]
  },
  {
   "cell_type": "code",
   "execution_count": 10,
   "id": "b91f0048-2855-46a0-bc54-e63ffff38500",
   "metadata": {},
   "outputs": [],
   "source": [
    "class Person:\n",
    "    pass"
   ]
  },
  {
   "cell_type": "code",
   "execution_count": 11,
   "id": "af4b4e6c-b6cd-4068-84a8-1ad4aeb7c83f",
   "metadata": {},
   "outputs": [
    {
     "data": {
      "text/plain": [
       "<weakref at 0x0000024F2A82BD30; to 'Person' at 0x0000024F295CC3A0>"
      ]
     },
     "execution_count": 11,
     "metadata": {},
     "output_type": "execute_result"
    }
   ],
   "source": [
    "import weakref\n",
    "\n",
    "p1 = Person()\n",
    "p2 = weakref.ref(p1)\n",
    "p2"
   ]
  },
  {
   "cell_type": "markdown",
   "id": "e358a3d2-361e-434b-a505-1133947b01b6",
   "metadata": {},
   "source": [
    "Our weak reference is now a **callable** which when called, Python will see if that object is still around and if so, will return it. Otherwise it will return `None`."
   ]
  },
  {
   "cell_type": "code",
   "execution_count": 12,
   "id": "9207e319-a6f3-44f0-bfeb-4f3c870c6237",
   "metadata": {},
   "outputs": [
    {
     "data": {
      "text/plain": [
       "<__main__.Person at 0x24f295cc3a0>"
      ]
     },
     "execution_count": 12,
     "metadata": {},
     "output_type": "execute_result"
    }
   ],
   "source": [
    "p2()"
   ]
  },
  {
   "cell_type": "markdown",
   "id": "4be9bf91-354a-45fd-93ee-8ddfcfcec6c5",
   "metadata": {},
   "source": [
    "Going back to our original problem, we can now store all of these **weak** references in a dictionary. \n",
    "\n",
    "But, `weakref` has a `WeakKeyDictionary` just for that! \n",
    "\n",
    "This is far more convenient to use for two reasons:\n",
    "\n",
    "1. We don't need to create the weak reference ourselves. Instead, we pass our strong reference as the key and this dictionary will **automatically convert** it into a **weak** reference.\n",
    "2. The item is **automatically removed** from the weak key dictionary once the object is **dead**."
   ]
  },
  {
   "cell_type": "code",
   "execution_count": 13,
   "id": "a7cb1d93-17dc-4b83-9120-c26604b9a8cc",
   "metadata": {},
   "outputs": [],
   "source": [
    "from weakref import WeakKeyDictionary\n",
    "\n",
    "p1 = Person()\n",
    "d = WeakKeyDictionary()\n",
    "d[p1] = 'some value'"
   ]
  },
  {
   "cell_type": "markdown",
   "id": "19f4595e-a7cc-4840-845b-ce131e77738d",
   "metadata": {},
   "source": [
    "While `d.keys()` returns the actual objects, we can find the **weak** references via `d.keyrefs()`: (I am not running `list(d.keys())` because that list will store *another* reference to `p1` which will mess up reference counting later.)"
   ]
  },
  {
   "cell_type": "code",
   "execution_count": 14,
   "id": "717df5cd-72b7-4d0f-a4c2-bf064e723ee3",
   "metadata": {},
   "outputs": [
    {
     "data": {
      "text/plain": [
       "[<weakref at 0x0000024F293F6020; to 'Person' at 0x0000024F2A7C64A0>]"
      ]
     },
     "execution_count": 14,
     "metadata": {},
     "output_type": "execute_result"
    }
   ],
   "source": [
    "d.keyrefs()"
   ]
  },
  {
   "cell_type": "code",
   "execution_count": 15,
   "id": "b90eb3d0-cb29-49df-a380-d97d3296a510",
   "metadata": {},
   "outputs": [
    {
     "name": "stdout",
     "output_type": "stream",
     "text": [
      "1\n"
     ]
    }
   ],
   "source": [
    "import weakref\n",
    "print(weakref.getweakrefcount(p1))"
   ]
  },
  {
   "cell_type": "markdown",
   "id": "b98c7441-ea84-44f3-acb7-a22087f8653f",
   "metadata": {},
   "source": [
    "Where is Python getting this information?\n",
    "\n",
    "It's actually stored in the object itself! But this is an internal implementation (as a doubly-linked list) so we can't do much with it."
   ]
  },
  {
   "cell_type": "code",
   "execution_count": 16,
   "id": "dc1bc33a-5e33-4a5b-9556-2458e09180e0",
   "metadata": {},
   "outputs": [
    {
     "data": {
      "text/plain": [
       "<weakref at 0x0000024F293F6020; to 'Person' at 0x0000024F2A7C64A0>"
      ]
     },
     "execution_count": 16,
     "metadata": {},
     "output_type": "execute_result"
    }
   ],
   "source": [
    "p1.__weakref__"
   ]
  },
  {
   "cell_type": "markdown",
   "id": "37fb85f8-94a3-4617-a6ea-52f41933de90",
   "metadata": {},
   "source": [
    "Let's delete this reference just to confirm that the `WeakKeyDictionary` handles the cleanup:"
   ]
  },
  {
   "cell_type": "code",
   "execution_count": 17,
   "id": "6933e210-094e-4a80-9cc0-ba6d19b6c18c",
   "metadata": {},
   "outputs": [],
   "source": [
    "del p1"
   ]
  },
  {
   "cell_type": "code",
   "execution_count": 18,
   "id": "59b1115f-77df-4725-bbf5-29a4a6dd930e",
   "metadata": {},
   "outputs": [
    {
     "name": "stdout",
     "output_type": "stream",
     "text": [
      "[]\n",
      "[]\n"
     ]
    }
   ],
   "source": [
    "print(list(d.keys()))\n",
    "print(d.keyrefs())"
   ]
  },
  {
   "cell_type": "markdown",
   "id": "67fcf161-8859-45c1-907d-d7897f568e0e",
   "metadata": {},
   "source": [
    "**Caveat**\n",
    "- If we use **slots**, then we won't have an instance dictionary so we'd be unable to have a `.__weakref__` key.\n",
    "\n",
    "- The object must be hashable, so if we implement `__eq__`, we must remember to implement `__hash__` too.\n",
    "\n",
    "- We cannot create weak references for most types. This includes: `str`, `list`, `int`, `dict`.\n",
    "\n"
   ]
  },
  {
   "cell_type": "code",
   "execution_count": 19,
   "id": "3f0c5c60-4ab5-4054-81b0-75428c1744fd",
   "metadata": {},
   "outputs": [
    {
     "ename": "TypeError",
     "evalue": "cannot create weak reference to 'list' object",
     "output_type": "error",
     "traceback": [
      "\u001b[1;31m---------------------------------------------------------------------------\u001b[0m",
      "\u001b[1;31mTypeError\u001b[0m                                 Traceback (most recent call last)",
      "Cell \u001b[1;32mIn[19], line 2\u001b[0m\n\u001b[0;32m      1\u001b[0m l \u001b[38;5;241m=\u001b[39m [\u001b[38;5;241m1\u001b[39m, \u001b[38;5;241m2\u001b[39m, \u001b[38;5;241m3\u001b[39m]\n\u001b[1;32m----> 2\u001b[0m w \u001b[38;5;241m=\u001b[39m \u001b[43mweakref\u001b[49m\u001b[38;5;241;43m.\u001b[39;49m\u001b[43mref\u001b[49m\u001b[43m(\u001b[49m\u001b[43ml\u001b[49m\u001b[43m)\u001b[49m\n",
      "\u001b[1;31mTypeError\u001b[0m: cannot create weak reference to 'list' object"
     ]
    }
   ],
   "source": [
    "l = [1, 2, 3]\n",
    "w = weakref.ref(l)"
   ]
  },
  {
   "cell_type": "code",
   "execution_count": 20,
   "id": "432ee7e0-7b80-4a39-b257-0adef2972d39",
   "metadata": {},
   "outputs": [
    {
     "ename": "TypeError",
     "evalue": "cannot create weak reference to 'str' object",
     "output_type": "error",
     "traceback": [
      "\u001b[1;31m---------------------------------------------------------------------------\u001b[0m",
      "\u001b[1;31mTypeError\u001b[0m                                 Traceback (most recent call last)",
      "Cell \u001b[1;32mIn[20], line 2\u001b[0m\n\u001b[0;32m      1\u001b[0m d \u001b[38;5;241m=\u001b[39m WeakKeyDictionary()\n\u001b[1;32m----> 2\u001b[0m \u001b[43md\u001b[49m\u001b[43m[\u001b[49m\u001b[38;5;124;43m'\u001b[39;49m\u001b[38;5;124;43mpython\u001b[39;49m\u001b[38;5;124;43m'\u001b[39;49m\u001b[43m]\u001b[49m \u001b[38;5;241m=\u001b[39m \u001b[38;5;124m'\u001b[39m\u001b[38;5;124msome value\u001b[39m\u001b[38;5;124m'\u001b[39m\n",
      "File \u001b[1;32m~\\AppData\\Local\\Programs\\Python\\Python310\\lib\\weakref.py:429\u001b[0m, in \u001b[0;36mWeakKeyDictionary.__setitem__\u001b[1;34m(self, key, value)\u001b[0m\n\u001b[0;32m    428\u001b[0m \u001b[38;5;28;01mdef\u001b[39;00m \u001b[38;5;21m__setitem__\u001b[39m(\u001b[38;5;28mself\u001b[39m, key, value):\n\u001b[1;32m--> 429\u001b[0m     \u001b[38;5;28mself\u001b[39m\u001b[38;5;241m.\u001b[39mdata[\u001b[43mref\u001b[49m\u001b[43m(\u001b[49m\u001b[43mkey\u001b[49m\u001b[43m,\u001b[49m\u001b[43m \u001b[49m\u001b[38;5;28;43mself\u001b[39;49m\u001b[38;5;241;43m.\u001b[39;49m\u001b[43m_remove\u001b[49m\u001b[43m)\u001b[49m] \u001b[38;5;241m=\u001b[39m value\n",
      "\u001b[1;31mTypeError\u001b[0m: cannot create weak reference to 'str' object"
     ]
    }
   ],
   "source": [
    "d = WeakKeyDictionary()\n",
    "d['python'] = 'some value'"
   ]
  },
  {
   "cell_type": "markdown",
   "id": "4cac0bfc-2d7b-4845-b611-14ef25f12017",
   "metadata": {},
   "source": [
    "# 05 - Back to Instance Properties"
   ]
  },
  {
   "cell_type": "markdown",
   "id": "b40e6b6e-456b-4e65-b7c0-66fe80f2bf4b",
   "metadata": {},
   "source": [
    "#### Penultimate \"Good Enough\" Solution"
   ]
  },
  {
   "cell_type": "markdown",
   "id": "f38d9df5-9a1e-4214-b6e9-0fb7ea1593d8",
   "metadata": {},
   "source": [
    "This is our **Penultimate Approach** of implementing **data descriptors** that:\n",
    "- have **instance specific** storage\n",
    "- do not use the instance itself for storage (`__slots__` problem)\n",
    "- handles cleanup after objects get **finalised** (i.e. garbage collected)\n",
    "\n",
    "but cannot:\n",
    "- handle **non-hashable** instances.\n",
    "\n",
    "This approach will be fine for 99% of cases."
   ]
  },
  {
   "cell_type": "code",
   "execution_count": 3,
   "id": "4a695846-71f7-4406-9dab-711e76cf6848",
   "metadata": {},
   "outputs": [],
   "source": [
    "from weakref import WeakKeyDictionary\n",
    "\n",
    "class IntegerValue:\n",
    "    def __init__(self):\n",
    "        self.data = WeakKeyDictionary()\n",
    "\n",
    "    def __set__(self, instance, value):\n",
    "        self.data[instance] = int(value)\n",
    "\n",
    "    def __get__(self, instance, owner):\n",
    "        if instance is None:\n",
    "            return self\n",
    "        return self.data.get(instance)"
   ]
  },
  {
   "cell_type": "code",
   "execution_count": 4,
   "id": "8735f732-e8f2-4ea9-ab44-5de307e9f917",
   "metadata": {},
   "outputs": [
    {
     "data": {
      "text/plain": [
       "100"
      ]
     },
     "execution_count": 4,
     "metadata": {},
     "output_type": "execute_result"
    }
   ],
   "source": [
    "class Point2D:\n",
    "    x = IntegerValue()\n",
    "    \n",
    "    def __init__(self, x):\n",
    "        self.x = x  # this is calling x.__set__\n",
    "\n",
    "p1 = Point2D(100.1)\n",
    "p1.x"
   ]
  },
  {
   "cell_type": "code",
   "execution_count": 5,
   "id": "0994c50a-0ded-4864-a25c-a5cb98ebbb17",
   "metadata": {},
   "outputs": [],
   "source": [
    "del p1"
   ]
  },
  {
   "cell_type": "code",
   "execution_count": 6,
   "id": "d7b5281d-013a-4d30-bba4-210c9366c010",
   "metadata": {},
   "outputs": [
    {
     "data": {
      "text/plain": [
       "[]"
      ]
     },
     "execution_count": 6,
     "metadata": {},
     "output_type": "execute_result"
    }
   ],
   "source": [
    "list(Point2D.x.data)"
   ]
  },
  {
   "cell_type": "markdown",
   "id": "2d8203ec-3cad-4286-8e80-73e21adf44d6",
   "metadata": {},
   "source": [
    "#### Final Perfect Solution"
   ]
  },
  {
   "cell_type": "markdown",
   "id": "f31bf9d4-acae-4cd5-8f10-0be51a86125f",
   "metadata": {},
   "source": [
    "Before we can implement the perfect solution, we need to learn about once extra thing.\n",
    "\n",
    "`weakref.ref()` has an additional parameter, that takes a **callable**. \n",
    "\n",
    "This **callable** receives the **weak reference**, *not* the object to it, and is called immediately after the object is garbage collected; if there's **at least one** reference remaining, this callable *won't* be called. This is how the `WeakRefDictionary` knows when to remove the weak reference from the dictionary - presumably the callable is going into the dictionary and removing it. We will use this mechanism to remove **dead** references from our regular dictionary instead of using a `WeakRefDictionary`\n",
    "\n",
    "Let's show a simple demonstration of how it works:"
   ]
  },
  {
   "cell_type": "code",
   "execution_count": 20,
   "id": "f4315017-3d56-4ee6-afd9-fad92f583903",
   "metadata": {},
   "outputs": [],
   "source": [
    "import weakref\n",
    "\n",
    "def obj_destroyed(obj):\n",
    "    print(f'{obj} has just been destroyed.')\n",
    "\n",
    "p = Point2D(100.1)\n",
    "p_weak = weakref.ref(p, obj_destroyed)"
   ]
  },
  {
   "cell_type": "code",
   "execution_count": 21,
   "id": "f3e8ceda-3a2a-4958-8005-c476d0b2e1ae",
   "metadata": {},
   "outputs": [
    {
     "name": "stdout",
     "output_type": "stream",
     "text": [
      "<weakref at 0x000001E1F2666D40; dead> has just been destroyed.\n"
     ]
    }
   ],
   "source": [
    "del p"
   ]
  },
  {
   "cell_type": "markdown",
   "id": "bc840d51-0748-4caa-b45e-e12dc913e4ca",
   "metadata": {},
   "source": [
    "Now we can move onto our **Perfect Approach** of implementing **data descriptors** that:\n",
    "- have **instance specific** storage\n",
    "- do not use the instance itself for storage (`__slots__` problem)\n",
    "- handles cleanup after objects get **finalised** (i.e. garbage collected)\n",
    "- handles **non-hashable** instances."
   ]
  },
  {
   "cell_type": "markdown",
   "id": "81bf474d-9fdd-461a-bded-2a503c705f6d",
   "metadata": {},
   "source": [
    "To implement this we need to:\n",
    "1. Use a **regular** dictionary instead of a **WeakRefDictionary**.\n",
    "2. Use the `id` of an instance as the key (because it's unique), not a weak reference to it. Note that the `id` value of an object is **not** a strong reference to the obect itself.\n",
    "3. Instead of storing just the value, we will store a `tuple` containing the value *and* a **weak reference**. This **weak reference** will take an additional parameter called `self._finalise_instance` which will be responsible for eventually removing the associated key from the dictionary upon **finalisation**.\n",
    "4. Create a method called `self._finalise_instance` which will receive the weak object and then iterate through all values in our dictionary until it finds the tuple containing the **same** weak reference (reverse lookup). Once this has been found, delete the associated key.\n",
    "5. Get the desired value back via the instance's `id`. This will return a `tuple` so ensure you return the 2nd value in it.\n",
    "6. If your class `Point2D` uses **slots**, make sure to add `'__weakref__`' to the `__slots__` attribute. This will enable use to make **weak** references of instances of this class."
   ]
  },
  {
   "cell_type": "code",
   "execution_count": 41,
   "id": "b4048952-2d02-40b5-82c6-d228415b34db",
   "metadata": {},
   "outputs": [],
   "source": [
    "import weakref\n",
    "\n",
    "class IntegerValue:\n",
    "    def __init__(self):\n",
    "        self.data = {}\n",
    "\n",
    "    def __set__(self, instance, value):\n",
    "        self.data[id(instance)] = (weakref.ref(instance, self._finalise_instance), int(value))\n",
    "\n",
    "    def __get__(self, instance, owner):\n",
    "        if instance is None:\n",
    "            return self\n",
    "        value_tuple = self.data.get(id(instance))\n",
    "        return value_tuple[1]\n",
    "\n",
    "    def _finalise_instance(self, weak_ref):\n",
    "        for key, value in self.data.items():\n",
    "            if value[0] is weak_ref:\n",
    "                del self.data[key]\n",
    "                break\n"
   ]
  },
  {
   "cell_type": "code",
   "execution_count": 42,
   "id": "c2d95cdd-11e1-46b9-ac6f-f57ca4517c3b",
   "metadata": {},
   "outputs": [
    {
     "data": {
      "text/plain": [
       "100"
      ]
     },
     "execution_count": 42,
     "metadata": {},
     "output_type": "execute_result"
    }
   ],
   "source": [
    "class Point2D:\n",
    "    __slots__ = '__weakref__',\n",
    "    x = IntegerValue()\n",
    "    \n",
    "    def __init__(self, x, y=None):\n",
    "        self.x = x  # this is calling x.__set__\n",
    "\n",
    "    def __eq__(self, other):  # class no longer hashable as __hash__ hasn't been implemented.\n",
    "        return isinstance(other, Point) and self.x == other.x\n",
    "\n",
    "p1 = Point2D(100.1)\n",
    "p1.x"
   ]
  },
  {
   "cell_type": "code",
   "execution_count": 43,
   "id": "5eb147be-74d2-4c9a-ba00-5ae842cd6858",
   "metadata": {},
   "outputs": [],
   "source": [
    "del p1"
   ]
  },
  {
   "cell_type": "code",
   "execution_count": 44,
   "id": "01d1cf3f-281e-451c-80a3-b1ee97250ec4",
   "metadata": {},
   "outputs": [
    {
     "data": {
      "text/plain": [
       "[]"
      ]
     },
     "execution_count": 44,
     "metadata": {},
     "output_type": "execute_result"
    }
   ],
   "source": [
    "list(Point2D.x.data)"
   ]
  },
  {
   "cell_type": "markdown",
   "id": "3b380858-a7d7-4d5e-a53b-ca7e6797c473",
   "metadata": {},
   "source": [
    "#### Practical Example"
   ]
  },
  {
   "cell_type": "markdown",
   "id": "cba1fad8-d539-469b-9d71-adf83763f500",
   "metadata": {},
   "source": [
    "Below is an example that will demonstrate how descriptors result in much simpler code compared to creating numerous properties which all call the same refactored method:"
   ]
  },
  {
   "cell_type": "code",
   "execution_count": 1,
   "id": "785dad63-2a7e-4f5d-856a-eceb76ab8d06",
   "metadata": {},
   "outputs": [],
   "source": [
    "import weakref\n",
    "\n",
    "class ValidString:\n",
    "    def __init__(self, min_length=0, max_length=255):\n",
    "        self.data = {}\n",
    "        self._min_length = min_length\n",
    "        self._max_length = max_length\n",
    "        \n",
    "    def __set__(self, instance, value):\n",
    "        if not isinstance(value, str):\n",
    "            raise ValueError('Value must be a string.')\n",
    "        if len(value) < self._min_length:\n",
    "            raise ValueError(\n",
    "                f'Value should be at least {self._min_length} characters.'\n",
    "            )\n",
    "        if len(value) > self._max_length:\n",
    "            raise ValueError(\n",
    "                f'Value cannot exceed {self._max_length} characters.'\n",
    "            )\n",
    "        self.data[id(instance)] = (weakref.ref(instance, self._finalize_instance), value)\n",
    "        \n",
    "    def __get__(self, instance, owner_class):\n",
    "        if instance is None:\n",
    "            return self\n",
    "        else:\n",
    "            value_tuple = self.data.get(id(instance))\n",
    "            return value_tuple[1]  \n",
    "        \n",
    "    def _finalize_instance(self, weak_ref):\n",
    "        for key, value in self.data.items():\n",
    "            if value[0] is weak_ref:\n",
    "                del self.data[key]\n",
    "                break"
   ]
  },
  {
   "cell_type": "markdown",
   "id": "db1d3c23-abc6-4205-a86a-7a0aaf8505de",
   "metadata": {},
   "source": [
    "We can now use `ValidString` as many times as we need:"
   ]
  },
  {
   "cell_type": "code",
   "execution_count": 2,
   "id": "96d04bd7-0a65-43d1-806e-612980c833ab",
   "metadata": {},
   "outputs": [],
   "source": [
    "class Person:\n",
    "    __slots__ = '__weakref__',\n",
    "    \n",
    "    first_name = ValidString(1, 100)\n",
    "    last_name = ValidString(1, 100)\n",
    "    \n",
    "    def __eq__(self, other):\n",
    "        return (\n",
    "            isinstance(other, Person) and \n",
    "            self.first_name == other.first_name and \n",
    "            self.last_name == other.last_name\n",
    "        )"
   ]
  },
  {
   "cell_type": "code",
   "execution_count": 3,
   "id": "ff8784fe-2e5e-4b26-b067-0781c0906620",
   "metadata": {},
   "outputs": [],
   "source": [
    "p1, p2 = Person(), Person()\n",
    "\n",
    "p1.first_name, p1.last_name = 'Guido', 'van Rossum'\n",
    "p2.first_name, p2.last_name = 'Raymond', 'Hettinger'"
   ]
  },
  {
   "cell_type": "code",
   "execution_count": 4,
   "id": "aef34667-5673-4b38-92b9-f51458bcaad5",
   "metadata": {},
   "outputs": [],
   "source": [
    "class BankAccount:\n",
    "    __slots__ = '__weakref__',\n",
    "    \n",
    "    account_number = ValidString(10, 255)\n",
    "    \n",
    "    def __eq__(self, other):\n",
    "        return (\n",
    "            isinstance(other, BankAccount) and \n",
    "            self.account_number == other.account_number\n",
    "        )"
   ]
  },
  {
   "cell_type": "code",
   "execution_count": 5,
   "id": "05eef4ee-ea14-4ab6-bb03-38c641b845f2",
   "metadata": {},
   "outputs": [
    {
     "ename": "ValueError",
     "evalue": "Value should be at least 10 characters.",
     "output_type": "error",
     "traceback": [
      "\u001b[1;31m---------------------------------------------------------------------------\u001b[0m",
      "\u001b[1;31mValueError\u001b[0m                                Traceback (most recent call last)",
      "Cell \u001b[1;32mIn[5], line 2\u001b[0m\n\u001b[0;32m      1\u001b[0m b1, b2 \u001b[38;5;241m=\u001b[39m BankAccount(), BankAccount()\n\u001b[1;32m----> 2\u001b[0m \u001b[43mb1\u001b[49m\u001b[38;5;241;43m.\u001b[39;49m\u001b[43maccount_number\u001b[49m \u001b[38;5;241m=\u001b[39m \u001b[38;5;124m'\u001b[39m\u001b[38;5;124mtooshort\u001b[39m\u001b[38;5;124m'\u001b[39m\n",
      "Cell \u001b[1;32mIn[1], line 13\u001b[0m, in \u001b[0;36mValidString.__set__\u001b[1;34m(self, instance, value)\u001b[0m\n\u001b[0;32m     11\u001b[0m     \u001b[38;5;28;01mraise\u001b[39;00m \u001b[38;5;167;01mValueError\u001b[39;00m(\u001b[38;5;124m'\u001b[39m\u001b[38;5;124mValue must be a string.\u001b[39m\u001b[38;5;124m'\u001b[39m)\n\u001b[0;32m     12\u001b[0m \u001b[38;5;28;01mif\u001b[39;00m \u001b[38;5;28mlen\u001b[39m(value) \u001b[38;5;241m<\u001b[39m \u001b[38;5;28mself\u001b[39m\u001b[38;5;241m.\u001b[39m_min_length:\n\u001b[1;32m---> 13\u001b[0m     \u001b[38;5;28;01mraise\u001b[39;00m \u001b[38;5;167;01mValueError\u001b[39;00m(\n\u001b[0;32m     14\u001b[0m         \u001b[38;5;124mf\u001b[39m\u001b[38;5;124m'\u001b[39m\u001b[38;5;124mValue should be at least \u001b[39m\u001b[38;5;132;01m{\u001b[39;00m\u001b[38;5;28mself\u001b[39m\u001b[38;5;241m.\u001b[39m_min_length\u001b[38;5;132;01m}\u001b[39;00m\u001b[38;5;124m characters.\u001b[39m\u001b[38;5;124m'\u001b[39m\n\u001b[0;32m     15\u001b[0m     )\n\u001b[0;32m     16\u001b[0m \u001b[38;5;28;01mif\u001b[39;00m \u001b[38;5;28mlen\u001b[39m(value) \u001b[38;5;241m>\u001b[39m \u001b[38;5;28mself\u001b[39m\u001b[38;5;241m.\u001b[39m_max_length:\n\u001b[0;32m     17\u001b[0m     \u001b[38;5;28;01mraise\u001b[39;00m \u001b[38;5;167;01mValueError\u001b[39;00m(\n\u001b[0;32m     18\u001b[0m         \u001b[38;5;124mf\u001b[39m\u001b[38;5;124m'\u001b[39m\u001b[38;5;124mValue cannot exceed \u001b[39m\u001b[38;5;132;01m{\u001b[39;00m\u001b[38;5;28mself\u001b[39m\u001b[38;5;241m.\u001b[39m_max_length\u001b[38;5;132;01m}\u001b[39;00m\u001b[38;5;124m characters.\u001b[39m\u001b[38;5;124m'\u001b[39m\n\u001b[0;32m     19\u001b[0m     )\n",
      "\u001b[1;31mValueError\u001b[0m: Value should be at least 10 characters."
     ]
    }
   ],
   "source": [
    "b1, b2 = BankAccount(), BankAccount()\n",
    "b1.account_number = 'tooshort'"
   ]
  },
  {
   "cell_type": "code",
   "execution_count": 6,
   "id": "642ac727-640d-4a96-9d07-17822b519428",
   "metadata": {},
   "outputs": [],
   "source": [
    "del p1\n",
    "del p2\n",
    "del b1\n",
    "del b2"
   ]
  },
  {
   "cell_type": "code",
   "execution_count": 7,
   "id": "35e2c76b-b1b4-45db-be7b-259046305a71",
   "metadata": {},
   "outputs": [
    {
     "data": {
      "text/plain": [
       "{}"
      ]
     },
     "execution_count": 7,
     "metadata": {},
     "output_type": "execute_result"
    }
   ],
   "source": [
    "Person.first_name.data"
   ]
  },
  {
   "cell_type": "markdown",
   "id": "cd79a1ab-cd55-41c3-9eff-c9aaa25b1bd2",
   "metadata": {},
   "source": [
    "# 06 - The __set_name__ Method"
   ]
  },
  {
   "cell_type": "markdown",
   "id": "f78661bd-ef21-4025-a328-314cc021ade5",
   "metadata": {},
   "source": [
    "# 07 - Property Lookup Resolution"
   ]
  },
  {
   "cell_type": "markdown",
   "id": "85f7d2a6-df87-4fd0-a673-abbadeabb329",
   "metadata": {},
   "source": [
    "# 08 - Properties and Descriptors"
   ]
  },
  {
   "cell_type": "markdown",
   "id": "5152d3dd-f456-4ab3-bbc9-ca24ebecf3ef",
   "metadata": {},
   "source": [
    "# 09 - Application - Example 1"
   ]
  },
  {
   "cell_type": "markdown",
   "id": "c4cd859d-7d6b-470d-8484-020379276d81",
   "metadata": {},
   "source": [
    "# 10 - Application - Example 2"
   ]
  },
  {
   "cell_type": "markdown",
   "id": "976ac581-146d-47de-a6b6-8ae4383d9928",
   "metadata": {},
   "source": [
    "# 11 - Functions and Descriptors"
   ]
  }
 ],
 "metadata": {
  "kernelspec": {
   "display_name": "Python 3 (ipykernel)",
   "language": "python",
   "name": "python3"
  },
  "language_info": {
   "codemirror_mode": {
    "name": "ipython",
    "version": 3
   },
   "file_extension": ".py",
   "mimetype": "text/x-python",
   "name": "python",
   "nbconvert_exporter": "python",
   "pygments_lexer": "ipython3",
   "version": "3.10.4"
  }
 },
 "nbformat": 4,
 "nbformat_minor": 5
}
