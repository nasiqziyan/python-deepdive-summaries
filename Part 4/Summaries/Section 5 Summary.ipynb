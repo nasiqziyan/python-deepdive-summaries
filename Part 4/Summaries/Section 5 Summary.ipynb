{
 "cells": [
  {
   "cell_type": "markdown",
   "id": "3babaae6-3bbd-4adb-a496-147f7610b759",
   "metadata": {},
   "source": [
    "# Project 2 Description"
   ]
  },
  {
   "cell_type": "markdown",
   "id": "f819f77f-1762-4e88-8fac-eb6f4af850d2",
   "metadata": {},
   "source": [
    "For this project we are going to implement a special `Mod` class to implement some concepts in modular arithmetic. Here is the list of requirements and some useful information:\n",
    "\n",
    "- The residue (remainder) of a number `a` **mod** `n` is `a % n`\n",
    "- Two numbers, `a` and `b` are said to be congruent modulo `n` - `a = b (mod n)` - if their residues are equal. That is, `a % n == b % n`\n",
    "\n",
    "- Assume `n`, the modulus, is a positive integer.\n",
    "- Assume `a` and `b`, the  are integers.\n",
    "- Create a class called `Mod`. Initialise it with `value` and `modulus` arguments (ensuring both are integers and modulus is positive).\n",
    "- Store the value in your class as its residue. For `Mod(value=8, modulus=3)`, `value = 8 % 3 => 2`\n",
    "- Implement congruence for the `==` operator.\n",
    "- Allow comparison of a `Mod` object to an `int` object (in which case, use the residue of the int). For `Mod(8, 3) == 11` is **True**, because `11 => Mod(11, 3) => 2`.\n",
    "- Allow comparison of two `Mod` objects but only if they have the **same modulus**.\n",
    "- Ensure objects remain hashable.\n",
    "- Provide an implementation such that `int(mod_object)` returns the residue.\n",
    "- Provide a suitable representation with `__repr__`.\n",
    "- Implement +, -, *, ** with two `Mod` objects (only with **same modulus**) as well as `Mod` and `int` objects (using the **same modulus**). Always return a `Mod` instance. The operations should operate on the `value` attribute of the `Mod` object.\n",
    "- Implement the corresponding **in-place** arithmetic operators.\n",
    "- Implement ordering (the set of possible values is limited to 0 <= x < n."
   ]
  },
  {
   "cell_type": "markdown",
   "id": "e39decd7-0400-4354-b67b-15af0ba8961f",
   "metadata": {},
   "source": [
    "Despite the long list of requirements, this project is simpler than you think, especially since the value is stored as the residue. "
   ]
  },
  {
   "cell_type": "markdown",
   "id": "4069e85f-5eef-4842-954f-0b3b97e2c50b",
   "metadata": {},
   "source": [
    "# Project 2 Solution"
   ]
  },
  {
   "cell_type": "markdown",
   "id": "8f9aedc0-f2f5-471d-ac97-9f75dcae708f",
   "metadata": {},
   "source": [
    "#### Verbose Approach"
   ]
  },
  {
   "cell_type": "markdown",
   "id": "f5226515-3d50-4f2d-b27c-7891892afaa2",
   "metadata": {},
   "source": [
    "Here we will take the fast and easy approach, but as you'll quickly realise, there's a lot of repetition. This will be addressed in the next approach which will be less verbose. After that will be the least verbose approach."
   ]
  },
  {
   "cell_type": "code",
   "execution_count": 1,
   "id": "19b7de63-3e10-41c5-9346-eee84e2f06e3",
   "metadata": {},
   "outputs": [],
   "source": [
    "from functools import total_ordering\n",
    "\n",
    "@total_ordering\n",
    "class Mod:\n",
    "    def __init__(self, value, modulus):\n",
    "        if not isinstance(modulus, int):\n",
    "            raise TypeError('Unsupported type for modulus')\n",
    "        if not isinstance(value, int):\n",
    "            raise TypeError('Unsupported type for value')\n",
    "        if modulus <= 0:\n",
    "            raise ValueError('Modulus must be positive')\n",
    "\n",
    "        self._modulus = modulus\n",
    "        self._value = value % modulus  # store residue as the value\n",
    "        \n",
    "    @property\n",
    "    def modulus(self):\n",
    "        return self._modulus\n",
    "    \n",
    "    @property\n",
    "    def value(self):\n",
    "        return self._value\n",
    "    \n",
    "    @value.setter\n",
    "    def value(self, value):\n",
    "        self._value = value\n",
    "    \n",
    "    def __repr__(self):\n",
    "        return f'Mod({self._value}, {self._modulus})'\n",
    "    \n",
    "    def __int__(self):\n",
    "        # calculates the value (residue)\n",
    "        return self.value\n",
    "\n",
    "    def __eq__(self, other):\n",
    "        # calculates congruence (same equivalence class)\n",
    "        if isinstance(other, Mod):\n",
    "            if self.modulus != other.modulus:\n",
    "                return NotImplemented\n",
    "            else:\n",
    "                return self.value == other.value\n",
    "        elif isinstance(other, int):\n",
    "            return other % self.modulus == self.value\n",
    "        else:\n",
    "            return NotImplemented\n",
    "    \n",
    "    def __hash__(self):\n",
    "        return hash((self.value, self.modulus))\n",
    "    \n",
    "    def __neg__(self):\n",
    "        return Mod(-self.value, self.modulus)\n",
    "    \n",
    "    def __add__(self, other):\n",
    "        if isinstance(other, Mod) and self.modulus == other.modulus:\n",
    "            return Mod(self.value + other.value, self.modulus)\n",
    "        if isinstance(other, int):\n",
    "            return Mod(self.value + other, self.modulus)\n",
    "        return NotImplemented\n",
    "    \n",
    "    def __iadd__(self, other):\n",
    "        if isinstance(other, Mod) and self.modulus == other.modulus:\n",
    "            self.value = (self.value + other.value) % self.modulus\n",
    "            return self\n",
    "        elif isinstance(other, int):\n",
    "            self.value = (self.value + other) % self.modulus\n",
    "            return self\n",
    "        return NotImplemented\n",
    "    \n",
    "    def __sub__(self, other):\n",
    "        if isinstance(other, Mod) and self.modulus == other.modulus:\n",
    "            return Mod(self.value - other.value, self.modulus)\n",
    "        if isinstance(other, int):\n",
    "            return Mod(self.value - other, self.modulus)\n",
    "        return NotImplemented\n",
    "    \n",
    "    def __isub__(self, other):\n",
    "        if isinstance(other, Mod) and self.modulus == other.modulus:\n",
    "            self.value = (self.value - other.value) % self.modulus\n",
    "            return self\n",
    "        if isinstance(other, int):\n",
    "            self.value = (self.value - other) % self.modulus\n",
    "            return self\n",
    "        return NotImplemented\n",
    "        \n",
    "    def __mul__(self, other):\n",
    "        if isinstance(other, Mod) and self.modulus == other.modulus:\n",
    "            return Mod(self.value * other.value, self.modulus)\n",
    "        if isinstance(other, int):\n",
    "            return Mod(self.value * other, self.modulus)\n",
    "        return NotImplemented\n",
    "    \n",
    "    def __imul__(self, other):\n",
    "        if isinstance(other, Mod) and self.modulus == other.modulus:\n",
    "            self.value = (self.value * other.value) % self.modulus\n",
    "            return self\n",
    "        if isinstance(other, int):\n",
    "            self.value = (self.value * other) % self.modulus\n",
    "            return self\n",
    "        return NotImplemented\n",
    "    \n",
    "    def __pow__(self, other):\n",
    "        if isinstance(other, Mod) and self.modulus == other.modulus:\n",
    "            return Mod(self.value ** other.value, self.modulus)\n",
    "        if isinstance(other, int):\n",
    "            # use residue of other, to make computation potentially smaller\n",
    "            return Mod(self.value ** (other % self.modulus), self.modulus)\n",
    "        return NotImplemented\n",
    "    \n",
    "    def __ipow__(self, other):\n",
    "        if isinstance(other, Mod) and self.modulus == other.modulus:\n",
    "            self.value = (self.value ** other.value) % self.modulus\n",
    "            return self\n",
    "        if isinstance(other, int):\n",
    "            # use residue of other, to make computation potentially smaller\n",
    "            self.value = (self.value ** (other % self.modulus)) % self.modulus\n",
    "            return self\n",
    "        return NotImplemented\n",
    "    \n",
    "    def __lt__(self, other):\n",
    "        if isinstance(other, Mod) and self.modulus == other.modulus:\n",
    "            return self.value < other.value\n",
    "        if isinstance(other, int):\n",
    "            return self.value < other % self.modulus\n",
    "        return NotImplemented"
   ]
  },
  {
   "cell_type": "markdown",
   "id": "aee00b9d-0c76-4550-8f87-5d47f72f0669",
   "metadata": {},
   "source": [
    "#### Less Verbose Approach"
   ]
  },
  {
   "cell_type": "code",
   "execution_count": 2,
   "id": "584e76f9-512c-4108-96d2-ebb68c0e7fd8",
   "metadata": {},
   "outputs": [],
   "source": [
    "from functools import total_ordering\n",
    "\n",
    "@total_ordering\n",
    "class Mod:\n",
    "    def __init__(self, value, modulus):\n",
    "        if not isinstance(modulus, int):\n",
    "            raise TypeError('Unsupported type for modulus')\n",
    "        if not isinstance(value, int):\n",
    "            raise TypeError('Unsupported type for value')\n",
    "        if modulus <= 0:\n",
    "            raise ValueError('Modulus must be positive')\n",
    "\n",
    "        self._modulus = modulus\n",
    "        self._value = value % modulus  # store residue as the value\n",
    "        \n",
    "    @property\n",
    "    def modulus(self):\n",
    "        return self._modulus\n",
    "    \n",
    "    @property\n",
    "    def value(self):\n",
    "        return self._value\n",
    "    \n",
    "    @value.setter\n",
    "    def value(self, value):\n",
    "        self._value = value\n",
    "    \n",
    "    def __repr__(self):\n",
    "        return f'Mod({self._value}, {self._modulus})'\n",
    "    \n",
    "    def __int__(self):\n",
    "        # calculates the value (residue)\n",
    "        return self.value\n",
    "\n",
    "    def _get_value(self, other):\n",
    "        if isinstance(other, int):\n",
    "            return other % self.modulus  # return the residue\n",
    "        if isinstance(other, Mod) and self.modulus == other.modulus:\n",
    "            return other.value\n",
    "        raise TypeError('Incompatible types.')\n",
    "    \n",
    "    def __eq__(self, other):\n",
    "        # calculates congruence (same equivalence class)\n",
    "        other_value = self._get_value(other)\n",
    "        return other_value == self.value\n",
    "    \n",
    "    def __hash__(self):\n",
    "        return hash((self.value, self.modulus))\n",
    "    \n",
    "    def __neg__(self):\n",
    "        return Mod(-self.value, self.modulus)\n",
    "    \n",
    "    def __add__(self, other):\n",
    "        other_value = self._get_value(other)\n",
    "        return Mod(self.value + other_value, self.modulus)\n",
    "    \n",
    "    def __iadd__(self, other):\n",
    "        other_value = self._get_value(other)\n",
    "        self.value = (self.value + other_value) % self.modulus\n",
    "        return self\n",
    "    \n",
    "    def __sub__(self, other):\n",
    "        other_value = self._get_value(other)\n",
    "        return Mod(self.value - other_value, self.modulus)\n",
    "    \n",
    "    def __isub__(self, other):\n",
    "        other_value = self._get_value(other)\n",
    "        self.value = (self.value - other_value) % self.modulus\n",
    "        return self\n",
    "    \n",
    "    def __mul__(self, other):\n",
    "        other_value = self._get_value(other)\n",
    "        return Mod(self.value * other_value, self.modulus)\n",
    "    \n",
    "    def __imul__(self, other):\n",
    "        other_value = self._get_value(other)\n",
    "        self.value = (self.value * other_value) % self.modulus\n",
    "        return self\n",
    "    \n",
    "    def __pow__(self, other):\n",
    "        other_value = self._get_value(other)\n",
    "        return Mod(self.value ** other_value, self.modulus)\n",
    "        \n",
    "    def __ipow__(self, other):\n",
    "        other_value = self._get_value(other)\n",
    "        self.value = (self.value ** other_value) % self.modulus\n",
    "        return self\n",
    "    \n",
    "    def __lt__(self, other):\n",
    "        # here, raising a TypeError instead of returning NotImplemented\n",
    "        # would result in Python not trying the reflection - which we DO want\n",
    "        # although since we are using @total_ordering this does not really matter\n",
    "        try:\n",
    "            other_value = self._get_value(other)\n",
    "            return self.value < other_value\n",
    "        except TypeError:\n",
    "            return NotImplemented"
   ]
  },
  {
   "cell_type": "markdown",
   "id": "bb604f48-cbef-4c32-a502-100eb299f7be",
   "metadata": {},
   "source": [
    "#### Concise Approach"
   ]
  },
  {
   "cell_type": "code",
   "execution_count": 7,
   "id": "c84190bf-c1ef-473b-b4fe-a3033d5cbc02",
   "metadata": {},
   "outputs": [],
   "source": [
    "from functools import total_ordering\n",
    "import operator\n",
    "\n",
    "@total_ordering\n",
    "class Mod:\n",
    "    def __init__(self, value, modulus):\n",
    "        if not isinstance(modulus, int):\n",
    "            raise TypeError('Unsupported type for modulus')\n",
    "        if not isinstance(value, int):\n",
    "            raise TypeError('Unsupported type for value')\n",
    "        if modulus <= 0:\n",
    "            raise ValueError('Modulus must be positive')\n",
    "\n",
    "        self._modulus = modulus\n",
    "        self._value = value % modulus  # store residue as the value\n",
    "        \n",
    "    @property\n",
    "    def modulus(self):\n",
    "        return self._modulus\n",
    "    \n",
    "    @property\n",
    "    def value(self):\n",
    "        return self._value\n",
    "    \n",
    "    @value.setter\n",
    "    def value(self, value):\n",
    "        self._value = value\n",
    "    \n",
    "    def __repr__(self):\n",
    "        return f'Mod({self._value}, {self._modulus})'\n",
    "    \n",
    "    def __int__(self):\n",
    "        # calculates the value (residue)\n",
    "        return self.value\n",
    "\n",
    "    def _get_value(self, other):\n",
    "        if isinstance(other, int):\n",
    "            return other % self.modulus  # return the residue\n",
    "        if isinstance(other, Mod) and self.modulus == other.modulus:\n",
    "            return other.value\n",
    "        raise TypeError('Incompatible types.')\n",
    "    \n",
    "    def _perform_operation(self, other, op, *, in_place=False):\n",
    "        other_value = self._get_value(other)\n",
    "        new_value = op(self.value, other_value)\n",
    "        if in_place:\n",
    "            self.value = new_value % self.modulus\n",
    "            return self\n",
    "        else:\n",
    "            return Mod(new_value, self.modulus)\n",
    "    \n",
    "    def __eq__(self, other):\n",
    "        # calculates congruence (same equivalence class)\n",
    "        other_value = self._get_value(other)\n",
    "        return other_value == self.value\n",
    "    \n",
    "    def __hash__(self):\n",
    "        return hash((self.value, self.modulus))\n",
    "    \n",
    "    def __neg__(self):\n",
    "        return Mod(-self.value, self.modulus)\n",
    "    \n",
    "    def __add__(self, other):\n",
    "        return self._perform_operation(other, operator.add)\n",
    "    \n",
    "    def __iadd__(self, other):\n",
    "        return self._perform_operation(other, operator.add, in_place=True)\n",
    "    \n",
    "    def __sub__(self, other):\n",
    "        return self._perform_operation(other, operator.sub)\n",
    "    \n",
    "    def __isub__(self, other):\n",
    "        return self._perform_operation(other, operator.sub, in_place=True)\n",
    "    \n",
    "    def __mul__(self, other):\n",
    "        return self._perform_operation(other, operator.mul)\n",
    "    \n",
    "    def __imul__(self, other):\n",
    "        return self._perform_operation(other, operator.mul, in_place=True)\n",
    "    \n",
    "    def __pow__(self, other):\n",
    "        return self._perform_operation(other, operator.pow)\n",
    "        \n",
    "    def __ipow__(self, other):\n",
    "        return self._perform_operation(other, operator.pow, in_place=True)\n",
    "    \n",
    "    def __lt__(self, other):\n",
    "        # here, raising a TypeError instead of returning NotImplemented\n",
    "        # would result in Python not trying the reflection - which we DO want\n",
    "        # although since we are using @total_ordering this does not really matter\n",
    "        try:\n",
    "            other_value = self._get_value(other)\n",
    "            return self.value < other_value\n",
    "        except TypeError:\n",
    "            return NotImplemented"
   ]
  },
  {
   "cell_type": "markdown",
   "id": "ddd0a64d-1e32-43c0-8145-6f97af8e08f4",
   "metadata": {},
   "source": [
    "Now let's test it!"
   ]
  },
  {
   "cell_type": "code",
   "execution_count": 8,
   "id": "8bacfa8a-5539-4e83-8664-485902a08309",
   "metadata": {},
   "outputs": [
    {
     "data": {
      "text/plain": [
       "Mod(4, 12)"
      ]
     },
     "execution_count": 8,
     "metadata": {},
     "output_type": "execute_result"
    }
   ],
   "source": [
    "Mod(3, 12) + 13"
   ]
  },
  {
   "cell_type": "code",
   "execution_count": 10,
   "id": "a1596220-6745-4424-a58a-ad7fc34c0800",
   "metadata": {},
   "outputs": [
    {
     "data": {
      "text/plain": [
       "Mod(1, 12)"
      ]
     },
     "execution_count": 10,
     "metadata": {},
     "output_type": "execute_result"
    }
   ],
   "source": [
    "Mod(7, 12) ** 2 # Equivalent to Mod(49, 12)"
   ]
  },
  {
   "cell_type": "code",
   "execution_count": 11,
   "id": "520b91e6-23a1-4167-ba3b-fc79a7a09157",
   "metadata": {},
   "outputs": [
    {
     "data": {
      "text/plain": [
       "True"
      ]
     },
     "execution_count": 11,
     "metadata": {},
     "output_type": "execute_result"
    }
   ],
   "source": [
    "Mod(5, 3) == Mod(8, 3)"
   ]
  },
  {
   "cell_type": "code",
   "execution_count": 12,
   "id": "5696775b-2fc3-486b-bf77-1ff3db0ad679",
   "metadata": {},
   "outputs": [
    {
     "data": {
      "text/plain": [
       "True"
      ]
     },
     "execution_count": 12,
     "metadata": {},
     "output_type": "execute_result"
    }
   ],
   "source": [
    "Mod(5, 3) == 2"
   ]
  }
 ],
 "metadata": {
  "kernelspec": {
   "display_name": "Python 3 (ipykernel)",
   "language": "python",
   "name": "python3"
  },
  "language_info": {
   "codemirror_mode": {
    "name": "ipython",
    "version": 3
   },
   "file_extension": ".py",
   "mimetype": "text/x-python",
   "name": "python",
   "nbconvert_exporter": "python",
   "pygments_lexer": "ipython3",
   "version": "3.10.4"
  }
 },
 "nbformat": 4,
 "nbformat_minor": 5
}
