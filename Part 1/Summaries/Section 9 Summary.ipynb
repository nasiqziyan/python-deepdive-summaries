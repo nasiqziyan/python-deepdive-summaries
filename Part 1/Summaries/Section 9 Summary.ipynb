{
 "cells": [
  {
   "cell_type": "markdown",
   "id": "9ece45a7-34d9-4276-907b-c6bf00f41a74",
   "metadata": {
    "tags": []
   },
   "source": [
    "# 01 - What is a Module"
   ]
  },
  {
   "cell_type": "markdown",
   "id": "17462eed-085c-4609-832a-9f6a81c53508",
   "metadata": {},
   "source": [
    "Modules are instances of the `module` type, just as classes are instances of the `class` type. When we create a function (which is type func), how does Python know where to look for it? It uses the **namespace** which is a dictionary of all the labels and what objects they point to in memory. We can look at the dictionary using `globals()`. "
   ]
  },
  {
   "cell_type": "code",
   "execution_count": 9,
   "id": "269e526a-736f-4ef8-9d9c-ef1450e31cc1",
   "metadata": {},
   "outputs": [
    {
     "data": {
      "text/plain": [
       "True"
      ]
     },
     "execution_count": 9,
     "metadata": {},
     "output_type": "execute_result"
    }
   ],
   "source": [
    "def func():\n",
    "    a = 10\n",
    "    return a\n",
    "\n",
    "f = globals()['func'] # 'globals()' is a dictionary. We look for the key called 'func' and we return the label which is the memory address. We then set another\n",
    "                      # reference to that label called 'f'.\n",
    "f is func"
   ]
  },
  {
   "cell_type": "code",
   "execution_count": 10,
   "id": "c41bccaf-b39a-484d-9917-becb9c812453",
   "metadata": {},
   "outputs": [
    {
     "data": {
      "text/plain": [
       "10"
      ]
     },
     "execution_count": 10,
     "metadata": {},
     "output_type": "execute_result"
    }
   ],
   "source": [
    "globals()['func']() # Here we just call the function"
   ]
  },
  {
   "cell_type": "markdown",
   "id": "772a0dba-980f-40fe-a689-f59a96fd6e49",
   "metadata": {},
   "source": [
    "We can also create a function and call `locals()` to look at the local namespace. If we call `locals()` within the global scope, it will be equivalent to calling `globals()`."
   ]
  },
  {
   "cell_type": "code",
   "execution_count": 11,
   "id": "def3ca8d-d85f-4515-9ca1-f4760547b591",
   "metadata": {},
   "outputs": [
    {
     "name": "stdout",
     "output_type": "stream",
     "text": [
      "{'a': 10, 'b': 20}\n"
     ]
    }
   ],
   "source": [
    "def func():\n",
    "    a = 10\n",
    "    b = 20\n",
    "    print(locals())\n",
    "\n",
    "func()"
   ]
  },
  {
   "cell_type": "markdown",
   "id": "6524aa8e-c697-478d-858d-b9395245fa03",
   "metadata": {},
   "source": [
    "We have built-in modules (such as `math`) which are always written in the c language. And we have the standard library which may be written in c or python. Module names are no more than variables, and these labels are all stored in the namespace. "
   ]
  },
  {
   "cell_type": "code",
   "execution_count": 12,
   "id": "3eab0d23-56cb-4715-b44d-dbf8a73fb6ad",
   "metadata": {},
   "outputs": [
    {
     "data": {
      "text/plain": [
       "2.0"
      ]
     },
     "execution_count": 12,
     "metadata": {},
     "output_type": "execute_result"
    }
   ],
   "source": [
    "import math\n",
    "\n",
    "junk = math\n",
    "junk.sqrt(4)"
   ]
  },
  {
   "cell_type": "markdown",
   "id": "58822466-9f04-41ba-ac20-825c6f095d71",
   "metadata": {},
   "source": [
    "Once we import a module, it gets stored in the system cache and gets a memory address. It now behaves like a singleton object. Its memory address won't change if we reimport it. We can view this cache by importing `sys` and looking at `modules`. This is just a plain old dictionary."
   ]
  },
  {
   "cell_type": "code",
   "execution_count": 13,
   "id": "cac37e2a-5399-44f8-a733-d16c08a532ee",
   "metadata": {},
   "outputs": [
    {
     "data": {
      "text/plain": [
       "<module 'math' (built-in)>"
      ]
     },
     "execution_count": 13,
     "metadata": {},
     "output_type": "execute_result"
    }
   ],
   "source": [
    "import sys\n",
    "\n",
    "sys.modules # This is a dictionary\n",
    "\n",
    "sys.modules['math']"
   ]
  },
  {
   "cell_type": "markdown",
   "id": "cf43655f-19a4-4076-83e6-c5255b3464d3",
   "metadata": {},
   "source": [
    "Remember that these modules are just objects with attributes. One way to look at all the attributes is by using `.__dict__` "
   ]
  },
  {
   "cell_type": "code",
   "execution_count": 14,
   "id": "67104e74-896d-48dc-9dc3-245779243aa1",
   "metadata": {},
   "outputs": [
    {
     "data": {
      "text/plain": [
       "{'__name__': 'math',\n",
       " '__doc__': 'This module provides access to the mathematical functions\\ndefined by the C standard.',\n",
       " '__package__': '',\n",
       " '__loader__': _frozen_importlib.BuiltinImporter,\n",
       " '__spec__': ModuleSpec(name='math', loader=<class '_frozen_importlib.BuiltinImporter'>, origin='built-in'),\n",
       " 'acos': <function math.acos(x, /)>,\n",
       " 'acosh': <function math.acosh(x, /)>,\n",
       " 'asin': <function math.asin(x, /)>,\n",
       " 'asinh': <function math.asinh(x, /)>,\n",
       " 'atan': <function math.atan(x, /)>,\n",
       " 'atan2': <function math.atan2(y, x, /)>,\n",
       " 'atanh': <function math.atanh(x, /)>,\n",
       " 'ceil': <function math.ceil(x, /)>,\n",
       " 'copysign': <function math.copysign(x, y, /)>,\n",
       " 'cos': <function math.cos(x, /)>,\n",
       " 'cosh': <function math.cosh(x, /)>,\n",
       " 'degrees': <function math.degrees(x, /)>,\n",
       " 'dist': <function math.dist(p, q, /)>,\n",
       " 'erf': <function math.erf(x, /)>,\n",
       " 'erfc': <function math.erfc(x, /)>,\n",
       " 'exp': <function math.exp(x, /)>,\n",
       " 'expm1': <function math.expm1(x, /)>,\n",
       " 'fabs': <function math.fabs(x, /)>,\n",
       " 'factorial': <function math.factorial(x, /)>,\n",
       " 'floor': <function math.floor(x, /)>,\n",
       " 'fmod': <function math.fmod(x, y, /)>,\n",
       " 'frexp': <function math.frexp(x, /)>,\n",
       " 'fsum': <function math.fsum(seq, /)>,\n",
       " 'gamma': <function math.gamma(x, /)>,\n",
       " 'gcd': <function math.gcd(*integers)>,\n",
       " 'hypot': <function math.hypot>,\n",
       " 'isclose': <function math.isclose(a, b, *, rel_tol=1e-09, abs_tol=0.0)>,\n",
       " 'isfinite': <function math.isfinite(x, /)>,\n",
       " 'isinf': <function math.isinf(x, /)>,\n",
       " 'isnan': <function math.isnan(x, /)>,\n",
       " 'isqrt': <function math.isqrt(n, /)>,\n",
       " 'lcm': <function math.lcm(*integers)>,\n",
       " 'ldexp': <function math.ldexp(x, i, /)>,\n",
       " 'lgamma': <function math.lgamma(x, /)>,\n",
       " 'log': <function math.log>,\n",
       " 'log1p': <function math.log1p(x, /)>,\n",
       " 'log10': <function math.log10(x, /)>,\n",
       " 'log2': <function math.log2(x, /)>,\n",
       " 'modf': <function math.modf(x, /)>,\n",
       " 'pow': <function math.pow(x, y, /)>,\n",
       " 'radians': <function math.radians(x, /)>,\n",
       " 'remainder': <function math.remainder(x, y, /)>,\n",
       " 'sin': <function math.sin(x, /)>,\n",
       " 'sinh': <function math.sinh(x, /)>,\n",
       " 'sqrt': <function math.sqrt(x, /)>,\n",
       " 'tan': <function math.tan(x, /)>,\n",
       " 'tanh': <function math.tanh(x, /)>,\n",
       " 'trunc': <function math.trunc(x, /)>,\n",
       " 'prod': <function math.prod(iterable, /, *, start=1)>,\n",
       " 'perm': <function math.perm(n, k=None, /)>,\n",
       " 'comb': <function math.comb(n, k, /)>,\n",
       " 'nextafter': <function math.nextafter(x, y, /)>,\n",
       " 'ulp': <function math.ulp(x, /)>,\n",
       " 'pi': 3.141592653589793,\n",
       " 'e': 2.718281828459045,\n",
       " 'tau': 6.283185307179586,\n",
       " 'inf': inf,\n",
       " 'nan': nan}"
      ]
     },
     "execution_count": 14,
     "metadata": {},
     "output_type": "execute_result"
    }
   ],
   "source": [
    "math.__dict__ # It's a dictionary so we can get to the values by their key. This allows us to have another handle to a function "
   ]
  },
  {
   "cell_type": "markdown",
   "id": "92dc6970-f973-454d-aa58-e22dc979b444",
   "metadata": {},
   "source": [
    "Another way of doing `math.__dict__['sqrt']` is using `getattr(<object>, <object's attribute>)` So, `getattr(a, b)` is equivalent to `a.b`."
   ]
  },
  {
   "cell_type": "code",
   "execution_count": 15,
   "id": "92784278-3842-49a0-88b0-5357a986fd5d",
   "metadata": {},
   "outputs": [
    {
     "name": "stdout",
     "output_type": "stream",
     "text": [
      "<built-in function sqrt>\n"
     ]
    },
    {
     "data": {
      "text/plain": [
       "2.0"
      ]
     },
     "execution_count": 15,
     "metadata": {},
     "output_type": "execute_result"
    }
   ],
   "source": [
    "my_sqrt = math.__dict__['sqrt'] # this line and below are equvivalent\n",
    "my_sqrt = getattr(math, 'sqrt')\n",
    "\n",
    "print(my_sqrt)\n",
    "my_sqrt(4)"
   ]
  },
  {
   "cell_type": "markdown",
   "id": "49426f3a-cf38-4f53-a93f-d8b405aaa9c8",
   "metadata": {},
   "source": [
    "These modules are of type `ModuleType`."
   ]
  },
  {
   "cell_type": "code",
   "execution_count": 16,
   "id": "52f23334-8024-4a8f-84a0-e0e6fb71c10e",
   "metadata": {},
   "outputs": [
    {
     "data": {
      "text/plain": [
       "True"
      ]
     },
     "execution_count": 16,
     "metadata": {},
     "output_type": "execute_result"
    }
   ],
   "source": [
    "import types\n",
    "isinstance(math, types.ModuleType)"
   ]
  },
  {
   "cell_type": "markdown",
   "id": "8889dd0e-587a-4bc8-90f0-95fd954c2755",
   "metadata": {},
   "source": [
    "We can use this to also create modules because `ModuleType` is a constructor -> `ModuleType(<name of module>, <docstring of module>)`. We can then check all our attributes of our modules just like we checked all the attributes of `math` above."
   ]
  },
  {
   "cell_type": "code",
   "execution_count": 17,
   "id": "29d7d712-00b2-4366-a20e-5b9f03ea3334",
   "metadata": {},
   "outputs": [
    {
     "data": {
      "text/plain": [
       "{'__name__': 'test',\n",
       " '__doc__': 'This is a test module.',\n",
       " '__package__': None,\n",
       " '__loader__': None,\n",
       " '__spec__': None}"
      ]
     },
     "execution_count": 17,
     "metadata": {},
     "output_type": "execute_result"
    }
   ],
   "source": [
    "our_mod = types.ModuleType('test', 'This is a test module.')\n",
    "\n",
    "our_mod.__dict__"
   ]
  },
  {
   "cell_type": "markdown",
   "id": "59c354f4-e5a0-4b79-a3a6-d31ecfa80cf5",
   "metadata": {},
   "source": [
    "We can add in functionality to this in the conventional way. Let's add an attribute (property) and a method. But we still can't use stuff like `from our_mod import hello`."
   ]
  },
  {
   "cell_type": "code",
   "execution_count": 18,
   "id": "77f80a30-474f-4785-94a3-52f07c2d9954",
   "metadata": {},
   "outputs": [
    {
     "name": "stdout",
     "output_type": "stream",
     "text": [
      "3.14159\n",
      "Hello!\n"
     ]
    }
   ],
   "source": [
    "our_mod.pi = 3.14159\n",
    "our_mod.return_hello = lambda: 'Hello!'\n",
    "\n",
    "print(our_mod.pi)\n",
    "print(our_mod.return_hello())"
   ]
  },
  {
   "cell_type": "markdown",
   "id": "37118d4c-cd30-4a66-a2b8-f483036289c0",
   "metadata": {
    "tags": []
   },
   "source": [
    "# 02 - How Python Imports Modules"
   ]
  },
  {
   "cell_type": "markdown",
   "id": "d9058c5b-26f7-4716-b2d2-f490807976d0",
   "metadata": {},
   "source": [
    "When we run a statement such as \n",
    "\n",
    "`import fractions`\n",
    "\n",
    "what is Python actually doing?"
   ]
  },
  {
   "cell_type": "markdown",
   "id": "4823d0d9-991f-47e8-ac21-e889355f361c",
   "metadata": {},
   "source": [
    "The first thing to note is that Python is doing the import at **run time**, i.e. while your code is actually running.\\\n",
    "This is different from traditional compiled languages such as C where modules are compiled and linked at compile time.\\\n",
    "In both cases though, the system needs to know **where** those code files exist.\\\n",
    "Python uses a relatively complex system of how to find and load modules. I'm not going to even attempt to describe this in detail, but we'll take a brief look at the main points."
   ]
  },
  {
   "cell_type": "markdown",
   "id": "3e6c6d5c-f5fb-4a7f-8259-9aa722f1161d",
   "metadata": {},
   "source": [
    "The `sys` module has a few properties that define where Python is going to look for modules (either built-in or standard library as well as our own or 3rd party).\n",
    "\n",
    "Where is Python installed?"
   ]
  },
  {
   "cell_type": "code",
   "execution_count": 19,
   "id": "73b790dc-c1cd-42f6-8a2b-9457e6db5e0c",
   "metadata": {},
   "outputs": [
    {
     "data": {
      "text/plain": [
       "'/usr'"
      ]
     },
     "execution_count": 19,
     "metadata": {},
     "output_type": "execute_result"
    }
   ],
   "source": [
    "sys.prefix # Would normally print out something like 'C:\\\\Users\\\\<my_name>\\\\Anaconda3\\\\envs\\\\<my_file>"
   ]
  },
  {
   "cell_type": "markdown",
   "id": "2458aa63-28fd-416a-9592-d95febf8c23b",
   "metadata": {},
   "source": [
    "Where does Python look for imports? Using it's path:"
   ]
  },
  {
   "cell_type": "code",
   "execution_count": 20,
   "id": "aa2016fe-6294-4037-8065-8ed5950616a5",
   "metadata": {},
   "outputs": [
    {
     "data": {
      "text/plain": [
       "['/home/nasiq/repos/python-deepdive/Part 1/Section 09 - Modules, Packages and Namespaces',\n",
       " '/usr/lib/python310.zip',\n",
       " '/usr/lib/python3.10',\n",
       " '/usr/lib/python3.10/lib-dynload',\n",
       " '',\n",
       " '/home/nasiq/.local/lib/python3.10/site-packages',\n",
       " '/usr/local/lib/python3.10/dist-packages',\n",
       " '/usr/lib/python3/dist-packages',\n",
       " '/usr/lib/python3/dist-packages/IPython/extensions',\n",
       " '/home/nasiq/.ipython',\n",
       " '/home/nasiq/repos/python-deepdive/Part 1/Section 09 - Modules, Packages and Namespaces/08 - structuring_package_imports']"
      ]
     },
     "execution_count": 20,
     "metadata": {},
     "output_type": "execute_result"
    }
   ],
   "source": [
    "sys.path"
   ]
  },
  {
   "cell_type": "markdown",
   "id": "0aef9b1b-f65a-4670-9998-e419abe63a9d",
   "metadata": {},
   "source": [
    "Basically when we import a module, Python will search for the module in the paths contained in `sys.path`.\\\n",
    "If it does not find the module in one of those paths, the import will fail.\\\n",
    "So if you ever run into a problem where Python is not able to import a module or package, you should check this first to make sure the path to your module/package is in that list."
   ]
  },
  {
   "cell_type": "markdown",
   "id": "43fb6cc4-280a-49e6-ac68-5ff81336397a",
   "metadata": {},
   "source": [
    "At a high level, this is how Python imports a module from file:\n",
    "    \n",
    "* checks the `sys.modules` cache to see if the module has already been imported - if so it simply uses the reference in there, otherwise:\n",
    "* creates a new module object (`types.ModuleType`)\n",
    "* loads the source code from file\n",
    "* adds an entry to `sys.modules` with the name as a key and the newly created module object as the value\n",
    "* compiles **and executes** the source code\n",
    "\n",
    "One thing that's really to important to note is that when a module is imported, the module code is **executed**."
   ]
  },
  {
   "cell_type": "markdown",
   "id": "aac12a48-1b7b-48c6-a44d-28c368831f9b",
   "metadata": {},
   "source": [
    "## Example 1"
   ]
  },
  {
   "cell_type": "markdown",
   "id": "f0fe5ecc-b5f8-436a-b95d-83883347072c",
   "metadata": {},
   "source": [
    "Let's create the following setup in Pycharm. `example1` is a directory with 2 files within it.\n",
    "\n",
    "<img src=s9-images/9.1.png width=300/>\n",
    "\n",
    "These files are within the jupyter notebook found here -> [main.py](../Section%2009%20-%20Modules,%20Packages%20and%20Namespaces/02%20-%20How%20Python%20Imports%20Modules/example1/main.py) and [module1.py](../Section%2009%20-%20Modules,%20Packages%20and%20Namespaces/02%20-%20How%20Python%20Imports%20Modules/example1/module1.py)"
   ]
  },
  {
   "cell_type": "markdown",
   "id": "e7c83660-49c9-4ccd-9ae1-3b4eecaa5205",
   "metadata": {},
   "source": [
    "Looking at `module1.py`, we see a basic function that pretty prints out module1's namespace using `globals()`.\n",
    "\n",
    "<img src=s9-images/9.2.png width=400 />\n",
    "\n",
    "To run this file within your jupyter, open the `module1.py` link by clicking [here](02%20-%20How%20Python%20Imports%20Modules/example1/module1.py). \n",
    "\n",
    "Then, right-click > Create Console for Editor.\n",
    "\n",
    "In the console type: \n",
    "\n",
    "`%run module1.py`\n",
    "\n",
    "Alternatively, we can run it right in this jupyter notebook using the run file path command below. Make sure to add \\ before every space.\n",
    "\n",
    "`%run ./02\\ -\\ How\\ Python\\ Imports\\ Modules/example1/module1.py`\n",
    "\n",
    "but I'm not going to do that because the output is verbose. I'll just use his:\n",
    "\n",
    "<img src=s9-images/9.3.png width=500 />"
   ]
  },
  {
   "cell_type": "markdown",
   "id": "b344074a-db64-4b88-8ff6-73d2b1fd6701",
   "metadata": {},
   "source": [
    "Now, within [main.py](./02%20-%20How%20Python%20Imports%20Modules/example1/main.py), we'll print 'running main.py' and import `module1`.\n",
    "\n",
    "<img src=s9-images/9.4.png width=400 />\n",
    "\n",
    "Look how it **executes** module1's code:\n",
    "\n",
    "<img src=s9-images/9.5.png width=600 /> \n",
    "The pretty print function is all the way at the bottom, but ive cut the screenshot off because it was too far down."
   ]
  },
  {
   "cell_type": "markdown",
   "id": "6d055b90-d633-433f-9ab2-f28238db82a8",
   "metadata": {},
   "source": [
    "Now that we've imported module1, we can access its `pprint_dict()` function using `module1.pprint_dict('main.globals', globals())`\n",
    "\n",
    "Again, how did Python know where to find module1? It looked for it in the systems path (use `sys.path`) and it found it in the 'example1' directory. (It didn't find it in the standard library ('lib') or anywhere else.)"
   ]
  },
  {
   "cell_type": "markdown",
   "id": "094fe930-928d-47d1-816e-2ea0245e14a1",
   "metadata": {},
   "source": [
    "If we have multiple `import module1` statements in our code, it will **only execute once** because when it saw the line `import module1` for the 2nd time, it went looking for it and found it in the system cache. Since it found it there, it did not run it. If it didn't find it there, then it would create and execute it."
   ]
  },
  {
   "cell_type": "markdown",
   "id": "d9285e6e-2432-495b-8efb-521aae9a4020",
   "metadata": {},
   "source": [
    "## Example 2 "
   ]
  },
  {
   "cell_type": "markdown",
   "id": "996ecd34-3937-4787-a305-61868f206430",
   "metadata": {},
   "source": [
    "In this example, we can see that when we `import` a module, Python first looks for it in `sys.modules`.\n",
    "\n",
    "To make the point, we put a key/value pair in `sys.modules` ourselves, and then import it.\n",
    "\n",
    "In fact we put a function in there instead of a module, and import that.\n",
    "\n",
    "Please **DO NOT** this, I'm just making the point that `import` will first look in the cache and immediately just return the object if the name is found, basically just as if we had written:\n",
    "\n",
    "`\n",
    "module = sys.modules['module']\n",
    "`"
   ]
  },
  {
   "cell_type": "code",
   "execution_count": 21,
   "id": "67999fa2-8fd2-407b-8163-5c5894cb9ed0",
   "metadata": {},
   "outputs": [
    {
     "name": "stdout",
     "output_type": "stream",
     "text": [
      "<function <lambda> at 0x7f37a878b910>\n",
      "Testing module caching\n"
     ]
    }
   ],
   "source": [
    "sys.modules['test'] = lambda: 'Testing module caching'\n",
    "\n",
    "# sys.modules['math'] # Remember this line from above.\n",
    "\n",
    "import test # looking for 'test' in sys.modules\n",
    "\n",
    "print(test) # It found it.\n",
    "print(test())"
   ]
  },
  {
   "cell_type": "markdown",
   "id": "651efe62-90ed-4aff-8b0b-1d97998731cb",
   "metadata": {},
   "source": [
    "## Example 3a "
   ]
  },
  {
   "cell_type": "markdown",
   "id": "8466c7f8-22ce-4e4c-8b96-4f5ec9dac98c",
   "metadata": {},
   "source": [
    "In this example we look at a simplified view of how Python imports a module.\\\n",
    "We use two built-in functions, `compile` and `exec`.\\\n",
    "The `compile` function compiles source (e.g. text) into a code object (bytecode).\n",
    "The `exec` function is used to execute a code object. Optionally we can specify what dictionary should be used to store global symbols i.e. the namespace.\\\n",
    "In our case we are going to want to use our module's `__dict__` as our namespace because that's what we should use.\n"
   ]
  },
  {
   "cell_type": "markdown",
   "id": "3201261c-3114-4fdc-b8a9-fbf85f1b62a8",
   "metadata": {},
   "source": [
    "These files are within the jupyter notebook found here -> [main.py](../Section%2009%20-%20Modules,%20Packages%20and%20Namespaces/02%20-%20How%20Python%20Imports%20Modules/example3a/main.py) and [module1_source.py](../Section%2009%20-%20Modules,%20Packages%20and%20Namespaces/02%20-%20How%20Python%20Imports%20Modules/example3a/module1_source.py)\n",
    "\n"
   ]
  },
  {
   "cell_type": "markdown",
   "id": "1a8d9360-9eca-46b9-a0de-912de43525d0",
   "metadata": {},
   "source": [
    "This is all module1 does:\n",
    "    \n",
    "<img src=s9-images/9.6.png width=300 />"
   ]
  },
  {
   "cell_type": "markdown",
   "id": "2f28de11-0407-48d5-8d2f-48306617ea6f",
   "metadata": {},
   "source": [
    "Our goal: **We want to import module1 manually**\n",
    "\n",
    "For main.py, open it up and the comments should explain what's going on.\\\n",
    "To summarise:\n",
    "1. we're going to need its path to locate it on disk.\n",
    "2. We go to that location, open it and read all the code into a variable called `source_code`.\n",
    "3. We create a module and add some metadata such as `__file__`.\n",
    "4. We set up a reference to our created module object in `sys.modules` so Python can find it.\n",
    "5. We create a `code` object using the `compile` keyword -> `code = compile(source_code, mode='exec')`. Don't worry about `mode='exec'`; its not actually executing.\n",
    "6. We execute the compiled sourcecode\n",
    "7. Since this code may contain variables like `a=10` or functions such as `def pprint()`, we need to tell Python where to put these variables. We tell Python to put it in `mod.__dict__`, just like we had `math.__dict__`.\n",
    "\n",
    "Remember that a module is nothing more than a namespace of all the things it has within it. So, within the final point, `exec(code, mod.__dict__)` is simply creating all those functions and storing their references into a dictionary.\n",
    "\n",
    "Everything is done now. All those steps together are identical to running `import module1` (technically `module1_source`)."
   ]
  },
  {
   "cell_type": "markdown",
   "id": "0b8e7f2c-63ce-4893-84b1-3fc580f3987a",
   "metadata": {},
   "source": [
    "## Example 3b "
   ]
  },
  {
   "cell_type": "markdown",
   "id": "ca09d686-03cc-464a-a4fa-d32ea99d8324",
   "metadata": {},
   "source": [
    "This is essentially the same as example 3a, except we make our importer into a function and use it to show how we technically should look for a cached version of the module first.\n",
    "\n",
    "Also, another key takeaway of this example is that the system cache's existence is broader than just the current file we're in. Up till now, we've worked from main.py and we saw that any import statements would look in the system cache. This system cache is not exclusive to main.py. In fact, if we create a brand new python file, that file too will have access to this system cache. So, theoretically, we could use our own manual importer in main.py to create a reference to a module. Then, we can use Python's inbuilt importer in a completely different file to look up that reference in the system cache. It will find the module because all files will have access to this cache."
   ]
  },
  {
   "cell_type": "markdown",
   "id": "6b11790d-f705-4a21-ba63-41591233e647",
   "metadata": {
    "tags": []
   },
   "source": [
    "# 03 - Imports and importlib"
   ]
  },
  {
   "cell_type": "markdown",
   "id": "6bee6e70-11ea-4b11-b6c5-c9ffa9f08694",
   "metadata": {},
   "source": [
    "In the last video we saw how we could, in a simplistic manner, mimic Python's import.\n",
    "\n",
    "There is absolutely no need to do this since Python itself provides that functionality, both as a built-in function (`import`) and in the standard library module `importlib`.\n",
    "\n",
    "In fact, if you want to see how imports are done in pure Python code you can always look at the source code for that library (you should now know where to find that on your local machine - you have to first identify a Python environment (`sys.exec_prefix`) and then look in the `lib` folder.\n",
    "\n",
    "`importlib` is not actually a pure module (it's still a module type object) - it's actually a package - more on that later. We can then use the `import_module` function to load a module."
   ]
  },
  {
   "cell_type": "code",
   "execution_count": 1,
   "id": "4aea63af-a61f-4ac9-a983-30618bfb42ad",
   "metadata": {},
   "outputs": [],
   "source": [
    "import importlib\n",
    "\n",
    "module_name = 'math'\n",
    "\n",
    "math2 = importlib.import_module(module_name)"
   ]
  },
  {
   "cell_type": "markdown",
   "id": "ba1eb5cb-e25a-47ac-9acc-864139b77af0",
   "metadata": {},
   "source": [
    "Remember what `import` does. It searches for the module, compiles it, executes it and adds it to the `sys.modules` dictionary. So, we should find it there."
   ]
  },
  {
   "cell_type": "code",
   "execution_count": 2,
   "id": "c45ae350-e1b5-4dc7-bfd1-2bc7f65558c1",
   "metadata": {},
   "outputs": [
    {
     "name": "stdout",
     "output_type": "stream",
     "text": [
      "<module 'math' (built-in)>\n",
      "True\n"
     ]
    }
   ],
   "source": [
    "import sys\n",
    "\n",
    "print(sys.modules['math'])\n",
    "print('math' in sys.modules)"
   ]
  },
  {
   "cell_type": "markdown",
   "id": "e3c003ff-8fd3-448e-8d49-d1af439e10e9",
   "metadata": {},
   "source": [
    "We get True only because we imported it using importlib. Fractions hasn't been imported so it won't be there."
   ]
  },
  {
   "cell_type": "code",
   "execution_count": 3,
   "id": "eb961a3d-8de4-4f45-8b32-bfe1aa02893e",
   "metadata": {},
   "outputs": [
    {
     "data": {
      "text/plain": [
       "False"
      ]
     },
     "execution_count": 3,
     "metadata": {},
     "output_type": "execute_result"
    }
   ],
   "source": [
    "'fractions' in sys.modules"
   ]
  },
  {
   "cell_type": "markdown",
   "id": "be491924-e1af-49c0-b324-384855d7cba3",
   "metadata": {},
   "source": [
    "But we can't call `math.sqrt(4)` yet. That's because we don't have a handle to it. In other words, 'math' is not in the `globals()` namespace."
   ]
  },
  {
   "cell_type": "code",
   "execution_count": 4,
   "id": "16e24407-9e7d-4dfa-a97c-c1ab72be55c2",
   "metadata": {},
   "outputs": [
    {
     "data": {
      "text/plain": [
       "False"
      ]
     },
     "execution_count": 4,
     "metadata": {},
     "output_type": "execute_result"
    }
   ],
   "source": [
    "'math' in globals()"
   ]
  },
  {
   "cell_type": "markdown",
   "id": "089daddf-5650-4809-a9e1-64824485e8e1",
   "metadata": {},
   "source": [
    "The two ways to get a handle are:"
   ]
  },
  {
   "cell_type": "code",
   "execution_count": 5,
   "id": "67fd8156-c2c8-4d12-af8d-295c82fb1aa9",
   "metadata": {},
   "outputs": [],
   "source": [
    "my_math = sys.modules['math']\n",
    "my_math = importlib.import_module('math')"
   ]
  },
  {
   "cell_type": "markdown",
   "id": "3a6c1b4b-41f0-4dfc-a9e6-dd0973e197d7",
   "metadata": {},
   "source": [
    "In Python there are a number of files that are \"code\" files, such as\n",
    "\n",
    "* `.py`: basic text file containing Python code\n",
    "* `.pyc`: compiled Python code (bytecode)\n",
    "* `.so`, `.pyd`: think DLL's (Linux / Windows)\n",
    "\n",
    "amongst others. Furthermore, Python can reach inside `zip` archives for code (as well as other packaged distribution files such as those used by Egg or Wheel).\n",
    "\n",
    "Conceptually Python divides the work between **finders** and **loaders**.\n",
    "\n",
    "**finders + loaders == importer**\n",
    "\n",
    "The **finders** are responsible for finding the module/package and returning the module spec. In crude terms, when we type `import math`, Python goes to each finder and asks if they know of a module called `math` until it reaches the relevant finder. This finder provides information of which loader should be used.\n",
    "\n",
    "The **loaders**, are responsible for \"loading\" the source code that is then used in the final steps to compile, execute and cache the module object. An object that implements both is called an **importer** - but they are still two separate concepts."
   ]
  },
  {
   "cell_type": "code",
   "execution_count": 6,
   "id": "99ebf957-0ea0-460b-83e2-80efb48f7f50",
   "metadata": {},
   "outputs": [
    {
     "data": {
      "text/plain": [
       "ModuleSpec(name='fractions', loader=<_frozen_importlib_external.SourceFileLoader object at 0x7fef96797fd0>, origin='/usr/lib/python3.10/fractions.py')"
      ]
     },
     "execution_count": 6,
     "metadata": {},
     "output_type": "execute_result"
    }
   ],
   "source": [
    "fractions = importlib.import_module('fractions')\n",
    "fractions # --> <module 'fractions' from '/usr/lib/python3.10/fractions.py'>\n",
    "fractions.__spec__ # This is what's returned from the finder. As you can see, it tells us the loader to use and where this fractions module is on disk."
   ]
  },
  {
   "cell_type": "markdown",
   "id": "eac12a7d-37cc-48fe-b1ba-2dbd5eedd918",
   "metadata": {},
   "source": [
    "Python provides a number of standard finders and importers, such as:\n",
    "\n",
    "* built-in modules --> Its finder is called `_frozen_importlib.BuiltinImporter`\n",
    "* frozen modules --> Its finder is called `_frozen_importlib.FrozenImporter`\n",
    "* import path finder (finds source code files on the import path - for example the `sys.path` entries we have seen before) --> Its finder is called `_frozen_importlib_external.PathFinder`; this is the one used for modules that we create.\n",
    "\n",
    "To reiterate, Python goes through all finders until it reaches the relevant one.\n",
    "\n",
    "What's interesting about the import path finder and loader is that they can search (and load from) zip archives. \n",
    "\n",
    "In fact it can even be extended to search other resources, including url's, databases, etc. You could theoretically store code in a Mongo or Redis database and import directly from there!\n",
    "\n",
    "We can create our own finders and loaders which can find and load our modules from a database or a RestAPI call etc. So modules need not be files."
   ]
  },
  {
   "cell_type": "markdown",
   "id": "34bf8e28-a5f1-4ee0-8e04-4aad1412593a",
   "metadata": {},
   "source": [
    "Let's write out a small source file to disk, called module1.py, and lets see if we can find it. We could create the file manually but we're just going to do it internally."
   ]
  },
  {
   "cell_type": "code",
   "execution_count": 13,
   "id": "441dc737-88e3-473e-a8ea-d1dc4134c2f0",
   "metadata": {},
   "outputs": [
    {
     "data": {
      "text/plain": [
       "ModuleSpec(name='module1', loader=<_frozen_importlib_external.SourceFileLoader object at 0x7f367e8e29e0>, origin='/home/nasiq/repos/python-deepdive/Part 1/Section 09 - Modules, Packages and Namespaces/module1.py')"
      ]
     },
     "execution_count": 13,
     "metadata": {},
     "output_type": "execute_result"
    }
   ],
   "source": [
    "with open('module1.py', 'w') as code_file:\n",
    "    code_file.write(\"print('running module1.py..')\\n\")\n",
    "    code_file.write(\"x = 'Python'\\n\")\n",
    "\n",
    "importlib.util.find_spec('module1') # It found it and also told us the loader to use as well as the file path of the module."
   ]
  },
  {
   "cell_type": "code",
   "execution_count": 1,
   "id": "8cb96aea-b862-45f0-b8d1-83e650f7f00a",
   "metadata": {},
   "outputs": [
    {
     "name": "stdout",
     "output_type": "stream",
     "text": [
      "running module1.py..\n"
     ]
    },
    {
     "data": {
      "text/plain": [
       "'Python'"
      ]
     },
     "execution_count": 1,
     "metadata": {},
     "output_type": "execute_result"
    }
   ],
   "source": [
    "import module1 # prints: running module1.py..  BUT ONLY ON FIRST RUN. If run again, it will find it in the cache so it won't re-run it.\n",
    "module1.x"
   ]
  },
  {
   "cell_type": "markdown",
   "id": "c10aceee-b854-46ab-b106-e40458af984f",
   "metadata": {},
   "source": [
    "What if we create a module and place it in a completely random location, such as on the Desktop or in the Windows 'videos' folder. Would Python be able to find it then? \n",
    "\n",
    "The answer is no. The reason is because Python needs to be told where it can look to find the module. We can view all those locations (paths) using `sys.path`."
   ]
  },
  {
   "cell_type": "code",
   "execution_count": 3,
   "id": "ab82dda9-540b-4178-993a-3980112b868e",
   "metadata": {},
   "outputs": [
    {
     "data": {
      "text/plain": [
       "['/home/nasiq/repos/python-deepdive/Part 1/Section 09 - Modules, Packages and Namespaces',\n",
       " '/usr/lib/python310.zip',\n",
       " '/usr/lib/python3.10',\n",
       " '/usr/lib/python3.10/lib-dynload',\n",
       " '',\n",
       " '/home/nasiq/.local/lib/python3.10/site-packages',\n",
       " '/usr/local/lib/python3.10/dist-packages',\n",
       " '/usr/lib/python3/dist-packages',\n",
       " '/usr/lib/python3/dist-packages/IPython/extensions',\n",
       " '/home/nasiq/.ipython']"
      ]
     },
     "execution_count": 3,
     "metadata": {},
     "output_type": "execute_result"
    }
   ],
   "source": [
    "import sys\n",
    "sys.path"
   ]
  },
  {
   "cell_type": "markdown",
   "id": "40d0c5dd-e2e7-4cd2-9395-a67b290c5dac",
   "metadata": {},
   "source": [
    "This is just a list that we can append to. So, if we have our module saved in a different location, all we have to do is append that file path and then everything will work fine."
   ]
  },
  {
   "cell_type": "code",
   "execution_count": 5,
   "id": "b02c5147-4223-4b6b-b475-8242fa1e23b6",
   "metadata": {},
   "outputs": [
    {
     "data": {
      "text/plain": [
       "'/home/nasiq'"
      ]
     },
     "execution_count": 5,
     "metadata": {},
     "output_type": "execute_result"
    }
   ],
   "source": [
    "import os\n",
    "\n",
    "# you can use this for Mac/Linux:\n",
    "# ext_module_path = os.environ['HOME']\n",
    "\n",
    "# you can use this in Windows 10\n",
    "#ext_module_path = os.environ['HOMEPATH']\n",
    "\n",
    "# or you can just hard code some path\n",
    "# ext_module_path = 'c:\\\\temp' \n",
    "\n",
    "ext_module_path = os.environ['HOME']\n",
    "ext_module_path"
   ]
  },
  {
   "cell_type": "code",
   "execution_count": 6,
   "id": "2cde8cd3-07c9-42fe-b2a0-d5646c4e355c",
   "metadata": {},
   "outputs": [],
   "source": [
    "file_abs_path = os.path.join(ext_module_path, 'module2.py')\n",
    "\n",
    "with open(file_abs_path, 'w') as code_file:\n",
    "    code_file.write(\"print('running module2.py...')\\n\")\n",
    "    code_file.write(\"x = 'python'\\n\")\n",
    "\n",
    "sys.path.append(ext_module_path)"
   ]
  },
  {
   "cell_type": "code",
   "execution_count": 8,
   "id": "c96b5006-0cb2-4704-bd37-90ad03e06063",
   "metadata": {},
   "outputs": [
    {
     "name": "stdout",
     "output_type": "stream",
     "text": [
      "running module2.py...\n"
     ]
    }
   ],
   "source": [
    "import importlib\n",
    "\n",
    "importlib.util.find_spec('module2')\n",
    "\n",
    "import module2"
   ]
  },
  {
   "cell_type": "markdown",
   "id": "49457443-3f32-4eb5-a492-b34e7649ebc2",
   "metadata": {},
   "source": [
    "It works! But only because we added the path to the systems list of paths."
   ]
  },
  {
   "cell_type": "markdown",
   "id": "5b728cbe-8f9f-492d-9dd0-2bf016c5da59",
   "metadata": {
    "tags": []
   },
   "source": [
    "# 04 - Import Variants and Misconceptions"
   ]
  },
  {
   "cell_type": "markdown",
   "id": "fa9457f3-2369-4eb3-b3c8-8e58d53b6ea6",
   "metadata": {},
   "source": [
    "To summarise the import process in chronological order:\n",
    "\n",
    "<img src=s9-images/9.7.png width=500 />\n",
    "\n",
    "**What about using an import alias such as `import math as r_math`?**--------------------------------**What about `from math import sqrt`?**\n",
    "\n",
    "<img src=s9-images/9.8.png width=500 /> <img src=s9-images/9.9.png width=487 />\n",
    "\n",
    "**Finally, `from math import sqrt as r_sqrt`**------------------------------------------------------------ **What about `from math import *`?**\n",
    "\n",
    "<img src=s9-images/9.10.png width=500 /> <img src=s9-images/9.11.png width=527/>"
   ]
  },
  {
   "cell_type": "markdown",
   "id": "48077e38-6e48-46c4-a0d7-bb1ad57b13ad",
   "metadata": {},
   "source": [
    "The key takeaway is that `sys.modules` is the same every time. (If it finds that the module is already in `sys.modules`, then it doesn't reload/re-execute it.) It's only the namespace that changes.\n",
    "\n",
    "So, this means that using `from math import sqrt` is **not** more efficient because the whole module is still fully loaded into memory. It just reduces the namespace. Technically, `math.sqrt(2)` is a tiny tiny bit slower than `sqrt(2)` because there's one less dictionary lookup, but dictionary lookups are very very fast. So, it's absolutely negligible for all intents and purposes."
   ]
  },
  {
   "cell_type": "markdown",
   "id": "7c5a1db8-c1af-4a7d-a6ef-86e8c89a1b74",
   "metadata": {
    "tags": []
   },
   "source": [
    "# 05 - Reloading Modules"
   ]
  },
  {
   "cell_type": "markdown",
   "id": "9a6406a1-dd5d-4227-bb70-ffde1bea4a2f",
   "metadata": {},
   "source": [
    "The key takeaway from this subsection is that reloading a module is possible but should never be done in production code. \n",
    "\n",
    "Although you technically can reload a module, it's not recommended, especially for production code.\n",
    "The safest is just to make your code changes, and restart your app.\n",
    "\n",
    "Even if you are trying to monkey patch (change at run-time) a code module and you want everyone who uses that module to \"see\" the change, they very well may not, depending on how they are accessing your module.\n",
    "\n",
    "The reason stems from the fact that if Python sees a 2nd mention of an import statement, it will not re-execute it because it's already in the system cache (sys.modules). Sure, you can delete it from sys modules (e.g. `del sys.modules['test_module']`) but it will still exist in the global namespace. It gets unnecessarily complicated. If you must, then use `importlib.reload(test)` which will re-execute the module and assign it to the same memory address as before. But this still is unnecessary."
   ]
  },
  {
   "cell_type": "markdown",
   "id": "46733ee5-aa83-4ed0-b3c3-ead9dcc9d523",
   "metadata": {
    "tags": []
   },
   "source": [
    "# 06 - Using `__main__`"
   ]
  },
  {
   "cell_type": "markdown",
   "id": "c8e16975-6c04-47fa-a57b-47cff7c3da31",
   "metadata": {},
   "source": [
    "Here are the 4 files used in this section: [run.py](./06%20-%20Using%20__main__/run.py), [__main__.py](./06%20-%20Using%20__main__/__main__.py), [module1.py](./06%20-%20Using%20__main__/module1.py), [timing.py](./06%20-%20Using%20__main__/timing.py) (but these are the files by the time we reach the end of this section; we're going to build it up below)."
   ]
  },
  {
   "cell_type": "markdown",
   "id": "97f5e6ff-a738-49c8-a102-d3f7af6d63c1",
   "metadata": {},
   "source": [
    "Let's run `run.py`.\n",
    "\n",
    "<img src=s9-images/9.12.png width=400 /> <img src=s9-images/9.13.png width=680 />\n",
    "\n",
    "Output:\n",
    "\n",
    "<img src=s9-images/9.14.png width=400 />\n",
    "\n",
    "We notice that run.py's name is `__main__` not run.py. But when we import module1.py (which executes it), it picked up its name. \n",
    "\n",
    "This is because, when we invoke a module/execute a program from the command line, the module's name is changed to `__main__`."
   ]
  },
  {
   "cell_type": "markdown",
   "id": "969c581e-11d5-407a-976c-3913f9b16d53",
   "metadata": {},
   "source": [
    "This is useful because we can change the code to something like this:\n",
    "\n",
    "<img src=s9-images/9.15.png width=400 />\n",
    "\n",
    "Now, the `print` statement will only execute if the program is executed from the command line and not through an import."
   ]
  },
  {
   "cell_type": "markdown",
   "id": "0e122518-c02f-4db7-ae2b-e9cf0a225a2e",
   "metadata": {},
   "source": [
    "**Let's take a look at an example**\n",
    "\n",
    "<img src=s9-images/9.16.png width=500 />\n",
    "<img src=s9-images/9.17.png width=500 />\n"
   ]
  },
  {
   "cell_type": "markdown",
   "id": "645ebced-c19b-458b-9d15-1e9809c9e3d9",
   "metadata": {},
   "source": [
    "What this code is doing is timing how long it takes to **execute** the code `list(range(1_000_000))`  20 times. We get something like this..\n",
    "\n",
    "<img src=s9-images/9.18.png width=600 />"
   ]
  },
  {
   "cell_type": "markdown",
   "id": "4da14bf9-84cd-4677-a7c3-4b48803bfece",
   "metadata": {},
   "source": [
    "But what if we want to call `timeit` from the command line? \n",
    "\n",
    "I'm going to explain how the code in [module1.py](./06%20-%20Using%20__main__/module1.py) and [timing.py](./06%20-%20Using%20__main__/timing.py) does this.\n",
    "\n",
    "Firstly, in [timing.py](./06%20-%20Using%20__main__/timing.py), we have `if __name__ == __main__:` followed by some code (ignore the actual code for now).\n",
    "\n",
    "<img src=s9-images/9.19.png width=700 /> \n",
    "\n",
    "This code will only execute if we call `timing.py` from the command line, i.e. typing `python timing.py` or `code timing.py` into the terminal. This code will not run if `timing.py` is imported into another file like `run.py`. \n",
    "\n",
    "\n",
    "To be able to pass in arguments right into the command line, we're going to need a module called `argparse` (but there is apparently a really good 3rd party library called `click` if you want much more command line automation). "
   ]
  },
  {
   "cell_type": "markdown",
   "id": "f90c09b0-b500-4a0d-bca9-fcb7bf273a3d",
   "metadata": {},
   "source": [
    "I'm going to explain each line using the line number from the image above:\n",
    "\n",
    "28. `parser` is a variable that is basically...  .The description keyword's argument is what appears in the command line when we call `-h` for help. It will return `__doc__` which is the docstring of this python file. Since there is a multiline string (docstring) at the top of the file, this description will be returned.\n",
    "\n",
    "29. This is telling the parser that we have a positional parameter called 'code'. We specify that the type must be a string and a bit of docstring for this argument called 'help'.\n",
    "\n",
    "31. This is a keyword parameter. '--repeats' is the long form of '-r'. If a user doesn't pass a repeat amount, default to 10. (I believe the -- is for it to be interpreted as a keyword argument.\n",
    "\n",
    "34. This gets all the arguments from the command line once the parser has been set up.\n",
    "\n",
    "To call it in the command line we use (i think) :\n",
    "\n",
    "`python timing.py \"<our_positional argument>\" <our kwarg> <our_kwarg value>`\\\n",
    "`python timing.py \"[x**2 for x in range(100)]\" -r 15`\n",
    "\n"
   ]
  },
  {
   "cell_type": "markdown",
   "id": "91f0fc17-6aa2-43dd-86c6-78efeefe17b8",
   "metadata": {},
   "source": [
    "Outcome:\n",
    "    \n",
    "<img src=s9-images/9.20.png width=700 />"
   ]
  },
  {
   "cell_type": "markdown",
   "id": "5510caa5-0d1c-47bf-93ce-776a6f69be2f",
   "metadata": {},
   "source": [
    "run.py has imported all this code but since its within `if __name__ == __main__:`, Python will not execute any of it. So, this lets programmers use the functionality of a program but it's not going to interfere with other programmers who have imported this module.\n",
    "\n",
    "Modules like `zipfile` and `timeit` do this - we can use them from the commandline to directly zip and time things in Python as opposed to importing these modules in a Python script and then using them."
   ]
  },
  {
   "cell_type": "markdown",
   "id": "3dc525bd-3818-42fd-adf7-02b89bed48e9",
   "metadata": {},
   "source": [
    "**There is another use-case of `__main__`:**\n",
    "\n",
    "If we try to execute a **directory**, what Python does is it goes inside and looks for a module called `__main__` to be the **starting point**.\n",
    "\n",
    "So, if we name our important, starting file as `__main__.py`, and its within a directory called `MainUsage`...\n",
    "\n",
    "<img src=s9-images/9.21.png width=300 />\n",
    "\n",
    "... we can just type in the command line: `python MainUsage`, and it will execute `__main__.py`. Also, If `MainUsage` is not a directory but a zipfile, we can still type in the command line: `python MainUsage`, and it will execute `__main__.py`. So, Python's able to look within zipfiles and also execute the main file. We often do this when importing modules which are zipfiles."
   ]
  },
  {
   "cell_type": "markdown",
   "id": "f2f55532-030e-4d6f-9918-427c65a6a9a2",
   "metadata": {},
   "source": [
    "There is a 13 minute summary video of modules on udemy."
   ]
  },
  {
   "cell_type": "markdown",
   "id": "d510c1b3-cc55-4966-bcce-1cbcf35fcf69",
   "metadata": {
    "tags": []
   },
   "source": [
    "# 07 - What are Packages"
   ]
  },
  {
   "cell_type": "markdown",
   "id": "ebc73e5c-963f-46d4-aff9-fc551c03aa21",
   "metadata": {},
   "source": [
    "Packages are special type of module. These modules can contain modules, but they can also contain packages (known as sub-packages). If a module is a package, it must have a value set for the `__path__` property. If the module isn't a package then this value will be an empty string: ''. **The empty string refers to the root of the application directory** (the project root is basically the level at which your app starts running so if you're running a module in some folder, then that folder becomes the root for that run). \n",
    "\n",
    "Since modules do not have to be entities in a file system (we can use loaders + finders to get them from e.g. a database or RestAPI), the same is true for packages. But typically they are in a file system.\n",
    "\n",
    "Packages represent a hierarchy of modules and/or packages. For example, a package can contain another package which can contain a module. We use a dot notation to indicate the path hierarchy, and this is normally found in the `__path__`.\n",
    "\n",
    "`pack1.pack1_1.module1_1` : Remember that this isn't necessarily a file system, but 99% of the time it will be."
   ]
  },
  {
   "cell_type": "markdown",
   "id": "1b07a570-e4d2-4866-8f0a-4c9455ce75a1",
   "metadata": {},
   "source": [
    "How do we import this? \n",
    "\n",
    "`import pack1.pack1_1. module1_1`\n",
    "\n",
    "What this will do is:\n",
    "1. Import `pack1`\n",
    "2. Import `pack1.pack1_1`\n",
    "3. Import `pack1.pack1_1.module1`\n",
    "\n",
    "The **sys.modules** cache will contain entries for `pack1`, `pack1.pack1_1` and `pack1.pack1_1.module1`.\n",
    "\n",
    "The **namespace** will only contain `pack1`."
   ]
  },
  {
   "cell_type": "markdown",
   "id": "f930662d-7894-49c6-be77-0c410c7c96d1",
   "metadata": {},
   "source": [
    "So, how do we represent this packages using a file system? \n",
    "\n",
    "**The directory name becomes the package name**\n",
    "\n",
    "But since a package is just a module, where does the code of the package go? Normally we see that directories can contain files but it itself cannot be a file.\n",
    "\n",
    "**It goes inside the directory in a special file called `__init__.py`.**\n",
    "\n",
    "So to define a package in our file system, we must:\n",
    "1. create a directory whose name will be the package name.\n",
    "2. create a file called `__init__.py` inside that directory.\n",
    "\n",
    "This file tells Python that this directory is a package and not a standard directory."
   ]
  },
  {
   "cell_type": "markdown",
   "id": "be122825-ea82-4671-bb3e-9bc64fd79224",
   "metadata": {},
   "source": [
    "**Importing a package**\n",
    "\n",
    "It works similar to a module in terms of the loading, executing and caching, because it *is* a module. But it has an extra property: `__path__`.\n",
    "\n",
    "<img src=s9-images/9.22.png width=550 />\n",
    "\n",
    "So `<package.name>.__path__` retrieves the filepath of the directory while `<package.name>.__file__` retrieves the filepath of the `__init__.py` file. Normal modules also have the `<package.name>.__file__` property"
   ]
  },
  {
   "cell_type": "code",
   "execution_count": 14,
   "id": "c65793ef-73a2-4bb7-a68f-b3614646a1b4",
   "metadata": {},
   "outputs": [
    {
     "data": {
      "text/plain": [
       "'/home/nasiq/repos/python-deepdive/Part 1/Section 09 - Modules, Packages and Namespaces/module1.py'"
      ]
     },
     "execution_count": 14,
     "metadata": {},
     "output_type": "execute_result"
    }
   ],
   "source": [
    "import module1\n",
    "module1.__file__"
   ]
  },
  {
   "cell_type": "markdown",
   "id": "36774475-db1a-4c1f-84e6-8d2f3026adb2",
   "metadata": {},
   "source": [
    "<img src=s9-images/9.23.png width=750 />"
   ]
  },
  {
   "cell_type": "markdown",
   "id": "bb6232bd-c2b9-49f5-ad61-f53ff902a530",
   "metadata": {},
   "source": [
    "**The `__package__` property**\n",
    "\n",
    "This attribute tells us the package that the module code is located in. If applied to a module located in the applications root (e.g. module.py in 'app/' below), then it will return an empty string or it won't be set. If applied to a package in the root, it will return the package name itself. It might be useful to imagine it as returning '.package_name'\n",
    "\n",
    "Here are some examples for module.py, pack1 and module1a:\n",
    "\n",
    "<img src=s9-images/9.24.png width=600 />"
   ]
  },
  {
   "cell_type": "markdown",
   "id": "8de72650-eb47-486e-869b-4699c4070663",
   "metadata": {},
   "source": [
    "Here's another example. We can see clearly the dot notation used for nested packages:\n",
    "\n",
    "<img src=s9-images/9.25.png width=600 />\n"
   ]
  },
  {
   "cell_type": "markdown",
   "id": "7047510f-b3d4-4d1c-9ab3-3239b231d7b6",
   "metadata": {},
   "source": [
    "Let's say we're in module.py at the root of our application and we have the following import statement:\n",
    "\n",
    "`import pack1.pack1_1.module1_1a`\n",
    "\n",
    "<img src=s9-images/9.26.png width=750 />\n",
    "\n",
    "As you can see, this may import much more if the `__init__` files within the hierarchy contain import statements."
   ]
  },
  {
   "cell_type": "markdown",
   "id": "150763e8-14cb-47da-98cf-d44900f336f4",
   "metadata": {},
   "source": [
    "We only import to the extent of our position in the hierarchy. So, if we import a package that's near the top of the hierarchy, with name package1 for example, it won't start importing packages within package1, or packages within that. See example below.\n",
    "\n",
    "<img src=s9-images/9.27.png width=600 />"
   ]
  },
  {
   "cell_type": "markdown",
   "id": "90ccb12e-eb9d-4c93-90c8-3dd0e16df1b7",
   "metadata": {},
   "source": [
    "**Quick reiteration**; in this jupyter notebook we have a structure looking like this:\n",
    "\n",
    "<img src=s9-images/9.28.png width=400 />\n",
    "\n",
    "lets try import pack1_1. We know we can't directly import it - we must import it through the hierarchy. \n",
    "\n",
    "Note: For this example only, because we're using jupyter notebook and I don't want to start moving this Summary notebook to a different place, we'll need to add an extra filepath to our list of filepaths so that we the finder can import pack1. If this file were in the '07 - What are Packages' folder, we wouldn't have any issues of importing pack1."
   ]
  },
  {
   "cell_type": "code",
   "execution_count": 1,
   "id": "bc59d2d0-02be-4889-bb4a-5ce09fe4f371",
   "metadata": {},
   "outputs": [],
   "source": [
    "import sys\n",
    "import os\n",
    "\n",
    "current_working_directory = os.getcwd()\n",
    "correct_path = '07 - What are Packages'\n",
    "\n",
    "new_path = os.path.join(current_working_directory, correct_path)\n",
    "\n",
    "sys.path.append(new_path)"
   ]
  },
  {
   "cell_type": "code",
   "execution_count": 32,
   "id": "c2f52f6e-9d67-4cc1-8d3a-ccb3b0b23210",
   "metadata": {},
   "outputs": [
    {
     "name": "stdout",
     "output_type": "stream",
     "text": [
      "executing pack1...\n",
      "executing pack1_1...\n",
      "executing module1_1a...\n",
      "executing module1_1b...\n"
     ]
    }
   ],
   "source": [
    "import pack1"
   ]
  },
  {
   "cell_type": "markdown",
   "id": "cac70d29-0c02-40e5-80f2-fac0f9e77405",
   "metadata": {},
   "source": [
    "Okay, it seemed to work. Since pack1's `__init__` imports pack1_1, the lines of code within that are executed too. This imports module1_1a and module1_1b.\n",
    "\n",
    "But lets check sys.modules and globals()."
   ]
  },
  {
   "cell_type": "code",
   "execution_count": 42,
   "id": "de9b1c8d-6b66-4976-b0c1-f05b4859b2cb",
   "metadata": {},
   "outputs": [
    {
     "name": "stdout",
     "output_type": "stream",
     "text": [
      "False\n",
      "True\n",
      "False\n"
     ]
    }
   ],
   "source": [
    "print('pack1_1' in sys.modules)\n",
    "\n",
    "print('pack1.pack1_1' in sys.modules)\n",
    "print('pack1.pack1_1' in globals())"
   ]
  },
  {
   "cell_type": "markdown",
   "id": "1041ade2-8286-442c-96e8-fe9b1a8a8e8c",
   "metadata": {},
   "source": [
    "So, the first one isn't in the cache because the package *isn't* **pack1_1**. It *is* **pack1.pack1_1** - that's why the 2nd statement is True. \n",
    "\n",
    "So why is the 3rd statement false? Why do we not have it in the namespace? \n",
    "\n",
    "Since `pack1` is in `globals()`, anything that needs to be accessed from deeper within `pack1` will go through the `pack1` symbol.\\\n",
    "If we really wanted our own reference to it, we must do `from pack1 import pack1_1`, but in reality, this new symbol `pack1_1` is just a reference to `pack1.pack1_1`. They have the same memory IDs."
   ]
  },
  {
   "cell_type": "code",
   "execution_count": 44,
   "id": "1dccb7e5-a0a0-4e27-baa4-64944fc39282",
   "metadata": {},
   "outputs": [
    {
     "data": {
      "text/plain": [
       "True"
      ]
     },
     "execution_count": 44,
     "metadata": {},
     "output_type": "execute_result"
    }
   ],
   "source": [
    "from pack1 import pack1_1\n",
    "\n",
    "id(pack1_1) == id(sys.modules['pack1.pack1_1'])"
   ]
  },
  {
   "cell_type": "markdown",
   "id": "83318a79-78ea-4d7d-8849-59d9eded414b",
   "metadata": {},
   "source": [
    "If we import something deep within the hierarchy such as module1_1a..."
   ]
  },
  {
   "cell_type": "code",
   "execution_count": 2,
   "id": "fe5332c6-67ea-46ef-b9a1-6b65021efc8a",
   "metadata": {},
   "outputs": [
    {
     "name": "stdout",
     "output_type": "stream",
     "text": [
      "executing pack1...\n",
      "executing pack1_1...\n",
      "executing module1_1a...\n",
      "executing module1_1b...\n"
     ]
    }
   ],
   "source": [
    "import pack1.pack1_1.module1_1a"
   ]
  },
  {
   "cell_type": "markdown",
   "id": "f99974e2-d757-472e-ba21-658b4bf9b9d8",
   "metadata": {},
   "source": [
    "...it executed everything in its way, as expected. Now each of these are in our sys.modules."
   ]
  },
  {
   "cell_type": "code",
   "execution_count": 4,
   "id": "c5411f45-1289-4be3-917b-c1e11cdf221c",
   "metadata": {},
   "outputs": [
    {
     "name": "stdout",
     "output_type": "stream",
     "text": [
      "True\n",
      "True\n",
      "True\n"
     ]
    }
   ],
   "source": [
    "print('pack1' in sys.modules)\n",
    "print('pack1.pack1_1' in sys.modules)\n",
    "print('pack1.pack1_1.module1_1a' in sys.modules)"
   ]
  },
  {
   "cell_type": "markdown",
   "id": "0c3e6366-077e-4e35-967f-9e7d1eb1a2d0",
   "metadata": {},
   "source": [
    "But none of these are in `globals()` EXCEPT the top of the hierarchy."
   ]
  },
  {
   "cell_type": "code",
   "execution_count": 5,
   "id": "081d2371-30b4-44f2-a723-76d85e88a9fe",
   "metadata": {},
   "outputs": [
    {
     "name": "stdout",
     "output_type": "stream",
     "text": [
      "True\n",
      "False\n",
      "False\n"
     ]
    }
   ],
   "source": [
    "print('pack1' in globals())\n",
    "print('pack1.pack1_1' in globals())\n",
    "print('pack1.pack1_1.module1_1a' in globals())"
   ]
  },
  {
   "cell_type": "markdown",
   "id": "d6916679-7bd8-4b14-8d50-22bf9efb143b",
   "metadata": {},
   "source": [
    "**Why use packages? Developer vs user's perspective**\n",
    "\n",
    "<img src=s9-images/9.29.png width=600 />"
   ]
  },
  {
   "cell_type": "markdown",
   "id": "0cfd12a7-6f9e-4eaf-8f22-330ac728c854",
   "metadata": {},
   "source": [
    "How do we get this functionality for the user? We need to use the `__init__.py`\n",
    "\n",
    "<img src=s9-images/9.30.png width=600 />"
   ]
  },
  {
   "cell_type": "markdown",
   "id": "c8f33f20-87d8-466c-9421-75e421b3e528",
   "metadata": {
    "tags": []
   },
   "source": [
    "# 08 - structuring_package_imports"
   ]
  },
  {
   "cell_type": "markdown",
   "id": "55bc3c56-1820-4f97-9ba5-4cf0a4476caf",
   "metadata": {
    "tags": []
   },
   "source": [
    "## Part 1"
   ]
  },
  {
   "cell_type": "markdown",
   "id": "e43efcdc-077a-422b-91ef-97f8175ed604",
   "metadata": {},
   "source": [
    "Let's say we have a structure like the image below. At the root we have the **common** package which contains a **validators** subpackage which contain numerous modules. Inside each module we have the main function that useful to the user (`is_json(arg)`) as well as some helper functions which are only needed to make `is_json(arg)` work correctly.\n",
    "\n",
    "The suboptimal way of this current structure is that we have to import every module individually. Another issue is that the code completion is showing functions like `date_helper_1()` which was never intended for the user to see. We want to hide these from the user."
   ]
  },
  {
   "cell_type": "markdown",
   "id": "42a8efdd-6dc5-479d-a1ce-4f735f2284dd",
   "metadata": {},
   "source": [
    "<img src=s9-images/9.31.png width=500 />\n",
    "\n",
    "<img src=s9-images/9.32.png width=500 />"
   ]
  },
  {
   "cell_type": "markdown",
   "id": "c8e21698-1a65-454a-bc06-c308e5135bd2",
   "metadata": {},
   "source": [
    "All of these files (as a finished version) are available in the 'structuring_package_imports' in my current directory. We can look at the namespaces of each of these packages using `<package>.__dict__` (but to look at our self, we use `globals()`).\n",
    "\n",
    "Note: I'm going to need to append the 'structuring_package_imports' path into my system path so that I can look in that directory. I'm going to hardcode it for now."
   ]
  },
  {
   "cell_type": "code",
   "execution_count": 2,
   "id": "a76c7d9f-44bb-4b83-95f2-c1a288038852",
   "metadata": {},
   "outputs": [],
   "source": [
    "import sys\n",
    "import os\n",
    "\n",
    "current_working_directory = os.getcwd()\n",
    "correct_path = '08 - structuring_package_imports'\n",
    "\n",
    "new_path = os.path.join(current_working_directory, correct_path)\n",
    "\n",
    "sys.path.append(new_path)"
   ]
  },
  {
   "cell_type": "markdown",
   "id": "76e088a8-11b8-42c1-bed0-45dc241eb576",
   "metadata": {},
   "source": [
    "If inside **main.py** we imported something from **common** or **common** itself, we will expect to see the 'common' package in main's namespace. If we look inside **common's** namespace, we will expect to see **validators**, **models**, **helpers**, etc: "
   ]
  },
  {
   "cell_type": "code",
   "execution_count": 5,
   "id": "04b9bd34-5a27-4ba3-a141-d31c59fb1cd6",
   "metadata": {},
   "outputs": [
    {
     "name": "stdout",
     "output_type": "stream",
     "text": [
      "__name__\n",
      "__doc__\n",
      "__package__\n",
      "__loader__\n",
      "__spec__\n",
      "__path__\n",
      "__file__\n",
      "__cached__\n",
      "__builtins__\n",
      "validators\n",
      "models\n",
      "helpers\n"
     ]
    }
   ],
   "source": [
    "import common\n",
    "for k in common.__dict__.keys():\n",
    "    print(k)"
   ]
  },
  {
   "cell_type": "markdown",
   "id": "77a5df7a-af49-40f6-a070-b5c201bb0112",
   "metadata": {},
   "source": [
    "Let's take a look at the finished correct approach and break it down.\n",
    "\n",
    "<img src=s9-images/9.33.png width=300 />"
   ]
  },
  {
   "cell_type": "markdown",
   "id": "409f12ad-3b7f-497b-b798-6f192b7744ad",
   "metadata": {},
   "source": [
    "If, in **main.py**, we import the **validators** package, it's going to execute the **validator's** `__init__.py` file which is the image above. Let's ignore all the code in the image except from the commented out lines. \n",
    "\n",
    "If we uncomment these, then when we import the **validators** package via `import common.validators`, we're going to be able to write the following in our **main.py** file (for example):\n",
    "\n",
    "- `common.validators.boolean.is_boolean('True')`\n",
    "- `common.validators.boolean.is_date({})`\n",
    "\n",
    "but we can't write\n",
    "\n",
    "- `common.validators.is_boolean('True')`\n",
    "- `common.validators.is_date({})`\n",
    "\n",
    "because, those lines in the **validator's** `__init__.py` (`import common.validators.boolean`) only allow us to write `common.validators.boolean` in our code. Just like when we `import math`, we can't type `sqrt()` - we must still use `math.sqrt()`. The way to get it in our namespace is using `from math import sqrt`.\n",
    "\n",
    "In this case, we actually want all the functions from boolean so we need:\n",
    "\n",
    "- `from common.validators.boolean import *`\n",
    "\n",
    "Now, we can write:\n",
    "\n",
    "- `common.validators.is_boolean('True')`"
   ]
  },
  {
   "cell_type": "markdown",
   "id": "00cc8a41-3bff-43fb-9377-c85f5b471a1e",
   "metadata": {},
   "source": [
    "**Relative Imports**\n",
    "\n",
    "This works intuitively. Looking at the commented lines in the image above, we see that the `common.validators` in `common.validators.boolean` is sort of redundant because this `__init__.py` file is in the same directory as boolean, date, etc - they're siblings. So we don't need it. If we wanted a package one level up in the hierarchy, we could use double-dot e.g. `import ..models`. If we wanted to go one level higher again, we would use three dots: `import ...common` (not `import ../../common` or something)."
   ]
  },
  {
   "cell_type": "markdown",
   "id": "98f6e079-9e1b-47cf-aa82-d402c69a4d0e",
   "metadata": {},
   "source": [
    "**How can we prevent the helper functions from being imported when we use `import *`?**\n",
    "\n",
    "1. One way is we can add an `_` in front of the function. So `def boolean_helper_1()` becomes `def _boolean_helper_1()`.\n",
    "\n",
    "2. Another way is using `__all__`. This is simply a list of variables/functions/objects that Python will export when an import call is made. So, in our boolean file which contains `is_boolean(arg)`, `boolean_helper_1(arg)` and `boolean_helper_2(arg)`, all we do is type:\\\n",
    "`__all__ = ['is_boolean']`\\\n",
    "in the file where all these functions are defined."
   ]
  },
  {
   "cell_type": "markdown",
   "id": "efa55427-812d-4718-b788-44f3d23c8dbb",
   "metadata": {},
   "source": [
    "An issue with the 2nd approach is that we will have `__all__`'s in every single nested package as well each packages' modules. If things are renamed, this will make things very messy. What we want instead is to write something in our **validator**'s `__init__.py` which imports only the things we need.\n",
    "\n",
    "Let's do this for our **validator**'s `__init__.py` (image above). Our **validator** package has 4 files, each with 1 useful function and a couple of helper functions. \n",
    "\n",
    "1. In each file, we create the `__all__` list and add the objects we want to export as a string.\n",
    "2. From **validator**'s `__init__.py`, we import everything from each module (`from .boolean import *`, `from .date import *` etc.)\n",
    "3. Now that we have access to everything in boolean (and the others), we can access its `__all__` using `boolean.__all__` - this is a list.\n",
    "4. Lists can be concatenated to form one large list, so we can write `boolean.__all__ + date.__all__` - this is still a list.\n",
    "5. If this concatenation starts becoming quite long, we can convert the list into an expression by enclosing the entire concatenation with brackets.\n",
    "\n",
    "Look at the image above (or inside **validator**'s `__init__.py`) for the final code."
   ]
  },
  {
   "cell_type": "markdown",
   "id": "0ec82a6a-d41d-48d3-ba18-8bcdf036bc6b",
   "metadata": {},
   "source": [
    "Using the `import *` approach can be problematic and there's another (slightly better) way, which we'll see in Part 2."
   ]
  },
  {
   "cell_type": "markdown",
   "id": "9eadadba-6342-4538-99bf-76690f442b55",
   "metadata": {
    "tags": []
   },
   "source": [
    "## Part 2"
   ]
  },
  {
   "cell_type": "markdown",
   "id": "1e0645a8-1af9-421a-a9b1-9243548a39d5",
   "metadata": {},
   "source": [
    "We'll now be moving away from the **validators** package and instead using the **models** package within **common**, (but we'll still use `main.py` for our imports). Familiarise yourself with the structure of **models**.\n",
    "\n",
    "Let's import `common` and see what's in the namespace"
   ]
  },
  {
   "cell_type": "code",
   "execution_count": 3,
   "id": "1cb26964-b3da-48f0-b9a4-9d43bfdb0d19",
   "metadata": {},
   "outputs": [],
   "source": [
    "import common"
   ]
  },
  {
   "cell_type": "code",
   "execution_count": 6,
   "id": "2d2919e9-3950-4b57-b222-4aa79a738c25",
   "metadata": {},
   "outputs": [
    {
     "name": "stdout",
     "output_type": "stream",
     "text": [
      "dict_keys(['__name__', '__doc__', '__package__', '__loader__', '__spec__', '__path__', '__file__', '__cached__', '__builtins__'])\n"
     ]
    }
   ],
   "source": [
    "print(common.__dict__.keys())"
   ]
  },
  {
   "cell_type": "markdown",
   "id": "c468e6fb-5d83-4d81-8ac6-7c638f5ddef4",
   "metadata": {},
   "source": [
    "It doesn't contain any of the modules or packages because we haven't got any import statements in **common**'s `__init__.py`. Assume we write in the `__init__.py`: \n",
    "\n",
    "`import common.models.posts.post` (This is a module: **post.py** which contains a class called `Post()`.\n",
    "\n",
    "We now have access to the this module's class with:\n",
    "\n",
    "`john_post = common.models.posts.post.Post()`\n",
    "\n",
    "If instead we wished that we could import the **post**'s package and have access to all the functions/classes within the package's two modules, we would have to update the **post** package `__init__.py`. To get access to all functions/classes, we would write:\n",
    "\n",
    "`from .post import *`/\n",
    "`from .posts import *`.\n",
    "\n",
    "Now our import statement in `main.py` reduces to:\n",
    "\n",
    "`import common.models.posts` \n",
    "\n",
    "All functions have been added to `common.models.posts`'s namespace. Now, if we add `__all__` statements to each module to only us to extract the classes that we want, then, the only things we'll expect to see in our namespace is: `post` (the module), `Post` (from `post.py` module), `Post` (the module) and `Posts` (from `posts.py` module). Our helper functions aren't in the `__all__`.\n",
    "\n",
    "So note that, when we type `from .post import *`, Python adds `post` into the namespace, as well as all the things it imports. The solution to remove these is simple.\n",
    "\n",
    "Now it's good practice to add to our [models](./08%20-%20structuring_package_imports/common/models/__init__.py) `__init__.py`:\n",
    "\n",
    "`__all__ = (posts.__all__ + users.__all__)`\n",
    "\n",
    "Because, if a user tries `from models import *` (which is bad practice) then it will import *everything* from the **model** package's namespace. We just mentioned above that if a line such as `from .posts import *` is mentioned, then, `posts` will be added to the namespace. \n",
    "\n",
    "Look at the [models file](./08%20-%20structuring_package_imports/common/models/__init__.py) `__init__.py`. It contains `from .posts import *`, so `posts` is added to **model**'s namespace. But we don't necessarily want that - it clutters things up. So what we do is limit all that is exportable when **model** is imported. Having `__all__ = (posts.__all__ + users.__all__)` in **model**'s `__init__.py` means that if someone tries `from model import *`, it will **only** import things within the `__all__`. \n",
    "\n",
    "It's a subtle point. To summarise it, `__all__` only applies when we have `import *`.\n",
    "\n",
    "One final point to make is that our `__init__.py` files should never really have functional code - only imports. We may have some functional code such as `Try` and `Except` but those are usually for ensuring that the package actually imports and doesn't crash. Our functional code should go in modules and our `__init__.py` should do `from <module> import *`. Take a look at the `asyncio` package to see good practice.\n",
    "\n",
    "<img src=s9-images/9.34.png width=500 />\n"
   ]
  },
  {
   "cell_type": "markdown",
   "id": "c1727d15-4ef2-48b7-91b6-22c756367bb1",
   "metadata": {
    "tags": []
   },
   "source": [
    "## Implicit Namespace Packages "
   ]
  },
  {
   "cell_type": "markdown",
   "id": "9e723c0b-8c40-4f34-b1e9-5c1c107d7b13",
   "metadata": {},
   "source": [
    "Directory is a general term that refers to EITHER a regular package, that we've discussed above, or a namespace package. If a directory is not a regular package, then it is a namespace package. Here are the differences:\n",
    "\n",
    "<img src=s9-images/9.35.png width=600 />"
   ]
  },
  {
   "cell_type": "markdown",
   "id": "9481fbdf-cd09-493c-b3a1-9477884eb92e",
   "metadata": {},
   "source": [
    "We can still import by using the dot notation whether the package is namespace or regular\n",
    "\n",
    "<img src=s9-images/9.36.png width=500 />\n",
    "\n",
    "but a big difference is that we cannot monkey around with the `__path__` object. In other words, we can't trick the package to thinking it's somewhere else to load from a database or API, for example."
   ]
  },
  {
   "cell_type": "markdown",
   "id": "012b6767-18c8-42f4-8984-e229634e2e88",
   "metadata": {
    "tags": []
   },
   "source": [
    "# 09 - zipped_packages"
   ]
  },
  {
   "cell_type": "markdown",
   "id": "771da9aa-a26c-45b3-8c32-f0431035ecae",
   "metadata": {},
   "source": [
    "Looking inside zipped packages is quite easy. Since Python only looks for modules within sys.path, the solution is to simply add the zip file to our sys.path\n",
    "\n",
    "<img src=s9-images/9.37.png width=500 />"
   ]
  }
 ],
 "metadata": {
  "kernelspec": {
   "display_name": "Python 3 (ipykernel)",
   "language": "python",
   "name": "python3"
  },
  "language_info": {
   "codemirror_mode": {
    "name": "ipython",
    "version": 3
   },
   "file_extension": ".py",
   "mimetype": "text/x-python",
   "name": "python",
   "nbconvert_exporter": "python",
   "pygments_lexer": "ipython3",
   "version": "3.10.6"
  }
 },
 "nbformat": 4,
 "nbformat_minor": 5
}
