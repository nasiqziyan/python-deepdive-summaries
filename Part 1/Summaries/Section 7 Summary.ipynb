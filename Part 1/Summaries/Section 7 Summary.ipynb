{
 "cells": [
  {
   "cell_type": "markdown",
   "id": "969d35de-5953-44f5-9ad0-6fedbeb1c4c8",
   "metadata": {
    "tags": []
   },
   "source": [
    "# 01 - Global and Local Scopes"
   ]
  },
  {
   "cell_type": "markdown",
   "id": "9e1ccb53-1e39-4791-951f-2a29c63a1f10",
   "metadata": {},
   "source": [
    "We know that our variables are stored in different scopes which means that we can have seemingly duplicate assignments to the same variable. But where does this binding exist? It exists in a **namespace**. \n",
    "\n",
    "A **namespace** can be simply thought of as a table that contains the label and the memory reference that it's pointing to. Every scope has a namespace.\n",
    "\n",
    "The **global** scope is essentially the **module** scope. They're synonymous. It spans a **single file only**. There is no truly global scope (across all the modules in our entile app), but there is one exception: **built-in objects** like `True`, `False`, `None`, `dict`, `print`. All of these are living in a **namespace** somewhere."
   ]
  },
  {
   "cell_type": "markdown",
   "id": "41029422-d8b1-4118-a569-e2323e27e097",
   "metadata": {},
   "source": [
    "If you reference a variable inside a scope and Python doesn't find it in that **namespace**, it will look for it in an **enclosing* scope's namespace**. So, in the example below, it will look for it in the Built-in scope.\n",
    "\n",
    "<img src=s7-images/7.1.png width=450/>\n",
    "\n",
    "If we create a module called **module1.py** with 1 line of code: `print(a)`, then Python looks within **module1.py**'s namespace for `print` and `a`. It finds neither of them. So, it looks in one scope higher and finds a `print` object in a higher scope but not `a`, so we get a runtime error. If we define a new `print` variable set to e.g. a `lambda` expression, then Python will look and use that definition as opposed to the built-in `print` function because of scope hierarchy. This is known as **masking** and it's something we don't want to really do.\n",
    "\n",
    "\n",
    "**Local Scope**\n",
    "\n",
    "Variable bindings defined within a function are not created until the function is called. Everytime a function is called **a new scope is created**; this makes sense because we can call a function with different values, so variables are able to have different bindings with each call.\n",
    "\n",
    "During compile time (not runtime), Python looks at a line like: `def my_func(a, b)` and sees that `a` and `b` are going to be **local** to `my_func`. **But it doesn't create the namespaces or scope yet - that's done at runtime when the function is called - all it does it make a determination of the labels that are within that function and marks them as either local or global or something else.\n",
    "\n",
    "Once we finally call the function, that's when the namespace containing all the assignments of variables to their values are binded. Once the function exits, **the scope is deleted, because it's no longer needed**."
   ]
  },
  {
   "cell_type": "markdown",
   "id": "dc69ff3d-e785-49d2-afbf-f7a5d56e599a",
   "metadata": {},
   "source": [
    "Let's take a look at a quick example:\n",
    "\n",
    "<img src=s7-images/7.2.png width=500/>\n",
    "\n",
    "The key thing to realise from the image is that, because Python cannot find `a` within `my_func`'s local scope, it goes one scope out to the **global/module** scope and finds it there. Also note that the variable `my_func` is created within the global scope but only as a pointer to a function object. The function isn't called yet of course.\n",
    "\n",
    "**Reference Counting**\n",
    "\n",
    "Once we run `my_func(b=300)`, the `300` integer object gets created (if it doesn't already exist) and it's reference count increments by 1. Once `my_func` finishes run, the **scope is destroyed** and the reference count for the **integer object** is decremented by 1. Thereafter, that binding of `b` **goes out of scope**."
   ]
  },
  {
   "cell_type": "markdown",
   "id": "86e29184-ad8a-4488-950d-12ee9da717c2",
   "metadata": {},
   "source": [
    "Above we talked about **accessing** the value `a` from within the local scope where it doesn't exist locally - and it does so by scope hierarchy. What about **modifying** `a`?\n",
    "\n",
    "<img src=s7-images/7.3.png width=400/>\n"
   ]
  },
  {
   "cell_type": "markdown",
   "id": "b9288731-adf4-418f-9a16-01f7185dbb1f",
   "metadata": {},
   "source": [
    "**Encountering a function definiting at compile time**\n",
    "\n",
    "Let's emphasise exactly what Python does at compile time. It will **scan** for any labels/variables (LHS of an assignment) anywhere within that function and will declare: If they haven't been specified as **global**, then I will specify them as **local**. Variables, namespaces and scopes are **NOT** created yet. \n",
    "\n",
    "Also note: **variables referenced but not assigned a value anywhere in that function will not be local** and Python will, **at runtime**, look for them in any scope outside of the local scope. So, if you were to print `True` within a function, since we haven't assigned it, e.g. `True = 10`, Python looks elsewhere for it at runtime.\n",
    "\n",
    "So, to summarise:\n",
    "- As soon as you **assign** a variable, and not **reference**, it becomes local, unless the `global` keyword is used.\n",
    "- Compile time is for specifying whether variables/labels within a function are **local** or **global**.\n",
    "- Runtime is for creating the namespace and performing assignment/binding of variables to their objects in memory. Note that parameters to functions are local.\n",
    "\n",
    "Let's look at a tricky example:"
   ]
  },
  {
   "cell_type": "code",
   "execution_count": 131,
   "id": "ba90267d-fbf1-4e0d-a863-1ccf70c89ebc",
   "metadata": {},
   "outputs": [
    {
     "ename": "UnboundLocalError",
     "evalue": "local variable 'a' referenced before assignment",
     "output_type": "error",
     "traceback": [
      "\u001b[0;31m---------------------------------------------------------------------------\u001b[0m",
      "\u001b[0;31mUnboundLocalError\u001b[0m                         Traceback (most recent call last)",
      "\u001b[0;32m/tmp/ipykernel_3908/2762820259.py\u001b[0m in \u001b[0;36m<module>\u001b[0;34m\u001b[0m\n\u001b[1;32m      4\u001b[0m     \u001b[0ma\u001b[0m \u001b[0;34m=\u001b[0m \u001b[0;36m100\u001b[0m\u001b[0;34m\u001b[0m\u001b[0;34m\u001b[0m\u001b[0m\n\u001b[1;32m      5\u001b[0m \u001b[0;34m\u001b[0m\u001b[0m\n\u001b[0;32m----> 6\u001b[0;31m \u001b[0mfunc_1\u001b[0m\u001b[0;34m(\u001b[0m\u001b[0;34m)\u001b[0m \u001b[0;31m# RUNTIME ERROR\u001b[0m\u001b[0;34m\u001b[0m\u001b[0;34m\u001b[0m\u001b[0m\n\u001b[0m",
      "\u001b[0;32m/tmp/ipykernel_3908/2762820259.py\u001b[0m in \u001b[0;36mfunc_1\u001b[0;34m()\u001b[0m\n\u001b[1;32m      1\u001b[0m \u001b[0ma\u001b[0m \u001b[0;34m=\u001b[0m \u001b[0;36m10\u001b[0m\u001b[0;34m\u001b[0m\u001b[0;34m\u001b[0m\u001b[0m\n\u001b[1;32m      2\u001b[0m \u001b[0;32mdef\u001b[0m \u001b[0mfunc_1\u001b[0m\u001b[0;34m(\u001b[0m\u001b[0;34m)\u001b[0m\u001b[0;34m:\u001b[0m\u001b[0;34m\u001b[0m\u001b[0;34m\u001b[0m\u001b[0m\n\u001b[0;32m----> 3\u001b[0;31m     \u001b[0mprint\u001b[0m\u001b[0;34m(\u001b[0m\u001b[0ma\u001b[0m\u001b[0;34m)\u001b[0m\u001b[0;34m\u001b[0m\u001b[0;34m\u001b[0m\u001b[0m\n\u001b[0m\u001b[1;32m      4\u001b[0m     \u001b[0ma\u001b[0m \u001b[0;34m=\u001b[0m \u001b[0;36m100\u001b[0m\u001b[0;34m\u001b[0m\u001b[0;34m\u001b[0m\u001b[0m\n\u001b[1;32m      5\u001b[0m \u001b[0;34m\u001b[0m\u001b[0m\n",
      "\u001b[0;31mUnboundLocalError\u001b[0m: local variable 'a' referenced before assignment"
     ]
    }
   ],
   "source": [
    "a = 10\n",
    "def func_1():\n",
    "    print(a)\n",
    "    a = 100\n",
    "\n",
    "func_1() # RUNTIME ERROR"
   ]
  },
  {
   "cell_type": "markdown",
   "id": "540133f5-11da-443d-813f-8e9846d24315",
   "metadata": {},
   "source": [
    "What's happening? \n",
    "\n",
    "- At compile time, since `a` isn't declared `global` anywhere within the function, it defaults to local, so Python has a label of `a` waiting to be assigned.\n",
    "- At runtime, we may be tempted to say that `a` doesn't exist so look in the global scope. But that's false. `a` does exist! At that point, the **namespace** has been created and `a` exists there as a local variable with no value assigned.\n",
    "- We then try to reference it but a value has been assigned, so weget a runtime error."
   ]
  },
  {
   "cell_type": "markdown",
   "id": "2d57ef4b-ea3a-427d-80c7-58ae43738e9a",
   "metadata": {
    "tags": []
   },
   "source": [
    "# 02 - Nonlocal Scopes"
   ]
  },
  {
   "cell_type": "markdown",
   "id": "21f76758-0b37-4125-a4cf-bdd2daa98c9e",
   "metadata": {},
   "source": [
    "Nonlocal scopes are created when we nest a function definition within a function. From within `inner_func`, we can access its local scope, the global scope but also inner scope's enclosing scope. This is scope of `outer_func` and it is called the **nonlocal scope**.\n",
    "\n",
    "<img src=s7-images/7.4.png width=500/>\n",
    "\n",
    "Below is a basic example:"
   ]
  },
  {
   "cell_type": "code",
   "execution_count": 132,
   "id": "31a6cded-cd2c-4f9e-a75d-0b5c3e4ed651",
   "metadata": {},
   "outputs": [
    {
     "name": "stdout",
     "output_type": "stream",
     "text": [
      "10\n"
     ]
    }
   ],
   "source": [
    "def outer_func():\n",
    "    a = 10\n",
    "    \n",
    "    def inner_func():\n",
    "        print(a)\n",
    "    \n",
    "    inner_func()\n",
    "\n",
    "outer_func()"
   ]
  },
  {
   "cell_type": "markdown",
   "id": "fa2f0642-bbf2-4a34-9d85-b42bdee432ca",
   "metadata": {},
   "source": [
    "When `inner_func` is reached during compile, it sees mention of `a` but no assignment, therefore it specifies `a` as something other than local. During runtime, when we reach `print(a)`, Python has to go outwards in scope to look for `a`. It finds it in the nonlocal scope. If it weren't there, it would go and look for it in the global scope.\n",
    "\n",
    "If we have a variable `b` defined in the global scope and then we create an outer and inner function where the inner function contains `global b`, Python will jump straigh to the most outer scope, which we know as the global scope. If we follow `global b` by something like `b=100`, then `b` will be globally changed in the module. "
   ]
  },
  {
   "cell_type": "markdown",
   "id": "d1b4b9b5-bcb1-49fc-9966-059c7d19dec9",
   "metadata": {},
   "source": [
    "Modifying nonlocal variables is fairly intuitive:\n",
    "\n",
    "<img src=s7-images/7.5.png width=500/>"
   ]
  },
  {
   "cell_type": "markdown",
   "id": "e23e6e54-0c2f-4358-a877-0d07a066ad4a",
   "metadata": {},
   "source": [
    "What if we want to modify a **nonlocal** variable from within a local scope? We use the `nonlocal` keyword. It is **important** to note that, whenever Python is told that a variable is nonlocal, it will look for it in the enclosing local scopes chain until it **first** encounters the specified variable name. **It will never look in the global scope**. If we want it to find the global variable, we must use the `global` keyword."
   ]
  },
  {
   "cell_type": "code",
   "execution_count": 133,
   "id": "6a8bbecd-e5a7-4a50-9382-e4f024cdadad",
   "metadata": {},
   "outputs": [
    {
     "name": "stdout",
     "output_type": "stream",
     "text": [
      "python\n"
     ]
    }
   ],
   "source": [
    "def outer_func():\n",
    "    x = 'hello'\n",
    "    \n",
    "    def inner_func():\n",
    "        nonlocal x\n",
    "        x = 'python'\n",
    "    \n",
    "    inner_func()\n",
    "    print(x)\n",
    "\n",
    "outer_func()"
   ]
  },
  {
   "cell_type": "markdown",
   "id": "9610d050-624e-44aa-900d-a8305abfff82",
   "metadata": {},
   "source": [
    "To emphasise once more, if we are within a twice-nested (inner2) scope and we assert `nonlocal` onto a variable called `c` which exists in the enclosing, once-nested (inner1) scope and also in the outer scope - then, Python works its way from most inner to most outer. Once it finds the first mention of an object with the same name, that object's reference count gets incremented by 1.\n",
    "\n",
    "<img src=s7-images/7.6.png width=500/>"
   ]
  },
  {
   "cell_type": "markdown",
   "id": "b74b6068-80b8-424d-904f-4f601485305d",
   "metadata": {
    "tags": []
   },
   "source": [
    "# 03 - Closures"
   ]
  },
  {
   "cell_type": "markdown",
   "id": "0b774441-16d7-4fe3-a4d8-a9148cd62ba8",
   "metadata": {},
   "source": [
    "Consider the following:"
   ]
  },
  {
   "cell_type": "code",
   "execution_count": 134,
   "id": "041e28f4-bd88-45a0-b4cb-7a9fa6bac0b3",
   "metadata": {},
   "outputs": [
    {
     "name": "stdout",
     "output_type": "stream",
     "text": [
      "python\n"
     ]
    }
   ],
   "source": [
    "def outer():\n",
    "    ##CLOSURE START##\n",
    "    x = 'python'\n",
    "    def inner():\n",
    "        print(x)      \n",
    "    ##CLOSURE END##\n",
    "    inner()\n",
    "    \n",
    "outer()"
   ]
  },
  {
   "cell_type": "markdown",
   "id": "40c645f7-e844-4cae-8e4e-6d3b586eb659",
   "metadata": {},
   "source": [
    "First note that `inner()` is not created until `outer()` is called. Now, we know that the `x` within `inner()` refers to the one in `outer's scope`. Therefore, this **nonlocal** variable is a **free variable** in `inner()`.\n",
    "\n",
    "When we consider `inner()` we really must also consider `x='python'` because the two live and are bound together. This is called a **closure**. We also say `inner()` encloses its free variable.\n",
    "\n",
    "Now what happens if we return `inner()` instead of calling it inside of `outer()`?"
   ]
  },
  {
   "cell_type": "code",
   "execution_count": 135,
   "id": "da83337c-a898-4bb2-a59c-a24a9d6380c5",
   "metadata": {},
   "outputs": [],
   "source": [
    "def outer():\n",
    "    ##CLOSURE START##\n",
    "    x = 'python'\n",
    "    def inner():\n",
    "        print(x)\n",
    "    ##CLOSURE END##\n",
    "    \n",
    "    return inner"
   ]
  },
  {
   "cell_type": "markdown",
   "id": "2876a037-afb2-4bf4-b11a-a4be3ab695c0",
   "metadata": {},
   "source": [
    "When we return `inner`, we are actually **returning a closure**. Because, we are returning the function **AND** its free variable. Remember `x` is not defined within `inner()`, yet we still have access to `x` from returning `inner` because the two are bound together in a **closure**. By assigning `outer()` (not `outer`), which returns a closure, to a variable `fn`, we can say that `fn` is now that closure."
   ]
  },
  {
   "cell_type": "code",
   "execution_count": 136,
   "id": "58eb4841-203f-4d86-a77c-09eb8d2d758c",
   "metadata": {},
   "outputs": [],
   "source": [
    "fn = outer()"
   ]
  },
  {
   "cell_type": "markdown",
   "id": "48378e87-beaf-44e1-b767-ea895bf909da",
   "metadata": {},
   "source": [
    "`outer` runs when we execute the above. In the Subsections prior, we said that when a function finishes running, its scope is destroyed. So, we would expect `x='python'` to vanish too. If this is true, then executing `fn()`, which is *like* executing `inner()`, should produce a runtime error. But it doesn't, and that's because the **closure** captured the variable `x` so it still has access to it."
   ]
  },
  {
   "cell_type": "code",
   "execution_count": 137,
   "id": "cf9e87af-dbb8-4b91-bd6c-e34ad6f46f26",
   "metadata": {},
   "outputs": [
    {
     "name": "stdout",
     "output_type": "stream",
     "text": [
      "python\n"
     ]
    }
   ],
   "source": [
    "fn()"
   ]
  },
  {
   "cell_type": "markdown",
   "id": "bfdab973-03de-4502-8939-8c3def9e97c8",
   "metadata": {},
   "source": [
    "We also say that `x` is a multi-scoped variable (shared between `outer` and the closure). This means the label is in two scopes but they **always reference the same value**. So how does Python do this?\n",
    "\n",
    "It creates a **cell** as an intermediary object. This is a literal object with a memory address just like e.g. integer objects.\n",
    "\n",
    "<img src=s7-images/7.7.png width=500 />\n",
    "\n",
    "If we didn't have these nested functions and `x` was defined in a purely local scope only, then we would expect `x` to point to a string object. But once Python sees that we have a shared variable between multiple scopes, it sets up this cell. Then tells `x` in the outer scope (x.outer; not actual object, just notation) and `x` in the inner scope to both point towards that cell.\n",
    "\n",
    "This is infact exactly how nonlocal variables work - it's got nothing to do with closures - it's just that you have a variable in two different scopes. Now we can understand from the last subsection that we are always referring to the same string object. But we chain via a cell as opposed to looking for the same label in an outer scope which looks for another label in a further outer scope until eventually we reach the memory address containing the object. This description would be like saying `inner.x -> outer.x -> string object` in contrast to the image above.\n",
    "\n",
    "If we wanted to change the string from `'python'` to e.g. `'hello'` from within an inner scope, we would first use the keyword `nonlocal`, which creates the **closure**, and then make the change. Python would then make the **cell** point to a new string object."
   ]
  },
  {
   "cell_type": "markdown",
   "id": "2e92104e-8723-4642-9785-4a798ec7a5be",
   "metadata": {},
   "source": [
    "Going back to the `fn()` line, Python does indeed destroy `outer.x` but `inner.x` and the cell object remain. So, we can access the string via this route. All good!"
   ]
  },
  {
   "cell_type": "markdown",
   "id": "ab7b3d05-f542-44c5-b0bd-d96186ce5932",
   "metadata": {},
   "source": [
    "**Thinking about closures practically**\n",
    "\n",
    "It will often be sufficient to just think of closures as ***function*** plus an ***extended scope*** which contains all the free variables."
   ]
  },
  {
   "cell_type": "markdown",
   "id": "0fe878e3-03f2-4f61-b75b-c9d28ef58052",
   "metadata": {},
   "source": [
    "Let's make sure we understand all aspects of the following:\n",
    "\n",
    "<img src=s7-images/7.8.png width=450 />\n",
    "\n",
    "- `a = 100` is a local variable.\n",
    "- `x = 'python'` will be a local variable until ` def inner():` runs, at which point Python will understand that, since `inner` contains a reference to `x`, a closure will need to be generated, i.e. `inner` is made into a **closure**. This involves creating a cell where the `x` in `outer` and the `x` reference in `inner` both point to it, \n",
    "- `a = 10` is an assignment and contains no `nonlocal/global` statement, therefore, its local to `inner()`.\n",
    "\n",
    "**I want to emphasise that the closure is created when the function is created, not when the function is called**.\n",
    "\n",
    "We can verify these statements using introspection:"
   ]
  },
  {
   "cell_type": "code",
   "execution_count": 138,
   "id": "b5b71432-5555-4b2b-8b14-1b3f1bd6c7e0",
   "metadata": {},
   "outputs": [
    {
     "name": "stdout",
     "output_type": "stream",
     "text": [
      "('x',)\n",
      "(<cell at 0x7fb4f00fb0d0: str object at 0x7fb4f63bdd70>,)\n"
     ]
    }
   ],
   "source": [
    "print(fn.__code__.co_freevars) #tuple of all the free variables of fn\n",
    "print(fn.__closure__) #tuple describing the cell memory location and what it points to"
   ]
  },
  {
   "cell_type": "markdown",
   "id": "30292221-3251-471d-84b8-ea58ea0d5472",
   "metadata": {},
   "source": [
    "**Multiple instances of closures**\n",
    "\n",
    "Every time we run a function, a new scope is created. If that function generates a closure, a new closure is created every time as well. These closures do not have the same extended scope - mutating free variables in one extended scope has no impact on another extended scope."
   ]
  },
  {
   "cell_type": "code",
   "execution_count": 139,
   "id": "978e4a26-2852-47fe-a5f3-0f57fac2fe1f",
   "metadata": {},
   "outputs": [
    {
     "data": {
      "text/plain": [
       "((<cell at 0x7fb4f00f97b0: int object at 0x7fb4f77180d0>,),\n",
       " (<cell at 0x7fb4f00f8f70: int object at 0x7fb4f77180d0>,))"
      ]
     },
     "execution_count": 139,
     "metadata": {},
     "output_type": "execute_result"
    }
   ],
   "source": [
    "def counter():\n",
    "    count = 0 # local variable\n",
    "    \n",
    "    def inc():\n",
    "        nonlocal count  # this is the count variable in counter\n",
    "        count += 1\n",
    "        return count\n",
    "    return inc\n",
    "\n",
    "f1 = counter()\n",
    "f2 = counter()\n",
    "f1.__closure__, f2.__closure__"
   ]
  },
  {
   "cell_type": "code",
   "execution_count": 140,
   "id": "5ec27265-1e4b-467b-a0c5-e6b3642cbd6d",
   "metadata": {},
   "outputs": [
    {
     "name": "stdout",
     "output_type": "stream",
     "text": [
      "1 2 3 4\n",
      "1\n"
     ]
    }
   ],
   "source": [
    "print(f1(), f1(), f1(), f1())\n",
    "print(f2()) # count in f1 closure UNAFFECTED"
   ]
  },
  {
   "cell_type": "markdown",
   "id": "58099451-6d1d-447b-8afa-ba044f638d0a",
   "metadata": {},
   "source": [
    "<a id='shared_extended_scope_example'></a>"
   ]
  },
  {
   "cell_type": "markdown",
   "id": "5966fcc1-5994-4161-8f1b-b1d4eda45ffe",
   "metadata": {
    "tags": []
   },
   "source": [
    "#### **Shared Extended Scopes**\n",
    "\n",
    "The following process allows us to have 3 branches to a cell that points to an object, as opposed to the 2 branches last time (x.outer and x.inner). We can set up nonlocal variables in different inner functions that reference the same outer scope variable, i.e. we have a free variable that is shared between two closures."
   ]
  },
  {
   "cell_type": "code",
   "execution_count": 141,
   "id": "ea0df045-5f2a-4a8a-b85a-58fe00426336",
   "metadata": {},
   "outputs": [
    {
     "name": "stdout",
     "output_type": "stream",
     "text": [
      "1 2 3 4\n",
      "5\n"
     ]
    }
   ],
   "source": [
    "def outer():\n",
    "    count = 0\n",
    "    def inc1():\n",
    "        nonlocal count\n",
    "        count += 1\n",
    "        return count\n",
    "    \n",
    "    def inc2():\n",
    "        nonlocal count\n",
    "        count += 1\n",
    "        return count\n",
    "    \n",
    "    return inc1, inc2\n",
    "\n",
    "f1, f2 = outer() # basically f1 = inc1 and f2 = inc2\n",
    "\n",
    "print(f1(), f1(), f1(), f1())\n",
    "print(f2()) # count in f1 closure AFFECTED"
   ]
  },
  {
   "cell_type": "markdown",
   "id": "0bff3328-0a74-423b-80d0-56fdebd229cc",
   "metadata": {},
   "source": [
    "**Shared Extended Scopes - Subtle Bug**\n",
    "\n",
    "Let's say we want to (correctly) create multiple closures without a shared scope."
   ]
  },
  {
   "cell_type": "code",
   "execution_count": 142,
   "id": "c67b5cac-5fc0-4ac6-883b-bcd5acc093a6",
   "metadata": {},
   "outputs": [
    {
     "data": {
      "text/plain": [
       "(11, 12, 13, 14)"
      ]
     },
     "execution_count": 142,
     "metadata": {},
     "output_type": "execute_result"
    }
   ],
   "source": [
    "def adder(n):\n",
    "    def inner(x):\n",
    "        return x + n\n",
    "    return inner\n",
    "\n",
    "add_1 = adder(1)\n",
    "add_2 = adder(2)\n",
    "add_3 = adder(3)\n",
    "add_4 = adder(4)\n",
    "\n",
    "add_1(10), add_2(10), add_3(10), add_4(10)"
   ]
  },
  {
   "cell_type": "markdown",
   "id": "dfc69dbe-b9fc-4906-a81c-b7b8df9d6c66",
   "metadata": {},
   "source": [
    "But, let's replicate this with a loop. We may think of using a lambda expression like the following:"
   ]
  },
  {
   "cell_type": "code",
   "execution_count": 143,
   "id": "d4ab8b42-3fbc-4eac-8ed2-3856bb385a8c",
   "metadata": {},
   "outputs": [
    {
     "data": {
      "text/plain": [
       "14"
      ]
     },
     "execution_count": 143,
     "metadata": {},
     "output_type": "execute_result"
    }
   ],
   "source": [
    "def create_adders():\n",
    "    adders = []\n",
    "    \n",
    "    for n in range(1, 5): # n here is a local variable of 'create_adders'\n",
    "        adders.append(lambda x: x + n) # n here is a free variable of the lambda, so the lambda is a closure. Therefore `adders` is a list of closures.\n",
    "    return adders\n",
    "\n",
    "adders = create_adders()\n",
    "\n",
    "adders[0](10) # we get 14 instead of 11. 11 would come from when n = 1 in the loop and x = 10 so x+n = 11."
   ]
  },
  {
   "cell_type": "markdown",
   "id": "e8f08f22-010a-4394-a1c3-d7ed54b44dd3",
   "metadata": {},
   "source": [
    "sidenote: We often hear \"`lambdas` are just closures.\" But they are not; they are functions, and they only become closures once the `lambda` has a free variable.\n",
    "\n",
    "We notice that `n` is mentioned in the loop's keyword but also within the `lambda`. Since `n` is not being passed as an argument, it's not within the scope of the `lambda`. Therefore, it is a free variable. There are now two mentions of `n` so a cell of 2 branches is created (`loop.n` and `lambda.n`) and points to the integer object `1`.\n",
    "\n",
    "What happens when `n=2`? Well, **firstly**, Python goes through the `loop.n` branch and from there, it goes to the cell and makes it point to an integer object with value `2`. Then, when we reach the free variable `n` within the `lambda`, Python knows that it must point to the same `n` that `loop.n` points to. We established that `loop.n` is pointing to a cell that points to `2`, therefore `lambda.n` must now point to the same cell which points to `2`. Nothing is pointing to the integer `1` anymore! In fact, the cell will only point to the object created during the last iteration of the loop.\n",
    "\n",
    "To summarise this is exactly the same as whats going on in the [example earlier on](#shared_extended_scope_example). The `count` in `inc1` and `inc2` both point to the same place as `count` in `outer`'s scope. They all point to a python cell. Here we have 4 different closures, all of which have an `lambda.n` which point to the same place as `create_adders.n` (local variable). So, these 5 references (4 `lambda.n` and 1 local variable `n`) all point to a python cell which initially points to an integer object with value `1`. Then, the loop statement makes `n = 2` so Python goes through the local branch and makes all 5 references now point to a new integer object of value `2`. And so on and so forth.."
   ]
  },
  {
   "cell_type": "markdown",
   "id": "d28e34d6-252b-4f8b-9798-6fb644cab6c9",
   "metadata": {},
   "source": [
    "How do we fix this issue? The entire problem originates because, within the `lambda`, `n` is not being evaluated. Python recognises it as a free variable that's shared with the `n` in the loop statement. We need to therefore capture the value of `n` as the (`lambda`) function is being created. Here's the trick:"
   ]
  },
  {
   "cell_type": "code",
   "execution_count": 144,
   "id": "080bab62-deab-42e3-acc9-7011661b3692",
   "metadata": {},
   "outputs": [
    {
     "data": {
      "text/plain": [
       "11"
      ]
     },
     "execution_count": 144,
     "metadata": {},
     "output_type": "execute_result"
    }
   ],
   "source": [
    "def create_adders():\n",
    "    adders = []\n",
    "    \n",
    "    for n in range(1, 5):\n",
    "        adders.append(lambda x, y=n: x + y) \n",
    "    \n",
    "    return adders\n",
    "\n",
    "adders = create_adders()\n",
    "\n",
    "adders[0](10) # WORKS"
   ]
  },
  {
   "cell_type": "markdown",
   "id": "20838e19-64aa-4c77-b2fa-a92d86cfbf0a",
   "metadata": {},
   "source": [
    "Recalling from an earlier lecture, we learnt that if a default value is passed to a function, it is **evaluated during compile time, i.e. values created in memory**. Since `n` is no longer a free variable, we are **not** creating closures anymore, only functions. Here is a clear case showing that **`lambdas` are not necessarily closures**."
   ]
  },
  {
   "cell_type": "markdown",
   "id": "9d5aad7a-6891-468a-82bf-a003d695eefa",
   "metadata": {},
   "source": [
    "Here's a quick example of closures with disjointed extended scopes: "
   ]
  },
  {
   "cell_type": "code",
   "execution_count": 145,
   "id": "0bbd1acd-a7ba-412d-ab75-a9ef834aa2e6",
   "metadata": {},
   "outputs": [],
   "source": [
    "def pow(n):\n",
    "    # n is local to pow\n",
    "    def inner(x):\n",
    "        # x is local to inner\n",
    "        return x ** n\n",
    "    return inner\n",
    "\n",
    "square = pow(2) # n = 2, and n is a free variable in the function inner, so inner (and hence square) has access to n = 2\n",
    "cube = pow(3)"
   ]
  },
  {
   "cell_type": "markdown",
   "id": "48738462-793a-4c15-b351-d4ebc1ed8141",
   "metadata": {},
   "source": [
    "Both `square` and `cube` are closures with `n` as the free variable, albeit with different values - we have different cells for each of them and one cell points to `2` and the other to `3`. Note: numbers 2 and 3 have been interned by Python so they have preset memory addresses. Numbers from [-128, 127] are automatically interned."
   ]
  },
  {
   "cell_type": "code",
   "execution_count": 146,
   "id": "72b5da0b-dc72-4dd0-a7a6-c6c6a72065d5",
   "metadata": {},
   "outputs": [
    {
     "name": "stdout",
     "output_type": "stream",
     "text": [
      "(<cell at 0x7fb4f00fb130: int object at 0x7fb4f7718110>,) 0x7fb4f7718110\n",
      "(<cell at 0x7fb4f00f9c30: int object at 0x7fb4f7718130>,) 0x7fb4f7718130\n"
     ]
    }
   ],
   "source": [
    "print(square.__closure__, hex(id(2))) \n",
    "print(cube.__closure__, hex(id(3)))"
   ]
  },
  {
   "cell_type": "markdown",
   "id": "c7240aec-1837-4f53-a45b-09c07b88d11c",
   "metadata": {
    "tags": []
   },
   "source": [
    "# 04 - Closure Applications - Part 1"
   ]
  },
  {
   "cell_type": "markdown",
   "id": "f8cbc991-77bc-4e00-9f72-131c6c64de40",
   "metadata": {},
   "source": [
    "In this example we are going to build an averager function that can average multiple values.\n",
    "\n",
    "The twist is that we want to simply be able to feed numbers to that function and get a running average over time, not average a list which requires performing the same calculations (sum and count) over and over again. We could do this by a `class` approach, but we can see that it's not very efficient as we have to calculate `total` and `sum` with every added number."
   ]
  },
  {
   "cell_type": "code",
   "execution_count": 147,
   "id": "8db97c24-8803-4244-8b87-af647e5d45b0",
   "metadata": {},
   "outputs": [
    {
     "name": "stdout",
     "output_type": "stream",
     "text": [
      "10.0\n",
      "15.0\n"
     ]
    }
   ],
   "source": [
    "class Averager:\n",
    "    def __init__(self):\n",
    "        self.numbers = []\n",
    "    \n",
    "    def add(self, number):\n",
    "        self.numbers.append(number)\n",
    "        total = sum(self.numbers)\n",
    "        count = len(self.numbers)\n",
    "        return total / count\n",
    "    \n",
    "a = Averager()\n",
    "print(a.add(10))\n",
    "print(a.add(20))"
   ]
  },
  {
   "cell_type": "markdown",
   "id": "0265eb4d-a808-4010-a884-0078f9f9d374",
   "metadata": {},
   "source": [
    "How about with a closure? "
   ]
  },
  {
   "cell_type": "code",
   "execution_count": 148,
   "id": "9958b466-761c-49a5-93c7-b43c3fe80784",
   "metadata": {},
   "outputs": [
    {
     "name": "stdout",
     "output_type": "stream",
     "text": [
      "10.0\n",
      "15.0\n"
     ]
    }
   ],
   "source": [
    "def averager():\n",
    "    numbers = []\n",
    "    def add(number):\n",
    "        numbers.append(number)\n",
    "        total = sum(numbers) \n",
    "        count = len(numbers)\n",
    "        return total / count\n",
    "    return add\n",
    "\n",
    "a = averager() # a is now like add\n",
    "print(a(10))\n",
    "print(a(20))"
   ]
  },
  {
   "cell_type": "markdown",
   "id": "8d499638-ecc3-447b-b71e-1fc14fc39f39",
   "metadata": {},
   "source": [
    "The example above is still inefficient as we are summing and finding the length every time. Instead, we could just increment `total` and `count` with each added number. We saw that we were essentially able to convert a class to an equivalent functionality using closures. This is actually true in a much more general sense - very often, classes that define a single method (other than initializers) can be implemented using a closure instead."
   ]
  },
  {
   "cell_type": "code",
   "execution_count": 149,
   "id": "ac626fde-4c05-4f92-a4eb-573284718592",
   "metadata": {},
   "outputs": [
    {
     "name": "stdout",
     "output_type": "stream",
     "text": [
      "10.0\n",
      "15.0\n"
     ]
    }
   ],
   "source": [
    "def averager():\n",
    "    total = 0\n",
    "    count = 0\n",
    "    \n",
    "    def add(value):\n",
    "        nonlocal total, count # this is essential because we have total and count in the lines below so Python will infer that its a local variable of add()\n",
    "        total += value\n",
    "        count += 1\n",
    "        return 0 if count == 0 else total / count\n",
    "    \n",
    "    return add\n",
    "\n",
    "a = Averager()\n",
    "print(a.add(10))\n",
    "print(a.add(20))"
   ]
  },
  {
   "cell_type": "markdown",
   "id": "44f517a1-2cd0-4171-b42c-dc91862c95b3",
   "metadata": {},
   "source": [
    "Now let's create a timer class: note that the dunder method `__call__` just tells Python that the instance that gets created from the class is a callable, and when it's called, it should execute this dunder method."
   ]
  },
  {
   "cell_type": "code",
   "execution_count": 150,
   "id": "695f230a-273d-463d-8757-98c70d91fe96",
   "metadata": {},
   "outputs": [],
   "source": [
    "from time import perf_counter\n",
    "\n",
    "class Timer:\n",
    "    def __init__(self):\n",
    "        self._start = perf_counter()\n",
    "    \n",
    "    def __call__(self):\n",
    "        return (perf_counter() - self._start)\n",
    "    \n",
    "t1 = Timer()"
   ]
  },
  {
   "cell_type": "code",
   "execution_count": 151,
   "id": "04a1167d-b5e1-459b-9e02-49501ff7ae16",
   "metadata": {},
   "outputs": [
    {
     "data": {
      "text/plain": [
       "0.23788142400007928"
      ]
     },
     "execution_count": 151,
     "metadata": {},
     "output_type": "execute_result"
    }
   ],
   "source": [
    "t1() # wait 5 seconds before executing..."
   ]
  },
  {
   "cell_type": "code",
   "execution_count": 152,
   "id": "931b0823-9cec-4f66-b5b7-9e930f76cb5e",
   "metadata": {},
   "outputs": [
    {
     "data": {
      "text/plain": [
       "0.522584586999983"
      ]
     },
     "execution_count": 152,
     "metadata": {},
     "output_type": "execute_result"
    }
   ],
   "source": [
    "t1() # ...this line"
   ]
  },
  {
   "cell_type": "markdown",
   "id": "9b2adac0-8ce6-4b1a-b673-db0397db189e",
   "metadata": {},
   "source": [
    "Equivalently, as a closure, we now have the same syntax as the class method for calling the function: (note that the name of the closure `elapsed` is not important because we never refer to it, we only return it."
   ]
  },
  {
   "cell_type": "code",
   "execution_count": 153,
   "id": "83be7f2c-3af9-4366-adab-61a475f5fde2",
   "metadata": {},
   "outputs": [],
   "source": [
    "def timer():\n",
    "    start = perf_counter()\n",
    "    \n",
    "    def elapsed():\n",
    "        # we don't even need to make start nonlocal \n",
    "        # since we are only reading it\n",
    "        return perf_counter() - start\n",
    "    \n",
    "    return elapsed\n",
    "\n",
    "t2 = timer()"
   ]
  },
  {
   "cell_type": "code",
   "execution_count": 154,
   "id": "933d0a2b-c0cc-4ccf-8844-a32be2f2ff7b",
   "metadata": {},
   "outputs": [
    {
     "data": {
      "text/plain": [
       "0.2775421530004678"
      ]
     },
     "execution_count": 154,
     "metadata": {},
     "output_type": "execute_result"
    }
   ],
   "source": [
    "t2()"
   ]
  },
  {
   "cell_type": "code",
   "execution_count": 155,
   "id": "8baab3a2-84ab-4f36-8904-981283b2b182",
   "metadata": {},
   "outputs": [
    {
     "data": {
      "text/plain": [
       "0.5290456709999489"
      ]
     },
     "execution_count": 155,
     "metadata": {},
     "output_type": "execute_result"
    }
   ],
   "source": [
    "t2()"
   ]
  },
  {
   "cell_type": "markdown",
   "id": "0c332bd6-655c-48e1-85db-97c3dd4c2f6a",
   "metadata": {
    "tags": []
   },
   "source": [
    "# 05 - Closure Applications - Part 2"
   ]
  },
  {
   "cell_type": "markdown",
   "id": "ded69526-6145-4b2c-9e6c-be6231b6f416",
   "metadata": {},
   "source": [
    "**Example 1:** Here we see a simple counter using closures, similar to the one we saw a few subsections ago, except we don't need to nest closures. This is the easier way of doing it. "
   ]
  },
  {
   "cell_type": "code",
   "execution_count": 156,
   "id": "5b253db8-ca7e-4633-8858-cc6f70248c19",
   "metadata": {},
   "outputs": [
    {
     "name": "stdout",
     "output_type": "stream",
     "text": [
      "15\n",
      "20\n"
     ]
    }
   ],
   "source": [
    "def counter(initial_value=0):\n",
    "    \n",
    "    def inc(increment):\n",
    "        nonlocal initial_value\n",
    "        initial_value += increment\n",
    "        return initial_value\n",
    "    \n",
    "    return inc\n",
    "\n",
    "counter1 = counter(10)\n",
    "print(counter1(5))\n",
    "print(counter1(5))"
   ]
  },
  {
   "cell_type": "markdown",
   "id": "c5e6a9c1-608c-446a-939a-cef36fd72143",
   "metadata": {},
   "source": [
    "**Example 2:** Here we want to count the number of times a function is run using a **closure** "
   ]
  },
  {
   "cell_type": "code",
   "execution_count": 157,
   "id": "04eacb02-bca5-4a17-bea2-6edb9f8412fb",
   "metadata": {},
   "outputs": [
    {
     "name": "stdout",
     "output_type": "stream",
     "text": [
      "add has been called 1 times\n",
      "7\n"
     ]
    }
   ],
   "source": [
    "def counter(fn):\n",
    "    cnt = 0  # initially fn has been run zero times\n",
    "    \n",
    "    def inner(*args, **kwargs):\n",
    "        nonlocal cnt\n",
    "        cnt = cnt + 1\n",
    "        print(f'{fn.__name__} has been called {cnt} times')\n",
    "        return fn(*args, **kwargs) # fn is implicitly nonlocal because we reference it without there being any local assignment.\n",
    "    \n",
    "    return inner\n",
    "\n",
    "def add(a, b):\n",
    "    return a + b\n",
    "\n",
    "counter_add = counter(add) #counter_add is basically equivalent to inner, so we can chuck in our function parameters and it will return the execute of the function\n",
    "\n",
    "returned_value = counter_add(3, 4)\n",
    "print(returned_value)"
   ]
  },
  {
   "cell_type": "markdown",
   "id": "2705c3b6-99d4-44aa-b599-c388ffab732d",
   "metadata": {},
   "source": [
    "We can improve on this by storing the number of counts in a dictionary for each function that's passed."
   ]
  },
  {
   "cell_type": "code",
   "execution_count": 158,
   "id": "a22aeed9-224e-4cec-9369-aa575132b8b0",
   "metadata": {},
   "outputs": [],
   "source": [
    "def counter(fn, counters):\n",
    "    cnt = 0  # initially fn has been run zero times\n",
    "    \n",
    "    def inner(*args, **kwargs):\n",
    "        nonlocal cnt\n",
    "        cnt = cnt + 1\n",
    "        counters[fn.__name__] = cnt  # counters is nonlocal\n",
    "        return fn(*args, **kwargs)\n",
    "    \n",
    "    return inner\n",
    "\n",
    "func_counters_dict = {}\n",
    "\n",
    "def add(a, b):\n",
    "    return a + b\n",
    "\n",
    "def mult(a, b):\n",
    "    return a*b\n",
    "\n",
    "counted_add = counter(add, func_counters_dict)\n",
    "counted_mult = counter(mult, func_counters_dict)"
   ]
  },
  {
   "cell_type": "code",
   "execution_count": 159,
   "id": "2c9d91a6-93cf-4341-af4d-457d7e7589bc",
   "metadata": {},
   "outputs": [
    {
     "data": {
      "text/plain": [
       "{'add': 3, 'mult': 1}"
      ]
     },
     "execution_count": 159,
     "metadata": {},
     "output_type": "execute_result"
    }
   ],
   "source": [
    "counted_add(3,4)\n",
    "counted_add(5,6) \n",
    "counted_add(1,10) # called 3 times in total\n",
    "\n",
    "counted_mult(5,6) # callled 1 time in total\n",
    "\n",
    "func_counters_dict"
   ]
  },
  {
   "cell_type": "markdown",
   "id": "88fd801f-92fd-47ea-b12a-93bf6d49d680",
   "metadata": {},
   "source": [
    "But these `counted_add` and `counted_mult` variable names are awkward. Wouldn't it be good if we could use the name of the actual function? So, if we call `add`, it will execute `add` but also increment the dictionary value? All we do is simply rename `counted_add` to `add`, thereby overwriting `add` from a function to a closure. We'll demonstrate with a factorial function"
   ]
  },
  {
   "cell_type": "code",
   "execution_count": 160,
   "id": "79e8ca28-c44b-4b43-a524-67bb2ca71268",
   "metadata": {},
   "outputs": [
    {
     "name": "stdout",
     "output_type": "stream",
     "text": [
      "6\n",
      "24\n",
      "120\n"
     ]
    },
    {
     "data": {
      "text/plain": [
       "{'add': 3, 'mult': 1, 'fact': 3}"
      ]
     },
     "execution_count": 160,
     "metadata": {},
     "output_type": "execute_result"
    }
   ],
   "source": [
    "def fact(n):\n",
    "    product = 1\n",
    "    for i in range(2, n+1):\n",
    "        product *= i\n",
    "    return product\n",
    "\n",
    "fact = counter(fact, func_counters_dict)\n",
    "\n",
    "print(fact(3))\n",
    "print(fact(4))\n",
    "print(fact(5))\n",
    "\n",
    "func_counters_dict"
   ]
  },
  {
   "cell_type": "markdown",
   "id": "8f663f22-cce6-4422-a697-ca1a977f25fd",
   "metadata": {},
   "source": [
    "So, it sounds like we're extending the functionality of a function. This leads us directly to decorators."
   ]
  },
  {
   "cell_type": "markdown",
   "id": "6625fa04-0a6d-4ea7-b698-25462ff47d0d",
   "metadata": {
    "tags": []
   },
   "source": [
    "# 06 - Decorators - Part 1"
   ]
  },
  {
   "cell_type": "markdown",
   "id": "1d4229ae-d4ff-4c49-ab05-ec86dd531562",
   "metadata": {},
   "source": [
    "In the last section, we were essentially making a decorator. We **wrapped** our `add` function with another function. We can also say that we **decorated** our `add` function with the `counter` function. We call `counter(fn)` a **decorator** function.\n",
    "\n",
    "`add = counter(add)` \\\n",
    "`<closure> = <decorator>(<function to be decorated>)`\n",
    "\n",
    "In general, for a **decorator** function:\n",
    "- takes a function as an argument \n",
    "- returns a closure (usually).\n",
    "- the closure usually accepts any (combo of) parameters via `(*args, **kwargs)`\n",
    "- runs some code within the closure (e.g. increments a count, prints a statement etc.)\n",
    "- the closure (which we've usually called inner) returns an execute of the function.\n",
    "\n",
    "<img src=s7-images/7.9.png width=400/>"
   ]
  },
  {
   "cell_type": "markdown",
   "id": "87d83ff9-b972-44fc-8989-37135011c54e",
   "metadata": {},
   "source": [
    "**The @ symbol**: It is purely for convenience.\n",
    "\n",
    "Instead of:"
   ]
  },
  {
   "cell_type": "code",
   "execution_count": 161,
   "id": "9e8825ed-d101-473f-afe0-0cf6e7057c05",
   "metadata": {},
   "outputs": [],
   "source": [
    "def counter(fn):\n",
    "    cnt = 0  # initially fn has been run zero times\n",
    "    \n",
    "    def inner(*args, **kwargs):\n",
    "        nonlocal cnt\n",
    "        cnt = cnt + 1\n",
    "        print(f'{fn.__name__} has been called {cnt} times')\n",
    "        return fn(*args, **kwargs) # fn is implicitly nonlocal because we reference it without there being any local assignment.\n",
    "    \n",
    "    return inner"
   ]
  },
  {
   "cell_type": "code",
   "execution_count": 162,
   "id": "3a025d42-c8e5-4ea2-a407-798d07f053db",
   "metadata": {},
   "outputs": [],
   "source": [
    "def add(a, b):\n",
    "    return a + b\n",
    "\n",
    "add = counter(add)"
   ]
  },
  {
   "cell_type": "markdown",
   "id": "0155f4c1-eea5-490b-a7b0-8ad7ba93ce96",
   "metadata": {},
   "source": [
    "We could do instead:"
   ]
  },
  {
   "cell_type": "code",
   "execution_count": 163,
   "id": "0c24e886-50c8-4dbf-8d26-39f9c442be65",
   "metadata": {},
   "outputs": [],
   "source": [
    "@counter\n",
    "def add(a, b):\n",
    "    return a + b"
   ]
  },
  {
   "cell_type": "markdown",
   "id": "3e5d7b7b-43c5-4ee6-8c88-9fbfc507ea82",
   "metadata": {},
   "source": [
    "Remember what the decorator is doing. It really is just putting the function `add` as a parameter of `counter(fn)`"
   ]
  },
  {
   "cell_type": "markdown",
   "id": "c74ee022-a91e-469e-b454-3b390746c589",
   "metadata": {},
   "source": [
    "One big issue of this when debugging is that any introspection on the function `add` will infact point to `inner(*args, **kwargs)`. So, we've lost the name, docstring, parameter annotations etc."
   ]
  },
  {
   "cell_type": "code",
   "execution_count": 164,
   "id": "acd52dac-190c-4397-ab8a-0d8c2f9b5e7b",
   "metadata": {},
   "outputs": [
    {
     "name": "stdout",
     "output_type": "stream",
     "text": [
      "inner\n",
      "Help on function inner in module __main__:\n",
      "\n",
      "inner(*args, **kwargs)\n",
      "\n"
     ]
    }
   ],
   "source": [
    "print(add.__name__)\n",
    "help(add)"
   ]
  },
  {
   "cell_type": "markdown",
   "id": "03011e49-392d-4e0e-8b16-2decfc858a62",
   "metadata": {},
   "source": [
    "We can use a special function in the **functools** module, called **wraps**. "
   ]
  },
  {
   "cell_type": "code",
   "execution_count": 165,
   "id": "09bb2c44-059b-4490-9324-480db990f54e",
   "metadata": {},
   "outputs": [],
   "source": [
    "from functools import wraps"
   ]
  },
  {
   "cell_type": "code",
   "execution_count": 166,
   "id": "8f9209f6-32f5-40c9-b3f6-8992b4866f3d",
   "metadata": {},
   "outputs": [],
   "source": [
    "def counter(fn):\n",
    "    count = 0\n",
    "    def inner(*args, **kwargs):\n",
    "        nonlocal count\n",
    "        count += 1\n",
    "        print(f\"{fn.__name__} was called {count} times\")\n",
    "    \n",
    "    inner = wraps(fn)(inner)\n",
    "    return inner"
   ]
  },
  {
   "cell_type": "markdown",
   "id": "aec93740-c653-4ad6-9a98-331061a72f65",
   "metadata": {},
   "source": [
    "In fact, **wraps** is a decorator itself! \n",
    "\n",
    "Let's examine `inner = wraps(fn)(inner)`. Remember that we said decorators take a function as an argument which it decorates? Before, the `counter` function decorated the `add` function which gave `add` some extra functionality. \n",
    "\n",
    "Here `wraps`, the decorator, decorates the closure (inner) function (and it's going to collect the metadata that we want). As we also said earlier, it runs some code within the closure, e.g. incrementing a count. But, before it can do that, it needs to what the original function was. Indeed we could've decorated `add`, `multiply` etc., each with their own unique docstrings and parameter annotations.\n",
    "\n",
    "So, we need to first pass this original function as an **argument** to the decorator, i.e., **decorator's can have parameters** -> `wraps(fn)`. \\\n",
    "Now we can go back and use this decorator to decorate `inner` -> `inner = wraps(fn)(inner)`.\n",
    "\n",
    "But the above is written in 'closure notation'. We can use the convenient decorator notation of `@`:\n",
    "\n",
    "```\n",
    "def some_decorator(fn):\n",
    "\n",
    "    def inner(*args, **kwargs):\n",
    "        #code\n",
    "\n",
    "    inner = wraps(fn)(inner)` \n",
    "```\n",
    "simplifies to...\n",
    "\n",
    "```\n",
    "def some_decorator(fn):\n",
    "    @wraps(fn)\n",
    "    def inner(*args, **kwargs):\n",
    "        #code\n",
    "```"
   ]
  },
  {
   "cell_type": "code",
   "execution_count": 167,
   "id": "25464a99-2a18-4f65-bf2c-15deb89376f1",
   "metadata": {},
   "outputs": [],
   "source": [
    "from functools import wraps\n",
    "\n",
    "def counter(fn):\n",
    "    count = 0\n",
    "    \n",
    "    @wraps(fn)\n",
    "    def inner(*args, **kwargs):\n",
    "        nonlocal count\n",
    "        count += 1\n",
    "        print(\"{0} was called {1} times\".format(fn.__name__, count))\n",
    "\n",
    "    return inner\n",
    "\n",
    "@counter\n",
    "def add(a: int, b: int=10) -> int:\n",
    "    \"\"\"\n",
    "    returns sum of two integers\n",
    "    \"\"\"\n",
    "    return a + b"
   ]
  },
  {
   "cell_type": "code",
   "execution_count": 168,
   "id": "200035f0-040c-45f8-ad72-56e5dd6714f6",
   "metadata": {},
   "outputs": [
    {
     "name": "stdout",
     "output_type": "stream",
     "text": [
      "Help on function add in module __main__:\n",
      "\n",
      "add(a: int, b: int = 10) -> int\n",
      "    returns sum of two integers\n",
      "\n"
     ]
    }
   ],
   "source": [
    "help(add)"
   ]
  },
  {
   "cell_type": "markdown",
   "id": "0201b85b-f7e5-4bc7-a0ca-d06bbab2ad0a",
   "metadata": {},
   "source": [
    "To summarise, `inner` had the main functionality but it was missing other functionality such as accessing the metadata. We fixed that by decorating `inner` using the decorator `wraps`. This decorator requires the function whose metadata we want e.g. `add`'s metadata."
   ]
  },
  {
   "cell_type": "markdown",
   "id": "fc9cafdf-06af-4e37-8a17-672447ccb23a",
   "metadata": {
    "tags": []
   },
   "source": [
    "# 07 - Decorator Application - Timer"
   ]
  },
  {
   "cell_type": "markdown",
   "id": "55b1fdfa-395d-410a-ace7-c1838c95b133",
   "metadata": {},
   "source": [
    "In the full notes, he creates 3 fibonacci generators, via recursion, a loop, and python's `reduce` - and times each one. \n",
    "\n",
    "First we will create our timer decorator. The `args_` and `kwargs_` are purely used for nice formatting; it creates a string that looks like the function's parameters, i.e., comma-separated. \n",
    "\n",
    "We use a 1-based system, e.g. first Fibonnaci number has index 1, etc."
   ]
  },
  {
   "cell_type": "code",
   "execution_count": 169,
   "id": "26288ec1-bddf-4830-88c6-c7544514e6b2",
   "metadata": {},
   "outputs": [],
   "source": [
    "def timed(fn):\n",
    "    from time import perf_counter\n",
    "    from functools import wraps\n",
    "    \n",
    "    @wraps(fn)\n",
    "    def inner(*args, **kwargs):\n",
    "        start = perf_counter()\n",
    "        result = fn(*args, **kwargs)\n",
    "        end = perf_counter()\n",
    "        elapsed = end - start\n",
    "        \n",
    "        args_ = [str(a) for a in args]\n",
    "        kwargs_ = ['{0}={1}'.format(k, v) for (k, v) in kwargs.items()]\n",
    "        all_args = args_ + kwargs_\n",
    "        args_str = ','.join(all_args)\n",
    "        print('{0}({1}) took {2:.6f}s to run.'.format(fn.__name__, \n",
    "                                                         args_str,\n",
    "                                                         elapsed))\n",
    "        return result\n",
    "    \n",
    "    return inner"
   ]
  },
  {
   "cell_type": "markdown",
   "id": "2f00746f-9f6e-4472-8f01-a58ba690ed48",
   "metadata": {},
   "source": [
    "**1. Recursion**"
   ]
  },
  {
   "cell_type": "code",
   "execution_count": 170,
   "id": "ae7be374-c9cb-4e9d-970a-7daa49283dd8",
   "metadata": {},
   "outputs": [],
   "source": [
    "def calc_recursive_fib(n):\n",
    "    if n <=2:\n",
    "        return 1\n",
    "    else:\n",
    "        return calc_recursive_fib(n-1) + calc_recursive_fib(n-2)"
   ]
  },
  {
   "cell_type": "code",
   "execution_count": 171,
   "id": "6a46dda0-55b3-464b-8c1c-6284c6ea528f",
   "metadata": {},
   "outputs": [],
   "source": [
    "@timed\n",
    "def fib_recursed(n):\n",
    "    return calc_recursive_fib(n)"
   ]
  },
  {
   "cell_type": "code",
   "execution_count": 172,
   "id": "8e5b3388-65dc-4bea-8b1b-40a9a6b12aa4",
   "metadata": {},
   "outputs": [
    {
     "name": "stdout",
     "output_type": "stream",
     "text": [
      "fib_recursed(6) took 0.000017s to run.\n"
     ]
    },
    {
     "data": {
      "text/plain": [
       "8"
      ]
     },
     "execution_count": 172,
     "metadata": {},
     "output_type": "execute_result"
    }
   ],
   "source": [
    "fib_recursed(6)"
   ]
  },
  {
   "cell_type": "markdown",
   "id": "a3a25f32-ec6d-4fae-99ad-9e44dddc1204",
   "metadata": {},
   "source": [
    "Note that we did not decorate our recursive function (`calc_recursive_fib(n)`) directly. This is because, for each function call, it will recall the timer. See below.."
   ]
  },
  {
   "cell_type": "code",
   "execution_count": 173,
   "id": "e348ef77-8d56-491f-b60e-5434aae7a9bf",
   "metadata": {},
   "outputs": [
    {
     "name": "stdout",
     "output_type": "stream",
     "text": [
      "fib_recursed_2(2) took 0.000000s to run.\n",
      "fib_recursed_2(1) took 0.000064s to run.\n",
      "fib_recursed_2(3) took 0.003015s to run.\n",
      "fib_recursed_2(2) took 0.000000s to run.\n",
      "fib_recursed_2(4) took 0.003032s to run.\n",
      "fib_recursed_2(2) took 0.000000s to run.\n",
      "fib_recursed_2(1) took 0.000000s to run.\n",
      "fib_recursed_2(3) took 0.000015s to run.\n",
      "fib_recursed_2(5) took 0.003061s to run.\n",
      "fib_recursed_2(2) took 0.000000s to run.\n",
      "fib_recursed_2(1) took 0.000000s to run.\n",
      "fib_recursed_2(3) took 0.000014s to run.\n",
      "fib_recursed_2(2) took 0.000000s to run.\n",
      "fib_recursed_2(4) took 0.000029s to run.\n",
      "fib_recursed_2(6) took 0.003105s to run.\n"
     ]
    },
    {
     "data": {
      "text/plain": [
       "8"
      ]
     },
     "execution_count": 173,
     "metadata": {},
     "output_type": "execute_result"
    }
   ],
   "source": [
    "@timed\n",
    "def fib_recursed_2(n):\n",
    "    if n <=2:\n",
    "        return 1\n",
    "    else:\n",
    "        return fib_recursed_2(n-1) + fib_recursed_2(n-2)\n",
    "\n",
    "fib_recursed_2(6)"
   ]
  },
  {
   "cell_type": "markdown",
   "id": "6ab393ed-ec7d-4119-b99b-ff2fea05d17f",
   "metadata": {},
   "source": [
    "Notice how inefficient this is. It has to calculate the same value multiple times even though it had calculated earlier. We can get around this using memoisation (caching)."
   ]
  },
  {
   "cell_type": "markdown",
   "id": "a9ed1378-e225-4214-9a0c-48d6212499f8",
   "metadata": {},
   "source": [
    "**2. Loop**"
   ]
  },
  {
   "cell_type": "code",
   "execution_count": 174,
   "id": "e0964f70-08e3-4355-bd01-b4e3c135b818",
   "metadata": {},
   "outputs": [
    {
     "name": "stdout",
     "output_type": "stream",
     "text": [
      "fib_loop(7) took 0.000002s to run.\n"
     ]
    },
    {
     "data": {
      "text/plain": [
       "13"
      ]
     },
     "execution_count": 174,
     "metadata": {},
     "output_type": "execute_result"
    }
   ],
   "source": [
    "@timed\n",
    "def fib_loop(n):\n",
    "    fib_1 = 1\n",
    "    fib_2 = 1\n",
    "    for i in range(3, n+1):\n",
    "        fib_1, fib_2 = fib_2, fib_1 + fib_2\n",
    "    return fib_2     \n",
    "\n",
    "fib_loop(7)"
   ]
  },
  {
   "cell_type": "markdown",
   "id": "ac3419f1-5297-4bb8-ac0d-6d251b037589",
   "metadata": {},
   "source": [
    "**3. Using `reduce`**"
   ]
  },
  {
   "cell_type": "markdown",
   "id": "10c88292-3901-44b8-9d45-efee8d42d83a",
   "metadata": {},
   "source": [
    "We first need to understand how we are going to calculate the Fibonnaci sequence using reduce: \n",
    "\n",
    "<pre>\n",
    "n=1:\n",
    "(1, 0) --> (1, 1)\n",
    "\n",
    "n=2:\n",
    "(1, 0) --> (1, 1) --> (1 + 1, 1) = (2, 1)  : result = 2 \n",
    "\n",
    "n=3\n",
    "(1, 0) --> (1, 1) --> (2, 1) --> (2+1, 2) = (3, 2)  : result = 3\n",
    "\n",
    "n=4\n",
    "(1, 0) --> (1, 1) --> (2, 1) --> (3, 2) --> (5, 3)  : result = 5\n",
    "</pre>\n",
    "\n",
    "In general each step in the reduction is as follows:\n",
    "\n",
    "<pre>\n",
    "previous value = (a, b)\n",
    "new value = (a+b, a)\n",
    "</pre>\n",
    "\n",
    "If we start our reduction with an initial value of `(1, 0)`, we need to run our \"loop\" n times.\n",
    "\n",
    "We therefore use a \"dummy\" sequence of length `n` to create `n` steps in our reduce."
   ]
  },
  {
   "cell_type": "markdown",
   "id": "64eb691f-1e8b-4c7f-8a72-efe5ea9cdfd4",
   "metadata": {
    "tags": []
   },
   "source": [
    "#### Quick aside on `reduce` from the 'realpython' website (skip if wanted)"
   ]
  },
  {
   "cell_type": "markdown",
   "id": "0d8d8c7f-a5af-4ef5-893d-b676aaa17d5c",
   "metadata": {},
   "source": [
    "In `reduce` we take 2 parameters (plus one extra for an initial value that jumps to the front of the iterable); what we do is: \n",
    "1. Apply a function (or callable) to the first two items in an iterable and generate a partial result.\n",
    "2. Use that partial result, together with the third item in the iterable, to generate another partial result.\n",
    "3. Repeat the process until the iterable is exhausted and then return a single cumulative value.\n",
    "\n",
    "The first argument to Python’s reduce() is a two-argument function conveniently called function. This function will be applied to the items in an iterable to cumulatively compute a final value.\n",
    "\n",
    "The second required argument, iterable, will accept any Python iterable. Note: If you pass an iterator to Python’s reduce(), then the function will need to exhaust the iterator before you can get a final value. So, the iterator at hand won’t remain lazy.\n",
    "\n",
    "The third argument to Python’s reduce(), called initializer, is optional. If you supply a value to initializer, then reduce() will feed it to the first call of the first argument of the two-argument function."
   ]
  },
  {
   "cell_type": "markdown",
   "id": "3dba2d4e-7a57-4ddb-91cb-14cb5b041add",
   "metadata": {
    "tags": []
   },
   "source": [
    "#### `reduce` continued."
   ]
  },
  {
   "cell_type": "markdown",
   "id": "938cbfff-67ea-4173-a107-81c4c788a615",
   "metadata": {},
   "source": [
    "<pre>\n",
    "for `n=7`, dummy = iterator that looks like (0, 1, 2, 3, 4, 5)\n",
    "\n",
    "arg1: prev      arg2: x      ->      lambda return statement      ->      evaluated (this is what's held as the partial result)\n",
    "    \n",
    "(1, 0)            0                (prev[0] + prev[1], prev[0])                                (1, 1) \n",
    "    \n",
    "(1, 1)            1                (prev[0] + prev[1], prev[0])                                (2, 1)     \n",
    "    \n",
    "(2, 1)            2                (prev[0] + prev[1], prev[0])                                (3, 2) \n",
    "\n",
    "(3, 2)            3                (prev[0] + prev[1], prev[0])                                (5, 3) \n",
    "\n",
    "(5, 3)            4                (prev[0] + prev[1], prev[0])                                (8, 5) \n",
    "\n",
    "(8, 5)            5                (prev[0] + prev[1], prev[0])                                (13, 8)\n",
    "</pre>\n",
    "\n",
    "A quick note on 'evaluated' written above: The `lambda` which takes two arguments, *normally* computes some comparison/operation *between* them and returns a single value, e.g. the max of two values, product etc. But here, we only actually care about `arg1`; from `arg1` alone we can get generate the next tuple whose first value is the next number in the fibonacci series. So, what role does `arg2` play?\n",
    "\n",
    "In the first pairwise comparison (iteration), `arg2` is the first term in the `dummy` sequence -> 0. Python expected to 'compare/evaluate' with these two args, but instead we trick Python a little. Python normally expects a list/iterator and it will successively fold/reduce a pair of adjacent values, producing a partial solution for each pair, **until** we exhaust the items in the list (or exhaust the iterator). Here, we only want one thing: the partial solution after `n` foldings because each folding corresponds to generating the next term in the fibonacci sequence. It is basically recursion. So how can we tactically exhaust the list/iterator?. By creating a dummy sequence of appropriate length, we can guarantee `n` foldings of a pair of values  and thus, we can generate `n` terms in the fibonacci sequence.\n",
    "\n",
    "**The function taken by `reduce` (`fib_gen_func`) has access to each element in the sequence during each iteration but NEVER uses it. It is merely for counting the folds.**\n",
    "\n",
    "<pre>\n",
    "sequence to iterate: (    (1, 0)    ,    0    ,    1    ,    2    ,     3     ,    4    ,    5    )\n",
    "\n",
    "1st fold                    ^ -----------^                                                      \n",
    "fib_seq                     (    (1, 1)    ,    1    ,    2    ,     3     ,    4    ,    5    )\n",
    "\n",
    "2nd fold                            ^-----------^\n",
    "fib_seq                            (    (2, 1)    ,    2    ,     3     ,    4    ,    5    )\n",
    "\n",
    "3rd fold                                   ^-----------^\n",
    "fib_seq                                  (    (3, 2)    ,     3     ,    4    ,    5    )\n",
    "\n",
    "4th fold                                         ^------------^\n",
    "fib_seq                                          (    (5, 3)    ,    4    ,    5    )\n",
    "\n",
    "5th fold                                                 ^-----------^\n",
    "fib_seq                                                (    (8, 5)    ,    5    )\n",
    "\n",
    "6th fold                                                       ^-----------^\n",
    "fib_seq                                                      (    (13, 8)    )\n",
    "\n",
    "</pre>\n",
    "So we were able to guarantee `n` terms in the fibonacci sequence by having a sequence of length `n-1`. (the initialiser `(1, 0)` included will make the sequence of length `n`.)"
   ]
  },
  {
   "cell_type": "code",
   "execution_count": 175,
   "id": "b670551c-347c-4de2-81a8-fb3942c957da",
   "metadata": {},
   "outputs": [
    {
     "name": "stdout",
     "output_type": "stream",
     "text": [
      "prev is (1, 0), next item in dummy is 0\n",
      "prev is (1, 1), next item in dummy is 1\n",
      "prev is (2, 1), next item in dummy is 2\n",
      "prev is (3, 2), next item in dummy is 3\n",
      "prev is (5, 3), next item in dummy is 4\n",
      "prev is (8, 5), next item in dummy is 5\n",
      "fib_reduce(7) took 0.000567s to run.\n"
     ]
    },
    {
     "data": {
      "text/plain": [
       "13"
      ]
     },
     "execution_count": 175,
     "metadata": {},
     "output_type": "execute_result"
    }
   ],
   "source": [
    "from functools import reduce\n",
    "\n",
    "def fib_gen_func(prev, next_item_in_dummy):\n",
    "    print(f\"prev is {prev}, next item in dummy is {next_item_in_dummy}\") # just to show you the adjacent values that are being 'used' (0,1,2.. etc. aren't used).\n",
    "    return (prev[0] + prev[1], prev[0])\n",
    "\n",
    "@timed\n",
    "def fib_reduce(n):\n",
    "    initial = (1, 0)\n",
    "    dummy = range(n-1)\n",
    "    fib_n = reduce(fib_gen_func, dummy, initial)\n",
    "                                \n",
    "    return fib_n[0]  \n",
    "\n",
    "fib_reduce(7)"
   ]
  },
  {
   "cell_type": "markdown",
   "id": "78185209-716d-43d7-bb54-a54d2fc35aec",
   "metadata": {
    "tags": []
   },
   "source": [
    "# 08 - Decorator Application - Logger, Stacked"
   ]
  },
  {
   "cell_type": "markdown",
   "id": "1f18377b-c9aa-49e6-92ed-52b9cb31906b",
   "metadata": {},
   "source": [
    "In this example we're going to create a utility decorator that will log function calls (to the console, but in practice you would be writing your logs to a file (e.g. using Python's built-in logger), or to a database, etc.\n",
    "\n",
    "Now we may additionally also want to time the function. We can certainly include the code to do so in our `logged` decorator, but we could also just use the `@timed` decorator we already wrote by **stacking** our decorators."
   ]
  },
  {
   "cell_type": "code",
   "execution_count": 176,
   "id": "941aa63d-aa7a-4a9c-8929-da13d3670638",
   "metadata": {},
   "outputs": [],
   "source": [
    "def logged(fn):\n",
    "    from functools import wraps\n",
    "    from datetime import datetime, timezone\n",
    "    \n",
    "    @wraps(fn)\n",
    "    def inner(*args, **kwargs):\n",
    "        run_dt = datetime.now(timezone.utc)\n",
    "        result = fn(*args, **kwargs)\n",
    "        print('{0}: called {1}'.format(fn.__name__, run_dt))\n",
    "        return result\n",
    "        \n",
    "    return inner\n",
    "\n",
    "def timed(fn):\n",
    "    from functools import wraps\n",
    "    from time import perf_counter\n",
    "    \n",
    "    @wraps(fn)\n",
    "    def inner(*args, **kwargs):\n",
    "        start = perf_counter()\n",
    "        result = fn(*args, **kwargs)\n",
    "        end = perf_counter()\n",
    "        print('{0} ran for {1:.6f}s'.format(fn.__name__, end-start))\n",
    "        return result\n",
    "    \n",
    "    return inner"
   ]
  },
  {
   "cell_type": "code",
   "execution_count": 177,
   "id": "bc83a2ce-7fa7-4cc2-935b-9f8eb880082b",
   "metadata": {},
   "outputs": [
    {
     "name": "stdout",
     "output_type": "stream",
     "text": [
      "fact ran for 0.000005s\n",
      "fact: called 2022-10-26 17:48:21.854223+00:00\n"
     ]
    },
    {
     "data": {
      "text/plain": [
       "120"
      ]
     },
     "execution_count": 177,
     "metadata": {},
     "output_type": "execute_result"
    }
   ],
   "source": [
    "@logged\n",
    "@timed\n",
    "def fact(n):\n",
    "    from functools import reduce\n",
    "    from operator import mul\n",
    "    return 0 if n < 1 else reduce(mul, range(1, n+1)) \n",
    "\n",
    "fact(5)"
   ]
  },
  {
   "cell_type": "markdown",
   "id": "5680a97a-2425-4f3c-bd31-6bedbc0628a5",
   "metadata": {},
   "source": [
    "This is identical to:"
   ]
  },
  {
   "cell_type": "code",
   "execution_count": 178,
   "id": "165741cf-87e0-44d4-a298-10845431d755",
   "metadata": {},
   "outputs": [],
   "source": [
    "fact = logged(timed(fact))"
   ]
  },
  {
   "cell_type": "markdown",
   "id": "f330b1ab-46cb-431a-bf4d-8ee61df376ac",
   "metadata": {},
   "source": [
    "As we can see, `timed(fact)` has to finish running (and printing) before `logged(timed(fact))` can finish running and printing. So, it's pretty intuitive. If we have moved the print statement to before the function call within the decorator, we would've seen the opposite order of print statements."
   ]
  },
  {
   "cell_type": "markdown",
   "id": "07d29805-dbf4-4984-9420-5690f5029015",
   "metadata": {
    "tags": []
   },
   "source": [
    "# 09 - Decorator Application - Memoization "
   ]
  },
  {
   "cell_type": "markdown",
   "id": "8d5705e1-19ec-4415-90c6-24deef515467",
   "metadata": {},
   "source": [
    "Recall how inefficient using recursion was for calculating the fibonacci sequence due to recalculating the same values multiple times."
   ]
  },
  {
   "cell_type": "code",
   "execution_count": 179,
   "id": "126f3562-5bc6-43e3-847b-6c9eeb9932f4",
   "metadata": {},
   "outputs": [
    {
     "name": "stdout",
     "output_type": "stream",
     "text": [
      "Calculating fib(5)\n",
      "Calculating fib(4)\n",
      "Calculating fib(3)\n",
      "Calculating fib(2)\n",
      "Calculating fib(1)\n",
      "Calculating fib(2)\n",
      "Calculating fib(3)\n",
      "Calculating fib(2)\n",
      "Calculating fib(1)\n"
     ]
    },
    {
     "data": {
      "text/plain": [
       "5"
      ]
     },
     "execution_count": 179,
     "metadata": {},
     "output_type": "execute_result"
    }
   ],
   "source": [
    "def fib(n):\n",
    "    print ('Calculating fib({0})'.format(n))\n",
    "    return 1 if n < 3 else fib(n-1) + fib(n-2)\n",
    "\n",
    "fib(5)"
   ]
  },
  {
   "cell_type": "markdown",
   "id": "43971adf-bca4-4504-af36-0102ad0f0e3b",
   "metadata": {},
   "source": [
    "We can fix this by caching calculated values into a dictionary. This concept of improving the efficiency of our code by caching pre-calculated values so they do not need to be re-calcualted every time, is called \"memoization\". We can write this as a class where the `cache` is an attribute. "
   ]
  },
  {
   "cell_type": "code",
   "execution_count": 180,
   "id": "ac30b3c5-c5fb-4690-a347-5610962839b5",
   "metadata": {},
   "outputs": [],
   "source": [
    "class Fib:\n",
    "    def __init__(self):\n",
    "        self.cache = {1: 1, 2: 1}\n",
    "    \n",
    "    def fib(self, n):\n",
    "        if n not in self.cache:\n",
    "            print('Calculating fib({0})'.format(n))\n",
    "            self.cache[n] = self.fib(n-1) + self.fib(n-2)\n",
    "        return self.cache[n]\n",
    "    \n",
    "f_class = Fib()"
   ]
  },
  {
   "cell_type": "code",
   "execution_count": 181,
   "id": "ce8cfef9-6ad1-4771-b517-eff6cb24ddef",
   "metadata": {},
   "outputs": [
    {
     "name": "stdout",
     "output_type": "stream",
     "text": [
      "Calculating fib(5)\n",
      "Calculating fib(4)\n",
      "Calculating fib(3)\n"
     ]
    },
    {
     "data": {
      "text/plain": [
       "5"
      ]
     },
     "execution_count": 181,
     "metadata": {},
     "output_type": "execute_result"
    }
   ],
   "source": [
    "f_class.fib(5)"
   ]
  },
  {
   "cell_type": "code",
   "execution_count": 182,
   "id": "b296037d-0d38-4d3d-9acc-37b5dc03587e",
   "metadata": {},
   "outputs": [
    {
     "data": {
      "text/plain": [
       "5"
      ]
     },
     "execution_count": 182,
     "metadata": {},
     "output_type": "execute_result"
    }
   ],
   "source": [
    "f_class.fib(5) "
   ]
  },
  {
   "cell_type": "markdown",
   "id": "f81d1d0e-6d47-4a23-8ed8-a2caee98795f",
   "metadata": {},
   "source": [
    "Since, all values were in the cache, we didn't need to calculate any values. We just had to go to the cache. As we said earlier, it's usually possible to rewrite a simple class as a closure: It works exactly the same. "
   ]
  },
  {
   "cell_type": "code",
   "execution_count": 183,
   "id": "f877a122-8d3a-4514-a8bf-1234f73b541d",
   "metadata": {},
   "outputs": [
    {
     "name": "stdout",
     "output_type": "stream",
     "text": [
      "Calculating fib(5)\n",
      "Calculating fib(4)\n",
      "Calculating fib(3)\n"
     ]
    },
    {
     "data": {
      "text/plain": [
       "8"
      ]
     },
     "execution_count": 183,
     "metadata": {},
     "output_type": "execute_result"
    }
   ],
   "source": [
    "def fib():\n",
    "    cache = {1: 1, 2: 2}\n",
    "    \n",
    "    def calc_fib(n):\n",
    "        if n not in cache:\n",
    "            print('Calculating fib({0})'.format(n))\n",
    "            cache[n] = calc_fib(n-1) + calc_fib(n-2)\n",
    "        return cache[n]\n",
    "    \n",
    "    return calc_fib\n",
    "\n",
    "f_closure = fib()\n",
    "\n",
    "f_closure(5)"
   ]
  },
  {
   "cell_type": "markdown",
   "id": "b0a37957-c4c4-4dc1-8c8a-076d772729c8",
   "metadata": {},
   "source": [
    "Here we'll see how decorators and closures can be used differently. In particular, the generality of decorators. Let's rewrite the above as a decorator. This decorator will call a function with a particular argument e.g. `fib(3)` but only do so if a cache does not contain that value."
   ]
  },
  {
   "cell_type": "code",
   "execution_count": 184,
   "id": "8964ad74-3bd2-496a-8fa0-98edf3ad1c5b",
   "metadata": {},
   "outputs": [],
   "source": [
    "def memoize(fn):\n",
    "    from functools import wraps\n",
    "    cache = dict()\n",
    "    print(f\"cache has id: {hex(id(cache))}\")\n",
    "    \n",
    "    @wraps(fn)\n",
    "    def inner(*args):\n",
    "        if args not in cache:\n",
    "            cache[args] = fn(*args) # here we call any general function, but only if 'args' are not found in the cache.\n",
    "        return cache[args]\n",
    "    \n",
    "    return inner"
   ]
  },
  {
   "cell_type": "code",
   "execution_count": 185,
   "id": "e19ed865-117f-44d7-aa0d-222f210ab5c6",
   "metadata": {},
   "outputs": [
    {
     "name": "stdout",
     "output_type": "stream",
     "text": [
      "cache has id: 0x7fb4da746200\n"
     ]
    }
   ],
   "source": [
    "@memoize\n",
    "def fib(n):\n",
    "    print ('Calculating fib({0})'.format(n))\n",
    "    return 1 if n < 3 else fib(n-1) + fib(n-2)"
   ]
  },
  {
   "cell_type": "code",
   "execution_count": 186,
   "id": "fba696fc-51a8-42a9-a0ce-c06d3684d838",
   "metadata": {},
   "outputs": [
    {
     "name": "stdout",
     "output_type": "stream",
     "text": [
      "cache has id: 0x7fb4f0304ec0\n"
     ]
    }
   ],
   "source": [
    "@memoize\n",
    "def fact(n):\n",
    "    print('Calculating {0}!'.format(n))\n",
    "    return 1 if n < 2 else n * fact(n-1)"
   ]
  },
  {
   "cell_type": "code",
   "execution_count": 187,
   "id": "d78304d1-c8a7-4b53-8e85-a86d1f13467e",
   "metadata": {},
   "outputs": [
    {
     "name": "stdout",
     "output_type": "stream",
     "text": [
      "Calculating fib(3)\n",
      "Calculating fib(2)\n",
      "Calculating fib(1)\n"
     ]
    },
    {
     "data": {
      "text/plain": [
       "2"
      ]
     },
     "execution_count": 187,
     "metadata": {},
     "output_type": "execute_result"
    }
   ],
   "source": [
    "fib(3)"
   ]
  },
  {
   "cell_type": "code",
   "execution_count": 188,
   "id": "2277e5d6-03fc-420c-b1a7-743685a00e2f",
   "metadata": {},
   "outputs": [
    {
     "name": "stdout",
     "output_type": "stream",
     "text": [
      "Calculating 3!\n",
      "Calculating 2!\n",
      "Calculating 1!\n"
     ]
    },
    {
     "data": {
      "text/plain": [
       "6"
      ]
     },
     "execution_count": 188,
     "metadata": {},
     "output_type": "execute_result"
    }
   ],
   "source": [
    "fact(3)"
   ]
  },
  {
   "cell_type": "markdown",
   "id": "1ce30123-a3ac-4544-a75d-6d491b6270c2",
   "metadata": {},
   "source": [
    "**Important**: Recogise that, although both have the same `args` being passed to inner, the caches are different. And we see why above when we first decorated the function. Remember, the @ is purely convenient. It represents: `fib = memoize(fib)`. Therefore, even though it only seems to be a function definition, something is actually getting called. Since the print of the ID's ran, it shows us that the dictionaries were created prior to that moment.\n",
    "\n",
    "Once we call `fib(3)`, it is like we're calling `inner`, **EXCEPT `fn` and `cache` are nonlocal variables (implicitly)** \n",
    "\n",
    "<img src=s7-images/7.10.png width=700 />"
   ]
  },
  {
   "cell_type": "markdown",
   "id": "fc930439-bbe9-4eff-b5f4-5a1f7e999fb0",
   "metadata": {},
   "source": [
    "Our simple memoizer has a drawback however:\n",
    "* the cache size is unbounded - probably not a good thing! In general we want to limit the cache to a certain number of entries, balancing computational efficiency vs memory utilization.\n",
    "* we are not handling **kwargs\n",
    "\n",
    "Memoization is such a common thing to do that Python actually has a memoization decorator built for us!\n",
    "\n",
    "It's in the, you guessed it, **functools** module, and is called **lru_cache** and is going to be quite a bit more efficient compared to the rudimentary memoization example we did above.\n",
    "\n",
    "[LRU Cache = Least Recently Used caching: since the cache is not unlimited, at some point cached entries need to be discarded, and the least recently used entries are discarded first]"
   ]
  },
  {
   "cell_type": "code",
   "execution_count": 189,
   "id": "3c33339c-0e13-45e5-8d8b-f745cd6780bb",
   "metadata": {},
   "outputs": [
    {
     "name": "stdout",
     "output_type": "stream",
     "text": [
      "Calculating fib(4)\n",
      "Calculating fib(3)\n",
      "Calculating fib(2)\n",
      "Calculating fib(1)\n",
      "\n",
      "Calculating fib(6)\n",
      "Calculating fib(5)\n",
      "\n",
      "Calculating fib(1)\n"
     ]
    },
    {
     "data": {
      "text/plain": [
       "1"
      ]
     },
     "execution_count": 189,
     "metadata": {},
     "output_type": "execute_result"
    }
   ],
   "source": [
    "from functools import lru_cache\n",
    "\n",
    "@lru_cache(maxsize=4)\n",
    "def fib(n):\n",
    "    print(\"Calculating fib({0})\".format(n))\n",
    "    return 1 if n < 3 else fib(n-1) + fib(n-2)\n",
    "\n",
    "fib(4) \n",
    "print('')\n",
    "fib(6)\n",
    "print('')\n",
    "fib(1) # As soon as fib(6) and fib(5) were determined and cached, Python deleted the very first ones: fib(1), fib(2), so we had to recalculate it if we call fib(1)."
   ]
  },
  {
   "cell_type": "markdown",
   "id": "e6ae36a2-37a7-4267-8a99-350af236f762",
   "metadata": {
    "tags": []
   },
   "source": [
    "# 10 - Decorators - Part 2 "
   ]
  },
  {
   "cell_type": "markdown",
   "id": "fb3dbbfe-2bec-4852-bac7-689faedd483e",
   "metadata": {},
   "source": [
    "As we saw in the last subsection, it appeared as if we had decorators with parameters e.g. `@lru_cache(maxsize=16)`, so it seems we have a function call. This is in contrast to e.g. `@timed` where there is no function call.\n",
    "\n",
    "In fact, that's exactly the case; only, this function call **returns** a decorator: `@lru_cache(max_size=16)` -> `@some_decorator`.\n",
    "\n",
    "Consider the timed function with a hardcoded value of 10 which represents the number of cycles we average over. We can sort of fix the problem by accepting the parameter in the outer function, but this prevents us from using the `@` notation.\n",
    "<pre>                                                                         bad approach</pre>\n",
    "<img src=s7-images/7.11.png width=500 />  <img src=s7-images/7.12.png width=400 />"
   ]
  },
  {
   "cell_type": "markdown",
   "id": "6b99b090-e6d4-4ed0-a392-1cdf16982dd8",
   "metadata": {},
   "source": [
    "So, `timed` was a decorator that returned the `inner` closure. For it to remain a decorator, **`timed` must only take 1 parameter which is the function to be decorated**. The solution therefore is to have an even outer function that takes whatever parameters we want **and returns a decorator** \n",
    "\n",
    "`outer(reps=10)` ----returns----> `timed`\n",
    "\n",
    "So, instead of `my_func = timed(my_func, reps=10)` we have `my_func = outer(reps=10)(my_func)` which is almost equivalent to `my_func = timed(my_func)`. The key thing to remember is that `timed` has access to `reps` because `reps` is a free variable. \n",
    "\n",
    "<img src=s7-images/7.13.png width=500 />"
   ]
  },
  {
   "cell_type": "markdown",
   "id": "8bd94931-c7b3-4a44-aeaa-b5fad4e0783c",
   "metadata": {},
   "source": [
    "<a id='decorator_factory_image'></a>\n",
    "\n",
    "**So, `outer` function is not itself a decorator. Instead, it returns a decorator, therefore it is a *decorator factory***\n",
    "\n",
    "<img src=s7-images/7.14.png width=500 />"
   ]
  },
  {
   "cell_type": "markdown",
   "id": "04aa6be0-d66d-4dad-abe6-8d493c0d524a",
   "metadata": {},
   "source": [
    "We don't really want to call things `factories`, so we instead have to cascade the names of all variables down once."
   ]
  },
  {
   "cell_type": "code",
   "execution_count": 190,
   "id": "a8f8fe3f-9849-462b-9c95-5963beb603ac",
   "metadata": {},
   "outputs": [],
   "source": [
    "from functools import wraps\n",
    "\n",
    "def timed(num_reps=1):\n",
    "    def decorator(fn):\n",
    "        from time import perf_counter\n",
    "\n",
    "        @wraps(fn)\n",
    "        def inner(*args, **kwargs):\n",
    "            total_elapsed = 0\n",
    "            for i in range(num_reps):\n",
    "                start = perf_counter()\n",
    "                result = fn(*args, **kwargs)\n",
    "                end = perf_counter()\n",
    "                total_elapsed += (perf_counter() - start)\n",
    "            avg_elapsed = total_elapsed / num_reps\n",
    "            print('Avg Run time: {0:.6f}s ({1} reps)'.format(avg_elapsed,\n",
    "                                                            num_reps))\n",
    "            return result\n",
    "        return inner\n",
    "    return decorator  "
   ]
  },
  {
   "cell_type": "code",
   "execution_count": 191,
   "id": "79c07a38-8f14-4467-8b80-295ef6f3057e",
   "metadata": {},
   "outputs": [],
   "source": [
    "def calc_fib_recurse(n):\n",
    "    return 1 if n < 3 else calc_fib_recurse(n-1) + calc_fib_recurse(n-2)\n",
    "\n",
    "def fib(n):      # We can't decorate `calc_fib_recurse(n)` because each recurse will recall the decorator. Instead we enclose it in a function and decorate that                  \n",
    "    return calc_fib_recurse(n)"
   ]
  },
  {
   "cell_type": "code",
   "execution_count": 192,
   "id": "451675b3-ff8a-42da-9d12-26f41560d7be",
   "metadata": {},
   "outputs": [],
   "source": [
    "@timed(3)\n",
    "def fib(n):\n",
    "    return calc_fib_recurse(n)"
   ]
  },
  {
   "cell_type": "code",
   "execution_count": 193,
   "id": "737377a6-ca9e-4a97-b110-6af11a14513b",
   "metadata": {},
   "outputs": [
    {
     "name": "stdout",
     "output_type": "stream",
     "text": [
      "Avg Run time: 0.000217s (3 reps)\n"
     ]
    },
    {
     "data": {
      "text/plain": [
       "610"
      ]
     },
     "execution_count": 193,
     "metadata": {},
     "output_type": "execute_result"
    }
   ],
   "source": [
    "fib(15)"
   ]
  },
  {
   "cell_type": "code",
   "execution_count": 194,
   "id": "84a90203-a605-47e3-95b7-538624c5958a",
   "metadata": {},
   "outputs": [],
   "source": [
    "@timed(100)\n",
    "def fib(n):\n",
    "    return calc_fib_recurse(n)"
   ]
  },
  {
   "cell_type": "code",
   "execution_count": 195,
   "id": "4a2ad62c-c39e-45b0-b9a4-b23b10a05c20",
   "metadata": {},
   "outputs": [
    {
     "name": "stdout",
     "output_type": "stream",
     "text": [
      "Avg Run time: 0.000250s (100 reps)\n"
     ]
    },
    {
     "data": {
      "text/plain": [
       "610"
      ]
     },
     "execution_count": 195,
     "metadata": {},
     "output_type": "execute_result"
    }
   ],
   "source": [
    "fib(15)"
   ]
  },
  {
   "cell_type": "markdown",
   "id": "59cfc231-593f-48ef-9117-f6ffd88c861b",
   "metadata": {
    "tags": []
   },
   "source": [
    "# 11 - Decorator Application - Decorator Class"
   ]
  },
  {
   "cell_type": "markdown",
   "id": "afe2351c-1301-40a4-bfa0-120911a0f15d",
   "metadata": {},
   "source": [
    "Classes are things that allow you to have both state and functionality (properties and methods).\n",
    "\n",
    "For relatively simple class structures you could use a closure (a functional approach) - that can have both state and functionality. But once the state/functionality becomes more complex, trying to do that using a functional approach (with closures) leads to more convoluted code - so the class approach is clearer - clarity of code is much preferred - writing complicated code that no one understands is usually not a good thing, so you can use either approach but one will usually be simpler/clearer.\n",
    "\n",
    "Same thing with decorators - functional vs OOP. In most instances the functional approach is just fine, but you may get into situations where you need more complex functionality or state from your decorator, in which case the functional approach might just become too unwieldy and lack clarity.\n",
    "\n",
    "Ultimately, you know how to do it either way, and you use the approach that bests suits the particular problem you are trying to solve. \n",
    "\n",
    "We'll create a decorator the functional way and a object-orientated way, then we will draw parallels between them. "
   ]
  },
  {
   "cell_type": "code",
   "execution_count": 196,
   "id": "61e9e063-8cd6-47f0-bacf-5c8cf9aee7b1",
   "metadata": {},
   "outputs": [
    {
     "name": "stdout",
     "output_type": "stream",
     "text": [
      "decorated function called: a=10, b=20\n",
      "hello world\n"
     ]
    }
   ],
   "source": [
    "def my_dec(a, b):\n",
    "    def dec(fn):\n",
    "        def inner(*args, **kwargs):\n",
    "            print('decorated function called: a={0}, b={1}'.format(a, b))\n",
    "            return fn(*args, **kwargs)\n",
    "        return inner\n",
    "    return dec\n",
    "\n",
    "@my_dec(10, 20)\n",
    "def my_func(s):\n",
    "    print('hello {0}'.format(s))\n",
    "    \n",
    "my_func('world')"
   ]
  },
  {
   "cell_type": "markdown",
   "id": "29813fb1-38b9-4598-8f44-c37038e9b8b7",
   "metadata": {},
   "source": [
    "So, our decorator factory was passed some arguments, and returned a callable which took one single parameter, the function being decorated, but also had access to the arguments passed to the factory. \n",
    "\n",
    "With classes we normally have `obj = MyClass(10, 20)`. The RHS returns an object, but we can make it a callable by using the `__call__` --> `obj(10, 20)` works. \n",
    "\n",
    "So, `my_dec(a, b)`, the decorator factory, returned a decorator called `dec` that takes **only one single param, the func being decorated** -> `dec(fn)`.\\\n",
    "Cf. `MyClass(10, 20)` (decorator factory class), returns an obj. It's called by `__call__` (the decorator) that takes **only one single param, the function being decorated** -> `__call__(self,fn)`.\n",
    "\n",
    "**The object *is* a decorator because it can be called with the function that we want to decorate.**"
   ]
  },
  {
   "cell_type": "code",
   "execution_count": 197,
   "id": "2bd65677-425e-4aa9-bff0-52f4920f01c0",
   "metadata": {},
   "outputs": [
    {
     "name": "stdout",
     "output_type": "stream",
     "text": [
      "MyClass instance called: a=10, b=20\n",
      "Hello Python!\n"
     ]
    }
   ],
   "source": [
    "class MyClass:\n",
    "    def __init__(self, a, b):\n",
    "        self.a = a\n",
    "        self.b = b\n",
    "        \n",
    "    def __call__(self, fn):\n",
    "        def inner(*args, **kwargs):\n",
    "            print('MyClass instance called: a={0}, b={1}'.format(self.a, self.b))\n",
    "            return fn(*args, **kwargs)\n",
    "        return inner\n",
    "    \n",
    "@MyClass(10, 20)\n",
    "def my_func(s):\n",
    "    print('Hello {0}!'.format(s))\n",
    "    \n",
    "my_func('Python')"
   ]
  },
  {
   "cell_type": "markdown",
   "id": "03f72807-f158-4192-9325-6d8ca4b9f92a",
   "metadata": {},
   "source": [
    "The parallels therefore...\n",
    "<pre> \n",
    "Decorator Factory:            my_dec(a,b)                 ==    MyClass(a,b)     \n",
    "Decorator:                    dec(fn)                     ==    __call__(fn, self)\n",
    "Decorator parameters a, b:    taken directly from my_dec  ==    taken via __init__(self, a, b) \n",
    "</pre>"
   ]
  },
  {
   "cell_type": "markdown",
   "id": "57ecec4d-39d0-4e95-a13e-6ca15e05a37e",
   "metadata": {
    "tags": []
   },
   "source": [
    "# 12 - Decorator Application (Decorating Classes)"
   ]
  },
  {
   "cell_type": "markdown",
   "id": "3ee2fc2c-dec9-4124-a998-e9b51c181cde",
   "metadata": {},
   "source": [
    "We have so far worked with decorating functions. This means we can decorate functions defined with a `def` statement (we can use the `@` syntax, or the long form). Since class methods are functions, they can be decorated too. Lambda expressions can also be decorated (using the long form).\n",
    "\n",
    "But if you think about how our decorators work, they take a single parameter, a function, and return some other function - usually a closure that uses the original function that was passed as an argument.\n",
    "\n",
    "We could use the same concept to accept, not a function, but a class instead. We could reference that class inside our decorator, modify it, and then return that modified class.\n",
    "\n",
    "First we look at something called **monkey patching**. It boils down to modifying or extending our code at **run time**.\n",
    "\n",
    "For example we can modify or add attributes to classes at run time. Modules too.\n",
    "\n",
    "In Python, many of the classes we use can be modified at run time \n",
    "(built-ins like strings, lists, and so on, cannot).\n",
    "\n",
    "But classes written in Python, such as the ones we write, and even library classes, as long as they are written in Python, not C, can. For example `Fraction` in the `fractions` module can be monkey patched.\n",
    "\n",
    "Just because we can do something however, does not mean we should! Monkey patching can be extremely useful, but don't do it just because you can - as always there should be a real reason to do it, as we'll see in a bit.\n",
    "\n",
    "Also, in general it is a bad idea to monkey patch the special methods `__???__` (such as `__len__`) as this will often not work due to how these methods are searched for by Python."
   ]
  },
  {
   "cell_type": "markdown",
   "id": "8e29c3a6-0401-457d-a66a-f71272f14615",
   "metadata": {},
   "source": [
    "If we instantiate an instance of the Fraction class.."
   ]
  },
  {
   "cell_type": "code",
   "execution_count": 198,
   "id": "833cdaca-c791-44f4-b9ac-3184525471f4",
   "metadata": {},
   "outputs": [],
   "source": [
    "from fractions import Fraction\n",
    "\n",
    "f = Fraction(2,3)"
   ]
  },
  {
   "cell_type": "markdown",
   "id": "6355aa77-db17-49ea-b935-4ba7bcaac9e6",
   "metadata": {},
   "source": [
    "and then add a new attribute to the Fraction Class with:"
   ]
  },
  {
   "cell_type": "code",
   "execution_count": 199,
   "id": "7c6465bd-e1c3-4a37-8c3a-52f2fd1afee4",
   "metadata": {},
   "outputs": [],
   "source": [
    "Fraction.speak = 100"
   ]
  },
  {
   "cell_type": "markdown",
   "id": "6dd793c7-8288-4c6b-bb5f-daff019b560d",
   "metadata": {},
   "source": [
    "We are then able to access that attribute from your previously instantiated instance. So, all instances have access to the class's attributes even if they were instantiated before those attributes were added to the class? In other words, python looks for speak on `f` and failing to find it there finds it as a class attribute and uses that one."
   ]
  },
  {
   "cell_type": "code",
   "execution_count": 200,
   "id": "f74dafac-64c3-48d8-a7a8-a19956efc7f4",
   "metadata": {},
   "outputs": [
    {
     "data": {
      "text/plain": [
       "100"
      ]
     },
     "execution_count": 200,
     "metadata": {},
     "output_type": "execute_result"
    }
   ],
   "source": [
    "f.speak"
   ]
  },
  {
   "cell_type": "markdown",
   "id": "fd0297e9-3eda-4d7e-a071-2879f38ddebb",
   "metadata": {},
   "source": [
    "We can add methods instead of just attributes but be sure to remember the `self` parameter. Once ran, this new method will be available to all instances of the `Fraction` Class."
   ]
  },
  {
   "cell_type": "code",
   "execution_count": 201,
   "id": "d3c9e78d-64dd-4475-a91d-e3b2e8554382",
   "metadata": {},
   "outputs": [
    {
     "data": {
      "text/plain": [
       "'Fraction says This is a late a parrot.'"
      ]
     },
     "execution_count": 201,
     "metadata": {},
     "output_type": "execute_result"
    }
   ],
   "source": [
    "Fraction.speak = lambda self, message: f'Fraction says {message}.'\n",
    "f.speak('This is a late a parrot')"
   ]
  },
  {
   "cell_type": "code",
   "execution_count": 202,
   "id": "24970cf7-8d52-4134-b6ec-c003bd698308",
   "metadata": {},
   "outputs": [
    {
     "data": {
      "text/plain": [
       "'Fraction says This parrot is no more.'"
      ]
     },
     "execution_count": 202,
     "metadata": {},
     "output_type": "execute_result"
    }
   ],
   "source": [
    "f2 = Fraction(10, 5)\n",
    "f2.speak('This parrot is no more')"
   ]
  },
  {
   "cell_type": "markdown",
   "id": "51b83d6d-2079-40ef-bbc8-abd138ac9c01",
   "metadata": {},
   "source": [
    "This is **monkey patching**. If our Fraction class lacks some functionality that we want, we can **monkey patch** the Fraction class and add in the new method."
   ]
  },
  {
   "cell_type": "markdown",
   "id": "71d5f14e-bae6-45e0-90b8-0877360d1dd6",
   "metadata": {},
   "source": [
    "If you want a more useful method, how about one that tells us if the Fraction is an integral number? (i.e. denominator is `1`)"
   ]
  },
  {
   "cell_type": "code",
   "execution_count": 203,
   "id": "c54153fd-1023-4e70-b5da-cb49700f9dce",
   "metadata": {},
   "outputs": [],
   "source": [
    "Fraction.is_integral = lambda self: self.denominator == 1"
   ]
  },
  {
   "cell_type": "code",
   "execution_count": 204,
   "id": "8eabdfc4-56b4-415c-b6bd-a0ad97a53716",
   "metadata": {},
   "outputs": [
    {
     "name": "stdout",
     "output_type": "stream",
     "text": [
      "False\n",
      "True\n"
     ]
    }
   ],
   "source": [
    "f1 = Fraction(1, 2)\n",
    "f2 = Fraction(10, 5)\n",
    "\n",
    "print(f1.is_integral())\n",
    "print(f2.is_integral())"
   ]
  },
  {
   "cell_type": "markdown",
   "id": "c7893e42-85fa-438a-820b-cfd1594f4017",
   "metadata": {},
   "source": [
    "Instead of writing it out explicitly, let's write it in a function that monkey patches any given class."
   ]
  },
  {
   "cell_type": "code",
   "execution_count": 205,
   "id": "cb9798b9-1e83-4d18-8c71-c2fa5bccca58",
   "metadata": {},
   "outputs": [
    {
     "data": {
      "text/plain": [
       "'Fraction says This is a late parrot.'"
      ]
     },
     "execution_count": 205,
     "metadata": {},
     "output_type": "execute_result"
    }
   ],
   "source": [
    "def dec_speak(cls):\n",
    "    cls.speak = lambda self, message: f'{self.__class__.__name__} says {message}'\n",
    "    return cls  # We don't really have to do this, \n",
    "                # because we've modified the object, just like when we append to a list: It does the thing and we don't care about the return of some_list.append()\n",
    " \n",
    "Fraction = dec_speak(Fraction) #look familiar?\n",
    "f.speak('This is a late parrot.') # For it to be identical to the last subsection, we would have Fraction.speak(), but here we have an instance of it."
   ]
  },
  {
   "cell_type": "markdown",
   "id": "d04547e6-03ca-41fe-9c9a-672b950cb159",
   "metadata": {},
   "source": [
    "Again, we don't have to write `Fraction = dec_speak(Fraction)` because `dec_speak` is performing a mutation. We could instead remove the return inside `dec_speak` and write `dec_speak(Fraction)` and that would achieve the same. This way was purely to demonstrate the similarity with decorators.\n",
    "\n",
    "Now, what if we had another class and we wanted to `decorate` that with the ability to speak?"
   ]
  },
  {
   "cell_type": "code",
   "execution_count": 206,
   "id": "8ed5f5e2-3468-4d63-8fa9-36e8d66a86ab",
   "metadata": {},
   "outputs": [
    {
     "data": {
      "text/plain": [
       "'Person says Hi'"
      ]
     },
     "execution_count": 206,
     "metadata": {},
     "output_type": "execute_result"
    }
   ],
   "source": [
    "class Person:\n",
    "    pass\n",
    "\n",
    "Person = dec_speak(Person) # This is one way of decorating from last subsection.\n",
    "p = Person()\n",
    "p.speak('Hi')"
   ]
  },
  {
   "cell_type": "markdown",
   "id": "f0ac32fd-92fa-4143-b802-7e124e656d54",
   "metadata": {},
   "source": [
    "**Example Use Case:** As a first example, let's say you typically like to inspect various properties of an object for debugging purposes, maybe the memory address, it's current state (property values), and the time at which the debug info was generated."
   ]
  },
  {
   "cell_type": "code",
   "execution_count": 207,
   "id": "8861c637-a341-4bb1-9abd-a54973d74f38",
   "metadata": {},
   "outputs": [],
   "source": [
    "from datetime import datetime, timezone\n",
    "\n",
    "def debug_info(cls):\n",
    "    def info(self):    # NOTE: This is not a closure; there are no free variables within this, thus, it could've been defined outside of debug_info(cls). \n",
    "                       #       but it's just so closely related. In fact, its better to keep it outside so we don't need to recreate it every single time.\n",
    "        results = []\n",
    "        results.append('time: {0}'.format(datetime.now(timezone.utc)))\n",
    "        results.append('class: {0}'.format(self.__class__.__name__))\n",
    "        results.append('id: {0}'.format(hex(id(self))))\n",
    "        \n",
    "        if vars(self):\n",
    "            for k, v in vars(self).items(): #vars(self) simply returns all the attributes/properties that an object has, as a key-value pair.\n",
    "                results.append(f'{k}: {v}')\n",
    "        \n",
    "        # we have not covered lists, the extend method and generators,\n",
    "        # but note that a more Pythonic way to do this would be:\n",
    "        # if vars(self):\n",
    "        #    results.extend(f\"{k}: {v}\" for k, v in vars(self).items())\n",
    "        #                   \n",
    "        \n",
    "        return results\n",
    "    \n",
    "    cls.debug = info\n",
    "    \n",
    "    return cls # this line technically isn't necessary cos we're mutating a class. \n",
    "               # But it will be necessary if we want to use the `Person=debug_info(Person)` or even the `@debug_info` approach because they are both identical.\n",
    "               # We only don't need it if we write `debug_info(Person)` WITH NO ASSIGNMENT. Otherwise since `debug_info(Person)` returns None, the LHS of\n",
    "               # 'Person' will be equated to the None object. So, when we do p = Person('John'), we are effectively doing None('John') on the RHS. "
   ]
  },
  {
   "cell_type": "markdown",
   "id": "4fca0c9a-9899-4677-a5bd-8998bc8ee491",
   "metadata": {},
   "source": [
    "A quick note: Last time, we wrote a method to our class using a lambda: `cls.speak = lambda self, message:`. Since we have something more complicated this time, we need to use a function: `def info(self):`. We must remember to give `self` because when we create a method manually, we write: `def some_method(self, other_params):`. This `self` will take the object that called it. If you can't remember this from earlier, just remember that all methods need to take `self` as their first parameter, and that it's easiest to think of `def info(self):` as a method as if you were directly writing it into your own class. ."
   ]
  },
  {
   "cell_type": "code",
   "execution_count": 208,
   "id": "1354aa34-e615-4bbc-957c-f3e6c55ab76c",
   "metadata": {},
   "outputs": [],
   "source": [
    "@debug_info\n",
    "class Person:\n",
    "    def __init__(self, name, birth_year):\n",
    "        self.name = name\n",
    "        self.birth_year = birth_year\n",
    "        \n",
    "    def say_hi():\n",
    "        return 'Hello there!'\n",
    "    \n",
    "p1 = Person('John', 1939)"
   ]
  },
  {
   "cell_type": "code",
   "execution_count": 209,
   "id": "f68f6867-050f-4118-baa8-f48393e74bab",
   "metadata": {},
   "outputs": [
    {
     "data": {
      "text/plain": [
       "['time: 2022-10-26 17:48:37.108789+00:00',\n",
       " 'class: Person',\n",
       " 'id: 0x7fb4f00fb310',\n",
       " 'name: John',\n",
       " 'birth_year: 1939']"
      ]
     },
     "execution_count": 209,
     "metadata": {},
     "output_type": "execute_result"
    }
   ],
   "source": [
    "p1 = Person('John', 1939)\n",
    "p1.debug()"
   ]
  },
  {
   "cell_type": "markdown",
   "id": "596364e1-948c-4d92-9943-28fc5914bc4c",
   "metadata": {},
   "source": [
    "This is a good use of decorators because we can reuse it on many classes."
   ]
  },
  {
   "cell_type": "markdown",
   "id": "4dd5c6b2-bbad-4312-972d-bde77da1b650",
   "metadata": {},
   "source": [
    "Let's look at another example. [Here](../Section%2002%20-%20A%20Quick%20Refresher/Section%202%20Summary.ipynb) is where you can find a refresher on getter/setter decorators. In short, adding `@property` to some method `def value(self)` which returns `self.value` means that when users seemingly call an attribute `obj.value`, it is infact looking for the `value` method which returns the `self.value` attribute. This makes the class more dynamic, and it's a good habit to get all attributes that may change using a getter. The reason why is because if we have an attribute that is made from other attributes, then this attribute won't get updated if the other attributes are updated because all attributes are initialised only once.\n",
    "\n",
    "A setter is the proper way of updating an attribute. If we have an attribute called `value` and we want to update it using `obj.value = new_value`, we should instead create a method called `def value(self, new_value)` with a decorator: `@value.setter` which updates the attribute via `self.value = new_value`."
   ]
  },
  {
   "cell_type": "code",
   "execution_count": 210,
   "id": "c742e56e-ea04-4a5c-9430-39be2c565e9a",
   "metadata": {},
   "outputs": [],
   "source": [
    "@debug_info\n",
    "class Automobile:\n",
    "    def __init__(self, make, model, year, top_speed_mph):\n",
    "        self.make = make\n",
    "        self.model = model\n",
    "        self.year = year\n",
    "        self.top_speed_mph = top_speed_mph\n",
    "        self.current_speed = 0\n",
    "    \n",
    "    @property\n",
    "    def speed(self):\n",
    "        return self.current_speed\n",
    "    \n",
    "    @speed.setter\n",
    "    def speed(self, new_speed):\n",
    "        self.current_speed = new_speed"
   ]
  },
  {
   "cell_type": "code",
   "execution_count": 211,
   "id": "758251a2-4717-4dcf-9966-7afafd1f6b28",
   "metadata": {},
   "outputs": [
    {
     "data": {
      "text/plain": [
       "['time: 2022-10-26 17:48:37.906237+00:00',\n",
       " 'class: Automobile',\n",
       " 'id: 0x7fb4f00f9270',\n",
       " 'make: Ford',\n",
       " 'model: Model T',\n",
       " 'year: 1908',\n",
       " 'top_speed_mph: 45',\n",
       " 'current_speed: 0']"
      ]
     },
     "execution_count": 211,
     "metadata": {},
     "output_type": "execute_result"
    }
   ],
   "source": [
    "car1 = Automobile('Ford', 'Model T', 1908, 45)\n",
    "car1.debug()"
   ]
  },
  {
   "cell_type": "markdown",
   "id": "6ec93f8e-e9c5-4dfd-838e-6a01c7a54b6a",
   "metadata": {},
   "source": [
    "In the full notes there's an example which shows that if you have a class which has `__eq__` and `__lt__` implemented, then you can build all the other ordering operators, such as 'not equal', 'greater than or equal to' etc., using logical operators. It should be done using a decorator which takes a class as a parameter and then monkeypatches these additional methods. This is a better approach than implementing all dunder methods (`__neq__`, `__ge__`) within the class itself.\n",
    "\n",
    "But then, as is common with Python, there's already a decorator implementation for this exact purpose found in the standard library. It's imported using `from functools import total_ordering` and we just decorate our class using `@total_ordering`. It is more versatile than our implementation because, all it requires is `__eq__` and only one other ordering dunder e.g. `__ge__`, and the rest will be monkeypatched. "
   ]
  },
  {
   "cell_type": "markdown",
   "id": "c80439cd-d77e-414c-b010-f4a828615dd4",
   "metadata": {},
   "source": [
    "# 13 - Decorator Application - Single Dispatch"
   ]
  },
  {
   "cell_type": "markdown",
   "id": "1438d238-435d-45ff-aa0a-4fac91139494",
   "metadata": {},
   "source": [
    "Read the full notes for this section. The concepts are useful but because Python will have its own implementation for doing this, it's easier to just skim through the appraoch until you reach the correct way. I have pasted the intro from the full notes below..."
   ]
  },
  {
   "cell_type": "markdown",
   "id": "994e9501-98ee-4c95-8b29-efcad5c103ca",
   "metadata": {},
   "source": [
    "<pre>\n",
    "\n",
    "Consider an application where we want to provide similar functionality but that varies slightly depending on the argument types passed in.\n",
    "\n",
    "In this set of examples we consider this problem where functionality differs based on a single argument's type (hence single dispatch) instead of the type of multiple arguments (which would be multi dispatch).\n",
    "\n",
    "If you have a background in some other OO languages such as Java or C#, you'll know that we can easily do something like this by basically **overloading** functions: using a different data type for the function parameter, hence changing the function signature. Then although the name of the function is the same, calling `do_something(100)` and `do_something('java')` would call a different function, the first one would call the `do_something(int)` function, and the second would call the `do_something(String)` function.\n",
    "\n",
    "Of course, Python is not statically typed, so even if Python had function overloading built-in, we would not be able to make such a distinction in our function signatures since there is nothing that says that a parameter must be of a specific type, so in a best case scenario we would have to \"distinguish\" functions with the same name only by the number of parameters they take. And then we'd have to somehow deal with variable numbers of positional and keyword arguments too... Uuugh!\n",
    "In any event, single dispatch could never work.\n",
    "\n",
    "Instead we have to come up with a different solution.\n",
    "\n",
    "Let's say we want to display various data types in html format, with different presentations for integers (we want both base 10 and hex values), floats (we always want it rounded to 2 decimal points), strings (we want the string html-escaped, and all newline characters replaced by `<br/>`), lists and tuples should be implemented using bulleted lists, and the same with dictionaries except we want the name/value pair to be displayed in the bulleted list.\n",
    "\n",
    "</pre>\n"
   ]
  },
  {
   "cell_type": "markdown",
   "id": "909df7c4-ff33-4f52-b791-219a328b1048",
   "metadata": {},
   "source": [
    "A single dispatcher is a function that takes in an argument, and based on the type of argument, it calls a specific function. For example, in this section we have `htmlize(arg)` which takes any input and converts it into something that can be understood by HTML; lists for example need `<li> </li>` to enclose each list item, while regular strings containing characters like `>` need to be HTML escaped. Depending on what the argument is and its type, we will need to treat it differently within the function. Here's the example below."
   ]
  },
  {
   "cell_type": "markdown",
   "id": "048f83a6-8650-4b79-ad96-135faf76a27c",
   "metadata": {},
   "source": [
    "To quickly remind what's going on below: We are creating a decorator which, when the `@singledispatch` line is reached, will **immediately run, create the extended scope (containing the registry dict), and return a callable (func without the brackets)**. From Python's perspective, we have no knowledge of `htmlize`'s local variable called `a`. Normally we have the function execute within `inner`. Here, we still do, except we store the function in a dictionary and then call it from the dictionary."
   ]
  },
  {
   "cell_type": "code",
   "execution_count": 212,
   "id": "10b54aa0-a9ce-45bd-a2e5-e5e2b0bc8d39",
   "metadata": {},
   "outputs": [],
   "source": [
    "def singledispatch(fn):\n",
    "    print('decorator executed and registry created')\n",
    "    registry = dict()\n",
    "    registry[object] = fn\n",
    "    registry[int] = lambda arg: '{0}(<i>{1}</i)'.format(arg, str(hex(arg)))\n",
    "    registry[float] = lambda arg: '{0:.2f}'.format(round(arg, 2))\n",
    "    \n",
    "    def inner(arg):\n",
    "        fn = registry.get(type(arg), registry[object])\n",
    "        return fn(arg)\n",
    "    return inner"
   ]
  },
  {
   "cell_type": "markdown",
   "id": "dfc0d191-3e3c-4c2e-a46e-9d559ffff1cf",
   "metadata": {},
   "source": [
    "Remember, we could get rid of `@singledispatch` and add `htmlize = singledispatch(htmlize)` below the `htmlize(a)` function and get the exact same functionality."
   ]
  },
  {
   "cell_type": "code",
   "execution_count": 213,
   "id": "60f966ad-21aa-4c90-b9d8-9d764833d814",
   "metadata": {},
   "outputs": [
    {
     "name": "stdout",
     "output_type": "stream",
     "text": [
      "decorator executed and registry created\n"
     ]
    }
   ],
   "source": [
    "@singledispatch\n",
    "def htmlize(a):\n",
    "    return escape(str(a))"
   ]
  },
  {
   "cell_type": "markdown",
   "id": "c04efc94-5dfe-4c13-a082-ba43f4803734",
   "metadata": {},
   "source": [
    "Now, we want a way to add the specialized functions to the `registry` dictionary from **outside** the `singledispatch` function; right now, `singledispatch` is not generic as we had to hardcode the registry entries and the lambda functions are specific to this `htmlize` function. We want to be able to use this decorator `singledispatch` on any function. To do so we will create a parametrized decorator that will (1) take the type as a parameter, and (2) return a closure that will decorate the function associated with the type.\n",
    "\n",
    "We're going to create a **decorator factory** within our `singledispatch` decorator.\n",
    "\n",
    "See [these cells in Decorators - Part 2](#decorator_factory_image) to see that a decorator factory has a decorator function defined within it, which has an inner defined within that. Inner executes the function and returns it  (or returns the function execute itself) to the `decorator`. Then, the `decorator` returns `inner` (a callable, ready to be executed) to the `decorator factory`. Then the `decorator factory` returns the `decorator` (a callable, ready to decorate). So, when the user calls the decorator factory with a decorator as a parameter, it returns a decorator (callable, ready to decorate). When the user applies the decorator to some function, it returns a closure called inner (callable, ready to execute). Finally, when the user calls the function, it executes `inner` which will call the function somewhere within it.\n",
    "\n",
    "But here we don't have that! We have the factory `register(type_)` and the decorator called `inner(fn)` below, but we don't have the closure within `inner`. Firstly, let's remind you that `fn`, the parameter of `inner`, is the function to be decorated. All we do within the decorator is assign the function to the type in the `registry` dictionary."
   ]
  },
  {
   "cell_type": "code",
   "execution_count": 214,
   "id": "003bd98b-dbe2-4314-8c73-cfca2277204d",
   "metadata": {},
   "outputs": [],
   "source": [
    "def singledispatch(fn):\n",
    "    registry = dict()\n",
    "    \n",
    "    registry[object] = fn\n",
    "    \n",
    "    def register(type_): # this is a decorator factory. It will allow us to create parametrised decorators. The parameter is `type_`\n",
    "        def inner(fn):\n",
    "            registry[type_] = fn # registry is nonlocal. It is defined in the outer `singledispatch` so its a free variable within the 'register' closure.\n",
    "        return inner\n",
    "        \n",
    "    \n",
    "    def decorated(arg): # this is our 'inner'\n",
    "        fn = registry.get(type(arg), registry[object])\n",
    "        return fn(arg)\n",
    "    \n",
    "    return decorated"
   ]
  },
  {
   "cell_type": "markdown",
   "id": "b999827d-269b-42e5-8bf1-455bfcc2177c",
   "metadata": {},
   "source": [
    "But of course this is not good enough - how do we get a hold of the `register` function from outside `singledispatch`? Remember, `singledispatch` is a decorator that returns the `decorated` closure, not the `register` closure.\n",
    "\n",
    "We can do this by adding the `register` function as an **attribute** of the `decorated` function before we return it. \n",
    "\n",
    "While we're at it we're also going to:\n",
    "\n",
    "* add the `registry` dictionary as an attribute as so we can look into it to see what it contains.\n",
    "\n",
    "* add another function that given a type will return the function associated with that type (or the default function if the type is not found in the dictionary)"
   ]
  },
  {
   "cell_type": "code",
   "execution_count": 215,
   "id": "30f0b86c-d87c-4608-a3ca-1123be6a79aa",
   "metadata": {},
   "outputs": [],
   "source": [
    "def singledispatch(fn):\n",
    "    registry = dict()\n",
    "    \n",
    "    registry[object] = fn\n",
    "    \n",
    "    def register(type_):\n",
    "        def inner(fn):\n",
    "            registry[type_] = fn\n",
    "            return fn  # we do this so we can stack register decorators!\n",
    "        return inner\n",
    "   \n",
    "    def decorated(arg):\n",
    "        fn = registry.get(type(arg), registry[object])\n",
    "        return fn(arg)\n",
    "    \n",
    "    def dispatch(type_):\n",
    "        return registry.get(type_, registry[object])\n",
    "\n",
    "    decorated.register = register\n",
    "    decorated.registry = registry.keys()\n",
    "    decorated.dispatch = dispatch\n",
    "    return decorated"
   ]
  },
  {
   "cell_type": "markdown",
   "id": "529f7693-1734-49a6-afa3-925819f3d6ae",
   "metadata": {},
   "source": [
    "I will first prove that the `htmlize` is infact equivalent (or points) to `decorated`. Therefore, if `decorated` has attributes then we can access them via `htmlize`."
   ]
  },
  {
   "cell_type": "code",
   "execution_count": 216,
   "id": "100d44a4-2342-47da-9016-5e51e82eda93",
   "metadata": {},
   "outputs": [],
   "source": [
    "@singledispatch\n",
    "def htmlize(a):\n",
    "    return escape(str(a))"
   ]
  },
  {
   "cell_type": "code",
   "execution_count": 217,
   "id": "2602ee43-a454-4546-ac18-6e27601e2614",
   "metadata": {},
   "outputs": [
    {
     "data": {
      "text/plain": [
       "<function __main__.singledispatch.<locals>.decorated(arg)>"
      ]
     },
     "execution_count": 217,
     "metadata": {},
     "output_type": "execute_result"
    }
   ],
   "source": [
    "htmlize"
   ]
  },
  {
   "cell_type": "markdown",
   "id": "9cdd0cc8-c7c9-49cc-ad80-f60fc9a2a3d7",
   "metadata": {},
   "source": [
    "Now we can run our decorator with parameters (i.e. our decorator factory) on a function that defines one of those lambda functions we saw above, e.g. enclose integers with `<i></i>`."
   ]
  },
  {
   "cell_type": "code",
   "execution_count": 218,
   "id": "f792623e-abdc-4eb9-9d80-dfc55b1639ca",
   "metadata": {},
   "outputs": [],
   "source": [
    "@htmlize.register(int)\n",
    "def html_int(a):\n",
    "    return '{0}(<i>{1}</i)'.format(a, str(hex(a)))"
   ]
  },
  {
   "cell_type": "markdown",
   "id": "be0d40c9-8d0c-450a-b033-6f06d1e3c8e0",
   "metadata": {},
   "source": [
    "To summarise, `htmlize.register` gives us access to the `register decorator factory`. \n",
    "\n",
    "Once we put in a parameter e.g. `int`, it executes the decorator factory and produces a decorator.\n",
    "\n",
    "`htmlize.register(int)` is basically equivalent to `inner`. Because it's a decorator, once we add the `@` in front of it, it executes `inner` passing in the function below the `@`. Thus, `inner(fn)` becomes `inner(html_int)`. (Note that since `inner(fn)` returns `fn`, thus `inner(html_int)` returns `html_int`.)\n",
    "\n",
    "This execution (`@htmlize.register(int)`) produces a key called `int` with a value called `html_int` - this is a callable (there are no brackets on it). Normally, we would execute `html_int(<some integer>)` somewhere within the global scope. But in this case, it is executed if `htmlize` receives an integer because `htmlize` will look for the `int` key and then apply `html_int` with the given integer.\n",
    "\n",
    "Here's why this approach is very versatile: The cell above returns `html_int(a)`; that's what decorators do - they add some functionality but ultimately return the function back (remember the long form: `html_int = htmlize.register(int)(html_int)`). This means that we can stack other decorators e.g. `@htmlize.register(tuple)` on top of `@htmlize.register(int)`  and it will first decorate it with `@htmlize.register(int)`, returning the original function so that it can be decorated again by `@htmlize.register(tuple)`. Both keys `tuple` and `int` will then have the same function as their value."
   ]
  },
  {
   "cell_type": "code",
   "execution_count": 219,
   "id": "1840a138-d468-4a26-97b3-fd30d100596d",
   "metadata": {},
   "outputs": [
    {
     "data": {
      "text/plain": [
       "<function __main__.html_int(a)>"
      ]
     },
     "execution_count": 219,
     "metadata": {},
     "output_type": "execute_result"
    }
   ],
   "source": [
    "html_int"
   ]
  },
  {
   "cell_type": "code",
   "execution_count": 220,
   "id": "6383bc77-4724-4a7a-892e-c027d791207f",
   "metadata": {},
   "outputs": [
    {
     "data": {
      "text/plain": [
       "'100(<i>0x64</i)'"
      ]
     },
     "execution_count": 220,
     "metadata": {},
     "output_type": "execute_result"
    }
   ],
   "source": [
    "htmlize(100)"
   ]
  },
  {
   "cell_type": "markdown",
   "id": "a4467bf1-bff9-47f8-82d9-d3b8b046bd7e",
   "metadata": {},
   "source": [
    "Everything works. If we want to ask what function `htmlize` will use for integers, we just type:"
   ]
  },
  {
   "cell_type": "code",
   "execution_count": 221,
   "id": "0759af7a-76c8-425c-b848-794f02342f1c",
   "metadata": {},
   "outputs": [
    {
     "data": {
      "text/plain": [
       "<function __main__.html_int(a)>"
      ]
     },
     "execution_count": 221,
     "metadata": {},
     "output_type": "execute_result"
    }
   ],
   "source": [
    "htmlize.dispatch(int) # expect it to tell us the 'html_int' function."
   ]
  },
  {
   "cell_type": "markdown",
   "id": "ca0f7288-d674-43b8-878b-22e05e8db312",
   "metadata": {},
   "source": [
    "Our single dispatch decorator works quite well - but it has some limitations. For example it cannot handle functions that take in more than one argument (in which case dispatching would be based on the type of the **first** argument), and we also are not allowing for types based on parent classes - for example, integers and booleans are both integral numbers - i.e. they both inherit from the Integral base class. Similarly lists and tuples are both more generic Sequence types. We'll see this in more detail when we get to the topic of abstract base classes (ABC's).\n",
    "\n",
    "We can use `isinstance(some obj from some class, some class)`"
   ]
  },
  {
   "cell_type": "code",
   "execution_count": 222,
   "id": "80912412-ed9a-456b-9651-4f4312082436",
   "metadata": {},
   "outputs": [
    {
     "name": "stdout",
     "output_type": "stream",
     "text": [
      "Type is: type(p)\n",
      "Does p inherit from Person? True\n"
     ]
    }
   ],
   "source": [
    "class Person:\n",
    "    pass\n",
    "\n",
    "class Student(Person):\n",
    "    pass\n",
    "\n",
    "p = Student()\n",
    "\n",
    "print(f'Type is: type(p)')\n",
    "print(f'Does p inherit from Person? {isinstance(p, Person)}')"
   ]
  },
  {
   "cell_type": "markdown",
   "id": "9d03b261-9d2a-4ffe-906d-2af6a989aa65",
   "metadata": {},
   "source": [
    "The solution is to use abstract base classes but we'll see that in Part 4."
   ]
  },
  {
   "cell_type": "markdown",
   "id": "66d56e27-5058-43e9-9af6-40f7886ef50c",
   "metadata": {},
   "source": [
    "As mentioned at the start of this section, Python already has an implementation for singledispatch which is imported using `from functools import singledispatch`. It is a decorator that decorates some function, which we've called `htmlize`. Then, this decorated function accepts different types e.g. bool, int, str etc. It will then let us write a function for each of these types that will execute when this type is passed to `htmlize`. If we haven't written any functions, then it will default to `htmlize`.\n",
    "\n",
    "It also applies an attribute called `dispatch` which lets us check which function is being used for which type, as well as a `registry` attribute which is the equivalent to our dictionary which stores these types (keys) with their functions (values)."
   ]
  },
  {
   "cell_type": "code",
   "execution_count": 223,
   "id": "61564fab-6d69-48b3-b9f8-016d404885e1",
   "metadata": {},
   "outputs": [],
   "source": [
    "from functools import singledispatch\n",
    "from collections.abc import Sequence\n",
    "from numbers import Integral\n",
    "from html import escape\n",
    "\n",
    "@singledispatch\n",
    "def htmlize(a):\n",
    "    return escape(str(a))"
   ]
  },
  {
   "cell_type": "code",
   "execution_count": 224,
   "id": "5558ae5a-76af-493d-b790-8d55eabd838d",
   "metadata": {},
   "outputs": [
    {
     "data": {
      "text/plain": [
       "<function __main__.htmlize(a)>"
      ]
     },
     "execution_count": 224,
     "metadata": {},
     "output_type": "execute_result"
    }
   ],
   "source": [
    "htmlize.dispatch(bool)"
   ]
  },
  {
   "cell_type": "markdown",
   "id": "5d1b36c3-8f0d-4143-bbca-e40bdfca7e94",
   "metadata": {},
   "source": [
    "Let's register a function to be used for Integral numbers (integers and bools). This wasn't working in our implementation due to inheritance issues."
   ]
  },
  {
   "cell_type": "code",
   "execution_count": 225,
   "id": "a060839f-44cb-43da-a02e-16db89b6fe91",
   "metadata": {},
   "outputs": [
    {
     "data": {
      "text/plain": [
       "mappingproxy({object: <function __main__.htmlize(a)>,\n",
       "              numbers.Integral: <function __main__.html_integral_number(a)>})"
      ]
     },
     "execution_count": 225,
     "metadata": {},
     "output_type": "execute_result"
    }
   ],
   "source": [
    "@htmlize.register(Integral)\n",
    "def html_integral_number(a):\n",
    "    return f\"{a}(<i>{str(hex(a))})</i>)\"\n",
    "\n",
    "htmlize.registry # Checking to see if the function has been added to our dictionary. Note 'object' is the default because everything in Python is an object."
   ]
  },
  {
   "cell_type": "code",
   "execution_count": 226,
   "id": "02fd2500-f0b6-456d-bcd9-28c67eff5694",
   "metadata": {},
   "outputs": [
    {
     "name": "stdout",
     "output_type": "stream",
     "text": [
      "<function html_integral_number at 0x7fb4da63c940>\n",
      "<function html_integral_number at 0x7fb4da63c940>\n"
     ]
    }
   ],
   "source": [
    "print(htmlize.dispatch(int)) # Finding the function associated with integers.\n",
    "print(htmlize.dispatch(bool)) # Finding the function associated with booleans."
   ]
  },
  {
   "cell_type": "markdown",
   "id": "aa4ebccd-9876-4992-a0c1-98b04453dbcf",
   "metadata": {},
   "source": [
    "Now let's register all sequence types (tuples, lists etc). We can see that it takes each item in the sequence and calls `htmlize` on them. This is so that if we have an item that's an integer and another item that's a bool, they are both treated with the function that we've set for that type."
   ]
  },
  {
   "cell_type": "code",
   "execution_count": 227,
   "id": "eadfc2ab-8532-4706-b9ab-aa5b378240ed",
   "metadata": {},
   "outputs": [],
   "source": [
    "@htmlize.register(Sequence)\n",
    "def html_sequence(l):\n",
    "    items = [f'<li>{htmlize(item)}</li>' for item in l]\n",
    "    return '<ul>\\n' + '\\n'.join(items) + '\\n</ul>'"
   ]
  },
  {
   "cell_type": "code",
   "execution_count": 228,
   "id": "4ef6c52a-a9d6-4cc4-81ee-dd81efb9909d",
   "metadata": {},
   "outputs": [
    {
     "data": {
      "text/plain": [
       "'<ul>\\n<li>10(<i>0xa)</i>)</li>\\n<li><ul>\\n<li>3(<i>0x3)</i>)</li>\\n<li>4(<i>0x4)</i>)</li>\\n</ul></li>\\n<li>True(<i>0x1)</i>)</li>\\n</ul>'"
      ]
     },
     "execution_count": 228,
     "metadata": {},
     "output_type": "execute_result"
    }
   ],
   "source": [
    "htmlize([10, (3,4), True])"
   ]
  },
  {
   "cell_type": "markdown",
   "id": "db7c9ff0-cacf-42b6-8b6f-692b6e0562f2",
   "metadata": {},
   "source": [
    "It all worked. But there's a problem; strings are also sequence types because you can iterate through them. We can double check using `isinstance('helloworld', Sequence)` "
   ]
  },
  {
   "cell_type": "code",
   "execution_count": 229,
   "id": "8106af2c-98b2-4b12-b3ec-500b8a04422c",
   "metadata": {},
   "outputs": [
    {
     "data": {
      "text/plain": [
       "<function __main__.html_sequence(l)>"
      ]
     },
     "execution_count": 229,
     "metadata": {},
     "output_type": "execute_result"
    }
   ],
   "source": [
    "htmlize.dispatch(str)"
   ]
  },
  {
   "cell_type": "code",
   "execution_count": 230,
   "id": "f8fdb4d2-ee0a-4668-adba-c7f9bab6af21",
   "metadata": {},
   "outputs": [
    {
     "ename": "RecursionError",
     "evalue": "maximum recursion depth exceeded while calling a Python object",
     "output_type": "error",
     "traceback": [
      "\u001b[0;31m---------------------------------------------------------------------------\u001b[0m",
      "\u001b[0;31mRecursionError\u001b[0m                            Traceback (most recent call last)",
      "\u001b[0;32m/tmp/ipykernel_3908/2950430994.py\u001b[0m in \u001b[0;36m<module>\u001b[0;34m\u001b[0m\n\u001b[0;32m----> 1\u001b[0;31m \u001b[0mhtmlize\u001b[0m\u001b[0;34m(\u001b[0m\u001b[0;34m'abc'\u001b[0m\u001b[0;34m)\u001b[0m\u001b[0;34m\u001b[0m\u001b[0;34m\u001b[0m\u001b[0m\n\u001b[0m",
      "\u001b[0;32m/usr/lib/python3.10/functools.py\u001b[0m in \u001b[0;36mwrapper\u001b[0;34m(*args, **kw)\u001b[0m\n\u001b[1;32m    887\u001b[0m                             '1 positional argument')\n\u001b[1;32m    888\u001b[0m \u001b[0;34m\u001b[0m\u001b[0m\n\u001b[0;32m--> 889\u001b[0;31m         \u001b[0;32mreturn\u001b[0m \u001b[0mdispatch\u001b[0m\u001b[0;34m(\u001b[0m\u001b[0margs\u001b[0m\u001b[0;34m[\u001b[0m\u001b[0;36m0\u001b[0m\u001b[0;34m]\u001b[0m\u001b[0;34m.\u001b[0m\u001b[0m__class__\u001b[0m\u001b[0;34m)\u001b[0m\u001b[0;34m(\u001b[0m\u001b[0;34m*\u001b[0m\u001b[0margs\u001b[0m\u001b[0;34m,\u001b[0m \u001b[0;34m**\u001b[0m\u001b[0mkw\u001b[0m\u001b[0;34m)\u001b[0m\u001b[0;34m\u001b[0m\u001b[0;34m\u001b[0m\u001b[0m\n\u001b[0m\u001b[1;32m    890\u001b[0m \u001b[0;34m\u001b[0m\u001b[0m\n\u001b[1;32m    891\u001b[0m     \u001b[0mfuncname\u001b[0m \u001b[0;34m=\u001b[0m \u001b[0mgetattr\u001b[0m\u001b[0;34m(\u001b[0m\u001b[0mfunc\u001b[0m\u001b[0;34m,\u001b[0m \u001b[0;34m'__name__'\u001b[0m\u001b[0;34m,\u001b[0m \u001b[0;34m'singledispatch function'\u001b[0m\u001b[0;34m)\u001b[0m\u001b[0;34m\u001b[0m\u001b[0;34m\u001b[0m\u001b[0m\n",
      "\u001b[0;32m/tmp/ipykernel_3908/3095569346.py\u001b[0m in \u001b[0;36mhtml_sequence\u001b[0;34m(l)\u001b[0m\n\u001b[1;32m      1\u001b[0m \u001b[0;34m@\u001b[0m\u001b[0mhtmlize\u001b[0m\u001b[0;34m.\u001b[0m\u001b[0mregister\u001b[0m\u001b[0;34m(\u001b[0m\u001b[0mSequence\u001b[0m\u001b[0;34m)\u001b[0m\u001b[0;34m\u001b[0m\u001b[0;34m\u001b[0m\u001b[0m\n\u001b[1;32m      2\u001b[0m \u001b[0;32mdef\u001b[0m \u001b[0mhtml_sequence\u001b[0m\u001b[0;34m(\u001b[0m\u001b[0ml\u001b[0m\u001b[0;34m)\u001b[0m\u001b[0;34m:\u001b[0m\u001b[0;34m\u001b[0m\u001b[0;34m\u001b[0m\u001b[0m\n\u001b[0;32m----> 3\u001b[0;31m     \u001b[0mitems\u001b[0m \u001b[0;34m=\u001b[0m \u001b[0;34m[\u001b[0m\u001b[0;34mf'<li>{htmlize(item)}</li>'\u001b[0m \u001b[0;32mfor\u001b[0m \u001b[0mitem\u001b[0m \u001b[0;32min\u001b[0m \u001b[0ml\u001b[0m\u001b[0;34m]\u001b[0m\u001b[0;34m\u001b[0m\u001b[0;34m\u001b[0m\u001b[0m\n\u001b[0m\u001b[1;32m      4\u001b[0m     \u001b[0;32mreturn\u001b[0m \u001b[0;34m'<ul>\\n'\u001b[0m \u001b[0;34m+\u001b[0m \u001b[0;34m'\\n'\u001b[0m\u001b[0;34m.\u001b[0m\u001b[0mjoin\u001b[0m\u001b[0;34m(\u001b[0m\u001b[0mitems\u001b[0m\u001b[0;34m)\u001b[0m \u001b[0;34m+\u001b[0m \u001b[0;34m'\\n</ul>'\u001b[0m\u001b[0;34m\u001b[0m\u001b[0;34m\u001b[0m\u001b[0m\n",
      "\u001b[0;32m/tmp/ipykernel_3908/3095569346.py\u001b[0m in \u001b[0;36m<listcomp>\u001b[0;34m(.0)\u001b[0m\n\u001b[1;32m      1\u001b[0m \u001b[0;34m@\u001b[0m\u001b[0mhtmlize\u001b[0m\u001b[0;34m.\u001b[0m\u001b[0mregister\u001b[0m\u001b[0;34m(\u001b[0m\u001b[0mSequence\u001b[0m\u001b[0;34m)\u001b[0m\u001b[0;34m\u001b[0m\u001b[0;34m\u001b[0m\u001b[0m\n\u001b[1;32m      2\u001b[0m \u001b[0;32mdef\u001b[0m \u001b[0mhtml_sequence\u001b[0m\u001b[0;34m(\u001b[0m\u001b[0ml\u001b[0m\u001b[0;34m)\u001b[0m\u001b[0;34m:\u001b[0m\u001b[0;34m\u001b[0m\u001b[0;34m\u001b[0m\u001b[0m\n\u001b[0;32m----> 3\u001b[0;31m     \u001b[0mitems\u001b[0m \u001b[0;34m=\u001b[0m \u001b[0;34m[\u001b[0m\u001b[0;34mf'<li>{htmlize(item)}</li>'\u001b[0m \u001b[0;32mfor\u001b[0m \u001b[0mitem\u001b[0m \u001b[0;32min\u001b[0m \u001b[0ml\u001b[0m\u001b[0;34m]\u001b[0m\u001b[0;34m\u001b[0m\u001b[0;34m\u001b[0m\u001b[0m\n\u001b[0m\u001b[1;32m      4\u001b[0m     \u001b[0;32mreturn\u001b[0m \u001b[0;34m'<ul>\\n'\u001b[0m \u001b[0;34m+\u001b[0m \u001b[0;34m'\\n'\u001b[0m\u001b[0;34m.\u001b[0m\u001b[0mjoin\u001b[0m\u001b[0;34m(\u001b[0m\u001b[0mitems\u001b[0m\u001b[0;34m)\u001b[0m \u001b[0;34m+\u001b[0m \u001b[0;34m'\\n</ul>'\u001b[0m\u001b[0;34m\u001b[0m\u001b[0;34m\u001b[0m\u001b[0m\n",
      "... last 3 frames repeated, from the frame below ...\n",
      "\u001b[0;32m/usr/lib/python3.10/functools.py\u001b[0m in \u001b[0;36mwrapper\u001b[0;34m(*args, **kw)\u001b[0m\n\u001b[1;32m    887\u001b[0m                             '1 positional argument')\n\u001b[1;32m    888\u001b[0m \u001b[0;34m\u001b[0m\u001b[0m\n\u001b[0;32m--> 889\u001b[0;31m         \u001b[0;32mreturn\u001b[0m \u001b[0mdispatch\u001b[0m\u001b[0;34m(\u001b[0m\u001b[0margs\u001b[0m\u001b[0;34m[\u001b[0m\u001b[0;36m0\u001b[0m\u001b[0;34m]\u001b[0m\u001b[0;34m.\u001b[0m\u001b[0m__class__\u001b[0m\u001b[0;34m)\u001b[0m\u001b[0;34m(\u001b[0m\u001b[0;34m*\u001b[0m\u001b[0margs\u001b[0m\u001b[0;34m,\u001b[0m \u001b[0;34m**\u001b[0m\u001b[0mkw\u001b[0m\u001b[0;34m)\u001b[0m\u001b[0;34m\u001b[0m\u001b[0;34m\u001b[0m\u001b[0m\n\u001b[0m\u001b[1;32m    890\u001b[0m \u001b[0;34m\u001b[0m\u001b[0m\n\u001b[1;32m    891\u001b[0m     \u001b[0mfuncname\u001b[0m \u001b[0;34m=\u001b[0m \u001b[0mgetattr\u001b[0m\u001b[0;34m(\u001b[0m\u001b[0mfunc\u001b[0m\u001b[0;34m,\u001b[0m \u001b[0;34m'__name__'\u001b[0m\u001b[0;34m,\u001b[0m \u001b[0;34m'singledispatch function'\u001b[0m\u001b[0;34m)\u001b[0m\u001b[0;34m\u001b[0m\u001b[0;34m\u001b[0m\u001b[0m\n",
      "\u001b[0;31mRecursionError\u001b[0m: maximum recursion depth exceeded while calling a Python object"
     ]
    }
   ],
   "source": [
    "htmlize('abc')"
   ]
  },
  {
   "cell_type": "markdown",
   "id": "5bfb6f56-43ba-4d6e-bcb7-e384216c4759",
   "metadata": {},
   "source": [
    "Let's see why this happened. Since `abc` is a string which is an instance of `Sequence`, we use the `html_sequence` function. In this function, we apply the function `htmlize(item)` for each item. The first item is 'a', so we call `htmlize('a')` which is a string which is an instance of `Sequence`, so we use the `html_sequence` function. There's only one item in the sequence but still we apply `htmlize(item)` on this item. So this recurses indefinitely."
   ]
  },
  {
   "cell_type": "markdown",
   "id": "8b3343c3-2330-4503-9daa-1dc5bc5acd45",
   "metadata": {},
   "source": [
    "All we have to do to fix this is create a function for strings."
   ]
  },
  {
   "cell_type": "code",
   "execution_count": 231,
   "id": "7c1920f3-011e-4522-bdbd-0c41b240408b",
   "metadata": {},
   "outputs": [
    {
     "data": {
      "text/plain": [
       "'python 1&lt;100'"
      ]
     },
     "execution_count": 231,
     "metadata": {},
     "output_type": "execute_result"
    }
   ],
   "source": [
    "@htmlize.register(str)\n",
    "def html_str(s):\n",
    "    return escape(s).replace('\\n', '<br/>\\n')\n",
    "\n",
    "htmlize('python 1<100')"
   ]
  },
  {
   "cell_type": "markdown",
   "id": "be5dc58b-ecd9-49f3-bab8-19d8f7b35432",
   "metadata": {},
   "source": [
    "So, even though a string is both a `str` instance and in general a sequence type, the \"closest\" type will be picked by the dispatcher (again something our own implementation did not do). By closest, we mean lower in the class hierarchy of inheritance. So 'python' is more specifically a string than a Sequence. \n",
    "\n",
    "This means, we have something for generic sequences, but something specific for more specialized strings."
   ]
  },
  {
   "cell_type": "markdown",
   "id": "291c195c-d4f5-481b-9de9-af0ffecaef2f",
   "metadata": {},
   "source": [
    "Functions like `html_sequence`, `html_str` are not accessed directly. Instead, they are accessed through the `singledispatch`. So, the names of them are unimportant and infact, we'd prefer that other users know that they're not supposed to access them directly. So you may often see *all* of these functions renamed with `_` to indicate that this is (pseudo)private. Even if all these functions have the same name, they will still execute perfectly through `singledispatch` because Python doesn't refer to functions by their labels but what those labels point to in memory.\n",
    "\n",
    "It's the same reason why we use `_` when unpacking a list but we only care about one or two of the values."
   ]
  },
  {
   "cell_type": "code",
   "execution_count": 232,
   "id": "b0188b32-58df-4743-a860-c11fb69d5dd3",
   "metadata": {},
   "outputs": [
    {
     "name": "stdout",
     "output_type": "stream",
     "text": [
      "1\n",
      "[2, 3, 4, 5, 6, 7, 8, 9]\n",
      "10\n"
     ]
    }
   ],
   "source": [
    "a, *_, c = [1, 2, 3, 4, 5, 6, 7, 8, 9, 10]\n",
    "print(a)\n",
    "print(_)\n",
    "print(c)"
   ]
  }
 ],
 "metadata": {
  "kernelspec": {
   "display_name": "Python 3 (ipykernel)",
   "language": "python",
   "name": "python3"
  },
  "language_info": {
   "codemirror_mode": {
    "name": "ipython",
    "version": 3
   },
   "file_extension": ".py",
   "mimetype": "text/x-python",
   "name": "python",
   "nbconvert_exporter": "python",
   "pygments_lexer": "ipython3",
   "version": "3.10.6"
  }
 },
 "nbformat": 4,
 "nbformat_minor": 5
}
