{
 "cells": [
  {
   "cell_type": "markdown",
   "id": "1549bfd6-3591-45da-b1a1-ff9e5d45f6f6",
   "metadata": {
    "tags": []
   },
   "source": [
    "# 01 - Integers - Data Type"
   ]
  },
  {
   "cell_type": "markdown",
   "id": "bfa5dd5b-dad2-4235-b380-00c8a7428031",
   "metadata": {},
   "source": [
    "In 8 bits, the number of combinations are $2^8=256$. The largest number you can represent is $256-1=255$ because you need to represent $0$.\n",
    "\n",
    "If we care about handling negative numbers, we need 1 extra bit to represent the negative or positive sign, so we only have 7 bits, so the numbers we can represent are in the range $[-127, 127]$. **Not 1 extra bit for each number**: This is because we can have 8 bits to represent a number represented by XNNNNNNN, where the N bits will be used to represent the magnitude of the number and the X bit will be used to represent the sign; positive if X = 1 and negative if X = 0.\n",
    "\n",
    "But, since there's no difference between $+0$ and $-0$, we don't need two different 8 bits to represent it, so we have one spare. This gets added to the negatives: $[-128, 127]$. \n",
    "\n",
    "The general formula is $[-2^{n-1},  2^{n-1} -1]$\n",
    "\n",
    "On a 32-bit OS, our (unsigned) range is $[0, 2^{32}]$ = $[0, 4294967296]$. We have this many bytes avaliable as memory addresses. This equates to 4GB which means we can only have 4GB RAM on a 32-bit OS because we only have a limited amount of memory addresses to represent data with."
   ]
  },
  {
   "cell_type": "code",
   "execution_count": 2,
   "id": "bef26877-56be-4b2f-a9a9-6f615a06c148",
   "metadata": {},
   "outputs": [
    {
     "data": {
      "text/plain": [
       "24"
      ]
     },
     "execution_count": 2,
     "metadata": {},
     "output_type": "execute_result"
    }
   ],
   "source": [
    "import sys\n",
    "sys.getsizeof(0)"
   ]
  },
  {
   "cell_type": "markdown",
   "id": "09b6721e-6142-4747-8e99-908fde457905",
   "metadata": {},
   "source": [
    "We see that we need 24 bytes (192 bits (ones or zeroes)) just to represent zero. That's because everything is an object in Python, so theres a memory overhead for creating that object. 24 bytes is therefore the minimum number of bytes (overhead) required to create this object. We can subtract 24 from any number of bytes used to find out how many bytes needed to store that number."
   ]
  },
  {
   "cell_type": "markdown",
   "id": "9eb589c4-9d7d-4c5e-9230-b9d2edf58415",
   "metadata": {
    "tags": []
   },
   "source": [
    "# 02 - Integers - Operations"
   ]
  },
  {
   "cell_type": "markdown",
   "id": "92061d35-98fc-4a62-ab8b-38bacd46b8cc",
   "metadata": {},
   "source": [
    "Any number $a$ can be represented by n = b * (n // b) + n \\% b  where $b$ can be any number whatsoever. It's an identity. This is infact how the modulo operator (%) is defined. It can be useful to think of $b$ as base."
   ]
  },
  {
   "cell_type": "code",
   "execution_count": 3,
   "id": "ed0496ef-72a0-4a0f-a77c-f66c5522bc06",
   "metadata": {},
   "outputs": [
    {
     "data": {
      "text/plain": [
       "True"
      ]
     },
     "execution_count": 3,
     "metadata": {},
     "output_type": "execute_result"
    }
   ],
   "source": [
    "100 == 26 * (100 // 26) + 100%26"
   ]
  },
  {
   "cell_type": "markdown",
   "id": "cb15a9b9-eddb-493b-be1e-cdb7c1b0c8f4",
   "metadata": {
    "tags": []
   },
   "source": [
    "# 03 - Integers - Constructors and Bases"
   ]
  },
  {
   "cell_type": "markdown",
   "id": "43dd92c8-93da-4c1d-a637-a79f300d6731",
   "metadata": {},
   "source": [
    "We can convert numbers in base n (where $2 \\le n \\le 36$) to base 10 using"
   ]
  },
  {
   "cell_type": "code",
   "execution_count": 4,
   "id": "e1ed2123-53d4-4653-9398-3e83381678de",
   "metadata": {},
   "outputs": [
    {
     "data": {
      "text/plain": [
       "'100 in base 2 is 4 in base 10'"
      ]
     },
     "execution_count": 4,
     "metadata": {},
     "output_type": "execute_result"
    }
   ],
   "source": [
    " f\"100 in base 2 is {int('100', base = 2)} in base 10\""
   ]
  },
  {
   "cell_type": "markdown",
   "id": "5edc8c56-aeef-42b7-aa07-70f8a1e5d430",
   "metadata": {},
   "source": [
    "We can work backwards to convert a number from base 10 to another base using:"
   ]
  },
  {
   "cell_type": "code",
   "execution_count": 5,
   "id": "04d4b54b-e4b6-4c56-982e-f9608b317f93",
   "metadata": {},
   "outputs": [
    {
     "name": "stdout",
     "output_type": "stream",
     "text": [
      "0b10100\n",
      "0o43\n",
      "0x29\n"
     ]
    }
   ],
   "source": [
    "print(bin(20)) #bin == binary; the 0b prefix indicates that the number is in binary.\n",
    "print(oct(35)) #0o means oct\n",
    "print(hex(41)) #0x means hex"
   ]
  },
  {
   "cell_type": "markdown",
   "id": "f752e783-d5ad-4ab0-8195-70fc1cc18266",
   "metadata": {},
   "source": [
    "We can use these as integer literal e.g."
   ]
  },
  {
   "cell_type": "code",
   "execution_count": 6,
   "id": "d46808c6-0aeb-4233-9583-6da4c4e2a1f2",
   "metadata": {},
   "outputs": [
    {
     "data": {
      "text/plain": [
       "10"
      ]
     },
     "execution_count": 6,
     "metadata": {},
     "output_type": "execute_result"
    }
   ],
   "source": [
    "a = 0b1010 #This is an integer and indicated as binary by 0b.\n",
    "int(a)"
   ]
  },
  {
   "cell_type": "markdown",
   "id": "790b1170-b223-4881-964a-6b70be232db2",
   "metadata": {},
   "source": [
    "To efficiently encode a list of digits with our own encoding map to a string, we can create the following function:"
   ]
  },
  {
   "cell_type": "code",
   "execution_count": 7,
   "id": "73d59644-52c4-410a-80da-f0fccfacc9e5",
   "metadata": {},
   "outputs": [],
   "source": [
    "def encode(digits, digit_map):\n",
    "    # we require that digit_map has at least as many\n",
    "    # characters as the max number in digits\n",
    "    if max(digits) >= len(digit_map):\n",
    "        raise ValueError(\"digit_map is not long enough to encode digits\")\n",
    "    \n",
    "    # we'll see this later, but the following would be better:\n",
    "    encoding = ''.join([digit_map[d] for d in digits])\n",
    "    return encoding"
   ]
  },
  {
   "cell_type": "code",
   "execution_count": 8,
   "id": "726c3d3c-b555-4224-9618-73a90265a621",
   "metadata": {},
   "outputs": [
    {
     "data": {
      "text/plain": [
       "'1AB'"
      ]
     },
     "execution_count": 8,
     "metadata": {},
     "output_type": "execute_result"
    }
   ],
   "source": [
    "encode([1, 10, 11], '0123456789AB')"
   ]
  },
  {
   "cell_type": "markdown",
   "id": "14c3601f-ece2-4e9c-9017-30e964813e6e",
   "metadata": {},
   "source": [
    "A list comprehension is far more efficient than doing\n",
    "\n",
    "```\n",
    "04 - Rational Numbersfor d in digits:\n",
    "    encoding += map[d]\n",
    "```\n",
    "\n",
    "because strings are immutable, so we will create multiple strings in memory."
   ]
  },
  {
   "cell_type": "markdown",
   "id": "152e194d-cd39-4644-8cbc-ac434a9a3383",
   "metadata": {
    "tags": []
   },
   "source": [
    "# 04 - Rational Numbers "
   ]
  },
  {
   "cell_type": "markdown",
   "id": "16998d5f-2e91-4e10-817c-c95a8d85bffd",
   "metadata": {},
   "source": [
    "Float objects have finite precision; since we know that any real number that has a finite number of digits can be represented as a fraction, **all** floats can be represented as a fraction.\n",
    " \n",
    "Some numbers have exact float representations while others do not."
   ]
  },
  {
   "cell_type": "code",
   "execution_count": 9,
   "id": "e2c4bb92-ef78-451c-a09a-14fe0447b91a",
   "metadata": {},
   "outputs": [
    {
     "data": {
      "text/plain": [
       "Fraction(1, 8)"
      ]
     },
     "execution_count": 9,
     "metadata": {},
     "output_type": "execute_result"
    }
   ],
   "source": [
    "from fractions import Fraction\n",
    "Fraction(0.125)"
   ]
  },
  {
   "cell_type": "code",
   "execution_count": 10,
   "id": "6325fff9-96ca-444e-b770-4f7689c2f9f7",
   "metadata": {},
   "outputs": [
    {
     "data": {
      "text/plain": [
       "Fraction(5404319552844595, 18014398509481984)"
      ]
     },
     "execution_count": 10,
     "metadata": {},
     "output_type": "execute_result"
    }
   ],
   "source": [
    "Fraction(0.3) # This is because 0.3 isn't exactly 0.3 when it's stored as a float."
   ]
  },
  {
   "cell_type": "code",
   "execution_count": 11,
   "id": "591e1718-2f5f-4b33-99ac-b5d6ae3b2863",
   "metadata": {},
   "outputs": [
    {
     "data": {
      "text/plain": [
       "'0.2999999999999999888977698'"
      ]
     },
     "execution_count": 11,
     "metadata": {},
     "output_type": "execute_result"
    }
   ],
   "source": [
    "format(0.3, '.25f')"
   ]
  },
  {
   "cell_type": "markdown",
   "id": "607ec1a5-e680-489f-a86c-b0e9f8551577",
   "metadata": {},
   "source": [
    "But we can constrain the denomator which finds the closest rational number"
   ]
  },
  {
   "cell_type": "code",
   "execution_count": 12,
   "id": "a1f17bc1-0c53-4b39-b698-51af884a9b12",
   "metadata": {},
   "outputs": [
    {
     "data": {
      "text/plain": [
       "Fraction(22, 7)"
      ]
     },
     "execution_count": 12,
     "metadata": {},
     "output_type": "execute_result"
    }
   ],
   "source": [
    "import math\n",
    "x = Fraction(math.pi) # Returns Fraction(884279719003555, 281474976710656)\n",
    "x.limit_denominator(10) #Denominator must not exceed 10."
   ]
  },
  {
   "cell_type": "markdown",
   "id": "e65a9bbf-c7bb-428d-9196-15d86770e40c",
   "metadata": {
    "tags": []
   },
   "source": [
    "# 05 - Floats - Internal Representation "
   ]
  },
  {
   "cell_type": "markdown",
   "id": "e2acb3d1-35c0-423b-b5ff-e98d09c6c304",
   "metadata": {},
   "source": [
    "Remember that when we looked at integers, we said that the number of memory space would grow to the extent of the size of the integer. Small integers take a few bytes while large numbers take many bites. \n",
    "\n",
    "Float are different - they use a **fixed** number of bytes. \n",
    "\n",
    "The amount of space (excluding overhead) is **8 bytes (64 bits)**\n",
    "With overheard, it is generally **24 bytes** for any float.\n",
    "\n",
    "The 64 bits are used up as follows:\n",
    "- 1 bit : sign\n",
    "- 11 bits : exponent ($[-2^{n-1}, 2^{n-1} -1] = [-1024, 1023]$, therefore max exponent is 1023: $e^{1023}$\n",
    "- 52 bits : significant digits e.g. 1234500000 has 5 significant digits and a value of 9 for the exponent."
   ]
  },
  {
   "cell_type": "markdown",
   "id": "641d877c-5742-4787-b5f3-cea7e23b1a65",
   "metadata": {},
   "source": [
    "We can represent a float (in base-10) as\n",
    "\n",
    "123.456 = $(1*10^2)+(2*10^1)+(3*10^0)+(4*10^{-1})+(5*10^{-2})+(6*10^{-3})$\n",
    "\n",
    "We can represent the same float in binary by the same method:\n",
    "\n",
    "$(0.1101)_{2} = (1*2^{-1} + 1*2^{-2} + 0*2^{-3} + 1*2^{-4})_{10} = (0.8125)_{10} $"
   ]
  },
  {
   "cell_type": "markdown",
   "id": "738d469e-6b8c-46aa-896f-36d98b23770f",
   "metadata": {},
   "source": [
    "This explains why we can't represent some decimals cleanly in base 2.\n",
    "\n",
    "<img src=s4-images/4.1.png width='500' />\n",
    "\n",
    "This is important because **this is how all numbers are stored in a computer; a computer only stores things in base 2**"
   ]
  },
  {
   "cell_type": "markdown",
   "id": "17948274-a23c-4c93-84e2-ade73802ca39",
   "metadata": {
    "tags": []
   },
   "source": [
    "# 06 - Floats - Equality Testing "
   ]
  },
  {
   "cell_type": "markdown",
   "id": "35089258-26d7-44bc-9d1c-f296d7a163a3",
   "metadata": {},
   "source": [
    "Because not all real numbers have an exact ``float`` representation, equality testing can be tricky."
   ]
  },
  {
   "cell_type": "code",
   "execution_count": 13,
   "id": "7b52a364-dcbf-4277-a769-0e4758e77a84",
   "metadata": {},
   "outputs": [
    {
     "data": {
      "text/plain": [
       "False"
      ]
     },
     "execution_count": 13,
     "metadata": {},
     "output_type": "execute_result"
    }
   ],
   "source": [
    "x = 0.1 + 0.1 + 0.1 # format(x, '0.25f') => 0.3000000000000000444089210\n",
    "y = 0.3 # format(y, '0.25f') => 0.2999999999999999888977698\n",
    "x == y"
   ]
  },
  {
   "cell_type": "markdown",
   "id": "a1464778-62b2-46f5-97a6-36d0f9ad7b67",
   "metadata": {},
   "source": [
    "We could use rounding but as we will see later, rounding doesn't do exactly what we want (Rounding only does an absolute tolerance check - not relative too). Instead, we should set up a tolerance for how far the numbers can be from each other.\n",
    "It turns out that absolute tolerances are good in some circumstances and relative tolerances in others. So, the best way is to combine them by calculating both tolerances and using the larger of the two.\n",
    "\n",
    "<img src='s4-images/4.2.png' width='500'/>\n",
    "\n",
    "where relative tolerance is user-set e.g. <img src='s4-images/4.3.png' width='400' />\n",
    "\n",
    "\n",
    "This entire method is inbuilt in `math` library under the `.isclose(a, b, rel_tot, abs_tot)` method."
   ]
  },
  {
   "cell_type": "markdown",
   "id": "d0df75df-3b22-4cf1-a455-4d46427265cf",
   "metadata": {
    "tags": []
   },
   "source": [
    "# 07 - Floats - Coercing to Integers "
   ]
  },
  {
   "cell_type": "markdown",
   "id": "f4ed06de-dd25-4928-9263-4ac79c65eda5",
   "metadata": {},
   "source": [
    "In all cases of converting a float to an integer, whether its by truncation, flooring, ceiling, or rounding, we will get data loss. All of these are in the math module.\n",
    "\n",
    "truncation is identical to `int()`, floor and ceil are identical for positive numbers, but have caveats for negative numbers. Do e.g. `help(math.floor)` to find out the caveats."
   ]
  },
  {
   "cell_type": "markdown",
   "id": "8664e1d1-d622-49dd-b257-9601cf788922",
   "metadata": {
    "tags": []
   },
   "source": [
    "# 08 - Floats - Rounding"
   ]
  },
  {
   "cell_type": "markdown",
   "id": "af78a553-0b12-4646-8470-d783cab871af",
   "metadata": {},
   "source": [
    "With math.round, we round *away from zero* to the nearest $10^n$ where $n$ is a kwarg (n=0 is default). Here's some examples.\n",
    "\n",
    "There are some weird caveats to rounding too. See 'Banker's Rounding for more details' (apparently regular rounding is biased to making numbers bigger)."
   ]
  },
  {
   "cell_type": "code",
   "execution_count": 14,
   "id": "e2b67d21-8bcd-4388-be4e-b636a6df7f1f",
   "metadata": {},
   "outputs": [
    {
     "name": "stdout",
     "output_type": "stream",
     "text": [
      "18.7\n",
      "19\n",
      "20.0\n"
     ]
    }
   ],
   "source": [
    "print(round(18.67, 1))\n",
    "print(round(18.6))\n",
    "print(round(18.67, -1))"
   ]
  },
  {
   "cell_type": "markdown",
   "id": "f0a38efe-bc4b-4eed-8278-cf56e0ad801b",
   "metadata": {},
   "source": [
    "So if you really insist on rounding away from zero, there's really only one way. Methods like `int(x+0.5)` will work for positive numbers, but they don't for negative.\n",
    "\n",
    "Mathematically, $\\mathrm{roundedval} = \\mathrm{int}(\\mathrm{sign}(x)*x)+0.5 )$, where $\\mathrm{sign}(x)$ is +1 for positive numbers and -1 for negative."
   ]
  },
  {
   "cell_type": "code",
   "execution_count": 15,
   "id": "500e0f25-f5c9-4011-a8a1-f194599db036",
   "metadata": {},
   "outputs": [
    {
     "data": {
      "text/plain": [
       "2"
      ]
     },
     "execution_count": 15,
     "metadata": {},
     "output_type": "execute_result"
    }
   ],
   "source": [
    "round(2.5) # To deal with these issues easily, use decimals module."
   ]
  },
  {
   "cell_type": "markdown",
   "id": "a0425b94-299e-4ddb-8b51-7ddd8f5e0b82",
   "metadata": {
    "tags": []
   },
   "source": [
    "# 09 - Decimals"
   ]
  },
  {
   "cell_type": "markdown",
   "id": "20ff38e6-9ec0-4604-87a2-c08f8c173f1c",
   "metadata": {},
   "source": [
    "We need to use the **decimal** module to get around the infinite binary expansion that we get for decimal floats, e.g. 0.1. We want a way of avoding the approximation issues with floats."
   ]
  },
  {
   "cell_type": "code",
   "execution_count": 16,
   "id": "2f0232b7-4bba-444f-b219-c1f40bba581c",
   "metadata": {},
   "outputs": [],
   "source": [
    "import decimal\n",
    "from decimal import Decimal"
   ]
  },
  {
   "cell_type": "code",
   "execution_count": 17,
   "id": "c84b3d6e-456b-42a0-aa7c-0b20d47e4e1d",
   "metadata": {},
   "outputs": [
    {
     "name": "stdout",
     "output_type": "stream",
     "text": [
      "Context(prec=28, rounding=ROUND_HALF_EVEN, Emin=-999999, Emax=999999, capitals=1, clamp=0, flags=[], traps=[InvalidOperation, DivisionByZero, Overflow])\n"
     ]
    }
   ],
   "source": [
    "g_ctx = decimal.getcontext() # g_ctx = get context.\n",
    "print(g_ctx)"
   ]
  },
  {
   "cell_type": "code",
   "execution_count": 18,
   "id": "96433fea-3c5d-4471-94e6-cd1601522d31",
   "metadata": {},
   "outputs": [
    {
     "name": "stdout",
     "output_type": "stream",
     "text": [
      "Context(prec=4, rounding=ROUND_HALF_UP, Emin=-999999, Emax=999999, capitals=1, clamp=0, flags=[], traps=[InvalidOperation, DivisionByZero, Overflow])\n"
     ]
    }
   ],
   "source": [
    "g_ctx.prec = 4\n",
    "g_ctx.rounding = decimal.ROUND_HALF_UP\n",
    "print(g_ctx)\n",
    "g_ctx.prec = 28 # Setting back to default.\n",
    "g_ctx.rounding = decimal.ROUND_HALF_EVEN "
   ]
  },
  {
   "cell_type": "markdown",
   "id": "509db590-351c-4b25-a91a-cdb6e95fd713",
   "metadata": {},
   "source": [
    "Notice how the types of getcontext and local context are different. Local context is a content manager which means we need to use a `with` statement. Once we exit out the `with` block, it gets disposed and we go back to the global context found in `getcontext`. \n",
    "\n",
    "But, it's important to note that calling `decimal.getcontext()` **within** the `with` statement will return the local context because we're within the `with` block.\n",
    "\n",
    "So, more accurately, `get"
   ]
  },
  {
   "cell_type": "code",
   "execution_count": 19,
   "id": "81b7309a-6396-41fc-824c-fe694723a28e",
   "metadata": {},
   "outputs": [
    {
     "name": "stdout",
     "output_type": "stream",
     "text": [
      "<class 'decimal.ContextManager'>\n",
      "<class 'decimal.Context'>\n"
     ]
    }
   ],
   "source": [
    "print(type(decimal.localcontext()))\n",
    "print(type(g_ctx))"
   ]
  },
  {
   "cell_type": "code",
   "execution_count": 20,
   "id": "66dab27b-a517-4c90-a2bb-3632326ed16e",
   "metadata": {},
   "outputs": [
    {
     "name": "stdout",
     "output_type": "stream",
     "text": [
      "within local context:  1.3 1.4\n",
      "within global context:  1.2 1.4\n"
     ]
    }
   ],
   "source": [
    "x = Decimal('1.25')\n",
    "y = Decimal('1.35')\n",
    "\n",
    "with decimal.localcontext() as ctx:\n",
    "    ctx.rounding = decimal.ROUND_HALF_UP\n",
    "    print('within local context: ', round(x, 1), round(y, 1))\n",
    "    \n",
    "print('within global context: ', round(x, 1), round(y, 1))"
   ]
  },
  {
   "cell_type": "markdown",
   "id": "188137d7-da80-4fc1-9308-4f416f9ede42",
   "metadata": {},
   "source": [
    "# 10 - Decimals - Constructors and Contexts "
   ]
  },
  {
   "cell_type": "markdown",
   "id": "2d2d8f35-7201-4b94-8751-afcf3393e7b8",
   "metadata": {},
   "source": [
    "we `import decimal` if we want to work with the context (e.g. `decimal.getcontext()`) as well as `from decimal import Decimal` if we want to work with the Decimal class.\n",
    "\n",
    "We can pass many things into the Decimal class, but not usually floats because, as we've already seen, they don't have exact binary representations, so we will be passing an approximation of that float to the decimal class. Instead we use strings or tuples."
   ]
  },
  {
   "cell_type": "markdown",
   "id": "7ad4b490-da0c-4634-8ed0-1de40f95d9a0",
   "metadata": {},
   "source": [
    "**Tuple constructor**: This creates an exact representation of the number with perfect precision. Once we start doing operations, then our precision will depend on the global/local context that we have set.\n",
    "\n",
    "<img src = 's4-images/4.2.png' width=500 />"
   ]
  },
  {
   "cell_type": "markdown",
   "id": "45289570-95f7-41cc-b86b-cb232bb17f8d",
   "metadata": {},
   "source": [
    "# 11 - Decimals - Math Operations"
   ]
  },
  {
   "cell_type": "markdown",
   "id": "2310d633-84d5-4dcc-ab39-2ba46851df50",
   "metadata": {},
   "source": [
    "The // and % operators (and consequently, the divmod() function) behave differently for integers and Decimals.\n",
    "\n",
    "This is because integer division for Decimals is performed differently, and results in a truncated division, whereas integers use a floored division.\n",
    "\n",
    "These differences are only when negative numbers are involved. If all numbers involved are positive, then integer and Decimal div and mod operations are equal.\n",
    "\n",
    "But in both cases the // and % operators satisfy the equation:\n",
    "\n",
    "``n = d * (n // d) + (n % d)``"
   ]
  },
  {
   "cell_type": "markdown",
   "id": "beb7502e-53fe-4995-96c0-82d88351cbbb",
   "metadata": {},
   "source": [
    "# 12 - Decimals - Performance Considerations"
   ]
  },
  {
   "cell_type": "markdown",
   "id": "a2c11270-3c0d-4fd8-b9ba-ccb7295fd415",
   "metadata": {},
   "source": [
    "Creating Decimal objects takes much more memory, much longer to create and has slower performance than using floats (especially with the sqrt method in the `Decimal` class. It won't be significant unless you're making millions of calculations.\n",
    "\n",
    "So, we only use `Decimal` if we really need that extra precision."
   ]
  },
  {
   "cell_type": "markdown",
   "id": "c70acc98-cdb6-453d-be48-3cc6df915d43",
   "metadata": {},
   "source": [
    "# 13 - Complex Numbers"
   ]
  },
  {
   "cell_type": "markdown",
   "id": "80bc3b35-fcdc-4f9f-89ed-b05526b06e28",
   "metadata": {},
   "source": [
    "# 14 - Booleans"
   ]
  },
  {
   "cell_type": "markdown",
   "id": "dad62556-fa70-48b3-b077-de18cad4dd56",
   "metadata": {},
   "source": [
    "The `bool` class is a subclass of the `int` class. Therefore, `bool` posses all the properties and methods of integers, and some much specialised ones such as `and`, `or`, etc. "
   ]
  },
  {
   "cell_type": "code",
   "execution_count": 21,
   "id": "8993eba9-b5c0-405c-9293-c19022879d91",
   "metadata": {},
   "outputs": [
    {
     "data": {
      "text/plain": [
       "True"
      ]
     },
     "execution_count": 21,
     "metadata": {},
     "output_type": "execute_result"
    }
   ],
   "source": [
    "issubclass(bool, int)"
   ]
  },
  {
   "cell_type": "markdown",
   "id": "30db15e2-1cdc-47cf-b4f6-eecf62bcbc1e",
   "metadata": {},
   "source": [
    "`True` and `False` are singleton objects, so they always retain their same memory address throughout the lifetime of the application. This means that we can use `is` operator (in addition to the `==` operator).\n",
    "\n",
    "Reminder: With singleton objects (e.g. `None`, interned strings), if we find create 5 variables (e.g a, b, c etc.) and their values gets set to True, then all 5 variables point to that one memory address. So `a is b` will return `True` because they both have the same memory address."
   ]
  },
  {
   "cell_type": "markdown",
   "id": "35db005d-1172-4cf3-9cc8-c5eaba6b5e48",
   "metadata": {},
   "source": [
    "Important: while `True` can be interpreted as `1` (e.g. `int(True) -> 1`), they are **not** the same objects or even the same types. Therefore:"
   ]
  },
  {
   "cell_type": "code",
   "execution_count": 22,
   "id": "ed977a05-e44f-427e-a86f-3aaa5a5071d4",
   "metadata": {},
   "outputs": [
    {
     "data": {
      "text/plain": [
       "False"
      ]
     },
     "execution_count": 22,
     "metadata": {},
     "output_type": "execute_result"
    }
   ],
   "source": [
    "id(True) == id(1)"
   ]
  },
  {
   "cell_type": "code",
   "execution_count": 23,
   "id": "e6c930b2-38a5-4691-87b6-c23ce082d3eb",
   "metadata": {},
   "outputs": [
    {
     "name": "stderr",
     "output_type": "stream",
     "text": [
      "<>:1: SyntaxWarning: \"is\" with a literal. Did you mean \"==\"?\n",
      "<>:1: SyntaxWarning: \"is\" with a literal. Did you mean \"==\"?\n",
      "/tmp/ipykernel_4761/812578685.py:1: SyntaxWarning: \"is\" with a literal. Did you mean \"==\"?\n",
      "  True is 1\n"
     ]
    },
    {
     "data": {
      "text/plain": [
       "False"
      ]
     },
     "execution_count": 23,
     "metadata": {},
     "output_type": "execute_result"
    }
   ],
   "source": [
    "True is 1"
   ]
  },
  {
   "cell_type": "markdown",
   "id": "da7cba44-61d7-4e03-8d23-d8fd2655eafc",
   "metadata": {},
   "source": [
    "The fact that we can write stuff like `True > False` and `True + True + True == 3` is due to polymorphism. This means that Python can understand what the context of the situation is, by looking at the surrounding operators for example, and using a type that's compatible with the operation. "
   ]
  },
  {
   "cell_type": "markdown",
   "id": "181ad1b8-d0f0-4e4b-951f-82e164536639",
   "metadata": {},
   "source": [
    "# 15 - Booleans - Truth Values"
   ]
  },
  {
   "cell_type": "markdown",
   "id": "0bcf200c-d1ba-4319-a1c2-23db3aec38b1",
   "metadata": {},
   "source": [
    "All objects have an associasted truth value, just like how `1`'s associated truth value is True while all other numbers' evaluate to False. This is known as **truthiness**.\n",
    "\n",
    "There are some rules; every object has a True truth value, except:\n",
    "- None\n",
    "- False\n",
    "- 0 in any numeric type (e.g. 0, 0.0 etc.)\n",
    "- empty sequences (e.g. lists, tuples, strings)\n",
    "- empty mapping sets (e.g. dictionaries, sets)\n",
    "- custom classes that implement a dunder `__bool__` or `__len__` (if `__bool__` is not found) method that returns False or 0."
   ]
  },
  {
   "cell_type": "markdown",
   "id": "55cbe305-06ff-4538-b3dc-3d7f0f2cc43f",
   "metadata": {},
   "source": [
    "Remember that in general, typing `bool(x)` is telling Python to execute `x.__bool__()`  or `__len__` (if `__bool__` is not found). If neither is found, we default to `True`. \n",
    "\n",
    "The `__len__` is useful for sequences:"
   ]
  },
  {
   "cell_type": "code",
   "execution_count": 24,
   "id": "45850498-2224-4851-abd9-26f39b74827c",
   "metadata": {},
   "outputs": [
    {
     "name": "stdout",
     "output_type": "stream",
     "text": [
      "0\n"
     ]
    },
    {
     "data": {
      "text/plain": [
       "True"
      ]
     },
     "execution_count": 24,
     "metadata": {},
     "output_type": "execute_result"
    }
   ],
   "source": [
    "a = []\n",
    "print(a.__len__())\n",
    "bool(a) == (a.__len__()) # These two operands are exactly identical, Python literally calls a.__len__() which evaluates to 0 and bool(0) is False. Lists don't have a __bool__() method."
   ]
  },
  {
   "cell_type": "markdown",
   "id": "881d2bce-092a-4a86-9474-e471fd6db2c5",
   "metadata": {},
   "source": [
    "This is useful if we want to do some `if` loop on a list but only if the list exists and is not `None`. "
   ]
  },
  {
   "cell_type": "code",
   "execution_count": 25,
   "id": "97b73ad8-3f86-44aa-bc4e-35dab98eda15",
   "metadata": {},
   "outputs": [
    {
     "name": "stdout",
     "output_type": "stream",
     "text": [
      "doing something\n"
     ]
    }
   ],
   "source": [
    "a = [1,2,3]\n",
    "if a is not None and len(a) > 0:\n",
    "    print('doing something')\n",
    "\n",
    "else: \n",
    "    print('False')"
   ]
  },
  {
   "cell_type": "markdown",
   "id": "d43bc1a2-a391-4666-b7e3-1b5405e58aa4",
   "metadata": {},
   "source": [
    "The above is identical to the below because within `if` Python looks for a bool representation of `a` and finds it to be `True` because it has non-zero length."
   ]
  },
  {
   "cell_type": "code",
   "execution_count": 26,
   "id": "101527de-bb8d-49f0-9b90-98f7434aef84",
   "metadata": {},
   "outputs": [
    {
     "name": "stdout",
     "output_type": "stream",
     "text": [
      "doing something\n"
     ]
    }
   ],
   "source": [
    "if a:\n",
    "    print('doing something')\n",
    "\n",
    "else: \n",
    "    print('False')"
   ]
  },
  {
   "cell_type": "markdown",
   "id": "9d69a6ab-c363-4d71-af0a-06eb20eced6f",
   "metadata": {},
   "source": [
    "# 16 - Booleans - Precedence and Short-Circuiting"
   ]
  },
  {
   "cell_type": "markdown",
   "id": "2e1b53dc-1e7c-4ffa-b349-9052ba93141b",
   "metadata": {},
   "source": [
    "Commutativity, distributivity and associativity are fairly intuitive for booleans, but one to note is:\n",
    "    \n",
    "**De Morgan's Theorem**\n",
    "\n",
    "`not(A or B) == (not A) and (not B)` \\\n",
    "`not(A and B) == (not A) or (not B)`"
   ]
  },
  {
   "cell_type": "markdown",
   "id": "75930a46-4e51-428f-88e4-4a2c4eb6999e",
   "metadata": {},
   "source": [
    "<img src='s4-images/4.5.png' width=350 />"
   ]
  },
  {
   "cell_type": "markdown",
   "id": "96826bda-46d1-423c-a52d-ac1734aabaf3",
   "metadata": {},
   "source": [
    "Short-circuiting is just that if you want to evaluate `X or Y` and you first evaluate `X` as `True`, then there's no point evaluating `Y` because we only need one of them to be `True` for `X or Y` to be `True`. \\\n",
    "We can do a similar thing with `and`."
   ]
  },
  {
   "cell_type": "code",
   "execution_count": 28,
   "id": "7b4591ab-7082-4461-aaba-999fd9c2fa1b",
   "metadata": {},
   "outputs": [
    {
     "name": "stdout",
     "output_type": "stream",
     "text": [
      "name is fine\n"
     ]
    }
   ],
   "source": [
    "import string\n",
    "name  = ''\n",
    "if name and name[0] in string.digits:\n",
    "    print('name cant start with digit')\n",
    "    \n",
    "else:\n",
    "    print('name is fine')"
   ]
  },
  {
   "cell_type": "markdown",
   "id": "e402a963-e4e3-4aa9-a9cd-00af53a1be9c",
   "metadata": {},
   "source": [
    "In the above, although `and` has a higher precedence than `in`, Python uses shortcircuiting so it evaluates left to right. \\\n",
    "It evaluates `name` (which does `name.__len()`) and **if necessary**, it evaluates the right side of `and`."
   ]
  },
  {
   "cell_type": "markdown",
   "id": "ab3f8567-603d-41c3-a951-1064fecb442e",
   "metadata": {},
   "source": [
    "# 17 - Booleans - Boolean Operators "
   ]
  },
  {
   "cell_type": "markdown",
   "id": "62a01f9e-548b-4634-a4dc-bf0d89750422",
   "metadata": {},
   "source": [
    "Since all objects have **truthiness**, we can use boolean operators on them with no issues.\\\n",
    "But, an important question is: Is a boolean returned when evaluating an expression with boolean operators? **No**."
   ]
  },
  {
   "cell_type": "markdown",
   "id": "7b8a0087-7f7f-467c-9ac2-1cfe596661d6",
   "metadata": {},
   "source": [
    "Definition of `or` in Python: \\\n",
    "**X or Y   ->   If X is truthy, return X, otherwise evalulate and return Y**"
   ]
  },
  {
   "cell_type": "markdown",
   "id": "5438d783-42cf-48b3-b9d1-09090da615b0",
   "metadata": {},
   "source": [
    "<img src=s4-images/4.6.png width='300' />\n",
    "\n",
    "Look how following this definition results in the expected truth table values even though we don't even need to know what Y evaluates to as part of the logic; we just return it."
   ]
  },
  {
   "cell_type": "markdown",
   "id": "1137ca87-8d99-4fc6-9101-605715109db9",
   "metadata": {},
   "source": [
    "Definition of `and` in Python: \\\n",
    "**X and Y   ->   If X is falsy, return X, otherwise evalulate and return Y**"
   ]
  },
  {
   "cell_type": "markdown",
   "id": "682433b6-24f2-4aaa-99cd-52c2c9c8fd50",
   "metadata": {},
   "source": [
    "<img src='s4-images/4.7.png' width='300' />"
   ]
  },
  {
   "cell_type": "markdown",
   "id": "bc8cc135-4f60-4b0f-9dc5-40978f449351",
   "metadata": {},
   "source": [
    "We can chain shortcircuiting like so:"
   ]
  },
  {
   "cell_type": "code",
   "execution_count": 29,
   "id": "d7ef665b-04a4-458c-8167-1e8f128f0764",
   "metadata": {},
   "outputs": [
    {
     "name": "stdout",
     "output_type": "stream",
     "text": [
      "N/A\n"
     ]
    }
   ],
   "source": [
    "s1 = None\n",
    "s2 = ''\n",
    "s3 = None\n",
    "\n",
    "a = s1 or s2 or s3 or 'N/A'\n",
    "print(a)"
   ]
  },
  {
   "cell_type": "markdown",
   "id": "4587c4e6-d616-4db1-970e-f618f784504a",
   "metadata": {},
   "source": [
    "`a` will be equal to the **first truthy value** (left to right evaluation)\n",
    "\n",
    "In this way, `a` is guaranteed to be a string because if all `s` variables fail, we will fallback on `'N/A'` because its guaranteed to be truthy since it has non-zero length."
   ]
  },
  {
   "cell_type": "markdown",
   "id": "faba35e9-e17f-42dd-ba43-b2c321f2cc65",
   "metadata": {},
   "source": [
    "This can be quite useful for avoiding an `if` loop. \\\n",
    "Let's say we want to compute an average but we're worried that sometimes we may have zero terms in the sum in which case we would need to take care in avoiding dividing by zero. This is the solution:"
   ]
  },
  {
   "cell_type": "code",
   "execution_count": 30,
   "id": "d34722a3-a351-46f5-b4f0-96d90e55d63f",
   "metadata": {},
   "outputs": [
    {
     "name": "stdout",
     "output_type": "stream",
     "text": [
      "0\n"
     ]
    }
   ],
   "source": [
    "n = 0\n",
    "sum = 338\n",
    "avg = n and sum/n\n",
    "print(avg)"
   ]
  },
  {
   "cell_type": "markdown",
   "id": "be5c5574-7e9d-4b0c-8349-40682fe7a680",
   "metadata": {},
   "source": [
    "In the above, we read from left to right and see if `n` is truthy. Since it is falsy, our definition of `and` says we **must** return the first operand, ignoring the second operand completely. \\\n",
    "If however, `n` is truthy, we must return the second operand, no matter what."
   ]
  },
  {
   "cell_type": "code",
   "execution_count": 31,
   "id": "7dfcfede-3f76-4001-b7b7-de299f03e200",
   "metadata": {},
   "outputs": [
    {
     "name": "stdout",
     "output_type": "stream",
     "text": [
      "26.0\n"
     ]
    }
   ],
   "source": [
    "n = 13\n",
    "sum = 338\n",
    "avg = n and sum/n\n",
    "print(avg)"
   ]
  },
  {
   "cell_type": "markdown",
   "id": "60512bc1-2e77-4f31-b58e-0235871a5e6e",
   "metadata": {},
   "source": [
    "Another example: Return first character of string, or an empty string if the string is None or empty."
   ]
  },
  {
   "cell_type": "code",
   "execution_count": 32,
   "id": "cdc20fcf-9891-4454-a6ac-e59e4ee3d580",
   "metadata": {},
   "outputs": [
    {
     "data": {
      "text/plain": [
       "''"
      ]
     },
     "execution_count": 32,
     "metadata": {},
     "output_type": "execute_result"
    }
   ],
   "source": [
    "s = None\n",
    "\n",
    "def first_letter(string):\n",
    "    if s:\n",
    "        return s[0]\n",
    "    else:\n",
    "        return ''\n",
    "    \n",
    "\n",
    "first_letter(s)"
   ]
  },
  {
   "cell_type": "markdown",
   "id": "355ac957-dd41-4351-a396-258e9277a007",
   "metadata": {},
   "source": [
    "Equivalently,"
   ]
  },
  {
   "cell_type": "code",
   "execution_count": 33,
   "id": "f7ca1188-096d-4ce2-ae6a-2a7a4678ebc0",
   "metadata": {},
   "outputs": [
    {
     "data": {
      "text/plain": [
       "''"
      ]
     },
     "execution_count": 33,
     "metadata": {},
     "output_type": "execute_result"
    }
   ],
   "source": [
    "s = None\n",
    "\n",
    "def first_letter(string):\n",
    "    return (s and s[0]) or '' \n",
    "\n",
    "first_letter(s)"
   ]
  },
  {
   "cell_type": "markdown",
   "id": "5c9fe2f7-5c67-49b1-898d-d7156975fffe",
   "metadata": {},
   "source": [
    "If s is falsy, we take it no matter what, so we're left with  `(False) or ''`.\\\n",
    "But if the first of this is falsy, we take the 2nd no matter what."
   ]
  },
  {
   "cell_type": "markdown",
   "id": "d03d1958-dee9-4ed5-b433-3bac045b7488",
   "metadata": {},
   "source": [
    "# 18 - Comparison Operators"
   ]
  },
  {
   "cell_type": "markdown",
   "id": "c228d033-636a-449c-8b55-9849dcf9ea91",
   "metadata": {},
   "source": [
    "It is possible to chain comparisons.\n",
    "\n",
    "For example, in **a < b < c**, Python simply **ands** the pairwise comparisons: **a < b and b < c**"
   ]
  },
  {
   "cell_type": "code",
   "execution_count": 34,
   "id": "9f6eb7da-2057-4b05-b733-d175e13c255c",
   "metadata": {},
   "outputs": [
    {
     "data": {
      "text/plain": [
       "True"
      ]
     },
     "execution_count": 34,
     "metadata": {},
     "output_type": "execute_result"
    }
   ],
   "source": [
    "1 < 2 > -5 < 50 > 4"
   ]
  }
 ],
 "metadata": {
  "kernelspec": {
   "display_name": "Python 3 (ipykernel)",
   "language": "python",
   "name": "python3"
  },
  "language_info": {
   "codemirror_mode": {
    "name": "ipython",
    "version": 3
   },
   "file_extension": ".py",
   "mimetype": "text/x-python",
   "name": "python",
   "nbconvert_exporter": "python",
   "pygments_lexer": "ipython3",
   "version": "3.10.6"
  }
 },
 "nbformat": 4,
 "nbformat_minor": 5
}
