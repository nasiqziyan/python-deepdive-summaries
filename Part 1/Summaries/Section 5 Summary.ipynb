{
 "cells": [
  {
   "cell_type": "markdown",
   "id": "d2db4dc7-a6e5-422b-8956-d0795a502f4e",
   "metadata": {},
   "source": [
    "# 01 - Positional Arguments"
   ]
  },
  {
   "cell_type": "markdown",
   "id": "df508f49-78b5-4c02-a697-18735fddbfd6",
   "metadata": {},
   "source": [
    "In this context, `a` and `b` are called **parameters** of `my_func`. `a` and `b` are also variables local to `my_func`."
   ]
  },
  {
   "cell_type": "code",
   "execution_count": 96,
   "id": "81b4fa26-eba5-4369-8db6-fb8b9852ed0a",
   "metadata": {},
   "outputs": [],
   "source": [
    "def my_func(a, b):\n",
    "    # code here\n",
    "    pass"
   ]
  },
  {
   "cell_type": "markdown",
   "id": "6ff27b1c-46c8-4eb9-b04d-38f9f93066d1",
   "metadata": {},
   "source": [
    "`x` and `y` are called the **arguments** of my_func. Also importantly, `x` and `y` are passed by **reference (memory address)** so the variables `a` and `b` are pointing to the same memory address as `x` and `y`."
   ]
  },
  {
   "cell_type": "code",
   "execution_count": 97,
   "id": "97e92cb2-a944-49bc-9ebe-4920b1fbbb89",
   "metadata": {},
   "outputs": [],
   "source": [
    "x = 10\n",
    "y = 'a'\n",
    "\n",
    "my_func(x, y)"
   ]
  },
  {
   "cell_type": "markdown",
   "id": "0124f61e-930b-4813-bf45-ebd866401c05",
   "metadata": {},
   "source": [
    "**Python rules:**\n",
    "\n",
    "- **If a positional parameter is defined with a default value, every positional parameter after it must also be given a default value, otherwise, you'll get an error.** \n",
    "- **Once you use a named argument, all arguments thereafter must be named too.**"
   ]
  },
  {
   "cell_type": "code",
   "execution_count": 98,
   "id": "674c240d-5488-40b0-b39a-948abac66762",
   "metadata": {},
   "outputs": [
    {
     "ename": "SyntaxError",
     "evalue": "non-default argument follows default argument (2926666543.py, line 1)",
     "output_type": "error",
     "traceback": [
      "\u001b[0;36m  File \u001b[0;32m\"/tmp/ipykernel_4148/2926666543.py\"\u001b[0;36m, line \u001b[0;32m1\u001b[0m\n\u001b[0;31m    def my_func(a, b=100, c) # rule 1\u001b[0m\n\u001b[0m                          ^\u001b[0m\n\u001b[0;31mSyntaxError\u001b[0m\u001b[0;31m:\u001b[0m non-default argument follows default argument\n"
     ]
    }
   ],
   "source": [
    "def my_func(a, b=100, c) # rule 1\n",
    "\n",
    "my_func(1, b=2, 3) # rule 2"
   ]
  },
  {
   "cell_type": "markdown",
   "id": "0c66224e-0259-454a-ad70-8565b8ff1640",
   "metadata": {},
   "source": [
    "# 02 - Unpacking Iterables"
   ]
  },
  {
   "cell_type": "markdown",
   "id": "ee3ee313-21e5-4efd-b58e-499ba636cf82",
   "metadata": {},
   "source": [
    "A note about tuples: A tuple is not defined by the `()` but instead by `,`. Brackets are used for clarity, except when creating an empty tuple in which case you can do `()`. For more than 0, we can write `1,` or `(1,)` but **not** `(1)`."
   ]
  },
  {
   "cell_type": "markdown",
   "id": "7a876b1b-d835-4f8a-b248-bac96c1dd49e",
   "metadata": {},
   "source": [
    "Unpacking is the act of splitting packed values (iterables, which includes strings) into individual variables. They are unpacked based on the relative positions of each element."
   ]
  },
  {
   "cell_type": "code",
   "execution_count": 99,
   "id": "7ee0948f-1bfb-4d70-a97f-4d8e60bbf18a",
   "metadata": {},
   "outputs": [],
   "source": [
    "a, b, c = [1, 2, 3] # The LHS is a tuple."
   ]
  },
  {
   "cell_type": "code",
   "execution_count": 100,
   "id": "54ba9b2d-a138-4948-8982-1e5fe5508385",
   "metadata": {},
   "outputs": [],
   "source": [
    "a, b, c = 'XYZ'"
   ]
  },
  {
   "cell_type": "markdown",
   "id": "04bc6fb5-664d-4916-a59b-b8781fa49309",
   "metadata": {},
   "source": [
    "This is very useful for swapping values of two variables because we don't need a temporary variable. To swap `a` and `b`:"
   ]
  },
  {
   "cell_type": "code",
   "execution_count": 101,
   "id": "51a4e001-9475-42a0-bf57-b65116c5d64f",
   "metadata": {},
   "outputs": [],
   "source": [
    "tmp = a\n",
    "a = b      # bad method\n",
    "b = tmp\n",
    "\n",
    "a, b = b, a # good method"
   ]
  },
  {
   "cell_type": "markdown",
   "id": "47d02832-a894-4be1-bf3a-2f8982110009",
   "metadata": {},
   "source": [
    "**Unpacking sets and dictionaries**\n",
    "Iterating using `for <> in` iterates through the keys."
   ]
  },
  {
   "cell_type": "code",
   "execution_count": 1,
   "id": "3e50df2e-a024-4778-9134-47eb8ee1c7bb",
   "metadata": {},
   "outputs": [
    {
     "name": "stdout",
     "output_type": "stream",
     "text": [
      "key1\n",
      "key2\n",
      "key3\n"
     ]
    }
   ],
   "source": [
    "d = {'key1': 1, 'key2':2, 'key3':3}\n",
    "\n",
    "for i in d:\n",
    "    print(i)"
   ]
  },
  {
   "cell_type": "markdown",
   "id": "9bc9126e-7faf-4dbe-b236-6febd48fbbb7",
   "metadata": {},
   "source": [
    "In earlier versions of python, unpacking a dictionary did not preserve order but now it does in their insertion order."
   ]
  },
  {
   "cell_type": "code",
   "execution_count": 103,
   "id": "0ce264b3-1366-4bfb-830c-38d77cf60e54",
   "metadata": {},
   "outputs": [
    {
     "name": "stdout",
     "output_type": "stream",
     "text": [
      "key1 key2 key3\n"
     ]
    }
   ],
   "source": [
    "a, b, c = d\n",
    "print(a, b, c)"
   ]
  },
  {
   "cell_type": "markdown",
   "id": "2a4c5afd-654c-475b-9eb1-634c1b542b93",
   "metadata": {},
   "source": [
    "But not for sets!"
   ]
  },
  {
   "cell_type": "code",
   "execution_count": 104,
   "id": "40e71b7d-07f1-44f9-8210-aa5860347abf",
   "metadata": {},
   "outputs": [
    {
     "name": "stdout",
     "output_type": "stream",
     "text": [
      "h p n y o t\n"
     ]
    }
   ],
   "source": [
    "s = {'p', 'y', 't', 'h', 'o', 'n'}\n",
    "a, b, c, d, e, f  =s\n",
    "print(a, b, c, d, e, f)"
   ]
  },
  {
   "cell_type": "markdown",
   "id": "0db7c61c-f6fb-4bb1-938d-5c0d70696993",
   "metadata": {},
   "source": [
    "# 03 - Extended Unpacking"
   ]
  },
  {
   "cell_type": "markdown",
   "id": "4b25cf66-76f3-4ba5-9fdf-91152a701efe",
   "metadata": {},
   "source": [
    "**Single star operator `*`**"
   ]
  },
  {
   "cell_type": "markdown",
   "id": "0c06f7e4-99c5-4e88-bca1-f3393fe7b3f3",
   "metadata": {},
   "source": [
    "If we don't want to unpack every single item in an iterable, we can assign the remaining variables to a list using `*` ; even if we unpack a tuple, the remainder is unpacked into a list. \\\n",
    "The two ways we can do it are:"
   ]
  },
  {
   "cell_type": "code",
   "execution_count": 105,
   "id": "3ed87f6e-c782-4ada-8718-8306f6ada2db",
   "metadata": {},
   "outputs": [
    {
     "name": "stdout",
     "output_type": "stream",
     "text": [
      "1 [2, 3, 4, 5, 6]\n",
      "1 [2, 3, 4, 5, 6]\n"
     ]
    }
   ],
   "source": [
    "list1 = [1, 2, 3, 4, 5, 6]\n",
    "list2 = [1, 2, 3, 4, 5, 6]\n",
    "\n",
    "a, b = list1[0], list1[1:]\n",
    "c, *d = list2\n",
    "\n",
    "print(a, b)\n",
    "print(c, d)"
   ]
  },
  {
   "cell_type": "markdown",
   "id": "6f56d81a-6bc0-4dca-a0ab-4897511d4a68",
   "metadata": {},
   "source": [
    "The second way is good because it works with **any iterable**, not just sequence types"
   ]
  },
  {
   "cell_type": "code",
   "execution_count": 106,
   "id": "6f2e70db-8674-4e8e-b32e-2d91569d56f5",
   "metadata": {},
   "outputs": [
    {
     "name": "stdout",
     "output_type": "stream",
     "text": [
      "X ['Y', 'Z']\n"
     ]
    }
   ],
   "source": [
    "a, *b = 'XYZ'\n",
    "print(a, b)"
   ]
  },
  {
   "cell_type": "markdown",
   "id": "cd2c97d4-fbd0-4a46-a282-62c00694fd75",
   "metadata": {},
   "source": [
    "This also allows a shorthand for unpacking a string into a list without using the `list()` constructor:"
   ]
  },
  {
   "cell_type": "code",
   "execution_count": 107,
   "id": "c55fa5ae-e1c8-4064-ad6f-81a5612b1a82",
   "metadata": {},
   "outputs": [
    {
     "name": "stdout",
     "output_type": "stream",
     "text": [
      "['W', 'X', 'Y', 'Z']\n"
     ]
    }
   ],
   "source": [
    "*a, = 'WXYZ'\n",
    "print(a)"
   ]
  },
  {
   "cell_type": "markdown",
   "id": "ef4eae22-536c-416c-94c9-44435e77b065",
   "metadata": {},
   "source": [
    "We can even have `*` in the middle of unpacking."
   ]
  },
  {
   "cell_type": "code",
   "execution_count": 108,
   "id": "2fbda864-433b-4493-b8df-4ef73eb35674",
   "metadata": {},
   "outputs": [
    {
     "name": "stdout",
     "output_type": "stream",
     "text": [
      "1 2 [3, 4] 5\n"
     ]
    }
   ],
   "source": [
    "a, b, *c, d = [1, 2, 3, 4, 5]\n",
    "print(a, b, c, d)"
   ]
  },
  {
   "cell_type": "markdown",
   "id": "ba99c297-c081-44a2-aa45-b871a5377318",
   "metadata": {},
   "source": [
    "We can also unpack on the right hand side. If we want to empty the contents of two lists into a larger list without nesting lists, we can write:"
   ]
  },
  {
   "cell_type": "code",
   "execution_count": 109,
   "id": "6377bf75-f48c-4c82-83d1-b7756526e0e1",
   "metadata": {},
   "outputs": [
    {
     "name": "stdout",
     "output_type": "stream",
     "text": [
      "[1, 2, 3, 4, 5, 6]\n"
     ]
    }
   ],
   "source": [
    "list1 = [1, 2, 3]\n",
    "list2 = [4, 5, 6]\n",
    "l = [*list1, *list2]\n",
    "print(l)"
   ]
  },
  {
   "cell_type": "markdown",
   "id": "f7c994a6-5406-4636-8a19-b4bf8ec27258",
   "metadata": {},
   "source": [
    "We can unpack dictionaries with `*` on the LHS and RHS, but remember, when we iterate through a dictionary, we iterate through the keys only, so those are the variables that are unpacked."
   ]
  },
  {
   "cell_type": "code",
   "execution_count": 110,
   "id": "cf9ffa7d-eb1a-4e7a-94b7-307fa151427c",
   "metadata": {},
   "outputs": [
    {
     "name": "stdout",
     "output_type": "stream",
     "text": [
      "['p', 'y', 't', 'h', 'o', 'n']\n"
     ]
    }
   ],
   "source": [
    "d1 = {'p': 1, 'y': 2}\n",
    "d2 = {'t': 3, 'h':4, 'o':5, 'n':6}\n",
    "\n",
    "l = [*d1, *d2]\n",
    "print(l)"
   ]
  },
  {
   "cell_type": "markdown",
   "id": "582b9cec-71ff-4eaa-97e1-6ce0cb8c4b70",
   "metadata": {},
   "source": [
    "The `*` operator is very useful for converting a list or tuple into comma-separated arguments."
   ]
  },
  {
   "cell_type": "code",
   "execution_count": 2,
   "id": "a792c6d4-135d-4000-91bc-4ba5ae7ad18b",
   "metadata": {},
   "outputs": [
    {
     "name": "stdout",
     "output_type": "stream",
     "text": [
      "('f', 'f', 'f')\n",
      "('l', 'l', 'l')\n",
      "('o', 'o', 'e')\n",
      "('w', 'o', 'e')\n"
     ]
    }
   ],
   "source": [
    "my_list = ['flower', 'flood', 'flee']\n",
    "\n",
    "for i in zip(*my_list): # identical to zip('flower', 'flood', 'flee')\n",
    "    print(i)"
   ]
  },
  {
   "cell_type": "markdown",
   "id": "913c1c6a-26b0-48c7-a772-1a0ecf6bb9fa",
   "metadata": {},
   "source": [
    "Remember, strings are iterables so zipping allows us to take the first element of each argument in the zip and pack it in a tuple. Then the second element etc. "
   ]
  },
  {
   "cell_type": "markdown",
   "id": "9cca7dc6-e496-49d9-b347-b8c3ddbc0790",
   "metadata": {},
   "source": [
    "**Double star operator `**`**"
   ]
  },
  {
   "cell_type": "markdown",
   "id": "11a016d3-a3c4-4036-baed-80d9c426b2ee",
   "metadata": {},
   "source": [
    "If we want to unpack the keys and values, we can use the `**` operator. This is useful for merging dictionaries. If a key is repeated, then the last unpacking will take precedence (see `'h'` below):"
   ]
  },
  {
   "cell_type": "code",
   "execution_count": 111,
   "id": "b8239762-36b7-494d-9e13-52268e742b2a",
   "metadata": {},
   "outputs": [
    {
     "name": "stdout",
     "output_type": "stream",
     "text": [
      "{'p': 1, 'y': 2, 't': 3, 'h': 5, 'o': 6, 'n': 7}\n"
     ]
    }
   ],
   "source": [
    "d1 = {'p': 1, 'y': 2}\n",
    "d2 = {'t': 3, 'h':4}\n",
    "d3 = {'h': 5, 'o':6, 'n':7}\n",
    "\n",
    "d = {**d1, **d2, **d3}\n",
    "print(d)\n"
   ]
  },
  {
   "cell_type": "markdown",
   "id": "07d11713-e821-4694-bdd9-f5b5474a1fe7",
   "metadata": {},
   "source": [
    "So, if we had a dictionary with 20 keys and we wanted to update 5 of them, we could just create a dictionary with the 5 and merge it with the first dictionary."
   ]
  },
  {
   "cell_type": "code",
   "execution_count": 112,
   "id": "83cb1ac2-c40a-4b4a-8e7b-c2bea1aede39",
   "metadata": {},
   "outputs": [
    {
     "name": "stdout",
     "output_type": "stream",
     "text": [
      "{'a': 5, 'b': 2, 'c': 7}\n"
     ]
    }
   ],
   "source": [
    "to_be_merged = {'a':5, 'c':7}\n",
    "big_dictionary = {'a':1, 'b':2, 'c':3, **to_be_merged}\n",
    "print(big_dictionary)"
   ]
  },
  {
   "cell_type": "markdown",
   "id": "0089030c-4fdf-4d66-afbf-8ef6f5fd84aa",
   "metadata": {},
   "source": [
    "**Nested unpacking**"
   ]
  },
  {
   "cell_type": "markdown",
   "id": "0a897d67-dbe8-455e-8888-27e6090c26b7",
   "metadata": {},
   "source": [
    "if we had `l = [1, 2, [3, 4]]`, how would we unpack everything into individual variables? Using the tuple way:"
   ]
  },
  {
   "cell_type": "code",
   "execution_count": 113,
   "id": "5561b93c-a8aa-4b38-b1ac-a4404d6b65d3",
   "metadata": {},
   "outputs": [],
   "source": [
    "l = [1, 2, [3, 4]]"
   ]
  },
  {
   "cell_type": "code",
   "execution_count": 114,
   "id": "ab2fe597-77eb-4a58-981d-5b2cc757763a",
   "metadata": {},
   "outputs": [
    {
     "name": "stdout",
     "output_type": "stream",
     "text": [
      "1 2 3 4\n"
     ]
    }
   ],
   "source": [
    "a, b, (c, d) = l  # To make it easier to see, you can replace [3,4] with x and (c, d) with x\n",
    "print(a, b, c, d)"
   ]
  },
  {
   "cell_type": "markdown",
   "id": "f97e5ccb-301b-40d5-80ff-7eacf5da4678",
   "metadata": {},
   "source": [
    "Although we said we can't use `*` twice on LHS, we can if the `*` are at different nesting levels:"
   ]
  },
  {
   "cell_type": "code",
   "execution_count": 115,
   "id": "615f834a-ee8e-4e07-b8df-68f2c38c7bc8",
   "metadata": {},
   "outputs": [
    {
     "name": "stdout",
     "output_type": "stream",
     "text": [
      "1 [2, 3] p ['y', 't', 'h', 'o', 'n']\n"
     ]
    }
   ],
   "source": [
    "a, *b, (c, *d) = [1, 2, 3, 'python']\n",
    "print(a, b, c, d)\n",
    "# Note (c, *d) can be understood as: c, *d = 'python'.\n"
   ]
  },
  {
   "cell_type": "markdown",
   "id": "57d0c4e1-db3e-464f-888f-947c7d827b75",
   "metadata": {},
   "source": [
    "# 04 - Star-Args "
   ]
  },
  {
   "cell_type": "markdown",
   "id": "286808dd-7959-4801-afe4-a33622880f63",
   "metadata": {},
   "source": [
    "A similar thing can be done with positional arguments that are passed to a function.\\\n",
    "**One key difference is that the `*` unpacks to a tuple and *not* a list**"
   ]
  },
  {
   "cell_type": "code",
   "execution_count": 116,
   "id": "189611f4-3338-4b7f-b752-f06a79546b08",
   "metadata": {},
   "outputs": [
    {
     "data": {
      "text/plain": [
       "(1, 2, 3, 'a', 'b')"
      ]
     },
     "execution_count": 116,
     "metadata": {},
     "output_type": "execute_result"
    }
   ],
   "source": [
    "def func1(a, b, *c): # It is convention to write *args instead of *c.\n",
    "    return c\n",
    "\n",
    "func1(20, 10, 1, 2, 3, 'a', 'b')"
   ]
  },
  {
   "cell_type": "markdown",
   "id": "18e8024a-3121-4310-a454-c0045d600c41",
   "metadata": {},
   "source": [
    "One inconsistency with the above unpacking is that we can't have positional arguments after `*args`:"
   ]
  },
  {
   "cell_type": "code",
   "execution_count": 117,
   "id": "d3136d71-589f-46ec-999e-779466349d4f",
   "metadata": {},
   "outputs": [
    {
     "ename": "TypeError",
     "evalue": "func() missing 1 required keyword-only argument: 'd'",
     "output_type": "error",
     "traceback": [
      "\u001b[0;31m---------------------------------------------------------------------------\u001b[0m",
      "\u001b[0;31mTypeError\u001b[0m                                 Traceback (most recent call last)",
      "\u001b[0;32m/tmp/ipykernel_4148/406662690.py\u001b[0m in \u001b[0;36m<module>\u001b[0;34m\u001b[0m\n\u001b[1;32m      2\u001b[0m     \u001b[0mprint\u001b[0m \u001b[0;34m(\u001b[0m\u001b[0margs\u001b[0m\u001b[0;34m)\u001b[0m\u001b[0;34m\u001b[0m\u001b[0;34m\u001b[0m\u001b[0m\n\u001b[1;32m      3\u001b[0m \u001b[0;34m\u001b[0m\u001b[0m\n\u001b[0;32m----> 4\u001b[0;31m \u001b[0mfunc\u001b[0m\u001b[0;34m(\u001b[0m\u001b[0;36m1\u001b[0m\u001b[0;34m,\u001b[0m \u001b[0;36m2\u001b[0m\u001b[0;34m,\u001b[0m \u001b[0;36m3\u001b[0m\u001b[0;34m,\u001b[0m \u001b[0;36m4\u001b[0m\u001b[0;34m,\u001b[0m \u001b[0;36m5\u001b[0m\u001b[0;34m,\u001b[0m \u001b[0md\u001b[0m\u001b[0;34m)\u001b[0m \u001b[0;31m# but will work if d=6 used instead, because it comes after *, therefore, it is mandatory.\u001b[0m\u001b[0;34m\u001b[0m\u001b[0;34m\u001b[0m\u001b[0m\n\u001b[0m",
      "\u001b[0;31mTypeError\u001b[0m: func() missing 1 required keyword-only argument: 'd'"
     ]
    }
   ],
   "source": [
    "def func(a, b, *args, d):\n",
    "    print (args)\n",
    "\n",
    "func(1, 2, 3, 4, 5, d) # but will work if d=6 used instead, because it comes after *, therefore, it is mandatory."
   ]
  },
  {
   "cell_type": "markdown",
   "id": "3f251688-3482-4ef1-8d22-686c18874a3c",
   "metadata": {},
   "source": [
    "Unless d is called by a keyword argument `d=6`."
   ]
  },
  {
   "cell_type": "markdown",
   "id": "f3325ace-c9c5-4c4c-9e40-f0d8820f0472",
   "metadata": {},
   "source": [
    "**Unpacking arguments** \\\n",
    "If we have a list `l = [10, 20, 30]` and we want to pass each value of that list to three separate parameters, we can use unpacking."
   ]
  },
  {
   "cell_type": "code",
   "execution_count": 118,
   "id": "a528cca2-308f-4a7c-b79c-9e05bdf25a58",
   "metadata": {},
   "outputs": [
    {
     "name": "stdout",
     "output_type": "stream",
     "text": [
      "10 20 30\n"
     ]
    }
   ],
   "source": [
    "l = [10, 20, 30]\n",
    "\n",
    "def func1(a, b, c):\n",
    "    print(a, b, c)\n",
    "    \n",
    "func1(*l)"
   ]
  },
  {
   "cell_type": "markdown",
   "id": "a6eb223d-a085-4c51-b544-68152d9e2860",
   "metadata": {},
   "source": [
    "# 05 - Keyword Arguments"
   ]
  },
  {
   "cell_type": "markdown",
   "id": "6a46f596-c291-4b84-a88d-f14dd92da3c7",
   "metadata": {},
   "source": [
    "When it came to passing arguments, it was entirely up to the user whether they wanted to use positional or keyword arguments. But what if wanted **mandatory keyword arguments**? \\\n",
    "To do so, we need to make sure that we've exhausted all the positional parameters first."
   ]
  },
  {
   "cell_type": "code",
   "execution_count": 119,
   "id": "0ce85911-c1a4-42d8-91db-8f8c4b477258",
   "metadata": {},
   "outputs": [],
   "source": [
    "def func(a, b, *args, d):\n",
    "    pass"
   ]
  },
  {
   "cell_type": "markdown",
   "id": "ff1921b5-0233-44f8-8707-f63bbd7d6be1",
   "metadata": {},
   "source": [
    "Here, the first two arguments passed will be set to `a` and `b`, respectively. The remainder of the args will be stored in the `args` tuple, and finally, d is a keyword argument that **must** be specified.\n",
    "\n",
    "We can actually force no positional arguments using just `*`: The * indicates to python that this is the \"end\" of positional arguments; everything after will be keyword arguments. Since there are no args before that, we effectively have no positional arguments.\n",
    "\n",
    "If we have 2 parameters followed by * which is followed by `N` keyword parameters, then we **must** pass exactly 2 positional arguments and exactly `N` keyword arguments."
   ]
  },
  {
   "cell_type": "code",
   "execution_count": 120,
   "id": "0e8281b7-6558-42a4-a727-2485a53eb560",
   "metadata": {},
   "outputs": [
    {
     "name": "stdout",
     "output_type": "stream",
     "text": [
      "5 10\n"
     ]
    }
   ],
   "source": [
    "def func(*, kw1, kw2): # * indicates the \"end\" of positional arguments\n",
    "    print(kw1, kw2)\n",
    "\n",
    "#func(5, 10, 15) # Fails: TypeError: func() takes 0 positional arguments but 3 were given\n",
    "#func(kw1=5)     # Fails: TypeError: func() missing 1 required keyword-only argument: 'kw2'\n",
    "func(kw1=5, kw2=10)"
   ]
  },
  {
   "cell_type": "code",
   "execution_count": 121,
   "id": "33636956-99ca-412d-bcd7-393cbcaa948b",
   "metadata": {},
   "outputs": [
    {
     "name": "stdout",
     "output_type": "stream",
     "text": [
      "5 10\n"
     ]
    }
   ],
   "source": [
    "def func(a, *, kw1, kw2): # * indicates the \"end\" of positional arguments\n",
    "    print(kw1, kw2)\n",
    "\n",
    "# func(kw1=5, kw2=10) # Fails: TypeError: func() missing 1 required positional argument: 'a'\n",
    "func(5, kw1=5, kw2=10)"
   ]
  },
  {
   "cell_type": "markdown",
   "id": "6f8ce310-d073-47b7-8bce-d41602582a19",
   "metadata": {},
   "source": [
    "Don't think that using keyword arguments will solve any positional related issues. Sometimes you must use a positional argument than a keyword. In the below, we have passed a keyword argument `a=2`, but then followed it with positional arguments - this is **not allowed**.\n",
    "\n",
    "To fix it, replace `a=2` with `2`."
   ]
  },
  {
   "cell_type": "code",
   "execution_count": 122,
   "id": "41840f20-726e-494a-8aa4-d1cff721780d",
   "metadata": {},
   "outputs": [
    {
     "ename": "SyntaxError",
     "evalue": "positional argument follows keyword argument (3384403498.py, line 4)",
     "output_type": "error",
     "traceback": [
      "\u001b[0;36m  File \u001b[0;32m\"/tmp/ipykernel_4148/3384403498.py\"\u001b[0;36m, line \u001b[0;32m4\u001b[0m\n\u001b[0;31m    func(a=2, 5, 10 , 15, d=2)\u001b[0m\n\u001b[0m                             ^\u001b[0m\n\u001b[0;31mSyntaxError\u001b[0m\u001b[0;31m:\u001b[0m positional argument follows keyword argument\n"
     ]
    }
   ],
   "source": [
    "def func(a, b=1, *args, d, e=True):\n",
    "    print(args)\n",
    "    \n",
    "func(a=2, 5, 10 , 15, d=2)"
   ]
  },
  {
   "cell_type": "code",
   "execution_count": 123,
   "id": "a75edf24-165c-42ab-bd8f-9cea5292ed3a",
   "metadata": {},
   "outputs": [
    {
     "ename": "TypeError",
     "evalue": "func() got an unexpected keyword argument 'd'",
     "output_type": "error",
     "traceback": [
      "\u001b[0;31m---------------------------------------------------------------------------\u001b[0m",
      "\u001b[0;31mTypeError\u001b[0m                                 Traceback (most recent call last)",
      "\u001b[0;32m/tmp/ipykernel_4148/913379343.py\u001b[0m in \u001b[0;36m<module>\u001b[0;34m\u001b[0m\n\u001b[0;32m----> 1\u001b[0;31m \u001b[0mfunc\u001b[0m\u001b[0;34m(\u001b[0m\u001b[0;36m2\u001b[0m\u001b[0;34m,\u001b[0m \u001b[0;36m5\u001b[0m\u001b[0;34m,\u001b[0m \u001b[0;36m10\u001b[0m \u001b[0;34m,\u001b[0m \u001b[0;36m15\u001b[0m\u001b[0;34m,\u001b[0m \u001b[0md\u001b[0m\u001b[0;34m=\u001b[0m\u001b[0;36m2\u001b[0m\u001b[0;34m)\u001b[0m\u001b[0;34m\u001b[0m\u001b[0;34m\u001b[0m\u001b[0m\n\u001b[0m",
      "\u001b[0;31mTypeError\u001b[0m: func() got an unexpected keyword argument 'd'"
     ]
    }
   ],
   "source": [
    "func(2, 5, 10 , 15, d=2)"
   ]
  },
  {
   "cell_type": "markdown",
   "id": "57fd0131-dfd0-4265-89cd-0f4cd3a39d40",
   "metadata": {},
   "source": [
    "**Important**: If you want to use a specific keyword argument, you **must** use `*` or `*args` to exhaust the positional arguments. In the below, it may look like a keyword argument but it is not; we can call it without its keyword; it is infact a positional argument with a default value."
   ]
  },
  {
   "cell_type": "code",
   "execution_count": 124,
   "id": "ca9b0f1f-b289-472a-b892-0450ede0d1fe",
   "metadata": {},
   "outputs": [
    {
     "name": "stdout",
     "output_type": "stream",
     "text": [
      "1 2 3\n"
     ]
    }
   ],
   "source": [
    "def  func(a, b, not_keyword_arg=10):\n",
    "    print(a, b, not_keyword_arg)\n",
    "\n",
    "func(1, 2, 3)"
   ]
  },
  {
   "cell_type": "markdown",
   "id": "a0c8d294-99ca-4f79-ad21-2e045accf948",
   "metadata": {},
   "source": [
    "Whenever you see `*args` it's good to think of it as a thing that scoops up all other arguments."
   ]
  },
  {
   "cell_type": "code",
   "execution_count": 125,
   "id": "2e5525d2-7be2-4b92-99b7-766480fbe3ff",
   "metadata": {},
   "outputs": [
    {
     "ename": "TypeError",
     "evalue": "func1() missing 1 required keyword-only argument: 'd'",
     "output_type": "error",
     "traceback": [
      "\u001b[0;31m---------------------------------------------------------------------------\u001b[0m",
      "\u001b[0;31mTypeError\u001b[0m                                 Traceback (most recent call last)",
      "\u001b[0;32m/tmp/ipykernel_4148/943018214.py\u001b[0m in \u001b[0;36m<module>\u001b[0;34m\u001b[0m\n\u001b[1;32m      2\u001b[0m     \u001b[0mprint\u001b[0m\u001b[0;34m(\u001b[0m\u001b[0ma\u001b[0m\u001b[0;34m,\u001b[0m \u001b[0mb\u001b[0m\u001b[0;34m,\u001b[0m \u001b[0margs\u001b[0m\u001b[0;34m,\u001b[0m \u001b[0md\u001b[0m\u001b[0;34m)\u001b[0m\u001b[0;34m\u001b[0m\u001b[0;34m\u001b[0m\u001b[0m\n\u001b[1;32m      3\u001b[0m \u001b[0;34m\u001b[0m\u001b[0m\n\u001b[0;32m----> 4\u001b[0;31m \u001b[0mfunc1\u001b[0m\u001b[0;34m(\u001b[0m\u001b[0;36m1\u001b[0m\u001b[0;34m,\u001b[0m \u001b[0;36m2\u001b[0m\u001b[0;34m,\u001b[0m \u001b[0;36m3\u001b[0m\u001b[0;34m,\u001b[0m \u001b[0;36m4\u001b[0m\u001b[0;34m,\u001b[0m \u001b[0;36m5\u001b[0m\u001b[0;34m)\u001b[0m\u001b[0;34m\u001b[0m\u001b[0;34m\u001b[0m\u001b[0m\n\u001b[0m",
      "\u001b[0;31mTypeError\u001b[0m: func1() missing 1 required keyword-only argument: 'd'"
     ]
    }
   ],
   "source": [
    "def func1(a, b, *args, d):\n",
    "    print(a, b, args, d)\n",
    "    \n",
    "func1(1, 2, 3, 4, 5)"
   ]
  },
  {
   "cell_type": "markdown",
   "id": "87d62e5b-3d94-4733-b6df-befbd450aaef",
   "metadata": {},
   "source": [
    "A good way to think about it is that python first assigns `a` and `b` to `1` and `2`. Then, it sees `*args` and it scoops up the remaining `3, 4` and `5`. So, it didn't find `d`. The only way we solve this is by specifying that `d=5`, i.e., to use a keyword argument."
   ]
  },
  {
   "cell_type": "markdown",
   "id": "d93313fd-4af4-49f6-af4a-834bd5448ae7",
   "metadata": {},
   "source": [
    "Remember when we said that if you set a default parameter, then all parameters after that have to be specified? That is not actually true if we use `*args`.\\\n",
    "**Also, note that `e` below is *not* a positional argument. It is a keyword argument, but we don't need to specify a default value. We just need to specify a value when we call it.**"
   ]
  },
  {
   "cell_type": "code",
   "execution_count": 126,
   "id": "d499eb05-0eba-4695-8290-3c092e1317a9",
   "metadata": {},
   "outputs": [
    {
     "name": "stdout",
     "output_type": "stream",
     "text": [
      "1 2 (3, 4, 5) 2 10\n"
     ]
    }
   ],
   "source": [
    "def func(a, b=20, *args, d=0, e): \n",
    "    print(a, b, args, d, e)\n",
    "    \n",
    "func(1, 2, 3, 4, 5, d=2, e=10) # we didnt have to specify arguments after 'b' because all remaining arguments will be shoved into 'args'"
   ]
  },
  {
   "cell_type": "markdown",
   "id": "aebe5b55-5830-4579-af39-e14c7346184f",
   "metadata": {},
   "source": [
    "# 06 - Kwargs"
   ]
  },
  {
   "cell_type": "markdown",
   "id": "21160d51-486a-4c3d-9fdc-411ff3b20086",
   "metadata": {},
   "source": [
    "We saw that you can scoop up all remaining positional arguments. Is there an equivalent counterpart for keyword arguments? Yes, it's called `**kwargs`, though that name is just convention. \n",
    "Here's some details:\n",
    "- All remainings kwargs are scooped up into a dictionary.\n",
    "- `**kwargs` can be specified even if the positional arguments have **not** been exhausted.\n",
    "- No parameters can come after `**kwargs`.\n",
    "\n",
    "Here's an example."
   ]
  },
  {
   "cell_type": "code",
   "execution_count": 127,
   "id": "b8896d51-ff0f-45db-90a9-29eb2941ee99",
   "metadata": {},
   "outputs": [
    {
     "name": "stdout",
     "output_type": "stream",
     "text": [
      "(1, 2, 3)\n",
      "{'d': 4, 'e': 5, 'f': 6}\n"
     ]
    }
   ],
   "source": [
    "def func(*args, **kwargs):\n",
    "    print(args)\n",
    "    print(kwargs)\n",
    "\n",
    "func(1, 2, 3, d=4, e=5, f=6)"
   ]
  },
  {
   "cell_type": "markdown",
   "id": "494fbb55-f7f5-4e1c-bbe4-2f23f27e2dba",
   "metadata": {},
   "source": [
    "If we want a named keyword argument as well as the scooper, then we will have to use the * stopper. Let's say we want `d` to be a named keyword argument:"
   ]
  },
  {
   "cell_type": "code",
   "execution_count": 128,
   "id": "49a9f835-2109-473d-824f-6d44144e79b0",
   "metadata": {},
   "outputs": [
    {
     "name": "stdout",
     "output_type": "stream",
     "text": [
      "1 2 5 {'x': 10, 'y': 20}\n"
     ]
    }
   ],
   "source": [
    "def func(a, b, *, d, **kwargs):\n",
    "    print(a, b, d, kwargs)\n",
    "    \n",
    "func(1, 2, x=10, y=20, d=5) # d must be specified, otherwise error."
   ]
  },
  {
   "cell_type": "markdown",
   "id": "dc760faa-84e4-4ba3-8e3f-8a5178634237",
   "metadata": {},
   "source": [
    "# 07 - Putting it all Together "
   ]
  },
  {
   "cell_type": "markdown",
   "id": "91f714f5-c9a5-4acb-9937-4d331175e3c9",
   "metadata": {},
   "source": [
    "Let's take a look at python's `print()` function.\n",
    "\n",
    "`print(*objects, sep='', end='\\n', file=sys.stdout, flush=False)`\n",
    "\n",
    "The `*objects` allows us to write many comma-separated statements to be printed. Since it is a`*` type parameter, it means that everything after must be keyword arguments. In this case, all of them have default values, therefore all of them are optional."
   ]
  },
  {
   "cell_type": "markdown",
   "id": "ae8cbe0e-3354-4715-8cc8-9245db7473bb",
   "metadata": {},
   "source": [
    "Typical Use Cases\n",
    "\n",
    "Normally we use keyword-only arguments to modify the default behaviour of a function e.g."
   ]
  },
  {
   "cell_type": "code",
   "execution_count": 129,
   "id": "87773ac9-fc52-43a0-b77b-57e26c4dd06d",
   "metadata": {},
   "outputs": [],
   "source": [
    "def calc_hi_low_avg(*args, log_to_console=False):\n",
    "    high = int(bool(args)) and max(args) # If no args passed (args tuple is empty), then its falsy and we return high as bool(False) which equals 0. \n",
    "                                         # If it's truthy, we immediately return high=max(args)  \n",
    "    if log_to_console:\n",
    "        print('this is the avg: .., the high.., and the low..')"
   ]
  },
  {
   "cell_type": "markdown",
   "id": "3cbbff06-0c67-4986-ba7d-babe01805355",
   "metadata": {},
   "source": [
    "# 08 - Simple Function Timer "
   ]
  },
  {
   "cell_type": "markdown",
   "id": "63853084-a065-43cb-b33b-e0f71f20e798",
   "metadata": {},
   "source": [
    "We want to create a simple function that can time how fast a function runs.\n",
    "\n",
    "We want this function to be generic in the sense that it can be used to time any function (along with it's positional and keyword arguments), as well as specifying the number of the times the function should be timed, and the returns the average of the timings."
   ]
  },
  {
   "cell_type": "markdown",
   "id": "5ca60d90-3d9b-4961-bb52-1e78c9b25727",
   "metadata": {},
   "source": [
    "We'll call our function **time_it**, and it will need to have the following parameters:\n",
    "\n",
    "* the function we want to time\n",
    "* the positional arguments of the function we want to time (if any)\n",
    "* the keyword-only arguments of the function we want to time (if any)\n",
    "* the number of times we want to run this function"
   ]
  },
  {
   "cell_type": "markdown",
   "id": "ab4bdc07-e058-4e11-9d22-fb1f19a0146d",
   "metadata": {},
   "source": [
    "Note that in the line `fn(*args, **kwargs)`, we use `*` to unpack the args tuple and `**` to unpack the kwargs dictionary into the `fm`. If we didn't have them, then we will print out the literal tuple and dictionary, which is not what we want. \n",
    "\n",
    "**But note**: It did not change to a string - inside a function call, `*args` will unpack args into **separate positional arguments**. Normally when we've seen lines like `*b = 'longstring'`, we got back `b` as a `list`. But here, Python sees a `*` type and understands that it must be unpacked as function arguments, not as a list.\n",
    "\n",
    "We can also see that `rep=5` is a keyword argument (because it follows `*args`) and it has a default value that can be overridden. We  just need to make sure that it `rep=2` is after all positional arguments i.e. after `1, 2, 3,`."
   ]
  },
  {
   "cell_type": "code",
   "execution_count": 130,
   "id": "6aae9710-17ec-4ec5-b0f4-6fa2795bccc9",
   "metadata": {},
   "outputs": [
    {
     "name": "stdout",
     "output_type": "stream",
     "text": [
      "1-2-3\n",
      "1-2-3\n"
     ]
    },
    {
     "data": {
      "text/plain": [
       "3.7424500078486744e-05"
      ]
     },
     "execution_count": 130,
     "metadata": {},
     "output_type": "execute_result"
    }
   ],
   "source": [
    "import time\n",
    "\n",
    "def time_it(fn, *args, rep=5, **kwargs):\n",
    "    start = time.perf_counter()\n",
    "    for i in range(rep):\n",
    "        fn(*args, **kwargs)\n",
    "    end = time.perf_counter()\n",
    "    return (end - start) / rep\n",
    "        \n",
    "time_it(print, 1, 2, 3, rep=2, sep='-')"
   ]
  },
  {
   "cell_type": "markdown",
   "id": "daccb253-909e-4984-b928-d751f436b562",
   "metadata": {},
   "source": [
    "More examples e.g. using *, mandatory keyword arguments etc. can be found in the full set of notes."
   ]
  },
  {
   "cell_type": "markdown",
   "id": "e8d33eb1-8646-480c-b00c-207b7c2bc236",
   "metadata": {},
   "source": [
    "# 09 - Parameter Defaults - Beware"
   ]
  },
  {
   "cell_type": "markdown",
   "id": "02769830-2268-4f43-92ec-287f16540150",
   "metadata": {},
   "source": [
    "When we load a module, all the code is **executed**. This means that with lines like `a=10`, python creates an integer object with a memory address and then uses `a` as a reference. \n",
    "\n",
    "The same is true for functions. The function itself is not executed; rather, a function object is created in memory and referenced by a variable. If we create default parameters to that function, then those parameters are also created in memory and referenced. What this means is, when a user calls the function, the default value for the prior specified value is not re-evaluated at runtime. Instead, Python just goes looking for the reference. This means that we can call that function numerous times without having to worry about spending time to evaluate these function parameters.\n",
    "\n",
    "**But beware:** If something like datetime.now() is passed as a default parameter within the module, then when the code is executed by a user, the datetime value will refer to when that module was created as opposed to when the user executed the code."
   ]
  },
  {
   "cell_type": "markdown",
   "id": "f4043fab-f282-4341-a2b5-a50d657c357f",
   "metadata": {},
   "source": [
    "**So whats the typical solution pattern?**:\n",
    "\n",
    "We still create a default parameter called `dt` but we set it to `None`. Then, within the function, we check if `dt=None`. If so, we can update it using `dt=datetime.now()`. When the user calls the function without specifying `dt`, the `if` statement will trigger and `datetime.now()` will execute during runtime. "
   ]
  },
  {
   "cell_type": "markdown",
   "id": "03412165-0648-4b61-a998-c31a5931fb08",
   "metadata": {},
   "source": [
    "# 10 - Parameter Defaults - Beware Again"
   ]
  },
  {
   "cell_type": "markdown",
   "id": "3995514c-7ae3-4088-b2ae-d2f1e809963c",
   "metadata": {},
   "source": [
    "Another gotcha with parameter defaults comes with mutable types, and is an easy trap to fall into.\n",
    "\n",
    "Again, you have to remember that function parameter defaults are evaluated once, when the function is defined (i.e. when the module is loaded, or in this Jupyter notebook, when we \"execute\" the function definition), and not every time the function is called."
   ]
  },
  {
   "cell_type": "markdown",
   "id": "419c31eb-f10b-4e27-84de-3f59d745aedc",
   "metadata": {},
   "source": [
    "Consider the following scenario.\n",
    "\n",
    "We are creating a grocery list, and we want our list to contain consistently formatted data with name, quantity and measurement unit:\n",
    "\n",
    "``\n",
    "bananas (2 units)\n",
    "grapes (1 bunch)\n",
    "milk (1 liter)\n",
    "python (1 medium-rare)\n",
    "``"
   ]
  },
  {
   "cell_type": "code",
   "execution_count": 131,
   "id": "f2ef438d-2ba0-4bb4-b33c-34393ecc4389",
   "metadata": {},
   "outputs": [
    {
     "name": "stdout",
     "output_type": "stream",
     "text": [
      "['bananas (2 units)', 'grapes (1 bunch)']\n",
      "['python (1 medium-rare)']\n"
     ]
    }
   ],
   "source": [
    "def add_item(name, quantity, unit, grocery_list):\n",
    "    item_fmt = \"{0} ({1} {2})\".format(name, quantity, unit)\n",
    "    grocery_list.append(item_fmt)\n",
    "    return grocery_list\n",
    "\n",
    "store_1 = []\n",
    "store_2 = []\n",
    "\n",
    "add_item('bananas', 2, 'units', store_1)\n",
    "add_item('grapes', 1, 'bunch', store_1)\n",
    "add_item('python', 1, 'medium-rare', store_2)\n",
    "\n",
    "print(store_1)\n",
    "print(store_2)"
   ]
  },
  {
   "cell_type": "markdown",
   "id": "b9c3a05a-eaa6-4c13-ab2f-389ca44bc24e",
   "metadata": {},
   "source": [
    "Ok, working great. But let's make the function a little easier to use - if the user does not supply an existing grocery list to append the item to, let's just go ahead and default our `grocery_list` to an empty list hence starting a new shopping list:"
   ]
  },
  {
   "cell_type": "code",
   "execution_count": 132,
   "id": "95c8e036-7242-4b46-9760-04f958244e6d",
   "metadata": {},
   "outputs": [
    {
     "name": "stdout",
     "output_type": "stream",
     "text": [
      "['bananas (2 units)', 'grapes (1 bunch)']\n"
     ]
    }
   ],
   "source": [
    "def add_item(name, quantity, unit, grocery_list=[]):\n",
    "    item_fmt = \"{0} ({1} {2})\".format(name, quantity, unit)\n",
    "    grocery_list.append(item_fmt)\n",
    "    return grocery_list\n",
    "\n",
    "store_1 = add_item('bananas', 2, 'units')\n",
    "add_item('grapes', 1, 'bunch', store_1)\n",
    "\n",
    "print(store_1)"
   ]
  },
  {
   "cell_type": "markdown",
   "id": "417cf25b-b392-4471-a360-876d40ccd147",
   "metadata": {},
   "source": [
    "OK, so that seems to be working as expected.\n",
    "\n",
    "Let's start our second list:"
   ]
  },
  {
   "cell_type": "code",
   "execution_count": 133,
   "id": "ee18be58-1309-407d-9d83-522776181a15",
   "metadata": {},
   "outputs": [
    {
     "name": "stdout",
     "output_type": "stream",
     "text": [
      "['bananas (2 units)', 'grapes (1 bunch)', 'milk (1 gallon)']\n"
     ]
    }
   ],
   "source": [
    "store_2 = add_item('milk', 1, 'gallon')\n",
    "print(store_2)"
   ]
  },
  {
   "cell_type": "markdown",
   "id": "03f28302-8bc8-4ad7-b92f-1453268de151",
   "metadata": {},
   "source": [
    "??? What's going on? Our second list somehow contains the items that are in the first list.\n",
    "\n",
    "What happened is that the returned value in the first call we made was the default grocery list - but remember that the list was created once and for all when the function was **created** not called. So everytime we call the function, that is the **same** list being used as the default (same memory address).\n",
    "\n",
    "When we started out first list, we were adding item to that default list.\n",
    "\n",
    "When we started our second list, we were adding items to the **same** default list (since it is the same object)."
   ]
  },
  {
   "cell_type": "code",
   "execution_count": 134,
   "id": "b5b369bd-53ae-460f-ac82-8107a174803b",
   "metadata": {},
   "outputs": [
    {
     "data": {
      "text/plain": [
       "True"
      ]
     },
     "execution_count": 134,
     "metadata": {},
     "output_type": "execute_result"
    }
   ],
   "source": [
    "store_1 == store_2"
   ]
  },
  {
   "cell_type": "markdown",
   "id": "68cebbb7-4cc3-4304-afde-1885ba6839ee",
   "metadata": {},
   "source": [
    "We can avoid this problem using the same pattern as in the previous example we had with the default date time value. We use None as a default value instead, and generate a new empty list (hence starting a new list) if none was provided."
   ]
  },
  {
   "cell_type": "code",
   "execution_count": 135,
   "id": "7180cdf9-b585-4bb7-9e40-594f5219488e",
   "metadata": {},
   "outputs": [
    {
     "name": "stdout",
     "output_type": "stream",
     "text": [
      "['bananas (2 units)', 'grapes (1 bunch)']\n",
      "['milk (1 gallon)']\n"
     ]
    }
   ],
   "source": [
    "def add_item(name, quantity, unit, grocery_list=None):\n",
    "    if not grocery_list:\n",
    "        grocery_list = []\n",
    "    item_fmt = \"{0} ({1} {2})\".format(name, quantity, unit)\n",
    "    grocery_list.append(item_fmt)\n",
    "    return grocery_list\n",
    "\n",
    "store_1 = add_item('bananas', 2, 'units')\n",
    "add_item('grapes', 1, 'bunch', store_1)\n",
    "\n",
    "store_2 = add_item('milk', 1, 'gallon')\n",
    "\n",
    "print(store_1)\n",
    "print(store_2)"
   ]
  },
  {
   "cell_type": "markdown",
   "id": "a16758ba-55d4-4bce-91a8-c373efeca49e",
   "metadata": {},
   "source": [
    "We can actually take advantage of this mutability. In the following example, we have a default argument called cache and thus is created when the function object is created and referenced to a memory address."
   ]
  },
  {
   "cell_type": "code",
   "execution_count": 136,
   "id": "f6e083b8-51e6-46b4-befd-aa907c87c8f5",
   "metadata": {},
   "outputs": [],
   "source": [
    "def factorial(n, cache={}):\n",
    "    if n < 1:\n",
    "        return 1\n",
    "    elif n in cache:\n",
    "        return cache[n]\n",
    "    else:\n",
    "        print('calculating {0}!'.format(n))\n",
    "        result = n * factorial(n-1)\n",
    "        cache[n] = result\n",
    "        return result"
   ]
  },
  {
   "cell_type": "markdown",
   "id": "44e6b8b9-df84-41ca-8ed8-542ff941b96f",
   "metadata": {},
   "source": [
    "Now, during runtime of this function call below, this cache is being updated with each recursion of the function call. The cache is now permanently updated somewhere in memory, containing a set of keys named 1, 2, 3, 4 and 5, with labels equivalent to their factorial. "
   ]
  },
  {
   "cell_type": "code",
   "execution_count": 137,
   "id": "310be401-c62a-4ce1-be7a-5487d86f8f7b",
   "metadata": {},
   "outputs": [
    {
     "name": "stdout",
     "output_type": "stream",
     "text": [
      "calculating 5!\n",
      "calculating 4!\n",
      "calculating 3!\n",
      "calculating 2!\n",
      "calculating 1!\n",
      "120\n"
     ]
    }
   ],
   "source": [
    "print(factorial(5))"
   ]
  },
  {
   "cell_type": "markdown",
   "id": "bde300f2-6423-4f0c-ab58-9d7a308d8c01",
   "metadata": {},
   "source": [
    "When we call this function again, we don't even use recursion. We go through the `elif` statement and just look for the key named `5`. It will have a value equal to 120."
   ]
  },
  {
   "cell_type": "code",
   "execution_count": 138,
   "id": "14d301fe-2604-435b-993e-2b7ae722cd68",
   "metadata": {},
   "outputs": [
    {
     "name": "stdout",
     "output_type": "stream",
     "text": [
      "120\n"
     ]
    }
   ],
   "source": [
    "print(factorial(5))"
   ]
  },
  {
   "cell_type": "markdown",
   "id": "a93ea29f-ea6a-459f-9a5d-74694bd1b073",
   "metadata": {},
   "source": [
    "This pattern is called **memoisation**.\n",
    "\n",
    "While this seems extremely elegant, it is not recommended since it requires more precaution as we're dealing with mutables. Also, there's a far more general and elegant way of doing this using decorators and closures."
   ]
  }
 ],
 "metadata": {
  "kernelspec": {
   "display_name": "Python 3 (ipykernel)",
   "language": "python",
   "name": "python3"
  },
  "language_info": {
   "codemirror_mode": {
    "name": "ipython",
    "version": 3
   },
   "file_extension": ".py",
   "mimetype": "text/x-python",
   "name": "python",
   "nbconvert_exporter": "python",
   "pygments_lexer": "ipython3",
   "version": "3.10.6"
  }
 },
 "nbformat": 4,
 "nbformat_minor": 5
}
