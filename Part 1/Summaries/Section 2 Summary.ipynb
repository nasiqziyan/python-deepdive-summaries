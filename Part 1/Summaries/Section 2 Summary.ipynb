{
 "cells": [
  {
   "cell_type": "markdown",
   "id": "e0d43ec5-da3e-4bc7-b47d-f97958cd75d8",
   "metadata": {},
   "source": [
    "# 01 - Multiline statements"
   ]
  },
  {
   "cell_type": "markdown",
   "id": "60ed0ead-c6fa-4c33-9fbe-10e4371b4e2f",
   "metadata": {},
   "source": [
    "multi-line strings are **not** comments - they are real strings and, unlike comments, are part of your compiled code. They are however sometimes used to create comments, such as ``docstrings``.\n",
    "\n",
    "Comments are thrown out by the compiler but multiline strings are kept, even if the multiline strings are used as docstrings in your code**"
   ]
  },
  {
   "cell_type": "markdown",
   "id": "f5f1a766-db15-4df4-b718-cc276c96b437",
   "metadata": {},
   "source": [
    "# 02 - Conditionals"
   ]
  },
  {
   "cell_type": "markdown",
   "id": "41870c8b-7e14-4f47-8390-b06654e849c8",
   "metadata": {},
   "source": [
    "X if (condition) else Y\n",
    "\n",
    "returns (and evaluates) X if (condition) is True, otherwise returns (and evaluates) Y"
   ]
  },
  {
   "cell_type": "markdown",
   "id": "20eb085b-09b1-4ce7-9f29-64c56e4d3545",
   "metadata": {},
   "source": [
    "# 03 - Functions"
   ]
  },
  {
   "cell_type": "markdown",
   "id": "eaa64a29-ddb5-4098-866b-57935c5c43ac",
   "metadata": {},
   "source": [
    "We also have the **lambda** keyword, that also creates a new function, but does not assign it to any specific name - instead it just returns the function object - which we can, if we wish, assign to a variable ourselves:\n",
    "\n",
    "**N: Lambda is like the func expression/arrow func we saw in Javascript. It's an undefined function. But, we can make it defined via the following:** "
   ]
  },
  {
   "cell_type": "code",
   "execution_count": 9,
   "id": "4b6852b8-fd49-4039-bd5d-965517e7492b",
   "metadata": {},
   "outputs": [],
   "source": [
    "func_5 = lambda x: x**2"
   ]
  },
  {
   "cell_type": "code",
   "execution_count": 11,
   "id": "777d2207-f0a7-49d6-b2fa-c7bad5ec2052",
   "metadata": {},
   "outputs": [
    {
     "name": "stdout",
     "output_type": "stream",
     "text": [
      "9\n"
     ]
    }
   ],
   "source": [
    "print(func_5(3)) "
   ]
  },
  {
   "cell_type": "markdown",
   "id": "5c560a1b-ff05-4c0f-9b4b-197f40e292aa",
   "metadata": {},
   "source": [
    "But it will still work without `print` because executing it will just provide the return value and `func_5(3)` has a return value of 9"
   ]
  },
  {
   "cell_type": "markdown",
   "id": "13803d7c-5099-45c2-896c-654eeb6f96c6",
   "metadata": {
    "tags": []
   },
   "source": [
    "# 04 - The While Loop"
   ]
  },
  {
   "cell_type": "markdown",
   "id": "21771c66-98bb-4940-8b12-e7fc0320e72b",
   "metadata": {},
   "source": [
    "The `while` loop has an `else` clause which is useful to avoid flags (e.g `num_found = False`). `else` is executed if `while` loop terminates without a `break` clause.\n",
    "So, if we hit a `break` statement, then `else` is ignored.\n"
   ]
  },
  {
   "cell_type": "code",
   "execution_count": 8,
   "id": "a96d76d8-3de9-4af0-b1e5-763c8bcc7537",
   "metadata": {},
   "outputs": [
    {
     "name": "stdout",
     "output_type": "stream",
     "text": [
      "[1, 2, 3, 10]\n"
     ]
    }
   ],
   "source": [
    "l = [1, 2, 3]\n",
    "val = 10\n",
    "\n",
    "idx = 0\n",
    "while idx < len(l):\n",
    "    if l[idx] == val:\n",
    "        break\n",
    "    idx += 1\n",
    "else:\n",
    "    l.append(val)\n",
    "\n",
    "print(l)"
   ]
  },
  {
   "cell_type": "markdown",
   "id": "7134847e-56ea-41c8-a5b1-121372f475fc",
   "metadata": {},
   "source": [
    "# 05 - Break, Continue and the Try Statement"
   ]
  },
  {
   "cell_type": "markdown",
   "id": "554fb0d8-1cc8-4bf1-a397-2d787d72d62b",
   "metadata": {},
   "source": [
    "Continue means that within a loop, ignore everything below the continue statement for this iteration and go back to the top of the loop. \n",
    "\n",
    "But `continue` and `break` not obeyed if we have while + try + **finally**. This is good cos if we `try` to open a file but hit an `except` clause and we have a `continue` within `except`, then we would want the `finally` to still execute because thats where we usually close the file.\n",
    "\n",
    "The easiest way of thinking about it, is if `continue` and `break` are seen within a `while` + `try`, then, their action is delayed until immediately after the `finally` statement."
   ]
  },
  {
   "cell_type": "code",
   "execution_count": 7,
   "id": "275b9536-d67f-47af-b135-1879b80bc95a",
   "metadata": {},
   "outputs": [
    {
     "name": "stdout",
     "output_type": "stream",
     "text": [
      "-------------\n",
      "1, 1 - always executes\n",
      "1, 1 - main loop\n",
      "-------------\n",
      "2, 0 - division by 0\n",
      "2, 0 - always executes\n"
     ]
    }
   ],
   "source": [
    "a = 0\n",
    "b = 2\n",
    "\n",
    "while a < 3:\n",
    "    print('-------------')\n",
    "    a += 1\n",
    "    b -= 1\n",
    "    try:\n",
    "        res = a / b\n",
    "    except ZeroDivisionError:\n",
    "        print('{0}, {1} - division by 0'.format(a, b))\n",
    "        res = 0\n",
    "        break\n",
    "    finally:\n",
    "        print('{0}, {1} - always executes'.format(a, b))\n",
    "        \n",
    "    print('{0}, {1} - main loop'.format(a, b))\n",
    "else:\n",
    "    print('\\n\\nno errors were encountered!')"
   ]
  },
  {
   "cell_type": "markdown",
   "id": "322a5299-4fbb-4d61-a35b-203dbc6e2f1d",
   "metadata": {},
   "source": [
    "Remember that if we don't hit the `break` statement by the time the `while` loop completes, we must run the `else` statement."
   ]
  },
  {
   "cell_type": "markdown",
   "id": "50fe8ad7-88c3-4649-a06e-c40983441897",
   "metadata": {},
   "source": [
    "# 06 - The For Loop"
   ]
  },
  {
   "cell_type": "markdown",
   "id": "ba134be8-a2d4-4c99-b226-91d0b6cce4c6",
   "metadata": {},
   "source": [
    "In Python, an **iterable** is an **object** capable of returning values one at a time.\n",
    "\n",
    "Many objects in Python are iterable: lists, strings, file objects and many more.\n",
    "\n",
    "Note: Our definition of an iterable did not state it was a collection of values - we only said it is an object that can return values one at a time - that's a subtle difference that we'll examine when we look into iterators and generators.\n",
    "\n",
    "The `For` Loop allows us to iterate over an iterable (not over a collection; `range` for e.g. is not a collection), getting us the next value, one by one."
   ]
  },
  {
   "cell_type": "markdown",
   "id": "c71e99fd-67ef-41fd-98fb-3b40a826b841",
   "metadata": {},
   "source": [
    "The `for` loop also has an `else` statement which is executed if no `break` is reached and the loop is exhausted."
   ]
  },
  {
   "cell_type": "code",
   "execution_count": 18,
   "id": "5ae5c961-cdfd-4101-a7b0-1f55566484e4",
   "metadata": {},
   "outputs": [
    {
     "name": "stdout",
     "output_type": "stream",
     "text": [
      "1\n",
      "2\n",
      "3\n",
      "4\n",
      "No multiples of 7 encountered\n"
     ]
    }
   ],
   "source": [
    "for i in range(1, 5):\n",
    "    print(i)\n",
    "    if i % 7 == 0:\n",
    "        print('multiple of 7 found')\n",
    "        break\n",
    "else:\n",
    "    print('No multiples of 7 encountered')"
   ]
  },
  {
   "cell_type": "markdown",
   "id": "b00db878-fe58-4d29-a890-af4a85977173",
   "metadata": {},
   "source": [
    "Most iterables have an index, i.e., you can talk about the 1st, 2nd, 3rd etc. element. Sets and dictionaries are iterables but don't have an index; there is no ordering for these but you can still iterate through them (see later)."
   ]
  },
  {
   "cell_type": "markdown",
   "id": "9028130e-95c3-4e3f-9176-5c9939735c9f",
   "metadata": {},
   "source": [
    "If you want the index from your iterable, use `enumerate()`. It returns a tuple where the 1st index of the tuple is the index and the 2nd is the actual value from the iteration"
   ]
  },
  {
   "cell_type": "code",
   "execution_count": 21,
   "id": "8987f11c-10fb-4e3d-932d-dcdc7937633e",
   "metadata": {},
   "outputs": [
    {
     "name": "stdout",
     "output_type": "stream",
     "text": [
      "0  <- This is the index;  h  <- This is the value\n",
      "1  <- This is the index;  e  <- This is the value\n",
      "2  <- This is the index;  l  <- This is the value\n",
      "3  <- This is the index;  l  <- This is the value\n",
      "4  <- This is the index;  o  <- This is the value\n"
     ]
    }
   ],
   "source": [
    "s = 'hello'\n",
    "\n",
    "for i, c in enumerate(s):\n",
    "    print(i, \" <- This is the index; \", c, \" <- This is the value\")\n",
    "    "
   ]
  },
  {
   "cell_type": "markdown",
   "id": "03f4daa9-2446-4edf-a391-6e7b44efa91e",
   "metadata": {},
   "source": [
    "# 07 Classes"
   ]
  },
  {
   "cell_type": "markdown",
   "id": "436f8d27-a8d6-488a-9062-2ed0dfd76b70",
   "metadata": {
    "tags": []
   },
   "source": [
    "## Special Dunder Methods"
   ]
  },
  {
   "cell_type": "code",
   "execution_count": 47,
   "id": "1fca9c97-8fcb-4499-86a2-75ab300f95e1",
   "metadata": {},
   "outputs": [],
   "source": [
    "class Rectangle:\n",
    "    def __init__(self, width, height):\n",
    "        self.width = width\n",
    "        self.height = height\n",
    "        \n",
    "    def area(self):\n",
    "        return self.width * self.height\n",
    "    \n",
    "    def perimeter(the_referenced_object):\n",
    "        return 2 * (the_referenced_object.width + the_referenced_object.height)"
   ]
  },
  {
   "cell_type": "code",
   "execution_count": 48,
   "id": "ec969be6-575d-4f36-93f1-2e8002bc6fb5",
   "metadata": {},
   "outputs": [
    {
     "data": {
      "text/plain": [
       "200"
      ]
     },
     "execution_count": 48,
     "metadata": {},
     "output_type": "execute_result"
    }
   ],
   "source": [
    "r1 = Rectangle(10, 20)\n",
    "r1.area()"
   ]
  },
  {
   "cell_type": "markdown",
   "id": "73663144-af88-4882-a475-e063faea542f",
   "metadata": {},
   "source": [
    "When we ran the above line of code, our object was `r1`, so when `area` was called, Python in fact called the method `area` automatically passing `r1` (belonging to Rectangle class) to the `self` parameter. \n",
    "\n",
    "So, `r1 === self` once we invoke the callable."
   ]
  },
  {
   "cell_type": "markdown",
   "id": "f7d83105-4bf7-446b-b5e2-18ce1eadb3c1",
   "metadata": {},
   "source": [
    "Note that the `self` word is just a convention. As seen in the `perimeter` method, if we only have one parameter (i.e., `the_referenced_object`), then `r1` gets equated to that."
   ]
  },
  {
   "cell_type": "code",
   "execution_count": 50,
   "id": "759a36d8-bc2c-4059-a750-6ac3b93abe15",
   "metadata": {},
   "outputs": [
    {
     "data": {
      "text/plain": [
       "60"
      ]
     },
     "execution_count": 50,
     "metadata": {},
     "output_type": "execute_result"
    }
   ],
   "source": [
    "r1.perimeter()"
   ]
  },
  {
   "cell_type": "markdown",
   "id": "40b15fe4-51c9-4111-a0f8-821681c7a7a7",
   "metadata": {},
   "source": [
    "Let's say we want to print a string which contains the width and height of our rectangle. We could create a method like so:\n",
    "```\n",
    "    def to_str(self):\n",
    "        return 'Rectangle (width={0}, height={1})'.format(self.width,self.height)\n",
    "```\n",
    "and call it with `r1.to_str()` but this is not the typical way we convert things into strings. Normally, we would do `str(r1)`, but this will just print out a memory address. What if we could overwrite the in-built `str()` in python? We can."
   ]
  },
  {
   "cell_type": "code",
   "execution_count": 1,
   "id": "a226b3e1-eaa5-42fb-8e0a-5f225273c5bd",
   "metadata": {},
   "outputs": [],
   "source": [
    "class Rectangle:\n",
    "    def __init__(self, width, height):\n",
    "        self.width = width\n",
    "        self.height = height\n",
    "        \n",
    "    def __str__(self): # __ is known as 'dunder'.\n",
    "        return 'Rectangle (width={0}, height={1})'.format(self.width, self.height)"
   ]
  },
  {
   "cell_type": "code",
   "execution_count": 4,
   "id": "ed5ca99e-aff5-421a-a980-e8bfbaebec53",
   "metadata": {},
   "outputs": [
    {
     "data": {
      "text/plain": [
       "'Rectangle (width=20, height=10)'"
      ]
     },
     "execution_count": 4,
     "metadata": {},
     "output_type": "execute_result"
    }
   ],
   "source": [
    "r1 = Rectangle(height=10, width=20);\n",
    "str(r1)"
   ]
  },
  {
   "cell_type": "markdown",
   "id": "5211b7b5-c8ea-42eb-a117-c2baded833a5",
   "metadata": {},
   "source": [
    "But, this is not exactly the same as the Default Python way. Because, if we create a list, tie it to a variable, and convert it into a string, and then just run the variable. This is what we get:"
   ]
  },
  {
   "cell_type": "code",
   "execution_count": 6,
   "id": "4bc6fbfc-e5a5-4b57-90ab-4fd25b99ca07",
   "metadata": {},
   "outputs": [
    {
     "data": {
      "text/plain": [
       "'[1, 2, 3]'"
      ]
     },
     "execution_count": 6,
     "metadata": {},
     "output_type": "execute_result"
    }
   ],
   "source": [
    "l = [1,2,3]\n",
    "str(l)"
   ]
  },
  {
   "cell_type": "code",
   "execution_count": 7,
   "id": "93ddd572-7489-43dc-af82-657094cb89e1",
   "metadata": {},
   "outputs": [
    {
     "data": {
      "text/plain": [
       "[1, 2, 3]"
      ]
     },
     "execution_count": 7,
     "metadata": {},
     "output_type": "execute_result"
    }
   ],
   "source": [
    "l"
   ]
  },
  {
   "cell_type": "markdown",
   "id": "7d28a6a6-e633-46cd-bec4-d73469d36312",
   "metadata": {},
   "source": [
    "Whereas,"
   ]
  },
  {
   "cell_type": "code",
   "execution_count": 10,
   "id": "eb696d5c-52e2-4e7c-9024-2950cb1a87f1",
   "metadata": {},
   "outputs": [
    {
     "data": {
      "text/plain": [
       "'Rectangle (width=20, height=10)'"
      ]
     },
     "execution_count": 10,
     "metadata": {},
     "output_type": "execute_result"
    }
   ],
   "source": [
    "str(r1)"
   ]
  },
  {
   "cell_type": "code",
   "execution_count": 11,
   "id": "36d1e493-ce08-46c3-a33e-b747c5eea92c",
   "metadata": {},
   "outputs": [
    {
     "data": {
      "text/plain": [
       "<__main__.Rectangle at 0x7fcbb0494160>"
      ]
     },
     "execution_count": 11,
     "metadata": {},
     "output_type": "execute_result"
    }
   ],
   "source": [
    "r1 "
   ]
  },
  {
   "cell_type": "markdown",
   "id": "59b81e7e-ad92-4cd9-8166-29759fd5486c",
   "metadata": {},
   "source": [
    "So, `r1` is not in fact a string, but instead, Python is looking for a string representation of the object. \n",
    "It's actually looking for `__repr__` method, known as representation."
   ]
  },
  {
   "cell_type": "markdown",
   "id": "25cd43e1-b7c9-4727-a832-f5133d55c122",
   "metadata": {},
   "source": [
    "The `__repr__(self)` will generate a string that tells us how to make that object again. i.e., how did we instantiate the object. \n",
    "In this case, we passed in two arguments into the Rectangle class to create `r1`."
   ]
  },
  {
   "cell_type": "code",
   "execution_count": 3,
   "id": "ce3312d0-c2c8-4f55-8609-0ad0f8af0061",
   "metadata": {},
   "outputs": [],
   "source": [
    "class Rectangle:\n",
    "    def __init__(self, width, height):\n",
    "        self.width = width\n",
    "        self.height = height\n",
    "        \n",
    "        \n",
    "    def __str__(self):\n",
    "        return 'Using __str__ method: Rectangle (width={0}, height={1})'.format(self.width, self.height)\n",
    "    \n",
    "    def __repr__(self):\n",
    "        return 'Rectangle({0}, {1})'.format(self.width, self.height)"
   ]
  },
  {
   "cell_type": "code",
   "execution_count": 4,
   "id": "3d12bf82-24d2-4a53-8511-d45cc3415709",
   "metadata": {},
   "outputs": [],
   "source": [
    "r1 = Rectangle(10, 20)"
   ]
  },
  {
   "cell_type": "code",
   "execution_count": 5,
   "id": "bfb87f26-4eb0-4a1f-99c2-adf343dbca3c",
   "metadata": {},
   "outputs": [
    {
     "data": {
      "text/plain": [
       "Rectangle(10, 20)"
      ]
     },
     "execution_count": 5,
     "metadata": {},
     "output_type": "execute_result"
    }
   ],
   "source": [
    "r1  # uses __repr__"
   ]
  },
  {
   "cell_type": "code",
   "execution_count": 6,
   "id": "520dd508-b841-4c04-807d-e1a6f1b00222",
   "metadata": {},
   "outputs": [
    {
     "name": "stdout",
     "output_type": "stream",
     "text": [
      "Using __str__ method: Rectangle (width=10, height=20)\n"
     ]
    }
   ],
   "source": [
    "print(r1) # uses__str__. If no __str__ found, it will default to __repr__."
   ]
  },
  {
   "cell_type": "markdown",
   "id": "4fcfc3d0-db47-4bfd-aae0-baa898cc39a7",
   "metadata": {},
   "source": [
    "__repr__ is used more for debugging and development - it normally includes more information than what the __str__ representation would.\n",
    "\n",
    "For example, you might have a Person class, and your __str__ representation might just be the name of the person. But your __repr__ representation might include more information including anything relevant to a developer\n",
    "\n",
    "For example:\n",
    "\n",
    "__str__ --> \"John Cleese\"\n",
    "\n",
    "__repr__ --> Person(first='John', last='Cleese', age='42', ssn='xxxx')"
   ]
  },
  {
   "cell_type": "markdown",
   "id": "fa5f34d4-268c-453e-a6d1-8aea11d8bd93",
   "metadata": {},
   "source": [
    "But this return is dynamic. We can change an attribute of r1 and the representation will change too"
   ]
  },
  {
   "cell_type": "code",
   "execution_count": 59,
   "id": "2d1fc323-3fc3-424d-a60f-c9cd021183c4",
   "metadata": {},
   "outputs": [
    {
     "data": {
      "text/plain": [
       "Rectangle(-100, 20)"
      ]
     },
     "execution_count": 59,
     "metadata": {},
     "output_type": "execute_result"
    }
   ],
   "source": [
    "r1 = Rectangle(10, 20)\n",
    "r1.width = -100\n",
    "r1"
   ]
  },
  {
   "cell_type": "markdown",
   "id": "906bd346-2245-458e-a3c2-8f8278c90ec5",
   "metadata": {
    "tags": []
   },
   "source": [
    "## Equality (Special Dunder methods cont'd)"
   ]
  },
  {
   "cell_type": "code",
   "execution_count": 27,
   "id": "b210e52d-9998-48a1-9b3a-cd986afe528b",
   "metadata": {},
   "outputs": [],
   "source": [
    "r1 = Rectangle(10, 20)\n",
    "r2 = Rectangle(10, 20)"
   ]
  },
  {
   "cell_type": "code",
   "execution_count": 29,
   "id": "af2b4492-209e-446d-97dd-3b9abc5f8b9b",
   "metadata": {},
   "outputs": [
    {
     "data": {
      "text/plain": [
       "False"
      ]
     },
     "execution_count": 29,
     "metadata": {},
     "output_type": "execute_result"
    }
   ],
   "source": [
    "r1 is r2 # They're not the same object because they have different memory addresses."
   ]
  },
  {
   "cell_type": "code",
   "execution_count": 32,
   "id": "8d916a60-3b66-4581-93c8-44fda35cbd0d",
   "metadata": {},
   "outputs": [
    {
     "data": {
      "text/plain": [
       "False"
      ]
     },
     "execution_count": 32,
     "metadata": {},
     "output_type": "execute_result"
    }
   ],
   "source": [
    "r1 == r2 # They're not the same despite having the same value."
   ]
  },
  {
   "cell_type": "markdown",
   "id": "1debd7b5-e5e9-4c78-ae99-6ac78fb07e77",
   "metadata": {},
   "source": [
    "So, how can we decide the rules when these two objects are equal? \n",
    "We can use the `__eq__(self, other)` method. We can think `self` as our object and `other` as the object on the right of the equality sign"
   ]
  },
  {
   "cell_type": "markdown",
   "id": "1c760850-baa5-4984-b829-3770d7a73039",
   "metadata": {},
   "source": [
    "We can say that if they both have the same instance (from `Rectangle class` and have the same width and height, then they are the same)."
   ]
  },
  {
   "cell_type": "code",
   "execution_count": 37,
   "id": "f8f5a080-579a-416f-9846-b6efec853f6d",
   "metadata": {},
   "outputs": [],
   "source": [
    "class Rectangle:\n",
    "    def __init__(self, width, height):\n",
    "        self.width = width\n",
    "        self.height = height\n",
    "        \n",
    "    def __eq__(self, other):\n",
    "        if isinstance(other, Rectangle):\n",
    "            return (self.width, self.height) == (other.width, other.height)\n",
    "        else:\n",
    "            return False"
   ]
  },
  {
   "cell_type": "code",
   "execution_count": 38,
   "id": "1ff207c8-f0de-4de3-90be-c136df1fa4cb",
   "metadata": {},
   "outputs": [],
   "source": [
    "r1 = Rectangle(10, 20)\n",
    "r2 = Rectangle(10, 20)"
   ]
  },
  {
   "cell_type": "code",
   "execution_count": 39,
   "id": "57a74dbb-ddde-4e3d-b276-c6b9416e29a2",
   "metadata": {},
   "outputs": [
    {
     "data": {
      "text/plain": [
       "False"
      ]
     },
     "execution_count": 39,
     "metadata": {},
     "output_type": "execute_result"
    }
   ],
   "source": [
    "r1 is r2 # Still not the same because they have different memory addresses"
   ]
  },
  {
   "cell_type": "code",
   "execution_count": 40,
   "id": "5cee69a1-8e79-4bdc-8807-2e67659707d7",
   "metadata": {},
   "outputs": [
    {
     "data": {
      "text/plain": [
       "True"
      ]
     },
     "execution_count": 40,
     "metadata": {},
     "output_type": "execute_result"
    }
   ],
   "source": [
    "r1 == r2 # Now the same, because they have the same value"
   ]
  },
  {
   "cell_type": "markdown",
   "id": "2bc4c12f-0deb-42fa-b47e-a15935a36cbb",
   "metadata": {},
   "source": [
    "There are many other methods like 'less than' as `__lt__` and so on for greater than. We can then define that a rectangle object is greater than another rectangle is the area is larger, but this is totally our choice."
   ]
  },
  {
   "cell_type": "markdown",
   "id": "139b8244-59cb-4cbf-b450-880171e9dd55",
   "metadata": {},
   "source": [
    "It seems like we've defined these methods onto `r1` i.e. `r1.__eq__(r2)` So, we know that the following will work:"
   ]
  },
  {
   "cell_type": "code",
   "execution_count": 56,
   "id": "50a86e2a-72d7-4346-b4f7-009455f6d66f",
   "metadata": {},
   "outputs": [],
   "source": [
    "class Rectangle:\n",
    "    def __init__(self, width, height):\n",
    "        self.width = width\n",
    "        self.height = height\n",
    "        \n",
    "    def area(self):\n",
    "        return self.width * self.height\n",
    "        \n",
    "    def __str__(self):\n",
    "        return 'Rectangle (width={0}, height={1})'.format(self.width, self.height)\n",
    "    \n",
    "    def __repr__(self):\n",
    "        return 'Rectangle({0}, {1})'.format(self.width, self.height)\n",
    "      \n",
    "    def __lt__(self, other):\n",
    "        if isinstance(other, Rectangle):\n",
    "            return self.area() < other.area()\n",
    "        else:\n",
    "            return NotImplemented "
   ]
  },
  {
   "cell_type": "code",
   "execution_count": 57,
   "id": "b6c34263-f77e-4fca-b2c5-6463c35fd8b4",
   "metadata": {},
   "outputs": [
    {
     "data": {
      "text/plain": [
       "False"
      ]
     },
     "execution_count": 57,
     "metadata": {},
     "output_type": "execute_result"
    }
   ],
   "source": [
    "r1 = Rectangle(100, 200)\n",
    "r2 = Rectangle(10, 20)\n",
    "\n",
    "r1 < r2"
   ]
  },
  {
   "cell_type": "code",
   "execution_count": 58,
   "id": "908f9cff-5f50-4e23-a61a-fcfacf294550",
   "metadata": {},
   "outputs": [
    {
     "data": {
      "text/plain": [
       "False"
      ]
     },
     "execution_count": 58,
     "metadata": {},
     "output_type": "execute_result"
    }
   ],
   "source": [
    "r2 > r1"
   ]
  },
  {
   "cell_type": "markdown",
   "id": "5ae5053d-9fa3-4988-8d9f-5e27417dd49a",
   "metadata": {},
   "source": [
    "But how does it know? Well Python is clever - it sees and says that, if `__gt__` is not implemented, then it flips it around and sees if r1 < r2 and that r1 has a `__lt__` implementation.  "
   ]
  },
  {
   "cell_type": "markdown",
   "id": "e412ce06-d361-40f8-adf5-7540f5a6ae0b",
   "metadata": {
    "tags": []
   },
   "source": [
    "## Getters, Setters, Decorators"
   ]
  },
  {
   "cell_type": "markdown",
   "id": "ddd0aa1b-f02d-4f38-a51d-f99a578a4691",
   "metadata": {},
   "source": [
    "The return representation of an object is dynamic. We can change an attribute of r1 and the representation will change too."
   ]
  },
  {
   "cell_type": "code",
   "execution_count": 61,
   "id": "7ef60710-5847-4d1f-840d-8355c9526e71",
   "metadata": {},
   "outputs": [
    {
     "data": {
      "text/plain": [
       "Rectangle(-100, 20)"
      ]
     },
     "execution_count": 61,
     "metadata": {},
     "output_type": "execute_result"
    }
   ],
   "source": [
    "r1 = Rectangle(10, 20)\n",
    "r1.width = -100\n",
    "r1"
   ]
  },
  {
   "cell_type": "markdown",
   "id": "496f823e-d953-4ec8-823c-449a78976be0",
   "metadata": {},
   "source": [
    "But sometimes, we don't want users to be able to modify the width to a negative value. The way we do this in Java and Python is using getters and setters.\n",
    "\n",
    "All this is, is just creating a `get_width(self)` method which just returns `self.width`. We could then replace all mentions of `width` with `_width`. The `_` indicates, purely as convention, that this attribute (or even method) is private and should not be messed around with. Note that in python, nothing can be made literally private unlike other languages. So, this is pseudo-private.\n",
    "\n",
    "The issue with this approach is that renaming a variable means informing all users to use the new variable, however, legacy code which still contains lines like `r1.width = -100` will run without error because Python will just create another attribute called `self.width`. So, things are getting a litte messy. So, we should avoid this approach entirely and use the following approach.."
   ]
  },
  {
   "cell_type": "markdown",
   "id": "a796f7bf-08a0-4efc-8911-6871546f507e",
   "metadata": {},
   "source": [
    "In Python we can use some special **decorators** (more on those later) to encapsulate our property getters and setters:"
   ]
  },
  {
   "cell_type": "code",
   "execution_count": 80,
   "id": "0036aa2c-e6f3-4ea5-81cc-d281127fb85f",
   "metadata": {},
   "outputs": [],
   "source": [
    "class Rectangle:\n",
    "    def __init__(self, width, height):\n",
    "        self._width = width\n",
    "        self._height = height\n",
    "    \n",
    "    @property\n",
    "    def width(self):\n",
    "        print('getting width')\n",
    "        return self._width\n",
    "    \n",
    "    @width.setter\n",
    "    def width(self, width):\n",
    "        if width <= 0:\n",
    "            raise ValueError('Width must be positive.')\n",
    "        self._width = width\n",
    "    \n",
    "    @property\n",
    "    def height(self):\n",
    "        return self._height\n",
    "    \n",
    "    @height.setter\n",
    "    def height(self, height):\n",
    "        if height <= 0:\n",
    "            raise ValueError('Height must be positive.')\n",
    "        self._height = height\n",
    "        \n",
    "    def __repr__(self):\n",
    "        return 'Rectangle({0}, {1})'.format(self.width, self.height)"
   ]
  },
  {
   "cell_type": "markdown",
   "id": "b755cba2-9957-405f-97de-5737ea61ba18",
   "metadata": {},
   "source": [
    "Firstly, \n",
    "```\n",
    "    @property\n",
    "    def width(self):\n",
    "        print('getting width')\n",
    "        return self._width\n",
    "``` \n",
    "translates to: `width` is a `property` that returns our private `_width`, but it is accessed by `r1.width` NOT `r1.width()`. \n",
    "\n",
    "Now we can run:"
   ]
  },
  {
   "cell_type": "code",
   "execution_count": 81,
   "id": "6906c03f-b160-49dc-b0e1-6ad233bdea9c",
   "metadata": {},
   "outputs": [
    {
     "name": "stdout",
     "output_type": "stream",
     "text": [
      "getting width\n"
     ]
    },
    {
     "data": {
      "text/plain": [
       "10"
      ]
     },
     "execution_count": 81,
     "metadata": {},
     "output_type": "execute_result"
    }
   ],
   "source": [
    "r1 = Rectangle(10, 20)\n",
    "r1.width"
   ]
  },
  {
   "cell_type": "markdown",
   "id": "514d682d-af20-4c28-a632-4690971e842e",
   "metadata": {},
   "source": [
    "Notice how it went through the supposed method called `width(self)` despite typing an attribute: `r1.width` (without the `()`). This is because python is able to access this property via the getter.\n",
    "\n",
    "`@property` has only modified the method below it, it has not created something brand new."
   ]
  },
  {
   "cell_type": "markdown",
   "id": "fa681d3c-25d3-4d8f-ba6b-675694fa19f8",
   "metadata": {},
   "source": [
    "But we can't change the width using: `r1.width = -50` if we have only have a getter. It won't even create a new attribute called `width` as opposed to `_width`. So we need a setter to change it."
   ]
  },
  {
   "cell_type": "markdown",
   "id": "c3260465-639c-4cf9-bfca-3b3628c96fc8",
   "metadata": {},
   "source": [
    "We do it with\n",
    "\n",
    "```\n",
    "@width.setter\n",
    "def width(self, width):\n",
    "    if width <= 0:\n",
    "        raise ValueError('Width must be positive.')\n",
    "    self._width = width\n",
    "```\n",
    "\n",
    "Again, `def width(self, width):` does not step on the toes of the `def width(self):` above it. This is because decorators only modifies the method, not overwrites it."
   ]
  },
  {
   "cell_type": "code",
   "execution_count": 82,
   "id": "262527a9-d4bb-457f-9d0c-918b794856f7",
   "metadata": {},
   "outputs": [
    {
     "ename": "ValueError",
     "evalue": "Width must be positive.",
     "output_type": "error",
     "traceback": [
      "\u001b[0;31m---------------------------------------------------------------------------\u001b[0m",
      "\u001b[0;31mValueError\u001b[0m                                Traceback (most recent call last)",
      "\u001b[0;32m/tmp/ipykernel_3853/2776087077.py\u001b[0m in \u001b[0;36m<module>\u001b[0;34m\u001b[0m\n\u001b[0;32m----> 1\u001b[0;31m \u001b[0mr1\u001b[0m\u001b[0;34m.\u001b[0m\u001b[0mwidth\u001b[0m \u001b[0;34m=\u001b[0m \u001b[0;34m-\u001b[0m\u001b[0;36m50\u001b[0m\u001b[0;34m\u001b[0m\u001b[0;34m\u001b[0m\u001b[0m\n\u001b[0m",
      "\u001b[0;32m/tmp/ipykernel_3853/545710074.py\u001b[0m in \u001b[0;36mwidth\u001b[0;34m(self, width)\u001b[0m\n\u001b[1;32m     15\u001b[0m     \u001b[0;32mdef\u001b[0m \u001b[0mwidth\u001b[0m\u001b[0;34m(\u001b[0m\u001b[0mself\u001b[0m\u001b[0;34m,\u001b[0m \u001b[0mwidth\u001b[0m\u001b[0;34m)\u001b[0m\u001b[0;34m:\u001b[0m\u001b[0;34m\u001b[0m\u001b[0;34m\u001b[0m\u001b[0m\n\u001b[1;32m     16\u001b[0m         \u001b[0;32mif\u001b[0m \u001b[0mwidth\u001b[0m \u001b[0;34m<=\u001b[0m \u001b[0;36m0\u001b[0m\u001b[0;34m:\u001b[0m\u001b[0;34m\u001b[0m\u001b[0;34m\u001b[0m\u001b[0m\n\u001b[0;32m---> 17\u001b[0;31m             \u001b[0;32mraise\u001b[0m \u001b[0mValueError\u001b[0m\u001b[0;34m(\u001b[0m\u001b[0;34m'Width must be positive.'\u001b[0m\u001b[0;34m)\u001b[0m\u001b[0;34m\u001b[0m\u001b[0;34m\u001b[0m\u001b[0m\n\u001b[0m\u001b[1;32m     18\u001b[0m         \u001b[0mself\u001b[0m\u001b[0;34m.\u001b[0m\u001b[0m_width\u001b[0m \u001b[0;34m=\u001b[0m \u001b[0mwidth\u001b[0m\u001b[0;34m\u001b[0m\u001b[0;34m\u001b[0m\u001b[0m\n\u001b[1;32m     19\u001b[0m \u001b[0;34m\u001b[0m\u001b[0m\n",
      "\u001b[0;31mValueError\u001b[0m: Width must be positive."
     ]
    }
   ],
   "source": [
    "r1.width = -50 "
   ]
  },
  {
   "cell_type": "markdown",
   "id": "1aa81cad-ce06-4951-9477-9337b67365d6",
   "metadata": {},
   "source": [
    "You'll notice that we still have `self.width`'s lying around. Why is this okay? Is it not trying to create a new attribute?\n",
    "\n",
    "No, because `self.width` calls the width getter via the `@property` line. And that getter returns `self._width` so it's fine to keep it as `self.width` or `self._width`. But it's preferable to access attributes via the getters."
   ]
  },
  {
   "cell_type": "markdown",
   "id": "e819d017-9f1a-44c1-b816-a18b4de6e72f",
   "metadata": {},
   "source": [
    "As you can see, the line below runs with no issue"
   ]
  },
  {
   "cell_type": "code",
   "execution_count": 83,
   "id": "674b6bf6-b07e-4d6e-9011-d18c64c43cb8",
   "metadata": {},
   "outputs": [],
   "source": [
    "r1 = Rectangle(-10, 20)"
   ]
  },
  {
   "cell_type": "code",
   "execution_count": 84,
   "id": "34f919b5-9581-4f30-b26f-b17fb6a19abc",
   "metadata": {},
   "outputs": [
    {
     "name": "stdout",
     "output_type": "stream",
     "text": [
      "getting width\n"
     ]
    },
    {
     "data": {
      "text/plain": [
       "Rectangle(-10, 20)"
      ]
     },
     "execution_count": 84,
     "metadata": {},
     "output_type": "execute_result"
    }
   ],
   "source": [
    "r1"
   ]
  },
  {
   "cell_type": "markdown",
   "id": "5878a4d2-d0b3-4a98-ac36-94ed36a0b9a5",
   "metadata": {},
   "source": [
    "So, you might think that the solution to prevent creating a rectangle with negative width is to raise a ValueError somewhere. But there's a *much* better way. We can replace our `self._height` with `self.height`. Now, if anyone tries to create an object with a negative height in the argument, that argument `height` will point to `self.height` which will point to the setter `@height.setter`. And this setter will handle the negative height.\n",
    "\n",
    "In other words, the LHS of `self.width = width` is actually a function call. It may *look* like setting an attribute just like how `r1.width` looks like we're accessing an attribute. We're not. In `self.width`, we're passing `width` to the `@property` decorator which calls it like a function, so `self.width` is infact a method which is passed as an argument to a decorator which extends the functionality (`if width <= 0, do something`) and then changes the `_width` attribute."
   ]
  },
  {
   "cell_type": "code",
   "execution_count": 86,
   "id": "e7a4886e-0bf8-4439-8953-25ff1c24ae4f",
   "metadata": {},
   "outputs": [],
   "source": [
    "class Rectangle:\n",
    "    def __init__(self, width, height):\n",
    "        self._width = None\n",
    "        self._height = None\n",
    "        # now we call our accessor methods to set the width and height\n",
    "        self.width = width\n",
    "        self.height = height\n",
    "    \n",
    "    def __repr__(self):\n",
    "        return 'Rectangle({0}, {1})'.format(self.width, self.height)\n",
    "    \n",
    "    @property\n",
    "    def width(self):\n",
    "        return self._width\n",
    "    \n",
    "    @width.setter\n",
    "    def width(self, width):\n",
    "        if width <= 0:\n",
    "            raise ValueError('Width must be positive.')\n",
    "        self._width = width\n",
    "    \n",
    "    @property\n",
    "    def height(self):\n",
    "        return self._height\n",
    "    \n",
    "    @height.setter\n",
    "    def height(self, height):\n",
    "        if height <= 0:\n",
    "            raise ValueError('Height must be positive.')\n",
    "        self._height = height"
   ]
  },
  {
   "cell_type": "code",
   "execution_count": 88,
   "id": "cf181ff6-53d0-41cf-8f3c-528cb470b9ec",
   "metadata": {},
   "outputs": [
    {
     "ename": "ValueError",
     "evalue": "Width must be positive.",
     "output_type": "error",
     "traceback": [
      "\u001b[0;31m---------------------------------------------------------------------------\u001b[0m",
      "\u001b[0;31mValueError\u001b[0m                                Traceback (most recent call last)",
      "\u001b[0;32m/tmp/ipykernel_3853/1003612354.py\u001b[0m in \u001b[0;36m<module>\u001b[0;34m\u001b[0m\n\u001b[0;32m----> 1\u001b[0;31m \u001b[0mr1\u001b[0m \u001b[0;34m=\u001b[0m \u001b[0mRectangle\u001b[0m\u001b[0;34m(\u001b[0m\u001b[0;34m-\u001b[0m\u001b[0;36m5\u001b[0m\u001b[0;34m,\u001b[0m \u001b[0;36m10\u001b[0m\u001b[0;34m)\u001b[0m\u001b[0;34m\u001b[0m\u001b[0;34m\u001b[0m\u001b[0m\n\u001b[0m",
      "\u001b[0;32m/tmp/ipykernel_3853/2666769571.py\u001b[0m in \u001b[0;36m__init__\u001b[0;34m(self, width, height)\u001b[0m\n\u001b[1;32m      4\u001b[0m         \u001b[0mself\u001b[0m\u001b[0;34m.\u001b[0m\u001b[0m_height\u001b[0m \u001b[0;34m=\u001b[0m \u001b[0;32mNone\u001b[0m\u001b[0;34m\u001b[0m\u001b[0;34m\u001b[0m\u001b[0m\n\u001b[1;32m      5\u001b[0m         \u001b[0;31m# now we call our accessor methods to set the width and height\u001b[0m\u001b[0;34m\u001b[0m\u001b[0;34m\u001b[0m\u001b[0m\n\u001b[0;32m----> 6\u001b[0;31m         \u001b[0mself\u001b[0m\u001b[0;34m.\u001b[0m\u001b[0mwidth\u001b[0m \u001b[0;34m=\u001b[0m \u001b[0mwidth\u001b[0m\u001b[0;34m\u001b[0m\u001b[0;34m\u001b[0m\u001b[0m\n\u001b[0m\u001b[1;32m      7\u001b[0m         \u001b[0mself\u001b[0m\u001b[0;34m.\u001b[0m\u001b[0mheight\u001b[0m \u001b[0;34m=\u001b[0m \u001b[0mheight\u001b[0m\u001b[0;34m\u001b[0m\u001b[0;34m\u001b[0m\u001b[0m\n\u001b[1;32m      8\u001b[0m \u001b[0;34m\u001b[0m\u001b[0m\n",
      "\u001b[0;32m/tmp/ipykernel_3853/2666769571.py\u001b[0m in \u001b[0;36mwidth\u001b[0;34m(self, width)\u001b[0m\n\u001b[1;32m     17\u001b[0m     \u001b[0;32mdef\u001b[0m \u001b[0mwidth\u001b[0m\u001b[0;34m(\u001b[0m\u001b[0mself\u001b[0m\u001b[0;34m,\u001b[0m \u001b[0mwidth\u001b[0m\u001b[0;34m)\u001b[0m\u001b[0;34m:\u001b[0m\u001b[0;34m\u001b[0m\u001b[0;34m\u001b[0m\u001b[0m\n\u001b[1;32m     18\u001b[0m         \u001b[0;32mif\u001b[0m \u001b[0mwidth\u001b[0m \u001b[0;34m<=\u001b[0m \u001b[0;36m0\u001b[0m\u001b[0;34m:\u001b[0m\u001b[0;34m\u001b[0m\u001b[0;34m\u001b[0m\u001b[0m\n\u001b[0;32m---> 19\u001b[0;31m             \u001b[0;32mraise\u001b[0m \u001b[0mValueError\u001b[0m\u001b[0;34m(\u001b[0m\u001b[0;34m'Width must be positive.'\u001b[0m\u001b[0;34m)\u001b[0m\u001b[0;34m\u001b[0m\u001b[0;34m\u001b[0m\u001b[0m\n\u001b[0m\u001b[1;32m     20\u001b[0m         \u001b[0mself\u001b[0m\u001b[0;34m.\u001b[0m\u001b[0m_width\u001b[0m \u001b[0;34m=\u001b[0m \u001b[0mwidth\u001b[0m\u001b[0;34m\u001b[0m\u001b[0;34m\u001b[0m\u001b[0m\n\u001b[1;32m     21\u001b[0m \u001b[0;34m\u001b[0m\u001b[0m\n",
      "\u001b[0;31mValueError\u001b[0m: Width must be positive."
     ]
    }
   ],
   "source": [
    "r1 = Rectangle(-5, 10)"
   ]
  },
  {
   "cell_type": "markdown",
   "id": "bd43d247-4e88-4d7d-8582-c3f18ad56813",
   "metadata": {},
   "source": [
    "I found [this link](https://www.youtube.com/watch?v=d2m07ENg-tA) useful for understanding"
   ]
  }
 ],
 "metadata": {
  "kernelspec": {
   "display_name": "Python 3 (ipykernel)",
   "language": "python",
   "name": "python3"
  },
  "language_info": {
   "codemirror_mode": {
    "name": "ipython",
    "version": 3
   },
   "file_extension": ".py",
   "mimetype": "text/x-python",
   "name": "python",
   "nbconvert_exporter": "python",
   "pygments_lexer": "ipython3",
   "version": "3.10.6"
  }
 },
 "nbformat": 4,
 "nbformat_minor": 5
}
