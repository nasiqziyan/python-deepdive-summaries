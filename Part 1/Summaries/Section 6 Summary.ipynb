{
 "cells": [
  {
   "cell_type": "markdown",
   "id": "b4614f1e-7794-462b-8232-a9b671574eae",
   "metadata": {},
   "source": [
    "All functions in Python are First-Class Objects. This means that they:\n",
    "- can be passed to functions as an argument, just like variables,\n",
    "- can be assigned to a variable,\n",
    "- can be returned from a functionn\n",
    "- can be stored in a data structure (list, tuple, dictionary etc.).\n",
    "\n",
    "This means that ints, floats, strings, tuples, lists etc. are also all first-class objects.\n",
    "\n",
    "Higher order functions are functions that can:\n",
    "- take a function as an argument,\n",
    "- return a function\n",
    "\n",
    "`sorted`, `map`, `reduce`, `filter`, `all` and `any` are examples of higher order functions."
   ]
  },
  {
   "cell_type": "markdown",
   "id": "b2c76b3c-31ed-4da8-9d5c-cb31175dc1de",
   "metadata": {},
   "source": [
    "# 01 - Docstrings and Annotations"
   ]
  },
  {
   "cell_type": "markdown",
   "id": "44c406ec-c0a9-414a-8740-b64c56ee0032",
   "metadata": {},
   "source": [
    "**Docstrings** : If the first line in a function body is a string (not comment, assignment etc.), it will be interpreted as a **docstring**. \\\n",
    "Where are docstrings stored? Functions are objects, and therefore they have properties. One such property is the function's `__doc__` dunder method, which is used to stored the docstring.\n",
    "\n",
    "**Function Annotations**: This gives us the ability to document our parameters and also the return of our function. This is the how its done:"
   ]
  },
  {
   "cell_type": "code",
   "execution_count": 81,
   "id": "805ff765-b3e2-46f4-bbeb-c891b0f6f5b1",
   "metadata": {},
   "outputs": [],
   "source": [
    "def my_func(a:'annotation for a', \n",
    "            b:'annotation for b')->'annotation for return':\n",
    "    \n",
    "    return a*b\n",
    "\n"
   ]
  },
  {
   "cell_type": "markdown",
   "id": "183eb129-8fbe-4cd3-a2bb-3900560b12ed",
   "metadata": {},
   "source": [
    "All of this is metadata - it doesn't affect how your python code runs.\n",
    "\n",
    "The annotations can be **any** expression, not just strings. Since they're expressions, they will be evaluated during **creation of the function object, not when it's called**. The `help()` function prints out this metadata."
   ]
  },
  {
   "cell_type": "code",
   "execution_count": 82,
   "id": "1d7f850a-bb7a-4add-a2fa-d29c468eb29b",
   "metadata": {},
   "outputs": [
    {
     "name": "stdout",
     "output_type": "stream",
     "text": [
      "Help on function my_func in module __main__:\n",
      "\n",
      "my_func(a: str) -> 'a repeated 5 times'\n",
      "\n"
     ]
    }
   ],
   "source": [
    "x = 3\n",
    "y = 5\n",
    "def my_func(a: str) -> 'a repeated ' + str(max(3, 5)) + ' times':\n",
    "\treturn a*max(x, y)\n",
    "\n",
    "help(my_func)"
   ]
  },
  {
   "cell_type": "markdown",
   "id": "8e9169e5-2066-4747-99c1-ebe855fa36e7",
   "metadata": {},
   "source": [
    "Just like docstrings are stored in the `__doc__` property, annotations are stored in the `__annotations__` property - a dictionary whose keys are the parameter names, and values are the annotation."
   ]
  },
  {
   "cell_type": "markdown",
   "id": "357735f1-ffe6-4f36-bb1a-23da6e9c2f01",
   "metadata": {},
   "source": [
    "# 02 - Lambda Expressions"
   ]
  },
  {
   "cell_type": "markdown",
   "id": "f7cc1bf6-ff35-4731-abcf-3a97742ce4f7",
   "metadata": {},
   "source": [
    "The structure is: \n",
    "\n",
    "`lambda [parameter list]: expression` where expression is like the body of a function, except that the `return` is implicit - you don't need to write `return`. \n",
    "\n",
    "This statement returns a function object.\n",
    "\n",
    "Lambdas are **NOT** equivalent to closures. They can be closures but not necessarily.\n",
    "\n",
    "**Limitations**: \n",
    "- Since the 'body' of a lambda expression is limited to a single line, you cannot do variable assignments.\n",
    "- You cannot do annotations.\n",
    "- It must be a single **logical** line of code; using line-continuation is fine (e.g. `lambda x: x * \\ math.sin(x)`)"
   ]
  },
  {
   "cell_type": "markdown",
   "id": "d3e53077-1fdb-47c9-a5e2-91032129810d",
   "metadata": {},
   "source": [
    "# 03 - Lambdas and Sorting"
   ]
  },
  {
   "cell_type": "markdown",
   "id": "c0d67cb0-3d61-409c-8857-5fc19ba1f0c7",
   "metadata": {},
   "source": [
    "Below is an example of using `sorted()`. It takes an optional keyword argument, called `key`, that affects how each item in the iterable is sorted.\n",
    "\n",
    "Depending on the type in the iterable, it will sort differently, e.g. change it from the default of ascending order. For example, with strings, it sorts with the ASCII order. With integers, it sorts from smallest to biggest. Below, the iterables are the keys, so it sorts them alphabetically."
   ]
  },
  {
   "cell_type": "code",
   "execution_count": 83,
   "id": "737d14b4-3095-4eac-9ad5-bb1bd4c58c42",
   "metadata": {},
   "outputs": [
    {
     "data": {
      "text/plain": [
       "['abc', 'def', 'ghi']"
      ]
     },
     "execution_count": 83,
     "metadata": {},
     "output_type": "execute_result"
    }
   ],
   "source": [
    "d = {\n",
    "    'def': 300,\n",
    "    'abc':200,\n",
    "    'ghi':100,\n",
    "}\n",
    "\n",
    "sorted(d)"
   ]
  },
  {
   "cell_type": "markdown",
   "id": "ddff8482-68fb-4a9b-812b-2a50b02c5875",
   "metadata": {},
   "source": [
    "But, we can pass a function expression (lambda) to `key` to change the basis of sorting. Note below that this doesn't affect the type that's printed. We still sorted the iterables of a dictionary (the keys) but by a different basis (i.e., their values, instead of the key itself). "
   ]
  },
  {
   "cell_type": "code",
   "execution_count": 84,
   "id": "df15b3ec-d03b-4463-87d7-fa314d240afa",
   "metadata": {},
   "outputs": [
    {
     "data": {
      "text/plain": [
       "['ghi', 'abc', 'def']"
      ]
     },
     "execution_count": 84,
     "metadata": {},
     "output_type": "execute_result"
    }
   ],
   "source": [
    "sorted(d, key=lambda i: d[i])"
   ]
  },
  {
   "cell_type": "markdown",
   "id": "5bf9707d-b3bf-4137-a3e7-703301cc06f3",
   "metadata": {},
   "source": [
    "Let's say we want to sort a bunch of names, not by their first letter but by their last letter:"
   ]
  },
  {
   "cell_type": "code",
   "execution_count": 85,
   "id": "3ba4b91f-e309-40c8-ab4d-c88827f03af0",
   "metadata": {},
   "outputs": [],
   "source": [
    "l = ['Cleese', 'Idle', 'Palin', 'Chapman', 'Gilliam', 'Jones']"
   ]
  },
  {
   "cell_type": "code",
   "execution_count": 86,
   "id": "518593d3-b2ca-4a40-bddb-a2bd1d2eeac0",
   "metadata": {},
   "outputs": [
    {
     "data": {
      "text/plain": [
       "['Chapman', 'Cleese', 'Gilliam', 'Idle', 'Jones', 'Palin']"
      ]
     },
     "execution_count": 86,
     "metadata": {},
     "output_type": "execute_result"
    }
   ],
   "source": [
    "sorted(l) # Sorting by first letter"
   ]
  },
  {
   "cell_type": "code",
   "execution_count": 87,
   "id": "3edb153a-d149-41f3-92e8-4402bbbb81c0",
   "metadata": {},
   "outputs": [
    {
     "data": {
      "text/plain": [
       "['Cleese', 'Idle', 'Gilliam', 'Palin', 'Chapman', 'Jones']"
      ]
     },
     "execution_count": 87,
     "metadata": {},
     "output_type": "execute_result"
    }
   ],
   "source": [
    "sorted(l, key=lambda word: word[-1])"
   ]
  },
  {
   "cell_type": "markdown",
   "id": "c464cafb-4139-48df-ae12-d52ea7cf3332",
   "metadata": {},
   "source": [
    "How does Python deal with tiebreaks here? It uses **stable sorting**. We don't sort by e.g. 2nd to last letter, first letter etc. Instead, we retain the order that they were in when the list was created. "
   ]
  },
  {
   "cell_type": "markdown",
   "id": "70ab7ca5-80c5-44d1-8e0f-b46a374353c8",
   "metadata": {},
   "source": [
    "# 04 - Challenge - Randomizing using Sorted"
   ]
  },
  {
   "cell_type": "code",
   "execution_count": 88,
   "id": "b7391b61-94ff-466f-858d-e63d1a8d4a97",
   "metadata": {},
   "outputs": [],
   "source": [
    "import random"
   ]
  },
  {
   "cell_type": "code",
   "execution_count": 89,
   "id": "c4760550-bbff-492e-8643-e3632a4d9cb3",
   "metadata": {},
   "outputs": [
    {
     "data": {
      "text/plain": [
       "[7, 10, 4, 5, 8, 9, 1, 6, 3, 2]"
      ]
     },
     "execution_count": 89,
     "metadata": {},
     "output_type": "execute_result"
    }
   ],
   "source": [
    "l = [1, 2, 3, 4, 5, 6, 7, 8, 9, 10]\n",
    "\n",
    "sorted(l, key=lambda x: random.random())\n"
   ]
  },
  {
   "cell_type": "markdown",
   "id": "5e0bc173-7f5f-42a6-a9cc-d94851e5b9ef",
   "metadata": {},
   "source": [
    "How does this work? \n",
    "\n",
    "When you provide the `key` function, it will 'assign' the result of calling that function to every item in the iterable. Then, it will sort the items based on that value. In this case, all items were assigned a random value, then, `sorted()` sorts numbers in ascending order."
   ]
  },
  {
   "cell_type": "markdown",
   "id": "d9d9ab0d-ae4e-493b-b629-65d6474008f9",
   "metadata": {},
   "source": [
    "# 05 - Function Introspection"
   ]
  },
  {
   "cell_type": "markdown",
   "id": "adbf778c-3a01-49b9-9c9c-0de497a966e0",
   "metadata": {},
   "source": [
    "Since functions are first-class **objects**, they can have attributes (properties, methods). We know that a function in general has a `__doc__` and `__annotations__` attribute which can be accessed via `func.__doc__`. But, we can also set up our own attributes.."
   ]
  },
  {
   "cell_type": "code",
   "execution_count": 91,
   "id": "ec01b018-b6e0-4164-bd6e-cf5e4832a180",
   "metadata": {},
   "outputs": [
    {
     "data": {
      "text/plain": [
       "'math'"
      ]
     },
     "execution_count": 91,
     "metadata": {},
     "output_type": "execute_result"
    }
   ],
   "source": [
    "def func(a, b):\n",
    "    return a + b\n",
    "\n",
    "func.category = 'math'\n",
    "func.category"
   ]
  },
  {
   "cell_type": "markdown",
   "id": "79741995-c8c8-4d18-916c-d1254ed95b7a",
   "metadata": {},
   "source": [
    "We can return all the valid attributes of a function using `dir()`. It's a built-in function."
   ]
  },
  {
   "cell_type": "code",
   "execution_count": 92,
   "id": "b04d9fd1-52c7-4c1b-8fcf-4183f8037353",
   "metadata": {},
   "outputs": [
    {
     "name": "stdout",
     "output_type": "stream",
     "text": [
      "['__annotations__', '__builtins__', '__call__', '__class__', '__closure__', '__code__', '__defaults__', '__delattr__', '__dict__', '__dir__', '__doc__', '__eq__', '__format__', '__ge__', '__get__', '__getattribute__', '__globals__', '__gt__', '__hash__', '__init__', '__init_subclass__', '__kwdefaults__', '__le__', '__lt__', '__module__', '__name__', '__ne__', '__new__', '__qualname__', '__reduce__', '__reduce_ex__', '__repr__', '__setattr__', '__sizeof__', '__str__', '__subclasshook__', 'category']\n"
     ]
    }
   ],
   "source": [
    "print(dir(func))"
   ]
  },
  {
   "cell_type": "markdown",
   "id": "3ca063e0-4c8d-4b08-911c-e3a2224ed591",
   "metadata": {},
   "source": [
    "Let's take a look at `__name__`, `__defaults__`, `__kwdefaults__`. Let's also look at `__code__` which itself has properties such as `co_varnames`. With this, the parameter names are printed first, then the local variable names."
   ]
  },
  {
   "cell_type": "code",
   "execution_count": 93,
   "id": "34946a70-6e18-47ab-a872-e33c3230566b",
   "metadata": {},
   "outputs": [],
   "source": [
    "def my_func(a, b=2, c=3, *, kw1, kw2=2):\n",
    "    i=10\n",
    "    b=min(i, b)\n",
    "    return a*b"
   ]
  },
  {
   "cell_type": "code",
   "execution_count": 94,
   "id": "a688c320-d71c-401e-9a35-6cc5da66f392",
   "metadata": {},
   "outputs": [
    {
     "name": "stdout",
     "output_type": "stream",
     "text": [
      "my_func (2, 3) {'kw2': 2}\n",
      "('a', 'b', 'c', 'kw1', 'kw2', 'i')\n"
     ]
    }
   ],
   "source": [
    "print(my_func.__name__, my_func.__defaults__, my_func.__kwdefaults__)\n",
    "print(my_func.__code__.co_varnames)"
   ]
  },
  {
   "cell_type": "markdown",
   "id": "00f40296-04c4-4f9f-8fc1-9e9b7c0c39eb",
   "metadata": {},
   "source": [
    "There's so many caveats and intricacies to keep track of. A better way is to use the **inspect** module."
   ]
  },
  {
   "cell_type": "markdown",
   "id": "0c27cfb7-e4db-43a9-8ebf-6bafe7c8e804",
   "metadata": {},
   "source": [
    "Objects have **attributes** which is an object itself that is bound to an **instance** of a class (or object). An **attribute** that is **callable** is called a **method**.\n",
    "\n",
    "When we define functions within classes, these are known as **instance methods** (as opposed to class methods, static methods; see Deep Dive - Part 4). It is therefore bound to the instance of a class. In order to call this **instance method**, we first need to construct the object from the class and then call the **instance method on the object**.\n",
    "\n",
    "Regular functions are NOT **instance methods** because they are not bound to a class. They are just within the module.\n",
    "\n",
    "We can check if something's a method, function, or either, using:"
   ]
  },
  {
   "cell_type": "code",
   "execution_count": 95,
   "id": "f8ec2bb8-a3a5-4023-8b2d-b4282f6a6b4f",
   "metadata": {},
   "outputs": [
    {
     "data": {
      "text/plain": [
       "(True, True, True, True)"
      ]
     },
     "execution_count": 95,
     "metadata": {},
     "output_type": "execute_result"
    }
   ],
   "source": [
    "import inspect\n",
    "\n",
    "def my_func():\n",
    "    pass\n",
    "\n",
    "class MyClass:\n",
    "    def func(self):\n",
    "        pass\n",
    "    \n",
    "my_obj = MyClass()\n",
    "\n",
    "inspect.isfunction(my_func), inspect.ismethod(my_obj.func), inspect.isroutine(my_func), inspect.isroutine(my_obj.func)"
   ]
  },
  {
   "cell_type": "markdown",
   "id": "b412e902-6abb-4c35-8328-f2a6ef2dd627",
   "metadata": {},
   "source": [
    "**Code introspection:**\n",
    "\n",
    "We can recover the source code of our functions/methods using `inspect.getsource(my_func)` and also the module where it was created with `inspect.getmodule(my_func)`, which will usually return `__main__`. We can even get comments that are written directly above a `def my_func()` line of code."
   ]
  },
  {
   "cell_type": "markdown",
   "id": "cff3474a-2b37-4d5f-999f-7a128f28632f",
   "metadata": {},
   "source": [
    "**Introspection callable signatures**: `.inspect.signature` has an attribute called `parameters` which is a dictionary of parameter names (keys) and metadata about themselves (values). These values can be their name, default values, annotations and kind (whether positional or keyword)."
   ]
  },
  {
   "cell_type": "code",
   "execution_count": 96,
   "id": "29be9052-4d66-4c23-a058-437f7d6e9f67",
   "metadata": {},
   "outputs": [
    {
     "data": {
      "text/plain": [
       "<Signature (a: 'a string', b: int = 1, *args: 'additional positional args', kw1: 'first keyword-only arg', kw2: 'second keyword-only arg' = 10, **kwargs: 'additional keyword-only args') -> str>"
      ]
     },
     "execution_count": 96,
     "metadata": {},
     "output_type": "execute_result"
    }
   ],
   "source": [
    "def my_func(a: 'a string', \n",
    "            b: int = 1, \n",
    "            *args: 'additional positional args', \n",
    "            kw1: 'first keyword-only arg', \n",
    "            kw2: 'second keyword-only arg' = 10,\n",
    "            **kwargs: 'additional keyword-only args') -> str:\n",
    "    \"\"\"does something\n",
    "       or other\"\"\"\n",
    "    pass\n",
    "\n",
    "inspect.signature(my_func)"
   ]
  },
  {
   "cell_type": "markdown",
   "id": "65ecce13-35fe-4634-9f32-f6ed9af43719",
   "metadata": {},
   "source": [
    "# 06 - Callables"
   ]
  },
  {
   "cell_type": "markdown",
   "id": "1f9b010b-60cf-4829-bbea-1a658b2250c1",
   "metadata": {},
   "source": [
    "Callables are anything with `()`. It always returns something (even None counts), therefore it can be assigned to a variable. We can check if something is callable using `callable()`.\n",
    "\n",
    "Classes are callable:"
   ]
  },
  {
   "cell_type": "code",
   "execution_count": 97,
   "id": "b458c30c-9f91-4a66-a15c-6dd4000fb07d",
   "metadata": {},
   "outputs": [
    {
     "name": "stdout",
     "output_type": "stream",
     "text": [
      "True\n",
      "10.5\n"
     ]
    }
   ],
   "source": [
    "from decimal import Decimal\n",
    "\n",
    "print(callable(Decimal))\n",
    "\n",
    "result = Decimal('10.5')\n",
    "print(result)"
   ]
  },
  {
   "cell_type": "markdown",
   "id": "5161339b-1d3c-4d8f-9383-8d3f7f01b7f3",
   "metadata": {},
   "source": [
    "Class instances may be callable: We use the dunder method `__call__`. This means we can add `()` to the end of our class instance."
   ]
  },
  {
   "cell_type": "code",
   "execution_count": 98,
   "id": "dedb8837-c577-4203-ae54-ecc22139fadb",
   "metadata": {},
   "outputs": [
    {
     "name": "stdout",
     "output_type": "stream",
     "text": [
      "initializing...\n",
      "100\n",
      "250\n",
      "my counter is at: 250\n"
     ]
    }
   ],
   "source": [
    "class MyClass:\n",
    "    def __init__(self):\n",
    "        print('initializing...')\n",
    "        self.counter = 0\n",
    "    \n",
    "    def __call__(self, x=1):\n",
    "        self.counter += x\n",
    "        print(self.counter)\n",
    "        \n",
    "\n",
    "my_obj = MyClass()\n",
    "my_obj(100)\n",
    "my_obj(150)\n",
    "\n",
    "print(f\"my counter is at: {my_obj.counter}\")"
   ]
  },
  {
   "cell_type": "markdown",
   "id": "31bfd31f-38d8-4b24-bda9-f11ffc5095a7",
   "metadata": {},
   "source": [
    "# 07 - Map, Filter, Zip and List Comprehensions"
   ]
  },
  {
   "cell_type": "markdown",
   "id": "5cc77c2c-8d39-4401-8651-c90a360ae17d",
   "metadata": {},
   "source": [
    "**Higher order function definition**: A function that takes a function as an argument, and/or returns a function as its return value"
   ]
  },
  {
   "cell_type": "markdown",
   "id": "3412aa63-157d-44d9-8a1d-9f6f66c6bde2",
   "metadata": {
    "tags": []
   },
   "source": [
    "### Map"
   ]
  },
  {
   "cell_type": "markdown",
   "id": "4c364117-970b-4b0e-a6ab-c190883fc6f1",
   "metadata": {},
   "source": [
    "The **map** built-in function is a higher-order function that applies a function to an iterable type object.\n",
    "\n",
    "Its structure is `map(<func>, <*iterables>)`. The `map` function will return an `iterator` that calculates the function applied to each element of the iterables.\n"
   ]
  },
  {
   "cell_type": "code",
   "execution_count": 99,
   "id": "73c78571-5437-4d97-9ccb-ac425187eeca",
   "metadata": {},
   "outputs": [
    {
     "data": {
      "text/plain": [
       "[1, 4, 9, 16]"
      ]
     },
     "execution_count": 99,
     "metadata": {},
     "output_type": "execute_result"
    }
   ],
   "source": [
    "l = [1, 2, 3, 4]\n",
    "\n",
    "def sq(x):\n",
    "    return x**2\n",
    "\n",
    "list(map(sq, l))"
   ]
  },
  {
   "cell_type": "markdown",
   "id": "98e96167-baeb-489d-a0e4-420e163add6f",
   "metadata": {},
   "source": [
    "A few notes on the above: \n",
    "\n",
    "- `map` takes each element in the iterable and appies `sq()` to each element.\n",
    "- `sq` must only take one parameter because we only have one iterable (which is our list `l`).\n",
    "- Since `map` returns an iterator, it means that we must surround it in `list()` to actually convert the values into a list.\n",
    "\n",
    "Now, here's another example: We have two lists and suppose we want to add up the elements pairwise:\n",
    "\n",
    "Since we have two lists (our iterables), we must have two parameters in the function. Even though we have uneven lists, it's fine - Python stops at the shortest."
   ]
  },
  {
   "cell_type": "code",
   "execution_count": 100,
   "id": "fc793894-5096-4156-8cdf-50cce90a5460",
   "metadata": {},
   "outputs": [
    {
     "data": {
      "text/plain": [
       "[11, 22, 33]"
      ]
     },
     "execution_count": 100,
     "metadata": {},
     "output_type": "execute_result"
    }
   ],
   "source": [
    "add = lambda x, y: x+y\n",
    "\n",
    "# alternatively,\n",
    "# def add(x, y):\n",
    "#     return x+y\n",
    "\n",
    "l1 = [1, 2, 3]\n",
    "l2 = [10, 20, 30]\n",
    "\n",
    "list(map(add, l1, l2))"
   ]
  },
  {
   "cell_type": "markdown",
   "id": "2716f8af-1a0d-4658-b3bb-f6079378b98c",
   "metadata": {},
   "source": [
    "### Filter"
   ]
  },
  {
   "cell_type": "markdown",
   "id": "32827940-caa2-4952-97fb-b790110ed7c6",
   "metadata": {},
   "source": [
    "The **filter** built-in function is a higher-order function that applies a function to a **single** iterable type object (unlike `map` which takes an arbitrary number of iterables).\n",
    "\n",
    "Its structure is `filter(<func>, <iterable>)`. The `filter` function allows us to specify a function of whether we retain/throw out a value in the iterable. It will return an `iterator` that applies the filtering function to each element of the iterables and returns only those that are truthy. If the filtering function is set to `None`, then we will return all values that are truthy (e.g. any number besides 0, non-empty strings, non-empty lists etc.).\n"
   ]
  },
  {
   "cell_type": "code",
   "execution_count": 101,
   "id": "1b739e70-e657-4d4f-ab1c-a7a56dba3146",
   "metadata": {},
   "outputs": [
    {
     "data": {
      "text/plain": [
       "[2, 4, 6, 8]"
      ]
     },
     "execution_count": 101,
     "metadata": {},
     "output_type": "execute_result"
    }
   ],
   "source": [
    "l = [1, 2, 3, 4, 5, 6, 7, 8, 9]\n",
    "\n",
    "#def is_even(x):\n",
    "#    return x % 2 == 0\n",
    "\n",
    "is_even = lambda x: x % 2 == 0\n",
    "\n",
    "result = filter(is_even, l)\n",
    "list(result)"
   ]
  },
  {
   "cell_type": "markdown",
   "id": "aff29641-ee3e-4fab-99cc-89b9153f34ef",
   "metadata": {},
   "source": [
    "### Zip"
   ]
  },
  {
   "cell_type": "markdown",
   "id": "2e3d668c-796a-4724-861b-3cea3cc0cb39",
   "metadata": {},
   "source": [
    "Zip is **NOT** a higher order function. It takes in multiple iterables and combines them pairwise into a tuple."
   ]
  },
  {
   "cell_type": "code",
   "execution_count": 102,
   "id": "56e51c17-e874-4f2f-905b-c921f4ce145c",
   "metadata": {},
   "outputs": [
    {
     "data": {
      "text/plain": [
       "[(1, 10, 'a'), (2, 20, 'b'), (3, 30, 'c')]"
      ]
     },
     "execution_count": 102,
     "metadata": {},
     "output_type": "execute_result"
    }
   ],
   "source": [
    "l1 = [1, 2, 3]\n",
    "l2 = (10, 20, 30)\n",
    "l3 = 'abcdefghijklmnopqrs'\n",
    "list(zip(l1, l2, l3))"
   ]
  },
  {
   "cell_type": "markdown",
   "id": "f4f7c0dc-bb55-4d02-ad04-b5fe1e6c1cd5",
   "metadata": {},
   "source": [
    "**Important note on generator objects**\n",
    "\n",
    "Once we exhaust the iterator by iterating through the items, we can no longer run the code to re-generate those values again. Recall that, to turn something into an iterator, we enclose it in `()` instead of `[]`."
   ]
  },
  {
   "cell_type": "code",
   "execution_count": 103,
   "id": "caaf837f-0966-4b92-869d-b865bed511fe",
   "metadata": {},
   "outputs": [
    {
     "name": "stdout",
     "output_type": "stream",
     "text": [
      "results has type: <class 'list'>\n",
      "[1, 1, 2, 6, 24]\n"
     ]
    }
   ],
   "source": [
    "def fact(n):\n",
    "    return 1 if n < 2 else n * fact(n-1)\n",
    "\n",
    "results = [fact(n) for n in range(5)] \n",
    "print(f\"results has type: {type(results)}\") # Not a generator object.\n",
    "print(results)"
   ]
  },
  {
   "cell_type": "code",
   "execution_count": 104,
   "id": "bb19f7fc-72d3-4f05-a40a-cea4ee08871e",
   "metadata": {},
   "outputs": [
    {
     "name": "stdout",
     "output_type": "stream",
     "text": [
      "<class 'generator'>\n",
      "<generator object <genexpr> at 0x7f9f4ea5a2d0>\n"
     ]
    }
   ],
   "source": [
    "results_as_gen = (fact(n) for n in range(5))\n",
    "print(type(results_as_gen))\n",
    "print(results_as_gen)"
   ]
  },
  {
   "cell_type": "markdown",
   "id": "0ec47046-394a-483a-a1ac-8ca1156d365c",
   "metadata": {},
   "source": [
    "We can get all the values by doing `list[results_as_gen]` or generating them, one by one, using:"
   ]
  },
  {
   "cell_type": "code",
   "execution_count": 105,
   "id": "a99508a5-845e-4134-8d70-a566381b4c76",
   "metadata": {},
   "outputs": [
    {
     "name": "stdout",
     "output_type": "stream",
     "text": [
      "1\n",
      "1\n",
      "2\n",
      "6\n",
      "24\n"
     ]
    }
   ],
   "source": [
    "for x in results_as_gen:\n",
    "    print(x)"
   ]
  },
  {
   "cell_type": "markdown",
   "id": "46c938d3-2395-4359-841f-b8d77013999e",
   "metadata": {},
   "source": [
    "**RUNNING THIS LINE BELOW DOES NOTHING BECAUSE ITERATOR IS EXHAUSTED**"
   ]
  },
  {
   "cell_type": "code",
   "execution_count": 106,
   "id": "c9876ef2-1598-4ab2-b549-b47562627dde",
   "metadata": {},
   "outputs": [],
   "source": [
    "for x in results_as_gen:\n",
    "    print(x)"
   ]
  },
  {
   "cell_type": "markdown",
   "id": "4d040c98-7c84-4b25-b462-56c99669a442",
   "metadata": {},
   "source": [
    "### Using list comprehension as an alternative"
   ]
  },
  {
   "cell_type": "markdown",
   "id": "c9b855ee-fd07-4edf-9ac5-253ff57514a9",
   "metadata": {},
   "source": [
    "As an alternative to `map`..."
   ]
  },
  {
   "cell_type": "code",
   "execution_count": 107,
   "id": "ba7038fb-49bd-4f1c-b87e-1ff83994cfa3",
   "metadata": {},
   "outputs": [
    {
     "data": {
      "text/plain": [
       "[11, 22, 33]"
      ]
     },
     "execution_count": 107,
     "metadata": {},
     "output_type": "execute_result"
    }
   ],
   "source": [
    "l1 = [1, 2, 3]\n",
    "l2 = [10, 20, 30, 40]\n",
    "\n",
    "new_list = [item1 + item2 for item1, item2 in zip(l1, l2)]\n",
    "new_list"
   ]
  },
  {
   "cell_type": "markdown",
   "id": "25df032e-07ac-427e-82e9-c3ada230dacd",
   "metadata": {},
   "source": [
    "As an alternative to `filter`.."
   ]
  },
  {
   "cell_type": "code",
   "execution_count": 109,
   "id": "b21dbfb8-e30d-43f4-8c45-085cb331be52",
   "metadata": {},
   "outputs": [
    {
     "data": {
      "text/plain": [
       "[2, 4, 6, 8]"
      ]
     },
     "execution_count": 109,
     "metadata": {},
     "output_type": "execute_result"
    }
   ],
   "source": [
    "l = [1, 2, 3, 4, 5, 6, 7, 8, 9]\n",
    "\n",
    "[item for item in l if item % 2 == 0]"
   ]
  },
  {
   "cell_type": "markdown",
   "id": "8091a8cc-2889-4227-be39-827f0eaf213c",
   "metadata": {},
   "source": [
    "# 08 - Reducing Functions (aka accumulators, aggregators, folding functions)"
   ]
  },
  {
   "cell_type": "markdown",
   "id": "b12bb5b9-fed7-4895-a32c-2fd83df4e8b2",
   "metadata": {},
   "source": [
    "These are functions that recombine an iterable recursively, ending up with a single return value. It is like mapping, but it maps an iterable to a value instead of another iterable.\n",
    "\n",
    "Example: Finding the maximum value in an iterable. `_reduce` is a taking a sequence and returning a single value."
   ]
  },
  {
   "cell_type": "code",
   "execution_count": 110,
   "id": "3d6644ee-a954-42a6-a4ac-560f1d6ba650",
   "metadata": {},
   "outputs": [
    {
     "data": {
      "text/plain": [
       "10"
      ]
     },
     "execution_count": 110,
     "metadata": {},
     "output_type": "execute_result"
    }
   ],
   "source": [
    "def _reduce(fn, sequence):\n",
    "    result = sequence[0]\n",
    "    for x in sequence[1:]:\n",
    "        result = fn(result, x)\n",
    "    return result\n",
    "\n",
    "_max = lambda a, b: a if a > b else b\n",
    "l = [5, 8, 6, 10, 9]\n",
    "\n",
    "_reduce(_max, l)"
   ]
  },
  {
   "cell_type": "markdown",
   "id": "e6fda367-cba3-4ed5-8a3d-aaf0a0ebee22",
   "metadata": {},
   "source": [
    "We could also add up all values in a list too. The approach we've taken is to use a `for` loop, but later we'll come onto iterables. And we also see the `slinky` method of carrying two numbers recursively.\n",
    "\n",
    "Python has its own `reduce` function in the `functools` module which is more flexible - it can deal with all iterables like sets. Some other useful reducing functions found within python are `any()` and `all()` which are boolean-based. It returns `True` if any/all elements in the iterable is/are truthy, respectively."
   ]
  },
  {
   "cell_type": "markdown",
   "id": "27a5bcc6-5804-4e8b-a5e8-3d052d32d2a6",
   "metadata": {},
   "source": [
    "We can reproduce `any` using our loop method above. Since `any()` is just basically adding `or` between each element in the iterable, we can take two elements at a time, keep the `True` one and discard the `False` one"
   ]
  },
  {
   "cell_type": "markdown",
   "id": "329cf365-5a48-4f98-bd73-ea17072bd4cc",
   "metadata": {},
   "source": [
    "**This is what's going on under the hood**\n",
    "\n",
    "Our statement looks like this, for a list that looks like `l = [0, '', 100, 3, None, 'python', 100]`: \n",
    "```\n",
    "result = bool(0) or bool('') or bool(100) or ...\n",
    "\n",
    "result = bool(0)               -> False\n",
    "result = result or bool('')    -> False\n",
    "result = result or bool(100)   -> True\n",
    "and so on...\n",
    "```"
   ]
  },
  {
   "cell_type": "code",
   "execution_count": 111,
   "id": "6551ba11-4351-4766-8492-937e5d54e916",
   "metadata": {},
   "outputs": [
    {
     "data": {
      "text/plain": [
       "True"
      ]
     },
     "execution_count": 111,
     "metadata": {},
     "output_type": "execute_result"
    }
   ],
   "source": [
    "_any = lambda a, b: bool(a) or bool(b)\n",
    "l = [0, '', 100, 3, None, 'python', 100]\n",
    "\n",
    "_reduce(_any, l)"
   ]
  },
  {
   "cell_type": "markdown",
   "id": "5a653ae8-1b02-45c3-a936-d09ec971c134",
   "metadata": {},
   "source": [
    "**Let's see how we can apply this methodology for other reducibles like finding the product**\n",
    "\n",
    "It has the same structure as last time - with a list like `[1, 3, 5, 6]`\n",
    "```\n",
    "result = 1 * 3 * 5 * 6\n",
    "\n",
    "result = 1\n",
    "result = result * 3\n",
    "result = result * 5\n",
    "result = result * 6\n",
    "```"
   ]
  },
  {
   "cell_type": "code",
   "execution_count": 112,
   "id": "1a4c69ae-885f-4d76-a109-12f818c751d1",
   "metadata": {},
   "outputs": [
    {
     "data": {
      "text/plain": [
       "90"
      ]
     },
     "execution_count": 112,
     "metadata": {},
     "output_type": "execute_result"
    }
   ],
   "source": [
    "l = [1, 3, 5, 6]\n",
    "mult = lambda x, y: x*y\n",
    "_reduce(mult, l)"
   ]
  },
  {
   "cell_type": "markdown",
   "id": "dd7a90ab-bded-478c-8771-e06e2bb4ab10",
   "metadata": {},
   "source": [
    "We can apply this to make a factorial function too. See the full notes"
   ]
  },
  {
   "cell_type": "markdown",
   "id": "fe69148d-c8ab-478d-b812-ac9376efa0a7",
   "metadata": {},
   "source": [
    "# 09 - Partial Functions"
   ]
  },
  {
   "cell_type": "markdown",
   "id": "62d3db50-98c4-400a-930f-8ccf865a85bf",
   "metadata": {},
   "source": [
    "Partial functions is a way of reducing the number of parameters given to a function. We tend to use partials in situation where we need to call a function that actually requires more parameters than we can supply. It is like creating a manual default parameter. Let's say we have a function called `my_func(a, b, c)` but we only want to provide `b` and `c`, not `a`. If we set `a=10` as a default parameter, then we have to put it at the end of the args list (`b, c, a=10` within my_func), otherwise we throw an exception. This is the way around it."
   ]
  },
  {
   "cell_type": "code",
   "execution_count": 113,
   "id": "0a83e3a6-a531-41c0-a3ab-d0b0122f9b0c",
   "metadata": {},
   "outputs": [
    {
     "name": "stdout",
     "output_type": "stream",
     "text": [
      "10 20 30\n"
     ]
    }
   ],
   "source": [
    "def my_func(a, b, c):\n",
    "    print(a, b, c)\n",
    "    \n",
    "# my_func(a=10, 5, 3) -> SyntaxError: positional argument follows keyword argument\n",
    "\n",
    "fn = lambda b, c: my_func(10, b, c)\n",
    "\n",
    "fn(20, 30)"
   ]
  },
  {
   "cell_type": "markdown",
   "id": "77b353a5-59c1-47b8-be96-b15e71b7f783",
   "metadata": {},
   "source": [
    "Python already has a `partial` function from the `functools` library. \n",
    "\n",
    "The first parameter is our function that we want to reduce, and all following parameters are the parameters of that function in order."
   ]
  },
  {
   "cell_type": "code",
   "execution_count": 114,
   "id": "6bf9ac76-962f-42de-adaf-035faeab1f95",
   "metadata": {},
   "outputs": [
    {
     "name": "stdout",
     "output_type": "stream",
     "text": [
      "10 20 30\n"
     ]
    }
   ],
   "source": [
    "from functools import partial\n",
    "\n",
    "fn = partial(my_func, 10) # 10 is the first parameter of my_func\n",
    "fn(20, 30) # 20 and 30 are the 2nd and 3rd parameters of my_func, respectively."
   ]
  },
  {
   "cell_type": "markdown",
   "id": "b759dec6-cecd-4247-9da7-16bf00226e7b",
   "metadata": {},
   "source": [
    "Here's a more complex example:"
   ]
  },
  {
   "cell_type": "code",
   "execution_count": 115,
   "id": "50a41fd9-faaf-4a80-8f88-41f8884f6e5a",
   "metadata": {},
   "outputs": [
    {
     "name": "stdout",
     "output_type": "stream",
     "text": [
      "10 20 (30, 40) a b {'k3': 'c'}\n"
     ]
    }
   ],
   "source": [
    "def my_func(a, b, *args, k1, k2, **kwargs):\n",
    "    print(a, b, args, k1, k2, kwargs)\n",
    "    \n",
    "fn = partial(my_func, 10, k1='a') # 10 is our FIRST POSITIONAL argument and k1 is just one of our kwargs\n",
    "\n",
    "fn(20, 30, 40, k2='b', k3='c') # We have 2 fewer parameters required in this fn."
   ]
  },
  {
   "cell_type": "markdown",
   "id": "2c1a91b3-7bd8-4fab-aa02-302dbbcdc130",
   "metadata": {},
   "source": [
    "**Powers**: An even better example of taking a general function and turning it into a more specific one using partial functions:"
   ]
  },
  {
   "cell_type": "code",
   "execution_count": 116,
   "id": "acbe2ada-20ea-43d2-981b-7573f9071d62",
   "metadata": {},
   "outputs": [
    {
     "data": {
      "text/plain": [
       "(25, 3125)"
      ]
     },
     "execution_count": 116,
     "metadata": {},
     "output_type": "execute_result"
    }
   ],
   "source": [
    "def power(base, exponent):\n",
    "    return base ** exponent\n",
    "\n",
    "square = partial(power, exponent=2)\n",
    "cube = partial(power, exponent=5)\n",
    "square(5), cube(5)"
   ]
  },
  {
   "cell_type": "markdown",
   "id": "ce2541d7-c868-4bd2-a244-c931f72bc7d3",
   "metadata": {},
   "source": [
    "We can still override the values to make the partial function general again:"
   ]
  },
  {
   "cell_type": "code",
   "execution_count": 117,
   "id": "a1580318-7924-4630-b3cd-c90d24cd6987",
   "metadata": {},
   "outputs": [
    {
     "data": {
      "text/plain": [
       "125"
      ]
     },
     "execution_count": 117,
     "metadata": {},
     "output_type": "execute_result"
    }
   ],
   "source": [
    "square(5, exponent=3) # same as cubing because exponent overrided from 2 to 3."
   ]
  },
  {
   "cell_type": "markdown",
   "id": "5202f7a2-11be-4ae3-80f9-0383dbe0e444",
   "metadata": {},
   "source": [
    "**Finding the distance from the origin in cartesian coordinates**\n",
    "\n",
    "Suppose we have points (represented as tuples), and we want to sort them based on the distance of the point from some other fixed point:"
   ]
  },
  {
   "cell_type": "code",
   "execution_count": 118,
   "id": "90d7eb4f-9697-4432-9ec1-7a7f815c74cc",
   "metadata": {},
   "outputs": [
    {
     "data": {
      "text/plain": [
       "[(0, 0), (1, 1), (0, 2), (-3, 2), (10, 10)]"
      ]
     },
     "execution_count": 118,
     "metadata": {},
     "output_type": "execute_result"
    }
   ],
   "source": [
    "from functools import partial\n",
    "\n",
    "origin = (0, 0)\n",
    "l = [(1,1), (0, 2), (-3, 2), (0,0), (10, 10)]\n",
    "\n",
    "dist2 = lambda x, y: (x[0]-y[0])**2 + (x[1]-y[1])**2 # We are calculating d^2 as opposed to d because if i > j, then i^2 > j^2 for all i, j\n",
    "dist2((0,0), (1,1))\n",
    "\n",
    "key_func = lambda x: dist2(origin, x)\n",
    "\n",
    "sorted(l, key = key_func)"
   ]
  },
  {
   "cell_type": "markdown",
   "id": "cacde06b-e1dc-47a5-92ad-0dcc582185b9",
   "metadata": {},
   "source": [
    "We could simplify things a little by taking a partial function of our dist2"
   ]
  },
  {
   "cell_type": "code",
   "execution_count": 119,
   "id": "2b2f6cd1-d201-4ae3-88a7-59bbe5ce6bf4",
   "metadata": {},
   "outputs": [
    {
     "data": {
      "text/plain": [
       "[(0, 0), (1, 1), (0, 2), (-3, 2), (10, 10)]"
      ]
     },
     "execution_count": 119,
     "metadata": {},
     "output_type": "execute_result"
    }
   ],
   "source": [
    "dist_from_origin = partial(dist2, origin)\n",
    "\n",
    "sorted(l, key = dist_from_origin)"
   ]
  },
  {
   "cell_type": "markdown",
   "id": "1c19bc0b-6716-4d05-8808-1719f4c1a4f9",
   "metadata": {},
   "source": [
    "Another use is to simplify sending emails to different recipient categories (see full notes). For example, we could have a generic `sendmail(msg, user)` function that takes a message and a user group, but we could use a partial to create something like `sendadmin = partial(sendmail, user=admin)`"
   ]
  },
  {
   "cell_type": "markdown",
   "id": "6555d8b3-0d68-4a16-b354-dcd034dadbc3",
   "metadata": {},
   "source": [
    "# 10 - The operator Module"
   ]
  },
  {
   "cell_type": "markdown",
   "id": "50fdf70b-5d3b-401d-aa4c-7f188a3ebcd6",
   "metadata": {},
   "source": [
    "The **operator** module contains pretty much all arithmetic operations. This is useful if you have a higher order function that takes operation function as one of its functions. You can find less than (`lt(a, b)`), and all boolean operators. All of these functions can be made yourself using a lambda function.\n",
    "\n",
    "There are other useful ones like `countOf(s, val)` which counts how many times `val` appears in `s`. \\\n",
    "You can also have `getitem(s, i)`, which gets the index. It's the **functional equivalent** of `s[i]`"
   ]
  },
  {
   "cell_type": "markdown",
   "id": "a24c62d2-c976-409c-ba33-8a629f6c2858",
   "metadata": {},
   "source": [
    "This allows us to shortcut lines like:"
   ]
  },
  {
   "cell_type": "code",
   "execution_count": 120,
   "id": "67b4113f-175b-4c9f-8a16-8a2dd8a3e5f8",
   "metadata": {},
   "outputs": [
    {
     "data": {
      "text/plain": [
       "24"
      ]
     },
     "execution_count": 120,
     "metadata": {},
     "output_type": "execute_result"
    }
   ],
   "source": [
    "from functools import reduce\n",
    "reduce(lambda x, y: x*y, [1, 2, 3, 4])"
   ]
  },
  {
   "cell_type": "markdown",
   "id": "bf750395-1b0e-4efd-bbaf-714ae273200a",
   "metadata": {},
   "source": [
    "to.."
   ]
  },
  {
   "cell_type": "code",
   "execution_count": 121,
   "id": "6f66ec41-a35e-45eb-ade2-93c4979f116d",
   "metadata": {},
   "outputs": [
    {
     "data": {
      "text/plain": [
       "24"
      ]
     },
     "execution_count": 121,
     "metadata": {},
     "output_type": "execute_result"
    }
   ],
   "source": [
    "import operator\n",
    "reduce(operator.mul, [1,2,3,4])"
   ]
  },
  {
   "cell_type": "markdown",
   "id": "f215324d-2380-482b-ad80-450f1ad0e02c",
   "metadata": {},
   "source": [
    "`operator.mul` is a callable because we can add brackets `(a, b)` to execute it, there and then. \n",
    "We can call a callable (a callable is just something that you can add `()` on the end to call it; it's a method/function object.)"
   ]
  },
  {
   "cell_type": "code",
   "execution_count": 122,
   "id": "5860e923-9ea2-4430-84c2-1ff2236bc8d8",
   "metadata": {},
   "outputs": [
    {
     "data": {
      "text/plain": [
       "'PYTHON'"
      ]
     },
     "execution_count": 122,
     "metadata": {},
     "output_type": "execute_result"
    }
   ],
   "source": [
    "x = 'python'\n",
    "x.upper()"
   ]
  },
  {
   "cell_type": "code",
   "execution_count": 123,
   "id": "25427882-bc5f-4613-9c5d-4dadf358de8c",
   "metadata": {},
   "outputs": [
    {
     "data": {
      "text/plain": [
       "'PYTHON'"
      ]
     },
     "execution_count": 123,
     "metadata": {},
     "output_type": "execute_result"
    }
   ],
   "source": [
    "import operator\n",
    "operator.methodcaller('upper')('python')"
   ]
  },
  {
   "cell_type": "markdown",
   "id": "ea32795f-ea3d-4330-8d56-8b3782e99dd8",
   "metadata": {},
   "source": [
    "It works because `upper` is just an attribute of the string object `python`"
   ]
  },
  {
   "cell_type": "markdown",
   "id": "979896d3-146d-4721-98d1-dad446b40f97",
   "metadata": {},
   "source": [
    "Similarly, **operator.attrgetter** does a similar thing, but with object attributes. Let's say we want a function object that will always get the attribute titled `a` for any arbitrary object. This is how we can do it."
   ]
  },
  {
   "cell_type": "code",
   "execution_count": 124,
   "id": "c08f5fad-d51f-4b24-ba3a-10d22db7c9b7",
   "metadata": {},
   "outputs": [],
   "source": [
    "class MyClass:\n",
    "    def __init__(self):\n",
    "        self.a = 10\n",
    "        self.b = 20\n",
    "        self.c = 30\n",
    "        \n",
    "    def test(self):\n",
    "        print('test method running...')\n",
    "        \n",
    "my_obj = MyClass()"
   ]
  },
  {
   "cell_type": "code",
   "execution_count": 125,
   "id": "d3d012eb-d180-4aea-8d74-d79edc9ad2a1",
   "metadata": {},
   "outputs": [],
   "source": [
    "get_a = operator.attrgetter('a') # This is a callable; it is waiting for an argument for it to be called."
   ]
  },
  {
   "cell_type": "code",
   "execution_count": 126,
   "id": "96a327dd-a4a5-45fd-97a7-c52e29a8d7aa",
   "metadata": {},
   "outputs": [
    {
     "data": {
      "text/plain": [
       "10"
      ]
     },
     "execution_count": 126,
     "metadata": {},
     "output_type": "execute_result"
    }
   ],
   "source": [
    "get_a(my_obj)"
   ]
  },
  {
   "cell_type": "markdown",
   "id": "a4a6a73b-1f5f-47da-be70-6839b03fa438",
   "metadata": {},
   "source": [
    "Of course, we can alternatively use a lambda to achieve the same:"
   ]
  },
  {
   "cell_type": "code",
   "execution_count": 127,
   "id": "282eb110-023c-4642-a30e-5e3680b49210",
   "metadata": {},
   "outputs": [
    {
     "data": {
      "text/plain": [
       "10"
      ]
     },
     "execution_count": 127,
     "metadata": {},
     "output_type": "execute_result"
    }
   ],
   "source": [
    "get_a_with_lambda = lambda x: x.a\n",
    "get_a_with_lambda(my_obj)"
   ]
  },
  {
   "cell_type": "markdown",
   "id": "1503e707-8ca8-49a7-93fe-859e25cb4b5d",
   "metadata": {},
   "source": [
    "The thing that these `operator` methods have in common with `lambda` is the fact that they both return **function objects**. This makes them very easy to use in functions like reduce (and also eventlisteners)"
   ]
  }
 ],
 "metadata": {
  "kernelspec": {
   "display_name": "Python 3 (ipykernel)",
   "language": "python",
   "name": "python3"
  },
  "language_info": {
   "codemirror_mode": {
    "name": "ipython",
    "version": 3
   },
   "file_extension": ".py",
   "mimetype": "text/x-python",
   "name": "python",
   "nbconvert_exporter": "python",
   "pygments_lexer": "ipython3",
   "version": "3.10.6"
  }
 },
 "nbformat": 4,
 "nbformat_minor": 5
}
