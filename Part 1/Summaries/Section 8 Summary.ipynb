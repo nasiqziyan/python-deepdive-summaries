{
 "cells": [
  {
   "cell_type": "markdown",
   "id": "5817c602-af88-42ea-bc29-8c7f8ccd280c",
   "metadata": {
    "tags": []
   },
   "source": [
    "# 01 - Tuples as Data Structures"
   ]
  },
  {
   "cell_type": "markdown",
   "id": "b11c3efa-c251-443d-9bde-bcfb2397109f",
   "metadata": {},
   "source": [
    "The first important thing to know about tuples, besides the fact that they're immutable strings, is that they're data records; the positions of values in a tuple have a meaning. Because they're immutable, this prevents the 1st element from ending up in the 2nd position, for example. This makes tuples more similar to strings than lists. They both have fixed order and fixed length. We can't do in-place sorts or in-place reversals (without creating a new tuple). \n",
    "\n",
    "This is why in maths we use tuples to represent coordinates: (x,y). Each position has an underlying meaning so the data has a **structure**.\n",
    "\n",
    "Tuples are often **heterogeneous** which means that each element is of a different type, while lists are often **homogeneous** - this is because we often perform the same function as we iterate through a list without any consideration to its type. \n",
    "\n",
    "Here's an example:"
   ]
  },
  {
   "cell_type": "code",
   "execution_count": 74,
   "id": "2fb9e6e3-fc40-4ee3-b663-934ad0a7746e",
   "metadata": {},
   "outputs": [
    {
     "data": {
      "text/plain": [
       "[('London', 'UK', 8780000),\n",
       " ('New York', 'USA', 8500000),\n",
       " ('Beijing', 'China', 21000000)]"
      ]
     },
     "execution_count": 74,
     "metadata": {},
     "output_type": "execute_result"
    }
   ],
   "source": [
    "london = 'London', 'UK', 8_780_000\n",
    "new_york = 'New York', 'USA', 8_500_000\n",
    "beijing = 'Beijing', 'China', 21_000_000\n",
    "\n",
    "cities = london, new_york, beijing # this is a tuple.\n",
    "list(cities)"
   ]
  },
  {
   "cell_type": "markdown",
   "id": "b832ba1a-8574-432a-a23c-83663815147f",
   "metadata": {},
   "source": [
    "If we wanted to find the total population of all these cities, what would be the Pythonic way? We want to avoid using standard loops and instead prefer list comprehensions."
   ]
  },
  {
   "cell_type": "code",
   "execution_count": 75,
   "id": "01d3883a-171d-4730-acba-aea6ab51e269",
   "metadata": {},
   "outputs": [
    {
     "data": {
      "text/plain": [
       "38280000"
      ]
     },
     "execution_count": 75,
     "metadata": {},
     "output_type": "execute_result"
    }
   ],
   "source": [
    "sum([city[2] for city in cities]) # We don't need the square brackets because, without them, we create a generator expression which can still be summed over."
   ]
  },
  {
   "cell_type": "markdown",
   "id": "a647dbb3-ffd3-49b2-ae41-c621e0a21d63",
   "metadata": {},
   "source": [
    "Don't forget that you can unpack a bunch of values from a tuple using `*`. It's also convention to use `_` as the variable name for the values we don't care about."
   ]
  },
  {
   "cell_type": "code",
   "execution_count": 76,
   "id": "97785626-ed47-45eb-914b-22e260fb5fe9",
   "metadata": {},
   "outputs": [
    {
     "name": "stdout",
     "output_type": "stream",
     "text": [
      "1 2 [3, 4, 5, 6, 7, 8, 9] 10\n"
     ]
    }
   ],
   "source": [
    "a, b, *_, d = 1, 2, 3, 4, 5, 6, 7, 8, 9, 10\n",
    "print(a, b, _, d)"
   ]
  },
  {
   "cell_type": "markdown",
   "id": "c9d7f2f1-d549-468a-99b8-1f35015bd620",
   "metadata": {
    "tags": []
   },
   "source": [
    "# 02 - Named Tuples"
   ]
  },
  {
   "cell_type": "markdown",
   "id": "8654b99e-2710-4f77-9152-a8d1e941cfe8",
   "metadata": {},
   "source": [
    "Let's say we have a tuple of stock data which contains 10 elements, the last 2 of which are the highest and lowest price. If we wanted to calculate the difference between them, it would look something like: `stock_data[9] - stock_data[8]`. This is clearly unintuitive. \n",
    "\n",
    "We can use classes where we initialise all these values with appropriate attribute names such as `stock_data.high` and `stock_data.low`, but don't forget that objects are mutable - we can change their attributes - and we may not want this.\n",
    "\n",
    "We want the best of both worlds - enter **Named Tuples** imported using `from collections import namedtuple`."
   ]
  },
  {
   "cell_type": "markdown",
   "id": "5b323680-8fa7-41bf-84d5-42665ea05b01",
   "metadata": {},
   "source": [
    "The ``namedtuple`` function in ``collections`` allows us to create a tuple that also has names attached to each field (aka property). This can be handy to reference data in the tuple structure by name instead of just relying on position.\n",
    "\n",
    "The **``namedtuple`` function is basically a class factory** that creates a new type of class that uses a tuple as its underlying data storage (in fact, named tuples inherit from `tuple`), but layers in field names to each position and makes a property out of the field name.\n",
    "\n",
    "The ``namedtuple`` function creates a **class**, and we then use that class to instantiate our instances of named tuples."
   ]
  },
  {
   "cell_type": "markdown",
   "id": "fe6b0dfa-4953-46d3-9fdf-49aa0e6163f4",
   "metadata": {},
   "source": [
    "To use the `namedtuple` function we therefore need to select a class **name**, as well as indicate the **property** names, in the order in which they will be stored and accessed in the tuple.\n",
    "\n",
    "Note that a `namedtuple`, like the regular `tuple` is an **immutable** data structure. (In fact, named tuples inherit from tuples - we'll revisit this in our section on metaclasses)\n",
    "\n",
    "**The return value of a call to `namedtuple` is a class. The instance of a `namedtuple` class is a `tuple`.**\n",
    "\n",
    "The fact that we assign a variable to the return of a function call makes `namedtuple` akin to when we assign a variable name to a lambda function."
   ]
  },
  {
   "cell_type": "markdown",
   "id": "5d690f17-3fbb-4d6a-837b-bc3091be7015",
   "metadata": {},
   "source": [
    "<img src=s8-images/8.1.png width=500 />"
   ]
  },
  {
   "cell_type": "markdown",
   "id": "87f690ec-72d4-4442-8dc0-a157dddef60b",
   "metadata": {},
   "source": [
    "If you find yourself writing code such as:"
   ]
  },
  {
   "cell_type": "code",
   "execution_count": 77,
   "id": "42577667-b878-4cc6-b276-6f27ebf7641b",
   "metadata": {},
   "outputs": [],
   "source": [
    "class Point3D:\n",
    "    def __init__(self, x, y, z):\n",
    "        self.x = x\n",
    "        self.y = y\n",
    "        self.z = z"
   ]
  },
  {
   "cell_type": "markdown",
   "id": "bd637315-328c-4b99-a99d-528ac5484b8d",
   "metadata": {},
   "source": [
    "Forget it! You seriously need to use named tuples! Not only can you shorten the amount of code you need to write, but you get some additional functionality for \"free\", such as `__repr__` and `__eq__` that you do not have to implement yourself!"
   ]
  },
  {
   "cell_type": "code",
   "execution_count": 78,
   "id": "9227bbfc-fc51-4001-aa37-514ba383ab51",
   "metadata": {},
   "outputs": [
    {
     "data": {
      "text/plain": [
       "Point2D(x=10, y=20)"
      ]
     },
     "execution_count": 78,
     "metadata": {},
     "output_type": "execute_result"
    }
   ],
   "source": [
    "from collections import namedtuple\n",
    "\n",
    "Point2D = namedtuple('Point2D', ('x', 'y'))\n",
    "\n",
    "pt1 = Point2D(10, 20)\n",
    "\n",
    "pt1 # It accesses 'Point2D' from within namedtuple, not from our LHS assignment to Point2D."
   ]
  },
  {
   "cell_type": "code",
   "execution_count": 79,
   "id": "3d2467b5-7a1e-4c05-82e9-d2c6a18c328b",
   "metadata": {},
   "outputs": [
    {
     "name": "stdout",
     "output_type": "stream",
     "text": [
      "<class 'type'>\n",
      "True\n",
      "<class '__main__.Point2D'>\n"
     ]
    }
   ],
   "source": [
    "print(type(Point2D)) # 'type' is a metaclass, of which classes are instances. Just as an ordinary object is an instance of a class, \n",
    "                     #  any class in Python 3, is an instance of the type metaclass.\n",
    "\n",
    "print(isinstance(pt1, tuple)) \n",
    "print(type(pt1))     #  So, although pt1 inherits from 'tuple', all named tuples are honest to goodness **classes**, just as if you had used a `class` definition"
   ]
  },
  {
   "cell_type": "markdown",
   "id": "775335fc-1da5-4d2e-ba4f-eff1eebf329f",
   "metadata": {},
   "source": [
    "Because `named tuples` inherit from `tuple`, operations that work well on tuples, such as `tuple1 == tuple2`, will work aswell on named tuples. This is because the import has already taken care of all the dunder methods such as `__repr__` and `__eq__`."
   ]
  },
  {
   "cell_type": "markdown",
   "id": "0d645b62-628d-4099-ab51-d8e951c970d2",
   "metadata": {
    "tags": []
   },
   "source": [
    "# 03 - Named Tuples - Modifying, Extending"
   ]
  },
  {
   "cell_type": "markdown",
   "id": "544469aa-0636-4caa-9f00-b8b10254b9d6",
   "metadata": {},
   "source": [
    "**Modification**: By definition they are immutable, but we can modify it by creating a new tuple, just like how we concatenate strings to \"modify\" it. But, it's very clunky and tedious if we have many elements in the tuple. There are various other ways like slicing and unpacking but those will also have drawbacks. The best way is to use `namedtuple`'s bespoke method called `_replace`. All you do is pass in the keyword arguments equated to what they should be."
   ]
  },
  {
   "cell_type": "code",
   "execution_count": 80,
   "id": "6644be06-2a01-4d29-a6f8-12ce413c7c92",
   "metadata": {},
   "outputs": [
    {
     "data": {
      "text/plain": [
       "Stock(symbol='DJIA', year=2019, month=1, day=26, open=26313, high=26458, low=26260, close=26393)"
      ]
     },
     "execution_count": 80,
     "metadata": {},
     "output_type": "execute_result"
    }
   ],
   "source": [
    "from collections import namedtuple\n",
    "\n",
    "Stock = namedtuple('Stock', 'symbol year month day open high low close')\n",
    "\n",
    "djia = Stock('DJIA', 2018, 1, 25, 26_313, 26_458, 26_260, 26_393) # let's change the year from 2018 to 2019 and the day from 25 to 26.\n",
    "\n",
    "djia5 = djia._replace(year=2019, day=26)\n",
    "\n",
    "djia5 #This has a new ID of course because tuples are immutables."
   ]
  },
  {
   "cell_type": "markdown",
   "id": "e67411c7-35a8-43b8-aa82-2de2ee25e651",
   "metadata": {},
   "source": [
    "**Extending Named Tuples**: Sometimes we may want to add one or more properties to an existing class without modifying the code for the custom class itself.\n",
    "\n",
    "Using inheritance is one way to go about it so you may be tempted to do this with named tuples as well, but it's not easy, and there's a cleaner way to do this if all you're after is additional data fields.\n",
    "\n",
    "Suppose we want to create a new class, say `StockExt`. We can leverage the `_fields` property which collects all the fields from a given named tuple. Remember that the `namedtuple` initializer can handle a list or tuple containing the field names. For example, the one we just retrieved from `_fields`. Now all we need to do is create a new tuple that contains those fields along with whatever extras we want:"
   ]
  },
  {
   "cell_type": "code",
   "execution_count": 81,
   "id": "5de0ff1c-c897-435a-8840-3dd26a67a72f",
   "metadata": {},
   "outputs": [],
   "source": [
    "new_fields = Stock._fields + ('previous_close',)\n",
    "StockExt = namedtuple('StockExt', new_fields)"
   ]
  },
  {
   "cell_type": "markdown",
   "id": "61992dfe-fb27-488c-99c5-6d19290775bc",
   "metadata": {},
   "source": [
    "Now, with this newly extended class, we may want to take one of the \"old\" named tuple instance (`djia`) and create the extended version of it using the `StockExt` class.\n",
    "\n",
    "This is also quite simple to do, since named tuples are tuples, and can therefore be unpacked in the arguments of a function call."
   ]
  },
  {
   "cell_type": "code",
   "execution_count": 82,
   "id": "5ab37f18-5b82-4a38-ac6b-f10d1ddd65dd",
   "metadata": {},
   "outputs": [
    {
     "name": "stdout",
     "output_type": "stream",
     "text": [
      "Stock(symbol='DJIA', year=2018, month=1, day=25, open=26313, high=26458, low=26260, close=26393)\n",
      "StockExt(symbol='DJIA', year=2018, month=1, day=25, open=26313, high=26458, low=26260, close=26393, previous_close=25000)\n"
     ]
    }
   ],
   "source": [
    "print(djia)\n",
    "djia_ext = StockExt(*djia, 25_000) # unpacking all the items in the tuple into the class' argument\n",
    "print(djia_ext)"
   ]
  },
  {
   "cell_type": "markdown",
   "id": "745eaeba-76d8-487b-870b-95afec699b57",
   "metadata": {
    "tags": []
   },
   "source": [
    "# 04 - Named Tuples - Docstrings, DefaultValues"
   ]
  },
  {
   "cell_type": "markdown",
   "id": "a30ba5a7-51ed-4f45-afcd-96131ce03c42",
   "metadata": {},
   "source": [
    "**Docstrings**: This is easily done with `__doc__`."
   ]
  },
  {
   "cell_type": "code",
   "execution_count": 83,
   "id": "c307e8d6-7671-4a1d-8054-e92e88b6231b",
   "metadata": {},
   "outputs": [],
   "source": [
    "from collections import namedtuple\n",
    "Point2D = namedtuple('Point2D', 'x y')\n",
    "\n",
    "Point2D.__doc__ = 'Represents a 2D Cartesian coordinate'  # We can add docstrings to the class\n",
    "\n",
    "Point2D.x.__doc__ = 'x-coordinate' # as well as the attributes \n",
    "Point2D.y.__doc__ = 'y-coordinate'"
   ]
  },
  {
   "cell_type": "code",
   "execution_count": null,
   "id": "eb518c59-b01d-4c68-a3d4-981145633503",
   "metadata": {},
   "outputs": [],
   "source": [
    "help(Point2D) # this is how we access the docstrings"
   ]
  },
  {
   "cell_type": "markdown",
   "id": "eefcb9d1-9863-41da-8b4d-9c84c58a58e2",
   "metadata": {},
   "source": [
    "**Adding Default Values to Named Tuples**: In Python the default values for a function's parameters are stored as a tuple in the `__defaults__` attribute."
   ]
  },
  {
   "cell_type": "code",
   "execution_count": 84,
   "id": "574e6592-ac1d-4af7-bf8e-0405cddfc137",
   "metadata": {},
   "outputs": [
    {
     "data": {
      "text/plain": [
       "(20, 30)"
      ]
     },
     "execution_count": 84,
     "metadata": {},
     "output_type": "execute_result"
    }
   ],
   "source": [
    "def func(a, b=20, c=30):\n",
    "    pass\n",
    "    \n",
    "func.__defaults__"
   ]
  },
  {
   "cell_type": "markdown",
   "id": "ead9779d-fa3f-476d-a28c-f36086069968",
   "metadata": {},
   "source": [
    "The `__defaults__` property is writable:"
   ]
  },
  {
   "cell_type": "code",
   "execution_count": 85,
   "id": "2a69f8de-859e-4fcd-a9af-26432e98bbdc",
   "metadata": {},
   "outputs": [],
   "source": [
    "func.__defaults__ = (200, 300)"
   ]
  },
  {
   "cell_type": "markdown",
   "id": "99619c53-2535-47fe-bade-319ebf7d7eec",
   "metadata": {},
   "source": [
    "This is infact where Python reads the default parameters for a function. If we change them, then they will be changed in the function too.\n",
    "\n",
    "In this case, the function we are interested in specifying default values for, is the named tuple class constructor, i.e. `__new__`.\n",
    "\n",
    "So, we will simply need to set `Vector.__new__.__defaults__` to the desired tuple of default values.\n",
    "\n",
    "The only thing to note is that if you specify less default values (say `m` values) than the total number of arguments (say `n` values, where `m < n`), then the defaults will apply to the **last** `m` values. Think of it as writing out your field names and default values on two lines, and right-aligning them. (If you specify more, then the values at the beginning are effectively ignored.)"
   ]
  },
  {
   "cell_type": "code",
   "execution_count": 86,
   "id": "ac4b5fd1-df99-46bc-96b1-a901f92e7705",
   "metadata": {},
   "outputs": [
    {
     "data": {
      "text/plain": [
       "Vector(x1=5, y1=5, x2=20, y2=20, origin_x=0, origin_y=0)"
      ]
     },
     "execution_count": 86,
     "metadata": {},
     "output_type": "execute_result"
    }
   ],
   "source": [
    "Vector = namedtuple('Vector', 'x1 y1 x2 y2 origin_x origin_y')\n",
    "Vector.__new__.__defaults__ = (0, 0) # This will set default values for 'origin_x' and 'origin_y'\n",
    "\n",
    "v2 = Vector(5, 5, 20, 20) # the last 2 are taken from the defaults only if they're not provided, otherwise they're overwritten.\n",
    "v2"
   ]
  },
  {
   "cell_type": "markdown",
   "id": "fe9661a5-6525-4c82-a06b-963d83c7f413",
   "metadata": {},
   "source": [
    "**Python 3.7 update**: Now you can specify defaults using the keyword parameter `defaults`. It will still apply to the rightmost parameters."
   ]
  },
  {
   "cell_type": "code",
   "execution_count": 87,
   "id": "2a402845-1591-4921-83c6-639622be94c3",
   "metadata": {},
   "outputs": [
    {
     "data": {
      "text/plain": [
       "Vector(x1=5, y1=5, x2=20, y2=20, origin_x=0, origin_y=0)"
      ]
     },
     "execution_count": 87,
     "metadata": {},
     "output_type": "execute_result"
    }
   ],
   "source": [
    "Vector = namedtuple('Vector', 'x1 y1 x2 y2 origin_x origin_y', defaults=(0, 0)) #  This will set default values for 'origin_x' and 'origin_y' to 0.\n",
    "v3 = Vector(5, 5, 20, 20)\n",
    "v3"
   ]
  },
  {
   "cell_type": "markdown",
   "id": "c3d55f75-1ef1-4a9b-b2cc-a43e0ccbaa51",
   "metadata": {},
   "source": [
    "# 05 - Named Tuples - Application - Alternative to Dictionaries"
   ]
  },
  {
   "cell_type": "markdown",
   "id": "2618fd6d-0387-4d96-aebc-76df9fcbdf3c",
   "metadata": {},
   "source": [
    "First an important caveat: all this really only works for dictionaries with **string** keys. Dictionary keys can be other hashable data types, (including tuples, as long as they contain hashable types in turn), and these examples will not work with those types of dictionaries."
   ]
  },
  {
   "cell_type": "code",
   "execution_count": 88,
   "id": "6192cccd-d240-490a-92ab-1ca53f8a6c9b",
   "metadata": {},
   "outputs": [],
   "source": [
    "from collections import namedtuple\n",
    "\n",
    "data_dict = dict(key1=100, key2=200, key3=300) # Here's a dictionary that we want to convert to a named tuple.\n",
    "\n",
    "Data = namedtuple('Data', data_dict.keys()) # `data_dict.keys()` is actually an iterable. If it wasn't an iterable and instead a normal tuple, \n",
    "                                            # we would have to unpack it using *data_dict.keys().\n",
    "    "
   ]
  },
  {
   "cell_type": "markdown",
   "id": "69c3c5ba-9545-4065-a963-038f3db93245",
   "metadata": {},
   "source": [
    "To create the tuple, we should unpack the dictionary itself (`**`), resulting in keyword arguments that will be passed to the `Data` constructor. This is better than unpacking the values (see below) because `data_dict` may have the keys presented in an awkward order, and unpacking will assign them positionally."
   ]
  },
  {
   "cell_type": "code",
   "execution_count": 89,
   "id": "ecd658a3-4667-49d5-8465-6472c6b783e9",
   "metadata": {},
   "outputs": [
    {
     "data": {
      "text/plain": [
       "Data(key1=100, key2=200, key3=300)"
      ]
     },
     "execution_count": 89,
     "metadata": {},
     "output_type": "execute_result"
    }
   ],
   "source": [
    "d1 = Data(*data_dict.values()) # Bad way; it will pass '(100, 200, 300)` to the 1st, 2nd and 3rd parameter of the namedtuple class, respectively.\n",
    "\n",
    "d2 = Data(**data_dict) # Good way; it will past 100 to key1, 200 to key2 and 300 to key3.\n",
    "d2"
   ]
  },
  {
   "cell_type": "markdown",
   "id": "b06773a4-e216-4eb1-9831-9225529029d0",
   "metadata": {},
   "source": [
    "So, the pattern to create a named tuple out of a single dictionary is straightforward:\n",
    "\n",
    "For any dictionary `d` we can created a named tuple class and insert the data into it as follows:\n",
    "\n",
    "`1. Struct = namedtuple('Struct', d.keys())`\n",
    "\n",
    "`2. data = Struct(**d)`"
   ]
  },
  {
   "cell_type": "markdown",
   "id": "e396c8aa-b64f-43b0-b4c0-d8b85ae2cf36",
   "metadata": {},
   "source": [
    "How do we get a particular key if the key name is stored as a variable e.g. `some_key = 'key1'`. We can't call `d2.some_key` because there is no attribute called `some_key` - only `key1`,`key2`, `key3`. We have to use `getattr(<tuple_name>, <variable_name>)`."
   ]
  },
  {
   "cell_type": "code",
   "execution_count": 90,
   "id": "c6d62c7d-d2d5-40b4-a493-e836eb58a2ae",
   "metadata": {},
   "outputs": [
    {
     "data": {
      "text/plain": [
       "200"
      ]
     },
     "execution_count": 90,
     "metadata": {},
     "output_type": "execute_result"
    }
   ],
   "source": [
    "some_key = 'key2'\n",
    "getattr(d2, some_key)"
   ]
  },
  {
   "cell_type": "markdown",
   "id": "3dbc765d-c8b4-4bd7-b003-85a36cc03449",
   "metadata": {},
   "source": [
    "This is akin to the `.get` method for dictionaries."
   ]
  },
  {
   "cell_type": "code",
   "execution_count": 91,
   "id": "b1d798a4-94f5-4609-b6af-f71afcef222a",
   "metadata": {},
   "outputs": [
    {
     "data": {
      "text/plain": [
       "200"
      ]
     },
     "execution_count": 91,
     "metadata": {},
     "output_type": "execute_result"
    }
   ],
   "source": [
    "data_dict.get(some_key)"
   ]
  },
  {
   "cell_type": "markdown",
   "id": "c9dbd0c2-6a57-422a-8148-5e1391de91e0",
   "metadata": {},
   "source": [
    "In cases where you have a collection of dictionaries that share a common set of keys, this can be really useful, as long as you are willing to live with the fact that you now have immutable structures.\n",
    "\n",
    "Let's suppose we have this data list of 4 dictionaries that we want to convert into 4 named tuples."
   ]
  },
  {
   "cell_type": "code",
   "execution_count": 92,
   "id": "237f14e3-0516-4626-ab3c-36b4f3f63b0d",
   "metadata": {},
   "outputs": [],
   "source": [
    "data_list = [\n",
    "    {'key2': 2, 'key1': 1},\n",
    "    {'key1': 3, 'key2': 4},\n",
    "    {'key1': 5, 'key2': 6, 'key3': 7},\n",
    "    {'key2': 100}\n",
    "]"
   ]
  },
  {
   "cell_type": "markdown",
   "id": "c7148c98-0830-4f94-bd6b-b26230c29348",
   "metadata": {},
   "source": [
    "How do we find all unique keys present in each dictionary? We could use 2 `for` loops:"
   ]
  },
  {
   "cell_type": "code",
   "execution_count": 93,
   "id": "fb3ad1c0-4f47-48ba-bd5d-c246fa30fcc0",
   "metadata": {},
   "outputs": [],
   "source": [
    "keys = set()\n",
    "for d in data_list:\n",
    "    for key in d.keys():\n",
    "        keys.add(key)"
   ]
  },
  {
   "cell_type": "markdown",
   "id": "7e98c7de-0f3c-4d5a-85b2-efc5a5a8cc3e",
   "metadata": {},
   "source": [
    "But actually a more efficient way would be to use a comprehension:"
   ]
  },
  {
   "cell_type": "code",
   "execution_count": 94,
   "id": "ff02ada1-c84c-48a3-bf7b-8a1c947f27d4",
   "metadata": {},
   "outputs": [
    {
     "data": {
      "text/plain": [
       "{'key1', 'key2', 'key3'}"
      ]
     },
     "execution_count": 94,
     "metadata": {},
     "output_type": "execute_result"
    }
   ],
   "source": [
    "keys = {key for dict_ in data_list for key in dict_.keys()}\n",
    "keys"
   ]
  },
  {
   "cell_type": "markdown",
   "id": "5fb0bdef-82f1-4423-b4cc-ea77e121a5ec",
   "metadata": {},
   "source": [
    "In fact, we can also use the fact that we can union multiple sets (we'll cover this in detail later) by unpacking all the keys and creating a union of them:"
   ]
  },
  {
   "cell_type": "code",
   "execution_count": 95,
   "id": "fc708b28-69da-4848-9660-08c95a8e1331",
   "metadata": {},
   "outputs": [
    {
     "data": {
      "text/plain": [
       "{'key1', 'key2', 'key3'}"
      ]
     },
     "execution_count": 95,
     "metadata": {},
     "output_type": "execute_result"
    }
   ],
   "source": [
    "keys = set().union(*(dict_.keys() for dict_ in data_list))\n",
    "keys"
   ]
  },
  {
   "cell_type": "markdown",
   "id": "33bf33fa-193d-4564-b623-ca1c22df7d0a",
   "metadata": {},
   "source": [
    "Let's create the class:"
   ]
  },
  {
   "cell_type": "code",
   "execution_count": 96,
   "id": "ec607a62-3955-4cf3-8ce7-f949a2bdd048",
   "metadata": {},
   "outputs": [],
   "source": [
    "Struct = namedtuple('Struct', keys)"
   ]
  },
  {
   "cell_type": "markdown",
   "id": "76d7b121-3bab-4ac0-ab52-d5c3a21933c3",
   "metadata": {},
   "source": [
    "Now, it seems we're going to have a problem. Struct will always require 3 keys but some of our dictionaries have 2 or even 1 key - and the keys aren't ordered in each one. The solution: default values. We'll set all keys to `None` by default, and then when we iterate over the original dictionary, it will only update the keys that are passed in."
   ]
  },
  {
   "cell_type": "code",
   "execution_count": 97,
   "id": "2b10b4cd-e45a-46be-bced-ffbe587989df",
   "metadata": {},
   "outputs": [
    {
     "data": {
      "text/plain": [
       "(None, None, None)"
      ]
     },
     "execution_count": 97,
     "metadata": {},
     "output_type": "execute_result"
    }
   ],
   "source": [
    "Struct = namedtuple('Struct', keys, defaults= (None,) * len(keys))\n",
    "Struct.__new__.__defaults__"
   ]
  },
  {
   "cell_type": "code",
   "execution_count": 98,
   "id": "e3e36fb2-0743-4886-977c-47dd55fa3b7c",
   "metadata": {},
   "outputs": [
    {
     "name": "stdout",
     "output_type": "stream",
     "text": [
      "[Struct(key3=None, key1=1, key2=2), Struct(key3=None, key1=3, key2=4), Struct(key3=7, key1=5, key2=6), Struct(key3=None, key1=None, key2=100)]\n"
     ]
    }
   ],
   "source": [
    "tuple_list = []\n",
    "for dict_ in data_list:\n",
    "    tuple_list.append(Struct(**dict_))\n",
    "\n",
    "print(tuple_list)"
   ]
  },
  {
   "cell_type": "markdown",
   "id": "691d8cea-89a7-4649-a6fc-7b8c7ae8ecca",
   "metadata": {},
   "source": [
    "In a more pythonic way, let's write a generic function that takes any dictionary, which may have repeated keys, and create a list of named tuples:"
   ]
  },
  {
   "cell_type": "code",
   "execution_count": 99,
   "id": "f2d9504a-a6a2-4d06-a3a5-b3a21ed8e2cf",
   "metadata": {},
   "outputs": [
    {
     "data": {
      "text/plain": [
       "[Struct(key1=1, key2=2, key3=None),\n",
       " Struct(key1=3, key2=4, key3=None),\n",
       " Struct(key1=5, key2=6, key3=7),\n",
       " Struct(key1=None, key2=100, key3=None)]"
      ]
     },
     "execution_count": 99,
     "metadata": {},
     "output_type": "execute_result"
    }
   ],
   "source": [
    "def tuplify(dicts):\n",
    "    keys = {key for dict_ in dicts for key in dict_.keys()}\n",
    "    Struct = namedtuple('Struct', sorted(keys), defaults = (None,) * len(keys)) # `sorted` is used so keys in our tuple are presented in alphabetical order\n",
    "    \n",
    "    tuple_list = [Struct(**dict_) for dict_ in dicts]\n",
    "        \n",
    "    return tuple_list\n",
    "\n",
    "tuplify(data_list)"
   ]
  },
  {
   "cell_type": "markdown",
   "id": "0342f8f4-aa83-4db3-8b03-b780f54ac3ef",
   "metadata": {
    "tags": []
   },
   "source": [
    "# 06 - Named Tuples - Application - Returning Multiple Values"
   ]
  },
  {
   "cell_type": "markdown",
   "id": "6f5df522-b1c7-4547-bc21-ab75c2874006",
   "metadata": {},
   "source": [
    "Not much to this section - just that it can be useful to return namedtuples from a function as opposed to our normal way of returning multiple values."
   ]
  },
  {
   "cell_type": "code",
   "execution_count": 100,
   "id": "85d8ba4a-bbf5-4630-a24a-811c70643e77",
   "metadata": {},
   "outputs": [
    {
     "data": {
      "text/plain": [
       "160"
      ]
     },
     "execution_count": 100,
     "metadata": {},
     "output_type": "execute_result"
    }
   ],
   "source": [
    "from collections import namedtuple\n",
    "\n",
    "Color = namedtuple('Color', 'red green blue alpha')\n",
    "\n",
    "def random_color():\n",
    "    red = randint(0, 255)\n",
    "    green = randint(0,255)\n",
    "    blue = randint(0, 255)\n",
    "    alpha = round(random(), 2)\n",
    "    return Color(red, green, blue, alpha)\n",
    "\n",
    "color = random_color()\n",
    "color.red"
   ]
  },
  {
   "cell_type": "markdown",
   "id": "ceb91402-2582-44d4-974d-f913e6e6a8b3",
   "metadata": {},
   "source": [
    "**One final summary point:** If you find yourself creating dictionaries and you're only accessing the keys again and again without any sort of modification, use a named tuple. Additionally, if you find yourself creating classes with only an `__init__`, use named tuples instead - unless you need the mutability. Tuples are great for records of things."
   ]
  }
 ],
 "metadata": {
  "kernelspec": {
   "display_name": "Python 3 (ipykernel)",
   "language": "python",
   "name": "python3"
  },
  "language_info": {
   "codemirror_mode": {
    "name": "ipython",
    "version": 3
   },
   "file_extension": ".py",
   "mimetype": "text/x-python",
   "name": "python",
   "nbconvert_exporter": "python",
   "pygments_lexer": "ipython3",
   "version": "3.10.6"
  }
 },
 "nbformat": 4,
 "nbformat_minor": 5
}
