{
 "cells": [
  {
   "cell_type": "markdown",
   "id": "992abb98-0231-44c3-9e54-c92217fcef4d",
   "metadata": {},
   "source": [
    "# 01 - Relevant Python 3.10 Changes"
   ]
  },
  {
   "cell_type": "markdown",
   "id": "5432518e-2314-4cd8-ae7f-4787a0ab96f2",
   "metadata": {
    "tags": []
   },
   "source": [
    "## Structural Pattern Matching"
   ]
  },
  {
   "cell_type": "markdown",
   "id": "461d4cdf-065a-4b78-8a9b-4285d27e74f4",
   "metadata": {},
   "source": [
    "The release of Python 3.10 has brought some new features.\n",
    "\n",
    "This is a summary of the ones _I_ deemed relevant to this course, and does **not** include all the changes!\n",
    "\n",
    "For full release details, see [here](https://docs.python.org/3/whatsnew/3.10.html)\n",
    "\n",
    "One thing I often hear people ask, is, what's the Python equivalent of a `switch` statement. Until now, the answer has alwasy been - there isn't one. Use `if...elif` constructs. Python 3.10 introduces a new language element (`match`) to implement something called **pattern matching**, that can be used to replicate this `switch` behavior you might be used to in other languages."
   ]
  },
  {
   "cell_type": "code",
   "execution_count": 21,
   "id": "a3f1b624-a8b6-4f85-b041-d303ae55cca6",
   "metadata": {},
   "outputs": [],
   "source": [
    "def respond(language):\n",
    "    match language:\n",
    "        case \"Java\" | \"Javascript\":                # We can add OR statements into the case\n",
    "            return \"Hmm, coffee!\"\n",
    "        case \"Python\":\n",
    "            return \"I'm not scared of snakes!\"\n",
    "        case \"Rust\":\n",
    "            return \"Don't drink too much water!\"\n",
    "        case \"Go\":\n",
    "            return \"Collect $200\"\n",
    "        case _:                                    # This is the default return if no matches are found. This catchall is called a \"wildcard\"\n",
    "            return \"I'm sorry...\""
   ]
  },
  {
   "cell_type": "code",
   "execution_count": 22,
   "id": "8c10b3d1-b27b-4f07-b8db-04eadc754311",
   "metadata": {},
   "outputs": [
    {
     "data": {
      "text/plain": [
       "\"I'm not scared of snakes!\""
      ]
     },
     "execution_count": 22,
     "metadata": {},
     "output_type": "execute_result"
    }
   ],
   "source": [
    "respond('Python') # we are case-sensitive"
   ]
  },
  {
   "cell_type": "code",
   "execution_count": 23,
   "id": "efd5a309-a203-4af5-bb01-5d64d487f6e0",
   "metadata": {},
   "outputs": [
    {
     "data": {
      "text/plain": [
       "\"I'm sorry...\""
      ]
     },
     "execution_count": 23,
     "metadata": {},
     "output_type": "execute_result"
    }
   ],
   "source": [
    "respond('someotherlanguage')"
   ]
  },
  {
   "cell_type": "code",
   "execution_count": 24,
   "id": "aefaa5f3-5db6-46a4-b274-1b5da3271493",
   "metadata": {},
   "outputs": [
    {
     "data": {
      "text/plain": [
       "'Hmm, coffee!'"
      ]
     },
     "execution_count": 24,
     "metadata": {},
     "output_type": "execute_result"
    }
   ],
   "source": [
    "respond('Java')"
   ]
  },
  {
   "cell_type": "markdown",
   "id": "205799cc-5609-4eb5-8278-a77d9b09b8a9",
   "metadata": {},
   "source": [
    "This next example won't be as easy to understand because it contains topics from parts other than this part in the deep dive series, but I'll annotate it as much as I can:\n",
    "\n",
    "Suppose we have some kind of command language for driving a remote controlled robot in a maze, picking up and dropping items as it moves around. Our robot is very simple, it can move in only a few directions, and one step at a time. So to move forward three spaces, we would issue three `move forward` commands.\n",
    "\n",
    "Additional commands are `move backward`, `move left`, `move right`. We also have a few other commands our robot understands: `pick` and `drop` for picking up and dropping objects it might find.\n",
    "\n",
    "Let's start by using some symbols to represent the robot's actions:"
   ]
  },
  {
   "cell_type": "code",
   "execution_count": 25,
   "id": "61c4cbfc-2922-4344-8dd8-206ec70d85a9",
   "metadata": {},
   "outputs": [
    {
     "data": {
      "text/plain": [
       "{'F': '→', 'B': '←', 'L': '↑', 'R': '↓', 'pick': '⤣', 'drop': '⤥'}"
      ]
     },
     "execution_count": 25,
     "metadata": {},
     "output_type": "execute_result"
    }
   ],
   "source": [
    "symbols = {\n",
    "    \"F\": \"\\u2192\", \n",
    "    \"B\": \"\\u2190\", \n",
    "    \"L\": \"\\u2191\", \n",
    "    \"R\": \"\\u2193\", \n",
    "    \"pick\": \"\\u2923\", \n",
    "    \"drop\": \"\\u2925\"\n",
    "}\n",
    "\n",
    "symbols"
   ]
  },
  {
   "cell_type": "markdown",
   "id": "a2a495ab-650f-4f34-9c0d-2d16d0bc3a6f",
   "metadata": {},
   "source": [
    "Here is a less-than-elegant way:"
   ]
  },
  {
   "cell_type": "code",
   "execution_count": 26,
   "id": "bb175099-d99a-4cb6-b23f-669220589808",
   "metadata": {},
   "outputs": [
    {
     "data": {
      "text/plain": [
       "['→', '⤣', '↓', '⤥']"
      ]
     },
     "execution_count": 26,
     "metadata": {},
     "output_type": "execute_result"
    }
   ],
   "source": [
    "def op(command):\n",
    "    match command:\n",
    "        case \"move F\":\n",
    "            return symbols[\"F\"]\n",
    "        case \"move B\":\n",
    "            return symbols[\"B\"]\n",
    "        case \"move L\":\n",
    "            return symbols[\"L\"]\n",
    "        case \"move R\":\n",
    "            return symbols[\"R\"]\n",
    "        case \"pick\":\n",
    "            return symbols[\"pick\"]\n",
    "        case \"drop\":\n",
    "            return symbols[\"drop\"]\n",
    "        case _:\n",
    "            raise ValueError(f\"{command} does not compute!\")\n",
    "            \n",
    "[op(\"move F\"), op(\"pick\"), op(\"move R\"), op(\"drop\")]"
   ]
  },
  {
   "cell_type": "markdown",
   "id": "323a36e6-af02-424a-b87e-477bccbc51a1",
   "metadata": {},
   "source": [
    "We could use something called **capturing** matched sub-patterns to simply our code somewhat. Here's a slightly more elegant way:"
   ]
  },
  {
   "cell_type": "code",
   "execution_count": 27,
   "id": "7b165829-43ae-4cef-b18c-f1d4fc77433a",
   "metadata": {},
   "outputs": [
    {
     "data": {
      "text/plain": [
       "['↑', '↓', '←', '⤣', '↑']"
      ]
     },
     "execution_count": 27,
     "metadata": {},
     "output_type": "execute_result"
    }
   ],
   "source": [
    "def op(command):\n",
    "    match command:\n",
    "        case [\"move\", (\"F\" | \"B\" | \"L\" |\"R\") as direction]: # We pass in a list where the first element is \"move\" and the 2nd is either F, B, L or R. \n",
    "                                                            # If it's one of these, then this value is stored in the 'direction' variable.                                                 \n",
    "            return symbols[direction]\n",
    "        case \"pick\":\n",
    "            return symbols[\"pick\"]\n",
    "        case \"drop\":\n",
    "            return symvols[\"drop\"]\n",
    "        case _:\n",
    "            raise ValueError(f\"{command} does not compute!\")\n",
    "            \n",
    "[op([\"move\", \"L\"]), op([\"move\", \"R\"]), op([\"move\", \"B\"]), op(\"pick\"), op([\"move\", \"L\"])]"
   ]
  },
  {
   "cell_type": "markdown",
   "id": "41f0280a-518b-4577-9170-58c1aa3d4385",
   "metadata": {},
   "source": [
    "The lack of consistency with using lists for state action + direction but not for just an action such as pick makes this less elegant. Also, we would like to have something that looks more like: op(move up up down left), op(pick), op(move left right down). Here's an even more elegant way: "
   ]
  },
  {
   "cell_type": "code",
   "execution_count": 28,
   "id": "f34a2e15-32df-42b9-b2d1-65c727a17c6b",
   "metadata": {},
   "outputs": [],
   "source": [
    "def op(command):\n",
    "    match command:\n",
    "        case ['move', *directions]:                                       # This allows us to pass multiple comma-separated arguments.\n",
    "            return tuple(symbols[direction] for direction in directions)  # This takes each argument, converts it to a symbol and packs them all into a tuple\n",
    "        case \"pick\":\n",
    "            return symbols[\"pick\"]\n",
    "        case \"drop\":\n",
    "            return symbols[\"drop\"]\n",
    "        case _:\n",
    "            raise ValueError(f\"{command} does not compute!\")"
   ]
  },
  {
   "cell_type": "code",
   "execution_count": 29,
   "id": "ecc54499-e57f-422a-aed8-f5c5961d4a39",
   "metadata": {},
   "outputs": [
    {
     "data": {
      "text/plain": [
       "[('→', '→', '↑'), '⤣', ('↓', '↑', '→'), '⤥']"
      ]
     },
     "execution_count": 29,
     "metadata": {},
     "output_type": "execute_result"
    }
   ],
   "source": [
    "[op([\"move\", \"F\", \"F\", \"L\"]), op(\"pick\"), op([\"move\", \"R\", \"L\", \"F\"]), op(\"drop\")]"
   ]
  },
  {
   "cell_type": "markdown",
   "id": "743cddac-7360-4570-9d0d-cdc5b3f324c8",
   "metadata": {},
   "source": [
    "One issue is that if we pass an illegal direction, we would get a generic error - not the value error we see in the wildcard case. We would rather just get our custom `ValueError`. To do this we can place a **guard** on our `case` for the `move` command, that will not only do the match but also test an additional condition. This is the most elegant way:"
   ]
  },
  {
   "cell_type": "code",
   "execution_count": 30,
   "id": "2bc4c51b-d5f2-4e0a-932a-864033607f8a",
   "metadata": {},
   "outputs": [
    {
     "data": {
      "text/plain": [
       "[('→', '→', '↑'), '⤣', ('↓', '↑', '→'), '⤥']"
      ]
     },
     "execution_count": 30,
     "metadata": {},
     "output_type": "execute_result"
    }
   ],
   "source": [
    "def op(command):\n",
    "    match command:\n",
    "        case ['move', *directions] if set(directions) < symbols.keys(): # 'set' removes repeats in our indefinite list of directions. Then, we check if our set \n",
    "                                                                        # of directions is a subset of the original set of directions.\n",
    "            return tuple(symbols[direction] for direction in directions) # We only reach this line if the condition is met.\n",
    "        case \"pick\":\n",
    "            return symbols[\"pick\"]\n",
    "        case \"drop\":\n",
    "            return symbols[\"drop\"]\n",
    "        case _:\n",
    "            raise ValueError(f\"{command} does not compute!\")\n",
    "            \n",
    "[op([\"move\", \"F\", \"F\", \"L\"]), op(\"pick\"), op([\"move\", \"R\", \"L\", \"F\"]), op(\"drop\")]"
   ]
  },
  {
   "cell_type": "markdown",
   "id": "3f612f36-4936-46c9-be90-d3c9d4ebe96e",
   "metadata": {},
   "source": [
    "That `if ` statement (the **guard**) will only let the case block execute if the match is true **and** that `if` expression evaludates to `True`:"
   ]
  },
  {
   "cell_type": "markdown",
   "id": "207e5700-a78a-4e6d-b1cd-9640780ad4c4",
   "metadata": {
    "tags": []
   },
   "source": [
    "## The `zip` Function"
   ]
  },
  {
   "cell_type": "markdown",
   "id": "8a980066-266f-4127-8aef-8a2e3c77bc06",
   "metadata": {},
   "source": [
    "We may recall that a `zip` will stop when one of the iterables are exhausted. Note that `zip` is a generator function so we enclose it in `list` to generate the terms."
   ]
  },
  {
   "cell_type": "code",
   "execution_count": 31,
   "id": "c9a448f9-3888-4135-9eef-80657d11e90a",
   "metadata": {},
   "outputs": [
    {
     "data": {
      "text/plain": [
       "[('a', 10), ('b', 20), ('c', 30)]"
      ]
     },
     "execution_count": 31,
     "metadata": {},
     "output_type": "execute_result"
    }
   ],
   "source": [
    "l1 = ['a', 'b', 'c']\n",
    "l2 = [10, 20, 30, 40]\n",
    "\n",
    "list(zip(l1, l2))"
   ]
  },
  {
   "cell_type": "markdown",
   "id": "c839a42b-9bf3-4f16-bee9-16ed3706baa7",
   "metadata": {},
   "source": [
    "In `itertools` from the standard library we have `zip_longest` which allows us to continue until the last iterable is exhausted and just fill in a default value for the shorter iterables' terms."
   ]
  },
  {
   "cell_type": "code",
   "execution_count": 32,
   "id": "0a3f261c-79b9-4ff4-8cef-2655e357852e",
   "metadata": {},
   "outputs": [
    {
     "data": {
      "text/plain": [
       "[('a', 10), ('b', 20), ('c', 30), ('No value found', 40)]"
      ]
     },
     "execution_count": 32,
     "metadata": {},
     "output_type": "execute_result"
    }
   ],
   "source": [
    "from itertools import zip_longest\n",
    "\n",
    "list(zip_longest(l1, l2, fillvalue = 'No value found'))"
   ]
  },
  {
   "cell_type": "markdown",
   "id": "22255b07-cf8e-4426-94d0-150dfa64a620",
   "metadata": {},
   "source": [
    "But what if we only want to begin the generating if the iterables are the same length? We may add a conditional that checks if they're the same length but the issue is that imposing `len` on an iterable will automatically exhaust the iterable, meaning there will be nothing to zip afterwards. Our regular `zip` has a solution which is implemented by a parameter called `strict`. If set to True, the generating of terms will only execute if the lists are the same length, otherwise return a ValueError. This should be used in pretty much all cases because usually we zip together lists that we expect to be the same length."
   ]
  },
  {
   "cell_type": "code",
   "execution_count": 33,
   "id": "b44c1b5b-d83f-4ddc-a1a3-412fe9bdcdaf",
   "metadata": {},
   "outputs": [
    {
     "ename": "ValueError",
     "evalue": "zip() argument 2 is longer than argument 1",
     "output_type": "error",
     "traceback": [
      "\u001b[0;31m---------------------------------------------------------------------------\u001b[0m",
      "\u001b[0;31mValueError\u001b[0m                                Traceback (most recent call last)",
      "\u001b[0;32m/tmp/ipykernel_4384/958980750.py\u001b[0m in \u001b[0;36m<module>\u001b[0;34m\u001b[0m\n\u001b[0;32m----> 1\u001b[0;31m \u001b[0mlist\u001b[0m\u001b[0;34m(\u001b[0m\u001b[0mzip\u001b[0m\u001b[0;34m(\u001b[0m\u001b[0ml1\u001b[0m\u001b[0;34m,\u001b[0m \u001b[0ml2\u001b[0m\u001b[0;34m,\u001b[0m \u001b[0mstrict\u001b[0m\u001b[0;34m=\u001b[0m\u001b[0;32mTrue\u001b[0m\u001b[0;34m)\u001b[0m\u001b[0;34m)\u001b[0m\u001b[0;34m\u001b[0m\u001b[0;34m\u001b[0m\u001b[0m\n\u001b[0m",
      "\u001b[0;31mValueError\u001b[0m: zip() argument 2 is longer than argument 1"
     ]
    }
   ],
   "source": [
    "list(zip(l1, l2, strict=True))"
   ]
  },
  {
   "cell_type": "markdown",
   "id": "990503a4-cac8-4d12-8aac-d9e30a754c88",
   "metadata": {},
   "source": [
    "# 02 - Relevant Python 3.9 Changes"
   ]
  },
  {
   "cell_type": "markdown",
   "id": "bc457f7c-4a3f-4718-9a9a-265acb52c51e",
   "metadata": {},
   "source": [
    "## Timezones "
   ]
  },
  {
   "cell_type": "markdown",
   "id": "187d8987-aec2-4ffe-9fc2-0175d152eaa6",
   "metadata": {},
   "source": [
    "We don't cover 3rd party libraries in this course, but if you've worked with Python in a production environment, you will likely have come across the dreaded timezone and Daylight Savings issues that plague datetimes!\n",
    "\n",
    "Most likely you will have resorted to using the `pytz` and `python-dateutil` libraries to help with that. Now, Python 3.9 is proud to introduce the `zoneinfo` module to deal with timezones properly. About time too!\n",
    "\n",
    "For full info on this, refer to [PEP 615](https://peps.python.org/pep-0615/).\n",
    "\n",
    "And the Python [docs](https://docs.python.org/3.9/library/zoneinfo.html#module-zoneinfo).\n",
    "\n",
    "**Windows Users**: you will likely need to add a dependency on the `tzdata` [library](https://pypi.org/project/tzdata/) for the IANA time zone database. See [this note](https://docs.python.org/3.9/library/zoneinfo.html#data-sources)\n",
    "\n",
    "You should also take a look at this [presentation](https://pganssle-talks.github.io/chipy-nov-2020-zoneinfo/#/) by Paul Ganssle who wrote that module - very interesting read!"
   ]
  },
  {
   "cell_type": "markdown",
   "id": "859d6134-5a88-404b-ba05-a2afb85e668f",
   "metadata": {},
   "source": [
    "Let's look at how we might have handled timezone and DST using `pytz` and `dateutil`, and contrast that to how we can use the new `zoneinfo` module instead."
   ]
  },
  {
   "cell_type": "code",
   "execution_count": 34,
   "id": "d4289632-4d17-4860-8115-a0c810c1c1fe",
   "metadata": {},
   "outputs": [],
   "source": [
    "import zoneinfo                             # New module\n",
    "from datetime import datetime, timezone\n",
    "from zoneinfo import ZoneInfo\n",
    "\n",
    "import dateutil                             # 3rd party old module; WON'T BE USED IN THE NOTEBOOK\n",
    "import pytz                                 # 3rd party old module"
   ]
  },
  {
   "cell_type": "code",
   "execution_count": 35,
   "id": "b8afeb6d-8731-40a8-9fb4-bd12a4823f28",
   "metadata": {},
   "outputs": [
    {
     "name": "stdout",
     "output_type": "stream",
     "text": [
      "Africa/Abidjan\n",
      "Africa/Accra\n",
      "Africa/Addis_Ababa\n",
      "Africa/Algiers\n",
      "Africa/Asmara\n"
     ]
    }
   ],
   "source": [
    "# OLD WAY\n",
    "\n",
    "for tz in pytz.all_timezones[:5]: # It's a long list; I'm gonna show the first 5.\n",
    "    print(tz)"
   ]
  },
  {
   "cell_type": "code",
   "execution_count": 36,
   "id": "dbaa2387-8299-4413-b398-438bc5ad5a55",
   "metadata": {},
   "outputs": [
    {
     "name": "stdout",
     "output_type": "stream",
     "text": [
      "Africa/Abidjan\n",
      "Africa/Accra\n",
      "Africa/Addis_Ababa\n",
      "Africa/Algiers\n",
      "Africa/Asmara\n"
     ]
    }
   ],
   "source": [
    "# NEW WAY\n",
    "\n",
    "for tz in sorted(zoneinfo.available_timezones())[:5]:\n",
    "    print(tz)"
   ]
  },
  {
   "cell_type": "markdown",
   "id": "a2d6c2c5-21c1-400c-a2c8-0ca88cd8ce9d",
   "metadata": {},
   "source": [
    "Let's say we want to convert from one timezone to another, say UTC (the international time in which all other timezones are represented by their positive/negative offsets from it) to the time in Melbourne, Australia. For some reason, both old and new are not working with mine as well as the original jupyter notebook.\n",
    "\n",
    "Note: 'naive' time means a time that doesn't have a timezone associated with it."
   ]
  },
  {
   "cell_type": "code",
   "execution_count": 37,
   "id": "502ee834-9d8e-4418-936d-00af650da17d",
   "metadata": {},
   "outputs": [
    {
     "name": "stdout",
     "output_type": "stream",
     "text": [
      "The current time in UTC is 2022-11-08 11:40:48.882948+00:00\n",
      "The current time in Melbourne is 2022-11-08 11:40:48.882948+00:00\n"
     ]
    }
   ],
   "source": [
    "# OLD WAY\n",
    "\n",
    "now_utc_naive = datetime.utcnow()\n",
    "now_utc_aware = now_utc_naive.replace(tzinfo=timezone.utc) # tzinfo is just an optional kwarg that contains the timezone; adding it makes a time 'aware'.\n",
    "\n",
    "print(f\"The current time in UTC is {now_utc_aware}\")\n",
    "\n",
    "now_utc_aware.astimezone(pytz.timezone('Australia/Melbourne')) #astimezone is a method from the datetime object.\n",
    "\n",
    "print(f\"The current time in Melbourne is {now_utc_aware}\")"
   ]
  },
  {
   "cell_type": "code",
   "execution_count": 38,
   "id": "5edadd7d-cc34-4b72-80c0-1a2fd96ca296",
   "metadata": {},
   "outputs": [
    {
     "name": "stdout",
     "output_type": "stream",
     "text": [
      "The current time in UTC is 2022-11-08 11:40:48.882948+00:00\n",
      "The current time in Europe/Dublin is 2022-11-08 11:40:48.882948+00:00\n"
     ]
    }
   ],
   "source": [
    "# NEW WAY\n",
    "\n",
    "print(f\"The current time in UTC is {now_utc_aware}\")\n",
    "\n",
    "tz_zoneinfo_dublin = ZoneInfo('Europe/Dublin') # We get info of the timezone from Python's ZoneInfo, not from pytz.\n",
    "\n",
    "now_utc_aware.astimezone(tz_zoneinfo_dublin)\n",
    "\n",
    "print(f\"The current time in Europe/Dublin is {now_utc_aware}\")"
   ]
  },
  {
   "cell_type": "markdown",
   "id": "b8a55227-ce2e-42c2-86b4-89ba5be5e722",
   "metadata": {},
   "source": [
    "## Math"
   ]
  },
  {
   "cell_type": "markdown",
   "id": "5901c41b-ec2e-424e-ab53-58761f6d0991",
   "metadata": {},
   "source": [
    "Made greatest common divisor and least common multiple functional for more than 2 arguments."
   ]
  },
  {
   "cell_type": "markdown",
   "id": "35dff062-05f9-410d-8f93-8463cfc165f3",
   "metadata": {},
   "source": [
    "## Dictionary Unions"
   ]
  },
  {
   "cell_type": "markdown",
   "id": "ade06217-9dfe-40f5-ad18-e34c73a4c014",
   "metadata": {},
   "source": [
    "Before if we wanted to join two dictionaries together, we'd have to unpack them both into a new dictionary. If there were any repeats of a key, the last mention will be the one that's kept. The intuitive way of joining iterables together is via concatenation, e.g.:"
   ]
  },
  {
   "cell_type": "code",
   "execution_count": 39,
   "id": "7bcc25c1-0d3e-4a9a-8478-4314d2a2d982",
   "metadata": {},
   "outputs": [
    {
     "data": {
      "text/plain": [
       "[1, 2, 3, 4, 5, 6]"
      ]
     },
     "execution_count": 39,
     "metadata": {},
     "output_type": "execute_result"
    }
   ],
   "source": [
    "[1, 2, 3] + [4, 5, 6]"
   ]
  },
  {
   "cell_type": "markdown",
   "id": "d5827b78-1659-41d8-b9d5-3aaefb8e6dc7",
   "metadata": {},
   "source": [
    "We can now use this concatenation method for dictionaries but using the union symbol, |. "
   ]
  },
  {
   "cell_type": "code",
   "execution_count": 40,
   "id": "366f2c87-e746-4b9f-8e57-ed202ffae621",
   "metadata": {},
   "outputs": [
    {
     "name": "stdout",
     "output_type": "stream",
     "text": [
      "The old way of concatenating dictionaries: {'a': 1, 'b': 2, 'c': 300, 'd': 400, 'e': 500}\n",
      "The new way of concatenating dictionaries: {'a': 1, 'b': 2, 'c': 300, 'd': 400, 'e': 500}\n"
     ]
    }
   ],
   "source": [
    "d1 = {'a':1, 'b':2, 'c':3}\n",
    "d2 = {'c':300, 'd':400, 'e':500}\n",
    "\n",
    "# OLD\n",
    "\n",
    "print(\"The old way of concatenating dictionaries: {}\".format({**d1, **d2})) #Can't use f-strings on this\n",
    "\n",
    "# NEW\n",
    "\n",
    "print(f'The new way of concatenating dictionaries: {d1 | d2}')"
   ]
  },
  {
   "cell_type": "markdown",
   "id": "a046acf5-d9c5-40b7-a4ec-67a25d4f968c",
   "metadata": {},
   "source": [
    "## String Methods"
   ]
  },
  {
   "cell_type": "markdown",
   "id": "e9d78da6-324c-4215-b2dc-85b07fc360de",
   "metadata": {},
   "source": [
    "If we want to remove a prefix/suffix from each element in a list, we would normally use list comprehension, which is a fine way to do it. Let's say we want to remove '(log) ' from each item."
   ]
  },
  {
   "cell_type": "code",
   "execution_count": 41,
   "id": "1894b1e7-01b5-4f77-976e-31b67704f7f3",
   "metadata": {},
   "outputs": [],
   "source": [
    "data = [\n",
    "    \"(log) [2022-03-01T13:30:01] Log record 1\",\n",
    "    \"(log) [2022-03-01T13:30:02] Log record 2\",\n",
    "    \"(log) [2022-03-01T13:30:03] Log record 3\",\n",
    "    \"(log) [2022-03-01T13:30:04] Log record 4\",\n",
    "]"
   ]
  },
  {
   "cell_type": "code",
   "execution_count": 42,
   "id": "90680736-e332-427d-8473-6b20f9cec775",
   "metadata": {},
   "outputs": [
    {
     "data": {
      "text/plain": [
       "['[2022-03-01T13:30:01] Log record 1',\n",
       " '[2022-03-01T13:30:02] Log record 2',\n",
       " '[2022-03-01T13:30:03] Log record 3',\n",
       " '[2022-03-01T13:30:04] Log record 4']"
      ]
     },
     "execution_count": 42,
     "metadata": {},
     "output_type": "execute_result"
    }
   ],
   "source": [
    "# OLD\n",
    "\n",
    "[item.replace('(log) ','') for item in data]"
   ]
  },
  {
   "cell_type": "code",
   "execution_count": 43,
   "id": "fbdb6837-cc09-4978-bd82-a2cb87782673",
   "metadata": {},
   "outputs": [
    {
     "data": {
      "text/plain": [
       "['[2022-03-01T13:30:01] Log record 1',\n",
       " '[2022-03-01T13:30:02] Log record 2',\n",
       " '[2022-03-01T13:30:03] Log record 3',\n",
       " '[2022-03-01T13:30:04] Log record 4']"
      ]
     },
     "execution_count": 43,
     "metadata": {},
     "output_type": "execute_result"
    }
   ],
   "source": [
    "# NEW\n",
    "\n",
    "[item.removeprefix(\"(log) \") for item in data]"
   ]
  },
  {
   "cell_type": "markdown",
   "id": "d7d19dcb-cbfb-4848-a60d-dd8419b47646",
   "metadata": {},
   "source": [
    "# 03 - Python 3.8 - Assignment Expressions"
   ]
  },
  {
   "cell_type": "markdown",
   "id": "f406d618-8e0f-4008-9d5e-a417f6060ccc",
   "metadata": {},
   "source": [
    "Another enhancement to the Python core language that was introduced in Python 3.8 is **assignment expressions**.\n",
    "\n",
    "Remember that an **expression** is simply a snippet of code that is evaluated, e.g. `1+2`. We assign it to a variable with an equals.\n",
    "\n",
    "So what are **expression assignments**?\n",
    "\n",
    "Expression assignments allows us to assign expressions to a variable **inside** an expression, using the `:=` operator (the so-called *walrus* operator).\n",
    "\n",
    "To expound, we have two separate things: **expressions** and **assignments**.\n",
    "- expressions have a return value but no handle to it.\n",
    "- assignments have no return but a handle to it (via a variable).\n",
    "\n",
    "Here is an expression:"
   ]
  },
  {
   "cell_type": "code",
   "execution_count": 44,
   "id": "24afc38e-3ecf-4f19-94aa-5f3be483a618",
   "metadata": {},
   "outputs": [
    {
     "data": {
      "text/plain": [
       "3"
      ]
     },
     "execution_count": 44,
     "metadata": {},
     "output_type": "execute_result"
    }
   ],
   "source": [
    "1 + 2 "
   ]
  },
  {
   "cell_type": "markdown",
   "id": "b4aa9987-70a8-4b40-8c85-95569f0692d9",
   "metadata": {},
   "source": [
    "Here is an assignment:"
   ]
  },
  {
   "cell_type": "code",
   "execution_count": 45,
   "id": "5b303f28-ea12-4e52-b084-7cae23c235da",
   "metadata": {},
   "outputs": [],
   "source": [
    "x = (1+2)"
   ]
  },
  {
   "cell_type": "markdown",
   "id": "059e5a65-20d0-43e9-ab69-ac1d58681442",
   "metadata": {},
   "source": [
    "We can combine the two to form an **assignment expression** which evaluates the expression with a return whilst also providing a handle. We need the walrus operator to do it and the brackets."
   ]
  },
  {
   "cell_type": "code",
   "execution_count": 46,
   "id": "c0e67fab-4c66-46ed-a703-55d95d04917b",
   "metadata": {},
   "outputs": [
    {
     "data": {
      "text/plain": [
       "3"
      ]
     },
     "execution_count": 46,
     "metadata": {},
     "output_type": "execute_result"
    }
   ],
   "source": [
    "(x := 1 + 2)"
   ]
  },
  {
   "cell_type": "code",
   "execution_count": 47,
   "id": "98d097d0-d944-4795-b1bf-59e2124b3991",
   "metadata": {},
   "outputs": [
    {
     "data": {
      "text/plain": [
       "3"
      ]
     },
     "execution_count": 47,
     "metadata": {},
     "output_type": "execute_result"
    }
   ],
   "source": [
    "x # we have access to x"
   ]
  },
  {
   "cell_type": "markdown",
   "id": "90ce6f27-0f81-4ab0-8735-0f0470b695a0",
   "metadata": {},
   "source": [
    "This still behaves like an expression because it is - and the brackets should remind you of that - which means that we can nest these to perform an assignment to this 'expression'"
   ]
  },
  {
   "cell_type": "code",
   "execution_count": 48,
   "id": "5ab3105b-8824-4455-90da-531a467491f0",
   "metadata": {},
   "outputs": [],
   "source": [
    "a = (x := 10 + 20)"
   ]
  },
  {
   "cell_type": "code",
   "execution_count": 49,
   "id": "09f6bcbc-7ddf-435d-8ce7-4119e7ba5f71",
   "metadata": {},
   "outputs": [
    {
     "name": "stdout",
     "output_type": "stream",
     "text": [
      "30\n"
     ]
    }
   ],
   "source": [
    "print(a)"
   ]
  },
  {
   "cell_type": "markdown",
   "id": "de58a1ce-a0d5-4f2d-a712-cb62582e4eda",
   "metadata": {},
   "source": [
    "So, we evaluate the brackets in the regular way which evaluates to 30 for `x` and returns 30 to `a`.\n",
    "\n",
    "Let's see how this assignment expression works when we deal with mutable objects such as lists:"
   ]
  },
  {
   "cell_type": "code",
   "execution_count": 50,
   "id": "ee4da1de-40b4-4da8-be37-6324cd5fa16d",
   "metadata": {},
   "outputs": [],
   "source": [
    "l1 = (l2 := [1, 2] + [3, 4])"
   ]
  },
  {
   "cell_type": "code",
   "execution_count": 51,
   "id": "4959f6dc-7bfd-4188-996a-b0a196f5f4c1",
   "metadata": {},
   "outputs": [
    {
     "data": {
      "text/plain": [
       "True"
      ]
     },
     "execution_count": 51,
     "metadata": {},
     "output_type": "execute_result"
    }
   ],
   "source": [
    "id(l1) == id(l2)"
   ]
  },
  {
   "cell_type": "markdown",
   "id": "46973935-2007-4bb7-9c2f-a0ccf61dc5ca",
   "metadata": {},
   "source": [
    "Why's this useful? Often, we end up writing expressions in terms of other sub expressions, not just for clarity, but sometimes to **avoid repeating** function calls or expression evaluations.\n",
    "\n",
    "Example:"
   ]
  },
  {
   "cell_type": "code",
   "execution_count": 52,
   "id": "9b096a60-43dc-4434-84c1-828e40888d78",
   "metadata": {},
   "outputs": [],
   "source": [
    "import time\n",
    "import math\n",
    "\n",
    "def slow_function(x, y):\n",
    "    time.sleep(0.5)\n",
    "    return round(math.sqrt(x**2 + y**2))"
   ]
  },
  {
   "cell_type": "code",
   "execution_count": 53,
   "id": "7d2bd580-28e4-44e8-9e64-9002060e531b",
   "metadata": {},
   "outputs": [
    {
     "name": "stdout",
     "output_type": "stream",
     "text": [
      "[0, 4, 6, 8, 10]\n",
      "Elapsed: 7.5 seconds\n"
     ]
    }
   ],
   "source": [
    "from time import perf_counter\n",
    "\n",
    "start = perf_counter()\n",
    "even_results = []\n",
    "for i in range(10):\n",
    "    if slow_function(i, i) % 2 == 0:\n",
    "        even_results.append(slow_function(i, i))\n",
    "end = perf_counter()\n",
    "print(even_results)\n",
    "print(f'Elapsed: {end - start:.1f} seconds')"
   ]
  },
  {
   "cell_type": "markdown",
   "id": "b1cc378b-07e0-4425-86a8-11f92ea3f613",
   "metadata": {},
   "source": [
    "This is slower because we make a function call within the `if` block and then once more within the `append()`, so we'd naturally create a variable for this to prevent repeating ourselves."
   ]
  },
  {
   "cell_type": "code",
   "execution_count": 54,
   "id": "45c52d41-c5ab-427c-9bc5-061eb8e6e406",
   "metadata": {},
   "outputs": [
    {
     "name": "stdout",
     "output_type": "stream",
     "text": [
      "[0, 4, 6, 8, 10]\n",
      "Elapsed: 5.0 seconds\n"
     ]
    }
   ],
   "source": [
    "start = perf_counter()\n",
    "even_results = []\n",
    "for i in range(10):\n",
    "    result = slow_function(i, i)\n",
    "    if result % 2 == 0:\n",
    "        even_results.append(result)\n",
    "end = perf_counter()\n",
    "print(even_results)\n",
    "print(f'Elapsed: {end - start:.1f} seconds')"
   ]
  },
  {
   "cell_type": "markdown",
   "id": "46019b85-90a9-4746-9259-520e6f4bc80f",
   "metadata": {},
   "source": [
    "All we're doing in this code is building up a list from an iterable (`range(10)`) and throwing away any elements that are odd. Seems like a good place to use list comprehension. But... we can't write that `result = slow_function(i, i)` in our list comprehension - so we would be back to the original (and slower) may of doing it:"
   ]
  },
  {
   "cell_type": "code",
   "execution_count": 55,
   "id": "2cc7dbe3-ee8c-4dac-b952-e10d76213440",
   "metadata": {},
   "outputs": [
    {
     "name": "stdout",
     "output_type": "stream",
     "text": [
      "[0, 4, 6, 8, 10]\n",
      "Elapsed: 7.5 seconds\n"
     ]
    }
   ],
   "source": [
    "start = perf_counter()\n",
    "\n",
    "even_results = [slow_function(i, i) for i in range(10) if slow_function(i, i) % 2 == 0] # 2 function calls; not good.\n",
    "\n",
    "end = perf_counter()\n",
    "print(even_results)\n",
    "print(f'Elapsed: {end - start:.1f} seconds')"
   ]
  },
  {
   "cell_type": "markdown",
   "id": "2d119cd4-1492-46c7-82eb-e6106fbb2e2f",
   "metadata": {},
   "source": [
    "And this is where the assignment expression operator comes in very handy:"
   ]
  },
  {
   "cell_type": "code",
   "execution_count": 56,
   "id": "8ee9c3a7-6c06-40c2-a636-c4257317fde7",
   "metadata": {},
   "outputs": [
    {
     "name": "stdout",
     "output_type": "stream",
     "text": [
      "[0, 4, 6, 8, 10]\n",
      "Elapsed: 5.0 seconds\n"
     ]
    }
   ],
   "source": [
    "start = perf_counter()\n",
    "\n",
    "even_results = [result for i in range(10) if (result := slow_function(i, i)) % 2 == 0]\n",
    "\n",
    "end = perf_counter()\n",
    "print(even_results)\n",
    "print(f'Elapsed: {end - start:.1f} seconds')"
   ]
  },
  {
   "cell_type": "markdown",
   "id": "fad33d19-4e23-4f28-8a98-06aa55927eb5",
   "metadata": {},
   "source": [
    "Notice that we can't write the assignment expression in the first part and reference it in 2nd. This is because the conditional `if` is executed first."
   ]
  },
  {
   "cell_type": "code",
   "execution_count": 57,
   "id": "692422f6-379b-4eaf-bd4b-b22d70537f61",
   "metadata": {},
   "outputs": [
    {
     "ename": "NameError",
     "evalue": "name 'result' is not defined",
     "output_type": "error",
     "traceback": [
      "\u001b[0;31m---------------------------------------------------------------------------\u001b[0m",
      "\u001b[0;31mNameError\u001b[0m                                 Traceback (most recent call last)",
      "\u001b[0;32m/tmp/ipykernel_4384/2765299709.py\u001b[0m in \u001b[0;36m<module>\u001b[0;34m\u001b[0m\n\u001b[1;32m      1\u001b[0m \u001b[0;32mdel\u001b[0m \u001b[0mresult\u001b[0m\u001b[0;34m\u001b[0m\u001b[0;34m\u001b[0m\u001b[0m\n\u001b[1;32m      2\u001b[0m \u001b[0;34m\u001b[0m\u001b[0m\n\u001b[0;32m----> 3\u001b[0;31m \u001b[0meven_results\u001b[0m \u001b[0;34m=\u001b[0m \u001b[0;34m[\u001b[0m\u001b[0;34m(\u001b[0m\u001b[0mresult\u001b[0m \u001b[0;34m:=\u001b[0m \u001b[0mslow_function\u001b[0m\u001b[0;34m(\u001b[0m\u001b[0mi\u001b[0m\u001b[0;34m,\u001b[0m \u001b[0mi\u001b[0m\u001b[0;34m)\u001b[0m\u001b[0;34m)\u001b[0m \u001b[0;32mfor\u001b[0m \u001b[0mi\u001b[0m \u001b[0;32min\u001b[0m \u001b[0mrange\u001b[0m\u001b[0;34m(\u001b[0m\u001b[0;36m10\u001b[0m\u001b[0;34m)\u001b[0m \u001b[0;32mif\u001b[0m \u001b[0mresult\u001b[0m \u001b[0;34m%\u001b[0m \u001b[0;36m2\u001b[0m \u001b[0;34m==\u001b[0m \u001b[0;36m0\u001b[0m\u001b[0;34m]\u001b[0m\u001b[0;34m\u001b[0m\u001b[0;34m\u001b[0m\u001b[0m\n\u001b[0m",
      "\u001b[0;32m/tmp/ipykernel_4384/2765299709.py\u001b[0m in \u001b[0;36m<listcomp>\u001b[0;34m(.0)\u001b[0m\n\u001b[1;32m      1\u001b[0m \u001b[0;32mdel\u001b[0m \u001b[0mresult\u001b[0m\u001b[0;34m\u001b[0m\u001b[0;34m\u001b[0m\u001b[0m\n\u001b[1;32m      2\u001b[0m \u001b[0;34m\u001b[0m\u001b[0m\n\u001b[0;32m----> 3\u001b[0;31m \u001b[0meven_results\u001b[0m \u001b[0;34m=\u001b[0m \u001b[0;34m[\u001b[0m\u001b[0;34m(\u001b[0m\u001b[0mresult\u001b[0m \u001b[0;34m:=\u001b[0m \u001b[0mslow_function\u001b[0m\u001b[0;34m(\u001b[0m\u001b[0mi\u001b[0m\u001b[0;34m,\u001b[0m \u001b[0mi\u001b[0m\u001b[0;34m)\u001b[0m\u001b[0;34m)\u001b[0m \u001b[0;32mfor\u001b[0m \u001b[0mi\u001b[0m \u001b[0;32min\u001b[0m \u001b[0mrange\u001b[0m\u001b[0;34m(\u001b[0m\u001b[0;36m10\u001b[0m\u001b[0;34m)\u001b[0m \u001b[0;32mif\u001b[0m \u001b[0mresult\u001b[0m \u001b[0;34m%\u001b[0m \u001b[0;36m2\u001b[0m \u001b[0;34m==\u001b[0m \u001b[0;36m0\u001b[0m\u001b[0;34m]\u001b[0m\u001b[0;34m\u001b[0m\u001b[0;34m\u001b[0m\u001b[0m\n\u001b[0m",
      "\u001b[0;31mNameError\u001b[0m: name 'result' is not defined"
     ]
    }
   ],
   "source": [
    "del result\n",
    "\n",
    "even_results = [(result := slow_function(i, i)) for i in range(10) if result % 2 == 0] "
   ]
  },
  {
   "cell_type": "markdown",
   "id": "1febb833-8dd7-4fef-a86a-bd1ec18eaa43",
   "metadata": {},
   "source": [
    "There are 2 more examples in the full notes, but this assumes some understanding of generators."
   ]
  },
  {
   "cell_type": "markdown",
   "id": "9beae5de-f893-4e83-bda1-e5b4586094bd",
   "metadata": {},
   "source": [
    "# 04 - Relevant Python 3.8_3.7 Changes"
   ]
  },
  {
   "cell_type": "markdown",
   "id": "723bd165-bb45-4c5b-86d0-1726f4ddbf23",
   "metadata": {},
   "source": [
    "## Force Positional"
   ]
  },
  {
   "cell_type": "markdown",
   "id": "10b6204e-e48d-46bd-9224-3d8d056e18da",
   "metadata": {},
   "source": [
    "Recall that if within a function argument we see `*`, this indicates to us that every parameter afterwards MUST be a keyword argument. In other words, we **force a keyword argument**. In the below, `c` has been forced as a keyword argument."
   ]
  },
  {
   "cell_type": "code",
   "execution_count": 58,
   "id": "9be0b0f4-2271-45e6-8031-6cf2c4bf8165",
   "metadata": {},
   "outputs": [
    {
     "name": "stdout",
     "output_type": "stream",
     "text": [
      "12\n",
      "12\n"
     ]
    }
   ],
   "source": [
    "def func(a, b, *, c):\n",
    "    print(a + b + c)\n",
    "    \n",
    "# func(3, 4, 5) # doesn't work; expected 2 positional arguments, got 3.\n",
    "\n",
    "func(a=3, b=4, c=5) # less common but works\n",
    "\n",
    "func(3, 4, c=5) # works"
   ]
  },
  {
   "cell_type": "markdown",
   "id": "c8a1ef50-064a-4fbf-94aa-50bcbba8b7b6",
   "metadata": {},
   "source": [
    "We can now force the use of purely positional arguments only by using `/` instead of `*`. Arguments prior to this must be passed as positonal arguments. If they're passed as keyword, it won't work"
   ]
  },
  {
   "cell_type": "code",
   "execution_count": 59,
   "id": "ccc3ae4a-92de-472a-9a38-2364a3412bd5",
   "metadata": {},
   "outputs": [
    {
     "name": "stdout",
     "output_type": "stream",
     "text": [
      "12\n",
      "12\n"
     ]
    },
    {
     "ename": "TypeError",
     "evalue": "func() got some positional-only arguments passed as keyword arguments: 'a, b'",
     "output_type": "error",
     "traceback": [
      "\u001b[0;31m---------------------------------------------------------------------------\u001b[0m",
      "\u001b[0;31mTypeError\u001b[0m                                 Traceback (most recent call last)",
      "\u001b[0;32m/tmp/ipykernel_4384/2919455712.py\u001b[0m in \u001b[0;36m<module>\u001b[0;34m\u001b[0m\n\u001b[1;32m      5\u001b[0m \u001b[0mfunc\u001b[0m\u001b[0;34m(\u001b[0m\u001b[0;36m3\u001b[0m\u001b[0;34m,\u001b[0m \u001b[0;36m4\u001b[0m\u001b[0;34m,\u001b[0m \u001b[0mc\u001b[0m\u001b[0;34m=\u001b[0m\u001b[0;36m5\u001b[0m\u001b[0;34m)\u001b[0m \u001b[0;31m# works; a and b MUST be positional, c can be positional or keyword\u001b[0m\u001b[0;34m\u001b[0m\u001b[0;34m\u001b[0m\u001b[0m\n\u001b[1;32m      6\u001b[0m \u001b[0;34m\u001b[0m\u001b[0m\n\u001b[0;32m----> 7\u001b[0;31m \u001b[0mfunc\u001b[0m\u001b[0;34m(\u001b[0m\u001b[0ma\u001b[0m\u001b[0;34m=\u001b[0m\u001b[0;36m3\u001b[0m\u001b[0;34m,\u001b[0m \u001b[0mb\u001b[0m\u001b[0;34m=\u001b[0m\u001b[0;36m4\u001b[0m\u001b[0;34m,\u001b[0m \u001b[0mc\u001b[0m\u001b[0;34m=\u001b[0m\u001b[0;36m5\u001b[0m\u001b[0;34m)\u001b[0m \u001b[0;31m# doesn't work; a and b are not positional.\u001b[0m\u001b[0;34m\u001b[0m\u001b[0;34m\u001b[0m\u001b[0m\n\u001b[0m",
      "\u001b[0;31mTypeError\u001b[0m: func() got some positional-only arguments passed as keyword arguments: 'a, b'"
     ]
    }
   ],
   "source": [
    "def func(a, b, /, c):\n",
    "    print(a + b + c)\n",
    "\n",
    "func(3, 4, 5) # works; a and b MUST be positional, c can be positional or keyword\n",
    "func(3, 4, c=5) # works; a and b MUST be positional, c can be positional or keyword\n",
    "\n",
    "func(a=3, b=4, c=5) # doesn't work; a and b are not positional."
   ]
  },
  {
   "cell_type": "markdown",
   "id": "eea8fd5e-6948-4a65-a27a-0bdea0a4fc68",
   "metadata": {},
   "source": [
    "We can still use `*`. For example, let's say we want to create two parameter's that must be positional (a and b) and one parameter (c) that must be keyword:"
   ]
  },
  {
   "cell_type": "code",
   "execution_count": 60,
   "id": "c169d689-3ae3-42e5-a6d3-993403cc7b34",
   "metadata": {},
   "outputs": [
    {
     "name": "stdout",
     "output_type": "stream",
     "text": [
      "12\n"
     ]
    }
   ],
   "source": [
    "def func(a, b, /, *, c):\n",
    "    print(a + b + c)\n",
    "    \n",
    "func(3, 4, c=5) # no other variations are allowed."
   ]
  },
  {
   "cell_type": "markdown",
   "id": "566a45b5-8246-4330-9e31-a32a988f44a9",
   "metadata": {},
   "source": [
    "## f-string enhancements"
   ]
  },
  {
   "cell_type": "markdown",
   "id": "54fbf458-0ea4-4af0-aa87-74fdc35416d9",
   "metadata": {},
   "source": [
    "If we are using f-strings strictly for saying expressing a variable and its evaluation, we now have a shorthand by replacing `a={a}` with `{a=}`. We can also apply a type conversion like str() or int() by replacing `{a=}` with `{a=:}` - these are known as format specifiers and already exist elsewhere in Python."
   ]
  },
  {
   "cell_type": "code",
   "execution_count": 61,
   "id": "01d71674-63a8-45a5-bab8-9572d1a40546",
   "metadata": {},
   "outputs": [
    {
     "name": "stdout",
     "output_type": "stream",
     "text": [
      "a=Hello, b=357.72\n"
     ]
    }
   ],
   "source": [
    "# OLD\n",
    "\n",
    "a, b = 'Hello', 357.72\n",
    "\n",
    "print(f\"a={a}, b={b}\")"
   ]
  },
  {
   "cell_type": "code",
   "execution_count": 62,
   "id": "e28d2a4b-5f71-4a0f-8797-a468a9713d42",
   "metadata": {},
   "outputs": [
    {
     "name": "stdout",
     "output_type": "stream",
     "text": [
      "a=Hello, b=3.00\n"
     ]
    }
   ],
   "source": [
    "# NEW\n",
    "\n",
    "a, b = 'Hello', 3\n",
    "\n",
    "print(f\"{a=:s}, {b=:.2f}\") #:.2f applies 2 decimal places conversion"
   ]
  },
  {
   "cell_type": "markdown",
   "id": "9914616e-ee10-438b-8569-59c4db7a052e",
   "metadata": {},
   "source": [
    "# 05 - Python 3.6 Highlights"
   ]
  },
  {
   "cell_type": "markdown",
   "id": "e1adb855-07c2-4d6d-98b0-5cf4cfb536a8",
   "metadata": {},
   "source": [
    "Lots of stuff in here are things you're already familiar with like numeric literals (`1_000_000` is interpreted as `1000000`) and f-strings ,but note that we can actually use format specifiers such as 2 decimal place e.g. `f\"My value rounded is {result:.2f}\"`.\n",
    "\n",
    "There's also type hints which I think you should get used to doing, but remember there's no static typing here. Example:"
   ]
  },
  {
   "cell_type": "code",
   "execution_count": 63,
   "id": "8fd93bf6-e156-4670-a06f-6d18758ae616",
   "metadata": {},
   "outputs": [],
   "source": [
    "def squares(l: list[int]) -> list[int]: # l should be type 'list' and its going to contain integers. It will return (->) a list of integers\n",
    "    return [i ** 2 for i in l]\n",
    "\n",
    "my_list: list[int] = [1, 2, 3, 4] # my_list, its a list of integers "
   ]
  },
  {
   "cell_type": "markdown",
   "id": "80fa0ea5-16c2-4ba3-8151-838a6695b1ee",
   "metadata": {},
   "source": [
    "# 06 - Python 3.6 - Dictionary Ordering"
   ]
  },
  {
   "cell_type": "markdown",
   "id": "949c9216-1c48-487b-9bcb-ed3488dd5ec6",
   "metadata": {},
   "source": [
    "Works intuitively; rarely a need for ordered dict now. If you want to know some basic dictionary mutations such as removing the first/last item, getting one key at a time in order from the dictionary etc., read the full notes. I've jotted some down here."
   ]
  },
  {
   "cell_type": "code",
   "execution_count": 64,
   "id": "665b6e23-eedf-4334-bf0c-97ce1af22c3e",
   "metadata": {},
   "outputs": [
    {
     "name": "stdout",
     "output_type": "stream",
     "text": [
      "start: {'a': 1, 'b': 2, 'c': 3, 'x': 100, 'y': 200}\n",
      "pop last item: {'a': 1, 'b': 2, 'c': 3, 'x': 100}\n"
     ]
    }
   ],
   "source": [
    "# Pop last item\n",
    "\n",
    "d = {'a':1, 'b':2, 'c':3, 'x':100, 'y':200}\n",
    "print('start:', d)\n",
    "d.popitem()\n",
    "print('pop last item:', d)"
   ]
  },
  {
   "cell_type": "code",
   "execution_count": 65,
   "id": "44fa2d4b-38ac-4275-a624-a809b360ca0e",
   "metadata": {},
   "outputs": [
    {
     "name": "stdout",
     "output_type": "stream",
     "text": [
      "start: {'a': 1, 'b': 2, 'c': 3, 'x': 100, 'y': 200}\n",
      "pop first item: {'b': 2, 'c': 3, 'x': 100, 'y': 200}\n"
     ]
    }
   ],
   "source": [
    "# Pop first item; first, we need to find the first key\n",
    "\n",
    "d = {'a':1, 'b':2, 'c':3, 'x':100, 'y':200}\n",
    "print('start:', d)\n",
    "key = next(iter(d.keys()))\n",
    "d.pop(key)\n",
    "print('pop first item:', d)"
   ]
  },
  {
   "cell_type": "markdown",
   "id": "8f356a00-5378-4aed-946d-6bcf0fb693c8",
   "metadata": {},
   "source": [
    "# 07 - Python 3.6 - Preserved Order of kwargs - Named Tuple Application"
   ]
  },
  {
   "cell_type": "markdown",
   "id": "fddb5732-5370-4e36-8442-dccb4377d78f",
   "metadata": {},
   "source": [
    "Works intuitively; not much to say."
   ]
  },
  {
   "cell_type": "markdown",
   "id": "ac6ba6ab-0cf9-4765-801f-2eb3e00834f9",
   "metadata": {},
   "source": [
    "# 08 - Python 3.6 - Underscores and Numeric Literals"
   ]
  },
  {
   "cell_type": "markdown",
   "id": "b19d35ad-e6b3-4180-9112-5e2729474206",
   "metadata": {},
   "source": [
    "Another format specifier I learn't here is `:_` which adds an underscore after every 1000:"
   ]
  },
  {
   "cell_type": "code",
   "execution_count": 66,
   "id": "34c03bfa-03e9-43f1-9be9-dbcfb4d2a3c1",
   "metadata": {},
   "outputs": [
    {
     "data": {
      "text/plain": [
       "'10_000_000_000_000'"
      ]
     },
     "execution_count": 66,
     "metadata": {},
     "output_type": "execute_result"
    }
   ],
   "source": [
    "value = 10000000000000\n",
    "f\"{value:_}\""
   ]
  },
  {
   "cell_type": "markdown",
   "id": "8ca75c8f-b103-4f56-89cd-46b2e02fd78b",
   "metadata": {},
   "source": [
    "# 09 - Python 3.6 - f-Strings"
   ]
  },
  {
   "cell_type": "markdown",
   "id": "5fe0b3b5-4fc2-4e53-9364-f607f176f8b1",
   "metadata": {},
   "source": [
    "Already familiar with this."
   ]
  }
 ],
 "metadata": {
  "kernelspec": {
   "display_name": "Python 3 (ipykernel)",
   "language": "python",
   "name": "python3"
  },
  "language_info": {
   "codemirror_mode": {
    "name": "ipython",
    "version": 3
   },
   "file_extension": ".py",
   "mimetype": "text/x-python",
   "name": "python",
   "nbconvert_exporter": "python",
   "pygments_lexer": "ipython3",
   "version": "3.10.6"
  }
 },
 "nbformat": 4,
 "nbformat_minor": 5
}
