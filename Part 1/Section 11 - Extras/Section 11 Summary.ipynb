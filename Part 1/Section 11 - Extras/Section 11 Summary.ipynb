{
 "cells": [
  {
   "cell_type": "markdown",
   "id": "bf9c3256-a5c1-4ced-8efe-4f61029c5033",
   "metadata": {},
   "source": [
    "# Additional Resources"
   ]
  },
  {
   "cell_type": "markdown",
   "id": "7a51aed8-68a0-42d1-9f7f-aaf7f7f744d4",
   "metadata": {},
   "source": [
    "Make sure you check out the python docs AND PEP (Python Enhancement Proposals) for whatever you're looking at. For PEP, you will see proposals that are accepted, deferred, rejected and even withdrawn; it's useful to read those that were rejected because there will be good reasons for it. The proposal status is indicated explicitly on the PEP website, for example, if its accepted, it will have a status of 'final'."
   ]
  },
  {
   "cell_type": "markdown",
   "id": "26ad4982-0609-4450-855e-3d8bc7ffd7f8",
   "metadata": {},
   "source": [
    "Fred Baptiste's recommended books (in no particular order):\n",
    "- Learning Python (Mark Lutz) : Beginner -> Advanced \n",
    "- Fluent Python (Luciano Ramalho) : Intermediate -> Advanced\n",
    "- Python Cookbook (David Beazley) : Intermediate -> Advanced : How to solve very specific problems\n",
    "- Effective Python (Brett Slatkin) : Intermediate -> Advanced : How to write idiomatic Python\n",
    "- Python in a Nutshell (Alex Martelli) : Intermediate -> Advanced : Good as a reference\n",
    "\n",
    "Fred Baptiste's recommended Youtube content:\n",
    "- Pycon videos\n",
    "- Anything by GvR, Raymond Hettinger, Alex Martelli\n",
    "\n",
    "Websites:\n",
    "- Planet Python Blog"
   ]
  },
  {
   "cell_type": "markdown",
   "id": "1ee6f8f1-f31a-4e2f-b47b-a3505e5f8379",
   "metadata": {
    "tags": []
   },
   "source": [
    "# 09 - Random Seeds"
   ]
  },
  {
   "cell_type": "markdown",
   "id": "7cff186e-a2a0-4628-956a-f5ff7fc8d358",
   "metadata": {},
   "source": [
    "In random, we can set the seed so that we have reproducibility in whatever we're writing. By default, the seed uses the system time, hence every time you run your program a different seed is set. But we can easily set the seed to something specific. We set the seed using `random.seed(<anything>)`. The seed not only affects the values chosen by a random number generator but also how a shuffle is applied e.g. `random.shuffle`."
   ]
  },
  {
   "cell_type": "markdown",
   "id": "ed7775b7-ce72-45ed-9764-11ff38be056d",
   "metadata": {},
   "source": [
    "# 10 - Random Choices"
   ]
  },
  {
   "cell_type": "markdown",
   "id": "cc9fcf6f-301c-46ea-8945-67c78f65cb19",
   "metadata": {},
   "source": [
    "How do we pick a random element from a list/sequence? Many languages have a random number generator so the common practice is to generate a random number and then access the element associated with that number. In Python we have a builtin approach within the standard library called `random.choice` which takes an iterable."
   ]
  },
  {
   "cell_type": "code",
   "execution_count": 9,
   "id": "43139640-90a1-47cc-ba7e-a267714c05c1",
   "metadata": {},
   "outputs": [
    {
     "data": {
      "text/plain": [
       "393"
      ]
     },
     "execution_count": 9,
     "metadata": {},
     "output_type": "execute_result"
    }
   ],
   "source": [
    "import random\n",
    "\n",
    "random.choice(range(1000))"
   ]
  },
  {
   "cell_type": "markdown",
   "id": "5a3c8071-5a1f-4abb-8d50-289daedbdf53",
   "metadata": {},
   "source": [
    "If we wanted to generate 5 random numbers then we may use a list comprehension, but really we should check within the standard library first. There's a `random.choices(list, k=)` function. We can even skew the distribution by adding a weights parameter which, for a list of 5 looks like: [1, 1, 1, 1, 1] "
   ]
  },
  {
   "cell_type": "code",
   "execution_count": 10,
   "id": "570085ed-1904-468d-9c8a-9c640e564309",
   "metadata": {},
   "outputs": [],
   "source": [
    "weights = [1] * 100\n",
    "weights[42] = 250"
   ]
  },
  {
   "cell_type": "code",
   "execution_count": 11,
   "id": "ccc218bb-5ac0-4f4d-a87c-10e655bcc40f",
   "metadata": {},
   "outputs": [
    {
     "name": "stdout",
     "output_type": "stream",
     "text": [
      "[54, 20, 42, 83, 42, 42, 42, 35, 42, 42, 42, 42, 42, 42, 49, 42, 42, 79, 42, 42]\n"
     ]
    }
   ],
   "source": [
    "print(random.choices(range(100), k=20, weights=weights))"
   ]
  },
  {
   "cell_type": "markdown",
   "id": "edead0c8-5fdc-4115-9a06-941751020c99",
   "metadata": {},
   "source": [
    "# 11 - Random Samples"
   ]
  },
  {
   "cell_type": "markdown",
   "id": "928efa4e-7df4-48c5-a361-0b4eddf66b7c",
   "metadata": {},
   "source": [
    "We can use `random.sample(list, k=)` to get a sample of `k` values that are all unique."
   ]
  },
  {
   "cell_type": "markdown",
   "id": "8b57d28e-f002-4a22-9422-dfed83a744b7",
   "metadata": {},
   "source": [
    "# 12 - Timing code using timeit"
   ]
  },
  {
   "cell_type": "markdown",
   "id": "29525aa8-b51f-4743-ae31-5c6f21bf5242",
   "metadata": {},
   "source": [
    "The `timeit` module is similar to our timer decorators that we made except it has a couple of benefits. Firstly, it's platform-specific so its implementation will depend on what's best for your operating system. Also, it can time blocks of code as opposed to just functions. It disables garbage collection and finally it can be run from the commandline. "
   ]
  },
  {
   "cell_type": "code",
   "execution_count": 12,
   "id": "b52f32b8-a1df-48c3-9b07-755e2978108f",
   "metadata": {},
   "outputs": [
    {
     "name": "stdout",
     "output_type": "stream",
     "text": [
      "Help on function timeit in module timeit:\n",
      "\n",
      "timeit(stmt='pass', setup='pass', timer=<built-in function perf_counter>, number=1000000, globals=None)\n",
      "    Convenience function to create Timer object and call timeit method.\n",
      "\n"
     ]
    }
   ],
   "source": [
    "from timeit import timeit\n",
    "\n",
    "help(timeit)"
   ]
  },
  {
   "cell_type": "markdown",
   "id": "0568930e-61e6-4555-aca7-f7da00333761",
   "metadata": {},
   "source": [
    "- The `stmt` is the code that we pass for timing. It has to be passed as a string. \n",
    "- `number` is how many times to repeat the timing.\n",
    "- `setup` is a piece of code (str) that gets executed once before the main statement is executed N times. By default its `1_000_000`.\n",
    "- By default `globals=None` which means that the module has absolutely no idea of any namespace. It starts completely fresh. But, we can pass in a namespace e.g. locals(), globals() or `<module>.__dict__` if we want.\n",
    "- The return is the **total** time taken for all repeats."
   ]
  },
  {
   "cell_type": "markdown",
   "id": "a1cdf20f-eb3a-4fb6-9ebf-4c1cb7e60b9e",
   "metadata": {},
   "source": [
    "Example: Lets calculate the time it takes to `import math` vs `from math import sqrt`. We need to use the `setup` keyword because in a program, we'll likely only import a module once and then use it many times. It would be unrealistic to import a module before each use of it. So we use `setup` to make it run once."
   ]
  },
  {
   "cell_type": "code",
   "execution_count": 13,
   "id": "b59b42e9-c132-4dd0-b579-654fa40445cb",
   "metadata": {},
   "outputs": [
    {
     "data": {
      "text/plain": [
       "0.24117028799992113"
      ]
     },
     "execution_count": 13,
     "metadata": {},
     "output_type": "execute_result"
    }
   ],
   "source": [
    "timeit(stmt= 'math.sqrt(2)', setup='import math') # 1_000_000 repeats."
   ]
  },
  {
   "cell_type": "code",
   "execution_count": 14,
   "id": "1f313dc4-19d7-4e02-a3e5-ece77fcf91e5",
   "metadata": {},
   "outputs": [
    {
     "data": {
      "text/plain": [
       "0.19499893500142207"
      ]
     },
     "execution_count": 14,
     "metadata": {},
     "output_type": "execute_result"
    }
   ],
   "source": [
    "timeit(stmt= 'sqrt(2)', setup='from math import sqrt') # 1_000_000 repeats. This is only marginally faster"
   ]
  },
  {
   "cell_type": "markdown",
   "id": "5ee45cb7-b88e-428d-9191-252ff8aacc5f",
   "metadata": {},
   "source": [
    "If we want `timeit` to have a starting point for variables in the namespace then we can use the `globals` keyword. Then, we no longer need to import it."
   ]
  },
  {
   "cell_type": "code",
   "execution_count": 15,
   "id": "aa62272d-451a-4159-9499-8b31b150f91e",
   "metadata": {},
   "outputs": [
    {
     "name": "stdout",
     "output_type": "stream",
     "text": [
      "True\n"
     ]
    },
    {
     "data": {
      "text/plain": [
       "0.21371531299882918"
      ]
     },
     "execution_count": 15,
     "metadata": {},
     "output_type": "execute_result"
    }
   ],
   "source": [
    "from math import sqrt\n",
    "\n",
    "print('sqrt' in globals())\n",
    "timeit(stmt='sqrt(2)', globals = globals())"
   ]
  },
  {
   "cell_type": "markdown",
   "id": "2cd5a84e-0621-4ece-ac0f-0fed4e560595",
   "metadata": {},
   "source": [
    "# 13 - Don't Use args and kwargs Names Blindly"
   ]
  },
  {
   "cell_type": "markdown",
   "id": "6487a565-694a-45f1-a91e-7129cfc4c80b",
   "metadata": {},
   "source": [
    "If we don't know what will be passed into a function it's okay to use `*args` and `**kwargs`, e.g. in decorator functions. But, if we we're expecting a particular set of keyword arguments e.g. we're creating a `Person` class and we want to allow users to add custom attributes, we would use `**custom_attributes` as the parameter name."
   ]
  },
  {
   "cell_type": "markdown",
   "id": "884e545a-5dc3-4466-86a3-f57d3b9cbb5b",
   "metadata": {},
   "source": [
    "# 14 Python Command Line arguments"
   ]
  },
  {
   "cell_type": "markdown",
   "id": "1806a6c1-8bde-4b33-b9da-628e19726c4d",
   "metadata": {},
   "source": [
    "The folder in this directory contains 10 examples that are fully annotated. Examples 1-5 using `argv` from `sys`. It's only fine for small simple commands. For more complicated examples, we need to import `argparse`. These are explained in examples 6-10."
   ]
  },
  {
   "cell_type": "markdown",
   "id": "7b02dd90-5365-4b32-a222-f8beb3de6713",
   "metadata": {},
   "source": [
    "# 15 - Sentinel Values for Parameter Defaults"
   ]
  },
  {
   "cell_type": "markdown",
   "id": "b4c1c4c6-c6cc-4db2-a9cb-1ac8d1f31fe2",
   "metadata": {},
   "source": [
    "Often we specify the default for a function parameter as `None`. This allows to determine if the user specified an argument for that parameter or not. \n",
    "\n",
    "There's a potential issue here!\n",
    "\n",
    "What happens if we need to differentiate between the following:\n",
    "* a non-`None` value was provided for the argument\n",
    "* a `None` value *was* provided for the argument\n",
    "* the argument was not provided at all\n",
    "\n",
    "Obviously, if we write our function this way, it will not work as intended:"
   ]
  },
  {
   "cell_type": "code",
   "execution_count": 16,
   "id": "27da6888-4187-428b-873b-efef96ef7441",
   "metadata": {},
   "outputs": [
    {
     "name": "stdout",
     "output_type": "stream",
     "text": [
      "Argument was not provided\n",
      "Argument was provided\n",
      "Argument was not provided\n"
     ]
    }
   ],
   "source": [
    "def validate(a=None):\n",
    "    if a is not None:\n",
    "       print('Argument was provided')\n",
    "    else:\n",
    "        print('Argument was not provided')\n",
    "        \n",
    "validate()\n",
    "validate(100)\n",
    "validate(None)"
   ]
  },
  {
   "cell_type": "markdown",
   "id": "bdf8b626-6456-4d39-8233-35680eea157d",
   "metadata": {},
   "source": [
    "Instead, we need to use a different **sentinel** value. But which one?\n",
    "\n",
    "How can we **guarantee** that whatever sentinel we use will not be explicitly passed in by the user? \n",
    "\n",
    "For example we could try to use something like an unlikely string or integer. But that does not guarantee that the caller won't use that precise sentinel value at some point.\n",
    "\n",
    "The easiest thing to do is to create an instance of the `object` class. This is guaranteed to result in an object that the user cannot pass to us (they have no way of getting their hands on that object - or at least not without the absolute intention to do so). (remember that Python will always allow us to shoot ourselves in the foot if we try hard enough :-) )"
   ]
  },
  {
   "cell_type": "code",
   "execution_count": 20,
   "id": "f6d5f4b9-9b33-43dc-801b-b2c42e183616",
   "metadata": {},
   "outputs": [
    {
     "name": "stdout",
     "output_type": "stream",
     "text": [
      "139990344349600\n",
      "Argument was not provided\n",
      "139990380629328\n",
      "Argument was provided\n",
      "94270042768352\n",
      "Argument was provided\n"
     ]
    }
   ],
   "source": [
    "_sentinel = object()\n",
    "\n",
    "def validate(a=_sentinel):\n",
    "    print(id(a))\n",
    "    if a is not _sentinel:\n",
    "        print('Argument was provided')\n",
    "    else:\n",
    "        print('Argument was not provided')\n",
    "\n",
    "validate()\n",
    "validate(100)\n",
    "validate(None)"
   ]
  },
  {
   "cell_type": "markdown",
   "id": "70c6ef72-ee29-46b4-afd9-f83ed318f462",
   "metadata": {},
   "source": [
    "The reason why this works is because, when we create this `_sentinel` object, it is assigned a reference in memory. Now, this memory id will be forever tied up to this object. So any object that a user creates will have a different memory ID. Therefore, when we check if that new object has the same ID as our object, it will never match. The only way of getting round this is if we delete our sentinel object which frees up the memory address, and by purely chance a user creates a new variable and it gets assigned that memory address. \n",
    "\n",
    "Here's the same example but with more arguments:"
   ]
  },
  {
   "cell_type": "code",
   "execution_count": 21,
   "id": "97d291d1-e9d6-4e4b-be18-3d9afc76a413",
   "metadata": {},
   "outputs": [
    {
     "name": "stdout",
     "output_type": "stream",
     "text": [
      "Argument a was provided\n",
      "Argument b was provided\n",
      "Argument kw was provided\n"
     ]
    }
   ],
   "source": [
    "def validate(a=object(), b=object(), *, kw=object()):\n",
    "    default_a = validate.__defaults__[0]\n",
    "    default_b = validate.__defaults__[1]\n",
    "    default_kw = validate.__kwdefaults__['kw']\n",
    "    \n",
    "    if a is not default_a:\n",
    "        print('Argument a was provided')\n",
    "    else:\n",
    "        print('Argument a was not provided')\n",
    "        \n",
    "    if b is not default_b:\n",
    "        print('Argument b was provided')\n",
    "    else:\n",
    "        print('Argument b was not provided')\n",
    "        \n",
    "    if kw is not default_kw:\n",
    "        print('Argument kw was provided')\n",
    "    else:\n",
    "        print('Argument kw was not provided')\n",
    "        \n",
    "validate(100, 200, kw=None)"
   ]
  },
  {
   "cell_type": "markdown",
   "id": "28605ab8-cd86-408b-abe7-da24e1b540bd",
   "metadata": {},
   "source": [
    "# 16 - Simulating a simple Switch in Python"
   ]
  },
  {
   "cell_type": "markdown",
   "id": "7827bc86-2b91-4567-a713-75f294772085",
   "metadata": {},
   "source": [
    "There's an example of a single dispatcher in this subsection. It's using our implementation of single dispatch. It may be worth running the code through pythontutor or something."
   ]
  },
  {
   "cell_type": "code",
   "execution_count": 22,
   "id": "81f6efc0-f660-4302-b2a6-5b394e901628",
   "metadata": {},
   "outputs": [],
   "source": [
    "def singledispatch(fn):\n",
    "    registry = dict()\n",
    "    registry[object] = fn\n",
    "    \n",
    "    def register(type_):\n",
    "        def inner(fn):\n",
    "            registry[type_] = fn\n",
    "            return fn  # we do this so we can stack register decorators!\n",
    "        return inner\n",
    "   \n",
    "    def decorator(arg):\n",
    "        fn = registry.get(type(arg), registry[object])\n",
    "        return fn(arg)\n",
    "\n",
    "    decorator.register = register\n",
    "    return decorator"
   ]
  },
  {
   "cell_type": "code",
   "execution_count": 23,
   "id": "7341a8c1-b9b4-4fba-8e17-4529b295774f",
   "metadata": {},
   "outputs": [],
   "source": [
    "def switcher(fn):\n",
    "    registry = dict()\n",
    "    registry['default'] = fn\n",
    "    \n",
    "    def register(case):\n",
    "\n",
    "        \n",
    "        def inner(fn):\n",
    "            registry[case] = fn\n",
    "            return fn  # we do this so we can stack register decorators!\n",
    "        return inner\n",
    "   \n",
    "    def decorator(case):\n",
    "        fn = registry.get(case, registry['default'])\n",
    "        return fn()\n",
    "\n",
    "    decorator.register = register\n",
    "    return decorator"
   ]
  },
  {
   "cell_type": "code",
   "execution_count": 24,
   "id": "bc386a9a-a441-4e11-806d-a35eedc5e7e2",
   "metadata": {},
   "outputs": [
    {
     "data": {
      "text/plain": [
       "<function __main__.<lambda>()>"
      ]
     },
     "execution_count": 24,
     "metadata": {},
     "output_type": "execute_result"
    }
   ],
   "source": [
    "@switcher\n",
    "def dow():\n",
    "    print('Invalid day of week')\n",
    "    \n",
    "@dow.register(1)\n",
    "def dow_1():\n",
    "    print('Monday')\n",
    "    \n",
    "dow.register(2)(lambda: print('Tuesday'))\n",
    "dow.register(3)(lambda: print('Wednesday'))\n",
    "dow.register(4)(lambda: print('Thursday'))\n",
    "dow.register(5)(lambda: print('Friday'))\n",
    "dow.register(6)(lambda: print('Saturday'))\n",
    "dow.register(7)(lambda: print('Sunday'))"
   ]
  },
  {
   "cell_type": "code",
   "execution_count": 25,
   "id": "d49f567e-a816-47f9-992f-0be7a16d54d2",
   "metadata": {},
   "outputs": [
    {
     "name": "stdout",
     "output_type": "stream",
     "text": [
      "Monday\n"
     ]
    }
   ],
   "source": [
    "dow(1)"
   ]
  }
 ],
 "metadata": {
  "kernelspec": {
   "display_name": "Python 3 (ipykernel)",
   "language": "python",
   "name": "python3"
  },
  "language_info": {
   "codemirror_mode": {
    "name": "ipython",
    "version": 3
   },
   "file_extension": ".py",
   "mimetype": "text/x-python",
   "name": "python",
   "nbconvert_exporter": "python",
   "pygments_lexer": "ipython3",
   "version": "3.10.6"
  }
 },
 "nbformat": 4,
 "nbformat_minor": 5
}
