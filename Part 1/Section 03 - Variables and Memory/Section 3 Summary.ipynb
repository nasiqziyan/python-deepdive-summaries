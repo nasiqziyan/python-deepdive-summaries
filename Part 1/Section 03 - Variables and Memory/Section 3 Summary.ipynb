{
 "cells": [
  {
   "cell_type": "markdown",
   "id": "eb2ad68f-b370-41db-8149-d37cf9f45fcb",
   "metadata": {
    "tags": []
   },
   "source": [
    "# 01 - Variables are Memory References"
   ]
  },
  {
   "cell_type": "markdown",
   "id": "0c0fb325-d31c-4cf9-abfd-73ae2d1de747",
   "metadata": {},
   "source": [
    "We can find the memory address using `id()` which returns a base-10 number and can be converted to hex using `id(hex())`\n",
    "\n",
    "If we first assign a variable to an integer, that variable looks points to the memory address (reference) which points to the integer. \n",
    "\n",
    "If we assign a second variable to the first variable, the second variable points to the reference of the first variable, not the integer. \n",
    "\n",
    "So, the integer has two references to it (count=2). We can safely delete/reassign the first variable away and then, count=1. Once the count drops to 0, that object is thrown away and that space (memory address) can be used anywhere else."
   ]
  },
  {
   "cell_type": "markdown",
   "id": "9c52b1cf-4abf-4a2e-aa79-52d88d8b69df",
   "metadata": {
    "tags": []
   },
   "source": [
    "# 02 Reference Counting"
   ]
  },
  {
   "cell_type": "markdown",
   "id": "fc19f341-2b26-4603-8b24-cae15ebe7c74",
   "metadata": {},
   "source": [
    "\n",
    "We can get reference count with getrefcount via `sys.getrefcount(my_var)`. One nuance of this is that passing `my_var` to `getrefcount()` actually creates another reference to `my_var`, because variables are always passed by reference in Python. "
   ]
  },
  {
   "cell_type": "code",
   "execution_count": 7,
   "id": "90e239f4-f829-4b5f-8457-d0c36c05414a",
   "metadata": {},
   "outputs": [
    {
     "data": {
      "text/plain": [
       "2"
      ]
     },
     "execution_count": 7,
     "metadata": {},
     "output_type": "execute_result"
    }
   ],
   "source": [
    "import sys\n",
    "my_var = [1,2,3]\n",
    "sys.getrefcount(my_var)"
   ]
  },
  {
   "cell_type": "markdown",
   "id": "04d77577-ebd6-4992-8e18-1a92bd0e2ecb",
   "metadata": {},
   "source": [
    "We can get round this extra reference using a method from the C library: `ctypes.c_long.from_address(address).value`, but we need to pass the memory address (reference) instead."
   ]
  },
  {
   "cell_type": "code",
   "execution_count": 8,
   "id": "2f396aae-f225-4800-8c6d-50f4846d7729",
   "metadata": {},
   "outputs": [
    {
     "data": {
      "text/plain": [
       "1"
      ]
     },
     "execution_count": 8,
     "metadata": {},
     "output_type": "execute_result"
    }
   ],
   "source": [
    "import ctypes\n",
    "\n",
    "def ref_count(address: int):\n",
    "    return ctypes.c_long.from_address(address).value\n",
    "\n",
    "ref_count(id(my_var))"
   ]
  },
  {
   "cell_type": "markdown",
   "id": "502f441d-8a05-40a4-b7e8-942364410522",
   "metadata": {
    "tags": []
   },
   "source": [
    "# 03 - Garbage Collection"
   ]
  },
  {
   "cell_type": "markdown",
   "id": "1f719a92-e41c-4bc7-b2dc-65c5a91662f1",
   "metadata": {},
   "source": [
    "Below is `my_var` which points to an object with an instance variable `var_1` (the name of the variable passed into a class which is turned into an attributed; in `self.age = age`, `age` is the instance variable) which points to another object with another instance variable."
   ]
  },
  {
   "cell_type": "markdown",
   "id": "5846e039-8325-4720-96f4-d1ec7a230433",
   "metadata": {},
   "source": [
    "<img src=s3-images/3.1.png width=500 />"
   ]
  },
  {
   "cell_type": "markdown",
   "id": "75e035bc-404f-4361-8a95-be1f193943d0",
   "metadata": {},
   "source": [
    "Now, in a scenario where `var_2` does not point to `Object A`, setting `my_var = None` would remove reference to Object A, therefore Object A has no references **to** it. So with its ref count = 0, it disappears. Therefore, Object B has nothing pointing to it, so it must disappear. And all that memory can be used elsewhere. \n",
    "\n",
    "Now if instead we have `var_2` pointing to `Object A` (as in above image), then, deleting `my_var` does not produce that chain reaction because Objects A and B are self-referencing each other. This is known as **Circular References**. \n",
    "\n",
    "Since the ref_count is non-zero for both, we cannot get rid of them via Python Memory Manager, and we have a **memory leak**.\n",
    "\n",
    "To solve this, we need a **Garbage Collector** which can be controlled via the module **gc**. It runs periodically, but we can also call it manually. It's used to clean up circular references.\n"
   ]
  },
  {
   "cell_type": "markdown",
   "id": "22eecbfe-e604-4612-9c01-10c15a6ed610",
   "metadata": {},
   "source": [
    "Let's see what this looks like in code:"
   ]
  },
  {
   "cell_type": "code",
   "execution_count": 9,
   "id": "35d87d89-18f5-4de7-bda3-dffe8634938e",
   "metadata": {},
   "outputs": [],
   "source": [
    "import ctypes\n",
    "import gc\n",
    "\n",
    "def ref_count(address):\n",
    "    return ctypes.c_long.from_address(address).value"
   ]
  },
  {
   "cell_type": "markdown",
   "id": "7d9f1b61-2138-4be1-9ac8-a5b2bf8ddc90",
   "metadata": {},
   "source": [
    "We create a function that will search the objects in the GC for a specified id and tell us if the object was found or not:"
   ]
  },
  {
   "cell_type": "code",
   "execution_count": 10,
   "id": "808304cd-37d7-4860-a48d-e357ce92fe8b",
   "metadata": {},
   "outputs": [],
   "source": [
    "def object_by_id(object_id):\n",
    "    for obj in gc.get_objects():\n",
    "        if id(obj) == object_id:\n",
    "            return \"Object exists\"\n",
    "    return \"Not found\""
   ]
  },
  {
   "cell_type": "code",
   "execution_count": 11,
   "id": "76cb3583-b761-4c5c-a5e8-d439c9e3bc5a",
   "metadata": {},
   "outputs": [],
   "source": [
    "class A:\n",
    "    def __init__(self):\n",
    "        self.b = B(self)\n",
    "        print('A: self: {0}, b:{1}'.format(hex(id(self)), hex(id(self.b))))"
   ]
  },
  {
   "cell_type": "markdown",
   "id": "3f605a6e-f6da-46af-b4ce-0cddc750afbf",
   "metadata": {},
   "source": [
    "Let's break this down:\n",
    "\n",
    "The`self` in the `__init__` constructor refers to an **instance of A**. `B(self)` is an **instance of B**. \n",
    "\n",
    "So, the 1st term in the print statement is the **instance of A** and the 2nd is **instance of B**."
   ]
  },
  {
   "cell_type": "code",
   "execution_count": 12,
   "id": "950ed693-ab7b-4828-b31f-d663c7083103",
   "metadata": {},
   "outputs": [],
   "source": [
    "class B:\n",
    "    def __init__(self, a):\n",
    "        self.a = a\n",
    "        print('B: self: {0}, a: {1}'.format(hex(id(self)), hex(id(self.a))))"
   ]
  },
  {
   "cell_type": "markdown",
   "id": "2cf52ed2-033f-4007-a5e4-047539033881",
   "metadata": {},
   "source": [
    "Let's break this down:\n",
    "\n",
    "The`self` in the `__init__` constructor in `class B` now refers to **instance of B**. \n",
    "\n",
    "What is `a`? From class A's calling of `B(self)`, `a` is `self` and `self` is an **instance of A**.\n",
    "\n",
    "So, the 1st term in the print statement is the **instance of B** and the 2nd is **instance of A**."
   ]
  },
  {
   "cell_type": "markdown",
   "id": "dbbe342e-e969-4875-bba7-d32541350353",
   "metadata": {},
   "source": [
    "Comparing the two markdowns above, we expect that the 1st printed term in the 1st markdown is equal to the 2nd printed term in the 2nd markdown (both being **instance of A**"
   ]
  },
  {
   "cell_type": "code",
   "execution_count": 13,
   "id": "ef609d07-8193-42fc-9d91-d799fc5806d7",
   "metadata": {},
   "outputs": [],
   "source": [
    "gc.disable() "
   ]
  },
  {
   "cell_type": "markdown",
   "id": "3c0ea03c-2599-4b5f-b600-a55cc4d5f228",
   "metadata": {},
   "source": [
    "We turn off the GC so we can see how reference counts are affected when the GC does not run and when it does (by running it manually)."
   ]
  },
  {
   "cell_type": "code",
   "execution_count": 14,
   "id": "871b90a0-99e0-47a7-bac2-5d0ff9bef83c",
   "metadata": {},
   "outputs": [
    {
     "name": "stdout",
     "output_type": "stream",
     "text": [
      "B: self: 0x7f55ff2d0070, a: 0x7f55ff2d2920\n",
      "A: self: 0x7f55ff2d2920, b:0x7f55ff2d0070\n"
     ]
    }
   ],
   "source": [
    "my_var = A()"
   ]
  },
  {
   "cell_type": "markdown",
   "id": "08fb0f37-3036-4261-a20c-4ed4f3ed6d14",
   "metadata": {},
   "source": [
    "Sure enough, we're correct.\n",
    "\n",
    "From the above line, we can easily see that `my_var` is an instance of A()."
   ]
  },
  {
   "cell_type": "code",
   "execution_count": 24,
   "id": "cf156137-8754-4ed8-948b-ac17401bdd3f",
   "metadata": {},
   "outputs": [
    {
     "name": "stdout",
     "output_type": "stream",
     "text": [
      "a: \t0x7f55ff2d2920\n",
      "a.b: \t0x7f55ff2d0070   <- This is my_var.b; my_var is an instance of A and b = B(self) and thus, b is an instance of B.\n",
      "a.b.a: \t0x7f55ff2d2920   <- b is an instance of B, and b has an attribute called a which is equal to a which is equal to A's self (instance of A).\n"
     ]
    }
   ],
   "source": [
    "print('a: \\t{0}'.format(hex(id(my_var))))\n",
    "print('a.b: \\t{0}   <- This is my_var.b; my_var is an instance of A and b = B(self) and thus, b is an instance of B.'.format(hex(id(my_var.b)))) \n",
    "print('a.b.a: \\t{0}   <- b is an instance of B, and b has an attribute called a which is equal to a which is equal to A\\'s self (instance of A).'.format(hex(id(my_var.b.a))))"
   ]
  },
  {
   "cell_type": "markdown",
   "id": "7089e003-db8e-436e-9faf-76a48c82d2db",
   "metadata": {
    "tags": []
   },
   "source": [
    "# 04 - Dynamic vs Static Typing"
   ]
  },
  {
   "cell_type": "markdown",
   "id": "aea1379a-1cdd-49d7-b3b7-45942e61cfa4",
   "metadata": {},
   "source": [
    "In statically typed languages, we have the following arrangement:\n",
    "\n",
    "<img src=\"s3-images/3.2.png\" width=\"600\"/>\n",
    "\n",
    "The key detail is that **myVar has been declared as a string**"
   ]
  },
  {
   "cell_type": "markdown",
   "id": "f0631192-6b75-49ae-9b5f-38e6001bf99c",
   "metadata": {},
   "source": [
    "In Python, my_var is just a reference, nothing more, that points to an object that *happens to be* a string. \n",
    "\n",
    "<img src=\"s3-images/3.3.png\" width=\"600\"/>"
   ]
  },
  {
   "cell_type": "markdown",
   "id": "0442945e-255e-49ba-a295-4aa17bf35cce",
   "metadata": {},
   "source": [
    "No type is attached to my_var.\n",
    "\n",
    "All we do when we reassign `my_var` is to make it point to a **brand new**, different object. Remember **`my_var` in python has no type at all**. All that's changed is the type of object that `my_var` is pointing to."
   ]
  },
  {
   "cell_type": "markdown",
   "id": "de516d84-3fb9-40f8-82fa-7587cee39a87",
   "metadata": {
    "tags": []
   },
   "source": [
    "# 05 - Variable Re-Assignment"
   ]
  },
  {
   "cell_type": "markdown",
   "id": "40e3441f-b778-4597-aa28-b024ffa51b12",
   "metadata": {},
   "source": [
    "<img src=\"s3-images/3.4.png\" width='400'/>"
   ]
  },
  {
   "cell_type": "markdown",
   "id": "417fbc92-4e77-4962-9585-19733199bcaf",
   "metadata": {},
   "source": [
    "**the value inside the <u>int</u> objects can *never* be changed. We always reassign a variable to a new memory reference with that newly calculated int value.**\n",
    "Therefore, integers are immutable."
   ]
  },
  {
   "cell_type": "markdown",
   "id": "3967bf73-9bec-4e6b-8544-f92a4c693ef4",
   "metadata": {
    "tags": []
   },
   "source": [
    "# 06 - Object Mutability"
   ]
  },
  {
   "cell_type": "markdown",
   "id": "780a83ae-64df-4170-8a10-e2f7b8d72f9b",
   "metadata": {},
   "source": [
    "Certain Python built-in object types (aka data types) are **mutable**.\n",
    "\n",
    "That is, the internal contents (state) of the object in memory can be modified.\n",
    "\n",
    "Immutable Examples are: numbers (floats, int, booleans), strings, tuples, frozen sets, user-defined classes (this can be forced to be immutable)\n",
    "\n",
    "Mutable Examples are: lists, sets, dictionaries, user-defined classes (can be made to be mutable). \n",
    "\n",
    "Consider:"
   ]
  },
  {
   "cell_type": "code",
   "execution_count": 1,
   "id": "7c356e09-381e-4538-a2ff-da81af53d86b",
   "metadata": {},
   "outputs": [],
   "source": [
    "a = [1, 2]\n",
    "b = [3, 4]"
   ]
  },
  {
   "cell_type": "code",
   "execution_count": 2,
   "id": "c3b9e05c-953f-45c7-8804-3757a7b69d58",
   "metadata": {},
   "outputs": [
    {
     "name": "stdout",
     "output_type": "stream",
     "text": [
      "([1, 2], [3, 4])\n"
     ]
    }
   ],
   "source": [
    "t = (a, b)\n",
    "print(t)"
   ]
  },
  {
   "cell_type": "code",
   "execution_count": 3,
   "id": "b8a1c70b-e90e-4c10-afa2-6b3da213bfa8",
   "metadata": {},
   "outputs": [],
   "source": [
    "a.append(3)\n",
    "b.append(5)"
   ]
  },
  {
   "cell_type": "code",
   "execution_count": 4,
   "id": "f578511e-b6f1-4948-983a-5af8b808a9e5",
   "metadata": {},
   "outputs": [
    {
     "data": {
      "text/plain": [
       "([1, 2, 3], [3, 4, 5])"
      ]
     },
     "execution_count": 4,
     "metadata": {},
     "output_type": "execute_result"
    }
   ],
   "source": [
    "t"
   ]
  },
  {
   "cell_type": "markdown",
   "id": "d095b480-8cf4-430a-95fb-4750926469ce",
   "metadata": {},
   "source": [
    "The tuple is immutable, therefore the memory addresses of the 1st and 2nd slot in the tuple are fixed forever; we can't even add or remove slots to the tuple. Therefore, [1, 2] and [1, 2, 3] have the same memory address. However, since lists are mutable, we were able to **change the state** of the object (memory address) referenced by [1, 2] to a different state."
   ]
  },
  {
   "cell_type": "code",
   "execution_count": 5,
   "id": "bf8334f5-511c-4543-9184-840c332c37c4",
   "metadata": {},
   "outputs": [
    {
     "data": {
      "text/plain": [
       "(7, 8)"
      ]
     },
     "execution_count": 5,
     "metadata": {},
     "output_type": "execute_result"
    }
   ],
   "source": [
    "c = 7\n",
    "d = 8\n",
    "\n",
    "t2 = (c,d)\n",
    "t2"
   ]
  },
  {
   "cell_type": "code",
   "execution_count": 6,
   "id": "dc1d5098-4923-4f5d-8fa5-412e9449c9db",
   "metadata": {},
   "outputs": [
    {
     "data": {
      "text/plain": [
       "(7, 8)"
      ]
     },
     "execution_count": 6,
     "metadata": {},
     "output_type": "execute_result"
    }
   ],
   "source": [
    "c = 9\n",
    "d = 10\n",
    "t2"
   ]
  },
  {
   "cell_type": "markdown",
   "id": "e65a668c-6ed2-4939-aa94-02da593f7591",
   "metadata": {},
   "source": [
    "As expected, t2 did not change because the integers are immutable."
   ]
  },
  {
   "cell_type": "markdown",
   "id": "ae28e22b-443d-4626-8e78-b7c532002a5f",
   "metadata": {},
   "source": [
    "Now as we said before, lists are mutable, so the memory id of a list doesn't change when we add values via `list.append(some_value)`. \n",
    "\n",
    "But there are other ways that we can append a value which *does* change create a new memory id"
   ]
  },
  {
   "cell_type": "code",
   "execution_count": 7,
   "id": "1bdf538f-d612-4fff-bf4d-7489a5d0196e",
   "metadata": {},
   "outputs": [
    {
     "data": {
      "text/plain": [
       "140690577989696"
      ]
     },
     "execution_count": 7,
     "metadata": {},
     "output_type": "execute_result"
    }
   ],
   "source": [
    "my_list_1 = [1, 2, 3]\n",
    "id(my_list_1)"
   ]
  },
  {
   "cell_type": "code",
   "execution_count": 8,
   "id": "21785ff2-c9ab-41ad-8ccf-5a27bffce056",
   "metadata": {},
   "outputs": [
    {
     "data": {
      "text/plain": [
       "140690578193600"
      ]
     },
     "execution_count": 8,
     "metadata": {},
     "output_type": "execute_result"
    }
   ],
   "source": [
    "my_list_1 = my_list_1 + [4]\n",
    "id(my_list_1)"
   ]
  },
  {
   "cell_type": "markdown",
   "id": "502c8dfe-063b-4534-9df8-3806220cad11",
   "metadata": {},
   "source": [
    "This is because, on the RHS, `my_list_1` has a memory id and `[4]` has a memory id; the result of concatenation points to a *completely different/new* memory id "
   ]
  },
  {
   "cell_type": "markdown",
   "id": "99388c55-5d0e-424e-a142-f6257730165b",
   "metadata": {},
   "source": [
    "# 07 - Function Arguments and Mutability"
   ]
  },
  {
   "cell_type": "markdown",
   "id": "78f0a981-ccad-427f-8325-32ab4b197db8",
   "metadata": {},
   "source": [
    "Consider a function that receives a *string* argument, and changes the argument in some way:"
   ]
  },
  {
   "cell_type": "code",
   "execution_count": 50,
   "id": "2e8c7573-9c56-4e5b-9296-a40f410d1c77",
   "metadata": {},
   "outputs": [],
   "source": [
    "def process(s):\n",
    "    print('initial s # = {0}'.format(hex(id(s))))\n",
    "    s = s + ' world'\n",
    "    print('s after change # = {0}'.format(hex(id(s))))"
   ]
  },
  {
   "cell_type": "code",
   "execution_count": 51,
   "id": "39ec2542-fd24-44eb-858b-3f854f7286ef",
   "metadata": {},
   "outputs": [
    {
     "name": "stdout",
     "output_type": "stream",
     "text": [
      "my_var # = 0x7f55ffaae330\n"
     ]
    }
   ],
   "source": [
    "my_var = 'hello'\n",
    "print('my_var # = {0}'.format(hex(id(my_var))))"
   ]
  },
  {
   "cell_type": "code",
   "execution_count": 53,
   "id": "2c01ea59-a611-4255-90a0-1017b1b5b759",
   "metadata": {},
   "outputs": [
    {
     "name": "stdout",
     "output_type": "stream",
     "text": [
      "initial s # = 0x7f55ffaae330\n",
      "s after change # = 0x7f55d790fbb0\n",
      "my_var # = 0x7f55ffaae330\n"
     ]
    }
   ],
   "source": [
    "process(my_var)\n",
    "print('my_var # = {0}'.format(hex(id(my_var))))"
   ]
  },
  {
   "cell_type": "markdown",
   "id": "e891efe9-66e0-4a16-adb6-af49e5238fe7",
   "metadata": {},
   "source": [
    "Why is this? Because the change made in the function creates a new reference for `s` to point to, but that `s` is limited to the `process()` scope.\n",
    "\n",
    "So, calling my_var in the module scope, it will point to the original reference. So, functions are unable to change the value of an immutable object.\n",
    "\n",
    "<img src='s3-images/3.5.png' width=400 />"
   ]
  },
  {
   "cell_type": "markdown",
   "id": "31887d5c-a8de-40f8-8d07-1b9d4c81b724",
   "metadata": {},
   "source": [
    "# 08 - Shared References and Mutability"
   ]
  },
  {
   "cell_type": "markdown",
   "id": "d3812e02-4791-4d6d-b0b0-73889742cf66",
   "metadata": {},
   "source": [
    "One interesting thing to note is that if two variables have the same integer value, they will both point to the same memory reference, even though they were created independently. This is because integers are mutable objects and so we get a shared reference, done by Python Memory Manager."
   ]
  },
  {
   "cell_type": "code",
   "execution_count": 57,
   "id": "f7b7333b-1d5c-437e-a945-837fc9d83f0b",
   "metadata": {},
   "outputs": [
    {
     "name": "stdout",
     "output_type": "stream",
     "text": [
      "0x7f5602434210\n",
      "0x7f5602434210\n"
     ]
    }
   ],
   "source": [
    "a = 10\n",
    "b = 10\n",
    "\n",
    "print(hex(id(a)))\n",
    "print(hex(id(b)))"
   ]
  },
  {
   "cell_type": "markdown",
   "id": "cc3d26ce-ebb1-41ec-a200-0846b64bb2d3",
   "metadata": {},
   "source": [
    "But this isn't always the case; let's try a large number"
   ]
  },
  {
   "cell_type": "code",
   "execution_count": 62,
   "id": "49357304-5f13-4f4a-b912-fee335bdfeef",
   "metadata": {},
   "outputs": [
    {
     "name": "stdout",
     "output_type": "stream",
     "text": [
      "0x7f55d79ee330\n",
      "0x7f55d79ee7f0\n"
     ]
    }
   ],
   "source": [
    "a = 500\n",
    "b = 500\n",
    "\n",
    "print(hex(id(a)))\n",
    "print(hex(id(b)))"
   ]
  },
  {
   "cell_type": "markdown",
   "id": "940c8b13-5cea-4a61-aedb-09e1bd73d11b",
   "metadata": {},
   "source": [
    "We will see why in Section 09 - Variable Equality\n",
    "\n",
    "With mutable objects like lists, we will never create a shared reference..."
   ]
  },
  {
   "cell_type": "code",
   "execution_count": 63,
   "id": "8c9354a6-49d1-4024-8493-452c5640c409",
   "metadata": {},
   "outputs": [
    {
     "name": "stdout",
     "output_type": "stream",
     "text": [
      "0x7f55d79ee330\n",
      "0x7f55d79ee7f0\n"
     ]
    }
   ],
   "source": [
    "c = [1,2,3]\n",
    "d = [1,2,3]\n",
    "\n",
    "print(hex(id(a)))\n",
    "print(hex(id(b)))   "
   ]
  },
  {
   "cell_type": "markdown",
   "id": "1455128e-f77e-4e4a-baeb-a0f211c9d668",
   "metadata": {},
   "source": [
    "...unless we point one variable to another."
   ]
  },
  {
   "cell_type": "code",
   "execution_count": 64,
   "id": "e104f38a-12d3-4bed-8a2f-c2768ffe9fdb",
   "metadata": {},
   "outputs": [
    {
     "name": "stdout",
     "output_type": "stream",
     "text": [
      "0x7f55d790da80\n",
      "0x7f55d790da80\n"
     ]
    }
   ],
   "source": [
    "e = [1,2,3]\n",
    "f = e\n",
    "\n",
    "print(hex(id(e)))\n",
    "print(hex(id(f)))   "
   ]
  },
  {
   "cell_type": "markdown",
   "id": "c9809d42-dde4-4c73-bbb6-b13767d8ac87",
   "metadata": {},
   "source": [
    "# 09 - Variable Equality"
   ]
  },
  {
   "cell_type": "markdown",
   "id": "87e8e8f8-7c34-47df-ace2-f54a1ac8a768",
   "metadata": {},
   "source": [
    "We compare memory addresses using `is (not)`: the identity operator.\n",
    "\n",
    "We compare object states (data) using `== (!=)`: the equality operator.\n",
    "\n",
    "The `None` object is a real object assigned to one memory address. When other variables are set to `None`, they all point to this one address."
   ]
  },
  {
   "cell_type": "markdown",
   "id": "6764136d-331b-4c62-9771-328bb08b97b9",
   "metadata": {},
   "source": [
    "# 10 - Everything is an Object"
   ]
  },
  {
   "cell_type": "markdown",
   "id": "82de84ee-9b26-4e73-9049-56536203bccc",
   "metadata": {},
   "source": [
    "Functions, Classes (not just the instances of the class, but the class itself) and Type are all objects in Python.\n",
    "\n",
    "This means that somewhere, there is: `Class Function:` etc.\n",
    " \n",
    "**If something is an object, then it must have a memory address**"
   ]
  },
  {
   "cell_type": "code",
   "execution_count": 67,
   "id": "6c10204a-7ea6-4c35-bcfc-a89d09af3062",
   "metadata": {},
   "outputs": [
    {
     "data": {
      "text/plain": [
       "140007019172272"
      ]
     },
     "execution_count": 67,
     "metadata": {},
     "output_type": "execute_result"
    }
   ],
   "source": [
    "def my_func():\n",
    "    pass\n",
    "\n",
    "id(my_func)"
   ]
  },
  {
   "cell_type": "markdown",
   "id": "28a9ccfc-6c05-469f-ae7a-6a88b8d254ff",
   "metadata": {},
   "source": [
    "So, functions are first-class citizens. You can treat them like how you treat all other variables."
   ]
  },
  {
   "cell_type": "markdown",
   "id": "431e46da-1f99-499b-8238-15ffecc63f27",
   "metadata": {},
   "source": [
    "# 11 - Python Optimizations - Interning"
   ]
  },
  {
   "cell_type": "markdown",
   "id": "5734499c-e3e6-42f0-a1f5-5b7eb481335b",
   "metadata": {},
   "source": [
    "So why does Python use a shared reference for:"
   ]
  },
  {
   "cell_type": "code",
   "execution_count": 76,
   "id": "bbfa307c-fd86-4a05-9025-c37b4c3eaf2f",
   "metadata": {},
   "outputs": [
    {
     "data": {
      "text/plain": [
       "True"
      ]
     },
     "execution_count": 76,
     "metadata": {},
     "output_type": "execute_result"
    }
   ],
   "source": [
    "a = 10\n",
    "b = 10\n",
    "\n",
    "hex(id(a)) == hex(id(b))"
   ]
  },
  {
   "cell_type": "markdown",
   "id": "10aa7919-240b-40db-b605-e6309d547b12",
   "metadata": {},
   "source": [
    "But not for:"
   ]
  },
  {
   "cell_type": "code",
   "execution_count": 77,
   "id": "1c28bab3-99a6-40a7-bf1e-3ac6a5a6ccb6",
   "metadata": {},
   "outputs": [
    {
     "data": {
      "text/plain": [
       "False"
      ]
     },
     "execution_count": 77,
     "metadata": {},
     "output_type": "execute_result"
    }
   ],
   "source": [
    "a = 500\n",
    "b = 500\n",
    "\n",
    "hex(id(a)) == hex(id(b))"
   ]
  },
  {
   "cell_type": "markdown",
   "id": "c8f79dd1-ae6c-4817-a1b7-73329becdb9f",
   "metadata": {},
   "source": [
    "This is called **interning** which is basically reusing objects on-demand.\n",
    "\n",
    "At startup, Python (CPython), preloads (caches) a global list of integers in the range [-5, 256]. So memory addresses for all these numbers already exist.\n",
    "\n",
    "**Singletons**: The range [-5, 256] are singleton objects. Basically, they are from classes which can only be instantiated once. \n",
    "\n",
    "Python does this as an optimisation strategy since these numbers show up a lot. \n",
    "\n",
    "It does not matter how we instantiate these Singleton objects, they will always point to the same address."
   ]
  },
  {
   "cell_type": "code",
   "execution_count": 78,
   "id": "dcf6e570-5707-436b-8736-dce68aac80a2",
   "metadata": {},
   "outputs": [
    {
     "data": {
      "text/plain": [
       "True"
      ]
     },
     "execution_count": 78,
     "metadata": {},
     "output_type": "execute_result"
    }
   ],
   "source": [
    "a = 10\n",
    "b = int(10)\n",
    "c = int('10')\n",
    "d = int('1010', base=2)\n",
    "\n",
    "a is b is c is d"
   ]
  },
  {
   "cell_type": "markdown",
   "id": "a8f3c275-01c0-4f8b-a156-7a71c92233ce",
   "metadata": {},
   "source": [
    "# 12 - Python Optimizations - String Interning"
   ]
  },
  {
   "cell_type": "markdown",
   "id": "331beeb4-74b3-48fb-89f8-bebff474659d",
   "metadata": {},
   "source": [
    "Python will automatically intern *certain* strings.\n",
    "\n",
    "In particular all the identifiers (variable names, function names, class names, etc) are interned (singleton objects created).\n",
    "\n",
    "Python will also intern string literals that look like identifiers.\n",
    "\n",
    "For example:"
   ]
  },
  {
   "cell_type": "code",
   "execution_count": 80,
   "id": "80d05bbb-3c2b-46b4-aeca-08d0211be32b",
   "metadata": {},
   "outputs": [
    {
     "name": "stdout",
     "output_type": "stream",
     "text": [
      "140007338337072\n",
      "140007338337072\n"
     ]
    }
   ],
   "source": [
    "a = 'hello'\n",
    "b = 'hello'\n",
    "print(id(a))\n",
    "print(id(b))"
   ]
  },
  {
   "cell_type": "markdown",
   "id": "3ed77941-62ec-4d13-aac4-2f661cd2ec13",
   "metadata": {},
   "source": [
    "But not the following:"
   ]
  },
  {
   "cell_type": "code",
   "execution_count": 81,
   "id": "4613967c-4c1b-41df-99bc-898e557f890a",
   "metadata": {},
   "outputs": [
    {
     "name": "stdout",
     "output_type": "stream",
     "text": [
      "140007016788848\n",
      "140006666628080\n"
     ]
    }
   ],
   "source": [
    "a = 'hello, world!'\n",
    "b = 'hello, world!'\n",
    "print(id(a))\n",
    "print(id(b))"
   ]
  },
  {
   "cell_type": "markdown",
   "id": "94051752-e3b4-4fbe-8723-f1043bb0ff21",
   "metadata": {},
   "source": [
    "but it will work if they resemble identifiers:"
   ]
  },
  {
   "cell_type": "code",
   "execution_count": 82,
   "id": "592f37f5-9ec5-4e87-aa85-4b69b6fca2a1",
   "metadata": {},
   "outputs": [
    {
     "name": "stdout",
     "output_type": "stream",
     "text": [
      "140007009816896\n",
      "140007009816896\n"
     ]
    }
   ],
   "source": [
    "a = '_this_is_a_long_string_that_could_be_used_as_an_identifier'\n",
    "b = '_this_is_a_long_string_that_could_be_used_as_an_identifier'\n",
    "print(id(a))\n",
    "print(id(b))"
   ]
  },
  {
   "cell_type": "markdown",
   "id": "014eb4cc-af4e-408c-b06d-5a38e200e08c",
   "metadata": {},
   "source": [
    "We can force any string to be interned, that is, force the string to be a Singleton using sys.intern(\\<str>).\n",
    "\n",
    "In general, we dont need to use this. But it can be useful when tokenising a large corpus of text in Natural Language Processing. For example, if we had a book with 1000 'the's, then we would prefer to create one memory address and 1000 references as opposed to 1000 addresses and 1000 references. This will reduce the memory overhead.\n",
    "\n",
    "Comparing memory addresses via `is` is *very* fast compared to comparing two strings via `==` because `==` needs to check for equality on a character-by-character basis."
   ]
  },
  {
   "cell_type": "markdown",
   "id": "a1ecf479-205a-4e66-9532-75a3e0ea26c7",
   "metadata": {},
   "source": [
    "Let's run a comparison using `==` many times to make the time savings non-negligible"
   ]
  },
  {
   "cell_type": "code",
   "execution_count": 83,
   "id": "13120716-4d98-4afb-bc0b-7a32e45fae9c",
   "metadata": {},
   "outputs": [],
   "source": [
    "def compare_using_equals(n):\n",
    "    a = 'a long string that is not interned' * 200 # This is a very very long string that is not interned.\n",
    "    b = 'a long string that is not interned' * 200\n",
    "    for i in range(n):\n",
    "        if a == b:\n",
    "            pass   "
   ]
  },
  {
   "cell_type": "code",
   "execution_count": 84,
   "id": "7f3baad9-a08c-44f5-8852-f5ac0fd91097",
   "metadata": {},
   "outputs": [],
   "source": [
    "def compare_using_interning(n):\n",
    "    a = sys.intern('a long string that is not interned' * 200)\n",
    "    b = sys.intern('a long string that is not interned' * 200)\n",
    "    for i in range(n):\n",
    "        if a is b:\n",
    "            pass"
   ]
  },
  {
   "cell_type": "code",
   "execution_count": 85,
   "id": "53c052f3-d0d2-4f1a-a5e6-9a8d6a1fd09a",
   "metadata": {},
   "outputs": [
    {
     "name": "stdout",
     "output_type": "stream",
     "text": [
      "equality:  23.455144189996645\n"
     ]
    }
   ],
   "source": [
    "import time\n",
    "\n",
    "start = time.perf_counter()\n",
    "compare_using_equals(100000000)\n",
    "end = time.perf_counter()\n",
    "\n",
    "print('equality: ', end - start)"
   ]
  },
  {
   "cell_type": "code",
   "execution_count": 87,
   "id": "108800a7-17b0-411d-9ce7-fd6b971e367c",
   "metadata": {},
   "outputs": [
    {
     "name": "stdout",
     "output_type": "stream",
     "text": [
      "identity:  9.880999281002005\n"
     ]
    }
   ],
   "source": [
    "start = time.perf_counter()\n",
    "compare_using_interning(100000000)\n",
    "end = time.perf_counter()\n",
    "\n",
    "print('identity: ', end-start)"
   ]
  },
  {
   "cell_type": "markdown",
   "id": "7c913b42-dfed-46b0-ac11-5c978f14f461",
   "metadata": {
    "tags": []
   },
   "source": [
    "# 13 - Python Optimizations - Peephole"
   ]
  },
  {
   "cell_type": "markdown",
   "id": "e656ff17-c5d2-40d3-81a2-46ab52b54fb2",
   "metadata": {
    "tags": []
   },
   "source": [
    "#### Constant Expressions"
   ]
  },
  {
   "cell_type": "markdown",
   "id": "b417a215-2ce6-4a4a-bab2-e5a0fedbd786",
   "metadata": {},
   "source": [
    "Peephole optimizations refer to a certain class of optimization strategies Python employs during any compilation phases."
   ]
  },
  {
   "cell_type": "markdown",
   "id": "88fb0b05-0da0-47b1-904a-bd02acd479f3",
   "metadata": {},
   "source": [
    "Let's see how Python reduces constant expressions for optimization purposes:"
   ]
  },
  {
   "cell_type": "code",
   "execution_count": 99,
   "id": "cb735cfe-203b-429b-8a16-28de217ab6a7",
   "metadata": {},
   "outputs": [],
   "source": [
    "def my_func():\n",
    "    a = 24 * 60\n",
    "    b = (1, 2) * 5\n",
    "    c = 'abc' * 3\n",
    "    d = 'ab' * 11\n",
    "    e = 'the quick brown fox' * 500\n",
    "    f = [1, 2] * 5"
   ]
  },
  {
   "cell_type": "markdown",
   "id": "cf13951c-fabb-4bd5-ba50-15a34b93705d",
   "metadata": {},
   "source": [
    "We can access the compiled constants of this function using:"
   ]
  },
  {
   "cell_type": "code",
   "execution_count": 100,
   "id": "2fdad85b-cf96-4a56-85c1-dd6267340c46",
   "metadata": {},
   "outputs": [
    {
     "data": {
      "text/plain": [
       "(None,\n",
       " 1440,\n",
       " (1, 2, 1, 2, 1, 2, 1, 2, 1, 2),\n",
       " 'abcabcabc',\n",
       " 'ababababababababababab',\n",
       " 'the quick brown fox',\n",
       " 500,\n",
       " 1,\n",
       " 2,\n",
       " 5)"
      ]
     },
     "execution_count": 100,
     "metadata": {},
     "output_type": "execute_result"
    }
   ],
   "source": [
    "my_func.__code__.co_consts"
   ]
  },
  {
   "cell_type": "markdown",
   "id": "40b481e9-7e72-4fb4-b5ec-36041de1fe92",
   "metadata": {},
   "source": [
    "We see all numbers and strings in the present code, but some of them have been **pre-calculated/cached** like 24*\\60 = 1440. But we don't see the quick brown fox printed 500 times because its too long.\n",
    "\n",
    "We also don't see [1, 2, 1, 2, 1, 2, 1, 2, 1, 2]. This is because a list is a mutable object so its not a constant expression. The list may be modified during compilation e.g. a number may be appended to the list."
   ]
  },
  {
   "cell_type": "markdown",
   "id": "39fdb3d0-bf90-4bf8-9edc-e88e1529cb56",
   "metadata": {},
   "source": [
    "#### Membership Tests"
   ]
  },
  {
   "cell_type": "markdown",
   "id": "4869da47-fff1-4c9a-b495-ea4a76702968",
   "metadata": {},
   "source": [
    "If we perform a membership test such as `if i in [1, 2, 3]:`, then in this case, the list is a **constant** even though it's mutable. This is because the list can't change once the script is run. That is, we can't append anything to that list.\n",
    "\n",
    "In this case, **the constant mutable list expression is replaced by its immutable expression, i.e., a tuple**.\n",
    "\n",
    "For completeness, sets (which are mutable and created using {}) get converted to their immutable expression, i.e., frozen sets.\n",
    "\n",
    "They are converted to these immutable forms because its much faster to perform a membership test on immutables. \n",
    "\n",
    "write `if i in {1, 2, 3}:` because it's faster (if the set is large and used repeatedly)."
   ]
  },
  {
   "cell_type": "code",
   "execution_count": 103,
   "id": "cefcbf75-d712-4bea-a083-dc3cdf05982b",
   "metadata": {},
   "outputs": [],
   "source": [
    "def my_func():\n",
    "    if e in [1, 2, 3]:\n",
    "        pass"
   ]
  },
  {
   "cell_type": "code",
   "execution_count": 104,
   "id": "0a0040eb-a540-4ada-969f-206bf15d46a8",
   "metadata": {},
   "outputs": [
    {
     "data": {
      "text/plain": [
       "(None, (1, 2, 3))"
      ]
     },
     "execution_count": 104,
     "metadata": {},
     "output_type": "execute_result"
    }
   ],
   "source": [
    "my_func.__code__.co_consts"
   ]
  },
  {
   "cell_type": "code",
   "execution_count": 105,
   "id": "4a541952-f4f9-4357-8482-21e399973576",
   "metadata": {},
   "outputs": [],
   "source": [
    "def my_func():\n",
    "    if e in {1, 2, 3}:\n",
    "        pass"
   ]
  },
  {
   "cell_type": "code",
   "execution_count": 106,
   "id": "ecf76871-e1bf-4942-b380-53043b424d3c",
   "metadata": {},
   "outputs": [
    {
     "data": {
      "text/plain": [
       "(None, frozenset({1, 2, 3}))"
      ]
     },
     "execution_count": 106,
     "metadata": {},
     "output_type": "execute_result"
    }
   ],
   "source": [
    "my_func.__code__.co_consts"
   ]
  }
 ],
 "metadata": {
  "kernelspec": {
   "display_name": "Python 3 (ipykernel)",
   "language": "python",
   "name": "python3"
  },
  "language_info": {
   "codemirror_mode": {
    "name": "ipython",
    "version": 3
   },
   "file_extension": ".py",
   "mimetype": "text/x-python",
   "name": "python",
   "nbconvert_exporter": "python",
   "pygments_lexer": "ipython3",
   "version": "3.10.6"
  }
 },
 "nbformat": 4,
 "nbformat_minor": 5
}
