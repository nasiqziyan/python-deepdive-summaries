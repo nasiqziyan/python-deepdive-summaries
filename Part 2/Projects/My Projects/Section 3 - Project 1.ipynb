{
 "cells": [
  {
   "cell_type": "markdown",
   "id": "f333ee69-9bde-482c-a730-1616d0895db2",
   "metadata": {},
   "source": [
    "# Goal 1"
   ]
  },
  {
   "cell_type": "markdown",
   "id": "19065652-495a-4c16-b4c9-8cf2680026af",
   "metadata": {},
   "source": [
    "![1.1.png](../Project%20Images/1.1.png)"
   ]
  },
  {
   "cell_type": "markdown",
   "id": "d1ca21fd-f1c8-46f9-9cb7-0ebb9936bf9a",
   "metadata": {},
   "source": [
    "![1.2.png](../Project%20Images/1.2.png)"
   ]
  },
  {
   "cell_type": "markdown",
   "id": "71bbbc12-062f-4a5a-b911-1ecc9ffc5016",
   "metadata": {},
   "source": [
    "![1.3.png](../Project%20Images/1.3.png)"
   ]
  },
  {
   "cell_type": "markdown",
   "id": "60123349-6da3-4730-8f74-1d29c0438d6a",
   "metadata": {},
   "source": [
    "By **Properties**, he means *defined* properties, meaning that you should use the getter decorator `@property`. \n",
    "\n",
    "If we prefix our initialised properties with `_` (so that people won't mess with them) AND create a function, decorated with `@property`, with the name that we'd like to use to call the object, then, people cannot set attributes without a setter.\n",
    "\n",
    "For example, for an instance `p` of our `Polygon` class, `p = Polygon(3, 10)`, we can create an initialised property called `._n`. If we want to access this property via `p.n`, we need to use our `@property` getter on a function created by typing exactly `def n(self):`. \n",
    "\n",
    "Once this has been done, if we try something like `p.n = 5`, we will get an error as opposed to creating a new attribute called `.n`. To fix this error, we need a setter `@n.setter` on a function created by typing exactly `def n(self, value):` (but `value` can be whatever we want). In this scenario, it doesn't make sense to let people modify the `n` or `R` value."
   ]
  },
  {
   "cell_type": "markdown",
   "id": "696180d5-621b-4989-8a5b-a3bfbd65e43b",
   "metadata": {},
   "source": [
    "Notes:\n",
    "\n",
    "- By **Properties**, he means *defined* properties, meaning that you should use the getter decorator `@property`. \n",
    "\n",
    "- If we prefix our initialised properties with `_` (so that people won't mess with them) AND create a function, decorated with `@property`, with the name that we'd like to use to call the object, then, people cannot set attributes without a setter.\n",
    "\n",
    "    For example, for an instance `p` of our `Polygon` class, `p = Polygon(3, 10)`, we can create an initialised property called `._n`. If we want to access this property via `p.n`, we need to use our `@property` getter on a function created by typing exactly `def n(self):`. \n",
    "\n",
    "    Once this has been done, if we try something like `p.n = 5`, we will get an error as opposed to creating a new attribute called `.n`. To fix this error, we need a setter `@n.setter` on a function created by typing exactly `def n(self, value):` (but `value` can be whatever we want). In this scenario, it doesn't make sense to let people modify the `n` or `R` value.\n",
    "\n",
    "- We are dealing with pi in our formulae and we also have equalities. Due to floating point arithmetic, we are likely to never satisfy the equality so we need a way of ensuring that the two operands of an equality are close enough. To do this, we use the `math.isclose` method which has to optional parameters called `abs_tol` and `rel_tol` (see https://docs.python.org/3/library/math.html).\n",
    "\n",
    "- The `isclose` is especially useful for unit testing which we can do with pytest. But here, we'll use the `assert <equality expression>, <assertion error statement>`. If the equality is true, nothing happens when we run the `assert`. If it's not, we throw the assertion error statement. The `isclose` method is very useful inside the equality expression.\n",
    "\n",
    "- In this project, I will be stealing his test function called `test_polygon()`.\n",
    "\n",
    "- We need to ensure that our Polygon has at least 3 vertices or edges (n > 2)."
   ]
  },
  {
   "cell_type": "markdown",
   "id": "c0b0d221-85d6-47eb-b506-8f8c9a441308",
   "metadata": {
    "tags": []
   },
   "source": [
    "## Code"
   ]
  },
  {
   "cell_type": "code",
   "execution_count": 111,
   "id": "6ee3d97f-db54-4b6b-9129-af42537cd6ff",
   "metadata": {},
   "outputs": [],
   "source": [
    "from math import sin, cos, pi\n",
    "\n",
    "class Polygon:\n",
    "    \n",
    "    def __init__(self, n, R):\n",
    "       \n",
    "        if n < 3:\n",
    "            raise ValueError('Polygon must have at least three sides.')\n",
    "        \n",
    "        self._n = n\n",
    "        self._R = R\n",
    "        \n",
    "    def __repr__(self):\n",
    "        return f'Polygon({self.n}, {self.R})'\n",
    "    \n",
    "    @property\n",
    "    def n(self):\n",
    "        return self._n\n",
    "    \n",
    "    @property\n",
    "    def R(self):\n",
    "        return self._R\n",
    "\n",
    "    @property\n",
    "    def no_of_vertices(self):\n",
    "        return self._n\n",
    "    \n",
    "    @property\n",
    "    def interior_angle(self):\n",
    "        return (self.n - 2) * (180/self.n)\n",
    "    \n",
    "    @property\n",
    "    def s(self):\n",
    "        return 2 * self.R * sin(pi/self.n)\n",
    "    \n",
    "    @property\n",
    "    def a(self):\n",
    "        return self.R * cos(pi/self.n)\n",
    "    \n",
    "    @property\n",
    "    def area(self):\n",
    "        return 1/2 * self.n * self.s * self.a\n",
    "    \n",
    "    @property\n",
    "    def perimeter(self):\n",
    "        return self.n * self.s\n",
    "    \n",
    "    def __eq__(self, other):\n",
    "        \n",
    "        if isinstance(other, self.__class__):\n",
    "            return self.no_of_vertices == other.no_of_vertices and self.R == other.R\n",
    "        \n",
    "        else:\n",
    "            return NotImplemented\n",
    "        \n",
    "    def __gt__(self, other):\n",
    "        if isinstance(other, self.__class__):\n",
    "            return self.no_of_vertices > other.no_of_vertices"
   ]
  },
  {
   "cell_type": "markdown",
   "id": "d64eae32-744f-484e-b0d5-3f2179435ae7",
   "metadata": {
    "tags": []
   },
   "source": [
    "## Test"
   ]
  },
  {
   "cell_type": "code",
   "execution_count": 122,
   "id": "01a9e47e-2044-41cf-a3b2-655b31cce27f",
   "metadata": {},
   "outputs": [],
   "source": [
    "import math\n",
    "\n",
    "def test_polygon():\n",
    "    abs_tol = 0.001\n",
    "    rel_tol = 0.001\n",
    "    \n",
    "    # we don't want the 'try' to succeed because we're testing\n",
    "    # to see if our initialisers work properly. So, if the\n",
    "    # try does succeed, then we need to immediately assert False\n",
    "    # because it's not supposed to.\n",
    "    try:\n",
    "        p = Polygon(2, 10)\n",
    "        assert False, ('Creating a Polygon with 2 sides: '\n",
    "                       ' Exception expected, not received')\n",
    "    # We want the exception to happen because we're trying \n",
    "    # to create a polygon with 2 vertices. So, that's why\n",
    "    # we have 'pass' below.\n",
    "    except ValueError: \n",
    "        pass\n",
    "                       \n",
    "    n = 3\n",
    "    R = 1\n",
    "    p = Polygon(n, R)\n",
    "    assert str(p) == 'Polygon(3, 1)', f'actual: {str(p)}'\n",
    "    assert p.no_of_vertices == n, (f'actual: {p.no_of_vertices},'\n",
    "                                   f' expected: {n}')\n",
    "    assert p.n == n, f'actual: {p.n}, expected: {n}'\n",
    "    assert p.R == R, f'actual: {p.R}, expected: {n}'\n",
    "    assert p.interior_angle == 60, (f'actual: {p.interior_angle},'\n",
    "                                    ' expected: 60')\n",
    "    n = 4\n",
    "    R = 1\n",
    "    p = Polygon(n, R)\n",
    "    assert p.interior_angle == 90, (f'actual: {p.interior_angle}, '\n",
    "                                    ' expected: 90')\n",
    "    assert math.isclose(p.area, 2, \n",
    "                        rel_tol=abs_tol, \n",
    "                        abs_tol=abs_tol), (f'actual: {p.area},'\n",
    "                                           ' expected: 2.0')\n",
    "    \n",
    "    assert math.isclose(p.s, math.sqrt(2),\n",
    "                       rel_tol=rel_tol,\n",
    "                       abs_tol=abs_tol), (f'actual: {p.s},'\n",
    "                                          f' expected: {math.sqrt(2)}')\n",
    "    \n",
    "    assert math.isclose(p.perimeter, 4 * math.sqrt(2),\n",
    "                       rel_tol=rel_tol,\n",
    "                       abs_tol=abs_tol), (f'actual: {p.perimeter},'\n",
    "                                          f' expected: {4 * math.sqrt(2)}')\n",
    "    \n",
    "    assert math.isclose(p.a, 0.707,\n",
    "                       rel_tol=rel_tol,\n",
    "                       abs_tol=abs_tol), (f'actual: {p.perimeter},'\n",
    "                                          ' expected: 0.707')\n",
    "    p = Polygon(6, 2)\n",
    "    assert math.isclose(p.s, 2,\n",
    "                        rel_tol=rel_tol, abs_tol=abs_tol)\n",
    "    assert math.isclose(p.a, 1.73205,\n",
    "                        rel_tol=rel_tol, abs_tol=abs_tol)\n",
    "    assert math.isclose(p.area, 10.3923,\n",
    "                        rel_tol=rel_tol, abs_tol=abs_tol)\n",
    "    assert math.isclose(p.perimeter, 12,\n",
    "                        rel_tol=rel_tol, abs_tol=abs_tol)\n",
    "    assert math.isclose(p.interior_angle, 120,\n",
    "                        rel_tol=rel_tol, abs_tol=abs_tol)\n",
    "    \n",
    "    p = Polygon(12, 3)\n",
    "    assert math.isclose(p.s, 1.55291,\n",
    "                        rel_tol=rel_tol, abs_tol=abs_tol)\n",
    "    assert math.isclose(p.a, 2.89778,\n",
    "                        rel_tol=rel_tol, abs_tol=abs_tol)\n",
    "    assert math.isclose(p.area, 27,\n",
    "                        rel_tol=rel_tol, abs_tol=abs_tol)\n",
    "    assert math.isclose(p.perimeter, 18.635,\n",
    "                        rel_tol=rel_tol, abs_tol=abs_tol)\n",
    "    assert math.isclose(p.interior_angle, 150,\n",
    "                        rel_tol=rel_tol, abs_tol=abs_tol)\n",
    "    \n",
    "    p1 = Polygon(3, 10)\n",
    "    p2 = Polygon(10, 10)\n",
    "    p3 = Polygon(15, 10)\n",
    "    p4 = Polygon(15, 100)\n",
    "    p5 = Polygon(15, 100)\n",
    "    \n",
    "    assert p2 > p1\n",
    "    assert p2 < p3\n",
    "    assert p3 != p4\n",
    "    assert p1 != p4\n",
    "    assert p4 == p5"
   ]
  },
  {
   "cell_type": "code",
   "execution_count": 123,
   "id": "b571dc85-f53b-4cb9-9604-a292ac248ff8",
   "metadata": {},
   "outputs": [],
   "source": [
    "test_polygon()"
   ]
  },
  {
   "cell_type": "markdown",
   "id": "82b75c8c-3d11-4941-b29f-ed066fea95b8",
   "metadata": {},
   "source": [
    "# Goal 2"
   ]
  },
  {
   "cell_type": "markdown",
   "id": "8006dfcb-1c20-4d1f-9bf9-aa1f1fbc9b1a",
   "metadata": {},
   "source": [
    "![1.4.png](../Project%20Images/1.4.png)"
   ]
  },
  {
   "cell_type": "markdown",
   "id": "846c90b3-91d5-4d83-9c7c-b77c7c40343a",
   "metadata": {},
   "source": [
    "Create a finite sequence type that is a sequence of Polygons start with 3 vertices, up to, and including some maximum value m which will need to be passed to the initializer of the sequence type.\n",
    "\n",
    "The value for the circumradius R, will also need to be provided to the initializer."
   ]
  },
  {
   "cell_type": "markdown",
   "id": "4fa57247-1d15-483e-b6e2-f158622debd4",
   "metadata": {},
   "source": [
    "Notes:\n",
    "\n",
    "- We'll need the Polygon class from Goal 1 first."
   ]
  },
  {
   "cell_type": "code",
   "execution_count": 127,
   "id": "8a7a2ab7-02e8-4c2a-81f8-b003902b3bc0",
   "metadata": {},
   "outputs": [],
   "source": [
    "from math import sin, cos, pi\n",
    "\n",
    "class Polygon:\n",
    "    \n",
    "    def __init__(self, n, R):\n",
    "       \n",
    "        if n < 3:\n",
    "            raise ValueError('Polygon must have at least three sides.')\n",
    "        \n",
    "        self._n = n\n",
    "        self._R = R\n",
    "        \n",
    "    def __repr__(self):\n",
    "        return f'Polygon({self.n}, {self.R})'\n",
    "    \n",
    "    @property\n",
    "    def n(self):\n",
    "        return self._n\n",
    "    \n",
    "    @property\n",
    "    def R(self):\n",
    "        return self._R\n",
    "\n",
    "    @property\n",
    "    def no_of_vertices(self):\n",
    "        return self._n\n",
    "    \n",
    "    @property\n",
    "    def interior_angle(self):\n",
    "        return (self.n - 2) * (180/self.n)\n",
    "    \n",
    "    @property\n",
    "    def s(self):\n",
    "        return 2 * self.R * sin(pi/self.n)\n",
    "    \n",
    "    @property\n",
    "    def a(self):\n",
    "        return self.R * cos(pi/self.n)\n",
    "    \n",
    "    @property\n",
    "    def area(self):\n",
    "        return 1/2 * self.n * self.s * self.a\n",
    "    \n",
    "    @property\n",
    "    def perimeter(self):\n",
    "        return self.n * self.s\n",
    "    \n",
    "    def __eq__(self, other):\n",
    "        \n",
    "        if isinstance(other, self.__class__):\n",
    "            return self.no_of_vertices == other.no_of_vertices and self.R == other.R\n",
    "        \n",
    "        else:\n",
    "            return NotImplemented\n",
    "        \n",
    "    def __gt__(self, other):\n",
    "        if isinstance(other, self.__class__):\n",
    "            return self.no_of_vertices > other.no_of_vertices"
   ]
  },
  {
   "cell_type": "markdown",
   "id": "489b94e2-8144-4e7b-a413-b0a0f4bb9573",
   "metadata": {},
   "source": [
    "## Code"
   ]
  },
  {
   "cell_type": "code",
   "execution_count": 185,
   "id": "8ca467e5-9034-4e27-bb67-a979ac17f99a",
   "metadata": {},
   "outputs": [],
   "source": [
    "class Polygons:\n",
    "\n",
    "    def __init__(self, m, R):\n",
    "        \n",
    "        if m < 3:\n",
    "            raise ValueError('Polygon must have at least three sides.')\n",
    "        self._m = m \n",
    "        self._R = R\n",
    "        self._polygons = [Polygon(i, R) for i in range(3, m+1)]\n",
    "                \n",
    "            \n",
    "    def __len__(self):\n",
    "        return self.m - 2\n",
    "            \n",
    "        \n",
    "    def __repr__(self):\n",
    "        return f'Polygons(m={self.m}, R={self.R})'\n",
    "    \n",
    "    \n",
    "    def __getitem__(self, s):\n",
    "\n",
    "        # we don't need to raise IndexErrors or anything with this project\n",
    "        # because we've created the entire sequence as a list object and stored \n",
    "        # it as an attribute. So, since list objects support slicing and indexing,\n",
    "        # we can delegate all the work to the list object. self.polygons is an \n",
    "        # honest-to-goodness list so, of course it will support slicing.\n",
    "        return self.polygons[s]\n",
    "\n",
    "    \n",
    "    @property\n",
    "    def m(self):\n",
    "        return self._m\n",
    "            \n",
    "    @property\n",
    "    def R(self):\n",
    "        return self._R\n",
    "    \n",
    "    @property\n",
    "    def polygons(self):\n",
    "        return self._polygons\n",
    "    \n",
    "    @property\n",
    "    def max_efficiency_polygon(self):\n",
    "        \n",
    "        sorted_polygons = sorted(self.polygons, \n",
    "                                 key = lambda p: p.area/p.perimeter,\n",
    "                                 reverse = True)\n",
    "        return sorted_polygons[0]\n",
    "\n",
    "\n",
    "            "
   ]
  },
  {
   "cell_type": "code",
   "execution_count": 186,
   "id": "06c276bc-732b-4e50-b436-80ad6a3304b3",
   "metadata": {},
   "outputs": [
    {
     "data": {
      "text/plain": [
       "Polygon(10, 1)"
      ]
     },
     "execution_count": 186,
     "metadata": {},
     "output_type": "execute_result"
    }
   ],
   "source": [
    "polygons = Polygons(10, 1) \n",
    "\n",
    "polygons.max_efficiency_polygon"
   ]
  },
  {
   "cell_type": "markdown",
   "id": "2818cbab-fa35-454f-86b5-69fb2598b037",
   "metadata": {},
   "source": [
    "Just a quick note:\n",
    "\n",
    "A polygon with an infinite number of sides and R=1 converges to a circle. So, we should expect the area of a Polygon with sides = 500 and circumradius = 1 to be 2pi."
   ]
  },
  {
   "cell_type": "code",
   "execution_count": 187,
   "id": "9b1b2c76-7924-433c-aec8-282346f2a54e",
   "metadata": {},
   "outputs": [
    {
     "data": {
      "text/plain": [
       "3.1415099708381518"
      ]
     },
     "execution_count": 187,
     "metadata": {},
     "output_type": "execute_result"
    }
   ],
   "source": [
    "polygons = Polygons(500, 1)\n",
    "p = polygons.max_efficiency_polygon\n",
    "p.area"
   ]
  },
  {
   "cell_type": "code",
   "execution_count": null,
   "id": "fbba89c1-e20e-4d5d-ad95-19bcdadd2403",
   "metadata": {},
   "outputs": [],
   "source": []
  }
 ],
 "metadata": {
  "kernelspec": {
   "display_name": "Python 3 (ipykernel)",
   "language": "python",
   "name": "python3"
  },
  "language_info": {
   "codemirror_mode": {
    "name": "ipython",
    "version": 3
   },
   "file_extension": ".py",
   "mimetype": "text/x-python",
   "name": "python",
   "nbconvert_exporter": "python",
   "pygments_lexer": "ipython3",
   "version": "3.10.6"
  }
 },
 "nbformat": 4,
 "nbformat_minor": 5
}
