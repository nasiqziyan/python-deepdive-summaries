{
 "cells": [
  {
   "cell_type": "markdown",
   "id": "d331d176-06a2-4a3d-8d80-0af48f4d9d0a",
   "metadata": {},
   "source": [
    "# Goal 1"
   ]
  },
  {
   "cell_type": "markdown",
   "id": "7d6c94aa-16c8-4472-b4ad-2b3466b2ec84",
   "metadata": {},
   "source": [
    "Firstly, let's produce the field headers as well as a sample row. This will inform us of what data type each field should be."
   ]
  },
  {
   "cell_type": "code",
   "execution_count": null,
   "id": "2cc7366d-61b6-4996-9821-03fbfd35ab48",
   "metadata": {},
   "outputs": [],
   "source": []
  },
  {
   "cell_type": "code",
   "execution_count": 8,
   "id": "80a9d0c4-c289-44e9-9f3b-75297e273bf1",
   "metadata": {},
   "outputs": [
    {
     "name": "stdout",
     "output_type": "stream",
     "text": [
      "['Summons Number', 'Plate ID', 'Registration State', 'Plate Type', 'Issue Date', 'Violation Code', 'Vehicle Body Type', 'Vehicle Make', 'Violation Description']\n",
      "['4006478550', 'VAD7274', 'VA', 'PAS', '10/5/2016', '5', '4D', 'BMW', 'BUS LANE VIOLATION']\n"
     ]
    }
   ],
   "source": [
    "file_name = 'nyc_parking_tickets_extract.csv'\n",
    "\n",
    "with open(file_name) as f:\n",
    "    column_headers = next(f).strip('\\n').split(',')\n",
    "    sample_data = next(f).strip('\\n').split(',')\n",
    "\n",
    "print(column_headers)\n",
    "print(sample_data)"
   ]
  },
  {
   "cell_type": "markdown",
   "id": "ce9886ed-4646-4362-94b9-51513e06ed23",
   "metadata": {},
   "source": [
    "We need it to convert these `column_headers` to something more pythonic e.g. `Summons Number -> summons_number`, so we can access it via `<namedtuple_obj>.summons_number` "
   ]
  },
  {
   "cell_type": "code",
   "execution_count": 9,
   "id": "4e87cd69-2db6-4063-9839-6b46f9556250",
   "metadata": {},
   "outputs": [],
   "source": [
    "from collections import namedtuple\n",
    "\n",
    "column_names = [header.replace(' ', '_').lower() for header in column_headers]\n",
    "                \n",
    "Ticket = namedtuple('Ticket', column_names)"
   ]
  },
  {
   "cell_type": "markdown",
   "id": "8a0c81ef-2cac-42be-a990-87ed5c7052a7",
   "metadata": {},
   "source": [
    "It would be fair to assume the following:\n",
    "\n",
    "0. summons_number: **looks like integers**\n",
    "1. plate_id: string\n",
    "2. registration_state: string\n",
    "3. plate_type: string\n",
    "4. issue_date: **looks like valid dates**\n",
    "5. violation_code: **looks like integers**\n",
    "6. vehicle_body_type: string\n",
    "7. vehicle_make: string\n",
    "8. violation_description: string\n",
    "\n",
    "Since the data from the csv will automatically come back as a string, we only need to worry about casting three of the column headers to something other than a string."
   ]
  },
  {
   "cell_type": "markdown",
   "id": "aa8d3223-4901-4ce7-83a5-fa0f0b9f1db5",
   "metadata": {},
   "source": [
    "Our approach will then be to cast each value in a row to their corresponding expected type. If the casting fails, we will replace that value with either:\n",
    "\n",
    "- `None` if a valid value is essential.\n",
    "- An empty string if a valid value is nonessential.\n",
    "\n",
    "Then, we'll want to throw away any that have a `None` value and create a named tuple for the rest which will be yielded."
   ]
  },
  {
   "cell_type": "markdown",
   "id": "d13986fb-d69e-493c-936d-8c8b6f487000",
   "metadata": {},
   "source": [
    "#### Parsing Utilities"
   ]
  },
  {
   "cell_type": "markdown",
   "id": "1eb70a19-0ed4-458b-91ff-542ce3530408",
   "metadata": {},
   "source": [
    "For fields that are expected to be integers, try to cast the default string type to an integer; if it fails, replace with `None`, ready for the entire row to be thrown away."
   ]
  },
  {
   "cell_type": "code",
   "execution_count": 10,
   "id": "3cdd8420-7894-4924-b854-6cfa7c1ed0b8",
   "metadata": {},
   "outputs": [],
   "source": [
    "def parse_int(value, *, default=None):\n",
    "    try:\n",
    "        return int(value)\n",
    "    except ValueError:\n",
    "        return default"
   ]
  },
  {
   "cell_type": "markdown",
   "id": "817e3870-05c6-401a-b510-c02a6a21fc3c",
   "metadata": {},
   "source": [
    "For fields that are expected to conform to `%m/%d/%Y`, cast the default string type to a `datetime` object; if it fails, replace with `None`, ready for the entire row to be thrown away."
   ]
  },
  {
   "cell_type": "code",
   "execution_count": 11,
   "id": "bb0040c8-587f-4fc0-9e39-6a0ba52ce34d",
   "metadata": {},
   "outputs": [],
   "source": [
    "from datetime import datetime\n",
    "def parse_date(value, *, default=None):\n",
    "    date_format='%m/%d/%Y'\n",
    "    try:\n",
    "        return datetime.strptime(value, date_format).date()\n",
    "    except ValueError:\n",
    "        return default"
   ]
  },
  {
   "cell_type": "markdown",
   "id": "623aefe5-b5b7-40e0-baa1-0448d5d1feed",
   "metadata": {},
   "source": [
    "For fields that are expected to be a **valid, essential** string, ensure validity (e.g. no trailing/leading spaces or `\"   \"` or `\"\"`; if it fails, replace with `None`, ready to be thrown away.\n",
    "\n",
    "For fields that are expected to be a **valid** string but **not necessarily essential**, ensure validity (e.g. no trailing/leading spaces or `\"   \"` or `\"\"`; if it fails, replace with `\"\"`, but don't throw row away."
   ]
  },
  {
   "cell_type": "code",
   "execution_count": 12,
   "id": "71bfb006-9557-46e2-9fd5-4b41c65585e2",
   "metadata": {},
   "outputs": [],
   "source": [
    "def parse_string(value, *, default=None):\n",
    "    try:\n",
    "        cleaned = str(value).strip()\n",
    "        if not cleaned:\n",
    "            # empty string\n",
    "            return default\n",
    "        else:\n",
    "            return cleaned\n",
    "    except ValueError:\n",
    "        return default"
   ]
  },
  {
   "cell_type": "markdown",
   "id": "55043c89-3361-4fcf-924c-ba70bf365fea",
   "metadata": {},
   "source": [
    "Let's create a tuple which stores the functions that will be mapped onto each rows' values.\n",
    "\n",
    "Note: We are passing callables here, i.e. `parse_int` instead of `parse_int()`, but if we want to provide a kwarg such as default value, then we can't do something like: `parse_string(default='')` because that's no longer a callable. There are two solutions around this:\n",
    "\n",
    "1. Use a `lambda` function: `lambda x: parse_string(x, default='')`. When some value is passed to the `lambda` function, it calls `parse_string` with that value.\n",
    "2. Use a `partial` function: `partial(parse_string, default='')`. Identical to the abovel; it takes the name of the desired function as the first argument and any number of kwargs that we want to pass to that desired function"
   ]
  },
  {
   "cell_type": "code",
   "execution_count": 13,
   "id": "2ded3755-8e07-4d54-8f55-852f3ee10395",
   "metadata": {},
   "outputs": [],
   "source": [
    "from functools import partial\n",
    "\n",
    "column_parsers = (parse_int,  # summons_number, default is None\n",
    "                  parse_string,  # plate_id, default is None\n",
    "                  partial(parse_string, default=''),  # state\n",
    "                  partial(parse_string, default=''),  # plate_type\n",
    "                  parse_date,  # issue_date, default is None\n",
    "                  parse_int,  # violation_code\n",
    "                  partial(parse_string, default=''),  # body type\n",
    "                  parse_string,  # make, default is None\n",
    "                  lambda x: parse_string(x, default='')  # description\n",
    "                 )"
   ]
  },
  {
   "cell_type": "markdown",
   "id": "dcaa1504-e81e-466a-b218-527ae5aa2275",
   "metadata": {},
   "source": [
    "#### Utility Iterators/Generators"
   ]
  },
  {
   "cell_type": "markdown",
   "id": "4b5d4293-7b71-4b4a-8e08-01dc5aaa3c31",
   "metadata": {},
   "source": [
    "This generator will provide us with a raw row (a single string with `\\n` at the end) each time it is yielded. "
   ]
  },
  {
   "cell_type": "code",
   "execution_count": 14,
   "id": "f639220c-c6e9-48f6-aa71-11cf5607c2c6",
   "metadata": {},
   "outputs": [],
   "source": [
    "def read_data():\n",
    "    with open(file_name) as f:\n",
    "        next(f)\n",
    "        yield from f"
   ]
  },
  {
   "cell_type": "markdown",
   "id": "576f066f-fbf2-4cf3-a912-e72fabf606a2",
   "metadata": {},
   "source": [
    "This will take each raw row (`fields`) from above (a single string with `\\n` at the end) and first strip `\\n` off and convert it into as list of values. \n",
    "\n",
    "Then, we'll apply the appropriate function to each value in row depending on its expected type.\n",
    "\n",
    "This will give us a clean list (`parsed_data`) which may contain `None` or `\"\"` if any of the values were invalid+essential or invalid+nonessential, respectively. \n",
    "\n",
    "If there are no `None`s, then let's make a namedtuple with that that data. Otherwise, we'll return `None`; we can use this later to only `yield` parsed rows that are `not None`."
   ]
  },
  {
   "cell_type": "code",
   "execution_count": 15,
   "id": "2d9ee0ba-6caa-41bc-a22c-bc8d8eb9ca3b",
   "metadata": {},
   "outputs": [],
   "source": [
    "def parse_row(row, *, default=None):\n",
    "    fields = row.strip('\\n').split(',')\n",
    "    parsed_data = [func(field) for func, field in zip(column_parsers, fields)]\n",
    "                   \n",
    "    if all(item is not None for item in parsed_data):\n",
    "        return Ticket(*parsed_data)\n",
    "    else:\n",
    "        return default"
   ]
  },
  {
   "cell_type": "markdown",
   "id": "9cbf84e6-5d60-4ade-a732-fb70a566286e",
   "metadata": {},
   "source": [
    "#### Main Iterator/Generator"
   ]
  },
  {
   "cell_type": "markdown",
   "id": "f8062a5c-5ede-4cc4-879e-d5879e7b9907",
   "metadata": {},
   "source": [
    "This serves as our main iterator/generator. It will **`yield`** each raw row **lazily**, parse it **mostly eagerly**, and if the row is valid, **`yield`** it **lazily**."
   ]
  },
  {
   "cell_type": "code",
   "execution_count": 16,
   "id": "17b01fc3-9402-4f33-9baa-05739afa1f8a",
   "metadata": {},
   "outputs": [],
   "source": [
    "def parsed_data():\n",
    "    for row in read_data():\n",
    "        parsed = parse_row(row)\n",
    "        if parsed:\n",
    "            yield parsed"
   ]
  },
  {
   "cell_type": "markdown",
   "id": "a12d2df5-d527-4029-8f32-d993f8ad7566",
   "metadata": {},
   "source": [
    "Now we can iterate through it!"
   ]
  },
  {
   "cell_type": "code",
   "execution_count": 17,
   "id": "264f6556-07ac-42e5-ac8c-0895312c35a1",
   "metadata": {},
   "outputs": [],
   "source": [
    "parsed_rows = parsed_data()"
   ]
  },
  {
   "cell_type": "code",
   "execution_count": 18,
   "id": "bb0921bd-6e7e-467b-8bbe-b99423c70e5d",
   "metadata": {},
   "outputs": [
    {
     "name": "stdout",
     "output_type": "stream",
     "text": [
      "Ticket(summons_number=4006478550, plate_id='VAD7274', registration_state='VA', plate_type='PAS', issue_date=datetime.date(2016, 10, 5), violation_code=5, vehicle_body_type='4D', vehicle_make='BMW', violation_description='BUS LANE VIOLATION')\n",
      "\n",
      "Ticket(summons_number=4006462396, plate_id='22834JK', registration_state='NY', plate_type='COM', issue_date=datetime.date(2016, 9, 30), violation_code=5, vehicle_body_type='VAN', vehicle_make='CHEVR', violation_description='BUS LANE VIOLATION')\n",
      "\n",
      "Ticket(summons_number=4007117810, plate_id='21791MG', registration_state='NY', plate_type='COM', issue_date=datetime.date(2017, 4, 10), violation_code=5, vehicle_body_type='VAN', vehicle_make='DODGE', violation_description='BUS LANE VIOLATION')\n",
      "\n",
      "Ticket(summons_number=4006265037, plate_id='FZX9232', registration_state='NY', plate_type='PAS', issue_date=datetime.date(2016, 8, 23), violation_code=5, vehicle_body_type='SUBN', vehicle_make='FORD', violation_description='BUS LANE VIOLATION')\n",
      "\n",
      "Ticket(summons_number=4006535600, plate_id='N203399C', registration_state='NY', plate_type='OMT', issue_date=datetime.date(2016, 10, 19), violation_code=5, vehicle_body_type='SUBN', vehicle_make='FORD', violation_description='BUS LANE VIOLATION')\n",
      "\n"
     ]
    }
   ],
   "source": [
    "for _ in range(5):\n",
    "    print(next(parsed_rows))\n",
    "    print('')"
   ]
  },
  {
   "cell_type": "markdown",
   "id": "7241cac8-d45d-4cdf-9250-a876578bd9f9",
   "metadata": {},
   "source": [
    "#### Explanation"
   ]
  },
  {
   "cell_type": "markdown",
   "id": "08111c23-7cad-4727-8c58-ebd7834e9e43",
   "metadata": {},
   "source": [
    "By the end of the code we have two generators\n",
    "```python\n",
    "def read_data():\n",
    "    with open(file_name) as f:\n",
    "        next(f)\n",
    "        yield from f\n",
    "```\n",
    "and \n",
    "```python\n",
    "def parsed_data():\n",
    "    for row in read_data():\n",
    "        parsed = parse_row(row)\n",
    "        if parsed:\n",
    "            yield parsed\n",
    "```\n",
    "\n",
    "(Technically, we have one more inside `all(item is not None for item in parsed_data)` but it's irrelevant for my question)\n",
    "\n",
    "Then we start yielding with `next`:\n",
    "```python\n",
    "parsed_rows = parsed_data()\n",
    "for _ in range(5):\n",
    "    print(next(parsed_rows))\n",
    "```\n",
    "For the code block directly above, here's my understanding of the order of operations:\n",
    "\n",
    "1. We call `parsed_data()`. It has a `yield` statement so Python doesn't execute **any** lines within it - it just returns a generator object.\n",
    "\n",
    "2. We call `next`, so Python starts executing the first line, so it runs into `read_data()` which is a generator object, so Python does nothing. But then, we iterate through `read_data()` using a `for` loop, . Python now has permission to `open` the file and `yield from f`, which gets stored in `row`.\n",
    "\n",
    "3. Python applies a function to `row` and eventually it will `yield parsed`  to the `next()` function, ready to be printed.\n",
    "\n",
    "4. For the next iteration, we continue from `read_data()`, asking it to give us the next `row` in the iteration, and so on and so forth..."
   ]
  },
  {
   "cell_type": "markdown",
   "id": "1922a9d7-5841-4932-85b5-86f0b510b691",
   "metadata": {},
   "source": [
    "# Goal 2"
   ]
  },
  {
   "cell_type": "code",
   "execution_count": 70,
   "id": "c60d1bbf-8478-42a0-92b0-eb95716b3249",
   "metadata": {},
   "outputs": [
    {
     "name": "stdout",
     "output_type": "stream",
     "text": [
      "{'BMW': 34, 'CHEVR': 76, 'DODGE': 45, 'FORD': 104, 'FRUEH': 44, 'HONDA': 106, 'LINCO': 12, 'TOYOT': 112, 'CADIL': 9, 'CHRYS': 12, 'FIR': 1, 'GMC': 35, 'HYUND': 35, 'JAGUA': 3, 'JEEP': 22, 'LEXUS': 26, 'ME/BE': 38, 'MERCU': 4, 'MITSU': 11, 'NISSA': 70, 'HIN': 6, 'NS/OT': 18, 'WORKH': 2, 'ACURA': 12, 'AUDI': 12, 'INTER': 25, 'ISUZU': 10, 'KENWO': 5, 'KIA': 8, 'OLDSM': 1, 'SUBAR': 18, 'VOLVO': 12, 'SATUR': 2, 'SMART': 3, 'INFIN': 13, 'PETER': 1, 'CITRO': 1, 'ROVER': 5, 'BUICK': 5, 'GEO': 1, 'MAZDA': 5, 'PORSC': 3, 'VOLKS': 8, 'YAMAH': 1, 'BSA': 1, 'MINI': 1, 'PONTI': 1, 'SPRI': 1, 'PLYMO': 1, 'SCION': 2, 'UPS': 1, 'FIAT': 1, 'UD': 1, 'UTILI': 1, 'GMCQ': 1, 'SAAB': 2, 'HINO': 2, 'STAR': 1, 'AM/T': 1, 'MI/F': 1}\n"
     ]
    }
   ],
   "source": [
    "makes_counts = {}\n",
    "\n",
    "for data in parsed_data():\n",
    "    if data.vehicle_make in makes_counts:\n",
    "        makes_counts[data.vehicle_make] += 1\n",
    "    else:\n",
    "        makes_counts[data.vehicle_make] = 1\n",
    "\n",
    "print(makes_counts)"
   ]
  },
  {
   "cell_type": "code",
   "execution_count": 71,
   "id": "3c83646e-5bb6-440a-a404-2fd8213999fa",
   "metadata": {},
   "outputs": [
    {
     "name": "stdout",
     "output_type": "stream",
     "text": [
      "[('TOYOT', 112), ('HONDA', 106), ('FORD', 104), ('CHEVR', 76), ('NISSA', 70), ('DODGE', 45), ('FRUEH', 44), ('ME/BE', 38), ('GMC', 35), ('HYUND', 35), ('BMW', 34), ('LEXUS', 26), ('INTER', 25), ('JEEP', 22), ('NS/OT', 18), ('SUBAR', 18), ('INFIN', 13), ('LINCO', 12), ('CHRYS', 12), ('ACURA', 12), ('AUDI', 12), ('VOLVO', 12), ('MITSU', 11), ('ISUZU', 10), ('CADIL', 9), ('KIA', 8), ('VOLKS', 8), ('HIN', 6), ('KENWO', 5), ('ROVER', 5), ('BUICK', 5), ('MAZDA', 5), ('MERCU', 4), ('JAGUA', 3), ('SMART', 3), ('PORSC', 3), ('WORKH', 2), ('SATUR', 2), ('SCION', 2), ('SAAB', 2), ('HINO', 2), ('FIR', 1), ('OLDSM', 1), ('PETER', 1), ('CITRO', 1), ('GEO', 1), ('YAMAH', 1), ('BSA', 1), ('MINI', 1), ('PONTI', 1), ('SPRI', 1), ('PLYMO', 1), ('UPS', 1), ('FIAT', 1), ('UD', 1), ('UTILI', 1), ('GMCQ', 1), ('STAR', 1), ('AM/T', 1), ('MI/F', 1)]\n"
     ]
    }
   ],
   "source": [
    "sorted_data = sorted(makes_counts.items(),\n",
    "                             key=lambda tuple: tuple[1],\n",
    "                             reverse=True)\n",
    "print(sorted_data)"
   ]
  },
  {
   "cell_type": "code",
   "execution_count": 72,
   "id": "03cd84dd-fdb7-44f3-ae00-9d64e44cf93e",
   "metadata": {},
   "outputs": [
    {
     "name": "stdout",
     "output_type": "stream",
     "text": [
      "{'TOYOT': 112, 'HONDA': 106, 'FORD': 104, 'CHEVR': 76, 'NISSA': 70, 'DODGE': 45, 'FRUEH': 44, 'ME/BE': 38, 'GMC': 35, 'HYUND': 35, 'BMW': 34, 'LEXUS': 26, 'INTER': 25, 'JEEP': 22, 'NS/OT': 18, 'SUBAR': 18, 'INFIN': 13, 'LINCO': 12, 'CHRYS': 12, 'ACURA': 12, 'AUDI': 12, 'VOLVO': 12, 'MITSU': 11, 'ISUZU': 10, 'CADIL': 9, 'KIA': 8, 'VOLKS': 8, 'HIN': 6, 'KENWO': 5, 'ROVER': 5, 'BUICK': 5, 'MAZDA': 5, 'MERCU': 4, 'JAGUA': 3, 'SMART': 3, 'PORSC': 3, 'WORKH': 2, 'SATUR': 2, 'SCION': 2, 'SAAB': 2, 'HINO': 2, 'FIR': 1, 'OLDSM': 1, 'PETER': 1, 'CITRO': 1, 'GEO': 1, 'YAMAH': 1, 'BSA': 1, 'MINI': 1, 'PONTI': 1, 'SPRI': 1, 'PLYMO': 1, 'UPS': 1, 'FIAT': 1, 'UD': 1, 'UTILI': 1, 'GMCQ': 1, 'STAR': 1, 'AM/T': 1, 'MI/F': 1}\n"
     ]
    }
   ],
   "source": [
    "print({make:cnt  for make, cnt in sorted_data})"
   ]
  },
  {
   "cell_type": "markdown",
   "id": "3fef970f-eb6e-4a67-8253-d2122110aa5b",
   "metadata": {},
   "source": [
    "This solution is good, but what if we wanted to get around the `if-else` loop when making the original dictionary? \n",
    "\n",
    "We can using `defaultdict` from `collections`\n",
    "\n",
    "With regular dictionaries, if we request a value for a key that doesn't exist, an exception is thrown.\n",
    "\n",
    "With `defaultdict`, if we request a value for a key that doesn't exist, python will set a default value of an empty string, integer value of 0, empty list, empty dict or any other empty type that we want. \n",
    "\n",
    "As an example:"
   ]
  },
  {
   "cell_type": "code",
   "execution_count": 73,
   "id": "8b087e95-f472-4361-840f-9b4ebb4b8ad3",
   "metadata": {},
   "outputs": [
    {
     "data": {
      "text/plain": [
       "0"
      ]
     },
     "execution_count": 73,
     "metadata": {},
     "output_type": "execute_result"
    }
   ],
   "source": [
    "from collections import defaultdict\n",
    "\n",
    "example_d = defaultdict(int)\n",
    "example_d['idontexist']"
   ]
  },
  {
   "cell_type": "markdown",
   "id": "43e5a4b7-4572-4590-83d1-de475c4cd2ec",
   "metadata": {},
   "source": [
    "In our case, we can just increment 1 whether or not the key's value exists because if it doesn't exist, a default value of 0 will be set.\n",
    "\n",
    "We'll also wrap it into a function."
   ]
  },
  {
   "cell_type": "code",
   "execution_count": 74,
   "id": "6cdcb544-ed27-4e35-83fc-1b96776360ff",
   "metadata": {},
   "outputs": [
    {
     "data": {
      "text/plain": [
       "{'TOYOT': 112,\n",
       " 'HONDA': 106,\n",
       " 'FORD': 104,\n",
       " 'CHEVR': 76,\n",
       " 'NISSA': 70,\n",
       " 'DODGE': 45,\n",
       " 'FRUEH': 44,\n",
       " 'ME/BE': 38,\n",
       " 'GMC': 35,\n",
       " 'HYUND': 35,\n",
       " 'BMW': 34,\n",
       " 'LEXUS': 26,\n",
       " 'INTER': 25,\n",
       " 'JEEP': 22,\n",
       " 'NS/OT': 18,\n",
       " 'SUBAR': 18,\n",
       " 'INFIN': 13,\n",
       " 'LINCO': 12,\n",
       " 'CHRYS': 12,\n",
       " 'ACURA': 12,\n",
       " 'AUDI': 12,\n",
       " 'VOLVO': 12,\n",
       " 'MITSU': 11,\n",
       " 'ISUZU': 10,\n",
       " 'CADIL': 9,\n",
       " 'KIA': 8,\n",
       " 'VOLKS': 8,\n",
       " 'HIN': 6,\n",
       " 'KENWO': 5,\n",
       " 'ROVER': 5,\n",
       " 'BUICK': 5,\n",
       " 'MAZDA': 5,\n",
       " 'MERCU': 4,\n",
       " 'JAGUA': 3,\n",
       " 'SMART': 3,\n",
       " 'PORSC': 3,\n",
       " 'WORKH': 2,\n",
       " 'SATUR': 2,\n",
       " 'SCION': 2,\n",
       " 'SAAB': 2,\n",
       " 'HINO': 2,\n",
       " 'FIR': 1,\n",
       " 'OLDSM': 1,\n",
       " 'PETER': 1,\n",
       " 'CITRO': 1,\n",
       " 'GEO': 1,\n",
       " 'YAMAH': 1,\n",
       " 'BSA': 1,\n",
       " 'MINI': 1,\n",
       " 'PONTI': 1,\n",
       " 'SPRI': 1,\n",
       " 'PLYMO': 1,\n",
       " 'UPS': 1,\n",
       " 'FIAT': 1,\n",
       " 'UD': 1,\n",
       " 'UTILI': 1,\n",
       " 'GMCQ': 1,\n",
       " 'STAR': 1,\n",
       " 'AM/T': 1,\n",
       " 'MI/F': 1}"
      ]
     },
     "execution_count": 74,
     "metadata": {},
     "output_type": "execute_result"
    }
   ],
   "source": [
    "def violation_count_by_make():\n",
    "    makes_counts = defaultdict(int)\n",
    "    for data in parsed_data():\n",
    "        makes_counts[data.vehicle_make] += 1\n",
    "\n",
    "    sorted_data = sorted(makes_counts.items(),\n",
    "                             key=lambda tuple: tuple[1],\n",
    "                             reverse=True)\n",
    "\n",
    "    return {make:cnt  for make, cnt in sorted_data}\n",
    "\n",
    "violation_count_by_make()"
   ]
  },
  {
   "cell_type": "code",
   "execution_count": null,
   "id": "015984cf-1ca9-4708-bf9a-304b94d877e6",
   "metadata": {},
   "outputs": [],
   "source": [
    "\n",
    "    "
   ]
  },
  {
   "cell_type": "code",
   "execution_count": null,
   "id": "99314362-dc15-4148-89ab-0422c3644178",
   "metadata": {},
   "outputs": [],
   "source": []
  }
 ],
 "metadata": {
  "kernelspec": {
   "display_name": "Python 3 (ipykernel)",
   "language": "python",
   "name": "python3"
  },
  "language_info": {
   "codemirror_mode": {
    "name": "ipython",
    "version": 3
   },
   "file_extension": ".py",
   "mimetype": "text/x-python",
   "name": "python",
   "nbconvert_exporter": "python",
   "pygments_lexer": "ipython3",
   "version": "3.10.4"
  }
 },
 "nbformat": 4,
 "nbformat_minor": 5
}
