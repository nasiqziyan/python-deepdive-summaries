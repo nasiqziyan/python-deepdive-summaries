{
 "cells": [
  {
   "cell_type": "markdown",
   "id": "c1c2a775-fdd5-4184-a166-055ed811cd1d",
   "metadata": {},
   "source": [
    "# Useful Hints"
   ]
  },
  {
   "cell_type": "markdown",
   "id": "17ce0ad4-8855-40f3-8a68-c833a4fa01d2",
   "metadata": {},
   "source": [
    "##### Reading and rewinding data from a File"
   ]
  },
  {
   "cell_type": "markdown",
   "id": "ba5bf1b9-55d0-4c9d-8c79-1036d744fcf0",
   "metadata": {},
   "source": [
    "The file object supports reading data by specifying the amount of data we want to read, and repositioning the \"read head\" using the `seek` function.\n",
    "\n",
    "Let's take a look:"
   ]
  },
  {
   "cell_type": "code",
   "execution_count": 1,
   "id": "58bd2005-b7d8-4804-a9ca-7a185a145b2d",
   "metadata": {},
   "outputs": [
    {
     "name": "stdout",
     "output_type": "stream",
     "text": [
      "--- Car;MPG;Cylinders;Displacement;Horsepower;Weight;Acceleration;Model;Origin\n",
      "Chevrolet Chevelle Malibu\n",
      "--- ;18.0;8;307.0;130.0;3504.;12.0;70;US\n",
      "Buick Skylark 320;15.0;8;350.0;165.0;3693.;11.5;70;US\n",
      "Plymouth \n",
      "--- Car;MPG;Cylinders;Displacement;Horsepower;Weight;Acceleration;Model;Origin\n",
      "Chevrolet Chevelle Malibu\n"
     ]
    }
   ],
   "source": [
    "with open('cars.csv') as f:\n",
    "    print('---', f.read(100))  # read head at 100\n",
    "    print('---', f.read(100))  # read head at 200\n",
    "    f.seek(0)                  # read head at 0 \n",
    "    print('---', f.read(100))  # read head at 100\n",
    "    "
   ]
  },
  {
   "cell_type": "markdown",
   "id": "f77bff8f-43b1-418d-85f9-e3177080a75f",
   "metadata": {},
   "source": [
    "##### Sniffing the CSV dialect"
   ]
  },
  {
   "cell_type": "markdown",
   "id": "7e0bcf93-3e21-4056-b455-04cb12aaf95f",
   "metadata": {},
   "source": [
    "The dialect of a CSV file refers to some of the specifics used to define data in a CSV file. The separators can be different (for example some failes use a comma, some use a semi-colon, some use a tab, etc).\n",
    "\n",
    "Also, as we have seen before, a field is also sometimes delimited using quotes, or double quotes, or maybe some entirely different character.\n",
    "\n",
    "When we have to deal with files that may be encoded using different dialects it can require quite a bit of work to determine what those specifics are. This is were the `Sniffer` class from the `csv` module can be useful. By providing it a sample fo the CSV file, it can analyze it and determine a best guess as to the specific dialect that was used. We can then use that dialect when we use the `csv.reader` function.\n",
    "\n",
    "Let's see how to use it with one of our files: `personal_info.csv`:"
   ]
  },
  {
   "cell_type": "code",
   "execution_count": 2,
   "id": "c43629c5-840b-4bcc-8ce9-b88f45fccf89",
   "metadata": {},
   "outputs": [
    {
     "name": "stdout",
     "output_type": "stream",
     "text": [
      "{'__module__': 'csv', '_name': 'sniffed', 'lineterminator': '\\r\\n', 'quoting': 0, '__doc__': None, 'doublequote': False, 'delimiter': ',', 'quotechar': '\"', 'skipinitialspace': False}\n"
     ]
    }
   ],
   "source": [
    "import csv\n",
    "\n",
    "with open('personal_info.csv') as f:\n",
    "    sample = f.read(2000)\n",
    "    dialect = csv.Sniffer().sniff(sample)\n",
    "print(vars(dialect))"
   ]
  },
  {
   "cell_type": "markdown",
   "id": "98698540-c0e5-4b93-9d13-17e8e0b54383",
   "metadata": {},
   "source": [
    "We can now use this dialect to open the csv reader:"
   ]
  },
  {
   "cell_type": "code",
   "execution_count": 4,
   "id": "3c0c28a5-af60-47de-b3af-82c35bf721c0",
   "metadata": {},
   "outputs": [
    {
     "name": "stdout",
     "output_type": "stream",
     "text": [
      "['ssn', 'first_name', 'last_name', 'gender', 'language']\n",
      "['100-53-9824', 'Sebastiano', 'Tester', 'Male', 'Icelandic']\n",
      "['101-71-4702', 'Cayla', 'MacDonagh', 'Female', 'Lao']\n",
      "['101-84-0356', 'Nomi', 'Lipprose', 'Female', 'Yiddish']\n",
      "['104-22-0928', 'Justinian', 'Kunzelmann', 'Male', 'Dhivehi']\n"
     ]
    }
   ],
   "source": [
    "from itertools import islice\n",
    "\n",
    "with open('personal_info.csv') as f:\n",
    "    reader = csv.reader(f, dialect)\n",
    "    for row in islice(reader, 5):\n",
    "        print(row)"
   ]
  },
  {
   "cell_type": "markdown",
   "id": "b09e2812-1edd-4b52-882b-b8f3a76d4873",
   "metadata": {},
   "source": [
    "# Goal 1"
   ]
  },
  {
   "cell_type": "markdown",
   "id": "089f32d8-7793-4ed7-9021-8a66089b63d1",
   "metadata": {},
   "source": [
    "For this goal, you are given a number of CSV files, each of which have their first row with the field name.\n",
    "\n",
    "You goal is to create a context manager that you can use to produce the data from each file in a named tuple with field names corresponding to the  header row field names.\n",
    "\n",
    "You should use the `csv` module's `reader` function to help with parsing the data.\n",
    "\n",
    "Your context manager should be generic in the sense that it should just need the file name, no other configuration or hardcoded functionality is required. You do not need to worry about data types for this goal - just return every field as a string.\n",
    "\n",
    "In addition, your context manager should produce lazy iterators.\n",
    "\n",
    "Implement this using a class that implements the context manager protocol"
   ]
  },
  {
   "cell_type": "markdown",
   "id": "2d5a7756-6cf4-4232-99c1-f26a7b862f3a",
   "metadata": {},
   "source": [
    "#######################"
   ]
  },
  {
   "cell_type": "markdown",
   "id": "36ba7cde-cbe8-413f-aaec-65db242e58ab",
   "metadata": {},
   "source": [
    "We don't want to hardcode in the csv dialect for each file. Instead, we want Python to try and figure it out, and go off that prediction. We can do this with `csv.Sniffer()`."
   ]
  },
  {
   "cell_type": "code",
   "execution_count": 5,
   "id": "b539e51d-f1ca-4711-8f8d-e4c70866fb8f",
   "metadata": {},
   "outputs": [
    {
     "data": {
      "text/plain": [
       "mappingproxy({'__module__': 'csv',\n",
       "              '_name': 'sniffed',\n",
       "              'lineterminator': '\\r\\n',\n",
       "              'quoting': 0,\n",
       "              '__doc__': None,\n",
       "              'doublequote': False,\n",
       "              'delimiter': ';',\n",
       "              'quotechar': '\"',\n",
       "              'skipinitialspace': False})"
      ]
     },
     "execution_count": 5,
     "metadata": {},
     "output_type": "execute_result"
    }
   ],
   "source": [
    "import csv\n",
    "\n",
    "def get_dialect(f_name):\n",
    "    with open(f_name) as f:\n",
    "        return csv.Sniffer().sniff(f.read(1000))\n",
    "\n",
    "example_dialect = get_dialect('cars.csv')\n",
    "vars(example_dialect)"
   ]
  },
  {
   "cell_type": "code",
   "execution_count": 23,
   "id": "35ccd3c6-cbb2-46a0-81c6-beaa830becfd",
   "metadata": {},
   "outputs": [],
   "source": [
    "from collections import namedtuple\n",
    "import csv\n",
    "\n",
    "\n",
    "class FileParser:\n",
    "    def __init__(self, f_name):\n",
    "        self.f_name = f_name\n",
    "\n",
    "    def __enter__(self):\n",
    "        self._f = open(self.f_name, 'r')\n",
    "        self._reader = csv.reader(self._f, get_dialect(self.f_name))\n",
    "        headers = map(lambda s: s.lower(), next(self._reader))\n",
    "        self._nt = namedtuple('Data', headers)\n",
    "        return self\n",
    "\n",
    "    def __exit__(self, exc_type, exc_value, exc_tb):\n",
    "        self._f.close()\n",
    "        return False\n",
    "\n",
    "    def __iter__(self):\n",
    "        return self\n",
    "\n",
    "    def __next__(self):\n",
    "        if self._f.closed:\n",
    "            raise StopIteration\n",
    "        else:\n",
    "            return self._nt(*next(self._reader))\n"
   ]
  },
  {
   "cell_type": "code",
   "execution_count": 24,
   "id": "3ca2dcaf-18ff-454d-a387-0cc630cef8e0",
   "metadata": {},
   "outputs": [
    {
     "name": "stdout",
     "output_type": "stream",
     "text": [
      "Data(car='Chevrolet Chevelle Malibu', mpg='18.0', cylinders='8', displacement='307.0', horsepower='130.0', weight='3504.', acceleration='12.0', model='70', origin='US')\n",
      "Data(car='Buick Skylark 320', mpg='15.0', cylinders='8', displacement='350.0', horsepower='165.0', weight='3693.', acceleration='11.5', model='70', origin='US')\n",
      "Data(car='Plymouth Satellite', mpg='18.0', cylinders='8', displacement='318.0', horsepower='150.0', weight='3436.', acceleration='11.0', model='70', origin='US')\n",
      "Data(car='AMC Rebel SST', mpg='16.0', cylinders='8', displacement='304.0', horsepower='150.0', weight='3433.', acceleration='12.0', model='70', origin='US')\n",
      "Data(car='Ford Torino', mpg='17.0', cylinders='8', displacement='302.0', horsepower='140.0', weight='3449.', acceleration='10.5', model='70', origin='US')\n"
     ]
    }
   ],
   "source": [
    "from itertools import islice\n",
    "\n",
    "with FileParser('cars.csv') as data:\n",
    "    for row in islice(data, 5):\n",
    "        print(row)"
   ]
  },
  {
   "cell_type": "code",
   "execution_count": 25,
   "id": "5c3ed761-e5a9-4b34-a92d-568f0fdefe9e",
   "metadata": {},
   "outputs": [
    {
     "name": "stdout",
     "output_type": "stream",
     "text": [
      "Data(ssn='100-53-9824', first_name='Sebastiano', last_name='Tester', gender='Male', language='Icelandic')\n",
      "Data(ssn='101-71-4702', first_name='Cayla', last_name='MacDonagh', gender='Female', language='Lao')\n",
      "Data(ssn='101-84-0356', first_name='Nomi', last_name='Lipprose', gender='Female', language='Yiddish')\n",
      "Data(ssn='104-22-0928', first_name='Justinian', last_name='Kunzelmann', gender='Male', language='Dhivehi')\n",
      "Data(ssn='104-84-7144', first_name='Claudianus', last_name='Brixey', gender='Male', language='Afrikaans')\n"
     ]
    }
   ],
   "source": [
    "with FileParser('personal_info.csv') as data:\n",
    "    for row in islice(data, 5):\n",
    "        print(row)"
   ]
  },
  {
   "cell_type": "markdown",
   "id": "d11772ae-b4b7-4ebe-b8b8-ce1e314bdb54",
   "metadata": {},
   "source": [
    "# Goal 2"
   ]
  },
  {
   "cell_type": "markdown",
   "id": "7ce1bf5e-2f7d-4d3a-9338-dce04068c645",
   "metadata": {},
   "source": [
    "The goal is to reproduce the work you did in Goal 1, but using a generator function and the `contextlib` `contextmanager` decorator."
   ]
  },
  {
   "cell_type": "markdown",
   "id": "280a3e0d-2496-4e71-a77b-dfc03a83d426",
   "metadata": {},
   "source": [
    "We have to separate the iterator and context manager protocol into two separate parts for this approach to work. `parsed_data` is going to be the generator function which is converted into a context manager and yields an iterator"
   ]
  },
  {
   "cell_type": "code",
   "execution_count": 51,
   "id": "928a9f95-b377-48e7-9d60-e0bcba6c62db",
   "metadata": {},
   "outputs": [],
   "source": [
    "from collections import namedtuple\n",
    "import csv\n",
    "from contextlib import contextmanager\n",
    "\n",
    "@contextmanager\n",
    "def parsed_data(f_name):\n",
    "            \n",
    "    f = open(f_name)\n",
    "    try:\n",
    "        dialect = csv.Sniffer().sniff(f.read(1000))\n",
    "        f.seek(0)\n",
    "        \n",
    "        reader = csv.reader(f, dialect)\n",
    "        headers = map(lambda s:s.lower(), next(reader))\n",
    "        nt = namedtuple('Data', headers)\n",
    "        yield (nt(*row) for row in reader)\n",
    "\n",
    "    finally:\n",
    "        f.close()"
   ]
  },
  {
   "cell_type": "code",
   "execution_count": 49,
   "id": "be739c6e-8202-4b60-92fb-257465f47ea8",
   "metadata": {},
   "outputs": [
    {
     "name": "stdout",
     "output_type": "stream",
     "text": [
      "Data(car='Chevrolet Chevelle Malibu', mpg='18.0', cylinders='8', displacement='307.0', horsepower='130.0', weight='3504.', acceleration='12.0', model='70', origin='US')\n",
      "Data(car='Buick Skylark 320', mpg='15.0', cylinders='8', displacement='350.0', horsepower='165.0', weight='3693.', acceleration='11.5', model='70', origin='US')\n",
      "Data(car='Plymouth Satellite', mpg='18.0', cylinders='8', displacement='318.0', horsepower='150.0', weight='3436.', acceleration='11.0', model='70', origin='US')\n",
      "Data(car='AMC Rebel SST', mpg='16.0', cylinders='8', displacement='304.0', horsepower='150.0', weight='3433.', acceleration='12.0', model='70', origin='US')\n",
      "Data(car='Ford Torino', mpg='17.0', cylinders='8', displacement='302.0', horsepower='140.0', weight='3449.', acceleration='10.5', model='70', origin='US')\n"
     ]
    }
   ],
   "source": [
    "from itertools import islice\n",
    "\n",
    "with parsed_data('cars.csv') as data:\n",
    "    for row in islice(data, 5):\n",
    "        print(row)"
   ]
  },
  {
   "cell_type": "code",
   "execution_count": 50,
   "id": "ffd6a33b-ab37-4efb-90d4-31ae4480fc66",
   "metadata": {},
   "outputs": [
    {
     "name": "stdout",
     "output_type": "stream",
     "text": [
      "Data(ssn='100-53-9824', first_name='Sebastiano', last_name='Tester', gender='Male', language='Icelandic')\n",
      "Data(ssn='101-71-4702', first_name='Cayla', last_name='MacDonagh', gender='Female', language='Lao')\n",
      "Data(ssn='101-84-0356', first_name='Nomi', last_name='Lipprose', gender='Female', language='Yiddish')\n",
      "Data(ssn='104-22-0928', first_name='Justinian', last_name='Kunzelmann', gender='Male', language='Dhivehi')\n",
      "Data(ssn='104-84-7144', first_name='Claudianus', last_name='Brixey', gender='Male', language='Afrikaans')\n"
     ]
    }
   ],
   "source": [
    "with parsed_data('personal_info.csv') as data:\n",
    "    for row in islice(data, 5):\n",
    "        print(row)"
   ]
  }
 ],
 "metadata": {
  "kernelspec": {
   "display_name": "Python 3 (ipykernel)",
   "language": "python",
   "name": "python3"
  },
  "language_info": {
   "codemirror_mode": {
    "name": "ipython",
    "version": 3
   },
   "file_extension": ".py",
   "mimetype": "text/x-python",
   "name": "python",
   "nbconvert_exporter": "python",
   "pygments_lexer": "ipython3",
   "version": "3.8.0"
  }
 },
 "nbformat": 4,
 "nbformat_minor": 5
}
