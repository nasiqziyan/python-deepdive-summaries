{
 "cells": [
  {
   "cell_type": "markdown",
   "id": "dfa05c30-57f3-4ffe-8b1b-ea00ac28ab68",
   "metadata": {},
   "source": [
    "**Sidenote:**\n",
    "\n",
    "A static method is bound to a class rather than the objects for that class. This means that a static method can be called without an object for that class. This also means that static methods cannot modify the state of an object as they are not bound to it.\n",
    "\n",
    "Static methods have a very clear use-case. When we need some functionality not w.r.t an Object but w.r.t the complete class, we make a method static. This is pretty much advantageous when we need to create Utility methods as they aren’t tied to an object lifecycle usually. Finally, note that in a static method, we don’t need the self to be passed as the first argument."
   ]
  },
  {
   "cell_type": "markdown",
   "id": "af5f3a53-838c-4a35-9e51-7411759081f8",
   "metadata": {},
   "source": [
    "**Sidenote:**\n",
    "\n",
    "You may be wondering why the last line is `Fib._fib(n-1)` as opposed to `self._fib(n-1)` that we see in the `__getitem__` method. We could do it that way but things will start to look convoluted very quickly. For starters `def _fib(n)` will need to become `def _fib(self, n)`. Then, in `__getitem__`, `return self._fib(s)` will need to become `return self._fib(self, s)`. The code below is the version with these changes made.\n",
    "\n",
    "\n",
    "```    \n",
    "def __getitem__(self, s):\n",
    "    if isinstance(s, int):\n",
    "        # single item requested\n",
    "        if s < 0:\n",
    "            s = self._n + s\n",
    "        if s < 0 or s > self._n - 1:\n",
    "            raise IndexError\n",
    "                \n",
    "        return self._fib(self, s)                                 # this is basically our 'else' statement.\n",
    "    else:\n",
    "        # slice being requested\n",
    "        print(f'requesting [{s.start}:{s.stop}:{s.step}]')\n",
    "        idx = s.indices(self._n)                            # the argument required for s.indices is the length of the sequence which is self._n\n",
    "        rng = range(*idx)\n",
    "        print(f'\\trange({idx[0]}, {idx[1]}, {idx[2]}) --> {list(rng)}')  # \\t is tab special character\n",
    "            \n",
    "@staticmethod\n",
    "@lru_cache(2**32)\n",
    "def _fib(self, n):\n",
    "    if n < 2:\n",
    "        return 1\n",
    "    else:\n",
    "        return self._fib(self, n-1) + self._fib(self, n-2)\n",
    "```"
   ]
  },
  {
   "cell_type": "markdown",
   "id": "e1ac49a6-c3bb-48cd-bab0-a3e0dd1feeee",
   "metadata": {},
   "source": [
    "One thing I want to point out here: we did not need to use inheritance! There was no need to inherit from another sequence type. All we really needed was to implement the `__getitem__` and `__len__` methods."
   ]
  },
  {
   "cell_type": "markdown",
   "id": "1409b1b1-6af5-458b-b118-9dd8a16ad8de",
   "metadata": {},
   "source": [
    "The other thing I want to mention, is that I would not use recursion for production purposes for a Fibonacci sequence, even with memoization - partly because of the cost of recursion and the limit to the recursion depth that is possible.\n",
    "\n",
    "Also, when we look at generators, and more particularly generator expressions, we'll see better ways of doing this as well.\n",
    "\n",
    "I really wanted to show you a simple example of how to create your own sequence types."
   ]
  }
 ],
 "metadata": {
  "kernelspec": {
   "display_name": "Python 3 (ipykernel)",
   "language": "python",
   "name": "python3"
  },
  "language_info": {
   "codemirror_mode": {
    "name": "ipython",
    "version": 3
   },
   "file_extension": ".py",
   "mimetype": "text/x-python",
   "name": "python",
   "nbconvert_exporter": "python",
   "pygments_lexer": "ipython3",
   "version": "3.10.4"
  }
 },
 "nbformat": 4,
 "nbformat_minor": 5
}
