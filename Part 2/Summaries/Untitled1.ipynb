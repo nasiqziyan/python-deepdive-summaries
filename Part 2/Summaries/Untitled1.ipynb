{
 "cells": [
  {
   "cell_type": "markdown",
   "id": "0ee74ef1-5b10-4219-be1c-373eba5b4f1e",
   "metadata": {},
   "source": [
    "# 07 - In-Place Concatenation and Repetition"
   ]
  },
  {
   "cell_type": "markdown",
   "id": "ec3c5cd1-95f3-4dde-8183-4cc7b7546bea",
   "metadata": {},
   "source": [
    "#### In-Place Concatenation"
   ]
  },
  {
   "cell_type": "markdown",
   "id": "c6edc025-12f9-4f99-bd1d-0b7fcaa7219f",
   "metadata": {},
   "source": [
    "We saw that using concatenation ended up creating a new sequence object:"
   ]
  },
  {
   "cell_type": "code",
   "execution_count": 36,
   "id": "6cb8864c-b303-4fb8-ab4e-aee66a5ebe20",
   "metadata": {},
   "outputs": [
    {
     "name": "stdout",
     "output_type": "stream",
     "text": [
      "id(l1)=140117538850368 (before concatenation) [1, 2, 3, 4]\n",
      "id(l2)=140117624613760 [5, 6]\n",
      "id(l1)=140117538861760 (after concatenation) [1, 2, 3, 4, 5, 6]\n"
     ]
    }
   ],
   "source": [
    "l1 = [1, 2, 3, 4]\n",
    "l2 = [5, 6]\n",
    "print(f'{id(l1)=} (before concatenation)', l1)\n",
    "print(f'{id(l2)=}', l2)\n",
    "\n",
    "l1  = l1 + l2 \n",
    "print(f'{id(l1)=} (after concatenation)', l1)"
   ]
  },
  {
   "cell_type": "markdown",
   "id": "b6e66088-e181-4377-887e-20fa5f0fb110",
   "metadata": {},
   "source": [
    "But watch what happens when we use the in-place concatenation operator `+=:"
   ]
  },
  {
   "cell_type": "code",
   "execution_count": 37,
   "id": "049703de-2955-463e-9c5a-d60e153739f9",
   "metadata": {},
   "outputs": [
    {
     "name": "stdout",
     "output_type": "stream",
     "text": [
      "id(l1)=140117538807616 (before concatenation) [1, 2, 3, 4]\n",
      "id(l2)=140117539448192 [5, 6]\n",
      "id(l1)=140117538807616 (after concatenation) [1, 2, 3, 4, 5, 6]\n"
     ]
    }
   ],
   "source": [
    "l1 = [1, 2, 3, 4]\n",
    "l2 = [5, 6]\n",
    "print(f'{id(l1)=} (before concatenation)', l1)\n",
    "print(f'{id(l2)=}', l2)\n",
    "\n",
    "l1 += l2 \n",
    "print(f'{id(l1)=} (after concatenation)', l1)"
   ]
  },
  {
   "cell_type": "markdown",
   "id": "947b4b4d-c0ef-4faf-80de-0bc56817eb47",
   "metadata": {},
   "source": [
    "**When using `+=` on an mutable object (that supports this operator), the object is mutated.**\n",
    "\n",
    "If we used a tuple instead of a list above, we have no other option but to create a new sequence object and store the concatenated data because tuples are not mutable."
   ]
  },
  {
   "cell_type": "markdown",
   "id": "bba7cd08-a8e5-4033-8614-9e7f1e7cb484",
   "metadata": {},
   "source": [
    "Another point to note is that normally we cannot concatenate a list and a tuple."
   ]
  },
  {
   "cell_type": "code",
   "execution_count": 45,
   "id": "fc5b3256-c5dd-40d3-8ea8-bf9c62356682",
   "metadata": {},
   "outputs": [
    {
     "ename": "TypeError",
     "evalue": "can only concatenate list (not \"tuple\") to list",
     "output_type": "error",
     "traceback": [
      "\u001b[0;31m---------------------------------------------------------------------------\u001b[0m",
      "\u001b[0;31mTypeError\u001b[0m                                 Traceback (most recent call last)",
      "\u001b[0;32m/tmp/ipykernel_3701/1697834321.py\u001b[0m in \u001b[0;36m<module>\u001b[0;34m\u001b[0m\n\u001b[1;32m      2\u001b[0m \u001b[0mt1\u001b[0m \u001b[0;34m=\u001b[0m \u001b[0;34m(\u001b[0m\u001b[0;36m5\u001b[0m\u001b[0;34m,\u001b[0m \u001b[0;36m6\u001b[0m\u001b[0;34m)\u001b[0m\u001b[0;34m\u001b[0m\u001b[0;34m\u001b[0m\u001b[0m\n\u001b[1;32m      3\u001b[0m \u001b[0;34m\u001b[0m\u001b[0m\n\u001b[0;32m----> 4\u001b[0;31m \u001b[0ml1\u001b[0m \u001b[0;34m=\u001b[0m \u001b[0ml1\u001b[0m \u001b[0;34m+\u001b[0m \u001b[0mt1\u001b[0m\u001b[0;34m\u001b[0m\u001b[0;34m\u001b[0m\u001b[0m\n\u001b[0m\u001b[1;32m      5\u001b[0m \u001b[0mprint\u001b[0m\u001b[0;34m(\u001b[0m\u001b[0ml1\u001b[0m\u001b[0;34m)\u001b[0m\u001b[0;34m\u001b[0m\u001b[0;34m\u001b[0m\u001b[0m\n",
      "\u001b[0;31mTypeError\u001b[0m: can only concatenate list (not \"tuple\") to list"
     ]
    }
   ],
   "source": [
    "l1 = [1, 2, 3, 4]\n",
    "t1 = (5, 6)\n",
    "\n",
    "l1 = l1 + t1\n",
    "print(l1)"
   ]
  },
  {
   "cell_type": "markdown",
   "id": "443581f1-464a-4b89-8691-3ce547bfb394",
   "metadata": {},
   "source": [
    "But we CAN do so **if we use the concatenation operator**. But this only works if we concatenate the mutable list with a tuple - we cannot concatenate the immutable tuple with a list, because the tuple is immutable."
   ]
  },
  {
   "cell_type": "code",
   "execution_count": 49,
   "id": "653e0e38-47f8-40e7-810e-8400af97b71f",
   "metadata": {},
   "outputs": [
    {
     "name": "stdout",
     "output_type": "stream",
     "text": [
      "[1, 2, 3, 4, 5, 6]\n"
     ]
    }
   ],
   "source": [
    "l1 = [1, 2, 3, 4]\n",
    "t1 = (5, 6)\n",
    "\n",
    "l1 += t1\n",
    "print(l1)"
   ]
  },
  {
   "cell_type": "markdown",
   "id": "0bccc86b-b736-470a-a937-8a3a094cda20",
   "metadata": {},
   "source": [
    "#### In-Place Repetition"
   ]
  },
  {
   "cell_type": "markdown",
   "id": "138b8d1f-7af7-4119-9306-84aa1038de8c",
   "metadata": {},
   "source": [
    "**The same is true for the `*=` operator.**"
   ]
  },
  {
   "cell_type": "code",
   "execution_count": 41,
   "id": "cce62a51-b580-453b-8de9-022634210de0",
   "metadata": {},
   "outputs": [
    {
     "name": "stdout",
     "output_type": "stream",
     "text": [
      "id(l1)=140117539326464 (before concatenation) [1, 2, 3, 4]\n",
      "id(l2)=140117539440000 [5, 6]\n",
      "id(l1)=140117539326464 (after concatenation) [1, 2, 3, 4, 1, 2, 3, 4]\n"
     ]
    }
   ],
   "source": [
    "l1 = [1, 2, 3, 4]\n",
    "l2 = [5, 6]\n",
    "print(f'{id(l1)=} (before concatenation)', l1)\n",
    "print(f'{id(l2)=}', l2)\n",
    "\n",
    "l1 *= 2\n",
    "print(f'{id(l1)=} (after concatenation)', l1)"
   ]
  },
  {
   "cell_type": "markdown",
   "id": "7f778d26-2de7-44c0-b2c4-f5f3966d5ef5",
   "metadata": {},
   "source": [
    "So the key takeaway from this section is that `a = a + b` is NOT equivalent to `a += b` if `a` is a mutable object; in the former, a new object is created and `a` points to it, and in the latter, `a` is modified as is."
   ]
  },
  {
   "cell_type": "markdown",
   "id": "738c8123-b23c-4bfc-8067-f99146b07a38",
   "metadata": {},
   "source": [
    "# 08 - Assignments in Mutable Sequences"
   ]
  },
  {
   "cell_type": "markdown",
   "id": "4a922123-c19a-403f-a196-8c4db8ffeaca",
   "metadata": {},
   "source": [
    "#### Replacing"
   ]
  },
  {
   "cell_type": "markdown",
   "id": "117aac89-771b-47b3-adcf-a270b03b61f0",
   "metadata": {},
   "source": [
    "Up until now we've used slicing to read elements from a sequence. But, as you know we can also replace the elements in a slice using assignment. Those elements need to be retrieved from any iterable e.g. tuple, set, etc.\n",
    "\n",
    "For regular slices (step size = 1, i.e. non-extended), the slice and iterable **need *not* be the same length**.\n",
    "\n",
    "This operation **performs a mutation**."
   ]
  },
  {
   "cell_type": "code",
   "execution_count": 52,
   "id": "a1fd4049-edea-4cd5-835e-9e87dfebd839",
   "metadata": {},
   "outputs": [
    {
     "data": {
      "text/plain": [
       "[1, 10, 20, 30, 3, 4, 5]"
      ]
     },
     "execution_count": 52,
     "metadata": {},
     "output_type": "execute_result"
    }
   ],
   "source": [
    "l = [1, 2, 3, 4, 5]\n",
    "l[1:2] = (10, 20, 30)\n",
    "l"
   ]
  },
  {
   "cell_type": "markdown",
   "id": "daf48a8d-bbe4-4cab-a823-45d9f7c68075",
   "metadata": {},
   "source": [
    "For extended slices, the length of the slice and the length of the iterable we are setting on the RHS must have the **same length**:"
   ]
  },
  {
   "cell_type": "code",
   "execution_count": 54,
   "id": "5851d86a-d542-4bc5-bd9d-a22df9ea4f13",
   "metadata": {
    "tags": []
   },
   "outputs": [],
   "source": [
    "l = [1, 2, 3, 4, 5]"
   ]
  },
  {
   "cell_type": "code",
   "execution_count": 57,
   "id": "11c2a965-06fd-4009-9c6f-6c2558ba60fe",
   "metadata": {},
   "outputs": [
    {
     "data": {
      "text/plain": [
       "[1, 3, 5]"
      ]
     },
     "execution_count": 57,
     "metadata": {},
     "output_type": "execute_result"
    }
   ],
   "source": [
    "l[::2]"
   ]
  },
  {
   "cell_type": "code",
   "execution_count": 58,
   "id": "5829681b-42e1-4f00-90d9-afff8068a18f",
   "metadata": {},
   "outputs": [
    {
     "ename": "ValueError",
     "evalue": "attempt to assign sequence of size 2 to extended slice of size 3",
     "output_type": "error",
     "traceback": [
      "\u001b[1;31m---------------------------------------------------------------------------\u001b[0m",
      "\u001b[1;31mValueError\u001b[0m                                Traceback (most recent call last)",
      "\u001b[1;32m<ipython-input-58-10f1ccbf07ed>\u001b[0m in \u001b[0;36m<module>\u001b[1;34m()\u001b[0m\n\u001b[1;32m----> 1\u001b[1;33m \u001b[0ml\u001b[0m\u001b[1;33m[\u001b[0m\u001b[1;33m:\u001b[0m\u001b[1;33m:\u001b[0m\u001b[1;36m2\u001b[0m\u001b[1;33m]\u001b[0m \u001b[1;33m=\u001b[0m \u001b[1;33m[\u001b[0m\u001b[1;34m'a'\u001b[0m\u001b[1;33m,\u001b[0m \u001b[1;34m'b'\u001b[0m\u001b[1;33m]\u001b[0m\u001b[1;33m\u001b[0m\u001b[0m\n\u001b[0m",
      "\u001b[1;31mValueError\u001b[0m: attempt to assign sequence of size 2 to extended slice of size 3"
     ]
    }
   ],
   "source": [
    "l[::2] = ['a', 'b']"
   ]
  },
  {
   "cell_type": "markdown",
   "id": "2bda7098-0879-41e8-bda6-8ba166a30607",
   "metadata": {},
   "source": [
    "In the last example, we are telling Python to replace the elements 1, 3 and 5. But we are only assigning two elements on the RHS. How will Python know where those two elements should go? Perhaps the 'a' should replace 1 and 'b' replace 3 and leave 5 as it is? That would be confusing so Python requires the same length on each side."
   ]
  },
  {
   "cell_type": "code",
   "execution_count": 56,
   "id": "52cf8d3d-b816-4bdf-8a84-8db600ee2468",
   "metadata": {},
   "outputs": [
    {
     "data": {
      "text/plain": [
       "['a', 2, 'b', 4, 'c']"
      ]
     },
     "execution_count": 56,
     "metadata": {},
     "output_type": "execute_result"
    }
   ],
   "source": [
    "l = [1, 2, 3, 4, 5]\n",
    "l[::2] = ['a', 'b', 'c']\n",
    "l"
   ]
  },
  {
   "cell_type": "markdown",
   "id": "f0568f40-cd43-4592-ac51-07da0060606c",
   "metadata": {},
   "source": [
    "#### Deleting"
   ]
  },
  {
   "cell_type": "markdown",
   "id": "15a380d0-50e0-488f-bf52-35b75a9affb6",
   "metadata": {},
   "source": [
    "Deleting is a special case of replacement. We just replace the element with an **empty** iterable. This only works for standard slicing - not extended slicing because that requires the iterable to have the same length. The problem with that is we can't assign, say, 3 empty iterables to replace out 3 non-contiguous elements (i.e. non-sequential elements)."
   ]
  },
  {
   "cell_type": "code",
   "execution_count": 60,
   "id": "a537f39c-e0d9-4d66-9f20-86d7b36f7023",
   "metadata": {},
   "outputs": [
    {
     "data": {
      "text/plain": [
       "[2, 3]"
      ]
     },
     "execution_count": 60,
     "metadata": {},
     "output_type": "execute_result"
    }
   ],
   "source": [
    "l = [1, 2, 3, 4, 5]\n",
    "l[1:3]"
   ]
  },
  {
   "cell_type": "code",
   "execution_count": 61,
   "id": "9ca9ef3c-8101-4f37-a8e1-1ceecc36f8f7",
   "metadata": {},
   "outputs": [
    {
     "data": {
      "text/plain": [
       "[1, 4, 5]"
      ]
     },
     "execution_count": 61,
     "metadata": {},
     "output_type": "execute_result"
    }
   ],
   "source": [
    "l[1:3] = []\n",
    "l"
   ]
  },
  {
   "cell_type": "markdown",
   "id": "7d0f636c-1fb4-4a68-80fb-391a2a954ac2",
   "metadata": {},
   "source": [
    "The empty iterable we've assigned on the RHS is `[]` but we could've equivalently done `''` or `()` or `{}` if we wanted to."
   ]
  },
  {
   "cell_type": "code",
   "execution_count": 69,
   "id": "049d56d6-90bc-4a53-9cd1-f53f2ba150f2",
   "metadata": {},
   "outputs": [
    {
     "name": "stdout",
     "output_type": "stream",
     "text": [
      "[1, 3, 5]\n"
     ]
    },
    {
     "ename": "ValueError",
     "evalue": "attempt to assign sequence of size 0 to extended slice of size 3",
     "output_type": "error",
     "traceback": [
      "\u001b[0;31m---------------------------------------------------------------------------\u001b[0m",
      "\u001b[0;31mValueError\u001b[0m                                Traceback (most recent call last)",
      "\u001b[0;32m/tmp/ipykernel_3701/3880459178.py\u001b[0m in \u001b[0;36m<module>\u001b[0;34m\u001b[0m\n\u001b[1;32m      2\u001b[0m \u001b[0mprint\u001b[0m\u001b[0;34m(\u001b[0m\u001b[0ml2\u001b[0m\u001b[0;34m[\u001b[0m\u001b[0;34m:\u001b[0m\u001b[0;34m:\u001b[0m\u001b[0;36m2\u001b[0m\u001b[0;34m]\u001b[0m\u001b[0;34m)\u001b[0m\u001b[0;34m\u001b[0m\u001b[0;34m\u001b[0m\u001b[0m\n\u001b[1;32m      3\u001b[0m \u001b[0;34m\u001b[0m\u001b[0m\n\u001b[0;32m----> 4\u001b[0;31m \u001b[0ml2\u001b[0m\u001b[0;34m[\u001b[0m\u001b[0;34m:\u001b[0m\u001b[0;34m:\u001b[0m\u001b[0;36m2\u001b[0m\u001b[0;34m]\u001b[0m \u001b[0;34m=\u001b[0m \u001b[0;34m[\u001b[0m\u001b[0;34m]\u001b[0m\u001b[0;34m\u001b[0m\u001b[0;34m\u001b[0m\u001b[0m\n\u001b[0m",
      "\u001b[0;31mValueError\u001b[0m: attempt to assign sequence of size 0 to extended slice of size 3"
     ]
    }
   ],
   "source": [
    "l2 = [1, 2, 3, 4, 5]\n",
    "print(l2[::2])\n",
    "\n",
    "l2[::2] = []"
   ]
  },
  {
   "cell_type": "markdown",
   "id": "843127b9-a6d0-4538-8d68-e079c2e8b8d6",
   "metadata": {},
   "source": [
    "#### Insertion"
   ]
  },
  {
   "cell_type": "markdown",
   "id": "8fa38785-d3e0-4309-a78c-65593918b1d5",
   "metadata": {},
   "source": [
    "The trick for inserting elements is that the slice must be empty and the RHS must contain an iterable. If the slice is not empty, then it will replace those elements as opposed to insert next to it, so it will no longer be considered insertion.\n",
    "\n",
    "Here's how we insert a string iterable `abc` at index 1."
   ]
  },
  {
   "cell_type": "code",
   "execution_count": 70,
   "id": "8b3f6588-b51b-412c-b2bd-4138cfad158d",
   "metadata": {},
   "outputs": [
    {
     "name": "stdout",
     "output_type": "stream",
     "text": [
      "[]\n"
     ]
    },
    {
     "data": {
      "text/plain": [
       "[1, 'a', 'b', 'c', 2, 3, 4, 5]"
      ]
     },
     "execution_count": 70,
     "metadata": {},
     "output_type": "execute_result"
    }
   ],
   "source": [
    "l = [1, 2, 3, 4, 5]\n",
    "print(l[1:1])\n",
    "l[1:1] = 'abc'\n",
    "l"
   ]
  },
  {
   "cell_type": "markdown",
   "id": "42de9a0f-2f5f-4d72-ad09-670b85c4d390",
   "metadata": {},
   "source": [
    "Again, this won't work for extended slicing because insertion requires a single empty slice at a given location which is replaced by our iterable, whereas extended slicing will always give us a non-empty slice (unless we write something like `l[3:3:1]` but that's just a technicality - it's identical to `l[3:3]`)."
   ]
  },
  {
   "cell_type": "markdown",
   "id": "e36bca32-88dd-40e1-9118-e05f1d98abb9",
   "metadata": {},
   "source": [
    "So a key takeaway for this section is that we can use regular slicing for replacing, deleting and inserting, and generally, the LHS and RHS **need not be the same length**. \n",
    "\n",
    "If we want to perform an operation on non-contiguous elements, then we'll have to use extended slicing to select those elements, but now the LHS and RHS **need to be the same length**. Since, inserting requires an empty slice on the LHS while deleting requires an empty slice on the RHS, these two operations are impossible using this approach."
   ]
  },
  {
   "cell_type": "markdown",
   "id": "7a7bb2ab-1a1c-4a1b-b8ae-32631ef13f88",
   "metadata": {},
   "source": [
    "# 09 - Custom Sequences - Part 2a"
   ]
  },
  {
   "cell_type": "markdown",
   "id": "f75f2ed1-0c15-4d68-a803-e2bbb3987799",
   "metadata": {},
   "source": [
    "We have seen before how we could define our own custom sequence type by implementing the `__len__` and `__getitem__` methods.\n",
    "\n",
    "Here we are going to look at how to implement:\n",
    "* concatenation (`+`) : same as `.__add__()`\n",
    "* in-place concatenation (`+=`) : same as `.__iadd__()`\n",
    "* repetition (`seq * n`); if Python runs into `TypeError`, it then tries the below with reversed args: same as `.__mul__()`\n",
    "* repetition reversed (`n * seq`) : same as `.__rmul__()`\n",
    "* in-place repetition (`*=`) : same as `.__rmul__()`\n",
    "* index assignment (`seq[i]=val`) : same as `.__setitem__()`\n",
    "* slice assignment (`seq[i:j]=iter` and `seq[i:j:k]=iter`) : same as `.__setitem__()`\n",
    "* del, : same as `.__delitem__()`\n",
    "* `<value> in <sequence>` : same as `__contains__()`\n",
    "* append, extend, pop : These are *not* special methods. If we want them, we just implement them as regular methods.\n",
    "\n",
    "Implementing these methods will **overload** the current operator methods with our method."
   ]
  },
  {
   "cell_type": "markdown",
   "id": "dc62e62b-e775-4cec-93aa-37d98e47ec7e",
   "metadata": {},
   "source": [
    "#### The `+` and `+=` Operators"
   ]
  },
  {
   "cell_type": "markdown",
   "id": "4b896617-375a-4fbe-b2f9-096b569ad6e4",
   "metadata": {},
   "source": [
    "First we look at how we can overload the `+` and `+=` operators in a custom class in general. Then we'll look at how to use this in the context of sequences."
   ]
  },
  {
   "cell_type": "markdown",
   "id": "0ed2bac3-a863-40c8-80f7-09dad2f1a857",
   "metadata": {},
   "source": [
    "We use the special functions `__add__` and `__iadd__`.\n",
    "\n",
    "Just to see how those methods get called, we're actually going to implement them to just print out that they were called. As you can see, we can implement them however we want!"
   ]
  },
  {
   "cell_type": "code",
   "execution_count": 7,
   "id": "36378538-15b5-4d25-8a88-e41ef5e98db7",
   "metadata": {
    "tags": []
   },
   "outputs": [],
   "source": [
    "class MyClass:\n",
    "    def __init__(self, name):\n",
    "        self.name = name\n",
    "        \n",
    "    def __repr__(self):\n",
    "        return f'MyClass(name={self.name})'\n",
    "    \n",
    "    def __add__(self, other):\n",
    "        print(f'You called + on {self} and {other}')\n",
    "        return 'Hello from __add__'\n",
    "        \n",
    "    def __iadd__(self, other):\n",
    "        print(f'You called += on {self} and {other}')\n",
    "        return 'Hello from __iadd__'"
   ]
  },
  {
   "cell_type": "code",
   "execution_count": 8,
   "id": "bf7ac78a-03bf-47a5-afe2-46fc16338435",
   "metadata": {
    "tags": []
   },
   "outputs": [],
   "source": [
    "c1 = MyClass('instance 1')\n",
    "c2 = MyClass('instance 2')"
   ]
  },
  {
   "cell_type": "code",
   "execution_count": 9,
   "id": "50c9951a-4998-44cc-bc35-272281effb0a",
   "metadata": {},
   "outputs": [
    {
     "name": "stdout",
     "output_type": "stream",
     "text": [
      "You called + on MyClass(name=instance 1) and MyClass(name=instance 2)\n"
     ]
    }
   ],
   "source": [
    "c3 = c1 + c2"
   ]
  },
  {
   "cell_type": "markdown",
   "id": "cd598d0e-4ae8-462f-ab05-8663426745e6",
   "metadata": {},
   "source": [
    "Let's try the in-place addition operator. We may expect mutation to occur and therefore, the id should stay the same."
   ]
  },
  {
   "cell_type": "code",
   "execution_count": 10,
   "id": "b866c610-f46e-4745-9f99-1e7632113a8c",
   "metadata": {},
   "outputs": [
    {
     "name": "stdout",
     "output_type": "stream",
     "text": [
      "140528194484784\n",
      "You called += on MyClass(name=instance 1) and MyClass(name=instance 2)\n",
      "140528049348144\n",
      "Hello from __iadd__\n"
     ]
    }
   ],
   "source": [
    "print(id(c1))\n",
    "c1 += c2\n",
    "print(id(c1))\n",
    "print(c1)"
   ]
  },
  {
   "cell_type": "markdown",
   "id": "a1dcba0c-68e3-49e9-a831-6d3f45ce9323",
   "metadata": {},
   "source": [
    "But it doesn't! That's because `c1` is now the string `\"Hello from __iadd__\"` which is a different object. So the special method `__iadd__` doesn't inherently impose this behaviour - we don't have to make it do that - but it's what everyone expects it to do so we should. The only behaviour that it imposes is allowing for `+=` functionality.\n",
    "\n",
    "So, `__add__` expects us to take two objects (typically of the same instance) and return a new object of the same instance. \n",
    "\n",
    "`__iadd__` expect us to take two objects and typically return the first object but mutated. So we're going to apply a change to the first object as opposed to creating a new instance altogether.\n",
    "\n",
    "How do we do these two things in code?"
   ]
  },
  {
   "cell_type": "code",
   "execution_count": 11,
   "id": "ee95d054-dd9d-4ac7-8f35-4651fc533502",
   "metadata": {
    "tags": []
   },
   "outputs": [],
   "source": [
    "class MyClass:\n",
    "    def __init__(self, name):\n",
    "        self.name = name\n",
    "        \n",
    "    def __repr__(self):\n",
    "        return f'MyClass(name={self.name})'\n",
    "    \n",
    "    def __add__(self, other):\n",
    "        return MyClass(self.name + ' ' + other.name)\n",
    "        \n",
    "    def __iadd__(self, other):\n",
    "        self.name += ' ' + other.name   # Remember, this is NOT inplace concatenation / mutation \n",
    "                                        # because 'name' is a string which is immutable so Python is forced to create a new object.\n",
    "        return self\n",
    "        "
   ]
  },
  {
   "cell_type": "code",
   "execution_count": 12,
   "id": "87b920f7-4aa7-429b-bf8c-608741ae90de",
   "metadata": {
    "tags": []
   },
   "outputs": [],
   "source": [
    "c1 = MyClass('Eric')\n",
    "c2 = MyClass('Idle')"
   ]
  },
  {
   "cell_type": "code",
   "execution_count": 13,
   "id": "2e013af4-bd81-4d77-9251-a3e59db5c280",
   "metadata": {
    "collapsed": true,
    "jupyter": {
     "outputs_hidden": true
    }
   },
   "outputs": [],
   "source": [
    "c3 = c1 + c2"
   ]
  },
  {
   "cell_type": "code",
   "execution_count": 14,
   "id": "cadb857e-ce55-4bcd-aac0-07beeb667995",
   "metadata": {},
   "outputs": [
    {
     "data": {
      "text/plain": [
       "MyClass(name=Eric Idle)"
      ]
     },
     "execution_count": 14,
     "metadata": {},
     "output_type": "execute_result"
    }
   ],
   "source": [
    "c3"
   ]
  },
  {
   "cell_type": "markdown",
   "id": "b996bc44-265d-4500-a2eb-dceb30c3281c",
   "metadata": {},
   "source": [
    "These two methods are not restrictive (which is not necessarily an issue). All we require for the 2nd operand is that it has a property of `name` and is of a type that supports concatenation.\n",
    "\n",
    "Also, to emphasise once more, `__iadd__` will now have the ensure that the ID remains the same. This is because we return `self` (the original object) as opposed to `MyClass(self.name + other.name)`."
   ]
  },
  {
   "cell_type": "markdown",
   "id": "4a6a08c0-341a-4195-b9b6-05f2cd5c07e6",
   "metadata": {},
   "source": [
    "#### The `*` and `*=` Operators"
   ]
  },
  {
   "cell_type": "markdown",
   "id": "debe8b5b-cd02-4635-8442-234bc28889a0",
   "metadata": {},
   "source": [
    "Just as easily we can overload the `*` and `*=` operators too, using the `__mul__` and `__imul__` methods."
   ]
  },
  {
   "cell_type": "code",
   "execution_count": 14,
   "id": "2039dd27-6219-4b51-a3df-944fb406b4e0",
   "metadata": {
    "tags": []
   },
   "outputs": [],
   "source": [
    "class MyClass:\n",
    "    def __init__(self, name):\n",
    "        self.name = name\n",
    "        \n",
    "    def __repr__(self):\n",
    "        return f'MyClass(name={self.name})'\n",
    "    \n",
    "    def __add__(self, other):\n",
    "        return MyClass(self.name + ' ' + other.name)\n",
    "        \n",
    "    def __iadd__(self, other):\n",
    "        self.name += ' ' + other.name\n",
    "        return self\n",
    "    \n",
    "    def __mul__(self, n):\n",
    "        return MyClass(self.name * n)\n",
    "        \n",
    "    def __imul__(self, n):\n",
    "        self.name *= n\n",
    "        return self"
   ]
  },
  {
   "cell_type": "code",
   "execution_count": 15,
   "id": "8705be67-9d11-49d9-a9b6-2dc7b142e0e1",
   "metadata": {
    "tags": []
   },
   "outputs": [],
   "source": [
    "c1 = MyClass('Eric')"
   ]
  },
  {
   "cell_type": "code",
   "execution_count": 16,
   "id": "0d1d09fe-6e64-4b15-ae89-4da825d0b1f8",
   "metadata": {},
   "outputs": [
    {
     "data": {
      "text/plain": [
       "MyClass(name=EricEricEric)"
      ]
     },
     "execution_count": 16,
     "metadata": {},
     "output_type": "execute_result"
    }
   ],
   "source": [
    "c1 * 3"
   ]
  },
  {
   "cell_type": "code",
   "execution_count": 17,
   "id": "292c8023-38f7-4a27-bc1e-24fedb64cade",
   "metadata": {},
   "outputs": [
    {
     "name": "stdout",
     "output_type": "stream",
     "text": [
      "140528194484304 MyClass(name=Eric)\n",
      "140528194484304 MyClass(name=EricEricEric)\n"
     ]
    }
   ],
   "source": [
    "print(id(c1), c1)\n",
    "c1 *= 3\n",
    "print(id(c1), c1)"
   ]
  },
  {
   "cell_type": "markdown",
   "id": "109fcdb5-72f5-456b-8a7a-96a3e5665e97",
   "metadata": {},
   "source": [
    "What about multiplying an integer by the sequence?"
   ]
  },
  {
   "cell_type": "code",
   "execution_count": 25,
   "id": "45a6c711-01c0-495a-a67a-325bc84ab074",
   "metadata": {},
   "outputs": [
    {
     "ename": "TypeError",
     "evalue": "unsupported operand type(s) for *: 'int' and 'MyClass'",
     "output_type": "error",
     "traceback": [
      "\u001b[1;31m---------------------------------------------------------------------------\u001b[0m",
      "\u001b[1;31mTypeError\u001b[0m                                 Traceback (most recent call last)",
      "\u001b[1;32m<ipython-input-25-30ca4f2f7860>\u001b[0m in \u001b[0;36m<module>\u001b[1;34m()\u001b[0m\n\u001b[0;32m      1\u001b[0m \u001b[0mc1\u001b[0m \u001b[1;33m=\u001b[0m \u001b[0mMyClass\u001b[0m\u001b[1;33m(\u001b[0m\u001b[1;34m'Monty'\u001b[0m\u001b[1;33m)\u001b[0m\u001b[1;33m\u001b[0m\u001b[0m\n\u001b[1;32m----> 2\u001b[1;33m \u001b[1;36m2\u001b[0m \u001b[1;33m*\u001b[0m \u001b[0mc1\u001b[0m\u001b[1;33m\u001b[0m\u001b[0m\n\u001b[0m",
      "\u001b[1;31mTypeError\u001b[0m: unsupported operand type(s) for *: 'int' and 'MyClass'"
     ]
    }
   ],
   "source": [
    "c1 = MyClass('Monty')\n",
    "2 * c1"
   ]
  },
  {
   "cell_type": "markdown",
   "id": "cd574923-5f99-4750-8f6d-be95f0c86672",
   "metadata": {},
   "source": [
    "To handle this we need to implement the `__rmul__` method:"
   ]
  },
  {
   "cell_type": "code",
   "execution_count": 18,
   "id": "6b221b92-52e6-481a-a625-36a38f3d8ed0",
   "metadata": {
    "tags": []
   },
   "outputs": [],
   "source": [
    "class MyClass:\n",
    "    def __init__(self, name):\n",
    "        self.name = name\n",
    "        \n",
    "    def __repr__(self):\n",
    "        return f'MyClass(name={self.name})'\n",
    "    \n",
    "    def __mul__(self, n):\n",
    "        return MyClass(self.name * n)\n",
    "    \n",
    "    def __rmul__(self, n):\n",
    "        return self.__mul__(n)"
   ]
  },
  {
   "cell_type": "code",
   "execution_count": 19,
   "id": "1de55727-bd92-4181-be6b-d2c459ce37b5",
   "metadata": {
    "tags": []
   },
   "outputs": [],
   "source": [
    "c1 = MyClass('Monty')"
   ]
  },
  {
   "cell_type": "code",
   "execution_count": 20,
   "id": "3d232030-4fcb-4aac-abe7-9405d53f7c69",
   "metadata": {},
   "outputs": [
    {
     "data": {
      "text/plain": [
       "MyClass(name=MontyMonty)"
      ]
     },
     "execution_count": 20,
     "metadata": {},
     "output_type": "execute_result"
    }
   ],
   "source": [
    "2 * c1"
   ]
  },
  {
   "cell_type": "markdown",
   "id": "e5b469d8-6a82-46ad-8891-1b8a270d46e4",
   "metadata": {},
   "source": [
    "Python first tries `2.__mul__(c1)` and raises a `TypeError` at `self.name` = `2.name`, so it runs `__rmul__` with the arguments reversed. So, `self <=> n` and `return self.__mul__(n)` becomes `c1.__mul__(3)`, which works."
   ]
  },
  {
   "cell_type": "markdown",
   "id": "7501a4d0-cb70-485b-b65d-0ece9530384b",
   "metadata": {},
   "source": [
    "#### Implementing the `in` operator"
   ]
  },
  {
   "cell_type": "markdown",
   "id": "a23e8fd0-79bf-44c5-aedb-3fdf44ef56b0",
   "metadata": {},
   "source": [
    "For this example, we'll want `in` to test if the something is contained in the name string of our class:"
   ]
  },
  {
   "cell_type": "code",
   "execution_count": 21,
   "id": "151aba95-9c10-4215-907a-fd91067c82f8",
   "metadata": {
    "tags": []
   },
   "outputs": [],
   "source": [
    "class MyClass:\n",
    "    def __init__(self, name):\n",
    "        self.name = name\n",
    "        \n",
    "    def __repr__(self):\n",
    "        return f'MyClass(name={self.name})'\n",
    "    \n",
    "    def __contains__(self, value):\n",
    "        return value in self.name"
   ]
  },
  {
   "cell_type": "code",
   "execution_count": 22,
   "id": "6e46d5cd-57c4-4746-a53f-a81067fc77a3",
   "metadata": {
    "tags": []
   },
   "outputs": [],
   "source": [
    "c1 = MyClass('MontyPython')"
   ]
  },
  {
   "cell_type": "code",
   "execution_count": 23,
   "id": "0bcbbe32-7fcb-461b-9b8b-d68fd745fa46",
   "metadata": {},
   "outputs": [
    {
     "data": {
      "text/plain": [
       "True"
      ]
     },
     "execution_count": 23,
     "metadata": {},
     "output_type": "execute_result"
    }
   ],
   "source": [
    "'ty' in c1"
   ]
  },
  {
   "cell_type": "markdown",
   "id": "6861d7ad-e858-4b3f-abb8-3077c39103c5",
   "metadata": {},
   "source": [
    "# 10 - Custom Sequences - Part 2b_c"
   ]
  },
  {
   "cell_type": "markdown",
   "id": "96c5ed34-14a8-4264-9521-d6ee941af1b0",
   "metadata": {},
   "source": [
    "For this example we'll re-use the Polygon class from a previous lecture on extending sequences.\n",
    "\n",
    "We are going to consider a polygon as nothing more than a collection of points (and we'll stick to a 2-dimensional space).\n",
    "\n",
    "So, we'll need a `Point` class, but we're going to use our own custom class instead of just using a named tuple.\n",
    "\n",
    "We do this because we want to enforce a rule that our Point co-ordinates will be real numbers. We would not be able to use a named tuple to do that and we could end up with points whose `x` and `y` coordinates could be of any type."
   ]
  },
  {
   "cell_type": "code",
   "execution_count": 2,
   "id": "dda4439e-4fb2-483e-8fa0-a1b07ad64871",
   "metadata": {},
   "outputs": [
    {
     "name": "stdout",
     "output_type": "stream",
     "text": [
      "10\n",
      "5\n"
     ]
    }
   ],
   "source": [
    "from collections import namedtuple\n",
    "\n",
    "Point = namedtuple('Point', 'x y')\n",
    "p1 = Point(10, 5)\n",
    "p2 = Point('abc', [1,2,3])          # We want to be able to prevent passing in the wrong type in our custom sequence\n",
    "\n",
    "x, y = p1                           # But, we would like this functionality of namedtuples in our custom sequence\n",
    "print(x)\n",
    "print(y)"
   ]
  },
  {
   "cell_type": "markdown",
   "id": "96e4a2d4-e798-4999-8f73-f3d4d0199a7b",
   "metadata": {},
   "source": [
    "First we'll need to see how we can test if a type is a numeric real type.\n",
    "\n",
    "We can do this by using the numbers module."
   ]
  },
  {
   "cell_type": "code",
   "execution_count": 5,
   "id": "e25a8878-60f3-4278-9ac4-4f245660d09a",
   "metadata": {
    "tags": []
   },
   "outputs": [],
   "source": [
    "import numbers"
   ]
  },
  {
   "cell_type": "markdown",
   "id": "83c0e3d9-43bb-4a63-abcf-1d4d8e30811d",
   "metadata": {},
   "source": [
    "This module contains certain base types for numbers that we can use, such as Number, Real, Complex, etc."
   ]
  },
  {
   "cell_type": "code",
   "execution_count": 6,
   "id": "790c7ccc-1cdc-4034-a0b2-81d80c7bd907",
   "metadata": {},
   "outputs": [
    {
     "name": "stdout",
     "output_type": "stream",
     "text": [
      "True\n",
      "True\n"
     ]
    }
   ],
   "source": [
    "print(isinstance(10, numbers.Number))\n",
    "print(isinstance(1+1j, numbers.Number))"
   ]
  },
  {
   "cell_type": "markdown",
   "id": "6173e414-864d-4a3c-bc68-9cb178445853",
   "metadata": {},
   "source": [
    "We will want our points to be real numbers only, so we can do it this way:"
   ]
  },
  {
   "cell_type": "code",
   "execution_count": 7,
   "id": "b576e8aa-aef9-4d87-a4ec-432f1e729f2c",
   "metadata": {},
   "outputs": [
    {
     "data": {
      "text/plain": [
       "False"
      ]
     },
     "execution_count": 7,
     "metadata": {},
     "output_type": "execute_result"
    }
   ],
   "source": [
    "isinstance(1+1j, numbers.Real)"
   ]
  },
  {
   "cell_type": "markdown",
   "id": "025701fc-4243-4819-9d99-80977d191bb7",
   "metadata": {},
   "source": [
    "So now let's write our Point class. We want it to have these properties:\n",
    "\n",
    "  1. The `x` and `y` coordinates should be real numbers only\n",
    "  2. Point instances should be a sequence type so that we can unpack it as needed in the same way we were able to unpack the values of a named tuple."
   ]
  },
  {
   "cell_type": "code",
   "execution_count": 8,
   "id": "d7722dd4-47b9-4894-8568-cbd95e9b6482",
   "metadata": {
    "tags": []
   },
   "outputs": [],
   "source": [
    "class Point:\n",
    "    def __init__(self, x, y):\n",
    "        if isinstance(x, numbers.Real) and isinstance(y, numbers.Real):\n",
    "            self._pt = (x, y)\n",
    "        else:\n",
    "            raise TypeError('Point co-ordinates must be real numbers.')\n",
    "            \n",
    "    def __repr__(self):\n",
    "        return f'Point(x={self._pt[0]}, y={self._pt[1]})'\n",
    "    \n",
    "    def __len__(self):\n",
    "        return 2\n",
    "    \n",
    "    def __getitem__(self, s):\n",
    "        return self._pt[s]"
   ]
  },
  {
   "cell_type": "markdown",
   "id": "62eca6eb-8903-4a82-8a5d-427d02e66398",
   "metadata": {},
   "source": [
    "In `__getitem__(self, s)`, recall that `s` is the index or slice we provide in square brackets to the sequence: `sequence[s]`. You might think we'll need to worry about whether `s` is a value or a slice but we don't. Why?\n",
    "\n",
    "`self._pt` is a tuple. Tuples know how to index and slice/extended slice perfectly well. **We are *delegating* this request to the tuple**."
   ]
  },
  {
   "cell_type": "markdown",
   "id": "aa2d8a92-8e93-4bf1-a325-7be8b581a5b8",
   "metadata": {},
   "source": [
    "Let's use our point class and make sure it works as intended:"
   ]
  },
  {
   "cell_type": "code",
   "execution_count": 9,
   "id": "a0d26c09-09e0-43db-8eda-235faf5d470d",
   "metadata": {
    "tags": []
   },
   "outputs": [],
   "source": [
    "p = Point(1, 2)"
   ]
  },
  {
   "cell_type": "code",
   "execution_count": 10,
   "id": "21972332-4775-41b2-96e5-77fcdce98703",
   "metadata": {},
   "outputs": [
    {
     "data": {
      "text/plain": [
       "Point(x=1, y=2)"
      ]
     },
     "execution_count": 10,
     "metadata": {},
     "output_type": "execute_result"
    }
   ],
   "source": [
    "p"
   ]
  },
  {
   "cell_type": "code",
   "execution_count": 11,
   "id": "b337f1ad-09a3-4342-ba64-d6944e4ea930",
   "metadata": {},
   "outputs": [
    {
     "data": {
      "text/plain": [
       "2"
      ]
     },
     "execution_count": 11,
     "metadata": {},
     "output_type": "execute_result"
    }
   ],
   "source": [
    "len(p)"
   ]
  },
  {
   "cell_type": "code",
   "execution_count": 12,
   "id": "a8c2aca2-c456-4b62-a7b1-61808b39378e",
   "metadata": {},
   "outputs": [
    {
     "data": {
      "text/plain": [
       "(1, 2)"
      ]
     },
     "execution_count": 12,
     "metadata": {},
     "output_type": "execute_result"
    }
   ],
   "source": [
    "p[0], p[1]"
   ]
  },
  {
   "cell_type": "markdown",
   "id": "8e30a3c8-a5b0-4737-a760-4151f9ec0e88",
   "metadata": {},
   "source": [
    "The unpacking above **only** works because `p` is a custom sequence, and it's a custom sequence because of the `__getitem__` method. This unpacking is the same as the unpacking below, except we just assign them to variables."
   ]
  },
  {
   "cell_type": "code",
   "execution_count": 13,
   "id": "72f1d7bc-7f4e-4da5-8d28-194f20aad785",
   "metadata": {},
   "outputs": [],
   "source": [
    "x, y = p"
   ]
  },
  {
   "cell_type": "markdown",
   "id": "f0ea7334-43f4-4fbd-b203-7ca9068a8752",
   "metadata": {},
   "source": [
    "But why would we want to do this? This will allow us to take one point and unpack it into a new point. When we create a polygon class (which takes a series of xy points), we can just feed in our `Point` object (or we can feed in a regular 2-element list or tuple or any 2-element sequence for that matter).\n",
    "\n",
    "For example:"
   ]
  },
  {
   "cell_type": "code",
   "execution_count": 16,
   "id": "4bbe4043-cd83-43e5-a855-7ae28e43bbcd",
   "metadata": {},
   "outputs": [
    {
     "data": {
      "text/plain": [
       "Point(x=10, y=5)"
      ]
     },
     "execution_count": 16,
     "metadata": {},
     "output_type": "execute_result"
    }
   ],
   "source": [
    "p2 = Point(*p1)\n",
    "p2"
   ]
  },
  {
   "cell_type": "markdown",
   "id": "fbf84db7-5cb4-4996-87c8-2bf98221d87c",
   "metadata": {},
   "source": [
    "Now, we can start creatiung our Polygon class, that will essentially be a mutable sequence of points making up the verteces of the polygon."
   ]
  },
  {
   "cell_type": "code",
   "execution_count": 17,
   "id": "0f32fcf7-469b-4398-9a0f-796750cb9138",
   "metadata": {
    "tags": []
   },
   "outputs": [],
   "source": [
    "class Polygon:\n",
    "    def __init__(self, *pts):\n",
    "        if pts:\n",
    "            self._pts = [Point(*pt) for pt in pts]  # if pt is already a Point object, we don't have to worry about dealing with it separately \n",
    "                                                    # since we implemented unpacking functionality\n",
    "        else:\n",
    "            self._pts = []\n",
    "            \n",
    "    def __repr__(self):\n",
    "        return f'Polygon({self._pts})'"
   ]
  },
  {
   "cell_type": "markdown",
   "id": "675c6b74-8f57-48d1-952e-e6acaea0242e",
   "metadata": {},
   "source": [
    "Let's try it and see if everything is as we expect:"
   ]
  },
  {
   "cell_type": "code",
   "execution_count": 18,
   "id": "ad17869e-926c-43cc-92ad-10a823c208b8",
   "metadata": {
    "tags": []
   },
   "outputs": [],
   "source": [
    "p = Polygon((0,0), [1,1])"
   ]
  },
  {
   "cell_type": "code",
   "execution_count": 19,
   "id": "7b1fc464-8ce5-4622-a77e-fc236aa8d7ce",
   "metadata": {},
   "outputs": [
    {
     "data": {
      "text/plain": [
       "Polygon([Point(x=0, y=0), Point(x=1, y=1)])"
      ]
     },
     "execution_count": 19,
     "metadata": {},
     "output_type": "execute_result"
    }
   ],
   "source": [
    "p"
   ]
  },
  {
   "cell_type": "markdown",
   "id": "9c2d3197-6ac5-4b32-abc4-0d53172fdcd6",
   "metadata": {},
   "source": [
    "Now, to see if the `__repr__` is accurate, we should copy and paste it to see if it creates the expected object."
   ]
  },
  {
   "cell_type": "code",
   "execution_count": 20,
   "id": "317da514-e87c-4fef-9489-6f3618619d07",
   "metadata": {},
   "outputs": [
    {
     "ename": "TypeError",
     "evalue": "Point co-ordinates must be real numbers.",
     "output_type": "error",
     "traceback": [
      "\u001b[0;31m---------------------------------------------------------------------------\u001b[0m",
      "\u001b[0;31mTypeError\u001b[0m                                 Traceback (most recent call last)",
      "\u001b[0;32m/tmp/ipykernel_5870/1031459139.py\u001b[0m in \u001b[0;36m<module>\u001b[0;34m\u001b[0m\n\u001b[0;32m----> 1\u001b[0;31m \u001b[0mPolygon\u001b[0m\u001b[0;34m(\u001b[0m\u001b[0;34m[\u001b[0m\u001b[0mPoint\u001b[0m\u001b[0;34m(\u001b[0m\u001b[0mx\u001b[0m\u001b[0;34m=\u001b[0m\u001b[0;36m0\u001b[0m\u001b[0;34m,\u001b[0m \u001b[0my\u001b[0m\u001b[0;34m=\u001b[0m\u001b[0;36m0\u001b[0m\u001b[0;34m)\u001b[0m\u001b[0;34m,\u001b[0m \u001b[0mPoint\u001b[0m\u001b[0;34m(\u001b[0m\u001b[0mx\u001b[0m\u001b[0;34m=\u001b[0m\u001b[0;36m1\u001b[0m\u001b[0;34m,\u001b[0m \u001b[0my\u001b[0m\u001b[0;34m=\u001b[0m\u001b[0;36m1\u001b[0m\u001b[0;34m)\u001b[0m\u001b[0;34m]\u001b[0m\u001b[0;34m)\u001b[0m\u001b[0;34m\u001b[0m\u001b[0;34m\u001b[0m\u001b[0m\n\u001b[0m",
      "\u001b[0;32m/tmp/ipykernel_5870/4031554939.py\u001b[0m in \u001b[0;36m__init__\u001b[0;34m(self, *pts)\u001b[0m\n\u001b[1;32m      2\u001b[0m     \u001b[0;32mdef\u001b[0m \u001b[0m__init__\u001b[0m\u001b[0;34m(\u001b[0m\u001b[0mself\u001b[0m\u001b[0;34m,\u001b[0m \u001b[0;34m*\u001b[0m\u001b[0mpts\u001b[0m\u001b[0;34m)\u001b[0m\u001b[0;34m:\u001b[0m\u001b[0;34m\u001b[0m\u001b[0;34m\u001b[0m\u001b[0m\n\u001b[1;32m      3\u001b[0m         \u001b[0;32mif\u001b[0m \u001b[0mpts\u001b[0m\u001b[0;34m:\u001b[0m\u001b[0;34m\u001b[0m\u001b[0;34m\u001b[0m\u001b[0m\n\u001b[0;32m----> 4\u001b[0;31m             \u001b[0mself\u001b[0m\u001b[0;34m.\u001b[0m\u001b[0m_pts\u001b[0m \u001b[0;34m=\u001b[0m \u001b[0;34m[\u001b[0m\u001b[0mPoint\u001b[0m\u001b[0;34m(\u001b[0m\u001b[0;34m*\u001b[0m\u001b[0mpt\u001b[0m\u001b[0;34m)\u001b[0m \u001b[0;32mfor\u001b[0m \u001b[0mpt\u001b[0m \u001b[0;32min\u001b[0m \u001b[0mpts\u001b[0m\u001b[0;34m]\u001b[0m\u001b[0;34m\u001b[0m\u001b[0;34m\u001b[0m\u001b[0m\n\u001b[0m\u001b[1;32m      5\u001b[0m         \u001b[0;32melse\u001b[0m\u001b[0;34m:\u001b[0m\u001b[0;34m\u001b[0m\u001b[0;34m\u001b[0m\u001b[0m\n\u001b[1;32m      6\u001b[0m             \u001b[0mself\u001b[0m\u001b[0;34m.\u001b[0m\u001b[0m_pts\u001b[0m \u001b[0;34m=\u001b[0m \u001b[0;34m[\u001b[0m\u001b[0;34m]\u001b[0m\u001b[0;34m\u001b[0m\u001b[0;34m\u001b[0m\u001b[0m\n",
      "\u001b[0;32m/tmp/ipykernel_5870/4031554939.py\u001b[0m in \u001b[0;36m<listcomp>\u001b[0;34m(.0)\u001b[0m\n\u001b[1;32m      2\u001b[0m     \u001b[0;32mdef\u001b[0m \u001b[0m__init__\u001b[0m\u001b[0;34m(\u001b[0m\u001b[0mself\u001b[0m\u001b[0;34m,\u001b[0m \u001b[0;34m*\u001b[0m\u001b[0mpts\u001b[0m\u001b[0;34m)\u001b[0m\u001b[0;34m:\u001b[0m\u001b[0;34m\u001b[0m\u001b[0;34m\u001b[0m\u001b[0m\n\u001b[1;32m      3\u001b[0m         \u001b[0;32mif\u001b[0m \u001b[0mpts\u001b[0m\u001b[0;34m:\u001b[0m\u001b[0;34m\u001b[0m\u001b[0;34m\u001b[0m\u001b[0m\n\u001b[0;32m----> 4\u001b[0;31m             \u001b[0mself\u001b[0m\u001b[0;34m.\u001b[0m\u001b[0m_pts\u001b[0m \u001b[0;34m=\u001b[0m \u001b[0;34m[\u001b[0m\u001b[0mPoint\u001b[0m\u001b[0;34m(\u001b[0m\u001b[0;34m*\u001b[0m\u001b[0mpt\u001b[0m\u001b[0;34m)\u001b[0m \u001b[0;32mfor\u001b[0m \u001b[0mpt\u001b[0m \u001b[0;32min\u001b[0m \u001b[0mpts\u001b[0m\u001b[0;34m]\u001b[0m\u001b[0;34m\u001b[0m\u001b[0;34m\u001b[0m\u001b[0m\n\u001b[0m\u001b[1;32m      5\u001b[0m         \u001b[0;32melse\u001b[0m\u001b[0;34m:\u001b[0m\u001b[0;34m\u001b[0m\u001b[0;34m\u001b[0m\u001b[0m\n\u001b[1;32m      6\u001b[0m             \u001b[0mself\u001b[0m\u001b[0;34m.\u001b[0m\u001b[0m_pts\u001b[0m \u001b[0;34m=\u001b[0m \u001b[0;34m[\u001b[0m\u001b[0;34m]\u001b[0m\u001b[0;34m\u001b[0m\u001b[0;34m\u001b[0m\u001b[0m\n",
      "\u001b[0;32m/tmp/ipykernel_5870/3263890172.py\u001b[0m in \u001b[0;36m__init__\u001b[0;34m(self, x, y)\u001b[0m\n\u001b[1;32m      4\u001b[0m             \u001b[0mself\u001b[0m\u001b[0;34m.\u001b[0m\u001b[0m_pt\u001b[0m \u001b[0;34m=\u001b[0m \u001b[0;34m(\u001b[0m\u001b[0mx\u001b[0m\u001b[0;34m,\u001b[0m \u001b[0my\u001b[0m\u001b[0;34m)\u001b[0m\u001b[0;34m\u001b[0m\u001b[0;34m\u001b[0m\u001b[0m\n\u001b[1;32m      5\u001b[0m         \u001b[0;32melse\u001b[0m\u001b[0;34m:\u001b[0m\u001b[0;34m\u001b[0m\u001b[0;34m\u001b[0m\u001b[0m\n\u001b[0;32m----> 6\u001b[0;31m             \u001b[0;32mraise\u001b[0m \u001b[0mTypeError\u001b[0m\u001b[0;34m(\u001b[0m\u001b[0;34m'Point co-ordinates must be real numbers.'\u001b[0m\u001b[0;34m)\u001b[0m\u001b[0;34m\u001b[0m\u001b[0;34m\u001b[0m\u001b[0m\n\u001b[0m\u001b[1;32m      7\u001b[0m \u001b[0;34m\u001b[0m\u001b[0m\n\u001b[1;32m      8\u001b[0m     \u001b[0;32mdef\u001b[0m \u001b[0m__repr__\u001b[0m\u001b[0;34m(\u001b[0m\u001b[0mself\u001b[0m\u001b[0;34m)\u001b[0m\u001b[0;34m:\u001b[0m\u001b[0;34m\u001b[0m\u001b[0;34m\u001b[0m\u001b[0m\n",
      "\u001b[0;31mTypeError\u001b[0m: Point co-ordinates must be real numbers."
     ]
    }
   ],
   "source": [
    "Polygon([Point(x=0, y=0), Point(x=1, y=1)])"
   ]
  },
  {
   "cell_type": "markdown",
   "id": "55bb7df8-1489-4853-af5d-11dd33cd2a88",
   "metadata": {},
   "source": [
    "Our representation contains those square brackets which technically should not be there as the Polygon class `__init__` assumes multiple comma-separated arguments, not a single iterable.\n",
    "\n",
    "So we should fix that by taking each Point in the iterable, converting it into a string and append it to a list. Then join the list via `,` so that we get comma-separated arguments."
   ]
  },
  {
   "cell_type": "code",
   "execution_count": 21,
   "id": "46dd79fc-8246-4453-bb5e-64f195029902",
   "metadata": {
    "tags": []
   },
   "outputs": [],
   "source": [
    "class Polygon:\n",
    "    def __init__(self, *pts):\n",
    "        if pts:\n",
    "            self._pts = [Point(*pt) for pt in pts]\n",
    "        else:\n",
    "            self._pts = []\n",
    "            \n",
    "    def __repr__(self):\n",
    "        pts_str = ', '.join([str(pt) for pt in self._pts])\n",
    "        return f'Polygon({pts_str})'"
   ]
  },
  {
   "cell_type": "code",
   "execution_count": 22,
   "id": "93397f2a-a5f1-46ab-87b1-d845180ccfc3",
   "metadata": {},
   "outputs": [
    {
     "data": {
      "text/plain": [
       "Polygon(Point(x=0, y=0), Point(x=1, y=1))"
      ]
     },
     "execution_count": 22,
     "metadata": {},
     "output_type": "execute_result"
    }
   ],
   "source": [
    "p = Polygon((0,0), [1,1])\n",
    "p"
   ]
  },
  {
   "cell_type": "code",
   "execution_count": 25,
   "id": "36f598aa-8bc8-4be8-b86c-404a8e3cc959",
   "metadata": {},
   "outputs": [],
   "source": [
    "p2 = Polygon(Point(x=0, y=0), Point(x=1, y=1)) # Works, no errors"
   ]
  },
  {
   "cell_type": "markdown",
   "id": "366f0529-f9ef-49dd-bf8d-9e2b9b2257e5",
   "metadata": {},
   "source": [
    "So now we can start making our Polygon into a sequence type, by implementing methods such as `__len__` and `__getitem__`.\n",
    "\n",
    "Then we'll support concatenation with `__add__`. (We don't need to support repetition - it doesn't make sense with polygons.)"
   ]
  },
  {
   "cell_type": "code",
   "execution_count": 27,
   "id": "0f3e2e5a-2e98-4cdc-8993-095474cf292a",
   "metadata": {},
   "outputs": [],
   "source": [
    "class Polygon:\n",
    "    def __init__(self, *pts):\n",
    "        if pts:\n",
    "            self._pts = [Point(*pt) for pt in pts]\n",
    "        else:\n",
    "            self._pts = []\n",
    "            \n",
    "    def __repr__(self):\n",
    "        pts_str = ', '.join([str(pt) for pt in self._pts])\n",
    "        return f'Polygon({pts_str})'\n",
    "    \n",
    "    def __len__(self):\n",
    "        return len(self._pts)\n",
    "    \n",
    "    def __getitem__(self, s):\n",
    "        return self._pts[s]         # No need to worry whether s is an integer or a slice because _pts is a list \n",
    "                                    # and lists are sequences and sequences support indexing and slicing. We've delegated again.]\n",
    "    \n",
    "    def __add__(self, other):\n",
    "        if isinstance(other, Polygon):\n",
    "            new_pts = self._pts + other._pts\n",
    "            return Polygon(*new_pts)\n",
    "        else:\n",
    "            raise TypeError('can only concatenate with another Polygon')"
   ]
  },
  {
   "cell_type": "code",
   "execution_count": 28,
   "id": "49d5f135-6790-4e24-8f52-63deabfc4c48",
   "metadata": {},
   "outputs": [
    {
     "data": {
      "text/plain": [
       "Polygon(Point(x=0, y=0), Point(x=1, y=1), Point(x=2, y=2), Point(x=3, y=3))"
      ]
     },
     "execution_count": 28,
     "metadata": {},
     "output_type": "execute_result"
    }
   ],
   "source": [
    "p1 = Polygon((0,0), (1,1))\n",
    "p2 = Polygon((2,2), (3,3))\n",
    "\n",
    "new_polygon = p1 + p2\n",
    "new_polygon"
   ]
  },
  {
   "cell_type": "markdown",
   "id": "3a958bf7-f531-4dc1-b368-6d2dcd4bb599",
   "metadata": {},
   "source": [
    "Now, let's add in-place concatenation. Remember, we need to mutate ourselves (`self`) by adding the points from the other point `other` and then **return ourselves (`self`)**."
   ]
  },
  {
   "cell_type": "code",
   "execution_count": 29,
   "id": "f4d8aa34-95d4-4fd1-b85d-371256f800a8",
   "metadata": {
    "tags": []
   },
   "outputs": [],
   "source": [
    "class Polygon:\n",
    "    def __init__(self, *pts):\n",
    "        if pts:\n",
    "            self._pts = [Point(*pt) for pt in pts]\n",
    "        else:\n",
    "            self._pts = []\n",
    "            \n",
    "    def __repr__(self):\n",
    "        pts_str = ', '.join([str(pt) for pt in self._pts])\n",
    "        return f'Polygon({pts_str})'\n",
    "    \n",
    "    def __len__(self):\n",
    "        return len(self._pts)\n",
    "    \n",
    "    def __getitem__(self, s):\n",
    "        return self._pts[s]\n",
    "    \n",
    "    def __add__(self, other):\n",
    "        if isinstance(other, Polygon):\n",
    "            new_pts = self._pts + other._pts\n",
    "            return Polygon(*new_pts)\n",
    "        else:\n",
    "            raise TypeError('can only concatenate with another Polygon')\n",
    "            \n",
    "    def __iadd__(self, pt):\n",
    "        if isinstance(pt, Polygon):\n",
    "            self._pts = self._pts + pt._pts   # THIS IS NOT IN-PLACE CONCATENATION; self._pts on the LHS will be a new object, but that's okay!\n",
    "            return self\n",
    "        else:\n",
    "            raise TypeError('can only concatenate with another Polygon')"
   ]
  },
  {
   "cell_type": "markdown",
   "id": "a8c04e89-60f5-4a34-b121-b0ff4aa64dea",
   "metadata": {},
   "source": [
    "You'll notice that in `__iadd__` we have: `self._pts = self._pts + pt._pts` instead of `self._pts += pt._pts`. That's because we don't care if we `self._pts` gets a new memory address or not - we only want to ensure that the memory address of the object `self` stays the same."
   ]
  },
  {
   "cell_type": "code",
   "execution_count": 32,
   "id": "f09c9e44-6373-41ec-9df2-00d469758199",
   "metadata": {},
   "outputs": [
    {
     "name": "stdout",
     "output_type": "stream",
     "text": [
      "id(p1)=139642594553872\n",
      "id(p1)=139642594553872\n"
     ]
    }
   ],
   "source": [
    "p1 = Polygon((0,0), (1,1))\n",
    "p2 = Polygon((2,2), (3,3))\n",
    "\n",
    "print(f'{id(p1)=}')\n",
    "p1 += p2                # Equivalent to p1 = p1.__iadd__(p2)\n",
    "print(f'{id(p1)=}')"
   ]
  },
  {
   "cell_type": "markdown",
   "id": "fe82a0b2-88ae-46c7-b65f-712ddb078286",
   "metadata": {},
   "source": [
    "But what we can't do yet is concatenate with anything that appears like a point, such as a list or tuple with 2 elements."
   ]
  },
  {
   "cell_type": "code",
   "execution_count": 75,
   "id": "92191c39-6775-4541-bb0c-48834caaab41",
   "metadata": {
    "collapsed": true,
    "jupyter": {
     "outputs_hidden": true
    }
   },
   "outputs": [],
   "source": [
    "p1 = Polygon((0,0), (1,1))\n",
    "p1 += [(2,2), (3,3)]"
   ]
  },
  {
   "cell_type": "markdown",
   "id": "d49f41d0-02f5-4dd0-a194-5216fc7a956c",
   "metadata": {},
   "source": [
    "To fix this, we need to rewrite our `__iadd__` to not include the `if isinstance(pt, Polygon)`. Then, if the `other` is a Polygon, we deal with it as we have above. \n",
    "\n",
    "But, if it's an iterable, we'll need to take each point in the iterable and unpack its 2 elements into a `Point` object. If those elements are not real numbers, our `Point` class should catch it.\n",
    "\n",
    "For example:\n",
    "\n",
    "`[(3,3), (4,4)]` --> `[Point(3,3), Point(4,4)]`"
   ]
  },
  {
   "cell_type": "code",
   "execution_count": 41,
   "id": "9615b1dd-3e6c-483c-8e1b-2314ef1642e4",
   "metadata": {
    "tags": []
   },
   "outputs": [],
   "source": [
    "class Polygon:\n",
    "    def __init__(self, *pts):\n",
    "        if pts:\n",
    "            self._pts = [Point(*pt) for pt in pts]\n",
    "        else:\n",
    "            self._pts = []\n",
    "            \n",
    "    def __repr__(self):\n",
    "        pts_str = ', '.join([str(pt) for pt in self._pts])\n",
    "        return f'Polygon({pts_str})'\n",
    "    \n",
    "    def __len__(self):\n",
    "        return len(self._pts)\n",
    "    \n",
    "    def __getitem__(self, s):\n",
    "        return self._pts[s]\n",
    "    \n",
    "    def __add__(self, pt):\n",
    "        if isinstance(pt, Polygon):\n",
    "            new_pts = self._pts + pt._pts\n",
    "            return Polygon(*new_pts)\n",
    "        else:\n",
    "            raise TypeError('can only concatenate with another Polygon')\n",
    "            \n",
    "    def __iadd__(self, pts):\n",
    "        if isinstance(pts, Polygon):\n",
    "            self._pts = self._pts + pts._pts\n",
    "        else:\n",
    "            # assume we are being passed an iterable containing Points\n",
    "            # or something compatible with Points\n",
    "            points = [Point(*pt) for pt in pts]\n",
    "            self._pts = self._pts + points\n",
    "        return self"
   ]
  },
  {
   "cell_type": "code",
   "execution_count": 42,
   "id": "1842008f-9236-4256-92e3-61f306d0aac9",
   "metadata": {
    "tags": []
   },
   "outputs": [],
   "source": [
    "p1 = Polygon((0,0), (1,1))\n",
    "p1 += [(2,2), (3,3), Point(5,5), {3,4}]"
   ]
  },
  {
   "cell_type": "markdown",
   "id": "bacfe605-f658-417d-856a-2418cfcdbcfb",
   "metadata": {},
   "source": [
    "Now, let's implement `append`, `insert` and `extend`. \n",
    "\n",
    "Remember, these are not special methods. But, everyone expects them to behave in a particular way so we should replicate that. \n",
    "\n",
    "For example, the method `extend` generally does a mutation and **has no return**. \n",
    "\n",
    "In fact, **`extend` is identical to `__iadd__` except that it has no return, so we can refactor our code to reflect this** We do this by making `__iadd__` use our `extend` method but just return the outcome."
   ]
  },
  {
   "cell_type": "code",
   "execution_count": 44,
   "id": "2e02de0d-86f5-432b-a4a8-0d880824ab50",
   "metadata": {},
   "outputs": [],
   "source": [
    "class Polygon:\n",
    "    def __init__(self, *pts):\n",
    "        if pts:\n",
    "            self._pts = [Point(*pt) for pt in pts]\n",
    "        else:\n",
    "            self._pts = []\n",
    "            \n",
    "    def __repr__(self):\n",
    "        pts_str = ', '.join([str(pt) for pt in self._pts])\n",
    "        return f'Polygon({pts_str})'\n",
    "    \n",
    "    def __len__(self):\n",
    "        return len(self._pts)\n",
    "    \n",
    "    def __getitem__(self, s):\n",
    "        return self._pts[s]\n",
    "    \n",
    "    def __add__(self, pt):\n",
    "        if isinstance(pt, Polygon):\n",
    "            new_pts = self._pts + pt._pts\n",
    "            return Polygon(*new_pts)\n",
    "        else:\n",
    "            raise TypeError('can only concatenate with another Polygon')\n",
    "\n",
    "    def append(self, pt):\n",
    "        self._pts.append(Point(*pt))\n",
    "        \n",
    "    def extend(self, pts):\n",
    "        if isinstance(pts, Polygon):\n",
    "            self._pts = self._pts + pts._pts\n",
    "        else:\n",
    "            # assume we are being passed an iterable containing Points\n",
    "            # or something compatible with Points\n",
    "            points = [Point(*pt) for pt in pts]\n",
    "            self._pts = self._pts + points\n",
    "    \n",
    "    def __iadd__(self, pts):\n",
    "        self.extend(pts)\n",
    "        return self\n",
    "    \n",
    "    def insert(self, i, pt):\n",
    "        self._pts.insert(i, Point(*pt))"
   ]
  },
  {
   "cell_type": "code",
   "execution_count": 50,
   "id": "dd83749e-9836-4025-86d9-4c2c5f25d4ad",
   "metadata": {},
   "outputs": [
    {
     "name": "stdout",
     "output_type": "stream",
     "text": [
      "p1 original. Result: Polygon(Point(x=0, y=0), Point(x=1, y=1))\n",
      "p1 appended. Result: Polygon(Point(x=0, y=0), Point(x=1, y=1), Point(x=4, y=4))\n",
      "p1 inserted. Result: Polygon(Point(x=0, y=0), Point(x=-1, y=-1), Point(x=1, y=1), Point(x=4, y=4))\n",
      "p1 extended. Result: Polygon(Point(x=0, y=0), Point(x=-1, y=-1), Point(x=1, y=1), Point(x=4, y=4), Point(x=6, y=6), Point(x=20, y=20))\n"
     ]
    }
   ],
   "source": [
    "p1 = Polygon((0,0), Point(1,1))\n",
    "p2 = Polygon([2, 2], [3, 3])\n",
    "\n",
    "print(f\"p1 original. Result: {p1}\")\n",
    "\n",
    "p1.append((4, 4))\n",
    "print(f\"p1 appended. Result: {p1}\")\n",
    "\n",
    "p1.insert(1, Point(-1, -1))\n",
    "print(f\"p1 inserted. Result: {p1}\")\n",
    "\n",
    "p3 = Polygon((6,6), Point(20,20))\n",
    "p1.extend(p3)\n",
    "print(f\"p1 extended. Result: {p1}\")"
   ]
  },
  {
   "cell_type": "markdown",
   "id": "72ec3a06-6d65-4e0a-b06a-666c061bc026",
   "metadata": {},
   "source": [
    "**Part 2c:`__setitem__` Method**"
   ]
  },
  {
   "cell_type": "markdown",
   "id": "2ffa6d16-05a8-44ab-bfe7-421dc13736db",
   "metadata": {},
   "source": [
    "The two things we want to do is:\n",
    "\n",
    "- provide an index and a new point, and replace our Polygon's element at that index with the new point.\n",
    "- same as above but with a slice.\n",
    "\n",
    "For example:\n",
    "\n",
    "`p1[3] = Point(100, 100)`\n",
    "`p1[0:2] = [Point(-1,-1), Point(-2,-2)]`"
   ]
  },
  {
   "cell_type": "markdown",
   "id": "1a9db333-36ea-4403-bb24-f37be00f567a",
   "metadata": {},
   "source": [
    "This is going to be easier than we may think because we can use **delegation** to delegate our slice operation to the list type because lists support setting items.\n",
    "\n",
    "We'll start off from where we left off above and add in our `__setitem__` method. Before we write it in our class above, I'll write one possible approach in isolation below, and then we'll see what issues may arise."
   ]
  },
  {
   "cell_type": "code",
   "execution_count": null,
   "id": "d3a2b1fe-b02a-4e72-af70-e073adf9f9dd",
   "metadata": {},
   "outputs": [],
   "source": [
    "def __setitem__(self, s, value):\n",
    "    \n",
    "    if isinstance(s, int):\n",
    "        self._pts[s] = Point(*value)\n",
    "    else:\n",
    "        self._pts[s] = [Point(*pt) for pt in value]           "
   ]
  },
  {
   "cell_type": "markdown",
   "id": "a44ec8a7-1f61-4543-b7ab-d25108f4f297",
   "metadata": {},
   "source": [
    "Consider \n",
    "\n",
    "`p[0] = [Point(10, 10), Point(20, 20)]`\n",
    "\n",
    "This won't work. Why not?\n",
    "\n",
    "The LHS is fine. It's the the RHS that's causing the issue. RHS = `[Point(10, 10), Point(20, 20)]` which gets equated to `value`.\n",
    "\n",
    "Since `s` is an `int`, we go through the first condition which evaluates to: `self._pts[0] = Point( Point(10, 10) , Point(20, 20) )` \n",
    "\n",
    "In other words, we have a Point made of Points instead of integers. \n",
    "\n",
    "**This throws an error as it should but the error is found in Point which we created way back: 'Point co-ordinates must be real numbers.'**\n",
    "\n",
    "-----------\n",
    "```\n",
    "class Point:\n",
    "    def __init__(self, x, y):\n",
    "        if isinstance(x, numbers.Real) and isinstance(y, numbers.Real):\n",
    "            self._pt = (x, y)\n",
    "        else:\n",
    "            raise TypeError('Point co-ordinates must be real numbers.')\n",
    "            \n",
    "    def __repr__(self):\n",
    "        return f'Point(x={self._pt[0]}, y={self._pt[1]})'\n",
    "    \n",
    "    def __len__(self):\n",
    "        return 2\n",
    "    \n",
    "    def __getitem__(self, s):\n",
    "        return self._pt[s]\n",
    "```\n",
    "-------------\n",
    "The error is technically correct - Point(10, 10) isn't an integer after all - but, we'd want to be more specific.\n",
    "\n",
    "We'd find a similar sort of somewhat meaningless/unintuitive error if we tried \n",
    "\n",
    "`p[0:2] = Point(20, 20)`\n",
    "\n",
    "`> TypeError: type object argument after * must be an iterable, not int`\n",
    "\n",
    "Again, the fact that an error is thrown is good but we just want a clear error."
   ]
  },
  {
   "cell_type": "markdown",
   "id": "06794b88-ffb7-4d05-97e0-37471be5c18c",
   "metadata": {},
   "source": [
    "**How are we going to fix this?**\n",
    "\n",
    "We need to understand these two rules:\n",
    "\n",
    "- If `s` is an integer, `value` must be a single `Point`.\n",
    "- If `s` is a slice, `value` must be a sequence/iterable of Points\n",
    "\n",
    "So what's our method?\n",
    "\n",
    "- We'll try to take the RHS e.g `[Point(10, 10), Point(20, 20)]` and **`try`** to make a list of points. If we succeed, we know we have a list of points.\n",
    "- Otherwise, we probably have a single point when we want a list of points. So, we have a TypeError that we want to catch.\n",
    "- But we *may not* have a single point, so let's **`try`** to make a `Point` from the RHS. If we succeed, we have a Point.\n",
    "- Otherwise, we have something useless like a complex value or string. For this, we need to **`raise`** our own error.\n",
    "\n",
    "- If no exceptions were raised throughout this process, **then we have a valid RHS**.\n",
    "- Only now we can implement the two rules above which can be done with a single `x or y` instead of two `if` statements. \n",
    "\n",
    "Here's our isolated method solution:"
   ]
  },
  {
   "cell_type": "code",
   "execution_count": 51,
   "id": "203ae267-18f3-45ca-85a7-e87b8f32f91b",
   "metadata": {},
   "outputs": [],
   "source": [
    "def __setitem__(self, s, value):\n",
    "    # we first should see if we have a single Point\n",
    "    # or an iterable of Points in value\n",
    "    try:\n",
    "        rhs = [Point(*pt) for pt in value]\n",
    "        is_single = False\n",
    "    except TypeError:\n",
    "        # not a valid iterable of Points\n",
    "        # maybe a single Point?\n",
    "        try:\n",
    "            rhs = Point(*value)\n",
    "            is_single = True\n",
    "        except TypeError:\n",
    "            # still no go\n",
    "            raise TypeError('Invalid Point or iterable of Points')\n",
    "\n",
    "    # reached here, so rhs is either an iterable of Points, or a Point\n",
    "    # we want to make sure we are assigning to a slice only if we have an iterable of points,\n",
    "    # or, assigning to an index if we have a single Point only\n",
    " \n",
    "    if (isinstance(s, int) and is_single) or isinstance(s, slice) and not is_single: \n",
    "        self._pts[s] = rhs\n",
    "    else:\n",
    "        raise TypeError('Incompatible index/slice assignment')"
   ]
  },
  {
   "cell_type": "markdown",
   "id": "64c9f849-a4b3-48c1-a8d7-7d5d8269b571",
   "metadata": {},
   "source": [
    "Let's add `del` and `pop` functionality to our class quickly using **delegation** as we've done previously before testing out our exception handling.\n",
    "\n",
    "Here's our complete class:"
   ]
  },
  {
   "cell_type": "code",
   "execution_count": 57,
   "id": "2a77aff4-f540-4671-a346-3e2c3930fe0c",
   "metadata": {
    "tags": []
   },
   "outputs": [],
   "source": [
    "class Polygon:\n",
    "    def __init__(self, *pts):\n",
    "        if pts:\n",
    "            self._pts = [Point(*pt) for pt in pts]\n",
    "        else:\n",
    "            self._pts = []\n",
    "            \n",
    "    def __repr__(self):\n",
    "        pts_str = ', '.join([str(pt) for pt in self._pts])\n",
    "        return f'Polygon({pts_str})'\n",
    "    \n",
    "    def __len__(self):\n",
    "        return len(self._pts)\n",
    "    \n",
    "    def __getitem__(self, s):\n",
    "        return self._pts[s]\n",
    "    \n",
    "    def __setitem__(self, s, value):\n",
    "        # we first should see if we have a single Point\n",
    "        # or an iterable of Points in value\n",
    "        try:\n",
    "            rhs = [Point(*pt) for pt in value]\n",
    "            is_single = False\n",
    "        except TypeError:\n",
    "            # not a valid iterable of Points\n",
    "            # maybe a single Point?\n",
    "            try:\n",
    "                rhs = Point(*value)\n",
    "                is_single = True\n",
    "            except TypeError:\n",
    "                # still no go\n",
    "                raise TypeError('Invalid Point or iterable of Points')\n",
    "        \n",
    "        # reached here, so rhs is either an iterable of Points, or a Point\n",
    "        # we want to make sure we are assigning to a slice only if we \n",
    "        # have an iterable of points, and assigning to an index if we \n",
    "        # have a single Point only\n",
    "        if (isinstance(s, int) and is_single) \\\n",
    "            or isinstance(s, slice) and not is_single:\n",
    "            self._pts[s] = rhs\n",
    "        else:\n",
    "            raise TypeError('Incompatible index/slice assignment')\n",
    "                \n",
    "    def __add__(self, pt):\n",
    "        if isinstance(pt, Polygon):\n",
    "            new_pts = self._pts + pt._pts\n",
    "            return Polygon(*new_pts)\n",
    "        else:\n",
    "            raise TypeError('can only concatenate with another Polygon')\n",
    "\n",
    "    def append(self, pt):\n",
    "        self._pts.append(Point(*pt))\n",
    "        \n",
    "    def extend(self, pts):\n",
    "        if isinstance(pts, Polygon):\n",
    "            self._pts = self._pts + pts._pts\n",
    "        else:\n",
    "            # assume we are being passed an iterable containing Points\n",
    "            # or something compatible with Points\n",
    "            points = [Point(*pt) for pt in pts]\n",
    "            self._pts = self._pts + points\n",
    "    \n",
    "    def __iadd__(self, pts):\n",
    "        self.extend(pts)\n",
    "        return self\n",
    "    \n",
    "    def insert(self, i, pt):\n",
    "        self._pts.insert(i, Point(*pt))\n",
    "        \n",
    "    def __delitem__(self, s):\n",
    "        del self._pts[s]\n",
    "        \n",
    "    def pop(self, i):\n",
    "        return self._pts.pop(i)"
   ]
  },
  {
   "cell_type": "markdown",
   "id": "e8053bb0-092a-4ecf-9cc7-c18423fd9ee4",
   "metadata": {},
   "source": [
    "So now let's see if we get better error messages:"
   ]
  },
  {
   "cell_type": "code",
   "execution_count": 58,
   "id": "5ddb7ef0-3602-4368-8039-b83ac6f9c9b3",
   "metadata": {
    "tags": []
   },
   "outputs": [],
   "source": [
    "p1 = Polygon((0,0), (1,1), (2,2))"
   ]
  },
  {
   "cell_type": "code",
   "execution_count": 59,
   "id": "8fb44e48-1c0c-4cd6-b5b1-40a0a0cc6932",
   "metadata": {},
   "outputs": [
    {
     "ename": "TypeError",
     "evalue": "Incompatible index/slice assignment",
     "output_type": "error",
     "traceback": [
      "\u001b[0;31m---------------------------------------------------------------------------\u001b[0m",
      "\u001b[0;31mTypeError\u001b[0m                                 Traceback (most recent call last)",
      "\u001b[0;32m/tmp/ipykernel_5870/277394552.py\u001b[0m in \u001b[0;36m<module>\u001b[0;34m\u001b[0m\n\u001b[0;32m----> 1\u001b[0;31m \u001b[0mp1\u001b[0m\u001b[0;34m[\u001b[0m\u001b[0;36m0\u001b[0m\u001b[0;34m:\u001b[0m\u001b[0;36m2\u001b[0m\u001b[0;34m]\u001b[0m \u001b[0;34m=\u001b[0m \u001b[0;34m(\u001b[0m\u001b[0;36m10\u001b[0m\u001b[0;34m,\u001b[0m\u001b[0;36m10\u001b[0m\u001b[0;34m)\u001b[0m\u001b[0;34m\u001b[0m\u001b[0;34m\u001b[0m\u001b[0m\n\u001b[0m",
      "\u001b[0;32m/tmp/ipykernel_5870/2366797155.py\u001b[0m in \u001b[0;36m__setitem__\u001b[0;34m(self, s, value)\u001b[0m\n\u001b[1;32m     40\u001b[0m             \u001b[0mself\u001b[0m\u001b[0;34m.\u001b[0m\u001b[0m_pts\u001b[0m\u001b[0;34m[\u001b[0m\u001b[0ms\u001b[0m\u001b[0;34m]\u001b[0m \u001b[0;34m=\u001b[0m \u001b[0mrhs\u001b[0m\u001b[0;34m\u001b[0m\u001b[0;34m\u001b[0m\u001b[0m\n\u001b[1;32m     41\u001b[0m         \u001b[0;32melse\u001b[0m\u001b[0;34m:\u001b[0m\u001b[0;34m\u001b[0m\u001b[0;34m\u001b[0m\u001b[0m\n\u001b[0;32m---> 42\u001b[0;31m             \u001b[0;32mraise\u001b[0m \u001b[0mTypeError\u001b[0m\u001b[0;34m(\u001b[0m\u001b[0;34m'Incompatible index/slice assignment'\u001b[0m\u001b[0;34m)\u001b[0m\u001b[0;34m\u001b[0m\u001b[0;34m\u001b[0m\u001b[0m\n\u001b[0m\u001b[1;32m     43\u001b[0m \u001b[0;34m\u001b[0m\u001b[0m\n\u001b[1;32m     44\u001b[0m     \u001b[0;32mdef\u001b[0m \u001b[0m__add__\u001b[0m\u001b[0;34m(\u001b[0m\u001b[0mself\u001b[0m\u001b[0;34m,\u001b[0m \u001b[0mpt\u001b[0m\u001b[0;34m)\u001b[0m\u001b[0;34m:\u001b[0m\u001b[0;34m\u001b[0m\u001b[0;34m\u001b[0m\u001b[0m\n",
      "\u001b[0;31mTypeError\u001b[0m: Incompatible index/slice assignment"
     ]
    }
   ],
   "source": [
    "p1[0:2] = (10,10)"
   ]
  },
  {
   "cell_type": "code",
   "execution_count": 60,
   "id": "af809a01-4269-4a77-8ded-ecdcb8585b87",
   "metadata": {},
   "outputs": [
    {
     "ename": "TypeError",
     "evalue": "Incompatible index/slice assignment",
     "output_type": "error",
     "traceback": [
      "\u001b[0;31m---------------------------------------------------------------------------\u001b[0m",
      "\u001b[0;31mTypeError\u001b[0m                                 Traceback (most recent call last)",
      "\u001b[0;32m/tmp/ipykernel_5870/3570378440.py\u001b[0m in \u001b[0;36m<module>\u001b[0;34m\u001b[0m\n\u001b[0;32m----> 1\u001b[0;31m \u001b[0mp1\u001b[0m\u001b[0;34m[\u001b[0m\u001b[0;36m0\u001b[0m\u001b[0;34m]\u001b[0m \u001b[0;34m=\u001b[0m \u001b[0;34m[\u001b[0m\u001b[0;34m(\u001b[0m\u001b[0;36m0\u001b[0m\u001b[0;34m,\u001b[0m\u001b[0;36m0\u001b[0m\u001b[0;34m)\u001b[0m\u001b[0;34m,\u001b[0m \u001b[0;34m(\u001b[0m\u001b[0;36m1\u001b[0m\u001b[0;34m,\u001b[0m\u001b[0;36m1\u001b[0m\u001b[0;34m)\u001b[0m\u001b[0;34m]\u001b[0m\u001b[0;34m\u001b[0m\u001b[0;34m\u001b[0m\u001b[0m\n\u001b[0m",
      "\u001b[0;32m/tmp/ipykernel_5870/2366797155.py\u001b[0m in \u001b[0;36m__setitem__\u001b[0;34m(self, s, value)\u001b[0m\n\u001b[1;32m     40\u001b[0m             \u001b[0mself\u001b[0m\u001b[0;34m.\u001b[0m\u001b[0m_pts\u001b[0m\u001b[0;34m[\u001b[0m\u001b[0ms\u001b[0m\u001b[0;34m]\u001b[0m \u001b[0;34m=\u001b[0m \u001b[0mrhs\u001b[0m\u001b[0;34m\u001b[0m\u001b[0;34m\u001b[0m\u001b[0m\n\u001b[1;32m     41\u001b[0m         \u001b[0;32melse\u001b[0m\u001b[0;34m:\u001b[0m\u001b[0;34m\u001b[0m\u001b[0;34m\u001b[0m\u001b[0m\n\u001b[0;32m---> 42\u001b[0;31m             \u001b[0;32mraise\u001b[0m \u001b[0mTypeError\u001b[0m\u001b[0;34m(\u001b[0m\u001b[0;34m'Incompatible index/slice assignment'\u001b[0m\u001b[0;34m)\u001b[0m\u001b[0;34m\u001b[0m\u001b[0;34m\u001b[0m\u001b[0m\n\u001b[0m\u001b[1;32m     43\u001b[0m \u001b[0;34m\u001b[0m\u001b[0m\n\u001b[1;32m     44\u001b[0m     \u001b[0;32mdef\u001b[0m \u001b[0m__add__\u001b[0m\u001b[0;34m(\u001b[0m\u001b[0mself\u001b[0m\u001b[0;34m,\u001b[0m \u001b[0mpt\u001b[0m\u001b[0;34m)\u001b[0m\u001b[0;34m:\u001b[0m\u001b[0;34m\u001b[0m\u001b[0;34m\u001b[0m\u001b[0m\n",
      "\u001b[0;31mTypeError\u001b[0m: Incompatible index/slice assignment"
     ]
    }
   ],
   "source": [
    "p1[0] = [(0,0), (1,1)]"
   ]
  },
  {
   "cell_type": "code",
   "execution_count": 61,
   "id": "dd6af58f-2063-4d25-bb39-18baeb664523",
   "metadata": {},
   "outputs": [
    {
     "data": {
      "text/plain": [
       "Point(x=1, y=1)"
      ]
     },
     "execution_count": 61,
     "metadata": {},
     "output_type": "execute_result"
    }
   ],
   "source": [
    "p = Polygon(*zip(range(6), range(6)))\n",
    "p.pop(1)"
   ]
  },
  {
   "cell_type": "markdown",
   "id": "964ed5ec-72fd-407c-97dd-dbfdc4d06f6d",
   "metadata": {},
   "source": [
    "# 11- Sorting Sequences"
   ]
  },
  {
   "cell_type": "markdown",
   "id": "04db2b88-2b85-46cb-a8d5-475962b11a28",
   "metadata": {},
   "source": [
    "#### Lecture"
   ]
  },
  {
   "cell_type": "markdown",
   "id": "fc501377-bf4c-440c-8082-c0e4162b87ec",
   "metadata": {},
   "source": [
    "Just like with the concatenation and in-place concatenation we saw previously, we have two different ways of sorting a mutable sequence:\n",
    "\n",
    "* returning a new sorted sequence\n",
    "* in-place sorting (mutating sequence) - obviously this works for mutable sequence types only!\n"
   ]
  },
  {
   "cell_type": "markdown",
   "id": "4a0ce2ea-8e2c-4077-942e-32ed3b415eef",
   "metadata": {},
   "source": [
    "For any iterable, the built-in `sorted` function will return a **list** containing the sorted elements of the iterable.\n",
    "\n",
    "So a few things here: \n",
    "* any iterable can be sorted (as long as it is finite)\n",
    "* the elements must be pair-wise comparable (possibly indirectly via a sort key)\n",
    "* the returned result is always a list\n",
    "* the original iterable is not mutated\n",
    "\n",
    "In addition:\n",
    "* optionally specify a `key` - a function that extracts a comparison key for each element. If that key is not specified, Python will use the natural ordering of the elements (such as __gt__, etc, so that fails if they do not!)\n",
    "* optional specify the `reverse` argument which will return the reversed sort"
   ]
  },
  {
   "cell_type": "markdown",
   "id": "93f7d731-1a4b-45a8-8f52-30e5ecef5548",
   "metadata": {},
   "source": [
    "Of course, numbers have a natural sort order and strings do too (alphabetical, but don't forget that a distinction is made if the letter is capitalised). But what if we have numerous strings and we want to sort by the last character of the string. What word the **sort key** be?\n",
    "\n",
    "```\n",
    "item:    'hello'    'python'    'parrot'    'bird'\n",
    "key:       'o'        'n'         't'         'd'\n",
    "```\n",
    "\n",
    "And we know that since these sort keys are strings, they have a natural sort order.\n",
    "\n",
    "So what would the key function look like?\n",
    "\n",
    "`key = lambda s: s[-1]`\n",
    "\n",
    "What do we mean by the natural sort order?\n",
    "\n",
    "These are how we'd generally and intuitively sort the items. If we do not provide the `key` keyword argument, then we can always think of the default key as the elements themselves. In other words,\n",
    "\n",
    "`sorted(iterable) <-> sorted(iterable, key=lambda x: x)`"
   ]
  },
  {
   "cell_type": "markdown",
   "id": "9c471583-716e-423c-9f10-cebb458a9f28",
   "metadata": {},
   "source": [
    "For things like dictionaries, this works slightly differently. Remember what happens when we iterate a dictionary?"
   ]
  },
  {
   "cell_type": "code",
   "execution_count": 8,
   "id": "53ce1305-a251-4519-ab91-c3f97b56b4af",
   "metadata": {},
   "outputs": [
    {
     "name": "stdout",
     "output_type": "stream",
     "text": [
      "3\n",
      "2\n",
      "1\n"
     ]
    }
   ],
   "source": [
    "d = {3: 100, 2: 200, 1: 10}\n",
    "for item in d:\n",
    "    print(item)"
   ]
  },
  {
   "cell_type": "markdown",
   "id": "f3d85c17-298f-4900-b623-f2e59dab54cc",
   "metadata": {},
   "source": [
    "We actually are iterating the keys.\n",
    "\n",
    "Same thing happens with sorting - we'll end up just sorting the keys:"
   ]
  },
  {
   "cell_type": "code",
   "execution_count": 9,
   "id": "0407d3e6-e173-4b4f-ba9b-4da35821bec1",
   "metadata": {},
   "outputs": [
    {
     "data": {
      "text/plain": [
       "[1, 2, 3]"
      ]
     },
     "execution_count": 9,
     "metadata": {},
     "output_type": "execute_result"
    }
   ],
   "source": [
    "d = {3: 100, 2: 200, 1: 10}\n",
    "\n",
    "sorted(d)"
   ]
  },
  {
   "cell_type": "markdown",
   "id": "ddc0fe59-e2c9-4ec0-a2b8-332e09fbb78f",
   "metadata": {},
   "source": [
    "But what if we wanted to sort the dictionary keys based on the values instead?"
   ]
  },
  {
   "cell_type": "markdown",
   "id": "f73a698b-dc11-41ea-a575-cefd3bfb357c",
   "metadata": {},
   "source": [
    "This is where the `key` argument of `sorted` will come in handy.\n",
    "\n",
    "We are going to specify to the `sorted` function that it should use the value of each item to use as a sort key:"
   ]
  },
  {
   "cell_type": "code",
   "execution_count": 11,
   "id": "54317b3c-b047-4475-a80f-cf9dc620693e",
   "metadata": {},
   "outputs": [
    {
     "data": {
      "text/plain": [
       "['c', 'b', 'a']"
      ]
     },
     "execution_count": 11,
     "metadata": {},
     "output_type": "execute_result"
    }
   ],
   "source": [
    "d = {'a': 100, 'b': 50, 'c': 10}\n",
    "\n",
    "sorted(d, key=lambda k: d[k])"
   ]
  },
  {
   "cell_type": "markdown",
   "id": "cd6569dd-a662-4f55-aab4-4207677bb3a5",
   "metadata": {},
   "source": [
    "Note: **The `sorted` function makes a copy of the iterable and returns the sorted elements in a `list` always**."
   ]
  },
  {
   "cell_type": "markdown",
   "id": "94b51fff-69db-4953-8c07-026d56b621b7",
   "metadata": {},
   "source": [
    "#### Stable Sorting"
   ]
  },
  {
   "cell_type": "markdown",
   "id": "4d3839a1-ce9b-465b-8496-fbc421884d71",
   "metadata": {},
   "source": [
    "You might have noticed that the words `this`,  `late` and `bird` all have four characters - so how did Python determine which one should come first? Randomly? No!\n",
    "\n",
    "The sort algorithm that Python uses, called the *TimSort* (named after Python core developer Tim Peters - yes, the same Tim Peters that wrote the Zen of Python!!), is what is called a **stable** sort algorithm.\n",
    "\n",
    "This means that items with equal sort keys maintain their relative position."
   ]
  },
  {
   "cell_type": "code",
   "execution_count": null,
   "id": "1c9e17b7-5ca2-48b4-bc7f-0a7a5a524dbd",
   "metadata": {
    "tags": []
   },
   "outputs": [],
   "source": [
    "t = 'aaaa', 'bbbb', 'cccc', 'dddd', 'eeee'"
   ]
  },
  {
   "cell_type": "code",
   "execution_count": null,
   "id": "efc20955-8a5f-4dee-9ebb-80b72279d8bf",
   "metadata": {},
   "outputs": [
    {
     "data": {
      "text/plain": [
       "['aaaa', 'bbbb', 'cccc', 'dddd', 'eeee']"
      ]
     },
     "execution_count": 63,
     "metadata": {},
     "output_type": "execute_result"
    }
   ],
   "source": [
    "sorted(t, key = lambda s: len(s))"
   ]
  },
  {
   "cell_type": "markdown",
   "id": "f632a13c-36dc-4307-beff-2689646b4ad1",
   "metadata": {},
   "source": [
    "Now let's change our tuple a bit:"
   ]
  },
  {
   "cell_type": "code",
   "execution_count": null,
   "id": "c1b00382-eb5d-4786-9206-8509e8686fca",
   "metadata": {
    "tags": []
   },
   "outputs": [],
   "source": [
    "t = 'bbbb', 'cccc', 'aaaa', 'eeee', 'dddd'"
   ]
  },
  {
   "cell_type": "code",
   "execution_count": null,
   "id": "87d951b6-1da7-40f4-a0dd-b209226b7c46",
   "metadata": {},
   "outputs": [
    {
     "data": {
      "text/plain": [
       "['bbbb', 'cccc', 'aaaa', 'eeee', 'dddd']"
      ]
     },
     "execution_count": 65,
     "metadata": {},
     "output_type": "execute_result"
    }
   ],
   "source": [
    "sorted(t, key = lambda s: len(s))"
   ]
  },
  {
   "cell_type": "markdown",
   "id": "98abd169-94e1-494c-a01a-a31cceda47e2",
   "metadata": {},
   "source": [
    "As you can see, when the sort keys are equal (they are all equal to 4), the original ordering of the iterable is preserved. `bbbb` came before `cccc` in our tuple so `bbbb` will come before `cccc` after sorting, even though they have the same sort key."
   ]
  },
  {
   "cell_type": "markdown",
   "id": "cd13d0a8-ea5d-40ae-a024-7afb147d9eed",
   "metadata": {},
   "source": [
    "#### Reversed Sort"
   ]
  },
  {
   "cell_type": "markdown",
   "id": "e3525a28-92e3-4618-8634-9b3151201f8d",
   "metadata": {},
   "source": [
    "We also have the `reverse` keyword-only argument that we can use - basically it sorts the iterable, but returns it reversed:"
   ]
  },
  {
   "cell_type": "code",
   "execution_count": 1,
   "id": "cbb610ec-e20f-4c89-99a2-02e3455b9015",
   "metadata": {
    "tags": []
   },
   "outputs": [],
   "source": [
    "t = 'this', 'bird', 'is', 'a', 'late', 'parrot'"
   ]
  },
  {
   "cell_type": "code",
   "execution_count": 40,
   "id": "4e526917-4d74-4a2f-8f3b-ace75ff75945",
   "metadata": {},
   "outputs": [
    {
     "data": {
      "text/plain": [
       "['parrot', 'this', 'bird', 'late', 'is', 'a']"
      ]
     },
     "execution_count": 40,
     "metadata": {},
     "output_type": "execute_result"
    }
   ],
   "source": [
    "sorted(t, key=lambda s: len(s), reverse=True)"
   ]
  },
  {
   "cell_type": "markdown",
   "id": "2b483682-e60f-4daa-a76d-30d3bf55afb4",
   "metadata": {},
   "source": [
    "#### In-Place Sort"
   ]
  },
  {
   "cell_type": "markdown",
   "id": "6bffc041-aae4-4ecc-a67b-38c54b29a2a4",
   "metadata": {},
   "source": [
    "If the iterable is mutable, in-place sorting is possible. The `list` class has a `.sort()` instance method that does in-place sorting. **It won't return anything**.\n",
    "\n",
    "This method is slightly more efficient than the `sorted()` function because it doesn't have to make a copy of the iterable before sorting."
   ]
  },
  {
   "cell_type": "code",
   "execution_count": 4,
   "id": "dd6d4eaa-2ec2-4c0b-950f-7234df4bdab8",
   "metadata": {},
   "outputs": [],
   "source": [
    "l = ['this', 'bird', 'is', 'a', 'late', 'parrot']\n",
    "result = l.sort(key = lambda x: len(x))\n",
    "result"
   ]
  },
  {
   "cell_type": "markdown",
   "id": "18f6fd97-f755-4850-95d9-61fe0fc14de7",
   "metadata": {},
   "source": [
    "#### Natural Ordering for Custom Classes"
   ]
  },
  {
   "cell_type": "markdown",
   "id": "9ae8b404-1acc-47d1-a11f-b8c6bd690edf",
   "metadata": {},
   "source": [
    "I just want to quickly show you that in order to have a \"natural ordering\" for our custom classes, we just need to implement the `<` or `>` operators. (I discuss these operators in Part 1 of this course)"
   ]
  },
  {
   "cell_type": "markdown",
   "id": "b839cea0-3847-49ca-acc8-813ba59972ea",
   "metadata": {},
   "source": [
    "In fact, we can modify our class slightly so we can see that `sorted` is calling our `__lt__` method repeatedly to perform the sort:"
   ]
  },
  {
   "cell_type": "code",
   "execution_count": 8,
   "id": "9d79f1c3-8c6b-461c-9602-366952d2d82a",
   "metadata": {
    "tags": []
   },
   "outputs": [],
   "source": [
    "class MyClass:\n",
    "    def __init__(self, name, val):\n",
    "        self.name = name\n",
    "        self.val = val\n",
    "        \n",
    "    def __repr__(self):\n",
    "        return f'MyClass({self.name}, {self.val})'\n",
    "    \n",
    "    def __lt__(self, other):\n",
    "        print(f'called {self.name} < {other.name}')\n",
    "        return self.val < other.val"
   ]
  },
  {
   "cell_type": "code",
   "execution_count": 9,
   "id": "bae52fa1-d560-4f9c-9d25-13eb706423ad",
   "metadata": {
    "tags": []
   },
   "outputs": [],
   "source": [
    "c1 = MyClass('c1', 20)\n",
    "c2 = MyClass('c2', 10)\n",
    "c3 = MyClass('c3', 20)\n",
    "c4 = MyClass('c4', 10)"
   ]
  },
  {
   "cell_type": "code",
   "execution_count": 10,
   "id": "e01510a8-0355-4064-8748-e93efdbe5968",
   "metadata": {},
   "outputs": [
    {
     "name": "stdout",
     "output_type": "stream",
     "text": [
      "called c2 < c1\n",
      "called c3 < c2\n",
      "called c3 < c1\n",
      "called c4 < c1\n",
      "called c4 < c2\n"
     ]
    },
    {
     "data": {
      "text/plain": [
       "[MyClass(c2, 10), MyClass(c4, 10), MyClass(c1, 20), MyClass(c3, 20)]"
      ]
     },
     "execution_count": 10,
     "metadata": {},
     "output_type": "execute_result"
    }
   ],
   "source": [
    "sorted([c1, c2, c3, c4])"
   ]
  },
  {
   "cell_type": "markdown",
   "id": "b1b5470b-39c1-4893-9e09-06b1499dcfe0",
   "metadata": {},
   "source": [
    "Now we can sort those objects, without specifying a key, since that class has a natural ordering (`<` in this case). Moreover, notice that the sort is stable.\n",
    "\n",
    "But we can still sort by using a key. For example:"
   ]
  },
  {
   "cell_type": "code",
   "execution_count": 11,
   "id": "37eef43c-89d4-4ef9-ad1b-0ebd8be001c6",
   "metadata": {},
   "outputs": [
    {
     "data": {
      "text/plain": [
       "[MyClass(c1, 20), MyClass(c2, 10), MyClass(c3, 20), MyClass(c4, 10)]"
      ]
     },
     "execution_count": 11,
     "metadata": {},
     "output_type": "execute_result"
    }
   ],
   "source": [
    "l = [c2, c4, c1, c3]\n",
    "sorted(l, key=lambda c: c.name)"
   ]
  },
  {
   "cell_type": "markdown",
   "id": "3b00e73d-7675-409b-b277-1de90296a73f",
   "metadata": {},
   "source": [
    "If you wanted to implement all the other orderings you can just use the `@total_ordering` decorator: `from functools import total_ordering`"
   ]
  },
  {
   "cell_type": "markdown",
   "id": "e4185e14-22fe-4ec7-be1f-28f6bd8ab09c",
   "metadata": {},
   "source": [
    "# 12 - List Comprehensions"
   ]
  },
  {
   "cell_type": "markdown",
   "id": "0fe491ec-cd03-4d78-9068-1c6c31367d39",
   "metadata": {},
   "source": [
    "#### Lecture"
   ]
  },
  {
   "cell_type": "markdown",
   "id": "97e1073c-f03d-4136-8274-1d516b621364",
   "metadata": {},
   "source": [
    "See Part 1 for introduction on comprehensions if needed."
   ]
  },
  {
   "cell_type": "markdown",
   "id": "096e8e08-8e0f-4c78-a349-383602892c64",
   "metadata": {},
   "source": [
    "**Internal Mechanics of List Comprehensions**"
   ]
  },
  {
   "cell_type": "markdown",
   "id": "39d16b07-df28-4375-9cc3-ecea44101c34",
   "metadata": {},
   "source": [
    "Comprehensions have their own **local scope** - just like a function.\n",
    "\n",
    "Functions can be nested inside other functions, creating an inner and an outer scope. If the inner references a variable in the outer, that variable becomes a free variable and the inner function is known as a **closure** - so closures have free variables.\n",
    "\n",
    "We need to recognize that list comprehensions are essentially temporary functions that Python creates, executes and returns the resulting list from it.\n",
    "\n",
    "Let's break this down with an example:\n",
    "\n",
    "`sq = [item**2 for item in range(10)]`\n",
    "\n",
    "- The entire RHS *is* the list comprehension. \n",
    "- There are two stages: compilation and execution. \n",
    "- During **compilation**, Python creates a temporary function, `item` being a variable in the local scope, that'll be used to evaluate the comprehension. \n",
    "- Something like:\n",
    "\n",
    "```\n",
    "def temp():\n",
    "    new_list = []\n",
    "    for item in range(10):\n",
    "        new_list.append(item**2)\n",
    "       \n",
    "    return new_list\n",
    "```\n",
    "\n",
    "- When the original line is **executed**, python executes `temp()`.\n",
    "- Then, it stores the returned object (`new_list`) at some memory address and points `sq` on the LHS to it."
   ]
  },
  {
   "cell_type": "markdown",
   "id": "326f183a-61a5-4ca8-be14-f832f36b575a",
   "metadata": {},
   "source": [
    "#### Comprehension Scopes"
   ]
  },
  {
   "cell_type": "markdown",
   "id": "05f78c3c-22e9-45fb-a3ac-0ca42fc1cb9c",
   "metadata": {},
   "source": [
    "As mentioned `item` in the list comprehension is a local symbol of the temporary function. \n",
    "\n",
    "But the comprehension has access to **global** variables just like how normal functions will access the global scope if it can't find a variable in the local scope.\n",
    "\n",
    "But what about **nonlocal** variables? \n",
    "\n",
    "These are variables that are \"neither local nor global\". The nonlocal is a keyword in python that is used to declare any variable as not local but instead comes from the nearest enclosing scope that is not global. \n",
    "\n",
    "Consider the function:"
   ]
  },
  {
   "cell_type": "code",
   "execution_count": 13,
   "id": "2bcdb512-30ec-4ab4-a10a-9494775a2eb9",
   "metadata": {},
   "outputs": [],
   "source": [
    "def my_func(num):\n",
    "    sq = [item**2 for item in range(num)]"
   ]
  },
  {
   "cell_type": "markdown",
   "id": "8bf3e984-de1a-4549-954f-e9ff14635e78",
   "metadata": {},
   "source": [
    "Remember to think of the RHS as a function. It contains `num` which is a variable in the outer scope. We therefore have a comprehension function nested inside a regular function. Since the comprehension function is referencing `num`, a `nonlocal` symbol, it becomes a free variable - so we have a closure.\n",
    "\n",
    "**The RHS *is* a closure - a function nested in another function that has access to one or more free variables in an outer scope because it references those nonlocal symbols.**"
   ]
  },
  {
   "cell_type": "markdown",
   "id": "c0d85b6e-73a4-49e8-ab25-2f85618a13b8",
   "metadata": {},
   "source": [
    "#### Things to Watch Out For"
   ]
  },
  {
   "cell_type": "markdown",
   "id": "03b76fca-3a63-4a2e-942c-0db02d7ec1b9",
   "metadata": {},
   "source": [
    "**Example 1**"
   ]
  },
  {
   "cell_type": "markdown",
   "id": "815f6bcc-7016-40cb-aecf-3467fd7a0cb0",
   "metadata": {},
   "source": [
    "To drive the point home about comprehension scopes, consider the following below. We have a regular `for` loop containing the symbol `number`:"
   ]
  },
  {
   "cell_type": "code",
   "execution_count": 13,
   "id": "7c3420f1-e3c7-4f07-817f-83e6a373a777",
   "metadata": {},
   "outputs": [
    {
     "name": "stdout",
     "output_type": "stream",
     "text": [
      "4\n",
      "True\n"
     ]
    }
   ],
   "source": [
    "l=[]\n",
    "\n",
    "for number in range(5):\n",
    "    l.append(number**2)\n",
    "    \n",
    "print(number)\n",
    "print('number' in globals())"
   ]
  },
  {
   "cell_type": "markdown",
   "id": "c3128ff0-4d4c-48bb-bd1b-da26de50b274",
   "metadata": {},
   "source": [
    "So, Python automatically creates a symbol within the scope that it's residing in. But what if we create this loop in a comprehension? (First, delete `number` from `globals()`.)"
   ]
  },
  {
   "cell_type": "code",
   "execution_count": 14,
   "id": "4c88564e-262d-4174-9036-99cfd99f2c18",
   "metadata": {},
   "outputs": [
    {
     "name": "stdout",
     "output_type": "stream",
     "text": [
      "False\n"
     ]
    }
   ],
   "source": [
    "if 'number' in globals():\n",
    "    del number\n",
    "\n",
    "l = [number**2 for number in range(5)]\n",
    "\n",
    "print('number' in globals())"
   ]
  },
  {
   "cell_type": "markdown",
   "id": "aaec4abd-d206-44ae-ac22-ffac2fedd123",
   "metadata": {},
   "source": [
    "It's not in the `globals()` scope because it was created within scope of the temporary function that Python created for the comprehension.\n",
    "\n",
    "**But be careful!**\n",
    "\n",
    "In `[number**2 for number in range(5)]`, the `number` in `for number` is the **declaration** of the variable within the function scope. But, the `number` in `number**2` is a **reference**.\n",
    "\n",
    "First, note that, although the first mention of `number` comes first in the comprehension, it comes at the very end of the temporary function that Python creates - that's why it's considered a reference and NOT a declaration by Python.\n",
    "\n",
    "Secondly, from what we know about functions in Python, if a variable is referenced within a function, Python first looks for any declarations within the local scope of the function. If none are found, it zooms out to look in the global scope.\n",
    "\n",
    "So, take a look at the example below:"
   ]
  },
  {
   "cell_type": "code",
   "execution_count": 15,
   "id": "8e64b177-a5ef-4a00-a999-214248a58047",
   "metadata": {},
   "outputs": [
    {
     "data": {
      "text/plain": [
       "[0, 100, 200, 300, 400]"
      ]
     },
     "execution_count": 15,
     "metadata": {},
     "output_type": "execute_result"
    }
   ],
   "source": [
    "number = 100\n",
    "\n",
    "[number * i for i in range(5)] # number is in the first part of the statement, so it's a reference NOT a DECLARATION\n",
    "                               # i is AFTER the first part of the statement, it's a declaration."
   ]
  },
  {
   "cell_type": "markdown",
   "id": "844cf62c-4b71-473c-9fd7-2cfd300a49a9",
   "metadata": {},
   "source": [
    "- When Python created the temporary function and began with `for i in range(5):`, it declared `i` as a local variable. \n",
    "- Then, it got round to `number * i` but it couldn't find any declaration of `number` within its local (comprehension) scope, so it looked in globals and found `number = 100`."
   ]
  },
  {
   "cell_type": "markdown",
   "id": "373ebce3-9d38-401d-a16e-9625e2b82966",
   "metadata": {},
   "source": [
    "**Example 2**"
   ]
  },
  {
   "cell_type": "markdown",
   "id": "9a2c2787-9a75-4e54-a433-e682439e7e4d",
   "metadata": {},
   "source": [
    "Now let's look at an example we've seen before when we studied closures.\n",
    "\n",
    "Suppose we want to generate a list of functions that will calculate powers of their argument, i.e. we want to define a bunch of functions. Here's one approach:"
   ]
  },
  {
   "cell_type": "markdown",
   "id": "9f9ac9bc-813e-4451-88c7-ed69a94b1fee",
   "metadata": {},
   "source": [
    "We could certainly define a bunch of functions one by one:"
   ]
  },
  {
   "cell_type": "code",
   "execution_count": 45,
   "id": "ec0d343c-c045-4da6-8aba-181687eca1a2",
   "metadata": {
    "collapsed": true,
    "jupyter": {
     "outputs_hidden": true
    }
   },
   "outputs": [],
   "source": [
    "fn_0 = lambda x: x**0\n",
    "fn_1 = lambda x: x**1\n",
    "fn_2 = lambda x: x**2\n",
    "fn_3 = lambda x: x**3\n",
    "# etc"
   ]
  },
  {
   "cell_type": "markdown",
   "id": "ee47482a-d024-40f4-a611-0d6151e34097",
   "metadata": {},
   "source": [
    "But this would be very tedious if we had to do it more than just a few times.\n",
    "\n",
    "Instead, why don't we create those functions as lambdas and put them into a list where the index of the list will correspond to the power we are looking for.\n",
    "\n",
    "Something like this if we were doing it manually:"
   ]
  },
  {
   "cell_type": "code",
   "execution_count": 46,
   "id": "38d2e0d5-8350-4a63-944c-d263bacadeb0",
   "metadata": {
    "collapsed": true,
    "jupyter": {
     "outputs_hidden": true
    }
   },
   "outputs": [],
   "source": [
    "funcs = [lambda x: x**0, lambda x: x**1, lambda x: x**2, lambda x: x**3]"
   ]
  },
  {
   "cell_type": "markdown",
   "id": "247bdad2-9a13-4e58-a626-d1b576d2d7e8",
   "metadata": {},
   "source": [
    "Now we can call these functions this way:"
   ]
  },
  {
   "cell_type": "code",
   "execution_count": 47,
   "id": "454774a1-aa39-41fe-854c-bba0df1e78d4",
   "metadata": {},
   "outputs": [
    {
     "name": "stdout",
     "output_type": "stream",
     "text": [
      "1\n",
      "10\n",
      "100\n",
      "1000\n"
     ]
    }
   ],
   "source": [
    "print(funcs[0](10))\n",
    "print(funcs[1](10))\n",
    "print(funcs[2](10))\n",
    "print(funcs[3](10))"
   ]
  },
  {
   "cell_type": "markdown",
   "id": "ac45ba21-a0d3-4e92-a89f-1e3a2774d499",
   "metadata": {},
   "source": [
    "Now all we need to do is to create these functions using a loop - the traditional way first:"
   ]
  },
  {
   "cell_type": "markdown",
   "id": "2df461b8-0e0c-4dcb-ad63-dc202fc85ed2",
   "metadata": {},
   "source": [
    "First let's make sure `i` is not in our global symbol table:"
   ]
  },
  {
   "cell_type": "code",
   "execution_count": 17,
   "id": "28b47430-d68c-42e2-8fc3-19bbb29b08df",
   "metadata": {
    "tags": []
   },
   "outputs": [],
   "source": [
    "if 'i' in globals():\n",
    "    del i"
   ]
  },
  {
   "cell_type": "code",
   "execution_count": 18,
   "id": "f645daf2-a035-43f4-9194-3a9d27915781",
   "metadata": {
    "tags": []
   },
   "outputs": [],
   "source": [
    "funcs = []\n",
    "for i in range(6):\n",
    "    funcs.append(lambda x: x**i)"
   ]
  },
  {
   "cell_type": "markdown",
   "id": "ab092633-0c8b-452c-9785-47b05f0e40d2",
   "metadata": {},
   "source": [
    "And let's use them as before:"
   ]
  },
  {
   "cell_type": "code",
   "execution_count": 20,
   "id": "2310de34-8eb6-45e2-8897-934474ddcb5a",
   "metadata": {},
   "outputs": [
    {
     "name": "stdout",
     "output_type": "stream",
     "text": [
      "100000\n",
      "100000\n"
     ]
    },
    {
     "data": {
      "text/plain": [
       "[<function __main__.<lambda>(x)>,\n",
       " <function __main__.<lambda>(x)>,\n",
       " <function __main__.<lambda>(x)>,\n",
       " <function __main__.<lambda>(x)>,\n",
       " <function __main__.<lambda>(x)>,\n",
       " <function __main__.<lambda>(x)>]"
      ]
     },
     "execution_count": 20,
     "metadata": {},
     "output_type": "execute_result"
    }
   ],
   "source": [
    "print(funcs[0](10))\n",
    "print(funcs[1](10))\n",
    "\n",
    "funcs"
   ]
  },
  {
   "cell_type": "markdown",
   "id": "3fe18495-adf7-427a-9689-528ad3ba95f7",
   "metadata": {},
   "source": [
    "What happened?? It looks like every function is actually calculating `10**5`. To break it down:\n",
    "\n",
    "- `lambda x: x**i` is a function which references `i` that exists in an outer scope. Therefore, the lambda is a closure.\n",
    "- Inside `funcs`, each of those lambda's have a `x**i` but `i` is pointing to the global `i`.\n",
    "- So, for whichever lambda we fetch, when lambda wants to compute `x**i`, it goes through a pointer to the global `i`.\n",
    "- Since the `for` loop terminated, `i` ended as `5`. So any mention of `i` in any of those lambdas will point to whatever is the current value of `i`.\n",
    "\n",
    "Take a look at the equivalent breakdown:"
   ]
  },
  {
   "cell_type": "code",
   "execution_count": null,
   "id": "713d174e-7904-4a22-bfc2-1bc5e842b176",
   "metadata": {},
   "outputs": [],
   "source": [
    "i = 0\n",
    "def fn_0(x):\n",
    "    return x ** i\n",
    "\n",
    "i = 1\n",
    "def fn_0(x):\n",
    "    return x ** i\n",
    "\n",
    "i = 2\n",
    "def fn_0(x):\n",
    "    return x ** i"
   ]
  },
  {
   "cell_type": "markdown",
   "id": "d56fc45f-12b9-484c-81a7-1c641153fa09",
   "metadata": {},
   "source": [
    "What's the solution? Recall that if a function is defined with a default parameter, e.g. `def log(current_dt=datetime.now()`, that parameter is calculated during **compilation** of the function, not **execution**. So, if our `log` function is called on different days without a `current_dt` parameter provided, the same default value will be pulled every time.\n",
    "\n",
    "We can use this to our advantage in this scenario. Take a look:"
   ]
  },
  {
   "cell_type": "code",
   "execution_count": 2,
   "id": "aa6955a6-131d-4790-985c-1674db5f3683",
   "metadata": {},
   "outputs": [
    {
     "name": "stdout",
     "output_type": "stream",
     "text": [
      "1\n",
      "10\n",
      "100\n",
      "1000\n"
     ]
    }
   ],
   "source": [
    "funcs = [lambda x, p=i: x**p for i in range(4)]\n",
    "\n",
    "print(funcs[0](10))\n",
    "print(funcs[1](10))\n",
    "print(funcs[2](10))\n",
    "print(funcs[3](10))"
   ]
  },
  {
   "cell_type": "markdown",
   "id": "07064c31-2545-4f95-b7e7-0eb75a475bc0",
   "metadata": {},
   "source": [
    "It works because first the value of `i=0` is taken and during the creation of the first lambda (compilation), `p` gets assigned to `i`, so `p=0` is a default value to this particular lambda. If no default `p` value is provided, then Python pulls this value of `p=0`. It might be useful to think that a value for `p` gets hardcoded for each value of `i` in the loop. "
   ]
  },
  {
   "cell_type": "markdown",
   "id": "bcf75f2e-6426-420c-8594-270b8ee593e7",
   "metadata": {},
   "source": [
    "**Compilation**"
   ]
  },
  {
   "cell_type": "markdown",
   "id": "0525849c-35f4-4334-af09-a86c57d2a255",
   "metadata": {},
   "source": [
    "Let's show that Python is indeed creating a function by compiling a comprehension, and then disassembling the compiled code to see what's happened:"
   ]
  },
  {
   "cell_type": "code",
   "execution_count": 11,
   "id": "ee34d377-dc79-4812-8689-a38b8536fab8",
   "metadata": {
    "collapsed": true,
    "jupyter": {
     "outputs_hidden": true
    }
   },
   "outputs": [],
   "source": [
    "import dis"
   ]
  },
  {
   "cell_type": "code",
   "execution_count": 12,
   "id": "000292d6-5b79-4f1d-ac0f-02f5a6f514d2",
   "metadata": {
    "collapsed": true,
    "jupyter": {
     "outputs_hidden": true
    }
   },
   "outputs": [],
   "source": [
    "compiled_code = compile('[i**2 for i in (1, 2, 3)]', \n",
    "                        filename='', mode='eval')"
   ]
  },
  {
   "cell_type": "code",
   "execution_count": 13,
   "id": "e21b54ff-dc24-499f-9db9-3a2464106ffa",
   "metadata": {},
   "outputs": [
    {
     "name": "stdout",
     "output_type": "stream",
     "text": [
      "  1           0 LOAD_CONST               0 (<code object <listcomp> at 0x000001F77210ED20, file \"\", line 1>)\n",
      "              2 LOAD_CONST               1 ('<listcomp>')\n",
      "              4 MAKE_FUNCTION            0\n",
      "              6 LOAD_CONST               5 ((1, 2, 3))\n",
      "              8 GET_ITER\n",
      "             10 CALL_FUNCTION            1\n",
      "             12 RETURN_VALUE\n"
     ]
    }
   ],
   "source": [
    "dis.dis(compiled_code)"
   ]
  },
  {
   "cell_type": "markdown",
   "id": "76ff013b-a15a-47c3-a514-7e2a840c504f",
   "metadata": {},
   "source": [
    "As you can see, in step 4, Python created a function (`MAKE_FUNCTION`), called it (`CALL_FUNCTION`), and then returned the result (`RETURN_VALUE`) in the last step."
   ]
  },
  {
   "cell_type": "markdown",
   "id": "af29d328-691a-4dc1-b1bd-662b221dfc73",
   "metadata": {},
   "source": [
    "**Nested Comprehensions**\n",
    "\n",
    "Comprehensions can be nested within each other. And since they're functions, a nested comprehension can access variables in the outer comprehension which are nonlocal to inner comprehension. \n",
    "\n",
    "If this is the case, the inner/nested comprehension becomes a closure because it's a nested 'function' accessing a free variable. \n",
    "\n",
    "In the example below, `i` is a nonlocal variable to the nested comprehension because `i` is spotted in the outer comprehension/function. So, the nested comprehension is a function."
   ]
  },
  {
   "cell_type": "code",
   "execution_count": 14,
   "id": "767abac5-4646-4c50-932c-3e1fbbdb2393",
   "metadata": {},
   "outputs": [
    {
     "data": {
      "text/plain": [
       "[[0, 0, 0, 0, 0],\n",
       " [0, 1, 2, 3, 4],\n",
       " [0, 2, 4, 6, 8],\n",
       " [0, 3, 6, 9, 12],\n",
       " [0, 4, 8, 12, 16]]"
      ]
     },
     "execution_count": 14,
     "metadata": {},
     "output_type": "execute_result"
    }
   ],
   "source": [
    "[ [i * j for j in range(5)] for i in range(5)]"
   ]
  },
  {
   "cell_type": "markdown",
   "id": "e23b7c76-853e-434b-bfb9-0368a9ed76bf",
   "metadata": {},
   "source": [
    "**Nested Loops in Comprehensions**\n",
    "\n",
    "These are NOT nested comprehensions. Let's take a look at the regular way and compare it to having nested loops in a comprehension."
   ]
  },
  {
   "cell_type": "code",
   "execution_count": 18,
   "id": "56aac938-20bf-4f84-8b2b-b3eaa3ac54b8",
   "metadata": {},
   "outputs": [
    {
     "name": "stdout",
     "output_type": "stream",
     "text": [
      "[(0, 0, 0), (0, 0, 1), (0, 1, 0), (0, 1, 1), (1, 0, 0), (1, 0, 1), (1, 1, 0), (1, 1, 1)]\n"
     ]
    }
   ],
   "source": [
    "l = []\n",
    "\n",
    "for i in range(2):\n",
    "    for j in range(2):    \n",
    "        for k in range(2):    \n",
    "            l.append((i, j, k))\n",
    "            \n",
    "print(l)"
   ]
  },
  {
   "cell_type": "code",
   "execution_count": 20,
   "id": "1dbcfc06-3250-4a60-aa87-c612261a83e1",
   "metadata": {},
   "outputs": [
    {
     "name": "stdout",
     "output_type": "stream",
     "text": [
      "[(0, 0, 0), (0, 0, 1), (0, 1, 0), (0, 1, 1), (1, 0, 0), (1, 0, 1), (1, 1, 0), (1, 1, 1)]\n"
     ]
    }
   ],
   "source": [
    "l = [(i, j, k) for i in range(2) for j in range(2) for k in range(2)]\n",
    "\n",
    "print(l)"
   ]
  },
  {
   "cell_type": "markdown",
   "id": "ab0938dc-2c04-4d9a-9547-da8fd43faa5a",
   "metadata": {},
   "source": [
    "We can have `if` statements but be careful - the order of `for` and `if` matters. Make sure your `if` condition only references variables that are earlier on in the loop (excluding the first bit of the loop - `(i,j)` is the first bit of the loop below, but `i` and `j` are not declared here).\n",
    "\n",
    "```\n",
    "l = [(i, j) for i in range(2) for j in range(2) if i==j] # CORRECT\n",
    "l = [(i, j) for i in range(2) if i==j for j in range(2)] # WRONG, j not declared until 'for j...' but referenced earlier in 'i==j'\n",
    "```"
   ]
  },
  {
   "cell_type": "markdown",
   "id": "df983425-89d1-4999-bda5-abea5dc80d6b",
   "metadata": {},
   "source": [
    "Here's an example with two conditions:"
   ]
  },
  {
   "cell_type": "code",
   "execution_count": 23,
   "id": "0d036639-dfb5-4bd3-9e56-200a87073001",
   "metadata": {},
   "outputs": [
    {
     "data": {
      "text/plain": [
       "[(2, 3), (4, 3)]"
      ]
     },
     "execution_count": 23,
     "metadata": {},
     "output_type": "execute_result"
    }
   ],
   "source": [
    "[(i, j)\n",
    " for i in range(1,6) if i%2==0 \n",
    " for j in range(1,6) if j%3==0]"
   ]
  },
  {
   "cell_type": "markdown",
   "id": "6f47a16f-8446-4827-b858-ff7f5d5ebc2b",
   "metadata": {},
   "source": [
    "But note, we could put both `if` statements at the end because both `i` and `j` are defined by then:"
   ]
  },
  {
   "cell_type": "code",
   "execution_count": 24,
   "id": "b8178ae6-b9f9-43a6-aa9c-41a40b50b168",
   "metadata": {},
   "outputs": [
    {
     "data": {
      "text/plain": [
       "[(2, 3), (4, 3)]"
      ]
     },
     "execution_count": 24,
     "metadata": {},
     "output_type": "execute_result"
    }
   ],
   "source": [
    "[(i, j)\n",
    " for i in range(1,6) \n",
    " for j in range(1,6)\n",
    " if i%2==0\n",
    " if j%3==0]"
   ]
  },
  {
   "cell_type": "markdown",
   "id": "7a7fafc1-80d8-4778-9461-2b7c11f6af44",
   "metadata": {},
   "source": [
    "Here's another example. Note that there's a significant difference between enclosing and not enclosing the first expression in [ ]. \n",
    "\n",
    "If we want an output of `['ax', 'ay', 'az', 'bx', 'by', 'bz', 'cx', 'cy', 'cz']`, then we will only have **one** nested comprehension. As a result, the two variables are both local because they are both within the same [ ]."
   ]
  },
  {
   "cell_type": "code",
   "execution_count": 12,
   "id": "739e9ea9-710f-4a29-b69d-9067b5329048",
   "metadata": {},
   "outputs": [
    {
     "name": "stdout",
     "output_type": "stream",
     "text": [
      "[['ax', 'bx', 'cx'], ['ay', 'by', 'cy'], ['az', 'bz', 'cz']]\n",
      "['ax', 'ay', 'az', 'bx', 'by', 'bz', 'cx', 'cy', 'cz']\n"
     ]
    }
   ],
   "source": [
    "l1 = ['a', 'b', 'c']\n",
    "l2 = ['x', 'y', 'z']\n",
    "\n",
    "nested_comp = [[s1 + s2 for s1 in l1] for s2 in l2]\n",
    "nested_loop = [s1 + s2 for s1 in l1 for s2 in l2]\n",
    "\n",
    "print(nested_comp)\n",
    "print(nested_loop)"
   ]
  },
  {
   "cell_type": "markdown",
   "id": "885dbdc9-fd7a-4257-888c-59c07d68c12d",
   "metadata": {},
   "source": [
    "The easy way to interpret the nested loop expression is to recognise that the loops are in the same order as the traditional way, i.e.,\n",
    "\n",
    "```\n",
    "for s1 in l1:\n",
    "    for s2 in l2\n",
    "```"
   ]
  }
 ],
 "metadata": {
  "kernelspec": {
   "display_name": "Python 3 (ipykernel)",
   "language": "python",
   "name": "python3"
  },
  "language_info": {
   "codemirror_mode": {
    "name": "ipython",
    "version": 3
   },
   "file_extension": ".py",
   "mimetype": "text/x-python",
   "name": "python",
   "nbconvert_exporter": "python",
   "pygments_lexer": "ipython3",
   "version": "3.10.4"
  }
 },
 "nbformat": 4,
 "nbformat_minor": 5
}
