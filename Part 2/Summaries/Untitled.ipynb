{
 "cells": [
  {
   "cell_type": "markdown",
   "id": "697f2f7d-5b0a-4095-a2c7-2feea7284f96",
   "metadata": {
    "tags": [],
    "toc-hr-collapsed": true
   },
   "source": [
    "# 01 - Sequence Types"
   ]
  },
  {
   "cell_type": "markdown",
   "id": "c4e55376-583f-4045-af00-eba620c48358",
   "metadata": {},
   "source": [
    "Sequence types have the general concept of a first element, a second element, and so on. Basically an ordering of the sequence items using the natural numbers. In Python (and many other languages) the starting index is set to `0`, not `1`.\n",
    "\n",
    "So the first item has index `0`, the second item has index `1`, and so on."
   ]
  },
  {
   "cell_type": "markdown",
   "id": "45700ee9-8ca3-4a02-8566-261a3514c710",
   "metadata": {},
   "source": [
    "Python has built-in mutable and immutable sequence types."
   ]
  },
  {
   "cell_type": "markdown",
   "id": "6d55b3dc-1b59-46a3-9454-dbe1e5b62166",
   "metadata": {},
   "source": [
    "Strings, tuples, ranges and bytes are immutable - we can access but not modify the **content** of the **sequence**:"
   ]
  },
  {
   "cell_type": "code",
   "execution_count": 15,
   "id": "38ef0bc6-c818-4f91-9b63-e5b5bbd37d01",
   "metadata": {},
   "outputs": [
    {
     "ename": "TypeError",
     "evalue": "'tuple' object does not support item assignment",
     "output_type": "error",
     "traceback": [
      "\u001b[0;31m---------------------------------------------------------------------------\u001b[0m",
      "\u001b[0;31mTypeError\u001b[0m                                 Traceback (most recent call last)",
      "\u001b[0;32m/tmp/ipykernel_5300/1874863708.py\u001b[0m in \u001b[0;36m<module>\u001b[0;34m\u001b[0m\n\u001b[1;32m      1\u001b[0m \u001b[0mt\u001b[0m \u001b[0;34m=\u001b[0m \u001b[0;34m(\u001b[0m\u001b[0;36m1\u001b[0m\u001b[0;34m,\u001b[0m \u001b[0;36m2\u001b[0m\u001b[0;34m,\u001b[0m \u001b[0;36m3\u001b[0m\u001b[0;34m)\u001b[0m\u001b[0;34m\u001b[0m\u001b[0;34m\u001b[0m\u001b[0m\n\u001b[1;32m      2\u001b[0m \u001b[0;34m\u001b[0m\u001b[0m\n\u001b[0;32m----> 3\u001b[0;31m \u001b[0mt\u001b[0m\u001b[0;34m[\u001b[0m\u001b[0;36m0\u001b[0m\u001b[0;34m]\u001b[0m \u001b[0;34m=\u001b[0m \u001b[0;36m100\u001b[0m\u001b[0;34m\u001b[0m\u001b[0;34m\u001b[0m\u001b[0m\n\u001b[0m",
      "\u001b[0;31mTypeError\u001b[0m: 'tuple' object does not support item assignment"
     ]
    }
   ],
   "source": [
    "t = (1, 2, 3)\n",
    "\n",
    "t[0] = 100"
   ]
  },
  {
   "cell_type": "markdown",
   "id": "3251850b-c46a-4596-aad8-2af700c41c46",
   "metadata": {},
   "source": [
    "But of course, if the sequence contains mutable objects, then although we cannot modify the sequence of elements (cannot replace, delete or insert elements), we certainly **can** change the contents of the mutable objects:"
   ]
  },
  {
   "cell_type": "code",
   "execution_count": 17,
   "id": "66bf30c2-d3f8-4763-b13a-08801aab49c4",
   "metadata": {
    "tags": []
   },
   "outputs": [],
   "source": [
    "t = ( [1, 2], 3, 4)"
   ]
  },
  {
   "cell_type": "markdown",
   "id": "9bebac6c-98fb-4c1e-944b-d074fa5239e3",
   "metadata": {},
   "source": [
    "`t` is immutable, but its first element is a mutable object:"
   ]
  },
  {
   "cell_type": "code",
   "execution_count": 18,
   "id": "86ae3dfa-7469-4613-9e1e-2f80597e901e",
   "metadata": {
    "tags": []
   },
   "outputs": [
    {
     "data": {
      "text/plain": [
       "([100, 2], 3, 4)"
      ]
     },
     "execution_count": 18,
     "metadata": {},
     "output_type": "execute_result"
    }
   ],
   "source": [
    "t[0][0] = 100\n",
    "\n",
    "t"
   ]
  },
  {
   "cell_type": "markdown",
   "id": "78424aa7-2cab-4ff8-9f5a-6841b355d1ce",
   "metadata": {},
   "source": [
    "Sequences can be **Homogeneous** or **heterogeneous** where elements in a homogeneous sequences are all of the same type. For example, in a string, all characters have the same type. Lists can be heterogeneous where different elements have different types. Generally homogeneous sequences are usually more efficient (storage-wise)."
   ]
  },
  {
   "cell_type": "markdown",
   "id": "0c740324-4fda-4283-9366-48e700c0f641",
   "metadata": {},
   "source": [
    "#### Iterables"
   ]
  },
  {
   "cell_type": "markdown",
   "id": "69ebe4e6-e798-4614-80ce-98b60b7cc014",
   "metadata": {},
   "source": [
    "An **iterable** is just something that can be iterated over, for example using a `for` loop. It is a **container** type of object which means it contains other objects, and it becomes an iterable if we can list out the elements one by one. \n",
    "\n",
    "But iterables are more general; they are **not necessarily** a sequence type. For example a set `s = {1, 2, 3}` is an iterable because we can type `for e in s` but it's not a sequence because we can't type `s[0]`."
   ]
  },
  {
   "cell_type": "markdown",
   "id": "75774f1c-84f5-4bf7-a450-174374071bf8",
   "metadata": {},
   "source": [
    "So, we can iterate over both the tuple and the set. Iterating the tuple preserved the **order** of the elements in the tuple, but not for the set. Sets do not have an ordering of elements - they are iterable, but not sequences."
   ]
  },
  {
   "cell_type": "markdown",
   "id": "64f0a26b-2e77-4fad-a66e-26dbfeb8ed9a",
   "metadata": {},
   "source": [
    "Most sequence types support the `in` and `not in` operations. Ranges do too, but not quite as efficiently as lists, tuples, strings, etc."
   ]
  },
  {
   "cell_type": "code",
   "execution_count": 11,
   "id": "b0969eda-acf9-4d5f-b99c-064ec1e7eb15",
   "metadata": {},
   "outputs": [
    {
     "data": {
      "text/plain": [
       "True"
      ]
     },
     "execution_count": 11,
     "metadata": {},
     "output_type": "execute_result"
    }
   ],
   "source": [
    "'a' in ['a', 'b', 100]"
   ]
  },
  {
   "cell_type": "code",
   "execution_count": 12,
   "id": "1e41aac6-92d9-492b-b43c-4eef444ae242",
   "metadata": {},
   "outputs": [
    {
     "data": {
      "text/plain": [
       "True"
      ]
     },
     "execution_count": 12,
     "metadata": {},
     "output_type": "execute_result"
    }
   ],
   "source": [
    "100 in range(200)"
   ]
  },
  {
   "cell_type": "markdown",
   "id": "759564b9-0d7a-484f-a5be-6251ad650be1",
   "metadata": {},
   "source": [
    "#### Min, Max and Length"
   ]
  },
  {
   "cell_type": "markdown",
   "id": "ce5dd898-1d04-478a-8a66-682fc4d5d31b",
   "metadata": {},
   "source": [
    "Sequences also generally support the `len` method to obtain the number of items in the collection. Some iterables may also support that method."
   ]
  },
  {
   "cell_type": "code",
   "execution_count": 13,
   "id": "cdc9727d-930f-4b3f-b915-875bcef1c1f3",
   "metadata": {},
   "outputs": [
    {
     "data": {
      "text/plain": [
       "(6, 3, 3, 2)"
      ]
     },
     "execution_count": 13,
     "metadata": {},
     "output_type": "execute_result"
    }
   ],
   "source": [
    "len('python'), len([1, 2, 3]), len({10, 20, 30}), len({'a': 1, 'b': 2})"
   ]
  },
  {
   "cell_type": "markdown",
   "id": "571cd2c0-f817-4ce3-8608-28440348ecd0",
   "metadata": {},
   "source": [
    "Sequences (and even some iterables) may support `max` and `min` as long as the data types in the collection can be **ordered** in some sense (`<` or `>`)."
   ]
  },
  {
   "cell_type": "code",
   "execution_count": 14,
   "id": "3287c7ea-75db-40f6-944d-7ba6d6fc0254",
   "metadata": {},
   "outputs": [
    {
     "data": {
      "text/plain": [
       "(100, 300)"
      ]
     },
     "execution_count": 14,
     "metadata": {},
     "output_type": "execute_result"
    }
   ],
   "source": [
    "a = [100, 300, 200]\n",
    "min(a), max(a)"
   ]
  },
  {
   "cell_type": "code",
   "execution_count": 15,
   "id": "c23b19e8-cef9-485a-a38a-0d23df48a622",
   "metadata": {},
   "outputs": [
    {
     "data": {
      "text/plain": [
       "('h', 'y')"
      ]
     },
     "execution_count": 15,
     "metadata": {},
     "output_type": "execute_result"
    }
   ],
   "source": [
    "s = 'python'\n",
    "min(s), max(s)"
   ]
  },
  {
   "cell_type": "code",
   "execution_count": 16,
   "id": "23e115da-a61e-44ba-8645-ea022547b496",
   "metadata": {},
   "outputs": [
    {
     "data": {
      "text/plain": [
       "('h', 'y')"
      ]
     },
     "execution_count": 16,
     "metadata": {},
     "output_type": "execute_result"
    }
   ],
   "source": [
    "s = {'p', 'y', 't', 'h', 'o', 'n'}\n",
    "min(s), max(s)"
   ]
  },
  {
   "cell_type": "markdown",
   "id": "6fe03da0-1ddf-47d1-8af6-eaa706b2c786",
   "metadata": {},
   "source": [
    "But if the elements do not have an ordering defined:"
   ]
  },
  {
   "cell_type": "code",
   "execution_count": 17,
   "id": "bbfddd89-87d8-4d59-ab34-6cf55b12ebe0",
   "metadata": {},
   "outputs": [
    {
     "ename": "TypeError",
     "evalue": "'<' not supported between instances of 'complex' and 'complex'",
     "output_type": "error",
     "traceback": [
      "\u001b[1;31m---------------------------------------------------------------------------\u001b[0m",
      "\u001b[1;31mTypeError\u001b[0m                                 Traceback (most recent call last)",
      "\u001b[1;32m<ipython-input-17-b0cd79e53377>\u001b[0m in \u001b[0;36m<module>\u001b[1;34m()\u001b[0m\n\u001b[0;32m      1\u001b[0m \u001b[0ma\u001b[0m \u001b[1;33m=\u001b[0m \u001b[1;33m[\u001b[0m\u001b[1;36m1\u001b[0m\u001b[1;33m+\u001b[0m\u001b[1;36m1j\u001b[0m\u001b[1;33m,\u001b[0m \u001b[1;36m2\u001b[0m\u001b[1;33m+\u001b[0m\u001b[1;36m2j\u001b[0m\u001b[1;33m,\u001b[0m \u001b[1;36m3\u001b[0m\u001b[1;33m+\u001b[0m\u001b[1;36m3j\u001b[0m\u001b[1;33m]\u001b[0m\u001b[1;33m\u001b[0m\u001b[0m\n\u001b[1;32m----> 2\u001b[1;33m \u001b[0mmin\u001b[0m\u001b[1;33m(\u001b[0m\u001b[0ma\u001b[0m\u001b[1;33m)\u001b[0m\u001b[1;33m\u001b[0m\u001b[0m\n\u001b[0m",
      "\u001b[1;31mTypeError\u001b[0m: '<' not supported between instances of 'complex' and 'complex'"
     ]
    }
   ],
   "source": [
    "a = [1+1j, 2+2j, 3+3j]\n",
    "min(a)"
   ]
  },
  {
   "cell_type": "markdown",
   "id": "188fbdda-b486-44c2-9148-ac7eee23e295",
   "metadata": {},
   "source": [
    "`min` and `max` will work for heterogeneous types as long as the elements are pairwise comparable (`<` or `>` is defined). \n",
    "\n",
    "For example:"
   ]
  },
  {
   "cell_type": "code",
   "execution_count": 18,
   "id": "b1957681-cf7c-47a0-b398-7a708c935135",
   "metadata": {
    "collapsed": true,
    "jupyter": {
     "outputs_hidden": true
    }
   },
   "outputs": [],
   "source": [
    "from decimal import Decimal"
   ]
  },
  {
   "cell_type": "code",
   "execution_count": 19,
   "id": "79822b2a-8e2b-412a-9a18-bbb1c5b35ce6",
   "metadata": {
    "collapsed": true,
    "jupyter": {
     "outputs_hidden": true
    }
   },
   "outputs": [],
   "source": [
    "t = 10, 20.5, Decimal('30.5')"
   ]
  },
  {
   "cell_type": "code",
   "execution_count": 20,
   "id": "fb8bf075-7407-4624-ae9d-9fc8648395e7",
   "metadata": {},
   "outputs": [
    {
     "data": {
      "text/plain": [
       "(10, Decimal('30.5'))"
      ]
     },
     "execution_count": 20,
     "metadata": {},
     "output_type": "execute_result"
    }
   ],
   "source": [
    "min(t), max(t)"
   ]
  },
  {
   "cell_type": "code",
   "execution_count": 21,
   "id": "ea019d45-3ef3-4db5-8337-f84cd3346c3c",
   "metadata": {},
   "outputs": [
    {
     "ename": "TypeError",
     "evalue": "'<' not supported between instances of 'int' and 'str'",
     "output_type": "error",
     "traceback": [
      "\u001b[1;31m---------------------------------------------------------------------------\u001b[0m",
      "\u001b[1;31mTypeError\u001b[0m                                 Traceback (most recent call last)",
      "\u001b[1;32m<ipython-input-21-983eac063887>\u001b[0m in \u001b[0;36m<module>\u001b[1;34m()\u001b[0m\n\u001b[0;32m      1\u001b[0m \u001b[0mt\u001b[0m \u001b[1;33m=\u001b[0m \u001b[1;33m[\u001b[0m\u001b[1;34m'a'\u001b[0m\u001b[1;33m,\u001b[0m \u001b[1;36m10\u001b[0m\u001b[1;33m,\u001b[0m \u001b[1;36m1000\u001b[0m\u001b[1;33m]\u001b[0m\u001b[1;33m\u001b[0m\u001b[0m\n\u001b[1;32m----> 2\u001b[1;33m \u001b[0mmin\u001b[0m\u001b[1;33m(\u001b[0m\u001b[0mt\u001b[0m\u001b[1;33m)\u001b[0m\u001b[1;33m\u001b[0m\u001b[0m\n\u001b[0m",
      "\u001b[1;31mTypeError\u001b[0m: '<' not supported between instances of 'int' and 'str'"
     ]
    }
   ],
   "source": [
    "t = ['a', 10, 1000]\n",
    "min(t)"
   ]
  },
  {
   "cell_type": "markdown",
   "id": "866f08b4-2923-4373-8729-9a695ee739d3",
   "metadata": {},
   "source": [
    "Even `range` objects support `min` and `max`:"
   ]
  },
  {
   "cell_type": "code",
   "execution_count": 22,
   "id": "c5d407fa-1981-4e4a-9f3b-8d81f5c8963c",
   "metadata": {},
   "outputs": [
    {
     "data": {
      "text/plain": [
       "(10, 199)"
      ]
     },
     "execution_count": 22,
     "metadata": {},
     "output_type": "execute_result"
    }
   ],
   "source": [
    "r = range(10, 200)\n",
    "min(r), max(r)"
   ]
  },
  {
   "cell_type": "markdown",
   "id": "6de45932-7108-4e13-9328-b9ad427c1cbc",
   "metadata": {},
   "source": [
    "#### Concatenation"
   ]
  },
  {
   "cell_type": "markdown",
   "id": "f3178bb9-c566-4ebd-aa6f-016ffdf3135c",
   "metadata": {},
   "source": [
    "We can **concatenate** sequences using the `+` operator:"
   ]
  },
  {
   "cell_type": "code",
   "execution_count": 25,
   "id": "dcbb591e-bd83-482b-adde-99c2ddc95252",
   "metadata": {},
   "outputs": [
    {
     "data": {
      "text/plain": [
       "[1, 2, 3, 4, 5, 6]"
      ]
     },
     "execution_count": 25,
     "metadata": {},
     "output_type": "execute_result"
    }
   ],
   "source": [
    "[1, 2, 3] + [4, 5, 6]"
   ]
  },
  {
   "cell_type": "code",
   "execution_count": 26,
   "id": "b07ff9d1-f626-4d4a-a5da-b5d1537af21c",
   "metadata": {},
   "outputs": [
    {
     "data": {
      "text/plain": [
       "(1, 2, 3, 4, 5, 6)"
      ]
     },
     "execution_count": 26,
     "metadata": {},
     "output_type": "execute_result"
    }
   ],
   "source": [
    "(1, 2, 3) + (4, 5, 6)"
   ]
  },
  {
   "cell_type": "markdown",
   "id": "b000d0bd-b82a-4af0-94a6-2829dca126e8",
   "metadata": {},
   "source": [
    "What happens if we want try concatenation on a mutable. Below `[0,0]` is a mutable."
   ]
  },
  {
   "cell_type": "code",
   "execution_count": 27,
   "id": "45ae869e-7a89-4739-87bf-bb106a4420e0",
   "metadata": {},
   "outputs": [
    {
     "data": {
      "text/plain": [
       "[[0, 0], [0, 0]]"
      ]
     },
     "execution_count": 27,
     "metadata": {},
     "output_type": "execute_result"
    }
   ],
   "source": [
    "x = [ [0, 0] ]\n",
    "\n",
    "a = x + x\n",
    "a"
   ]
  },
  {
   "cell_type": "markdown",
   "id": "082999b2-2593-4e26-ab10-618152e65d3a",
   "metadata": {},
   "source": [
    "It looks like it worked well, but let's look at the memory addresses of all three `[0, 0]`s mentioned."
   ]
  },
  {
   "cell_type": "code",
   "execution_count": 28,
   "id": "e047064c-f873-4c95-a8bc-1be3a34433e5",
   "metadata": {},
   "outputs": [
    {
     "data": {
      "text/plain": [
       "True"
      ]
     },
     "execution_count": 28,
     "metadata": {},
     "output_type": "execute_result"
    }
   ],
   "source": [
    "id(x[0]) == id(a[0]) == id(a[1])"
   ]
  },
  {
   "cell_type": "markdown",
   "id": "6a7266e7-eb61-47f1-abbb-b1af0d088cca",
   "metadata": {},
   "source": [
    "**All** of them have the exact same memory addresses. So when python did `x + x`, it literally took the object in `x` and duplicated it. They all point to the same object, and that object now has multiple pointers to it. So what happens if we modify this single object?"
   ]
  },
  {
   "cell_type": "code",
   "execution_count": 29,
   "id": "002793d7-61ae-4539-baf6-2f672c8b3fa6",
   "metadata": {},
   "outputs": [
    {
     "data": {
      "text/plain": [
       "[[100, 0], [100, 0]]"
      ]
     },
     "execution_count": 29,
     "metadata": {},
     "output_type": "execute_result"
    }
   ],
   "source": [
    "a[0][0] = 100\n",
    "\n",
    "a"
   ]
  },
  {
   "cell_type": "markdown",
   "id": "2e5a7582-82d0-4e0e-acf4-ee0fc1181e28",
   "metadata": {},
   "source": [
    "Since the first and second objects are identical, they both are modified. Even `x` is modified."
   ]
  },
  {
   "cell_type": "code",
   "execution_count": 30,
   "id": "3e1ec647-952c-41fb-9ea7-47940ca18f64",
   "metadata": {},
   "outputs": [
    {
     "data": {
      "text/plain": [
       "[[100, 0]]"
      ]
     },
     "execution_count": 30,
     "metadata": {},
     "output_type": "execute_result"
    }
   ],
   "source": [
    "x"
   ]
  },
  {
   "cell_type": "markdown",
   "id": "554e7adb-80ad-43f6-bfad-e5b82e755f57",
   "metadata": {},
   "source": [
    "This doesn't happen with strings or integers because they are both immutable objects."
   ]
  },
  {
   "cell_type": "code",
   "execution_count": 31,
   "id": "fc5591b5-8366-4a30-b3d1-27caaffe4b0c",
   "metadata": {},
   "outputs": [
    {
     "name": "stdout",
     "output_type": "stream",
     "text": [
      "[1, 2, 1, 2]\n",
      "pythonpython\n"
     ]
    }
   ],
   "source": [
    "x = [1, 2]\n",
    "a = x + x\n",
    "\n",
    "y = 'python'\n",
    "b = y + y\n",
    "\n",
    "print(a)\n",
    "print(b)"
   ]
  },
  {
   "cell_type": "markdown",
   "id": "ad68d625-bfc1-44fb-a219-9e9cabc97bd3",
   "metadata": {},
   "source": [
    "Note that the type of the concatenated result is the same as the type of the sequences being concatenated, so concatenating sequences of varying types will not work:"
   ]
  },
  {
   "cell_type": "code",
   "execution_count": 25,
   "id": "ff0a1d7a-6129-4cdb-bf8e-9992a864c2fc",
   "metadata": {},
   "outputs": [
    {
     "ename": "TypeError",
     "evalue": "can only concatenate tuple (not \"list\") to tuple",
     "output_type": "error",
     "traceback": [
      "\u001b[1;31m---------------------------------------------------------------------------\u001b[0m",
      "\u001b[1;31mTypeError\u001b[0m                                 Traceback (most recent call last)",
      "\u001b[1;32m<ipython-input-25-67a9e2ed8695>\u001b[0m in \u001b[0;36m<module>\u001b[1;34m()\u001b[0m\n\u001b[1;32m----> 1\u001b[1;33m \u001b[1;33m(\u001b[0m\u001b[1;36m1\u001b[0m\u001b[1;33m,\u001b[0m \u001b[1;36m2\u001b[0m\u001b[1;33m,\u001b[0m \u001b[1;36m3\u001b[0m\u001b[1;33m)\u001b[0m \u001b[1;33m+\u001b[0m \u001b[1;33m[\u001b[0m\u001b[1;36m4\u001b[0m\u001b[1;33m,\u001b[0m \u001b[1;36m5\u001b[0m\u001b[1;33m,\u001b[0m \u001b[1;36m6\u001b[0m\u001b[1;33m]\u001b[0m\u001b[1;33m\u001b[0m\u001b[0m\n\u001b[0m",
      "\u001b[1;31mTypeError\u001b[0m: can only concatenate tuple (not \"list\") to tuple"
     ]
    }
   ],
   "source": [
    "(1, 2, 3) + [4, 5, 6]"
   ]
  },
  {
   "cell_type": "code",
   "execution_count": 26,
   "id": "a7348bb3-f6e3-4f20-b3d9-c8195f922e0c",
   "metadata": {},
   "outputs": [
    {
     "ename": "TypeError",
     "evalue": "must be str, not list",
     "output_type": "error",
     "traceback": [
      "\u001b[1;31m---------------------------------------------------------------------------\u001b[0m",
      "\u001b[1;31mTypeError\u001b[0m                                 Traceback (most recent call last)",
      "\u001b[1;32m<ipython-input-26-8cbdd441adc1>\u001b[0m in \u001b[0;36m<module>\u001b[1;34m()\u001b[0m\n\u001b[1;32m----> 1\u001b[1;33m \u001b[1;34m'abc'\u001b[0m \u001b[1;33m+\u001b[0m \u001b[1;33m[\u001b[0m\u001b[1;34m'd'\u001b[0m\u001b[1;33m,\u001b[0m \u001b[1;34m'e'\u001b[0m\u001b[1;33m,\u001b[0m \u001b[1;34m'f'\u001b[0m\u001b[1;33m]\u001b[0m\u001b[1;33m\u001b[0m\u001b[0m\n\u001b[0m",
      "\u001b[1;31mTypeError\u001b[0m: must be str, not list"
     ]
    }
   ],
   "source": [
    "'abc' + ['d', 'e', 'f']"
   ]
  },
  {
   "cell_type": "markdown",
   "id": "d997d740-0454-489f-b421-422dc18df755",
   "metadata": {},
   "source": [
    "Note: if you really want to concatenate varying types you'll have to transform them to a common type first:"
   ]
  },
  {
   "cell_type": "code",
   "execution_count": 27,
   "id": "8ff548a7-00f2-4239-8d12-750f3f20aadb",
   "metadata": {},
   "outputs": [
    {
     "data": {
      "text/plain": [
       "(1, 2, 3, 4, 5, 6)"
      ]
     },
     "execution_count": 27,
     "metadata": {},
     "output_type": "execute_result"
    }
   ],
   "source": [
    "(1, 2, 3) + tuple([4, 5, 6])"
   ]
  },
  {
   "cell_type": "code",
   "execution_count": 28,
   "id": "78c5cc12-15d0-48cc-b890-9f22c0046431",
   "metadata": {},
   "outputs": [
    {
     "data": {
      "text/plain": [
       "('a', 'b', 'c', 'd', 'e', 'f')"
      ]
     },
     "execution_count": 28,
     "metadata": {},
     "output_type": "execute_result"
    }
   ],
   "source": [
    "tuple('abc') + ('d', 'e', 'f')"
   ]
  },
  {
   "cell_type": "code",
   "execution_count": 29,
   "id": "e393aa71-f093-43f0-98ed-de033efbd685",
   "metadata": {},
   "outputs": [
    {
     "data": {
      "text/plain": [
       "'abcdef'"
      ]
     },
     "execution_count": 29,
     "metadata": {},
     "output_type": "execute_result"
    }
   ],
   "source": [
    "''.join(tuple('abc') + ('d', 'e', 'f'))"
   ]
  },
  {
   "cell_type": "markdown",
   "id": "9b3e7671-1111-47fe-a618-f0e61dffc899",
   "metadata": {},
   "source": [
    "#### Repetition"
   ]
  },
  {
   "cell_type": "markdown",
   "id": "662104db-9003-4bec-8e40-1c9d25565a70",
   "metadata": {},
   "source": [
    "Most sequence types also support **repetition**, which is essentially concatenating the same sequence an integer number of times:"
   ]
  },
  {
   "cell_type": "code",
   "execution_count": 30,
   "id": "5696b4b6-4f2c-49b5-b29d-a0fadd86822f",
   "metadata": {},
   "outputs": [
    {
     "data": {
      "text/plain": [
       "'abcabcabcabcabc'"
      ]
     },
     "execution_count": 30,
     "metadata": {},
     "output_type": "execute_result"
    }
   ],
   "source": [
    "'abc' * 5"
   ]
  },
  {
   "cell_type": "code",
   "execution_count": 31,
   "id": "cb05a724-6fc8-41a6-b5d1-4a7f7810791c",
   "metadata": {},
   "outputs": [
    {
     "data": {
      "text/plain": [
       "[1, 2, 3, 1, 2, 3, 1, 2, 3, 1, 2, 3, 1, 2, 3]"
      ]
     },
     "execution_count": 31,
     "metadata": {},
     "output_type": "execute_result"
    }
   ],
   "source": [
    "[1, 2, 3] * 5"
   ]
  },
  {
   "cell_type": "markdown",
   "id": "4fa99653-718b-4d0a-a524-06ca08e92c3a",
   "metadata": {},
   "source": [
    "We'll come back to some caveats of concatenation and repetition in a bit."
   ]
  },
  {
   "cell_type": "markdown",
   "id": "d96b7622-c588-4a07-a791-995ad1fb81e6",
   "metadata": {},
   "source": [
    "We see the same issue of duplicate objects with repetition as we saw with concatenation"
   ]
  },
  {
   "cell_type": "code",
   "execution_count": 32,
   "id": "3243d155-1b05-4c36-9ef5-f86eeaa7cca7",
   "metadata": {},
   "outputs": [
    {
     "name": "stdout",
     "output_type": "stream",
     "text": [
      "[[0, 0], [0, 0]]\n"
     ]
    },
    {
     "data": {
      "text/plain": [
       "True"
      ]
     },
     "execution_count": 32,
     "metadata": {},
     "output_type": "execute_result"
    }
   ],
   "source": [
    "a = [ [0, 0] ] * 2 \n",
    "print(a)\n",
    "id(a[0]) == id(a[1])"
   ]
  },
  {
   "cell_type": "code",
   "execution_count": 33,
   "id": "e897c865-8793-468d-901c-1e49ea96739b",
   "metadata": {},
   "outputs": [
    {
     "name": "stdout",
     "output_type": "stream",
     "text": [
      "[[100, 0], [100, 0]]\n"
     ]
    }
   ],
   "source": [
    "a[0][0] = 100 \n",
    "print(a)"
   ]
  },
  {
   "cell_type": "markdown",
   "id": "552f2747-028a-4f63-8e98-874e91d0787e",
   "metadata": {},
   "source": [
    "But, again, we're safe if we are repeating an immutable object such as a string."
   ]
  },
  {
   "cell_type": "code",
   "execution_count": 36,
   "id": "525670c3-2797-48cc-85b3-41049309e742",
   "metadata": {},
   "outputs": [
    {
     "name": "stdout",
     "output_type": "stream",
     "text": [
      "['python', 'python']\n"
     ]
    },
    {
     "ename": "TypeError",
     "evalue": "'str' object does not support item assignment",
     "output_type": "error",
     "traceback": [
      "\u001b[0;31m---------------------------------------------------------------------------\u001b[0m",
      "\u001b[0;31mTypeError\u001b[0m                                 Traceback (most recent call last)",
      "\u001b[0;32m/tmp/ipykernel_5300/3588088288.py\u001b[0m in \u001b[0;36m<module>\u001b[0;34m\u001b[0m\n\u001b[1;32m      2\u001b[0m \u001b[0mprint\u001b[0m\u001b[0;34m(\u001b[0m\u001b[0ma\u001b[0m\u001b[0;34m)\u001b[0m\u001b[0;34m\u001b[0m\u001b[0;34m\u001b[0m\u001b[0m\n\u001b[1;32m      3\u001b[0m \u001b[0;34m\u001b[0m\u001b[0m\n\u001b[0;32m----> 4\u001b[0;31m \u001b[0ma\u001b[0m\u001b[0;34m[\u001b[0m\u001b[0;36m0\u001b[0m\u001b[0;34m]\u001b[0m\u001b[0;34m[\u001b[0m\u001b[0;36m0\u001b[0m\u001b[0;34m]\u001b[0m \u001b[0;34m=\u001b[0m \u001b[0;34m'P'\u001b[0m\u001b[0;34m\u001b[0m\u001b[0;34m\u001b[0m\u001b[0m\n\u001b[0m\u001b[1;32m      5\u001b[0m \u001b[0mprint\u001b[0m\u001b[0;34m(\u001b[0m\u001b[0ma\u001b[0m\u001b[0;34m)\u001b[0m\u001b[0;34m\u001b[0m\u001b[0;34m\u001b[0m\u001b[0m\n",
      "\u001b[0;31mTypeError\u001b[0m: 'str' object does not support item assignment"
     ]
    }
   ],
   "source": [
    "a = ['python'] * 2\n",
    "print(a)\n",
    "\n",
    "a[0][0] = 'P'\n",
    "print(a)"
   ]
  },
  {
   "cell_type": "markdown",
   "id": "7fa6b4b7-1530-4381-82e5-60d2619e9b61",
   "metadata": {},
   "source": [
    "So the key takeaway is to be careful using mutable elements inside your sequence."
   ]
  },
  {
   "cell_type": "markdown",
   "id": "8a1f98f0-76e1-4179-85de-1c99793bd941",
   "metadata": {},
   "source": [
    "If you really want these repeated objects to be different objects, you'll have to copy them somehow. A simple list comprehensions would work well here:"
   ]
  },
  {
   "cell_type": "code",
   "execution_count": 10,
   "id": "65407ea8-5449-4837-b689-520e73cb12d0",
   "metadata": {
    "tags": []
   },
   "outputs": [],
   "source": [
    "x = [ [0, 0] ]\n",
    "m = [e.copy() for e in x*3]"
   ]
  },
  {
   "cell_type": "code",
   "execution_count": 11,
   "id": "99860b62-15f0-4c76-baaf-aa83793635e8",
   "metadata": {},
   "outputs": [
    {
     "data": {
      "text/plain": [
       "[[0, 0], [0, 0], [0, 0]]"
      ]
     },
     "execution_count": 11,
     "metadata": {},
     "output_type": "execute_result"
    }
   ],
   "source": [
    "m"
   ]
  },
  {
   "cell_type": "code",
   "execution_count": 12,
   "id": "0c8e22e1-5c52-4e0d-8ae9-4888fe4fec76",
   "metadata": {
    "tags": []
   },
   "outputs": [],
   "source": [
    "m[0][0] = 100"
   ]
  },
  {
   "cell_type": "code",
   "execution_count": 13,
   "id": "30bfaa20-faa7-4026-b87d-60e31b3f5492",
   "metadata": {},
   "outputs": [
    {
     "data": {
      "text/plain": [
       "[[100, 0], [0, 0], [0, 0]]"
      ]
     },
     "execution_count": 13,
     "metadata": {},
     "output_type": "execute_result"
    }
   ],
   "source": [
    "m"
   ]
  },
  {
   "cell_type": "markdown",
   "id": "1fb913b4-17dc-456a-8878-58c0615be11d",
   "metadata": {},
   "source": [
    "The wrong way to do it would be: (this is pretty much the same as doing `x = [ [0, 0] ] * 3`."
   ]
  },
  {
   "cell_type": "code",
   "execution_count": 4,
   "id": "889e6cbd-e2ac-4d60-b2c9-a7f16a6307ec",
   "metadata": {},
   "outputs": [
    {
     "data": {
      "text/plain": [
       "[[0, 0], [0, 0], [0, 0]]"
      ]
     },
     "execution_count": 4,
     "metadata": {},
     "output_type": "execute_result"
    }
   ],
   "source": [
    "x = [ [0, 0] ]\n",
    "m = [e for e in x*3]\n",
    "m"
   ]
  },
  {
   "cell_type": "code",
   "execution_count": 5,
   "id": "829ba594-ac35-4e14-b76e-dd6081e0036a",
   "metadata": {},
   "outputs": [
    {
     "data": {
      "text/plain": [
       "[[100, 0], [100, 0], [100, 0]]"
      ]
     },
     "execution_count": 5,
     "metadata": {},
     "output_type": "execute_result"
    }
   ],
   "source": [
    "m[0][0] = 100\n",
    "m"
   ]
  },
  {
   "cell_type": "markdown",
   "id": "6471ef37-80be-4c10-b540-5638cc7f685c",
   "metadata": {},
   "source": [
    "#### Finding things in Sequences"
   ]
  },
  {
   "cell_type": "markdown",
   "id": "020fa8de-ffcc-4db1-b722-e1e8759a8494",
   "metadata": {},
   "source": [
    "We can find the index of the occurrence of an element in a sequence.\n",
    "\n",
    "We have 1 required argument and two optional arguments.\n",
    "\n",
    "`s.index(x, i, j)`: This will return the index of the first occurrence of `x` in `s` at or after index `i` but before index `j`. These final two indices can be left out. It will also only return the first match."
   ]
  },
  {
   "cell_type": "code",
   "execution_count": 32,
   "id": "a39b4235-cd13-488f-a498-b9366f4bb52d",
   "metadata": {
    "tags": []
   },
   "outputs": [],
   "source": [
    "s = \"gnu's not unix\""
   ]
  },
  {
   "cell_type": "code",
   "execution_count": 33,
   "id": "903c6599-e551-4665-bb41-14ef5d8ad6bc",
   "metadata": {},
   "outputs": [
    {
     "data": {
      "text/plain": [
       "1"
      ]
     },
     "execution_count": 33,
     "metadata": {},
     "output_type": "execute_result"
    }
   ],
   "source": [
    "s.index('n')"
   ]
  },
  {
   "cell_type": "code",
   "execution_count": 34,
   "id": "80ba7ffb-060f-44cd-9a3c-46f83ca52af4",
   "metadata": {},
   "outputs": [
    {
     "data": {
      "text/plain": [
       "(1, 6, 11)"
      ]
     },
     "execution_count": 34,
     "metadata": {},
     "output_type": "execute_result"
    }
   ],
   "source": [
    "s.index('n', 1), s.index('n', 2), s.index('n', 8)"
   ]
  },
  {
   "cell_type": "markdown",
   "id": "632db85f-7f89-4fa8-b563-9fd53f20b4a6",
   "metadata": {},
   "source": [
    "An exception is raised of the element is not found, so you'll want to catch it if you don't want your app to crash:"
   ]
  },
  {
   "cell_type": "code",
   "execution_count": 35,
   "id": "f660af68-5f84-4d89-9e17-7a8957ef15ba",
   "metadata": {},
   "outputs": [
    {
     "ename": "ValueError",
     "evalue": "substring not found",
     "output_type": "error",
     "traceback": [
      "\u001b[1;31m---------------------------------------------------------------------------\u001b[0m",
      "\u001b[1;31mValueError\u001b[0m                                Traceback (most recent call last)",
      "\u001b[1;32m<ipython-input-35-d038ca109973>\u001b[0m in \u001b[0;36m<module>\u001b[1;34m()\u001b[0m\n\u001b[1;32m----> 1\u001b[1;33m \u001b[0ms\u001b[0m\u001b[1;33m.\u001b[0m\u001b[0mindex\u001b[0m\u001b[1;33m(\u001b[0m\u001b[1;34m'n'\u001b[0m\u001b[1;33m,\u001b[0m \u001b[1;36m13\u001b[0m\u001b[1;33m)\u001b[0m\u001b[1;33m\u001b[0m\u001b[0m\n\u001b[0m",
      "\u001b[1;31mValueError\u001b[0m: substring not found"
     ]
    }
   ],
   "source": [
    "s.index('n', 13)"
   ]
  },
  {
   "cell_type": "code",
   "execution_count": 36,
   "id": "45efa658-059f-4e6e-bd55-f1ff2b90f389",
   "metadata": {},
   "outputs": [
    {
     "name": "stdout",
     "output_type": "stream",
     "text": [
      "not found\n"
     ]
    }
   ],
   "source": [
    "try:\n",
    "    idx = s.index('n', 13)\n",
    "except ValueError:\n",
    "    print('not found')"
   ]
  },
  {
   "cell_type": "markdown",
   "id": "1f689c97-6938-476a-aa35-2dad1ecf9009",
   "metadata": {},
   "source": [
    "Note that these methods of finding objects in sequences do not assume that the objects in the sequence are ordered in any way. These are basically searches that iterate over the sequence until they find (or not) the requested element.\n",
    "\n",
    "If you have a sorted sequence, then other search techniques are available - such as binary searches. I'll cover some of these topics in the extras section of this course."
   ]
  },
  {
   "cell_type": "markdown",
   "id": "2939cf85-4a75-44e9-a485-4779b606d37c",
   "metadata": {},
   "source": [
    "#### Slicing"
   ]
  },
  {
   "cell_type": "markdown",
   "id": "e5e1753a-715f-4fdb-91fb-d6028d4ebcbf",
   "metadata": {},
   "source": [
    "We'll come back to slicing in a later lecture, but sequence types generally support slicing, even ranges (as of Python 3.2). Just like concatenation, slices will return the same type as the sequence being sliced:"
   ]
  },
  {
   "cell_type": "code",
   "execution_count": 37,
   "id": "f4af6b91-1c0f-4525-80f9-eb7760f1b449",
   "metadata": {
    "collapsed": true,
    "jupyter": {
     "outputs_hidden": true
    }
   },
   "outputs": [],
   "source": [
    "s = 'python'\n",
    "l = [1, 2, 3, 4, 5, 6, 7, 8, 9, 10]"
   ]
  },
  {
   "cell_type": "markdown",
   "id": "421e446d-0d8a-4666-86f4-6f962f0658b2",
   "metadata": {},
   "source": [
    "It's ok to extend ranges past the bounds of the sequence:"
   ]
  },
  {
   "cell_type": "code",
   "execution_count": 40,
   "id": "ed3bc1f2-5810-45c5-a1dc-d6dd35c4c8e8",
   "metadata": {},
   "outputs": [
    {
     "data": {
      "text/plain": [
       "'on'"
      ]
     },
     "execution_count": 40,
     "metadata": {},
     "output_type": "execute_result"
    }
   ],
   "source": [
    "s[4:1000]"
   ]
  },
  {
   "cell_type": "markdown",
   "id": "f92a2c25-b551-4187-bf11-975ed7b81498",
   "metadata": {},
   "source": [
    "We can even have extended slicing, which provides a start, stop and a step:"
   ]
  },
  {
   "cell_type": "code",
   "execution_count": 44,
   "id": "62144117-db8b-4c43-8dc1-7be8838f04c9",
   "metadata": {},
   "outputs": [
    {
     "data": {
      "text/plain": [
       "('python', 'pto')"
      ]
     },
     "execution_count": 44,
     "metadata": {},
     "output_type": "execute_result"
    }
   ],
   "source": [
    "s, s[::2]"
   ]
  },
  {
   "cell_type": "markdown",
   "id": "be26b464-ae65-409a-8a3f-a8dd3804a266",
   "metadata": {},
   "source": [
    "Technically we can also use negative values in slices, including extended slices (more on that later):"
   ]
  },
  {
   "cell_type": "code",
   "execution_count": 45,
   "id": "8f385b76-51cd-4910-ab20-9ffb8576d5de",
   "metadata": {},
   "outputs": [
    {
     "data": {
      "text/plain": [
       "('python', 'ho', 'nohtyp')"
      ]
     },
     "execution_count": 45,
     "metadata": {},
     "output_type": "execute_result"
    }
   ],
   "source": [
    "s, s[-3:-1], s[::-1]"
   ]
  },
  {
   "cell_type": "markdown",
   "id": "b6c066ac-d58a-4db6-b84a-ce1431bb47f4",
   "metadata": {},
   "source": [
    "If we try to unpack a full list of elements to another variable using the `[:]` notation, that new variable will take on a new memory address."
   ]
  },
  {
   "cell_type": "code",
   "execution_count": 9,
   "id": "92d40447-87ef-4479-b9c6-fb0a772e8b1a",
   "metadata": {},
   "outputs": [
    {
     "data": {
      "text/plain": [
       "False"
      ]
     },
     "execution_count": 9,
     "metadata": {},
     "output_type": "execute_result"
    }
   ],
   "source": [
    "l = [1, 2, 3]\n",
    "l2 = l[:]\n",
    "\n",
    "l is l2"
   ]
  },
  {
   "cell_type": "markdown",
   "id": "288b3de1-3f12-402f-a2fe-f72aac66eeb1",
   "metadata": {},
   "source": [
    "Range objects are more restrictive. They **don't** support concatenation or repetition and `min`, `max`, `in`, `not in` are not as efficient. Since ranges are sequences, we can slice them, returning back another range object."
   ]
  },
  {
   "cell_type": "code",
   "execution_count": 46,
   "id": "505357c1-2e0c-4619-b3e8-53d5c3528446",
   "metadata": {
    "tags": []
   },
   "outputs": [],
   "source": [
    "r = range(11)  # numbers from 0 to 10 (inclusive)"
   ]
  },
  {
   "cell_type": "code",
   "execution_count": 47,
   "id": "3a2bf1be-85a7-4fbb-b2d2-21359f6a17ca",
   "metadata": {},
   "outputs": [
    {
     "name": "stdout",
     "output_type": "stream",
     "text": [
      "range(0, 11)\n",
      "[0, 1, 2, 3, 4, 5, 6, 7, 8, 9, 10]\n"
     ]
    }
   ],
   "source": [
    "print(r)\n",
    "print(list(r))"
   ]
  },
  {
   "cell_type": "code",
   "execution_count": 48,
   "id": "cea8b40f-997f-4053-a469-2f08cee6bf43",
   "metadata": {},
   "outputs": [
    {
     "name": "stdout",
     "output_type": "stream",
     "text": [
      "range(0, 5)\n"
     ]
    }
   ],
   "source": [
    "print(r[:5])"
   ]
  },
  {
   "cell_type": "code",
   "execution_count": 49,
   "id": "b7267a94-d7b2-4f69-b771-60269cf76a5d",
   "metadata": {},
   "outputs": [
    {
     "name": "stdout",
     "output_type": "stream",
     "text": [
      "[0, 1, 2, 3, 4]\n"
     ]
    }
   ],
   "source": [
    "print(list(r[:5]))"
   ]
  },
  {
   "cell_type": "markdown",
   "id": "81a46e2f-f1c1-4826-9cbe-1decb7ed682d",
   "metadata": {},
   "source": [
    "As you can see, slicing a range returns a range object as well, as expected."
   ]
  },
  {
   "cell_type": "markdown",
   "id": "2b073065-5fab-42c4-ad7e-56ccecbc3967",
   "metadata": {},
   "source": [
    "#### Hashing"
   ]
  },
  {
   "cell_type": "markdown",
   "id": "226342a2-bbe5-4ec6-a14a-dedf7f7b6989",
   "metadata": {},
   "source": [
    "Immutable sequences generally support a `hash` method that we'll discuss in detail in the section on mapping types. But immutable sequences are not hashable if they contain mutable types. There's good reasons why we don't want to hash mutable types which we'll see later on. "
   ]
  },
  {
   "cell_type": "code",
   "execution_count": 50,
   "id": "9c74b80e-0161-4574-b46a-2e3c44f978da",
   "metadata": {},
   "outputs": [
    {
     "data": {
      "text/plain": [
       "2528502973977326415"
      ]
     },
     "execution_count": 50,
     "metadata": {},
     "output_type": "execute_result"
    }
   ],
   "source": [
    "l = (1, 2, 3)\n",
    "hash(l)"
   ]
  },
  {
   "cell_type": "code",
   "execution_count": 51,
   "id": "4c731666-4c18-4653-be0e-40be3e22c95c",
   "metadata": {},
   "outputs": [
    {
     "data": {
      "text/plain": [
       "-1892188276802162953"
      ]
     },
     "execution_count": 51,
     "metadata": {},
     "output_type": "execute_result"
    }
   ],
   "source": [
    "s = '123'\n",
    "hash(s)"
   ]
  },
  {
   "cell_type": "code",
   "execution_count": 52,
   "id": "4fd925ef-36c8-42f4-b4c6-0e0b4d4ca6ea",
   "metadata": {},
   "outputs": [
    {
     "data": {
      "text/plain": [
       "-6299899980521991026"
      ]
     },
     "execution_count": 52,
     "metadata": {},
     "output_type": "execute_result"
    }
   ],
   "source": [
    "r = range(10)\n",
    "hash(r)"
   ]
  },
  {
   "cell_type": "markdown",
   "id": "8ec8d9b3-756f-4975-ad5e-20e3fc33c675",
   "metadata": {},
   "source": [
    "But mutable sequences (and mutable types in general) do not:"
   ]
  },
  {
   "cell_type": "code",
   "execution_count": 53,
   "id": "72b8ef29-9d53-4138-a147-d86f857dd4f7",
   "metadata": {
    "collapsed": true,
    "jupyter": {
     "outputs_hidden": true
    }
   },
   "outputs": [],
   "source": [
    "l = [1, 2, 3]"
   ]
  },
  {
   "cell_type": "code",
   "execution_count": 54,
   "id": "165feddb-b3a3-4f33-80a1-5c463eb7fd27",
   "metadata": {},
   "outputs": [
    {
     "ename": "TypeError",
     "evalue": "unhashable type: 'list'",
     "output_type": "error",
     "traceback": [
      "\u001b[1;31m---------------------------------------------------------------------------\u001b[0m",
      "\u001b[1;31mTypeError\u001b[0m                                 Traceback (most recent call last)",
      "\u001b[1;32m<ipython-input-54-22dd9c98a095>\u001b[0m in \u001b[0;36m<module>\u001b[1;34m()\u001b[0m\n\u001b[1;32m----> 1\u001b[1;33m \u001b[0mhash\u001b[0m\u001b[1;33m(\u001b[0m\u001b[0ml\u001b[0m\u001b[1;33m)\u001b[0m\u001b[1;33m\u001b[0m\u001b[0m\n\u001b[0m",
      "\u001b[1;31mTypeError\u001b[0m: unhashable type: 'list'"
     ]
    }
   ],
   "source": [
    "hash(l)"
   ]
  },
  {
   "cell_type": "markdown",
   "id": "1b65817c-c79c-4499-9890-f6c5eb71d681",
   "metadata": {},
   "source": [
    "Note also that a hashable sequence, is no longer hashable if one (or more) of it's elements are not hashable:"
   ]
  },
  {
   "cell_type": "code",
   "execution_count": 55,
   "id": "263fd47c-6f38-442d-b8b5-80860c4d72e4",
   "metadata": {},
   "outputs": [
    {
     "ename": "TypeError",
     "evalue": "unhashable type: 'list'",
     "output_type": "error",
     "traceback": [
      "\u001b[1;31m---------------------------------------------------------------------------\u001b[0m",
      "\u001b[1;31mTypeError\u001b[0m                                 Traceback (most recent call last)",
      "\u001b[1;32m<ipython-input-55-30cac1c4a226>\u001b[0m in \u001b[0;36m<module>\u001b[1;34m()\u001b[0m\n\u001b[0;32m      1\u001b[0m \u001b[0mt\u001b[0m \u001b[1;33m=\u001b[0m \u001b[1;33m(\u001b[0m\u001b[1;36m1\u001b[0m\u001b[1;33m,\u001b[0m \u001b[1;36m2\u001b[0m\u001b[1;33m,\u001b[0m \u001b[1;33m[\u001b[0m\u001b[1;36m10\u001b[0m\u001b[1;33m,\u001b[0m \u001b[1;36m20\u001b[0m\u001b[1;33m]\u001b[0m\u001b[1;33m)\u001b[0m\u001b[1;33m\u001b[0m\u001b[0m\n\u001b[1;32m----> 2\u001b[1;33m \u001b[0mhash\u001b[0m\u001b[1;33m(\u001b[0m\u001b[0mt\u001b[0m\u001b[1;33m)\u001b[0m\u001b[1;33m\u001b[0m\u001b[0m\n\u001b[0m",
      "\u001b[1;31mTypeError\u001b[0m: unhashable type: 'list'"
     ]
    }
   ],
   "source": [
    "t = (1, 2, [10, 20])\n",
    "hash(t)"
   ]
  },
  {
   "cell_type": "markdown",
   "id": "daf91918-2074-44da-80c6-fbc53c893a9f",
   "metadata": {},
   "source": [
    "But this would work:"
   ]
  },
  {
   "cell_type": "code",
   "execution_count": 56,
   "id": "bb8dd5d7-77a2-4707-a8eb-817b4070631d",
   "metadata": {},
   "outputs": [
    {
     "data": {
      "text/plain": [
       "-8790163410081325536"
      ]
     },
     "execution_count": 56,
     "metadata": {},
     "output_type": "execute_result"
    }
   ],
   "source": [
    "t = ('python', (1, 2, 3))\n",
    "hash(t)"
   ]
  },
  {
   "cell_type": "markdown",
   "id": "770e4527-090c-4694-98cf-7be8a74d3426",
   "metadata": {},
   "source": [
    "In general, immutable types are likely hashable, while mutable types are not. So numbers, strings, tuples, etc are hashable, but lists and sets are not:"
   ]
  },
  {
   "cell_type": "code",
   "execution_count": 57,
   "id": "b8b83889-1736-4012-9eb6-f792815fd34b",
   "metadata": {},
   "outputs": [
    {
     "data": {
      "text/plain": [
       "1152921504606846986"
      ]
     },
     "execution_count": 57,
     "metadata": {},
     "output_type": "execute_result"
    }
   ],
   "source": [
    "from decimal import Decimal\n",
    "d = Decimal(10.5)\n",
    "hash(d)"
   ]
  },
  {
   "cell_type": "markdown",
   "id": "184836a8-f7cd-4b8b-91f1-e4c49189680c",
   "metadata": {},
   "source": [
    "Sets are not hashable:"
   ]
  },
  {
   "cell_type": "code",
   "execution_count": 58,
   "id": "90c4e013-9dc9-4da0-a03f-a0d0b9fa7f23",
   "metadata": {},
   "outputs": [
    {
     "ename": "TypeError",
     "evalue": "unhashable type: 'set'",
     "output_type": "error",
     "traceback": [
      "\u001b[1;31m---------------------------------------------------------------------------\u001b[0m",
      "\u001b[1;31mTypeError\u001b[0m                                 Traceback (most recent call last)",
      "\u001b[1;32m<ipython-input-58-2216931a6bc4>\u001b[0m in \u001b[0;36m<module>\u001b[1;34m()\u001b[0m\n\u001b[0;32m      1\u001b[0m \u001b[0ms\u001b[0m \u001b[1;33m=\u001b[0m \u001b[1;33m{\u001b[0m\u001b[1;36m1\u001b[0m\u001b[1;33m,\u001b[0m \u001b[1;36m2\u001b[0m\u001b[1;33m,\u001b[0m \u001b[1;36m3\u001b[0m\u001b[1;33m}\u001b[0m\u001b[1;33m\u001b[0m\u001b[0m\n\u001b[1;32m----> 2\u001b[1;33m \u001b[0mhash\u001b[0m\u001b[1;33m(\u001b[0m\u001b[0ms\u001b[0m\u001b[1;33m)\u001b[0m\u001b[1;33m\u001b[0m\u001b[0m\n\u001b[0m",
      "\u001b[1;31mTypeError\u001b[0m: unhashable type: 'set'"
     ]
    }
   ],
   "source": [
    "s = {1, 2, 3}\n",
    "hash(s)"
   ]
  },
  {
   "cell_type": "markdown",
   "id": "b7fffccd-aef5-4289-ba4e-0555cab60e57",
   "metadata": {},
   "source": [
    "But frozensets, an immutable variant of the set, are:"
   ]
  },
  {
   "cell_type": "code",
   "execution_count": 59,
   "id": "13d61b2b-354c-44b6-a2d8-cb663e3c1fd8",
   "metadata": {
    "collapsed": true,
    "jupyter": {
     "outputs_hidden": true
    }
   },
   "outputs": [],
   "source": [
    "s = frozenset({1, 2, 3})"
   ]
  },
  {
   "cell_type": "code",
   "execution_count": 60,
   "id": "d738010f-2cac-420a-81b6-bd9e3fd81571",
   "metadata": {},
   "outputs": [
    {
     "data": {
      "text/plain": [
       "-7699079583225461316"
      ]
     },
     "execution_count": 60,
     "metadata": {},
     "output_type": "execute_result"
    }
   ],
   "source": [
    "hash(s)"
   ]
  },
  {
   "cell_type": "markdown",
   "id": "b986bcf7-ce51-4402-8f7e-14e27fedb662",
   "metadata": {
    "tags": [],
    "toc-hr-collapsed": true
   },
   "source": [
    "# 02 - Mutable Sequence Types"
   ]
  },
  {
   "cell_type": "markdown",
   "id": "314db38d-86d3-411a-a9c9-8c896be100ab",
   "metadata": {
    "tags": []
   },
   "source": [
    "#### Lecture"
   ]
  },
  {
   "cell_type": "markdown",
   "id": "0b63cba2-3317-4199-ae9c-72df472de225",
   "metadata": {},
   "source": [
    "If we create a list and then concatenate to it via `+`, we are **not** mutating the original object. Instead, a new object is created and the elements from the old object are added along with the concatenated values.\n",
    "\n",
    "So, in the example below, the `names` label just moves over to the new object.\n",
    "\n",
    "**Concatenation does not mutate objects; it just creates new ones.**"
   ]
  },
  {
   "attachments": {},
   "cell_type": "markdown",
   "id": "2407da48-b316-44bb-8d57-85747db3cb93",
   "metadata": {},
   "source": [
    "![2.1.png](s2-images/2.1.png)"
   ]
  },
  {
   "cell_type": "markdown",
   "id": "c8c6e6be-ecb9-4fbb-a8da-62287fcf72ca",
   "metadata": {},
   "source": [
    "So how do we mutate an object?\n",
    "\n",
    "We need to use the correct method, such as `append`, or using slicing `[]`."
   ]
  },
  {
   "cell_type": "code",
   "execution_count": 22,
   "id": "f9e36710-aa0c-4b35-9488-d6eda91c665c",
   "metadata": {},
   "outputs": [],
   "source": [
    "names = ['Eric', 'John']\n",
    "names.append('Michael')"
   ]
  },
  {
   "cell_type": "markdown",
   "id": "c5d2da07-b9b9-430c-8331-5dad36ab7311",
   "metadata": {},
   "source": [
    "This will add 'Michael' to our `names` object without creating a new object in memory."
   ]
  },
  {
   "cell_type": "code",
   "execution_count": 23,
   "id": "7cb02f8f-25d2-4eaf-9810-3806dc0fd210",
   "metadata": {},
   "outputs": [
    {
     "name": "stdout",
     "output_type": "stream",
     "text": [
      "['Eric', 'John', 'Michael']\n",
      "['Eric', 'John', 'Michaelson']\n"
     ]
    }
   ],
   "source": [
    "print(names)\n",
    "names[2] = 'Michaelson' \n",
    "print(names)"
   ]
  },
  {
   "cell_type": "markdown",
   "id": "91ff2c28-1fbb-4833-aef0-1833292eaf9d",
   "metadata": {},
   "source": [
    "Or.."
   ]
  },
  {
   "cell_type": "code",
   "execution_count": 24,
   "id": "d625f516-4ead-485e-9845-fda01c1b4f79",
   "metadata": {},
   "outputs": [
    {
     "name": "stdout",
     "output_type": "stream",
     "text": [
      "['Eric', 'John', 'Michaelson']\n",
      "['Eric', 'Mark', 'Harry', 'Brian']\n"
     ]
    }
   ],
   "source": [
    "print(names)\n",
    "more_names = ['Mark', 'Harry', 'Brian']\n",
    "names[1:3] = more_names\n",
    "print(names)"
   ]
  },
  {
   "cell_type": "markdown",
   "id": "e40d0654-d555-47d0-96fa-5582ac59cad9",
   "metadata": {},
   "source": [
    "Take a look at the following:"
   ]
  },
  {
   "cell_type": "code",
   "execution_count": 56,
   "id": "6307fc51-53a2-468d-ac41-702973e3f2ed",
   "metadata": {},
   "outputs": [
    {
     "name": "stdout",
     "output_type": "stream",
     "text": [
      "new_names=['a', 'b', 'c', 'd', 'e']\n",
      "new_names=['a', 'A', 'B', 'C', 'D', 'E', 'd', 'e']\n"
     ]
    }
   ],
   "source": [
    "new_names = ['a', 'b', 'c', 'd', 'e']\n",
    "print(f'{new_names=}')\n",
    "\n",
    "more_new = ['A', 'B', 'C', 'D', 'E']\n",
    "new_names[1:3] = more_new\n",
    "\n",
    "print(f'{new_names=}')"
   ]
  },
  {
   "cell_type": "markdown",
   "id": "2df3c61e-e424-4eac-956c-b6740a45157c",
   "metadata": {},
   "source": [
    "Notice that in the first case 'Michaelson' was overwritten, but in the second case, the original letters 'd' and 'e' weren't. "
   ]
  },
  {
   "cell_type": "markdown",
   "id": "d65fdcdb-50fe-4325-bb9b-101b9f8717b7",
   "metadata": {},
   "source": [
    "Deleting using `del s[i]`,`del s[i:j]` or `s.clear()` (removes all items from `s`) will also mutate the object.\n",
    "\n",
    "Here are some other methods that mutate an object:\n",
    "\n",
    "- `del s[i:j]`: removes an entire slice from `s`.\n",
    "- `s.clear()`: removes all items from `s`.\n",
    "- `s.append(x)`: appends `x` to the **end** of `s`.\n",
    "- `s.insert(i, x)`: inserts one element `x` at the index `i`.\n",
    "- `s.extend(iterable)`: appends an entire iterable (list of elements) to `s`.\n",
    "- `s.pop(i)`: removes **and** returns element at index `i`. If no argument is specified, then the last element gets popped.\n",
    "- `s.remove(x)`: removes the first occurrence of a specific object `x` in `s`.\n",
    "- `s.reverse()`: reverses all elements of `s` **in-place** so no more memory is needed.\n",
    "- `s.copy()`: copies all elements of `s` into a **new** sequence (with new memory address) and then returns it. This is a **shallow copy**.\n",
    "\n",
    "and more..\n",
    "\n",
    "All these methods are supported by the 'list' sequence type but not all sequences will necessarily support them. When we make our own sequences later, we can choose."
   ]
  },
  {
   "cell_type": "markdown",
   "id": "e3a89dd5-72e0-4366-85b6-f740c9050bf9",
   "metadata": {},
   "source": [
    "#### Replacing Elements"
   ]
  },
  {
   "cell_type": "markdown",
   "id": "c62c08bf-9aed-40fa-b182-df8be7597b17",
   "metadata": {},
   "source": [
    "Suppose you have the following setup:"
   ]
  },
  {
   "cell_type": "code",
   "execution_count": 6,
   "id": "ecd2938d-4cae-436b-afee-a3ac3961fd92",
   "metadata": {},
   "outputs": [
    {
     "name": "stdout",
     "output_type": "stream",
     "text": [
      "[] ['Spades', 'Hearts', 'Diamonds', 'Clubs']\n"
     ]
    }
   ],
   "source": [
    "suits = ['Spades', 'Hearts', 'Diamonds', 'Clubs']\n",
    "alias = suits\n",
    "suits = []\n",
    "print(suits, alias)"
   ]
  },
  {
   "cell_type": "markdown",
   "id": "88ab4590-d0e5-4c15-943e-ed1b45cdc0e1",
   "metadata": {},
   "source": [
    "This is because `suits = []` created a new empty list object and pointed `suits` towards it.\n",
    "\n",
    "But using clear:"
   ]
  },
  {
   "cell_type": "code",
   "execution_count": 7,
   "id": "6cf4b187-64f2-45ab-be4b-31ebf82f48eb",
   "metadata": {},
   "outputs": [
    {
     "name": "stdout",
     "output_type": "stream",
     "text": [
      "[] []\n"
     ]
    }
   ],
   "source": [
    "suits = ['Spades', 'Hearts', 'Diamonds', 'Clubs']\n",
    "alias = suits\n",
    "suits.clear()\n",
    "print(suits, alias)"
   ]
  },
  {
   "cell_type": "markdown",
   "id": "5cd33de7-052f-434d-bc25-5c18421c71e3",
   "metadata": {},
   "source": [
    "Big difference! This was because these methods **mutate the object**, not the label to the object."
   ]
  },
  {
   "cell_type": "markdown",
   "id": "a2798631-3ed7-46bd-84ff-c507ea308058",
   "metadata": {},
   "source": [
    "#### Extending a Sequence"
   ]
  },
  {
   "cell_type": "markdown",
   "id": "1bc8edf4-0564-4c89-b232-eec70439f38e",
   "metadata": {},
   "source": [
    "If we want to add more than one element at a time, we can extend a sequence with the contents of any iterable (not just sequences):"
   ]
  },
  {
   "cell_type": "code",
   "execution_count": 11,
   "id": "21ff3047-8fbc-4b65-894e-1f1471498f18",
   "metadata": {},
   "outputs": [
    {
     "name": "stdout",
     "output_type": "stream",
     "text": [
      "1979932844488\n",
      "1979932844488 [1, 2, 3, 4, 5, 'c', 'b', 'a']\n"
     ]
    }
   ],
   "source": [
    "l = [1, 2, 3, 4, 5]\n",
    "print(id(l))\n",
    "l.extend({'a', 'b', 'c'})\n",
    "print(id(l), l)"
   ]
  },
  {
   "cell_type": "markdown",
   "id": "da810a91-0d7f-413f-bf38-224924be69e6",
   "metadata": {},
   "source": [
    "Of course, since we extended using a set, there was not gurantee of positional ordering."
   ]
  },
  {
   "cell_type": "markdown",
   "id": "4e552a0d-5143-4c47-84b8-8d982c84ba9e",
   "metadata": {},
   "source": [
    "If we extend with another sequence, then positional ordering is retained:"
   ]
  },
  {
   "cell_type": "code",
   "execution_count": 12,
   "id": "fa3c2648-1bce-4b7b-9d2a-35c4deae0f8d",
   "metadata": {},
   "outputs": [
    {
     "name": "stdout",
     "output_type": "stream",
     "text": [
      "[1, 2, 3, 'a', 'b', 'c']\n"
     ]
    }
   ],
   "source": [
    "l = [1, 2, 3]\n",
    "l.extend(('a', 'b', 'c'))\n",
    "print(l)"
   ]
  },
  {
   "cell_type": "markdown",
   "id": "4dd6a7e1-0184-48e2-915a-236e902dacc4",
   "metadata": {},
   "source": [
    "#### Reversing a Sequence"
   ]
  },
  {
   "cell_type": "markdown",
   "id": "0f4fe9d9-fcfb-462d-861b-f3c7ed37abab",
   "metadata": {},
   "source": [
    "As mentioned above, We can do in-place reversal:"
   ]
  },
  {
   "cell_type": "code",
   "execution_count": 16,
   "id": "0798780d-ee3a-4048-8437-013875ee654a",
   "metadata": {},
   "outputs": [
    {
     "name": "stdout",
     "output_type": "stream",
     "text": [
      "1979930587080\n",
      "1979930587080 [4, 3, 2, 1]\n"
     ]
    }
   ],
   "source": [
    "l = [1, 2, 3, 4]\n",
    "print(id(l))\n",
    "l.reverse()\n",
    "print(id(l), l)"
   ]
  },
  {
   "cell_type": "markdown",
   "id": "285dd6c8-6123-4534-9658-1b5a61019960",
   "metadata": {},
   "source": [
    "We can also reverse a sequence using extended slicing (we'll come back to this later):"
   ]
  },
  {
   "cell_type": "code",
   "execution_count": 17,
   "id": "7b018807-eb76-4708-b1be-a8ac376f36ed",
   "metadata": {},
   "outputs": [
    {
     "data": {
      "text/plain": [
       "[4, 3, 2, 1]"
      ]
     },
     "execution_count": 17,
     "metadata": {},
     "output_type": "execute_result"
    }
   ],
   "source": [
    "l = [1, 2, 3, 4]\n",
    "l[::-1]"
   ]
  },
  {
   "cell_type": "markdown",
   "id": "65866cbc-a2c6-4913-8d56-598db17214f8",
   "metadata": {},
   "source": [
    "But this is **NOT** mutating the sequence - the slice is returning a **new** sequence - that happens to be reversed."
   ]
  },
  {
   "cell_type": "code",
   "execution_count": 18,
   "id": "556bc278-fd26-406f-8a88-7d5909e69dc4",
   "metadata": {},
   "outputs": [
    {
     "name": "stdout",
     "output_type": "stream",
     "text": [
      "1979932143176\n",
      "1979932696968 [4, 3, 2, 1]\n"
     ]
    }
   ],
   "source": [
    "l = [1, 2, 3, 4]\n",
    "print(id(l))\n",
    "l = l[::-1]\n",
    "print(id(l), l)"
   ]
  },
  {
   "cell_type": "markdown",
   "id": "48cf1b68-b070-4c4b-bc24-b03e653d456f",
   "metadata": {},
   "source": [
    "Remember, **slices always return new objects**."
   ]
  },
  {
   "cell_type": "markdown",
   "id": "582d1548-b56b-477a-8930-2685681d4f65",
   "metadata": {},
   "source": [
    "#### Copying Sequences"
   ]
  },
  {
   "cell_type": "markdown",
   "id": "540d6b9a-b756-4790-abed-64667392a5d9",
   "metadata": {},
   "source": [
    "We'll take a quick look at shallow and deep copies now and go into more detail after. Consider the following list and its relevant IDs:"
   ]
  },
  {
   "cell_type": "code",
   "execution_count": 62,
   "id": "ae565366-0036-49c3-a4ff-d16e9f7bb269",
   "metadata": {},
   "outputs": [
    {
     "data": {
      "text/plain": [
       "('id(l)=140561331827648',\n",
       " 'id(l[0])=140561332000320',\n",
       " 'id(l[1])=140561467903408')"
      ]
     },
     "execution_count": 62,
     "metadata": {},
     "output_type": "execute_result"
    }
   ],
   "source": [
    "l = [ ['a', 'b'], 'c', 'd']\n",
    "\n",
    "f'{id(l)=}', f'{id(l[0])=}', f'{id(l[1])=}'"
   ]
  },
  {
   "cell_type": "markdown",
   "id": "4a895169-dd0e-4c13-9948-77b3d33e962b",
   "metadata": {},
   "source": [
    "Let's copy it with `l.copy()` which is like `l[:]` as they both create a new object:"
   ]
  },
  {
   "cell_type": "code",
   "execution_count": 65,
   "id": "fc7bffa0-2ea5-4737-ae7c-54a554f3addd",
   "metadata": {},
   "outputs": [
    {
     "data": {
      "text/plain": [
       "('id(l2)=140561331975424',\n",
       " 'id(l2[0])=140561332000320',\n",
       " 'id(l2[1])=140561467903408')"
      ]
     },
     "execution_count": 65,
     "metadata": {},
     "output_type": "execute_result"
    }
   ],
   "source": [
    "l2 = l.copy()\n",
    "\n",
    "f'{id(l2)=}', f'{id(l2[0])=}', f'{id(l2[1])=}'"
   ]
  },
  {
   "cell_type": "markdown",
   "id": "3e15b7df-de47-419a-80bd-7c03f054e96a",
   "metadata": {},
   "source": [
    "So `l` and `l2` have different IDs but their elements contain the same, duplicated objects as `l`. \n",
    "\n",
    "We have that mutability issue again. The first element `[a, b]` is a mutable object so if we change it in `l`, it'll apply to `l2` too. "
   ]
  },
  {
   "cell_type": "code",
   "execution_count": 71,
   "id": "48c6a533-ebdb-444d-a691-c034ca206c1a",
   "metadata": {},
   "outputs": [
    {
     "name": "stdout",
     "output_type": "stream",
     "text": [
      "[['a', 'b', 'x', 'x', 'x'], 'c', 'd']\n",
      "[['a', 'b', 'x', 'x', 'x'], 'c', 'd']\n"
     ]
    }
   ],
   "source": [
    "l[0].append('x')\n",
    "\n",
    "print(f'{l}')\n",
    "print(f'{l2}')"
   ]
  },
  {
   "cell_type": "markdown",
   "id": "64c6885f-5ff3-4220-af16-0a4d0f9bb457",
   "metadata": {},
   "source": [
    "This occurred because we did a **shallow copy** with `l.copy()`. To get around this, we've got to do a **deep copy**.\n",
    "\n",
    "Note that we don't need to worry about the elements `'c'` or `'d'` because they're immutable so we can't modify them anyways."
   ]
  },
  {
   "cell_type": "markdown",
   "id": "81cd8650-dbb7-4da7-8423-94077505210d",
   "metadata": {
    "toc-hr-collapsed": true
   },
   "source": [
    "# 03 - Lists vs Tuples"
   ]
  },
  {
   "cell_type": "markdown",
   "id": "7db1eb07-dd52-41d7-b8a0-7ff82a5e7b61",
   "metadata": {},
   "source": [
    "#### Lecture"
   ]
  },
  {
   "cell_type": "markdown",
   "id": "9b3b1d4c-bb12-4a18-b7ca-d467275e3ea6",
   "metadata": {},
   "source": [
    "Generally, tuples are more efficient that lists, so, unless you need mutability of the container, prefer using a tuple over a list."
   ]
  },
  {
   "cell_type": "markdown",
   "id": "8b88fd8e-2ac9-472b-9430-bd5f799e8e93",
   "metadata": {},
   "source": [
    "#### Creating Tuples"
   ]
  },
  {
   "cell_type": "markdown",
   "id": "ffa140b3-2f41-489f-818d-3709aa27f1ad",
   "metadata": {},
   "source": [
    "We saw some of this already in the first section of this course when we looked at some of the optimizations Python implements, but let's revisit it in this context."
   ]
  },
  {
   "cell_type": "markdown",
   "id": "029b2911-0c19-4de3-966c-7c8b909f4595",
   "metadata": {},
   "source": [
    "Here is Wikipedia's definition of constant folding:\n",
    "\n",
    "`\n",
    "Constant folding is the process of recognizing and evaluating constant expressions at compile time rather than computing them at runtime.\n",
    "`"
   ]
  },
  {
   "cell_type": "markdown",
   "id": "34f68193-e503-4c73-8f53-8a4a74c44903",
   "metadata": {},
   "source": [
    "To see how this works, we are going to use the `dis` module which allows to see the disassembled Python bytecode - not for the faint of heart, but can be really useful!"
   ]
  },
  {
   "cell_type": "code",
   "execution_count": 6,
   "id": "4bfe4b8c-ea08-4482-af2e-4f945a395955",
   "metadata": {
    "tags": []
   },
   "outputs": [],
   "source": [
    "from dis import dis"
   ]
  },
  {
   "cell_type": "markdown",
   "id": "d4a9cdd9-cc3e-4c66-b898-b030d2d3834b",
   "metadata": {},
   "source": [
    "We want to understand what Python does when it compiles statements such as:"
   ]
  },
  {
   "cell_type": "code",
   "execution_count": 7,
   "id": "b9feb292-d1ee-4fcb-b0cd-978b94205ada",
   "metadata": {},
   "outputs": [
    {
     "data": {
      "text/plain": [
       "[1, 2, 3]"
      ]
     },
     "execution_count": 7,
     "metadata": {},
     "output_type": "execute_result"
    }
   ],
   "source": [
    "(1, 2, 3)\n",
    "[1, 2, 3]"
   ]
  },
  {
   "cell_type": "code",
   "execution_count": 8,
   "id": "5c81bdc3-8602-4114-b6ae-cfff00fc31b7",
   "metadata": {},
   "outputs": [
    {
     "name": "stdout",
     "output_type": "stream",
     "text": [
      "  1           0 LOAD_CONST               0 ((1, 2, 3, 'a'))\n",
      "              2 RETURN_VALUE\n"
     ]
    }
   ],
   "source": [
    "dis(compile('(1,2,3, \"a\")', 'string', 'eval'))"
   ]
  },
  {
   "cell_type": "code",
   "execution_count": 9,
   "id": "ee2b5b56-f3b3-4b75-815e-b77e908f91f0",
   "metadata": {},
   "outputs": [
    {
     "name": "stdout",
     "output_type": "stream",
     "text": [
      "  1           0 BUILD_LIST               0\n",
      "              2 LOAD_CONST               0 ((1, 2, 3, 'a'))\n",
      "              4 LIST_EXTEND              1\n",
      "              6 RETURN_VALUE\n"
     ]
    }
   ],
   "source": [
    "dis(compile('[1,2,3, \"a\"]', 'string', 'eval'))"
   ]
  },
  {
   "cell_type": "markdown",
   "id": "e6765f6d-cb4d-4379-a2b2-d20b9d21d1ae",
   "metadata": {},
   "source": [
    "Notice how for a tuple containing constants (such as ints and strings in this case), the values are loaded in one step, a single constant value essentially. \n",
    "\n",
    "Lists, on the other hand are built-up one element at a time. So, that's one reason why tuples can \"load\" faster than a list."
   ]
  },
  {
   "cell_type": "markdown",
   "id": "ab380198-bb4d-4011-94bd-6ad64d678e04",
   "metadata": {},
   "source": [
    "But even if we have a single mutable object within our immutable tuple then it has to load the entire thing similar to the mutable list approach."
   ]
  },
  {
   "cell_type": "code",
   "execution_count": 10,
   "id": "9e3ae815-6bf4-4c17-adc6-8d6f0fbb1852",
   "metadata": {},
   "outputs": [
    {
     "name": "stdout",
     "output_type": "stream",
     "text": [
      "  1           0 LOAD_CONST               0 (1)\n",
      "              2 LOAD_CONST               1 (2)\n",
      "              4 LOAD_CONST               2 (3)\n",
      "              6 LOAD_CONST               3 (10)\n",
      "              8 LOAD_CONST               4 (20)\n",
      "             10 BUILD_LIST               2\n",
      "             12 BUILD_TUPLE              4\n",
      "             14 RETURN_VALUE\n"
     ]
    }
   ],
   "source": [
    "dis(compile('(1,2,3, [10, 20])', 'string', 'eval'))"
   ]
  },
  {
   "cell_type": "markdown",
   "id": "3a1a09e4-f863-4419-86cc-0d523896dfcf",
   "metadata": {},
   "source": [
    "So merely replacing our immutable `\"a\"` with `[10, 20]` forced us to load everything individually. The same is true for any other non-constant object in our tuple, such as a function:"
   ]
  },
  {
   "cell_type": "code",
   "execution_count": 11,
   "id": "02be8968-9b8e-4980-bc66-ac6fc421bae8",
   "metadata": {
    "tags": []
   },
   "outputs": [],
   "source": [
    "def fn1():\n",
    "    pass"
   ]
  },
  {
   "cell_type": "code",
   "execution_count": 12,
   "id": "0b9c662f-43b1-4b42-b868-40bf016e8dda",
   "metadata": {},
   "outputs": [
    {
     "name": "stdout",
     "output_type": "stream",
     "text": [
      "  1           0 LOAD_NAME                0 (fn1)\n",
      "              2 LOAD_CONST               0 (10)\n",
      "              4 LOAD_CONST               1 (20)\n",
      "              6 BUILD_TUPLE              3\n",
      "              8 RETURN_VALUE\n"
     ]
    }
   ],
   "source": [
    "dis(compile('(fn1, 10, 20)', 'string', 'eval'))"
   ]
  },
  {
   "cell_type": "markdown",
   "id": "dc7249c8-ed72-41b6-8347-e80a8599dd88",
   "metadata": {},
   "source": [
    "We can easily time this penalty:"
   ]
  },
  {
   "cell_type": "code",
   "execution_count": 13,
   "id": "4a76d5c4-11bd-43dc-b507-f5c1ef911195",
   "metadata": {
    "tags": []
   },
   "outputs": [],
   "source": [
    "from timeit import timeit"
   ]
  },
  {
   "cell_type": "code",
   "execution_count": 14,
   "id": "d45a9d71-f757-4b8b-b686-96c8d4def8de",
   "metadata": {},
   "outputs": [
    {
     "data": {
      "text/plain": [
       "0.5144668039999942"
      ]
     },
     "execution_count": 14,
     "metadata": {},
     "output_type": "execute_result"
    }
   ],
   "source": [
    "timeit(\"(1,2,3,4,5,6,7,8,9)\", number=10_000_000)"
   ]
  },
  {
   "cell_type": "code",
   "execution_count": 15,
   "id": "5b987336-b314-4945-84c3-b54bf158ed21",
   "metadata": {},
   "outputs": [
    {
     "data": {
      "text/plain": [
       "1.0272097249999206"
      ]
     },
     "execution_count": 15,
     "metadata": {},
     "output_type": "execute_result"
    }
   ],
   "source": [
    "timeit(\"[1,2,3,4,5,6,7,8,9]\", number=10_000_000)"
   ]
  },
  {
   "cell_type": "markdown",
   "id": "0643eb26-c5fd-474f-ac3b-fd4c901483c0",
   "metadata": {},
   "source": [
    "As you can see creating a tuple was faster."
   ]
  },
  {
   "cell_type": "markdown",
   "id": "5db7acc2-bd09-4afb-8e7d-da33b56f6663",
   "metadata": {},
   "source": [
    "#### Copying Lists and Tuples"
   ]
  },
  {
   "cell_type": "markdown",
   "id": "8656146c-bdd0-4f3e-854e-ec4997e12401",
   "metadata": {},
   "source": [
    "Let's look at creating a copy of both a list and a tuple:"
   ]
  },
  {
   "cell_type": "code",
   "execution_count": 16,
   "id": "6f8ddff2-f66c-4bbd-aa6f-b9a201626dfa",
   "metadata": {
    "tags": []
   },
   "outputs": [],
   "source": [
    "l1 = [1, 2, 3, 4, 5, 6, 7, 8, 9]\n",
    "t1 = (1, 2, 3, 4, 5, 6, 7, 8, 9)"
   ]
  },
  {
   "cell_type": "code",
   "execution_count": 17,
   "id": "262c7d31-9085-443f-8562-1f3800aefa6b",
   "metadata": {},
   "outputs": [
    {
     "data": {
      "text/plain": [
       "(140584363710848, 140584362927136)"
      ]
     },
     "execution_count": 17,
     "metadata": {},
     "output_type": "execute_result"
    }
   ],
   "source": [
    "id(l1), id(t1)"
   ]
  },
  {
   "cell_type": "code",
   "execution_count": 18,
   "id": "5e9e0e1c-e9f0-4e53-843f-a22844496754",
   "metadata": {
    "tags": []
   },
   "outputs": [],
   "source": [
    "l2 = list(l1)\n",
    "t2 = tuple(t1)"
   ]
  },
  {
   "cell_type": "code",
   "execution_count": 19,
   "id": "af35c1ed-8a21-4d51-a501-021b52f7c2a2",
   "metadata": {},
   "outputs": [
    {
     "data": {
      "text/plain": [
       "(False, True)"
      ]
     },
     "execution_count": 19,
     "metadata": {},
     "output_type": "execute_result"
    }
   ],
   "source": [
    "l1 is l2, t1 is t2"
   ]
  },
  {
   "cell_type": "markdown",
   "id": "9cb9a822-6d54-4913-8458-9b68ea825333",
   "metadata": {},
   "source": [
    "Notice how the `l1` and `l2` are **not** the same objects, whereas as `t1` and `t2` are!\n",
    "\n",
    "So for lists, the elements had to be copied (shallow copy, more on this later), but for tuples it did not. This is an optimisation that Python does; it doesn't make sense to make a shallow copy of a tuple because we can't mutate it anyways. So, for the tuples in this scenario, Python only needs one memory address with 2 pointers (variables) to it. \n",
    "\n",
    "With lists we had that concern when we modified an iterable using one variable and then were surprised to see the modification using another variable. This occurred because those two variables were pointers to the same mutable object. So, in general we want two separate objects in memory.\n",
    "\n",
    "But for tuples this concern vanishes because we cannot modify the tuple in the first place, so it's more efficient just to create one object in memory."
   ]
  },
  {
   "cell_type": "markdown",
   "id": "26d2bd78-4b5c-46da-9850-e5782826332f",
   "metadata": {},
   "source": [
    "Note that this is the case even if the tuple contains non constant elements:"
   ]
  },
  {
   "cell_type": "code",
   "execution_count": 22,
   "id": "5667c954-0c86-43cc-9952-03c89e60d969",
   "metadata": {},
   "outputs": [
    {
     "data": {
      "text/plain": [
       "True"
      ]
     },
     "execution_count": 22,
     "metadata": {},
     "output_type": "execute_result"
    }
   ],
   "source": [
    "t1 = ([1,2], fn1, 3)\n",
    "t2 = tuple(t1)\n",
    "t1 is t2"
   ]
  },
  {
   "cell_type": "markdown",
   "id": "3ceb565e-72de-423a-aa2f-0bbb3f58e820",
   "metadata": {},
   "source": [
    "#### Storage Efficiency"
   ]
  },
  {
   "cell_type": "markdown",
   "id": "b31d1ad6-36c8-4698-9a05-16520809de16",
   "metadata": {},
   "source": [
    "When mutable container objects such as lists, sets, dictionaries, etc are  created, and during their lifetime, the allocated capacity of these containers (the number of items they can contain) is greater than the number of elements in the container. This is done to make adding elements to the collection more efficient, and is called over-allocating."
   ]
  },
  {
   "cell_type": "markdown",
   "id": "e0d56845-6956-4d40-94fa-2faaeeaa92ba",
   "metadata": {},
   "source": [
    "Immutable containers on the other hand, since their item count is fixed once they have been created, do not need this overallocation - so their storage efficiency is greater."
   ]
  },
  {
   "cell_type": "markdown",
   "id": "3fabaf94-319e-4edd-af73-0e90a8f77084",
   "metadata": {},
   "source": [
    "Let's look at the size (memory) of lists and tuples as they get larger:"
   ]
  },
  {
   "cell_type": "code",
   "execution_count": 21,
   "id": "fab4cc5a-52c1-4cc3-803d-8495795d87cf",
   "metadata": {
    "tags": []
   },
   "outputs": [],
   "source": [
    "import sys"
   ]
  },
  {
   "cell_type": "code",
   "execution_count": 24,
   "id": "d106cb1e-4bd7-4d88-a1ca-feec3ac8bd99",
   "metadata": {},
   "outputs": [
    {
     "name": "stdout",
     "output_type": "stream",
     "text": [
      "1 items: 56, delta=56\n",
      "2 items: 64, delta=8\n",
      "3 items: 72, delta=8\n",
      "4 items: 80, delta=8\n",
      "5 items: 88, delta=8\n",
      "6 items: 96, delta=8\n",
      "7 items: 104, delta=8\n",
      "8 items: 112, delta=8\n",
      "9 items: 120, delta=8\n",
      "10 items: 128, delta=8\n"
     ]
    }
   ],
   "source": [
    "prev = 0\n",
    "for i in range(10):\n",
    "    c = tuple(range(i+1))\n",
    "    size_c = sys.getsizeof(c)\n",
    "    delta, prev = size_c - prev, size_c\n",
    "    print(f'{i+1} items: {size_c}, delta={delta}')"
   ]
  },
  {
   "cell_type": "code",
   "execution_count": 25,
   "id": "039643ac-d313-44ab-aba6-2b0f8f842a2b",
   "metadata": {},
   "outputs": [
    {
     "name": "stdout",
     "output_type": "stream",
     "text": [
      "1 items: 96, delta=96\n",
      "2 items: 104, delta=8\n",
      "3 items: 112, delta=8\n",
      "4 items: 120, delta=8\n",
      "5 items: 128, delta=8\n",
      "6 items: 136, delta=8\n",
      "7 items: 144, delta=8\n",
      "8 items: 160, delta=16\n",
      "9 items: 192, delta=32\n",
      "10 items: 200, delta=8\n"
     ]
    }
   ],
   "source": [
    "prev = 0\n",
    "for i in range(10):\n",
    "    c = list(range(i+1))\n",
    "    size_c = sys.getsizeof(c)\n",
    "    delta, prev = size_c - prev, size_c\n",
    "    print(f'{i+1} items: {size_c}, delta={delta}')"
   ]
  },
  {
   "cell_type": "markdown",
   "id": "370f716d-75e6-4ec7-a4ca-9910cf9476ba",
   "metadata": {},
   "source": [
    "As you can see the size delta for tuples as they get larger, remains a constant 8 bytes (the pointer to the new element added), but not so for lists which will over-allocate space (this is done to achieve better performance when appending elements to a list).\n",
    "\n",
    "Let's see what happens to the same list when we keep appending elements to it:"
   ]
  },
  {
   "cell_type": "code",
   "execution_count": 23,
   "id": "becc634b-c60c-4e98-b0d1-7c6c1976021e",
   "metadata": {},
   "outputs": [
    {
     "name": "stdout",
     "output_type": "stream",
     "text": [
      "0 items: 56\n",
      "1 items: 88, delta=32\n",
      "2 items: 88, delta=0\n",
      "3 items: 88, delta=0\n",
      "4 items: 88, delta=0\n",
      "5 items: 120, delta=32\n",
      "6 items: 120, delta=0\n",
      "7 items: 120, delta=0\n",
      "8 items: 120, delta=0\n",
      "9 items: 184, delta=64\n",
      "10 items: 184, delta=0\n",
      "11 items: 184, delta=0\n",
      "12 items: 184, delta=0\n",
      "13 items: 184, delta=0\n",
      "14 items: 184, delta=0\n",
      "15 items: 184, delta=0\n",
      "16 items: 184, delta=0\n"
     ]
    }
   ],
   "source": [
    "c = []\n",
    "prev = sys.getsizeof(c)\n",
    "print(f'0 items: {sys.getsizeof(c)}')\n",
    "for i in range(16):\n",
    "    c.append(i)\n",
    "    size_c = sys.getsizeof(c)\n",
    "    delta, prev = size_c - prev, size_c\n",
    "    print(f'{i+1} items: {size_c}, delta={delta}')"
   ]
  },
  {
   "cell_type": "markdown",
   "id": "312922e3-d61a-4d67-bed1-a02092bc3afb",
   "metadata": {},
   "source": [
    "So each delta tells us how much we're over-allocating. For 0 items we use 56 bytes, all of which are in use. For 1 item we use 88 bytes but only (56+8=) 64 out of 88 bytes are in use. Tge remaining 24 bytes will not be used until we add 3 more elements.\n",
    "\n",
    "The bigger the list, the more over-allocation we perform which we recognise by the increasing deltas above."
   ]
  },
  {
   "cell_type": "markdown",
   "id": "ad94266d-2338-40a5-8d02-97041194b1dc",
   "metadata": {
    "toc-hr-collapsed": true
   },
   "source": [
    "# 04 - Copying Sequences"
   ]
  },
  {
   "cell_type": "markdown",
   "id": "ef958be7-8866-433e-b109-bdb01da198cc",
   "metadata": {},
   "source": [
    "Firstly, remember mutable objects can be modified either directly or through a function. As a result, these modifications may be inadvertent. \n",
    "\n",
    "If we have a function called `reverse` that takes an iterable and reverses it, we need to make it clear to the caller that an in-place modification has taken place. How do we do that? **We should not return the object we modified if we are performing an in-place modification/mutation**."
   ]
  },
  {
   "cell_type": "code",
   "execution_count": 27,
   "id": "1d6c78bf-0e53-463d-bb7e-f7ae661a9591",
   "metadata": {},
   "outputs": [],
   "source": [
    "# BAD, DON'T DO THIS\n",
    "\n",
    "def reverse(s):\n",
    "    s.reverse()\n",
    "    return s\n",
    "\n",
    "# BETTER BUT BEST NOT TO DO IN-PLACE IN THE FIRST PLACE\n",
    "\n",
    "def reverse(s):\n",
    "    s.reverse()\n",
    "    \n",
    "# BEST \n",
    "\n",
    "def reverse(s):\n",
    "    # s2 = <some copy>  any copy approach like s[::-1]\n",
    "    s2.reverse()\n",
    "    return s2"
   ]
  },
  {
   "cell_type": "markdown",
   "id": "307146aa-1f63-4d64-b7b8-f46377251eef",
   "metadata": {},
   "source": [
    "Now for copying, there are five methods, each of which will create a new memory address for the list, **but the memory addresses of the elements will point to the  memory address of the original list's elements.\n",
    "\n",
    "**These five are all shallow copy methods. They copy the object references from one sequence to another.**"
   ]
  },
  {
   "cell_type": "code",
   "execution_count": 29,
   "id": "1dd40499-81dd-4112-8101-2f5e36ca0c2c",
   "metadata": {},
   "outputs": [],
   "source": [
    "s = [10, 20, 30]"
   ]
  },
  {
   "cell_type": "markdown",
   "id": "b79c6686-1168-41ab-8b64-e0b6e08be77e",
   "metadata": {},
   "source": [
    "**Simple loop**"
   ]
  },
  {
   "cell_type": "code",
   "execution_count": 30,
   "id": "0f979786-7e62-4db5-9e8b-14d5871828b7",
   "metadata": {},
   "outputs": [],
   "source": [
    "cp = []\n",
    "for e in s:\n",
    "    cp.append(e)"
   ]
  },
  {
   "cell_type": "markdown",
   "id": "ff4c1b11-b516-41c7-bc54-fbf5c8c760ee",
   "metadata": {},
   "source": [
    "**List comprehension: (identical to the above)**"
   ]
  },
  {
   "cell_type": "code",
   "execution_count": 31,
   "id": "cd583cde-ae34-462a-8bbe-24bee50b1377",
   "metadata": {},
   "outputs": [],
   "source": [
    "cp = [e for e in s]"
   ]
  },
  {
   "cell_type": "markdown",
   "id": "3a3f6414-f453-43f7-b66d-30075eca5507",
   "metadata": {},
   "source": [
    "**Copy method: (only implemented for mutable types like lists, NOT immutables like tuples or strings**"
   ]
  },
  {
   "cell_type": "code",
   "execution_count": 32,
   "id": "d0ff1c90-5a08-4bf1-91ad-54ca37e4b6ba",
   "metadata": {},
   "outputs": [],
   "source": [
    "cp = s.copy()"
   ]
  },
  {
   "cell_type": "markdown",
   "id": "5a155f8b-0781-48fe-9ed2-3a65b4a3f0fd",
   "metadata": {},
   "source": [
    "**Slicing:**"
   ]
  },
  {
   "cell_type": "code",
   "execution_count": 33,
   "id": "a54c0e2b-91cb-40f8-8988-fa78106b80c9",
   "metadata": {},
   "outputs": [],
   "source": [
    "cp = s[:]"
   ]
  },
  {
   "cell_type": "markdown",
   "id": "09b845cc-c6bc-4776-a469-860bb19ff8e1",
   "metadata": {},
   "source": [
    "**list:**"
   ]
  },
  {
   "cell_type": "code",
   "execution_count": 34,
   "id": "0cb24131-9797-4b18-a89e-82ada2f5ec58",
   "metadata": {},
   "outputs": [],
   "source": [
    "cp = list(s)"
   ]
  },
  {
   "cell_type": "markdown",
   "id": "f34e03f2-0d0c-4671-81f6-9b0c830ffb09",
   "metadata": {},
   "source": [
    "Just a reminder that `tuple_2 = tuple(tuple_1)` and `tuple_2 = tuple_1[:]` **do not create a new tuple with a new memory address - we just add another pointer to the same tuple**. \n",
    "\n",
    "So, `id(tuple_1) = id(tuple_2)`."
   ]
  },
  {
   "cell_type": "markdown",
   "id": "d4fb65ac-41ef-4277-99f8-bae164e0e9aa",
   "metadata": {},
   "source": [
    "For all of these methods, if we mutate the **list** in the copy, it has no impact on the original. But, if we mutate the **element**, then it will have an impact on the original. This is only possible if the element is a mutable such as a list."
   ]
  },
  {
   "cell_type": "code",
   "execution_count": 35,
   "id": "ee44852c-657a-4348-b869-7b4f3fd9afbe",
   "metadata": {},
   "outputs": [
    {
     "name": "stdout",
     "output_type": "stream",
     "text": [
      "[[10, 20], [30, 40]]\n",
      "['python', [30, 40]]\n"
     ]
    }
   ],
   "source": [
    "s = [ [10, 20], [30, 40] ]\n",
    "cp = s.copy()\n",
    "\n",
    "cp[0] = 'python' # THIS IS A MUTATION OF THE LIST/CONTAINER, NOT OF THE ELEMENT, THEREFORE ORIGINAL UNIMPACTED.\n",
    "\n",
    "print(s)\n",
    "print(cp)"
   ]
  },
  {
   "cell_type": "code",
   "execution_count": 36,
   "id": "fbdba3aa-954b-467c-b8e7-e1ff96696ccf",
   "metadata": {},
   "outputs": [
    {
     "name": "stdout",
     "output_type": "stream",
     "text": [
      "[[10, 20], [100, 40]]\n",
      "[[10, 20], [100, 40]]\n"
     ]
    }
   ],
   "source": [
    "s = [ [10, 20], [30, 40] ]\n",
    "cp = s.copy()\n",
    "\n",
    "cp[1][0] = 100 # THIS IS A MUTATION OF THE ELEMENT, THEREFORE ORIGINAL IMPACTED\n",
    "\n",
    "print(s)\n",
    "print(cp)"
   ]
  },
  {
   "cell_type": "markdown",
   "id": "2132496a-e64b-4bf7-a76e-d6ffffd7e3e0",
   "metadata": {},
   "source": [
    "This effect occurred because we copied the **object reference**, not the object itself. "
   ]
  },
  {
   "cell_type": "markdown",
   "id": "76f72970-6b13-4b69-adec-4e06fd540b23",
   "metadata": {},
   "source": [
    "![2.2.png](s2-images/2.2.png)"
   ]
  },
  {
   "cell_type": "markdown",
   "id": "c52bdea9-bca7-497c-9859-adb14afa6e25",
   "metadata": {},
   "source": [
    "Below, if we did either `s[0][0] = 100` or `cp[0][0] = 100`, we would be modifying the objects. We do nothing to `s` and `cp` themselves."
   ]
  },
  {
   "attachments": {},
   "cell_type": "markdown",
   "id": "756a27b7-9feb-457b-ada7-438d991ff19a",
   "metadata": {},
   "source": [
    "![2.3.png](s2-images/2.3.png)"
   ]
  },
  {
   "cell_type": "markdown",
   "id": "3bbe4987-630e-4131-bdba-aa2db3f7e0b1",
   "metadata": {},
   "source": [
    "**Partial Deep copies**\n",
    "\n",
    "This gives us a way of copying the objects as opposed to the object references.\n",
    "\n",
    "How do we understand a deep copy approach like:"
   ]
  },
  {
   "cell_type": "code",
   "execution_count": null,
   "id": "32674240-f1eb-4a83-b155-8ba596fb344b",
   "metadata": {},
   "outputs": [],
   "source": [
    "s = [ [0, 0], [0, 0] ]\n",
    "     \n",
    "cp = [e.copy() for e in s]"
   ]
  },
  {
   "cell_type": "markdown",
   "id": "5890bc40-74d9-4581-9459-1e1e3337964c",
   "metadata": {},
   "source": [
    "When we take each element `e` in `s`, we don't just put it into `cp` - this would copy the object reference. Instead we make a copy of the object and put that into `cp`."
   ]
  },
  {
   "cell_type": "markdown",
   "id": "1c319544-73d3-4f13-8a3a-cc6922eb61ef",
   "metadata": {},
   "source": [
    "![2.4.png](s2-images/2.4.png)"
   ]
  },
  {
   "cell_type": "markdown",
   "id": "7d94e7a2-dade-4c7d-acb1-424cb67e38dd",
   "metadata": {},
   "source": [
    "Why is it a partial deep copy instead of a deep copy? Because `e.copy()` is performing a shallow copy. "
   ]
  },
  {
   "cell_type": "markdown",
   "id": "076fb43c-5e34-4ca4-9203-273f64b5a17f",
   "metadata": {},
   "source": [
    "![2.5.png](s2-images/2.5.png)"
   ]
  },
  {
   "cell_type": "markdown",
   "id": "4ea468e0-7323-4a68-a594-1c8974ca7b50",
   "metadata": {},
   "source": [
    "In the above, if we took our `cp = [e.copy() for e in s]` approach, we would perform a shallow copy on the two objects indicated by the yellow line (not orange or white). In doing so, we return to the original problem. So, we want to copy the elements indicated by the white lines too. \n",
    "\n",
    "This is why we need a recursive approach. But, in this case we don't need to go any further with recursion because the elements in these objects (`[0, 1]` for example) are immutable (the `0` and `1` are immutable)."
   ]
  },
  {
   "cell_type": "markdown",
   "id": "a2f2afed-08c6-4092-a115-db27ed67aa55",
   "metadata": {},
   "source": [
    "To break down the steps in the above image, we first start with `cp = [e.copy() for e in s]`.\n",
    "\n",
    "Then, `e = [ [0, 1], [2, 3] ]` initially. \n",
    "\n",
    "Then, `e.copy()` will take the container denoted by `e` and create an identical empty structure. Then, the **pointers** to each of `e`'s elements, first `[0, 1]` and then `[2, 3]` will be copied. These elements and their memory addresses were created when we first initialised `s`. So, when we wish to modify `[0, 1]` using `cp`, we will be using a pointer to get to the original element, as opposed to a pointer to a copied version of `[0, 1]`."
   ]
  },
  {
   "cell_type": "code",
   "execution_count": 46,
   "id": "1d751627-d863-48e9-be2a-446b50c85869",
   "metadata": {},
   "outputs": [
    {
     "data": {
      "text/plain": [
       "[[[0, 1], [2, 3]], [[4, 5], [6, 7]]]"
      ]
     },
     "execution_count": 46,
     "metadata": {},
     "output_type": "execute_result"
    }
   ],
   "source": [
    "s = [ [ [0, 1], [2, 3] ], [ [4, 5], [6, 7] ] ]\n",
    "\n",
    "cp = [e.copy() for e in s]\n",
    "\n",
    "cp"
   ]
  },
  {
   "cell_type": "code",
   "execution_count": 47,
   "id": "e23ea392-be50-4107-a1cb-b2755f660662",
   "metadata": {},
   "outputs": [
    {
     "name": "stdout",
     "output_type": "stream",
     "text": [
      "[[0, 1], [2, 3]]\n",
      "[0, 1]\n",
      "0\n"
     ]
    }
   ],
   "source": [
    "print(cp[0])\n",
    "print(cp[0][0])\n",
    "print(cp[0][0][0])\n",
    "\n",
    "cp[0][0][0] = 100"
   ]
  },
  {
   "cell_type": "code",
   "execution_count": 48,
   "id": "f93a614f-c6d1-43cf-ad59-360625c8edf4",
   "metadata": {},
   "outputs": [
    {
     "name": "stdout",
     "output_type": "stream",
     "text": [
      "s=[[[100, 1], [2, 3]], [[4, 5], [6, 7]]]\n",
      "cp=[[[100, 1], [2, 3]], [[4, 5], [6, 7]]]\n"
     ]
    }
   ],
   "source": [
    "print(f'{s=}')\n",
    "print(f'{cp=}')"
   ]
  },
  {
   "cell_type": "markdown",
   "id": "5c9b51b4-0ed9-486b-8741-32a2b31922ec",
   "metadata": {},
   "source": [
    "Again, compare that with what we did before (see below). As we see at the end, `cp` was modified but `s` was untouched."
   ]
  },
  {
   "cell_type": "code",
   "execution_count": 49,
   "id": "d045c01c-ee70-4d0b-965a-81a8590fc378",
   "metadata": {},
   "outputs": [
    {
     "data": {
      "text/plain": [
       "[[0, 1], [2, 3]]"
      ]
     },
     "execution_count": 49,
     "metadata": {},
     "output_type": "execute_result"
    }
   ],
   "source": [
    "s = [ [0, 1], [2, 3] ]\n",
    "\n",
    "cp = [e.copy() for e in s]\n",
    "\n",
    "cp"
   ]
  },
  {
   "cell_type": "code",
   "execution_count": 50,
   "id": "308dfffc-9b50-4950-bc2e-30d0c26f72d0",
   "metadata": {},
   "outputs": [
    {
     "name": "stdout",
     "output_type": "stream",
     "text": [
      "[0, 1]\n",
      "0\n"
     ]
    }
   ],
   "source": [
    "print(cp[0])\n",
    "print(cp[0][0])\n",
    "\n",
    "cp[0][0] = 100"
   ]
  },
  {
   "cell_type": "code",
   "execution_count": 51,
   "id": "ac232572-8066-45c4-b2bf-3e7bcb9bffbc",
   "metadata": {},
   "outputs": [
    {
     "name": "stdout",
     "output_type": "stream",
     "text": [
      "s=[[0, 1], [2, 3]]\n",
      "cp=[[100, 1], [2, 3]]\n"
     ]
    }
   ],
   "source": [
    "print(f'{s=}')\n",
    "print(f'{cp=}')"
   ]
  },
  {
   "cell_type": "markdown",
   "id": "015e6a93-e966-47ad-8457-c28fade8beb7",
   "metadata": {},
   "source": [
    "I think an important takeaway is that `.copy()` on an iterable creates an identical container whose elements point towards the memory address of the original container's elements. We don't look any further."
   ]
  },
  {
   "cell_type": "markdown",
   "id": "22513c3a-a2eb-4994-8d1b-e06e3ef4fa17",
   "metadata": {},
   "source": [
    "Deep copies can get messy very quickly when handling nested objects and circular references. Consider the infinite recursion that will occur in the example below."
   ]
  },
  {
   "cell_type": "code",
   "execution_count": 66,
   "id": "97dde1a0-85ce-4fb5-87ca-dcbbcdcb1cc8",
   "metadata": {},
   "outputs": [
    {
     "data": {
      "text/plain": [
       "[[10, 20, [...]], 30]"
      ]
     },
     "execution_count": 66,
     "metadata": {},
     "output_type": "execute_result"
    }
   ],
   "source": [
    "a = [10, 20]\n",
    "b = [a, 30]\n",
    "a.append(b)\n",
    "a[2][0][2][0][2][0][2][0][2][0][2][0][2][0][2][0][2][0][2][0][2][0][2][0][2][0][2][0][2][0][2] # this can go on forever"
   ]
  },
  {
   "cell_type": "markdown",
   "id": "ee878836-a466-4a91-803d-0f6f9b54545a",
   "metadata": {},
   "source": [
    "The standard library **copy** has generic copy and deepcopy operations. We also have the dunder classes `__copy__` and `__deepcopy__` to override how copying works ourselves."
   ]
  },
  {
   "cell_type": "markdown",
   "id": "23de236b-8431-4e8c-bd8f-4dbc867f3e8e",
   "metadata": {},
   "source": [
    "Here's an example with classes. It works as we expect."
   ]
  },
  {
   "attachments": {},
   "cell_type": "markdown",
   "id": "f75380fd-df2d-4d7b-bc9f-47e36667735f",
   "metadata": {},
   "source": [
    "![2.6.png](s2-images/2.6.png)"
   ]
  },
  {
   "cell_type": "markdown",
   "id": "a14fa3f6-d0b6-41f9-a843-bbe7b64c26c4",
   "metadata": {},
   "source": [
    "Here's a more complicated example:"
   ]
  },
  {
   "attachments": {},
   "cell_type": "markdown",
   "id": "f30be520-00d8-4686-86b9-5baa4aa29627",
   "metadata": {},
   "source": [
    "![2.7.png](s2-images/2.7.png)"
   ]
  },
  {
   "cell_type": "markdown",
   "id": "64ff71de-ff6a-4163-ac11-6527397a1a43",
   "metadata": {},
   "source": [
    "Do note that `y = MyClass(x)` means that `y.a` is a mutable object and that mutable object is the object `x`. (Classes are mutable objects.)\n",
    "\n",
    "The important thing to note is that Python intelligently understands that since there was a relationship between `y.a` and `x`, there should also be the same relationship between `cp_y.a` and `cp_x`."
   ]
  },
  {
   "cell_type": "markdown",
   "id": "a941c495-70f5-44c7-9033-3a590c6111a8",
   "metadata": {},
   "source": [
    "Shallow and deep copies are not just for sequences. They're applicable to objects in general because objects can nest other objects. We demonstrated this with the classes above."
   ]
  },
  {
   "cell_type": "markdown",
   "id": "5310b37f-3320-46fe-9a13-9c8c310e1910",
   "metadata": {
    "tags": []
   },
   "source": [
    "# 05 - Slicing"
   ]
  },
  {
   "cell_type": "markdown",
   "id": "e1292d0b-e071-4e11-830e-aa890bfeacbe",
   "metadata": {},
   "source": [
    "#### Lecture"
   ]
  },
  {
   "cell_type": "markdown",
   "id": "cbd458fc-1bca-4f69-a239-7773867fe25d",
   "metadata": {},
   "source": [
    "In the conventional notation `my_list[i:j]`, the slice definition is `i:j` and this is an object - in particular, a **slice** object. \n",
    "\n",
    "We can create our own identical object using the constructor: `s = slice(i, j)`. This has properties, `s.start` and `s.stop`. Our slice object can be used in substitution of our traditional literal."
   ]
  },
  {
   "cell_type": "code",
   "execution_count": 4,
   "id": "8c801834-3d51-4f96-8bff-5d008baacdd6",
   "metadata": {},
   "outputs": [
    {
     "name": "stdout",
     "output_type": "stream",
     "text": [
      "0\n",
      "2\n"
     ]
    }
   ],
   "source": [
    "l = [1, 2, 3, 4, 5]\n",
    "\n",
    "s = slice(0, 2)\n",
    "\n",
    "print(s.start)\n",
    "print(s.stop)"
   ]
  },
  {
   "cell_type": "code",
   "execution_count": 5,
   "id": "3115b7dc-a47f-48a1-b407-9fbb18715d57",
   "metadata": {},
   "outputs": [
    {
     "data": {
      "text/plain": [
       "[1, 2]"
      ]
     },
     "execution_count": 5,
     "metadata": {},
     "output_type": "execute_result"
    }
   ],
   "source": [
    "l[s]"
   ]
  },
  {
   "cell_type": "markdown",
   "id": "d7983d8b-7e67-44b2-877a-2341e57fbf88",
   "metadata": {},
   "source": [
    "It's important to recognise that in `l[3:100]` for example, the slice object `3:100` is independent of the list object `l`. We take the slice and apply it to the list. This is why we can specify slice boundaries that are larger than the list that they're being applied to."
   ]
  },
  {
   "cell_type": "markdown",
   "id": "41aebff4-5a56-40be-bc8e-891d645b67e8",
   "metadata": {},
   "source": [
    "When it comes to slicing, Python follows a set of rules. For a given list `l = ['a', 'b', 'c', 'd', 'e', 'f']` with slice indices `[i:j]`:\n",
    "\n",
    "- if `i > len(seq)` -> `len(seq)`\n",
    "- if `j > len(seq)` -> `len(seq)`\n",
    "\n",
    "- if `i < 0` -> `max(0, len(seq) + i)`\n",
    "- if `j < 0` -> `max(0, len(seq) + j)`\n",
    "\n",
    "For our example list above, if we wanted to determine `[-10, 3]`, since `i < 0`, we compute `max(0, len(seq) + i) = max(0, 6+-10) = max(0, -4) = 0` for our first index. For our second index, `j` is within range so we take its value. \n",
    "\n",
    "Thus, `[-10: 3] -> range(0, 3)`.\n",
    "\n",
    "For another example, if we wanted to determine `[-5, 3]`, since `i < 0`, we compute `max(0, len(seq) + i) = max(0, 6+-5) = max(0, 1) = 1` for our first index. For our second index, `j` is within range so we take its value. \n",
    "\n",
    "Thus, `[-5: 3] -> range(1, 3)`. \n",
    "\n",
    "This makes sense because the -5th index of a sequence with 6 objects is equivalent to the 1st index. \n"
   ]
  },
  {
   "cell_type": "markdown",
   "id": "7cc18725-649d-470a-ad4b-abc512b5f279",
   "metadata": {},
   "source": [
    "The rules for transformations `[i:j:k]` are pretty intuitive, but you just have to be careful when `k < 0`. \n",
    "\n",
    "If you ever get confused, the **slice** object has a method called **indices** that returns the equivalent range with its start/stop/step for any slice (but as a tuple), **given the length** of the sequence being sliced.\n",
    "\n",
    "`slice(start, stop, step).indices(length)` -> `(start, stop, step)`."
   ]
  },
  {
   "cell_type": "code",
   "execution_count": 6,
   "id": "eb39d815-f6ae-4557-aa09-e22a63c8bcbd",
   "metadata": {},
   "outputs": [
    {
     "data": {
      "text/plain": [
       "(5, 1, -1)"
      ]
     },
     "execution_count": 6,
     "metadata": {},
     "output_type": "execute_result"
    }
   ],
   "source": [
    "slice(10, -5, -1).indices(6)"
   ]
  },
  {
   "cell_type": "markdown",
   "id": "fa2b2753-5b39-41f7-8094-f8467ad7be7c",
   "metadata": {},
   "source": [
    "This is a tuple object. We can convert it into a range object by unpacking:"
   ]
  },
  {
   "cell_type": "code",
   "execution_count": 8,
   "id": "4ffa5b04-d12e-42c1-89ad-08c44fbfa28c",
   "metadata": {},
   "outputs": [
    {
     "data": {
      "text/plain": [
       "range(5, 1, -1)"
      ]
     },
     "execution_count": 8,
     "metadata": {},
     "output_type": "execute_result"
    }
   ],
   "source": [
    "range(*slice(10, -5, -1).indices(6))"
   ]
  },
  {
   "cell_type": "markdown",
   "id": "94c1aa5f-75ba-4686-b1fb-4a5e4bec895f",
   "metadata": {},
   "source": [
    "We can see the actual values in this range by converting it into a list:"
   ]
  },
  {
   "cell_type": "code",
   "execution_count": 11,
   "id": "97d65d7b-0303-4a54-bdc4-c13059ed9d02",
   "metadata": {},
   "outputs": [
    {
     "data": {
      "text/plain": [
       "[5, 4, 3, 2]"
      ]
     },
     "execution_count": 11,
     "metadata": {},
     "output_type": "execute_result"
    }
   ],
   "source": [
    "list(range(*slice(10, -5, -1).indices(6)))"
   ]
  },
  {
   "cell_type": "markdown",
   "id": "62347080-9e9f-42e6-9a3a-676bf26bc3d2",
   "metadata": {},
   "source": [
    "#### Coding"
   ]
  },
  {
   "cell_type": "markdown",
   "id": "9a411934-93b0-4c5d-8c2e-39587c01c0d6",
   "metadata": {},
   "source": [
    "A quick example where this may be useful is if you need to keep repeating the slice object. \n",
    "\n",
    "Here's the literal approach:"
   ]
  },
  {
   "cell_type": "code",
   "execution_count": 9,
   "id": "b7fe4791-0f3e-491c-b599-3817b5757986",
   "metadata": {},
   "outputs": [],
   "source": [
    "data = []\n",
    "\n",
    "for row in data:\n",
    "    first_name = row[0:51]\n",
    "    last_name = row[51:100]\n",
    "    ssn = row[101:111]"
   ]
  },
  {
   "cell_type": "markdown",
   "id": "41196d69-3232-439b-a769-7dec81659040",
   "metadata": {},
   "source": [
    "And here's the constructor approach. You could keep these slice definitions at the top of your file so it's easy to find and modify."
   ]
  },
  {
   "cell_type": "code",
   "execution_count": 10,
   "id": "53a8d62e-8fc5-43ae-b54d-c360f269cb5d",
   "metadata": {},
   "outputs": [],
   "source": [
    "range_first_name = slice(0, 51)\n",
    "range_last_name = slice(51, 101)\n",
    "range_ssn = slice(101, 111)\n",
    "\n",
    "for row in data:\n",
    "    first_name = row[range_first_name]\n",
    "    last_name = row[range_last_name]\n",
    "    ssn = row[range_ssn]"
   ]
  },
  {
   "cell_type": "markdown",
   "id": "99284404-8b06-4162-a911-dc27c5c1629e",
   "metadata": {},
   "source": [
    "# 06 - Custom Sequences - Part 1"
   ]
  },
  {
   "cell_type": "markdown",
   "id": "530ea61d-4654-47cc-baed-e56b577e53b1",
   "metadata": {},
   "source": [
    "#### Lecture"
   ]
  },
  {
   "cell_type": "markdown",
   "id": "7517edc8-44b5-442b-b7fb-3af9a3ad8630",
   "metadata": {},
   "source": [
    "We're going to be creating our own sequence types. For part 1, we'll focus on immutable sequence types only. At it's most basic, an immutable sequence type should support two things:\n",
    "\n",
    "- returning the **length** of the sequence,\n",
    "- given an **index**, return the element at that index.\n",
    "\n",
    "If an object provides this functionality, then in theory we should be able to:\n",
    "\n",
    "- retrieve elements **by index** using square brackets `[]`,\n",
    "- **iterate** through the elements using Python's native looping mechanisms such as `for` loops, list comprehensions, etc."
   ]
  },
  {
   "cell_type": "markdown",
   "id": "051a2b63-aa90-4ee0-9adf-ed72b6099a7d",
   "metadata": {},
   "source": [
    "**How does Python do it?** \n",
    "\n",
    "The sequence types must at the minimum implement:\n",
    "\n",
    "- `__len__`: We'll find out that this is not necessary but still recommended\n",
    "- `__getitem__`: This is the main one for taking a single integer argument - the index. However, it may also choose to handle a **slice** type argument. We decide.\n"
   ]
  },
  {
   "cell_type": "markdown",
   "id": "65c658e8-df3e-44e4-908e-0666e17d4d61",
   "metadata": {},
   "source": [
    "#### The `__getitem__` method"
   ]
  },
  {
   "cell_type": "markdown",
   "id": "7b7b8852-1faa-448b-a235-386289e0abfc",
   "metadata": {},
   "source": [
    "**This method should return an element of the sequence based on the specified index or raise an `IndexError` exception if the index is out of bounds.**\n",
    "\n",
    "If we implement these **two** things then Python can actually utilise our `__getitem__` method to iterate through our sequence, e.g. by using the `for` loop.\n",
    "\n",
    "(We may choose to support negative indices and slices but this is optional.)\n",
    "\n",
    "Python's `list` already supports `__getitem__` as an equivalent approach to the `[]`. Negative indices are valid so long as they are not out of bounds."
   ]
  },
  {
   "cell_type": "code",
   "execution_count": 18,
   "id": "067a3ea5-ca33-4509-aa0a-dc6f5f112417",
   "metadata": {},
   "outputs": [
    {
     "name": "stdout",
     "output_type": "stream",
     "text": [
      "a\n",
      "['a', 'c', 'e']\n",
      "f\n"
     ]
    }
   ],
   "source": [
    "my_list = ['a', 'b', 'c', 'd', 'e', 'f']\n",
    "\n",
    "print(my_list.__getitem__(0))\n",
    "print(my_list.__getitem__(slice(0, 6, 2)))\n",
    "print(my_list.__getitem__(-1))"
   ]
  },
  {
   "cell_type": "markdown",
   "id": "c6b1b5a5-8a10-4837-bd57-52ceccce6836",
   "metadata": {},
   "source": [
    "This include the `IndexError`:"
   ]
  },
  {
   "cell_type": "code",
   "execution_count": 16,
   "id": "fe784dcc-cdc4-484c-8039-9172e8fa279b",
   "metadata": {},
   "outputs": [
    {
     "ename": "IndexError",
     "evalue": "list index out of range",
     "output_type": "error",
     "traceback": [
      "\u001b[0;31m---------------------------------------------------------------------------\u001b[0m",
      "\u001b[0;31mIndexError\u001b[0m                                Traceback (most recent call last)",
      "\u001b[0;32m/tmp/ipykernel_3888/2288129030.py\u001b[0m in \u001b[0;36m<module>\u001b[0;34m\u001b[0m\n\u001b[0;32m----> 1\u001b[0;31m \u001b[0mprint\u001b[0m\u001b[0;34m(\u001b[0m\u001b[0mmy_list\u001b[0m\u001b[0;34m.\u001b[0m\u001b[0m__getitem__\u001b[0m\u001b[0;34m(\u001b[0m\u001b[0;36m100\u001b[0m\u001b[0;34m)\u001b[0m\u001b[0;34m)\u001b[0m\u001b[0;34m\u001b[0m\u001b[0;34m\u001b[0m\u001b[0m\n\u001b[0m",
      "\u001b[0;31mIndexError\u001b[0m: list index out of range"
     ]
    }
   ],
   "source": [
    "print(my_list.__getitem__(100))"
   ]
  },
  {
   "cell_type": "markdown",
   "id": "3fd06adc-451b-45b1-aede-faf695155c70",
   "metadata": {},
   "source": [
    "**How would we implement a `for` loop ourselves?**"
   ]
  },
  {
   "cell_type": "code",
   "execution_count": 19,
   "id": "54c9a528-0375-455e-9d98-c4dbfefdd299",
   "metadata": {},
   "outputs": [
    {
     "name": "stdout",
     "output_type": "stream",
     "text": [
      "1\n",
      "4\n",
      "9\n",
      "16\n",
      "25\n"
     ]
    }
   ],
   "source": [
    "my_list = [1, 2, 3, 4, 5]\n",
    "\n",
    "for item in my_list:\n",
    "    print(item**2)"
   ]
  },
  {
   "cell_type": "code",
   "execution_count": 21,
   "id": "d115790d-c2fc-4598-b8be-2d05c0eb1017",
   "metadata": {},
   "outputs": [
    {
     "name": "stdout",
     "output_type": "stream",
     "text": [
      "1\n",
      "4\n",
      "9\n",
      "16\n",
      "25\n"
     ]
    }
   ],
   "source": [
    "my_list = [1, 2, 3, 4, 5]\n",
    "index = 0\n",
    "\n",
    "while True:\n",
    "    try:\n",
    "        item = my_list.__getitem__(index)\n",
    "    except IndexError:\n",
    "        break\n",
    "    \n",
    "    print(item**2)\n",
    "    index += 1"
   ]
  },
  {
   "cell_type": "markdown",
   "id": "4202aeef-60ef-43d9-a05f-6d9371f9c395",
   "metadata": {},
   "source": [
    "The approach above of using `while True` paired with `except` is more Pythonic than something like `while index < len(our_sequence)`.\n",
    "\n",
    "When we implement `__getitem__` in our class, the `for` loop (or list comprehension) notation will function, where the `x` in `for x in sequence` will be passed to `__getitem__`. Again, it  will keep iterating until it hits an `IndexError`"
   ]
  },
  {
   "cell_type": "code",
   "execution_count": 31,
   "id": "7a13aa5b-c164-40ae-8df2-537da2725017",
   "metadata": {},
   "outputs": [],
   "source": [
    "class Silly:\n",
    "    def __init__(self, n):\n",
    "        self.n = n\n",
    "        \n",
    "    def __getitem__(self, value): \n",
    "        print(f'{value=}')\n",
    "        \n",
    "        if value < 0 or value >= self.n:\n",
    "            raise IndexError\n",
    "        \n",
    "        else:\n",
    "            return 'This is a silly element'"
   ]
  },
  {
   "cell_type": "code",
   "execution_count": 32,
   "id": "f80ab10e-46dc-4185-be77-b8aca40112cb",
   "metadata": {},
   "outputs": [
    {
     "name": "stdout",
     "output_type": "stream",
     "text": [
      "value=0\n",
      "This is a silly element\n",
      "value=1\n",
      "This is a silly element\n",
      "value=2\n",
      "This is a silly element\n",
      "value=3\n"
     ]
    }
   ],
   "source": [
    "silly = Silly(3)\n",
    "\n",
    "for e in silly:\n",
    "    print(e)"
   ]
  },
  {
   "cell_type": "markdown",
   "id": "86a9c9c5-bc9e-48fd-ad2a-4a694fd7f2e9",
   "metadata": {},
   "source": [
    "The small difference we notice with the list comprehension approach below is that the `__getitem__` is being called multiple times as the list is being built up, and then finally, the list object is returned. But of course, we won't normally have a `print` statement within the `__getitem__` method."
   ]
  },
  {
   "cell_type": "code",
   "execution_count": 34,
   "id": "5ace7ef1-8aac-45c4-827d-17ab3aeb2979",
   "metadata": {},
   "outputs": [
    {
     "name": "stdout",
     "output_type": "stream",
     "text": [
      "value=0\n",
      "value=1\n",
      "value=2\n",
      "value=3\n"
     ]
    },
    {
     "data": {
      "text/plain": [
       "['This is a silly element',\n",
       " 'This is a silly element',\n",
       " 'This is a silly element']"
      ]
     },
     "execution_count": 34,
     "metadata": {},
     "output_type": "execute_result"
    }
   ],
   "source": [
    "[e for e in silly]"
   ]
  },
  {
   "cell_type": "markdown",
   "id": "49535737-e061-4998-a7b2-96dd2ae8c69c",
   "metadata": {},
   "source": [
    "**This object `silly` *is* a sequence**\n",
    "\n",
    "We can also use the slice notation such as `silly[0:5:2]` and Python will use the `__getitem__` method where the value is a `slice` object with the specified parameters. \n",
    "\n",
    "It won't work with our current setup because the line `if value < 0 or value >= self.n:` contains comparison operators which doesn't support slice objects of course. \n",
    "\n",
    "The appropriate approach is to check the instance/type of `value` and deal with it differently depending on whether it's a **slice** object or an integer. We'll demonstrate this below.\n",
    "\n",
    "Now let's work through a more practical example."
   ]
  },
  {
   "cell_type": "markdown",
   "id": "7117e523-44ee-47f3-a869-9156d1ac5c11",
   "metadata": {},
   "source": [
    "**Fibonacci Sequence Example**\n",
    "\n",
    "Here, we're going to implement our own Fibonacci sequence type and we want to support slicing.\n",
    "\n",
    "We'll make our sequence type bounded (i.e. we'll have to specify the size of the sequence). But we are not going to pre-generate the entire sequence of Fibonacci numbers, we'll only generate the ones that are being requested as needed.\n",
    "\n",
    "So, when we create our object, we'll have to specify the maximum Fibonacci number that will be possible for this sequence (but we won't generate that value or any other Fibonacci value during the creation of the object). See below.\n",
    "\n",
    "```\n",
    "f = Fib(10)    # Creating our Fibonacci sequence that can generate up to 10 values.\n",
    "f[3:5]         # It can handle slices. In this case, return a list of the element 3 and 4 of the Fibonacci sequence (i.e. 4th and 5th).\n",
    "f[::-1]        # Return a list of all Fibonacci values in reverse order. In this case, the 10th value and below. \n",
    "```\n",
    "\n",
    "Here are the steps:\n",
    "\n",
    "\n",
    "1. First we'll need to handle requesting a single index e.g. `f[3]` for the 4th Fibonacci value. To do this, we just need `__getitem__` which will allow the `[]` notation. \n",
    "\n",
    "\n",
    "2. To actually calculate the nth Fibonacci number, we'll use memoisation as well (see lecture on decorators and memoisation if you need to refresh your memory on that).\n",
    "\n",
    "3. To be able to use `list(f)`, we need to raise an `IndexError` exception when the index is out of bounds as this is one of the two essential criteria for iterating through a sequence. \n",
    "\n",
    "4. We also need to remap negative indices (for example `-1` should correspond to the last element of the sequence, and so on). This is done with:     \n",
    "\n",
    "```\n",
    "if s < 0:\n",
    "    s = self._n + s\n",
    "```\n",
    "\n",
    "5. Now let's handle slice requests. If you recall from Section 05 - Slicing, you might think it to be difficult to implement all those rules. But remember, the slice method `indices(<length of sequence>)` returns a tuple of 3 values which correspond to the equivalent start, stop and step values. These can be converted into a range object which we can iterate through, e.g. using a list comprehension or a 'for' loop, computing the corresponding Fibonacci value at each step. We can go further by generating the full list to show us which indices are going to be asked for.\n",
    "\n",
    "   For example:\n",
    "   \n",
    "   ```\n",
    "   my_slice = slice(2, -7, -2)          # When applied to a sequence s, it'd be equivalent to s[2:-7:-2]. Hard to see which indices we are requiring.\n",
    "\n",
    "   list(range(*my_slice.indices(6)))    # If we pass in the length of our sequence (6) then it outputs that we're asking for...\n",
    "   \n",
    "   > [2, 0]                             # ...index 2 and index 0. So find _fib(2) and then _fib(0), but we've not implemented this extra detail below.\n",
    "   ```\n",
    "   \n",
    "   We're done."
   ]
  },
  {
   "cell_type": "code",
   "execution_count": 27,
   "id": "4ddd9be6-3676-46b8-8f55-7514ea459383",
   "metadata": {},
   "outputs": [],
   "source": [
    "from functools import lru_cache\n",
    "\n",
    "class Fib:\n",
    "    def __init__(self, n):\n",
    "        self._n = n\n",
    "    \n",
    "    def __getitem__(self, s):\n",
    "        if isinstance(s, int):\n",
    "            # single item requested\n",
    "            if s < 0:\n",
    "                s = self._n + s\n",
    "            if s < 0 or s > self._n - 1:\n",
    "                raise IndexError\n",
    "            return self._fib(s)                                 # this is basically our 'else' statement.\n",
    "            \n",
    "        else:\n",
    "            # slice being requested\n",
    "            idx = s.indices(self._n)                            # the argument required for s.indices is the length of the sequence which is self._n\n",
    "            rng = range(*idx)                                   # This will create a range sequence object e.g. range(0, 10, 2), corresponding to the indices\n",
    "            return [self._fib(n) for n in rng]                  # in the Fibonacci sequence that we want.\n",
    "            \n",
    "    @staticmethod\n",
    "    @lru_cache(2**32)\n",
    "    def _fib(n):\n",
    "        if n < 2:\n",
    "            return 1\n",
    "        else:\n",
    "            return Fib._fib(n-1) + Fib._fib(n-2)"
   ]
  },
  {
   "cell_type": "code",
   "execution_count": 28,
   "id": "858d98bb-391b-4ce1-a837-149c95c94667",
   "metadata": {},
   "outputs": [
    {
     "name": "stdout",
     "output_type": "stream",
     "text": [
      "1\n",
      "55\n",
      "[1, 1, 2, 3, 5, 8, 13, 21, 34, 55]\n",
      "[1, 1, 2, 3, 5, 8, 13, 21, 34, 55]\n",
      "[2, 5, 13, 34]\n"
     ]
    }
   ],
   "source": [
    "f = Fib(10)\n",
    "\n",
    "print(f[0])\n",
    "print(f[9])\n",
    "print(list(f))\n",
    "print(list(item for item in f))\n",
    "print(f[2:9:2])"
   ]
  },
  {
   "cell_type": "markdown",
   "id": "c94fad73-54e6-495d-af78-cde84fc1a1fc",
   "metadata": {},
   "source": [
    "------------------\n",
    "**Sidenote:**\n",
    "\n",
    "A static method is bound to a class rather than the objects for that class. This means that a static method can be called without an object for that class. This also means that static methods cannot modify the state of an object as they are not bound to it.\n",
    "\n",
    "Static methods have a very clear use-case. When we need some functionality not w.r.t an Object but w.r.t the complete class, we make a method static. This is pretty much advantageous when we need to create Utility methods as they aren’t tied to an object lifecycle usually. Finally, note that in a static method, we don’t need the self to be passed as the first argument.\n",
    "\n",
    "------------------------"
   ]
  },
  {
   "cell_type": "markdown",
   "id": "1b623da8-48c6-4ec9-aa95-b7cff33c4d29",
   "metadata": {},
   "source": [
    "------------------------\n",
    "**Sidenote:**\n",
    "\n",
    "You may be wondering why the last line is `Fib._fib(n-1)` as opposed to `self._fib(n-1)` that we see in the `__getitem__` method. We could do it that way but things will start to look convoluted very quickly. For starters `def _fib(n)` will need to become `def _fib(self, n)`. Then, in `__getitem__`, `return self._fib(s)` will need to become `return self._fib(self, s)`. The code below is the version with these changes made.\n",
    "\n",
    "\n",
    "```    \n",
    "def __getitem__(self, s):\n",
    "    if isinstance(s, int):\n",
    "        # single item requested\n",
    "        if s < 0:\n",
    "            s = self._n + s\n",
    "        if s < 0 or s > self._n - 1:\n",
    "            raise IndexError\n",
    "                \n",
    "        return self._fib(self, s)                                 # this is basically our 'else' statement.\n",
    "    else:\n",
    "        # slice being requested\n",
    "        print(f'requesting [{s.start}:{s.stop}:{s.step}]')\n",
    "        idx = s.indices(self._n)                            # the argument required for s.indices is the length of the sequence which is self._n\n",
    "        rng = range(*idx)\n",
    "        print(f'\\trange({idx[0]}, {idx[1]}, {idx[2]}) --> {list(rng)}')  # \\t is tab special character\n",
    "            \n",
    "@staticmethod\n",
    "@lru_cache(2**32)\n",
    "def _fib(self, n):\n",
    "    if n < 2:\n",
    "        return 1\n",
    "    else:\n",
    "        return self._fib(self, n-1) + self._fib(self, n-2)\n",
    "```\n",
    "------------------------"
   ]
  },
  {
   "cell_type": "markdown",
   "id": "a4a4aa2c-366e-4814-99b0-e17b5e31c9eb",
   "metadata": {},
   "source": [
    "One thing I want to point out here: we did not need to use inheritance! There was no need to inherit from another sequence type. All we really needed was to implement the `__getitem__` and `__len__` methods."
   ]
  },
  {
   "cell_type": "markdown",
   "id": "4b2ad418-833b-442b-9e6e-3cbf643ef711",
   "metadata": {},
   "source": [
    "The other thing I want to mention, is that I would not use recursion for production purposes for a Fibonacci sequence, even with memoization - partly because of the cost of recursion and the limit to the recursion depth that is possible.\n",
    "\n",
    "Also, when we look at generators, and more particularly generator expressions, we'll see better ways of doing this as well.\n",
    "\n",
    "I really wanted to show you a simple example of how to create your own sequence types."
   ]
  },
  {
   "cell_type": "markdown",
   "id": "e272d1ea-c2b9-420f-8d42-8d14ecb1bcb2",
   "metadata": {},
   "source": [
    "# 07 - In-Place Concatenation and Repetition"
   ]
  },
  {
   "cell_type": "markdown",
   "id": "1439be16-715c-4533-9850-1d90111be329",
   "metadata": {},
   "source": [
    "#### In-Place Concatenation"
   ]
  },
  {
   "cell_type": "markdown",
   "id": "dbf3579d-62ca-4bf6-ad6e-9bc48ff5ecd9",
   "metadata": {},
   "source": [
    "We saw that using concatenation ended up creating a new sequence object:"
   ]
  },
  {
   "cell_type": "code",
   "execution_count": 36,
   "id": "fd9d1f9c-eb86-4cc0-a780-0e93a4293395",
   "metadata": {},
   "outputs": [
    {
     "name": "stdout",
     "output_type": "stream",
     "text": [
      "id(l1)=140117538850368 (before concatenation) [1, 2, 3, 4]\n",
      "id(l2)=140117624613760 [5, 6]\n",
      "id(l1)=140117538861760 (after concatenation) [1, 2, 3, 4, 5, 6]\n"
     ]
    }
   ],
   "source": [
    "l1 = [1, 2, 3, 4]\n",
    "l2 = [5, 6]\n",
    "print(f'{id(l1)=} (before concatenation)', l1)\n",
    "print(f'{id(l2)=}', l2)\n",
    "\n",
    "l1  = l1 + l2 \n",
    "print(f'{id(l1)=} (after concatenation)', l1)"
   ]
  },
  {
   "cell_type": "markdown",
   "id": "6b4d12c7-3f73-434c-932f-1d622fa642c2",
   "metadata": {},
   "source": [
    "But watch what happens when we use the in-place concatenation operator `+=:"
   ]
  },
  {
   "cell_type": "code",
   "execution_count": 37,
   "id": "5bff7114-6bf3-4f18-baab-eb3ae4fea190",
   "metadata": {},
   "outputs": [
    {
     "name": "stdout",
     "output_type": "stream",
     "text": [
      "id(l1)=140117538807616 (before concatenation) [1, 2, 3, 4]\n",
      "id(l2)=140117539448192 [5, 6]\n",
      "id(l1)=140117538807616 (after concatenation) [1, 2, 3, 4, 5, 6]\n"
     ]
    }
   ],
   "source": [
    "l1 = [1, 2, 3, 4]\n",
    "l2 = [5, 6]\n",
    "print(f'{id(l1)=} (before concatenation)', l1)\n",
    "print(f'{id(l2)=}', l2)\n",
    "\n",
    "l1 += l2 \n",
    "print(f'{id(l1)=} (after concatenation)', l1)"
   ]
  },
  {
   "cell_type": "markdown",
   "id": "df673726-965e-40ad-b527-d367c1a9ada9",
   "metadata": {},
   "source": [
    "**When using `+=` on an mutable object (that supports this operator), the object is mutated.**\n",
    "\n",
    "If we used a tuple instead of a list above, we have no other option but to create a new sequence object and store the concatenated data because tuples are not mutable."
   ]
  },
  {
   "cell_type": "markdown",
   "id": "2a51d703-6597-4f64-bb44-25857c6d932c",
   "metadata": {},
   "source": [
    "Another point to note is that normally we cannot concatenate a list and a tuple."
   ]
  },
  {
   "cell_type": "code",
   "execution_count": 45,
   "id": "558a5d4e-8922-44bc-a3a2-bd666387e99b",
   "metadata": {},
   "outputs": [
    {
     "ename": "TypeError",
     "evalue": "can only concatenate list (not \"tuple\") to list",
     "output_type": "error",
     "traceback": [
      "\u001b[0;31m---------------------------------------------------------------------------\u001b[0m",
      "\u001b[0;31mTypeError\u001b[0m                                 Traceback (most recent call last)",
      "\u001b[0;32m/tmp/ipykernel_3701/1697834321.py\u001b[0m in \u001b[0;36m<module>\u001b[0;34m\u001b[0m\n\u001b[1;32m      2\u001b[0m \u001b[0mt1\u001b[0m \u001b[0;34m=\u001b[0m \u001b[0;34m(\u001b[0m\u001b[0;36m5\u001b[0m\u001b[0;34m,\u001b[0m \u001b[0;36m6\u001b[0m\u001b[0;34m)\u001b[0m\u001b[0;34m\u001b[0m\u001b[0;34m\u001b[0m\u001b[0m\n\u001b[1;32m      3\u001b[0m \u001b[0;34m\u001b[0m\u001b[0m\n\u001b[0;32m----> 4\u001b[0;31m \u001b[0ml1\u001b[0m \u001b[0;34m=\u001b[0m \u001b[0ml1\u001b[0m \u001b[0;34m+\u001b[0m \u001b[0mt1\u001b[0m\u001b[0;34m\u001b[0m\u001b[0;34m\u001b[0m\u001b[0m\n\u001b[0m\u001b[1;32m      5\u001b[0m \u001b[0mprint\u001b[0m\u001b[0;34m(\u001b[0m\u001b[0ml1\u001b[0m\u001b[0;34m)\u001b[0m\u001b[0;34m\u001b[0m\u001b[0;34m\u001b[0m\u001b[0m\n",
      "\u001b[0;31mTypeError\u001b[0m: can only concatenate list (not \"tuple\") to list"
     ]
    }
   ],
   "source": [
    "l1 = [1, 2, 3, 4]\n",
    "t1 = (5, 6)\n",
    "\n",
    "l1 = l1 + t1\n",
    "print(l1)"
   ]
  },
  {
   "cell_type": "markdown",
   "id": "c04a2e00-6e1e-476b-ba80-c947d68b3ab1",
   "metadata": {},
   "source": [
    "But we CAN do so **if we use the concatenation operator**. But this only works if we concatenate the mutable list with a tuple - we cannot concatenate the immutable tuple with a list, because the tuple is immutable."
   ]
  },
  {
   "cell_type": "code",
   "execution_count": 49,
   "id": "6915d5d4-8fb1-471e-b719-15532b6aa676",
   "metadata": {},
   "outputs": [
    {
     "name": "stdout",
     "output_type": "stream",
     "text": [
      "[1, 2, 3, 4, 5, 6]\n"
     ]
    }
   ],
   "source": [
    "l1 = [1, 2, 3, 4]\n",
    "t1 = (5, 6)\n",
    "\n",
    "l1 += t1\n",
    "print(l1)"
   ]
  },
  {
   "cell_type": "markdown",
   "id": "a90b4be3-394c-4e2d-8536-3bf11bc8a292",
   "metadata": {},
   "source": [
    "#### In-Place Repetition"
   ]
  },
  {
   "cell_type": "markdown",
   "id": "097def6b-ee96-46d3-b9a5-95afe78b8762",
   "metadata": {},
   "source": [
    "**The same is true for the `*=` operator.**"
   ]
  },
  {
   "cell_type": "code",
   "execution_count": 41,
   "id": "c753c662-0139-4236-9ec5-c54f3f929a29",
   "metadata": {},
   "outputs": [
    {
     "name": "stdout",
     "output_type": "stream",
     "text": [
      "id(l1)=140117539326464 (before concatenation) [1, 2, 3, 4]\n",
      "id(l2)=140117539440000 [5, 6]\n",
      "id(l1)=140117539326464 (after concatenation) [1, 2, 3, 4, 1, 2, 3, 4]\n"
     ]
    }
   ],
   "source": [
    "l1 = [1, 2, 3, 4]\n",
    "l2 = [5, 6]\n",
    "print(f'{id(l1)=} (before concatenation)', l1)\n",
    "print(f'{id(l2)=}', l2)\n",
    "\n",
    "l1 *= 2\n",
    "print(f'{id(l1)=} (after concatenation)', l1)"
   ]
  },
  {
   "cell_type": "markdown",
   "id": "0fcecd4a-0e1d-498e-b48c-7dfed8beaba8",
   "metadata": {},
   "source": [
    "So the key takeaway from this section is that `a = a + b` is NOT equivalent to `a += b` if `a` is a mutable object; in the former, a new object is created and `a` points to it, and in the latter, `a` is modified as is."
   ]
  },
  {
   "cell_type": "markdown",
   "id": "cf4dc949-d7d2-4682-8ac9-fc51307fd601",
   "metadata": {},
   "source": [
    "# 08 - Assignments in Mutable Sequences"
   ]
  },
  {
   "cell_type": "markdown",
   "id": "4bc4b6ca-87ec-42ee-8bb1-0242670867ce",
   "metadata": {},
   "source": [
    "#### Replacing"
   ]
  },
  {
   "cell_type": "markdown",
   "id": "b7b8b4db-c092-447a-bb6f-b718906dc2dd",
   "metadata": {},
   "source": [
    "Up until now we've used slicing to read elements from a sequence. But, as you know we can also replace the elements in a slice using assignment. Those elements need to be retrieved from any iterable e.g. tuple, set, etc.\n",
    "\n",
    "For regular slices (step size = 1, i.e. non-extended), the slice and iterable **need *not* be the same length**.\n",
    "\n",
    "This operation **performs a mutation**."
   ]
  },
  {
   "cell_type": "code",
   "execution_count": 52,
   "id": "1833eccd-9f9a-4dd3-8a81-65abe5c89bdf",
   "metadata": {},
   "outputs": [
    {
     "data": {
      "text/plain": [
       "[1, 10, 20, 30, 3, 4, 5]"
      ]
     },
     "execution_count": 52,
     "metadata": {},
     "output_type": "execute_result"
    }
   ],
   "source": [
    "l = [1, 2, 3, 4, 5]\n",
    "l[1:2] = (10, 20, 30)\n",
    "l"
   ]
  },
  {
   "cell_type": "markdown",
   "id": "0f170d3d-ada9-40ec-b331-13972ac2c07f",
   "metadata": {},
   "source": [
    "For extended slices, the length of the slice and the length of the iterable we are setting on the RHS must have the **same length**:"
   ]
  },
  {
   "cell_type": "code",
   "execution_count": 54,
   "id": "fab1627c-441d-4af3-b05b-874fb131b3b2",
   "metadata": {
    "tags": []
   },
   "outputs": [],
   "source": [
    "l = [1, 2, 3, 4, 5]"
   ]
  },
  {
   "cell_type": "code",
   "execution_count": 57,
   "id": "2107ccb3-5891-4632-8aea-401a08655c5f",
   "metadata": {},
   "outputs": [
    {
     "data": {
      "text/plain": [
       "[1, 3, 5]"
      ]
     },
     "execution_count": 57,
     "metadata": {},
     "output_type": "execute_result"
    }
   ],
   "source": [
    "l[::2]"
   ]
  },
  {
   "cell_type": "code",
   "execution_count": 58,
   "id": "cda23d76-60a5-4779-bec5-ea495328a814",
   "metadata": {},
   "outputs": [
    {
     "ename": "ValueError",
     "evalue": "attempt to assign sequence of size 2 to extended slice of size 3",
     "output_type": "error",
     "traceback": [
      "\u001b[1;31m---------------------------------------------------------------------------\u001b[0m",
      "\u001b[1;31mValueError\u001b[0m                                Traceback (most recent call last)",
      "\u001b[1;32m<ipython-input-58-10f1ccbf07ed>\u001b[0m in \u001b[0;36m<module>\u001b[1;34m()\u001b[0m\n\u001b[1;32m----> 1\u001b[1;33m \u001b[0ml\u001b[0m\u001b[1;33m[\u001b[0m\u001b[1;33m:\u001b[0m\u001b[1;33m:\u001b[0m\u001b[1;36m2\u001b[0m\u001b[1;33m]\u001b[0m \u001b[1;33m=\u001b[0m \u001b[1;33m[\u001b[0m\u001b[1;34m'a'\u001b[0m\u001b[1;33m,\u001b[0m \u001b[1;34m'b'\u001b[0m\u001b[1;33m]\u001b[0m\u001b[1;33m\u001b[0m\u001b[0m\n\u001b[0m",
      "\u001b[1;31mValueError\u001b[0m: attempt to assign sequence of size 2 to extended slice of size 3"
     ]
    }
   ],
   "source": [
    "l[::2] = ['a', 'b']"
   ]
  },
  {
   "cell_type": "markdown",
   "id": "b49a6913-a272-4ef2-9fa5-23c86d0766f5",
   "metadata": {},
   "source": [
    "In the last example, we are telling Python to replace the elements 1, 3 and 5. But we are only assigning two elements on the RHS. How will Python know where those two elements should go? Perhaps the 'a' should replace 1 and 'b' replace 3 and leave 5 as it is? That would be confusing so Python requires the same length on each side."
   ]
  },
  {
   "cell_type": "code",
   "execution_count": 56,
   "id": "af5ea874-c969-40a8-a1c9-11a97ca104e7",
   "metadata": {},
   "outputs": [
    {
     "data": {
      "text/plain": [
       "['a', 2, 'b', 4, 'c']"
      ]
     },
     "execution_count": 56,
     "metadata": {},
     "output_type": "execute_result"
    }
   ],
   "source": [
    "l = [1, 2, 3, 4, 5]\n",
    "l[::2] = ['a', 'b', 'c']\n",
    "l"
   ]
  },
  {
   "cell_type": "markdown",
   "id": "5d9a1c55-fc07-4e5b-92e9-c517e6770c4a",
   "metadata": {},
   "source": [
    "#### Deleting"
   ]
  },
  {
   "cell_type": "markdown",
   "id": "3d117f2b-90a7-4cf1-9c3a-452b1e8fc722",
   "metadata": {},
   "source": [
    "Deleting is a special case of replacement. We just replace the element with an **empty** iterable. This only works for standard slicing - not extended slicing because that requires the iterable to have the same length. The problem with that is we can't assign, say, 3 empty iterables to replace out 3 non-contiguous elements (i.e. non-sequential elements)."
   ]
  },
  {
   "cell_type": "code",
   "execution_count": 60,
   "id": "b86eb5b5-3799-491a-b5b2-9abc4a8c4174",
   "metadata": {},
   "outputs": [
    {
     "data": {
      "text/plain": [
       "[2, 3]"
      ]
     },
     "execution_count": 60,
     "metadata": {},
     "output_type": "execute_result"
    }
   ],
   "source": [
    "l = [1, 2, 3, 4, 5]\n",
    "l[1:3]"
   ]
  },
  {
   "cell_type": "code",
   "execution_count": 61,
   "id": "dc3c1401-5322-4008-a08c-f95e083121ec",
   "metadata": {},
   "outputs": [
    {
     "data": {
      "text/plain": [
       "[1, 4, 5]"
      ]
     },
     "execution_count": 61,
     "metadata": {},
     "output_type": "execute_result"
    }
   ],
   "source": [
    "l[1:3] = []\n",
    "l"
   ]
  },
  {
   "cell_type": "markdown",
   "id": "a61815bb-9cc5-4cb1-acc4-3dff647a13e8",
   "metadata": {},
   "source": [
    "The empty iterable we've assigned on the RHS is `[]` but we could've equivalently done `''` or `()` or `{}` if we wanted to."
   ]
  },
  {
   "cell_type": "code",
   "execution_count": 69,
   "id": "409dca59-1de7-400c-b1ed-4202ddc83e8e",
   "metadata": {},
   "outputs": [
    {
     "name": "stdout",
     "output_type": "stream",
     "text": [
      "[1, 3, 5]\n"
     ]
    },
    {
     "ename": "ValueError",
     "evalue": "attempt to assign sequence of size 0 to extended slice of size 3",
     "output_type": "error",
     "traceback": [
      "\u001b[0;31m---------------------------------------------------------------------------\u001b[0m",
      "\u001b[0;31mValueError\u001b[0m                                Traceback (most recent call last)",
      "\u001b[0;32m/tmp/ipykernel_3701/3880459178.py\u001b[0m in \u001b[0;36m<module>\u001b[0;34m\u001b[0m\n\u001b[1;32m      2\u001b[0m \u001b[0mprint\u001b[0m\u001b[0;34m(\u001b[0m\u001b[0ml2\u001b[0m\u001b[0;34m[\u001b[0m\u001b[0;34m:\u001b[0m\u001b[0;34m:\u001b[0m\u001b[0;36m2\u001b[0m\u001b[0;34m]\u001b[0m\u001b[0;34m)\u001b[0m\u001b[0;34m\u001b[0m\u001b[0;34m\u001b[0m\u001b[0m\n\u001b[1;32m      3\u001b[0m \u001b[0;34m\u001b[0m\u001b[0m\n\u001b[0;32m----> 4\u001b[0;31m \u001b[0ml2\u001b[0m\u001b[0;34m[\u001b[0m\u001b[0;34m:\u001b[0m\u001b[0;34m:\u001b[0m\u001b[0;36m2\u001b[0m\u001b[0;34m]\u001b[0m \u001b[0;34m=\u001b[0m \u001b[0;34m[\u001b[0m\u001b[0;34m]\u001b[0m\u001b[0;34m\u001b[0m\u001b[0;34m\u001b[0m\u001b[0m\n\u001b[0m",
      "\u001b[0;31mValueError\u001b[0m: attempt to assign sequence of size 0 to extended slice of size 3"
     ]
    }
   ],
   "source": [
    "l2 = [1, 2, 3, 4, 5]\n",
    "print(l2[::2])\n",
    "\n",
    "l2[::2] = []"
   ]
  },
  {
   "cell_type": "markdown",
   "id": "023ded87-8c40-4872-9266-5b4f9d023fb2",
   "metadata": {},
   "source": [
    "#### Insertion"
   ]
  },
  {
   "cell_type": "markdown",
   "id": "ca422423-1008-40d9-8745-c167754ec802",
   "metadata": {},
   "source": [
    "The trick for inserting elements is that the slice must be empty and the RHS must contain an iterable. If the slice is not empty, then it will replace those elements as opposed to insert next to it, so it will no longer be considered insertion.\n",
    "\n",
    "Here's how we insert a string iterable `abc` at index 1."
   ]
  },
  {
   "cell_type": "code",
   "execution_count": 70,
   "id": "419b0f38-1752-4ddc-b001-b796d3ce54cd",
   "metadata": {},
   "outputs": [
    {
     "name": "stdout",
     "output_type": "stream",
     "text": [
      "[]\n"
     ]
    },
    {
     "data": {
      "text/plain": [
       "[1, 'a', 'b', 'c', 2, 3, 4, 5]"
      ]
     },
     "execution_count": 70,
     "metadata": {},
     "output_type": "execute_result"
    }
   ],
   "source": [
    "l = [1, 2, 3, 4, 5]\n",
    "print(l[1:1])\n",
    "l[1:1] = 'abc'\n",
    "l"
   ]
  },
  {
   "cell_type": "markdown",
   "id": "5bd516d9-c27c-4a5b-9e0c-8b58a0c348bb",
   "metadata": {},
   "source": [
    "Again, this won't work for extended slicing because insertion requires a single empty slice at a given location which is replaced by our iterable, whereas extended slicing will always give us a non-empty slice (unless we write something like `l[3:3:1]` but that's just a technicality - it's identical to `l[3:3]`)."
   ]
  },
  {
   "cell_type": "markdown",
   "id": "b0ec04ff-e9cb-4cdb-9ac3-82e8361eb475",
   "metadata": {},
   "source": [
    "So a key takeaway for this section is that we can use regular slicing for replacing, deleting and inserting, and generally, the LHS and RHS **need not be the same length**. \n",
    "\n",
    "If we want to perform an operation on non-contiguous elements, then we'll have to use extended slicing to select those elements, but now the LHS and RHS **need to be the same length**. Since, inserting requires an empty slice on the LHS while deleting requires an empty slice on the RHS, these two operations are impossible using this approach."
   ]
  },
  {
   "cell_type": "markdown",
   "id": "78d10a46-70fd-440e-bd41-d54e918f68cb",
   "metadata": {},
   "source": [
    "# 09 - Custom Sequences - Part 2a"
   ]
  },
  {
   "cell_type": "markdown",
   "id": "cb4d7cd8-3296-4194-9917-61d7bb5dfdb3",
   "metadata": {},
   "source": [
    "We have seen before how we could define our own custom sequence type by implementing the `__len__` and `__getitem__` methods.\n",
    "\n",
    "Here we are going to look at how to implement:\n",
    "* concatenation (`+`) : same as `.__add__()`\n",
    "* in-place concatenation (`+=`) : same as `.__iadd__()`\n",
    "* repetition (`seq * n`); if Python runs into `TypeError`, it then tries the below with reversed args: same as `.__mul__()`\n",
    "* repetition reversed (`n * seq`) : same as `.__rmul__()`\n",
    "* in-place repetition (`*=`) : same as `.__rmul__()`\n",
    "* index assignment (`seq[i]=val`) : same as `.__setitem__()`\n",
    "* slice assignment (`seq[i:j]=iter` and `seq[i:j:k]=iter`) : same as `.__setitem__()`\n",
    "* del, : same as `.__delitem__()`\n",
    "* `<value> in <sequence>` : same as `__contains__()`\n",
    "* append, extend, pop : These are *not* special methods. If we want them, we just implement them as regular methods.\n",
    "\n",
    "Implementing these methods will **overload** the current operator methods with our method."
   ]
  },
  {
   "cell_type": "markdown",
   "id": "a3edea0d-2ee1-4a76-ad73-27d2e668ced4",
   "metadata": {},
   "source": [
    "#### The `+` and `+=` Operators"
   ]
  },
  {
   "cell_type": "markdown",
   "id": "f80c4052-2c70-4cc3-a259-a040fb9fbb8f",
   "metadata": {},
   "source": [
    "First we look at how we can overload the `+` and `+=` operators in a custom class in general. Then we'll look at how to use this in the context of sequences."
   ]
  },
  {
   "cell_type": "markdown",
   "id": "f564a0b0-4b5c-48fa-9fae-85a0e9ed96e6",
   "metadata": {},
   "source": [
    "We use the special functions `__add__` and `__iadd__`.\n",
    "\n",
    "Just to see how those methods get called, we're actually going to implement them to just print out that they were called. As you can see, we can implement them however we want!"
   ]
  },
  {
   "cell_type": "code",
   "execution_count": 7,
   "id": "fd39203c-68ed-4ac9-ad29-4f74104534db",
   "metadata": {
    "tags": []
   },
   "outputs": [],
   "source": [
    "class MyClass:\n",
    "    def __init__(self, name):\n",
    "        self.name = name\n",
    "        \n",
    "    def __repr__(self):\n",
    "        return f'MyClass(name={self.name})'\n",
    "    \n",
    "    def __add__(self, other):\n",
    "        print(f'You called + on {self} and {other}')\n",
    "        return 'Hello from __add__'\n",
    "        \n",
    "    def __iadd__(self, other):\n",
    "        print(f'You called += on {self} and {other}')\n",
    "        return 'Hello from __iadd__'"
   ]
  },
  {
   "cell_type": "code",
   "execution_count": 8,
   "id": "82171ec8-6a75-4a61-8a20-3d67c5b0accd",
   "metadata": {
    "tags": []
   },
   "outputs": [],
   "source": [
    "c1 = MyClass('instance 1')\n",
    "c2 = MyClass('instance 2')"
   ]
  },
  {
   "cell_type": "code",
   "execution_count": 9,
   "id": "1a636bb0-0b36-4326-b6d2-97c3c7c4e881",
   "metadata": {},
   "outputs": [
    {
     "name": "stdout",
     "output_type": "stream",
     "text": [
      "You called + on MyClass(name=instance 1) and MyClass(name=instance 2)\n"
     ]
    }
   ],
   "source": [
    "c3 = c1 + c2"
   ]
  },
  {
   "cell_type": "markdown",
   "id": "b924d7cb-a710-4a7c-beb6-7307404b4ccb",
   "metadata": {},
   "source": [
    "Let's try the in-place addition operator. We may expect mutation to occur and therefore, the id should stay the same."
   ]
  },
  {
   "cell_type": "code",
   "execution_count": 10,
   "id": "b965d678-71ba-4e25-98da-74ec3217785e",
   "metadata": {},
   "outputs": [
    {
     "name": "stdout",
     "output_type": "stream",
     "text": [
      "140528194484784\n",
      "You called += on MyClass(name=instance 1) and MyClass(name=instance 2)\n",
      "140528049348144\n",
      "Hello from __iadd__\n"
     ]
    }
   ],
   "source": [
    "print(id(c1))\n",
    "c1 += c2\n",
    "print(id(c1))\n",
    "print(c1)"
   ]
  },
  {
   "cell_type": "markdown",
   "id": "3f713ee7-cdef-4f0d-9211-5bff9569a632",
   "metadata": {},
   "source": [
    "But it doesn't! That's because `c1` is now the string `\"Hello from __iadd__\"` which is a different object. So the special method `__iadd__` doesn't inherently impose this behaviour - we don't have to make it do that - but it's what everyone expects it to do so we should. The only behaviour that it imposes is allowing for `+=` functionality.\n",
    "\n",
    "So, `__add__` expects us to take two objects (typically of the same instance) and return a new object of the same instance. \n",
    "\n",
    "`__iadd__` expect us to take two objects and typically return the first object but mutated. So we're going to apply a change to the first object as opposed to creating a new instance altogether.\n",
    "\n",
    "How do we do these two things in code?"
   ]
  },
  {
   "cell_type": "code",
   "execution_count": 11,
   "id": "b81ac247-1fee-450c-97e1-0c56942648be",
   "metadata": {
    "tags": []
   },
   "outputs": [],
   "source": [
    "class MyClass:\n",
    "    def __init__(self, name):\n",
    "        self.name = name\n",
    "        \n",
    "    def __repr__(self):\n",
    "        return f'MyClass(name={self.name})'\n",
    "    \n",
    "    def __add__(self, other):\n",
    "        return MyClass(self.name + ' ' + other.name)\n",
    "        \n",
    "    def __iadd__(self, other):\n",
    "        self.name += ' ' + other.name   # Remember, this is NOT inplace concatenation / mutation \n",
    "                                        # because 'name' is a string which is immutable so Python is forced to create a new object.\n",
    "        return self\n",
    "        "
   ]
  },
  {
   "cell_type": "code",
   "execution_count": 12,
   "id": "da99a807-09db-4769-8f31-5a9a14f5ffce",
   "metadata": {
    "tags": []
   },
   "outputs": [],
   "source": [
    "c1 = MyClass('Eric')\n",
    "c2 = MyClass('Idle')"
   ]
  },
  {
   "cell_type": "code",
   "execution_count": 13,
   "id": "bcf8cfe3-6fbd-442f-a0e8-c87413b10c84",
   "metadata": {
    "collapsed": true,
    "jupyter": {
     "outputs_hidden": true
    }
   },
   "outputs": [],
   "source": [
    "c3 = c1 + c2"
   ]
  },
  {
   "cell_type": "code",
   "execution_count": 14,
   "id": "678ec0ba-ee5d-4bb6-bac3-607e6f0e85b9",
   "metadata": {},
   "outputs": [
    {
     "data": {
      "text/plain": [
       "MyClass(name=Eric Idle)"
      ]
     },
     "execution_count": 14,
     "metadata": {},
     "output_type": "execute_result"
    }
   ],
   "source": [
    "c3"
   ]
  },
  {
   "cell_type": "markdown",
   "id": "2db5465c-b907-45fb-a80a-095ae0d5118b",
   "metadata": {},
   "source": [
    "These two methods are not restrictive (which is not necessarily an issue). All we require for the 2nd operand is that it has a property of `name` and is of a type that supports concatenation.\n",
    "\n",
    "Also, to emphasise once more, `__iadd__` will now have the ensure that the ID remains the same. This is because we return `self` (the original object) as opposed to `MyClass(self.name + other.name)`."
   ]
  },
  {
   "cell_type": "markdown",
   "id": "f3e91851-2148-430f-981d-0d54cb010f25",
   "metadata": {},
   "source": [
    "#### The `*` and `*=` Operators"
   ]
  },
  {
   "cell_type": "markdown",
   "id": "774e8a88-1240-4538-9dff-021257acd11b",
   "metadata": {},
   "source": [
    "Just as easily we can overload the `*` and `*=` operators too, using the `__mul__` and `__imul__` methods."
   ]
  },
  {
   "cell_type": "code",
   "execution_count": 14,
   "id": "4ab494c7-774e-4dba-ba0f-0703ae6f3721",
   "metadata": {
    "tags": []
   },
   "outputs": [],
   "source": [
    "class MyClass:\n",
    "    def __init__(self, name):\n",
    "        self.name = name\n",
    "        \n",
    "    def __repr__(self):\n",
    "        return f'MyClass(name={self.name})'\n",
    "    \n",
    "    def __add__(self, other):\n",
    "        return MyClass(self.name + ' ' + other.name)\n",
    "        \n",
    "    def __iadd__(self, other):\n",
    "        self.name += ' ' + other.name\n",
    "        return self\n",
    "    \n",
    "    def __mul__(self, n):\n",
    "        return MyClass(self.name * n)\n",
    "        \n",
    "    def __imul__(self, n):\n",
    "        self.name *= n\n",
    "        return self"
   ]
  },
  {
   "cell_type": "code",
   "execution_count": 15,
   "id": "a9e28c78-9b9c-4a88-b02b-776afd5481ac",
   "metadata": {
    "tags": []
   },
   "outputs": [],
   "source": [
    "c1 = MyClass('Eric')"
   ]
  },
  {
   "cell_type": "code",
   "execution_count": 16,
   "id": "b144b9fa-1bf4-4527-85f5-390fed35c6f1",
   "metadata": {},
   "outputs": [
    {
     "data": {
      "text/plain": [
       "MyClass(name=EricEricEric)"
      ]
     },
     "execution_count": 16,
     "metadata": {},
     "output_type": "execute_result"
    }
   ],
   "source": [
    "c1 * 3"
   ]
  },
  {
   "cell_type": "code",
   "execution_count": 17,
   "id": "94e8c586-8b5d-4c8b-9bce-4536fa2d4564",
   "metadata": {},
   "outputs": [
    {
     "name": "stdout",
     "output_type": "stream",
     "text": [
      "140528194484304 MyClass(name=Eric)\n",
      "140528194484304 MyClass(name=EricEricEric)\n"
     ]
    }
   ],
   "source": [
    "print(id(c1), c1)\n",
    "c1 *= 3\n",
    "print(id(c1), c1)"
   ]
  },
  {
   "cell_type": "markdown",
   "id": "5e307a2b-5201-40c0-8384-db30c696e073",
   "metadata": {},
   "source": [
    "What about multiplying an integer by the sequence?"
   ]
  },
  {
   "cell_type": "code",
   "execution_count": 25,
   "id": "d4757d2a-8bd7-4253-8b0d-9da94c8a6366",
   "metadata": {},
   "outputs": [
    {
     "ename": "TypeError",
     "evalue": "unsupported operand type(s) for *: 'int' and 'MyClass'",
     "output_type": "error",
     "traceback": [
      "\u001b[1;31m---------------------------------------------------------------------------\u001b[0m",
      "\u001b[1;31mTypeError\u001b[0m                                 Traceback (most recent call last)",
      "\u001b[1;32m<ipython-input-25-30ca4f2f7860>\u001b[0m in \u001b[0;36m<module>\u001b[1;34m()\u001b[0m\n\u001b[0;32m      1\u001b[0m \u001b[0mc1\u001b[0m \u001b[1;33m=\u001b[0m \u001b[0mMyClass\u001b[0m\u001b[1;33m(\u001b[0m\u001b[1;34m'Monty'\u001b[0m\u001b[1;33m)\u001b[0m\u001b[1;33m\u001b[0m\u001b[0m\n\u001b[1;32m----> 2\u001b[1;33m \u001b[1;36m2\u001b[0m \u001b[1;33m*\u001b[0m \u001b[0mc1\u001b[0m\u001b[1;33m\u001b[0m\u001b[0m\n\u001b[0m",
      "\u001b[1;31mTypeError\u001b[0m: unsupported operand type(s) for *: 'int' and 'MyClass'"
     ]
    }
   ],
   "source": [
    "c1 = MyClass('Monty')\n",
    "2 * c1"
   ]
  },
  {
   "cell_type": "markdown",
   "id": "c582fe78-0dd6-4af5-8a99-63a3adbbb183",
   "metadata": {},
   "source": [
    "To handle this we need to implement the `__rmul__` method:"
   ]
  },
  {
   "cell_type": "code",
   "execution_count": 18,
   "id": "703b534c-d853-4abe-bb3c-cace89b09be4",
   "metadata": {
    "tags": []
   },
   "outputs": [],
   "source": [
    "class MyClass:\n",
    "    def __init__(self, name):\n",
    "        self.name = name\n",
    "        \n",
    "    def __repr__(self):\n",
    "        return f'MyClass(name={self.name})'\n",
    "    \n",
    "    def __mul__(self, n):\n",
    "        return MyClass(self.name * n)\n",
    "    \n",
    "    def __rmul__(self, n):\n",
    "        return self.__mul__(n)"
   ]
  },
  {
   "cell_type": "code",
   "execution_count": 19,
   "id": "b2b49deb-5e2f-4e00-8d79-22e8f3e62179",
   "metadata": {
    "tags": []
   },
   "outputs": [],
   "source": [
    "c1 = MyClass('Monty')"
   ]
  },
  {
   "cell_type": "code",
   "execution_count": 20,
   "id": "98e97ef1-e01b-48de-b6ca-91b6db836ab8",
   "metadata": {},
   "outputs": [
    {
     "data": {
      "text/plain": [
       "MyClass(name=MontyMonty)"
      ]
     },
     "execution_count": 20,
     "metadata": {},
     "output_type": "execute_result"
    }
   ],
   "source": [
    "2 * c1"
   ]
  },
  {
   "cell_type": "markdown",
   "id": "573a503f-580e-45b7-a7ae-f5bda16a5582",
   "metadata": {},
   "source": [
    "Python first tries `2.__mul__(c1)` and raises a `TypeError` at `self.name` = `2.name`, so it runs `__rmul__` with the arguments reversed. So, `self <=> n` and `return self.__mul__(n)` becomes `c1.__mul__(3)`, which works."
   ]
  },
  {
   "cell_type": "markdown",
   "id": "5c6dd466-759e-43ee-b463-e4512127368e",
   "metadata": {},
   "source": [
    "#### Implementing the `in` operator"
   ]
  },
  {
   "cell_type": "markdown",
   "id": "3b3f710f-90a1-4ca2-88fc-91467f174c9c",
   "metadata": {},
   "source": [
    "For this example, we'll want `in` to test if the something is contained in the name string of our class:"
   ]
  },
  {
   "cell_type": "code",
   "execution_count": 21,
   "id": "a41ecbf9-cd89-4bd0-be28-66b61bed09d7",
   "metadata": {
    "tags": []
   },
   "outputs": [],
   "source": [
    "class MyClass:\n",
    "    def __init__(self, name):\n",
    "        self.name = name\n",
    "        \n",
    "    def __repr__(self):\n",
    "        return f'MyClass(name={self.name})'\n",
    "    \n",
    "    def __contains__(self, value):\n",
    "        return value in self.name"
   ]
  },
  {
   "cell_type": "code",
   "execution_count": 22,
   "id": "07270245-d511-4108-928b-d4a44ddcb938",
   "metadata": {
    "tags": []
   },
   "outputs": [],
   "source": [
    "c1 = MyClass('MontyPython')"
   ]
  },
  {
   "cell_type": "code",
   "execution_count": 23,
   "id": "f95417ec-2871-4a90-a847-a5acbcae2d02",
   "metadata": {},
   "outputs": [
    {
     "data": {
      "text/plain": [
       "True"
      ]
     },
     "execution_count": 23,
     "metadata": {},
     "output_type": "execute_result"
    }
   ],
   "source": [
    "'ty' in c1"
   ]
  },
  {
   "cell_type": "markdown",
   "id": "64fcf1ef-5780-4b12-885c-8bf1c3903d34",
   "metadata": {},
   "source": [
    "# 10 - Custom Sequences - Part 2b_c"
   ]
  },
  {
   "cell_type": "markdown",
   "id": "e14632d2-a432-4273-a35f-4581ea60cd30",
   "metadata": {},
   "source": [
    "For this example we'll re-use the Polygon class from a previous lecture on extending sequences.\n",
    "\n",
    "We are going to consider a polygon as nothing more than a collection of points (and we'll stick to a 2-dimensional space).\n",
    "\n",
    "So, we'll need a `Point` class, but we're going to use our own custom class instead of just using a named tuple.\n",
    "\n",
    "We do this because we want to enforce a rule that our Point co-ordinates will be real numbers. We would not be able to use a named tuple to do that and we could end up with points whose `x` and `y` coordinates could be of any type."
   ]
  },
  {
   "cell_type": "code",
   "execution_count": 2,
   "id": "d7144b60-99e4-47ee-9313-626955ead7dc",
   "metadata": {},
   "outputs": [
    {
     "name": "stdout",
     "output_type": "stream",
     "text": [
      "10\n",
      "5\n"
     ]
    }
   ],
   "source": [
    "from collections import namedtuple\n",
    "\n",
    "Point = namedtuple('Point', 'x y')\n",
    "p1 = Point(10, 5)\n",
    "p2 = Point('abc', [1,2,3])          # We want to be able to prevent passing in the wrong type in our custom sequence\n",
    "\n",
    "x, y = p1                           # But, we would like this functionality of namedtuples in our custom sequence\n",
    "print(x)\n",
    "print(y)"
   ]
  },
  {
   "cell_type": "markdown",
   "id": "3d65490d-d997-4080-8ebe-bab5765de2a0",
   "metadata": {},
   "source": [
    "First we'll need to see how we can test if a type is a numeric real type.\n",
    "\n",
    "We can do this by using the numbers module."
   ]
  },
  {
   "cell_type": "code",
   "execution_count": 5,
   "id": "4cd63855-0f41-47dd-9654-d21e031f3b35",
   "metadata": {
    "tags": []
   },
   "outputs": [],
   "source": [
    "import numbers"
   ]
  },
  {
   "cell_type": "markdown",
   "id": "920f3ca4-6a09-430d-9b82-2ef2160ee92b",
   "metadata": {},
   "source": [
    "This module contains certain base types for numbers that we can use, such as Number, Real, Complex, etc."
   ]
  },
  {
   "cell_type": "code",
   "execution_count": 6,
   "id": "2b43a572-e91a-47a7-b5ac-6faa6f9146d1",
   "metadata": {},
   "outputs": [
    {
     "name": "stdout",
     "output_type": "stream",
     "text": [
      "True\n",
      "True\n"
     ]
    }
   ],
   "source": [
    "print(isinstance(10, numbers.Number))\n",
    "print(isinstance(1+1j, numbers.Number))"
   ]
  },
  {
   "cell_type": "markdown",
   "id": "434a78da-414b-4907-b037-80bdcbbe9fbd",
   "metadata": {},
   "source": [
    "We will want our points to be real numbers only, so we can do it this way:"
   ]
  },
  {
   "cell_type": "code",
   "execution_count": 7,
   "id": "042acd08-7327-4e79-b36a-555c009af8f5",
   "metadata": {},
   "outputs": [
    {
     "data": {
      "text/plain": [
       "False"
      ]
     },
     "execution_count": 7,
     "metadata": {},
     "output_type": "execute_result"
    }
   ],
   "source": [
    "isinstance(1+1j, numbers.Real)"
   ]
  },
  {
   "cell_type": "markdown",
   "id": "78a36a84-c359-4afb-a3de-556becdd8925",
   "metadata": {},
   "source": [
    "So now let's write our Point class. We want it to have these properties:\n",
    "\n",
    "  1. The `x` and `y` coordinates should be real numbers only\n",
    "  2. Point instances should be a sequence type so that we can unpack it as needed in the same way we were able to unpack the values of a named tuple."
   ]
  },
  {
   "cell_type": "code",
   "execution_count": 8,
   "id": "b20f3c2a-5cce-4629-b8f6-feaaf662fd33",
   "metadata": {
    "tags": []
   },
   "outputs": [],
   "source": [
    "class Point:\n",
    "    def __init__(self, x, y):\n",
    "        if isinstance(x, numbers.Real) and isinstance(y, numbers.Real):\n",
    "            self._pt = (x, y)\n",
    "        else:\n",
    "            raise TypeError('Point co-ordinates must be real numbers.')\n",
    "            \n",
    "    def __repr__(self):\n",
    "        return f'Point(x={self._pt[0]}, y={self._pt[1]})'\n",
    "    \n",
    "    def __len__(self):\n",
    "        return 2\n",
    "    \n",
    "    def __getitem__(self, s):\n",
    "        return self._pt[s]"
   ]
  },
  {
   "cell_type": "markdown",
   "id": "6fb556d6-2b73-4f6c-bbf9-92944c3cc2c1",
   "metadata": {},
   "source": [
    "In `__getitem__(self, s)`, recall that `s` is the index or slice we provide in square brackets to the sequence: `sequence[s]`. You might think we'll need to worry about whether `s` is a value or a slice but we don't. Why?\n",
    "\n",
    "`self._pt` is a tuple. Tuples know how to index and slice/extended slice perfectly well. **We are *delegating* this request to the tuple**."
   ]
  },
  {
   "cell_type": "markdown",
   "id": "bc4485c0-a246-450b-836a-494c517fce75",
   "metadata": {},
   "source": [
    "Let's use our point class and make sure it works as intended:"
   ]
  },
  {
   "cell_type": "code",
   "execution_count": 9,
   "id": "1cbe40e3-c352-4a6b-8c81-416ce7a88cb8",
   "metadata": {
    "tags": []
   },
   "outputs": [],
   "source": [
    "p = Point(1, 2)"
   ]
  },
  {
   "cell_type": "code",
   "execution_count": 10,
   "id": "97fca70c-69f4-4284-a3fb-74a42c740de4",
   "metadata": {},
   "outputs": [
    {
     "data": {
      "text/plain": [
       "Point(x=1, y=2)"
      ]
     },
     "execution_count": 10,
     "metadata": {},
     "output_type": "execute_result"
    }
   ],
   "source": [
    "p"
   ]
  },
  {
   "cell_type": "code",
   "execution_count": 11,
   "id": "66f680c5-df9a-4b62-986d-e38f9226f3ef",
   "metadata": {},
   "outputs": [
    {
     "data": {
      "text/plain": [
       "2"
      ]
     },
     "execution_count": 11,
     "metadata": {},
     "output_type": "execute_result"
    }
   ],
   "source": [
    "len(p)"
   ]
  },
  {
   "cell_type": "code",
   "execution_count": 12,
   "id": "0fb7fdcc-dce0-4044-871f-f974babaaf14",
   "metadata": {},
   "outputs": [
    {
     "data": {
      "text/plain": [
       "(1, 2)"
      ]
     },
     "execution_count": 12,
     "metadata": {},
     "output_type": "execute_result"
    }
   ],
   "source": [
    "p[0], p[1]"
   ]
  },
  {
   "cell_type": "markdown",
   "id": "0467b204-19e6-4526-840f-e8c4539a3c5a",
   "metadata": {},
   "source": [
    "The unpacking above **only** works because `p` is a custom sequence, and it's a custom sequence because of the `__getitem__` method. This unpacking is the same as the unpacking below, except we just assign them to variables."
   ]
  },
  {
   "cell_type": "code",
   "execution_count": 13,
   "id": "5f0b4553-e40f-492c-b3b4-94ac9be073cc",
   "metadata": {},
   "outputs": [],
   "source": [
    "x, y = p"
   ]
  },
  {
   "cell_type": "markdown",
   "id": "36c1ea37-d206-44cd-a43f-41e3ee561594",
   "metadata": {},
   "source": [
    "But why would we want to do this? This will allow us to take one point and unpack it into a new point. When we create a polygon class (which takes a series of xy points), we can just feed in our `Point` object (or we can feed in a regular 2-element list or tuple or any 2-element sequence for that matter).\n",
    "\n",
    "For example:"
   ]
  },
  {
   "cell_type": "code",
   "execution_count": 16,
   "id": "6c12915a-b8b1-4fd0-b4ef-47f649ed3931",
   "metadata": {},
   "outputs": [
    {
     "data": {
      "text/plain": [
       "Point(x=10, y=5)"
      ]
     },
     "execution_count": 16,
     "metadata": {},
     "output_type": "execute_result"
    }
   ],
   "source": [
    "p2 = Point(*p1)\n",
    "p2"
   ]
  },
  {
   "cell_type": "markdown",
   "id": "f1584ca7-1420-43c2-9c0a-6c69a58230a1",
   "metadata": {},
   "source": [
    "Now, we can start creatiung our Polygon class, that will essentially be a mutable sequence of points making up the verteces of the polygon."
   ]
  },
  {
   "cell_type": "code",
   "execution_count": 17,
   "id": "59f14223-fc69-4ba8-9238-4c9d50c083fe",
   "metadata": {
    "tags": []
   },
   "outputs": [],
   "source": [
    "class Polygon:\n",
    "    def __init__(self, *pts):\n",
    "        if pts:\n",
    "            self._pts = [Point(*pt) for pt in pts]  # if pt is already a Point object, we don't have to worry about dealing with it separately \n",
    "                                                    # since we implemented unpacking functionality\n",
    "        else:\n",
    "            self._pts = []\n",
    "            \n",
    "    def __repr__(self):\n",
    "        return f'Polygon({self._pts})'"
   ]
  },
  {
   "cell_type": "markdown",
   "id": "edd025c3-6c27-407b-bc34-1698a1d78704",
   "metadata": {},
   "source": [
    "Let's try it and see if everything is as we expect:"
   ]
  },
  {
   "cell_type": "code",
   "execution_count": 18,
   "id": "ec9acdda-5ebb-48d4-a069-f539cf4a2914",
   "metadata": {
    "tags": []
   },
   "outputs": [],
   "source": [
    "p = Polygon((0,0), [1,1])"
   ]
  },
  {
   "cell_type": "code",
   "execution_count": 19,
   "id": "4aee2a46-18e6-4bca-ba6a-eb6ee706596a",
   "metadata": {},
   "outputs": [
    {
     "data": {
      "text/plain": [
       "Polygon([Point(x=0, y=0), Point(x=1, y=1)])"
      ]
     },
     "execution_count": 19,
     "metadata": {},
     "output_type": "execute_result"
    }
   ],
   "source": [
    "p"
   ]
  },
  {
   "cell_type": "markdown",
   "id": "0a336df1-4e24-4b38-acc8-9a73023f6fcb",
   "metadata": {},
   "source": [
    "Now, to see if the `__repr__` is accurate, we should copy and paste it to see if it creates the expected object."
   ]
  },
  {
   "cell_type": "code",
   "execution_count": 20,
   "id": "80d5b889-71a8-4c86-97b6-34e9548e63f0",
   "metadata": {},
   "outputs": [
    {
     "ename": "TypeError",
     "evalue": "Point co-ordinates must be real numbers.",
     "output_type": "error",
     "traceback": [
      "\u001b[0;31m---------------------------------------------------------------------------\u001b[0m",
      "\u001b[0;31mTypeError\u001b[0m                                 Traceback (most recent call last)",
      "\u001b[0;32m/tmp/ipykernel_5870/1031459139.py\u001b[0m in \u001b[0;36m<module>\u001b[0;34m\u001b[0m\n\u001b[0;32m----> 1\u001b[0;31m \u001b[0mPolygon\u001b[0m\u001b[0;34m(\u001b[0m\u001b[0;34m[\u001b[0m\u001b[0mPoint\u001b[0m\u001b[0;34m(\u001b[0m\u001b[0mx\u001b[0m\u001b[0;34m=\u001b[0m\u001b[0;36m0\u001b[0m\u001b[0;34m,\u001b[0m \u001b[0my\u001b[0m\u001b[0;34m=\u001b[0m\u001b[0;36m0\u001b[0m\u001b[0;34m)\u001b[0m\u001b[0;34m,\u001b[0m \u001b[0mPoint\u001b[0m\u001b[0;34m(\u001b[0m\u001b[0mx\u001b[0m\u001b[0;34m=\u001b[0m\u001b[0;36m1\u001b[0m\u001b[0;34m,\u001b[0m \u001b[0my\u001b[0m\u001b[0;34m=\u001b[0m\u001b[0;36m1\u001b[0m\u001b[0;34m)\u001b[0m\u001b[0;34m]\u001b[0m\u001b[0;34m)\u001b[0m\u001b[0;34m\u001b[0m\u001b[0;34m\u001b[0m\u001b[0m\n\u001b[0m",
      "\u001b[0;32m/tmp/ipykernel_5870/4031554939.py\u001b[0m in \u001b[0;36m__init__\u001b[0;34m(self, *pts)\u001b[0m\n\u001b[1;32m      2\u001b[0m     \u001b[0;32mdef\u001b[0m \u001b[0m__init__\u001b[0m\u001b[0;34m(\u001b[0m\u001b[0mself\u001b[0m\u001b[0;34m,\u001b[0m \u001b[0;34m*\u001b[0m\u001b[0mpts\u001b[0m\u001b[0;34m)\u001b[0m\u001b[0;34m:\u001b[0m\u001b[0;34m\u001b[0m\u001b[0;34m\u001b[0m\u001b[0m\n\u001b[1;32m      3\u001b[0m         \u001b[0;32mif\u001b[0m \u001b[0mpts\u001b[0m\u001b[0;34m:\u001b[0m\u001b[0;34m\u001b[0m\u001b[0;34m\u001b[0m\u001b[0m\n\u001b[0;32m----> 4\u001b[0;31m             \u001b[0mself\u001b[0m\u001b[0;34m.\u001b[0m\u001b[0m_pts\u001b[0m \u001b[0;34m=\u001b[0m \u001b[0;34m[\u001b[0m\u001b[0mPoint\u001b[0m\u001b[0;34m(\u001b[0m\u001b[0;34m*\u001b[0m\u001b[0mpt\u001b[0m\u001b[0;34m)\u001b[0m \u001b[0;32mfor\u001b[0m \u001b[0mpt\u001b[0m \u001b[0;32min\u001b[0m \u001b[0mpts\u001b[0m\u001b[0;34m]\u001b[0m\u001b[0;34m\u001b[0m\u001b[0;34m\u001b[0m\u001b[0m\n\u001b[0m\u001b[1;32m      5\u001b[0m         \u001b[0;32melse\u001b[0m\u001b[0;34m:\u001b[0m\u001b[0;34m\u001b[0m\u001b[0;34m\u001b[0m\u001b[0m\n\u001b[1;32m      6\u001b[0m             \u001b[0mself\u001b[0m\u001b[0;34m.\u001b[0m\u001b[0m_pts\u001b[0m \u001b[0;34m=\u001b[0m \u001b[0;34m[\u001b[0m\u001b[0;34m]\u001b[0m\u001b[0;34m\u001b[0m\u001b[0;34m\u001b[0m\u001b[0m\n",
      "\u001b[0;32m/tmp/ipykernel_5870/4031554939.py\u001b[0m in \u001b[0;36m<listcomp>\u001b[0;34m(.0)\u001b[0m\n\u001b[1;32m      2\u001b[0m     \u001b[0;32mdef\u001b[0m \u001b[0m__init__\u001b[0m\u001b[0;34m(\u001b[0m\u001b[0mself\u001b[0m\u001b[0;34m,\u001b[0m \u001b[0;34m*\u001b[0m\u001b[0mpts\u001b[0m\u001b[0;34m)\u001b[0m\u001b[0;34m:\u001b[0m\u001b[0;34m\u001b[0m\u001b[0;34m\u001b[0m\u001b[0m\n\u001b[1;32m      3\u001b[0m         \u001b[0;32mif\u001b[0m \u001b[0mpts\u001b[0m\u001b[0;34m:\u001b[0m\u001b[0;34m\u001b[0m\u001b[0;34m\u001b[0m\u001b[0m\n\u001b[0;32m----> 4\u001b[0;31m             \u001b[0mself\u001b[0m\u001b[0;34m.\u001b[0m\u001b[0m_pts\u001b[0m \u001b[0;34m=\u001b[0m \u001b[0;34m[\u001b[0m\u001b[0mPoint\u001b[0m\u001b[0;34m(\u001b[0m\u001b[0;34m*\u001b[0m\u001b[0mpt\u001b[0m\u001b[0;34m)\u001b[0m \u001b[0;32mfor\u001b[0m \u001b[0mpt\u001b[0m \u001b[0;32min\u001b[0m \u001b[0mpts\u001b[0m\u001b[0;34m]\u001b[0m\u001b[0;34m\u001b[0m\u001b[0;34m\u001b[0m\u001b[0m\n\u001b[0m\u001b[1;32m      5\u001b[0m         \u001b[0;32melse\u001b[0m\u001b[0;34m:\u001b[0m\u001b[0;34m\u001b[0m\u001b[0;34m\u001b[0m\u001b[0m\n\u001b[1;32m      6\u001b[0m             \u001b[0mself\u001b[0m\u001b[0;34m.\u001b[0m\u001b[0m_pts\u001b[0m \u001b[0;34m=\u001b[0m \u001b[0;34m[\u001b[0m\u001b[0;34m]\u001b[0m\u001b[0;34m\u001b[0m\u001b[0;34m\u001b[0m\u001b[0m\n",
      "\u001b[0;32m/tmp/ipykernel_5870/3263890172.py\u001b[0m in \u001b[0;36m__init__\u001b[0;34m(self, x, y)\u001b[0m\n\u001b[1;32m      4\u001b[0m             \u001b[0mself\u001b[0m\u001b[0;34m.\u001b[0m\u001b[0m_pt\u001b[0m \u001b[0;34m=\u001b[0m \u001b[0;34m(\u001b[0m\u001b[0mx\u001b[0m\u001b[0;34m,\u001b[0m \u001b[0my\u001b[0m\u001b[0;34m)\u001b[0m\u001b[0;34m\u001b[0m\u001b[0;34m\u001b[0m\u001b[0m\n\u001b[1;32m      5\u001b[0m         \u001b[0;32melse\u001b[0m\u001b[0;34m:\u001b[0m\u001b[0;34m\u001b[0m\u001b[0;34m\u001b[0m\u001b[0m\n\u001b[0;32m----> 6\u001b[0;31m             \u001b[0;32mraise\u001b[0m \u001b[0mTypeError\u001b[0m\u001b[0;34m(\u001b[0m\u001b[0;34m'Point co-ordinates must be real numbers.'\u001b[0m\u001b[0;34m)\u001b[0m\u001b[0;34m\u001b[0m\u001b[0;34m\u001b[0m\u001b[0m\n\u001b[0m\u001b[1;32m      7\u001b[0m \u001b[0;34m\u001b[0m\u001b[0m\n\u001b[1;32m      8\u001b[0m     \u001b[0;32mdef\u001b[0m \u001b[0m__repr__\u001b[0m\u001b[0;34m(\u001b[0m\u001b[0mself\u001b[0m\u001b[0;34m)\u001b[0m\u001b[0;34m:\u001b[0m\u001b[0;34m\u001b[0m\u001b[0;34m\u001b[0m\u001b[0m\n",
      "\u001b[0;31mTypeError\u001b[0m: Point co-ordinates must be real numbers."
     ]
    }
   ],
   "source": [
    "Polygon([Point(x=0, y=0), Point(x=1, y=1)])"
   ]
  },
  {
   "cell_type": "markdown",
   "id": "0e9250cc-659e-47f5-8156-cf4557889ad3",
   "metadata": {},
   "source": [
    "Our representation contains those square brackets which technically should not be there as the Polygon class `__init__` assumes multiple comma-separated arguments, not a single iterable.\n",
    "\n",
    "So we should fix that by taking each Point in the iterable, converting it into a string and append it to a list. Then join the list via `,` so that we get comma-separated arguments."
   ]
  },
  {
   "cell_type": "code",
   "execution_count": 21,
   "id": "848cb2d2-bac1-4dc2-805d-717983903348",
   "metadata": {
    "tags": []
   },
   "outputs": [],
   "source": [
    "class Polygon:\n",
    "    def __init__(self, *pts):\n",
    "        if pts:\n",
    "            self._pts = [Point(*pt) for pt in pts]\n",
    "        else:\n",
    "            self._pts = []\n",
    "            \n",
    "    def __repr__(self):\n",
    "        pts_str = ', '.join([str(pt) for pt in self._pts])\n",
    "        return f'Polygon({pts_str})'"
   ]
  },
  {
   "cell_type": "code",
   "execution_count": 22,
   "id": "03978d5e-dee3-4f62-a2ad-dcdc9dc49c1c",
   "metadata": {},
   "outputs": [
    {
     "data": {
      "text/plain": [
       "Polygon(Point(x=0, y=0), Point(x=1, y=1))"
      ]
     },
     "execution_count": 22,
     "metadata": {},
     "output_type": "execute_result"
    }
   ],
   "source": [
    "p = Polygon((0,0), [1,1])\n",
    "p"
   ]
  },
  {
   "cell_type": "code",
   "execution_count": 25,
   "id": "9a3135af-c81d-41e1-9f99-38fc6f1c134e",
   "metadata": {},
   "outputs": [],
   "source": [
    "p2 = Polygon(Point(x=0, y=0), Point(x=1, y=1)) # Works, no errors"
   ]
  },
  {
   "cell_type": "markdown",
   "id": "71ba0748-4dab-4289-97cf-b4aacee07d40",
   "metadata": {},
   "source": [
    "So now we can start making our Polygon into a sequence type, by implementing methods such as `__len__` and `__getitem__`.\n",
    "\n",
    "Then we'll support concatenation with `__add__`. (We don't need to support repetition - it doesn't make sense with polygons.)"
   ]
  },
  {
   "cell_type": "code",
   "execution_count": 27,
   "id": "bb755999-2271-4800-87d0-c28d7f483ffd",
   "metadata": {},
   "outputs": [],
   "source": [
    "class Polygon:\n",
    "    def __init__(self, *pts):\n",
    "        if pts:\n",
    "            self._pts = [Point(*pt) for pt in pts]\n",
    "        else:\n",
    "            self._pts = []\n",
    "            \n",
    "    def __repr__(self):\n",
    "        pts_str = ', '.join([str(pt) for pt in self._pts])\n",
    "        return f'Polygon({pts_str})'\n",
    "    \n",
    "    def __len__(self):\n",
    "        return len(self._pts)\n",
    "    \n",
    "    def __getitem__(self, s):\n",
    "        return self._pts[s]         # No need to worry whether s is an integer or a slice because _pts is a list \n",
    "                                    # and lists are sequences and sequences support indexing and slicing. We've delegated again.]\n",
    "    \n",
    "    def __add__(self, other):\n",
    "        if isinstance(other, Polygon):\n",
    "            new_pts = self._pts + other._pts\n",
    "            return Polygon(*new_pts)\n",
    "        else:\n",
    "            raise TypeError('can only concatenate with another Polygon')"
   ]
  },
  {
   "cell_type": "code",
   "execution_count": 28,
   "id": "033c0231-b0f6-47d5-af12-5ee80a6fef5b",
   "metadata": {},
   "outputs": [
    {
     "data": {
      "text/plain": [
       "Polygon(Point(x=0, y=0), Point(x=1, y=1), Point(x=2, y=2), Point(x=3, y=3))"
      ]
     },
     "execution_count": 28,
     "metadata": {},
     "output_type": "execute_result"
    }
   ],
   "source": [
    "p1 = Polygon((0,0), (1,1))\n",
    "p2 = Polygon((2,2), (3,3))\n",
    "\n",
    "new_polygon = p1 + p2\n",
    "new_polygon"
   ]
  },
  {
   "cell_type": "markdown",
   "id": "ff9ff510-fec0-457d-912f-ee1f21eb474f",
   "metadata": {},
   "source": [
    "Now, let's add in-place concatenation. Remember, we need to mutate ourselves (`self`) by adding the points from the other point `other` and then **return ourselves (`self`)**."
   ]
  },
  {
   "cell_type": "code",
   "execution_count": 29,
   "id": "534c641d-587d-45d2-90d7-c5009ae8b331",
   "metadata": {
    "tags": []
   },
   "outputs": [],
   "source": [
    "class Polygon:\n",
    "    def __init__(self, *pts):\n",
    "        if pts:\n",
    "            self._pts = [Point(*pt) for pt in pts]\n",
    "        else:\n",
    "            self._pts = []\n",
    "            \n",
    "    def __repr__(self):\n",
    "        pts_str = ', '.join([str(pt) for pt in self._pts])\n",
    "        return f'Polygon({pts_str})'\n",
    "    \n",
    "    def __len__(self):\n",
    "        return len(self._pts)\n",
    "    \n",
    "    def __getitem__(self, s):\n",
    "        return self._pts[s]\n",
    "    \n",
    "    def __add__(self, other):\n",
    "        if isinstance(other, Polygon):\n",
    "            new_pts = self._pts + other._pts\n",
    "            return Polygon(*new_pts)\n",
    "        else:\n",
    "            raise TypeError('can only concatenate with another Polygon')\n",
    "            \n",
    "    def __iadd__(self, pt):\n",
    "        if isinstance(pt, Polygon):\n",
    "            self._pts = self._pts + pt._pts   # THIS IS NOT IN-PLACE CONCATENATION; self._pts on the LHS will be a new object, but that's okay!\n",
    "            return self\n",
    "        else:\n",
    "            raise TypeError('can only concatenate with another Polygon')"
   ]
  },
  {
   "cell_type": "markdown",
   "id": "0d00ad28-1ec7-4715-9eaf-0ffe5fd9874b",
   "metadata": {},
   "source": [
    "You'll notice that in `__iadd__` we have: `self._pts = self._pts + pt._pts` instead of `self._pts += pt._pts`. That's because we don't care if we `self._pts` gets a new memory address or not - we only want to ensure that the memory address of the object `self` stays the same."
   ]
  },
  {
   "cell_type": "code",
   "execution_count": 32,
   "id": "7f88340a-c958-476d-8e8c-36af5d80a284",
   "metadata": {},
   "outputs": [
    {
     "name": "stdout",
     "output_type": "stream",
     "text": [
      "id(p1)=139642594553872\n",
      "id(p1)=139642594553872\n"
     ]
    }
   ],
   "source": [
    "p1 = Polygon((0,0), (1,1))\n",
    "p2 = Polygon((2,2), (3,3))\n",
    "\n",
    "print(f'{id(p1)=}')\n",
    "p1 += p2                # Equivalent to p1 = p1.__iadd__(p2)\n",
    "print(f'{id(p1)=}')"
   ]
  },
  {
   "cell_type": "markdown",
   "id": "f0e6e9da-b804-4354-a614-7ec91077a04e",
   "metadata": {},
   "source": [
    "But what we can't do yet is concatenate with anything that appears like a point, such as a list or tuple with 2 elements."
   ]
  },
  {
   "cell_type": "code",
   "execution_count": 75,
   "id": "ebc71a73-b8e7-4848-ba54-52f9500f0442",
   "metadata": {
    "collapsed": true,
    "jupyter": {
     "outputs_hidden": true
    }
   },
   "outputs": [],
   "source": [
    "p1 = Polygon((0,0), (1,1))\n",
    "p1 += [(2,2), (3,3)]"
   ]
  },
  {
   "cell_type": "markdown",
   "id": "a3ec1ffb-d6f3-498f-9181-0a6050f6ab35",
   "metadata": {},
   "source": [
    "To fix this, we need to rewrite our `__iadd__` to not include the `if isinstance(pt, Polygon)`. Then, if the `other` is a Polygon, we deal with it as we have above. \n",
    "\n",
    "But, if it's an iterable, we'll need to take each point in the iterable and unpack its 2 elements into a `Point` object. If those elements are not real numbers, our `Point` class should catch it.\n",
    "\n",
    "For example:\n",
    "\n",
    "`[(3,3), (4,4)]` --> `[Point(3,3), Point(4,4)]`"
   ]
  },
  {
   "cell_type": "code",
   "execution_count": 41,
   "id": "13efce35-5c10-4151-8d42-eaa250ddce4b",
   "metadata": {
    "tags": []
   },
   "outputs": [],
   "source": [
    "class Polygon:\n",
    "    def __init__(self, *pts):\n",
    "        if pts:\n",
    "            self._pts = [Point(*pt) for pt in pts]\n",
    "        else:\n",
    "            self._pts = []\n",
    "            \n",
    "    def __repr__(self):\n",
    "        pts_str = ', '.join([str(pt) for pt in self._pts])\n",
    "        return f'Polygon({pts_str})'\n",
    "    \n",
    "    def __len__(self):\n",
    "        return len(self._pts)\n",
    "    \n",
    "    def __getitem__(self, s):\n",
    "        return self._pts[s]\n",
    "    \n",
    "    def __add__(self, pt):\n",
    "        if isinstance(pt, Polygon):\n",
    "            new_pts = self._pts + pt._pts\n",
    "            return Polygon(*new_pts)\n",
    "        else:\n",
    "            raise TypeError('can only concatenate with another Polygon')\n",
    "            \n",
    "    def __iadd__(self, pts):\n",
    "        if isinstance(pts, Polygon):\n",
    "            self._pts = self._pts + pts._pts\n",
    "        else:\n",
    "            # assume we are being passed an iterable containing Points\n",
    "            # or something compatible with Points\n",
    "            points = [Point(*pt) for pt in pts]\n",
    "            self._pts = self._pts + points\n",
    "        return self"
   ]
  },
  {
   "cell_type": "code",
   "execution_count": 42,
   "id": "f77b3cec-3f12-4822-bc2e-6678a02a38ed",
   "metadata": {
    "tags": []
   },
   "outputs": [],
   "source": [
    "p1 = Polygon((0,0), (1,1))\n",
    "p1 += [(2,2), (3,3), Point(5,5), {3,4}]"
   ]
  },
  {
   "cell_type": "markdown",
   "id": "a4dfdeaf-2481-49ad-b46e-f5ff2c5c35eb",
   "metadata": {},
   "source": [
    "Now, let's implement `append`, `insert` and `extend`. \n",
    "\n",
    "Remember, these are not special methods. But, everyone expects them to behave in a particular way so we should replicate that. \n",
    "\n",
    "For example, the method `extend` generally does a mutation and **has no return**. \n",
    "\n",
    "In fact, **`extend` is identical to `__iadd__` except that it has no return, so we can refactor our code to reflect this** We do this by making `__iadd__` use our `extend` method but just return the outcome."
   ]
  },
  {
   "cell_type": "code",
   "execution_count": 44,
   "id": "6bce8ab4-fa40-4c7e-bee3-efcb30bac821",
   "metadata": {},
   "outputs": [],
   "source": [
    "class Polygon:\n",
    "    def __init__(self, *pts):\n",
    "        if pts:\n",
    "            self._pts = [Point(*pt) for pt in pts]\n",
    "        else:\n",
    "            self._pts = []\n",
    "            \n",
    "    def __repr__(self):\n",
    "        pts_str = ', '.join([str(pt) for pt in self._pts])\n",
    "        return f'Polygon({pts_str})'\n",
    "    \n",
    "    def __len__(self):\n",
    "        return len(self._pts)\n",
    "    \n",
    "    def __getitem__(self, s):\n",
    "        return self._pts[s]\n",
    "    \n",
    "    def __add__(self, pt):\n",
    "        if isinstance(pt, Polygon):\n",
    "            new_pts = self._pts + pt._pts\n",
    "            return Polygon(*new_pts)\n",
    "        else:\n",
    "            raise TypeError('can only concatenate with another Polygon')\n",
    "\n",
    "    def append(self, pt):\n",
    "        self._pts.append(Point(*pt))\n",
    "        \n",
    "    def extend(self, pts):\n",
    "        if isinstance(pts, Polygon):\n",
    "            self._pts = self._pts + pts._pts\n",
    "        else:\n",
    "            # assume we are being passed an iterable containing Points\n",
    "            # or something compatible with Points\n",
    "            points = [Point(*pt) for pt in pts]\n",
    "            self._pts = self._pts + points\n",
    "    \n",
    "    def __iadd__(self, pts):\n",
    "        self.extend(pts)\n",
    "        return self\n",
    "    \n",
    "    def insert(self, i, pt):\n",
    "        self._pts.insert(i, Point(*pt))"
   ]
  },
  {
   "cell_type": "code",
   "execution_count": 50,
   "id": "a12fb5bd-337e-4e2f-952b-639536eb4e67",
   "metadata": {},
   "outputs": [
    {
     "name": "stdout",
     "output_type": "stream",
     "text": [
      "p1 original. Result: Polygon(Point(x=0, y=0), Point(x=1, y=1))\n",
      "p1 appended. Result: Polygon(Point(x=0, y=0), Point(x=1, y=1), Point(x=4, y=4))\n",
      "p1 inserted. Result: Polygon(Point(x=0, y=0), Point(x=-1, y=-1), Point(x=1, y=1), Point(x=4, y=4))\n",
      "p1 extended. Result: Polygon(Point(x=0, y=0), Point(x=-1, y=-1), Point(x=1, y=1), Point(x=4, y=4), Point(x=6, y=6), Point(x=20, y=20))\n"
     ]
    }
   ],
   "source": [
    "p1 = Polygon((0,0), Point(1,1))\n",
    "p2 = Polygon([2, 2], [3, 3])\n",
    "\n",
    "print(f\"p1 original. Result: {p1}\")\n",
    "\n",
    "p1.append((4, 4))\n",
    "print(f\"p1 appended. Result: {p1}\")\n",
    "\n",
    "p1.insert(1, Point(-1, -1))\n",
    "print(f\"p1 inserted. Result: {p1}\")\n",
    "\n",
    "p3 = Polygon((6,6), Point(20,20))\n",
    "p1.extend(p3)\n",
    "print(f\"p1 extended. Result: {p1}\")"
   ]
  },
  {
   "cell_type": "markdown",
   "id": "f79ceba8-6407-4186-9217-850013b6d997",
   "metadata": {},
   "source": [
    "**Part 2c:`__setitem__` Method**"
   ]
  },
  {
   "cell_type": "markdown",
   "id": "34f8358e-1ec2-4445-84c4-5ec9d63ae257",
   "metadata": {},
   "source": [
    "The two things we want to do is:\n",
    "\n",
    "- provide an index and a new point, and replace our Polygon's element at that index with the new point.\n",
    "- same as above but with a slice.\n",
    "\n",
    "For example:\n",
    "\n",
    "`p1[3] = Point(100, 100)`\n",
    "`p1[0:2] = [Point(-1,-1), Point(-2,-2)]`"
   ]
  },
  {
   "cell_type": "markdown",
   "id": "67a8e5d7-13a5-4731-bc70-e4d2d2d4bada",
   "metadata": {},
   "source": [
    "This is going to be easier than we may think because we can use **delegation** to delegate our slice operation to the list type because lists support setting items.\n",
    "\n",
    "We'll start off from where we left off above and add in our `__setitem__` method. Before we write it in our class above, I'll write one possible approach in isolation below, and then we'll see what issues may arise."
   ]
  },
  {
   "cell_type": "code",
   "execution_count": null,
   "id": "d8b5c561-c993-4014-9e89-3788d7a7242e",
   "metadata": {},
   "outputs": [],
   "source": [
    "def __setitem__(self, s, value):\n",
    "    \n",
    "    if isinstance(s, int):\n",
    "        self._pts[s] = Point(*value)\n",
    "    else:\n",
    "        self._pts[s] = [Point(*pt) for pt in value]           "
   ]
  },
  {
   "cell_type": "markdown",
   "id": "43027650-8f5e-491a-aa34-781a3b6baa3e",
   "metadata": {},
   "source": [
    "Consider \n",
    "\n",
    "`p[0] = [Point(10, 10), Point(20, 20)]`\n",
    "\n",
    "This won't work. Why not?\n",
    "\n",
    "The LHS is fine. It's the the RHS that's causing the issue. RHS = `[Point(10, 10), Point(20, 20)]` which gets equated to `value`.\n",
    "\n",
    "Since `s` is an `int`, we go through the first condition which evaluates to: `self._pts[0] = Point( Point(10, 10) , Point(20, 20) )` \n",
    "\n",
    "In other words, we have a Point made of Points instead of integers. \n",
    "\n",
    "**This throws an error as it should but the error is found in Point which we created way back: 'Point co-ordinates must be real numbers.'**\n",
    "\n",
    "-----------\n",
    "```\n",
    "class Point:\n",
    "    def __init__(self, x, y):\n",
    "        if isinstance(x, numbers.Real) and isinstance(y, numbers.Real):\n",
    "            self._pt = (x, y)\n",
    "        else:\n",
    "            raise TypeError('Point co-ordinates must be real numbers.')\n",
    "            \n",
    "    def __repr__(self):\n",
    "        return f'Point(x={self._pt[0]}, y={self._pt[1]})'\n",
    "    \n",
    "    def __len__(self):\n",
    "        return 2\n",
    "    \n",
    "    def __getitem__(self, s):\n",
    "        return self._pt[s]\n",
    "```\n",
    "-------------\n",
    "The error is technically correct - Point(10, 10) isn't an integer after all - but, we'd want to be more specific.\n",
    "\n",
    "We'd find a similar sort of somewhat meaningless/unintuitive error if we tried \n",
    "\n",
    "`p[0:2] = Point(20, 20)`\n",
    "\n",
    "`> TypeError: type object argument after * must be an iterable, not int`\n",
    "\n",
    "Again, the fact that an error is thrown is good but we just want a clear error."
   ]
  },
  {
   "cell_type": "markdown",
   "id": "9762ac64-a2fb-4ed7-8c7f-6b32e79972a0",
   "metadata": {},
   "source": [
    "**How are we going to fix this?**\n",
    "\n",
    "We need to understand these two rules:\n",
    "\n",
    "- If `s` is an integer, `value` must be a single `Point`.\n",
    "- If `s` is a slice, `value` must be a sequence/iterable of Points\n",
    "\n",
    "So what's our method?\n",
    "\n",
    "- We'll try to take the RHS e.g `[Point(10, 10), Point(20, 20)]` and **`try`** to make a list of points. If we succeed, we know we have a list of points.\n",
    "- Otherwise, we probably have a single point when we want a list of points. So, we have a TypeError that we want to catch.\n",
    "- But we *may not* have a single point, so let's **`try`** to make a `Point` from the RHS. If we succeed, we have a Point.\n",
    "- Otherwise, we have something useless like a complex value or string. For this, we need to **`raise`** our own error.\n",
    "\n",
    "- If no exceptions were raised throughout this process, **then we have a valid RHS**.\n",
    "- Only now we can implement the two rules above which can be done with a single `x or y` instead of two `if` statements. \n",
    "\n",
    "Here's our isolated method solution:"
   ]
  },
  {
   "cell_type": "code",
   "execution_count": 51,
   "id": "4df3b96d-00c9-4863-9f50-2979d03bf67b",
   "metadata": {},
   "outputs": [],
   "source": [
    "def __setitem__(self, s, value):\n",
    "    # we first should see if we have a single Point\n",
    "    # or an iterable of Points in value\n",
    "    try:\n",
    "        rhs = [Point(*pt) for pt in value]\n",
    "        is_single = False\n",
    "    except TypeError:\n",
    "        # not a valid iterable of Points\n",
    "        # maybe a single Point?\n",
    "        try:\n",
    "            rhs = Point(*value)\n",
    "            is_single = True\n",
    "        except TypeError:\n",
    "            # still no go\n",
    "            raise TypeError('Invalid Point or iterable of Points')\n",
    "\n",
    "    # reached here, so rhs is either an iterable of Points, or a Point\n",
    "    # we want to make sure we are assigning to a slice only if we have an iterable of points,\n",
    "    # or, assigning to an index if we have a single Point only\n",
    " \n",
    "    if (isinstance(s, int) and is_single) or isinstance(s, slice) and not is_single: \n",
    "        self._pts[s] = rhs\n",
    "    else:\n",
    "        raise TypeError('Incompatible index/slice assignment')"
   ]
  },
  {
   "cell_type": "markdown",
   "id": "ad25cf68-6cdf-40e1-b001-cb368ffe274a",
   "metadata": {},
   "source": [
    "Let's add `del` and `pop` functionality to our class quickly using **delegation** as we've done previously before testing out our exception handling.\n",
    "\n",
    "Here's our complete class:"
   ]
  },
  {
   "cell_type": "code",
   "execution_count": 57,
   "id": "df7ccc66-fb02-462c-beba-0df15cbb2db6",
   "metadata": {
    "tags": []
   },
   "outputs": [],
   "source": [
    "class Polygon:\n",
    "    def __init__(self, *pts):\n",
    "        if pts:\n",
    "            self._pts = [Point(*pt) for pt in pts]\n",
    "        else:\n",
    "            self._pts = []\n",
    "            \n",
    "    def __repr__(self):\n",
    "        pts_str = ', '.join([str(pt) for pt in self._pts])\n",
    "        return f'Polygon({pts_str})'\n",
    "    \n",
    "    def __len__(self):\n",
    "        return len(self._pts)\n",
    "    \n",
    "    def __getitem__(self, s):\n",
    "        return self._pts[s]\n",
    "    \n",
    "    def __setitem__(self, s, value):\n",
    "        # we first should see if we have a single Point\n",
    "        # or an iterable of Points in value\n",
    "        try:\n",
    "            rhs = [Point(*pt) for pt in value]\n",
    "            is_single = False\n",
    "        except TypeError:\n",
    "            # not a valid iterable of Points\n",
    "            # maybe a single Point?\n",
    "            try:\n",
    "                rhs = Point(*value)\n",
    "                is_single = True\n",
    "            except TypeError:\n",
    "                # still no go\n",
    "                raise TypeError('Invalid Point or iterable of Points')\n",
    "        \n",
    "        # reached here, so rhs is either an iterable of Points, or a Point\n",
    "        # we want to make sure we are assigning to a slice only if we \n",
    "        # have an iterable of points, and assigning to an index if we \n",
    "        # have a single Point only\n",
    "        if (isinstance(s, int) and is_single) \\\n",
    "            or isinstance(s, slice) and not is_single:\n",
    "            self._pts[s] = rhs\n",
    "        else:\n",
    "            raise TypeError('Incompatible index/slice assignment')\n",
    "                \n",
    "    def __add__(self, pt):\n",
    "        if isinstance(pt, Polygon):\n",
    "            new_pts = self._pts + pt._pts\n",
    "            return Polygon(*new_pts)\n",
    "        else:\n",
    "            raise TypeError('can only concatenate with another Polygon')\n",
    "\n",
    "    def append(self, pt):\n",
    "        self._pts.append(Point(*pt))\n",
    "        \n",
    "    def extend(self, pts):\n",
    "        if isinstance(pts, Polygon):\n",
    "            self._pts = self._pts + pts._pts\n",
    "        else:\n",
    "            # assume we are being passed an iterable containing Points\n",
    "            # or something compatible with Points\n",
    "            points = [Point(*pt) for pt in pts]\n",
    "            self._pts = self._pts + points\n",
    "    \n",
    "    def __iadd__(self, pts):\n",
    "        self.extend(pts)\n",
    "        return self\n",
    "    \n",
    "    def insert(self, i, pt):\n",
    "        self._pts.insert(i, Point(*pt))\n",
    "        \n",
    "    def __delitem__(self, s):\n",
    "        del self._pts[s]\n",
    "        \n",
    "    def pop(self, i):\n",
    "        return self._pts.pop(i)"
   ]
  },
  {
   "cell_type": "markdown",
   "id": "53ee6898-6244-4f6b-8986-f735d85a29f3",
   "metadata": {},
   "source": [
    "So now let's see if we get better error messages:"
   ]
  },
  {
   "cell_type": "code",
   "execution_count": 58,
   "id": "170d70ba-eac7-4678-9a63-89600aafe430",
   "metadata": {
    "tags": []
   },
   "outputs": [],
   "source": [
    "p1 = Polygon((0,0), (1,1), (2,2))"
   ]
  },
  {
   "cell_type": "code",
   "execution_count": 59,
   "id": "865c4283-52c7-40b2-88ab-9c76554f6aa4",
   "metadata": {},
   "outputs": [
    {
     "ename": "TypeError",
     "evalue": "Incompatible index/slice assignment",
     "output_type": "error",
     "traceback": [
      "\u001b[0;31m---------------------------------------------------------------------------\u001b[0m",
      "\u001b[0;31mTypeError\u001b[0m                                 Traceback (most recent call last)",
      "\u001b[0;32m/tmp/ipykernel_5870/277394552.py\u001b[0m in \u001b[0;36m<module>\u001b[0;34m\u001b[0m\n\u001b[0;32m----> 1\u001b[0;31m \u001b[0mp1\u001b[0m\u001b[0;34m[\u001b[0m\u001b[0;36m0\u001b[0m\u001b[0;34m:\u001b[0m\u001b[0;36m2\u001b[0m\u001b[0;34m]\u001b[0m \u001b[0;34m=\u001b[0m \u001b[0;34m(\u001b[0m\u001b[0;36m10\u001b[0m\u001b[0;34m,\u001b[0m\u001b[0;36m10\u001b[0m\u001b[0;34m)\u001b[0m\u001b[0;34m\u001b[0m\u001b[0;34m\u001b[0m\u001b[0m\n\u001b[0m",
      "\u001b[0;32m/tmp/ipykernel_5870/2366797155.py\u001b[0m in \u001b[0;36m__setitem__\u001b[0;34m(self, s, value)\u001b[0m\n\u001b[1;32m     40\u001b[0m             \u001b[0mself\u001b[0m\u001b[0;34m.\u001b[0m\u001b[0m_pts\u001b[0m\u001b[0;34m[\u001b[0m\u001b[0ms\u001b[0m\u001b[0;34m]\u001b[0m \u001b[0;34m=\u001b[0m \u001b[0mrhs\u001b[0m\u001b[0;34m\u001b[0m\u001b[0;34m\u001b[0m\u001b[0m\n\u001b[1;32m     41\u001b[0m         \u001b[0;32melse\u001b[0m\u001b[0;34m:\u001b[0m\u001b[0;34m\u001b[0m\u001b[0;34m\u001b[0m\u001b[0m\n\u001b[0;32m---> 42\u001b[0;31m             \u001b[0;32mraise\u001b[0m \u001b[0mTypeError\u001b[0m\u001b[0;34m(\u001b[0m\u001b[0;34m'Incompatible index/slice assignment'\u001b[0m\u001b[0;34m)\u001b[0m\u001b[0;34m\u001b[0m\u001b[0;34m\u001b[0m\u001b[0m\n\u001b[0m\u001b[1;32m     43\u001b[0m \u001b[0;34m\u001b[0m\u001b[0m\n\u001b[1;32m     44\u001b[0m     \u001b[0;32mdef\u001b[0m \u001b[0m__add__\u001b[0m\u001b[0;34m(\u001b[0m\u001b[0mself\u001b[0m\u001b[0;34m,\u001b[0m \u001b[0mpt\u001b[0m\u001b[0;34m)\u001b[0m\u001b[0;34m:\u001b[0m\u001b[0;34m\u001b[0m\u001b[0;34m\u001b[0m\u001b[0m\n",
      "\u001b[0;31mTypeError\u001b[0m: Incompatible index/slice assignment"
     ]
    }
   ],
   "source": [
    "p1[0:2] = (10,10)"
   ]
  },
  {
   "cell_type": "code",
   "execution_count": 60,
   "id": "6d16a9ec-c0e8-4f74-b285-b29bd9d7251c",
   "metadata": {},
   "outputs": [
    {
     "ename": "TypeError",
     "evalue": "Incompatible index/slice assignment",
     "output_type": "error",
     "traceback": [
      "\u001b[0;31m---------------------------------------------------------------------------\u001b[0m",
      "\u001b[0;31mTypeError\u001b[0m                                 Traceback (most recent call last)",
      "\u001b[0;32m/tmp/ipykernel_5870/3570378440.py\u001b[0m in \u001b[0;36m<module>\u001b[0;34m\u001b[0m\n\u001b[0;32m----> 1\u001b[0;31m \u001b[0mp1\u001b[0m\u001b[0;34m[\u001b[0m\u001b[0;36m0\u001b[0m\u001b[0;34m]\u001b[0m \u001b[0;34m=\u001b[0m \u001b[0;34m[\u001b[0m\u001b[0;34m(\u001b[0m\u001b[0;36m0\u001b[0m\u001b[0;34m,\u001b[0m\u001b[0;36m0\u001b[0m\u001b[0;34m)\u001b[0m\u001b[0;34m,\u001b[0m \u001b[0;34m(\u001b[0m\u001b[0;36m1\u001b[0m\u001b[0;34m,\u001b[0m\u001b[0;36m1\u001b[0m\u001b[0;34m)\u001b[0m\u001b[0;34m]\u001b[0m\u001b[0;34m\u001b[0m\u001b[0;34m\u001b[0m\u001b[0m\n\u001b[0m",
      "\u001b[0;32m/tmp/ipykernel_5870/2366797155.py\u001b[0m in \u001b[0;36m__setitem__\u001b[0;34m(self, s, value)\u001b[0m\n\u001b[1;32m     40\u001b[0m             \u001b[0mself\u001b[0m\u001b[0;34m.\u001b[0m\u001b[0m_pts\u001b[0m\u001b[0;34m[\u001b[0m\u001b[0ms\u001b[0m\u001b[0;34m]\u001b[0m \u001b[0;34m=\u001b[0m \u001b[0mrhs\u001b[0m\u001b[0;34m\u001b[0m\u001b[0;34m\u001b[0m\u001b[0m\n\u001b[1;32m     41\u001b[0m         \u001b[0;32melse\u001b[0m\u001b[0;34m:\u001b[0m\u001b[0;34m\u001b[0m\u001b[0;34m\u001b[0m\u001b[0m\n\u001b[0;32m---> 42\u001b[0;31m             \u001b[0;32mraise\u001b[0m \u001b[0mTypeError\u001b[0m\u001b[0;34m(\u001b[0m\u001b[0;34m'Incompatible index/slice assignment'\u001b[0m\u001b[0;34m)\u001b[0m\u001b[0;34m\u001b[0m\u001b[0;34m\u001b[0m\u001b[0m\n\u001b[0m\u001b[1;32m     43\u001b[0m \u001b[0;34m\u001b[0m\u001b[0m\n\u001b[1;32m     44\u001b[0m     \u001b[0;32mdef\u001b[0m \u001b[0m__add__\u001b[0m\u001b[0;34m(\u001b[0m\u001b[0mself\u001b[0m\u001b[0;34m,\u001b[0m \u001b[0mpt\u001b[0m\u001b[0;34m)\u001b[0m\u001b[0;34m:\u001b[0m\u001b[0;34m\u001b[0m\u001b[0;34m\u001b[0m\u001b[0m\n",
      "\u001b[0;31mTypeError\u001b[0m: Incompatible index/slice assignment"
     ]
    }
   ],
   "source": [
    "p1[0] = [(0,0), (1,1)]"
   ]
  },
  {
   "cell_type": "code",
   "execution_count": 61,
   "id": "33d324cb-db47-4ceb-8bf8-e2ec3226a5a8",
   "metadata": {},
   "outputs": [
    {
     "data": {
      "text/plain": [
       "Point(x=1, y=1)"
      ]
     },
     "execution_count": 61,
     "metadata": {},
     "output_type": "execute_result"
    }
   ],
   "source": [
    "p = Polygon(*zip(range(6), range(6)))\n",
    "p.pop(1)"
   ]
  },
  {
   "cell_type": "markdown",
   "id": "d7a1def2-fc94-4767-a85c-5af76865dccd",
   "metadata": {},
   "source": [
    "# 11- Sorting Sequences"
   ]
  },
  {
   "cell_type": "markdown",
   "id": "31f500b6-b32a-42bd-ba08-79ff71f3fb37",
   "metadata": {},
   "source": [
    "#### Lecture"
   ]
  },
  {
   "cell_type": "markdown",
   "id": "116b650d-966f-4c3a-a8f4-4ffe5ee629aa",
   "metadata": {},
   "source": [
    "Just like with the concatenation and in-place concatenation we saw previously, we have two different ways of sorting a mutable sequence:\n",
    "\n",
    "* returning a new sorted sequence\n",
    "* in-place sorting (mutating sequence) - obviously this works for mutable sequence types only!\n"
   ]
  },
  {
   "cell_type": "markdown",
   "id": "ffc2efd5-73e1-432a-aac0-9b9fa1adb39e",
   "metadata": {},
   "source": [
    "For any iterable, the built-in `sorted` function will return a **list** containing the sorted elements of the iterable.\n",
    "\n",
    "So a few things here: \n",
    "* any iterable can be sorted (as long as it is finite)\n",
    "* the elements must be pair-wise comparable (possibly indirectly via a sort key)\n",
    "* the returned result is always a list\n",
    "* the original iterable is not mutated\n",
    "\n",
    "In addition:\n",
    "* optionally specify a `key` - a function that extracts a comparison key for each element. If that key is not specified, Python will use the natural ordering of the elements (such as __gt__, etc, so that fails if they do not!)\n",
    "* optional specify the `reverse` argument which will return the reversed sort"
   ]
  },
  {
   "cell_type": "markdown",
   "id": "3fe4245a-fc70-4a78-ac64-ad21b11529a9",
   "metadata": {},
   "source": [
    "Of course, numbers have a natural sort order and strings do too (alphabetical, but don't forget that a distinction is made if the letter is capitalised). But what if we have numerous strings and we want to sort by the last character of the string. What word the **sort key** be?\n",
    "\n",
    "```\n",
    "item:    'hello'    'python'    'parrot'    'bird'\n",
    "key:       'o'        'n'         't'         'd'\n",
    "```\n",
    "\n",
    "And we know that since these sort keys are strings, they have a natural sort order.\n",
    "\n",
    "So what would the key function look like?\n",
    "\n",
    "`key = lambda s: s[-1]`\n",
    "\n",
    "What do we mean by the natural sort order?\n",
    "\n",
    "These are how we'd generally and intuitively sort the items. If we do not provide the `key` keyword argument, then we can always think of the default key as the elements themselves. In other words,\n",
    "\n",
    "`sorted(iterable) <-> sorted(iterable, key=lambda x: x)`"
   ]
  },
  {
   "cell_type": "markdown",
   "id": "fe1828e6-ddde-45c9-99e9-7bf93d3fcd17",
   "metadata": {},
   "source": [
    "For things like dictionaries, this works slightly differently. Remember what happens when we iterate a dictionary?"
   ]
  },
  {
   "cell_type": "code",
   "execution_count": 8,
   "id": "6327fc7e-be62-4f65-9c36-0c14ec9cabc6",
   "metadata": {},
   "outputs": [
    {
     "name": "stdout",
     "output_type": "stream",
     "text": [
      "3\n",
      "2\n",
      "1\n"
     ]
    }
   ],
   "source": [
    "d = {3: 100, 2: 200, 1: 10}\n",
    "for item in d:\n",
    "    print(item)"
   ]
  },
  {
   "cell_type": "markdown",
   "id": "3e623d62-98e5-4f07-aed4-87df14050d88",
   "metadata": {},
   "source": [
    "We actually are iterating the keys.\n",
    "\n",
    "Same thing happens with sorting - we'll end up just sorting the keys:"
   ]
  },
  {
   "cell_type": "code",
   "execution_count": 9,
   "id": "c39977df-3889-431a-855c-ad228a19f4ea",
   "metadata": {},
   "outputs": [
    {
     "data": {
      "text/plain": [
       "[1, 2, 3]"
      ]
     },
     "execution_count": 9,
     "metadata": {},
     "output_type": "execute_result"
    }
   ],
   "source": [
    "d = {3: 100, 2: 200, 1: 10}\n",
    "\n",
    "sorted(d)"
   ]
  },
  {
   "cell_type": "markdown",
   "id": "a44ca070-5579-47b6-a98d-42e552f94491",
   "metadata": {},
   "source": [
    "But what if we wanted to sort the dictionary keys based on the values instead?"
   ]
  },
  {
   "cell_type": "markdown",
   "id": "ec4735f3-0d67-42fe-afac-7cf5be633116",
   "metadata": {},
   "source": [
    "This is where the `key` argument of `sorted` will come in handy.\n",
    "\n",
    "We are going to specify to the `sorted` function that it should use the value of each item to use as a sort key:"
   ]
  },
  {
   "cell_type": "code",
   "execution_count": 11,
   "id": "410ee4cb-6456-41f2-adf9-f9a494d48038",
   "metadata": {},
   "outputs": [
    {
     "data": {
      "text/plain": [
       "['c', 'b', 'a']"
      ]
     },
     "execution_count": 11,
     "metadata": {},
     "output_type": "execute_result"
    }
   ],
   "source": [
    "d = {'a': 100, 'b': 50, 'c': 10}\n",
    "\n",
    "sorted(d, key=lambda k: d[k])"
   ]
  },
  {
   "cell_type": "markdown",
   "id": "b811f570-2dea-4289-b879-d75dee9f7974",
   "metadata": {},
   "source": [
    "Note: **The `sorted` function makes a copy of the iterable and returns the sorted elements in a `list` always**."
   ]
  },
  {
   "cell_type": "markdown",
   "id": "6d781d88-bff9-417a-80d2-5bbe25225c65",
   "metadata": {},
   "source": [
    "#### Stable Sorting"
   ]
  },
  {
   "cell_type": "markdown",
   "id": "6a981694-a737-4a8e-8f47-5919eaac8247",
   "metadata": {},
   "source": [
    "You might have noticed that the words `this`,  `late` and `bird` all have four characters - so how did Python determine which one should come first? Randomly? No!\n",
    "\n",
    "The sort algorithm that Python uses, called the *TimSort* (named after Python core developer Tim Peters - yes, the same Tim Peters that wrote the Zen of Python!!), is what is called a **stable** sort algorithm.\n",
    "\n",
    "This means that items with equal sort keys maintain their relative position."
   ]
  },
  {
   "cell_type": "code",
   "execution_count": null,
   "id": "facce9b3-95a5-4619-937b-21742a129275",
   "metadata": {
    "tags": []
   },
   "outputs": [],
   "source": [
    "t = 'aaaa', 'bbbb', 'cccc', 'dddd', 'eeee'"
   ]
  },
  {
   "cell_type": "code",
   "execution_count": null,
   "id": "7fc5c84b-4938-404f-be9c-a8b28e92f3e1",
   "metadata": {},
   "outputs": [
    {
     "data": {
      "text/plain": [
       "['aaaa', 'bbbb', 'cccc', 'dddd', 'eeee']"
      ]
     },
     "execution_count": 63,
     "metadata": {},
     "output_type": "execute_result"
    }
   ],
   "source": [
    "sorted(t, key = lambda s: len(s))"
   ]
  },
  {
   "cell_type": "markdown",
   "id": "8053744a-488b-42f0-884a-3f5e4563b37d",
   "metadata": {},
   "source": [
    "Now let's change our tuple a bit:"
   ]
  },
  {
   "cell_type": "code",
   "execution_count": null,
   "id": "6e3b3190-8020-4418-9ba5-62c02be728a6",
   "metadata": {
    "tags": []
   },
   "outputs": [],
   "source": [
    "t = 'bbbb', 'cccc', 'aaaa', 'eeee', 'dddd'"
   ]
  },
  {
   "cell_type": "code",
   "execution_count": null,
   "id": "658b5339-219b-4db4-bdc1-23064b0ef8df",
   "metadata": {},
   "outputs": [
    {
     "data": {
      "text/plain": [
       "['bbbb', 'cccc', 'aaaa', 'eeee', 'dddd']"
      ]
     },
     "execution_count": 65,
     "metadata": {},
     "output_type": "execute_result"
    }
   ],
   "source": [
    "sorted(t, key = lambda s: len(s))"
   ]
  },
  {
   "cell_type": "markdown",
   "id": "5dfd47e3-d6db-4892-872a-765a73c14de1",
   "metadata": {},
   "source": [
    "As you can see, when the sort keys are equal (they are all equal to 4), the original ordering of the iterable is preserved. `bbbb` came before `cccc` in our tuple so `bbbb` will come before `cccc` after sorting, even though they have the same sort key."
   ]
  },
  {
   "cell_type": "markdown",
   "id": "898d84bc-801b-49e9-88e1-03c8f8687b56",
   "metadata": {},
   "source": [
    "#### Reversed Sort"
   ]
  },
  {
   "cell_type": "markdown",
   "id": "35e792ee-79c8-4c21-97ac-5a74a8ca7806",
   "metadata": {},
   "source": [
    "We also have the `reverse` keyword-only argument that we can use - basically it sorts the iterable, but returns it reversed:"
   ]
  },
  {
   "cell_type": "code",
   "execution_count": 1,
   "id": "fd1cf3ae-40bc-4290-87d6-03efe02bc829",
   "metadata": {
    "tags": []
   },
   "outputs": [],
   "source": [
    "t = 'this', 'bird', 'is', 'a', 'late', 'parrot'"
   ]
  },
  {
   "cell_type": "code",
   "execution_count": 40,
   "id": "c801831a-4bce-4198-a849-b39b00a0695c",
   "metadata": {},
   "outputs": [
    {
     "data": {
      "text/plain": [
       "['parrot', 'this', 'bird', 'late', 'is', 'a']"
      ]
     },
     "execution_count": 40,
     "metadata": {},
     "output_type": "execute_result"
    }
   ],
   "source": [
    "sorted(t, key=lambda s: len(s), reverse=True)"
   ]
  },
  {
   "cell_type": "markdown",
   "id": "acf97a65-8f0a-427c-9dc2-6316bf1825ce",
   "metadata": {},
   "source": [
    "#### In-Place Sort"
   ]
  },
  {
   "cell_type": "markdown",
   "id": "90d787ac-144f-4e2a-9fd9-f82c758a14b2",
   "metadata": {},
   "source": [
    "If the iterable is mutable, in-place sorting is possible. The `list` class has a `.sort()` instance method that does in-place sorting. **It won't return anything**.\n",
    "\n",
    "This method is slightly more efficient than the `sorted()` function because it doesn't have to make a copy of the iterable before sorting."
   ]
  },
  {
   "cell_type": "code",
   "execution_count": 4,
   "id": "cce6d3b4-5245-45aa-be7c-a78e2941143c",
   "metadata": {},
   "outputs": [],
   "source": [
    "l = ['this', 'bird', 'is', 'a', 'late', 'parrot']\n",
    "result = l.sort(key = lambda x: len(x))\n",
    "result"
   ]
  },
  {
   "cell_type": "markdown",
   "id": "51024d04-8340-447d-ba02-5f46466f57f2",
   "metadata": {},
   "source": [
    "#### Natural Ordering for Custom Classes"
   ]
  },
  {
   "cell_type": "markdown",
   "id": "9266087c-ec39-4bd7-b795-7ce6cccb0580",
   "metadata": {},
   "source": [
    "I just want to quickly show you that in order to have a \"natural ordering\" for our custom classes, we just need to implement the `<` or `>` operators. (I discuss these operators in Part 1 of this course)"
   ]
  },
  {
   "cell_type": "markdown",
   "id": "3c522508-2a08-4aef-b4ca-8246448c1702",
   "metadata": {},
   "source": [
    "In fact, we can modify our class slightly so we can see that `sorted` is calling our `__lt__` method repeatedly to perform the sort:"
   ]
  },
  {
   "cell_type": "code",
   "execution_count": 8,
   "id": "7eace6fc-cd5f-47cb-abd5-a388427acba8",
   "metadata": {
    "tags": []
   },
   "outputs": [],
   "source": [
    "class MyClass:\n",
    "    def __init__(self, name, val):\n",
    "        self.name = name\n",
    "        self.val = val\n",
    "        \n",
    "    def __repr__(self):\n",
    "        return f'MyClass({self.name}, {self.val})'\n",
    "    \n",
    "    def __lt__(self, other):\n",
    "        print(f'called {self.name} < {other.name}')\n",
    "        return self.val < other.val"
   ]
  },
  {
   "cell_type": "code",
   "execution_count": 9,
   "id": "190bb01e-6388-40d5-b237-da44d67af34f",
   "metadata": {
    "tags": []
   },
   "outputs": [],
   "source": [
    "c1 = MyClass('c1', 20)\n",
    "c2 = MyClass('c2', 10)\n",
    "c3 = MyClass('c3', 20)\n",
    "c4 = MyClass('c4', 10)"
   ]
  },
  {
   "cell_type": "code",
   "execution_count": 10,
   "id": "0779f4b7-7994-4870-ad9b-ff84b09f66e4",
   "metadata": {},
   "outputs": [
    {
     "name": "stdout",
     "output_type": "stream",
     "text": [
      "called c2 < c1\n",
      "called c3 < c2\n",
      "called c3 < c1\n",
      "called c4 < c1\n",
      "called c4 < c2\n"
     ]
    },
    {
     "data": {
      "text/plain": [
       "[MyClass(c2, 10), MyClass(c4, 10), MyClass(c1, 20), MyClass(c3, 20)]"
      ]
     },
     "execution_count": 10,
     "metadata": {},
     "output_type": "execute_result"
    }
   ],
   "source": [
    "sorted([c1, c2, c3, c4])"
   ]
  },
  {
   "cell_type": "markdown",
   "id": "42fe3264-9475-4d8a-bdc5-8c69831039b6",
   "metadata": {},
   "source": [
    "Now we can sort those objects, without specifying a key, since that class has a natural ordering (`<` in this case). Moreover, notice that the sort is stable.\n",
    "\n",
    "But we can still sort by using a key. For example:"
   ]
  },
  {
   "cell_type": "code",
   "execution_count": 11,
   "id": "c0bbc6ab-859c-417a-a852-eece76bae674",
   "metadata": {},
   "outputs": [
    {
     "data": {
      "text/plain": [
       "[MyClass(c1, 20), MyClass(c2, 10), MyClass(c3, 20), MyClass(c4, 10)]"
      ]
     },
     "execution_count": 11,
     "metadata": {},
     "output_type": "execute_result"
    }
   ],
   "source": [
    "l = [c2, c4, c1, c3]\n",
    "sorted(l, key=lambda c: c.name)"
   ]
  },
  {
   "cell_type": "markdown",
   "id": "287e693e-8ef7-4a76-9658-25d3f7353b29",
   "metadata": {},
   "source": [
    "If you wanted to implement all the other orderings you can just use the `@total_ordering` decorator: `from functools import total_ordering`"
   ]
  },
  {
   "cell_type": "markdown",
   "id": "857a395d-0b22-4001-a573-66df3aeec8f4",
   "metadata": {},
   "source": [
    "# 12 - List Comprehensions"
   ]
  },
  {
   "cell_type": "markdown",
   "id": "756cff9c-c5ee-454d-8dea-23a07ff00fa9",
   "metadata": {},
   "source": [
    "#### Lecture"
   ]
  },
  {
   "cell_type": "markdown",
   "id": "92a15b37-cc53-47b9-8d14-49add06da974",
   "metadata": {},
   "source": [
    "See Part 1 for introduction on comprehensions if needed."
   ]
  },
  {
   "cell_type": "markdown",
   "id": "0eb21a43-cf75-45e4-be32-4316d5bbbedc",
   "metadata": {},
   "source": [
    "**Internal Mechanics of List Comprehensions**"
   ]
  },
  {
   "cell_type": "markdown",
   "id": "d91d1911-7a3c-4aa3-8509-1bbd0e1b85c8",
   "metadata": {},
   "source": [
    "Comprehensions have their own **local scope** - just like a function.\n",
    "\n",
    "Functions can be nested inside other functions, creating an inner and an outer scope. If the inner references a variable in the outer, that variable becomes a free variable and the inner function is known as a **closure** - so closures have free variables.\n",
    "\n",
    "We need to recognize that list comprehensions are essentially temporary functions that Python creates, executes and returns the resulting list from it.\n",
    "\n",
    "Let's break this down with an example:\n",
    "\n",
    "`sq = [item**2 for item in range(10)]`\n",
    "\n",
    "- The entire RHS *is* the list comprehension. \n",
    "- There are two stages: compilation and execution. \n",
    "- During **compilation**, Python creates a temporary function, `item` being a variable in the local scope, that'll be used to evaluate the comprehension. \n",
    "- Something like:\n",
    "\n",
    "```\n",
    "def temp():\n",
    "    new_list = []\n",
    "    for item in range(10):\n",
    "        new_list.append(item**2)\n",
    "       \n",
    "    return new_list\n",
    "```\n",
    "\n",
    "- When the original line is **executed**, python executes `temp()`.\n",
    "- Then, it stores the returned object (`new_list`) at some memory address and points `sq` on the LHS to it."
   ]
  },
  {
   "cell_type": "markdown",
   "id": "ce84d966-7e45-4a46-a946-6f2b6667d023",
   "metadata": {},
   "source": [
    "#### Comprehension Scopes"
   ]
  },
  {
   "cell_type": "markdown",
   "id": "5825236e-a48c-4e2a-8b68-51d58d4ad6c0",
   "metadata": {},
   "source": [
    "As mentioned `item` in the list comprehension is a local symbol of the temporary function. \n",
    "\n",
    "But the comprehension has access to **global** variables just like how normal functions will access the global scope if it can't find a variable in the local scope.\n",
    "\n",
    "But what about **nonlocal** variables? \n",
    "\n",
    "These are variables that are \"neither local nor global\". The nonlocal is a keyword in python that is used to declare any variable as not local but instead comes from the nearest enclosing scope that is not global. \n",
    "\n",
    "Consider the function:"
   ]
  },
  {
   "cell_type": "code",
   "execution_count": 13,
   "id": "05712768-69b5-4b5b-8d5e-f3f0340384e2",
   "metadata": {},
   "outputs": [],
   "source": [
    "def my_func(num):\n",
    "    sq = [item**2 for item in range(num)]"
   ]
  },
  {
   "cell_type": "markdown",
   "id": "46aaa6c4-f048-4b42-8866-7c97755f66d0",
   "metadata": {},
   "source": [
    "Remember to think of the RHS as a function. It contains `num` which is a variable in the outer scope. We therefore have a comprehension function nested inside a regular function. Since the comprehension function is referencing `num`, a `nonlocal` symbol, it becomes a free variable - so we have a closure.\n",
    "\n",
    "**The RHS *is* a closure - a function nested in another function that has access to one or more free variables in an outer scope because it references those nonlocal symbols.**"
   ]
  },
  {
   "cell_type": "markdown",
   "id": "182026cf-69f2-400e-aedb-daf021e54c47",
   "metadata": {},
   "source": [
    "#### Things to Watch Out For"
   ]
  },
  {
   "cell_type": "markdown",
   "id": "96f84df8-dfef-45a4-8e06-497875e8efaa",
   "metadata": {},
   "source": [
    "**Example 1**"
   ]
  },
  {
   "cell_type": "markdown",
   "id": "1ef03e91-c46d-4271-b409-87bc2b1cfca3",
   "metadata": {},
   "source": [
    "To drive the point home about comprehension scopes, consider the following below. We have a regular `for` loop containing the symbol `number`:"
   ]
  },
  {
   "cell_type": "code",
   "execution_count": 13,
   "id": "c71fc6cd-24dd-4d80-885e-10ecf623ab4a",
   "metadata": {},
   "outputs": [
    {
     "name": "stdout",
     "output_type": "stream",
     "text": [
      "4\n",
      "True\n"
     ]
    }
   ],
   "source": [
    "l=[]\n",
    "\n",
    "for number in range(5):\n",
    "    l.append(number**2)\n",
    "    \n",
    "print(number)\n",
    "print('number' in globals())"
   ]
  },
  {
   "cell_type": "markdown",
   "id": "e66b4a6d-7a67-4fa4-abbc-db9fa33eb9d5",
   "metadata": {},
   "source": [
    "So, Python automatically creates a symbol within the scope that it's residing in. But what if we create this loop in a comprehension? (First, delete `number` from `globals()`.)"
   ]
  },
  {
   "cell_type": "code",
   "execution_count": 14,
   "id": "f391f001-b97e-4301-b6c4-9d145204c1dc",
   "metadata": {},
   "outputs": [
    {
     "name": "stdout",
     "output_type": "stream",
     "text": [
      "False\n"
     ]
    }
   ],
   "source": [
    "if 'number' in globals():\n",
    "    del number\n",
    "\n",
    "l = [number**2 for number in range(5)]\n",
    "\n",
    "print('number' in globals())"
   ]
  },
  {
   "cell_type": "markdown",
   "id": "d1c08301-5f6e-4216-b789-02b01f8f1172",
   "metadata": {},
   "source": [
    "It's not in the `globals()` scope because it was created within scope of the temporary function that Python created for the comprehension.\n",
    "\n",
    "**But be careful!**\n",
    "\n",
    "In `[number**2 for number in range(5)]`, the `number` in `for number` is the **declaration** of the variable within the function scope. But, the `number` in `number**2` is a **reference**.\n",
    "\n",
    "First, note that, although the first mention of `number` comes first in the comprehension, it comes at the very end of the temporary function that Python creates - that's why it's considered a reference and NOT a declaration by Python.\n",
    "\n",
    "Secondly, from what we know about functions in Python, if a variable is referenced within a function, Python first looks for any declarations within the local scope of the function. If none are found, it zooms out to look in the global scope.\n",
    "\n",
    "So, take a look at the example below:"
   ]
  },
  {
   "cell_type": "code",
   "execution_count": 15,
   "id": "8c582983-6c70-4b7c-8c2a-073ed1d0bc99",
   "metadata": {},
   "outputs": [
    {
     "data": {
      "text/plain": [
       "[0, 100, 200, 300, 400]"
      ]
     },
     "execution_count": 15,
     "metadata": {},
     "output_type": "execute_result"
    }
   ],
   "source": [
    "number = 100\n",
    "\n",
    "[number * i for i in range(5)] # number is in the first part of the statement, so it's a reference NOT a DECLARATION\n",
    "                               # i is AFTER the first part of the statement, it's a declaration."
   ]
  },
  {
   "cell_type": "markdown",
   "id": "76436369-4ec2-4887-8831-3dded425ba9e",
   "metadata": {},
   "source": [
    "- When Python created the temporary function and began with `for i in range(5):`, it declared `i` as a local variable. \n",
    "- Then, it got round to `number * i` but it couldn't find any declaration of `number` within its local (comprehension) scope, so it looked in globals and found `number = 100`."
   ]
  },
  {
   "cell_type": "markdown",
   "id": "9f7602db-0cbe-41e5-a924-5d11c2b8ec62",
   "metadata": {},
   "source": [
    "**Example 2**"
   ]
  },
  {
   "cell_type": "markdown",
   "id": "d032055e-365c-4e10-9026-f4cf3ab189de",
   "metadata": {},
   "source": [
    "Now let's look at an example we've seen before when we studied closures.\n",
    "\n",
    "Suppose we want to generate a list of functions that will calculate powers of their argument, i.e. we want to define a bunch of functions. Here's one approach:"
   ]
  },
  {
   "cell_type": "markdown",
   "id": "3d9a5c21-9112-48c1-ab71-bedbd598ec11",
   "metadata": {},
   "source": [
    "We could certainly define a bunch of functions one by one:"
   ]
  },
  {
   "cell_type": "code",
   "execution_count": 45,
   "id": "110f3886-a4d1-4f3b-a312-153db3f24402",
   "metadata": {
    "collapsed": true,
    "jupyter": {
     "outputs_hidden": true
    }
   },
   "outputs": [],
   "source": [
    "fn_0 = lambda x: x**0\n",
    "fn_1 = lambda x: x**1\n",
    "fn_2 = lambda x: x**2\n",
    "fn_3 = lambda x: x**3\n",
    "# etc"
   ]
  },
  {
   "cell_type": "markdown",
   "id": "9320d762-ebda-4a79-be29-41a66f06f4bf",
   "metadata": {},
   "source": [
    "But this would be very tedious if we had to do it more than just a few times.\n",
    "\n",
    "Instead, why don't we create those functions as lambdas and put them into a list where the index of the list will correspond to the power we are looking for.\n",
    "\n",
    "Something like this if we were doing it manually:"
   ]
  },
  {
   "cell_type": "code",
   "execution_count": 46,
   "id": "06b25247-8d0c-4f95-acf9-ac2c33848f77",
   "metadata": {
    "collapsed": true,
    "jupyter": {
     "outputs_hidden": true
    }
   },
   "outputs": [],
   "source": [
    "funcs = [lambda x: x**0, lambda x: x**1, lambda x: x**2, lambda x: x**3]"
   ]
  },
  {
   "cell_type": "markdown",
   "id": "8fd74243-bb30-4e6e-969e-9d7421f98432",
   "metadata": {},
   "source": [
    "Now we can call these functions this way:"
   ]
  },
  {
   "cell_type": "code",
   "execution_count": 47,
   "id": "fede3a53-72bb-4833-8819-80133d81743f",
   "metadata": {},
   "outputs": [
    {
     "name": "stdout",
     "output_type": "stream",
     "text": [
      "1\n",
      "10\n",
      "100\n",
      "1000\n"
     ]
    }
   ],
   "source": [
    "print(funcs[0](10))\n",
    "print(funcs[1](10))\n",
    "print(funcs[2](10))\n",
    "print(funcs[3](10))"
   ]
  },
  {
   "cell_type": "markdown",
   "id": "e1f210de-555d-4812-b9dc-5c471f844a4e",
   "metadata": {},
   "source": [
    "Now all we need to do is to create these functions using a loop - the traditional way first:"
   ]
  },
  {
   "cell_type": "markdown",
   "id": "32827f94-b29a-4e21-9020-296a2c640cdb",
   "metadata": {},
   "source": [
    "First let's make sure `i` is not in our global symbol table:"
   ]
  },
  {
   "cell_type": "code",
   "execution_count": 17,
   "id": "018d85f2-6a76-4054-a80f-fdfaaf698839",
   "metadata": {
    "tags": []
   },
   "outputs": [],
   "source": [
    "if 'i' in globals():\n",
    "    del i"
   ]
  },
  {
   "cell_type": "code",
   "execution_count": 18,
   "id": "90f32563-7f9d-4d91-b20e-1b774c0df3be",
   "metadata": {
    "tags": []
   },
   "outputs": [],
   "source": [
    "funcs = []\n",
    "for i in range(6):\n",
    "    funcs.append(lambda x: x**i)"
   ]
  },
  {
   "cell_type": "markdown",
   "id": "6a8abc81-275e-49c5-9a63-362bb4aeb3b6",
   "metadata": {},
   "source": [
    "And let's use them as before:"
   ]
  },
  {
   "cell_type": "code",
   "execution_count": 20,
   "id": "c790a20e-9553-4efb-bbd9-2bb49550feb3",
   "metadata": {},
   "outputs": [
    {
     "name": "stdout",
     "output_type": "stream",
     "text": [
      "100000\n",
      "100000\n"
     ]
    },
    {
     "data": {
      "text/plain": [
       "[<function __main__.<lambda>(x)>,\n",
       " <function __main__.<lambda>(x)>,\n",
       " <function __main__.<lambda>(x)>,\n",
       " <function __main__.<lambda>(x)>,\n",
       " <function __main__.<lambda>(x)>,\n",
       " <function __main__.<lambda>(x)>]"
      ]
     },
     "execution_count": 20,
     "metadata": {},
     "output_type": "execute_result"
    }
   ],
   "source": [
    "print(funcs[0](10))\n",
    "print(funcs[1](10))\n",
    "\n",
    "funcs"
   ]
  },
  {
   "cell_type": "markdown",
   "id": "06209118-526a-4a25-9fb7-0273d20ced1f",
   "metadata": {},
   "source": [
    "What happened?? It looks like every function is actually calculating `10**5`. To break it down:\n",
    "\n",
    "- `lambda x: x**i` is a function which references `i` that exists in an outer scope. Therefore, the lambda is a closure.\n",
    "- Inside `funcs`, each of those lambda's have a `x**i` but `i` is pointing to the global `i`.\n",
    "- So, for whichever lambda we fetch, when lambda wants to compute `x**i`, it goes through a pointer to the global `i`.\n",
    "- Since the `for` loop terminated, `i` ended as `5`. So any mention of `i` in any of those lambdas will point to whatever is the current value of `i`.\n",
    "\n",
    "Take a look at the equivalent breakdown:"
   ]
  },
  {
   "cell_type": "code",
   "execution_count": null,
   "id": "8e971a80-a13f-40bb-9a65-725241e2686c",
   "metadata": {},
   "outputs": [],
   "source": [
    "i = 0\n",
    "def fn_0(x):\n",
    "    return x ** i\n",
    "\n",
    "i = 1\n",
    "def fn_0(x):\n",
    "    return x ** i\n",
    "\n",
    "i = 2\n",
    "def fn_0(x):\n",
    "    return x ** i"
   ]
  },
  {
   "cell_type": "markdown",
   "id": "ea28ac0d-06f3-4152-a065-bbff441e9734",
   "metadata": {},
   "source": [
    "What's the solution? Recall that if a function is defined with a default parameter, e.g. `def log(current_dt=datetime.now()`, that parameter is calculated during **compilation** of the function, not **execution**. So, if our `log` function is called on different days without a `current_dt` parameter provided, the same default value will be pulled every time.\n",
    "\n",
    "We can use this to our advantage in this scenario. Take a look:"
   ]
  },
  {
   "cell_type": "code",
   "execution_count": 2,
   "id": "2c3b38ab-3f2e-474a-87ad-df15e7fcff7f",
   "metadata": {},
   "outputs": [
    {
     "name": "stdout",
     "output_type": "stream",
     "text": [
      "1\n",
      "10\n",
      "100\n",
      "1000\n"
     ]
    }
   ],
   "source": [
    "funcs = [lambda x, p=i: x**p for i in range(4)]\n",
    "\n",
    "print(funcs[0](10))\n",
    "print(funcs[1](10))\n",
    "print(funcs[2](10))\n",
    "print(funcs[3](10))"
   ]
  },
  {
   "cell_type": "markdown",
   "id": "a9f40d26-6d0c-4ebf-9061-4d85ab43180d",
   "metadata": {},
   "source": [
    "It works because first the value of `i=0` is taken and during the creation of the first lambda (compilation), `p` gets assigned to `i`, so `p=0` is a default value to this particular lambda. If no default `p` value is provided, then Python pulls this value of `p=0`. It might be useful to think that a value for `p` gets hardcoded for each value of `i` in the loop. "
   ]
  },
  {
   "cell_type": "markdown",
   "id": "9f840268-f1d7-4b34-871d-eda0394f21b9",
   "metadata": {},
   "source": [
    "**Compilation**"
   ]
  },
  {
   "cell_type": "markdown",
   "id": "14236e6d-c374-49d1-973e-068416697498",
   "metadata": {},
   "source": [
    "Let's show that Python is indeed creating a function by compiling a comprehension, and then disassembling the compiled code to see what's happened:"
   ]
  },
  {
   "cell_type": "code",
   "execution_count": 11,
   "id": "a420e817-7f40-49de-8616-680376152535",
   "metadata": {
    "collapsed": true,
    "jupyter": {
     "outputs_hidden": true
    }
   },
   "outputs": [],
   "source": [
    "import dis"
   ]
  },
  {
   "cell_type": "code",
   "execution_count": 12,
   "id": "223b96d4-0d26-4fb1-97d0-bc510c1546e9",
   "metadata": {
    "collapsed": true,
    "jupyter": {
     "outputs_hidden": true
    }
   },
   "outputs": [],
   "source": [
    "compiled_code = compile('[i**2 for i in (1, 2, 3)]', \n",
    "                        filename='', mode='eval')"
   ]
  },
  {
   "cell_type": "code",
   "execution_count": 13,
   "id": "2d5368be-c717-4765-a41e-f825033e1743",
   "metadata": {},
   "outputs": [
    {
     "name": "stdout",
     "output_type": "stream",
     "text": [
      "  1           0 LOAD_CONST               0 (<code object <listcomp> at 0x000001F77210ED20, file \"\", line 1>)\n",
      "              2 LOAD_CONST               1 ('<listcomp>')\n",
      "              4 MAKE_FUNCTION            0\n",
      "              6 LOAD_CONST               5 ((1, 2, 3))\n",
      "              8 GET_ITER\n",
      "             10 CALL_FUNCTION            1\n",
      "             12 RETURN_VALUE\n"
     ]
    }
   ],
   "source": [
    "dis.dis(compiled_code)"
   ]
  },
  {
   "cell_type": "markdown",
   "id": "fe835ed6-3535-4440-83ee-3823f2ab9147",
   "metadata": {},
   "source": [
    "As you can see, in step 4, Python created a function (`MAKE_FUNCTION`), called it (`CALL_FUNCTION`), and then returned the result (`RETURN_VALUE`) in the last step."
   ]
  },
  {
   "cell_type": "markdown",
   "id": "d416a759-997b-42e7-9e24-8585644ccef0",
   "metadata": {},
   "source": [
    "**Nested Comprehensions**\n",
    "\n",
    "Comprehensions can be nested within each other. And since they're functions, a nested comprehension can access variables in the outer comprehension which are nonlocal to inner comprehension. \n",
    "\n",
    "If this is the case, the inner/nested comprehension becomes a closure because it's a nested 'function' accessing a free variable. \n",
    "\n",
    "In the example below, `i` is a nonlocal variable to the nested comprehension because `i` is spotted in the outer comprehension/function. So, the nested comprehension is a function."
   ]
  },
  {
   "cell_type": "code",
   "execution_count": 14,
   "id": "39f388ab-18a7-4630-a4ec-32f815e1dcab",
   "metadata": {},
   "outputs": [
    {
     "data": {
      "text/plain": [
       "[[0, 0, 0, 0, 0],\n",
       " [0, 1, 2, 3, 4],\n",
       " [0, 2, 4, 6, 8],\n",
       " [0, 3, 6, 9, 12],\n",
       " [0, 4, 8, 12, 16]]"
      ]
     },
     "execution_count": 14,
     "metadata": {},
     "output_type": "execute_result"
    }
   ],
   "source": [
    "[ [i * j for j in range(5)] for i in range(5)]"
   ]
  },
  {
   "cell_type": "markdown",
   "id": "97aba076-4d9a-4d12-a156-c93ef7d5ddb9",
   "metadata": {},
   "source": [
    "**Nested Loops in Comprehensions**\n",
    "\n",
    "These are NOT nested comprehensions. Let's take a look at the regular way and compare it to having nested loops in a comprehension."
   ]
  },
  {
   "cell_type": "code",
   "execution_count": 18,
   "id": "6d02537c-1aaa-494f-9b48-3e7ebcb85c7f",
   "metadata": {},
   "outputs": [
    {
     "name": "stdout",
     "output_type": "stream",
     "text": [
      "[(0, 0, 0), (0, 0, 1), (0, 1, 0), (0, 1, 1), (1, 0, 0), (1, 0, 1), (1, 1, 0), (1, 1, 1)]\n"
     ]
    }
   ],
   "source": [
    "l = []\n",
    "\n",
    "for i in range(2):\n",
    "    for j in range(2):    \n",
    "        for k in range(2):    \n",
    "            l.append((i, j, k))\n",
    "            \n",
    "print(l)"
   ]
  },
  {
   "cell_type": "code",
   "execution_count": 20,
   "id": "63709a1d-1f80-4105-8656-69661a3d9713",
   "metadata": {},
   "outputs": [
    {
     "name": "stdout",
     "output_type": "stream",
     "text": [
      "[(0, 0, 0), (0, 0, 1), (0, 1, 0), (0, 1, 1), (1, 0, 0), (1, 0, 1), (1, 1, 0), (1, 1, 1)]\n"
     ]
    }
   ],
   "source": [
    "l = [(i, j, k) for i in range(2) for j in range(2) for k in range(2)]\n",
    "\n",
    "print(l)"
   ]
  },
  {
   "cell_type": "markdown",
   "id": "0727ab54-6da9-4bd8-ba02-40b908a34841",
   "metadata": {},
   "source": [
    "We can have `if` statements but be careful - the order of `for` and `if` matters. Make sure your `if` condition only references variables that are earlier on in the loop (excluding the first bit of the loop - `(i,j)` is the first bit of the loop below, but `i` and `j` are not declared here).\n",
    "\n",
    "```\n",
    "l = [(i, j) for i in range(2) for j in range(2) if i==j] # CORRECT\n",
    "l = [(i, j) for i in range(2) if i==j for j in range(2)] # WRONG, j not declared until 'for j...' but referenced earlier in 'i==j'\n",
    "```"
   ]
  },
  {
   "cell_type": "markdown",
   "id": "8d5fb68b-6df4-4624-8d4e-8f6bc53e3a05",
   "metadata": {},
   "source": [
    "Here's an example with two conditions:"
   ]
  },
  {
   "cell_type": "code",
   "execution_count": 23,
   "id": "ac43aef7-ade0-40b9-983f-533f3dc36f4b",
   "metadata": {},
   "outputs": [
    {
     "data": {
      "text/plain": [
       "[(2, 3), (4, 3)]"
      ]
     },
     "execution_count": 23,
     "metadata": {},
     "output_type": "execute_result"
    }
   ],
   "source": [
    "[(i, j)\n",
    " for i in range(1,6) if i%2==0 \n",
    " for j in range(1,6) if j%3==0]"
   ]
  },
  {
   "cell_type": "markdown",
   "id": "a63245e8-d535-428e-8b0f-f77a4ef8765d",
   "metadata": {},
   "source": [
    "But note, we could put both `if` statements at the end because both `i` and `j` are defined by then:"
   ]
  },
  {
   "cell_type": "code",
   "execution_count": 24,
   "id": "ce442d65-6232-4bce-8228-50e0bf234e59",
   "metadata": {},
   "outputs": [
    {
     "data": {
      "text/plain": [
       "[(2, 3), (4, 3)]"
      ]
     },
     "execution_count": 24,
     "metadata": {},
     "output_type": "execute_result"
    }
   ],
   "source": [
    "[(i, j)\n",
    " for i in range(1,6) \n",
    " for j in range(1,6)\n",
    " if i%2==0\n",
    " if j%3==0]"
   ]
  },
  {
   "cell_type": "markdown",
   "id": "6b01777d-4b37-4005-bb07-c92a0d8a156b",
   "metadata": {},
   "source": [
    "Here's another example. Note that there's a significant difference between enclosing and not enclosing the first expression in [ ]. \n",
    "\n",
    "If we want an output of `['ax', 'ay', 'az', 'bx', 'by', 'bz', 'cx', 'cy', 'cz']`, then we will only have **one** nested comprehension. As a result, the two variables are both local because they are both within the same [ ]."
   ]
  },
  {
   "cell_type": "code",
   "execution_count": 12,
   "id": "b0412bc0-1aa0-491f-b123-65ca2301aeb2",
   "metadata": {},
   "outputs": [
    {
     "name": "stdout",
     "output_type": "stream",
     "text": [
      "[['ax', 'bx', 'cx'], ['ay', 'by', 'cy'], ['az', 'bz', 'cz']]\n",
      "['ax', 'ay', 'az', 'bx', 'by', 'bz', 'cx', 'cy', 'cz']\n"
     ]
    }
   ],
   "source": [
    "l1 = ['a', 'b', 'c']\n",
    "l2 = ['x', 'y', 'z']\n",
    "\n",
    "nested_comp = [[s1 + s2 for s1 in l1] for s2 in l2]\n",
    "nested_loop = [s1 + s2 for s1 in l1 for s2 in l2]\n",
    "\n",
    "print(nested_comp)\n",
    "print(nested_loop)"
   ]
  },
  {
   "cell_type": "markdown",
   "id": "f448e176-09f6-47b8-8a6f-52d0adea42cc",
   "metadata": {},
   "source": [
    "The easy way to interpret the nested loop expression is to recognise that the loops are in the same order as the traditional way, i.e.,\n",
    "\n",
    "```\n",
    "for s1 in l1:\n",
    "    for s2 in l2\n",
    "```"
   ]
  }
 ],
 "metadata": {
  "kernelspec": {
   "display_name": "Python 3 (ipykernel)",
   "language": "python",
   "name": "python3"
  },
  "language_info": {
   "codemirror_mode": {
    "name": "ipython",
    "version": 3
   },
   "file_extension": ".py",
   "mimetype": "text/x-python",
   "name": "python",
   "nbconvert_exporter": "python",
   "pygments_lexer": "ipython3",
   "version": "3.10.4"
  }
 },
 "nbformat": 4,
 "nbformat_minor": 5
}
