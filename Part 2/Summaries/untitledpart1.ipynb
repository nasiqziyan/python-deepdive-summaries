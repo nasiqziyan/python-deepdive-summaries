{
 "cells": [
  {
   "cell_type": "markdown",
   "id": "aeb135a6-cf60-4dbf-b800-e6f22f7e0039",
   "metadata": {},
   "source": [
    "# 06 - Custom Sequences - Part 1"
   ]
  },
  {
   "cell_type": "markdown",
   "id": "4d7ec605-3956-4b0d-9e12-ad82d591c6a2",
   "metadata": {},
   "source": [
    "#### Lecture"
   ]
  },
  {
   "cell_type": "markdown",
   "id": "b7ee0bff-5509-470f-a29a-0724d8e86936",
   "metadata": {},
   "source": [
    "We're going to be creating our own sequence types. For part 1, we'll focus on immutable sequence types only. At it's most basic, an immutable sequence type should support two things:\n",
    "\n",
    "- returning the **length** of the sequence,\n",
    "- given an **index**, return the element at that index.\n",
    "\n",
    "If an object provides this functionality, then in theory we should be able to:\n",
    "\n",
    "- retrieve elements **by index** using square brackets `[]`,\n",
    "- **iterate** through the elements using Python's native looping mechanisms such as `for` loops, list comprehensions, etc."
   ]
  },
  {
   "cell_type": "markdown",
   "id": "2f5292af-c647-4c93-bfaa-476cd05d8554",
   "metadata": {},
   "source": [
    "**How does Python do it?** \n",
    "\n",
    "The sequence types must at the minimum implement:\n",
    "\n",
    "- `__len__`: We'll find out that this is not necessary but still recommended\n",
    "- `__getitem__`: This is the main one for taking a single integer argument - the index. However, it may also choose to handle a **slice** type argument. We decide.\n"
   ]
  },
  {
   "cell_type": "markdown",
   "id": "18fd745e-baa0-43a1-ab49-eec16e99464c",
   "metadata": {},
   "source": [
    "#### The `__getitem__` method"
   ]
  },
  {
   "cell_type": "markdown",
   "id": "b2b34acc-77ee-4c30-9154-d10a6df940c4",
   "metadata": {},
   "source": [
    "**This method should return an element of the sequence based on the specified index or raise an `IndexError` exception if the index is out of bounds.**\n",
    "\n",
    "If we implement these **two** things then Python can actually utilise our `__getitem__` method to iterate through our sequence, e.g. by using the `for` loop.\n",
    "\n",
    "(We may choose to support negative indices and slices but this is optional.)\n",
    "\n",
    "Python's `list` already supports `__getitem__` as an equivalent approach to the `[]`. Negative indices are valid so long as they are not out of bounds."
   ]
  },
  {
   "cell_type": "code",
   "execution_count": 18,
   "id": "02c75153-6624-44ff-92ce-ca4092890da7",
   "metadata": {},
   "outputs": [
    {
     "name": "stdout",
     "output_type": "stream",
     "text": [
      "a\n",
      "['a', 'c', 'e']\n",
      "f\n"
     ]
    }
   ],
   "source": [
    "my_list = ['a', 'b', 'c', 'd', 'e', 'f']\n",
    "\n",
    "print(my_list.__getitem__(0))\n",
    "print(my_list.__getitem__(slice(0, 6, 2)))\n",
    "print(my_list.__getitem__(-1))"
   ]
  },
  {
   "cell_type": "markdown",
   "id": "a75e3d37-c843-49b3-8028-aaaaa3b9b842",
   "metadata": {},
   "source": [
    "This include the `IndexError`:"
   ]
  },
  {
   "cell_type": "code",
   "execution_count": 16,
   "id": "fdca9dd9-ff8f-42a8-b439-e9b136779b16",
   "metadata": {},
   "outputs": [
    {
     "ename": "IndexError",
     "evalue": "list index out of range",
     "output_type": "error",
     "traceback": [
      "\u001b[0;31m---------------------------------------------------------------------------\u001b[0m",
      "\u001b[0;31mIndexError\u001b[0m                                Traceback (most recent call last)",
      "\u001b[0;32m/tmp/ipykernel_3888/2288129030.py\u001b[0m in \u001b[0;36m<module>\u001b[0;34m\u001b[0m\n\u001b[0;32m----> 1\u001b[0;31m \u001b[0mprint\u001b[0m\u001b[0;34m(\u001b[0m\u001b[0mmy_list\u001b[0m\u001b[0;34m.\u001b[0m\u001b[0m__getitem__\u001b[0m\u001b[0;34m(\u001b[0m\u001b[0;36m100\u001b[0m\u001b[0;34m)\u001b[0m\u001b[0;34m)\u001b[0m\u001b[0;34m\u001b[0m\u001b[0;34m\u001b[0m\u001b[0m\n\u001b[0m",
      "\u001b[0;31mIndexError\u001b[0m: list index out of range"
     ]
    }
   ],
   "source": [
    "print(my_list.__getitem__(100))"
   ]
  }
 ],
 "metadata": {
  "kernelspec": {
   "display_name": "Python 3 (ipykernel)",
   "language": "python",
   "name": "python3"
  },
  "language_info": {
   "codemirror_mode": {
    "name": "ipython",
    "version": 3
   },
   "file_extension": ".py",
   "mimetype": "text/x-python",
   "name": "python",
   "nbconvert_exporter": "python",
   "pygments_lexer": "ipython3",
   "version": "3.10.4"
  }
 },
 "nbformat": 4,
 "nbformat_minor": 5
}
