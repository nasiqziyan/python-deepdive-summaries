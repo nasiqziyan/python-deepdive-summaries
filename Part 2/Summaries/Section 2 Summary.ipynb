{
 "cells": [
  {
   "cell_type": "markdown",
   "id": "a057d3d8-f27a-4ef5-b97d-f4a360cd182d",
   "metadata": {},
   "source": [
    "# 01 - Sequence Types"
   ]
  },
  {
   "cell_type": "markdown",
   "id": "e9666d9d-36ae-4139-9896-8336e18d021b",
   "metadata": {},
   "source": [
    "Sequence types have the general concept of a first element, a second element, and so on. Basically an ordering of the sequence items using the natural numbers. In Python (and many other languages) the starting index is set to `0`, not `1`.\n",
    "\n",
    "So the first item has index `0`, the second item has index `1`, and so on."
   ]
  },
  {
   "cell_type": "markdown",
   "id": "0acedbf5-a322-4370-a5c0-44c231d2b3ad",
   "metadata": {},
   "source": [
    "Python has built-in mutable and immutable sequence types."
   ]
  },
  {
   "cell_type": "markdown",
   "id": "574b7d87-e1ac-40a5-ab71-6ac9a58b47c8",
   "metadata": {},
   "source": [
    "Strings, tuples, ranges and bytes are immutable - we can access but not modify the **content** of the **sequence**:"
   ]
  },
  {
   "cell_type": "code",
   "execution_count": 15,
   "id": "abf581f3-9e0c-4c81-a642-7732d67fe080",
   "metadata": {},
   "outputs": [
    {
     "ename": "TypeError",
     "evalue": "'tuple' object does not support item assignment",
     "output_type": "error",
     "traceback": [
      "\u001b[0;31m---------------------------------------------------------------------------\u001b[0m",
      "\u001b[0;31mTypeError\u001b[0m                                 Traceback (most recent call last)",
      "\u001b[0;32m/tmp/ipykernel_5300/1874863708.py\u001b[0m in \u001b[0;36m<module>\u001b[0;34m\u001b[0m\n\u001b[1;32m      1\u001b[0m \u001b[0mt\u001b[0m \u001b[0;34m=\u001b[0m \u001b[0;34m(\u001b[0m\u001b[0;36m1\u001b[0m\u001b[0;34m,\u001b[0m \u001b[0;36m2\u001b[0m\u001b[0;34m,\u001b[0m \u001b[0;36m3\u001b[0m\u001b[0;34m)\u001b[0m\u001b[0;34m\u001b[0m\u001b[0;34m\u001b[0m\u001b[0m\n\u001b[1;32m      2\u001b[0m \u001b[0;34m\u001b[0m\u001b[0m\n\u001b[0;32m----> 3\u001b[0;31m \u001b[0mt\u001b[0m\u001b[0;34m[\u001b[0m\u001b[0;36m0\u001b[0m\u001b[0;34m]\u001b[0m \u001b[0;34m=\u001b[0m \u001b[0;36m100\u001b[0m\u001b[0;34m\u001b[0m\u001b[0;34m\u001b[0m\u001b[0m\n\u001b[0m",
      "\u001b[0;31mTypeError\u001b[0m: 'tuple' object does not support item assignment"
     ]
    }
   ],
   "source": [
    "t = (1, 2, 3)\n",
    "\n",
    "t[0] = 100"
   ]
  },
  {
   "cell_type": "markdown",
   "id": "fe690e39-4528-4c88-88c3-8d4bcdd4d526",
   "metadata": {},
   "source": [
    "But of course, if the sequence contains mutable objects, then although we cannot modify the sequence of elements (cannot replace, delete or insert elements), we certainly **can** change the contents of the mutable objects:"
   ]
  },
  {
   "cell_type": "code",
   "execution_count": 17,
   "id": "ebbc23c1-5df2-4006-8396-7062d357704b",
   "metadata": {
    "tags": []
   },
   "outputs": [],
   "source": [
    "t = ( [1, 2], 3, 4)"
   ]
  },
  {
   "cell_type": "markdown",
   "id": "004c054e-19a2-4293-8918-5924d914c444",
   "metadata": {},
   "source": [
    "`t` is immutable, but its first element is a mutable object:"
   ]
  },
  {
   "cell_type": "code",
   "execution_count": 18,
   "id": "838cafa3-a0af-42f6-9d18-fec2839c80db",
   "metadata": {
    "tags": []
   },
   "outputs": [
    {
     "data": {
      "text/plain": [
       "([100, 2], 3, 4)"
      ]
     },
     "execution_count": 18,
     "metadata": {},
     "output_type": "execute_result"
    }
   ],
   "source": [
    "t[0][0] = 100\n",
    "\n",
    "t"
   ]
  },
  {
   "cell_type": "markdown",
   "id": "15831a66-1a45-46ad-8f08-8cc340dc0d8a",
   "metadata": {},
   "source": [
    "Sequences can be **Homogeneous** or **heterogeneous** where elements in a homogeneous sequences are all of the same type. For example, in a string, all characters have the same type. Lists can be heterogeneous where different elements have different types. Generally homogeneous sequences are usually more efficient (storage-wise)."
   ]
  },
  {
   "cell_type": "markdown",
   "id": "c4c494df-c693-4040-9b21-69ee9fe626a4",
   "metadata": {},
   "source": [
    "#### Iterables"
   ]
  },
  {
   "cell_type": "markdown",
   "id": "04a63736-4a41-4a7e-9135-edeec8ee36be",
   "metadata": {},
   "source": [
    "An **iterable** is just something that can be iterated over, for example using a `for` loop. It is a **container** type of object which means it contains other objects, and it becomes an iterable if we can list out the elements one by one. \n",
    "\n",
    "But iterables are more general; they are **not necessarily** a sequence type. For example a set `s = {1, 2, 3}` is an iterable because we can type `for e in s` but it's not a sequence because we can't type `s[0]`."
   ]
  },
  {
   "cell_type": "code",
   "execution_count": 7,
   "id": "26b35e5f-cc98-411d-adba-f6f9a4b7cc9d",
   "metadata": {
    "tags": []
   },
   "outputs": [],
   "source": [
    "t = (10, 'a', 1+3j)"
   ]
  },
  {
   "cell_type": "code",
   "execution_count": 8,
   "id": "da3b4f60-baf5-4f88-bf73-a169c21fa508",
   "metadata": {
    "tags": []
   },
   "outputs": [],
   "source": [
    "s = {10, 'a', 1+3j}"
   ]
  },
  {
   "cell_type": "code",
   "execution_count": 9,
   "id": "4cf4c235-9ecd-457d-a489-48288d2afdaa",
   "metadata": {},
   "outputs": [
    {
     "name": "stdout",
     "output_type": "stream",
     "text": [
      "10\n",
      "a\n",
      "(1+3j)\n"
     ]
    }
   ],
   "source": [
    "for c in t:\n",
    "    print(c)"
   ]
  },
  {
   "cell_type": "code",
   "execution_count": 10,
   "id": "7c4e99ba-b120-4d17-831a-410187eada32",
   "metadata": {},
   "outputs": [
    {
     "name": "stdout",
     "output_type": "stream",
     "text": [
      "a\n",
      "10\n",
      "(1+3j)\n"
     ]
    }
   ],
   "source": [
    "for c in s:\n",
    "    print(c)"
   ]
  },
  {
   "cell_type": "markdown",
   "id": "e478a47d-0155-447a-ae8a-6349fa4d8164",
   "metadata": {},
   "source": [
    "Note how we could iterate over both the tuple and the set. Iterating the tuple preserved the **order** of the elements in the tuple, but not for the set. Sets do not have an ordering of elements - they are iterable, but not sequences."
   ]
  },
  {
   "cell_type": "markdown",
   "id": "3d5b8c47-8eeb-4e33-9d6a-cfa63e6b2f04",
   "metadata": {},
   "source": [
    "Most sequence types support the `in` and `not in` operations. Ranges do too, but not quite as efficiently as lists, tuples, strings, etc."
   ]
  },
  {
   "cell_type": "code",
   "execution_count": 11,
   "id": "29810c28-2beb-48a6-a241-df5e7aea7a50",
   "metadata": {},
   "outputs": [
    {
     "data": {
      "text/plain": [
       "True"
      ]
     },
     "execution_count": 11,
     "metadata": {},
     "output_type": "execute_result"
    }
   ],
   "source": [
    "'a' in ['a', 'b', 100]"
   ]
  },
  {
   "cell_type": "code",
   "execution_count": 12,
   "id": "954f4c69-6043-44e2-be18-c7e2dab2306b",
   "metadata": {},
   "outputs": [
    {
     "data": {
      "text/plain": [
       "True"
      ]
     },
     "execution_count": 12,
     "metadata": {},
     "output_type": "execute_result"
    }
   ],
   "source": [
    "100 in range(200)"
   ]
  },
  {
   "cell_type": "markdown",
   "id": "e375bfd9-46db-4418-8f39-92550b0d24c7",
   "metadata": {},
   "source": [
    "#### Min, Max and Length"
   ]
  },
  {
   "cell_type": "markdown",
   "id": "6d1cca4b-6322-4852-94f1-61eff59a0957",
   "metadata": {},
   "source": [
    "Sequences also generally support the `len` method to obtain the number of items in the collection. Some iterables may also support that method."
   ]
  },
  {
   "cell_type": "code",
   "execution_count": 13,
   "id": "b3c3dd3f-4c10-42cd-8e8a-fe9833e2ff64",
   "metadata": {},
   "outputs": [
    {
     "data": {
      "text/plain": [
       "(6, 3, 3, 2)"
      ]
     },
     "execution_count": 13,
     "metadata": {},
     "output_type": "execute_result"
    }
   ],
   "source": [
    "len('python'), len([1, 2, 3]), len({10, 20, 30}), len({'a': 1, 'b': 2})"
   ]
  },
  {
   "cell_type": "markdown",
   "id": "34035032-862e-4e3a-8f70-ed089f8f40d8",
   "metadata": {},
   "source": [
    "Sequences (and even some iterables) may support `max` and `min` as long as the data types in the collection can be **ordered** in some sense (`<` or `>`)."
   ]
  },
  {
   "cell_type": "code",
   "execution_count": 14,
   "id": "c3d112ca-b281-41c8-a642-c18d0d6fe3d3",
   "metadata": {},
   "outputs": [
    {
     "data": {
      "text/plain": [
       "(100, 300)"
      ]
     },
     "execution_count": 14,
     "metadata": {},
     "output_type": "execute_result"
    }
   ],
   "source": [
    "a = [100, 300, 200]\n",
    "min(a), max(a)"
   ]
  },
  {
   "cell_type": "code",
   "execution_count": 15,
   "id": "c2a0d2a1-0c15-4ae5-91c4-c92596b4fe56",
   "metadata": {},
   "outputs": [
    {
     "data": {
      "text/plain": [
       "('h', 'y')"
      ]
     },
     "execution_count": 15,
     "metadata": {},
     "output_type": "execute_result"
    }
   ],
   "source": [
    "s = 'python'\n",
    "min(s), max(s)"
   ]
  },
  {
   "cell_type": "code",
   "execution_count": 16,
   "id": "d75fc3fd-b57e-4182-a058-e807144ce70d",
   "metadata": {},
   "outputs": [
    {
     "data": {
      "text/plain": [
       "('h', 'y')"
      ]
     },
     "execution_count": 16,
     "metadata": {},
     "output_type": "execute_result"
    }
   ],
   "source": [
    "s = {'p', 'y', 't', 'h', 'o', 'n'}\n",
    "min(s), max(s)"
   ]
  },
  {
   "cell_type": "markdown",
   "id": "91551209-a2ab-4c9f-b27d-d6ca221071c1",
   "metadata": {},
   "source": [
    "But if the elements do not have an ordering defined:"
   ]
  },
  {
   "cell_type": "code",
   "execution_count": 17,
   "id": "24568f1d-9447-4b05-8b76-fc712a89b57c",
   "metadata": {},
   "outputs": [
    {
     "ename": "TypeError",
     "evalue": "'<' not supported between instances of 'complex' and 'complex'",
     "output_type": "error",
     "traceback": [
      "\u001b[1;31m---------------------------------------------------------------------------\u001b[0m",
      "\u001b[1;31mTypeError\u001b[0m                                 Traceback (most recent call last)",
      "\u001b[1;32m<ipython-input-17-b0cd79e53377>\u001b[0m in \u001b[0;36m<module>\u001b[1;34m()\u001b[0m\n\u001b[0;32m      1\u001b[0m \u001b[0ma\u001b[0m \u001b[1;33m=\u001b[0m \u001b[1;33m[\u001b[0m\u001b[1;36m1\u001b[0m\u001b[1;33m+\u001b[0m\u001b[1;36m1j\u001b[0m\u001b[1;33m,\u001b[0m \u001b[1;36m2\u001b[0m\u001b[1;33m+\u001b[0m\u001b[1;36m2j\u001b[0m\u001b[1;33m,\u001b[0m \u001b[1;36m3\u001b[0m\u001b[1;33m+\u001b[0m\u001b[1;36m3j\u001b[0m\u001b[1;33m]\u001b[0m\u001b[1;33m\u001b[0m\u001b[0m\n\u001b[1;32m----> 2\u001b[1;33m \u001b[0mmin\u001b[0m\u001b[1;33m(\u001b[0m\u001b[0ma\u001b[0m\u001b[1;33m)\u001b[0m\u001b[1;33m\u001b[0m\u001b[0m\n\u001b[0m",
      "\u001b[1;31mTypeError\u001b[0m: '<' not supported between instances of 'complex' and 'complex'"
     ]
    }
   ],
   "source": [
    "a = [1+1j, 2+2j, 3+3j]\n",
    "min(a)"
   ]
  },
  {
   "cell_type": "markdown",
   "id": "223c89a5-9e27-4ca4-ba02-d713781f7444",
   "metadata": {},
   "source": [
    "`min` and `max` will work for heterogeneous types as long as the elements are pairwise comparable (`<` or `>` is defined). \n",
    "\n",
    "For example:"
   ]
  },
  {
   "cell_type": "code",
   "execution_count": 18,
   "id": "a473b4c0-b388-4bc5-9034-ad0e6c31fd36",
   "metadata": {
    "collapsed": true,
    "jupyter": {
     "outputs_hidden": true
    }
   },
   "outputs": [],
   "source": [
    "from decimal import Decimal"
   ]
  },
  {
   "cell_type": "code",
   "execution_count": 19,
   "id": "bad1d5b6-231e-4476-b111-239b76657c65",
   "metadata": {
    "collapsed": true,
    "jupyter": {
     "outputs_hidden": true
    }
   },
   "outputs": [],
   "source": [
    "t = 10, 20.5, Decimal('30.5')"
   ]
  },
  {
   "cell_type": "code",
   "execution_count": 20,
   "id": "3658ef29-fa6c-426b-8bc2-ab1b388b1312",
   "metadata": {},
   "outputs": [
    {
     "data": {
      "text/plain": [
       "(10, Decimal('30.5'))"
      ]
     },
     "execution_count": 20,
     "metadata": {},
     "output_type": "execute_result"
    }
   ],
   "source": [
    "min(t), max(t)"
   ]
  },
  {
   "cell_type": "code",
   "execution_count": 21,
   "id": "d8504483-c7a9-437a-8a69-d3154ef25bff",
   "metadata": {},
   "outputs": [
    {
     "ename": "TypeError",
     "evalue": "'<' not supported between instances of 'int' and 'str'",
     "output_type": "error",
     "traceback": [
      "\u001b[1;31m---------------------------------------------------------------------------\u001b[0m",
      "\u001b[1;31mTypeError\u001b[0m                                 Traceback (most recent call last)",
      "\u001b[1;32m<ipython-input-21-983eac063887>\u001b[0m in \u001b[0;36m<module>\u001b[1;34m()\u001b[0m\n\u001b[0;32m      1\u001b[0m \u001b[0mt\u001b[0m \u001b[1;33m=\u001b[0m \u001b[1;33m[\u001b[0m\u001b[1;34m'a'\u001b[0m\u001b[1;33m,\u001b[0m \u001b[1;36m10\u001b[0m\u001b[1;33m,\u001b[0m \u001b[1;36m1000\u001b[0m\u001b[1;33m]\u001b[0m\u001b[1;33m\u001b[0m\u001b[0m\n\u001b[1;32m----> 2\u001b[1;33m \u001b[0mmin\u001b[0m\u001b[1;33m(\u001b[0m\u001b[0mt\u001b[0m\u001b[1;33m)\u001b[0m\u001b[1;33m\u001b[0m\u001b[0m\n\u001b[0m",
      "\u001b[1;31mTypeError\u001b[0m: '<' not supported between instances of 'int' and 'str'"
     ]
    }
   ],
   "source": [
    "t = ['a', 10, 1000]\n",
    "min(t)"
   ]
  },
  {
   "cell_type": "markdown",
   "id": "d2534b7f-3a2b-4561-9c6d-ac60631e1018",
   "metadata": {},
   "source": [
    "Even `range` objects support `min` and `max`:"
   ]
  },
  {
   "cell_type": "code",
   "execution_count": 22,
   "id": "02702605-2d20-4ea6-ac95-93348621f70b",
   "metadata": {},
   "outputs": [
    {
     "data": {
      "text/plain": [
       "(10, 199)"
      ]
     },
     "execution_count": 22,
     "metadata": {},
     "output_type": "execute_result"
    }
   ],
   "source": [
    "r = range(10, 200)\n",
    "min(r), max(r)"
   ]
  },
  {
   "cell_type": "markdown",
   "id": "07ee38bf-23a3-4fe3-8077-b38f961b5e2b",
   "metadata": {},
   "source": [
    "#### Concatenation"
   ]
  },
  {
   "cell_type": "markdown",
   "id": "aab8a270-bdb5-49d3-b39f-6d05a1cc2474",
   "metadata": {},
   "source": [
    "We can **concatenate** sequences using the `+` operator:"
   ]
  },
  {
   "cell_type": "code",
   "execution_count": 25,
   "id": "7b52dc94-119a-468f-bd19-6b240dc61e8a",
   "metadata": {},
   "outputs": [
    {
     "data": {
      "text/plain": [
       "[1, 2, 3, 4, 5, 6]"
      ]
     },
     "execution_count": 25,
     "metadata": {},
     "output_type": "execute_result"
    }
   ],
   "source": [
    "[1, 2, 3] + [4, 5, 6]"
   ]
  },
  {
   "cell_type": "code",
   "execution_count": 26,
   "id": "472e3e98-7eeb-4ed1-a574-38896ce61d0c",
   "metadata": {},
   "outputs": [
    {
     "data": {
      "text/plain": [
       "(1, 2, 3, 4, 5, 6)"
      ]
     },
     "execution_count": 26,
     "metadata": {},
     "output_type": "execute_result"
    }
   ],
   "source": [
    "(1, 2, 3) + (4, 5, 6)"
   ]
  },
  {
   "cell_type": "markdown",
   "id": "52e7996c-ea9d-4508-93ba-6b5e4bf23f7a",
   "metadata": {},
   "source": [
    "What happens if we want try concatenation on a mutable. Below `[0,0]` is a mutable."
   ]
  },
  {
   "cell_type": "code",
   "execution_count": 27,
   "id": "2c02635a-07ae-4797-8331-e76dfcc78266",
   "metadata": {},
   "outputs": [
    {
     "data": {
      "text/plain": [
       "[[0, 0], [0, 0]]"
      ]
     },
     "execution_count": 27,
     "metadata": {},
     "output_type": "execute_result"
    }
   ],
   "source": [
    "x = [ [0, 0] ]\n",
    "\n",
    "a = x + x\n",
    "a"
   ]
  },
  {
   "cell_type": "markdown",
   "id": "62f44a12-e41d-424f-bc64-5504a305ee6c",
   "metadata": {},
   "source": [
    "It looks like it worked well, but let's look at the memory addresses of all three `[0, 0]`s mentioned."
   ]
  },
  {
   "cell_type": "code",
   "execution_count": 28,
   "id": "b8416b57-32c6-4ecd-8feb-81df91f26c2e",
   "metadata": {},
   "outputs": [
    {
     "data": {
      "text/plain": [
       "True"
      ]
     },
     "execution_count": 28,
     "metadata": {},
     "output_type": "execute_result"
    }
   ],
   "source": [
    "id(x[0]) == id(a[0]) == id(a[1])"
   ]
  },
  {
   "cell_type": "markdown",
   "id": "1bf1a4ee-11ab-4a0c-8212-50e72453730d",
   "metadata": {},
   "source": [
    "**All** of them have the exact same memory addresses. So when python did `x + x`, it literally took the object in `x` and duplicated it. They all point to the same object, and that object now has multiple pointers to it. So what happens if we modify this single object?"
   ]
  },
  {
   "cell_type": "code",
   "execution_count": 29,
   "id": "7a06aeeb-ad2b-4a66-bc7f-fe77b2433479",
   "metadata": {},
   "outputs": [
    {
     "data": {
      "text/plain": [
       "[[100, 0], [100, 0]]"
      ]
     },
     "execution_count": 29,
     "metadata": {},
     "output_type": "execute_result"
    }
   ],
   "source": [
    "a[0][0] = 100\n",
    "\n",
    "a"
   ]
  },
  {
   "cell_type": "markdown",
   "id": "f003b487-bf7e-4055-85b2-74ca256a1380",
   "metadata": {},
   "source": [
    "Since the first and second objects are identical, they both are modified. Even `x` is modified."
   ]
  },
  {
   "cell_type": "code",
   "execution_count": 30,
   "id": "44b1df2b-6780-4364-9bc5-bbe1f3333a92",
   "metadata": {},
   "outputs": [
    {
     "data": {
      "text/plain": [
       "[[100, 0]]"
      ]
     },
     "execution_count": 30,
     "metadata": {},
     "output_type": "execute_result"
    }
   ],
   "source": [
    "x"
   ]
  },
  {
   "cell_type": "markdown",
   "id": "6fbb77f9-77b2-459b-bd77-207a36c8b960",
   "metadata": {},
   "source": [
    "This doesn't happen with strings or integers because they are both immutable objects."
   ]
  },
  {
   "cell_type": "code",
   "execution_count": 31,
   "id": "9f1c5846-890d-4860-9f66-42b7eb6d46dd",
   "metadata": {},
   "outputs": [
    {
     "name": "stdout",
     "output_type": "stream",
     "text": [
      "[1, 2, 1, 2]\n",
      "pythonpython\n"
     ]
    }
   ],
   "source": [
    "x = [1, 2]\n",
    "a = x + x\n",
    "\n",
    "y = 'python'\n",
    "b = y + y\n",
    "\n",
    "print(a)\n",
    "print(b)"
   ]
  },
  {
   "cell_type": "markdown",
   "id": "94499263-05b8-43bf-8d3a-6b50d1b30fb1",
   "metadata": {},
   "source": [
    "Note that the type of the concatenated result is the same as the type of the sequences being concatenated, so concatenating sequences of varying types will not work:"
   ]
  },
  {
   "cell_type": "code",
   "execution_count": 25,
   "id": "d03145a1-f222-4867-88cb-e1fc02775818",
   "metadata": {},
   "outputs": [
    {
     "ename": "TypeError",
     "evalue": "can only concatenate tuple (not \"list\") to tuple",
     "output_type": "error",
     "traceback": [
      "\u001b[1;31m---------------------------------------------------------------------------\u001b[0m",
      "\u001b[1;31mTypeError\u001b[0m                                 Traceback (most recent call last)",
      "\u001b[1;32m<ipython-input-25-67a9e2ed8695>\u001b[0m in \u001b[0;36m<module>\u001b[1;34m()\u001b[0m\n\u001b[1;32m----> 1\u001b[1;33m \u001b[1;33m(\u001b[0m\u001b[1;36m1\u001b[0m\u001b[1;33m,\u001b[0m \u001b[1;36m2\u001b[0m\u001b[1;33m,\u001b[0m \u001b[1;36m3\u001b[0m\u001b[1;33m)\u001b[0m \u001b[1;33m+\u001b[0m \u001b[1;33m[\u001b[0m\u001b[1;36m4\u001b[0m\u001b[1;33m,\u001b[0m \u001b[1;36m5\u001b[0m\u001b[1;33m,\u001b[0m \u001b[1;36m6\u001b[0m\u001b[1;33m]\u001b[0m\u001b[1;33m\u001b[0m\u001b[0m\n\u001b[0m",
      "\u001b[1;31mTypeError\u001b[0m: can only concatenate tuple (not \"list\") to tuple"
     ]
    }
   ],
   "source": [
    "(1, 2, 3) + [4, 5, 6]"
   ]
  },
  {
   "cell_type": "code",
   "execution_count": 26,
   "id": "69e29e3f-a793-4b20-8f65-ce86fc1ead2f",
   "metadata": {},
   "outputs": [
    {
     "ename": "TypeError",
     "evalue": "must be str, not list",
     "output_type": "error",
     "traceback": [
      "\u001b[1;31m---------------------------------------------------------------------------\u001b[0m",
      "\u001b[1;31mTypeError\u001b[0m                                 Traceback (most recent call last)",
      "\u001b[1;32m<ipython-input-26-8cbdd441adc1>\u001b[0m in \u001b[0;36m<module>\u001b[1;34m()\u001b[0m\n\u001b[1;32m----> 1\u001b[1;33m \u001b[1;34m'abc'\u001b[0m \u001b[1;33m+\u001b[0m \u001b[1;33m[\u001b[0m\u001b[1;34m'd'\u001b[0m\u001b[1;33m,\u001b[0m \u001b[1;34m'e'\u001b[0m\u001b[1;33m,\u001b[0m \u001b[1;34m'f'\u001b[0m\u001b[1;33m]\u001b[0m\u001b[1;33m\u001b[0m\u001b[0m\n\u001b[0m",
      "\u001b[1;31mTypeError\u001b[0m: must be str, not list"
     ]
    }
   ],
   "source": [
    "'abc' + ['d', 'e', 'f']"
   ]
  },
  {
   "cell_type": "markdown",
   "id": "8d34a562-92cb-4d53-9dc3-ecea33883970",
   "metadata": {},
   "source": [
    "Note: if you really want to concatenate varying types you'll have to transform them to a common type first:"
   ]
  },
  {
   "cell_type": "code",
   "execution_count": 27,
   "id": "483b31c2-864b-463b-bef2-bb142c9c5943",
   "metadata": {},
   "outputs": [
    {
     "data": {
      "text/plain": [
       "(1, 2, 3, 4, 5, 6)"
      ]
     },
     "execution_count": 27,
     "metadata": {},
     "output_type": "execute_result"
    }
   ],
   "source": [
    "(1, 2, 3) + tuple([4, 5, 6])"
   ]
  },
  {
   "cell_type": "code",
   "execution_count": 28,
   "id": "3ad8c2c0-e865-4ce2-9c8f-550b9b42e1d8",
   "metadata": {},
   "outputs": [
    {
     "data": {
      "text/plain": [
       "('a', 'b', 'c', 'd', 'e', 'f')"
      ]
     },
     "execution_count": 28,
     "metadata": {},
     "output_type": "execute_result"
    }
   ],
   "source": [
    "tuple('abc') + ('d', 'e', 'f')"
   ]
  },
  {
   "cell_type": "code",
   "execution_count": 29,
   "id": "d056a3c9-1bc0-4440-bb13-2a80f768f096",
   "metadata": {},
   "outputs": [
    {
     "data": {
      "text/plain": [
       "'abcdef'"
      ]
     },
     "execution_count": 29,
     "metadata": {},
     "output_type": "execute_result"
    }
   ],
   "source": [
    "''.join(tuple('abc') + ('d', 'e', 'f'))"
   ]
  },
  {
   "cell_type": "markdown",
   "id": "95017f0b-f88d-4ec0-a79c-6f5cf2a7c87e",
   "metadata": {},
   "source": [
    "#### Repetition"
   ]
  },
  {
   "cell_type": "markdown",
   "id": "a2957a1f-3fc9-4341-a23f-da45707b2b4b",
   "metadata": {},
   "source": [
    "Most sequence types also support **repetition**, which is essentially concatenating the same sequence an integer number of times:"
   ]
  },
  {
   "cell_type": "code",
   "execution_count": 30,
   "id": "b4019809-10be-4a39-b093-90b97821fae0",
   "metadata": {},
   "outputs": [
    {
     "data": {
      "text/plain": [
       "'abcabcabcabcabc'"
      ]
     },
     "execution_count": 30,
     "metadata": {},
     "output_type": "execute_result"
    }
   ],
   "source": [
    "'abc' * 5"
   ]
  },
  {
   "cell_type": "code",
   "execution_count": 31,
   "id": "1f12865d-90cd-4516-adf0-c1b8ac4e79e5",
   "metadata": {},
   "outputs": [
    {
     "data": {
      "text/plain": [
       "[1, 2, 3, 1, 2, 3, 1, 2, 3, 1, 2, 3, 1, 2, 3]"
      ]
     },
     "execution_count": 31,
     "metadata": {},
     "output_type": "execute_result"
    }
   ],
   "source": [
    "[1, 2, 3] * 5"
   ]
  },
  {
   "cell_type": "markdown",
   "id": "136ef513-01f7-4d4d-95af-28280dbc1b48",
   "metadata": {},
   "source": [
    "We'll come back to some caveats of concatenation and repetition in a bit."
   ]
  },
  {
   "cell_type": "markdown",
   "id": "80153756-88ab-4334-ac56-559907ee2312",
   "metadata": {},
   "source": [
    "We see the same issue of duplicate objects with repetition as we saw with concatenation"
   ]
  },
  {
   "cell_type": "code",
   "execution_count": 32,
   "id": "719d291f-6b57-4439-9549-1f37aa578327",
   "metadata": {},
   "outputs": [
    {
     "name": "stdout",
     "output_type": "stream",
     "text": [
      "[[0, 0], [0, 0]]\n"
     ]
    },
    {
     "data": {
      "text/plain": [
       "True"
      ]
     },
     "execution_count": 32,
     "metadata": {},
     "output_type": "execute_result"
    }
   ],
   "source": [
    "a = [ [0, 0] ] * 2 \n",
    "print(a)\n",
    "id(a[0]) == id(a[1])"
   ]
  },
  {
   "cell_type": "code",
   "execution_count": 33,
   "id": "9d2ac34c-b1d2-44ce-8688-35c1700080c8",
   "metadata": {},
   "outputs": [
    {
     "name": "stdout",
     "output_type": "stream",
     "text": [
      "[[100, 0], [100, 0]]\n"
     ]
    }
   ],
   "source": [
    "a[0][0] = 100 \n",
    "print(a)"
   ]
  },
  {
   "cell_type": "markdown",
   "id": "cffaf1bb-1d03-4325-82ed-7e5606fd8528",
   "metadata": {},
   "source": [
    "But, again, we're safe if we are repeating an immutable object such as a string."
   ]
  },
  {
   "cell_type": "code",
   "execution_count": 36,
   "id": "eaeb53a7-8bf3-4eff-b9ee-5da9cfb6c115",
   "metadata": {},
   "outputs": [
    {
     "name": "stdout",
     "output_type": "stream",
     "text": [
      "['python', 'python']\n"
     ]
    },
    {
     "ename": "TypeError",
     "evalue": "'str' object does not support item assignment",
     "output_type": "error",
     "traceback": [
      "\u001b[0;31m---------------------------------------------------------------------------\u001b[0m",
      "\u001b[0;31mTypeError\u001b[0m                                 Traceback (most recent call last)",
      "\u001b[0;32m/tmp/ipykernel_5300/3588088288.py\u001b[0m in \u001b[0;36m<module>\u001b[0;34m\u001b[0m\n\u001b[1;32m      2\u001b[0m \u001b[0mprint\u001b[0m\u001b[0;34m(\u001b[0m\u001b[0ma\u001b[0m\u001b[0;34m)\u001b[0m\u001b[0;34m\u001b[0m\u001b[0;34m\u001b[0m\u001b[0m\n\u001b[1;32m      3\u001b[0m \u001b[0;34m\u001b[0m\u001b[0m\n\u001b[0;32m----> 4\u001b[0;31m \u001b[0ma\u001b[0m\u001b[0;34m[\u001b[0m\u001b[0;36m0\u001b[0m\u001b[0;34m]\u001b[0m\u001b[0;34m[\u001b[0m\u001b[0;36m0\u001b[0m\u001b[0;34m]\u001b[0m \u001b[0;34m=\u001b[0m \u001b[0;34m'P'\u001b[0m\u001b[0;34m\u001b[0m\u001b[0;34m\u001b[0m\u001b[0m\n\u001b[0m\u001b[1;32m      5\u001b[0m \u001b[0mprint\u001b[0m\u001b[0;34m(\u001b[0m\u001b[0ma\u001b[0m\u001b[0;34m)\u001b[0m\u001b[0;34m\u001b[0m\u001b[0;34m\u001b[0m\u001b[0m\n",
      "\u001b[0;31mTypeError\u001b[0m: 'str' object does not support item assignment"
     ]
    }
   ],
   "source": [
    "a = ['python'] * 2\n",
    "print(a)\n",
    "\n",
    "a[0][0] = 'P'\n",
    "print(a)"
   ]
  },
  {
   "cell_type": "markdown",
   "id": "bf3ce105-e576-47a4-8e27-62a8a4cacfac",
   "metadata": {},
   "source": [
    "So the key takeaway is to be careful using mutable elements inside your sequence."
   ]
  },
  {
   "cell_type": "markdown",
   "id": "80b51946-6c86-4dec-8357-72be44a26ef2",
   "metadata": {},
   "source": [
    "#### Finding things in Sequences"
   ]
  },
  {
   "cell_type": "markdown",
   "id": "e205e203-f2b3-4915-8ff2-9945cc7e2d31",
   "metadata": {},
   "source": [
    "We can find the index of the occurrence of an element in a sequence.\n",
    "\n",
    "We have 1 required argument and two optional arguments.\n",
    "\n",
    "`s.index(x, i, j)`: This will return the index of the first occurrence of `x` in `s` at or after index `i` but before index `j`. These final two indices can be left out."
   ]
  },
  {
   "cell_type": "code",
   "execution_count": 32,
   "id": "c233aac9-c3a3-4256-ba32-4a3c9fbc288f",
   "metadata": {
    "collapsed": true,
    "jupyter": {
     "outputs_hidden": true
    }
   },
   "outputs": [],
   "source": [
    "s = \"gnu's not unix\""
   ]
  },
  {
   "cell_type": "code",
   "execution_count": 33,
   "id": "b5b121ee-5d90-45eb-a4e1-c85ca311f90c",
   "metadata": {},
   "outputs": [
    {
     "data": {
      "text/plain": [
       "1"
      ]
     },
     "execution_count": 33,
     "metadata": {},
     "output_type": "execute_result"
    }
   ],
   "source": [
    "s.index('n')"
   ]
  },
  {
   "cell_type": "code",
   "execution_count": 34,
   "id": "2de8728d-0d91-492d-9afb-136044bfc0b4",
   "metadata": {},
   "outputs": [
    {
     "data": {
      "text/plain": [
       "(1, 6, 11)"
      ]
     },
     "execution_count": 34,
     "metadata": {},
     "output_type": "execute_result"
    }
   ],
   "source": [
    "s.index('n', 1), s.index('n', 2), s.index('n', 8)"
   ]
  },
  {
   "cell_type": "markdown",
   "id": "07c4a7d4-f718-4625-a438-54940844b945",
   "metadata": {},
   "source": [
    "An exception is raised of the element is not found, so you'll want to catch it if you don't want your app to crash:"
   ]
  },
  {
   "cell_type": "code",
   "execution_count": 35,
   "id": "87c151e2-fa16-46bf-a282-b3ad6dcd53c6",
   "metadata": {},
   "outputs": [
    {
     "ename": "ValueError",
     "evalue": "substring not found",
     "output_type": "error",
     "traceback": [
      "\u001b[1;31m---------------------------------------------------------------------------\u001b[0m",
      "\u001b[1;31mValueError\u001b[0m                                Traceback (most recent call last)",
      "\u001b[1;32m<ipython-input-35-d038ca109973>\u001b[0m in \u001b[0;36m<module>\u001b[1;34m()\u001b[0m\n\u001b[1;32m----> 1\u001b[1;33m \u001b[0ms\u001b[0m\u001b[1;33m.\u001b[0m\u001b[0mindex\u001b[0m\u001b[1;33m(\u001b[0m\u001b[1;34m'n'\u001b[0m\u001b[1;33m,\u001b[0m \u001b[1;36m13\u001b[0m\u001b[1;33m)\u001b[0m\u001b[1;33m\u001b[0m\u001b[0m\n\u001b[0m",
      "\u001b[1;31mValueError\u001b[0m: substring not found"
     ]
    }
   ],
   "source": [
    "s.index('n', 13)"
   ]
  },
  {
   "cell_type": "code",
   "execution_count": 36,
   "id": "85924766-a830-4ff6-8b71-985c13363ca1",
   "metadata": {},
   "outputs": [
    {
     "name": "stdout",
     "output_type": "stream",
     "text": [
      "not found\n"
     ]
    }
   ],
   "source": [
    "try:\n",
    "    idx = s.index('n', 13)\n",
    "except ValueError:\n",
    "    print('not found')"
   ]
  },
  {
   "cell_type": "markdown",
   "id": "ac024793-a191-4b90-a678-8e288d3fbab5",
   "metadata": {},
   "source": [
    "Note that these methods of finding objects in sequences do not assume that the objects in the sequence are ordered in any way. These are basically searches that iterate over the sequence until they find (or not) the requested element.\n",
    "\n",
    "If you have a sorted sequence, then other search techniques are available - such as binary searches. I'll cover some of these topics in the extras section of this course."
   ]
  },
  {
   "cell_type": "markdown",
   "id": "98259fdd-246d-4876-abce-2f84c5fbc7b2",
   "metadata": {},
   "source": [
    "#### Slicing"
   ]
  },
  {
   "cell_type": "markdown",
   "id": "534816ab-f980-4e41-9c52-fef770e4f064",
   "metadata": {},
   "source": [
    "We'll come back to slicing in a later lecture, but sequence types generally support slicing, even ranges (as of Python 3.2). Just like concatenation, slices will return the same type as the sequence being sliced:"
   ]
  },
  {
   "cell_type": "code",
   "execution_count": 37,
   "id": "5be9e823-f1a9-4a3e-9166-113324b592ff",
   "metadata": {
    "collapsed": true,
    "jupyter": {
     "outputs_hidden": true
    }
   },
   "outputs": [],
   "source": [
    "s = 'python'\n",
    "l = [1, 2, 3, 4, 5, 6, 7, 8, 9, 10]"
   ]
  },
  {
   "cell_type": "code",
   "execution_count": 38,
   "id": "50267861-109c-4f9e-9209-c5597c6e92f3",
   "metadata": {},
   "outputs": [
    {
     "data": {
      "text/plain": [
       "('pyt', 'on')"
      ]
     },
     "execution_count": 38,
     "metadata": {},
     "output_type": "execute_result"
    }
   ],
   "source": [
    "s[0:3], s[4:6]"
   ]
  },
  {
   "cell_type": "code",
   "execution_count": 39,
   "id": "3e0aa8ff-c9ec-448b-a09d-3c815cf2c556",
   "metadata": {},
   "outputs": [
    {
     "data": {
      "text/plain": [
       "([1, 2, 3], [5, 6])"
      ]
     },
     "execution_count": 39,
     "metadata": {},
     "output_type": "execute_result"
    }
   ],
   "source": [
    "l[0:3], l[4:6]"
   ]
  },
  {
   "cell_type": "markdown",
   "id": "9b9917ad-49ae-4f32-b2d4-c6552198cda0",
   "metadata": {},
   "source": [
    "It's ok to extend ranges past the bounds of the sequence:"
   ]
  },
  {
   "cell_type": "code",
   "execution_count": 40,
   "id": "4adcfcb1-f963-4333-810c-3801f91484ba",
   "metadata": {},
   "outputs": [
    {
     "data": {
      "text/plain": [
       "'on'"
      ]
     },
     "execution_count": 40,
     "metadata": {},
     "output_type": "execute_result"
    }
   ],
   "source": [
    "s[4:1000]"
   ]
  },
  {
   "cell_type": "markdown",
   "id": "ca04a201-ede7-430d-878f-18b6738edba8",
   "metadata": {},
   "source": [
    "If your first argument in the slice is `0`, you can even omit it. Omitting the second argument means it will include all the remaining elements:"
   ]
  },
  {
   "cell_type": "code",
   "execution_count": 41,
   "id": "a68aeffb-d0e2-4872-9f24-26721369d003",
   "metadata": {},
   "outputs": [
    {
     "data": {
      "text/plain": [
       "('pyt', 'pyt')"
      ]
     },
     "execution_count": 41,
     "metadata": {},
     "output_type": "execute_result"
    }
   ],
   "source": [
    "s[0:3], s[:3]"
   ]
  },
  {
   "cell_type": "code",
   "execution_count": 42,
   "id": "e4fb438e-b4ee-4551-b67f-686e7df3f0da",
   "metadata": {},
   "outputs": [
    {
     "data": {
      "text/plain": [
       "('hon', 'hon', 'python')"
      ]
     },
     "execution_count": 42,
     "metadata": {},
     "output_type": "execute_result"
    }
   ],
   "source": [
    "s[3:1000], s[3:], s[:]"
   ]
  },
  {
   "cell_type": "markdown",
   "id": "2ca9c067-f5c4-437b-b6ff-44ecfe0eb5a4",
   "metadata": {},
   "source": [
    "We can even have extended slicing, which provides a start, stop and a step:"
   ]
  },
  {
   "cell_type": "code",
   "execution_count": 43,
   "id": "666b5129-e3cb-4c29-aa1e-eed3c8dcb2ff",
   "metadata": {},
   "outputs": [
    {
     "data": {
      "text/plain": [
       "('python', 'pytho', 'pto')"
      ]
     },
     "execution_count": 43,
     "metadata": {},
     "output_type": "execute_result"
    }
   ],
   "source": [
    "s, s[0:5], s[0:5:2]"
   ]
  },
  {
   "cell_type": "code",
   "execution_count": 44,
   "id": "1746c44e-6dca-4ed8-82cc-66a2c4a83ff3",
   "metadata": {},
   "outputs": [
    {
     "data": {
      "text/plain": [
       "('python', 'pto')"
      ]
     },
     "execution_count": 44,
     "metadata": {},
     "output_type": "execute_result"
    }
   ],
   "source": [
    "s, s[::2]"
   ]
  },
  {
   "cell_type": "markdown",
   "id": "30c17cb3-580d-4768-b2cb-6a9225a790eb",
   "metadata": {},
   "source": [
    "Technically we can also use negative values in slices, including extended slices (more on that later):"
   ]
  },
  {
   "cell_type": "code",
   "execution_count": 45,
   "id": "1d9eb7fc-84bc-4382-9058-a8b3c0b9f9da",
   "metadata": {},
   "outputs": [
    {
     "data": {
      "text/plain": [
       "('python', 'ho', 'nohtyp')"
      ]
     },
     "execution_count": 45,
     "metadata": {},
     "output_type": "execute_result"
    }
   ],
   "source": [
    "s, s[-3:-1], s[::-1]"
   ]
  },
  {
   "cell_type": "markdown",
   "id": "3aafcd54-e941-4762-955b-75c898c5f336",
   "metadata": {},
   "source": [
    "Range objects are more restrictive. They **don't** support concatenation or repetition and `min`, `max`, `in`, `not in` are not as efficient. Since ranges are sequences, we can slice them, returning back another range object."
   ]
  },
  {
   "cell_type": "code",
   "execution_count": 46,
   "id": "f3798015-486c-4f8d-a486-9ce8f5e225ad",
   "metadata": {
    "tags": []
   },
   "outputs": [],
   "source": [
    "r = range(11)  # numbers from 0 to 10 (inclusive)"
   ]
  },
  {
   "cell_type": "code",
   "execution_count": 47,
   "id": "c5828df6-be3f-4f2c-8609-742617b0c9d1",
   "metadata": {},
   "outputs": [
    {
     "name": "stdout",
     "output_type": "stream",
     "text": [
      "range(0, 11)\n",
      "[0, 1, 2, 3, 4, 5, 6, 7, 8, 9, 10]\n"
     ]
    }
   ],
   "source": [
    "print(r)\n",
    "print(list(r))"
   ]
  },
  {
   "cell_type": "code",
   "execution_count": 48,
   "id": "5f933c64-fdcd-43fd-a5f3-8e851666ab22",
   "metadata": {},
   "outputs": [
    {
     "name": "stdout",
     "output_type": "stream",
     "text": [
      "range(0, 5)\n"
     ]
    }
   ],
   "source": [
    "print(r[:5])"
   ]
  },
  {
   "cell_type": "code",
   "execution_count": 49,
   "id": "c03de35d-9a0d-4abc-a420-fc6751ac06f4",
   "metadata": {},
   "outputs": [
    {
     "name": "stdout",
     "output_type": "stream",
     "text": [
      "[0, 1, 2, 3, 4]\n"
     ]
    }
   ],
   "source": [
    "print(list(r[:5]))"
   ]
  },
  {
   "cell_type": "markdown",
   "id": "4ddfcebf-c540-4843-ae28-799075fd7497",
   "metadata": {},
   "source": [
    "As you can see, slicing a range returns a range object as well, as expected."
   ]
  },
  {
   "cell_type": "markdown",
   "id": "252bd1cc-9cb7-47a6-a451-e98c62597d68",
   "metadata": {},
   "source": [
    "#### Hashing"
   ]
  },
  {
   "cell_type": "markdown",
   "id": "42a72b9a-8a96-4e26-b7f7-f24cd38caaf9",
   "metadata": {},
   "source": [
    "Immutable sequences generally support a `hash` method that we'll discuss in detail in the section on mapping types. But immutable sequences are not hashable if they contain mutable types. There's good reasons why we don't want to hash mutable types which we'll see later on. "
   ]
  },
  {
   "cell_type": "code",
   "execution_count": 50,
   "id": "4915be06-ad50-4909-89c8-971cbd3a9a36",
   "metadata": {},
   "outputs": [
    {
     "data": {
      "text/plain": [
       "2528502973977326415"
      ]
     },
     "execution_count": 50,
     "metadata": {},
     "output_type": "execute_result"
    }
   ],
   "source": [
    "l = (1, 2, 3)\n",
    "hash(l)"
   ]
  },
  {
   "cell_type": "code",
   "execution_count": 51,
   "id": "4d9c950f-6162-4b8d-88c1-ff5bdc7a82b2",
   "metadata": {},
   "outputs": [
    {
     "data": {
      "text/plain": [
       "-1892188276802162953"
      ]
     },
     "execution_count": 51,
     "metadata": {},
     "output_type": "execute_result"
    }
   ],
   "source": [
    "s = '123'\n",
    "hash(s)"
   ]
  },
  {
   "cell_type": "code",
   "execution_count": 52,
   "id": "3171076f-f207-4d43-b59a-f59f7ab3ec9c",
   "metadata": {},
   "outputs": [
    {
     "data": {
      "text/plain": [
       "-6299899980521991026"
      ]
     },
     "execution_count": 52,
     "metadata": {},
     "output_type": "execute_result"
    }
   ],
   "source": [
    "r = range(10)\n",
    "hash(r)"
   ]
  },
  {
   "cell_type": "markdown",
   "id": "356bec45-ad9f-4fc4-83f0-3c58664118c3",
   "metadata": {},
   "source": [
    "But mutable sequences (and mutable types in general) do not:"
   ]
  },
  {
   "cell_type": "code",
   "execution_count": 53,
   "id": "6ee4b47b-f531-49f4-bf16-8c720f7785d4",
   "metadata": {
    "collapsed": true,
    "jupyter": {
     "outputs_hidden": true
    }
   },
   "outputs": [],
   "source": [
    "l = [1, 2, 3]"
   ]
  },
  {
   "cell_type": "code",
   "execution_count": 54,
   "id": "7389c251-4d0a-4179-add5-feaac44be660",
   "metadata": {},
   "outputs": [
    {
     "ename": "TypeError",
     "evalue": "unhashable type: 'list'",
     "output_type": "error",
     "traceback": [
      "\u001b[1;31m---------------------------------------------------------------------------\u001b[0m",
      "\u001b[1;31mTypeError\u001b[0m                                 Traceback (most recent call last)",
      "\u001b[1;32m<ipython-input-54-22dd9c98a095>\u001b[0m in \u001b[0;36m<module>\u001b[1;34m()\u001b[0m\n\u001b[1;32m----> 1\u001b[1;33m \u001b[0mhash\u001b[0m\u001b[1;33m(\u001b[0m\u001b[0ml\u001b[0m\u001b[1;33m)\u001b[0m\u001b[1;33m\u001b[0m\u001b[0m\n\u001b[0m",
      "\u001b[1;31mTypeError\u001b[0m: unhashable type: 'list'"
     ]
    }
   ],
   "source": [
    "hash(l)"
   ]
  },
  {
   "cell_type": "markdown",
   "id": "8711def3-4942-44b0-8530-f4437679dc37",
   "metadata": {},
   "source": [
    "Note also that a hashable sequence, is no longer hashable if one (or more) of it's elements are not hashable:"
   ]
  },
  {
   "cell_type": "code",
   "execution_count": 55,
   "id": "c1d17a9b-f911-40b8-80ee-76a17a2ca1ba",
   "metadata": {},
   "outputs": [
    {
     "ename": "TypeError",
     "evalue": "unhashable type: 'list'",
     "output_type": "error",
     "traceback": [
      "\u001b[1;31m---------------------------------------------------------------------------\u001b[0m",
      "\u001b[1;31mTypeError\u001b[0m                                 Traceback (most recent call last)",
      "\u001b[1;32m<ipython-input-55-30cac1c4a226>\u001b[0m in \u001b[0;36m<module>\u001b[1;34m()\u001b[0m\n\u001b[0;32m      1\u001b[0m \u001b[0mt\u001b[0m \u001b[1;33m=\u001b[0m \u001b[1;33m(\u001b[0m\u001b[1;36m1\u001b[0m\u001b[1;33m,\u001b[0m \u001b[1;36m2\u001b[0m\u001b[1;33m,\u001b[0m \u001b[1;33m[\u001b[0m\u001b[1;36m10\u001b[0m\u001b[1;33m,\u001b[0m \u001b[1;36m20\u001b[0m\u001b[1;33m]\u001b[0m\u001b[1;33m)\u001b[0m\u001b[1;33m\u001b[0m\u001b[0m\n\u001b[1;32m----> 2\u001b[1;33m \u001b[0mhash\u001b[0m\u001b[1;33m(\u001b[0m\u001b[0mt\u001b[0m\u001b[1;33m)\u001b[0m\u001b[1;33m\u001b[0m\u001b[0m\n\u001b[0m",
      "\u001b[1;31mTypeError\u001b[0m: unhashable type: 'list'"
     ]
    }
   ],
   "source": [
    "t = (1, 2, [10, 20])\n",
    "hash(t)"
   ]
  },
  {
   "cell_type": "markdown",
   "id": "83eafa35-408d-4359-a22d-630982ab82e2",
   "metadata": {},
   "source": [
    "But this would work:"
   ]
  },
  {
   "cell_type": "code",
   "execution_count": 56,
   "id": "22dc84b3-c648-4bfc-b88d-56ff7e93f010",
   "metadata": {},
   "outputs": [
    {
     "data": {
      "text/plain": [
       "-8790163410081325536"
      ]
     },
     "execution_count": 56,
     "metadata": {},
     "output_type": "execute_result"
    }
   ],
   "source": [
    "t = ('python', (1, 2, 3))\n",
    "hash(t)"
   ]
  },
  {
   "cell_type": "markdown",
   "id": "ccc43c74-9e72-4dd8-809e-ad5d64c73253",
   "metadata": {},
   "source": [
    "In general, immutable types are likely hashable, while immutable types are not. So numbers, strings, tuples, etc are hashable, but lists and sets are not:"
   ]
  },
  {
   "cell_type": "code",
   "execution_count": 57,
   "id": "8694a552-e183-4bd2-b55a-b893545d1e38",
   "metadata": {},
   "outputs": [
    {
     "data": {
      "text/plain": [
       "1152921504606846986"
      ]
     },
     "execution_count": 57,
     "metadata": {},
     "output_type": "execute_result"
    }
   ],
   "source": [
    "from decimal import Decimal\n",
    "d = Decimal(10.5)\n",
    "hash(d)"
   ]
  },
  {
   "cell_type": "markdown",
   "id": "aee47363-1628-4806-85bb-feb2dd500217",
   "metadata": {},
   "source": [
    "Sets are not hashable:"
   ]
  },
  {
   "cell_type": "code",
   "execution_count": 58,
   "id": "b9c0fb40-f401-4752-958a-263e9731707f",
   "metadata": {},
   "outputs": [
    {
     "ename": "TypeError",
     "evalue": "unhashable type: 'set'",
     "output_type": "error",
     "traceback": [
      "\u001b[1;31m---------------------------------------------------------------------------\u001b[0m",
      "\u001b[1;31mTypeError\u001b[0m                                 Traceback (most recent call last)",
      "\u001b[1;32m<ipython-input-58-2216931a6bc4>\u001b[0m in \u001b[0;36m<module>\u001b[1;34m()\u001b[0m\n\u001b[0;32m      1\u001b[0m \u001b[0ms\u001b[0m \u001b[1;33m=\u001b[0m \u001b[1;33m{\u001b[0m\u001b[1;36m1\u001b[0m\u001b[1;33m,\u001b[0m \u001b[1;36m2\u001b[0m\u001b[1;33m,\u001b[0m \u001b[1;36m3\u001b[0m\u001b[1;33m}\u001b[0m\u001b[1;33m\u001b[0m\u001b[0m\n\u001b[1;32m----> 2\u001b[1;33m \u001b[0mhash\u001b[0m\u001b[1;33m(\u001b[0m\u001b[0ms\u001b[0m\u001b[1;33m)\u001b[0m\u001b[1;33m\u001b[0m\u001b[0m\n\u001b[0m",
      "\u001b[1;31mTypeError\u001b[0m: unhashable type: 'set'"
     ]
    }
   ],
   "source": [
    "s = {1, 2, 3}\n",
    "hash(s)"
   ]
  },
  {
   "cell_type": "markdown",
   "id": "165f74ae-2941-45bb-8b39-13f9182bbc8e",
   "metadata": {},
   "source": [
    "But frozensets, an immutable variant of the set, are:"
   ]
  },
  {
   "cell_type": "code",
   "execution_count": 59,
   "id": "98e957b0-54b2-4bb1-afb6-fbed3644a27a",
   "metadata": {
    "collapsed": true,
    "jupyter": {
     "outputs_hidden": true
    }
   },
   "outputs": [],
   "source": [
    "s = frozenset({1, 2, 3})"
   ]
  },
  {
   "cell_type": "code",
   "execution_count": 60,
   "id": "8102cf34-9341-4cca-817b-cc7322036b50",
   "metadata": {
    "scrolled": true
   },
   "outputs": [
    {
     "data": {
      "text/plain": [
       "-7699079583225461316"
      ]
     },
     "execution_count": 60,
     "metadata": {},
     "output_type": "execute_result"
    }
   ],
   "source": [
    "hash(s)"
   ]
  },
  {
   "cell_type": "markdown",
   "id": "0d9caf8a-beaa-45dd-a5e3-ddb2c88d8308",
   "metadata": {},
   "source": [
    "#### Caveats with Concatenation and Repetition"
   ]
  },
  {
   "cell_type": "markdown",
   "id": "bc90a5b2-2680-4dff-bd3b-89038e96f35b",
   "metadata": {},
   "source": [
    "Consider this:"
   ]
  },
  {
   "cell_type": "code",
   "execution_count": 61,
   "id": "3f557e2a-393e-47a0-b47b-effb4e7fbff4",
   "metadata": {
    "collapsed": true,
    "jupyter": {
     "outputs_hidden": true
    }
   },
   "outputs": [],
   "source": [
    "x = [2000]"
   ]
  },
  {
   "cell_type": "code",
   "execution_count": 62,
   "id": "d38dc565-0819-497f-b20c-b99e48bb7d01",
   "metadata": {},
   "outputs": [
    {
     "data": {
      "text/plain": [
       "2177520743920"
      ]
     },
     "execution_count": 62,
     "metadata": {},
     "output_type": "execute_result"
    }
   ],
   "source": [
    "id(x[0])"
   ]
  },
  {
   "cell_type": "code",
   "execution_count": 63,
   "id": "38dac12b-acd1-4daa-8e16-5ff5cfe73564",
   "metadata": {
    "collapsed": true,
    "jupyter": {
     "outputs_hidden": true
    }
   },
   "outputs": [],
   "source": [
    "l = x + x"
   ]
  },
  {
   "cell_type": "code",
   "execution_count": 64,
   "id": "df5272ed-54d1-4566-85ee-2375c51db43c",
   "metadata": {},
   "outputs": [
    {
     "data": {
      "text/plain": [
       "[2000, 2000]"
      ]
     },
     "execution_count": 64,
     "metadata": {},
     "output_type": "execute_result"
    }
   ],
   "source": [
    "l"
   ]
  },
  {
   "cell_type": "code",
   "execution_count": 65,
   "id": "bf675f05-cb65-4412-9056-8d8672634fc6",
   "metadata": {},
   "outputs": [
    {
     "data": {
      "text/plain": [
       "(2177520743920, 2177520743920)"
      ]
     },
     "execution_count": 65,
     "metadata": {},
     "output_type": "execute_result"
    }
   ],
   "source": [
    "id(l[0]), id(l[1])"
   ]
  },
  {
   "cell_type": "markdown",
   "id": "ebb56920-6eaa-4d87-805b-d8fa4d13fba2",
   "metadata": {},
   "source": [
    "As expected, the objects in `l[0]` and `l[1]` are the same.\n",
    "\n",
    "Could also use:"
   ]
  },
  {
   "cell_type": "code",
   "execution_count": 66,
   "id": "cee3b3d4-c5a1-4530-b80e-d86136224ce9",
   "metadata": {},
   "outputs": [
    {
     "data": {
      "text/plain": [
       "True"
      ]
     },
     "execution_count": 66,
     "metadata": {},
     "output_type": "execute_result"
    }
   ],
   "source": [
    "l[0] is l[1]"
   ]
  },
  {
   "cell_type": "markdown",
   "id": "0a4b1102-1046-49ca-b0ed-c759da1541e4",
   "metadata": {},
   "source": [
    "This is not a big deal if the objects being concatenated are immutable. But if they are mutable:"
   ]
  },
  {
   "cell_type": "code",
   "execution_count": 67,
   "id": "b0abc3f6-0c67-4c08-bb11-dd64720a5af6",
   "metadata": {
    "collapsed": true,
    "jupyter": {
     "outputs_hidden": true
    }
   },
   "outputs": [],
   "source": [
    "x = [ [0, 0] ]\n",
    "l = x + x"
   ]
  },
  {
   "cell_type": "code",
   "execution_count": 68,
   "id": "bbd28344-dbb4-4e17-b1d0-d7d4a7ed641e",
   "metadata": {},
   "outputs": [
    {
     "data": {
      "text/plain": [
       "[[0, 0], [0, 0]]"
      ]
     },
     "execution_count": 68,
     "metadata": {},
     "output_type": "execute_result"
    }
   ],
   "source": [
    "l"
   ]
  },
  {
   "cell_type": "code",
   "execution_count": 69,
   "id": "bed9fc8a-fd8e-406a-b279-b0df7f436b71",
   "metadata": {},
   "outputs": [
    {
     "data": {
      "text/plain": [
       "True"
      ]
     },
     "execution_count": 69,
     "metadata": {},
     "output_type": "execute_result"
    }
   ],
   "source": [
    "l[0] is l[1]"
   ]
  },
  {
   "cell_type": "markdown",
   "id": "17330dfc-6b14-4d95-bb1f-b357fe00ece4",
   "metadata": {},
   "source": [
    "And then we have the following:"
   ]
  },
  {
   "cell_type": "code",
   "execution_count": 70,
   "id": "6398e830-edaa-4686-a3ba-7f42faad68ab",
   "metadata": {
    "collapsed": true,
    "jupyter": {
     "outputs_hidden": true
    }
   },
   "outputs": [],
   "source": [
    "l[0][0] = 100"
   ]
  },
  {
   "cell_type": "code",
   "execution_count": 71,
   "id": "07a75c5a-79d4-40ea-9832-b40c75d19778",
   "metadata": {},
   "outputs": [
    {
     "data": {
      "text/plain": [
       "[100, 0]"
      ]
     },
     "execution_count": 71,
     "metadata": {},
     "output_type": "execute_result"
    }
   ],
   "source": [
    "l[0]"
   ]
  },
  {
   "cell_type": "code",
   "execution_count": 72,
   "id": "0f22cad0-0b91-4881-aef4-c2144e5a5381",
   "metadata": {},
   "outputs": [
    {
     "data": {
      "text/plain": [
       "[[100, 0], [100, 0]]"
      ]
     },
     "execution_count": 72,
     "metadata": {},
     "output_type": "execute_result"
    }
   ],
   "source": [
    "l"
   ]
  },
  {
   "cell_type": "markdown",
   "id": "233a0201-ee4c-4887-b2f2-a467e3ba906c",
   "metadata": {},
   "source": [
    "Notice how changing the 1st item of the 1st element also changed the 1st item of the second element."
   ]
  },
  {
   "cell_type": "markdown",
   "id": "3ea0c154-1301-4fd0-99c9-f7d785676d4f",
   "metadata": {},
   "source": [
    "While this seems fairly obvious when concatenating using the `+` operator as we have just done, the same actually happens with repetition and may not seem so obvious:"
   ]
  },
  {
   "cell_type": "code",
   "execution_count": 73,
   "id": "6e7e0322-36e1-4929-b1c3-86cc7e7978b7",
   "metadata": {
    "collapsed": true,
    "jupyter": {
     "outputs_hidden": true
    }
   },
   "outputs": [],
   "source": [
    "x = [ [0, 0] ]"
   ]
  },
  {
   "cell_type": "code",
   "execution_count": 74,
   "id": "189e0cbb-5ac6-45a0-90ef-eb2e9206688f",
   "metadata": {
    "collapsed": true,
    "jupyter": {
     "outputs_hidden": true
    }
   },
   "outputs": [],
   "source": [
    "m = x * 3"
   ]
  },
  {
   "cell_type": "code",
   "execution_count": 75,
   "id": "0e9dc35c-db5e-4fbd-848a-f93456b0b83a",
   "metadata": {},
   "outputs": [
    {
     "data": {
      "text/plain": [
       "[[0, 0], [0, 0], [0, 0]]"
      ]
     },
     "execution_count": 75,
     "metadata": {},
     "output_type": "execute_result"
    }
   ],
   "source": [
    "m"
   ]
  },
  {
   "cell_type": "code",
   "execution_count": 76,
   "id": "bdef1ab2-c608-4f7d-8920-ac1a0973c0b4",
   "metadata": {
    "collapsed": true,
    "jupyter": {
     "outputs_hidden": true
    }
   },
   "outputs": [],
   "source": [
    "m[0][0] = 100"
   ]
  },
  {
   "cell_type": "code",
   "execution_count": 77,
   "id": "a29bb2d7-14d2-4b03-8750-a415618f3007",
   "metadata": {},
   "outputs": [
    {
     "data": {
      "text/plain": [
       "[[100, 0], [100, 0], [100, 0]]"
      ]
     },
     "execution_count": 77,
     "metadata": {},
     "output_type": "execute_result"
    }
   ],
   "source": [
    "m"
   ]
  },
  {
   "cell_type": "markdown",
   "id": "92fba55f-6ef7-4607-998d-029ce5c4ce23",
   "metadata": {},
   "source": [
    "And in fact, even `x` changed:"
   ]
  },
  {
   "cell_type": "code",
   "execution_count": 78,
   "id": "9959b01d-33c8-4b58-a36e-c3ccbbbaf19b",
   "metadata": {},
   "outputs": [
    {
     "data": {
      "text/plain": [
       "[[100, 0]]"
      ]
     },
     "execution_count": 78,
     "metadata": {},
     "output_type": "execute_result"
    }
   ],
   "source": [
    "x"
   ]
  },
  {
   "cell_type": "markdown",
   "id": "8ba14c2e-56d4-4faf-8139-30fe23c295f5",
   "metadata": {},
   "source": [
    "If you really want these repeated objects to be different objects, you'll have to copy them somehow. A simple list comprehensions would work well here:"
   ]
  },
  {
   "cell_type": "code",
   "execution_count": 79,
   "id": "dfa6025c-89a5-421e-a8ba-a20bae83d58c",
   "metadata": {
    "collapsed": true,
    "jupyter": {
     "outputs_hidden": true
    }
   },
   "outputs": [],
   "source": [
    "x = [ [0, 0] ]\n",
    "m = [e.copy() for e in x*3]"
   ]
  },
  {
   "cell_type": "code",
   "execution_count": 80,
   "id": "d3900441-668d-4944-ae84-5af720078c58",
   "metadata": {},
   "outputs": [
    {
     "data": {
      "text/plain": [
       "[[0, 0], [0, 0], [0, 0]]"
      ]
     },
     "execution_count": 80,
     "metadata": {},
     "output_type": "execute_result"
    }
   ],
   "source": [
    "m"
   ]
  },
  {
   "cell_type": "code",
   "execution_count": 81,
   "id": "fc6ea242-373c-4e47-b600-56b25dfdfea5",
   "metadata": {
    "collapsed": true,
    "jupyter": {
     "outputs_hidden": true
    }
   },
   "outputs": [],
   "source": [
    "m[0][0] = 100"
   ]
  },
  {
   "cell_type": "code",
   "execution_count": 82,
   "id": "f5817bda-5ab0-463c-a034-a28eb3c45814",
   "metadata": {},
   "outputs": [
    {
     "data": {
      "text/plain": [
       "[[100, 0], [0, 0], [0, 0]]"
      ]
     },
     "execution_count": 82,
     "metadata": {},
     "output_type": "execute_result"
    }
   ],
   "source": [
    "m"
   ]
  },
  {
   "cell_type": "markdown",
   "id": "34d08758-733b-41b4-a88c-217026672849",
   "metadata": {},
   "source": [
    "x"
   ]
  },
  {
   "cell_type": "code",
   "execution_count": null,
   "id": "3c9f7541-6d57-4020-850a-417ac735c48c",
   "metadata": {},
   "outputs": [],
   "source": []
  },
  {
   "cell_type": "markdown",
   "id": "3dacff95-ed88-4606-8725-ce8e34a743db",
   "metadata": {},
   "source": [
    "# 02 - Mutable Sequence Types"
   ]
  },
  {
   "cell_type": "markdown",
   "id": "efc0a466-b666-47b4-9698-000962b38864",
   "metadata": {},
   "source": [
    "# 03 - Lists vs Tuples"
   ]
  },
  {
   "cell_type": "markdown",
   "id": "ff11904e-1eda-42df-8af2-89b0e9337a60",
   "metadata": {},
   "source": [
    "# 04 - Copying Sequences"
   ]
  },
  {
   "cell_type": "markdown",
   "id": "c9b9f42d-8b02-4665-ba58-ccc0d8cd7cc3",
   "metadata": {},
   "source": [
    "# 05 - Slicing"
   ]
  },
  {
   "cell_type": "markdown",
   "id": "fa8e6763-7abc-4ac1-a702-eb03fd2cc541",
   "metadata": {},
   "source": [
    "# 06 - Custom Sequences - Part 1"
   ]
  },
  {
   "cell_type": "markdown",
   "id": "ee2fe756-c779-4108-b373-53d381e6c7f4",
   "metadata": {},
   "source": [
    "# 07 - In-Place Concatenation and Repetition"
   ]
  },
  {
   "cell_type": "markdown",
   "id": "e7b2e7bb-8bd3-4f11-84b1-5672c6baa18f",
   "metadata": {},
   "source": [
    "# 08 - Assignments in Mutable Sequences"
   ]
  },
  {
   "cell_type": "markdown",
   "id": "be18a233-af0c-40e5-a642-1c4e83d0bb37",
   "metadata": {},
   "source": [
    "# 09 - Custom Sequences - Part 2a"
   ]
  },
  {
   "cell_type": "markdown",
   "id": "1d229231-3254-4235-9911-8363fe92a9b2",
   "metadata": {},
   "source": [
    "# 10 - Custom Sequences - Part 2b_c"
   ]
  },
  {
   "cell_type": "markdown",
   "id": "c1a1b0dc-b7c2-4972-80dd-dab0dfb54f59",
   "metadata": {},
   "source": [
    "# 11- Sorting Sequences"
   ]
  },
  {
   "cell_type": "markdown",
   "id": "642c36d4-46ce-4051-ae34-ff982e6b8b34",
   "metadata": {},
   "source": [
    "# 12 - List Comprehensions"
   ]
  }
 ],
 "metadata": {
  "kernelspec": {
   "display_name": "Python 3 (ipykernel)",
   "language": "python",
   "name": "python3"
  },
  "language_info": {
   "codemirror_mode": {
    "name": "ipython",
    "version": 3
   },
   "file_extension": ".py",
   "mimetype": "text/x-python",
   "name": "python",
   "nbconvert_exporter": "python",
   "pygments_lexer": "ipython3",
   "version": "3.10.6"
  }
 },
 "nbformat": 4,
 "nbformat_minor": 5
}
