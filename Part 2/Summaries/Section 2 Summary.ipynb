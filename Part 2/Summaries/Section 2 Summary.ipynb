{
 "cells": [
  {
   "cell_type": "markdown",
   "metadata": {
    "tags": [],
    "toc-hr-collapsed": true
   },
   "source": [
    "# 01 - Sequence Types"
   ]
  },
  {
   "cell_type": "markdown",
   "metadata": {},
   "source": [
    "Sequence types have the general concept of a first element, a second element, and so on. Basically an ordering of the sequence items using the natural numbers. In Python (and many other languages) the starting index is set to `0`, not `1`.\n",
    "\n",
    "So the first item has index `0`, the second item has index `1`, and so on."
   ]
  },
  {
   "cell_type": "markdown",
   "metadata": {},
   "source": [
    "Python has built-in mutable and immutable sequence types."
   ]
  },
  {
   "cell_type": "markdown",
   "metadata": {},
   "source": [
    "Strings, tuples, ranges and bytes are immutable - we can access but not modify the **content** of the **sequence**:"
   ]
  },
  {
   "cell_type": "code",
   "execution_count": 15,
   "metadata": {},
   "outputs": [
    {
     "ename": "TypeError",
     "evalue": "'tuple' object does not support item assignment",
     "output_type": "error",
     "traceback": [
      "\u001b[0;31m---------------------------------------------------------------------------\u001b[0m",
      "\u001b[0;31mTypeError\u001b[0m                                 Traceback (most recent call last)",
      "\u001b[0;32m/tmp/ipykernel_5300/1874863708.py\u001b[0m in \u001b[0;36m<module>\u001b[0;34m\u001b[0m\n\u001b[1;32m      1\u001b[0m \u001b[0mt\u001b[0m \u001b[0;34m=\u001b[0m \u001b[0;34m(\u001b[0m\u001b[0;36m1\u001b[0m\u001b[0;34m,\u001b[0m \u001b[0;36m2\u001b[0m\u001b[0;34m,\u001b[0m \u001b[0;36m3\u001b[0m\u001b[0;34m)\u001b[0m\u001b[0;34m\u001b[0m\u001b[0;34m\u001b[0m\u001b[0m\n\u001b[1;32m      2\u001b[0m \u001b[0;34m\u001b[0m\u001b[0m\n\u001b[0;32m----> 3\u001b[0;31m \u001b[0mt\u001b[0m\u001b[0;34m[\u001b[0m\u001b[0;36m0\u001b[0m\u001b[0;34m]\u001b[0m \u001b[0;34m=\u001b[0m \u001b[0;36m100\u001b[0m\u001b[0;34m\u001b[0m\u001b[0;34m\u001b[0m\u001b[0m\n\u001b[0m",
      "\u001b[0;31mTypeError\u001b[0m: 'tuple' object does not support item assignment"
     ]
    }
   ],
   "source": [
    "t = (1, 2, 3)\n",
    "\n",
    "t[0] = 100"
   ]
  },
  {
   "cell_type": "markdown",
   "metadata": {},
   "source": [
    "But of course, if the sequence contains mutable objects, then although we cannot modify the sequence of elements (cannot replace, delete or insert elements), we certainly **can** change the contents of the mutable objects:"
   ]
  },
  {
   "cell_type": "code",
   "execution_count": 17,
   "metadata": {
    "tags": []
   },
   "outputs": [],
   "source": [
    "t = ( [1, 2], 3, 4)"
   ]
  },
  {
   "cell_type": "markdown",
   "metadata": {},
   "source": [
    "`t` is immutable, but its first element is a mutable object:"
   ]
  },
  {
   "cell_type": "code",
   "execution_count": 18,
   "metadata": {
    "tags": []
   },
   "outputs": [
    {
     "data": {
      "text/plain": [
       "([100, 2], 3, 4)"
      ]
     },
     "execution_count": 18,
     "metadata": {},
     "output_type": "execute_result"
    }
   ],
   "source": [
    "t[0][0] = 100\n",
    "\n",
    "t"
   ]
  },
  {
   "cell_type": "markdown",
   "metadata": {},
   "source": [
    "Sequences can be **Homogeneous** or **heterogeneous** where elements in a homogeneous sequences are all of the same type. For example, in a string, all characters have the same type. Lists can be heterogeneous where different elements have different types. Generally homogeneous sequences are usually more efficient (storage-wise)."
   ]
  },
  {
   "cell_type": "markdown",
   "metadata": {},
   "source": [
    "#### Iterables"
   ]
  },
  {
   "cell_type": "markdown",
   "metadata": {},
   "source": [
    "An **iterable** is just something that can be iterated over, for example using a `for` loop. It is a **container** type of object which means it contains other objects, and it becomes an iterable if we can list out the elements one by one. \n",
    "\n",
    "But iterables are more general; they are **not necessarily** a sequence type. For example a set `s = {1, 2, 3}` is an iterable because we can type `for e in s` but it's not a sequence because we can't type `s[0]`."
   ]
  },
  {
   "cell_type": "markdown",
   "metadata": {},
   "source": [
    "So, we can iterate over both the tuple and the set. Iterating the tuple preserved the **order** of the elements in the tuple, but not for the set. Sets do not have an ordering of elements - they are iterable, but not sequences."
   ]
  },
  {
   "cell_type": "markdown",
   "metadata": {},
   "source": [
    "Most sequence types support the `in` and `not in` operations. Ranges do too, but not quite as efficiently as lists, tuples, strings, etc."
   ]
  },
  {
   "cell_type": "code",
   "execution_count": 11,
   "metadata": {},
   "outputs": [
    {
     "data": {
      "text/plain": [
       "True"
      ]
     },
     "execution_count": 11,
     "metadata": {},
     "output_type": "execute_result"
    }
   ],
   "source": [
    "'a' in ['a', 'b', 100]"
   ]
  },
  {
   "cell_type": "code",
   "execution_count": 12,
   "metadata": {},
   "outputs": [
    {
     "data": {
      "text/plain": [
       "True"
      ]
     },
     "execution_count": 12,
     "metadata": {},
     "output_type": "execute_result"
    }
   ],
   "source": [
    "100 in range(200)"
   ]
  },
  {
   "cell_type": "markdown",
   "metadata": {},
   "source": [
    "#### Min, Max and Length"
   ]
  },
  {
   "cell_type": "markdown",
   "metadata": {},
   "source": [
    "Sequences also generally support the `len` method to obtain the number of items in the collection. Some iterables may also support that method."
   ]
  },
  {
   "cell_type": "code",
   "execution_count": 13,
   "metadata": {},
   "outputs": [
    {
     "data": {
      "text/plain": [
       "(6, 3, 3, 2)"
      ]
     },
     "execution_count": 13,
     "metadata": {},
     "output_type": "execute_result"
    }
   ],
   "source": [
    "len('python'), len([1, 2, 3]), len({10, 20, 30}), len({'a': 1, 'b': 2})"
   ]
  },
  {
   "cell_type": "markdown",
   "metadata": {},
   "source": [
    "Sequences (and even some iterables) may support `max` and `min` as long as the data types in the collection can be **ordered** in some sense (`<` or `>`)."
   ]
  },
  {
   "cell_type": "code",
   "execution_count": 14,
   "metadata": {},
   "outputs": [
    {
     "data": {
      "text/plain": [
       "(100, 300)"
      ]
     },
     "execution_count": 14,
     "metadata": {},
     "output_type": "execute_result"
    }
   ],
   "source": [
    "a = [100, 300, 200]\n",
    "min(a), max(a)"
   ]
  },
  {
   "cell_type": "code",
   "execution_count": 15,
   "metadata": {},
   "outputs": [
    {
     "data": {
      "text/plain": [
       "('h', 'y')"
      ]
     },
     "execution_count": 15,
     "metadata": {},
     "output_type": "execute_result"
    }
   ],
   "source": [
    "s = 'python'\n",
    "min(s), max(s)"
   ]
  },
  {
   "cell_type": "code",
   "execution_count": 16,
   "metadata": {},
   "outputs": [
    {
     "data": {
      "text/plain": [
       "('h', 'y')"
      ]
     },
     "execution_count": 16,
     "metadata": {},
     "output_type": "execute_result"
    }
   ],
   "source": [
    "s = {'p', 'y', 't', 'h', 'o', 'n'}\n",
    "min(s), max(s)"
   ]
  },
  {
   "cell_type": "markdown",
   "metadata": {},
   "source": [
    "But if the elements do not have an ordering defined:"
   ]
  },
  {
   "cell_type": "code",
   "execution_count": 17,
   "metadata": {},
   "outputs": [
    {
     "ename": "TypeError",
     "evalue": "'<' not supported between instances of 'complex' and 'complex'",
     "output_type": "error",
     "traceback": [
      "\u001b[1;31m---------------------------------------------------------------------------\u001b[0m",
      "\u001b[1;31mTypeError\u001b[0m                                 Traceback (most recent call last)",
      "\u001b[1;32m<ipython-input-17-b0cd79e53377>\u001b[0m in \u001b[0;36m<module>\u001b[1;34m()\u001b[0m\n\u001b[0;32m      1\u001b[0m \u001b[0ma\u001b[0m \u001b[1;33m=\u001b[0m \u001b[1;33m[\u001b[0m\u001b[1;36m1\u001b[0m\u001b[1;33m+\u001b[0m\u001b[1;36m1j\u001b[0m\u001b[1;33m,\u001b[0m \u001b[1;36m2\u001b[0m\u001b[1;33m+\u001b[0m\u001b[1;36m2j\u001b[0m\u001b[1;33m,\u001b[0m \u001b[1;36m3\u001b[0m\u001b[1;33m+\u001b[0m\u001b[1;36m3j\u001b[0m\u001b[1;33m]\u001b[0m\u001b[1;33m\u001b[0m\u001b[0m\n\u001b[1;32m----> 2\u001b[1;33m \u001b[0mmin\u001b[0m\u001b[1;33m(\u001b[0m\u001b[0ma\u001b[0m\u001b[1;33m)\u001b[0m\u001b[1;33m\u001b[0m\u001b[0m\n\u001b[0m",
      "\u001b[1;31mTypeError\u001b[0m: '<' not supported between instances of 'complex' and 'complex'"
     ]
    }
   ],
   "source": [
    "a = [1+1j, 2+2j, 3+3j]\n",
    "min(a)"
   ]
  },
  {
   "cell_type": "markdown",
   "metadata": {},
   "source": [
    "`min` and `max` will work for heterogeneous types as long as the elements are pairwise comparable (`<` or `>` is defined). \n",
    "\n",
    "For example:"
   ]
  },
  {
   "cell_type": "code",
   "execution_count": 18,
   "metadata": {
    "collapsed": true,
    "jupyter": {
     "outputs_hidden": true
    }
   },
   "outputs": [],
   "source": [
    "from decimal import Decimal"
   ]
  },
  {
   "cell_type": "code",
   "execution_count": 19,
   "metadata": {
    "collapsed": true,
    "jupyter": {
     "outputs_hidden": true
    }
   },
   "outputs": [],
   "source": [
    "t = 10, 20.5, Decimal('30.5')"
   ]
  },
  {
   "cell_type": "code",
   "execution_count": 20,
   "metadata": {},
   "outputs": [
    {
     "data": {
      "text/plain": [
       "(10, Decimal('30.5'))"
      ]
     },
     "execution_count": 20,
     "metadata": {},
     "output_type": "execute_result"
    }
   ],
   "source": [
    "min(t), max(t)"
   ]
  },
  {
   "cell_type": "code",
   "execution_count": 21,
   "metadata": {},
   "outputs": [
    {
     "ename": "TypeError",
     "evalue": "'<' not supported between instances of 'int' and 'str'",
     "output_type": "error",
     "traceback": [
      "\u001b[1;31m---------------------------------------------------------------------------\u001b[0m",
      "\u001b[1;31mTypeError\u001b[0m                                 Traceback (most recent call last)",
      "\u001b[1;32m<ipython-input-21-983eac063887>\u001b[0m in \u001b[0;36m<module>\u001b[1;34m()\u001b[0m\n\u001b[0;32m      1\u001b[0m \u001b[0mt\u001b[0m \u001b[1;33m=\u001b[0m \u001b[1;33m[\u001b[0m\u001b[1;34m'a'\u001b[0m\u001b[1;33m,\u001b[0m \u001b[1;36m10\u001b[0m\u001b[1;33m,\u001b[0m \u001b[1;36m1000\u001b[0m\u001b[1;33m]\u001b[0m\u001b[1;33m\u001b[0m\u001b[0m\n\u001b[1;32m----> 2\u001b[1;33m \u001b[0mmin\u001b[0m\u001b[1;33m(\u001b[0m\u001b[0mt\u001b[0m\u001b[1;33m)\u001b[0m\u001b[1;33m\u001b[0m\u001b[0m\n\u001b[0m",
      "\u001b[1;31mTypeError\u001b[0m: '<' not supported between instances of 'int' and 'str'"
     ]
    }
   ],
   "source": [
    "t = ['a', 10, 1000]\n",
    "min(t)"
   ]
  },
  {
   "cell_type": "markdown",
   "metadata": {},
   "source": [
    "Even `range` objects support `min` and `max`:"
   ]
  },
  {
   "cell_type": "code",
   "execution_count": 22,
   "metadata": {},
   "outputs": [
    {
     "data": {
      "text/plain": [
       "(10, 199)"
      ]
     },
     "execution_count": 22,
     "metadata": {},
     "output_type": "execute_result"
    }
   ],
   "source": [
    "r = range(10, 200)\n",
    "min(r), max(r)"
   ]
  },
  {
   "cell_type": "markdown",
   "metadata": {},
   "source": [
    "#### Concatenation"
   ]
  },
  {
   "cell_type": "markdown",
   "metadata": {},
   "source": [
    "We can **concatenate** sequences using the `+` operator:"
   ]
  },
  {
   "cell_type": "code",
   "execution_count": 25,
   "metadata": {},
   "outputs": [
    {
     "data": {
      "text/plain": [
       "[1, 2, 3, 4, 5, 6]"
      ]
     },
     "execution_count": 25,
     "metadata": {},
     "output_type": "execute_result"
    }
   ],
   "source": [
    "[1, 2, 3] + [4, 5, 6]"
   ]
  },
  {
   "cell_type": "code",
   "execution_count": 26,
   "metadata": {},
   "outputs": [
    {
     "data": {
      "text/plain": [
       "(1, 2, 3, 4, 5, 6)"
      ]
     },
     "execution_count": 26,
     "metadata": {},
     "output_type": "execute_result"
    }
   ],
   "source": [
    "(1, 2, 3) + (4, 5, 6)"
   ]
  },
  {
   "cell_type": "markdown",
   "metadata": {},
   "source": [
    "What happens if we want try concatenation on a mutable. Below `[0,0]` is a mutable."
   ]
  },
  {
   "cell_type": "code",
   "execution_count": 27,
   "metadata": {},
   "outputs": [
    {
     "data": {
      "text/plain": [
       "[[0, 0], [0, 0]]"
      ]
     },
     "execution_count": 27,
     "metadata": {},
     "output_type": "execute_result"
    }
   ],
   "source": [
    "x = [ [0, 0] ]\n",
    "\n",
    "a = x + x\n",
    "a"
   ]
  },
  {
   "cell_type": "markdown",
   "metadata": {},
   "source": [
    "It looks like it worked well, but let's look at the memory addresses of all three `[0, 0]`s mentioned."
   ]
  },
  {
   "cell_type": "code",
   "execution_count": 28,
   "metadata": {},
   "outputs": [
    {
     "data": {
      "text/plain": [
       "True"
      ]
     },
     "execution_count": 28,
     "metadata": {},
     "output_type": "execute_result"
    }
   ],
   "source": [
    "id(x[0]) == id(a[0]) == id(a[1])"
   ]
  },
  {
   "cell_type": "markdown",
   "metadata": {},
   "source": [
    "**All** of them have the exact same memory addresses. So when python did `x + x`, it literally took the object in `x` and duplicated it. They all point to the same object, and that object now has multiple pointers to it. So what happens if we modify this single object?"
   ]
  },
  {
   "cell_type": "code",
   "execution_count": 29,
   "metadata": {},
   "outputs": [
    {
     "data": {
      "text/plain": [
       "[[100, 0], [100, 0]]"
      ]
     },
     "execution_count": 29,
     "metadata": {},
     "output_type": "execute_result"
    }
   ],
   "source": [
    "a[0][0] = 100\n",
    "\n",
    "a"
   ]
  },
  {
   "cell_type": "markdown",
   "metadata": {},
   "source": [
    "Since the first and second objects are identical, they both are modified. Even `x` is modified."
   ]
  },
  {
   "cell_type": "code",
   "execution_count": 30,
   "metadata": {},
   "outputs": [
    {
     "data": {
      "text/plain": [
       "[[100, 0]]"
      ]
     },
     "execution_count": 30,
     "metadata": {},
     "output_type": "execute_result"
    }
   ],
   "source": [
    "x"
   ]
  },
  {
   "cell_type": "markdown",
   "metadata": {},
   "source": [
    "This doesn't happen with strings or integers because they are both immutable objects."
   ]
  },
  {
   "cell_type": "code",
   "execution_count": 31,
   "metadata": {},
   "outputs": [
    {
     "name": "stdout",
     "output_type": "stream",
     "text": [
      "[1, 2, 1, 2]\n",
      "pythonpython\n"
     ]
    }
   ],
   "source": [
    "x = [1, 2]\n",
    "a = x + x\n",
    "\n",
    "y = 'python'\n",
    "b = y + y\n",
    "\n",
    "print(a)\n",
    "print(b)"
   ]
  },
  {
   "cell_type": "markdown",
   "metadata": {},
   "source": [
    "Note that the type of the concatenated result is the same as the type of the sequences being concatenated, so concatenating sequences of varying types will not work:"
   ]
  },
  {
   "cell_type": "code",
   "execution_count": 25,
   "metadata": {},
   "outputs": [
    {
     "ename": "TypeError",
     "evalue": "can only concatenate tuple (not \"list\") to tuple",
     "output_type": "error",
     "traceback": [
      "\u001b[1;31m---------------------------------------------------------------------------\u001b[0m",
      "\u001b[1;31mTypeError\u001b[0m                                 Traceback (most recent call last)",
      "\u001b[1;32m<ipython-input-25-67a9e2ed8695>\u001b[0m in \u001b[0;36m<module>\u001b[1;34m()\u001b[0m\n\u001b[1;32m----> 1\u001b[1;33m \u001b[1;33m(\u001b[0m\u001b[1;36m1\u001b[0m\u001b[1;33m,\u001b[0m \u001b[1;36m2\u001b[0m\u001b[1;33m,\u001b[0m \u001b[1;36m3\u001b[0m\u001b[1;33m)\u001b[0m \u001b[1;33m+\u001b[0m \u001b[1;33m[\u001b[0m\u001b[1;36m4\u001b[0m\u001b[1;33m,\u001b[0m \u001b[1;36m5\u001b[0m\u001b[1;33m,\u001b[0m \u001b[1;36m6\u001b[0m\u001b[1;33m]\u001b[0m\u001b[1;33m\u001b[0m\u001b[0m\n\u001b[0m",
      "\u001b[1;31mTypeError\u001b[0m: can only concatenate tuple (not \"list\") to tuple"
     ]
    }
   ],
   "source": [
    "(1, 2, 3) + [4, 5, 6]"
   ]
  },
  {
   "cell_type": "code",
   "execution_count": 26,
   "metadata": {},
   "outputs": [
    {
     "ename": "TypeError",
     "evalue": "must be str, not list",
     "output_type": "error",
     "traceback": [
      "\u001b[1;31m---------------------------------------------------------------------------\u001b[0m",
      "\u001b[1;31mTypeError\u001b[0m                                 Traceback (most recent call last)",
      "\u001b[1;32m<ipython-input-26-8cbdd441adc1>\u001b[0m in \u001b[0;36m<module>\u001b[1;34m()\u001b[0m\n\u001b[1;32m----> 1\u001b[1;33m \u001b[1;34m'abc'\u001b[0m \u001b[1;33m+\u001b[0m \u001b[1;33m[\u001b[0m\u001b[1;34m'd'\u001b[0m\u001b[1;33m,\u001b[0m \u001b[1;34m'e'\u001b[0m\u001b[1;33m,\u001b[0m \u001b[1;34m'f'\u001b[0m\u001b[1;33m]\u001b[0m\u001b[1;33m\u001b[0m\u001b[0m\n\u001b[0m",
      "\u001b[1;31mTypeError\u001b[0m: must be str, not list"
     ]
    }
   ],
   "source": [
    "'abc' + ['d', 'e', 'f']"
   ]
  },
  {
   "cell_type": "markdown",
   "metadata": {},
   "source": [
    "Note: if you really want to concatenate varying types you'll have to transform them to a common type first:"
   ]
  },
  {
   "cell_type": "code",
   "execution_count": 27,
   "metadata": {},
   "outputs": [
    {
     "data": {
      "text/plain": [
       "(1, 2, 3, 4, 5, 6)"
      ]
     },
     "execution_count": 27,
     "metadata": {},
     "output_type": "execute_result"
    }
   ],
   "source": [
    "(1, 2, 3) + tuple([4, 5, 6])"
   ]
  },
  {
   "cell_type": "code",
   "execution_count": 28,
   "metadata": {},
   "outputs": [
    {
     "data": {
      "text/plain": [
       "('a', 'b', 'c', 'd', 'e', 'f')"
      ]
     },
     "execution_count": 28,
     "metadata": {},
     "output_type": "execute_result"
    }
   ],
   "source": [
    "tuple('abc') + ('d', 'e', 'f')"
   ]
  },
  {
   "cell_type": "code",
   "execution_count": 29,
   "metadata": {},
   "outputs": [
    {
     "data": {
      "text/plain": [
       "'abcdef'"
      ]
     },
     "execution_count": 29,
     "metadata": {},
     "output_type": "execute_result"
    }
   ],
   "source": [
    "''.join(tuple('abc') + ('d', 'e', 'f'))"
   ]
  },
  {
   "cell_type": "markdown",
   "metadata": {},
   "source": [
    "#### Repetition"
   ]
  },
  {
   "cell_type": "markdown",
   "metadata": {},
   "source": [
    "Most sequence types also support **repetition**, which is essentially concatenating the same sequence an integer number of times:"
   ]
  },
  {
   "cell_type": "code",
   "execution_count": 30,
   "metadata": {},
   "outputs": [
    {
     "data": {
      "text/plain": [
       "'abcabcabcabcabc'"
      ]
     },
     "execution_count": 30,
     "metadata": {},
     "output_type": "execute_result"
    }
   ],
   "source": [
    "'abc' * 5"
   ]
  },
  {
   "cell_type": "code",
   "execution_count": 31,
   "metadata": {},
   "outputs": [
    {
     "data": {
      "text/plain": [
       "[1, 2, 3, 1, 2, 3, 1, 2, 3, 1, 2, 3, 1, 2, 3]"
      ]
     },
     "execution_count": 31,
     "metadata": {},
     "output_type": "execute_result"
    }
   ],
   "source": [
    "[1, 2, 3] * 5"
   ]
  },
  {
   "cell_type": "markdown",
   "metadata": {},
   "source": [
    "We'll come back to some caveats of concatenation and repetition in a bit."
   ]
  },
  {
   "cell_type": "markdown",
   "metadata": {},
   "source": [
    "We see the same issue of duplicate objects with repetition as we saw with concatenation"
   ]
  },
  {
   "cell_type": "code",
   "execution_count": 32,
   "metadata": {},
   "outputs": [
    {
     "name": "stdout",
     "output_type": "stream",
     "text": [
      "[[0, 0], [0, 0]]\n"
     ]
    },
    {
     "data": {
      "text/plain": [
       "True"
      ]
     },
     "execution_count": 32,
     "metadata": {},
     "output_type": "execute_result"
    }
   ],
   "source": [
    "a = [ [0, 0] ] * 2 \n",
    "print(a)\n",
    "id(a[0]) == id(a[1])"
   ]
  },
  {
   "cell_type": "code",
   "execution_count": 33,
   "metadata": {},
   "outputs": [
    {
     "name": "stdout",
     "output_type": "stream",
     "text": [
      "[[100, 0], [100, 0]]\n"
     ]
    }
   ],
   "source": [
    "a[0][0] = 100 \n",
    "print(a)"
   ]
  },
  {
   "cell_type": "markdown",
   "metadata": {},
   "source": [
    "But, again, we're safe if we are repeating an immutable object such as a string."
   ]
  },
  {
   "cell_type": "code",
   "execution_count": 36,
   "metadata": {},
   "outputs": [
    {
     "name": "stdout",
     "output_type": "stream",
     "text": [
      "['python', 'python']\n"
     ]
    },
    {
     "ename": "TypeError",
     "evalue": "'str' object does not support item assignment",
     "output_type": "error",
     "traceback": [
      "\u001b[0;31m---------------------------------------------------------------------------\u001b[0m",
      "\u001b[0;31mTypeError\u001b[0m                                 Traceback (most recent call last)",
      "\u001b[0;32m/tmp/ipykernel_5300/3588088288.py\u001b[0m in \u001b[0;36m<module>\u001b[0;34m\u001b[0m\n\u001b[1;32m      2\u001b[0m \u001b[0mprint\u001b[0m\u001b[0;34m(\u001b[0m\u001b[0ma\u001b[0m\u001b[0;34m)\u001b[0m\u001b[0;34m\u001b[0m\u001b[0;34m\u001b[0m\u001b[0m\n\u001b[1;32m      3\u001b[0m \u001b[0;34m\u001b[0m\u001b[0m\n\u001b[0;32m----> 4\u001b[0;31m \u001b[0ma\u001b[0m\u001b[0;34m[\u001b[0m\u001b[0;36m0\u001b[0m\u001b[0;34m]\u001b[0m\u001b[0;34m[\u001b[0m\u001b[0;36m0\u001b[0m\u001b[0;34m]\u001b[0m \u001b[0;34m=\u001b[0m \u001b[0;34m'P'\u001b[0m\u001b[0;34m\u001b[0m\u001b[0;34m\u001b[0m\u001b[0m\n\u001b[0m\u001b[1;32m      5\u001b[0m \u001b[0mprint\u001b[0m\u001b[0;34m(\u001b[0m\u001b[0ma\u001b[0m\u001b[0;34m)\u001b[0m\u001b[0;34m\u001b[0m\u001b[0;34m\u001b[0m\u001b[0m\n",
      "\u001b[0;31mTypeError\u001b[0m: 'str' object does not support item assignment"
     ]
    }
   ],
   "source": [
    "a = ['python'] * 2\n",
    "print(a)\n",
    "\n",
    "a[0][0] = 'P'\n",
    "print(a)"
   ]
  },
  {
   "cell_type": "markdown",
   "metadata": {},
   "source": [
    "So the key takeaway is to be careful using mutable elements inside your sequence."
   ]
  },
  {
   "cell_type": "markdown",
   "metadata": {},
   "source": [
    "If you really want these repeated objects to be different objects, you'll have to copy them somehow. A simple list comprehensions would work well here:"
   ]
  },
  {
   "cell_type": "code",
   "execution_count": 10,
   "metadata": {
    "tags": []
   },
   "outputs": [],
   "source": [
    "x = [ [0, 0] ]\n",
    "m = [e.copy() for e in x*3]"
   ]
  },
  {
   "cell_type": "code",
   "execution_count": 11,
   "metadata": {},
   "outputs": [
    {
     "data": {
      "text/plain": [
       "[[0, 0], [0, 0], [0, 0]]"
      ]
     },
     "execution_count": 11,
     "metadata": {},
     "output_type": "execute_result"
    }
   ],
   "source": [
    "m"
   ]
  },
  {
   "cell_type": "code",
   "execution_count": 12,
   "metadata": {
    "tags": []
   },
   "outputs": [],
   "source": [
    "m[0][0] = 100"
   ]
  },
  {
   "cell_type": "code",
   "execution_count": 13,
   "metadata": {},
   "outputs": [
    {
     "data": {
      "text/plain": [
       "[[100, 0], [0, 0], [0, 0]]"
      ]
     },
     "execution_count": 13,
     "metadata": {},
     "output_type": "execute_result"
    }
   ],
   "source": [
    "m"
   ]
  },
  {
   "cell_type": "markdown",
   "metadata": {},
   "source": [
    "The wrong way to do it would be: (this is pretty much the same as doing `x = [ [0, 0] ] * 3`."
   ]
  },
  {
   "cell_type": "code",
   "execution_count": 4,
   "metadata": {},
   "outputs": [
    {
     "data": {
      "text/plain": [
       "[[0, 0], [0, 0], [0, 0]]"
      ]
     },
     "execution_count": 4,
     "metadata": {},
     "output_type": "execute_result"
    }
   ],
   "source": [
    "x = [ [0, 0] ]\n",
    "m = [e for e in x*3]\n",
    "m"
   ]
  },
  {
   "cell_type": "code",
   "execution_count": 5,
   "metadata": {},
   "outputs": [
    {
     "data": {
      "text/plain": [
       "[[100, 0], [100, 0], [100, 0]]"
      ]
     },
     "execution_count": 5,
     "metadata": {},
     "output_type": "execute_result"
    }
   ],
   "source": [
    "m[0][0] = 100\n",
    "m"
   ]
  },
  {
   "cell_type": "markdown",
   "metadata": {},
   "source": [
    "#### Finding things in Sequences"
   ]
  },
  {
   "cell_type": "markdown",
   "metadata": {},
   "source": [
    "We can find the index of the occurrence of an element in a sequence.\n",
    "\n",
    "We have 1 required argument and two optional arguments.\n",
    "\n",
    "`s.index(x, i, j)`: This will return the index of the first occurrence of `x` in `s` at or after index `i` but before index `j`. These final two indices can be left out. It will also only return the first match."
   ]
  },
  {
   "cell_type": "code",
   "execution_count": 32,
   "metadata": {
    "tags": []
   },
   "outputs": [],
   "source": [
    "s = \"gnu's not unix\""
   ]
  },
  {
   "cell_type": "code",
   "execution_count": 33,
   "metadata": {},
   "outputs": [
    {
     "data": {
      "text/plain": [
       "1"
      ]
     },
     "execution_count": 33,
     "metadata": {},
     "output_type": "execute_result"
    }
   ],
   "source": [
    "s.index('n')"
   ]
  },
  {
   "cell_type": "code",
   "execution_count": 34,
   "metadata": {},
   "outputs": [
    {
     "data": {
      "text/plain": [
       "(1, 6, 11)"
      ]
     },
     "execution_count": 34,
     "metadata": {},
     "output_type": "execute_result"
    }
   ],
   "source": [
    "s.index('n', 1), s.index('n', 2), s.index('n', 8)"
   ]
  },
  {
   "cell_type": "markdown",
   "metadata": {},
   "source": [
    "An exception is raised of the element is not found, so you'll want to catch it if you don't want your app to crash:"
   ]
  },
  {
   "cell_type": "code",
   "execution_count": 35,
   "metadata": {},
   "outputs": [
    {
     "ename": "ValueError",
     "evalue": "substring not found",
     "output_type": "error",
     "traceback": [
      "\u001b[1;31m---------------------------------------------------------------------------\u001b[0m",
      "\u001b[1;31mValueError\u001b[0m                                Traceback (most recent call last)",
      "\u001b[1;32m<ipython-input-35-d038ca109973>\u001b[0m in \u001b[0;36m<module>\u001b[1;34m()\u001b[0m\n\u001b[1;32m----> 1\u001b[1;33m \u001b[0ms\u001b[0m\u001b[1;33m.\u001b[0m\u001b[0mindex\u001b[0m\u001b[1;33m(\u001b[0m\u001b[1;34m'n'\u001b[0m\u001b[1;33m,\u001b[0m \u001b[1;36m13\u001b[0m\u001b[1;33m)\u001b[0m\u001b[1;33m\u001b[0m\u001b[0m\n\u001b[0m",
      "\u001b[1;31mValueError\u001b[0m: substring not found"
     ]
    }
   ],
   "source": [
    "s.index('n', 13)"
   ]
  },
  {
   "cell_type": "code",
   "execution_count": 36,
   "metadata": {},
   "outputs": [
    {
     "name": "stdout",
     "output_type": "stream",
     "text": [
      "not found\n"
     ]
    }
   ],
   "source": [
    "try:\n",
    "    idx = s.index('n', 13)\n",
    "except ValueError:\n",
    "    print('not found')"
   ]
  },
  {
   "cell_type": "markdown",
   "metadata": {},
   "source": [
    "Note that these methods of finding objects in sequences do not assume that the objects in the sequence are ordered in any way. These are basically searches that iterate over the sequence until they find (or not) the requested element.\n",
    "\n",
    "If you have a sorted sequence, then other search techniques are available - such as binary searches. I'll cover some of these topics in the extras section of this course."
   ]
  },
  {
   "cell_type": "markdown",
   "metadata": {},
   "source": [
    "#### Slicing"
   ]
  },
  {
   "cell_type": "markdown",
   "metadata": {},
   "source": [
    "We'll come back to slicing in a later lecture, but sequence types generally support slicing, even ranges (as of Python 3.2). Just like concatenation, slices will return the same type as the sequence being sliced:"
   ]
  },
  {
   "cell_type": "code",
   "execution_count": 37,
   "metadata": {
    "collapsed": true,
    "jupyter": {
     "outputs_hidden": true
    }
   },
   "outputs": [],
   "source": [
    "s = 'python'\n",
    "l = [1, 2, 3, 4, 5, 6, 7, 8, 9, 10]"
   ]
  },
  {
   "cell_type": "markdown",
   "metadata": {},
   "source": [
    "It's ok to extend ranges past the bounds of the sequence:"
   ]
  },
  {
   "cell_type": "code",
   "execution_count": 40,
   "metadata": {},
   "outputs": [
    {
     "data": {
      "text/plain": [
       "'on'"
      ]
     },
     "execution_count": 40,
     "metadata": {},
     "output_type": "execute_result"
    }
   ],
   "source": [
    "s[4:1000]"
   ]
  },
  {
   "cell_type": "markdown",
   "metadata": {},
   "source": [
    "We can even have extended slicing, which provides a start, stop and a step:"
   ]
  },
  {
   "cell_type": "code",
   "execution_count": 44,
   "metadata": {},
   "outputs": [
    {
     "data": {
      "text/plain": [
       "('python', 'pto')"
      ]
     },
     "execution_count": 44,
     "metadata": {},
     "output_type": "execute_result"
    }
   ],
   "source": [
    "s, s[::2]"
   ]
  },
  {
   "cell_type": "markdown",
   "metadata": {},
   "source": [
    "Technically we can also use negative values in slices, including extended slices (more on that later):"
   ]
  },
  {
   "cell_type": "code",
   "execution_count": 45,
   "metadata": {},
   "outputs": [
    {
     "data": {
      "text/plain": [
       "('python', 'ho', 'nohtyp')"
      ]
     },
     "execution_count": 45,
     "metadata": {},
     "output_type": "execute_result"
    }
   ],
   "source": [
    "s, s[-3:-1], s[::-1]"
   ]
  },
  {
   "cell_type": "markdown",
   "metadata": {},
   "source": [
    "If we try to unpack a full list of elements to another variable using the `[:]` notation, that new variable will take on a new memory address."
   ]
  },
  {
   "cell_type": "code",
   "execution_count": 9,
   "metadata": {},
   "outputs": [
    {
     "data": {
      "text/plain": [
       "False"
      ]
     },
     "execution_count": 9,
     "metadata": {},
     "output_type": "execute_result"
    }
   ],
   "source": [
    "l = [1, 2, 3]\n",
    "l2 = l[:]\n",
    "\n",
    "l is l2"
   ]
  },
  {
   "cell_type": "markdown",
   "metadata": {},
   "source": [
    "Range objects are more restrictive. They **don't** support concatenation or repetition and `min`, `max`, `in`, `not in` are not as efficient. Since ranges are sequences, we can slice them, returning back another range object."
   ]
  },
  {
   "cell_type": "code",
   "execution_count": 46,
   "metadata": {
    "tags": []
   },
   "outputs": [],
   "source": [
    "r = range(11)  # numbers from 0 to 10 (inclusive)"
   ]
  },
  {
   "cell_type": "code",
   "execution_count": 47,
   "metadata": {},
   "outputs": [
    {
     "name": "stdout",
     "output_type": "stream",
     "text": [
      "range(0, 11)\n",
      "[0, 1, 2, 3, 4, 5, 6, 7, 8, 9, 10]\n"
     ]
    }
   ],
   "source": [
    "print(r)\n",
    "print(list(r))"
   ]
  },
  {
   "cell_type": "code",
   "execution_count": 48,
   "metadata": {},
   "outputs": [
    {
     "name": "stdout",
     "output_type": "stream",
     "text": [
      "range(0, 5)\n"
     ]
    }
   ],
   "source": [
    "print(r[:5])"
   ]
  },
  {
   "cell_type": "code",
   "execution_count": 49,
   "metadata": {},
   "outputs": [
    {
     "name": "stdout",
     "output_type": "stream",
     "text": [
      "[0, 1, 2, 3, 4]\n"
     ]
    }
   ],
   "source": [
    "print(list(r[:5]))"
   ]
  },
  {
   "cell_type": "markdown",
   "metadata": {},
   "source": [
    "As you can see, slicing a range returns a range object as well, as expected."
   ]
  },
  {
   "cell_type": "markdown",
   "metadata": {},
   "source": [
    "#### Hashing"
   ]
  },
  {
   "cell_type": "markdown",
   "metadata": {},
   "source": [
    "Immutable sequences generally support a `hash` method that we'll discuss in detail in the section on mapping types. But immutable sequences are not hashable if they contain mutable types. There's good reasons why we don't want to hash mutable types which we'll see later on. "
   ]
  },
  {
   "cell_type": "code",
   "execution_count": 50,
   "metadata": {},
   "outputs": [
    {
     "data": {
      "text/plain": [
       "2528502973977326415"
      ]
     },
     "execution_count": 50,
     "metadata": {},
     "output_type": "execute_result"
    }
   ],
   "source": [
    "l = (1, 2, 3)\n",
    "hash(l)"
   ]
  },
  {
   "cell_type": "code",
   "execution_count": 51,
   "metadata": {},
   "outputs": [
    {
     "data": {
      "text/plain": [
       "-1892188276802162953"
      ]
     },
     "execution_count": 51,
     "metadata": {},
     "output_type": "execute_result"
    }
   ],
   "source": [
    "s = '123'\n",
    "hash(s)"
   ]
  },
  {
   "cell_type": "code",
   "execution_count": 52,
   "metadata": {},
   "outputs": [
    {
     "data": {
      "text/plain": [
       "-6299899980521991026"
      ]
     },
     "execution_count": 52,
     "metadata": {},
     "output_type": "execute_result"
    }
   ],
   "source": [
    "r = range(10)\n",
    "hash(r)"
   ]
  },
  {
   "cell_type": "markdown",
   "metadata": {},
   "source": [
    "But mutable sequences (and mutable types in general) do not:"
   ]
  },
  {
   "cell_type": "code",
   "execution_count": 53,
   "metadata": {
    "collapsed": true,
    "jupyter": {
     "outputs_hidden": true
    }
   },
   "outputs": [],
   "source": [
    "l = [1, 2, 3]"
   ]
  },
  {
   "cell_type": "code",
   "execution_count": 54,
   "metadata": {},
   "outputs": [
    {
     "ename": "TypeError",
     "evalue": "unhashable type: 'list'",
     "output_type": "error",
     "traceback": [
      "\u001b[1;31m---------------------------------------------------------------------------\u001b[0m",
      "\u001b[1;31mTypeError\u001b[0m                                 Traceback (most recent call last)",
      "\u001b[1;32m<ipython-input-54-22dd9c98a095>\u001b[0m in \u001b[0;36m<module>\u001b[1;34m()\u001b[0m\n\u001b[1;32m----> 1\u001b[1;33m \u001b[0mhash\u001b[0m\u001b[1;33m(\u001b[0m\u001b[0ml\u001b[0m\u001b[1;33m)\u001b[0m\u001b[1;33m\u001b[0m\u001b[0m\n\u001b[0m",
      "\u001b[1;31mTypeError\u001b[0m: unhashable type: 'list'"
     ]
    }
   ],
   "source": [
    "hash(l)"
   ]
  },
  {
   "cell_type": "markdown",
   "metadata": {},
   "source": [
    "Note also that a hashable sequence, is no longer hashable if one (or more) of it's elements are not hashable:"
   ]
  },
  {
   "cell_type": "code",
   "execution_count": 55,
   "metadata": {},
   "outputs": [
    {
     "ename": "TypeError",
     "evalue": "unhashable type: 'list'",
     "output_type": "error",
     "traceback": [
      "\u001b[1;31m---------------------------------------------------------------------------\u001b[0m",
      "\u001b[1;31mTypeError\u001b[0m                                 Traceback (most recent call last)",
      "\u001b[1;32m<ipython-input-55-30cac1c4a226>\u001b[0m in \u001b[0;36m<module>\u001b[1;34m()\u001b[0m\n\u001b[0;32m      1\u001b[0m \u001b[0mt\u001b[0m \u001b[1;33m=\u001b[0m \u001b[1;33m(\u001b[0m\u001b[1;36m1\u001b[0m\u001b[1;33m,\u001b[0m \u001b[1;36m2\u001b[0m\u001b[1;33m,\u001b[0m \u001b[1;33m[\u001b[0m\u001b[1;36m10\u001b[0m\u001b[1;33m,\u001b[0m \u001b[1;36m20\u001b[0m\u001b[1;33m]\u001b[0m\u001b[1;33m)\u001b[0m\u001b[1;33m\u001b[0m\u001b[0m\n\u001b[1;32m----> 2\u001b[1;33m \u001b[0mhash\u001b[0m\u001b[1;33m(\u001b[0m\u001b[0mt\u001b[0m\u001b[1;33m)\u001b[0m\u001b[1;33m\u001b[0m\u001b[0m\n\u001b[0m",
      "\u001b[1;31mTypeError\u001b[0m: unhashable type: 'list'"
     ]
    }
   ],
   "source": [
    "t = (1, 2, [10, 20])\n",
    "hash(t)"
   ]
  },
  {
   "cell_type": "markdown",
   "metadata": {},
   "source": [
    "But this would work:"
   ]
  },
  {
   "cell_type": "code",
   "execution_count": 56,
   "metadata": {},
   "outputs": [
    {
     "data": {
      "text/plain": [
       "-8790163410081325536"
      ]
     },
     "execution_count": 56,
     "metadata": {},
     "output_type": "execute_result"
    }
   ],
   "source": [
    "t = ('python', (1, 2, 3))\n",
    "hash(t)"
   ]
  },
  {
   "cell_type": "markdown",
   "metadata": {},
   "source": [
    "In general, immutable types are likely hashable, while mutable types are not. So numbers, strings, tuples, etc are hashable, but lists and sets are not:"
   ]
  },
  {
   "cell_type": "code",
   "execution_count": 57,
   "metadata": {},
   "outputs": [
    {
     "data": {
      "text/plain": [
       "1152921504606846986"
      ]
     },
     "execution_count": 57,
     "metadata": {},
     "output_type": "execute_result"
    }
   ],
   "source": [
    "from decimal import Decimal\n",
    "d = Decimal(10.5)\n",
    "hash(d)"
   ]
  },
  {
   "cell_type": "markdown",
   "metadata": {},
   "source": [
    "Sets are not hashable:"
   ]
  },
  {
   "cell_type": "code",
   "execution_count": 58,
   "metadata": {},
   "outputs": [
    {
     "ename": "TypeError",
     "evalue": "unhashable type: 'set'",
     "output_type": "error",
     "traceback": [
      "\u001b[1;31m---------------------------------------------------------------------------\u001b[0m",
      "\u001b[1;31mTypeError\u001b[0m                                 Traceback (most recent call last)",
      "\u001b[1;32m<ipython-input-58-2216931a6bc4>\u001b[0m in \u001b[0;36m<module>\u001b[1;34m()\u001b[0m\n\u001b[0;32m      1\u001b[0m \u001b[0ms\u001b[0m \u001b[1;33m=\u001b[0m \u001b[1;33m{\u001b[0m\u001b[1;36m1\u001b[0m\u001b[1;33m,\u001b[0m \u001b[1;36m2\u001b[0m\u001b[1;33m,\u001b[0m \u001b[1;36m3\u001b[0m\u001b[1;33m}\u001b[0m\u001b[1;33m\u001b[0m\u001b[0m\n\u001b[1;32m----> 2\u001b[1;33m \u001b[0mhash\u001b[0m\u001b[1;33m(\u001b[0m\u001b[0ms\u001b[0m\u001b[1;33m)\u001b[0m\u001b[1;33m\u001b[0m\u001b[0m\n\u001b[0m",
      "\u001b[1;31mTypeError\u001b[0m: unhashable type: 'set'"
     ]
    }
   ],
   "source": [
    "s = {1, 2, 3}\n",
    "hash(s)"
   ]
  },
  {
   "cell_type": "markdown",
   "metadata": {},
   "source": [
    "But frozensets, an immutable variant of the set, are:"
   ]
  },
  {
   "cell_type": "code",
   "execution_count": 59,
   "metadata": {
    "collapsed": true,
    "jupyter": {
     "outputs_hidden": true
    }
   },
   "outputs": [],
   "source": [
    "s = frozenset({1, 2, 3})"
   ]
  },
  {
   "cell_type": "code",
   "execution_count": 60,
   "metadata": {},
   "outputs": [
    {
     "data": {
      "text/plain": [
       "-7699079583225461316"
      ]
     },
     "execution_count": 60,
     "metadata": {},
     "output_type": "execute_result"
    }
   ],
   "source": [
    "hash(s)"
   ]
  },
  {
   "cell_type": "markdown",
   "metadata": {
    "tags": [],
    "toc-hr-collapsed": true
   },
   "source": [
    "# 02 - Mutable Sequence Types"
   ]
  },
  {
   "cell_type": "markdown",
   "metadata": {
    "tags": []
   },
   "source": [
    "#### Lecture"
   ]
  },
  {
   "cell_type": "markdown",
   "metadata": {},
   "source": [
    "If we create a list and then concatenate to it via `+`, we are **not** mutating the original object. Instead, a new object is created and the elements from the old object are added along with the concatenated values.\n",
    "\n",
    "So, in the example below, the `names` label just moves over to the new object.\n",
    "\n",
    "**Concatenation does not mutate objects; it just creates new ones.**"
   ]
  },
  {
   "attachments": {},
   "cell_type": "markdown",
   "metadata": {},
   "source": [
    "![2.1.png](s2-images/2.1.png)"
   ]
  },
  {
   "cell_type": "markdown",
   "metadata": {},
   "source": [
    "So how do we mutate an object?\n",
    "\n",
    "We need to use the correct method, such as `append`, or using slicing `[]`."
   ]
  },
  {
   "cell_type": "code",
   "execution_count": 22,
   "metadata": {},
   "outputs": [],
   "source": [
    "names = ['Eric', 'John']\n",
    "names.append('Michael')"
   ]
  },
  {
   "cell_type": "markdown",
   "metadata": {},
   "source": [
    "This will add 'Michael' to our `names` object without creating a new object in memory."
   ]
  },
  {
   "cell_type": "code",
   "execution_count": 23,
   "metadata": {},
   "outputs": [
    {
     "name": "stdout",
     "output_type": "stream",
     "text": [
      "['Eric', 'John', 'Michael']\n",
      "['Eric', 'John', 'Michaelson']\n"
     ]
    }
   ],
   "source": [
    "print(names)\n",
    "names[2] = 'Michaelson' \n",
    "print(names)"
   ]
  },
  {
   "cell_type": "markdown",
   "metadata": {},
   "source": [
    "Or.."
   ]
  },
  {
   "cell_type": "code",
   "execution_count": 24,
   "metadata": {},
   "outputs": [
    {
     "name": "stdout",
     "output_type": "stream",
     "text": [
      "['Eric', 'John', 'Michaelson']\n",
      "['Eric', 'Mark', 'Harry', 'Brian']\n"
     ]
    }
   ],
   "source": [
    "print(names)\n",
    "more_names = ['Mark', 'Harry', 'Brian']\n",
    "names[1:3] = more_names\n",
    "print(names)"
   ]
  },
  {
   "cell_type": "markdown",
   "metadata": {},
   "source": [
    "Take a look at the following:"
   ]
  },
  {
   "cell_type": "code",
   "execution_count": 56,
   "metadata": {},
   "outputs": [
    {
     "name": "stdout",
     "output_type": "stream",
     "text": [
      "new_names=['a', 'b', 'c', 'd', 'e']\n",
      "new_names=['a', 'A', 'B', 'C', 'D', 'E', 'd', 'e']\n"
     ]
    }
   ],
   "source": [
    "new_names = ['a', 'b', 'c', 'd', 'e']\n",
    "print(f'{new_names=}')\n",
    "\n",
    "more_new = ['A', 'B', 'C', 'D', 'E']\n",
    "new_names[1:3] = more_new\n",
    "\n",
    "print(f'{new_names=}')"
   ]
  },
  {
   "cell_type": "markdown",
   "metadata": {},
   "source": [
    "Notice that in the first case 'Michaelson' was overwritten, but in the second case, the original letters 'd' and 'e' weren't. "
   ]
  },
  {
   "cell_type": "markdown",
   "metadata": {},
   "source": [
    "Deleting using `del s[i]`,`del s[i:j]` or `s.clear()` (removes all items from `s`) will also mutate the object.\n",
    "\n",
    "Here are some other methods that mutate an object:\n",
    "\n",
    "- `del s[i:j]`: removes an entire slice from `s`.\n",
    "- `s.clear()`: removes all items from `s`.\n",
    "- `s.append(x)`: appends `x` to the **end** of `s`.\n",
    "- `s.insert(i, x)`: inserts one element `x` at the index `i`.\n",
    "- `s.extend(iterable)`: appends an entire iterable (list of elements) to `s`.\n",
    "- `s.pop(i)`: removes **and** returns element at index `i`. If no argument is specified, then the last element gets popped.\n",
    "- `s.remove(x)`: removes the first occurrence of a specific object `x` in `s`.\n",
    "- `s.reverse()`: reverses all elements of `s` **in-place** so no more memory is needed.\n",
    "- `s.copy()`: copies all elements of `s` into a **new** sequence (with new memory address) and then returns it. This is a **shallow copy**.\n",
    "\n",
    "and more..\n",
    "\n",
    "All these methods are supported by the 'list' sequence type but not all sequences will necessarily support them. When we make our own sequences later, we can choose."
   ]
  },
  {
   "cell_type": "markdown",
   "metadata": {},
   "source": [
    "#### Replacing Elements"
   ]
  },
  {
   "cell_type": "markdown",
   "metadata": {},
   "source": [
    "Suppose you have the following setup:"
   ]
  },
  {
   "cell_type": "code",
   "execution_count": 6,
   "metadata": {},
   "outputs": [
    {
     "name": "stdout",
     "output_type": "stream",
     "text": [
      "[] ['Spades', 'Hearts', 'Diamonds', 'Clubs']\n"
     ]
    }
   ],
   "source": [
    "suits = ['Spades', 'Hearts', 'Diamonds', 'Clubs']\n",
    "alias = suits\n",
    "suits = []\n",
    "print(suits, alias)"
   ]
  },
  {
   "cell_type": "markdown",
   "metadata": {},
   "source": [
    "This is because `suits = []` created a new empty list object and pointed `suits` towards it.\n",
    "\n",
    "But using clear:"
   ]
  },
  {
   "cell_type": "code",
   "execution_count": 7,
   "metadata": {},
   "outputs": [
    {
     "name": "stdout",
     "output_type": "stream",
     "text": [
      "[] []\n"
     ]
    }
   ],
   "source": [
    "suits = ['Spades', 'Hearts', 'Diamonds', 'Clubs']\n",
    "alias = suits\n",
    "suits.clear()\n",
    "print(suits, alias)"
   ]
  },
  {
   "cell_type": "markdown",
   "metadata": {},
   "source": [
    "Big difference! This was because these methods **mutate the object**, not the label to the object."
   ]
  },
  {
   "cell_type": "markdown",
   "metadata": {},
   "source": [
    "#### Extending a Sequence"
   ]
  },
  {
   "cell_type": "markdown",
   "metadata": {},
   "source": [
    "If we want to add more than one element at a time, we can extend a sequence with the contents of any iterable (not just sequences):"
   ]
  },
  {
   "cell_type": "code",
   "execution_count": 11,
   "metadata": {},
   "outputs": [
    {
     "name": "stdout",
     "output_type": "stream",
     "text": [
      "1979932844488\n",
      "1979932844488 [1, 2, 3, 4, 5, 'c', 'b', 'a']\n"
     ]
    }
   ],
   "source": [
    "l = [1, 2, 3, 4, 5]\n",
    "print(id(l))\n",
    "l.extend({'a', 'b', 'c'})\n",
    "print(id(l), l)"
   ]
  },
  {
   "cell_type": "markdown",
   "metadata": {},
   "source": [
    "Of course, since we extended using a set, there was not gurantee of positional ordering."
   ]
  },
  {
   "cell_type": "markdown",
   "metadata": {},
   "source": [
    "If we extend with another sequence, then positional ordering is retained:"
   ]
  },
  {
   "cell_type": "code",
   "execution_count": 12,
   "metadata": {},
   "outputs": [
    {
     "name": "stdout",
     "output_type": "stream",
     "text": [
      "[1, 2, 3, 'a', 'b', 'c']\n"
     ]
    }
   ],
   "source": [
    "l = [1, 2, 3]\n",
    "l.extend(('a', 'b', 'c'))\n",
    "print(l)"
   ]
  },
  {
   "cell_type": "markdown",
   "metadata": {},
   "source": [
    "#### Reversing a Sequence"
   ]
  },
  {
   "cell_type": "markdown",
   "metadata": {},
   "source": [
    "As mentioned above, We can do in-place reversal:"
   ]
  },
  {
   "cell_type": "code",
   "execution_count": 16,
   "metadata": {},
   "outputs": [
    {
     "name": "stdout",
     "output_type": "stream",
     "text": [
      "1979930587080\n",
      "1979930587080 [4, 3, 2, 1]\n"
     ]
    }
   ],
   "source": [
    "l = [1, 2, 3, 4]\n",
    "print(id(l))\n",
    "l.reverse()\n",
    "print(id(l), l)"
   ]
  },
  {
   "cell_type": "markdown",
   "metadata": {},
   "source": [
    "We can also reverse a sequence using extended slicing (we'll come back to this later):"
   ]
  },
  {
   "cell_type": "code",
   "execution_count": 17,
   "metadata": {},
   "outputs": [
    {
     "data": {
      "text/plain": [
       "[4, 3, 2, 1]"
      ]
     },
     "execution_count": 17,
     "metadata": {},
     "output_type": "execute_result"
    }
   ],
   "source": [
    "l = [1, 2, 3, 4]\n",
    "l[::-1]"
   ]
  },
  {
   "cell_type": "markdown",
   "metadata": {},
   "source": [
    "But this is **NOT** mutating the sequence - the slice is returning a **new** sequence - that happens to be reversed."
   ]
  },
  {
   "cell_type": "code",
   "execution_count": 18,
   "metadata": {},
   "outputs": [
    {
     "name": "stdout",
     "output_type": "stream",
     "text": [
      "1979932143176\n",
      "1979932696968 [4, 3, 2, 1]\n"
     ]
    }
   ],
   "source": [
    "l = [1, 2, 3, 4]\n",
    "print(id(l))\n",
    "l = l[::-1]\n",
    "print(id(l), l)"
   ]
  },
  {
   "cell_type": "markdown",
   "metadata": {},
   "source": [
    "Remember, **slices always return new objects**."
   ]
  },
  {
   "cell_type": "markdown",
   "metadata": {},
   "source": [
    "#### Copying Sequences"
   ]
  },
  {
   "cell_type": "markdown",
   "metadata": {},
   "source": [
    "We'll take a quick look at shallow and deep copies now and go into more detail after. Consider the following list and its relevant IDs:"
   ]
  },
  {
   "cell_type": "code",
   "execution_count": 62,
   "metadata": {},
   "outputs": [
    {
     "data": {
      "text/plain": [
       "('id(l)=140561331827648',\n",
       " 'id(l[0])=140561332000320',\n",
       " 'id(l[1])=140561467903408')"
      ]
     },
     "execution_count": 62,
     "metadata": {},
     "output_type": "execute_result"
    }
   ],
   "source": [
    "l = [ ['a', 'b'], 'c', 'd']\n",
    "\n",
    "f'{id(l)=}', f'{id(l[0])=}', f'{id(l[1])=}'"
   ]
  },
  {
   "cell_type": "markdown",
   "metadata": {},
   "source": [
    "Let's copy it with `l.copy()` which is like `l[:]` as they both create a new object:"
   ]
  },
  {
   "cell_type": "code",
   "execution_count": 65,
   "metadata": {},
   "outputs": [
    {
     "data": {
      "text/plain": [
       "('id(l2)=140561331975424',\n",
       " 'id(l2[0])=140561332000320',\n",
       " 'id(l2[1])=140561467903408')"
      ]
     },
     "execution_count": 65,
     "metadata": {},
     "output_type": "execute_result"
    }
   ],
   "source": [
    "l2 = l.copy()\n",
    "\n",
    "f'{id(l2)=}', f'{id(l2[0])=}', f'{id(l2[1])=}'"
   ]
  },
  {
   "cell_type": "markdown",
   "metadata": {},
   "source": [
    "So `l` and `l2` have different IDs but their elements contain the same, duplicated objects as `l`. \n",
    "\n",
    "We have that mutability issue again. The first element `[a, b]` is a mutable object so if we change it in `l`, it'll apply to `l2` too. "
   ]
  },
  {
   "cell_type": "code",
   "execution_count": 71,
   "metadata": {},
   "outputs": [
    {
     "name": "stdout",
     "output_type": "stream",
     "text": [
      "[['a', 'b', 'x', 'x', 'x'], 'c', 'd']\n",
      "[['a', 'b', 'x', 'x', 'x'], 'c', 'd']\n"
     ]
    }
   ],
   "source": [
    "l[0].append('x')\n",
    "\n",
    "print(f'{l}')\n",
    "print(f'{l2}')"
   ]
  },
  {
   "cell_type": "markdown",
   "metadata": {},
   "source": [
    "This occurred because we did a **shallow copy** with `l.copy()`. To get around this, we've got to do a **deep copy**.\n",
    "\n",
    "Note that we don't need to worry about the elements `'c'` or `'d'` because they're immutable so we can't modify them anyways."
   ]
  },
  {
   "cell_type": "markdown",
   "metadata": {
    "toc-hr-collapsed": true
   },
   "source": [
    "# 03 - Lists vs Tuples"
   ]
  },
  {
   "cell_type": "markdown",
   "metadata": {},
   "source": [
    "#### Lecture"
   ]
  },
  {
   "cell_type": "markdown",
   "metadata": {},
   "source": [
    "Generally, tuples are more efficient that lists, so, unless you need mutability of the container, prefer using a tuple over a list."
   ]
  },
  {
   "cell_type": "markdown",
   "metadata": {},
   "source": [
    "#### Creating Tuples"
   ]
  },
  {
   "cell_type": "markdown",
   "metadata": {},
   "source": [
    "We saw some of this already in the first section of this course when we looked at some of the optimizations Python implements, but let's revisit it in this context."
   ]
  },
  {
   "cell_type": "markdown",
   "metadata": {},
   "source": [
    "Here is Wikipedia's definition of constant folding:\n",
    "\n",
    "`\n",
    "Constant folding is the process of recognizing and evaluating constant expressions at compile time rather than computing them at runtime.\n",
    "`"
   ]
  },
  {
   "cell_type": "markdown",
   "metadata": {},
   "source": [
    "To see how this works, we are going to use the `dis` module which allows to see the disassembled Python bytecode - not for the faint of heart, but can be really useful!"
   ]
  },
  {
   "cell_type": "code",
   "execution_count": 6,
   "metadata": {
    "tags": []
   },
   "outputs": [],
   "source": [
    "from dis import dis"
   ]
  },
  {
   "cell_type": "markdown",
   "metadata": {},
   "source": [
    "We want to understand what Python does when it compiles statements such as:"
   ]
  },
  {
   "cell_type": "code",
   "execution_count": 7,
   "metadata": {},
   "outputs": [
    {
     "data": {
      "text/plain": [
       "[1, 2, 3]"
      ]
     },
     "execution_count": 7,
     "metadata": {},
     "output_type": "execute_result"
    }
   ],
   "source": [
    "(1, 2, 3)\n",
    "[1, 2, 3]"
   ]
  },
  {
   "cell_type": "code",
   "execution_count": 8,
   "metadata": {},
   "outputs": [
    {
     "name": "stdout",
     "output_type": "stream",
     "text": [
      "  1           0 LOAD_CONST               0 ((1, 2, 3, 'a'))\n",
      "              2 RETURN_VALUE\n"
     ]
    }
   ],
   "source": [
    "dis(compile('(1,2,3, \"a\")', 'string', 'eval'))"
   ]
  },
  {
   "cell_type": "code",
   "execution_count": 9,
   "metadata": {},
   "outputs": [
    {
     "name": "stdout",
     "output_type": "stream",
     "text": [
      "  1           0 BUILD_LIST               0\n",
      "              2 LOAD_CONST               0 ((1, 2, 3, 'a'))\n",
      "              4 LIST_EXTEND              1\n",
      "              6 RETURN_VALUE\n"
     ]
    }
   ],
   "source": [
    "dis(compile('[1,2,3, \"a\"]', 'string', 'eval'))"
   ]
  },
  {
   "cell_type": "markdown",
   "metadata": {},
   "source": [
    "Notice how for a tuple containing constants (such as ints and strings in this case), the values are loaded in one step, a single constant value essentially. \n",
    "\n",
    "Lists, on the other hand are built-up one element at a time. So, that's one reason why tuples can \"load\" faster than a list."
   ]
  },
  {
   "cell_type": "markdown",
   "metadata": {},
   "source": [
    "But even if we have a single mutable object within our immutable tuple then it has to load the entire thing similar to the mutable list approach."
   ]
  },
  {
   "cell_type": "code",
   "execution_count": 10,
   "metadata": {},
   "outputs": [
    {
     "name": "stdout",
     "output_type": "stream",
     "text": [
      "  1           0 LOAD_CONST               0 (1)\n",
      "              2 LOAD_CONST               1 (2)\n",
      "              4 LOAD_CONST               2 (3)\n",
      "              6 LOAD_CONST               3 (10)\n",
      "              8 LOAD_CONST               4 (20)\n",
      "             10 BUILD_LIST               2\n",
      "             12 BUILD_TUPLE              4\n",
      "             14 RETURN_VALUE\n"
     ]
    }
   ],
   "source": [
    "dis(compile('(1,2,3, [10, 20])', 'string', 'eval'))"
   ]
  },
  {
   "cell_type": "markdown",
   "metadata": {},
   "source": [
    "So merely replacing our immutable `\"a\"` with `[10, 20]` forced us to load everything individually. The same is true for any other non-constant object in our tuple, such as a function:"
   ]
  },
  {
   "cell_type": "code",
   "execution_count": 11,
   "metadata": {
    "tags": []
   },
   "outputs": [],
   "source": [
    "def fn1():\n",
    "    pass"
   ]
  },
  {
   "cell_type": "code",
   "execution_count": 12,
   "metadata": {},
   "outputs": [
    {
     "name": "stdout",
     "output_type": "stream",
     "text": [
      "  1           0 LOAD_NAME                0 (fn1)\n",
      "              2 LOAD_CONST               0 (10)\n",
      "              4 LOAD_CONST               1 (20)\n",
      "              6 BUILD_TUPLE              3\n",
      "              8 RETURN_VALUE\n"
     ]
    }
   ],
   "source": [
    "dis(compile('(fn1, 10, 20)', 'string', 'eval'))"
   ]
  },
  {
   "cell_type": "markdown",
   "metadata": {},
   "source": [
    "We can easily time this penalty:"
   ]
  },
  {
   "cell_type": "code",
   "execution_count": 13,
   "metadata": {
    "tags": []
   },
   "outputs": [],
   "source": [
    "from timeit import timeit"
   ]
  },
  {
   "cell_type": "code",
   "execution_count": 14,
   "metadata": {},
   "outputs": [
    {
     "data": {
      "text/plain": [
       "0.5144668039999942"
      ]
     },
     "execution_count": 14,
     "metadata": {},
     "output_type": "execute_result"
    }
   ],
   "source": [
    "timeit(\"(1,2,3,4,5,6,7,8,9)\", number=10_000_000)"
   ]
  },
  {
   "cell_type": "code",
   "execution_count": 15,
   "metadata": {},
   "outputs": [
    {
     "data": {
      "text/plain": [
       "1.0272097249999206"
      ]
     },
     "execution_count": 15,
     "metadata": {},
     "output_type": "execute_result"
    }
   ],
   "source": [
    "timeit(\"[1,2,3,4,5,6,7,8,9]\", number=10_000_000)"
   ]
  },
  {
   "cell_type": "markdown",
   "metadata": {},
   "source": [
    "As you can see creating a tuple was faster."
   ]
  },
  {
   "cell_type": "markdown",
   "metadata": {},
   "source": [
    "#### Copying Lists and Tuples"
   ]
  },
  {
   "cell_type": "markdown",
   "metadata": {},
   "source": [
    "Let's look at creating a copy of both a list and a tuple:"
   ]
  },
  {
   "cell_type": "code",
   "execution_count": 16,
   "metadata": {
    "tags": []
   },
   "outputs": [],
   "source": [
    "l1 = [1, 2, 3, 4, 5, 6, 7, 8, 9]\n",
    "t1 = (1, 2, 3, 4, 5, 6, 7, 8, 9)"
   ]
  },
  {
   "cell_type": "code",
   "execution_count": 17,
   "metadata": {},
   "outputs": [
    {
     "data": {
      "text/plain": [
       "(140584363710848, 140584362927136)"
      ]
     },
     "execution_count": 17,
     "metadata": {},
     "output_type": "execute_result"
    }
   ],
   "source": [
    "id(l1), id(t1)"
   ]
  },
  {
   "cell_type": "code",
   "execution_count": 18,
   "metadata": {
    "tags": []
   },
   "outputs": [],
   "source": [
    "l2 = list(l1)\n",
    "t2 = tuple(t1)"
   ]
  },
  {
   "cell_type": "code",
   "execution_count": 19,
   "metadata": {},
   "outputs": [
    {
     "data": {
      "text/plain": [
       "(False, True)"
      ]
     },
     "execution_count": 19,
     "metadata": {},
     "output_type": "execute_result"
    }
   ],
   "source": [
    "l1 is l2, t1 is t2"
   ]
  },
  {
   "cell_type": "markdown",
   "metadata": {},
   "source": [
    "Notice how the `l1` and `l2` are **not** the same objects, whereas as `t1` and `t2` are!\n",
    "\n",
    "So for lists, the elements had to be copied (shallow copy, more on this later), but for tuples it did not. This is an optimisation that Python does; it doesn't make sense to make a shallow copy of a tuple because we can't mutate it anyways. So, for the tuples in this scenario, Python only needs one memory address with 2 pointers (variables) to it. \n",
    "\n",
    "With lists we had that concern when we modified an iterable using one variable and then were surprised to see the modification using another variable. This occurred because those two variables were pointers to the same mutable object. So, in general we want two separate objects in memory.\n",
    "\n",
    "But for tuples this concern vanishes because we cannot modify the tuple in the first place, so it's more efficient just to create one object in memory."
   ]
  },
  {
   "cell_type": "markdown",
   "metadata": {},
   "source": [
    "Note that this is the case even if the tuple contains non constant elements:"
   ]
  },
  {
   "cell_type": "code",
   "execution_count": 22,
   "metadata": {},
   "outputs": [
    {
     "data": {
      "text/plain": [
       "True"
      ]
     },
     "execution_count": 22,
     "metadata": {},
     "output_type": "execute_result"
    }
   ],
   "source": [
    "t1 = ([1,2], fn1, 3)\n",
    "t2 = tuple(t1)\n",
    "t1 is t2"
   ]
  },
  {
   "cell_type": "markdown",
   "metadata": {},
   "source": [
    "#### Storage Efficiency"
   ]
  },
  {
   "cell_type": "markdown",
   "metadata": {},
   "source": [
    "When mutable container objects such as lists, sets, dictionaries, etc are  created, and during their lifetime, the allocated capacity of these containers (the number of items they can contain) is greater than the number of elements in the container. This is done to make adding elements to the collection more efficient, and is called over-allocating."
   ]
  },
  {
   "cell_type": "markdown",
   "metadata": {},
   "source": [
    "Immutable containers on the other hand, since their item count is fixed once they have been created, do not need this overallocation - so their storage efficiency is greater."
   ]
  },
  {
   "cell_type": "markdown",
   "metadata": {},
   "source": [
    "Let's look at the size (memory) of lists and tuples as they get larger:"
   ]
  },
  {
   "cell_type": "code",
   "execution_count": 21,
   "metadata": {
    "tags": []
   },
   "outputs": [],
   "source": [
    "import sys"
   ]
  },
  {
   "cell_type": "code",
   "execution_count": 24,
   "metadata": {},
   "outputs": [
    {
     "name": "stdout",
     "output_type": "stream",
     "text": [
      "1 items: 56, delta=56\n",
      "2 items: 64, delta=8\n",
      "3 items: 72, delta=8\n",
      "4 items: 80, delta=8\n",
      "5 items: 88, delta=8\n",
      "6 items: 96, delta=8\n",
      "7 items: 104, delta=8\n",
      "8 items: 112, delta=8\n",
      "9 items: 120, delta=8\n",
      "10 items: 128, delta=8\n"
     ]
    }
   ],
   "source": [
    "prev = 0\n",
    "for i in range(10):\n",
    "    c = tuple(range(i+1))\n",
    "    size_c = sys.getsizeof(c)\n",
    "    delta, prev = size_c - prev, size_c\n",
    "    print(f'{i+1} items: {size_c}, delta={delta}')"
   ]
  },
  {
   "cell_type": "code",
   "execution_count": 25,
   "metadata": {},
   "outputs": [
    {
     "name": "stdout",
     "output_type": "stream",
     "text": [
      "1 items: 96, delta=96\n",
      "2 items: 104, delta=8\n",
      "3 items: 112, delta=8\n",
      "4 items: 120, delta=8\n",
      "5 items: 128, delta=8\n",
      "6 items: 136, delta=8\n",
      "7 items: 144, delta=8\n",
      "8 items: 160, delta=16\n",
      "9 items: 192, delta=32\n",
      "10 items: 200, delta=8\n"
     ]
    }
   ],
   "source": [
    "prev = 0\n",
    "for i in range(10):\n",
    "    c = list(range(i+1))\n",
    "    size_c = sys.getsizeof(c)\n",
    "    delta, prev = size_c - prev, size_c\n",
    "    print(f'{i+1} items: {size_c}, delta={delta}')"
   ]
  },
  {
   "cell_type": "markdown",
   "metadata": {},
   "source": [
    "As you can see the size delta for tuples as they get larger, remains a constant 8 bytes (the pointer to the new element added), but not so for lists which will over-allocate space (this is done to achieve better performance when appending elements to a list).\n",
    "\n",
    "Let's see what happens to the same list when we keep appending elements to it:"
   ]
  },
  {
   "cell_type": "code",
   "execution_count": 23,
   "metadata": {},
   "outputs": [
    {
     "name": "stdout",
     "output_type": "stream",
     "text": [
      "0 items: 56\n",
      "1 items: 88, delta=32\n",
      "2 items: 88, delta=0\n",
      "3 items: 88, delta=0\n",
      "4 items: 88, delta=0\n",
      "5 items: 120, delta=32\n",
      "6 items: 120, delta=0\n",
      "7 items: 120, delta=0\n",
      "8 items: 120, delta=0\n",
      "9 items: 184, delta=64\n",
      "10 items: 184, delta=0\n",
      "11 items: 184, delta=0\n",
      "12 items: 184, delta=0\n",
      "13 items: 184, delta=0\n",
      "14 items: 184, delta=0\n",
      "15 items: 184, delta=0\n",
      "16 items: 184, delta=0\n"
     ]
    }
   ],
   "source": [
    "c = []\n",
    "prev = sys.getsizeof(c)\n",
    "print(f'0 items: {sys.getsizeof(c)}')\n",
    "for i in range(16):\n",
    "    c.append(i)\n",
    "    size_c = sys.getsizeof(c)\n",
    "    delta, prev = size_c - prev, size_c\n",
    "    print(f'{i+1} items: {size_c}, delta={delta}')"
   ]
  },
  {
   "cell_type": "markdown",
   "metadata": {},
   "source": [
    "So each delta tells us how much we're over-allocating. For 0 items we use 56 bytes, all of which are in use. For 1 item we use 88 bytes but only (56+8=) 64 out of 88 bytes are in use. Tge remaining 24 bytes will not be used until we add 3 more elements.\n",
    "\n",
    "The bigger the list, the more over-allocation we perform which we recognise by the increasing deltas above."
   ]
  },
  {
   "cell_type": "markdown",
   "metadata": {
    "toc-hr-collapsed": true
   },
   "source": [
    "# 04 - Copying Sequences"
   ]
  },
  {
   "cell_type": "markdown",
   "metadata": {},
   "source": [
    "Firstly, remember mutable objects can be modified either directly or through a function. As a result, these modifications may be inadvertent. \n",
    "\n",
    "If we have a function called `reverse` that takes an iterable and reverses it, we need to make it clear to the caller that an in-place modification has taken place. How do we do that? **We should not return the object we modified if we are performing an in-place modification/mutation**."
   ]
  },
  {
   "cell_type": "code",
   "execution_count": 27,
   "metadata": {},
   "outputs": [],
   "source": [
    "# BAD, DON'T DO THIS\n",
    "\n",
    "def reverse(s):\n",
    "    s.reverse()\n",
    "    return s\n",
    "\n",
    "# BETTER BUT BEST NOT TO DO IN-PLACE IN THE FIRST PLACE\n",
    "\n",
    "def reverse(s):\n",
    "    s.reverse()\n",
    "    \n",
    "# BEST \n",
    "\n",
    "def reverse(s):\n",
    "    # s2 = <some copy>  any copy approach like s[::-1]\n",
    "    s2.reverse()\n",
    "    return s2"
   ]
  },
  {
   "cell_type": "markdown",
   "metadata": {},
   "source": [
    "Now for copying, there are five methods, each of which will create a new memory address for the list, **but the memory addresses of the elements will point to the  memory address of the original list's elements.\n",
    "\n",
    "**These five are all shallow copy methods. They copy the object references from one sequence to another.**"
   ]
  },
  {
   "cell_type": "code",
   "execution_count": 29,
   "metadata": {},
   "outputs": [],
   "source": [
    "s = [10, 20, 30]"
   ]
  },
  {
   "cell_type": "markdown",
   "metadata": {},
   "source": [
    "**Simple loop**"
   ]
  },
  {
   "cell_type": "code",
   "execution_count": 30,
   "metadata": {},
   "outputs": [],
   "source": [
    "cp = []\n",
    "for e in s:\n",
    "    cp.append(e)"
   ]
  },
  {
   "cell_type": "markdown",
   "metadata": {},
   "source": [
    "**List comprehension: (identical to the above)**"
   ]
  },
  {
   "cell_type": "code",
   "execution_count": 31,
   "metadata": {},
   "outputs": [],
   "source": [
    "cp = [e for e in s]"
   ]
  },
  {
   "cell_type": "markdown",
   "metadata": {},
   "source": [
    "**Copy method: (only implemented for mutable types like lists, NOT immutables like tuples or strings**"
   ]
  },
  {
   "cell_type": "code",
   "execution_count": 32,
   "metadata": {},
   "outputs": [],
   "source": [
    "cp = s.copy()"
   ]
  },
  {
   "cell_type": "markdown",
   "metadata": {},
   "source": [
    "**Slicing:**"
   ]
  },
  {
   "cell_type": "code",
   "execution_count": 33,
   "metadata": {},
   "outputs": [],
   "source": [
    "cp = s[:]"
   ]
  },
  {
   "cell_type": "markdown",
   "metadata": {},
   "source": [
    "**list:**"
   ]
  },
  {
   "cell_type": "code",
   "execution_count": 34,
   "metadata": {},
   "outputs": [],
   "source": [
    "cp = list(s)"
   ]
  },
  {
   "cell_type": "markdown",
   "metadata": {},
   "source": [
    "Just a reminder that `tuple_2 = tuple(tuple_1)` and `tuple_2 = tuple_1[:]` **do not create a new tuple with a new memory address - we just add another pointer to the same tuple**. \n",
    "\n",
    "So, `id(tuple_1) = id(tuple_2)`."
   ]
  },
  {
   "cell_type": "markdown",
   "metadata": {},
   "source": [
    "For all of these methods, if we mutate the **list** in the copy, it has no impact on the original. But, if we mutate the **element**, then it will have an impact on the original. This is only possible if the element is a mutable such as a list."
   ]
  },
  {
   "cell_type": "code",
   "execution_count": 35,
   "metadata": {},
   "outputs": [
    {
     "name": "stdout",
     "output_type": "stream",
     "text": [
      "[[10, 20], [30, 40]]\n",
      "['python', [30, 40]]\n"
     ]
    }
   ],
   "source": [
    "s = [ [10, 20], [30, 40] ]\n",
    "cp = s.copy()\n",
    "\n",
    "cp[0] = 'python' # THIS IS A MUTATION OF THE LIST/CONTAINER, NOT OF THE ELEMENT, THEREFORE ORIGINAL UNIMPACTED.\n",
    "\n",
    "print(s)\n",
    "print(cp)"
   ]
  },
  {
   "cell_type": "code",
   "execution_count": 36,
   "metadata": {},
   "outputs": [
    {
     "name": "stdout",
     "output_type": "stream",
     "text": [
      "[[10, 20], [100, 40]]\n",
      "[[10, 20], [100, 40]]\n"
     ]
    }
   ],
   "source": [
    "s = [ [10, 20], [30, 40] ]\n",
    "cp = s.copy()\n",
    "\n",
    "cp[1][0] = 100 # THIS IS A MUTATION OF THE ELEMENT, THEREFORE ORIGINAL IMPACTED\n",
    "\n",
    "print(s)\n",
    "print(cp)"
   ]
  },
  {
   "cell_type": "markdown",
   "metadata": {},
   "source": [
    "This effect occurred because we copied the **object reference**, not the object itself. "
   ]
  },
  {
   "cell_type": "markdown",
   "metadata": {},
   "source": [
    "![2.2.png](s2-images/2.2.png)"
   ]
  },
  {
   "cell_type": "markdown",
   "metadata": {},
   "source": [
    "Below, if we did either `s[0][0] = 100` or `cp[0][0] = 100`, we would be modifying the objects. We do nothing to `s` and `cp` themselves."
   ]
  },
  {
   "attachments": {},
   "cell_type": "markdown",
   "metadata": {},
   "source": [
    "![2.3.png](s2-images/2.3.png)"
   ]
  },
  {
   "cell_type": "markdown",
   "metadata": {},
   "source": [
    "**Partial Deep copies**\n",
    "\n",
    "This gives us a way of copying the objects as opposed to the object references.\n",
    "\n",
    "How do we understand a deep copy approach like:"
   ]
  },
  {
   "cell_type": "code",
   "execution_count": null,
   "metadata": {},
   "outputs": [],
   "source": [
    "s = [ [0, 0], [0, 0] ]\n",
    "     \n",
    "cp = [e.copy() for e in s]"
   ]
  },
  {
   "cell_type": "markdown",
   "metadata": {},
   "source": [
    "When we take each element `e` in `s`, we don't just put it into `cp` - this would copy the object reference. Instead we make a copy of the object and put that into `cp`."
   ]
  },
  {
   "cell_type": "markdown",
   "metadata": {},
   "source": [
    "![2.4.png](s2-images/2.4.png)"
   ]
  },
  {
   "cell_type": "markdown",
   "metadata": {},
   "source": [
    "Why is it a partial deep copy instead of a deep copy? Because `e.copy()` is performing a shallow copy. "
   ]
  },
  {
   "cell_type": "markdown",
   "metadata": {},
   "source": [
    "![2.5.png](s2-images/2.5.png)"
   ]
  },
  {
   "cell_type": "markdown",
   "metadata": {},
   "source": [
    "In the above, if we took our `cp = [e.copy() for e in s]` approach, we would perform a shallow copy on the two objects indicated by the yellow line (not orange or white). In doing so, we return to the original problem. So, we want to copy the elements indicated by the white lines too. \n",
    "\n",
    "This is why we need a recursive approach. But, in this case we don't need to go any further with recursion because the elements in these objects (`[0, 1]` for example) are immutable (the `0` and `1` are immutable)."
   ]
  },
  {
   "cell_type": "markdown",
   "metadata": {},
   "source": [
    "To break down the steps in the above image, we first start with `cp = [e.copy() for e in s]`.\n",
    "\n",
    "Then, `e = [ [0, 1], [2, 3] ]` initially. \n",
    "\n",
    "Then, `e.copy()` will take the container denoted by `e` and create an identical empty structure. Then, the **pointers** to each of `e`'s elements, first `[0, 1]` and then `[2, 3]` will be copied. These elements and their memory addresses were created when we first initialised `s`. So, when we wish to modify `[0, 1]` using `cp`, we will be using a pointer to get to the original element, as opposed to a pointer to a copied version of `[0, 1]`."
   ]
  },
  {
   "cell_type": "code",
   "execution_count": 46,
   "metadata": {},
   "outputs": [
    {
     "data": {
      "text/plain": [
       "[[[0, 1], [2, 3]], [[4, 5], [6, 7]]]"
      ]
     },
     "execution_count": 46,
     "metadata": {},
     "output_type": "execute_result"
    }
   ],
   "source": [
    "s = [ [ [0, 1], [2, 3] ], [ [4, 5], [6, 7] ] ]\n",
    "\n",
    "cp = [e.copy() for e in s]\n",
    "\n",
    "cp"
   ]
  },
  {
   "cell_type": "code",
   "execution_count": 47,
   "metadata": {},
   "outputs": [
    {
     "name": "stdout",
     "output_type": "stream",
     "text": [
      "[[0, 1], [2, 3]]\n",
      "[0, 1]\n",
      "0\n"
     ]
    }
   ],
   "source": [
    "print(cp[0])\n",
    "print(cp[0][0])\n",
    "print(cp[0][0][0])\n",
    "\n",
    "cp[0][0][0] = 100"
   ]
  },
  {
   "cell_type": "code",
   "execution_count": 48,
   "metadata": {},
   "outputs": [
    {
     "name": "stdout",
     "output_type": "stream",
     "text": [
      "s=[[[100, 1], [2, 3]], [[4, 5], [6, 7]]]\n",
      "cp=[[[100, 1], [2, 3]], [[4, 5], [6, 7]]]\n"
     ]
    }
   ],
   "source": [
    "print(f'{s=}')\n",
    "print(f'{cp=}')"
   ]
  },
  {
   "cell_type": "markdown",
   "metadata": {},
   "source": [
    "Again, compare that with what we did before (see below). As we see at the end, `cp` was modified but `s` was untouched."
   ]
  },
  {
   "cell_type": "code",
   "execution_count": 49,
   "metadata": {},
   "outputs": [
    {
     "data": {
      "text/plain": [
       "[[0, 1], [2, 3]]"
      ]
     },
     "execution_count": 49,
     "metadata": {},
     "output_type": "execute_result"
    }
   ],
   "source": [
    "s = [ [0, 1], [2, 3] ]\n",
    "\n",
    "cp = [e.copy() for e in s]\n",
    "\n",
    "cp"
   ]
  },
  {
   "cell_type": "code",
   "execution_count": 50,
   "metadata": {},
   "outputs": [
    {
     "name": "stdout",
     "output_type": "stream",
     "text": [
      "[0, 1]\n",
      "0\n"
     ]
    }
   ],
   "source": [
    "print(cp[0])\n",
    "print(cp[0][0])\n",
    "\n",
    "cp[0][0] = 100"
   ]
  },
  {
   "cell_type": "code",
   "execution_count": 51,
   "metadata": {},
   "outputs": [
    {
     "name": "stdout",
     "output_type": "stream",
     "text": [
      "s=[[0, 1], [2, 3]]\n",
      "cp=[[100, 1], [2, 3]]\n"
     ]
    }
   ],
   "source": [
    "print(f'{s=}')\n",
    "print(f'{cp=}')"
   ]
  },
  {
   "cell_type": "markdown",
   "metadata": {},
   "source": [
    "I think an important takeaway is that `.copy()` on an iterable creates an identical container whose elements point towards the memory address of the original container's elements. We don't look any further."
   ]
  },
  {
   "cell_type": "markdown",
   "metadata": {},
   "source": [
    "Deep copies can get messy very quickly when handling nested objects and circular references. Consider the infinite recursion that will occur in the example below."
   ]
  },
  {
   "cell_type": "code",
   "execution_count": 66,
   "metadata": {},
   "outputs": [
    {
     "data": {
      "text/plain": [
       "[[10, 20, [...]], 30]"
      ]
     },
     "execution_count": 66,
     "metadata": {},
     "output_type": "execute_result"
    }
   ],
   "source": [
    "a = [10, 20]\n",
    "b = [a, 30]\n",
    "a.append(b)\n",
    "a[2][0][2][0][2][0][2][0][2][0][2][0][2][0][2][0][2][0][2][0][2][0][2][0][2][0][2][0][2][0][2] # this can go on forever"
   ]
  },
  {
   "cell_type": "markdown",
   "metadata": {},
   "source": [
    "The standard library **copy** has generic copy and deepcopy operations. We also have the dunder classes `__copy__` and `__deepcopy__` to override how copying works ourselves."
   ]
  },
  {
   "cell_type": "markdown",
   "metadata": {},
   "source": [
    "Here's an example with classes. It works as we expect."
   ]
  },
  {
   "attachments": {},
   "cell_type": "markdown",
   "metadata": {},
   "source": [
    "![2.6.png](s2-images/2.6.png)"
   ]
  },
  {
   "cell_type": "markdown",
   "metadata": {},
   "source": [
    "Here's a more complicated example:"
   ]
  },
  {
   "attachments": {},
   "cell_type": "markdown",
   "metadata": {},
   "source": [
    "![2.7.png](s2-images/2.7.png)"
   ]
  },
  {
   "cell_type": "markdown",
   "metadata": {},
   "source": [
    "Do note that `y = MyClass(x)` means that `y.a` is a mutable object and that mutable object is the object `x`. (Classes are mutable objects.)\n",
    "\n",
    "The important thing to note is that Python intelligently understands that since there was a relationship between `y.a` and `x`, there should also be the same relationship between `cp_y.a` and `cp_x`."
   ]
  },
  {
   "cell_type": "markdown",
   "metadata": {},
   "source": [
    "Shallow and deep copies are not just for sequences. They're applicable to objects in general because objects can nest other objects. We demonstrated this with the classes above."
   ]
  },
  {
   "cell_type": "markdown",
   "metadata": {
    "tags": []
   },
   "source": [
    "# 05 - Slicing"
   ]
  },
  {
   "cell_type": "markdown",
   "metadata": {},
   "source": [
    "#### Lecture"
   ]
  },
  {
   "cell_type": "markdown",
   "metadata": {},
   "source": [
    "In the conventional notation `my_list[i:j]`, the slice definition is `i:j` and this is an object - in particular, a **slice** object. \n",
    "\n",
    "We can create our own identical object using the constructor: `s = slice(i, j)`. This has properties, `s.start` and `s.stop`. Our slice object can be used in substitution of our traditional literal."
   ]
  },
  {
   "cell_type": "code",
   "execution_count": 4,
   "metadata": {},
   "outputs": [
    {
     "name": "stdout",
     "output_type": "stream",
     "text": [
      "0\n",
      "2\n"
     ]
    }
   ],
   "source": [
    "l = [1, 2, 3, 4, 5]\n",
    "\n",
    "s = slice(0, 2)\n",
    "\n",
    "print(s.start)\n",
    "print(s.stop)"
   ]
  },
  {
   "cell_type": "code",
   "execution_count": 5,
   "metadata": {},
   "outputs": [
    {
     "data": {
      "text/plain": [
       "[1, 2]"
      ]
     },
     "execution_count": 5,
     "metadata": {},
     "output_type": "execute_result"
    }
   ],
   "source": [
    "l[s]"
   ]
  },
  {
   "cell_type": "markdown",
   "metadata": {},
   "source": [
    "It's important to recognise that in `l[3:100]` for example, the slice object `3:100` is independent of the list object `l`. We take the slice and apply it to the list. This is why we can specify slice boundaries that are larger than the list that they're being applied to."
   ]
  },
  {
   "cell_type": "markdown",
   "metadata": {},
   "source": [
    "When it comes to slicing, Python follows a set of rules. For a given list `l = ['a', 'b', 'c', 'd', 'e', 'f']` with slice indices `[i:j]`:\n",
    "\n",
    "- if `i > len(seq)` -> `len(seq)`\n",
    "- if `j > len(seq)` -> `len(seq)`\n",
    "\n",
    "- if `i < 0` -> `max(0, len(seq) + i)`\n",
    "- if `j < 0` -> `max(0, len(seq) + j)`\n",
    "\n",
    "For our example list above, if we wanted to determine `[-10, 3]`, since `i < 0`, we compute `max(0, len(seq) + i) = max(0, 6+-10) = max(0, -4) = 0` for our first index. For our second index, `j` is within range so we take its value. \n",
    "\n",
    "Thus, `[-10: 3] -> range(0, 3)`.\n",
    "\n",
    "For another example, if we wanted to determine `[-5, 3]`, since `i < 0`, we compute `max(0, len(seq) + i) = max(0, 6+-5) = max(0, 1) = 1` for our first index. For our second index, `j` is within range so we take its value. \n",
    "\n",
    "Thus, `[-5: 3] -> range(1, 3)`. \n",
    "\n",
    "This makes sense because the -5th index of a sequence with 6 objects is equivalent to the 1st index. \n"
   ]
  },
  {
   "cell_type": "markdown",
   "metadata": {},
   "source": [
    "The rules for transformations `[i:j:k]` are pretty intuitive, but you just have to be careful when `k < 0`. \n",
    "\n",
    "If you ever get confused, the **slice** object has a method called **indices** that returns the equivalent range with its start/stop/step for any slice (but as a tuple), **given the length** of the sequence being sliced.\n",
    "\n",
    "`slice(start, stop, step).indices(length)` -> `(start, stop, step)`."
   ]
  },
  {
   "cell_type": "code",
   "execution_count": 6,
   "metadata": {},
   "outputs": [
    {
     "data": {
      "text/plain": [
       "(5, 1, -1)"
      ]
     },
     "execution_count": 6,
     "metadata": {},
     "output_type": "execute_result"
    }
   ],
   "source": [
    "slice(10, -5, -1).indices(6)"
   ]
  },
  {
   "cell_type": "markdown",
   "metadata": {},
   "source": [
    "This is a tuple object. We can convert it into a range object by unpacking:"
   ]
  },
  {
   "cell_type": "code",
   "execution_count": 8,
   "metadata": {},
   "outputs": [
    {
     "data": {
      "text/plain": [
       "range(5, 1, -1)"
      ]
     },
     "execution_count": 8,
     "metadata": {},
     "output_type": "execute_result"
    }
   ],
   "source": [
    "range(*slice(10, -5, -1).indices(6))"
   ]
  },
  {
   "cell_type": "markdown",
   "metadata": {},
   "source": [
    "We can see the actual values in this range by converting it into a list:"
   ]
  },
  {
   "cell_type": "code",
   "execution_count": 11,
   "metadata": {},
   "outputs": [
    {
     "data": {
      "text/plain": [
       "[5, 4, 3, 2]"
      ]
     },
     "execution_count": 11,
     "metadata": {},
     "output_type": "execute_result"
    }
   ],
   "source": [
    "list(range(*slice(10, -5, -1).indices(6)))"
   ]
  },
  {
   "cell_type": "markdown",
   "metadata": {},
   "source": [
    "#### Coding"
   ]
  },
  {
   "cell_type": "markdown",
   "metadata": {},
   "source": [
    "A quick example where this may be useful is if you need to keep repeating the slice object. \n",
    "\n",
    "Here's the literal approach:"
   ]
  },
  {
   "cell_type": "code",
   "execution_count": 9,
   "metadata": {},
   "outputs": [],
   "source": [
    "data = []\n",
    "\n",
    "for row in data:\n",
    "    first_name = row[0:51]\n",
    "    last_name = row[51:100]\n",
    "    ssn = row[101:111]"
   ]
  },
  {
   "cell_type": "markdown",
   "metadata": {},
   "source": [
    "And here's the constructor approach. You could keep these slice definitions at the top of your file so it's easy to find and modify."
   ]
  },
  {
   "cell_type": "code",
   "execution_count": 10,
   "metadata": {},
   "outputs": [],
   "source": [
    "range_first_name = slice(0, 51)\n",
    "range_last_name = slice(51, 101)\n",
    "range_ssn = slice(101, 111)\n",
    "\n",
    "for row in data:\n",
    "    first_name = row[range_first_name]\n",
    "    last_name = row[range_last_name]\n",
    "    ssn = row[range_ssn]"
   ]
  },
  {
   "cell_type": "markdown",
   "metadata": {},
   "source": [
    "# 06 - Custom Sequences - Part 1"
   ]
  },
  {
   "cell_type": "markdown",
   "metadata": {},
   "source": [
    "#### Lecture"
   ]
  },
  {
   "cell_type": "markdown",
   "metadata": {},
   "source": [
    "We're going to be creating our own sequence types. For part 1, we'll focus on immutable sequence types only. At it's most basic, an immutable sequence type should support two things:\n",
    "\n",
    "- returning the **length** of the sequence,\n",
    "- given an **index**, return the element at that index.\n",
    "\n",
    "If an object provides this functionality, then in theory we should be able to:\n",
    "\n",
    "- retrieve elements **by index** using square brackets `[]`,\n",
    "- **iterate** through the elements using Python's native looping mechanisms such as `for` loops, list comprehensions, etc."
   ]
  },
  {
   "cell_type": "markdown",
   "metadata": {},
   "source": [
    "**How does Python do it?** \n",
    "\n",
    "The sequence types must at the minimum implement:\n",
    "\n",
    "- `__len__`: We'll find out that this is not necessary but still recommended\n",
    "- `__getitem__`: This is the main one for taking a single integer argument - the index. However, it may also choose to handle a **slice** type argument. We decide.\n"
   ]
  },
  {
   "cell_type": "markdown",
   "metadata": {},
   "source": [
    "#### The `__getitem__` method"
   ]
  },
  {
   "cell_type": "markdown",
   "metadata": {},
   "source": [
    "**This method should return an element of the sequence based on the specified index or raise an `IndexError` exception if the index is out of bounds.**\n",
    "\n",
    "If we implement these **two** things then Python can actually utilise our `__getitem__` method to iterate through our sequence, e.g. by using the `for` loop.\n",
    "\n",
    "(We may choose to support negative indices and slices but this is optional.)\n",
    "\n",
    "Python's `list` already supports `__getitem__` as an equivalent approach to the `[]`. Negative indices are valid so long as they are not out of bounds."
   ]
  },
  {
   "cell_type": "code",
   "execution_count": 18,
   "metadata": {},
   "outputs": [
    {
     "name": "stdout",
     "output_type": "stream",
     "text": [
      "a\n",
      "['a', 'c', 'e']\n",
      "f\n"
     ]
    }
   ],
   "source": [
    "my_list = ['a', 'b', 'c', 'd', 'e', 'f']\n",
    "\n",
    "print(my_list.__getitem__(0))\n",
    "print(my_list.__getitem__(slice(0, 6, 2)))\n",
    "print(my_list.__getitem__(-1))"
   ]
  },
  {
   "cell_type": "markdown",
   "metadata": {},
   "source": [
    "This include the `IndexError`:"
   ]
  },
  {
   "cell_type": "code",
   "execution_count": 16,
   "metadata": {},
   "outputs": [
    {
     "ename": "IndexError",
     "evalue": "list index out of range",
     "output_type": "error",
     "traceback": [
      "\u001b[0;31m---------------------------------------------------------------------------\u001b[0m",
      "\u001b[0;31mIndexError\u001b[0m                                Traceback (most recent call last)",
      "\u001b[0;32m/tmp/ipykernel_3888/2288129030.py\u001b[0m in \u001b[0;36m<module>\u001b[0;34m\u001b[0m\n\u001b[0;32m----> 1\u001b[0;31m \u001b[0mprint\u001b[0m\u001b[0;34m(\u001b[0m\u001b[0mmy_list\u001b[0m\u001b[0;34m.\u001b[0m\u001b[0m__getitem__\u001b[0m\u001b[0;34m(\u001b[0m\u001b[0;36m100\u001b[0m\u001b[0;34m)\u001b[0m\u001b[0;34m)\u001b[0m\u001b[0;34m\u001b[0m\u001b[0;34m\u001b[0m\u001b[0m\n\u001b[0m",
      "\u001b[0;31mIndexError\u001b[0m: list index out of range"
     ]
    }
   ],
   "source": [
    "print(my_list.__getitem__(100))"
   ]
  },
  {
   "cell_type": "markdown",
   "metadata": {},
   "source": [
    "**How would we implement a `for` loop ourselves?**"
   ]
  },
  {
   "cell_type": "code",
   "execution_count": 19,
   "metadata": {},
   "outputs": [
    {
     "name": "stdout",
     "output_type": "stream",
     "text": [
      "1\n",
      "4\n",
      "9\n",
      "16\n",
      "25\n"
     ]
    }
   ],
   "source": [
    "my_list = [1, 2, 3, 4, 5]\n",
    "\n",
    "for item in my_list:\n",
    "    print(item**2)"
   ]
  },
  {
   "cell_type": "code",
   "execution_count": 21,
   "metadata": {},
   "outputs": [
    {
     "name": "stdout",
     "output_type": "stream",
     "text": [
      "1\n",
      "4\n",
      "9\n",
      "16\n",
      "25\n"
     ]
    }
   ],
   "source": [
    "my_list = [1, 2, 3, 4, 5]\n",
    "index = 0\n",
    "\n",
    "while True:\n",
    "    try:\n",
    "        item = my_list.__getitem__(index)\n",
    "    except IndexError:\n",
    "        break\n",
    "    \n",
    "    print(item**2)\n",
    "    index += 1"
   ]
  },
  {
   "cell_type": "markdown",
   "metadata": {},
   "source": [
    "The approach above of using `while True` paired with `except` is more Pythonic than something like `while index < len(our_sequence)`.\n",
    "\n",
    "When we implement `__getitem__` in our class, the `for` loop (or list comprehension) notation will function, where the `x` in `for x in sequence` will be passed to `__getitem__`. Again, it  will keep iterating until it hits an `IndexError`"
   ]
  },
  {
   "cell_type": "code",
   "execution_count": 31,
   "metadata": {},
   "outputs": [],
   "source": [
    "class Silly:\n",
    "    def __init__(self, n):\n",
    "        self.n = n\n",
    "        \n",
    "    def __getitem__(self, value): \n",
    "        print(f'{value=}')\n",
    "        \n",
    "        if value < 0 or value >= self.n:\n",
    "            raise IndexError\n",
    "        \n",
    "        else:\n",
    "            return 'This is a silly element'"
   ]
  },
  {
   "cell_type": "code",
   "execution_count": 32,
   "metadata": {},
   "outputs": [
    {
     "name": "stdout",
     "output_type": "stream",
     "text": [
      "value=0\n",
      "This is a silly element\n",
      "value=1\n",
      "This is a silly element\n",
      "value=2\n",
      "This is a silly element\n",
      "value=3\n"
     ]
    }
   ],
   "source": [
    "silly = Silly(3)\n",
    "\n",
    "for e in silly:\n",
    "    print(e)"
   ]
  },
  {
   "cell_type": "markdown",
   "metadata": {},
   "source": [
    "The small difference we notice with the list comprehension approach below is that the `__getitem__` is being called multiple times as the list is being built up, and then finally, the list object is returned. But of course, we won't normally have a `print` statement within the `__getitem__` method."
   ]
  },
  {
   "cell_type": "code",
   "execution_count": 34,
   "metadata": {},
   "outputs": [
    {
     "name": "stdout",
     "output_type": "stream",
     "text": [
      "value=0\n",
      "value=1\n",
      "value=2\n",
      "value=3\n"
     ]
    },
    {
     "data": {
      "text/plain": [
       "['This is a silly element',\n",
       " 'This is a silly element',\n",
       " 'This is a silly element']"
      ]
     },
     "execution_count": 34,
     "metadata": {},
     "output_type": "execute_result"
    }
   ],
   "source": [
    "[e for e in silly]"
   ]
  },
  {
   "cell_type": "markdown",
   "metadata": {},
   "source": [
    "**This object `silly` *is* a sequence**\n",
    "\n",
    "We can also use the slice notation such as `silly[0:5:2]` and Python will use the `__getitem__` method where the value is a `slice` object with the specified parameters. \n",
    "\n",
    "It won't work with our current setup because the line `if value < 0 or value >= self.n:` contains comparison operators which doesn't support slice objects of course. \n",
    "\n",
    "The appropriate approach is to check the instance/type of `value` and deal with it differently depending on whether it's a **slice** object or an integer. We'll demonstrate this below.\n",
    "\n",
    "Now let's work through a more practical example."
   ]
  },
  {
   "cell_type": "markdown",
   "metadata": {},
   "source": [
    "**Fibonacci Sequence Example**\n",
    "\n",
    "Here, we're going to implement our own Fibonacci sequence type and we want to support slicing.\n",
    "\n",
    "We'll make our sequence type bounded (i.e. we'll have to specify the size of the sequence). But we are not going to pre-generate the entire sequence of Fibonacci numbers, we'll only generate the ones that are being requested as needed.\n",
    "\n",
    "So, when we create our object, we'll have to specify the maximum Fibonacci number that will be possible for this sequence (but we won't generate that value or any other Fibonacci value during the creation of the object). See below.\n",
    "\n",
    "```\n",
    "f = Fib(10)    # Creating our Fibonacci sequence that can generate up to 10 values.\n",
    "f[3:5]         # It can handle slices. In this case, return a list of the element 3 and 4 of the Fibonacci sequence (i.e. 4th and 5th).\n",
    "f[::-1]        # Return a list of all Fibonacci values in reverse order. In this case, the 10th value and below. \n",
    "```\n",
    "\n",
    "Here are the steps:\n",
    "\n",
    "\n",
    "1. First we'll need to handle requesting a single index e.g. `f[3]` for the 4th Fibonacci value. To do this, we just need `__getitem__` which will allow the `[]` notation. \n",
    "\n",
    "\n",
    "2. To actually calculate the nth Fibonacci number, we'll use memoisation as well (see lecture on decorators and memoisation if you need to refresh your memory on that).\n",
    "\n",
    "3. To be able to use `list(f)`, we need to raise an `IndexError` exception when the index is out of bounds as this is one of the two essential criteria for iterating through a sequence. \n",
    "\n",
    "4. We also need to remap negative indices (for example `-1` should correspond to the last element of the sequence, and so on). This is done with:     \n",
    "\n",
    "```\n",
    "if s < 0:\n",
    "    s = self._n + s\n",
    "```\n",
    "\n",
    "5. Now let's handle slice requests. If you recall from Section 05 - Slicing, you might think it to be difficult to implement all those rules. But remember, the slice method `indices(<length of sequence>)` returns a tuple of 3 values which correspond to the equivalent start, stop and step values. These can be converted into a range object which we can iterate through, e.g. using a list comprehension or a 'for' loop, computing the corresponding Fibonacci value at each step. We can go further by generating the full list to show us which indices are going to be asked for.\n",
    "\n",
    "   For example:\n",
    "   \n",
    "   ```\n",
    "   my_slice = slice(2, -7, -2)          # When applied to a sequence s, it'd be equivalent to s[2:-7:-2]. Hard to see which indices we are requiring.\n",
    "\n",
    "   list(range(*my_slice.indices(6)))    # If we pass in the length of our sequence (6) then it outputs that we're asking for...\n",
    "   \n",
    "   > [2, 0]                             # ...index 2 and index 0. So find _fib(2) and then _fib(0), but we've not implemented this extra detail below.\n",
    "   ```\n",
    "   \n",
    "   We're done."
   ]
  },
  {
   "cell_type": "code",
   "execution_count": 27,
   "metadata": {},
   "outputs": [],
   "source": [
    "from functools import lru_cache\n",
    "\n",
    "class Fib:\n",
    "    def __init__(self, n):\n",
    "        self._n = n\n",
    "    \n",
    "    def __getitem__(self, s):\n",
    "        if isinstance(s, int):\n",
    "            # single item requested\n",
    "            if s < 0:\n",
    "                s = self._n + s\n",
    "            if s < 0 or s > self._n - 1:\n",
    "                raise IndexError\n",
    "            return self._fib(s)                                 # this is basically our 'else' statement.\n",
    "            \n",
    "        else:\n",
    "            # slice being requested\n",
    "            idx = s.indices(self._n)                            # the argument required for s.indices is the length of the sequence which is self._n\n",
    "            rng = range(*idx)                                   # This will create a range sequence object e.g. range(0, 10, 2), corresponding to the indices\n",
    "            return [self._fib(n) for n in rng]                  # in the Fibonacci sequence that we want.\n",
    "            \n",
    "    @staticmethod\n",
    "    @lru_cache(2**32)\n",
    "    def _fib(n):\n",
    "        if n < 2:\n",
    "            return 1\n",
    "        else:\n",
    "            return Fib._fib(n-1) + Fib._fib(n-2)"
   ]
  },
  {
   "cell_type": "code",
   "execution_count": 28,
   "metadata": {},
   "outputs": [
    {
     "name": "stdout",
     "output_type": "stream",
     "text": [
      "1\n",
      "55\n",
      "[1, 1, 2, 3, 5, 8, 13, 21, 34, 55]\n",
      "[1, 1, 2, 3, 5, 8, 13, 21, 34, 55]\n",
      "[2, 5, 13, 34]\n"
     ]
    }
   ],
   "source": [
    "f = Fib(10)\n",
    "\n",
    "print(f[0])\n",
    "print(f[9])\n",
    "print(list(f))\n",
    "print(list(item for item in f))\n",
    "print(f[2:9:2])"
   ]
  },
  {
   "cell_type": "markdown",
   "metadata": {},
   "source": [
    "**Sidenote:**\n",
    "\n",
    "A static method is bound to a class rather than the objects for that class. This means that a static method can be called without an object for that class. This also means that static methods cannot modify the state of an object as they are not bound to it.\n",
    "\n",
    "Static methods have a very clear use-case. When we need some functionality not w.r.t an Object but w.r.t the complete class, we make a method static. This is pretty much advantageous when we need to create Utility methods as they aren’t tied to an object lifecycle usually. Finally, note that in a static method, we don’t need the self to be passed as the first argument."
   ]
  },
  {
   "cell_type": "markdown",
   "metadata": {},
   "source": [
    "**Sidenote:**\n",
    "\n",
    "You may be wondering why the last line is `Fib._fib(n-1)` as opposed to `self._fib(n-1)` that we see in the `__getitem__` method. We could do it that way but things will start to look convoluted very quickly. For starters `def _fib(n)` will need to become `def _fib(self, n)`. Then, in `__getitem__`, `return self._fib(s)` will need to become `return self._fib(self, s)`. The code below is the version with these changes made.\n",
    "\n",
    "\n",
    "```python\n",
    "def __getitem__(self, s):\n",
    "    if isinstance(s, int):\n",
    "        # single item requested\n",
    "        if s < 0:\n",
    "            s = self._n + s\n",
    "        if s < 0 or s > self._n - 1:\n",
    "            raise IndexError\n",
    "                \n",
    "        return self._fib(self, s)  # this is basically our 'else' statement.\n",
    "    else:\n",
    "        # slice being requested\n",
    "        print(f'requesting [{s.start}:{s.stop}:{s.step}]')\n",
    "        idx = s.indices(self._n)  # the argument required for s.indices is the length of the sequence which is self._n\n",
    "        rng = range(*idx)\n",
    "        print(f'\\trange({idx[0]}, {idx[1]}, {idx[2]}) --> {list(rng)}')  # \\t is tab special character\n",
    "            \n",
    "@staticmethod\n",
    "@lru_cache(2**32)\n",
    "def _fib(self, n):\n",
    "    if n < 2:\n",
    "        return 1\n",
    "    else:\n",
    "        return self._fib(self, n-1) + self._fib(self, n-2)\n",
    "```"
   ]
  },
  {
   "cell_type": "markdown",
   "metadata": {},
   "source": [
    "One thing I want to point out here: we did not need to use inheritance! There was no need to inherit from another sequence type. All we really needed was to implement the `__getitem__` and `__len__` methods."
   ]
  },
  {
   "cell_type": "markdown",
   "metadata": {},
   "source": [
    "The other thing I want to mention, is that I would not use recursion for production purposes for a Fibonacci sequence, even with memoization - partly because of the cost of recursion and the limit to the recursion depth that is possible.\n",
    "\n",
    "Also, when we look at generators, and more particularly generator expressions, we'll see better ways of doing this as well.\n",
    "\n",
    "I really wanted to show you a simple example of how to create your own sequence types."
   ]
  },
  {
   "cell_type": "markdown",
   "metadata": {},
   "source": [
    "# 07 - In-Place Concatenation and Repetition"
   ]
  },
  {
   "cell_type": "markdown",
   "metadata": {},
   "source": [
    "#### In-Place Concatenation"
   ]
  },
  {
   "cell_type": "markdown",
   "metadata": {},
   "source": [
    "We saw that using concatenation ended up creating a new sequence object:"
   ]
  },
  {
   "cell_type": "code",
   "execution_count": 36,
   "metadata": {},
   "outputs": [
    {
     "name": "stdout",
     "output_type": "stream",
     "text": [
      "id(l1)=140117538850368 (before concatenation) [1, 2, 3, 4]\n",
      "id(l2)=140117624613760 [5, 6]\n",
      "id(l1)=140117538861760 (after concatenation) [1, 2, 3, 4, 5, 6]\n"
     ]
    }
   ],
   "source": [
    "l1 = [1, 2, 3, 4]\n",
    "l2 = [5, 6]\n",
    "print(f'{id(l1)=} (before concatenation)', l1)\n",
    "print(f'{id(l2)=}', l2)\n",
    "\n",
    "l1  = l1 + l2 \n",
    "print(f'{id(l1)=} (after concatenation)', l1)"
   ]
  },
  {
   "cell_type": "markdown",
   "metadata": {},
   "source": [
    "But watch what happens when we use the in-place concatenation operator `+=:"
   ]
  },
  {
   "cell_type": "code",
   "execution_count": 37,
   "metadata": {},
   "outputs": [
    {
     "name": "stdout",
     "output_type": "stream",
     "text": [
      "id(l1)=140117538807616 (before concatenation) [1, 2, 3, 4]\n",
      "id(l2)=140117539448192 [5, 6]\n",
      "id(l1)=140117538807616 (after concatenation) [1, 2, 3, 4, 5, 6]\n"
     ]
    }
   ],
   "source": [
    "l1 = [1, 2, 3, 4]\n",
    "l2 = [5, 6]\n",
    "print(f'{id(l1)=} (before concatenation)', l1)\n",
    "print(f'{id(l2)=}', l2)\n",
    "\n",
    "l1 += l2 \n",
    "print(f'{id(l1)=} (after concatenation)', l1)"
   ]
  },
  {
   "cell_type": "markdown",
   "metadata": {},
   "source": [
    "**When using `+=` on an mutable object (that supports this operator), the object is mutated.**\n",
    "\n",
    "If we used a tuple instead of a list above, we have no other option but to create a new sequence object and store the concatenated data because tuples are not mutable."
   ]
  },
  {
   "cell_type": "markdown",
   "metadata": {},
   "source": [
    "Another point to note is that normally we cannot concatenate a list and a tuple."
   ]
  },
  {
   "cell_type": "code",
   "execution_count": 45,
   "metadata": {},
   "outputs": [
    {
     "ename": "TypeError",
     "evalue": "can only concatenate list (not \"tuple\") to list",
     "output_type": "error",
     "traceback": [
      "\u001b[0;31m---------------------------------------------------------------------------\u001b[0m",
      "\u001b[0;31mTypeError\u001b[0m                                 Traceback (most recent call last)",
      "\u001b[0;32m/tmp/ipykernel_3701/1697834321.py\u001b[0m in \u001b[0;36m<module>\u001b[0;34m\u001b[0m\n\u001b[1;32m      2\u001b[0m \u001b[0mt1\u001b[0m \u001b[0;34m=\u001b[0m \u001b[0;34m(\u001b[0m\u001b[0;36m5\u001b[0m\u001b[0;34m,\u001b[0m \u001b[0;36m6\u001b[0m\u001b[0;34m)\u001b[0m\u001b[0;34m\u001b[0m\u001b[0;34m\u001b[0m\u001b[0m\n\u001b[1;32m      3\u001b[0m \u001b[0;34m\u001b[0m\u001b[0m\n\u001b[0;32m----> 4\u001b[0;31m \u001b[0ml1\u001b[0m \u001b[0;34m=\u001b[0m \u001b[0ml1\u001b[0m \u001b[0;34m+\u001b[0m \u001b[0mt1\u001b[0m\u001b[0;34m\u001b[0m\u001b[0;34m\u001b[0m\u001b[0m\n\u001b[0m\u001b[1;32m      5\u001b[0m \u001b[0mprint\u001b[0m\u001b[0;34m(\u001b[0m\u001b[0ml1\u001b[0m\u001b[0;34m)\u001b[0m\u001b[0;34m\u001b[0m\u001b[0;34m\u001b[0m\u001b[0m\n",
      "\u001b[0;31mTypeError\u001b[0m: can only concatenate list (not \"tuple\") to list"
     ]
    }
   ],
   "source": [
    "l1 = [1, 2, 3, 4]\n",
    "t1 = (5, 6)\n",
    "\n",
    "l1 = l1 + t1\n",
    "print(l1)"
   ]
  },
  {
   "cell_type": "markdown",
   "metadata": {},
   "source": [
    "But we CAN do so **if we use the concatenation operator**. But this only works if we concatenate the mutable list with a tuple - we cannot concatenate the immutable tuple with a list, because the tuple is immutable."
   ]
  },
  {
   "cell_type": "code",
   "execution_count": 49,
   "metadata": {},
   "outputs": [
    {
     "name": "stdout",
     "output_type": "stream",
     "text": [
      "[1, 2, 3, 4, 5, 6]\n"
     ]
    }
   ],
   "source": [
    "l1 = [1, 2, 3, 4]\n",
    "t1 = (5, 6)\n",
    "\n",
    "l1 += t1\n",
    "print(l1)"
   ]
  },
  {
   "cell_type": "markdown",
   "metadata": {},
   "source": [
    "#### In-Place Repetition"
   ]
  },
  {
   "cell_type": "markdown",
   "metadata": {},
   "source": [
    "**The same is true for the `*=` operator.**"
   ]
  },
  {
   "cell_type": "code",
   "execution_count": 41,
   "metadata": {},
   "outputs": [
    {
     "name": "stdout",
     "output_type": "stream",
     "text": [
      "id(l1)=140117539326464 (before concatenation) [1, 2, 3, 4]\n",
      "id(l2)=140117539440000 [5, 6]\n",
      "id(l1)=140117539326464 (after concatenation) [1, 2, 3, 4, 1, 2, 3, 4]\n"
     ]
    }
   ],
   "source": [
    "l1 = [1, 2, 3, 4]\n",
    "l2 = [5, 6]\n",
    "print(f'{id(l1)=} (before concatenation)', l1)\n",
    "print(f'{id(l2)=}', l2)\n",
    "\n",
    "l1 *= 2\n",
    "print(f'{id(l1)=} (after concatenation)', l1)"
   ]
  },
  {
   "cell_type": "markdown",
   "metadata": {},
   "source": [
    "So the key takeaway from this section is that `a = a + b` is NOT equivalent to `a += b` if `a` is a mutable object; in the former, a new object is created and `a` points to it, and in the latter, `a` is modified as is."
   ]
  },
  {
   "cell_type": "markdown",
   "metadata": {},
   "source": [
    "# 08 - Assignments in Mutable Sequences"
   ]
  },
  {
   "cell_type": "markdown",
   "metadata": {},
   "source": [
    "#### Replacing"
   ]
  },
  {
   "cell_type": "markdown",
   "metadata": {},
   "source": [
    "Up until now we've used slicing to read elements from a sequence. But, as you know we can also replace the elements in a slice using assignment. Those elements need to be retrieved from any iterable e.g. tuple, set, etc.\n",
    "\n",
    "For regular slices (step size = 1, i.e. non-extended), the slice and iterable **need *not* be the same length**.\n",
    "\n",
    "This operation **performs a mutation**."
   ]
  },
  {
   "cell_type": "code",
   "execution_count": 52,
   "metadata": {},
   "outputs": [
    {
     "data": {
      "text/plain": [
       "[1, 10, 20, 30, 3, 4, 5]"
      ]
     },
     "execution_count": 52,
     "metadata": {},
     "output_type": "execute_result"
    }
   ],
   "source": [
    "l = [1, 2, 3, 4, 5]\n",
    "l[1:2] = (10, 20, 30)\n",
    "l"
   ]
  },
  {
   "cell_type": "markdown",
   "metadata": {},
   "source": [
    "For extended slices, the length of the slice and the length of the iterable we are setting on the RHS must have the **same length**:"
   ]
  },
  {
   "cell_type": "code",
   "execution_count": 54,
   "metadata": {
    "tags": []
   },
   "outputs": [],
   "source": [
    "l = [1, 2, 3, 4, 5]"
   ]
  },
  {
   "cell_type": "code",
   "execution_count": 57,
   "metadata": {},
   "outputs": [
    {
     "data": {
      "text/plain": [
       "[1, 3, 5]"
      ]
     },
     "execution_count": 57,
     "metadata": {},
     "output_type": "execute_result"
    }
   ],
   "source": [
    "l[::2]"
   ]
  },
  {
   "cell_type": "code",
   "execution_count": 58,
   "metadata": {},
   "outputs": [
    {
     "ename": "ValueError",
     "evalue": "attempt to assign sequence of size 2 to extended slice of size 3",
     "output_type": "error",
     "traceback": [
      "\u001b[1;31m---------------------------------------------------------------------------\u001b[0m",
      "\u001b[1;31mValueError\u001b[0m                                Traceback (most recent call last)",
      "\u001b[1;32m<ipython-input-58-10f1ccbf07ed>\u001b[0m in \u001b[0;36m<module>\u001b[1;34m()\u001b[0m\n\u001b[1;32m----> 1\u001b[1;33m \u001b[0ml\u001b[0m\u001b[1;33m[\u001b[0m\u001b[1;33m:\u001b[0m\u001b[1;33m:\u001b[0m\u001b[1;36m2\u001b[0m\u001b[1;33m]\u001b[0m \u001b[1;33m=\u001b[0m \u001b[1;33m[\u001b[0m\u001b[1;34m'a'\u001b[0m\u001b[1;33m,\u001b[0m \u001b[1;34m'b'\u001b[0m\u001b[1;33m]\u001b[0m\u001b[1;33m\u001b[0m\u001b[0m\n\u001b[0m",
      "\u001b[1;31mValueError\u001b[0m: attempt to assign sequence of size 2 to extended slice of size 3"
     ]
    }
   ],
   "source": [
    "l[::2] = ['a', 'b']"
   ]
  },
  {
   "cell_type": "markdown",
   "metadata": {},
   "source": [
    "In the last example, we are telling Python to replace the elements 1, 3 and 5. But we are only assigning two elements on the RHS. How will Python know where those two elements should go? Perhaps the 'a' should replace 1 and 'b' replace 3 and leave 5 as it is? That would be confusing so Python requires the same length on each side."
   ]
  },
  {
   "cell_type": "code",
   "execution_count": 56,
   "metadata": {},
   "outputs": [
    {
     "data": {
      "text/plain": [
       "['a', 2, 'b', 4, 'c']"
      ]
     },
     "execution_count": 56,
     "metadata": {},
     "output_type": "execute_result"
    }
   ],
   "source": [
    "l = [1, 2, 3, 4, 5]\n",
    "l[::2] = ['a', 'b', 'c']\n",
    "l"
   ]
  },
  {
   "cell_type": "markdown",
   "metadata": {},
   "source": [
    "#### Deleting"
   ]
  },
  {
   "cell_type": "markdown",
   "metadata": {},
   "source": [
    "Deleting is a special case of replacement. We just replace the element with an **empty** iterable. This only works for standard slicing - not extended slicing because that requires the iterable to have the same length. The problem with that is we can't assign, say, 3 empty iterables to replace out 3 non-contiguous elements (i.e. non-sequential elements)."
   ]
  },
  {
   "cell_type": "code",
   "execution_count": 60,
   "metadata": {},
   "outputs": [
    {
     "data": {
      "text/plain": [
       "[2, 3]"
      ]
     },
     "execution_count": 60,
     "metadata": {},
     "output_type": "execute_result"
    }
   ],
   "source": [
    "l = [1, 2, 3, 4, 5]\n",
    "l[1:3]"
   ]
  },
  {
   "cell_type": "code",
   "execution_count": 61,
   "metadata": {},
   "outputs": [
    {
     "data": {
      "text/plain": [
       "[1, 4, 5]"
      ]
     },
     "execution_count": 61,
     "metadata": {},
     "output_type": "execute_result"
    }
   ],
   "source": [
    "l[1:3] = []\n",
    "l"
   ]
  },
  {
   "cell_type": "markdown",
   "metadata": {},
   "source": [
    "The empty iterable we've assigned on the RHS is `[]` but we could've equivalently done `''` or `()` or `{}` if we wanted to."
   ]
  },
  {
   "cell_type": "code",
   "execution_count": 69,
   "metadata": {},
   "outputs": [
    {
     "name": "stdout",
     "output_type": "stream",
     "text": [
      "[1, 3, 5]\n"
     ]
    },
    {
     "ename": "ValueError",
     "evalue": "attempt to assign sequence of size 0 to extended slice of size 3",
     "output_type": "error",
     "traceback": [
      "\u001b[0;31m---------------------------------------------------------------------------\u001b[0m",
      "\u001b[0;31mValueError\u001b[0m                                Traceback (most recent call last)",
      "\u001b[0;32m/tmp/ipykernel_3701/3880459178.py\u001b[0m in \u001b[0;36m<module>\u001b[0;34m\u001b[0m\n\u001b[1;32m      2\u001b[0m \u001b[0mprint\u001b[0m\u001b[0;34m(\u001b[0m\u001b[0ml2\u001b[0m\u001b[0;34m[\u001b[0m\u001b[0;34m:\u001b[0m\u001b[0;34m:\u001b[0m\u001b[0;36m2\u001b[0m\u001b[0;34m]\u001b[0m\u001b[0;34m)\u001b[0m\u001b[0;34m\u001b[0m\u001b[0;34m\u001b[0m\u001b[0m\n\u001b[1;32m      3\u001b[0m \u001b[0;34m\u001b[0m\u001b[0m\n\u001b[0;32m----> 4\u001b[0;31m \u001b[0ml2\u001b[0m\u001b[0;34m[\u001b[0m\u001b[0;34m:\u001b[0m\u001b[0;34m:\u001b[0m\u001b[0;36m2\u001b[0m\u001b[0;34m]\u001b[0m \u001b[0;34m=\u001b[0m \u001b[0;34m[\u001b[0m\u001b[0;34m]\u001b[0m\u001b[0;34m\u001b[0m\u001b[0;34m\u001b[0m\u001b[0m\n\u001b[0m",
      "\u001b[0;31mValueError\u001b[0m: attempt to assign sequence of size 0 to extended slice of size 3"
     ]
    }
   ],
   "source": [
    "l2 = [1, 2, 3, 4, 5]\n",
    "print(l2[::2])\n",
    "\n",
    "l2[::2] = []"
   ]
  },
  {
   "cell_type": "markdown",
   "metadata": {},
   "source": [
    "#### Insertion"
   ]
  },
  {
   "cell_type": "markdown",
   "metadata": {},
   "source": [
    "The trick for inserting elements is that the slice must be empty and the RHS must contain an iterable. If the slice is not empty, then it will replace those elements as opposed to insert next to it, so it will no longer be considered insertion.\n",
    "\n",
    "Here's how we insert a string iterable `abc` at index 1."
   ]
  },
  {
   "cell_type": "code",
   "execution_count": 70,
   "metadata": {},
   "outputs": [
    {
     "name": "stdout",
     "output_type": "stream",
     "text": [
      "[]\n"
     ]
    },
    {
     "data": {
      "text/plain": [
       "[1, 'a', 'b', 'c', 2, 3, 4, 5]"
      ]
     },
     "execution_count": 70,
     "metadata": {},
     "output_type": "execute_result"
    }
   ],
   "source": [
    "l = [1, 2, 3, 4, 5]\n",
    "print(l[1:1])\n",
    "l[1:1] = 'abc'\n",
    "l"
   ]
  },
  {
   "cell_type": "markdown",
   "metadata": {},
   "source": [
    "Again, this won't work for extended slicing because insertion requires a single empty slice at a given location which is replaced by our iterable, whereas extended slicing will always give us a non-empty slice (unless we write something like `l[3:3:1]` but that's just a technicality - it's identical to `l[3:3]`)."
   ]
  },
  {
   "cell_type": "markdown",
   "metadata": {},
   "source": [
    "So a key takeaway for this section is that we can use regular slicing for replacing, deleting and inserting, and generally, the LHS and RHS **need not be the same length**. \n",
    "\n",
    "If we want to perform an operation on non-contiguous elements, then we'll have to use extended slicing to select those elements, but now the LHS and RHS **need to be the same length**. Since, inserting requires an empty slice on the LHS while deleting requires an empty slice on the RHS, these two operations are impossible using this approach."
   ]
  },
  {
   "cell_type": "markdown",
   "metadata": {},
   "source": [
    "# 09 - Custom Sequences - Part 2a"
   ]
  },
  {
   "cell_type": "markdown",
   "metadata": {},
   "source": [
    "We have seen before how we could define our own custom sequence type by implementing the `__len__` and `__getitem__` methods.\n",
    "\n",
    "Here we are going to look at how to implement:\n",
    "* concatenation (`+`) : same as `.__add__()`\n",
    "* in-place concatenation (`+=`) : same as `.__iadd__()`\n",
    "* repetition (`seq * n`); if Python runs into `TypeError`, it then tries the below with reversed args: same as `.__mul__()`\n",
    "* repetition reversed (`n * seq`) : same as `.__rmul__()`\n",
    "* in-place repetition (`*=`) : same as `.__rmul__()`\n",
    "* index assignment (`seq[i]=val`) : same as `.__setitem__()`\n",
    "* slice assignment (`seq[i:j]=iter` and `seq[i:j:k]=iter`) : same as `.__setitem__()`\n",
    "* del, : same as `.__delitem__()`\n",
    "* `<value> in <sequence>` : same as `__contains__()`\n",
    "* append, extend, pop : These are *not* special methods. If we want them, we just implement them as regular methods.\n",
    "\n",
    "Implementing these methods will **overload** the current operator methods with our method."
   ]
  },
  {
   "cell_type": "markdown",
   "metadata": {},
   "source": [
    "#### The `+` and `+=` Operators"
   ]
  },
  {
   "cell_type": "markdown",
   "metadata": {},
   "source": [
    "First we look at how we can overload the `+` and `+=` operators in a custom class in general. Then we'll look at how to use this in the context of sequences."
   ]
  },
  {
   "cell_type": "markdown",
   "metadata": {},
   "source": [
    "We use the special functions `__add__` and `__iadd__`.\n",
    "\n",
    "Just to see how those methods get called, we're actually going to implement them to just print out that they were called. As you can see, we can implement them however we want!"
   ]
  },
  {
   "cell_type": "code",
   "execution_count": 7,
   "metadata": {
    "tags": []
   },
   "outputs": [],
   "source": [
    "class MyClass:\n",
    "    def __init__(self, name):\n",
    "        self.name = name\n",
    "        \n",
    "    def __repr__(self):\n",
    "        return f'MyClass(name={self.name})'\n",
    "    \n",
    "    def __add__(self, other):\n",
    "        print(f'You called + on {self} and {other}')\n",
    "        return 'Hello from __add__'\n",
    "        \n",
    "    def __iadd__(self, other):\n",
    "        print(f'You called += on {self} and {other}')\n",
    "        return 'Hello from __iadd__'"
   ]
  },
  {
   "cell_type": "code",
   "execution_count": 8,
   "metadata": {
    "tags": []
   },
   "outputs": [],
   "source": [
    "c1 = MyClass('instance 1')\n",
    "c2 = MyClass('instance 2')"
   ]
  },
  {
   "cell_type": "code",
   "execution_count": 9,
   "metadata": {},
   "outputs": [
    {
     "name": "stdout",
     "output_type": "stream",
     "text": [
      "You called + on MyClass(name=instance 1) and MyClass(name=instance 2)\n"
     ]
    }
   ],
   "source": [
    "c3 = c1 + c2"
   ]
  },
  {
   "cell_type": "markdown",
   "metadata": {},
   "source": [
    "Let's try the in-place addition operator. We may expect mutation to occur and therefore, the id should stay the same."
   ]
  },
  {
   "cell_type": "code",
   "execution_count": 10,
   "metadata": {},
   "outputs": [
    {
     "name": "stdout",
     "output_type": "stream",
     "text": [
      "140528194484784\n",
      "You called += on MyClass(name=instance 1) and MyClass(name=instance 2)\n",
      "140528049348144\n",
      "Hello from __iadd__\n"
     ]
    }
   ],
   "source": [
    "print(id(c1))\n",
    "c1 += c2\n",
    "print(id(c1))\n",
    "print(c1)"
   ]
  },
  {
   "cell_type": "markdown",
   "metadata": {},
   "source": [
    "But it doesn't! That's because `c1` is now the string `\"Hello from __iadd__\"` which is a different object. So the special method `__iadd__` doesn't inherently impose this behaviour - we don't have to make it do that - but it's what everyone expects it to do so we should. The only behaviour that it imposes is allowing for `+=` functionality.\n",
    "\n",
    "So, `__add__` expects us to take two objects (typically of the same instance) and return a new object of the same instance. \n",
    "\n",
    "`__iadd__` expect us to take two objects and typically return the first object but mutated. So we're going to apply a change to the first object as opposed to creating a new instance altogether.\n",
    "\n",
    "How do we do these two things in code?"
   ]
  },
  {
   "cell_type": "code",
   "execution_count": 11,
   "metadata": {
    "tags": []
   },
   "outputs": [],
   "source": [
    "class MyClass:\n",
    "    def __init__(self, name):\n",
    "        self.name = name\n",
    "        \n",
    "    def __repr__(self):\n",
    "        return f'MyClass(name={self.name})'\n",
    "    \n",
    "    def __add__(self, other):\n",
    "        return MyClass(self.name + ' ' + other.name)\n",
    "        \n",
    "    def __iadd__(self, other):\n",
    "        self.name += ' ' + other.name   # Remember, this is NOT inplace concatenation / mutation \n",
    "                                        # because 'name' is a string which is immutable so Python is forced to create a new object.\n",
    "        return self\n",
    "        "
   ]
  },
  {
   "cell_type": "code",
   "execution_count": 12,
   "metadata": {
    "tags": []
   },
   "outputs": [],
   "source": [
    "c1 = MyClass('Eric')\n",
    "c2 = MyClass('Idle')"
   ]
  },
  {
   "cell_type": "code",
   "execution_count": 13,
   "metadata": {
    "collapsed": true,
    "jupyter": {
     "outputs_hidden": true
    }
   },
   "outputs": [],
   "source": [
    "c3 = c1 + c2"
   ]
  },
  {
   "cell_type": "code",
   "execution_count": 14,
   "metadata": {},
   "outputs": [
    {
     "data": {
      "text/plain": [
       "MyClass(name=Eric Idle)"
      ]
     },
     "execution_count": 14,
     "metadata": {},
     "output_type": "execute_result"
    }
   ],
   "source": [
    "c3"
   ]
  },
  {
   "cell_type": "markdown",
   "metadata": {},
   "source": [
    "These two methods are not restrictive (which is not necessarily an issue). All we require for the 2nd operand is that it has a property of `name` and is of a type that supports concatenation.\n",
    "\n",
    "Also, to emphasise once more, `__iadd__` will now have the ensure that the ID remains the same. This is because we return `self` (the original object) as opposed to `MyClass(self.name + other.name)`."
   ]
  },
  {
   "cell_type": "markdown",
   "metadata": {},
   "source": [
    "#### The `*` and `*=` Operators"
   ]
  },
  {
   "cell_type": "markdown",
   "metadata": {},
   "source": [
    "Just as easily we can overload the `*` and `*=` operators too, using the `__mul__` and `__imul__` methods."
   ]
  },
  {
   "cell_type": "code",
   "execution_count": 14,
   "metadata": {
    "tags": []
   },
   "outputs": [],
   "source": [
    "class MyClass:\n",
    "    def __init__(self, name):\n",
    "        self.name = name\n",
    "        \n",
    "    def __repr__(self):\n",
    "        return f'MyClass(name={self.name})'\n",
    "    \n",
    "    def __add__(self, other):\n",
    "        return MyClass(self.name + ' ' + other.name)\n",
    "        \n",
    "    def __iadd__(self, other):\n",
    "        self.name += ' ' + other.name\n",
    "        return self\n",
    "    \n",
    "    def __mul__(self, n):\n",
    "        return MyClass(self.name * n)\n",
    "        \n",
    "    def __imul__(self, n):\n",
    "        self.name *= n\n",
    "        return self"
   ]
  },
  {
   "cell_type": "code",
   "execution_count": 15,
   "metadata": {
    "tags": []
   },
   "outputs": [],
   "source": [
    "c1 = MyClass('Eric')"
   ]
  },
  {
   "cell_type": "code",
   "execution_count": 16,
   "metadata": {},
   "outputs": [
    {
     "data": {
      "text/plain": [
       "MyClass(name=EricEricEric)"
      ]
     },
     "execution_count": 16,
     "metadata": {},
     "output_type": "execute_result"
    }
   ],
   "source": [
    "c1 * 3"
   ]
  },
  {
   "cell_type": "code",
   "execution_count": 17,
   "metadata": {},
   "outputs": [
    {
     "name": "stdout",
     "output_type": "stream",
     "text": [
      "140528194484304 MyClass(name=Eric)\n",
      "140528194484304 MyClass(name=EricEricEric)\n"
     ]
    }
   ],
   "source": [
    "print(id(c1), c1)\n",
    "c1 *= 3\n",
    "print(id(c1), c1)"
   ]
  },
  {
   "cell_type": "markdown",
   "metadata": {},
   "source": [
    "What about multiplying an integer by the sequence?"
   ]
  },
  {
   "cell_type": "code",
   "execution_count": 25,
   "metadata": {},
   "outputs": [
    {
     "ename": "TypeError",
     "evalue": "unsupported operand type(s) for *: 'int' and 'MyClass'",
     "output_type": "error",
     "traceback": [
      "\u001b[1;31m---------------------------------------------------------------------------\u001b[0m",
      "\u001b[1;31mTypeError\u001b[0m                                 Traceback (most recent call last)",
      "\u001b[1;32m<ipython-input-25-30ca4f2f7860>\u001b[0m in \u001b[0;36m<module>\u001b[1;34m()\u001b[0m\n\u001b[0;32m      1\u001b[0m \u001b[0mc1\u001b[0m \u001b[1;33m=\u001b[0m \u001b[0mMyClass\u001b[0m\u001b[1;33m(\u001b[0m\u001b[1;34m'Monty'\u001b[0m\u001b[1;33m)\u001b[0m\u001b[1;33m\u001b[0m\u001b[0m\n\u001b[1;32m----> 2\u001b[1;33m \u001b[1;36m2\u001b[0m \u001b[1;33m*\u001b[0m \u001b[0mc1\u001b[0m\u001b[1;33m\u001b[0m\u001b[0m\n\u001b[0m",
      "\u001b[1;31mTypeError\u001b[0m: unsupported operand type(s) for *: 'int' and 'MyClass'"
     ]
    }
   ],
   "source": [
    "c1 = MyClass('Monty')\n",
    "2 * c1"
   ]
  },
  {
   "cell_type": "markdown",
   "metadata": {},
   "source": [
    "To handle this we need to implement the `__rmul__` method:"
   ]
  },
  {
   "cell_type": "code",
   "execution_count": 18,
   "metadata": {
    "tags": []
   },
   "outputs": [],
   "source": [
    "class MyClass:\n",
    "    def __init__(self, name):\n",
    "        self.name = name\n",
    "        \n",
    "    def __repr__(self):\n",
    "        return f'MyClass(name={self.name})'\n",
    "    \n",
    "    def __mul__(self, n):\n",
    "        return MyClass(self.name * n)\n",
    "    \n",
    "    def __rmul__(self, n):\n",
    "        return self.__mul__(n)"
   ]
  },
  {
   "cell_type": "code",
   "execution_count": 19,
   "metadata": {
    "tags": []
   },
   "outputs": [],
   "source": [
    "c1 = MyClass('Monty')"
   ]
  },
  {
   "cell_type": "code",
   "execution_count": 20,
   "metadata": {},
   "outputs": [
    {
     "data": {
      "text/plain": [
       "MyClass(name=MontyMonty)"
      ]
     },
     "execution_count": 20,
     "metadata": {},
     "output_type": "execute_result"
    }
   ],
   "source": [
    "2 * c1"
   ]
  },
  {
   "cell_type": "markdown",
   "metadata": {},
   "source": [
    "Python first tries `2.__mul__(c1)` and raises a `TypeError` at `self.name` = `2.name`, so it runs `__rmul__` with the arguments reversed. So, `self <=> n` and `return self.__mul__(n)` becomes `c1.__mul__(3)`, which works."
   ]
  },
  {
   "cell_type": "markdown",
   "metadata": {},
   "source": [
    "#### Implementing the `in` operator"
   ]
  },
  {
   "cell_type": "markdown",
   "metadata": {},
   "source": [
    "For this example, we'll want `in` to test if the something is contained in the name string of our class:"
   ]
  },
  {
   "cell_type": "code",
   "execution_count": 21,
   "metadata": {
    "tags": []
   },
   "outputs": [],
   "source": [
    "class MyClass:\n",
    "    def __init__(self, name):\n",
    "        self.name = name\n",
    "        \n",
    "    def __repr__(self):\n",
    "        return f'MyClass(name={self.name})'\n",
    "    \n",
    "    def __contains__(self, value):\n",
    "        return value in self.name"
   ]
  },
  {
   "cell_type": "code",
   "execution_count": 22,
   "metadata": {
    "tags": []
   },
   "outputs": [],
   "source": [
    "c1 = MyClass('MontyPython')"
   ]
  },
  {
   "cell_type": "code",
   "execution_count": 23,
   "metadata": {},
   "outputs": [
    {
     "data": {
      "text/plain": [
       "True"
      ]
     },
     "execution_count": 23,
     "metadata": {},
     "output_type": "execute_result"
    }
   ],
   "source": [
    "'ty' in c1"
   ]
  },
  {
   "cell_type": "markdown",
   "metadata": {},
   "source": [
    "# 10 - Custom Sequences - Part 2b_c"
   ]
  },
  {
   "cell_type": "markdown",
   "metadata": {},
   "source": [
    "For this example we'll re-use the Polygon class from a previous lecture on extending sequences.\n",
    "\n",
    "We are going to consider a polygon as nothing more than a collection of points (and we'll stick to a 2-dimensional space).\n",
    "\n",
    "So, we'll need a `Point` class, but we're going to use our own custom class instead of just using a named tuple.\n",
    "\n",
    "We do this because we want to enforce a rule that our Point co-ordinates will be real numbers. We would not be able to use a named tuple to do that and we could end up with points whose `x` and `y` coordinates could be of any type."
   ]
  },
  {
   "cell_type": "code",
   "execution_count": 2,
   "metadata": {},
   "outputs": [
    {
     "name": "stdout",
     "output_type": "stream",
     "text": [
      "10\n",
      "5\n"
     ]
    }
   ],
   "source": [
    "from collections import namedtuple\n",
    "\n",
    "Point = namedtuple('Point', 'x y')\n",
    "p1 = Point(10, 5)\n",
    "p2 = Point('abc', [1,2,3])          # We want to be able to prevent passing in the wrong type in our custom sequence\n",
    "\n",
    "x, y = p1                           # But, we would like this functionality of namedtuples in our custom sequence\n",
    "print(x)\n",
    "print(y)"
   ]
  },
  {
   "cell_type": "markdown",
   "metadata": {},
   "source": [
    "First we'll need to see how we can test if a type is a numeric real type.\n",
    "\n",
    "We can do this by using the numbers module."
   ]
  },
  {
   "cell_type": "code",
   "execution_count": 5,
   "metadata": {
    "tags": []
   },
   "outputs": [],
   "source": [
    "import numbers"
   ]
  },
  {
   "cell_type": "markdown",
   "metadata": {},
   "source": [
    "This module contains certain base types for numbers that we can use, such as Number, Real, Complex, etc."
   ]
  },
  {
   "cell_type": "code",
   "execution_count": 6,
   "metadata": {},
   "outputs": [
    {
     "name": "stdout",
     "output_type": "stream",
     "text": [
      "True\n",
      "True\n"
     ]
    }
   ],
   "source": [
    "print(isinstance(10, numbers.Number))\n",
    "print(isinstance(1+1j, numbers.Number))"
   ]
  },
  {
   "cell_type": "markdown",
   "metadata": {},
   "source": [
    "We will want our points to be real numbers only, so we can do it this way:"
   ]
  },
  {
   "cell_type": "code",
   "execution_count": 7,
   "metadata": {},
   "outputs": [
    {
     "data": {
      "text/plain": [
       "False"
      ]
     },
     "execution_count": 7,
     "metadata": {},
     "output_type": "execute_result"
    }
   ],
   "source": [
    "isinstance(1+1j, numbers.Real)"
   ]
  },
  {
   "cell_type": "markdown",
   "metadata": {},
   "source": [
    "So now let's write our Point class. We want it to have these properties:\n",
    "\n",
    "  1. The `x` and `y` coordinates should be real numbers only\n",
    "  2. Point instances should be a sequence type so that we can unpack it as needed in the same way we were able to unpack the values of a named tuple."
   ]
  },
  {
   "cell_type": "code",
   "execution_count": 8,
   "metadata": {
    "tags": []
   },
   "outputs": [],
   "source": [
    "class Point:\n",
    "    def __init__(self, x, y):\n",
    "        if isinstance(x, numbers.Real) and isinstance(y, numbers.Real):\n",
    "            self._pt = (x, y)\n",
    "        else:\n",
    "            raise TypeError('Point co-ordinates must be real numbers.')\n",
    "            \n",
    "    def __repr__(self):\n",
    "        return f'Point(x={self._pt[0]}, y={self._pt[1]})'\n",
    "    \n",
    "    def __len__(self):\n",
    "        return 2\n",
    "    \n",
    "    def __getitem__(self, s):\n",
    "        return self._pt[s]"
   ]
  },
  {
   "cell_type": "markdown",
   "metadata": {},
   "source": [
    "In `__getitem__(self, s)`, recall that `s` is the index or slice we provide in square brackets to the sequence: `sequence[s]`. You might think we'll need to worry about whether `s` is a value or a slice but we don't. Why?\n",
    "\n",
    "`self._pt` is a tuple. Tuples know how to index and slice/extended slice perfectly well. **We are *delegating* this request to the tuple**."
   ]
  },
  {
   "cell_type": "markdown",
   "metadata": {},
   "source": [
    "Let's use our point class and make sure it works as intended:"
   ]
  },
  {
   "cell_type": "code",
   "execution_count": 9,
   "metadata": {
    "tags": []
   },
   "outputs": [],
   "source": [
    "p = Point(1, 2)"
   ]
  },
  {
   "cell_type": "code",
   "execution_count": 10,
   "metadata": {},
   "outputs": [
    {
     "data": {
      "text/plain": [
       "Point(x=1, y=2)"
      ]
     },
     "execution_count": 10,
     "metadata": {},
     "output_type": "execute_result"
    }
   ],
   "source": [
    "p"
   ]
  },
  {
   "cell_type": "code",
   "execution_count": 11,
   "metadata": {},
   "outputs": [
    {
     "data": {
      "text/plain": [
       "2"
      ]
     },
     "execution_count": 11,
     "metadata": {},
     "output_type": "execute_result"
    }
   ],
   "source": [
    "len(p)"
   ]
  },
  {
   "cell_type": "code",
   "execution_count": 12,
   "metadata": {},
   "outputs": [
    {
     "data": {
      "text/plain": [
       "(1, 2)"
      ]
     },
     "execution_count": 12,
     "metadata": {},
     "output_type": "execute_result"
    }
   ],
   "source": [
    "p[0], p[1]"
   ]
  },
  {
   "cell_type": "markdown",
   "metadata": {},
   "source": [
    "The unpacking above **only** works because `p` is a custom sequence, and it's a custom sequence because of the `__getitem__` method. This unpacking is the same as the unpacking below, except we just assign them to variables."
   ]
  },
  {
   "cell_type": "code",
   "execution_count": 13,
   "metadata": {},
   "outputs": [],
   "source": [
    "x, y = p"
   ]
  },
  {
   "cell_type": "markdown",
   "metadata": {},
   "source": [
    "But why would we want to do this? This will allow us to take one point and unpack it into a new point. When we create a polygon class (which takes a series of xy points), we can just feed in our `Point` object (or we can feed in a regular 2-element list or tuple or any 2-element sequence for that matter).\n",
    "\n",
    "For example:"
   ]
  },
  {
   "cell_type": "code",
   "execution_count": 16,
   "metadata": {},
   "outputs": [
    {
     "data": {
      "text/plain": [
       "Point(x=10, y=5)"
      ]
     },
     "execution_count": 16,
     "metadata": {},
     "output_type": "execute_result"
    }
   ],
   "source": [
    "p2 = Point(*p1)\n",
    "p2"
   ]
  },
  {
   "cell_type": "markdown",
   "metadata": {},
   "source": [
    "Now, we can start creatiung our Polygon class, that will essentially be a mutable sequence of points making up the verteces of the polygon."
   ]
  },
  {
   "cell_type": "code",
   "execution_count": 17,
   "metadata": {
    "tags": []
   },
   "outputs": [],
   "source": [
    "class Polygon:\n",
    "    def __init__(self, *pts):\n",
    "        if pts:\n",
    "            self._pts = [Point(*pt) for pt in pts]  # if pt is already a Point object, we don't have to worry about dealing with it separately \n",
    "                                                    # since we implemented unpacking functionality\n",
    "        else:\n",
    "            self._pts = []\n",
    "            \n",
    "    def __repr__(self):\n",
    "        return f'Polygon({self._pts})'"
   ]
  },
  {
   "cell_type": "markdown",
   "metadata": {},
   "source": [
    "Let's try it and see if everything is as we expect:"
   ]
  },
  {
   "cell_type": "code",
   "execution_count": 18,
   "metadata": {
    "tags": []
   },
   "outputs": [],
   "source": [
    "p = Polygon((0,0), [1,1])"
   ]
  },
  {
   "cell_type": "code",
   "execution_count": 19,
   "metadata": {},
   "outputs": [
    {
     "data": {
      "text/plain": [
       "Polygon([Point(x=0, y=0), Point(x=1, y=1)])"
      ]
     },
     "execution_count": 19,
     "metadata": {},
     "output_type": "execute_result"
    }
   ],
   "source": [
    "p"
   ]
  },
  {
   "cell_type": "markdown",
   "metadata": {},
   "source": [
    "Now, to see if the `__repr__` is accurate, we should copy and paste it to see if it creates the expected object."
   ]
  },
  {
   "cell_type": "code",
   "execution_count": 20,
   "metadata": {},
   "outputs": [
    {
     "ename": "TypeError",
     "evalue": "Point co-ordinates must be real numbers.",
     "output_type": "error",
     "traceback": [
      "\u001b[0;31m---------------------------------------------------------------------------\u001b[0m",
      "\u001b[0;31mTypeError\u001b[0m                                 Traceback (most recent call last)",
      "\u001b[0;32m/tmp/ipykernel_5870/1031459139.py\u001b[0m in \u001b[0;36m<module>\u001b[0;34m\u001b[0m\n\u001b[0;32m----> 1\u001b[0;31m \u001b[0mPolygon\u001b[0m\u001b[0;34m(\u001b[0m\u001b[0;34m[\u001b[0m\u001b[0mPoint\u001b[0m\u001b[0;34m(\u001b[0m\u001b[0mx\u001b[0m\u001b[0;34m=\u001b[0m\u001b[0;36m0\u001b[0m\u001b[0;34m,\u001b[0m \u001b[0my\u001b[0m\u001b[0;34m=\u001b[0m\u001b[0;36m0\u001b[0m\u001b[0;34m)\u001b[0m\u001b[0;34m,\u001b[0m \u001b[0mPoint\u001b[0m\u001b[0;34m(\u001b[0m\u001b[0mx\u001b[0m\u001b[0;34m=\u001b[0m\u001b[0;36m1\u001b[0m\u001b[0;34m,\u001b[0m \u001b[0my\u001b[0m\u001b[0;34m=\u001b[0m\u001b[0;36m1\u001b[0m\u001b[0;34m)\u001b[0m\u001b[0;34m]\u001b[0m\u001b[0;34m)\u001b[0m\u001b[0;34m\u001b[0m\u001b[0;34m\u001b[0m\u001b[0m\n\u001b[0m",
      "\u001b[0;32m/tmp/ipykernel_5870/4031554939.py\u001b[0m in \u001b[0;36m__init__\u001b[0;34m(self, *pts)\u001b[0m\n\u001b[1;32m      2\u001b[0m     \u001b[0;32mdef\u001b[0m \u001b[0m__init__\u001b[0m\u001b[0;34m(\u001b[0m\u001b[0mself\u001b[0m\u001b[0;34m,\u001b[0m \u001b[0;34m*\u001b[0m\u001b[0mpts\u001b[0m\u001b[0;34m)\u001b[0m\u001b[0;34m:\u001b[0m\u001b[0;34m\u001b[0m\u001b[0;34m\u001b[0m\u001b[0m\n\u001b[1;32m      3\u001b[0m         \u001b[0;32mif\u001b[0m \u001b[0mpts\u001b[0m\u001b[0;34m:\u001b[0m\u001b[0;34m\u001b[0m\u001b[0;34m\u001b[0m\u001b[0m\n\u001b[0;32m----> 4\u001b[0;31m             \u001b[0mself\u001b[0m\u001b[0;34m.\u001b[0m\u001b[0m_pts\u001b[0m \u001b[0;34m=\u001b[0m \u001b[0;34m[\u001b[0m\u001b[0mPoint\u001b[0m\u001b[0;34m(\u001b[0m\u001b[0;34m*\u001b[0m\u001b[0mpt\u001b[0m\u001b[0;34m)\u001b[0m \u001b[0;32mfor\u001b[0m \u001b[0mpt\u001b[0m \u001b[0;32min\u001b[0m \u001b[0mpts\u001b[0m\u001b[0;34m]\u001b[0m\u001b[0;34m\u001b[0m\u001b[0;34m\u001b[0m\u001b[0m\n\u001b[0m\u001b[1;32m      5\u001b[0m         \u001b[0;32melse\u001b[0m\u001b[0;34m:\u001b[0m\u001b[0;34m\u001b[0m\u001b[0;34m\u001b[0m\u001b[0m\n\u001b[1;32m      6\u001b[0m             \u001b[0mself\u001b[0m\u001b[0;34m.\u001b[0m\u001b[0m_pts\u001b[0m \u001b[0;34m=\u001b[0m \u001b[0;34m[\u001b[0m\u001b[0;34m]\u001b[0m\u001b[0;34m\u001b[0m\u001b[0;34m\u001b[0m\u001b[0m\n",
      "\u001b[0;32m/tmp/ipykernel_5870/4031554939.py\u001b[0m in \u001b[0;36m<listcomp>\u001b[0;34m(.0)\u001b[0m\n\u001b[1;32m      2\u001b[0m     \u001b[0;32mdef\u001b[0m \u001b[0m__init__\u001b[0m\u001b[0;34m(\u001b[0m\u001b[0mself\u001b[0m\u001b[0;34m,\u001b[0m \u001b[0;34m*\u001b[0m\u001b[0mpts\u001b[0m\u001b[0;34m)\u001b[0m\u001b[0;34m:\u001b[0m\u001b[0;34m\u001b[0m\u001b[0;34m\u001b[0m\u001b[0m\n\u001b[1;32m      3\u001b[0m         \u001b[0;32mif\u001b[0m \u001b[0mpts\u001b[0m\u001b[0;34m:\u001b[0m\u001b[0;34m\u001b[0m\u001b[0;34m\u001b[0m\u001b[0m\n\u001b[0;32m----> 4\u001b[0;31m             \u001b[0mself\u001b[0m\u001b[0;34m.\u001b[0m\u001b[0m_pts\u001b[0m \u001b[0;34m=\u001b[0m \u001b[0;34m[\u001b[0m\u001b[0mPoint\u001b[0m\u001b[0;34m(\u001b[0m\u001b[0;34m*\u001b[0m\u001b[0mpt\u001b[0m\u001b[0;34m)\u001b[0m \u001b[0;32mfor\u001b[0m \u001b[0mpt\u001b[0m \u001b[0;32min\u001b[0m \u001b[0mpts\u001b[0m\u001b[0;34m]\u001b[0m\u001b[0;34m\u001b[0m\u001b[0;34m\u001b[0m\u001b[0m\n\u001b[0m\u001b[1;32m      5\u001b[0m         \u001b[0;32melse\u001b[0m\u001b[0;34m:\u001b[0m\u001b[0;34m\u001b[0m\u001b[0;34m\u001b[0m\u001b[0m\n\u001b[1;32m      6\u001b[0m             \u001b[0mself\u001b[0m\u001b[0;34m.\u001b[0m\u001b[0m_pts\u001b[0m \u001b[0;34m=\u001b[0m \u001b[0;34m[\u001b[0m\u001b[0;34m]\u001b[0m\u001b[0;34m\u001b[0m\u001b[0;34m\u001b[0m\u001b[0m\n",
      "\u001b[0;32m/tmp/ipykernel_5870/3263890172.py\u001b[0m in \u001b[0;36m__init__\u001b[0;34m(self, x, y)\u001b[0m\n\u001b[1;32m      4\u001b[0m             \u001b[0mself\u001b[0m\u001b[0;34m.\u001b[0m\u001b[0m_pt\u001b[0m \u001b[0;34m=\u001b[0m \u001b[0;34m(\u001b[0m\u001b[0mx\u001b[0m\u001b[0;34m,\u001b[0m \u001b[0my\u001b[0m\u001b[0;34m)\u001b[0m\u001b[0;34m\u001b[0m\u001b[0;34m\u001b[0m\u001b[0m\n\u001b[1;32m      5\u001b[0m         \u001b[0;32melse\u001b[0m\u001b[0;34m:\u001b[0m\u001b[0;34m\u001b[0m\u001b[0;34m\u001b[0m\u001b[0m\n\u001b[0;32m----> 6\u001b[0;31m             \u001b[0;32mraise\u001b[0m \u001b[0mTypeError\u001b[0m\u001b[0;34m(\u001b[0m\u001b[0;34m'Point co-ordinates must be real numbers.'\u001b[0m\u001b[0;34m)\u001b[0m\u001b[0;34m\u001b[0m\u001b[0;34m\u001b[0m\u001b[0m\n\u001b[0m\u001b[1;32m      7\u001b[0m \u001b[0;34m\u001b[0m\u001b[0m\n\u001b[1;32m      8\u001b[0m     \u001b[0;32mdef\u001b[0m \u001b[0m__repr__\u001b[0m\u001b[0;34m(\u001b[0m\u001b[0mself\u001b[0m\u001b[0;34m)\u001b[0m\u001b[0;34m:\u001b[0m\u001b[0;34m\u001b[0m\u001b[0;34m\u001b[0m\u001b[0m\n",
      "\u001b[0;31mTypeError\u001b[0m: Point co-ordinates must be real numbers."
     ]
    }
   ],
   "source": [
    "Polygon([Point(x=0, y=0), Point(x=1, y=1)])"
   ]
  },
  {
   "cell_type": "markdown",
   "metadata": {},
   "source": [
    "Our representation contains those square brackets which technically should not be there as the Polygon class `__init__` assumes multiple comma-separated arguments, not a single iterable.\n",
    "\n",
    "So we should fix that by taking each Point in the iterable, converting it into a string and append it to a list. Then join the list via `,` so that we get comma-separated arguments."
   ]
  },
  {
   "cell_type": "code",
   "execution_count": 21,
   "metadata": {
    "tags": []
   },
   "outputs": [],
   "source": [
    "class Polygon:\n",
    "    def __init__(self, *pts):\n",
    "        if pts:\n",
    "            self._pts = [Point(*pt) for pt in pts]\n",
    "        else:\n",
    "            self._pts = []\n",
    "            \n",
    "    def __repr__(self):\n",
    "        pts_str = ', '.join([str(pt) for pt in self._pts])\n",
    "        return f'Polygon({pts_str})'"
   ]
  },
  {
   "cell_type": "code",
   "execution_count": 22,
   "metadata": {},
   "outputs": [
    {
     "data": {
      "text/plain": [
       "Polygon(Point(x=0, y=0), Point(x=1, y=1))"
      ]
     },
     "execution_count": 22,
     "metadata": {},
     "output_type": "execute_result"
    }
   ],
   "source": [
    "p = Polygon((0,0), [1,1])\n",
    "p"
   ]
  },
  {
   "cell_type": "code",
   "execution_count": 25,
   "metadata": {},
   "outputs": [],
   "source": [
    "p2 = Polygon(Point(x=0, y=0), Point(x=1, y=1)) # Works, no errors"
   ]
  },
  {
   "cell_type": "markdown",
   "metadata": {},
   "source": [
    "So now we can start making our Polygon into a sequence type, by implementing methods such as `__len__` and `__getitem__`.\n",
    "\n",
    "Then we'll support concatenation with `__add__`. (We don't need to support repetition - it doesn't make sense with polygons.)"
   ]
  },
  {
   "cell_type": "code",
   "execution_count": 27,
   "metadata": {},
   "outputs": [],
   "source": [
    "class Polygon:\n",
    "    def __init__(self, *pts):\n",
    "        if pts:\n",
    "            self._pts = [Point(*pt) for pt in pts]\n",
    "        else:\n",
    "            self._pts = []\n",
    "            \n",
    "    def __repr__(self):\n",
    "        pts_str = ', '.join([str(pt) for pt in self._pts])\n",
    "        return f'Polygon({pts_str})'\n",
    "    \n",
    "    def __len__(self):\n",
    "        return len(self._pts)\n",
    "    \n",
    "    def __getitem__(self, s):\n",
    "        return self._pts[s]         # No need to worry whether s is an integer or a slice because _pts is a list \n",
    "                                    # and lists are sequences and sequences support indexing and slicing. We've delegated again.]\n",
    "    \n",
    "    def __add__(self, other):\n",
    "        if isinstance(other, Polygon):\n",
    "            new_pts = self._pts + other._pts\n",
    "            return Polygon(*new_pts)\n",
    "        else:\n",
    "            raise TypeError('can only concatenate with another Polygon')"
   ]
  },
  {
   "cell_type": "code",
   "execution_count": 28,
   "metadata": {},
   "outputs": [
    {
     "data": {
      "text/plain": [
       "Polygon(Point(x=0, y=0), Point(x=1, y=1), Point(x=2, y=2), Point(x=3, y=3))"
      ]
     },
     "execution_count": 28,
     "metadata": {},
     "output_type": "execute_result"
    }
   ],
   "source": [
    "p1 = Polygon((0,0), (1,1))\n",
    "p2 = Polygon((2,2), (3,3))\n",
    "\n",
    "new_polygon = p1 + p2\n",
    "new_polygon"
   ]
  },
  {
   "cell_type": "markdown",
   "metadata": {},
   "source": [
    "Now, let's add in-place concatenation. Remember, we need to mutate ourselves (`self`) by adding the points from the other point `other` and then **return ourselves (`self`)**."
   ]
  },
  {
   "cell_type": "code",
   "execution_count": 29,
   "metadata": {
    "tags": []
   },
   "outputs": [],
   "source": [
    "class Polygon:\n",
    "    def __init__(self, *pts):\n",
    "        if pts:\n",
    "            self._pts = [Point(*pt) for pt in pts]\n",
    "        else:\n",
    "            self._pts = []\n",
    "            \n",
    "    def __repr__(self):\n",
    "        pts_str = ', '.join([str(pt) for pt in self._pts])\n",
    "        return f'Polygon({pts_str})'\n",
    "    \n",
    "    def __len__(self):\n",
    "        return len(self._pts)\n",
    "    \n",
    "    def __getitem__(self, s):\n",
    "        return self._pts[s]\n",
    "    \n",
    "    def __add__(self, other):\n",
    "        if isinstance(other, Polygon):\n",
    "            new_pts = self._pts + other._pts\n",
    "            return Polygon(*new_pts)\n",
    "        else:\n",
    "            raise TypeError('can only concatenate with another Polygon')\n",
    "            \n",
    "    def __iadd__(self, pt):\n",
    "        if isinstance(pt, Polygon):\n",
    "            self._pts = self._pts + pt._pts   # THIS IS NOT IN-PLACE CONCATENATION; self._pts on the LHS will be a new object, but that's okay!\n",
    "            return self\n",
    "        else:\n",
    "            raise TypeError('can only concatenate with another Polygon')"
   ]
  },
  {
   "cell_type": "markdown",
   "metadata": {},
   "source": [
    "You'll notice that in `__iadd__` we have: `self._pts = self._pts + pt._pts` instead of `self._pts += pt._pts`. That's because we don't care if we `self._pts` gets a new memory address or not - we only want to ensure that the memory address of the object `self` stays the same."
   ]
  },
  {
   "cell_type": "code",
   "execution_count": 32,
   "metadata": {},
   "outputs": [
    {
     "name": "stdout",
     "output_type": "stream",
     "text": [
      "id(p1)=139642594553872\n",
      "id(p1)=139642594553872\n"
     ]
    }
   ],
   "source": [
    "p1 = Polygon((0,0), (1,1))\n",
    "p2 = Polygon((2,2), (3,3))\n",
    "\n",
    "print(f'{id(p1)=}')\n",
    "p1 += p2                # Equivalent to p1 = p1.__iadd__(p2)\n",
    "print(f'{id(p1)=}')"
   ]
  },
  {
   "cell_type": "markdown",
   "metadata": {},
   "source": [
    "But what we can't do yet is concatenate with anything that appears like a point, such as a list or tuple with 2 elements."
   ]
  },
  {
   "cell_type": "code",
   "execution_count": 75,
   "metadata": {
    "collapsed": true,
    "jupyter": {
     "outputs_hidden": true
    }
   },
   "outputs": [],
   "source": [
    "p1 = Polygon((0,0), (1,1))\n",
    "p1 += [(2,2), (3,3)]"
   ]
  },
  {
   "cell_type": "markdown",
   "metadata": {},
   "source": [
    "To fix this, we need to rewrite our `__iadd__` to not include the `if isinstance(pt, Polygon)`. Then, if the `other` is a Polygon, we deal with it as we have above. \n",
    "\n",
    "But, if it's an iterable, we'll need to take each point in the iterable and unpack its 2 elements into a `Point` object. If those elements are not real numbers, our `Point` class should catch it.\n",
    "\n",
    "For example:\n",
    "\n",
    "`[(3,3), (4,4)]` --> `[Point(3,3), Point(4,4)]`"
   ]
  },
  {
   "cell_type": "code",
   "execution_count": 41,
   "metadata": {
    "tags": []
   },
   "outputs": [],
   "source": [
    "class Polygon:\n",
    "    def __init__(self, *pts):\n",
    "        if pts:\n",
    "            self._pts = [Point(*pt) for pt in pts]\n",
    "        else:\n",
    "            self._pts = []\n",
    "            \n",
    "    def __repr__(self):\n",
    "        pts_str = ', '.join([str(pt) for pt in self._pts])\n",
    "        return f'Polygon({pts_str})'\n",
    "    \n",
    "    def __len__(self):\n",
    "        return len(self._pts)\n",
    "    \n",
    "    def __getitem__(self, s):\n",
    "        return self._pts[s]\n",
    "    \n",
    "    def __add__(self, pt):\n",
    "        if isinstance(pt, Polygon):\n",
    "            new_pts = self._pts + pt._pts\n",
    "            return Polygon(*new_pts)\n",
    "        else:\n",
    "            raise TypeError('can only concatenate with another Polygon')\n",
    "            \n",
    "    def __iadd__(self, pts):\n",
    "        if isinstance(pts, Polygon):\n",
    "            self._pts = self._pts + pts._pts\n",
    "        else:\n",
    "            # assume we are being passed an iterable containing Points\n",
    "            # or something compatible with Points\n",
    "            points = [Point(*pt) for pt in pts]\n",
    "            self._pts = self._pts + points\n",
    "        return self"
   ]
  },
  {
   "cell_type": "code",
   "execution_count": 42,
   "metadata": {
    "tags": []
   },
   "outputs": [],
   "source": [
    "p1 = Polygon((0,0), (1,1))\n",
    "p1 += [(2,2), (3,3), Point(5,5), {3,4}]"
   ]
  },
  {
   "cell_type": "markdown",
   "metadata": {},
   "source": [
    "Now, let's implement `append`, `insert` and `extend`. \n",
    "\n",
    "Remember, these are not special methods. But, everyone expects them to behave in a particular way so we should replicate that. \n",
    "\n",
    "For example, the method `extend` generally does a mutation and **has no return**. \n",
    "\n",
    "In fact, **`extend` is identical to `__iadd__` except that it has no return, so we can refactor our code to reflect this** We do this by making `__iadd__` use our `extend` method but just return the outcome."
   ]
  },
  {
   "cell_type": "code",
   "execution_count": 44,
   "metadata": {},
   "outputs": [],
   "source": [
    "class Polygon:\n",
    "    def __init__(self, *pts):\n",
    "        if pts:\n",
    "            self._pts = [Point(*pt) for pt in pts]\n",
    "        else:\n",
    "            self._pts = []\n",
    "            \n",
    "    def __repr__(self):\n",
    "        pts_str = ', '.join([str(pt) for pt in self._pts])\n",
    "        return f'Polygon({pts_str})'\n",
    "    \n",
    "    def __len__(self):\n",
    "        return len(self._pts)\n",
    "    \n",
    "    def __getitem__(self, s):\n",
    "        return self._pts[s]\n",
    "    \n",
    "    def __add__(self, pt):\n",
    "        if isinstance(pt, Polygon):\n",
    "            new_pts = self._pts + pt._pts\n",
    "            return Polygon(*new_pts)\n",
    "        else:\n",
    "            raise TypeError('can only concatenate with another Polygon')\n",
    "\n",
    "    def append(self, pt):\n",
    "        self._pts.append(Point(*pt))\n",
    "        \n",
    "    def extend(self, pts):\n",
    "        if isinstance(pts, Polygon):\n",
    "            self._pts = self._pts + pts._pts\n",
    "        else:\n",
    "            # assume we are being passed an iterable containing Points\n",
    "            # or something compatible with Points\n",
    "            points = [Point(*pt) for pt in pts]\n",
    "            self._pts = self._pts + points\n",
    "    \n",
    "    def __iadd__(self, pts):\n",
    "        self.extend(pts)\n",
    "        return self\n",
    "    \n",
    "    def insert(self, i, pt):\n",
    "        self._pts.insert(i, Point(*pt))"
   ]
  },
  {
   "cell_type": "code",
   "execution_count": 50,
   "metadata": {},
   "outputs": [
    {
     "name": "stdout",
     "output_type": "stream",
     "text": [
      "p1 original. Result: Polygon(Point(x=0, y=0), Point(x=1, y=1))\n",
      "p1 appended. Result: Polygon(Point(x=0, y=0), Point(x=1, y=1), Point(x=4, y=4))\n",
      "p1 inserted. Result: Polygon(Point(x=0, y=0), Point(x=-1, y=-1), Point(x=1, y=1), Point(x=4, y=4))\n",
      "p1 extended. Result: Polygon(Point(x=0, y=0), Point(x=-1, y=-1), Point(x=1, y=1), Point(x=4, y=4), Point(x=6, y=6), Point(x=20, y=20))\n"
     ]
    }
   ],
   "source": [
    "p1 = Polygon((0,0), Point(1,1))\n",
    "p2 = Polygon([2, 2], [3, 3])\n",
    "\n",
    "print(f\"p1 original. Result: {p1}\")\n",
    "\n",
    "p1.append((4, 4))\n",
    "print(f\"p1 appended. Result: {p1}\")\n",
    "\n",
    "p1.insert(1, Point(-1, -1))\n",
    "print(f\"p1 inserted. Result: {p1}\")\n",
    "\n",
    "p3 = Polygon((6,6), Point(20,20))\n",
    "p1.extend(p3)\n",
    "print(f\"p1 extended. Result: {p1}\")"
   ]
  },
  {
   "cell_type": "markdown",
   "metadata": {},
   "source": [
    "**Part 2c:`__setitem__` Method**"
   ]
  },
  {
   "cell_type": "markdown",
   "metadata": {},
   "source": [
    "The two things we want to do is:\n",
    "\n",
    "- provide an index and a new point, and replace our Polygon's element at that index with the new point.\n",
    "- same as above but with a slice.\n",
    "\n",
    "For example:\n",
    "\n",
    "`p1[3] = Point(100, 100)`\n",
    "`p1[0:2] = [Point(-1,-1), Point(-2,-2)]`"
   ]
  },
  {
   "cell_type": "markdown",
   "metadata": {},
   "source": [
    "This is going to be easier than we may think because we can use **delegation** to delegate our slice operation to the list type because lists support setting items.\n",
    "\n",
    "We'll start off from where we left off above and add in our `__setitem__` method. Before we write it in our class above, I'll write one possible approach in isolation below, and then we'll see what issues may arise."
   ]
  },
  {
   "cell_type": "code",
   "execution_count": null,
   "metadata": {},
   "outputs": [],
   "source": [
    "def __setitem__(self, s, value):\n",
    "    \n",
    "    if isinstance(s, int):\n",
    "        self._pts[s] = Point(*value)\n",
    "    else:\n",
    "        self._pts[s] = [Point(*pt) for pt in value]           "
   ]
  },
  {
   "cell_type": "markdown",
   "metadata": {},
   "source": [
    "Consider \n",
    "\n",
    "`p[0] = [Point(10, 10), Point(20, 20)]`\n",
    "\n",
    "This won't work. Why not?\n",
    "\n",
    "The LHS is fine. It's the the RHS that's causing the issue. RHS = `[Point(10, 10), Point(20, 20)]` which gets equated to `value`.\n",
    "\n",
    "Since `s` is an `int`, we go through the first condition which evaluates to: `self._pts[0] = Point( Point(10, 10) , Point(20, 20) )` \n",
    "\n",
    "In other words, we have a Point made of Points instead of integers. \n",
    "\n",
    "**This throws an error as it should but the error is found in Point which we created way back: 'Point co-ordinates must be real numbers.'**\n",
    "\n",
    "-----------\n",
    "```\n",
    "class Point:\n",
    "    def __init__(self, x, y):\n",
    "        if isinstance(x, numbers.Real) and isinstance(y, numbers.Real):\n",
    "            self._pt = (x, y)\n",
    "        else:\n",
    "            raise TypeError('Point co-ordinates must be real numbers.')\n",
    "            \n",
    "    def __repr__(self):\n",
    "        return f'Point(x={self._pt[0]}, y={self._pt[1]})'\n",
    "    \n",
    "    def __len__(self):\n",
    "        return 2\n",
    "    \n",
    "    def __getitem__(self, s):\n",
    "        return self._pt[s]\n",
    "```\n",
    "-------------\n",
    "The error is technically correct - Point(10, 10) isn't an integer after all - but, we'd want to be more specific.\n",
    "\n",
    "We'd find a similar sort of somewhat meaningless/unintuitive error if we tried \n",
    "\n",
    "`p[0:2] = Point(20, 20)`\n",
    "\n",
    "`> TypeError: type object argument after * must be an iterable, not int`\n",
    "\n",
    "Again, the fact that an error is thrown is good but we just want a clear error."
   ]
  },
  {
   "cell_type": "markdown",
   "metadata": {},
   "source": [
    "**How are we going to fix this?**\n",
    "\n",
    "We need to understand these two rules:\n",
    "\n",
    "- If `s` is an integer, `value` must be a single `Point`.\n",
    "- If `s` is a slice, `value` must be a sequence/iterable of Points\n",
    "\n",
    "So what's our method?\n",
    "\n",
    "- We'll try to take the RHS e.g `[Point(10, 10), Point(20, 20)]` and **`try`** to make a list of points. If we succeed, we know we have a list of points.\n",
    "- Otherwise, we probably have a single point when we want a list of points. So, we have a TypeError that we want to catch.\n",
    "- But we *may not* have a single point, so let's **`try`** to make a `Point` from the RHS. If we succeed, we have a Point.\n",
    "- Otherwise, we have something useless like a complex value or string. For this, we need to **`raise`** our own error.\n",
    "\n",
    "- If no exceptions were raised throughout this process, **then we have a valid RHS**.\n",
    "- Only now we can implement the two rules above which can be done with a single `x or y` instead of two `if` statements. \n",
    "\n",
    "Here's our isolated method solution:"
   ]
  },
  {
   "cell_type": "code",
   "execution_count": 51,
   "metadata": {},
   "outputs": [],
   "source": [
    "def __setitem__(self, s, value):\n",
    "    # we first should see if we have a single Point\n",
    "    # or an iterable of Points in value\n",
    "    try:\n",
    "        rhs = [Point(*pt) for pt in value]\n",
    "        is_single = False\n",
    "    except TypeError:\n",
    "        # not a valid iterable of Points\n",
    "        # maybe a single Point?\n",
    "        try:\n",
    "            rhs = Point(*value)\n",
    "            is_single = True\n",
    "        except TypeError:\n",
    "            # still no go\n",
    "            raise TypeError('Invalid Point or iterable of Points')\n",
    "\n",
    "    # reached here, so rhs is either an iterable of Points, or a Point\n",
    "    # we want to make sure we are assigning to a slice only if we have an iterable of points,\n",
    "    # or, assigning to an index if we have a single Point only\n",
    " \n",
    "    if (isinstance(s, int) and is_single) or isinstance(s, slice) and not is_single: \n",
    "        self._pts[s] = rhs\n",
    "    else:\n",
    "        raise TypeError('Incompatible index/slice assignment')"
   ]
  },
  {
   "cell_type": "markdown",
   "metadata": {},
   "source": [
    "Let's add `del` and `pop` functionality to our class quickly using **delegation** as we've done previously before testing out our exception handling.\n",
    "\n",
    "Here's our complete class:"
   ]
  },
  {
   "cell_type": "code",
   "execution_count": 57,
   "metadata": {
    "tags": []
   },
   "outputs": [],
   "source": [
    "class Polygon:\n",
    "    def __init__(self, *pts):\n",
    "        if pts:\n",
    "            self._pts = [Point(*pt) for pt in pts]\n",
    "        else:\n",
    "            self._pts = []\n",
    "            \n",
    "    def __repr__(self):\n",
    "        pts_str = ', '.join([str(pt) for pt in self._pts])\n",
    "        return f'Polygon({pts_str})'\n",
    "    \n",
    "    def __len__(self):\n",
    "        return len(self._pts)\n",
    "    \n",
    "    def __getitem__(self, s):\n",
    "        return self._pts[s]\n",
    "    \n",
    "    def __setitem__(self, s, value):\n",
    "        # we first should see if we have a single Point\n",
    "        # or an iterable of Points in value\n",
    "        try:\n",
    "            rhs = [Point(*pt) for pt in value]\n",
    "            is_single = False\n",
    "        except TypeError:\n",
    "            # not a valid iterable of Points\n",
    "            # maybe a single Point?\n",
    "            try:\n",
    "                rhs = Point(*value)\n",
    "                is_single = True\n",
    "            except TypeError:\n",
    "                # still no go\n",
    "                raise TypeError('Invalid Point or iterable of Points')\n",
    "        \n",
    "        # reached here, so rhs is either an iterable of Points, or a Point\n",
    "        # we want to make sure we are assigning to a slice only if we \n",
    "        # have an iterable of points, and assigning to an index if we \n",
    "        # have a single Point only\n",
    "        if (isinstance(s, int) and is_single) \\\n",
    "            or isinstance(s, slice) and not is_single:\n",
    "            self._pts[s] = rhs\n",
    "        else:\n",
    "            raise TypeError('Incompatible index/slice assignment')\n",
    "                \n",
    "    def __add__(self, pt):\n",
    "        if isinstance(pt, Polygon):\n",
    "            new_pts = self._pts + pt._pts\n",
    "            return Polygon(*new_pts)\n",
    "        else:\n",
    "            raise TypeError('can only concatenate with another Polygon')\n",
    "\n",
    "    def append(self, pt):\n",
    "        self._pts.append(Point(*pt))\n",
    "        \n",
    "    def extend(self, pts):\n",
    "        if isinstance(pts, Polygon):\n",
    "            self._pts = self._pts + pts._pts\n",
    "        else:\n",
    "            # assume we are being passed an iterable containing Points\n",
    "            # or something compatible with Points\n",
    "            points = [Point(*pt) for pt in pts]\n",
    "            self._pts = self._pts + points\n",
    "    \n",
    "    def __iadd__(self, pts):\n",
    "        self.extend(pts)\n",
    "        return self\n",
    "    \n",
    "    def insert(self, i, pt):\n",
    "        self._pts.insert(i, Point(*pt))\n",
    "        \n",
    "    def __delitem__(self, s):\n",
    "        del self._pts[s]\n",
    "        \n",
    "    def pop(self, i):\n",
    "        return self._pts.pop(i)"
   ]
  },
  {
   "cell_type": "markdown",
   "metadata": {},
   "source": [
    "So now let's see if we get better error messages:"
   ]
  },
  {
   "cell_type": "code",
   "execution_count": 58,
   "metadata": {
    "tags": []
   },
   "outputs": [],
   "source": [
    "p1 = Polygon((0,0), (1,1), (2,2))"
   ]
  },
  {
   "cell_type": "code",
   "execution_count": 59,
   "metadata": {},
   "outputs": [
    {
     "ename": "TypeError",
     "evalue": "Incompatible index/slice assignment",
     "output_type": "error",
     "traceback": [
      "\u001b[0;31m---------------------------------------------------------------------------\u001b[0m",
      "\u001b[0;31mTypeError\u001b[0m                                 Traceback (most recent call last)",
      "\u001b[0;32m/tmp/ipykernel_5870/277394552.py\u001b[0m in \u001b[0;36m<module>\u001b[0;34m\u001b[0m\n\u001b[0;32m----> 1\u001b[0;31m \u001b[0mp1\u001b[0m\u001b[0;34m[\u001b[0m\u001b[0;36m0\u001b[0m\u001b[0;34m:\u001b[0m\u001b[0;36m2\u001b[0m\u001b[0;34m]\u001b[0m \u001b[0;34m=\u001b[0m \u001b[0;34m(\u001b[0m\u001b[0;36m10\u001b[0m\u001b[0;34m,\u001b[0m\u001b[0;36m10\u001b[0m\u001b[0;34m)\u001b[0m\u001b[0;34m\u001b[0m\u001b[0;34m\u001b[0m\u001b[0m\n\u001b[0m",
      "\u001b[0;32m/tmp/ipykernel_5870/2366797155.py\u001b[0m in \u001b[0;36m__setitem__\u001b[0;34m(self, s, value)\u001b[0m\n\u001b[1;32m     40\u001b[0m             \u001b[0mself\u001b[0m\u001b[0;34m.\u001b[0m\u001b[0m_pts\u001b[0m\u001b[0;34m[\u001b[0m\u001b[0ms\u001b[0m\u001b[0;34m]\u001b[0m \u001b[0;34m=\u001b[0m \u001b[0mrhs\u001b[0m\u001b[0;34m\u001b[0m\u001b[0;34m\u001b[0m\u001b[0m\n\u001b[1;32m     41\u001b[0m         \u001b[0;32melse\u001b[0m\u001b[0;34m:\u001b[0m\u001b[0;34m\u001b[0m\u001b[0;34m\u001b[0m\u001b[0m\n\u001b[0;32m---> 42\u001b[0;31m             \u001b[0;32mraise\u001b[0m \u001b[0mTypeError\u001b[0m\u001b[0;34m(\u001b[0m\u001b[0;34m'Incompatible index/slice assignment'\u001b[0m\u001b[0;34m)\u001b[0m\u001b[0;34m\u001b[0m\u001b[0;34m\u001b[0m\u001b[0m\n\u001b[0m\u001b[1;32m     43\u001b[0m \u001b[0;34m\u001b[0m\u001b[0m\n\u001b[1;32m     44\u001b[0m     \u001b[0;32mdef\u001b[0m \u001b[0m__add__\u001b[0m\u001b[0;34m(\u001b[0m\u001b[0mself\u001b[0m\u001b[0;34m,\u001b[0m \u001b[0mpt\u001b[0m\u001b[0;34m)\u001b[0m\u001b[0;34m:\u001b[0m\u001b[0;34m\u001b[0m\u001b[0;34m\u001b[0m\u001b[0m\n",
      "\u001b[0;31mTypeError\u001b[0m: Incompatible index/slice assignment"
     ]
    }
   ],
   "source": [
    "p1[0:2] = (10,10)"
   ]
  },
  {
   "cell_type": "code",
   "execution_count": 60,
   "metadata": {},
   "outputs": [
    {
     "ename": "TypeError",
     "evalue": "Incompatible index/slice assignment",
     "output_type": "error",
     "traceback": [
      "\u001b[0;31m---------------------------------------------------------------------------\u001b[0m",
      "\u001b[0;31mTypeError\u001b[0m                                 Traceback (most recent call last)",
      "\u001b[0;32m/tmp/ipykernel_5870/3570378440.py\u001b[0m in \u001b[0;36m<module>\u001b[0;34m\u001b[0m\n\u001b[0;32m----> 1\u001b[0;31m \u001b[0mp1\u001b[0m\u001b[0;34m[\u001b[0m\u001b[0;36m0\u001b[0m\u001b[0;34m]\u001b[0m \u001b[0;34m=\u001b[0m \u001b[0;34m[\u001b[0m\u001b[0;34m(\u001b[0m\u001b[0;36m0\u001b[0m\u001b[0;34m,\u001b[0m\u001b[0;36m0\u001b[0m\u001b[0;34m)\u001b[0m\u001b[0;34m,\u001b[0m \u001b[0;34m(\u001b[0m\u001b[0;36m1\u001b[0m\u001b[0;34m,\u001b[0m\u001b[0;36m1\u001b[0m\u001b[0;34m)\u001b[0m\u001b[0;34m]\u001b[0m\u001b[0;34m\u001b[0m\u001b[0;34m\u001b[0m\u001b[0m\n\u001b[0m",
      "\u001b[0;32m/tmp/ipykernel_5870/2366797155.py\u001b[0m in \u001b[0;36m__setitem__\u001b[0;34m(self, s, value)\u001b[0m\n\u001b[1;32m     40\u001b[0m             \u001b[0mself\u001b[0m\u001b[0;34m.\u001b[0m\u001b[0m_pts\u001b[0m\u001b[0;34m[\u001b[0m\u001b[0ms\u001b[0m\u001b[0;34m]\u001b[0m \u001b[0;34m=\u001b[0m \u001b[0mrhs\u001b[0m\u001b[0;34m\u001b[0m\u001b[0;34m\u001b[0m\u001b[0m\n\u001b[1;32m     41\u001b[0m         \u001b[0;32melse\u001b[0m\u001b[0;34m:\u001b[0m\u001b[0;34m\u001b[0m\u001b[0;34m\u001b[0m\u001b[0m\n\u001b[0;32m---> 42\u001b[0;31m             \u001b[0;32mraise\u001b[0m \u001b[0mTypeError\u001b[0m\u001b[0;34m(\u001b[0m\u001b[0;34m'Incompatible index/slice assignment'\u001b[0m\u001b[0;34m)\u001b[0m\u001b[0;34m\u001b[0m\u001b[0;34m\u001b[0m\u001b[0m\n\u001b[0m\u001b[1;32m     43\u001b[0m \u001b[0;34m\u001b[0m\u001b[0m\n\u001b[1;32m     44\u001b[0m     \u001b[0;32mdef\u001b[0m \u001b[0m__add__\u001b[0m\u001b[0;34m(\u001b[0m\u001b[0mself\u001b[0m\u001b[0;34m,\u001b[0m \u001b[0mpt\u001b[0m\u001b[0;34m)\u001b[0m\u001b[0;34m:\u001b[0m\u001b[0;34m\u001b[0m\u001b[0;34m\u001b[0m\u001b[0m\n",
      "\u001b[0;31mTypeError\u001b[0m: Incompatible index/slice assignment"
     ]
    }
   ],
   "source": [
    "p1[0] = [(0,0), (1,1)]"
   ]
  },
  {
   "cell_type": "code",
   "execution_count": 61,
   "metadata": {},
   "outputs": [
    {
     "data": {
      "text/plain": [
       "Point(x=1, y=1)"
      ]
     },
     "execution_count": 61,
     "metadata": {},
     "output_type": "execute_result"
    }
   ],
   "source": [
    "p = Polygon(*zip(range(6), range(6)))\n",
    "p.pop(1)"
   ]
  },
  {
   "cell_type": "markdown",
   "metadata": {},
   "source": [
    "# 11- Sorting Sequences"
   ]
  },
  {
   "cell_type": "markdown",
   "metadata": {},
   "source": [
    "#### Lecture"
   ]
  },
  {
   "cell_type": "markdown",
   "metadata": {},
   "source": [
    "Just like with the concatenation and in-place concatenation we saw previously, we have two different ways of sorting a mutable sequence:\n",
    "\n",
    "* returning a new sorted sequence\n",
    "* in-place sorting (mutating sequence) - obviously this works for mutable sequence types only!\n"
   ]
  },
  {
   "cell_type": "markdown",
   "metadata": {},
   "source": [
    "For any iterable, the built-in `sorted` function will return a **list** containing the sorted elements of the iterable.\n",
    "\n",
    "So a few things here: \n",
    "* any iterable can be sorted (as long as it is finite)\n",
    "* the elements must be pair-wise comparable (possibly indirectly via a sort key)\n",
    "* the returned result is always a list\n",
    "* the original iterable is not mutated\n",
    "\n",
    "In addition:\n",
    "* optionally specify a `key` - a function that extracts a comparison key for each element. If that key is not specified, Python will use the natural ordering of the elements (such as __gt__, etc, so that fails if they do not!)\n",
    "* optional specify the `reverse` argument which will return the reversed sort"
   ]
  },
  {
   "cell_type": "markdown",
   "metadata": {},
   "source": [
    "Of course, numbers have a natural sort order and strings do too (alphabetical, but don't forget that a distinction is made if the letter is capitalised). But what if we have numerous strings and we want to sort by the last character of the string. What word the **sort key** be?\n",
    "\n",
    "```\n",
    "item:    'hello'    'python'    'parrot'    'bird'\n",
    "key:       'o'        'n'         't'         'd'\n",
    "```\n",
    "\n",
    "And we know that since these sort keys are strings, they have a natural sort order.\n",
    "\n",
    "So what would the key function look like?\n",
    "\n",
    "`key = lambda s: s[-1]`\n",
    "\n",
    "What do we mean by the natural sort order?\n",
    "\n",
    "These are how we'd generally and intuitively sort the items. If we do not provide the `key` keyword argument, then we can always think of the default key as the elements themselves. In other words,\n",
    "\n",
    "`sorted(iterable) <-> sorted(iterable, key=lambda x: x)`"
   ]
  },
  {
   "cell_type": "markdown",
   "metadata": {},
   "source": [
    "For things like dictionaries, this works slightly differently. Remember what happens when we iterate a dictionary?"
   ]
  },
  {
   "cell_type": "code",
   "execution_count": 8,
   "metadata": {},
   "outputs": [
    {
     "name": "stdout",
     "output_type": "stream",
     "text": [
      "3\n",
      "2\n",
      "1\n"
     ]
    }
   ],
   "source": [
    "d = {3: 100, 2: 200, 1: 10}\n",
    "for item in d:\n",
    "    print(item)"
   ]
  },
  {
   "cell_type": "markdown",
   "metadata": {},
   "source": [
    "We actually are iterating the keys.\n",
    "\n",
    "Same thing happens with sorting - we'll end up just sorting the keys:"
   ]
  },
  {
   "cell_type": "code",
   "execution_count": 9,
   "metadata": {},
   "outputs": [
    {
     "data": {
      "text/plain": [
       "[1, 2, 3]"
      ]
     },
     "execution_count": 9,
     "metadata": {},
     "output_type": "execute_result"
    }
   ],
   "source": [
    "d = {3: 100, 2: 200, 1: 10}\n",
    "\n",
    "sorted(d)"
   ]
  },
  {
   "cell_type": "markdown",
   "metadata": {},
   "source": [
    "But what if we wanted to sort the dictionary keys based on the values instead?"
   ]
  },
  {
   "cell_type": "markdown",
   "metadata": {},
   "source": [
    "This is where the `key` argument of `sorted` will come in handy.\n",
    "\n",
    "We are going to specify to the `sorted` function that it should use the value of each item to use as a sort key:"
   ]
  },
  {
   "cell_type": "code",
   "execution_count": 11,
   "metadata": {},
   "outputs": [
    {
     "data": {
      "text/plain": [
       "['c', 'b', 'a']"
      ]
     },
     "execution_count": 11,
     "metadata": {},
     "output_type": "execute_result"
    }
   ],
   "source": [
    "d = {'a': 100, 'b': 50, 'c': 10}\n",
    "\n",
    "sorted(d, key=lambda k: d[k])"
   ]
  },
  {
   "cell_type": "markdown",
   "metadata": {},
   "source": [
    "Note: **The `sorted` function makes a copy of the iterable and returns the sorted elements in a `list` always**."
   ]
  },
  {
   "cell_type": "markdown",
   "metadata": {},
   "source": [
    "#### Stable Sorting"
   ]
  },
  {
   "cell_type": "markdown",
   "metadata": {},
   "source": [
    "You might have noticed that the words `this`,  `late` and `bird` all have four characters - so how did Python determine which one should come first? Randomly? No!\n",
    "\n",
    "The sort algorithm that Python uses, called the *TimSort* (named after Python core developer Tim Peters - yes, the same Tim Peters that wrote the Zen of Python!!), is what is called a **stable** sort algorithm.\n",
    "\n",
    "This means that items with equal sort keys maintain their relative position."
   ]
  },
  {
   "cell_type": "code",
   "execution_count": null,
   "metadata": {
    "tags": []
   },
   "outputs": [],
   "source": [
    "t = 'aaaa', 'bbbb', 'cccc', 'dddd', 'eeee'"
   ]
  },
  {
   "cell_type": "code",
   "execution_count": null,
   "metadata": {},
   "outputs": [
    {
     "data": {
      "text/plain": [
       "['aaaa', 'bbbb', 'cccc', 'dddd', 'eeee']"
      ]
     },
     "execution_count": 63,
     "metadata": {},
     "output_type": "execute_result"
    }
   ],
   "source": [
    "sorted(t, key = lambda s: len(s))"
   ]
  },
  {
   "cell_type": "markdown",
   "metadata": {},
   "source": [
    "Now let's change our tuple a bit:"
   ]
  },
  {
   "cell_type": "code",
   "execution_count": null,
   "metadata": {
    "tags": []
   },
   "outputs": [],
   "source": [
    "t = 'bbbb', 'cccc', 'aaaa', 'eeee', 'dddd'"
   ]
  },
  {
   "cell_type": "code",
   "execution_count": null,
   "metadata": {},
   "outputs": [
    {
     "data": {
      "text/plain": [
       "['bbbb', 'cccc', 'aaaa', 'eeee', 'dddd']"
      ]
     },
     "execution_count": 65,
     "metadata": {},
     "output_type": "execute_result"
    }
   ],
   "source": [
    "sorted(t, key = lambda s: len(s))"
   ]
  },
  {
   "cell_type": "markdown",
   "metadata": {},
   "source": [
    "As you can see, when the sort keys are equal (they are all equal to 4), the original ordering of the iterable is preserved. `bbbb` came before `cccc` in our tuple so `bbbb` will come before `cccc` after sorting, even though they have the same sort key."
   ]
  },
  {
   "cell_type": "markdown",
   "metadata": {},
   "source": [
    "#### Reversed Sort"
   ]
  },
  {
   "cell_type": "markdown",
   "metadata": {},
   "source": [
    "We also have the `reverse` keyword-only argument that we can use - basically it sorts the iterable, but returns it reversed:"
   ]
  },
  {
   "cell_type": "code",
   "execution_count": 1,
   "metadata": {
    "tags": []
   },
   "outputs": [],
   "source": [
    "t = 'this', 'bird', 'is', 'a', 'late', 'parrot'"
   ]
  },
  {
   "cell_type": "code",
   "execution_count": 40,
   "metadata": {},
   "outputs": [
    {
     "data": {
      "text/plain": [
       "['parrot', 'this', 'bird', 'late', 'is', 'a']"
      ]
     },
     "execution_count": 40,
     "metadata": {},
     "output_type": "execute_result"
    }
   ],
   "source": [
    "sorted(t, key=lambda s: len(s), reverse=True)"
   ]
  },
  {
   "cell_type": "markdown",
   "metadata": {},
   "source": [
    "#### In-Place Sort"
   ]
  },
  {
   "cell_type": "markdown",
   "metadata": {},
   "source": [
    "If the iterable is mutable, in-place sorting is possible. The `list` class has a `.sort()` instance method that does in-place sorting. **It won't return anything**.\n",
    "\n",
    "This method is slightly more efficient than the `sorted()` function because it doesn't have to make a copy of the iterable before sorting."
   ]
  },
  {
   "cell_type": "code",
   "execution_count": 4,
   "metadata": {},
   "outputs": [],
   "source": [
    "l = ['this', 'bird', 'is', 'a', 'late', 'parrot']\n",
    "result = l.sort(key = lambda x: len(x))\n",
    "result"
   ]
  },
  {
   "cell_type": "markdown",
   "metadata": {},
   "source": [
    "#### Natural Ordering for Custom Classes"
   ]
  },
  {
   "cell_type": "markdown",
   "metadata": {},
   "source": [
    "I just want to quickly show you that in order to have a \"natural ordering\" for our custom classes, we just need to implement the `<` or `>` operators. (I discuss these operators in Part 1 of this course)"
   ]
  },
  {
   "cell_type": "markdown",
   "metadata": {},
   "source": [
    "In fact, we can modify our class slightly so we can see that `sorted` is calling our `__lt__` method repeatedly to perform the sort:"
   ]
  },
  {
   "cell_type": "code",
   "execution_count": 8,
   "metadata": {
    "tags": []
   },
   "outputs": [],
   "source": [
    "class MyClass:\n",
    "    def __init__(self, name, val):\n",
    "        self.name = name\n",
    "        self.val = val\n",
    "        \n",
    "    def __repr__(self):\n",
    "        return f'MyClass({self.name}, {self.val})'\n",
    "    \n",
    "    def __lt__(self, other):\n",
    "        print(f'called {self.name} < {other.name}')\n",
    "        return self.val < other.val"
   ]
  },
  {
   "cell_type": "code",
   "execution_count": 9,
   "metadata": {
    "tags": []
   },
   "outputs": [],
   "source": [
    "c1 = MyClass('c1', 20)\n",
    "c2 = MyClass('c2', 10)\n",
    "c3 = MyClass('c3', 20)\n",
    "c4 = MyClass('c4', 10)"
   ]
  },
  {
   "cell_type": "code",
   "execution_count": 10,
   "metadata": {},
   "outputs": [
    {
     "name": "stdout",
     "output_type": "stream",
     "text": [
      "called c2 < c1\n",
      "called c3 < c2\n",
      "called c3 < c1\n",
      "called c4 < c1\n",
      "called c4 < c2\n"
     ]
    },
    {
     "data": {
      "text/plain": [
       "[MyClass(c2, 10), MyClass(c4, 10), MyClass(c1, 20), MyClass(c3, 20)]"
      ]
     },
     "execution_count": 10,
     "metadata": {},
     "output_type": "execute_result"
    }
   ],
   "source": [
    "sorted([c1, c2, c3, c4])"
   ]
  },
  {
   "cell_type": "markdown",
   "metadata": {},
   "source": [
    "Now we can sort those objects, without specifying a key, since that class has a natural ordering (`<` in this case). Moreover, notice that the sort is stable.\n",
    "\n",
    "But we can still sort by using a key. For example:"
   ]
  },
  {
   "cell_type": "code",
   "execution_count": 11,
   "metadata": {},
   "outputs": [
    {
     "data": {
      "text/plain": [
       "[MyClass(c1, 20), MyClass(c2, 10), MyClass(c3, 20), MyClass(c4, 10)]"
      ]
     },
     "execution_count": 11,
     "metadata": {},
     "output_type": "execute_result"
    }
   ],
   "source": [
    "l = [c2, c4, c1, c3]\n",
    "sorted(l, key=lambda c: c.name)"
   ]
  },
  {
   "cell_type": "markdown",
   "metadata": {},
   "source": [
    "If you wanted to implement all the other orderings you can just use the `@total_ordering` decorator: `from functools import total_ordering`"
   ]
  },
  {
   "cell_type": "markdown",
   "metadata": {},
   "source": [
    "# 12 - List Comprehensions"
   ]
  },
  {
   "cell_type": "markdown",
   "metadata": {},
   "source": [
    "#### Lecture"
   ]
  },
  {
   "cell_type": "markdown",
   "metadata": {},
   "source": [
    "See Part 1 for introduction on comprehensions if needed."
   ]
  },
  {
   "cell_type": "markdown",
   "metadata": {},
   "source": [
    "**Internal Mechanics of List Comprehensions**"
   ]
  },
  {
   "cell_type": "markdown",
   "metadata": {},
   "source": [
    "Comprehensions have their own **local scope** - just like a function.\n",
    "\n",
    "Functions can be nested inside other functions, creating an inner and an outer scope. If the inner references a variable in the outer, that variable becomes a free variable and the inner function is known as a **closure** - so closures have free variables.\n",
    "\n",
    "We need to recognize that list comprehensions are essentially temporary functions that Python creates, executes and returns the resulting list from it.\n",
    "\n",
    "Let's break this down with an example:\n",
    "\n",
    "`sq = [item**2 for item in range(10)]`\n",
    "\n",
    "- The entire RHS *is* the list comprehension. \n",
    "- There are two stages: compilation and execution. \n",
    "- During **compilation**, Python creates a temporary function, `item` being a variable in the local scope, that'll be used to evaluate the comprehension. \n",
    "- Something like:\n",
    "\n",
    "```\n",
    "def temp():\n",
    "    new_list = []\n",
    "    for item in range(10):\n",
    "        new_list.append(item**2)\n",
    "       \n",
    "    return new_list\n",
    "```\n",
    "\n",
    "- When the original line is **executed**, python executes `temp()`.\n",
    "- Then, it stores the returned object (`new_list`) at some memory address and points `sq` on the LHS to it."
   ]
  },
  {
   "cell_type": "markdown",
   "metadata": {},
   "source": [
    "#### Comprehension Scopes"
   ]
  },
  {
   "cell_type": "markdown",
   "metadata": {},
   "source": [
    "As mentioned `item` in the list comprehension is a local symbol of the temporary function. \n",
    "\n",
    "But the comprehension has access to **global** variables just like how normal functions will access the global scope if it can't find a variable in the local scope.\n",
    "\n",
    "But what about **nonlocal** variables? \n",
    "\n",
    "These are variables that are \"neither local nor global\". The nonlocal is a keyword in python that is used to declare any variable as not local but instead comes from the nearest enclosing scope that is not global. \n",
    "\n",
    "Consider the function:"
   ]
  },
  {
   "cell_type": "code",
   "execution_count": 13,
   "metadata": {},
   "outputs": [],
   "source": [
    "def my_func(num):\n",
    "    sq = [item**2 for item in range(num)]"
   ]
  },
  {
   "cell_type": "markdown",
   "metadata": {},
   "source": [
    "Remember to think of the RHS as a function. It contains `num` which is a variable in the outer scope. We therefore have a comprehension function nested inside a regular function. Since the comprehension function is referencing `num`, a `nonlocal` symbol, it becomes a free variable - so we have a closure.\n",
    "\n",
    "**The RHS *is* a closure - a function nested in another function that has access to one or more free variables in an outer scope because it references those nonlocal symbols.**"
   ]
  },
  {
   "cell_type": "markdown",
   "metadata": {},
   "source": [
    "#### Things to Watch Out For"
   ]
  },
  {
   "cell_type": "markdown",
   "metadata": {},
   "source": [
    "**Example 1**"
   ]
  },
  {
   "cell_type": "markdown",
   "metadata": {},
   "source": [
    "To drive the point home about comprehension scopes, consider the following below. We have a regular `for` loop containing the symbol `number`:"
   ]
  },
  {
   "cell_type": "code",
   "execution_count": 13,
   "metadata": {},
   "outputs": [
    {
     "name": "stdout",
     "output_type": "stream",
     "text": [
      "4\n",
      "True\n"
     ]
    }
   ],
   "source": [
    "l=[]\n",
    "\n",
    "for number in range(5):\n",
    "    l.append(number**2)\n",
    "    \n",
    "print(number)\n",
    "print('number' in globals())"
   ]
  },
  {
   "cell_type": "markdown",
   "metadata": {},
   "source": [
    "So, Python automatically creates a symbol within the scope that it's residing in. But what if we create this loop in a comprehension? (First, delete `number` from `globals()`.)"
   ]
  },
  {
   "cell_type": "code",
   "execution_count": 14,
   "metadata": {},
   "outputs": [
    {
     "name": "stdout",
     "output_type": "stream",
     "text": [
      "False\n"
     ]
    }
   ],
   "source": [
    "if 'number' in globals():\n",
    "    del number\n",
    "\n",
    "l = [number**2 for number in range(5)]\n",
    "\n",
    "print('number' in globals())"
   ]
  },
  {
   "cell_type": "markdown",
   "metadata": {},
   "source": [
    "It's not in the `globals()` scope because it was created within scope of the temporary function that Python created for the comprehension.\n",
    "\n",
    "**But be careful!**\n",
    "\n",
    "In `[number**2 for number in range(5)]`, the `number` in `for number` is the **declaration** of the variable within the function scope. But, the `number` in `number**2` is a **reference**.\n",
    "\n",
    "First, note that, although the first mention of `number` comes first in the comprehension, it comes at the very end of the temporary function that Python creates - that's why it's considered a reference and NOT a declaration by Python.\n",
    "\n",
    "Secondly, from what we know about functions in Python, if a variable is referenced within a function, Python first looks for any declarations within the local scope of the function. If none are found, it zooms out to look in the global scope.\n",
    "\n",
    "So, take a look at the example below:"
   ]
  },
  {
   "cell_type": "code",
   "execution_count": 15,
   "metadata": {},
   "outputs": [
    {
     "data": {
      "text/plain": [
       "[0, 100, 200, 300, 400]"
      ]
     },
     "execution_count": 15,
     "metadata": {},
     "output_type": "execute_result"
    }
   ],
   "source": [
    "number = 100\n",
    "\n",
    "[number * i for i in range(5)] # number is in the first part of the statement, so it's a reference NOT a DECLARATION\n",
    "                               # i is AFTER the first part of the statement, it's a declaration."
   ]
  },
  {
   "cell_type": "markdown",
   "metadata": {},
   "source": [
    "- When Python created the temporary function and began with `for i in range(5):`, it declared `i` as a local variable. \n",
    "- Then, it got round to `number * i` but it couldn't find any declaration of `number` within its local (comprehension) scope, so it looked in globals and found `number = 100`."
   ]
  },
  {
   "cell_type": "markdown",
   "metadata": {},
   "source": [
    "**Example 2**"
   ]
  },
  {
   "cell_type": "markdown",
   "metadata": {},
   "source": [
    "Now let's look at an example we've seen before when we studied closures.\n",
    "\n",
    "Suppose we want to generate a list of functions that will calculate powers of their argument, i.e. we want to define a bunch of functions. Here's one approach:"
   ]
  },
  {
   "cell_type": "markdown",
   "metadata": {},
   "source": [
    "We could certainly define a bunch of functions one by one:"
   ]
  },
  {
   "cell_type": "code",
   "execution_count": 45,
   "metadata": {
    "collapsed": true,
    "jupyter": {
     "outputs_hidden": true
    }
   },
   "outputs": [],
   "source": [
    "fn_0 = lambda x: x**0\n",
    "fn_1 = lambda x: x**1\n",
    "fn_2 = lambda x: x**2\n",
    "fn_3 = lambda x: x**3\n",
    "# etc"
   ]
  },
  {
   "cell_type": "markdown",
   "metadata": {},
   "source": [
    "But this would be very tedious if we had to do it more than just a few times.\n",
    "\n",
    "Instead, why don't we create those functions as lambdas and put them into a list where the index of the list will correspond to the power we are looking for.\n",
    "\n",
    "Something like this if we were doing it manually:"
   ]
  },
  {
   "cell_type": "code",
   "execution_count": 46,
   "metadata": {
    "collapsed": true,
    "jupyter": {
     "outputs_hidden": true
    }
   },
   "outputs": [],
   "source": [
    "funcs = [lambda x: x**0, lambda x: x**1, lambda x: x**2, lambda x: x**3]"
   ]
  },
  {
   "cell_type": "markdown",
   "metadata": {},
   "source": [
    "Now we can call these functions this way:"
   ]
  },
  {
   "cell_type": "code",
   "execution_count": 47,
   "metadata": {},
   "outputs": [
    {
     "name": "stdout",
     "output_type": "stream",
     "text": [
      "1\n",
      "10\n",
      "100\n",
      "1000\n"
     ]
    }
   ],
   "source": [
    "print(funcs[0](10))\n",
    "print(funcs[1](10))\n",
    "print(funcs[2](10))\n",
    "print(funcs[3](10))"
   ]
  },
  {
   "cell_type": "markdown",
   "metadata": {},
   "source": [
    "Now all we need to do is to create these functions using a loop - the traditional way first:"
   ]
  },
  {
   "cell_type": "markdown",
   "metadata": {},
   "source": [
    "First let's make sure `i` is not in our global symbol table:"
   ]
  },
  {
   "cell_type": "code",
   "execution_count": 17,
   "metadata": {
    "tags": []
   },
   "outputs": [],
   "source": [
    "if 'i' in globals():\n",
    "    del i"
   ]
  },
  {
   "cell_type": "code",
   "execution_count": 18,
   "metadata": {
    "tags": []
   },
   "outputs": [],
   "source": [
    "funcs = []\n",
    "for i in range(6):\n",
    "    funcs.append(lambda x: x**i)"
   ]
  },
  {
   "cell_type": "markdown",
   "metadata": {},
   "source": [
    "And let's use them as before:"
   ]
  },
  {
   "cell_type": "code",
   "execution_count": 20,
   "metadata": {},
   "outputs": [
    {
     "name": "stdout",
     "output_type": "stream",
     "text": [
      "100000\n",
      "100000\n"
     ]
    },
    {
     "data": {
      "text/plain": [
       "[<function __main__.<lambda>(x)>,\n",
       " <function __main__.<lambda>(x)>,\n",
       " <function __main__.<lambda>(x)>,\n",
       " <function __main__.<lambda>(x)>,\n",
       " <function __main__.<lambda>(x)>,\n",
       " <function __main__.<lambda>(x)>]"
      ]
     },
     "execution_count": 20,
     "metadata": {},
     "output_type": "execute_result"
    }
   ],
   "source": [
    "print(funcs[0](10))\n",
    "print(funcs[1](10))\n",
    "\n",
    "funcs"
   ]
  },
  {
   "cell_type": "markdown",
   "metadata": {},
   "source": [
    "What happened?? It looks like every function is actually calculating `10**5`. To break it down:\n",
    "\n",
    "- `lambda x: x**i` is a function which references `i` that exists in an outer scope. Therefore, the lambda is a closure.\n",
    "- Inside `funcs`, each of those lambda's have a `x**i` but `i` is pointing to the global `i`.\n",
    "- So, for whichever lambda we fetch, when lambda wants to compute `x**i`, it goes through a pointer to the global `i`.\n",
    "- Since the `for` loop terminated, `i` ended as `5`. So any mention of `i` in any of those lambdas will point to whatever is the current value of `i`.\n",
    "\n",
    "Take a look at the equivalent breakdown:"
   ]
  },
  {
   "cell_type": "code",
   "execution_count": null,
   "metadata": {},
   "outputs": [],
   "source": [
    "i = 0\n",
    "def fn_0(x):\n",
    "    return x ** i\n",
    "\n",
    "i = 1\n",
    "def fn_0(x):\n",
    "    return x ** i\n",
    "\n",
    "i = 2\n",
    "def fn_0(x):\n",
    "    return x ** i"
   ]
  },
  {
   "cell_type": "markdown",
   "metadata": {},
   "source": [
    "What's the solution? Recall that if a function is defined with a default parameter, e.g. `def log(current_dt=datetime.now()`, that parameter is calculated during **compilation** of the function, not **execution**. So, if our `log` function is called on different days without a `current_dt` parameter provided, the same default value will be pulled every time.\n",
    "\n",
    "We can use this to our advantage in this scenario. Take a look:"
   ]
  },
  {
   "cell_type": "code",
   "execution_count": 2,
   "metadata": {},
   "outputs": [
    {
     "name": "stdout",
     "output_type": "stream",
     "text": [
      "1\n",
      "10\n",
      "100\n",
      "1000\n"
     ]
    }
   ],
   "source": [
    "funcs = [lambda x, p=i: x**p for i in range(4)]\n",
    "\n",
    "print(funcs[0](10))\n",
    "print(funcs[1](10))\n",
    "print(funcs[2](10))\n",
    "print(funcs[3](10))"
   ]
  },
  {
   "cell_type": "markdown",
   "metadata": {},
   "source": [
    "It works because first the value of `i=0` is taken and during the creation of the first lambda (compilation), `p` gets assigned to `i`, so `p=0` is a default value to this particular lambda. If no default `p` value is provided, then Python pulls this value of `p=0`. It might be useful to think that a value for `p` gets hardcoded for each value of `i` in the loop. "
   ]
  },
  {
   "cell_type": "markdown",
   "metadata": {},
   "source": [
    "**Compilation**"
   ]
  },
  {
   "cell_type": "markdown",
   "metadata": {},
   "source": [
    "Let's show that Python is indeed creating a function by compiling a comprehension, and then disassembling the compiled code to see what's happened:"
   ]
  },
  {
   "cell_type": "code",
   "execution_count": 11,
   "metadata": {
    "collapsed": true,
    "jupyter": {
     "outputs_hidden": true
    }
   },
   "outputs": [],
   "source": [
    "import dis"
   ]
  },
  {
   "cell_type": "code",
   "execution_count": 12,
   "metadata": {
    "collapsed": true,
    "jupyter": {
     "outputs_hidden": true
    }
   },
   "outputs": [],
   "source": [
    "compiled_code = compile('[i**2 for i in (1, 2, 3)]', \n",
    "                        filename='', mode='eval')"
   ]
  },
  {
   "cell_type": "code",
   "execution_count": 13,
   "metadata": {},
   "outputs": [
    {
     "name": "stdout",
     "output_type": "stream",
     "text": [
      "  1           0 LOAD_CONST               0 (<code object <listcomp> at 0x000001F77210ED20, file \"\", line 1>)\n",
      "              2 LOAD_CONST               1 ('<listcomp>')\n",
      "              4 MAKE_FUNCTION            0\n",
      "              6 LOAD_CONST               5 ((1, 2, 3))\n",
      "              8 GET_ITER\n",
      "             10 CALL_FUNCTION            1\n",
      "             12 RETURN_VALUE\n"
     ]
    }
   ],
   "source": [
    "dis.dis(compiled_code)"
   ]
  },
  {
   "cell_type": "markdown",
   "metadata": {},
   "source": [
    "As you can see, in step 4, Python created a function (`MAKE_FUNCTION`), called it (`CALL_FUNCTION`), and then returned the result (`RETURN_VALUE`) in the last step."
   ]
  },
  {
   "cell_type": "markdown",
   "metadata": {},
   "source": [
    "**Nested Comprehensions**\n",
    "\n",
    "Comprehensions can be nested within each other. And since they're functions, a nested comprehension can access variables in the outer comprehension which are nonlocal to inner comprehension. \n",
    "\n",
    "If this is the case, the inner/nested comprehension becomes a closure because it's a nested 'function' accessing a free variable. \n",
    "\n",
    "In the example below, `i` is a nonlocal variable to the nested comprehension because `i` is spotted in the outer comprehension/function. So, the nested comprehension is a function."
   ]
  },
  {
   "cell_type": "code",
   "execution_count": 14,
   "metadata": {},
   "outputs": [
    {
     "data": {
      "text/plain": [
       "[[0, 0, 0, 0, 0],\n",
       " [0, 1, 2, 3, 4],\n",
       " [0, 2, 4, 6, 8],\n",
       " [0, 3, 6, 9, 12],\n",
       " [0, 4, 8, 12, 16]]"
      ]
     },
     "execution_count": 14,
     "metadata": {},
     "output_type": "execute_result"
    }
   ],
   "source": [
    "[ [i * j for j in range(5)] for i in range(5)]"
   ]
  },
  {
   "cell_type": "markdown",
   "metadata": {},
   "source": [
    "**Nested Loops in Comprehensions**\n",
    "\n",
    "These are NOT nested comprehensions. Let's take a look at the regular way and compare it to having nested loops in a comprehension."
   ]
  },
  {
   "cell_type": "code",
   "execution_count": 18,
   "metadata": {},
   "outputs": [
    {
     "name": "stdout",
     "output_type": "stream",
     "text": [
      "[(0, 0, 0), (0, 0, 1), (0, 1, 0), (0, 1, 1), (1, 0, 0), (1, 0, 1), (1, 1, 0), (1, 1, 1)]\n"
     ]
    }
   ],
   "source": [
    "l = []\n",
    "\n",
    "for i in range(2):\n",
    "    for j in range(2):    \n",
    "        for k in range(2):    \n",
    "            l.append((i, j, k))\n",
    "            \n",
    "print(l)"
   ]
  },
  {
   "cell_type": "code",
   "execution_count": 20,
   "metadata": {},
   "outputs": [
    {
     "name": "stdout",
     "output_type": "stream",
     "text": [
      "[(0, 0, 0), (0, 0, 1), (0, 1, 0), (0, 1, 1), (1, 0, 0), (1, 0, 1), (1, 1, 0), (1, 1, 1)]\n"
     ]
    }
   ],
   "source": [
    "l = [(i, j, k) for i in range(2) for j in range(2) for k in range(2)]\n",
    "\n",
    "print(l)"
   ]
  },
  {
   "cell_type": "markdown",
   "metadata": {},
   "source": [
    "We can have `if` statements but be careful - the order of `for` and `if` matters. Make sure your `if` condition only references variables that are earlier on in the loop (excluding the first bit of the loop - `(i,j)` is the first bit of the loop below, but `i` and `j` are not declared here).\n",
    "\n",
    "```\n",
    "l = [(i, j) for i in range(2) for j in range(2) if i==j] # CORRECT\n",
    "l = [(i, j) for i in range(2) if i==j for j in range(2)] # WRONG, j not declared until 'for j...' but referenced earlier in 'i==j'\n",
    "```"
   ]
  },
  {
   "cell_type": "markdown",
   "metadata": {},
   "source": [
    "Here's an example with two conditions:"
   ]
  },
  {
   "cell_type": "code",
   "execution_count": 23,
   "metadata": {},
   "outputs": [
    {
     "data": {
      "text/plain": [
       "[(2, 3), (4, 3)]"
      ]
     },
     "execution_count": 23,
     "metadata": {},
     "output_type": "execute_result"
    }
   ],
   "source": [
    "[(i, j)\n",
    " for i in range(1,6) if i%2==0 \n",
    " for j in range(1,6) if j%3==0]"
   ]
  },
  {
   "cell_type": "markdown",
   "metadata": {},
   "source": [
    "But note, we could put both `if` statements at the end because both `i` and `j` are defined by then:"
   ]
  },
  {
   "cell_type": "code",
   "execution_count": 24,
   "metadata": {},
   "outputs": [
    {
     "data": {
      "text/plain": [
       "[(2, 3), (4, 3)]"
      ]
     },
     "execution_count": 24,
     "metadata": {},
     "output_type": "execute_result"
    }
   ],
   "source": [
    "[(i, j)\n",
    " for i in range(1,6) \n",
    " for j in range(1,6)\n",
    " if i%2==0\n",
    " if j%3==0]"
   ]
  },
  {
   "cell_type": "markdown",
   "metadata": {},
   "source": [
    "Here's another example. Note that there's a significant difference between enclosing and not enclosing the first expression in [ ]. \n",
    "\n",
    "If we want an output of `['ax', 'ay', 'az', 'bx', 'by', 'bz', 'cx', 'cy', 'cz']`, then we will only have **one** nested comprehension. As a result, the two variables are both local because they are both within the same [ ]."
   ]
  },
  {
   "cell_type": "code",
   "execution_count": 12,
   "metadata": {},
   "outputs": [
    {
     "name": "stdout",
     "output_type": "stream",
     "text": [
      "[['ax', 'bx', 'cx'], ['ay', 'by', 'cy'], ['az', 'bz', 'cz']]\n",
      "['ax', 'ay', 'az', 'bx', 'by', 'bz', 'cx', 'cy', 'cz']\n"
     ]
    }
   ],
   "source": [
    "l1 = ['a', 'b', 'c']\n",
    "l2 = ['x', 'y', 'z']\n",
    "\n",
    "nested_comp = [[s1 + s2 for s1 in l1] for s2 in l2]\n",
    "nested_loop = [s1 + s2 for s1 in l1 for s2 in l2]\n",
    "\n",
    "print(nested_comp)\n",
    "print(nested_loop)"
   ]
  },
  {
   "cell_type": "markdown",
   "metadata": {},
   "source": [
    "The easy way to interpret the nested loop expression is to recognise that the loops are in the same order as the traditional way, i.e.,\n",
    "\n",
    "```\n",
    "for s1 in l1:\n",
    "    for s2 in l2\n",
    "```"
   ]
  }
 ],
 "metadata": {
  "kernelspec": {
   "display_name": "Python 3 (ipykernel)",
   "language": "python",
   "name": "python3"
  },
  "language_info": {
   "codemirror_mode": {
    "name": "ipython",
    "version": 3
   },
   "file_extension": ".py",
   "mimetype": "text/x-python",
   "name": "python",
   "nbconvert_exporter": "python",
   "pygments_lexer": "ipython3",
   "version": "3.10.4"
  }
 },
 "nbformat": 4,
 "nbformat_minor": 4
}
