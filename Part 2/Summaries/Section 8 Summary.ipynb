{
 "cells": [
  {
   "cell_type": "markdown",
   "id": "01049b79-2c22-42f5-95d5-0c64764ccb11",
   "metadata": {},
   "source": [
    "We would've seen most of these iteration tools in the previous sections and you'll recognise that they're ***all*** **lazy iterators** and not **iterables**, making them highly efficient."
   ]
  },
  {
   "cell_type": "markdown",
   "id": "1cf799d3-87a6-4849-b841-3ec5ff1a8cda",
   "metadata": {},
   "source": [
    "# 01 - Aggregators"
   ]
  },
  {
   "cell_type": "markdown",
   "id": "fc4e9495-b896-46eb-9f6f-7f2edb325f2e",
   "metadata": {},
   "source": [
    "#### Lecture "
   ]
  },
  {
   "cell_type": "markdown",
   "id": "404edbab-ec8e-4c68-a908-c6c15cc3a6b1",
   "metadata": {},
   "source": [
    "Aggregators are functions that iterate through an iterable and returns a single value that (usually) takes into account every element of the iterable.\n",
    "\n",
    "For example `min(iterable)`, `max(iterable)`, `sum(iterable)`\n",
    "\n",
    "Also: `any(iterable)` and `all(iterable)`. Regarding these two, remember that **every** object has a truth value. The rule for all objects is the following:\n",
    "\n",
    "**Every object has a **`True`** truth value, **except**:\n",
    "\n",
    "- None\n",
    "- False\n",
    "- 0 in any numeric type (e.g. int, float etc)\n",
    "- empty sequences (e.g. list, tuple, string)\n",
    "- empty mapping types (e.g. dictionaries, sets)\n",
    "- custom classes that implement a `__bool__` or `__len__` method that returns False or 0. If neither is present, we default to `True`."
   ]
  },
  {
   "cell_type": "markdown",
   "id": "fae4ee29-79e1-44cf-81fc-af78aad66dff",
   "metadata": {},
   "source": [
    "**Definition**\n",
    "\n",
    "Predicate: A predicate is a function that takes a single argument and returns `True` or `False`. For example, `bool()`."
   ]
  },
  {
   "cell_type": "markdown",
   "id": "60bcdb9f-fb42-44a8-bac3-3b5ba88be907",
   "metadata": {},
   "source": [
    "We can make `all()` and `any()` more useful by first **applying a predicate** to each element of the iterable."
   ]
  },
  {
   "cell_type": "markdown",
   "id": "804670c3-fd9f-4e03-ba65-4d7599f85b64",
   "metadata": {},
   "source": [
    "#### Example 1"
   ]
  },
  {
   "cell_type": "markdown",
   "id": "2f8f744c-3fe7-4a0e-aee1-9f90ab05be89",
   "metadata": {},
   "source": [
    "For example, say we want to know if **every element is less that 10**:"
   ]
  },
  {
   "cell_type": "code",
   "execution_count": 18,
   "id": "35835cee-2709-4b1b-bd1d-b827b8c0b79a",
   "metadata": {},
   "outputs": [
    {
     "data": {
      "text/plain": [
       "False"
      ]
     },
     "execution_count": 18,
     "metadata": {},
     "output_type": "execute_result"
    }
   ],
   "source": [
    "l = [1, 2, 3, 4, 100, 5, 6]\n",
    "\n",
    "pred = lambda x: x < 10\n",
    "\n",
    "result = [pred(item) for item in l]\n",
    "\n",
    "all(result)"
   ]
  },
  {
   "cell_type": "markdown",
   "id": "61d0934e-c022-4e3b-b796-d175d0145218",
   "metadata": {},
   "source": [
    "The neater way to do this is using `map(fn, iterable)` which applies a **predicate** to each element in the iterable:"
   ]
  },
  {
   "cell_type": "code",
   "execution_count": 19,
   "id": "d20ae49c-e89e-48f4-a3ef-6458f5ded00a",
   "metadata": {},
   "outputs": [
    {
     "name": "stdout",
     "output_type": "stream",
     "text": [
      "Mapping 1, Mapping 2, Mapping 3, Mapping 4, Mapping 100, "
     ]
    },
    {
     "data": {
      "text/plain": [
       "False"
      ]
     },
     "execution_count": 19,
     "metadata": {},
     "output_type": "execute_result"
    }
   ],
   "source": [
    "def pred_new(x):\n",
    "    print(f'Mapping {x}', end=', ')\n",
    "    return x < 10\n",
    "\n",
    "all(map(pred_new, l))"
   ]
  },
  {
   "cell_type": "markdown",
   "id": "67b16e09-b13d-4755-9df1-23f32639536d",
   "metadata": {},
   "source": [
    "Because `map` is an iterator, it doesn't have to map every element first and then pass the result to `all()`. Instead, `all()` will lazily request a result from `map`; if it receives a `False` it will terminate immediately. This is why we don't see the final two elements (5 and 6) of `l` being printed."
   ]
  },
  {
   "cell_type": "markdown",
   "id": "73fc8a8b-2c82-4d54-87a0-fa96aec8d37b",
   "metadata": {},
   "source": [
    "If we do not want to use `map`, we should use a `generator comprehension`, *NOT* a list comprehension, so that we get the benefits of lazy evaluation."
   ]
  },
  {
   "cell_type": "code",
   "execution_count": 20,
   "id": "1a6322c1-9758-4a74-9b48-7f3a5e3c76a1",
   "metadata": {},
   "outputs": [
    {
     "name": "stdout",
     "output_type": "stream",
     "text": [
      "Mapping 1, Mapping 2, Mapping 3, Mapping 4, Mapping 100, "
     ]
    },
    {
     "data": {
      "text/plain": [
       "False"
      ]
     },
     "execution_count": 20,
     "metadata": {},
     "output_type": "execute_result"
    }
   ],
   "source": [
    "result = (pred_new(item) for item in l)\n",
    "all(result)"
   ]
  },
  {
   "cell_type": "markdown",
   "id": "afcaf0a9-9998-4174-a898-55a14b5b989a",
   "metadata": {},
   "source": [
    "#### Example 2"
   ]
  },
  {
   "cell_type": "markdown",
   "id": "da0a5fa0-6247-492e-ad86-7a2d02db0632",
   "metadata": {},
   "source": [
    "We have a file call `car-brands.txt`. We want to know if **every** car name is longer than 3 (4 including the \\n character at the end):\n",
    "\n",
    "Recall that `open(<file>)` (or `f`) is a lazy iterator - we don't need to loop through each line. We can pass `f` to another iterator such as `map`, and pass that output to another iterator such as `all` or `any` and they'll terminate at the right time. "
   ]
  },
  {
   "cell_type": "code",
   "execution_count": 26,
   "id": "996c43b0-3ea3-4abd-a5e2-6af64ad271ec",
   "metadata": {},
   "outputs": [
    {
     "name": "stdout",
     "output_type": "stream",
     "text": [
      "True\n"
     ]
    }
   ],
   "source": [
    "filename = '../Section 08 - Iteration Tools/01 - Aggregators/car-brands.txt'\n",
    "\n",
    "with open(filename) as f:\n",
    "    result = all(map(lambda row: len(row) >= 4, f))\n",
    "    print(result)"
   ]
  },
  {
   "cell_type": "markdown",
   "id": "f96715aa-b3d7-45ac-a9af-b92a80cb7779",
   "metadata": {},
   "source": [
    "# 02 - Slicing Iterables"
   ]
  },
  {
   "cell_type": "markdown",
   "id": "8b7f4896-53b1-4166-8063-a34e38e237c9",
   "metadata": {},
   "source": [
    "Recall that we could slice sequences with `[]` notation as well as the `slice` object:"
   ]
  },
  {
   "cell_type": "code",
   "execution_count": 32,
   "id": "98f5cc49-0684-444b-861e-6b9971d38da1",
   "metadata": {},
   "outputs": [
    {
     "name": "stdout",
     "output_type": "stream",
     "text": [
      "[2, 4, 6]\n",
      "[2, 4, 6]\n"
     ]
    }
   ],
   "source": [
    "seq = list(range(0, 10, 1))\n",
    "print(seq[2:8:2])\n",
    "print(seq[slice(2, 8, 2)])"
   ]
  },
  {
   "cell_type": "markdown",
   "id": "35bfa34b-0eaf-4903-9912-f1892a0b8fb8",
   "metadata": {},
   "source": [
    "But we can slice **iterables** (including **iterators**) with `islice` from `itertools`:\n",
    "```python\n",
    "islice(iterable, start, stop, step)\n",
    "```\n",
    "\n",
    "- `islice` will iterate through the iterable until it has met the conditions of the slice. For example, if we only want a slice of the first 5 objects of an infinite iterable, it will raise the `StopIteration` error after the 5th element\n",
    "- Recalling that all itertools are **iterators**, `islice()` will *yield* a value, not return it, and hence `islice` returns a **lazy iterator**."
   ]
  },
  {
   "cell_type": "markdown",
   "id": "eec5424c-ba55-49c9-98c7-52c44ec3d3c8",
   "metadata": {},
   "source": [
    "In the example below `factorials()` is an infinite iterable (more specifically an iterator), not a sequence, so it cannot be sliced regularly - we need to use `islice`. "
   ]
  },
  {
   "cell_type": "code",
   "execution_count": 46,
   "id": "b60a84c5-b389-490d-b345-a118892c11cb",
   "metadata": {},
   "outputs": [
    {
     "data": {
      "text/plain": [
       "[2, 24, 720, 40320]"
      ]
     },
     "execution_count": 46,
     "metadata": {},
     "output_type": "execute_result"
    }
   ],
   "source": [
    "import math\n",
    "from itertools import islice\n",
    "\n",
    "def factorials():\n",
    "    idx = 0\n",
    "    while True:\n",
    "        yield math.factorial(idx)\n",
    "        idx += 1\n",
    "\n",
    "result = islice(factorials(), 2, 9, 2)\n",
    "list(result)"
   ]
  },
  {
   "cell_type": "markdown",
   "id": "6dbda947-fdab-4d5f-a030-d5eaac28c970",
   "metadata": {},
   "source": [
    "We've exhausted the `islice` iterator, so we can't reuse it."
   ]
  },
  {
   "cell_type": "code",
   "execution_count": 41,
   "id": "6aeaf9a4-f43c-40e4-8532-99094b6d4fd3",
   "metadata": {},
   "outputs": [
    {
     "data": {
      "text/plain": [
       "[]"
      ]
     },
     "execution_count": 41,
     "metadata": {},
     "output_type": "execute_result"
    }
   ],
   "source": [
    "list(result)"
   ]
  },
  {
   "cell_type": "markdown",
   "id": "4167b582-8365-49d0-9295-2bd1836455e5",
   "metadata": {},
   "source": [
    "# 03 - Selecting and Filtering"
   ]
  },
  {
   "cell_type": "markdown",
   "id": "b3297aba-00af-4c3a-95a7-324b0b67e5c0",
   "metadata": {},
   "source": [
    "#### `filter`"
   ]
  },
  {
   "cell_type": "markdown",
   "id": "3a053a72-cfca-4043-ab30-e6089ce3f856",
   "metadata": {},
   "source": [
    "The `filter` function takes an iterable and applies a predicate to it. If the predicate returns `True`, it will retain that element; otherwise, it'll throw it away.\n",
    "```python\n",
    "filter(predicate, iterable)\n",
    "```\n",
    "\n",
    "The equivalent way to get the same functionality of `filter` is with the following:\n",
    "```python\n",
    "(item for item in iterable if pred(item))\n",
    "```"
   ]
  },
  {
   "cell_type": "code",
   "execution_count": 52,
   "id": "cab16600-2211-46a8-be78-3beb53828c0a",
   "metadata": {},
   "outputs": [
    {
     "data": {
      "text/plain": [
       "<filter at 0x20c76f4e9b0>"
      ]
     },
     "execution_count": 52,
     "metadata": {},
     "output_type": "execute_result"
    }
   ],
   "source": [
    "l = [2, 1, 10, 5, 3, 6, 1, 10]\n",
    "result = filter(lambda x: x < 4, l)\n",
    "result"
   ]
  },
  {
   "cell_type": "code",
   "execution_count": 53,
   "id": "c0ca3217-b1b3-459d-9dbe-9ae6c7d0b240",
   "metadata": {},
   "outputs": [
    {
     "data": {
      "text/plain": [
       "[2, 1, 3, 1]"
      ]
     },
     "execution_count": 53,
     "metadata": {},
     "output_type": "execute_result"
    }
   ],
   "source": [
    "list(result)"
   ]
  },
  {
   "cell_type": "markdown",
   "id": "7bd329bc-a289-4b30-af32-816ae9d003bf",
   "metadata": {},
   "source": [
    "#### `filterfalse` "
   ]
  },
  {
   "cell_type": "markdown",
   "id": "8fe42c78-0318-4e6b-aff0-4c8db71dcc32",
   "metadata": {},
   "source": [
    "This is not builtin but it's in the standard library. It does what it says on the tin:"
   ]
  },
  {
   "cell_type": "code",
   "execution_count": 55,
   "id": "946b960e-a243-4c84-b82b-fb90afdf4da3",
   "metadata": {},
   "outputs": [
    {
     "data": {
      "text/plain": [
       "[10, 5, 6, 10]"
      ]
     },
     "execution_count": 55,
     "metadata": {},
     "output_type": "execute_result"
    }
   ],
   "source": [
    "from itertools import filterfalse\n",
    "\n",
    "l = [2, 1, 10, 5, 3, 6, 1, 10]\n",
    "result = filterfalse(lambda x: x < 4, l)\n",
    "list(result)"
   ]
  },
  {
   "cell_type": "markdown",
   "id": "e4282529-1e32-432c-9436-cc24b0ceb0e9",
   "metadata": {},
   "source": [
    "#### `compress`"
   ]
  },
  {
   "cell_type": "markdown",
   "id": "c4fcac6e-1aeb-4066-a8d2-c3d89bc26c72",
   "metadata": {},
   "source": [
    "This is not a compressor in the sense of say a zip archive.\n",
    "\n",
    "It is basically a way of *filtering* one iterable, using the truthiness of items in another iterable, pairwise."
   ]
  },
  {
   "cell_type": "markdown",
   "id": "1600c26c-0760-4700-9903-96a620f0c1e9",
   "metadata": {},
   "source": [
    "```python\n",
    "data =      ['a',   'b', 'c', 'd',   'e']\n",
    "              ^      ^    ^    ^      ^\n",
    "              |      |    |    |      |\n",
    "selectors = [True, False, 1,   0]  # None\n",
    "\n",
    "compress(data, selectors) -> 'a', 'c'\n",
    "```\n",
    "Since the first and third element of `selectors` are truthy, we will only yield the first and third elements of `data`."
   ]
  },
  {
   "cell_type": "markdown",
   "id": "3e3fa5ba-94ce-490b-8447-117542273c7a",
   "metadata": {},
   "source": [
    "#### `takewhile`"
   ]
  },
  {
   "cell_type": "markdown",
   "id": "ff410949-c3eb-48c3-8fdb-f3e914dc3c5c",
   "metadata": {},
   "source": [
    "```python\n",
    "takewhile(pred, iterable)\n",
    "```\n",
    "This function returns an iterator that will yield while `predicate(item)` is Truthy. Once we run into a Falsy value, the iterator becomes exhausted."
   ]
  },
  {
   "cell_type": "code",
   "execution_count": 61,
   "id": "2c76d3d8-429c-4bc0-8a64-f2c16a8b0ada",
   "metadata": {},
   "outputs": [
    {
     "name": "stdout",
     "output_type": "stream",
     "text": [
      "1\n",
      "2\n"
     ]
    }
   ],
   "source": [
    "from itertools import takewhile\n",
    "\n",
    "result = takewhile(lambda x: x < 5, [1, 2, 10, 3, 4])\n",
    "\n",
    "for i in result:\n",
    "    print(i)"
   ]
  },
  {
   "cell_type": "markdown",
   "id": "9d9e31ab-017e-4347-8693-a3806e40153c",
   "metadata": {},
   "source": [
    "#### `dropwhile`"
   ]
  },
  {
   "cell_type": "markdown",
   "id": "9d854b59-1078-4470-a952-847108242984",
   "metadata": {},
   "source": [
    "```python\n",
    "dropwhile(pred, iterable)\n",
    "```\n",
    "This function is the inverse of the above. It returns an iterator that will start iterating and `yield` *all* remaining items unconditionally only once `predicate(item)` becomes Falsy."
   ]
  },
  {
   "cell_type": "code",
   "execution_count": 63,
   "id": "2af8492d-53d1-4a5e-9798-cea614734b6d",
   "metadata": {},
   "outputs": [
    {
     "name": "stdout",
     "output_type": "stream",
     "text": [
      "10\n",
      "3\n",
      "4\n"
     ]
    }
   ],
   "source": [
    "from itertools import dropwhile\n",
    "\n",
    "result = dropwhile(lambda x: x < 5, [1, 2, 10, 3, 4])\n",
    "\n",
    "for i in result:\n",
    "    print(i)"
   ]
  },
  {
   "cell_type": "markdown",
   "id": "d8046c8d-9dde-49f5-b6d6-eae8e23cbb77",
   "metadata": {},
   "source": [
    "# 04 - Infinite Iterators"
   ]
  },
  {
   "cell_type": "markdown",
   "id": "a58d0a98-30c3-4d34-89c3-7f0bad710c9d",
   "metadata": {},
   "source": [
    "# 05 - Chaining and Teeing Iterators"
   ]
  },
  {
   "cell_type": "markdown",
   "id": "da13f886-516a-4d44-8eed-92393040d82d",
   "metadata": {},
   "source": [
    "# 06 - Mapping and Reducing"
   ]
  },
  {
   "cell_type": "markdown",
   "id": "9fa73bcd-c4db-4616-a5b5-2f7f3b2210d0",
   "metadata": {},
   "source": [
    "# 07 - Zipping"
   ]
  },
  {
   "cell_type": "markdown",
   "id": "e9fe376a-3155-4fb6-9f89-16c5d5cdacf1",
   "metadata": {},
   "source": [
    "# 08 - Grouping"
   ]
  },
  {
   "cell_type": "markdown",
   "id": "36b5e836-732e-482d-867d-0f4ce2df1f32",
   "metadata": {},
   "source": [
    "# 09 - Combinatorics"
   ]
  },
  {
   "cell_type": "code",
   "execution_count": null,
   "id": "cb35235b-124e-4f10-8596-b1a9d377b498",
   "metadata": {},
   "outputs": [],
   "source": []
  }
 ],
 "metadata": {
  "kernelspec": {
   "display_name": "Python 3 (ipykernel)",
   "language": "python",
   "name": "python3"
  },
  "language_info": {
   "codemirror_mode": {
    "name": "ipython",
    "version": 3
   },
   "file_extension": ".py",
   "mimetype": "text/x-python",
   "name": "python",
   "nbconvert_exporter": "python",
   "pygments_lexer": "ipython3",
   "version": "3.10.4"
  }
 },
 "nbformat": 4,
 "nbformat_minor": 5
}
