{
 "cells": [
  {
   "cell_type": "markdown",
   "id": "01049b79-2c22-42f5-95d5-0c64764ccb11",
   "metadata": {},
   "source": [
    "We would've seen most of these iteration tools in the previous sections and you'll recognise that they're all **lazy iterators** and not **iterables**, making them highly efficient."
   ]
  },
  {
   "cell_type": "markdown",
   "id": "1cf799d3-87a6-4849-b841-3ec5ff1a8cda",
   "metadata": {},
   "source": [
    "# 01 - Aggregators"
   ]
  },
  {
   "cell_type": "code",
   "execution_count": null,
   "id": "71ca6bba-ac9c-4cec-9f2c-dffdf5a980ca",
   "metadata": {},
   "outputs": [],
   "source": []
  },
  {
   "cell_type": "code",
   "execution_count": null,
   "id": "a8f9d5d9-b8f5-427e-84d9-c1b39e735f3b",
   "metadata": {},
   "outputs": [],
   "source": []
  },
  {
   "cell_type": "code",
   "execution_count": null,
   "id": "bd23e7f7-2eba-4f46-8381-bf579789ed1e",
   "metadata": {},
   "outputs": [],
   "source": []
  },
  {
   "cell_type": "markdown",
   "id": "f96715aa-b3d7-45ac-a9af-b92a80cb7779",
   "metadata": {},
   "source": [
    "# 02 - Slicing Iterables"
   ]
  },
  {
   "cell_type": "markdown",
   "id": "4167b582-8365-49d0-9295-2bd1836455e5",
   "metadata": {},
   "source": [
    "# 03 - Selecting and Filtering"
   ]
  },
  {
   "cell_type": "markdown",
   "id": "d8046c8d-9dde-49f5-b6d6-eae8e23cbb77",
   "metadata": {},
   "source": [
    "# 04 - Infinite Iterators"
   ]
  },
  {
   "cell_type": "markdown",
   "id": "a58d0a98-30c3-4d34-89c3-7f0bad710c9d",
   "metadata": {},
   "source": [
    "# 05 - Chaining and Teeing Iterators"
   ]
  },
  {
   "cell_type": "markdown",
   "id": "da13f886-516a-4d44-8eed-92393040d82d",
   "metadata": {},
   "source": [
    "# 06 - Mapping and Reducing"
   ]
  },
  {
   "cell_type": "markdown",
   "id": "9fa73bcd-c4db-4616-a5b5-2f7f3b2210d0",
   "metadata": {},
   "source": [
    "# 07 - Zipping"
   ]
  },
  {
   "cell_type": "markdown",
   "id": "e9fe376a-3155-4fb6-9f89-16c5d5cdacf1",
   "metadata": {},
   "source": [
    "# 08 - Grouping"
   ]
  },
  {
   "cell_type": "markdown",
   "id": "36b5e836-732e-482d-867d-0f4ce2df1f32",
   "metadata": {},
   "source": [
    "# 09 - Combinatorics"
   ]
  },
  {
   "cell_type": "code",
   "execution_count": null,
   "id": "cb35235b-124e-4f10-8596-b1a9d377b498",
   "metadata": {},
   "outputs": [],
   "source": []
  }
 ],
 "metadata": {
  "kernelspec": {
   "display_name": "Python 3 (ipykernel)",
   "language": "python",
   "name": "python3"
  },
  "language_info": {
   "codemirror_mode": {
    "name": "ipython",
    "version": 3
   },
   "file_extension": ".py",
   "mimetype": "text/x-python",
   "name": "python",
   "nbconvert_exporter": "python",
   "pygments_lexer": "ipython3",
   "version": "3.10.4"
  }
 },
 "nbformat": 4,
 "nbformat_minor": 5
}
