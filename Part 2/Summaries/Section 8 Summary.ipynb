{
 "cells": [
  {
   "cell_type": "markdown",
   "id": "01049b79-2c22-42f5-95d5-0c64764ccb11",
   "metadata": {},
   "source": [
    "We would've seen most of these iteration tools in the previous sections and you'll recognise that they're ***all*** **lazy iterators** and not **iterables**, making them highly efficient."
   ]
  },
  {
   "cell_type": "markdown",
   "id": "1cf799d3-87a6-4849-b841-3ec5ff1a8cda",
   "metadata": {},
   "source": [
    "# 01 - Aggregators"
   ]
  },
  {
   "cell_type": "markdown",
   "id": "fc4e9495-b896-46eb-9f6f-7f2edb325f2e",
   "metadata": {},
   "source": [
    "#### Lecture "
   ]
  },
  {
   "cell_type": "markdown",
   "id": "404edbab-ec8e-4c68-a908-c6c15cc3a6b1",
   "metadata": {},
   "source": [
    "Aggregators are functions that iterate through an iterable and returns a single value that (usually) takes into account every element of the iterable.\n",
    "\n",
    "For example `min(iterable)`, `max(iterable)`, `sum(iterable)`\n",
    "\n",
    "Also: `any(iterable)` and `all(iterable)`. Regarding these two, remember that **every** object has a truth value. The rule for all objects is the following:\n",
    "\n",
    "Every object has a **`True`** truth value, **except**:\n",
    "\n",
    "- None\n",
    "- False\n",
    "- 0 in any numeric type (e.g. int, float etc)\n",
    "- empty sequences (e.g. list, tuple, string)\n",
    "- empty mapping types (e.g. dictionaries, sets)\n",
    "- custom classes that implement a `__bool__` or `__len__` method that returns False or 0. If neither is present, we default to `True`."
   ]
  },
  {
   "cell_type": "markdown",
   "id": "fae4ee29-79e1-44cf-81fc-af78aad66dff",
   "metadata": {},
   "source": [
    "**Definition**\n",
    "\n",
    "Predicate: A predicate is a function that takes a single argument and returns `True` or `False`. For example, `bool()`."
   ]
  },
  {
   "cell_type": "markdown",
   "id": "60bcdb9f-fb42-44a8-bac3-3b5ba88be907",
   "metadata": {},
   "source": [
    "We can make `all()` and `any()` more useful by first **applying a predicate** to each element of the iterable."
   ]
  },
  {
   "cell_type": "markdown",
   "id": "804670c3-fd9f-4e03-ba65-4d7599f85b64",
   "metadata": {},
   "source": [
    "#### Example 1"
   ]
  },
  {
   "cell_type": "markdown",
   "id": "2f8f744c-3fe7-4a0e-aee1-9f90ab05be89",
   "metadata": {},
   "source": [
    "For example, say we want to know if **every element is less that 10**:"
   ]
  },
  {
   "cell_type": "code",
   "execution_count": 18,
   "id": "35835cee-2709-4b1b-bd1d-b827b8c0b79a",
   "metadata": {},
   "outputs": [
    {
     "data": {
      "text/plain": [
       "False"
      ]
     },
     "execution_count": 18,
     "metadata": {},
     "output_type": "execute_result"
    }
   ],
   "source": [
    "l = [1, 2, 3, 4, 100, 5, 6]\n",
    "\n",
    "pred = lambda x: x < 10\n",
    "\n",
    "result = [pred(item) for item in l]\n",
    "\n",
    "all(result)"
   ]
  },
  {
   "cell_type": "markdown",
   "id": "61d0934e-c022-4e3b-b796-d175d0145218",
   "metadata": {},
   "source": [
    "The neater way to do this is using `map(fn, iterable)` which applies a **predicate** to each element in the iterable:"
   ]
  },
  {
   "cell_type": "code",
   "execution_count": 19,
   "id": "d20ae49c-e89e-48f4-a3ef-6458f5ded00a",
   "metadata": {},
   "outputs": [
    {
     "name": "stdout",
     "output_type": "stream",
     "text": [
      "Mapping 1, Mapping 2, Mapping 3, Mapping 4, Mapping 100, "
     ]
    },
    {
     "data": {
      "text/plain": [
       "False"
      ]
     },
     "execution_count": 19,
     "metadata": {},
     "output_type": "execute_result"
    }
   ],
   "source": [
    "def pred_new(x):\n",
    "    print(f'Mapping {x}', end=', ')\n",
    "    return x < 10\n",
    "\n",
    "all(map(pred_new, l))"
   ]
  },
  {
   "cell_type": "markdown",
   "id": "67b16e09-b13d-4755-9df1-23f32639536d",
   "metadata": {},
   "source": [
    "Because `map` is an iterator, it doesn't have to map every element first and then pass the result to `all()`. Instead, `all()` will lazily request a result from `map`; if it receives a `False` it will terminate immediately. This is why we don't see the final two elements (5 and 6) of `l` being printed."
   ]
  },
  {
   "cell_type": "markdown",
   "id": "73fc8a8b-2c82-4d54-87a0-fa96aec8d37b",
   "metadata": {},
   "source": [
    "If we do not want to use `map`, we should use a `generator comprehension`, *NOT* a list comprehension, so that we get the benefits of lazy evaluation."
   ]
  },
  {
   "cell_type": "code",
   "execution_count": 20,
   "id": "1a6322c1-9758-4a74-9b48-7f3a5e3c76a1",
   "metadata": {},
   "outputs": [
    {
     "name": "stdout",
     "output_type": "stream",
     "text": [
      "Mapping 1, Mapping 2, Mapping 3, Mapping 4, Mapping 100, "
     ]
    },
    {
     "data": {
      "text/plain": [
       "False"
      ]
     },
     "execution_count": 20,
     "metadata": {},
     "output_type": "execute_result"
    }
   ],
   "source": [
    "result = (pred_new(item) for item in l)\n",
    "all(result)"
   ]
  },
  {
   "cell_type": "markdown",
   "id": "afcaf0a9-9998-4174-a898-55a14b5b989a",
   "metadata": {},
   "source": [
    "#### Example 2"
   ]
  },
  {
   "cell_type": "markdown",
   "id": "da0a5fa0-6247-492e-ad86-7a2d02db0632",
   "metadata": {},
   "source": [
    "We have a file call `car-brands.txt`. We want to know if **every** car name is longer than 3 (4 including the \\n character at the end):\n",
    "\n",
    "Recall that `open(<file>)` (or `f`) is a lazy iterator - we don't need to loop through each line. We can pass `f` to another iterator such as `map`, and pass that output to another iterator such as `all` or `any` and they'll terminate at the right time. "
   ]
  },
  {
   "cell_type": "code",
   "execution_count": 26,
   "id": "996c43b0-3ea3-4abd-a5e2-6af64ad271ec",
   "metadata": {},
   "outputs": [
    {
     "name": "stdout",
     "output_type": "stream",
     "text": [
      "True\n"
     ]
    }
   ],
   "source": [
    "filename = '../Section 08 - Iteration Tools/01 - Aggregators/car-brands.txt'\n",
    "\n",
    "with open(filename) as f:\n",
    "    result = all(map(lambda row: len(row) >= 4, f))\n",
    "    print(result)"
   ]
  },
  {
   "cell_type": "markdown",
   "id": "f96715aa-b3d7-45ac-a9af-b92a80cb7779",
   "metadata": {},
   "source": [
    "# 02 - Slicing Iterables"
   ]
  },
  {
   "cell_type": "markdown",
   "id": "8b7f4896-53b1-4166-8063-a34e38e237c9",
   "metadata": {},
   "source": [
    "Recall that we could slice sequences with `[]` notation as well as the `slice` object:"
   ]
  },
  {
   "cell_type": "code",
   "execution_count": 32,
   "id": "98f5cc49-0684-444b-861e-6b9971d38da1",
   "metadata": {},
   "outputs": [
    {
     "name": "stdout",
     "output_type": "stream",
     "text": [
      "[2, 4, 6]\n",
      "[2, 4, 6]\n"
     ]
    }
   ],
   "source": [
    "seq = list(range(0, 10, 1))\n",
    "print(seq[2:8:2])\n",
    "print(seq[slice(2, 8, 2)])"
   ]
  },
  {
   "cell_type": "markdown",
   "id": "35bfa34b-0eaf-4903-9912-f1892a0b8fb8",
   "metadata": {},
   "source": [
    "But we can slice **iterables** (including **iterators**) with `islice` from `itertools`:\n",
    "```python\n",
    "islice(iterable, start, stop, step)\n",
    "```\n",
    "\n",
    "- `islice` will iterate through the iterable until it has met the conditions of the slice. For example, if we only want a slice of the first 5 objects of an infinite iterable, it will raise the `StopIteration` error after the 5th element\n",
    "- Recalling that all itertools are **iterators**, `islice()` will *yield* a value, not return it, and hence `islice` returns a **lazy iterator**."
   ]
  },
  {
   "cell_type": "markdown",
   "id": "eec5424c-ba55-49c9-98c7-52c44ec3d3c8",
   "metadata": {},
   "source": [
    "In the example below `factorials()` is an infinite iterable (more specifically an iterator), not a sequence, so it cannot be sliced regularly - we need to use `islice`. "
   ]
  },
  {
   "cell_type": "code",
   "execution_count": 46,
   "id": "b60a84c5-b389-490d-b345-a118892c11cb",
   "metadata": {},
   "outputs": [
    {
     "data": {
      "text/plain": [
       "[2, 24, 720, 40320]"
      ]
     },
     "execution_count": 46,
     "metadata": {},
     "output_type": "execute_result"
    }
   ],
   "source": [
    "import math\n",
    "from itertools import islice\n",
    "\n",
    "def factorials():\n",
    "    idx = 0\n",
    "    while True:\n",
    "        yield math.factorial(idx)\n",
    "        idx += 1\n",
    "\n",
    "result = islice(factorials(), 2, 9, 2)\n",
    "list(result)"
   ]
  },
  {
   "cell_type": "markdown",
   "id": "6dbda947-fdab-4d5f-a030-d5eaac28c970",
   "metadata": {},
   "source": [
    "We've exhausted the `islice` iterator, so we can't reuse it."
   ]
  },
  {
   "cell_type": "code",
   "execution_count": 41,
   "id": "6aeaf9a4-f43c-40e4-8532-99094b6d4fd3",
   "metadata": {},
   "outputs": [
    {
     "data": {
      "text/plain": [
       "[]"
      ]
     },
     "execution_count": 41,
     "metadata": {},
     "output_type": "execute_result"
    }
   ],
   "source": [
    "list(result)"
   ]
  },
  {
   "cell_type": "markdown",
   "id": "4167b582-8365-49d0-9295-2bd1836455e5",
   "metadata": {},
   "source": [
    "# 03 - Selecting and Filtering"
   ]
  },
  {
   "cell_type": "markdown",
   "id": "b3297aba-00af-4c3a-95a7-324b0b67e5c0",
   "metadata": {},
   "source": [
    "#### `filter`"
   ]
  },
  {
   "cell_type": "markdown",
   "id": "3a053a72-cfca-4043-ab30-e6089ce3f856",
   "metadata": {},
   "source": [
    "The `filter` function takes an iterable and applies a predicate to it. If the predicate returns `True`, it will retain that element; otherwise, it'll throw it away.\n",
    "```python\n",
    "filter(predicate, iterable)\n",
    "```\n",
    "\n",
    "The equivalent way to get the same functionality of `filter` is with the following:\n",
    "```python\n",
    "(item for item in iterable if pred(item))\n",
    "```"
   ]
  },
  {
   "cell_type": "markdown",
   "id": "421a16d5-4811-45a0-a8ca-e37c75b89880",
   "metadata": {},
   "source": [
    "##### Example 1"
   ]
  },
  {
   "cell_type": "code",
   "execution_count": 1,
   "id": "cab16600-2211-46a8-be78-3beb53828c0a",
   "metadata": {},
   "outputs": [
    {
     "data": {
      "text/plain": [
       "<filter at 0x17bd3bda430>"
      ]
     },
     "execution_count": 1,
     "metadata": {},
     "output_type": "execute_result"
    }
   ],
   "source": [
    "l = [2, 1, 10, 5, 3, 6, 1, 10]\n",
    "result = filter(lambda x: x < 4, l)\n",
    "result"
   ]
  },
  {
   "cell_type": "code",
   "execution_count": 2,
   "id": "c0ca3217-b1b3-459d-9dbe-9ae6c7d0b240",
   "metadata": {},
   "outputs": [
    {
     "data": {
      "text/plain": [
       "[2, 1, 3, 1]"
      ]
     },
     "execution_count": 2,
     "metadata": {},
     "output_type": "execute_result"
    }
   ],
   "source": [
    "list(result)"
   ]
  },
  {
   "cell_type": "markdown",
   "id": "0b6a30cc-ad65-4bc3-87c6-b909f31f4cf5",
   "metadata": {},
   "source": [
    "##### Example 2"
   ]
  },
  {
   "cell_type": "markdown",
   "id": "a27791ce-5dc3-4dcb-afcd-e9b984924cee",
   "metadata": {},
   "source": [
    "In this example, we are going to iterate through a list of cube values and throw away all the values that are even, but we're going to do it lazily."
   ]
  },
  {
   "cell_type": "code",
   "execution_count": 15,
   "id": "e64052c8-ddbc-4946-b9e6-7de28ef00ec3",
   "metadata": {},
   "outputs": [],
   "source": [
    "def gen_cubes(n):\n",
    "    for i in range(n):\n",
    "        print(f'yielding {i}')\n",
    "        yield i**3"
   ]
  },
  {
   "cell_type": "code",
   "execution_count": 16,
   "id": "ec0f37ae-bcd0-4d1f-9ed0-dd313fdb52d7",
   "metadata": {},
   "outputs": [],
   "source": [
    "def is_odd(x):\n",
    "    return x % 2 == 1"
   ]
  },
  {
   "cell_type": "code",
   "execution_count": 17,
   "id": "cf315bb2-cb5a-4c93-8824-2fecfa4ca039",
   "metadata": {},
   "outputs": [],
   "source": [
    "filtered = filter(is_odd, gen_cubes(10))"
   ]
  },
  {
   "cell_type": "code",
   "execution_count": 18,
   "id": "9dcf9d15-0b36-46a2-8b24-9bea76b4772e",
   "metadata": {},
   "outputs": [
    {
     "name": "stdout",
     "output_type": "stream",
     "text": [
      "yielding 0\n",
      "yielding 1\n",
      "yielding 2\n",
      "yielding 3\n",
      "yielding 4\n",
      "yielding 5\n",
      "yielding 6\n",
      "yielding 7\n",
      "yielding 8\n",
      "yielding 9\n"
     ]
    },
    {
     "data": {
      "text/plain": [
       "[1, 27, 125, 343, 729]"
      ]
     },
     "execution_count": 18,
     "metadata": {},
     "output_type": "execute_result"
    }
   ],
   "source": [
    "list(filtered)"
   ]
  },
  {
   "cell_type": "markdown",
   "id": "7bd329bc-a289-4b30-af32-816ae9d003bf",
   "metadata": {},
   "source": [
    "##### `filterfalse` "
   ]
  },
  {
   "cell_type": "markdown",
   "id": "8fe42c78-0318-4e6b-aff0-4c8db71dcc32",
   "metadata": {},
   "source": [
    "This is not builtin but it's in the standard library. It does what it says on the tin:"
   ]
  },
  {
   "cell_type": "markdown",
   "id": "e3428870-cadd-4e65-a25d-519c1aef6934",
   "metadata": {},
   "source": [
    "##### Example 1"
   ]
  },
  {
   "cell_type": "code",
   "execution_count": 3,
   "id": "946b960e-a243-4c84-b82b-fb90afdf4da3",
   "metadata": {},
   "outputs": [
    {
     "data": {
      "text/plain": [
       "[10, 5, 6, 10]"
      ]
     },
     "execution_count": 3,
     "metadata": {},
     "output_type": "execute_result"
    }
   ],
   "source": [
    "from itertools import filterfalse\n",
    "\n",
    "l = [2, 1, 10, 5, 3, 6, 1, 10]\n",
    "result = filterfalse(lambda x: x < 4, l)\n",
    "list(result)"
   ]
  },
  {
   "cell_type": "markdown",
   "id": "babb9ecd-92fe-43a7-9809-310acbda2ec6",
   "metadata": {},
   "source": [
    "##### Example 2"
   ]
  },
  {
   "cell_type": "markdown",
   "id": "db74835b-f720-46fd-9c8a-2f69e3bda374",
   "metadata": {},
   "source": [
    "This is the same as the example in `filter` but the inverse."
   ]
  },
  {
   "cell_type": "code",
   "execution_count": 19,
   "id": "ae6aebba-467e-429c-97e3-7c6903dc6d92",
   "metadata": {},
   "outputs": [],
   "source": [
    "def gen_cubes(n):\n",
    "    for i in range(n):\n",
    "        print(f'yielding {i}')\n",
    "        yield i**3"
   ]
  },
  {
   "cell_type": "code",
   "execution_count": 20,
   "id": "7a4f5ae3-930a-43c9-b9f7-d99051c3dfe7",
   "metadata": {},
   "outputs": [],
   "source": [
    "def is_odd(x):\n",
    "    return x % 2 == 1"
   ]
  },
  {
   "cell_type": "code",
   "execution_count": 21,
   "id": "fdd3d019-b00f-489b-aaf1-4d6f56e5f281",
   "metadata": {},
   "outputs": [],
   "source": [
    "filtered = filterfalse(is_odd, gen_cubes(10))"
   ]
  },
  {
   "cell_type": "code",
   "execution_count": 22,
   "id": "923d325a-186d-4ca9-bd18-30a0f4082854",
   "metadata": {},
   "outputs": [
    {
     "name": "stdout",
     "output_type": "stream",
     "text": [
      "yielding 0\n",
      "yielding 1\n",
      "yielding 2\n",
      "yielding 3\n",
      "yielding 4\n",
      "yielding 5\n",
      "yielding 6\n",
      "yielding 7\n",
      "yielding 8\n",
      "yielding 9\n"
     ]
    },
    {
     "data": {
      "text/plain": [
       "[0, 8, 64, 216, 512]"
      ]
     },
     "execution_count": 22,
     "metadata": {},
     "output_type": "execute_result"
    }
   ],
   "source": [
    "list(filtered)"
   ]
  },
  {
   "cell_type": "markdown",
   "id": "e4282529-1e32-432c-9436-cc24b0ceb0e9",
   "metadata": {},
   "source": [
    "#### `compress`"
   ]
  },
  {
   "cell_type": "markdown",
   "id": "c4fcac6e-1aeb-4066-a8d2-c3d89bc26c72",
   "metadata": {},
   "source": [
    "This is not a compressor in the sense of say a zip archive.\n",
    "\n",
    "It is basically a way of *filtering* one iterable, using the truthiness of items in another iterable, pairwise."
   ]
  },
  {
   "cell_type": "markdown",
   "id": "1600c26c-0760-4700-9903-96a620f0c1e9",
   "metadata": {},
   "source": [
    "```python\n",
    "data =      ['a',   'b', 'c', 'd',   'e']\n",
    "              ^      ^    ^    ^      ^\n",
    "              |      |    |    |      |\n",
    "selectors = [True, False, 1,   0]  # None\n",
    "\n",
    "compress(data, selectors) -> 'a', 'c'\n",
    "```\n",
    "Since the first and third element of `selectors` are truthy, we will only yield the first and third elements of `data`."
   ]
  },
  {
   "cell_type": "code",
   "execution_count": 23,
   "id": "87b6ad87-86d2-4ba7-a761-b1445322c15d",
   "metadata": {},
   "outputs": [
    {
     "data": {
      "text/plain": [
       "['a', 'c']"
      ]
     },
     "execution_count": 23,
     "metadata": {},
     "output_type": "execute_result"
    }
   ],
   "source": [
    "from itertools import compress\n",
    "\n",
    "data = ['a', 'b', 'c', 'd', 'e']\n",
    "selectors = [True, False, 1, 0]\n",
    "\n",
    "compressed = compress(data, selectors)\n",
    "list(compressed)"
   ]
  },
  {
   "cell_type": "markdown",
   "id": "3e3fa5ba-94ce-490b-8447-117542273c7a",
   "metadata": {},
   "source": [
    "#### `takewhile`"
   ]
  },
  {
   "cell_type": "markdown",
   "id": "ff410949-c3eb-48c3-8fdb-f3e914dc3c5c",
   "metadata": {},
   "source": [
    "```python\n",
    "takewhile(pred, iterable)\n",
    "```\n",
    "This function returns an iterator that will yield while `predicate(item)` is Truthy. Once we run into a Falsy value, the iterator becomes exhausted."
   ]
  },
  {
   "cell_type": "markdown",
   "id": "6bd203cf-0b67-476f-98b3-f33d22ce3a09",
   "metadata": {},
   "source": [
    "##### Example 1"
   ]
  },
  {
   "cell_type": "code",
   "execution_count": 4,
   "id": "2c76d3d8-429c-4bc0-8a64-f2c16a8b0ada",
   "metadata": {},
   "outputs": [
    {
     "name": "stdout",
     "output_type": "stream",
     "text": [
      "1\n",
      "2\n"
     ]
    }
   ],
   "source": [
    "from itertools import takewhile\n",
    "\n",
    "result = takewhile(lambda x: x < 5, [1, 2, 10, 3, 4])\n",
    "\n",
    "for i in result:\n",
    "    print(i)"
   ]
  },
  {
   "cell_type": "markdown",
   "id": "5be827d0-c4d1-422c-af93-66ebfb120cc7",
   "metadata": {},
   "source": [
    "##### Example 2"
   ]
  },
  {
   "cell_type": "markdown",
   "id": "a4bc48b9-cb86-4777-b819-923214a737cb",
   "metadata": {},
   "source": [
    "In this example, we will calculate numerous `sin(x)` values for evenly spaced `x`. "
   ]
  },
  {
   "cell_type": "code",
   "execution_count": 11,
   "id": "172b6c7f-03ba-42a0-b856-bbcd47b78961",
   "metadata": {
    "collapsed": true,
    "jupyter": {
     "outputs_hidden": true
    }
   },
   "outputs": [],
   "source": [
    "from math import sin, pi\n",
    "\n",
    "def sine_wave(n):\n",
    "    start = 0\n",
    "    max_ = 2 * pi\n",
    "    step = (max_ - start) / (n-1)\n",
    "    for _ in range(n):\n",
    "        yield round(sin(start), 2)\n",
    "        start += step    "
   ]
  },
  {
   "cell_type": "code",
   "execution_count": 12,
   "id": "f02d3d5a-b54f-4b87-91ac-59dda5ee21c9",
   "metadata": {},
   "outputs": [
    {
     "data": {
      "text/plain": [
       "[0.0,\n",
       " 0.43,\n",
       " 0.78,\n",
       " 0.97,\n",
       " 0.97,\n",
       " 0.78,\n",
       " 0.43,\n",
       " 0.0,\n",
       " -0.43,\n",
       " -0.78,\n",
       " -0.97,\n",
       " -0.97,\n",
       " -0.78,\n",
       " -0.43,\n",
       " -0.0]"
      ]
     },
     "execution_count": 12,
     "metadata": {},
     "output_type": "execute_result"
    }
   ],
   "source": [
    "list(sine_wave(15))"
   ]
  },
  {
   "cell_type": "code",
   "execution_count": 13,
   "id": "a3c189cf-5893-48c4-ae40-191d4b1a642d",
   "metadata": {},
   "outputs": [
    {
     "data": {
      "text/plain": [
       "[0.0, 0.43, 0.78]"
      ]
     },
     "execution_count": 13,
     "metadata": {},
     "output_type": "execute_result"
    }
   ],
   "source": [
    "from itertools import takewhile\n",
    "\n",
    "list(takewhile(lambda x: 0 <= x <= 0.9, sine_wave(15)))"
   ]
  },
  {
   "cell_type": "markdown",
   "id": "9d9e31ab-017e-4347-8693-a3806e40153c",
   "metadata": {},
   "source": [
    "#### `dropwhile`"
   ]
  },
  {
   "cell_type": "markdown",
   "id": "9d854b59-1078-4470-a952-847108242984",
   "metadata": {},
   "source": [
    "```python\n",
    "dropwhile(pred, iterable)\n",
    "```\n",
    "This function is the inverse of the above. It returns an iterator that will start iterating and `yield` *all* remaining items unconditionally only once `predicate(item)` becomes Falsy."
   ]
  },
  {
   "cell_type": "markdown",
   "id": "beb67366-3f40-471a-95c8-6c025fcde423",
   "metadata": {},
   "source": [
    "##### Example 1"
   ]
  },
  {
   "cell_type": "code",
   "execution_count": 5,
   "id": "2af8492d-53d1-4a5e-9798-cea614734b6d",
   "metadata": {},
   "outputs": [
    {
     "name": "stdout",
     "output_type": "stream",
     "text": [
      "10\n",
      "3\n",
      "4\n"
     ]
    }
   ],
   "source": [
    "from itertools import dropwhile\n",
    "\n",
    "result = dropwhile(lambda x: x < 5, [1, 2, 10, 3, 4])\n",
    "\n",
    "for i in result:\n",
    "    print(i)"
   ]
  },
  {
   "cell_type": "markdown",
   "id": "d8046c8d-9dde-49f5-b6d6-eae8e23cbb77",
   "metadata": {},
   "source": [
    "# 04 - Infinite Iterators"
   ]
  },
  {
   "cell_type": "markdown",
   "id": "6457df66-f6e8-4354-9729-01811d5b7f52",
   "metadata": {},
   "source": [
    "#### `itertools.count`"
   ]
  },
  {
   "cell_type": "markdown",
   "id": "a13795df-31be-4c4e-873c-bffa5f0a0e1b",
   "metadata": {},
   "source": [
    "This is a lazy iterator similar to range as it has `start`, `step` but no `stop`.\n",
    "\n",
    "Also, `start` and `step` do not have to be integers unlike with `range()` - they can be any numeric type.\n",
    "\n",
    "As these iterators are infinite, it can be quite useful to pair them with a `takewhile` so that we can control when they stop"
   ]
  },
  {
   "cell_type": "markdown",
   "id": "3feff543-772d-4efa-aca5-2b625a79f11d",
   "metadata": {},
   "source": [
    "##### Example 1"
   ]
  },
  {
   "cell_type": "code",
   "execution_count": 2,
   "id": "8c722ed5-e2d3-4cc4-95c1-0ace1f10e58a",
   "metadata": {},
   "outputs": [
    {
     "data": {
      "text/plain": [
       "[10, 11, 12, 13, 14]"
      ]
     },
     "execution_count": 2,
     "metadata": {},
     "output_type": "execute_result"
    }
   ],
   "source": [
    "from itertools import count, cycle, repeat, islice\n",
    "\n",
    "g = count(10)\n",
    "\n",
    "list(islice(g, 5))"
   ]
  },
  {
   "cell_type": "markdown",
   "id": "89494944-6127-49e8-9582-2b188f9642f5",
   "metadata": {},
   "source": [
    "Remember, `count` is infinite so we can't `list(g)`."
   ]
  },
  {
   "cell_type": "markdown",
   "id": "8dbffe40-68cc-4327-b97d-653bff5ec7e6",
   "metadata": {},
   "source": [
    "##### Example 2"
   ]
  },
  {
   "cell_type": "code",
   "execution_count": 8,
   "id": "dbebeff5-f19e-46aa-9634-f1baad4c57ba",
   "metadata": {},
   "outputs": [
    {
     "data": {
      "text/plain": [
       "[Decimal('1.0'),\n",
       " Decimal('1.2'),\n",
       " Decimal('1.4'),\n",
       " Decimal('1.6'),\n",
       " Decimal('1.8')]"
      ]
     },
     "execution_count": 8,
     "metadata": {},
     "output_type": "execute_result"
    }
   ],
   "source": [
    "from decimal import Decimal\n",
    "\n",
    "g = count(Decimal('1.0'), Decimal('0.2'))\n",
    "\n",
    "list(islice(g, 5))"
   ]
  },
  {
   "cell_type": "markdown",
   "id": "4c49ad4f-2fd9-4dfe-87fa-233442c94eed",
   "metadata": {},
   "source": [
    "#### `itertools.cycle`"
   ]
  },
  {
   "cell_type": "markdown",
   "id": "fab6fc47-ac31-475e-864d-9e1117f7b8aa",
   "metadata": {},
   "source": [
    "This cycles over a finite iterable (including iterators) indefinitely.\n",
    "```python\n",
    "cycle(['a', 'b', 'c']) -> 'a', 'b', 'c', 'a', 'b', 'c', 'a', ...\n",
    "```\n",
    "**One important thing to note:** If an exhaustible iterator is passed as an argument to `cycle`, the iterator won't ever exhaust - `cycle` will manage to return back to the start of the iterator and keep on cycling."
   ]
  },
  {
   "cell_type": "markdown",
   "id": "28118e3e-1a51-459e-8f0c-82eb5cbf2eb6",
   "metadata": {},
   "source": [
    "##### Example 1"
   ]
  },
  {
   "cell_type": "code",
   "execution_count": 12,
   "id": "bf236448-a953-4510-a69b-e6de025a2a2d",
   "metadata": {},
   "outputs": [
    {
     "data": {
      "text/plain": [
       "['red', 'green', 'blue', 'red', 'green', 'blue', 'red', 'green', 'blue', 'red']"
      ]
     },
     "execution_count": 12,
     "metadata": {},
     "output_type": "execute_result"
    }
   ],
   "source": [
    "g = cycle(('red', 'green', 'blue'))\n",
    "list(islice(g, 10))"
   ]
  },
  {
   "cell_type": "markdown",
   "id": "a8cbf5d4-11be-4720-935b-58f9a89126f9",
   "metadata": {},
   "source": [
    "##### Example 2"
   ]
  },
  {
   "cell_type": "markdown",
   "id": "759a5f0f-eafe-4f4e-9ce8-0e8b4703bf13",
   "metadata": {},
   "source": [
    "To show that an exhaustible iterator can be passed to `cycle` and not be exhausted:"
   ]
  },
  {
   "cell_type": "code",
   "execution_count": 14,
   "id": "89420b64-09aa-41ed-88ad-68a3bbbf4d6d",
   "metadata": {},
   "outputs": [
    {
     "data": {
      "text/plain": [
       "['red', 'green', 'blue', 'red', 'green', 'blue', 'red', 'green', 'blue', 'red']"
      ]
     },
     "execution_count": 14,
     "metadata": {},
     "output_type": "execute_result"
    }
   ],
   "source": [
    "def colours():\n",
    "    yield 'red'\n",
    "    yield 'green'\n",
    "    yield 'blue'\n",
    "\n",
    "g = cycle(colours())\n",
    "list(islice(g, 10))"
   ]
  },
  {
   "cell_type": "markdown",
   "id": "9e00d7af-290d-45b0-911c-42321ff69996",
   "metadata": {},
   "source": [
    "##### Example 3"
   ]
  },
  {
   "cell_type": "markdown",
   "id": "b3c9b17e-fb6b-4471-a153-9c98fdb9e677",
   "metadata": {},
   "source": [
    "A more real-life example of `cycle` could be if you had a card deck that you want to deal out to 4 players. "
   ]
  },
  {
   "cell_type": "code",
   "execution_count": 22,
   "id": "59332e89-4022-471f-9d5b-7e2849de64bc",
   "metadata": {},
   "outputs": [],
   "source": [
    "from collections import namedtuple\n",
    "\n",
    "Card = namedtuple('Card', 'rank suit')\n",
    "\n",
    "def card_deck():\n",
    "    RANKS = tuple(str(i) for i in range(2, 11)) + tuple('JQKA')\n",
    "    SUITS = ('Spades', 'Hearts', 'Diamonds', 'Clubs')\n",
    "\n",
    "    for suit in SUITS:\n",
    "        for rank in RANKS:\n",
    "            yield Card(rank, suit)\n",
    "\n",
    "hands = [list() for _ in range(4)]\n",
    "\n",
    "index_cycle = cycle([0, 1, 2, 3])\n",
    "for card in card_deck():\n",
    "    hands[next(index_cycle)].append(card)\n",
    "\n",
    "hands"
   ]
  },
  {
   "cell_type": "markdown",
   "id": "06216b97-9bce-43ca-92e5-60aeee7a6c22",
   "metadata": {},
   "source": [
    "But we can improve upon this...\n",
    "\n",
    "The `index.cycle = cycle([0, 1, 2, 3])` is just cycling through like so: `hands[0]`, `hands[1]`, `hands[2]`, `hands[3]`, `hands[0]`, ...\n",
    "\n",
    "So what we're actually doing is just cycling through the `hands` iterable.\n",
    "\n",
    "Why not make `hands` into a cycle object?"
   ]
  },
  {
   "cell_type": "code",
   "execution_count": 24,
   "id": "25823b72-da78-4fb6-a64e-80222d7bcce0",
   "metadata": {},
   "outputs": [
    {
     "data": {
      "text/plain": [
       "[[Card(rank='2', suit='Spades'),\n",
       "  Card(rank='6', suit='Spades'),\n",
       "  Card(rank='10', suit='Spades'),\n",
       "  Card(rank='A', suit='Spades'),\n",
       "  Card(rank='5', suit='Hearts'),\n",
       "  Card(rank='9', suit='Hearts'),\n",
       "  Card(rank='K', suit='Hearts'),\n",
       "  Card(rank='4', suit='Diamonds'),\n",
       "  Card(rank='8', suit='Diamonds'),\n",
       "  Card(rank='Q', suit='Diamonds'),\n",
       "  Card(rank='3', suit='Clubs'),\n",
       "  Card(rank='7', suit='Clubs'),\n",
       "  Card(rank='J', suit='Clubs')],\n",
       " [Card(rank='3', suit='Spades'),\n",
       "  Card(rank='7', suit='Spades'),\n",
       "  Card(rank='J', suit='Spades'),\n",
       "  Card(rank='2', suit='Hearts'),\n",
       "  Card(rank='6', suit='Hearts'),\n",
       "  Card(rank='10', suit='Hearts'),\n",
       "  Card(rank='A', suit='Hearts'),\n",
       "  Card(rank='5', suit='Diamonds'),\n",
       "  Card(rank='9', suit='Diamonds'),\n",
       "  Card(rank='K', suit='Diamonds'),\n",
       "  Card(rank='4', suit='Clubs'),\n",
       "  Card(rank='8', suit='Clubs'),\n",
       "  Card(rank='Q', suit='Clubs')],\n",
       " [Card(rank='4', suit='Spades'),\n",
       "  Card(rank='8', suit='Spades'),\n",
       "  Card(rank='Q', suit='Spades'),\n",
       "  Card(rank='3', suit='Hearts'),\n",
       "  Card(rank='7', suit='Hearts'),\n",
       "  Card(rank='J', suit='Hearts'),\n",
       "  Card(rank='2', suit='Diamonds'),\n",
       "  Card(rank='6', suit='Diamonds'),\n",
       "  Card(rank='10', suit='Diamonds'),\n",
       "  Card(rank='A', suit='Diamonds'),\n",
       "  Card(rank='5', suit='Clubs'),\n",
       "  Card(rank='9', suit='Clubs'),\n",
       "  Card(rank='K', suit='Clubs')],\n",
       " [Card(rank='5', suit='Spades'),\n",
       "  Card(rank='9', suit='Spades'),\n",
       "  Card(rank='K', suit='Spades'),\n",
       "  Card(rank='4', suit='Hearts'),\n",
       "  Card(rank='8', suit='Hearts'),\n",
       "  Card(rank='Q', suit='Hearts'),\n",
       "  Card(rank='3', suit='Diamonds'),\n",
       "  Card(rank='7', suit='Diamonds'),\n",
       "  Card(rank='J', suit='Diamonds'),\n",
       "  Card(rank='2', suit='Clubs'),\n",
       "  Card(rank='6', suit='Clubs'),\n",
       "  Card(rank='10', suit='Clubs'),\n",
       "  Card(rank='A', suit='Clubs')]]"
      ]
     },
     "execution_count": 24,
     "metadata": {},
     "output_type": "execute_result"
    }
   ],
   "source": [
    "from collections import namedtuple\n",
    "\n",
    "Card = namedtuple('Card', 'rank suit')\n",
    "\n",
    "def card_deck():\n",
    "    RANKS = tuple(str(i) for i in range(2, 11)) + tuple('JQKA')\n",
    "    SUITS = ('Spades', 'Hearts', 'Diamonds', 'Clubs')\n",
    "\n",
    "    for suit in SUITS:\n",
    "        for rank in RANKS:\n",
    "            yield Card(rank, suit)\n",
    "\n",
    "hands = [list() for _ in range(4)]\n",
    "hands_cycle = cycle(hands)\n",
    "\n",
    "for card in card_deck():\n",
    "    next(hands_cycle).append(card)\n",
    "\n",
    "hands"
   ]
  },
  {
   "cell_type": "markdown",
   "id": "0a91f46c-9d5a-45c5-8240-389eb9d24d90",
   "metadata": {},
   "source": [
    "#### `itertools.repeat`"
   ]
  },
  {
   "cell_type": "markdown",
   "id": "df0d3c43-ee26-465b-8cc8-cf239cff0e79",
   "metadata": {},
   "source": [
    "This function simply yields the same value indefinitely, but an additional argument can be specified to make the count finite."
   ]
  },
  {
   "cell_type": "markdown",
   "id": "4d2126bc-016b-4599-94ae-3c7ca12b071a",
   "metadata": {},
   "source": [
    "##### Example 1"
   ]
  },
  {
   "cell_type": "code",
   "execution_count": 28,
   "id": "3d16e139-1792-49ee-8a59-d0656053da84",
   "metadata": {},
   "outputs": [
    {
     "name": "stdout",
     "output_type": "stream",
     "text": [
      "Python\n",
      "Python\n",
      "Python\n"
     ]
    }
   ],
   "source": [
    "from itertools import repeat\n",
    "\n",
    "g = repeat('Python')\n",
    "\n",
    "for _ in range(3):\n",
    "    print(next(g))"
   ]
  },
  {
   "cell_type": "code",
   "execution_count": 29,
   "id": "d0dd89af-d25e-47ed-b0f6-b786c5bcbfa7",
   "metadata": {},
   "outputs": [
    {
     "data": {
      "text/plain": [
       "['Python', 'Python', 'Python', 'Python']"
      ]
     },
     "execution_count": 29,
     "metadata": {},
     "output_type": "execute_result"
    }
   ],
   "source": [
    "g = repeat('Python', 4)\n",
    "list(g)"
   ]
  },
  {
   "cell_type": "markdown",
   "id": "c3efc37a-822c-4e40-9ec7-b419ff511d48",
   "metadata": {},
   "source": [
    "**One important thing to note:** The items yielded by `repeat` are the **same** object. So, if that object is a mutable and it is mutated between repeats, that mutation will be observed."
   ]
  },
  {
   "cell_type": "markdown",
   "id": "a58d0a98-30c3-4d34-89c3-7f0bad710c9d",
   "metadata": {},
   "source": [
    "# 05 - Chaining and Teeing Iterators"
   ]
  },
  {
   "cell_type": "markdown",
   "id": "d5883d8e-ed05-44b7-a99f-218c703d4ba5",
   "metadata": {},
   "source": [
    "#### `chain(*args)` and `chain.from_iterable(it)` "
   ]
  },
  {
   "cell_type": "markdown",
   "id": "7c123d7f-1286-41e9-82f6-21412a67a3e4",
   "metadata": {},
   "source": [
    "`itertools.chain(*args)` takes a number of args that can be **iterables** and returns a lazy **iterator**.\n",
    "\n",
    "`chain` is analogous to sequence concatenation. To implement the functionality of `chain` without using `chain`, you can do:\n",
    "\n",
    "```python\n",
    "for it in (iter1, iter2, iter3):\n",
    "    yield from it\n",
    "```\n",
    "\n",
    "This will `yield` everything from `iter1` before moving onto `iter2`, and then finally from `iter3`."
   ]
  },
  {
   "cell_type": "markdown",
   "id": "ea573e7d-b40e-4cf3-98fa-c3197156b467",
   "metadata": {},
   "source": [
    "With `chain` you will get:\n",
    "\n",
    "```python\n",
    "l = [iter1, iter2, iter3]\n",
    "for item in chain(*l):\n",
    "    print(item)\n",
    "```\n",
    "The items are still `yield`ed but there's a caveat!\n",
    "\n",
    "**Caveat: unpacking an iterable of iterators is _eager_ not _lazy_. So above, we have iterated through `l` (iterable) eagerly, but we haven't touched the iterators yet. If `l` was an iterable of 1 million iterators, we would have unpacked all of them eagerly before starting the loop and getting the first item out of the first iterator.** "
   ]
  },
  {
   "cell_type": "markdown",
   "id": "57b48559-1f15-4645-bafa-c8930011706e",
   "metadata": {},
   "source": [
    "Instead, if we really need **lazy** evaluation, we can use `itertools.chain.from_iterable(it)`\n",
    "\n",
    "This takes an iterable like `l` above which contains a list of iterators. Python will lazily iterate through this iterable and `yield from` the first iterator lazily of course."
   ]
  },
  {
   "cell_type": "code",
   "execution_count": 41,
   "id": "dceac913-635e-4c1d-a1ef-f548b25b2c39",
   "metadata": {},
   "outputs": [
    {
     "name": "stdout",
     "output_type": "stream",
     "text": [
      "0\n",
      "1\n",
      "4\n",
      "9\n",
      "16\n",
      "25\n",
      "36\n",
      "49\n",
      "64\n",
      "81\n",
      "100\n",
      "121\n"
     ]
    }
   ],
   "source": [
    "from itertools import chain\n",
    "\n",
    "l1 = (i**2 for i in range(4))\n",
    "l2 = (i**2 for i in range(4, 8))\n",
    "l3 = (i**2 for i in range(8, 12))\n",
    "\n",
    "lists = [l1, l2, l3]\n",
    "\n",
    "for item in chain(*lists):\n",
    "    print(item)"
   ]
  },
  {
   "cell_type": "markdown",
   "id": "5e27ef3e-4ce9-42d2-8e91-268c5df6e574",
   "metadata": {},
   "source": [
    "We can observe the **eager** unpacking by storing all our iterators in a generator function."
   ]
  },
  {
   "cell_type": "code",
   "execution_count": 44,
   "id": "d23fefa2-5b11-486a-9110-333f0eeb318e",
   "metadata": {},
   "outputs": [
    {
     "name": "stdout",
     "output_type": "stream",
     "text": [
      "yielding 1st item\n",
      "yielding 2nd item\n",
      "yielding 3rd item\n",
      "0\n",
      "1\n",
      "4\n",
      "9\n",
      "16\n",
      "25\n",
      "36\n",
      "49\n"
     ]
    }
   ],
   "source": [
    "def squares():\n",
    "    print('yielding 1st item')\n",
    "    yield (i**2 for i in range(2))\n",
    "    print('yielding 2nd item')\n",
    "    yield (i**2 for i in range(2, 5))\n",
    "    print('yielding 3rd item')\n",
    "    yield (i**2 for i in range(5, 8))\n",
    "\n",
    "\n",
    "for item in chain(*squares()):\n",
    "    print(item)"
   ]
  },
  {
   "cell_type": "markdown",
   "id": "85fd1a1e-0d97-4571-a480-ba6ee88a15b2",
   "metadata": {},
   "source": [
    "As you can see in the print statements above, all iterators are yielded before the main loop starts.\n",
    "\n",
    "But we can get around that using `chain.from_iterable()`"
   ]
  },
  {
   "cell_type": "code",
   "execution_count": 45,
   "id": "1552c9df-f95f-41b7-af66-f51cda041a0d",
   "metadata": {},
   "outputs": [
    {
     "name": "stdout",
     "output_type": "stream",
     "text": [
      "yielding 1st item\n",
      "0\n",
      "1\n",
      "yielding 2nd item\n",
      "4\n",
      "9\n",
      "16\n",
      "yielding 3rd item\n",
      "25\n",
      "36\n",
      "49\n"
     ]
    }
   ],
   "source": [
    "def squares():\n",
    "    print('yielding 1st item')\n",
    "    yield (i**2 for i in range(2))\n",
    "    print('yielding 2nd item')\n",
    "    yield (i**2 for i in range(2, 5))\n",
    "    print('yielding 3rd item')\n",
    "    yield (i**2 for i in range(5, 8))\n",
    "\n",
    "for item in chain.from_iterable(squares()):\n",
    "    print(item)"
   ]
  },
  {
   "cell_type": "markdown",
   "id": "563b7a64-e9ef-456b-a9b7-035c7d8db6b3",
   "metadata": {},
   "source": [
    "#### `tee(iterable, n)`"
   ]
  },
  {
   "cell_type": "markdown",
   "id": "94b33497-fa49-4d1d-8f81-179f3611beae",
   "metadata": {},
   "source": [
    "Let's say we are sent an iterator (e.g. via a `return` of a function) that is very difficult/time-consuming to acquire. How would we make a copy of it? \n",
    "\n",
    "One way that we've seen is just to manually create the iterator multiple times:\n",
    "```python\n",
    "iters = []\n",
    "for _ in range(10):\n",
    "    iters.append(create_iterator())\n",
    "```\n",
    "but if it's time-consuming we may not want to do that."
   ]
  },
  {
   "cell_type": "markdown",
   "id": "285cefcf-7953-43ad-b5cc-8537bdeab91d",
   "metadata": {},
   "source": [
    "The other solution is `itertools.tee` which returns **independent iterators in a tuple**. This can let us iterate through the same iterator **multiple times** or even **in parallel**.\n",
    "```python\n",
    "tee(iterable, 10) -> (iter1, iter2, ..., iter10)\n",
    "```\n",
    "`iter1` through `iter10` are all different objects, but they are all **lazy iterators**. *Always. Even if the original `iterable` argument was not.*\n",
    "\n",
    "```python\n",
    "l = [1, 2, 3, 4]\n",
    "tee(l, 3) -> (iter1, iter2, iter3)\n",
    "```\n",
    "`iter1` and the rest are all **lazy iterators** despite `l` being an **iterable**."
   ]
  },
  {
   "cell_type": "markdown",
   "id": "3b10b1c8-80f7-4486-aab2-cbdd6d946307",
   "metadata": {},
   "source": [
    "##### Example 1"
   ]
  },
  {
   "cell_type": "markdown",
   "id": "fffdcab3-8b51-4e8f-868d-a9d0709aa61c",
   "metadata": {},
   "source": [
    "Let's make 3 **independent** copies of an iterator:"
   ]
  },
  {
   "cell_type": "code",
   "execution_count": 46,
   "id": "6b28563f-e2b9-480f-a83f-67d6ad2d1076",
   "metadata": {},
   "outputs": [
    {
     "data": {
      "text/plain": [
       "(<itertools._tee at 0x2732a6dbd80>,\n",
       " <itertools._tee at 0x2732a6dbe00>,\n",
       " <itertools._tee at 0x2732a6dbe80>)"
      ]
     },
     "execution_count": 46,
     "metadata": {},
     "output_type": "execute_result"
    }
   ],
   "source": [
    "from itertools import tee\n",
    "\n",
    "def squares(n):\n",
    "    for i in range(n):\n",
    "        yield i**2\n",
    "\n",
    "gen = squares(5)\n",
    "\n",
    "iters = tee(gen, 3)\n",
    "iters  "
   ]
  },
  {
   "cell_type": "markdown",
   "id": "f88b00aa-843f-4c6e-bd7f-707857e611e5",
   "metadata": {},
   "source": [
    "As you can see the memory addresses are different, therefore, iterating through one has no impact on the other iterators. We have *tee'd up our iterator 3 times*."
   ]
  },
  {
   "cell_type": "markdown",
   "id": "e9ef2cb2-bd67-4e8e-84e7-8372f9427ffa",
   "metadata": {},
   "source": [
    "Let's tee up a list (**iterable**) multiple times and look for a return value of multiple **iterators**. "
   ]
  },
  {
   "cell_type": "code",
   "execution_count": 51,
   "id": "f8c4a188-bef9-4e32-97e8-0392865311bf",
   "metadata": {},
   "outputs": [
    {
     "data": {
      "text/plain": [
       "(<itertools._tee at 0x2732a6e8e00>, <itertools._tee at 0x273291e4dc0>)"
      ]
     },
     "execution_count": 51,
     "metadata": {},
     "output_type": "execute_result"
    }
   ],
   "source": [
    "l = [1, 2, 3, 4]\n",
    "\n",
    "lists = tee(l, 2)\n",
    "lists"
   ]
  },
  {
   "cell_type": "code",
   "execution_count": 52,
   "id": "93f116dd-511a-4324-bab2-4f137c7af8c9",
   "metadata": {},
   "outputs": [
    {
     "data": {
      "text/plain": [
       "[1, 2, 3, 4]"
      ]
     },
     "execution_count": 52,
     "metadata": {},
     "output_type": "execute_result"
    }
   ],
   "source": [
    "list(lists[0])"
   ]
  },
  {
   "cell_type": "markdown",
   "id": "4169ef4b-26cc-4d9a-9dd4-8dd112b58b55",
   "metadata": {},
   "source": [
    "`lists[0]` is now exhausted:"
   ]
  },
  {
   "cell_type": "code",
   "execution_count": 53,
   "id": "da806744-0fe8-4780-8104-ed3138790474",
   "metadata": {},
   "outputs": [
    {
     "data": {
      "text/plain": [
       "[]"
      ]
     },
     "execution_count": 53,
     "metadata": {},
     "output_type": "execute_result"
    }
   ],
   "source": [
    "list(lists[0])"
   ]
  },
  {
   "cell_type": "code",
   "execution_count": 54,
   "id": "72b02127-7880-4ca6-ba8c-6421970b4be8",
   "metadata": {},
   "outputs": [
    {
     "data": {
      "text/plain": [
       "True"
      ]
     },
     "execution_count": 54,
     "metadata": {},
     "output_type": "execute_result"
    }
   ],
   "source": [
    "lists[0] is iter(lists[0])"
   ]
  },
  {
   "cell_type": "markdown",
   "id": "e360ea3d-51b5-4fcf-8006-5d778d8a9627",
   "metadata": {},
   "source": [
    "**Important Limitation**:\n",
    "\n",
    "This is also mentioned in the `itertools.groupby` section as it's often observed with it.\n",
    "\n",
    "Often times, we may want to `tee` our `groupby` iterator for each key in it. This is so that we can consume our keys' sub iterators when we wish.\n",
    "\n",
    "For example, if we have the following `groupby` iterator: `it = [(\"Male\", <subiter_obj_1>), (\"Female\", <subiter_obj_2>)]` and we make two copies so that we can consume the \"female\" subiterator and the \"male\" subiterator independently:\n",
    "\n",
    "```python\n",
    "it_male, it_female = itertools.tee(it, 2)\n",
    "\n",
    "it_male -> [(\"Male\", <subiter_obj_1>), (\"Female\", <subiter_obj_2>)]\n",
    "it_female -> [(\"Male\", <subiter_obj_1_copy>), (\"Female\", <subiter_obj_2_copy>)]\n",
    "```\n",
    "\n",
    "The issue is that **`itertools.tee` performs SHALLOW copy**. Therefore, `subiter_obj_1 = subiter_obj_1_copy`. So, if we consume `subiter_obj_1`, that will consume its copy. And the same goes for `subiter_obj_2`.   "
   ]
  },
  {
   "cell_type": "markdown",
   "id": "da13f886-516a-4d44-8eed-92393040d82d",
   "metadata": {},
   "source": [
    "# 06 - Mapping and Reducing"
   ]
  },
  {
   "cell_type": "markdown",
   "id": "cac1fedd-a498-49c1-ac04-e492333d73e0",
   "metadata": {},
   "source": [
    "#### Mapping"
   ]
  },
  {
   "cell_type": "markdown",
   "id": "011fe7d7-ae68-4136-858c-d2759173ed15",
   "metadata": {},
   "source": [
    "```python\n",
    "map(fn, iterable)\n",
    "```\n",
    "`map` applies `fn` to every element of the `iterable` and returns a lazy iterator.\n",
    "`fn` must be a callable that requires a **single** argument because python will do `fn(<val iterated from iterable>)`"
   ]
  },
  {
   "cell_type": "markdown",
   "id": "2a0c6b26-a710-4028-b32a-bd6a4b7b925c",
   "metadata": {},
   "source": [
    "It is basically equivalent to:\n",
    "```python\n",
    "maps = (fn(item) for item in iterable)\n",
    "```"
   ]
  },
  {
   "cell_type": "markdown",
   "id": "65f91977-0285-4041-a026-177f4674914e",
   "metadata": {},
   "source": [
    "#### Reducing"
   ]
  },
  {
   "cell_type": "markdown",
   "id": "1348181e-53b9-4ac2-bad3-71632ea26cef",
   "metadata": {},
   "source": [
    "```python\n",
    "reduce(fn, iterable, [initialiser])\n",
    "```\n",
    "`reduce` applies `fn` cumulatively to elements of an iterable, pairwise. `fn` must be a callable that requires **two** arguments."
   ]
  },
  {
   "cell_type": "markdown",
   "id": "4ccd26f4-4b96-4404-98d4-e10f9d0b187f",
   "metadata": {},
   "source": [
    "`sum` can be implemented with `reduce`:"
   ]
  },
  {
   "cell_type": "code",
   "execution_count": 29,
   "id": "3b401459-e3ff-48de-9c7c-6ef275a9dbf2",
   "metadata": {},
   "outputs": [
    {
     "data": {
      "text/plain": [
       "10"
      ]
     },
     "execution_count": 29,
     "metadata": {},
     "output_type": "execute_result"
    }
   ],
   "source": [
    "from functools import reduce\n",
    "\n",
    "l = [1, 2, 3, 4]\n",
    "reduce(lambda x, y: x + y, l)"
   ]
  },
  {
   "cell_type": "markdown",
   "id": "e6026147-05de-461b-92ea-8183aa38e9c0",
   "metadata": {},
   "source": [
    "What Python is doing is:\n",
    "\n",
    "-> 1 = 1\\\n",
    "-> 1 + 2 = 3\\\n",
    "-> 3 + 3 = 6\\\n",
    "-> 6 + 4 = 10\n",
    "-\n",
    "\n",
    "Notice how on the first iteration, Python does nothing but takes the first value in the iterable and stores that as 'previous value'.\n",
    "\n",
    "Then, in all following iterations, it passes to the `lambda`: `x = 'previous value'` and `y = 'current_value'`\n",
    "\n",
    "We can set this first value using the initialiser:"
   ]
  },
  {
   "cell_type": "code",
   "execution_count": 30,
   "id": "b22b6e5e-538d-4b4e-9c9e-3f5f88fec714",
   "metadata": {},
   "outputs": [
    {
     "data": {
      "text/plain": [
       "110"
      ]
     },
     "execution_count": 30,
     "metadata": {},
     "output_type": "execute_result"
    }
   ],
   "source": [
    "from functools import reduce\n",
    "\n",
    "l = [1, 2, 3, 4]\n",
    "reduce(lambda x, y: x + y, l, 100)"
   ]
  },
  {
   "cell_type": "markdown",
   "id": "8fd8eed7-c51d-43db-8d0e-525d598a7ad0",
   "metadata": {},
   "source": [
    "#### `itertools.starmap`"
   ]
  },
  {
   "cell_type": "markdown",
   "id": "23002097-5942-4d45-8f26-e3fc41a17389",
   "metadata": {},
   "source": [
    "If you have an iterable of iterables, such as `[ [1, 2], [3, 4] ]` and you want to apply `map` to values in each subiterable, you can use `starmap`.\n",
    "\n",
    "This unpacks every element of the subiterable and passes that to the regular map function.\n",
    "\n",
    "For example:"
   ]
  },
  {
   "cell_type": "code",
   "execution_count": 31,
   "id": "02d713d8-f57f-4c15-ba57-5273769a4f42",
   "metadata": {},
   "outputs": [
    {
     "data": {
      "text/plain": [
       "[6, 60, 600]"
      ]
     },
     "execution_count": 31,
     "metadata": {},
     "output_type": "execute_result"
    }
   ],
   "source": [
    "from itertools import starmap\n",
    "\n",
    "l = [ [1, 2, 3], [10, 20, 30], [100, 200, 300] ]\n",
    "\n",
    "result = starmap(lambda x, y, z: x + y + z, l)\n",
    "list(result)"
   ]
  },
  {
   "cell_type": "markdown",
   "id": "c82b8821-18a7-47c1-90e9-3157e390bc5a",
   "metadata": {},
   "source": [
    "Our `lambda` function is very simple but the `starmap` handles the awkwardness of unpacking. \n",
    "\n",
    "It is still similar to `map` in that we had an iterable of three items (subiterables) and we returned an iterator of exactly 3 items."
   ]
  },
  {
   "cell_type": "markdown",
   "id": "357932f6-8ec4-46d8-a70b-b0219428d822",
   "metadata": {},
   "source": [
    "There are many ways of doing it. We could instead iterate through each iterable and reduce it to a single value with `sum`:"
   ]
  },
  {
   "cell_type": "code",
   "execution_count": 32,
   "id": "0a062c32-f500-4a13-adaf-497bbaa51dd7",
   "metadata": {},
   "outputs": [
    {
     "data": {
      "text/plain": [
       "[6, 60, 600]"
      ]
     },
     "execution_count": 32,
     "metadata": {},
     "output_type": "execute_result"
    }
   ],
   "source": [
    "list((sum(item) for item in l))"
   ]
  },
  {
   "cell_type": "markdown",
   "id": "24da9457-119e-4f8f-a37f-9eceb2097027",
   "metadata": {},
   "source": [
    "Or even explicitly using `reduce`:"
   ]
  },
  {
   "cell_type": "code",
   "execution_count": 33,
   "id": "0411cce2-478e-4889-b33c-90133f2e6fb2",
   "metadata": {},
   "outputs": [
    {
     "data": {
      "text/plain": [
       "[6, 60, 600]"
      ]
     },
     "execution_count": 33,
     "metadata": {},
     "output_type": "execute_result"
    }
   ],
   "source": [
    "from functools import reduce\n",
    "import operator\n",
    "\n",
    "l = [ [1, 2, 3], [10, 20, 30], [100, 200, 300] ]\n",
    "\n",
    "list((reduce(operator.add, item) for item in l))"
   ]
  },
  {
   "cell_type": "markdown",
   "id": "11c4d474-3d01-42be-9b6c-5ae29a55c781",
   "metadata": {},
   "source": [
    "#### `itertools.accumulate(iterable, fn)`"
   ]
  },
  {
   "cell_type": "markdown",
   "id": "f1fffbf4-4dee-4cd5-baff-b9827c050ea8",
   "metadata": {},
   "source": [
    "This is very similar to `reduce`. It takes an `iterable` and produces one value.\n",
    "\n",
    "But, unlike `reduce`, **it returns a lazy iterator that produces all intermediate results**.\n",
    "\n",
    "Also, quite confusingly, the arguments of `accumulate` are reversed compared to `reduce`:\n",
    "\n",
    "`functools.reduce(fn, iterable)`\\\n",
    "`itertools.accumulate(iterable, fn)`\n",
    "\n",
    "\n",
    "The reason is because in `accumulate`, `fn` is an optional parameter. If it's left out, it defaults to addition."
   ]
  },
  {
   "cell_type": "code",
   "execution_count": 11,
   "id": "a3c53ed7-b686-4249-985c-521a2ee13a8f",
   "metadata": {},
   "outputs": [
    {
     "name": "stdout",
     "output_type": "stream",
     "text": [
      "1\n",
      "2\n",
      "6\n",
      "24\n"
     ]
    }
   ],
   "source": [
    "from itertools import accumulate\n",
    "\n",
    "l = [1, 2, 3, 4]\n",
    "g = accumulate(l, lambda x, y: x * y)\n",
    "\n",
    "for item in g:\n",
    "    print(item)"
   ]
  },
  {
   "cell_type": "markdown",
   "id": "0008b1d9-b53a-4478-9fea-f2d4769953c8",
   "metadata": {},
   "source": [
    "`accumulate` doesn't let us provide an initialiser value. But we can mimic that in many ways:\n",
    "\n",
    "- Using `insert()` Method\n",
    "- Using `[ ]` and `+` Operator\n",
    "- Using List Slicing\n",
    "- Using `collections.deque.appendleft` (this is often the best (O(1) time and space complexity) \n",
    "- Using `itertools.chain()`"
   ]
  },
  {
   "cell_type": "markdown",
   "id": "ef76f356-58cc-4915-8cb9-6b15ddf64ed9",
   "metadata": {},
   "source": [
    "I'll quickly demonstrate 3 of those"
   ]
  },
  {
   "cell_type": "code",
   "execution_count": 14,
   "id": "d4763d8c-3b71-492d-97c8-9225237b91d1",
   "metadata": {},
   "outputs": [
    {
     "data": {
      "text/plain": [
       "[10, 10, 20, 60, 240]"
      ]
     },
     "execution_count": 14,
     "metadata": {},
     "output_type": "execute_result"
    }
   ],
   "source": [
    "from itertools import accumulate\n",
    "import operator\n",
    "\n",
    "res = accumulate([10] + [1, 2, 3, 4], operator.mul)\n",
    "list(res)"
   ]
  },
  {
   "cell_type": "code",
   "execution_count": 17,
   "id": "fb43d8be-b832-44e6-91f4-663f71d59f78",
   "metadata": {},
   "outputs": [
    {
     "data": {
      "text/plain": [
       "[10, 10, 20, 60, 240]"
      ]
     },
     "execution_count": 17,
     "metadata": {},
     "output_type": "execute_result"
    }
   ],
   "source": [
    "l = [1, 2, 3, 4]\n",
    "l.insert(0, 10)\n",
    "\n",
    "res = accumulate(l, operator.mul)\n",
    "list(res)"
   ]
  },
  {
   "cell_type": "code",
   "execution_count": 24,
   "id": "0624ecc2-4d4e-4fde-b66a-b8da9a26bb18",
   "metadata": {},
   "outputs": [
    {
     "data": {
      "text/plain": [
       "[10, 10, 20, 60, 240]"
      ]
     },
     "execution_count": 24,
     "metadata": {},
     "output_type": "execute_result"
    }
   ],
   "source": [
    "from itertools import chain\n",
    "\n",
    "res = accumulate( chain( (10,), [1, 2, 3, 4] ) , operator.mul)\n",
    "list(res)"
   ]
  },
  {
   "cell_type": "markdown",
   "id": "9fa73bcd-c4db-4616-a5b5-2f7f3b2210d0",
   "metadata": {},
   "source": [
    "# 07 - Zipping"
   ]
  },
  {
   "cell_type": "markdown",
   "id": "96bc9c37-7dab-4259-8cca-afa5d4b1e6fd",
   "metadata": {},
   "source": [
    "We've covered this multiple times. `zip` produces a lazy iterator. Be aware that `zip` stops based on the shortest iterable provided to it. But we can stop on the longest iterable using `itertools.zip_longest(*args, [fillvalue=None])`"
   ]
  },
  {
   "cell_type": "markdown",
   "id": "3a24da67-5237-4223-a616-61e4ab6507f6",
   "metadata": {},
   "source": [
    "We can also use iterators as the arguments of `zip`:"
   ]
  },
  {
   "cell_type": "code",
   "execution_count": 26,
   "id": "e27e35b9-04ce-4eb0-89dc-03e5dc54d3fc",
   "metadata": {},
   "outputs": [
    {
     "data": {
      "text/plain": [
       "[(0, 0, 0), (1, 1, 1), (2, 4, 8)]"
      ]
     },
     "execution_count": 26,
     "metadata": {},
     "output_type": "execute_result"
    }
   ],
   "source": [
    "def integers(n):\n",
    "    for i in range(n):\n",
    "        yield i\n",
    "\n",
    "def squares(n):\n",
    "    for i in range(n):\n",
    "        yield i**2\n",
    "\n",
    "def cubes(n):\n",
    "    for i in range(n):\n",
    "        yield i**3\n",
    "\n",
    "iter1 = integers(3)\n",
    "iter2 = squares(4)\n",
    "iter3 = cubes(5)\n",
    "\n",
    "res = zip(iter1, iter2, iter3)\n",
    "list(res)"
   ]
  },
  {
   "cell_type": "markdown",
   "id": "e9fe376a-3155-4fb6-9f89-16c5d5cdacf1",
   "metadata": {},
   "source": [
    "# 08 - Grouping"
   ]
  },
  {
   "cell_type": "markdown",
   "id": "c59022d6-a356-4c47-97cf-ff66473b4803",
   "metadata": {},
   "source": [
    "Suppose we have an iterable containing a number of tuples. How would we group those tuples into different groups based off their first element. \n",
    "\n",
    "For example, all tuples with the first element as `1` are grouped together and all tuples with the first element as `2` are grouped together."
   ]
  },
  {
   "cell_type": "markdown",
   "id": "c29f70b1-9a86-456a-b9e5-95547ffea178",
   "metadata": {},
   "source": [
    "![8.1.png](s8-images/8.1.png)"
   ]
  },
  {
   "cell_type": "markdown",
   "id": "7be03bf9-afc3-4118-8c00-bf136ade5eb6",
   "metadata": {},
   "source": [
    "**`itertools.groupby(data, [keyfunc])`** \n",
    "\n",
    "This is a **lazy iterator**. `data` is the iterable that we want to divide into numerous groups. `keyfunc` is optional - by default, it will use the data element itself; this is rare as we'd normally want to provide a key.\n",
    "\n",
    "**Return value**\n",
    "\n",
    "We get back a lazy iterator that produces **tuples** of structure: `(key, sub_iterator)`. In our example above, `key=1` and the sub_iterator will contain all items in that group i.e. `(1, 10, 100)`, `(1, 11, 101)`, `(1, 12, 102)`. But to get those items out, we have to iterate through the sub_iterator.\n",
    "\n",
    "**Note**:\n",
    "\n",
    "In SQL, after grouping, the data is sorted by that key, so in the above example, all items in group 1 come first because the element that we sort by, i.e. `1`, is smaller than `2` and `3`.\n",
    "\n",
    "In Python, **we have to do the sorting ourselves** if we want it.\n",
    "\n",
    "If we have some data that looks like:\n",
    "```python\n",
    "data = (1, 2, 2, 2, 3, 1)\n",
    "```\n",
    "and we `list(itertools.groupby(data)`, then:\n",
    "- firstly, no key was specified so the actual element is used as the key.\n",
    "- we will have a list of **4** tuples: `[(1, <groupby_obj_1>), (2, <groupby_obj_2>), (3, <groupby_obj_3>), (1, <groupby_obj_4>)]`, instead of **3**."
   ]
  },
  {
   "cell_type": "markdown",
   "id": "cf4f00cd-db73-4a37-9575-0a1b97f775ad",
   "metadata": {},
   "source": [
    "**Important Note:**\n",
    "\n",
    "![8.2.png](s8-images/8.2.png)"
   ]
  },
  {
   "cell_type": "markdown",
   "id": "197aff7a-8219-45d1-9ccf-a1d5c52fe590",
   "metadata": {},
   "source": [
    "To further explain:\n",
    "\n",
    "- We've first created our `groups` lazy iterator by passing our iterable of tuples and a `lambda`. **Our iterable is converted into an iterator** which I shall call **main iterator**.\n",
    "- Calling `next(groups)` produces the first tuple -> `(1, <sub_iterator_1>)`.\n",
    "- Let's say we iterate through `<sub_iterator_1>` three times by doing `next(<sub_iterator_1>)` three times. Each time we do that, Python goes to our **main iterator** and calls `next()`.\n",
    "- Let's say we call `next(groups)` to produce the second tuple -> `(2, <sub_iterator_2>)`.\n",
    "- But then we realise we don't care about group 2 so we don't ever touch the `<sub_iterator_2>` and instead we want to move onto group 3.\n",
    "- So we run `next(groups)`to get `(3, <sub_iterator_3>)`.\n",
    "- Python will *immediately* consume all of the `<sub_iterator_2>` by calling `next(<sub_iterator_2>)`. This will internally call `next()` on our **main iterator** until all of group 2 has been consumed.\n",
    "- Why does it do this? Because, working our way down our **main iterator**, we can only get to group 3 tuples by getting past all of the group 2 elements.  \n",
    "- Recalling that we've got `(3, <sub_iterator_3>)` currently, if we start iterating through `<sub_iterator_3>`, we will call `next()` on our **main iterator** and produce the expected items.\n",
    "\n",
    "The key takeaway is that **all sub-iterators internally use the same main iterator**. Skipping a group because you don't care about its items does **not** save time because Python still has to iterate through them to get to the groups you do care about."
   ]
  },
  {
   "cell_type": "markdown",
   "id": "13d5e404-bd86-4d3d-bad2-2b03085b8be0",
   "metadata": {},
   "source": [
    "Let's quickly do two examples to remind ourselves of the output structure."
   ]
  },
  {
   "cell_type": "code",
   "execution_count": 33,
   "id": "197dcb58-9d21-451b-98ae-8def2c2cf163",
   "metadata": {},
   "outputs": [
    {
     "name": "stdout",
     "output_type": "stream",
     "text": [
      "1 [1]\n",
      "2 [2, 2, 2]\n",
      "3 [3, 3]\n",
      "1 [1]\n"
     ]
    }
   ],
   "source": [
    "data = (1, 2, 2, 2, 3, 3, 1)\n",
    "\n",
    "it = itertools.groupby(data)\n",
    "\n",
    "for tuple_group in it:\n",
    "    print(tuple_group[0], list(tuple_group[1]))"
   ]
  },
  {
   "cell_type": "code",
   "execution_count": 38,
   "id": "607e6b73-55ed-475c-85da-2c7640f7e5d4",
   "metadata": {},
   "outputs": [
    {
     "name": "stdout",
     "output_type": "stream",
     "text": [
      "1 [(1, 'abc')]\n",
      "2 [(2, 'def'), (2, 'ghi'), (2, 'jkl')]\n",
      "3 [(3, 'mno'), (3, 'pqr')]\n"
     ]
    }
   ],
   "source": [
    "data = (\n",
    "    (1, 'abc'),\n",
    "    (2, 'def'),\n",
    "    (2, 'ghi'),\n",
    "    (2, 'jkl'),\n",
    "    (3, 'mno'),\n",
    "    (3, 'pqr')\n",
    ")\n",
    "\n",
    "it = itertools.groupby(data, lambda x: x[0])\n",
    "\n",
    "for group_key, sub_iter in it:\n",
    "    print(group_key, list(sub_iter))"
   ]
  },
  {
   "cell_type": "markdown",
   "id": "6cd01d45-ef2a-4c52-91ff-e5ccf8ccf856",
   "metadata": {},
   "source": [
    "Another reminder is `it` is an **iterator**. \n",
    "\n",
    "If you `list(it)`, the output might look like `[(1, <groupby_obj_1>), (2, <groupby_obj_2>), (3, <groupby_obj_3>), (1, <groupby_obj_4>)]`, but `it` is now exhausted so you can't get a handle on those `<groupby_obj>`'s."
   ]
  },
  {
   "cell_type": "markdown",
   "id": "d4bee3c2-dde9-4771-bda3-1fa06b47cebf",
   "metadata": {},
   "source": [
    "**Important Limitation**:\n",
    "\n",
    "This is also mentioned in the `itertools.tee` section but it is just as pertinent in this section as it's often observed here.\n",
    "\n",
    "Often times, we may want to `tee` our `groupby` iterator for each key in it. This is so that we can consume our keys' sub iterators when we wish.\n",
    "\n",
    "For example, if we have the following `groupby` iterator: `it = [(\"Male\", <subiter_obj_1>), (\"Female\", <subiter_obj_2>)]` and we make two copies so that we can consume the \"female\" subiterator and the \"male\" subiterator independently:\n",
    "\n",
    "```python\n",
    "it_male, it_female = itertools.tee(it, 2)\n",
    "\n",
    "it_male -> [(\"Male\", <subiter_obj_1>), (\"Female\", <subiter_obj_2>)]\n",
    "it_female -> [(\"Male\", <subiter_obj_1_copy>), (\"Female\", <subiter_obj_2_copy>)]\n",
    "```\n",
    "\n",
    "The issue is that **`itertools.tee` performs SHALLOW copy**. Therefore, `subiter_obj_1 = subiter_obj_1_copy`. So, if we consume `subiter_obj_1`, that will consume its copy. And the same goes for `subiter_obj_2`.   "
   ]
  },
  {
   "cell_type": "markdown",
   "id": "c6b90c98-56b4-4b3c-848a-00a0b47a5739",
   "metadata": {},
   "source": [
    "##### `cars.csv` Example"
   ]
  },
  {
   "cell_type": "markdown",
   "id": "886084b8-3bc6-4780-9997-4efc703901d3",
   "metadata": {},
   "source": [
    "Let's get some rows from the data. \n",
    "\n",
    "**Useful Note: We are using `islice` because we don't want to load the entire file's content into memory and `islice` lazily evaluates from a start to a stop point.**"
   ]
  },
  {
   "cell_type": "code",
   "execution_count": 17,
   "id": "8f62ad6b-d7bd-48c8-9368-d87e89450041",
   "metadata": {},
   "outputs": [
    {
     "name": "stdout",
     "output_type": "stream",
     "text": [
      "make,model\n",
      "ACURA,ILX\n",
      "ACURA,MDX\n",
      "ACURA,RDX\n",
      "ACURA,RLX\n",
      "ACURA,TL\n",
      "ACURA,TSX\n",
      "ALFA ROMEO,4C\n",
      "ALFA ROMEO,GIULIETTA\n",
      "APRILIA,CAPONORD 1200\n",
      "APRILIA,RSV4 FACTORY APRC ABS\n",
      "APRILIA,RSV4 R APRC ABS\n",
      "APRILIA,SHIVER 750\n",
      "ARCTIC CAT,1000 XT\n",
      "ARCTIC CAT,500 XT\n",
      "ARCTIC CAT,550 XT\n",
      "ARCTIC CAT,700 LTD\n",
      "ARCTIC CAT,700 SUPER DUTY DIESEL\n",
      "ARCTIC CAT,700 XT\n",
      "ARCTIC CAT,90 2X4 4-STROKE\n"
     ]
    }
   ],
   "source": [
    "import itertools\n",
    "\n",
    "with open('../Section 08 - Iteration Tools/08 - Grouping/cars_2014.csv') as f:\n",
    "    for row in itertools.islice(f, 0, 20):\n",
    "        print(row, end='')"
   ]
  },
  {
   "cell_type": "markdown",
   "id": "44343ebd-5213-4be9-9717-1ce9d3d787cc",
   "metadata": {},
   "source": [
    "**Question: How many models exist for each make?** "
   ]
  },
  {
   "cell_type": "markdown",
   "id": "c4d1e3ec-d5a1-436b-b46e-42a8dc19c9b7",
   "metadata": {},
   "source": [
    "Remember, `defaultdict` allows you to set a default value for a key based on a type if that key doesn't exist.\n",
    "\n",
    "- If the type is `str`, the default value is `''`.\n",
    "- If the type is `int`, the default value is `0`.\n",
    "- If the type is `list`, the default value is `[]` etc. "
   ]
  },
  {
   "cell_type": "code",
   "execution_count": 20,
   "id": "5175ce30-cc37-4ff2-bdc8-3df1844a3a0d",
   "metadata": {},
   "outputs": [
    {
     "name": "stdout",
     "output_type": "stream",
     "text": [
      "ACURA: 6\n",
      "ALFA ROMEO: 2\n",
      "APRILIA: 4\n",
      "ARCTIC CAT: 96\n",
      "ARGO: 4\n",
      "ASTON MARTIN: 5\n",
      "AUDI: 27\n",
      "BENTLEY: 2\n",
      "BLUE BIRD: 1\n",
      "BMW: 86\n",
      "BUGATTI: 1\n",
      "BUICK: 5\n",
      "CADILLAC: 7\n",
      "CAN-AM: 61\n",
      "CHEVROLET: 33\n",
      "CHRYSLER: 2\n",
      "DODGE: 7\n",
      "DUCATI: 4\n",
      "FERRARI: 6\n",
      "FIAT: 2\n",
      "FORD: 34\n",
      "FREIGHTLINER: 7\n",
      "GMC: 12\n",
      "HARLEY DAVIDSON: 29\n",
      "HINO: 7\n",
      "HONDA: 91\n",
      "HUSABERG: 4\n",
      "HUSQVARNA: 9\n",
      "HYUNDAI: 13\n",
      "INDIAN: 3\n",
      "INFINITI: 8\n",
      "JAGUAR: 9\n",
      "JEEP: 5\n",
      "JOHN DEERE: 19\n",
      "KAWASAKI: 59\n",
      "KENWORTH: 11\n",
      "KIA: 10\n",
      "KTM: 13\n",
      "KUBOTA: 4\n",
      "KYMCO: 28\n",
      "LAMBORGHINI: 2\n",
      "LAND ROVER: 6\n",
      "LEXUS: 14\n",
      "LINCOLN: 6\n",
      "LOTUS: 1\n",
      "MACK: 9\n",
      "MASERATI: 3\n",
      "MAZDA: 5\n",
      "MCLAREN: 2\n",
      "MERCEDES-BENZ: 60\n",
      "MINI: 3\n",
      "MITSUBISHI: 8\n",
      "NISSAN: 24\n",
      "PEUGEOT: 3\n",
      "POLARIS: 101\n",
      "PORSCHE: 4\n",
      "RAM: 6\n",
      "RENAULT: 4\n",
      "ROLLS ROYCE: 3\n",
      "SCION: 5\n",
      "SEAT: 3\n",
      "SKI-DOO: 67\n",
      "SMART: 1\n",
      "SRT: 1\n",
      "SUBARU: 10\n",
      "SUZUKI: 48\n",
      "TESLA: 2\n",
      "TOYOTA: 19\n",
      "TRIUMPH: 10\n",
      "VESPA: 4\n",
      "VICTORY: 14\n",
      "VOLKSWAGEN: 16\n",
      "VOLVO: 8\n",
      "YAMAHA: 110\n"
     ]
    }
   ],
   "source": [
    "from collections import defaultdict\n",
    "\n",
    "makes = defaultdict(int)  # if makes[<key>] doesn't exist, create the key and set its value to 0\n",
    "\n",
    "with open('../Section 08 - Iteration Tools/08 - Grouping/cars_2014.csv') as f:\n",
    "    next(f)\n",
    "    for row in f:\n",
    "        make, _ = row.strip('\\n').split(',')\n",
    "        makes[make] += 1\n",
    "\n",
    "for key, value in makes.items():\n",
    "    print(f'{key}: {value}')"
   ]
  },
  {
   "cell_type": "markdown",
   "id": "7e329dea-6201-47de-b746-cdc9f965fcd3",
   "metadata": {},
   "source": [
    "`groupby` takes an **iterable** (iterators are iterables), iterates through each item and groups by some part of that item, e.g. the first element in that item.\n",
    "\n",
    "In our case, `f` is the iterable (iterator, specifically)."
   ]
  },
  {
   "cell_type": "code",
   "execution_count": 39,
   "id": "60dc1e69-ac6a-4398-b140-5c2aaed5ade9",
   "metadata": {},
   "outputs": [
    {
     "ename": "ValueError",
     "evalue": "I/O operation on closed file.",
     "output_type": "error",
     "traceback": [
      "\u001b[1;31m---------------------------------------------------------------------------\u001b[0m",
      "\u001b[1;31mValueError\u001b[0m                                Traceback (most recent call last)",
      "Cell \u001b[1;32mIn[39], line 5\u001b[0m\n\u001b[0;32m      2\u001b[0m     make_groups \u001b[38;5;241m=\u001b[39m itertools\u001b[38;5;241m.\u001b[39mgroupby(f, \u001b[38;5;28;01mlambda\u001b[39;00m x: x\u001b[38;5;241m.\u001b[39msplit(\u001b[38;5;124m'\u001b[39m\u001b[38;5;124m,\u001b[39m\u001b[38;5;124m'\u001b[39m)[\u001b[38;5;241m0\u001b[39m])  \u001b[38;5;66;03m# we don't need to strip \\n because we're only interested \u001b[39;00m\n\u001b[0;32m      3\u001b[0m                                                                    \u001b[38;5;66;03m# in the first element. The \\n will be in the 2nd element of the split.\u001b[39;00m\n\u001b[1;32m----> 5\u001b[0m \u001b[38;5;28;43mlist\u001b[39;49m\u001b[43m(\u001b[49m\u001b[43mmake_groups\u001b[49m\u001b[43m)\u001b[49m\n",
      "\u001b[1;31mValueError\u001b[0m: I/O operation on closed file."
     ]
    }
   ],
   "source": [
    "with open('../Section 08 - Iteration Tools/08 - Grouping/cars_2014.csv') as f:\n",
    "    make_groups = itertools.groupby(f, lambda x: x.split(',')[0])  # we don't need to strip \\n because we're only interested \n",
    "                                                                   # in the first element. The \\n will be in the 2nd element of the split.\n",
    "\n",
    "list(make_groups)"
   ]
  },
  {
   "cell_type": "markdown",
   "id": "eaea03d3-4dbd-4c3d-a831-4a09cad0314b",
   "metadata": {},
   "source": [
    "Why did we get this error?\n",
    "\n",
    "`groupby` is a **lazy iterator**, so the `make_groups` statement in the context manager hasn't touched any of the data yet. Instead, that would happen when we `list(make_groups)`.\n",
    "\n",
    "But, we've closed the file already so `list(make_groups)` cannot do anything with the `f` in `.groupby(f, ...)`."
   ]
  },
  {
   "cell_type": "markdown",
   "id": "7b632dc2-77ff-40dc-b609-4efd7007f26c",
   "metadata": {},
   "source": [
    "Here's the fix: \n",
    "\n",
    "Remember `make_groups` is an iterator of tuples of the form `(<key>, <sub_iter that generates entire rows>)`.\n",
    "\n",
    "Since we don't care about the actual data in the `sub_iter` but rather how many items in it, we can just find the length of the `sub_iter`."
   ]
  },
  {
   "cell_type": "code",
   "execution_count": 41,
   "id": "a42aef9a-3ffb-4239-afc6-e4205f54b694",
   "metadata": {},
   "outputs": [
    {
     "ename": "TypeError",
     "evalue": "object of type 'itertools._grouper' has no len()",
     "output_type": "error",
     "traceback": [
      "\u001b[1;31m---------------------------------------------------------------------------\u001b[0m",
      "\u001b[1;31mTypeError\u001b[0m                                 Traceback (most recent call last)",
      "Cell \u001b[1;32mIn[41], line 4\u001b[0m\n\u001b[0;32m      2\u001b[0m \u001b[38;5;28mnext\u001b[39m(f)\n\u001b[0;32m      3\u001b[0m make_groups \u001b[38;5;241m=\u001b[39m itertools\u001b[38;5;241m.\u001b[39mgroupby(f, \u001b[38;5;28;01mlambda\u001b[39;00m x: x\u001b[38;5;241m.\u001b[39msplit(\u001b[38;5;124m'\u001b[39m\u001b[38;5;124m,\u001b[39m\u001b[38;5;124m'\u001b[39m)[\u001b[38;5;241m0\u001b[39m])\n\u001b[1;32m----> 4\u001b[0m result \u001b[38;5;241m=\u001b[39m [(key, \u001b[38;5;28mlen\u001b[39m(sub_iter)) \u001b[38;5;28;01mfor\u001b[39;00m key, sub_iter \u001b[38;5;129;01min\u001b[39;00m make_groups]\n\u001b[0;32m      5\u001b[0m \u001b[38;5;28mprint\u001b[39m(result)\n",
      "Cell \u001b[1;32mIn[41], line 4\u001b[0m, in \u001b[0;36m<listcomp>\u001b[1;34m(.0)\u001b[0m\n\u001b[0;32m      2\u001b[0m \u001b[38;5;28mnext\u001b[39m(f)\n\u001b[0;32m      3\u001b[0m make_groups \u001b[38;5;241m=\u001b[39m itertools\u001b[38;5;241m.\u001b[39mgroupby(f, \u001b[38;5;28;01mlambda\u001b[39;00m x: x\u001b[38;5;241m.\u001b[39msplit(\u001b[38;5;124m'\u001b[39m\u001b[38;5;124m,\u001b[39m\u001b[38;5;124m'\u001b[39m)[\u001b[38;5;241m0\u001b[39m])\n\u001b[1;32m----> 4\u001b[0m result \u001b[38;5;241m=\u001b[39m [(key, \u001b[38;5;28;43mlen\u001b[39;49m\u001b[43m(\u001b[49m\u001b[43msub_iter\u001b[49m\u001b[43m)\u001b[49m) \u001b[38;5;28;01mfor\u001b[39;00m key, sub_iter \u001b[38;5;129;01min\u001b[39;00m make_groups]\n\u001b[0;32m      5\u001b[0m \u001b[38;5;28mprint\u001b[39m(result)\n",
      "\u001b[1;31mTypeError\u001b[0m: object of type 'itertools._grouper' has no len()"
     ]
    }
   ],
   "source": [
    "with open('../Section 08 - Iteration Tools/08 - Grouping/cars_2014.csv') as f:\n",
    "    next(f)\n",
    "    make_groups = itertools.groupby(f, lambda x: x.split(',')[0])\n",
    "    result = [(key, len(sub_iter)) for key, sub_iter in make_groups]\n",
    "    print(result)"
   ]
  },
  {
   "cell_type": "markdown",
   "id": "4f954414-1bf4-429c-9962-a597f76d4a4c",
   "metadata": {},
   "source": [
    "Unfortunately, this iterator has not implemented `__len__`, so we're going to show two ways of finding the length of a general iterator, using `squares` to demonstrate if it works."
   ]
  },
  {
   "cell_type": "code",
   "execution_count": 64,
   "id": "2cc446b9-85a1-4f0c-b32c-d0f325009312",
   "metadata": {},
   "outputs": [],
   "source": [
    "def squares(n):\n",
    "    for i in range(n):\n",
    "        yield i**2"
   ]
  },
  {
   "cell_type": "code",
   "execution_count": 65,
   "id": "632e4b9d-3b8f-427e-812f-9a46c6f5368d",
   "metadata": {},
   "outputs": [
    {
     "data": {
      "text/plain": [
       "8"
      ]
     },
     "execution_count": 65,
     "metadata": {},
     "output_type": "execute_result"
    }
   ],
   "source": [
    "# Approach 1\n",
    "def len_iterable(iterable):\n",
    "    i = 0\n",
    "    for _ in iterable:\n",
    "        i += 1\n",
    "    return i\n",
    "\n",
    "len_iterable(squares(8))"
   ]
  },
  {
   "cell_type": "code",
   "execution_count": 66,
   "id": "1ee452e0-8fc1-4bce-97de-8e668997c990",
   "metadata": {},
   "outputs": [
    {
     "data": {
      "text/plain": [
       "8"
      ]
     },
     "execution_count": 66,
     "metadata": {},
     "output_type": "execute_result"
    }
   ],
   "source": [
    "# Approach 2\n",
    "sum(1 for _ in squares(8))"
   ]
  },
  {
   "cell_type": "markdown",
   "id": "a1c5aed4-571b-426b-a64a-7d226b8878f8",
   "metadata": {},
   "source": [
    "The second approach just lazily generates `-> (1, 1, 1, 1, 1, 1)` and then sums it. We'll use this approach."
   ]
  },
  {
   "cell_type": "code",
   "execution_count": 67,
   "id": "86ecf6a2-4515-4945-b713-2e9dd7553c4b",
   "metadata": {},
   "outputs": [
    {
     "name": "stdout",
     "output_type": "stream",
     "text": [
      "[('ACURA', 6), ('ALFA ROMEO', 2), ('APRILIA', 4), ('ARCTIC CAT', 96), ('ARGO', 4), ('ASTON MARTIN', 5), ('AUDI', 27), ('BENTLEY', 2), ('BLUE BIRD', 1), ('BMW', 86), ('BUGATTI', 1), ('BUICK', 5), ('CADILLAC', 7), ('CAN-AM', 61), ('CHEVROLET', 33), ('CHRYSLER', 2), ('DODGE', 7), ('DUCATI', 4), ('FERRARI', 6), ('FIAT', 2), ('FORD', 34), ('FREIGHTLINER', 7), ('GMC', 12), ('HARLEY DAVIDSON', 29), ('HINO', 7), ('HONDA', 91), ('HUSABERG', 4), ('HUSQVARNA', 9), ('HYUNDAI', 13), ('INDIAN', 3), ('INFINITI', 8), ('JAGUAR', 9), ('JEEP', 5), ('JOHN DEERE', 19), ('KAWASAKI', 59), ('KENWORTH', 11), ('KIA', 10), ('KTM', 13), ('KUBOTA', 4), ('KYMCO', 28), ('LAMBORGHINI', 2), ('LAND ROVER', 6), ('LEXUS', 14), ('LINCOLN', 6), ('LOTUS', 1), ('MACK', 9), ('MASERATI', 3), ('MAZDA', 5), ('MCLAREN', 2), ('MERCEDES-BENZ', 60), ('MINI', 3), ('MITSUBISHI', 8), ('NISSAN', 24), ('PEUGEOT', 3), ('POLARIS', 101), ('PORSCHE', 4), ('RAM', 6), ('RENAULT', 4), ('ROLLS ROYCE', 3), ('SCION', 5), ('SEAT', 3), ('SKI-DOO', 67), ('SMART', 1), ('SRT', 1), ('SUBARU', 10), ('SUZUKI', 48), ('TESLA', 2), ('TOYOTA', 19), ('TRIUMPH', 10), ('VESPA', 4), ('VICTORY', 14), ('VOLKSWAGEN', 16), ('VOLVO', 8), ('YAMAHA', 110)]\n"
     ]
    }
   ],
   "source": [
    "with open('../Section 08 - Iteration Tools/08 - Grouping/cars_2014.csv') as f:\n",
    "    next(f)\n",
    "    make_groups = itertools.groupby(f, lambda x: x.split(',')[0])\n",
    "    result = (\n",
    "        (key, sum(1 for _ in sub_iter))\n",
    "        for key, sub_iter in make_groups\n",
    "    )\n",
    "    print(list(result))"
   ]
  },
  {
   "cell_type": "markdown",
   "id": "36b5e836-732e-482d-867d-0f4ce2df1f32",
   "metadata": {},
   "source": [
    "# 09 - Combinatorics"
   ]
  },
  {
   "cell_type": "markdown",
   "id": "fa695be4-3b64-44ca-b0cf-87289f7e3558",
   "metadata": {},
   "source": [
    "#### Cartesian Product"
   ]
  },
  {
   "cell_type": "markdown",
   "id": "041007ef-3d4c-4bc3-a925-7211132d5557",
   "metadata": {},
   "source": [
    "Consider the two following sets: \n",
    "$$\n",
    "s1 = \\{1, 2, 3, ..., 10\\}\n",
    "$$\n",
    "$$\n",
    "s2 = \\{1, 2, 3, ..., 10\\}\n",
    "$$\n",
    "then the Cartesian product of the two sets is:\n",
    "$$\n",
    "s_1 \\times s_2 = \\{(x_1, x_2) \\, \\vert \\, x_1 \\in s_1 \\, \\textrm{and} \\, x_2 \\in s_2\\}\n",
    "$$"
   ]
  },
  {
   "cell_type": "markdown",
   "id": "2a2804ea-bc23-47ff-bea6-a4f348be62c0",
   "metadata": {},
   "source": [
    "Another way to think of it is by creating a table:\n",
    "\n",
    "```\n",
    "        y1        y2        y3                          y1      y2      y3\n",
    "x1  (x1, y1)  (x1, y2)  (x1, y3)                  x1  (1, 1)  (1, 2)  (1, 3)        \n",
    "\n",
    "x2  (x2, y1)  (x2, y2)  (x2, y3)                  x2  (2, 1)  (2, 2)  (2, 3)\n",
    "                                       ---> \n",
    "x3  (x3, y1)  (x3, y2)  (x3, y3)                  x3  (3, 1)  (3, 2)  (3, 3)\n",
    "\n",
    "x4  (x4, y1)  (x4, y2)  (x4, y3)                  x4  (4, 1)  (4, 2)  (4, 3)\n",
    "```"
   ]
  },
  {
   "cell_type": "markdown",
   "id": "60c9bbee-95df-484a-8d42-e4705e93f4bf",
   "metadata": {},
   "source": [
    "We can do this with the following:"
   ]
  },
  {
   "cell_type": "code",
   "execution_count": 3,
   "id": "8c2ced80-eb81-4366-b216-44be9a7819fa",
   "metadata": {},
   "outputs": [
    {
     "name": "stdout",
     "output_type": "stream",
     "text": [
      "[(1, 1), (1, 2), (1, 3), (2, 1), (2, 2), (2, 3), (3, 1), (3, 2), (3, 3), (4, 1), (4, 2), (4, 3)]\n"
     ]
    }
   ],
   "source": [
    "import itertools\n",
    "\n",
    "l1 = range(1, 5)\n",
    "l2 = range(1, 4)\n",
    "\n",
    "product = itertools.product(l1, l2)\n",
    "\n",
    "print(list(product))"
   ]
  },
  {
   "cell_type": "markdown",
   "id": "172e62fc-ac16-4e37-91ec-23fe050ca4ea",
   "metadata": {},
   "source": [
    "This is really useful if we want all the combinations of a number of iterables."
   ]
  },
  {
   "cell_type": "markdown",
   "id": "ca0fba30-8a01-4c06-a9a1-2d54d9bd2da0",
   "metadata": {},
   "source": [
    "Another example: Creating a card deck can easily be with the cartesian product: "
   ]
  },
  {
   "cell_type": "code",
   "execution_count": 6,
   "id": "56932994-b57b-4ecb-91d5-d2b856f453c6",
   "metadata": {},
   "outputs": [
    {
     "data": {
      "text/plain": [
       "[Card(rank='Spades', suit='2'),\n",
       " Card(rank='Spades', suit='3'),\n",
       " Card(rank='Spades', suit='4'),\n",
       " Card(rank='Spades', suit='5'),\n",
       " Card(rank='Spades', suit='6')]"
      ]
     },
     "execution_count": 6,
     "metadata": {},
     "output_type": "execute_result"
    }
   ],
   "source": [
    "from collections import namedtuple\n",
    "Card = namedtuple('Card', 'rank suit')\n",
    "\n",
    "SUITS = ['Spades', 'Hearts', 'Diamonds', 'Clubs']\n",
    "RANKS = tuple(str(i) for i in range(2, 11)) + tuple('JQKA')\n",
    "\n",
    "deck = [Card(rank, suit) for rank, suit in itertools.product(SUITS, RANKS)]\n",
    "deck[0:5]"
   ]
  },
  {
   "cell_type": "markdown",
   "id": "e69c3897-3301-48ae-a22e-2c99ebfe82e3",
   "metadata": {},
   "source": [
    "What are the odds of successively picking four aces from a shuffled deck?\n",
    "\n",
    "$$\n",
    "\\frac{4}{52} \\times \\frac{3}{51} \\times \\frac{2}{50} \\times \\frac{1}{49}\n",
    "= \\frac{24}{6497400} = \\frac{1}{270725}\n",
    "$$\n",
    "\n",
    "In other words, 52 cards choose 4 (unique) cards (no replacement). There are 270725 combinations, but only one of those is (Ace of Spades, Ace of Hearts, Ace of Diamonds, Ace of Clubs). Remember, the order doesn't matter.\n",
    "In code:"
   ]
  },
  {
   "cell_type": "code",
   "execution_count": 8,
   "id": "1eb247fe-1857-4c1a-9522-a4ce862ee778",
   "metadata": {},
   "outputs": [
    {
     "name": "stdout",
     "output_type": "stream",
     "text": [
      "total=270725, acceptable=1\n",
      "odds=1/270725\n",
      "odds=0.0000036938\n"
     ]
    }
   ],
   "source": [
    "from fractions import Fraction\n",
    "\n",
    "deck = (Card(rank, suit) for suit, rank in itertools.product(SUITS, RANKS))\n",
    "sample_space = itertools.combinations(deck, 4)\n",
    "total = 0\n",
    "acceptable = 0\n",
    "for outcome in sample_space:\n",
    "    total += 1\n",
    "    for card in outcome:\n",
    "        if card.rank != 'A':\n",
    "            break\n",
    "    else:\n",
    "        # else block is executed if loop terminated without a break\n",
    "        acceptable += 1\n",
    "print(f'total={total}, acceptable={acceptable}')\n",
    "print('odds={}'.format(Fraction(acceptable, total)))\n",
    "print('odds={:.10f}'.format(acceptable/total))"
   ]
  },
  {
   "cell_type": "code",
   "execution_count": 10,
   "id": "2497bd5c-327a-45d6-a8e8-b9c05f527d2f",
   "metadata": {},
   "outputs": [
    {
     "data": {
      "text/plain": [
       "False"
      ]
     },
     "execution_count": 10,
     "metadata": {},
     "output_type": "execute_result"
    }
   ],
   "source": [
    "all(['str', 0, []])"
   ]
  },
  {
   "cell_type": "markdown",
   "id": "142b619f-0698-4d6c-b0f0-a83313c33fb0",
   "metadata": {},
   "source": [
    "We can rewrite this algorithm using `all` and `map` to replace one of the `for` loops.\n",
    "\n",
    "We do this by taking each of those 270725 group of 4 cards in turn and then checking if the rank of each card is Ace.\n",
    "\n",
    "If we get 3 Aces and one Heart, it would look like: `[True, True, True, False]`. Applying `all` to this would result in `False` because they aren't all `True`.\n"
   ]
  },
  {
   "cell_type": "code",
   "execution_count": 11,
   "id": "e40b70f3-cb2d-4c96-8f12-b3bb6cdf6b91",
   "metadata": {},
   "outputs": [
    {
     "name": "stdout",
     "output_type": "stream",
     "text": [
      "total=270725, acceptable=1\n",
      "odds=1/270725\n",
      "odds=0.0000036938\n"
     ]
    }
   ],
   "source": [
    "deck = (Card(rank, suit) for suit, rank in itertools.product(SUITS, RANKS))\n",
    "sample_space = itertools.combinations(deck, 4)\n",
    "total = 0\n",
    "acceptable = 0\n",
    "for outcome in sample_space:\n",
    "    total += 1\n",
    "    if all(map(lambda x: x.rank == 'A', outcome)):\n",
    "        acceptable += 1\n",
    "\n",
    "print(f'total={total}, acceptable={acceptable}')\n",
    "print('odds={}'.format(Fraction(acceptable, total)))\n",
    "print('odds={:.10f}'.format(acceptable/total))"
   ]
  },
  {
   "cell_type": "markdown",
   "id": "f39abaa6-63d9-4d71-a16c-74001f0a2405",
   "metadata": {},
   "source": [
    "Here's another example: If we want to make an n-dimensional grid that doesn't have integer divisions, we can use `itertools.takewhile` and `itertools.count`:"
   ]
  },
  {
   "cell_type": "code",
   "execution_count": 22,
   "id": "87a676f6-913d-42e5-89e6-fe28508eee42",
   "metadata": {},
   "outputs": [
    {
     "data": {
      "text/plain": [
       "[(-1, -1),\n",
       " (-1, -0.5),\n",
       " (-1, 0.0),\n",
       " (-1, 0.5),\n",
       " (-1, 1.0),\n",
       " (-0.5, -1),\n",
       " (-0.5, -0.5),\n",
       " (-0.5, 0.0),\n",
       " (-0.5, 0.5),\n",
       " (-0.5, 1.0),\n",
       " (0.0, -1),\n",
       " (0.0, -0.5),\n",
       " (0.0, 0.0),\n",
       " (0.0, 0.5),\n",
       " (0.0, 1.0),\n",
       " (0.5, -1),\n",
       " (0.5, -0.5),\n",
       " (0.5, 0.0),\n",
       " (0.5, 0.5),\n",
       " (0.5, 1.0),\n",
       " (1.0, -1),\n",
       " (1.0, -0.5),\n",
       " (1.0, 0.0),\n",
       " (1.0, 0.5),\n",
       " (1.0, 1.0)]"
      ]
     },
     "execution_count": 22,
     "metadata": {},
     "output_type": "execute_result"
    }
   ],
   "source": [
    "def grid(min_val, max_val, step, *, num_dimensions=2):\n",
    "    axis = itertools.takewhile(lambda x: x <= max_val, itertools.count(min_val, step))\n",
    "\n",
    "    axes = itertools.tee(axis, num_dimensions)\n",
    "    return itertools.product(*axes)\n",
    "\n",
    "list(grid(-1, 1, 0.5))"
   ]
  },
  {
   "cell_type": "markdown",
   "id": "1690f6ca-fa0c-4913-bf22-ffca316d2911",
   "metadata": {},
   "source": [
    "Yet another example: Imagine we have numerous dice and we roll them all at once. The different combinations possible is just the cartesian product. What if we wanted to know all the combinations that add up to 8? We'll need to filter the sample space:"
   ]
  },
  {
   "cell_type": "code",
   "execution_count": 33,
   "id": "9d2dd6c9-0ad5-4eca-95be-94fdaad7b9ef",
   "metadata": {},
   "outputs": [
    {
     "name": "stdout",
     "output_type": "stream",
     "text": [
      "[(1, 1), (1, 2), (1, 3), (1, 4), (1, 5), (1, 6), (2, 1), (2, 2), (2, 3), (2, 4), (2, 5), (2, 6), (3, 1), (3, 2), (3, 3), (3, 4), (3, 5), (3, 6), (4, 1), (4, 2), (4, 3), (4, 4), (4, 5), (4, 6), (5, 1), (5, 2), (5, 3), (5, 4), (5, 5), (5, 6), (6, 1), (6, 2), (6, 3), (6, 4), (6, 5), (6, 6)]\n"
     ]
    }
   ],
   "source": [
    "sample_space = list(itertools.product(*itertools.tee(range(1,7),2)))\n",
    "print(list(sample_space))"
   ]
  },
  {
   "cell_type": "code",
   "execution_count": 35,
   "id": "9cbe14d0-30af-4bc9-9794-6036dac8f45e",
   "metadata": {},
   "outputs": [
    {
     "name": "stdout",
     "output_type": "stream",
     "text": [
      "[(2, 6), (3, 5), (4, 4), (5, 3), (6, 2)]\n"
     ]
    }
   ],
   "source": [
    "outcomes = list(filter(lambda x: x[0] + x[1] == 8, sample_space))\n",
    "print(list(outcomes))"
   ]
  },
  {
   "cell_type": "markdown",
   "id": "d03c1d9d-5941-4023-806a-3acf2915ed74",
   "metadata": {},
   "source": [
    "#### Permutations"
   ]
  },
  {
   "cell_type": "markdown",
   "id": "467960e6-8ab2-4fef-9848-2d5aa4fc2608",
   "metadata": {},
   "source": [
    "From Wikipedia: \n",
    "\n",
    "\n",
    "> In mathematics, the notion of permutation relates to the act of arranging all the members of a set into some sequence or order, or if the set is already ordered, rearranging (reordering) its elements, a process called permuting. These differ from combinations, which are selections of some members of a set where order is disregarded.\n",
    "\n",
    "\n",
    "https://en.wikipedia.org/wiki/Permutation"
   ]
  },
  {
   "cell_type": "markdown",
   "id": "59e81e55-c265-447f-a1a7-8b9f2223974d",
   "metadata": {},
   "source": [
    "We can create permutations of length n from an iterable of length m (n <= m) using the `permutation` function:\n",
    "\n",
    "This is basically 'p choose r' I think. By default, 'r' is equal to the length of the iterable, so below it's 3 choose 3.\n",
    "\n",
    "Permutations are the same as combinations, except with permutations, order matters and replacements are not allowed."
   ]
  },
  {
   "cell_type": "code",
   "execution_count": 37,
   "id": "91f1b50d-9a77-4104-baa1-50bf06b66c63",
   "metadata": {},
   "outputs": [
    {
     "data": {
      "text/plain": [
       "[('a', 'b', 'c'),\n",
       " ('a', 'c', 'b'),\n",
       " ('b', 'a', 'c'),\n",
       " ('b', 'c', 'a'),\n",
       " ('c', 'a', 'b'),\n",
       " ('c', 'b', 'a')]"
      ]
     },
     "execution_count": 37,
     "metadata": {},
     "output_type": "execute_result"
    }
   ],
   "source": [
    "l1 = 'abc'\n",
    "list(itertools.permutations(l1))"
   ]
  },
  {
   "cell_type": "code",
   "execution_count": 38,
   "id": "97d75b2f-524e-488a-b478-68f8b31a2558",
   "metadata": {},
   "outputs": [
    {
     "data": {
      "text/plain": [
       "[('a', 'b'), ('a', 'c'), ('b', 'a'), ('b', 'c'), ('c', 'a'), ('c', 'b')]"
      ]
     },
     "execution_count": 38,
     "metadata": {},
     "output_type": "execute_result"
    }
   ],
   "source": [
    "list(itertools.permutations(l1, 2))"
   ]
  }
 ],
 "metadata": {
  "kernelspec": {
   "display_name": "Python 3 (ipykernel)",
   "language": "python",
   "name": "python3"
  },
  "language_info": {
   "codemirror_mode": {
    "name": "ipython",
    "version": 3
   },
   "file_extension": ".py",
   "mimetype": "text/x-python",
   "name": "python",
   "nbconvert_exporter": "python",
   "pygments_lexer": "ipython3",
   "version": "3.10.4"
  }
 },
 "nbformat": 4,
 "nbformat_minor": 5
}
