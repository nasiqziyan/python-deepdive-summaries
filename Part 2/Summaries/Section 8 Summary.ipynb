{
 "cells": [
  {
   "cell_type": "markdown",
   "id": "01049b79-2c22-42f5-95d5-0c64764ccb11",
   "metadata": {},
   "source": [
    "We would've seen most of these iteration tools in the previous sections and you'll recognise that they're ***all*** **lazy iterators** and not **iterables**, making them highly efficient."
   ]
  },
  {
   "cell_type": "markdown",
   "id": "1cf799d3-87a6-4849-b841-3ec5ff1a8cda",
   "metadata": {},
   "source": [
    "# 01 - Aggregators"
   ]
  },
  {
   "cell_type": "markdown",
   "id": "fc4e9495-b896-46eb-9f6f-7f2edb325f2e",
   "metadata": {},
   "source": [
    "#### Lecture "
   ]
  },
  {
   "cell_type": "markdown",
   "id": "404edbab-ec8e-4c68-a908-c6c15cc3a6b1",
   "metadata": {},
   "source": [
    "Aggregators are functions that iterate through an iterable and returns a single value that (usually) takes into account every element of the iterable.\n",
    "\n",
    "For example `min(iterable)`, `max(iterable)`, `sum(iterable)`\n",
    "\n",
    "Also: `any(iterable)` and `all(iterable)`. Regarding these two, remember that **every** object has a truth value. The rule for all objects is the following:\n",
    "\n",
    "**Every object has a **`True`** truth value, **except**:\n",
    "\n",
    "- None\n",
    "- False\n",
    "- 0 in any numeric type (e.g. int, float etc)\n",
    "- empty sequences (e.g. list, tuple, string)\n",
    "- empty mapping types (e.g. dictionaries, sets)\n",
    "- custom classes that implement a `__bool__` or `__len__` method that returns False or 0. If neither is present, we default to `True`."
   ]
  },
  {
   "cell_type": "markdown",
   "id": "fae4ee29-79e1-44cf-81fc-af78aad66dff",
   "metadata": {},
   "source": [
    "**Definition**\n",
    "\n",
    "Predicate: A predicate is a function that takes a single argument and returns `True` or `False`. For example, `bool()`."
   ]
  },
  {
   "cell_type": "markdown",
   "id": "60bcdb9f-fb42-44a8-bac3-3b5ba88be907",
   "metadata": {},
   "source": [
    "We can make `all()` and `any()` more useful by first **applying a predicate** to each element of the iterable."
   ]
  },
  {
   "cell_type": "markdown",
   "id": "804670c3-fd9f-4e03-ba65-4d7599f85b64",
   "metadata": {},
   "source": [
    "#### Example 1"
   ]
  },
  {
   "cell_type": "markdown",
   "id": "2f8f744c-3fe7-4a0e-aee1-9f90ab05be89",
   "metadata": {},
   "source": [
    "For example, say we want to know if **every element is less that 10**:"
   ]
  },
  {
   "cell_type": "code",
   "execution_count": 18,
   "id": "35835cee-2709-4b1b-bd1d-b827b8c0b79a",
   "metadata": {},
   "outputs": [
    {
     "data": {
      "text/plain": [
       "False"
      ]
     },
     "execution_count": 18,
     "metadata": {},
     "output_type": "execute_result"
    }
   ],
   "source": [
    "l = [1, 2, 3, 4, 100, 5, 6]\n",
    "\n",
    "pred = lambda x: x < 10\n",
    "\n",
    "result = [pred(item) for item in l]\n",
    "\n",
    "all(result)"
   ]
  },
  {
   "cell_type": "markdown",
   "id": "61d0934e-c022-4e3b-b796-d175d0145218",
   "metadata": {},
   "source": [
    "The neater way to do this is using `map(fn, iterable)` which applies a **predicate** to each element in the iterable:"
   ]
  },
  {
   "cell_type": "code",
   "execution_count": 19,
   "id": "d20ae49c-e89e-48f4-a3ef-6458f5ded00a",
   "metadata": {},
   "outputs": [
    {
     "name": "stdout",
     "output_type": "stream",
     "text": [
      "Mapping 1, Mapping 2, Mapping 3, Mapping 4, Mapping 100, "
     ]
    },
    {
     "data": {
      "text/plain": [
       "False"
      ]
     },
     "execution_count": 19,
     "metadata": {},
     "output_type": "execute_result"
    }
   ],
   "source": [
    "def pred_new(x):\n",
    "    print(f'Mapping {x}', end=', ')\n",
    "    return x < 10\n",
    "\n",
    "all(map(pred_new, l))"
   ]
  },
  {
   "cell_type": "markdown",
   "id": "67b16e09-b13d-4755-9df1-23f32639536d",
   "metadata": {},
   "source": [
    "Because `map` is an iterator, it doesn't have to map every element first and then pass the result to `all()`. Instead, `all()` will lazily request a result from `map`; if it receives a `False` it will terminate immediately. This is why we don't see the final two elements (5 and 6) of `l` being printed."
   ]
  },
  {
   "cell_type": "markdown",
   "id": "73fc8a8b-2c82-4d54-87a0-fa96aec8d37b",
   "metadata": {},
   "source": [
    "If we do not want to use `map`, we should use a `generator comprehension`, *NOT* a list comprehension, so that we get the benefits of lazy evaluation."
   ]
  },
  {
   "cell_type": "code",
   "execution_count": 20,
   "id": "1a6322c1-9758-4a74-9b48-7f3a5e3c76a1",
   "metadata": {},
   "outputs": [
    {
     "name": "stdout",
     "output_type": "stream",
     "text": [
      "Mapping 1, Mapping 2, Mapping 3, Mapping 4, Mapping 100, "
     ]
    },
    {
     "data": {
      "text/plain": [
       "False"
      ]
     },
     "execution_count": 20,
     "metadata": {},
     "output_type": "execute_result"
    }
   ],
   "source": [
    "result = (pred_new(item) for item in l)\n",
    "all(result)"
   ]
  },
  {
   "cell_type": "markdown",
   "id": "afcaf0a9-9998-4174-a898-55a14b5b989a",
   "metadata": {},
   "source": [
    "#### Example 2"
   ]
  },
  {
   "cell_type": "markdown",
   "id": "da0a5fa0-6247-492e-ad86-7a2d02db0632",
   "metadata": {},
   "source": [
    "We have a file call `car-brands.txt`. We want to know if **every** car name is longer than 3 (4 including the \\n character at the end):\n",
    "\n",
    "Recall that `open(<file>)` (or `f`) is a lazy iterator - we don't need to loop through each line. We can pass `f` to another iterator such as `map`, and pass that output to another iterator such as `all` or `any` and they'll terminate at the right time. "
   ]
  },
  {
   "cell_type": "code",
   "execution_count": 26,
   "id": "996c43b0-3ea3-4abd-a5e2-6af64ad271ec",
   "metadata": {},
   "outputs": [
    {
     "name": "stdout",
     "output_type": "stream",
     "text": [
      "True\n"
     ]
    }
   ],
   "source": [
    "filename = '../Section 08 - Iteration Tools/01 - Aggregators/car-brands.txt'\n",
    "\n",
    "with open(filename) as f:\n",
    "    result = all(map(lambda row: len(row) >= 4, f))\n",
    "    print(result)"
   ]
  },
  {
   "cell_type": "markdown",
   "id": "f96715aa-b3d7-45ac-a9af-b92a80cb7779",
   "metadata": {},
   "source": [
    "# 02 - Slicing Iterables"
   ]
  },
  {
   "cell_type": "markdown",
   "id": "8b7f4896-53b1-4166-8063-a34e38e237c9",
   "metadata": {},
   "source": [
    "Recall that we could slice sequences with `[]` notation as well as the `slice` object:"
   ]
  },
  {
   "cell_type": "code",
   "execution_count": 32,
   "id": "98f5cc49-0684-444b-861e-6b9971d38da1",
   "metadata": {},
   "outputs": [
    {
     "name": "stdout",
     "output_type": "stream",
     "text": [
      "[2, 4, 6]\n",
      "[2, 4, 6]\n"
     ]
    }
   ],
   "source": [
    "seq = list(range(0, 10, 1))\n",
    "print(seq[2:8:2])\n",
    "print(seq[slice(2, 8, 2)])"
   ]
  },
  {
   "cell_type": "markdown",
   "id": "35bfa34b-0eaf-4903-9912-f1892a0b8fb8",
   "metadata": {},
   "source": [
    "But we can slice **iterables** (including **iterators**) with `islice` from `itertools`:\n",
    "```python\n",
    "islice(iterable, start, stop, step)\n",
    "```\n",
    "\n",
    "- `islice` will iterate through the iterable until it has met the conditions of the slice. For example, if we only want a slice of the first 5 objects of an infinite iterable, it will raise the `StopIteration` error after the 5th element\n",
    "- Recalling that all itertools are **iterators**, `islice()` will *yield* a value, not return it, and hence `islice` returns a **lazy iterator**."
   ]
  },
  {
   "cell_type": "markdown",
   "id": "eec5424c-ba55-49c9-98c7-52c44ec3d3c8",
   "metadata": {},
   "source": [
    "In the example below `factorials()` is an infinite iterable (more specifically an iterator), not a sequence, so it cannot be sliced regularly - we need to use `islice`. "
   ]
  },
  {
   "cell_type": "code",
   "execution_count": 46,
   "id": "b60a84c5-b389-490d-b345-a118892c11cb",
   "metadata": {},
   "outputs": [
    {
     "data": {
      "text/plain": [
       "[2, 24, 720, 40320]"
      ]
     },
     "execution_count": 46,
     "metadata": {},
     "output_type": "execute_result"
    }
   ],
   "source": [
    "import math\n",
    "from itertools import islice\n",
    "\n",
    "def factorials():\n",
    "    idx = 0\n",
    "    while True:\n",
    "        yield math.factorial(idx)\n",
    "        idx += 1\n",
    "\n",
    "result = islice(factorials(), 2, 9, 2)\n",
    "list(result)"
   ]
  },
  {
   "cell_type": "markdown",
   "id": "6dbda947-fdab-4d5f-a030-d5eaac28c970",
   "metadata": {},
   "source": [
    "We've exhausted the `islice` iterator, so we can't reuse it."
   ]
  },
  {
   "cell_type": "code",
   "execution_count": 41,
   "id": "6aeaf9a4-f43c-40e4-8532-99094b6d4fd3",
   "metadata": {},
   "outputs": [
    {
     "data": {
      "text/plain": [
       "[]"
      ]
     },
     "execution_count": 41,
     "metadata": {},
     "output_type": "execute_result"
    }
   ],
   "source": [
    "list(result)"
   ]
  },
  {
   "cell_type": "markdown",
   "id": "4167b582-8365-49d0-9295-2bd1836455e5",
   "metadata": {},
   "source": [
    "# 03 - Selecting and Filtering"
   ]
  },
  {
   "cell_type": "markdown",
   "id": "b3297aba-00af-4c3a-95a7-324b0b67e5c0",
   "metadata": {},
   "source": [
    "#### `filter`"
   ]
  },
  {
   "cell_type": "markdown",
   "id": "3a053a72-cfca-4043-ab30-e6089ce3f856",
   "metadata": {},
   "source": [
    "The `filter` function takes an iterable and applies a predicate to it. If the predicate returns `True`, it will retain that element; otherwise, it'll throw it away.\n",
    "```python\n",
    "filter(predicate, iterable)\n",
    "```\n",
    "\n",
    "The equivalent way to get the same functionality of `filter` is with the following:\n",
    "```python\n",
    "(item for item in iterable if pred(item))\n",
    "```"
   ]
  },
  {
   "cell_type": "markdown",
   "id": "421a16d5-4811-45a0-a8ca-e37c75b89880",
   "metadata": {},
   "source": [
    "##### Example 1"
   ]
  },
  {
   "cell_type": "code",
   "execution_count": 1,
   "id": "cab16600-2211-46a8-be78-3beb53828c0a",
   "metadata": {},
   "outputs": [
    {
     "data": {
      "text/plain": [
       "<filter at 0x17bd3bda430>"
      ]
     },
     "execution_count": 1,
     "metadata": {},
     "output_type": "execute_result"
    }
   ],
   "source": [
    "l = [2, 1, 10, 5, 3, 6, 1, 10]\n",
    "result = filter(lambda x: x < 4, l)\n",
    "result"
   ]
  },
  {
   "cell_type": "code",
   "execution_count": 2,
   "id": "c0ca3217-b1b3-459d-9dbe-9ae6c7d0b240",
   "metadata": {},
   "outputs": [
    {
     "data": {
      "text/plain": [
       "[2, 1, 3, 1]"
      ]
     },
     "execution_count": 2,
     "metadata": {},
     "output_type": "execute_result"
    }
   ],
   "source": [
    "list(result)"
   ]
  },
  {
   "cell_type": "markdown",
   "id": "0b6a30cc-ad65-4bc3-87c6-b909f31f4cf5",
   "metadata": {},
   "source": [
    "##### Example 2"
   ]
  },
  {
   "cell_type": "markdown",
   "id": "a27791ce-5dc3-4dcb-afcd-e9b984924cee",
   "metadata": {},
   "source": [
    "In this example, we are going to iterate through a list of cube values and throw away all the values that are even, but we're going to do it lazily."
   ]
  },
  {
   "cell_type": "code",
   "execution_count": 15,
   "id": "e64052c8-ddbc-4946-b9e6-7de28ef00ec3",
   "metadata": {},
   "outputs": [],
   "source": [
    "def gen_cubes(n):\n",
    "    for i in range(n):\n",
    "        print(f'yielding {i}')\n",
    "        yield i**3"
   ]
  },
  {
   "cell_type": "code",
   "execution_count": 16,
   "id": "ec0f37ae-bcd0-4d1f-9ed0-dd313fdb52d7",
   "metadata": {},
   "outputs": [],
   "source": [
    "def is_odd(x):\n",
    "    return x % 2 == 1"
   ]
  },
  {
   "cell_type": "code",
   "execution_count": 17,
   "id": "cf315bb2-cb5a-4c93-8824-2fecfa4ca039",
   "metadata": {},
   "outputs": [],
   "source": [
    "filtered = filter(is_odd, gen_cubes(10))"
   ]
  },
  {
   "cell_type": "code",
   "execution_count": 18,
   "id": "9dcf9d15-0b36-46a2-8b24-9bea76b4772e",
   "metadata": {},
   "outputs": [
    {
     "name": "stdout",
     "output_type": "stream",
     "text": [
      "yielding 0\n",
      "yielding 1\n",
      "yielding 2\n",
      "yielding 3\n",
      "yielding 4\n",
      "yielding 5\n",
      "yielding 6\n",
      "yielding 7\n",
      "yielding 8\n",
      "yielding 9\n"
     ]
    },
    {
     "data": {
      "text/plain": [
       "[1, 27, 125, 343, 729]"
      ]
     },
     "execution_count": 18,
     "metadata": {},
     "output_type": "execute_result"
    }
   ],
   "source": [
    "list(filtered)"
   ]
  },
  {
   "cell_type": "markdown",
   "id": "7bd329bc-a289-4b30-af32-816ae9d003bf",
   "metadata": {},
   "source": [
    "##### `filterfalse` "
   ]
  },
  {
   "cell_type": "markdown",
   "id": "8fe42c78-0318-4e6b-aff0-4c8db71dcc32",
   "metadata": {},
   "source": [
    "This is not builtin but it's in the standard library. It does what it says on the tin:"
   ]
  },
  {
   "cell_type": "markdown",
   "id": "e3428870-cadd-4e65-a25d-519c1aef6934",
   "metadata": {},
   "source": [
    "##### Example 1"
   ]
  },
  {
   "cell_type": "code",
   "execution_count": 3,
   "id": "946b960e-a243-4c84-b82b-fb90afdf4da3",
   "metadata": {},
   "outputs": [
    {
     "data": {
      "text/plain": [
       "[10, 5, 6, 10]"
      ]
     },
     "execution_count": 3,
     "metadata": {},
     "output_type": "execute_result"
    }
   ],
   "source": [
    "from itertools import filterfalse\n",
    "\n",
    "l = [2, 1, 10, 5, 3, 6, 1, 10]\n",
    "result = filterfalse(lambda x: x < 4, l)\n",
    "list(result)"
   ]
  },
  {
   "cell_type": "markdown",
   "id": "babb9ecd-92fe-43a7-9809-310acbda2ec6",
   "metadata": {},
   "source": [
    "##### Example 2"
   ]
  },
  {
   "cell_type": "markdown",
   "id": "db74835b-f720-46fd-9c8a-2f69e3bda374",
   "metadata": {},
   "source": [
    "This is the same as the example in `filter` but the inverse."
   ]
  },
  {
   "cell_type": "code",
   "execution_count": 19,
   "id": "ae6aebba-467e-429c-97e3-7c6903dc6d92",
   "metadata": {},
   "outputs": [],
   "source": [
    "def gen_cubes(n):\n",
    "    for i in range(n):\n",
    "        print(f'yielding {i}')\n",
    "        yield i**3"
   ]
  },
  {
   "cell_type": "code",
   "execution_count": 20,
   "id": "7a4f5ae3-930a-43c9-b9f7-d99051c3dfe7",
   "metadata": {},
   "outputs": [],
   "source": [
    "def is_odd(x):\n",
    "    return x % 2 == 1"
   ]
  },
  {
   "cell_type": "code",
   "execution_count": 21,
   "id": "fdd3d019-b00f-489b-aaf1-4d6f56e5f281",
   "metadata": {},
   "outputs": [],
   "source": [
    "filtered = filterfalse(is_odd, gen_cubes(10))"
   ]
  },
  {
   "cell_type": "code",
   "execution_count": 22,
   "id": "923d325a-186d-4ca9-bd18-30a0f4082854",
   "metadata": {},
   "outputs": [
    {
     "name": "stdout",
     "output_type": "stream",
     "text": [
      "yielding 0\n",
      "yielding 1\n",
      "yielding 2\n",
      "yielding 3\n",
      "yielding 4\n",
      "yielding 5\n",
      "yielding 6\n",
      "yielding 7\n",
      "yielding 8\n",
      "yielding 9\n"
     ]
    },
    {
     "data": {
      "text/plain": [
       "[0, 8, 64, 216, 512]"
      ]
     },
     "execution_count": 22,
     "metadata": {},
     "output_type": "execute_result"
    }
   ],
   "source": [
    "list(filtered)"
   ]
  },
  {
   "cell_type": "markdown",
   "id": "e4282529-1e32-432c-9436-cc24b0ceb0e9",
   "metadata": {},
   "source": [
    "#### `compress`"
   ]
  },
  {
   "cell_type": "markdown",
   "id": "c4fcac6e-1aeb-4066-a8d2-c3d89bc26c72",
   "metadata": {},
   "source": [
    "This is not a compressor in the sense of say a zip archive.\n",
    "\n",
    "It is basically a way of *filtering* one iterable, using the truthiness of items in another iterable, pairwise."
   ]
  },
  {
   "cell_type": "markdown",
   "id": "1600c26c-0760-4700-9903-96a620f0c1e9",
   "metadata": {},
   "source": [
    "```python\n",
    "data =      ['a',   'b', 'c', 'd',   'e']\n",
    "              ^      ^    ^    ^      ^\n",
    "              |      |    |    |      |\n",
    "selectors = [True, False, 1,   0]  # None\n",
    "\n",
    "compress(data, selectors) -> 'a', 'c'\n",
    "```\n",
    "Since the first and third element of `selectors` are truthy, we will only yield the first and third elements of `data`."
   ]
  },
  {
   "cell_type": "code",
   "execution_count": 23,
   "id": "87b6ad87-86d2-4ba7-a761-b1445322c15d",
   "metadata": {},
   "outputs": [
    {
     "data": {
      "text/plain": [
       "['a', 'c']"
      ]
     },
     "execution_count": 23,
     "metadata": {},
     "output_type": "execute_result"
    }
   ],
   "source": [
    "from itertools import compress\n",
    "\n",
    "data = ['a', 'b', 'c', 'd', 'e']\n",
    "selectors = [True, False, 1, 0]\n",
    "\n",
    "compressed = compress(data, selectors)\n",
    "list(compressed)"
   ]
  },
  {
   "cell_type": "markdown",
   "id": "3e3fa5ba-94ce-490b-8447-117542273c7a",
   "metadata": {},
   "source": [
    "#### `takewhile`"
   ]
  },
  {
   "cell_type": "markdown",
   "id": "ff410949-c3eb-48c3-8fdb-f3e914dc3c5c",
   "metadata": {},
   "source": [
    "```python\n",
    "takewhile(pred, iterable)\n",
    "```\n",
    "This function returns an iterator that will yield while `predicate(item)` is Truthy. Once we run into a Falsy value, the iterator becomes exhausted."
   ]
  },
  {
   "cell_type": "markdown",
   "id": "6bd203cf-0b67-476f-98b3-f33d22ce3a09",
   "metadata": {},
   "source": [
    "##### Example 1"
   ]
  },
  {
   "cell_type": "code",
   "execution_count": 4,
   "id": "2c76d3d8-429c-4bc0-8a64-f2c16a8b0ada",
   "metadata": {},
   "outputs": [
    {
     "name": "stdout",
     "output_type": "stream",
     "text": [
      "1\n",
      "2\n"
     ]
    }
   ],
   "source": [
    "from itertools import takewhile\n",
    "\n",
    "result = takewhile(lambda x: x < 5, [1, 2, 10, 3, 4])\n",
    "\n",
    "for i in result:\n",
    "    print(i)"
   ]
  },
  {
   "cell_type": "markdown",
   "id": "5be827d0-c4d1-422c-af93-66ebfb120cc7",
   "metadata": {},
   "source": [
    "##### Example 2"
   ]
  },
  {
   "cell_type": "markdown",
   "id": "a4bc48b9-cb86-4777-b819-923214a737cb",
   "metadata": {},
   "source": [
    "In this example, we will calculate numerous `sin(x)` values for evenly spaced `x`. "
   ]
  },
  {
   "cell_type": "code",
   "execution_count": 11,
   "id": "172b6c7f-03ba-42a0-b856-bbcd47b78961",
   "metadata": {
    "collapsed": true,
    "jupyter": {
     "outputs_hidden": true
    }
   },
   "outputs": [],
   "source": [
    "from math import sin, pi\n",
    "\n",
    "def sine_wave(n):\n",
    "    start = 0\n",
    "    max_ = 2 * pi\n",
    "    step = (max_ - start) / (n-1)\n",
    "    for _ in range(n):\n",
    "        yield round(sin(start), 2)\n",
    "        start += step    "
   ]
  },
  {
   "cell_type": "code",
   "execution_count": 12,
   "id": "f02d3d5a-b54f-4b87-91ac-59dda5ee21c9",
   "metadata": {},
   "outputs": [
    {
     "data": {
      "text/plain": [
       "[0.0,\n",
       " 0.43,\n",
       " 0.78,\n",
       " 0.97,\n",
       " 0.97,\n",
       " 0.78,\n",
       " 0.43,\n",
       " 0.0,\n",
       " -0.43,\n",
       " -0.78,\n",
       " -0.97,\n",
       " -0.97,\n",
       " -0.78,\n",
       " -0.43,\n",
       " -0.0]"
      ]
     },
     "execution_count": 12,
     "metadata": {},
     "output_type": "execute_result"
    }
   ],
   "source": [
    "list(sine_wave(15))"
   ]
  },
  {
   "cell_type": "code",
   "execution_count": 13,
   "id": "a3c189cf-5893-48c4-ae40-191d4b1a642d",
   "metadata": {},
   "outputs": [
    {
     "data": {
      "text/plain": [
       "[0.0, 0.43, 0.78]"
      ]
     },
     "execution_count": 13,
     "metadata": {},
     "output_type": "execute_result"
    }
   ],
   "source": [
    "from itertools import takewhile\n",
    "\n",
    "list(takewhile(lambda x: 0 <= x <= 0.9, sine_wave(15)))"
   ]
  },
  {
   "cell_type": "markdown",
   "id": "9d9e31ab-017e-4347-8693-a3806e40153c",
   "metadata": {},
   "source": [
    "#### `dropwhile`"
   ]
  },
  {
   "cell_type": "markdown",
   "id": "9d854b59-1078-4470-a952-847108242984",
   "metadata": {},
   "source": [
    "```python\n",
    "dropwhile(pred, iterable)\n",
    "```\n",
    "This function is the inverse of the above. It returns an iterator that will start iterating and `yield` *all* remaining items unconditionally only once `predicate(item)` becomes Falsy."
   ]
  },
  {
   "cell_type": "markdown",
   "id": "beb67366-3f40-471a-95c8-6c025fcde423",
   "metadata": {},
   "source": [
    "##### Example 1"
   ]
  },
  {
   "cell_type": "code",
   "execution_count": 5,
   "id": "2af8492d-53d1-4a5e-9798-cea614734b6d",
   "metadata": {},
   "outputs": [
    {
     "name": "stdout",
     "output_type": "stream",
     "text": [
      "10\n",
      "3\n",
      "4\n"
     ]
    }
   ],
   "source": [
    "from itertools import dropwhile\n",
    "\n",
    "result = dropwhile(lambda x: x < 5, [1, 2, 10, 3, 4])\n",
    "\n",
    "for i in result:\n",
    "    print(i)"
   ]
  },
  {
   "cell_type": "markdown",
   "id": "d8046c8d-9dde-49f5-b6d6-eae8e23cbb77",
   "metadata": {},
   "source": [
    "# 04 - Infinite Iterators"
   ]
  },
  {
   "cell_type": "markdown",
   "id": "6457df66-f6e8-4354-9729-01811d5b7f52",
   "metadata": {},
   "source": [
    "#### `itertools.count`"
   ]
  },
  {
   "cell_type": "markdown",
   "id": "a13795df-31be-4c4e-873c-bffa5f0a0e1b",
   "metadata": {},
   "source": [
    "This is a lazy iterator similar to range as it has `start`, `step` but no `stop`.\n",
    "\n",
    "Also, `start` and `step` do not have to be integers unlike with `range()` - they can be any numeric type.\n",
    "\n",
    "As these iterators are infinite, it can be quite useful to pair them with a `takewhile` so that we can control when they stop"
   ]
  },
  {
   "cell_type": "markdown",
   "id": "3feff543-772d-4efa-aca5-2b625a79f11d",
   "metadata": {},
   "source": [
    "##### Example 1"
   ]
  },
  {
   "cell_type": "code",
   "execution_count": 2,
   "id": "8c722ed5-e2d3-4cc4-95c1-0ace1f10e58a",
   "metadata": {},
   "outputs": [
    {
     "data": {
      "text/plain": [
       "[10, 11, 12, 13, 14]"
      ]
     },
     "execution_count": 2,
     "metadata": {},
     "output_type": "execute_result"
    }
   ],
   "source": [
    "from itertools import count, cycle, repeat, islice\n",
    "\n",
    "g = count(10)\n",
    "\n",
    "list(islice(g, 5))"
   ]
  },
  {
   "cell_type": "markdown",
   "id": "89494944-6127-49e8-9582-2b188f9642f5",
   "metadata": {},
   "source": [
    "Remember, `count` is infinite so we can't `list(g)`."
   ]
  },
  {
   "cell_type": "markdown",
   "id": "8dbffe40-68cc-4327-b97d-653bff5ec7e6",
   "metadata": {},
   "source": [
    "##### Example 2"
   ]
  },
  {
   "cell_type": "code",
   "execution_count": 8,
   "id": "dbebeff5-f19e-46aa-9634-f1baad4c57ba",
   "metadata": {},
   "outputs": [
    {
     "data": {
      "text/plain": [
       "[Decimal('1.0'),\n",
       " Decimal('1.2'),\n",
       " Decimal('1.4'),\n",
       " Decimal('1.6'),\n",
       " Decimal('1.8')]"
      ]
     },
     "execution_count": 8,
     "metadata": {},
     "output_type": "execute_result"
    }
   ],
   "source": [
    "from decimal import Decimal\n",
    "\n",
    "g = count(Decimal('1.0'), Decimal('0.2'))\n",
    "\n",
    "list(islice(g, 5))"
   ]
  },
  {
   "cell_type": "markdown",
   "id": "4c49ad4f-2fd9-4dfe-87fa-233442c94eed",
   "metadata": {},
   "source": [
    "#### `itertools.cycle`"
   ]
  },
  {
   "cell_type": "markdown",
   "id": "fab6fc47-ac31-475e-864d-9e1117f7b8aa",
   "metadata": {},
   "source": [
    "This cycles over a finite iterable (including iterators) indefinitely.\n",
    "```python\n",
    "cycle(['a', 'b', 'c']) -> 'a', 'b', 'c', 'a', 'b', 'c', 'a', ...\n",
    "```\n",
    "**One important thing to note:** If an exhaustible iterator is passed as an argument to `cycle`, the iterator won't ever exhaust - `cycle` will manage to return back to the start of the iterator and keep on cycling."
   ]
  },
  {
   "cell_type": "markdown",
   "id": "28118e3e-1a51-459e-8f0c-82eb5cbf2eb6",
   "metadata": {},
   "source": [
    "##### Example 1"
   ]
  },
  {
   "cell_type": "code",
   "execution_count": 12,
   "id": "bf236448-a953-4510-a69b-e6de025a2a2d",
   "metadata": {},
   "outputs": [
    {
     "data": {
      "text/plain": [
       "['red', 'green', 'blue', 'red', 'green', 'blue', 'red', 'green', 'blue', 'red']"
      ]
     },
     "execution_count": 12,
     "metadata": {},
     "output_type": "execute_result"
    }
   ],
   "source": [
    "g = cycle(('red', 'green', 'blue'))\n",
    "list(islice(g, 10))"
   ]
  },
  {
   "cell_type": "markdown",
   "id": "a8cbf5d4-11be-4720-935b-58f9a89126f9",
   "metadata": {},
   "source": [
    "##### Example 2"
   ]
  },
  {
   "cell_type": "markdown",
   "id": "759a5f0f-eafe-4f4e-9ce8-0e8b4703bf13",
   "metadata": {},
   "source": [
    "To show that an exhaustible iterator can be passed to `cycle` and not be exhausted:"
   ]
  },
  {
   "cell_type": "code",
   "execution_count": 14,
   "id": "89420b64-09aa-41ed-88ad-68a3bbbf4d6d",
   "metadata": {},
   "outputs": [
    {
     "data": {
      "text/plain": [
       "['red', 'green', 'blue', 'red', 'green', 'blue', 'red', 'green', 'blue', 'red']"
      ]
     },
     "execution_count": 14,
     "metadata": {},
     "output_type": "execute_result"
    }
   ],
   "source": [
    "def colours():\n",
    "    yield 'red'\n",
    "    yield 'green'\n",
    "    yield 'blue'\n",
    "\n",
    "g = cycle(colours())\n",
    "list(islice(g, 10))"
   ]
  },
  {
   "cell_type": "markdown",
   "id": "9e00d7af-290d-45b0-911c-42321ff69996",
   "metadata": {},
   "source": [
    "##### Example 3"
   ]
  },
  {
   "cell_type": "markdown",
   "id": "b3c9b17e-fb6b-4471-a153-9c98fdb9e677",
   "metadata": {},
   "source": [
    "A more real-life example of `cycle` could be if you had a card deck that you want to deal out to 4 players. "
   ]
  },
  {
   "cell_type": "code",
   "execution_count": 22,
   "id": "59332e89-4022-471f-9d5b-7e2849de64bc",
   "metadata": {},
   "outputs": [],
   "source": [
    "from collections import namedtuple\n",
    "\n",
    "Card = namedtuple('Card', 'rank suit')\n",
    "\n",
    "def card_deck():\n",
    "    RANKS = tuple(str(i) for i in range(2, 11)) + tuple('JQKA')\n",
    "    SUITS = ('Spades', 'Hearts', 'Diamonds', 'Clubs')\n",
    "\n",
    "    for suit in SUITS:\n",
    "        for rank in RANKS:\n",
    "            yield Card(rank, suit)\n",
    "\n",
    "hands = [list() for _ in range(4)]\n",
    "\n",
    "index_cycle = cycle([0, 1, 2, 3])\n",
    "for card in card_deck():\n",
    "    hands[next(index_cycle)].append(card)\n",
    "\n",
    "hands"
   ]
  },
  {
   "cell_type": "markdown",
   "id": "06216b97-9bce-43ca-92e5-60aeee7a6c22",
   "metadata": {},
   "source": [
    "But we can improve upon this...\n",
    "\n",
    "The `index.cycle = cycle([0, 1, 2, 3])` is just cycling through like so: `hands[0]`, `hands[1]`, `hands[2]`, `hands[3]`, `hands[0]`, ...\n",
    "\n",
    "So what we're actually doing is just cycling through the `hands` iterable.\n",
    "\n",
    "Why not make `hands` into a cycle object?"
   ]
  },
  {
   "cell_type": "code",
   "execution_count": 24,
   "id": "25823b72-da78-4fb6-a64e-80222d7bcce0",
   "metadata": {},
   "outputs": [
    {
     "data": {
      "text/plain": [
       "[[Card(rank='2', suit='Spades'),\n",
       "  Card(rank='6', suit='Spades'),\n",
       "  Card(rank='10', suit='Spades'),\n",
       "  Card(rank='A', suit='Spades'),\n",
       "  Card(rank='5', suit='Hearts'),\n",
       "  Card(rank='9', suit='Hearts'),\n",
       "  Card(rank='K', suit='Hearts'),\n",
       "  Card(rank='4', suit='Diamonds'),\n",
       "  Card(rank='8', suit='Diamonds'),\n",
       "  Card(rank='Q', suit='Diamonds'),\n",
       "  Card(rank='3', suit='Clubs'),\n",
       "  Card(rank='7', suit='Clubs'),\n",
       "  Card(rank='J', suit='Clubs')],\n",
       " [Card(rank='3', suit='Spades'),\n",
       "  Card(rank='7', suit='Spades'),\n",
       "  Card(rank='J', suit='Spades'),\n",
       "  Card(rank='2', suit='Hearts'),\n",
       "  Card(rank='6', suit='Hearts'),\n",
       "  Card(rank='10', suit='Hearts'),\n",
       "  Card(rank='A', suit='Hearts'),\n",
       "  Card(rank='5', suit='Diamonds'),\n",
       "  Card(rank='9', suit='Diamonds'),\n",
       "  Card(rank='K', suit='Diamonds'),\n",
       "  Card(rank='4', suit='Clubs'),\n",
       "  Card(rank='8', suit='Clubs'),\n",
       "  Card(rank='Q', suit='Clubs')],\n",
       " [Card(rank='4', suit='Spades'),\n",
       "  Card(rank='8', suit='Spades'),\n",
       "  Card(rank='Q', suit='Spades'),\n",
       "  Card(rank='3', suit='Hearts'),\n",
       "  Card(rank='7', suit='Hearts'),\n",
       "  Card(rank='J', suit='Hearts'),\n",
       "  Card(rank='2', suit='Diamonds'),\n",
       "  Card(rank='6', suit='Diamonds'),\n",
       "  Card(rank='10', suit='Diamonds'),\n",
       "  Card(rank='A', suit='Diamonds'),\n",
       "  Card(rank='5', suit='Clubs'),\n",
       "  Card(rank='9', suit='Clubs'),\n",
       "  Card(rank='K', suit='Clubs')],\n",
       " [Card(rank='5', suit='Spades'),\n",
       "  Card(rank='9', suit='Spades'),\n",
       "  Card(rank='K', suit='Spades'),\n",
       "  Card(rank='4', suit='Hearts'),\n",
       "  Card(rank='8', suit='Hearts'),\n",
       "  Card(rank='Q', suit='Hearts'),\n",
       "  Card(rank='3', suit='Diamonds'),\n",
       "  Card(rank='7', suit='Diamonds'),\n",
       "  Card(rank='J', suit='Diamonds'),\n",
       "  Card(rank='2', suit='Clubs'),\n",
       "  Card(rank='6', suit='Clubs'),\n",
       "  Card(rank='10', suit='Clubs'),\n",
       "  Card(rank='A', suit='Clubs')]]"
      ]
     },
     "execution_count": 24,
     "metadata": {},
     "output_type": "execute_result"
    }
   ],
   "source": [
    "from collections import namedtuple\n",
    "\n",
    "Card = namedtuple('Card', 'rank suit')\n",
    "\n",
    "def card_deck():\n",
    "    RANKS = tuple(str(i) for i in range(2, 11)) + tuple('JQKA')\n",
    "    SUITS = ('Spades', 'Hearts', 'Diamonds', 'Clubs')\n",
    "\n",
    "    for suit in SUITS:\n",
    "        for rank in RANKS:\n",
    "            yield Card(rank, suit)\n",
    "\n",
    "hands = [list() for _ in range(4)]\n",
    "hands_cycle = cycle(hands)\n",
    "\n",
    "for card in card_deck():\n",
    "    next(hands_cycle).append(card)\n",
    "\n",
    "hands"
   ]
  },
  {
   "cell_type": "markdown",
   "id": "0a91f46c-9d5a-45c5-8240-389eb9d24d90",
   "metadata": {},
   "source": [
    "#### `itertools.repeat`"
   ]
  },
  {
   "cell_type": "markdown",
   "id": "df0d3c43-ee26-465b-8cc8-cf239cff0e79",
   "metadata": {},
   "source": [
    "This function simply yields the same value indefinitely, but an additional argument can be specified to make the count finite."
   ]
  },
  {
   "cell_type": "markdown",
   "id": "4d2126bc-016b-4599-94ae-3c7ca12b071a",
   "metadata": {},
   "source": [
    "##### Example 1"
   ]
  },
  {
   "cell_type": "code",
   "execution_count": 28,
   "id": "3d16e139-1792-49ee-8a59-d0656053da84",
   "metadata": {},
   "outputs": [
    {
     "name": "stdout",
     "output_type": "stream",
     "text": [
      "Python\n",
      "Python\n",
      "Python\n"
     ]
    }
   ],
   "source": [
    "from itertools import repeat\n",
    "\n",
    "g = repeat('Python')\n",
    "\n",
    "for _ in range(3):\n",
    "    print(next(g))"
   ]
  },
  {
   "cell_type": "code",
   "execution_count": 29,
   "id": "d0dd89af-d25e-47ed-b0f6-b786c5bcbfa7",
   "metadata": {},
   "outputs": [
    {
     "data": {
      "text/plain": [
       "['Python', 'Python', 'Python', 'Python']"
      ]
     },
     "execution_count": 29,
     "metadata": {},
     "output_type": "execute_result"
    }
   ],
   "source": [
    "g = repeat('Python', 4)\n",
    "list(g)"
   ]
  },
  {
   "cell_type": "markdown",
   "id": "c3efc37a-822c-4e40-9ec7-b419ff511d48",
   "metadata": {},
   "source": [
    "**One important thing to note:** The items yielded by `repeat` are the **same** object. So, if that object is a mutable and it is mutated between repeats, that mutation will be observed."
   ]
  },
  {
   "cell_type": "markdown",
   "id": "a58d0a98-30c3-4d34-89c3-7f0bad710c9d",
   "metadata": {},
   "source": [
    "# 05 - Chaining and Teeing Iterators"
   ]
  },
  {
   "cell_type": "markdown",
   "id": "d5883d8e-ed05-44b7-a99f-218c703d4ba5",
   "metadata": {},
   "source": [
    "#### `chain(*args)` and `chain.from_iterable(it)` "
   ]
  },
  {
   "cell_type": "markdown",
   "id": "7c123d7f-1286-41e9-82f6-21412a67a3e4",
   "metadata": {},
   "source": [
    "`itertools.chain(*args)` takes a number of args that can be **iterables** and returns a lazy **iterator**.\n",
    "\n",
    "`chain` is analogous to sequence concatenation. To implement the functionality of `chain` without using `chain`, you can do:\n",
    "\n",
    "```python\n",
    "for it in (iter1, iter2, iter3):\n",
    "    yield from it\n",
    "```\n",
    "\n",
    "This will `yield` everything from `iter1` before moving onto `iter2`, and then finally from `iter3`."
   ]
  },
  {
   "cell_type": "markdown",
   "id": "ea573e7d-b40e-4cf3-98fa-c3197156b467",
   "metadata": {},
   "source": [
    "With `chain` you will get:\n",
    "\n",
    "```python\n",
    "l = [iter1, iter2, iter3]\n",
    "for item in chain(*l):\n",
    "    print(item)\n",
    "```\n",
    "The items are still `yield`ed but there's a caveat!\n",
    "\n",
    "**Caveat: unpacking an iterable of iterators is _eager_ not _lazy_. So above, we have iterated through `l` (iterable) eagerly, but we haven't touched the iterators yet. If `l` was an iterable of 1 million iterators, we would have unpacked all of them eagerly before starting the loop and getting the first item out of the first iterator.** "
   ]
  },
  {
   "cell_type": "markdown",
   "id": "57b48559-1f15-4645-bafa-c8930011706e",
   "metadata": {},
   "source": [
    "Instead, if we really need **lazy** evaluation, we can use `itertools.chain.from_iterable(it)`\n",
    "\n",
    "This takes an iterable like `l` above which contains a list of iterators. Python will lazily iterate through this iterable and `yield from` the first iterator lazily of course."
   ]
  },
  {
   "cell_type": "code",
   "execution_count": 41,
   "id": "dceac913-635e-4c1d-a1ef-f548b25b2c39",
   "metadata": {},
   "outputs": [
    {
     "name": "stdout",
     "output_type": "stream",
     "text": [
      "0\n",
      "1\n",
      "4\n",
      "9\n",
      "16\n",
      "25\n",
      "36\n",
      "49\n",
      "64\n",
      "81\n",
      "100\n",
      "121\n"
     ]
    }
   ],
   "source": [
    "from itertools import chain\n",
    "\n",
    "l1 = (i**2 for i in range(4))\n",
    "l2 = (i**2 for i in range(4, 8))\n",
    "l3 = (i**2 for i in range(8, 12))\n",
    "\n",
    "lists = [l1, l2, l3]\n",
    "\n",
    "for item in chain(*lists):\n",
    "    print(item)"
   ]
  },
  {
   "cell_type": "markdown",
   "id": "5e27ef3e-4ce9-42d2-8e91-268c5df6e574",
   "metadata": {},
   "source": [
    "We can observe the **eager** unpacking by storing all our iterators in a generator function."
   ]
  },
  {
   "cell_type": "code",
   "execution_count": 44,
   "id": "d23fefa2-5b11-486a-9110-333f0eeb318e",
   "metadata": {},
   "outputs": [
    {
     "name": "stdout",
     "output_type": "stream",
     "text": [
      "yielding 1st item\n",
      "yielding 2nd item\n",
      "yielding 3rd item\n",
      "0\n",
      "1\n",
      "4\n",
      "9\n",
      "16\n",
      "25\n",
      "36\n",
      "49\n"
     ]
    }
   ],
   "source": [
    "def squares():\n",
    "    print('yielding 1st item')\n",
    "    yield (i**2 for i in range(2))\n",
    "    print('yielding 2nd item')\n",
    "    yield (i**2 for i in range(2, 5))\n",
    "    print('yielding 3rd item')\n",
    "    yield (i**2 for i in range(5, 8))\n",
    "\n",
    "\n",
    "for item in chain(*squares()):\n",
    "    print(item)"
   ]
  },
  {
   "cell_type": "markdown",
   "id": "85fd1a1e-0d97-4571-a480-ba6ee88a15b2",
   "metadata": {},
   "source": [
    "As you can see in the print statements above, all iterators are yielded before the main loop starts.\n",
    "\n",
    "But we can get around that using `chain.from_iterable()`"
   ]
  },
  {
   "cell_type": "code",
   "execution_count": 45,
   "id": "1552c9df-f95f-41b7-af66-f51cda041a0d",
   "metadata": {},
   "outputs": [
    {
     "name": "stdout",
     "output_type": "stream",
     "text": [
      "yielding 1st item\n",
      "0\n",
      "1\n",
      "yielding 2nd item\n",
      "4\n",
      "9\n",
      "16\n",
      "yielding 3rd item\n",
      "25\n",
      "36\n",
      "49\n"
     ]
    }
   ],
   "source": [
    "def squares():\n",
    "    print('yielding 1st item')\n",
    "    yield (i**2 for i in range(2))\n",
    "    print('yielding 2nd item')\n",
    "    yield (i**2 for i in range(2, 5))\n",
    "    print('yielding 3rd item')\n",
    "    yield (i**2 for i in range(5, 8))\n",
    "\n",
    "for item in chain.from_iterable(squares()):\n",
    "    print(item)"
   ]
  },
  {
   "cell_type": "markdown",
   "id": "563b7a64-e9ef-456b-a9b7-035c7d8db6b3",
   "metadata": {},
   "source": [
    "#### `tee(iterable, n)`"
   ]
  },
  {
   "cell_type": "markdown",
   "id": "94b33497-fa49-4d1d-8f81-179f3611beae",
   "metadata": {},
   "source": [
    "Let's say we are sent an iterator (e.g. via a `return` of a function) that is very difficult/time-consuming to acquire. How would we make a copy of it? \n",
    "\n",
    "One way that we've seen is just to manually create the iterator multiple times:\n",
    "```python\n",
    "iters = []\n",
    "for _ in range(10):\n",
    "    iters.append(create_iterator())\n",
    "```\n",
    "but if it's time-consuming we may not want to do that."
   ]
  },
  {
   "cell_type": "markdown",
   "id": "285cefcf-7953-43ad-b5cc-8537bdeab91d",
   "metadata": {},
   "source": [
    "The other solution is `itertools.tee` which returns **independent iterators in a tuple**. This can let us iterate through the same iterator **multiple times** or even **in parallel**.\n",
    "```python\n",
    "tee(iterable, 10) -> (iter1, iter2, ..., iter10)\n",
    "```\n",
    "`iter1` through `iter10` are all different objects, but they are all **lazy iterators**. *Always. Even if the original argument was not.*\n",
    "\n",
    "```python\n",
    "l = [1, 2, 3, 4]\n",
    "tee(l, 3) -> (iter1, iter2, iter3)\n",
    "```\n",
    "`iter1` and the rest are all **lazy iterators** despite `l` being an **iterable**."
   ]
  },
  {
   "cell_type": "markdown",
   "id": "3b10b1c8-80f7-4486-aab2-cbdd6d946307",
   "metadata": {},
   "source": [
    "##### Example 1"
   ]
  },
  {
   "cell_type": "markdown",
   "id": "fffdcab3-8b51-4e8f-868d-a9d0709aa61c",
   "metadata": {},
   "source": [
    "Let's make 3 **independent** copies of an iterator:"
   ]
  },
  {
   "cell_type": "code",
   "execution_count": 46,
   "id": "6b28563f-e2b9-480f-a83f-67d6ad2d1076",
   "metadata": {},
   "outputs": [
    {
     "data": {
      "text/plain": [
       "(<itertools._tee at 0x2732a6dbd80>,\n",
       " <itertools._tee at 0x2732a6dbe00>,\n",
       " <itertools._tee at 0x2732a6dbe80>)"
      ]
     },
     "execution_count": 46,
     "metadata": {},
     "output_type": "execute_result"
    }
   ],
   "source": [
    "from itertools import tee\n",
    "\n",
    "def squares(n):\n",
    "    for i in range(n):\n",
    "        yield i**2\n",
    "\n",
    "gen = squares(5)\n",
    "\n",
    "iters = tee(gen, 3)\n",
    "iters  "
   ]
  },
  {
   "cell_type": "markdown",
   "id": "f88b00aa-843f-4c6e-bd7f-707857e611e5",
   "metadata": {},
   "source": [
    "As you can see the memory addresses are different, therefore, iterating through one has no impact on the other iterators. We have *tee'd up our iterator 3 times*."
   ]
  },
  {
   "cell_type": "markdown",
   "id": "e9ef2cb2-bd67-4e8e-84e7-8372f9427ffa",
   "metadata": {},
   "source": [
    "Let's tee up a list (**iterable**) multiple times and look for a return value of multiple **iterators**. "
   ]
  },
  {
   "cell_type": "code",
   "execution_count": 51,
   "id": "f8c4a188-bef9-4e32-97e8-0392865311bf",
   "metadata": {},
   "outputs": [
    {
     "data": {
      "text/plain": [
       "(<itertools._tee at 0x2732a6e8e00>, <itertools._tee at 0x273291e4dc0>)"
      ]
     },
     "execution_count": 51,
     "metadata": {},
     "output_type": "execute_result"
    }
   ],
   "source": [
    "l = [1, 2, 3, 4]\n",
    "\n",
    "lists = tee(l, 2)\n",
    "lists"
   ]
  },
  {
   "cell_type": "code",
   "execution_count": 52,
   "id": "93f116dd-511a-4324-bab2-4f137c7af8c9",
   "metadata": {},
   "outputs": [
    {
     "data": {
      "text/plain": [
       "[1, 2, 3, 4]"
      ]
     },
     "execution_count": 52,
     "metadata": {},
     "output_type": "execute_result"
    }
   ],
   "source": [
    "list(lists[0])"
   ]
  },
  {
   "cell_type": "markdown",
   "id": "4169ef4b-26cc-4d9a-9dd4-8dd112b58b55",
   "metadata": {},
   "source": [
    "`lists[0]` is now exhausted:"
   ]
  },
  {
   "cell_type": "code",
   "execution_count": 53,
   "id": "da806744-0fe8-4780-8104-ed3138790474",
   "metadata": {},
   "outputs": [
    {
     "data": {
      "text/plain": [
       "[]"
      ]
     },
     "execution_count": 53,
     "metadata": {},
     "output_type": "execute_result"
    }
   ],
   "source": [
    "list(lists[0])"
   ]
  },
  {
   "cell_type": "code",
   "execution_count": 54,
   "id": "72b02127-7880-4ca6-ba8c-6421970b4be8",
   "metadata": {},
   "outputs": [
    {
     "data": {
      "text/plain": [
       "True"
      ]
     },
     "execution_count": 54,
     "metadata": {},
     "output_type": "execute_result"
    }
   ],
   "source": [
    "lists[0] is iter(lists[0])"
   ]
  },
  {
   "cell_type": "markdown",
   "id": "da13f886-516a-4d44-8eed-92393040d82d",
   "metadata": {},
   "source": [
    "# 06 - Mapping and Reducing"
   ]
  },
  {
   "cell_type": "markdown",
   "id": "9fa73bcd-c4db-4616-a5b5-2f7f3b2210d0",
   "metadata": {},
   "source": [
    "# 07 - Zipping"
   ]
  },
  {
   "cell_type": "markdown",
   "id": "e9fe376a-3155-4fb6-9f89-16c5d5cdacf1",
   "metadata": {},
   "source": [
    "# 08 - Grouping"
   ]
  },
  {
   "cell_type": "markdown",
   "id": "36b5e836-732e-482d-867d-0f4ce2df1f32",
   "metadata": {},
   "source": [
    "# 09 - Combinatorics"
   ]
  },
  {
   "cell_type": "code",
   "execution_count": null,
   "id": "cb35235b-124e-4f10-8596-b1a9d377b498",
   "metadata": {},
   "outputs": [],
   "source": []
  }
 ],
 "metadata": {
  "kernelspec": {
   "display_name": "Python 3 (ipykernel)",
   "language": "python",
   "name": "python3"
  },
  "language_info": {
   "codemirror_mode": {
    "name": "ipython",
    "version": 3
   },
   "file_extension": ".py",
   "mimetype": "text/x-python",
   "name": "python",
   "nbconvert_exporter": "python",
   "pygments_lexer": "ipython3",
   "version": "3.8.0"
  }
 },
 "nbformat": 4,
 "nbformat_minor": 5
}
