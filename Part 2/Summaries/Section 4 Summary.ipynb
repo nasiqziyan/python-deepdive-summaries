{
 "cells": [
  {
   "cell_type": "markdown",
   "id": "ee1804bc-44ee-4ef9-a052-f56dc0cbc3d7",
   "metadata": {
    "jp-MarkdownHeadingCollapsed": true,
    "tags": []
   },
   "source": [
    "# 01 - Iterating Collections"
   ]
  },
  {
   "cell_type": "markdown",
   "id": "c9ad8ce0-25fb-4c9b-bc0f-8989be867a67",
   "metadata": {
    "jp-MarkdownHeadingCollapsed": true,
    "tags": []
   },
   "source": [
    "#### Lecture"
   ]
  },
  {
   "cell_type": "markdown",
   "id": "b3744eff-b634-4d8b-b385-4515525f3732",
   "metadata": {},
   "source": [
    "This following point will be a key takeaway of these first few sections so I have pasted it at the very top, so that it's easy to find later on, but don't need to worry about it right now if reading chronologically:\n",
    "\n",
    "- An iterable is an object that implements __iter__ (returns an iterator)\n",
    "- An iterator is an object that implements __iter__ (returns itself) and `__next__`"
   ]
  },
  {
   "cell_type": "markdown",
   "id": "b00c6635-6f48-48ff-bb6b-e247727b6d7d",
   "metadata": {},
   "source": [
    "We saw how sequence types support iteration by being able to access elements by index. We could even write our custom sequence types by implementing the `__getitem__` method."
   ]
  },
  {
   "cell_type": "markdown",
   "id": "a193d729-d2b1-4eb2-8c1c-30237f5f3dc9",
   "metadata": {},
   "source": [
    "But there are some limitations:\n",
    "\n",
    "* items must be numerically indexable, with indexing starting at `0`\n",
    "* cannot be used with unordered collections, such as sets"
   ]
  },
  {
   "cell_type": "markdown",
   "id": "e8b4856b-e735-4610-8bd4-0c37ac9df833",
   "metadata": {},
   "source": [
    "If we think about iterating over a collection, what we really need is a way to request the **next** item in the collection.\n",
    "\n",
    "This is like picking marbles out from a bag. The marbles are unlabeled and we want to ensure that we don't pick the same one twice.\n",
    "\n",
    "If we can do that, our collection does not require being indexable, nor does it need to be ordered (i.e. we don't need the notion of relative positions of elements in the container)."
   ]
  },
  {
   "cell_type": "markdown",
   "id": "ee2fef0a-87d4-49b3-8df0-791c7dd97417",
   "metadata": {},
   "source": [
    "This is exactly what iterables are in general - they provide a method that returns the \"next\" element in the collection. This approach works equally well with sequence type collections, as well as unordered collection types such as sets.\n",
    "\n",
    "Of course, the order in which **next** returns items from an unordered colllection is not known in advance - and we see that when we iterate over a set for example:"
   ]
  },
  {
   "cell_type": "code",
   "execution_count": 1,
   "id": "7f2a1d9b-e122-4d0f-a0bf-7cf862438d8f",
   "metadata": {},
   "outputs": [
    {
     "name": "stdout",
     "output_type": "stream",
     "text": [
      "y\n",
      "a\n",
      "c\n",
      "b\n",
      "x\n"
     ]
    }
   ],
   "source": [
    "s = {'x', 'y', 'b', 'c', 'a'}\n",
    "for item in s:\n",
    "    print(item)"
   ]
  },
  {
   "cell_type": "markdown",
   "id": "c9c67d96-fd48-4dbe-9f69-c4b9c0197a9c",
   "metadata": {},
   "source": [
    "As you can see the order in which the elements of the set was returned, did not match the order in which we added elements to the set."
   ]
  },
  {
   "cell_type": "markdown",
   "id": "48522083-e67e-4e1b-a1b0-c730ff92379b",
   "metadata": {},
   "source": [
    "Furthermore, we cannot use indexing to access elements in a set:"
   ]
  },
  {
   "cell_type": "code",
   "execution_count": 2,
   "id": "828390ae-f84e-480f-a2f3-6f5f3d9d95de",
   "metadata": {},
   "outputs": [
    {
     "ename": "TypeError",
     "evalue": "'set' object does not support indexing",
     "output_type": "error",
     "traceback": [
      "\u001b[1;31m---------------------------------------------------------------------------\u001b[0m",
      "\u001b[1;31mTypeError\u001b[0m                                 Traceback (most recent call last)",
      "\u001b[1;32m<ipython-input-2-4e98c4f87897>\u001b[0m in \u001b[0;36m<module>\u001b[1;34m()\u001b[0m\n\u001b[1;32m----> 1\u001b[1;33m \u001b[0ms\u001b[0m\u001b[1;33m[\u001b[0m\u001b[1;36m0\u001b[0m\u001b[1;33m]\u001b[0m\u001b[1;33m\u001b[0m\u001b[0m\n\u001b[0m",
      "\u001b[1;31mTypeError\u001b[0m: 'set' object does not support indexing"
     ]
    }
   ],
   "source": [
    "s[0]"
   ]
  },
  {
   "cell_type": "markdown",
   "id": "4735f5fa-034a-415b-bbcc-9cfffabd8502",
   "metadata": {},
   "source": [
    "We have a couple of recommendations for general iteration:\n",
    "\n",
    "- Be able to 'get the next item' in the collection (not necessarily through a sequential index).\n",
    "- Make the collection finite.\n",
    "- Allow exhaustion of the iterable via the exception `StopIteration`.\n",
    "- Keep track of the indices somehow to ensure that the same elements aren't being called multiple times\n",
    "- Be able to use a `for` loop, comprehension, etc.\n",
    "- Restart the iteration from the beginning (without having to create a new instance of the object.\n",
    "- Support the `__next__` special method which returns an item from the collection"
   ]
  },
  {
   "cell_type": "markdown",
   "id": "7d072a61-afeb-41f1-b685-4e5e936f39cc",
   "metadata": {
    "jp-MarkdownHeadingCollapsed": true,
    "tags": []
   },
   "source": [
    "#### Our Own Implementation"
   ]
  },
  {
   "cell_type": "markdown",
   "id": "83310fed-f7dc-45a8-bde6-69e5efd1dd84",
   "metadata": {},
   "source": [
    "Let's go ahead and define a kind of iterable ourselves. \n",
    "\n",
    "What we'll want to do is to have a container type of class that implements the `__next__` method, instead of that `__getitem__` method. "
   ]
  },
  {
   "cell_type": "markdown",
   "id": "2c94ffb9-4c8d-47e0-ad96-a8ecdc29d852",
   "metadata": {},
   "source": [
    "Let's create our own implementation that we can iterate through to generate square numbers. \n",
    "\n",
    "- Since we want our collection to be finite, we'll require in a specific length. This means we can also implement `__len__`.\n",
    "- Every time we call `__next__`, it should return the next element in the collection - so we'll have to keep track of where we are in the iteration somehow. We'll do this with `i`.\n",
    "- When we want to exhaust the iterable, we should raise the `StopIteration` error when `next` is called."
   ]
  },
  {
   "cell_type": "code",
   "execution_count": 1,
   "id": "192d5098-d80d-4844-aedb-f27fddc131a7",
   "metadata": {
    "tags": []
   },
   "outputs": [],
   "source": [
    "class Squares:\n",
    "    def __init__(self, length):\n",
    "        self.length = length\n",
    "        self.i = 0\n",
    "    \n",
    "    def __next__(self):\n",
    "        if self.i >= self.length:\n",
    "            raise StopIteration\n",
    "        else:\n",
    "            result = self.i ** 2\n",
    "            self.i += 1\n",
    "            return result   \n",
    "    \n",
    "    def __len__(self):\n",
    "        return self.length"
   ]
  },
  {
   "cell_type": "markdown",
   "id": "87442dfb-3f13-4d02-a9cf-86ec5cb303be",
   "metadata": {},
   "source": [
    "Now let's generate some square values:"
   ]
  },
  {
   "cell_type": "code",
   "execution_count": 4,
   "id": "c834ce84-c4e9-4f43-acd3-4d192ae06465",
   "metadata": {},
   "outputs": [
    {
     "name": "stdout",
     "output_type": "stream",
     "text": [
      "0\n",
      "1\n",
      "4\n",
      "9\n",
      "16\n"
     ]
    }
   ],
   "source": [
    "sq = Squares(5)\n",
    "\n",
    "while True:\n",
    "    try: \n",
    "        print(next(sq))\n",
    "    \n",
    "    except StopIteration:\n",
    "        break"
   ]
  },
  {
   "cell_type": "markdown",
   "id": "5b43a7e7-dfd8-4e17-a79c-d7006344223a",
   "metadata": {},
   "source": [
    "Now the iterable is exhausted. Calling `next(sq)` again will throw the exception:"
   ]
  },
  {
   "cell_type": "code",
   "execution_count": 8,
   "id": "8630821a-79c2-4c38-85ab-c25d8daed946",
   "metadata": {},
   "outputs": [
    {
     "ename": "StopIteration",
     "evalue": "",
     "output_type": "error",
     "traceback": [
      "\u001b[0;31m---------------------------------------------------------------------------\u001b[0m",
      "\u001b[0;31mStopIteration\u001b[0m                             Traceback (most recent call last)",
      "\u001b[0;32m/tmp/ipykernel_4838/1886377900.py\u001b[0m in \u001b[0;36m<module>\u001b[0;34m\u001b[0m\n\u001b[0;32m----> 1\u001b[0;31m \u001b[0mprint\u001b[0m\u001b[0;34m(\u001b[0m\u001b[0mnext\u001b[0m\u001b[0;34m(\u001b[0m\u001b[0msq\u001b[0m\u001b[0;34m)\u001b[0m\u001b[0;34m)\u001b[0m\u001b[0;34m\u001b[0m\u001b[0;34m\u001b[0m\u001b[0m\n\u001b[0m",
      "\u001b[0;32m/tmp/ipykernel_4838/725555539.py\u001b[0m in \u001b[0;36m__next__\u001b[0;34m(self)\u001b[0m\n\u001b[1;32m      6\u001b[0m     \u001b[0;32mdef\u001b[0m \u001b[0m__next__\u001b[0m\u001b[0;34m(\u001b[0m\u001b[0mself\u001b[0m\u001b[0;34m)\u001b[0m\u001b[0;34m:\u001b[0m\u001b[0;34m\u001b[0m\u001b[0;34m\u001b[0m\u001b[0m\n\u001b[1;32m      7\u001b[0m         \u001b[0;32mif\u001b[0m \u001b[0mself\u001b[0m\u001b[0;34m.\u001b[0m\u001b[0mi\u001b[0m \u001b[0;34m>=\u001b[0m \u001b[0mself\u001b[0m\u001b[0;34m.\u001b[0m\u001b[0mlength\u001b[0m\u001b[0;34m:\u001b[0m\u001b[0;34m\u001b[0m\u001b[0;34m\u001b[0m\u001b[0m\n\u001b[0;32m----> 8\u001b[0;31m             \u001b[0;32mraise\u001b[0m \u001b[0mStopIteration\u001b[0m\u001b[0;34m\u001b[0m\u001b[0;34m\u001b[0m\u001b[0m\n\u001b[0m\u001b[1;32m      9\u001b[0m         \u001b[0;32melse\u001b[0m\u001b[0;34m:\u001b[0m\u001b[0;34m\u001b[0m\u001b[0;34m\u001b[0m\u001b[0m\n\u001b[1;32m     10\u001b[0m             \u001b[0mresult\u001b[0m \u001b[0;34m=\u001b[0m \u001b[0mself\u001b[0m\u001b[0;34m.\u001b[0m\u001b[0mi\u001b[0m \u001b[0;34m**\u001b[0m \u001b[0;36m2\u001b[0m\u001b[0;34m\u001b[0m\u001b[0;34m\u001b[0m\u001b[0m\n",
      "\u001b[0;31mStopIteration\u001b[0m: "
     ]
    }
   ],
   "source": [
    "print(next(sq))"
   ]
  },
  {
   "cell_type": "markdown",
   "id": "045c52fd-85b2-4774-adaa-4eb809f229bf",
   "metadata": {},
   "source": [
    "But, we still cannot iterate through the collection using `for` loop or comprehension, so our collection is technically NOT iterable:"
   ]
  },
  {
   "cell_type": "code",
   "execution_count": 9,
   "id": "391978fe-b5c7-4e96-87e1-9c434832d2ae",
   "metadata": {},
   "outputs": [
    {
     "ename": "TypeError",
     "evalue": "'Squares' object is not iterable",
     "output_type": "error",
     "traceback": [
      "\u001b[0;31m---------------------------------------------------------------------------\u001b[0m",
      "\u001b[0;31mTypeError\u001b[0m                                 Traceback (most recent call last)",
      "\u001b[0;32m/tmp/ipykernel_4838/3923485823.py\u001b[0m in \u001b[0;36m<module>\u001b[0;34m\u001b[0m\n\u001b[1;32m      1\u001b[0m \u001b[0msq\u001b[0m \u001b[0;34m=\u001b[0m \u001b[0mSquares\u001b[0m\u001b[0;34m(\u001b[0m\u001b[0;36m10\u001b[0m\u001b[0;34m)\u001b[0m\u001b[0;34m\u001b[0m\u001b[0;34m\u001b[0m\u001b[0m\n\u001b[0;32m----> 2\u001b[0;31m \u001b[0;32mfor\u001b[0m \u001b[0mitem\u001b[0m \u001b[0;32min\u001b[0m \u001b[0msq\u001b[0m\u001b[0;34m:\u001b[0m\u001b[0;34m\u001b[0m\u001b[0;34m\u001b[0m\u001b[0m\n\u001b[0m\u001b[1;32m      3\u001b[0m     \u001b[0mprint\u001b[0m\u001b[0;34m(\u001b[0m\u001b[0mitem\u001b[0m\u001b[0;34m)\u001b[0m\u001b[0;34m\u001b[0m\u001b[0;34m\u001b[0m\u001b[0m\n",
      "\u001b[0;31mTypeError\u001b[0m: 'Squares' object is not iterable"
     ]
    }
   ],
   "source": [
    "sq = Squares(10)\n",
    "for item in sq:\n",
    "    print(item)"
   ]
  },
  {
   "cell_type": "markdown",
   "id": "10ac1b82-1774-4e4b-8a64-922dd31bae03",
   "metadata": {
    "jp-MarkdownHeadingCollapsed": true,
    "tags": []
   },
   "source": [
    "# 02 - Iterators"
   ]
  },
  {
   "cell_type": "markdown",
   "id": "7b51f5df-604f-4d1b-bea9-560603dc126b",
   "metadata": {},
   "source": [
    "In the last lecture we saw that we could approach iterating over a collection using this concept of `next`.\n",
    "\n",
    "But there were some downsides that did not resolve (yet!):\n",
    "* we cannot use a `for` loop\n",
    "* once we exhaust the iteration (repeatedly calling next), we're essentially done with object. The only way to iterate through it again is to create a new instance of the object."
   ]
  },
  {
   "cell_type": "markdown",
   "id": "6b05ae79-a38f-4e00-b347-fa7cd668d3b7",
   "metadata": {},
   "source": [
    "First we are going to look at making our `next` be usable in a `for` loop."
   ]
  },
  {
   "cell_type": "markdown",
   "id": "7a20036b-e7b3-464c-b964-ccb215f9c379",
   "metadata": {},
   "source": [
    "This idea of using `__next__` and the `StopIteration` exception is exactly what Python does.\n",
    "\n",
    "So, somehow we need to tell Python that the object we are dealing with can be used with `next`. Python knows we have a `__next__` method but how do we tell Python that it will behave in a way consistent with using a `while` loop to iterate.\n",
    "\n",
    "In other words, it knows we have `__next__`, but how does it know we implement `StopIteration`?\n",
    "\n",
    "To do so, we create an `iterator` type object."
   ]
  },
  {
   "cell_type": "markdown",
   "id": "d06e5462-7818-49c7-a4fc-c474604baab7",
   "metadata": {},
   "source": [
    "**Protocols**\n",
    "\n",
    "A protocol is simply a fancy way of saying that our class is going to implement certain functionality that Python can count on - it's basically a contract with Python. We'll go into much more detail of protocols in Part 4 of the deep dive. "
   ]
  },
  {
   "cell_type": "markdown",
   "id": "20ff9a3b-92fd-4999-8173-3a638bfbe841",
   "metadata": {},
   "source": [
    "**The Iterator Protocol**\n",
    "\n",
    "Here, if we tell Python that we're implementing particular methods, it will support certain things. In this case, it will support iterating over things using a `while` loop.\n",
    "\n",
    "We're going to implement the **iterator protocol**.\n",
    "\n",
    "Iterators are objects that implement:\n",
    "* a `__next__` method\n",
    "* an `__iter__` method that simply returns the object itself"
   ]
  },
  {
   "cell_type": "markdown",
   "id": "885f0542-4980-48b1-9571-6b08ec8cc33a",
   "metadata": {},
   "source": [
    "That's it - that's all there is to an iterator - two methods, `__iter__` and `__next__`.\n",
    "\n",
    "**If an object is an iterator, we can use it with `for` loops, comprehensions, etc.**. We can also use `enumerate`, `sorted` and other functions because they support iterators."
   ]
  },
  {
   "cell_type": "markdown",
   "id": "1503f8a3-72ea-45b9-be4e-647c6d45d2f3",
   "metadata": {},
   "source": [
    "How do we make our `Squares` instance an iterator? \n",
    "\n",
    "All we have to do is add an `__iter__` method and make it return `self`. That's it."
   ]
  },
  {
   "cell_type": "code",
   "execution_count": 10,
   "id": "6d8e1558-37ac-4c6c-bcec-a52e1c72f42a",
   "metadata": {},
   "outputs": [],
   "source": [
    "class Squares:\n",
    "    def __init__(self, length):\n",
    "        self.length = length\n",
    "        self.i = 0\n",
    "    \n",
    "    def __next__(self):\n",
    "        if self.i >= self.length:\n",
    "            raise StopIteration\n",
    "        else:\n",
    "            result = self.i ** 2\n",
    "            self.i += 1\n",
    "            return result   \n",
    "    \n",
    "    def __iter__(self):\n",
    "        return self"
   ]
  },
  {
   "cell_type": "code",
   "execution_count": 11,
   "id": "a3aceec8-6d8a-408b-8a54-b79dce87d922",
   "metadata": {},
   "outputs": [
    {
     "name": "stdout",
     "output_type": "stream",
     "text": [
      "0\n",
      "1\n",
      "4\n",
      "9\n",
      "16\n"
     ]
    }
   ],
   "source": [
    "sq = Squares(5)\n",
    "\n",
    "for item in sq:\n",
    "    print(item)"
   ]
  },
  {
   "cell_type": "markdown",
   "id": "e37ab3b2-aa1b-4d26-aa15-65f635fd19cf",
   "metadata": {},
   "source": [
    "This iterator cannot be restarted which is an issue, but it is not a requirement of the **iterator protocol**.\n",
    "\n",
    "As we said above, `sorted` will work because `sorted` can take iterators:"
   ]
  },
  {
   "cell_type": "code",
   "execution_count": 12,
   "id": "90331c36-47e8-4451-9ca6-bd47f7d49781",
   "metadata": {},
   "outputs": [
    {
     "data": {
      "text/plain": [
       "[0, 1, 4, 9, 16]"
      ]
     },
     "execution_count": 12,
     "metadata": {},
     "output_type": "execute_result"
    }
   ],
   "source": [
    "sq = Squares(5)\n",
    "\n",
    "sorted(sq)"
   ]
  },
  {
   "cell_type": "markdown",
   "id": "bd41f82e-7a06-43d0-8718-a4c34da48b9f",
   "metadata": {},
   "source": [
    "#### Iterators vs Iterables"
   ]
  },
  {
   "cell_type": "markdown",
   "id": "049571e2-a602-44c6-b33b-6238facf327a",
   "metadata": {},
   "source": [
    "In general iterables can be re-used for iteration (like lists, tuples, ranges, etc) - because they are not the object performing the iteration. \n",
    "\n",
    "The iterator does that since it implements `__next__`. However, since iterators also implement `__iter__` they are technically also iterables. \n",
    "\n",
    "But, iterables that are not iterators generally do not become exhausted. (We can technically break these conventions by making an iterator with `__iter__` that returns a new iterator instead of itself, but we don't need to worry about this.)\n",
    "\n",
    "To reiterate,\n",
    "\n",
    "- An iterable is an object that implements __iter__ (returns an iterator)\n",
    "- An iterator is an object that implements __iter__ (returns itself) and `__next__`\n",
    "\n",
    "So, iterables DO NOT implement `__next__`."
   ]
  },
  {
   "cell_type": "markdown",
   "id": "e7fb72af-fc7e-4383-b270-f912e5624629",
   "metadata": {},
   "source": [
    "So when does `__iter__` get called?\n",
    "\n",
    "It won't be called with our `while True` approach - that only calls `__next__`. Let's add print statements to make this clear."
   ]
  },
  {
   "cell_type": "code",
   "execution_count": 27,
   "id": "7c6c34fa-5944-4c6e-b854-c90a00296bba",
   "metadata": {},
   "outputs": [],
   "source": [
    "class Squares:\n",
    "    def __init__(self, length):\n",
    "        self.length = length\n",
    "        self.i = 0\n",
    "    \n",
    "    def __next__(self):\n",
    "        \n",
    "        print('__next__ called')\n",
    "        if self.i >= self.length:\n",
    "            raise StopIteration\n",
    "        else:\n",
    "            result = self.i ** 2\n",
    "            self.i += 1\n",
    "            return result   \n",
    "    \n",
    "    def __iter__(self):\n",
    "        \n",
    "        print('__iter__ called')\n",
    "        return self"
   ]
  },
  {
   "cell_type": "code",
   "execution_count": 28,
   "id": "0af5b8b4-a44c-4d42-9436-6e8ef21617e3",
   "metadata": {},
   "outputs": [
    {
     "name": "stdout",
     "output_type": "stream",
     "text": [
      "__next__ called\n",
      "0\n",
      "__next__ called\n",
      "1\n",
      "__next__ called\n"
     ]
    }
   ],
   "source": [
    "sq = Squares(2)\n",
    "\n",
    "while True:\n",
    "    try:\n",
    "        print(next(sq))\n",
    "    \n",
    "    except StopIteration:\n",
    "        break"
   ]
  },
  {
   "cell_type": "markdown",
   "id": "ee96b7da-c29b-4372-99a8-bec92baa0a68",
   "metadata": {},
   "source": [
    "But `__iter__` **will** be called at the beginning when a `for` loop (or comprehension) is used."
   ]
  },
  {
   "cell_type": "code",
   "execution_count": 29,
   "id": "c7b3637e-c698-413c-bfc6-8cf8bb30c43f",
   "metadata": {},
   "outputs": [
    {
     "name": "stdout",
     "output_type": "stream",
     "text": [
      "__iter__ called\n",
      "__next__ called\n",
      "0\n",
      "__next__ called\n",
      "1\n",
      "__next__ called\n"
     ]
    }
   ],
   "source": [
    "sq = Squares(2)\n",
    "\n",
    "for item in sq:\n",
    "    print(item)"
   ]
  },
  {
   "cell_type": "markdown",
   "id": "305455d2-2a8f-4214-b898-877b9aaa0171",
   "metadata": {},
   "source": [
    "So what's actually happening? "
   ]
  },
  {
   "cell_type": "markdown",
   "id": "37a4ec75-997f-4c46-80ce-cd906f527239",
   "metadata": {},
   "source": [
    "Firstly, let's note:\n",
    "\n",
    "Python needs a consistent way to get an iterator either from an iterable or from an iterator. \n",
    "\n",
    "- If the object is an iterable (has no `__next__` implemented) and we want this object to be an iterator, Python needs to return an iterator. This iterator will have a new memory address. When we call `__next__` on our object, Python will actually call `__next__` on the iterator until we get `StopIteration`.\n",
    "\n",
    "- If the object is an iterator already, then Python doesn't need to return a new iterator - it can just return itself because it's already an iterator. Then, we can call `__next__` on this iterator (the same `__next__` in the original object) until we get `StopIteration`."
   ]
  },
  {
   "cell_type": "code",
   "execution_count": 49,
   "id": "263aa8b7-4203-465d-8b66-a4d8020e2f9f",
   "metadata": {},
   "outputs": [
    {
     "name": "stdout",
     "output_type": "stream",
     "text": [
      "__iter__ called\n",
      "True\n"
     ]
    }
   ],
   "source": [
    "sq = Squares(5)\n",
    "sq_iterator = iter(sq)\n",
    "print(sq_iterator is sq)"
   ]
  },
  {
   "cell_type": "markdown",
   "id": "8172fdf7-061f-4205-b989-6e24f5df6820",
   "metadata": {},
   "source": [
    "Then, Python calls `__next__` on `sq_iterator`. **In this particular case**, `sq` IS`sq_iterator` so it doesn't matter whether we call it on `sq` or `sq_iterator`. But in general, Python calls `__next__` on the iterator object."
   ]
  },
  {
   "cell_type": "code",
   "execution_count": null,
   "id": "ca902248-dd86-4c26-9905-791d4dc39ca9",
   "metadata": {},
   "outputs": [],
   "source": [
    "while True:\n",
    "    try:\n",
    "        print(next(sq_iterator))\n",
    "    \n",
    "    except StopIteration:\n",
    "        break"
   ]
  },
  {
   "cell_type": "markdown",
   "id": "2f39f3a2-46ed-4dfc-8fe0-f560ca121821",
   "metadata": {
    "jp-MarkdownHeadingCollapsed": true,
    "tags": []
   },
   "source": [
    "# 03 - Iterators  and Iterables"
   ]
  },
  {
   "cell_type": "markdown",
   "id": "b89919b0-2814-4ab0-aebd-72cfdbf65ca1",
   "metadata": {},
   "source": [
    "Previously we saw that we could create **iterator** objects by simply implementing:\n",
    "\n",
    "* a `__next__` method that returns the next element in the container\n",
    "* an `__iter__` method that just returns the object itself (the iterator object)"
   ]
  },
  {
   "cell_type": "markdown",
   "id": "27c0877e-af93-44f1-8279-5cf41e3cae9f",
   "metadata": {},
   "source": [
    "The drawback is that iterators get **exhausted**, and when this happens, the **iterator is a useless, throwaway object**. This means we have to create a new iterator every time we want to use a new iteration over the collection - can we somehow avoid having to remember to do that every time?\n",
    "\n",
    "Let's break down the iterator into two distinct things:\n",
    "\n",
    "1. The collection (container) of items/elements/marbles in a bag.\n",
    "2. A method to iterate over the collection.\n",
    "\n",
    "Why should we have to recreate the collection (1.) just to iterate over them again?\n",
    "\n",
    "So if we separate our iterator into these two parts, then we should have:\n",
    "\n",
    "1. A separate iterator object (which will always be a throwaway object - there's no escaping that), **created every time we need to start a fresh iteration**.\n",
    "2. A collection which is iterable and **only created once**. This will be used to maintain/mutate our data so it may have `append`,`pop` methods, etc.\n",
    "\n",
    "In this case, the iterator is responsible for iterating over the collection."
   ]
  },
  {
   "cell_type": "markdown",
   "id": "58d4f61d-aa37-4dcd-a905-831ff51761d5",
   "metadata": {},
   "source": [
    "**Example**\n",
    "\n",
    "Let's look at an example where we break up the iterator into a collection and an iterator object.\n",
    "\n",
    "Firstly, the unseparated version:"
   ]
  },
  {
   "cell_type": "code",
   "execution_count": 1,
   "id": "a5c391e9-3118-42a9-81a3-236be9d7f0d4",
   "metadata": {
    "collapsed": true,
    "jupyter": {
     "outputs_hidden": true
    }
   },
   "outputs": [],
   "source": [
    "class Cities:\n",
    "    def __init__(self):\n",
    "        self._cities = ['Paris', 'Berlin', 'Rome', 'Madrid', 'London']\n",
    "        self._index = 0\n",
    "    \n",
    "    def __iter__(self):\n",
    "        return self\n",
    "    \n",
    "    def __next__(self):\n",
    "        if self._index >= len(self._cities):\n",
    "            raise StopIteration\n",
    "        else:\n",
    "            item = self._cities[self._index]\n",
    "            self._index += 1\n",
    "            return item"
   ]
  },
  {
   "cell_type": "markdown",
   "id": "8ef1f714-2665-47d3-8a81-db5199058d2b",
   "metadata": {},
   "source": [
    "Now let's break it up. Remember, our `_cities` list object may contain millions of data points or be pulled from an API which may take a long time so we can see why it would be wasteful to have to create a new instance of `Cities` every time our iterator gets exhausted. "
   ]
  },
  {
   "cell_type": "code",
   "execution_count": 5,
   "id": "8f72fcac-855e-44b8-bff4-17d0a5426cc7",
   "metadata": {
    "collapsed": true,
    "jupyter": {
     "outputs_hidden": true
    }
   },
   "outputs": [],
   "source": [
    "class Cities:\n",
    "    def __init__(self):\n",
    "        self._cities = ['New York', 'Newark', 'New Delhi', 'Newcastle']\n",
    "        \n",
    "    def __len__(self):\n",
    "        return len(self._cities)"
   ]
  },
  {
   "cell_type": "markdown",
   "id": "8f812804-f303-4d60-9064-82d9be932519",
   "metadata": {},
   "source": [
    "And let's create our iterator this way:"
   ]
  },
  {
   "cell_type": "code",
   "execution_count": 4,
   "id": "9cb3251f-494a-4b2e-a98c-e24ea7b3b9a7",
   "metadata": {
    "tags": []
   },
   "outputs": [],
   "source": [
    "# container part\n",
    "class Cities:\n",
    "    def __init__(self):\n",
    "        self._cities = ['New York', 'Newark', 'New Delhi', 'Newcastle']\n",
    "        \n",
    "    def __len__(self):\n",
    "        return len(self._cities)\n",
    "\n",
    "# iterator part\n",
    "class CityIterator:\n",
    "    def __init__(self, city_obj):\n",
    "        # cities is an instance of Cities\n",
    "        self._city_obj = city_obj\n",
    "        self._index = 0\n",
    "        \n",
    "    def __iter__(self):\n",
    "        return self\n",
    "    \n",
    "    def __next__(self):\n",
    "        if self._index >= len(self._city_obj):\n",
    "            raise StopIteration\n",
    "        else:\n",
    "            item = self._city_obj._cities[self._index]\n",
    "            self._index += 1\n",
    "            return item"
   ]
  },
  {
   "cell_type": "markdown",
   "id": "47a44818-b03c-4aa6-b194-589475e8f800",
   "metadata": {},
   "source": [
    "1. So now we can create our `Cities` instance **once** to generate a container of all our data elements (perhaps from an API).\n",
    "2. Then, we create our iterator instance and pass it the **instance** of our collection of our objects.\n",
    "3. Then, we can use the iterator to iterate through our collection of objects using a `for` loop for example. But once the loop terminates, our `city_iterator` is an exhausted, throwaway object. \n"
   ]
  },
  {
   "cell_type": "code",
   "execution_count": 52,
   "id": "339a4813-319b-4a04-952a-48792b19ccd5",
   "metadata": {
    "tags": []
   },
   "outputs": [
    {
     "name": "stdout",
     "output_type": "stream",
     "text": [
      "New York\n",
      "Newark\n",
      "New Delhi\n",
      "Newcastle\n"
     ]
    }
   ],
   "source": [
    "cities = Cities()\n",
    "city_iterator = CityIterator(cities)\n",
    "\n",
    "for item in city_iterator:\n",
    "    print(item)"
   ]
  },
  {
   "cell_type": "markdown",
   "id": "b42e7903-f959-47f3-93ee-c4df905de81d",
   "metadata": {},
   "source": [
    "It would be nice if we didn't have to manually create a new iterator every time. \n",
    "\n",
    "This is where the **formal definition of a Python iterable** comes in..."
   ]
  },
  {
   "cell_type": "markdown",
   "id": "19a2fda1-bd03-412c-8681-18376a0ef302",
   "metadata": {},
   "source": [
    "**An iterable is a Python object that implements the iterable protocol. The iterable protocol requires that the object implements a single method: `__iter__`. This method returns a *new instance of the iterator object* which is used to iterate over the iterable.**"
   ]
  },
  {
   "cell_type": "markdown",
   "id": "f5861971-a254-4926-9cc5-8d183b79decc",
   "metadata": {},
   "source": [
    "#### Making an Iterable"
   ]
  },
  {
   "cell_type": "markdown",
   "id": "7810dab2-0aef-465b-bded-b7682b87c979",
   "metadata": {},
   "source": [
    "Let's quickly paste in from above our iterator which will be used by our iterable."
   ]
  },
  {
   "cell_type": "code",
   "execution_count": 5,
   "id": "6017c4d2-382f-477d-b691-f2b947b9f339",
   "metadata": {},
   "outputs": [],
   "source": [
    "class CityIterator:\n",
    "    def __init__(self, city_obj):\n",
    "        # cities is an instance of Cities\n",
    "        self._city_obj = city_obj\n",
    "        self._index = 0\n",
    "        \n",
    "    def __iter__(self):\n",
    "        return self\n",
    "    \n",
    "    def __next__(self):\n",
    "        if self._index >= len(self._city_obj):\n",
    "            raise StopIteration\n",
    "        else:\n",
    "            item = self._city_obj._cities[self._index]\n",
    "            self._index += 1\n",
    "            return item"
   ]
  },
  {
   "cell_type": "markdown",
   "id": "00c5b126-9ebc-472b-a1e8-c2400519ca50",
   "metadata": {},
   "source": [
    "So let's make our `Cities` instance a formal **iterable** by adding `__iter__` which returns a **new instance** of the iterator object."
   ]
  },
  {
   "cell_type": "code",
   "execution_count": 1,
   "id": "b1a3870b-6aef-4749-81dc-a1f96f864077",
   "metadata": {},
   "outputs": [],
   "source": [
    "class Cities:\n",
    "    def __init__(self):\n",
    "        self._cities = ['New York', 'Newark', 'New Delhi', 'Newcastle']\n",
    "        \n",
    "    def __len__(self):\n",
    "        return len(self._cities)\n",
    "    \n",
    "    def __iter__(self):\n",
    "        return CityIterator(self)     "
   ]
  },
  {
   "cell_type": "markdown",
   "id": "ecf559ec-e66a-4c04-9975-ba3138bfa591",
   "metadata": {},
   "source": [
    "Don't let the `self` in `return CityIterator(self)` fool you into thinking that, since we are returning `self`, `cities` must be an iterator. Why? \n",
    "\n",
    "Because, we start with a `Cities` instance called `cities`. Since we've fulfilled the protocol requirements, when we call `iter(cities)`, we return a **new instance** of an iterator.\n",
    "\n",
    "This "
   ]
  },
  {
   "cell_type": "markdown",
   "id": "0c4d284b-9ad2-46e2-9143-b3cce96b5431",
   "metadata": {},
   "source": [
    "`CityIterator` *is* however an **iterator** because it has implemented **both** `__iter__` and `__next__`. \n",
    "\n",
    "As a result, **iterators are themselves iterables but they're iterators that *can* become exhausted**. \n",
    "\n",
    "Iterables on the other hand **never become exhausted** because they always return a new iterator that iterates over the original collection.\n",
    "\n",
    "In any case, calling `iter()` on something will **always return an iterator**. "
   ]
  },
  {
   "cell_type": "markdown",
   "id": "33f415f2-725d-4f4e-9080-6eb32957b7a0",
   "metadata": {},
   "source": [
    "**Chronology**\n",
    "\n",
    "When iterating over an **iterable**, Python first:\n",
    "- Calls the `iter()` to obtain an iterator.\n",
    "- Then, it starts iterating over the **iterator** using `next` and `StopIteration`, etc.).\n",
    "- After the iteration is complete, if we execute another on another line using a `for` loop, it will work because **iterables never become exhausted**.\n",
    "\n",
    "Here's proof:"
   ]
  },
  {
   "cell_type": "code",
   "execution_count": 7,
   "id": "57ccc2b9-c458-450c-b67c-f1d5687b3e70",
   "metadata": {},
   "outputs": [
    {
     "name": "stdout",
     "output_type": "stream",
     "text": [
      "New York\n",
      "Newark\n",
      "New Delhi\n",
      "Newcastle\n"
     ]
    }
   ],
   "source": [
    "cities = Cities()\n",
    "\n",
    "for city in cities:\n",
    "    print(city)"
   ]
  },
  {
   "cell_type": "code",
   "execution_count": 8,
   "id": "2d6967f3-ad2b-465a-a742-1b987a6aedec",
   "metadata": {},
   "outputs": [
    {
     "name": "stdout",
     "output_type": "stream",
     "text": [
      "New York\n",
      "Newark\n",
      "New Delhi\n",
      "Newcastle\n"
     ]
    }
   ],
   "source": [
    "for city in cities:\n",
    "    print(city)"
   ]
  },
  {
   "cell_type": "markdown",
   "id": "1e3c600d-c06d-44ed-8c5e-8ee6819712b8",
   "metadata": {},
   "source": [
    "Note that every time we execute a `for` loop, we always start off by calling `__iter__`. Updating `CityIterator` with a print statement in `__iter__`, `__init__` and `__next__`, and `Cities` with a print statement in `__iter__` will make that clear:"
   ]
  },
  {
   "cell_type": "code",
   "execution_count": 11,
   "id": "0332b902-ff69-4437-8032-e23398f1af1e",
   "metadata": {},
   "outputs": [],
   "source": [
    "class Cities:\n",
    "    def __init__(self):\n",
    "        self._cities = ['New York', 'Newark', 'New Delhi', 'Newcastle']\n",
    "        \n",
    "    def __len__(self):\n",
    "        return len(self._cities)\n",
    "    \n",
    "    def __iter__(self):\n",
    "        print('Cities __iter__ called')\n",
    "        return CityIterator(self)     "
   ]
  },
  {
   "cell_type": "code",
   "execution_count": 12,
   "id": "8c2501fe-6d4d-4876-bb36-461ba2cffb9d",
   "metadata": {},
   "outputs": [],
   "source": [
    "class CityIterator:\n",
    "    def __init__(self, city_obj):\n",
    "        print('CityIterator object created!')\n",
    "        # city_obj is an instance of Cities\n",
    "        self._city_obj = city_obj\n",
    "        self._index = 0\n",
    "        \n",
    "    def __iter__(self):\n",
    "        print(\"CityIterator __iter__ called\")\n",
    "        return self\n",
    "    \n",
    "    def __next__(self):\n",
    "        print(\"CityIterator __next__ called\")\n",
    "        if self._index >= len(self._city_obj):\n",
    "            raise StopIteration\n",
    "        else:\n",
    "            item = self._city_obj._cities[self._index]\n",
    "            self._index += 1\n",
    "            return item"
   ]
  },
  {
   "cell_type": "markdown",
   "id": "d49ceec5-cc13-43f1-abff-72b5be36a7d5",
   "metadata": {},
   "source": [
    "Now, let's call `__iter__` and then the `for` loop. "
   ]
  },
  {
   "cell_type": "code",
   "execution_count": 18,
   "id": "65d70a62-b63b-406e-b13f-be9a8d7caf33",
   "metadata": {},
   "outputs": [
    {
     "name": "stdout",
     "output_type": "stream",
     "text": [
      "Cities __iter__ called\n",
      "CityIterator object created!\n"
     ]
    }
   ],
   "source": [
    "cities = Cities()\n",
    "\n",
    "city_iter_1 = iter(cities)"
   ]
  },
  {
   "cell_type": "code",
   "execution_count": 19,
   "id": "f8c93ffe-ec0e-4340-8b47-60222a100dda",
   "metadata": {},
   "outputs": [
    {
     "name": "stdout",
     "output_type": "stream",
     "text": [
      "CityIterator __iter__ called\n",
      "CityIterator __next__ called\n",
      "New York\n",
      "CityIterator __next__ called\n",
      "Newark\n",
      "CityIterator __next__ called\n",
      "New Delhi\n",
      "CityIterator __next__ called\n",
      "Newcastle\n",
      "CityIterator __next__ called\n"
     ]
    }
   ],
   "source": [
    "for city in city_iter_1:\n",
    "    print(city)"
   ]
  },
  {
   "cell_type": "markdown",
   "id": "12907f60-a823-4c22-8e23-ec2b19f464ef",
   "metadata": {},
   "source": [
    "Immediately executing a `for` loop tells Python to **always** call the `__iter__` first, expecting an iterator to be returned (it needs a consistent way of ensuring that it's provided an iterator because only iterators implement `__next__`). Then it calls `__next__` on the provided iterator. "
   ]
  },
  {
   "cell_type": "markdown",
   "id": "ef4e344e-1920-4e9b-8506-fa0132539c82",
   "metadata": {},
   "source": [
    "#### Final, Neat Iterator-Iterable Solution"
   ]
  },
  {
   "cell_type": "markdown",
   "id": "4942fd16-643c-4c47-8060-464e81ba3749",
   "metadata": {},
   "source": [
    "To keep things self-contained, we can put the `CityIterator` class within `Cities` and note that `return CityIterator(self)` -> `return self.CityIterator(self)`."
   ]
  },
  {
   "cell_type": "code",
   "execution_count": null,
   "id": "59d32e8f-6a6d-4dc0-b3cc-123d65a2d90f",
   "metadata": {},
   "outputs": [],
   "source": [
    "class Cities:\n",
    "    def __init__(self):\n",
    "        self._cities = ['New York', 'Newark', 'New Delhi', 'Newcastle']\n",
    "        \n",
    "    def __len__(self):\n",
    "        return len(self._cities)\n",
    "    \n",
    "    def __iter__(self):\n",
    "        print('Calling Cities instance __iter__')\n",
    "        return self.CityIterator(self)\n",
    "    \n",
    "    class CityIterator:\n",
    "        def __init__(self, city_obj):\n",
    "            # cities is an instance of Cities\n",
    "            print('Calling CityIterator __init__')\n",
    "            self._city_obj = city_obj\n",
    "            self._index = 0\n",
    "\n",
    "        def __iter__(self):\n",
    "            print('Calling CitiyIterator instance __iter__')\n",
    "            return self\n",
    "\n",
    "        def __next__(self):\n",
    "            print('Calling __next__')\n",
    "            if self._index >= len(self._city_obj):\n",
    "                raise StopIteration\n",
    "            else:\n",
    "                item = self._city_obj._cities[self._index]\n",
    "                self._index += 1\n",
    "                return item"
   ]
  },
  {
   "cell_type": "markdown",
   "id": "081c652b-d5e8-4d43-98b9-6191654328f9",
   "metadata": {},
   "source": [
    "#### Mixing Iterables and Sequences"
   ]
  },
  {
   "cell_type": "markdown",
   "id": "c430166e-b561-4420-844b-9e19fb3b516c",
   "metadata": {},
   "source": [
    "`Cities` is an iterable but not a sequence because we haven't implemented `__getitem__`. Recalling that, if we implement `__getitem__` and use a `for` loop, Python repeatedly calls `__getitem__`. \n",
    "\n",
    "But as we've just seen, every time we call a `for` loop, Python calls `__iter__` to return an iterator, and then repeatedly calls `__next__` until we exhaust the iterator.\n",
    "\n",
    "So which approach does Python take?\n",
    "\n",
    "Let's take the self-contained class above and add `__getitem__` (delegating the responsibilities of slicing and indexing to the underlying list object of our collection), so that our instance is a **sequence and an iterable**:"
   ]
  },
  {
   "cell_type": "code",
   "execution_count": 20,
   "id": "76388ef2-5685-49e8-a5c5-76899f07cce3",
   "metadata": {},
   "outputs": [],
   "source": [
    "class Cities:\n",
    "    def __init__(self):\n",
    "        self._cities = ['New York', 'Newark', 'New Delhi', 'Newcastle']\n",
    "        \n",
    "    def __len__(self):\n",
    "        return len(self._cities)\n",
    "    \n",
    "    def __iter__(self):\n",
    "        print('Calling Cities instance __iter__')\n",
    "        return self.CityIterator(self)\n",
    "    \n",
    "    def __getitem__(self, s):\n",
    "        print('getting item via __getitem__')\n",
    "        return self._cities[s]\n",
    "    \n",
    "    class CityIterator:\n",
    "        def __init__(self, city_obj):\n",
    "            # cities is an instance of Cities\n",
    "            print('Calling CityIterator __init__')\n",
    "            self._city_obj = city_obj\n",
    "            self._index = 0\n",
    "\n",
    "        def __iter__(self):\n",
    "            print('Calling CitiyIterator instance __iter__')\n",
    "            return self\n",
    "\n",
    "        def __next__(self):\n",
    "            print('Calling __next__')\n",
    "            if self._index >= len(self._city_obj):\n",
    "                raise StopIteration\n",
    "            else:\n",
    "                item = self._city_obj._cities[self._index]\n",
    "                self._index += 1\n",
    "                return item"
   ]
  },
  {
   "cell_type": "code",
   "execution_count": 21,
   "id": "c7a88068-fa4a-439e-b4f8-c07388885257",
   "metadata": {},
   "outputs": [
    {
     "name": "stdout",
     "output_type": "stream",
     "text": [
      "Cities __iter__ called\n",
      "CityIterator object created!\n",
      "CityIterator __next__ called\n",
      "New York\n",
      "CityIterator __next__ called\n",
      "Newark\n",
      "CityIterator __next__ called\n",
      "New Delhi\n",
      "CityIterator __next__ called\n",
      "Newcastle\n",
      "CityIterator __next__ called\n"
     ]
    }
   ],
   "source": [
    "for city in cities:\n",
    "    print(city)"
   ]
  },
  {
   "cell_type": "markdown",
   "id": "6bc94860-5c1f-4cf0-8cd3-bd9966159cce",
   "metadata": {},
   "source": [
    "As you can see, **Python prefers the iterator-iterable approach**.\n",
    "\n",
    "So to sum up, when Python wants to loop over some object using `for`, it first checks for `__iter__` by default. If it can't find any, it resorts to a `__getitem__` method.\n",
    "\n",
    "Python's list object has both `__iter__` and `__getitem__` implemented so it prefers to use the `__iter__` protocol."
   ]
  },
  {
   "cell_type": "markdown",
   "id": "94c97c18-d3f0-4851-acf3-6f6e20f9cb0e",
   "metadata": {
    "jp-MarkdownHeadingCollapsed": true,
    "tags": []
   },
   "source": [
    "# 04 - Example 1 - Consuming Iterators Manually"
   ]
  },
  {
   "cell_type": "markdown",
   "id": "f41613ff-3020-4e59-88bf-a55ca64448df",
   "metadata": {},
   "source": [
    "It can be useful to manually iterate through an iterator using the `next()` function."
   ]
  },
  {
   "cell_type": "markdown",
   "id": "9bb96aed-239e-418e-94a6-2a9bd7630a56",
   "metadata": {},
   "source": [
    "A fairly typical use case for this would be when reading data from a CSV file where you know the first few lines consist of information about the data rather than just the data itself.\n",
    "\n",
    "Let's try this using a CSV file I have saved alongside the Jupyter notebook."
   ]
  },
  {
   "cell_type": "markdown",
   "id": "fe376674-da48-437e-ba89-0ec091fcd3f7",
   "metadata": {},
   "source": [
    "Let's first load the data and see what it looks like:"
   ]
  },
  {
   "cell_type": "code",
   "execution_count": 51,
   "id": "ac09d8ce-2c13-4bdd-a551-16e6cf678a02",
   "metadata": {},
   "outputs": [
    {
     "name": "stdout",
     "output_type": "stream",
     "text": [
      "Car;MPG;Cylinders;Displacement;Horsepower;Weight;Acceleration;Model;Origin\n",
      "\n",
      "STRING;DOUBLE;INT;DOUBLE;DOUBLE;DOUBLE;DOUBLE;INT;CAT\n",
      "\n",
      "Chevrolet Chevelle Malibu;18.0;8;307.0;130.0;3504.;12.0;70;US\n",
      "\n",
      "Buick Skylark 320;15.0;8;350.0;165.0;3693.;11.5;70;US\n",
      "\n",
      "Plymouth Satellite;18.0;8;318.0;150.0;3436.;11.0;70;US\n",
      "\n"
     ]
    }
   ],
   "source": [
    "with open(\"../Section 04 - Iterables and Iterators/cars.csv\") as file:\n",
    "    \n",
    "        for idx, line in enumerate(file):\n",
    "            if idx > 4:\n",
    "                break\n",
    "            \n",
    "            else:\n",
    "                print(line)"
   ]
  },
  {
   "cell_type": "markdown",
   "id": "e261edb5-61f5-40fb-9994-17576b47794a",
   "metadata": {},
   "source": [
    "As we can see, the values are delimited by `;` and the first two lines consist of the column names, and column types.\n",
    "\n",
    "The reason for the spacing between each line is that each line ends with a newline, and our print statement also emits a newline by default. So we'll have to strip those out."
   ]
  },
  {
   "cell_type": "markdown",
   "id": "1f20445c-82d0-4079-b028-d4e9b589e9ac",
   "metadata": {},
   "source": [
    "Here's what we want to do: \n",
    "* read the first line to get the column headers and create a named tuple class\n",
    "* read data types from second line and store this so we can cast the strings we are reading to the correct data type\n",
    "* read the data rows and parse them into a named tuples\n",
    "\n",
    "As we might expect, as we're looping through each row we'll need to have `if` statements to catch and deal with the first two rows independently."
   ]
  },
  {
   "cell_type": "code",
   "execution_count": 52,
   "id": "df9fc930-435a-41a6-90d7-74947829e1f3",
   "metadata": {},
   "outputs": [
    {
     "name": "stdout",
     "output_type": "stream",
     "text": [
      "['Car', 'MPG', 'Cylinders', 'Displacement', 'Horsepower', 'Weight', 'Acceleration', 'Model', 'Origin']\n",
      "['STRING', 'DOUBLE', 'INT', 'DOUBLE', 'DOUBLE', 'DOUBLE', 'DOUBLE', 'INT', 'CAT']\n",
      "['Chevrolet Chevelle Malibu', '18.0', '8', '307.0', '130.0', '3504.', '12.0', '70', 'US']\n",
      "['Buick Skylark 320', '15.0', '8', '350.0', '165.0', '3693.', '11.5', '70', 'US']\n"
     ]
    }
   ],
   "source": [
    "with open(\"../Section 04 - Iterables and Iterators/cars.csv\") as file:\n",
    "    row_index = 0\n",
    "    for line in file:\n",
    "        if row_index == 0:\n",
    "            # header row\n",
    "            headers = line.strip('\\n').split(';')\n",
    "            print(headers)\n",
    "        elif row_index == 1:\n",
    "            # data type row\n",
    "            data_types = line.strip('\\n').split(';')\n",
    "            print(data_types)\n",
    "        else:\n",
    "            # data rows\n",
    "            data = line.strip('\\n').split(';')\n",
    "            print(data)\n",
    "        row_index += 1\n",
    "        \n",
    "        if row_index == 4:\n",
    "            break"
   ]
  },
  {
   "cell_type": "markdown",
   "id": "eca47347-8730-4612-bdf0-6998e2da4ca4",
   "metadata": {},
   "source": [
    "With the code above, we get each row of data as a list whose elements correspond to the data headers if it's the first row, data types if it's the second row, and all other rows are the car data.\n",
    "\n",
    "Just to make our goal clear, let's print out the data types and data below one another:"
   ]
  },
  {
   "cell_type": "code",
   "execution_count": 53,
   "id": "ea278b93-5256-48e0-ac74-edc9ed5e85a7",
   "metadata": {},
   "outputs": [
    {
     "name": "stdout",
     "output_type": "stream",
     "text": [
      "['STRING', 'DOUBLE', 'INT', 'DOUBLE', 'DOUBLE', 'DOUBLE', 'DOUBLE', 'INT', 'CAT']\n",
      "['Chevrolet Chevelle Malibu', '18.0', '8', '307.0', '130.0', '3504.', '12.0', '70', 'US']\n"
     ]
    }
   ],
   "source": [
    "data_types = ['STRING', 'DOUBLE', 'INT', 'DOUBLE', 'DOUBLE', 'DOUBLE', 'DOUBLE', 'INT', 'CAT']\n",
    "data_row = ['Chevrolet Chevelle Malibu', '18.0', '8', '307.0', '130.0', '3504.', '12.0', '70', 'US']\n",
    "\n",
    "print(data_types)\n",
    "print(data_row)"
   ]
  },
  {
   "cell_type": "markdown",
   "id": "1a1e1fad-77a9-4310-ac7a-9a57700e338b",
   "metadata": {},
   "source": [
    "We want to apply the above data type to the below data element-wise. We can do this with the following function and a list comprehension"
   ]
  },
  {
   "cell_type": "code",
   "execution_count": 54,
   "id": "47e13689-ecbb-438e-9a0b-5757053760f3",
   "metadata": {},
   "outputs": [
    {
     "data": {
      "text/plain": [
       "['Chevrolet Chevelle Malibu', 18.0, 8, 307.0, 130.0, 3504.0, 12.0, 70, 'US']"
      ]
     },
     "execution_count": 54,
     "metadata": {},
     "output_type": "execute_result"
    }
   ],
   "source": [
    "def cast(data_type, value):\n",
    "    if data_type == 'DOUBLE':\n",
    "        return float(value)\n",
    "    elif data_type == 'INT':\n",
    "        return int(value)\n",
    "    else:\n",
    "        return str(value)\n",
    "    \n",
    "[cast(data_type, value) for data_type, value in zip(data_types, data_row)]"
   ]
  },
  {
   "cell_type": "markdown",
   "id": "2e2df929-c6d8-4c7a-960c-10b16c77e8a7",
   "metadata": {},
   "source": [
    "As you can see, our data is now in the correct type (float values like 18.0 are actual floats and not strings: '18.0')."
   ]
  },
  {
   "cell_type": "markdown",
   "id": "5a42285f-f51e-41a2-952b-fe2c95f36a77",
   "metadata": {},
   "source": [
    "Our code became really messy with nested `if` statements because we had to deal with the first and second row separately. But, if we convert our `file` iterable into an iterator, we can use `next()` to manually go to the next line. \n",
    "\n",
    "This is good because our iterator is a consumable and we can't go backwards in it, and it also makes our code clean."
   ]
  },
  {
   "cell_type": "code",
   "execution_count": 57,
   "id": "a009470a-0fc3-4ad0-915d-b38baabfb30f",
   "metadata": {},
   "outputs": [
    {
     "data": {
      "text/plain": [
       "Car(Car='Chevrolet Chevelle Malibu', MPG=18.0, Cylinders=8, Displacement=307.0, Horsepower=130.0, Weight=3504.0, Acceleration=12.0, Model=70, Origin='US')"
      ]
     },
     "execution_count": 57,
     "metadata": {},
     "output_type": "execute_result"
    }
   ],
   "source": [
    "from collections import namedtuple\n",
    "cars = []\n",
    "\n",
    "def cast(data_type, value):\n",
    "    if data_type == 'DOUBLE':\n",
    "        return float(value)\n",
    "    elif data_type == 'INT':\n",
    "        return int(value)\n",
    "    else:\n",
    "        return str(value)\n",
    "\n",
    "def cast_row(data_types, data_row):\n",
    "    return [cast(data_type, value) for data_type, value in zip(data_types, data_row)]\n",
    "            \n",
    "\n",
    "with open(\"../Section 04 - Iterables and Iterators/cars.csv\") as file:\n",
    "    \n",
    "    file_iter = iter(file)  \n",
    "    \n",
    "    headers = next(file_iter).strip('\\n').split(';')      # get 0th row\n",
    "    Car = namedtuple('Car', headers)\n",
    "    \n",
    "    data_types = next(file_iter).strip('\\n').split(';')   # get 1st row\n",
    "    \n",
    "    for line in file_iter:\n",
    "        data = line.strip('\\n').split(';')\n",
    "        data = cast_row(data_types, data)\n",
    "        car = Car(*data)\n",
    "        cars.append(car)\n",
    "\n",
    "cars[0]"
   ]
  },
  {
   "cell_type": "markdown",
   "id": "254b79f9-c00d-4528-a798-622c1ffa32f6",
   "metadata": {},
   "source": [
    "This approach is fine, but if we wanted we could clean things up a little bit more. \n",
    "\n",
    "If you noticed, we have an empty `cars` list defined outside and we append to it from the inside. We can replace that with a list comprehension. In the full notes, he shortens the code down significantly with two list comprehensions but it becomes quite unreadable, so I've left it out here."
   ]
  },
  {
   "cell_type": "markdown",
   "id": "0108cb1c-2563-4ca2-9c56-4b82494d6aac",
   "metadata": {},
   "source": [
    "# 05 - Example 2 - Cyclic Iterators"
   ]
  },
  {
   "cell_type": "markdown",
   "id": "c8f4a5c8-867f-4966-893b-8df991bff051",
   "metadata": {},
   "source": [
    "# 06 - Lazy Iterables"
   ]
  },
  {
   "cell_type": "markdown",
   "id": "5e910abc-65e1-443c-9a6b-7bd51b2be765",
   "metadata": {},
   "source": [
    "# 07 - Python's Built-In Iterables and Iterators"
   ]
  },
  {
   "cell_type": "markdown",
   "id": "5ff18a00-be22-4387-8e9b-8083dffb8aee",
   "metadata": {},
   "source": [
    "# 08 - Sorting Iterables"
   ]
  },
  {
   "cell_type": "markdown",
   "id": "03b03711-1921-49c1-b87c-49221bcb33bc",
   "metadata": {},
   "source": [
    "# 09 - The iter() Function"
   ]
  },
  {
   "cell_type": "markdown",
   "id": "5967f0be-b651-4ca0-87e7-dbcfef970eea",
   "metadata": {},
   "source": [
    "# 10 - Iterating Callables"
   ]
  },
  {
   "cell_type": "markdown",
   "id": "06ca0f75-2541-4368-a124-12497b1dfb45",
   "metadata": {},
   "source": [
    "# 11 - Delegating Iterators"
   ]
  },
  {
   "cell_type": "markdown",
   "id": "762ecc0c-2d2b-43ff-931a-e765e72f3acb",
   "metadata": {},
   "source": [
    "# 12 - Reversed Iteration"
   ]
  },
  {
   "cell_type": "markdown",
   "id": "cdbc3d5e-162c-442a-bb7e-4015d702b52b",
   "metadata": {},
   "source": [
    "# 13 - Caveat Using Iterators for Function Arguments"
   ]
  }
 ],
 "metadata": {
  "kernelspec": {
   "display_name": "Python 3 (ipykernel)",
   "language": "python",
   "name": "python3"
  },
  "language_info": {
   "codemirror_mode": {
    "name": "ipython",
    "version": 3
   },
   "file_extension": ".py",
   "mimetype": "text/x-python",
   "name": "python",
   "nbconvert_exporter": "python",
   "pygments_lexer": "ipython3",
   "version": "3.10.6"
  }
 },
 "nbformat": 4,
 "nbformat_minor": 5
}
