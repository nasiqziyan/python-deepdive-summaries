{
 "cells": [
  {
   "cell_type": "markdown",
   "id": "ee1804bc-44ee-4ef9-a052-f56dc0cbc3d7",
   "metadata": {
    "tags": []
   },
   "source": [
    "# 01 - Iterating Collections"
   ]
  },
  {
   "cell_type": "markdown",
   "id": "c9ad8ce0-25fb-4c9b-bc0f-8989be867a67",
   "metadata": {
    "tags": []
   },
   "source": [
    "#### Lecture"
   ]
  },
  {
   "cell_type": "markdown",
   "id": "b3744eff-b634-4d8b-b385-4515525f3732",
   "metadata": {},
   "source": [
    "This following point will be a key takeaway of these first few sections so I have pasted it at the very top, so that it's easy to find later on, but don't need to worry about it right now if reading chronologically:\n",
    "\n",
    "- An iterable is an object that implements __iter__ (returns an iterator)\n",
    "- An iterator is an object that implements __iter__ (returns itself) and `__next__`"
   ]
  },
  {
   "cell_type": "markdown",
   "id": "b00c6635-6f48-48ff-bb6b-e247727b6d7d",
   "metadata": {},
   "source": [
    "We saw how sequence types support iteration by being able to access elements by index. We could even write our custom sequence types by implementing the `__getitem__` method."
   ]
  },
  {
   "cell_type": "markdown",
   "id": "a193d729-d2b1-4eb2-8c1c-30237f5f3dc9",
   "metadata": {},
   "source": [
    "But there are some limitations:\n",
    "\n",
    "* items must be numerically indexable, with indexing starting at `0`\n",
    "* cannot be used with unordered collections, such as sets"
   ]
  },
  {
   "cell_type": "markdown",
   "id": "e8b4856b-e735-4610-8bd4-0c37ac9df833",
   "metadata": {},
   "source": [
    "If we think about iterating over a collection, what we really need is a way to request the **next** item in the collection.\n",
    "\n",
    "This is like picking marbles out from a bag. The marbles are unlabeled and we want to ensure that we don't pick the same one twice.\n",
    "\n",
    "If we can do that, our collection does not require being indexable, nor does it need to be ordered (i.e. we don't need the notion of relative positions of elements in the container)."
   ]
  },
  {
   "cell_type": "markdown",
   "id": "ee2fef0a-87d4-49b3-8df0-791c7dd97417",
   "metadata": {},
   "source": [
    "This is exactly what iterables are in general - they provide a method that returns the \"next\" element in the collection. This approach works equally well with sequence type collections, as well as unordered collection types such as sets.\n",
    "\n",
    "Of course, the order in which **next** returns items from an unordered colllection is not known in advance - and we see that when we iterate over a set for example:"
   ]
  },
  {
   "cell_type": "code",
   "execution_count": 1,
   "id": "7f2a1d9b-e122-4d0f-a0bf-7cf862438d8f",
   "metadata": {},
   "outputs": [
    {
     "name": "stdout",
     "output_type": "stream",
     "text": [
      "y\n",
      "a\n",
      "c\n",
      "b\n",
      "x\n"
     ]
    }
   ],
   "source": [
    "s = {'x', 'y', 'b', 'c', 'a'}\n",
    "for item in s:\n",
    "    print(item)"
   ]
  },
  {
   "cell_type": "markdown",
   "id": "c9c67d96-fd48-4dbe-9f69-c4b9c0197a9c",
   "metadata": {},
   "source": [
    "As you can see the order in which the elements of the set was returned, did not match the order in which we added elements to the set."
   ]
  },
  {
   "cell_type": "markdown",
   "id": "48522083-e67e-4e1b-a1b0-c730ff92379b",
   "metadata": {},
   "source": [
    "Furthermore, we cannot use indexing to access elements in a set:"
   ]
  },
  {
   "cell_type": "code",
   "execution_count": 2,
   "id": "828390ae-f84e-480f-a2f3-6f5f3d9d95de",
   "metadata": {},
   "outputs": [
    {
     "ename": "TypeError",
     "evalue": "'set' object does not support indexing",
     "output_type": "error",
     "traceback": [
      "\u001b[1;31m---------------------------------------------------------------------------\u001b[0m",
      "\u001b[1;31mTypeError\u001b[0m                                 Traceback (most recent call last)",
      "\u001b[1;32m<ipython-input-2-4e98c4f87897>\u001b[0m in \u001b[0;36m<module>\u001b[1;34m()\u001b[0m\n\u001b[1;32m----> 1\u001b[1;33m \u001b[0ms\u001b[0m\u001b[1;33m[\u001b[0m\u001b[1;36m0\u001b[0m\u001b[1;33m]\u001b[0m\u001b[1;33m\u001b[0m\u001b[0m\n\u001b[0m",
      "\u001b[1;31mTypeError\u001b[0m: 'set' object does not support indexing"
     ]
    }
   ],
   "source": [
    "s[0]"
   ]
  },
  {
   "cell_type": "markdown",
   "id": "4735f5fa-034a-415b-bbcc-9cfffabd8502",
   "metadata": {},
   "source": [
    "We have a couple of recommendations for general iteration:\n",
    "\n",
    "- Be able to 'get the next item' in the collection (not necessarily through a sequential index).\n",
    "- Make the collection finite.\n",
    "- Allow exhaustion of the iterable via the exception `StopIteration`.\n",
    "- Keep track of the indices somehow to ensure that the same elements aren't being called multiple times\n",
    "- Be able to use a `for` loop, comprehension, etc.\n",
    "- Restart the iteration from the beginning (without having to create a new instance of the object.\n",
    "- Support the `__next__` special method which returns an item from the collection"
   ]
  },
  {
   "cell_type": "markdown",
   "id": "7d072a61-afeb-41f1-b685-4e5e936f39cc",
   "metadata": {
    "tags": []
   },
   "source": [
    "#### Our Own Implementation"
   ]
  },
  {
   "cell_type": "markdown",
   "id": "83310fed-f7dc-45a8-bde6-69e5efd1dd84",
   "metadata": {},
   "source": [
    "Let's go ahead and define a kind of iterable ourselves. \n",
    "\n",
    "What we'll want to do is to have a container type of class that implements the `__next__` method, instead of that `__getitem__` method. "
   ]
  },
  {
   "cell_type": "markdown",
   "id": "2c94ffb9-4c8d-47e0-ad96-a8ecdc29d852",
   "metadata": {},
   "source": [
    "Let's create our own implementation that we can iterate through to generate square numbers. \n",
    "\n",
    "- Since we want our collection to be finite, we'll require in a specific length. This means we can also implement `__len__`.\n",
    "- Every time we call `__next__`, it should return the next element in the collection - so we'll have to keep track of where we are in the iteration somehow. We'll do this with `i`.\n",
    "- When we want to exhaust the iterable, we should raise the `StopIteration` error when `next` is called."
   ]
  },
  {
   "cell_type": "code",
   "execution_count": 1,
   "id": "192d5098-d80d-4844-aedb-f27fddc131a7",
   "metadata": {
    "tags": []
   },
   "outputs": [],
   "source": [
    "class Squares:\n",
    "    def __init__(self, length):\n",
    "        self.length = length\n",
    "        self.i = 0\n",
    "    \n",
    "    def __next__(self):\n",
    "        if self.i >= self.length:\n",
    "            raise StopIteration\n",
    "        else:\n",
    "            result = self.i ** 2\n",
    "            self.i += 1\n",
    "            return result   \n",
    "    \n",
    "    def __len__(self):\n",
    "        return self.length"
   ]
  },
  {
   "cell_type": "markdown",
   "id": "87442dfb-3f13-4d02-a9cf-86ec5cb303be",
   "metadata": {},
   "source": [
    "Now let's generate some square values:"
   ]
  },
  {
   "cell_type": "code",
   "execution_count": 4,
   "id": "c834ce84-c4e9-4f43-acd3-4d192ae06465",
   "metadata": {},
   "outputs": [
    {
     "name": "stdout",
     "output_type": "stream",
     "text": [
      "0\n",
      "1\n",
      "4\n",
      "9\n",
      "16\n"
     ]
    }
   ],
   "source": [
    "sq = Squares(5)\n",
    "\n",
    "while True:\n",
    "    try: \n",
    "        print(next(sq))\n",
    "    \n",
    "    except StopIteration:\n",
    "        break"
   ]
  },
  {
   "cell_type": "markdown",
   "id": "5b43a7e7-dfd8-4e17-a79c-d7006344223a",
   "metadata": {},
   "source": [
    "Now the iterable is exhausted. Calling `next(sq)` again will throw the exception:"
   ]
  },
  {
   "cell_type": "code",
   "execution_count": 8,
   "id": "8630821a-79c2-4c38-85ab-c25d8daed946",
   "metadata": {},
   "outputs": [
    {
     "ename": "StopIteration",
     "evalue": "",
     "output_type": "error",
     "traceback": [
      "\u001b[0;31m---------------------------------------------------------------------------\u001b[0m",
      "\u001b[0;31mStopIteration\u001b[0m                             Traceback (most recent call last)",
      "\u001b[0;32m/tmp/ipykernel_4838/1886377900.py\u001b[0m in \u001b[0;36m<module>\u001b[0;34m\u001b[0m\n\u001b[0;32m----> 1\u001b[0;31m \u001b[0mprint\u001b[0m\u001b[0;34m(\u001b[0m\u001b[0mnext\u001b[0m\u001b[0;34m(\u001b[0m\u001b[0msq\u001b[0m\u001b[0;34m)\u001b[0m\u001b[0;34m)\u001b[0m\u001b[0;34m\u001b[0m\u001b[0;34m\u001b[0m\u001b[0m\n\u001b[0m",
      "\u001b[0;32m/tmp/ipykernel_4838/725555539.py\u001b[0m in \u001b[0;36m__next__\u001b[0;34m(self)\u001b[0m\n\u001b[1;32m      6\u001b[0m     \u001b[0;32mdef\u001b[0m \u001b[0m__next__\u001b[0m\u001b[0;34m(\u001b[0m\u001b[0mself\u001b[0m\u001b[0;34m)\u001b[0m\u001b[0;34m:\u001b[0m\u001b[0;34m\u001b[0m\u001b[0;34m\u001b[0m\u001b[0m\n\u001b[1;32m      7\u001b[0m         \u001b[0;32mif\u001b[0m \u001b[0mself\u001b[0m\u001b[0;34m.\u001b[0m\u001b[0mi\u001b[0m \u001b[0;34m>=\u001b[0m \u001b[0mself\u001b[0m\u001b[0;34m.\u001b[0m\u001b[0mlength\u001b[0m\u001b[0;34m:\u001b[0m\u001b[0;34m\u001b[0m\u001b[0;34m\u001b[0m\u001b[0m\n\u001b[0;32m----> 8\u001b[0;31m             \u001b[0;32mraise\u001b[0m \u001b[0mStopIteration\u001b[0m\u001b[0;34m\u001b[0m\u001b[0;34m\u001b[0m\u001b[0m\n\u001b[0m\u001b[1;32m      9\u001b[0m         \u001b[0;32melse\u001b[0m\u001b[0;34m:\u001b[0m\u001b[0;34m\u001b[0m\u001b[0;34m\u001b[0m\u001b[0m\n\u001b[1;32m     10\u001b[0m             \u001b[0mresult\u001b[0m \u001b[0;34m=\u001b[0m \u001b[0mself\u001b[0m\u001b[0;34m.\u001b[0m\u001b[0mi\u001b[0m \u001b[0;34m**\u001b[0m \u001b[0;36m2\u001b[0m\u001b[0;34m\u001b[0m\u001b[0;34m\u001b[0m\u001b[0m\n",
      "\u001b[0;31mStopIteration\u001b[0m: "
     ]
    }
   ],
   "source": [
    "print(next(sq))"
   ]
  },
  {
   "cell_type": "markdown",
   "id": "045c52fd-85b2-4774-adaa-4eb809f229bf",
   "metadata": {},
   "source": [
    "But, we still cannot iterate through the collection using `for` loop or comprehension, so our collection is technically NOT iterable:"
   ]
  },
  {
   "cell_type": "code",
   "execution_count": 9,
   "id": "391978fe-b5c7-4e96-87e1-9c434832d2ae",
   "metadata": {},
   "outputs": [
    {
     "ename": "TypeError",
     "evalue": "'Squares' object is not iterable",
     "output_type": "error",
     "traceback": [
      "\u001b[0;31m---------------------------------------------------------------------------\u001b[0m",
      "\u001b[0;31mTypeError\u001b[0m                                 Traceback (most recent call last)",
      "\u001b[0;32m/tmp/ipykernel_4838/3923485823.py\u001b[0m in \u001b[0;36m<module>\u001b[0;34m\u001b[0m\n\u001b[1;32m      1\u001b[0m \u001b[0msq\u001b[0m \u001b[0;34m=\u001b[0m \u001b[0mSquares\u001b[0m\u001b[0;34m(\u001b[0m\u001b[0;36m10\u001b[0m\u001b[0;34m)\u001b[0m\u001b[0;34m\u001b[0m\u001b[0;34m\u001b[0m\u001b[0m\n\u001b[0;32m----> 2\u001b[0;31m \u001b[0;32mfor\u001b[0m \u001b[0mitem\u001b[0m \u001b[0;32min\u001b[0m \u001b[0msq\u001b[0m\u001b[0;34m:\u001b[0m\u001b[0;34m\u001b[0m\u001b[0;34m\u001b[0m\u001b[0m\n\u001b[0m\u001b[1;32m      3\u001b[0m     \u001b[0mprint\u001b[0m\u001b[0;34m(\u001b[0m\u001b[0mitem\u001b[0m\u001b[0;34m)\u001b[0m\u001b[0;34m\u001b[0m\u001b[0;34m\u001b[0m\u001b[0m\n",
      "\u001b[0;31mTypeError\u001b[0m: 'Squares' object is not iterable"
     ]
    }
   ],
   "source": [
    "sq = Squares(10)\n",
    "for item in sq:\n",
    "    print(item)"
   ]
  },
  {
   "cell_type": "markdown",
   "id": "10ac1b82-1774-4e4b-8a64-922dd31bae03",
   "metadata": {
    "tags": []
   },
   "source": [
    "# 02 - Iterators"
   ]
  },
  {
   "cell_type": "markdown",
   "id": "7b51f5df-604f-4d1b-bea9-560603dc126b",
   "metadata": {},
   "source": [
    "In the last lecture we saw that we could approach iterating over a collection using this concept of `next`.\n",
    "\n",
    "But there were some downsides that did not resolve (yet!):\n",
    "* we cannot use a `for` loop\n",
    "* once we exhaust the iteration (repeatedly calling next), we're essentially done with object. The only way to iterate through it again is to create a new instance of the object."
   ]
  },
  {
   "cell_type": "markdown",
   "id": "6b05ae79-a38f-4e00-b347-fa7cd668d3b7",
   "metadata": {},
   "source": [
    "First we are going to look at making our `next` be usable in a `for` loop."
   ]
  },
  {
   "cell_type": "markdown",
   "id": "7a20036b-e7b3-464c-b964-ccb215f9c379",
   "metadata": {},
   "source": [
    "This idea of using `__next__` and the `StopIteration` exception is exactly what Python does.\n",
    "\n",
    "So, somehow we need to tell Python that the object we are dealing with can be used with `next`. Python knows we have a `__next__` method but how do we tell Python that it will behave in a way consistent with using a `while` loop to iterate.\n",
    "\n",
    "In other words, it knows we have `__next__`, but how does it know we implement `StopIteration`?\n",
    "\n",
    "To do so, we create an `iterator` type object."
   ]
  },
  {
   "cell_type": "markdown",
   "id": "d06e5462-7818-49c7-a4fc-c474604baab7",
   "metadata": {},
   "source": [
    "**Protocols**\n",
    "\n",
    "A protocol is simply a fancy way of saying that our class is going to implement certain functionality that Python can count on - it's basically a contract with Python. We'll go into much more detail of protocols in Part 4 of the deep dive. "
   ]
  },
  {
   "cell_type": "markdown",
   "id": "20ff9a3b-92fd-4999-8173-3a638bfbe841",
   "metadata": {},
   "source": [
    "**The Iterator Protocol**\n",
    "\n",
    "Here, if we tell Python that we're implementing particular methods, it will support certain things. In this case, it will support iterating over things using a `while` loop.\n",
    "\n",
    "We're going to implement the **iterator protocol**.\n",
    "\n",
    "Iterators are objects that implement:\n",
    "* a `__next__` method\n",
    "* an `__iter__` method that simply returns the object itself"
   ]
  },
  {
   "cell_type": "markdown",
   "id": "885f0542-4980-48b1-9571-6b08ec8cc33a",
   "metadata": {},
   "source": [
    "That's it - that's all there is to an iterator - two methods, `__iter__` and `__next__`.\n",
    "\n",
    "**If an object is an iterator, we can use it with `for` loops, comprehensions, etc.**. We can also use `enumerate`, `sorted` and other functions because they support iterators."
   ]
  },
  {
   "cell_type": "markdown",
   "id": "1503f8a3-72ea-45b9-be4e-647c6d45d2f3",
   "metadata": {},
   "source": [
    "How do we make our `Squares` instance an iterator? \n",
    "\n",
    "All we have to do is add an `__iter__` method and make it return `self`. That's it."
   ]
  },
  {
   "cell_type": "code",
   "execution_count": 10,
   "id": "6d8e1558-37ac-4c6c-bcec-a52e1c72f42a",
   "metadata": {},
   "outputs": [],
   "source": [
    "class Squares:\n",
    "    def __init__(self, length):\n",
    "        self.length = length\n",
    "        self.i = 0\n",
    "    \n",
    "    def __next__(self):\n",
    "        if self.i >= self.length:\n",
    "            raise StopIteration\n",
    "        else:\n",
    "            result = self.i ** 2\n",
    "            self.i += 1\n",
    "            return result   \n",
    "    \n",
    "    def __iter__(self):\n",
    "        return self"
   ]
  },
  {
   "cell_type": "code",
   "execution_count": 11,
   "id": "a3aceec8-6d8a-408b-8a54-b79dce87d922",
   "metadata": {},
   "outputs": [
    {
     "name": "stdout",
     "output_type": "stream",
     "text": [
      "0\n",
      "1\n",
      "4\n",
      "9\n",
      "16\n"
     ]
    }
   ],
   "source": [
    "sq = Squares(5)\n",
    "\n",
    "for item in sq:\n",
    "    print(item)"
   ]
  },
  {
   "cell_type": "markdown",
   "id": "e37ab3b2-aa1b-4d26-aa15-65f635fd19cf",
   "metadata": {},
   "source": [
    "This iterator cannot be restarted which is an issue, but it is not a requirement of the **iterator protocol**.\n",
    "\n",
    "As we said above, `sorted` will work because `sorted` can take iterators:"
   ]
  },
  {
   "cell_type": "code",
   "execution_count": 12,
   "id": "90331c36-47e8-4451-9ca6-bd47f7d49781",
   "metadata": {},
   "outputs": [
    {
     "data": {
      "text/plain": [
       "[0, 1, 4, 9, 16]"
      ]
     },
     "execution_count": 12,
     "metadata": {},
     "output_type": "execute_result"
    }
   ],
   "source": [
    "sq = Squares(5)\n",
    "\n",
    "sorted(sq)"
   ]
  },
  {
   "cell_type": "markdown",
   "id": "bd41f82e-7a06-43d0-8718-a4c34da48b9f",
   "metadata": {},
   "source": [
    "#### Iterators vs Iterables"
   ]
  },
  {
   "cell_type": "markdown",
   "id": "049571e2-a602-44c6-b33b-6238facf327a",
   "metadata": {},
   "source": [
    "In general iterables can be re-used for iteration (like lists, tuples, ranges, etc) - because they are not the object performing the iteration. \n",
    "\n",
    "The iterator does that since it implements `__next__`. However, since iterators also implement `__iter__` they are technically also iterables. \n",
    "\n",
    "But, iterables that are not iterators generally do not become exhausted. (We can technically break these conventions by making an iterator with `__iter__` that returns a new iterator instead of itself, but we don't need to worry about this.)\n",
    "\n",
    "To reiterate,\n",
    "\n",
    "- An iterable is an object that implements __iter__ (returns an iterator)\n",
    "- An iterator is an object that implements __iter__ (returns itself) and `__next__`\n",
    "\n",
    "So, iterables DO NOT implement `__next__`."
   ]
  },
  {
   "cell_type": "markdown",
   "id": "e7fb72af-fc7e-4383-b270-f912e5624629",
   "metadata": {},
   "source": [
    "So when does `__iter__` get called?\n",
    "\n",
    "It won't be called with our `while True` approach - that only calls `__next__`. Let's add print statements to make this clear."
   ]
  },
  {
   "cell_type": "code",
   "execution_count": 27,
   "id": "7c6c34fa-5944-4c6e-b854-c90a00296bba",
   "metadata": {},
   "outputs": [],
   "source": [
    "class Squares:\n",
    "    def __init__(self, length):\n",
    "        self.length = length\n",
    "        self.i = 0\n",
    "    \n",
    "    def __next__(self):\n",
    "        \n",
    "        print('__next__ called')\n",
    "        if self.i >= self.length:\n",
    "            raise StopIteration\n",
    "        else:\n",
    "            result = self.i ** 2\n",
    "            self.i += 1\n",
    "            return result   \n",
    "    \n",
    "    def __iter__(self):\n",
    "        \n",
    "        print('__iter__ called')\n",
    "        return self"
   ]
  },
  {
   "cell_type": "code",
   "execution_count": 28,
   "id": "0af5b8b4-a44c-4d42-9436-6e8ef21617e3",
   "metadata": {},
   "outputs": [
    {
     "name": "stdout",
     "output_type": "stream",
     "text": [
      "__next__ called\n",
      "0\n",
      "__next__ called\n",
      "1\n",
      "__next__ called\n"
     ]
    }
   ],
   "source": [
    "sq = Squares(2)\n",
    "\n",
    "while True:\n",
    "    try:\n",
    "        print(next(sq))\n",
    "    \n",
    "    except StopIteration:\n",
    "        break"
   ]
  },
  {
   "cell_type": "markdown",
   "id": "ee96b7da-c29b-4372-99a8-bec92baa0a68",
   "metadata": {},
   "source": [
    "But `__iter__` **will** be called at the beginning when a `for` loop (or comprehension) is used."
   ]
  },
  {
   "cell_type": "code",
   "execution_count": 29,
   "id": "c7b3637e-c698-413c-bfc6-8cf8bb30c43f",
   "metadata": {},
   "outputs": [
    {
     "name": "stdout",
     "output_type": "stream",
     "text": [
      "__iter__ called\n",
      "__next__ called\n",
      "0\n",
      "__next__ called\n",
      "1\n",
      "__next__ called\n"
     ]
    }
   ],
   "source": [
    "sq = Squares(2)\n",
    "\n",
    "for item in sq:\n",
    "    print(item)"
   ]
  },
  {
   "cell_type": "markdown",
   "id": "305455d2-2a8f-4214-b898-877b9aaa0171",
   "metadata": {},
   "source": [
    "So what's actually happening? "
   ]
  },
  {
   "cell_type": "markdown",
   "id": "37a4ec75-997f-4c46-80ce-cd906f527239",
   "metadata": {},
   "source": [
    "Firstly, let's note:\n",
    "\n",
    "Python needs a consistent way to get an iterator either from an iterable or from an iterator. \n",
    "\n",
    "- If the object is an iterable (has no `__next__` implemented) and we want this object to be an iterator, Python needs to return an iterator. This iterator will have a new memory address. When we call `__next__` on our object, Python will actually call `__next__` on the iterator until we get `StopIteration`.\n",
    "\n",
    "- If the object is an iterator already, then Python doesn't need to return a new iterator - it can just return itself because it's already an iterator. Then, we can call `__next__` on this iterator (the same `__next__` in the original object) until we get `StopIteration`."
   ]
  },
  {
   "cell_type": "code",
   "execution_count": 49,
   "id": "263aa8b7-4203-465d-8b66-a4d8020e2f9f",
   "metadata": {},
   "outputs": [
    {
     "name": "stdout",
     "output_type": "stream",
     "text": [
      "__iter__ called\n",
      "True\n"
     ]
    }
   ],
   "source": [
    "sq = Squares(5)\n",
    "sq_iterator = iter(sq)\n",
    "print(sq_iterator is sq)"
   ]
  },
  {
   "cell_type": "markdown",
   "id": "8172fdf7-061f-4205-b989-6e24f5df6820",
   "metadata": {},
   "source": [
    "Then, Python calls `__next__` on `sq_iterator`. **In this particular case**, `sq` IS`sq_iterator` so it doesn't matter whether we call it on `sq` or `sq_iterator`. But in general, Python calls `__next__` on the iterator object."
   ]
  },
  {
   "cell_type": "code",
   "execution_count": null,
   "id": "ca902248-dd86-4c26-9905-791d4dc39ca9",
   "metadata": {},
   "outputs": [],
   "source": [
    "while True:\n",
    "    try:\n",
    "        print(next(sq_iterator))\n",
    "    \n",
    "    except StopIteration:\n",
    "        break"
   ]
  },
  {
   "cell_type": "markdown",
   "id": "2f39f3a2-46ed-4dfc-8fe0-f560ca121821",
   "metadata": {
    "tags": []
   },
   "source": [
    "# 03 - Iterators  and Iterables"
   ]
  },
  {
   "cell_type": "markdown",
   "id": "b89919b0-2814-4ab0-aebd-72cfdbf65ca1",
   "metadata": {},
   "source": [
    "Previously we saw that we could create **iterator** objects by simply implementing:\n",
    "\n",
    "* a `__next__` method that returns the next element in the container\n",
    "* an `__iter__` method that just returns the object itself (the iterator object)"
   ]
  },
  {
   "cell_type": "markdown",
   "id": "27c0877e-af93-44f1-8279-5cf41e3cae9f",
   "metadata": {},
   "source": [
    "The drawback is that iterators get **exhausted**, and when this happens, the **iterator is a useless, throwaway object**. This means we have to create a new iterator every time we want to use a new iteration over the collection - can we somehow avoid having to remember to do that every time?\n",
    "\n",
    "Let's break down the iterator into two distinct things:\n",
    "\n",
    "1. The collection (container) of items/elements/marbles in a bag.\n",
    "2. A method to iterate over the collection.\n",
    "\n",
    "Why should we have to recreate the collection (1.) just to iterate over them again?\n",
    "\n",
    "So if we separate our iterator into these two parts, then we should have:\n",
    "\n",
    "1. A separate iterator object (which will always be a throwaway object - there's no escaping that), **created every time we need to start a fresh iteration**.\n",
    "2. A collection which is iterable and **only created once**. This will be used to maintain/mutate our data so it may have `append`,`pop` methods, etc.\n",
    "\n",
    "In this case, the iterator is responsible for iterating over the collection."
   ]
  },
  {
   "cell_type": "markdown",
   "id": "58d4f61d-aa37-4dcd-a905-831ff51761d5",
   "metadata": {},
   "source": [
    "**Example**\n",
    "\n",
    "Let's look at an example where we break up the iterator into a collection and an iterator object.\n",
    "\n",
    "Firstly, the unseparated version:"
   ]
  },
  {
   "cell_type": "code",
   "execution_count": 1,
   "id": "a5c391e9-3118-42a9-81a3-236be9d7f0d4",
   "metadata": {},
   "outputs": [],
   "source": [
    "class Cities:\n",
    "    def __init__(self):\n",
    "        self._cities = ['Paris', 'Berlin', 'Rome', 'Madrid', 'London']\n",
    "        self._index = 0\n",
    "    \n",
    "    def __iter__(self):\n",
    "        return self\n",
    "    \n",
    "    def __next__(self):\n",
    "        if self._index >= len(self._cities):\n",
    "            raise StopIteration\n",
    "        else:\n",
    "            item = self._cities[self._index]\n",
    "            self._index += 1\n",
    "            return item"
   ]
  },
  {
   "cell_type": "markdown",
   "id": "8ef1f714-2665-47d3-8a81-db5199058d2b",
   "metadata": {},
   "source": [
    "Now let's break it up. Remember, our `_cities` list object may contain millions of data points or be pulled from an API which may take a long time so we can see why it would be wasteful to have to create a new instance of `Cities` every time our iterator gets exhausted. "
   ]
  },
  {
   "cell_type": "code",
   "execution_count": 5,
   "id": "8f72fcac-855e-44b8-bff4-17d0a5426cc7",
   "metadata": {},
   "outputs": [],
   "source": [
    "class Cities:\n",
    "    def __init__(self):\n",
    "        self._cities = ['New York', 'Newark', 'New Delhi', 'Newcastle']\n",
    "        \n",
    "    def __len__(self):\n",
    "        return len(self._cities)"
   ]
  },
  {
   "cell_type": "markdown",
   "id": "8f812804-f303-4d60-9064-82d9be932519",
   "metadata": {},
   "source": [
    "And let's create our iterator this way:"
   ]
  },
  {
   "cell_type": "code",
   "execution_count": 4,
   "id": "9cb3251f-494a-4b2e-a98c-e24ea7b3b9a7",
   "metadata": {
    "tags": []
   },
   "outputs": [],
   "source": [
    "# container part\n",
    "class Cities:\n",
    "    def __init__(self):\n",
    "        self._cities = ['New York', 'Newark', 'New Delhi', 'Newcastle']\n",
    "        \n",
    "    def __len__(self):\n",
    "        return len(self._cities)\n",
    "\n",
    "# iterator part\n",
    "class CityIterator:\n",
    "    def __init__(self, city_obj):\n",
    "        # cities is an instance of Cities\n",
    "        self._city_obj = city_obj\n",
    "        self._index = 0\n",
    "        \n",
    "    def __iter__(self):\n",
    "        return self\n",
    "    \n",
    "    def __next__(self):\n",
    "        if self._index >= len(self._city_obj):\n",
    "            raise StopIteration\n",
    "        else:\n",
    "            item = self._city_obj._cities[self._index]\n",
    "            self._index += 1\n",
    "            return item"
   ]
  },
  {
   "cell_type": "markdown",
   "id": "47a44818-b03c-4aa6-b194-589475e8f800",
   "metadata": {},
   "source": [
    "1. So now we can create our `Cities` instance **once** to generate a container of all our data elements (perhaps from an API).\n",
    "2. Then, we create our iterator instance and pass it the **instance** of our collection of our objects.\n",
    "3. Then, we can use the iterator to iterate through our collection of objects using a `for` loop for example. But once the loop terminates, our `city_iterator` is an exhausted, throwaway object. \n"
   ]
  },
  {
   "cell_type": "code",
   "execution_count": 52,
   "id": "339a4813-319b-4a04-952a-48792b19ccd5",
   "metadata": {
    "tags": []
   },
   "outputs": [
    {
     "name": "stdout",
     "output_type": "stream",
     "text": [
      "New York\n",
      "Newark\n",
      "New Delhi\n",
      "Newcastle\n"
     ]
    }
   ],
   "source": [
    "cities = Cities()\n",
    "city_iterator = CityIterator(cities)\n",
    "\n",
    "for item in city_iterator:\n",
    "    print(item)"
   ]
  },
  {
   "cell_type": "markdown",
   "id": "b42e7903-f959-47f3-93ee-c4df905de81d",
   "metadata": {},
   "source": [
    "It would be nice if we didn't have to manually create a new iterator every time. \n",
    "\n",
    "This is where the **formal definition of a Python iterable** comes in..."
   ]
  },
  {
   "cell_type": "markdown",
   "id": "19a2fda1-bd03-412c-8681-18376a0ef302",
   "metadata": {},
   "source": [
    "**An iterable is a Python object that implements the iterable protocol. The iterable protocol requires that the object implements a single method: `__iter__`. This method returns a *new instance of the iterator object* which is used to iterate over the iterable.**"
   ]
  },
  {
   "cell_type": "markdown",
   "id": "f5861971-a254-4926-9cc5-8d183b79decc",
   "metadata": {},
   "source": [
    "#### Making an Iterable"
   ]
  },
  {
   "cell_type": "markdown",
   "id": "7810dab2-0aef-465b-bded-b7682b87c979",
   "metadata": {},
   "source": [
    "Let's quickly paste in from above our iterator which will be used by our iterable."
   ]
  },
  {
   "cell_type": "code",
   "execution_count": 5,
   "id": "6017c4d2-382f-477d-b691-f2b947b9f339",
   "metadata": {},
   "outputs": [],
   "source": [
    "class CityIterator:\n",
    "    def __init__(self, city_obj):\n",
    "        # cities is an instance of Cities\n",
    "        self._city_obj = city_obj\n",
    "        self._index = 0\n",
    "        \n",
    "    def __iter__(self):\n",
    "        return self\n",
    "    \n",
    "    def __next__(self):\n",
    "        if self._index >= len(self._city_obj):\n",
    "            raise StopIteration\n",
    "        else:\n",
    "            item = self._city_obj._cities[self._index]\n",
    "            self._index += 1\n",
    "            return item"
   ]
  },
  {
   "cell_type": "markdown",
   "id": "00c5b126-9ebc-472b-a1e8-c2400519ca50",
   "metadata": {},
   "source": [
    "So let's make our `Cities` instance a formal **iterable** by adding `__iter__` which returns a **new instance** of the iterator object."
   ]
  },
  {
   "cell_type": "code",
   "execution_count": 1,
   "id": "b1a3870b-6aef-4749-81dc-a1f96f864077",
   "metadata": {},
   "outputs": [],
   "source": [
    "class Cities:\n",
    "    def __init__(self):\n",
    "        self._cities = ['New York', 'Newark', 'New Delhi', 'Newcastle']\n",
    "        \n",
    "    def __len__(self):\n",
    "        return len(self._cities)\n",
    "    \n",
    "    def __iter__(self):\n",
    "        return CityIterator(self)     "
   ]
  },
  {
   "cell_type": "markdown",
   "id": "ecf559ec-e66a-4c04-9975-ba3138bfa591",
   "metadata": {},
   "source": [
    "Don't let the `self` in `return CityIterator(self)` fool you into thinking that, since we are returning `self`, `cities` must be an iterator. Why? \n",
    "\n",
    "Because, we start with a `Cities` instance called `cities`. Since we've fulfilled the protocol requirements, when we call `iter(cities)`, we return a **new instance** of an iterator."
   ]
  },
  {
   "cell_type": "markdown",
   "id": "0c4d284b-9ad2-46e2-9143-b3cce96b5431",
   "metadata": {},
   "source": [
    "`CityIterator` *is* however an **iterator** because it has implemented **both** `__iter__` and `__next__`. \n",
    "\n",
    "As a result, **iterators are themselves iterables but, they're iterators that *can* become exhausted**. \n",
    "\n",
    "Iterables on the other hand **never become exhausted** because they always return a new iterator that iterates over the original collection.\n",
    "\n",
    "In any case, calling `iter()` on something will **always return an iterator**. "
   ]
  },
  {
   "cell_type": "markdown",
   "id": "33f415f2-725d-4f4e-9080-6eb32957b7a0",
   "metadata": {},
   "source": [
    "**Chronology**\n",
    "\n",
    "When iterating over an **iterable**, Python first:\n",
    "- Calls the `iter()` to obtain an iterator.\n",
    "- Then, it starts iterating over the **iterator** using `next` and `StopIteration`, etc.\n",
    "- After the iteration is complete, if we execute another on another line using a `for` loop, it will work because **iterables never become exhausted**.\n",
    "\n",
    "Here's proof:"
   ]
  },
  {
   "cell_type": "code",
   "execution_count": 7,
   "id": "57ccc2b9-c458-450c-b67c-f1d5687b3e70",
   "metadata": {},
   "outputs": [
    {
     "name": "stdout",
     "output_type": "stream",
     "text": [
      "New York\n",
      "Newark\n",
      "New Delhi\n",
      "Newcastle\n"
     ]
    }
   ],
   "source": [
    "cities = Cities()\n",
    "\n",
    "for city in cities:\n",
    "    print(city)"
   ]
  },
  {
   "cell_type": "code",
   "execution_count": 8,
   "id": "2d6967f3-ad2b-465a-a742-1b987a6aedec",
   "metadata": {},
   "outputs": [
    {
     "name": "stdout",
     "output_type": "stream",
     "text": [
      "New York\n",
      "Newark\n",
      "New Delhi\n",
      "Newcastle\n"
     ]
    }
   ],
   "source": [
    "for city in cities:\n",
    "    print(city)"
   ]
  },
  {
   "cell_type": "markdown",
   "id": "1e3c600d-c06d-44ed-8c5e-8ee6819712b8",
   "metadata": {},
   "source": [
    "Note that every time we execute a `for` loop, we always start off by calling `__iter__`. Updating `CityIterator` with a print statement in `__iter__`, `__init__` and `__next__`, and `Cities` with a print statement in `__iter__` will make that clear:"
   ]
  },
  {
   "cell_type": "code",
   "execution_count": 11,
   "id": "0332b902-ff69-4437-8032-e23398f1af1e",
   "metadata": {},
   "outputs": [],
   "source": [
    "class Cities:\n",
    "    def __init__(self):\n",
    "        self._cities = ['New York', 'Newark', 'New Delhi', 'Newcastle']\n",
    "        \n",
    "    def __len__(self):\n",
    "        return len(self._cities)\n",
    "    \n",
    "    def __iter__(self):\n",
    "        print('Cities __iter__ called')\n",
    "        return CityIterator(self)     "
   ]
  },
  {
   "cell_type": "code",
   "execution_count": 12,
   "id": "8c2501fe-6d4d-4876-bb36-461ba2cffb9d",
   "metadata": {},
   "outputs": [],
   "source": [
    "class CityIterator:\n",
    "    def __init__(self, city_obj):\n",
    "        print('CityIterator object created!')\n",
    "        # city_obj is an instance of Cities\n",
    "        self._city_obj = city_obj\n",
    "        self._index = 0\n",
    "        \n",
    "    def __iter__(self):\n",
    "        print(\"CityIterator __iter__ called\")\n",
    "        return self\n",
    "    \n",
    "    def __next__(self):\n",
    "        print(\"CityIterator __next__ called\")\n",
    "        if self._index >= len(self._city_obj):\n",
    "            raise StopIteration\n",
    "        else:\n",
    "            item = self._city_obj._cities[self._index]\n",
    "            self._index += 1\n",
    "            return item"
   ]
  },
  {
   "cell_type": "markdown",
   "id": "d49ceec5-cc13-43f1-abff-72b5be36a7d5",
   "metadata": {},
   "source": [
    "Now, let's call `__iter__` and then the `for` loop. "
   ]
  },
  {
   "cell_type": "code",
   "execution_count": 18,
   "id": "65d70a62-b63b-406e-b13f-be9a8d7caf33",
   "metadata": {},
   "outputs": [
    {
     "name": "stdout",
     "output_type": "stream",
     "text": [
      "Cities __iter__ called\n",
      "CityIterator object created!\n"
     ]
    }
   ],
   "source": [
    "cities = Cities()\n",
    "\n",
    "city_iter_1 = iter(cities)"
   ]
  },
  {
   "cell_type": "code",
   "execution_count": 19,
   "id": "f8c93ffe-ec0e-4340-8b47-60222a100dda",
   "metadata": {},
   "outputs": [
    {
     "name": "stdout",
     "output_type": "stream",
     "text": [
      "CityIterator __iter__ called\n",
      "CityIterator __next__ called\n",
      "New York\n",
      "CityIterator __next__ called\n",
      "Newark\n",
      "CityIterator __next__ called\n",
      "New Delhi\n",
      "CityIterator __next__ called\n",
      "Newcastle\n",
      "CityIterator __next__ called\n"
     ]
    }
   ],
   "source": [
    "for city in city_iter_1:\n",
    "    print(city)"
   ]
  },
  {
   "cell_type": "markdown",
   "id": "12907f60-a823-4c22-8e23-ec2b19f464ef",
   "metadata": {},
   "source": [
    "Immediately executing a `for` loop tells Python to **always** call the `__iter__` first, expecting an iterator to be returned (it needs a consistent way of ensuring that it's provided an iterator because only iterators implement `__next__`). Then it calls `__next__` on the provided iterator. "
   ]
  },
  {
   "cell_type": "markdown",
   "id": "ef4e344e-1920-4e9b-8506-fa0132539c82",
   "metadata": {},
   "source": [
    "#### Final, Neat Iterator-Iterable Solution"
   ]
  },
  {
   "cell_type": "markdown",
   "id": "4942fd16-643c-4c47-8060-464e81ba3749",
   "metadata": {},
   "source": [
    "To keep things self-contained, we can put the `CityIterator` class within `Cities` and note that `return CityIterator(self)` -> `return self.CityIterator(self)`."
   ]
  },
  {
   "cell_type": "code",
   "execution_count": null,
   "id": "59d32e8f-6a6d-4dc0-b3cc-123d65a2d90f",
   "metadata": {},
   "outputs": [],
   "source": [
    "class Cities:\n",
    "    def __init__(self):\n",
    "        self._cities = ['New York', 'Newark', 'New Delhi', 'Newcastle']\n",
    "        \n",
    "    def __len__(self):\n",
    "        return len(self._cities)\n",
    "    \n",
    "    def __iter__(self):\n",
    "        print('Calling Cities instance __iter__')\n",
    "        return self.CityIterator(self)\n",
    "    \n",
    "    class CityIterator:\n",
    "        def __init__(self, city_obj):\n",
    "            # cities is an instance of Cities\n",
    "            print('Calling CityIterator __init__')\n",
    "            self._city_obj = city_obj\n",
    "            self._index = 0\n",
    "\n",
    "        def __iter__(self):\n",
    "            print('Calling CitiyIterator instance __iter__')\n",
    "            return self\n",
    "\n",
    "        def __next__(self):\n",
    "            print('Calling __next__')\n",
    "            if self._index >= len(self._city_obj):\n",
    "                raise StopIteration\n",
    "            else:\n",
    "                item = self._city_obj._cities[self._index]\n",
    "                self._index += 1\n",
    "                return item"
   ]
  },
  {
   "cell_type": "markdown",
   "id": "081c652b-d5e8-4d43-98b9-6191654328f9",
   "metadata": {},
   "source": [
    "#### Mixing Iterables and Sequences"
   ]
  },
  {
   "cell_type": "markdown",
   "id": "c430166e-b561-4420-844b-9e19fb3b516c",
   "metadata": {},
   "source": [
    "`Cities` is an iterable but not a sequence because we haven't implemented `__getitem__`. Recalling that, if we implement `__getitem__` and use a `for` loop, Python repeatedly calls `__getitem__`. \n",
    "\n",
    "But as we've just seen, every time we call a `for` loop, Python calls `__iter__` to return an iterator, and then repeatedly calls `__next__` until we exhaust the iterator.\n",
    "\n",
    "So which approach does Python take?\n",
    "\n",
    "Let's take the self-contained class above and add `__getitem__` (delegating the responsibilities of slicing and indexing to the underlying list object of our collection), so that our instance is a **sequence and an iterable**:"
   ]
  },
  {
   "cell_type": "code",
   "execution_count": 20,
   "id": "76388ef2-5685-49e8-a5c5-76899f07cce3",
   "metadata": {},
   "outputs": [],
   "source": [
    "class Cities:\n",
    "    def __init__(self):\n",
    "        self._cities = ['New York', 'Newark', 'New Delhi', 'Newcastle']\n",
    "        \n",
    "    def __len__(self):\n",
    "        return len(self._cities)\n",
    "    \n",
    "    def __iter__(self):\n",
    "        print('Calling Cities instance __iter__')\n",
    "        return self.CityIterator(self)\n",
    "    \n",
    "    def __getitem__(self, s):\n",
    "        print('getting item via __getitem__')\n",
    "        return self._cities[s]\n",
    "    \n",
    "    class CityIterator:\n",
    "        def __init__(self, city_obj):\n",
    "            # cities is an instance of Cities\n",
    "            print('Calling CityIterator __init__')\n",
    "            self._city_obj = city_obj\n",
    "            self._index = 0\n",
    "\n",
    "        def __iter__(self):\n",
    "            print('Calling CitiyIterator instance __iter__')\n",
    "            return self\n",
    "\n",
    "        def __next__(self):\n",
    "            print('Calling __next__')\n",
    "            if self._index >= len(self._city_obj):\n",
    "                raise StopIteration\n",
    "            else:\n",
    "                item = self._city_obj._cities[self._index]\n",
    "                self._index += 1\n",
    "                return item"
   ]
  },
  {
   "cell_type": "code",
   "execution_count": 21,
   "id": "c7a88068-fa4a-439e-b4f8-c07388885257",
   "metadata": {},
   "outputs": [
    {
     "name": "stdout",
     "output_type": "stream",
     "text": [
      "Cities __iter__ called\n",
      "CityIterator object created!\n",
      "CityIterator __next__ called\n",
      "New York\n",
      "CityIterator __next__ called\n",
      "Newark\n",
      "CityIterator __next__ called\n",
      "New Delhi\n",
      "CityIterator __next__ called\n",
      "Newcastle\n",
      "CityIterator __next__ called\n"
     ]
    }
   ],
   "source": [
    "for city in cities:\n",
    "    print(city)"
   ]
  },
  {
   "cell_type": "markdown",
   "id": "6bc94860-5c1f-4cf0-8cd3-bd9966159cce",
   "metadata": {},
   "source": [
    "As you can see, **Python prefers the iterator-iterable approach**.\n",
    "\n",
    "So to sum up, when Python wants to loop over some object using `for`, it first checks for `__iter__` by default. If it can't find any, it resorts to a `__getitem__` method.\n",
    "\n",
    "Python's list object has both `__iter__` and `__getitem__` implemented so it prefers to use the `__iter__` protocol."
   ]
  },
  {
   "cell_type": "markdown",
   "id": "94c97c18-d3f0-4851-acf3-6f6e20f9cb0e",
   "metadata": {
    "tags": []
   },
   "source": [
    "# 04 - Example 1 - Consuming Iterators Manually"
   ]
  },
  {
   "cell_type": "markdown",
   "id": "f41613ff-3020-4e59-88bf-a55ca64448df",
   "metadata": {},
   "source": [
    "It can be useful to manually iterate through an iterator using the `next()` function."
   ]
  },
  {
   "cell_type": "markdown",
   "id": "9bb96aed-239e-418e-94a6-2a9bd7630a56",
   "metadata": {},
   "source": [
    "A fairly typical use case for this would be when reading data from a CSV file where you know the first few lines consist of information about the data rather than just the data itself.\n",
    "\n",
    "Let's try this using a CSV file I have saved alongside the Jupyter notebook."
   ]
  },
  {
   "cell_type": "markdown",
   "id": "fe376674-da48-437e-ba89-0ec091fcd3f7",
   "metadata": {},
   "source": [
    "Let's first load the data and see what it looks like:"
   ]
  },
  {
   "cell_type": "code",
   "execution_count": 51,
   "id": "ac09d8ce-2c13-4bdd-a551-16e6cf678a02",
   "metadata": {},
   "outputs": [
    {
     "name": "stdout",
     "output_type": "stream",
     "text": [
      "Car;MPG;Cylinders;Displacement;Horsepower;Weight;Acceleration;Model;Origin\n",
      "\n",
      "STRING;DOUBLE;INT;DOUBLE;DOUBLE;DOUBLE;DOUBLE;INT;CAT\n",
      "\n",
      "Chevrolet Chevelle Malibu;18.0;8;307.0;130.0;3504.;12.0;70;US\n",
      "\n",
      "Buick Skylark 320;15.0;8;350.0;165.0;3693.;11.5;70;US\n",
      "\n",
      "Plymouth Satellite;18.0;8;318.0;150.0;3436.;11.0;70;US\n",
      "\n"
     ]
    }
   ],
   "source": [
    "with open(\"../Section 04 - Iterables and Iterators/cars.csv\") as file:\n",
    "    \n",
    "        for idx, line in enumerate(file):\n",
    "            if idx > 4:\n",
    "                break\n",
    "            \n",
    "            else:\n",
    "                print(line)"
   ]
  },
  {
   "cell_type": "markdown",
   "id": "e261edb5-61f5-40fb-9994-17576b47794a",
   "metadata": {},
   "source": [
    "As we can see, the values are delimited by `;` and the first two lines consist of the column names, and column types.\n",
    "\n",
    "The reason for the spacing between each line is that each line ends with a newline, and our print statement also emits a newline by default. So we'll have to strip those out."
   ]
  },
  {
   "cell_type": "markdown",
   "id": "1f20445c-82d0-4079-b028-d4e9b589e9ac",
   "metadata": {},
   "source": [
    "Here's what we want to do: \n",
    "* read the first line to get the column headers and create a named tuple class\n",
    "* read data types from second line and store this so we can cast the strings we are reading to the correct data type\n",
    "* read the data rows and parse them into a named tuples\n",
    "\n",
    "As we might expect, as we're looping through each row we'll need to have `if` statements to catch and deal with the first two rows independently."
   ]
  },
  {
   "cell_type": "code",
   "execution_count": 52,
   "id": "df9fc930-435a-41a6-90d7-74947829e1f3",
   "metadata": {},
   "outputs": [
    {
     "name": "stdout",
     "output_type": "stream",
     "text": [
      "['Car', 'MPG', 'Cylinders', 'Displacement', 'Horsepower', 'Weight', 'Acceleration', 'Model', 'Origin']\n",
      "['STRING', 'DOUBLE', 'INT', 'DOUBLE', 'DOUBLE', 'DOUBLE', 'DOUBLE', 'INT', 'CAT']\n",
      "['Chevrolet Chevelle Malibu', '18.0', '8', '307.0', '130.0', '3504.', '12.0', '70', 'US']\n",
      "['Buick Skylark 320', '15.0', '8', '350.0', '165.0', '3693.', '11.5', '70', 'US']\n"
     ]
    }
   ],
   "source": [
    "with open(\"../Section 04 - Iterables and Iterators/cars.csv\") as file:\n",
    "    row_index = 0\n",
    "    for line in file:\n",
    "        if row_index == 0:\n",
    "            # header row\n",
    "            headers = line.strip('\\n').split(';')\n",
    "            print(headers)\n",
    "        elif row_index == 1:\n",
    "            # data type row\n",
    "            data_types = line.strip('\\n').split(';')\n",
    "            print(data_types)\n",
    "        else:\n",
    "            # data rows\n",
    "            data = line.strip('\\n').split(';')\n",
    "            print(data)\n",
    "        row_index += 1\n",
    "        \n",
    "        if row_index == 4:\n",
    "            break"
   ]
  },
  {
   "cell_type": "markdown",
   "id": "eca47347-8730-4612-bdf0-6998e2da4ca4",
   "metadata": {},
   "source": [
    "With the code above, we get each row of data as a list whose elements correspond to the data headers if it's the first row, data types if it's the second row, and all other rows are the car data.\n",
    "\n",
    "Just to make our goal clear, let's print out the data types and data below one another:"
   ]
  },
  {
   "cell_type": "code",
   "execution_count": 53,
   "id": "ea278b93-5256-48e0-ac74-edc9ed5e85a7",
   "metadata": {},
   "outputs": [
    {
     "name": "stdout",
     "output_type": "stream",
     "text": [
      "['STRING', 'DOUBLE', 'INT', 'DOUBLE', 'DOUBLE', 'DOUBLE', 'DOUBLE', 'INT', 'CAT']\n",
      "['Chevrolet Chevelle Malibu', '18.0', '8', '307.0', '130.0', '3504.', '12.0', '70', 'US']\n"
     ]
    }
   ],
   "source": [
    "data_types = ['STRING', 'DOUBLE', 'INT', 'DOUBLE', 'DOUBLE', 'DOUBLE', 'DOUBLE', 'INT', 'CAT']\n",
    "data_row = ['Chevrolet Chevelle Malibu', '18.0', '8', '307.0', '130.0', '3504.', '12.0', '70', 'US']\n",
    "\n",
    "print(data_types)\n",
    "print(data_row)"
   ]
  },
  {
   "cell_type": "markdown",
   "id": "1a1e1fad-77a9-4310-ac7a-9a57700e338b",
   "metadata": {},
   "source": [
    "We want to apply the above data type to the below data element-wise. We can do this with the following function and a list comprehension"
   ]
  },
  {
   "cell_type": "code",
   "execution_count": 54,
   "id": "47e13689-ecbb-438e-9a0b-5757053760f3",
   "metadata": {},
   "outputs": [
    {
     "data": {
      "text/plain": [
       "['Chevrolet Chevelle Malibu', 18.0, 8, 307.0, 130.0, 3504.0, 12.0, 70, 'US']"
      ]
     },
     "execution_count": 54,
     "metadata": {},
     "output_type": "execute_result"
    }
   ],
   "source": [
    "def cast(data_type, value):\n",
    "    if data_type == 'DOUBLE':\n",
    "        return float(value)\n",
    "    elif data_type == 'INT':\n",
    "        return int(value)\n",
    "    else:\n",
    "        return str(value)\n",
    "    \n",
    "[cast(data_type, value) for data_type, value in zip(data_types, data_row)]"
   ]
  },
  {
   "cell_type": "markdown",
   "id": "2e2df929-c6d8-4c7a-960c-10b16c77e8a7",
   "metadata": {},
   "source": [
    "As you can see, our data is now in the correct type (float values like 18.0 are actual floats and not strings: '18.0')."
   ]
  },
  {
   "cell_type": "markdown",
   "id": "5a42285f-f51e-41a2-952b-fe2c95f36a77",
   "metadata": {},
   "source": [
    "Our code became really messy with nested `if` statements because we had to deal with the first and second row separately. But, if we convert our `file` iterable into an iterator, we can use `next()` to manually go to the next line. \n",
    "\n",
    "This is good because our iterator is a consumable and we can't go backwards in it, and it also makes our code clean."
   ]
  },
  {
   "cell_type": "code",
   "execution_count": 57,
   "id": "a009470a-0fc3-4ad0-915d-b38baabfb30f",
   "metadata": {},
   "outputs": [
    {
     "data": {
      "text/plain": [
       "Car(Car='Chevrolet Chevelle Malibu', MPG=18.0, Cylinders=8, Displacement=307.0, Horsepower=130.0, Weight=3504.0, Acceleration=12.0, Model=70, Origin='US')"
      ]
     },
     "execution_count": 57,
     "metadata": {},
     "output_type": "execute_result"
    }
   ],
   "source": [
    "from collections import namedtuple\n",
    "cars = []\n",
    "\n",
    "def cast(data_type, value):\n",
    "    if data_type == 'DOUBLE':\n",
    "        return float(value)\n",
    "    elif data_type == 'INT':\n",
    "        return int(value)\n",
    "    else:\n",
    "        return str(value)\n",
    "\n",
    "def cast_row(data_types, data_row):\n",
    "    return [cast(data_type, value) for data_type, value in zip(data_types, data_row)]\n",
    "            \n",
    "\n",
    "with open(\"../Section 04 - Iterables and Iterators/cars.csv\") as file:\n",
    "    \n",
    "    file_iter = iter(file)  \n",
    "    \n",
    "    headers = next(file_iter).strip('\\n').split(';')      # get 0th row\n",
    "    Car = namedtuple('Car', headers)\n",
    "    \n",
    "    data_types = next(file_iter).strip('\\n').split(';')   # get 1st row\n",
    "    \n",
    "    for line in file_iter:\n",
    "        data = line.strip('\\n').split(';')\n",
    "        data = cast_row(data_types, data)\n",
    "        car = Car(*data)\n",
    "        cars.append(car)\n",
    "\n",
    "cars[0]"
   ]
  },
  {
   "cell_type": "markdown",
   "id": "254b79f9-c00d-4528-a798-622c1ffa32f6",
   "metadata": {},
   "source": [
    "This approach is fine, but if we wanted we could clean things up a little bit more. \n",
    "\n",
    "If you noticed, we have an empty `cars` list defined outside and we append to it from the inside. We can replace that with a list comprehension. In the full notes, he shortens the code down significantly with two list comprehensions but it becomes quite unreadable, so I've left it out here."
   ]
  },
  {
   "cell_type": "markdown",
   "id": "0108cb1c-2563-4ca2-9c56-4b82494d6aac",
   "metadata": {},
   "source": [
    "# 05 - Example 2 - Cyclic Iterators"
   ]
  },
  {
   "cell_type": "markdown",
   "id": "dcf7432f-2c14-4eca-8446-f630e5471acf",
   "metadata": {},
   "source": [
    "Here's an example - suppose we have a loop that iterates over some range of integers. As we loop through those integers we want to create a tuple containing the integer and a string that cycles over a finite set (smaller than the list of integers).\n",
    "\n",
    "```\n",
    "1, 2, 3, 4, 5, 6, 7, 8, 9, ...\n",
    "\n",
    "N, S, W, E\n",
    "```\n",
    "\n",
    "and we want to generate\n",
    "\n",
    "```\n",
    "1N, 2S, 3W, 4E, 5N, 6S, 7W, 8E, 9N, ...\n",
    "```\n"
   ]
  },
  {
   "cell_type": "markdown",
   "id": "a6388b0b-80d8-4285-8e42-23af213119e6",
   "metadata": {},
   "source": [
    "We could do it this way by creating a custom iterator for the list `['N', 'S', 'W', 'E']` that will cycle over that list indefinitely:"
   ]
  },
  {
   "cell_type": "code",
   "execution_count": 2,
   "id": "786f9243-5f93-42da-9869-45fd8258e98a",
   "metadata": {},
   "outputs": [],
   "source": [
    "class CyclicIterator:\n",
    "    def __init__(self, lst):\n",
    "        self.lst = lst\n",
    "        self.i = 0\n",
    "        \n",
    "    def __iter__(self):\n",
    "        return self\n",
    "    \n",
    "    def __next__(self):\n",
    "        result = self.lst[self.i % len(self.lst)]\n",
    "        self.i += 1\n",
    "        return result"
   ]
  },
  {
   "cell_type": "code",
   "execution_count": 3,
   "id": "0b1707a7-d03d-4dae-b068-85d49214a1a3",
   "metadata": {},
   "outputs": [],
   "source": [
    "iter_cycl = CyclicIterator('NSWE')"
   ]
  },
  {
   "cell_type": "code",
   "execution_count": 4,
   "id": "dca5021d-2d21-4be8-9513-044730a17044",
   "metadata": {},
   "outputs": [
    {
     "name": "stdout",
     "output_type": "stream",
     "text": [
      "N\n",
      "S\n",
      "W\n",
      "E\n",
      "N\n",
      "S\n",
      "W\n",
      "E\n",
      "N\n",
      "S\n"
     ]
    }
   ],
   "source": [
    "for i in range(10):\n",
    "    print(next(iter_cycl))"
   ]
  },
  {
   "cell_type": "markdown",
   "id": "572aa3e9-6734-4a26-9ff2-021c116d108b",
   "metadata": {},
   "source": [
    "Of course, there's an easy alternative way to do this as well, using:\n",
    "* repetition\n",
    "* zip\n",
    "* a list comprehension"
   ]
  },
  {
   "cell_type": "markdown",
   "id": "c9e09798-a35f-4dac-9403-a412766b4618",
   "metadata": {},
   "source": [
    "We need to repeat the array ['N', 'S', 'W', 'E'] for as many times as we have elements in our range of integers - we can even create way more than we need - because when we `zip` it up with the range of integers, the smallest length iterable will be used:"
   ]
  },
  {
   "cell_type": "code",
   "execution_count": 6,
   "id": "dad78d69-86ff-4c4a-8e12-97bc708a66dd",
   "metadata": {},
   "outputs": [
    {
     "data": {
      "text/plain": [
       "[(1, 'W'),\n",
       " (2, 'E'),\n",
       " (3, 'N'),\n",
       " (4, 'S'),\n",
       " (5, 'W'),\n",
       " (6, 'E'),\n",
       " (7, 'N'),\n",
       " (8, 'S'),\n",
       " (9, 'W')]"
      ]
     },
     "execution_count": 6,
     "metadata": {},
     "output_type": "execute_result"
    }
   ],
   "source": [
    "numbers = range(1, 10)\n",
    "iter_cycle = CyclicIterator('NSWE')\n",
    "\n",
    "sol = zip(list(numbers), iter_cycl)\n",
    "\n",
    "list(sol)"
   ]
  },
  {
   "cell_type": "markdown",
   "id": "1e410c26-c562-4af9-8a31-0a98aa0613d4",
   "metadata": {},
   "source": [
    "Here's a solution that doesn't use zip:"
   ]
  },
  {
   "cell_type": "code",
   "execution_count": 23,
   "id": "c7baec12-449c-4026-8f1d-4151ebc19ad2",
   "metadata": {},
   "outputs": [
    {
     "data": {
      "text/plain": [
       "['1N', '2S', '3W', '4E', '5N', '6S', '7W', '8E', '9N']"
      ]
     },
     "execution_count": 23,
     "metadata": {},
     "output_type": "execute_result"
    }
   ],
   "source": [
    "n = 10\n",
    "iter_cycl = CyclicIterator('NSWE')\n",
    "\n",
    "[str(i) + next(iter_cycl) for i in range(1, n)]"
   ]
  },
  {
   "cell_type": "markdown",
   "id": "e6b56f00-1668-40d5-a0f6-38da5206c53c",
   "metadata": {},
   "source": [
    "Here's one that does:"
   ]
  },
  {
   "cell_type": "code",
   "execution_count": 24,
   "id": "b324a26e-90d7-44b5-b97c-87c143c9f61d",
   "metadata": {},
   "outputs": [
    {
     "data": {
      "text/plain": [
       "['1N', '2S', '3W', '4E', '5N', '6S', '7W', '8E', '9N']"
      ]
     },
     "execution_count": 24,
     "metadata": {},
     "output_type": "execute_result"
    }
   ],
   "source": [
    "n = 10\n",
    "iter_cycl = CyclicIterator('NSWE')\n",
    "\n",
    "[str(number)+direction for number, direction in zip(range(1, n), iter_cycl)]"
   ]
  },
  {
   "cell_type": "markdown",
   "id": "6937762c-a05f-4202-9407-b8f846ddcb40",
   "metadata": {},
   "source": [
    "There's actually an even easier way yet, and that's to use our `CyclicIterator`, but instead of building it ourselves, we can simply use the one provided by Python in the standard library!!"
   ]
  },
  {
   "cell_type": "code",
   "execution_count": 25,
   "id": "3c7b4d48-abc9-4998-8b09-7591673bec5d",
   "metadata": {},
   "outputs": [
    {
     "data": {
      "text/plain": [
       "['1N', '2S', '3W', '4E', '5N', '6S', '7W', '8E', '9N']"
      ]
     },
     "execution_count": 25,
     "metadata": {},
     "output_type": "execute_result"
    }
   ],
   "source": [
    "import itertools\n",
    "\n",
    "n = 10\n",
    "iter_cycl = itertools.cycle('NSWE')\n",
    "[str(number)+direction for number, direction in zip(range(1, n), iter_cycl)]"
   ]
  },
  {
   "cell_type": "markdown",
   "id": "6be6b2dd-f416-4aad-a452-a409bddbcf04",
   "metadata": {},
   "source": [
    "`itertools.cycle` is an iterator that takes an iterable (not just a sequence like our `CyclicIterator`) which can be looped through indefinitely using `next()`."
   ]
  },
  {
   "cell_type": "markdown",
   "id": "c8f4a5c8-867f-4966-893b-8df991bff051",
   "metadata": {},
   "source": [
    "# 06 - Lazy Iterables"
   ]
  },
  {
   "cell_type": "markdown",
   "id": "3b626a21-14eb-41ae-9164-ae81176dcd97",
   "metadata": {},
   "source": [
    "An iterable is an object that can return an iterator (`__iter__`).\n",
    "\n",
    "In turn an iterator is an object that can return itself (`__iter__`), and return the next value when asked (`__next__`).\n",
    "\n",
    "Nothing in all this says that the iterable needs to be a finite collection, or that the elements in the iterable need to be materialized (pre-created) at the time the iterable / iterator is created."
   ]
  },
  {
   "cell_type": "markdown",
   "id": "5b83866c-69a4-467b-bbd9-6066014a7537",
   "metadata": {},
   "source": [
    "Lazy evaluation is when evaluating a value is deferred until it is actually requested.\n",
    "\n",
    "It is not specific to iterables however.\n",
    "\n",
    "Simple examples of lazy evaluation are often seen in classes for calculated properties. \n",
    "For example:"
   ]
  },
  {
   "cell_type": "code",
   "execution_count": null,
   "id": "e5eb08bf-d561-4385-b505-1d6aba2adc13",
   "metadata": {},
   "outputs": [],
   "source": [
    "class Actor:\n",
    "    def __init__(self, actor_id):\n",
    "        self.actor_id = actor_id\n",
    "        self.movies = None\n",
    "\n",
    "    @property\n",
    "    def movies(self):\n",
    "        if self.movies is None:\n",
    "            self.movies = lookup_movies_in_db(self.actor_id)\n",
    "        return self.movies"
   ]
  },
  {
   "cell_type": "markdown",
   "id": "a1c8da13-93d9-4300-a3cf-f3d0d70f41bc",
   "metadata": {},
   "source": [
    "The movies of the actor is not calculated until it is requested via the property. Another example is that websites do not show all posts immediately; they will show a batch and only show the next batch once the first batch has been consumed."
   ]
  },
  {
   "cell_type": "markdown",
   "id": "54f47370-ff5a-4a64-849e-658b3f5e6676",
   "metadata": {},
   "source": [
    "#### Example 1 - Circle"
   ]
  },
  {
   "cell_type": "markdown",
   "id": "cb5b2f5b-0039-410a-8cc0-1387f82c55eb",
   "metadata": {},
   "source": [
    "Let's look at a proper example of a lazy class property:"
   ]
  },
  {
   "cell_type": "code",
   "execution_count": 31,
   "id": "967793d7-e680-4429-b414-5373db37b0ab",
   "metadata": {},
   "outputs": [],
   "source": [
    "import math\n",
    "\n",
    "class Circle:\n",
    "    def __init__(self, r):\n",
    "        self.radius = r\n",
    "        \n",
    "    @property\n",
    "    def radius(self):\n",
    "        return self._radius\n",
    "    \n",
    "    @radius.setter\n",
    "    def radius(self, r):\n",
    "        self._radius = r\n",
    "        self.area = math.pi * r**2"
   ]
  },
  {
   "cell_type": "markdown",
   "id": "6b24ecaf-d0fe-48d3-86a5-00b0e3a1b440",
   "metadata": {},
   "source": [
    "First note:\n",
    "\n",
    "`self.radius = r` in the `__init__` is fine; it's calling the setter attribute under `@radius.setter`. We don't have a `self._radius` in the `__init__` but that's okay because we can easily access it via the proper or setter."
   ]
  },
  {
   "cell_type": "markdown",
   "id": "4c94e3a2-f77b-4404-9ffd-93217b4f0221",
   "metadata": {},
   "source": [
    "As you can see, in this circle class, every time we set the radius, we re-calculate and store the area. When we request the area of the circle, we simply return the stored value."
   ]
  },
  {
   "cell_type": "code",
   "execution_count": 32,
   "id": "eb9ffdd1-a8c9-4a83-b7dd-7a3742274f89",
   "metadata": {},
   "outputs": [
    {
     "data": {
      "text/plain": [
       "(1, 3.141592653589793)"
      ]
     },
     "execution_count": 32,
     "metadata": {},
     "output_type": "execute_result"
    }
   ],
   "source": [
    "c = Circle(1)\n",
    "\n",
    "(c.radius, c.area)"
   ]
  },
  {
   "cell_type": "markdown",
   "id": "97162c33-faa2-4431-b36b-4966d3662941",
   "metadata": {},
   "source": [
    "This is not lazy as we are storing the value of the area before we actually need it. We also don't want an approach that calculates the area every time we request it. \n",
    "\n",
    "So, we need a middle-ground:"
   ]
  },
  {
   "cell_type": "code",
   "execution_count": 34,
   "id": "068d6ba4-b267-499d-a667-47cc90a7e1df",
   "metadata": {},
   "outputs": [],
   "source": [
    "class Circle:\n",
    "    def __init__(self, r):\n",
    "        self.radius = r\n",
    "        \n",
    "    @property\n",
    "    def radius(self):\n",
    "        return self._radius\n",
    "    \n",
    "    @radius.setter\n",
    "    def radius(self, r):\n",
    "        self._radius = r\n",
    "        self._area = None\n",
    "\n",
    "    @property\n",
    "    def area(self):\n",
    "        if self._area is None:\n",
    "            print('Calculating area...')\n",
    "            self._area = math.pi * self.radius ** 2\n",
    "        return self._area"
   ]
  },
  {
   "cell_type": "code",
   "execution_count": 37,
   "id": "cbebe94e-c464-45b8-bb54-4b908b11f6d0",
   "metadata": {},
   "outputs": [
    {
     "name": "stdout",
     "output_type": "stream",
     "text": [
      "Calculating area...\n",
      "3.141592653589793\n",
      "3.141592653589793\n",
      "\n",
      "Calculating area...\n",
      "12.566370614359172\n"
     ]
    }
   ],
   "source": [
    "c = Circle(1)\n",
    "\n",
    "print(c.area)\n",
    "print(c.area)\n",
    "print('')\n",
    "c.radius = 2\n",
    "print(c.area)"
   ]
  },
  {
   "cell_type": "markdown",
   "id": "0c27c12f-41d0-47a7-bac5-031dcf7e0343",
   "metadata": {},
   "source": [
    "Looking at:\n",
    "\n",
    "```\n",
    "    @radius.setter\n",
    "    def radius(self, r):\n",
    "        self._radius = r\n",
    "        self._area = None\n",
    "```\n",
    "\n",
    "What we do to the `self._area` property is called 'invalidating the property'. Since the value of `_area` is invalid once a new radius has been set, we need to reflect that by setting its value to `None`."
   ]
  },
  {
   "cell_type": "markdown",
   "id": "b10c0275-1d46-4e3e-a390-27ab58b103bf",
   "metadata": {},
   "source": [
    "dsads"
   ]
  },
  {
   "cell_type": "markdown",
   "id": "b8513a28-1822-44df-8a19-5f710439efa5",
   "metadata": {},
   "source": [
    "#### Example 2 - Factorials"
   ]
  },
  {
   "cell_type": "code",
   "execution_count": 10,
   "id": "a46004c3-98ea-402c-8002-a1937ac03688",
   "metadata": {},
   "outputs": [],
   "source": [
    "class Factorials:\n",
    "    def __iter__(self):\n",
    "        return self.FactIter()\n",
    "    \n",
    "    class FactIter:\n",
    "        def __init__(self):\n",
    "            self.i = 0\n",
    "            \n",
    "        def __iter__(self):\n",
    "            return self\n",
    "        \n",
    "        def __next__(self):\n",
    "            result = math.factorial(self.i)\n",
    "            self.i += 1\n",
    "            return result"
   ]
  },
  {
   "cell_type": "code",
   "execution_count": 59,
   "id": "5e66f083-7745-48ef-a8c5-2771d1ca895e",
   "metadata": {},
   "outputs": [
    {
     "name": "stdout",
     "output_type": "stream",
     "text": [
      "1\n",
      "1\n",
      "2\n",
      "6\n",
      "24\n",
      "120\n",
      "720\n",
      "5040\n",
      "40320\n",
      "362880\n"
     ]
    }
   ],
   "source": [
    "factorials = Factorials()\n",
    "fact_iter = iter(factorials)\n",
    "\n",
    "for _ in range(10):\n",
    "    print(next(fact_iter))"
   ]
  },
  {
   "cell_type": "markdown",
   "id": "678101b2-d41d-469d-b945-da276409d725",
   "metadata": {},
   "source": [
    "You'll notice that the main part of the iterable code is in the iterator, and the iterable itself is nothing more than a thin shell that allows us to create and access the iterator. This is so common, that there is a better way of doing this that we'll see when we deal with generators."
   ]
  },
  {
   "cell_type": "markdown",
   "id": "66638db4-2493-4e75-a4c4-6915a223742a",
   "metadata": {},
   "source": [
    "Also, remember that `factorials` is an iterable so if loop through it using a `for` loop, we will first execute `__iter__` and expect an iterator. Then, we will call `__next__` on that iterator until we exhaust it. We can't exhaust our iterator in this situation as the iterable is infinite, so we'll just `break` for convenience."
   ]
  },
  {
   "cell_type": "code",
   "execution_count": 60,
   "id": "374c0aba-3f84-4c50-b1ec-242798725668",
   "metadata": {},
   "outputs": [
    {
     "name": "stdout",
     "output_type": "stream",
     "text": [
      "1\n",
      "1\n",
      "2\n",
      "6\n",
      "24\n",
      "120\n"
     ]
    }
   ],
   "source": [
    "factorials = Factorials()\n",
    "\n",
    "for _ in factorials:\n",
    "    print(_)\n",
    "    if _ == 120:\n",
    "        break"
   ]
  },
  {
   "cell_type": "markdown",
   "id": "560790ba-7d3c-4f4c-8999-9633fb4f5477",
   "metadata": {},
   "source": [
    "But we can't call `next()` on `factorials` itself because it's an iterable, not an iterator - we haven't implemented `__next__`."
   ]
  },
  {
   "cell_type": "markdown",
   "id": "5e910abc-65e1-443c-9a6b-7bd51b2be765",
   "metadata": {},
   "source": [
    "# 07 - Python's Built-In Iterables and Iterators"
   ]
  },
  {
   "cell_type": "markdown",
   "id": "0138734c-9316-40a5-89c8-74807185828d",
   "metadata": {},
   "source": [
    "We should always be aware of whether we are dealing with an iterable or an iterator. Why?\n",
    "\n",
    "- If an object is an **iterable** (but not an iterator), you can iterate over it many times, because it calls a new iterator every time.\n",
    "- If an object is an **iterator**, you can only iterate over it once, because it returns itself an eventually exhausts itself."
   ]
  },
  {
   "cell_type": "markdown",
   "id": "4b28a406-15ee-461b-904f-81f64f478b1b",
   "metadata": {},
   "source": [
    "Here are some inbuilts that we've been dealing with:\n",
    "\n",
    "- `range(10)` -> iterable\n",
    "- `zip(l1, l2)` -> iterator\n",
    "- `enumerate(l1)` -> iterator\n",
    "- `open('cars.csv')` -> iterator\n",
    "- `my_dict.keys()` -> iterable\n",
    "- `my_dict.values()` -> iterable\n",
    "- `my_dict.items()` -> iterable"
   ]
  },
  {
   "cell_type": "markdown",
   "id": "13f9e9e9-ebbd-4271-b17f-36febbdd9661",
   "metadata": {},
   "source": [
    "Here's proof on the first two:"
   ]
  },
  {
   "cell_type": "code",
   "execution_count": 88,
   "id": "30b5adbd-6efd-4f04-8d96-3ec70e4e8276",
   "metadata": {},
   "outputs": [
    {
     "name": "stdout",
     "output_type": "stream",
     "text": [
      "[0, 1, 2, 3, 4, 5, 6, 7, 8, 9]\n",
      "[0, 1, 2, 3, 4, 5, 6, 7, 8, 9]\n"
     ]
    }
   ],
   "source": [
    "my_range = range(10)\n",
    "print(list(my_range))\n",
    "print(list(my_range))"
   ]
  },
  {
   "cell_type": "code",
   "execution_count": 89,
   "id": "933693e2-1d2a-4c48-9da3-14dafb7c7f7c",
   "metadata": {},
   "outputs": [
    {
     "name": "stdout",
     "output_type": "stream",
     "text": [
      "[(1, 'a'), (2, 'b'), (3, 'c')]\n",
      "[]\n"
     ]
    }
   ],
   "source": [
    "l1 = [1, 2, 3]\n",
    "l2 = 'abc'\n",
    "my_zip = zip(l1, l2)\n",
    "print(list(my_zip))\n",
    "print(list(my_zip))"
   ]
  },
  {
   "cell_type": "markdown",
   "id": "8ebbe96a-49c7-4e81-b4f6-8a8e6f6d63c1",
   "metadata": {},
   "source": [
    "We can check if something is an iterable/iterator explicitly by using `dir()` which tells us all the attributes of an object. Iterables have `__iter__` only while iterators have `__iter__` and `__next__`"
   ]
  },
  {
   "cell_type": "code",
   "execution_count": 90,
   "id": "83d7309c-f41e-4d5c-9724-7a749da2662c",
   "metadata": {},
   "outputs": [
    {
     "data": {
      "text/plain": [
       "(True, False)"
      ]
     },
     "execution_count": 90,
     "metadata": {},
     "output_type": "execute_result"
    }
   ],
   "source": [
    "r = range(10)\n",
    "'__iter__' in dir(r), '__next__' in dir(r)"
   ]
  },
  {
   "cell_type": "markdown",
   "id": "e6c60410-3403-4eba-a8e2-6e2a7ea83b24",
   "metadata": {},
   "source": [
    "Another way is to check if `iter(object) is object`. \n",
    "\n",
    "If `True`, then it's an iterator because iterators' `__iter__` method always return itself. If `False`, it's an iterable. "
   ]
  },
  {
   "cell_type": "code",
   "execution_count": 97,
   "id": "1e5304a4-cdd4-43ea-981b-14b061e30436",
   "metadata": {},
   "outputs": [
    {
     "data": {
      "text/plain": [
       "False"
      ]
     },
     "execution_count": 97,
     "metadata": {},
     "output_type": "execute_result"
    }
   ],
   "source": [
    "iter(r) is r"
   ]
  },
  {
   "cell_type": "markdown",
   "id": "7d2061f6-9258-442f-ae67-71303612ad11",
   "metadata": {},
   "source": [
    "#### cars csv Example"
   ]
  },
  {
   "cell_type": "markdown",
   "id": "b8481c4e-d686-4fab-8990-8206b2db5e08",
   "metadata": {},
   "source": [
    "Consider this example, where we want to find out all the different origins in the file (last column of each row) - let's do this using both approaches.\n",
    "\n",
    "Remeber `f` (i.e. `open('cars.csv')`) is an iterator which means it has a number of elements that can be evaluated sequentially with `next()`. In this case, each element is a string that looks something like:\n",
    "\n",
    "```'Honda Civic 1500 gl;44.6;4;91.00;67.00;1850.;13.8;80;Japan\\n',```\n",
    "\n",
    "We want to extract the origin (Japan in the above case).\n",
    "\n",
    "Here are two approaches:"
   ]
  },
  {
   "cell_type": "code",
   "execution_count": 98,
   "id": "425863cc-1aae-4700-9c30-fc815de8a2b3",
   "metadata": {},
   "outputs": [
    {
     "name": "stdout",
     "output_type": "stream",
     "text": [
      "{'US', 'Japan', 'Europe'}\n"
     ]
    }
   ],
   "source": [
    "origins = set()\n",
    "with open(\"../Section 04 - Iterables and Iterators/cars.csv\") as f:\n",
    "    rows = f.readlines()\n",
    "for row in rows[2:]:\n",
    "    origin = row.strip('\\n').split(';')[-1]\n",
    "    origins.add(origin)\n",
    "print(origins)"
   ]
  },
  {
   "cell_type": "code",
   "execution_count": 99,
   "id": "b0674a97-7811-4166-aeb6-d9b8664743ab",
   "metadata": {},
   "outputs": [
    {
     "name": "stdout",
     "output_type": "stream",
     "text": [
      "{'US', 'Japan', 'Europe'}\n"
     ]
    }
   ],
   "source": [
    "origins = set()\n",
    "with open(\"../Section 04 - Iterables and Iterators/cars.csv\") as f:\n",
    "    next(f), next(f)\n",
    "    for row in f:\n",
    "        origin = row.strip('\\n').split(';')[-1]\n",
    "        origins.add(origin)\n",
    "print(origins)"
   ]
  },
  {
   "cell_type": "markdown",
   "id": "cb1af3c5-3970-4184-a228-4900267c5b6e",
   "metadata": {},
   "source": [
    "Now consider the first approach: we loaded the **entire** file into memory (a list), and then iterated through all the rows.\n",
    "\n",
    "But in the second approach, we still iterated through all the rows, but we only need to store **one row** at a time - the overhead was therefore far smaller.\n",
    "\n",
    "Often we can process files one row at a time and loading the entire file first, especially for huge files, is not always desirable."
   ]
  },
  {
   "cell_type": "markdown",
   "id": "5ff18a00-be22-4387-8e9b-8083dffb8aee",
   "metadata": {},
   "source": [
    "# 08 - Sorting Iterables"
   ]
  },
  {
   "cell_type": "markdown",
   "id": "037a97b8-6255-4ec9-b3e5-22ab05e947bd",
   "metadata": {},
   "source": [
    "There's nothing really new here - we have seen the `sorted()` function before when we looked at sorting sequences.\n",
    "\n",
    "The `sorted()` function will in fact work with any iterable, not just sequences.\n",
    "\n",
    "Let's try this by creating a custom iterable and then sorting it."
   ]
  },
  {
   "cell_type": "markdown",
   "id": "d8dd75c7-d767-461e-8c50-ce89513300b5",
   "metadata": {},
   "source": [
    "For this example, we'll create an iterable of random numbers, and then sort it."
   ]
  },
  {
   "cell_type": "code",
   "execution_count": 17,
   "id": "52c507cc-2dd0-4d06-bc6f-c2dabc328852",
   "metadata": {},
   "outputs": [],
   "source": [
    "import random\n",
    "\n",
    "class RandomInts:\n",
    "    def __init__(self, length, *, seed=0, lower=0, upper=10):\n",
    "        self.length = length\n",
    "        self.seed = seed\n",
    "        self.lower = lower\n",
    "        self.upper = upper\n",
    "        \n",
    "    def __len__(self):\n",
    "        return self.length\n",
    "    \n",
    "    def __iter__(self):\n",
    "        return self.RandomIterator(self.length, \n",
    "                                   seed = self.seed, \n",
    "                                   lower = self.lower,\n",
    "                                   upper=self.upper)\n",
    "    \n",
    "    \n",
    "    class RandomIterator:\n",
    "        def __init__(self, length, *, seed, lower, upper):\n",
    "            self.length = length\n",
    "            self.lower = lower\n",
    "            self.upper = upper\n",
    "            self.num_requests = 0\n",
    "            random.seed(seed)\n",
    "            \n",
    "        def __iter__(self):\n",
    "            return self\n",
    "        \n",
    "        def __next__(self):\n",
    "            if self.num_requests >= self.length:\n",
    "                raise StopIteration\n",
    "            else:\n",
    "                result = random.randint(self.lower, self.upper)\n",
    "                self.num_requests += 1\n",
    "                return result"
   ]
  },
  {
   "cell_type": "markdown",
   "id": "4043824f-f187-4adf-88dd-cbc9c677d456",
   "metadata": {},
   "source": [
    "We have `random.seed(seed)` instead of `self.seed = random.seed(seed)` because all we want to do is set/reset the seed whenever a new iterator is created. This will take care of that."
   ]
  },
  {
   "cell_type": "code",
   "execution_count": 18,
   "id": "ad785017-5b18-4b69-b9ab-d29c6ca40f51",
   "metadata": {},
   "outputs": [],
   "source": [
    "randoms = RandomInts(4)"
   ]
  },
  {
   "cell_type": "code",
   "execution_count": 19,
   "id": "f9c3945b-beab-4716-b8a1-bd60ed3370c9",
   "metadata": {},
   "outputs": [
    {
     "name": "stdout",
     "output_type": "stream",
     "text": [
      "6\n",
      "6\n",
      "0\n",
      "4\n"
     ]
    }
   ],
   "source": [
    "for num in randoms:\n",
    "    print(num)"
   ]
  },
  {
   "cell_type": "code",
   "execution_count": 20,
   "id": "e9904bf0-549e-44b9-aa67-469a4a910478",
   "metadata": {},
   "outputs": [
    {
     "name": "stdout",
     "output_type": "stream",
     "text": [
      "6\n",
      "6\n",
      "0\n",
      "4\n"
     ]
    }
   ],
   "source": [
    "for num in randoms:\n",
    "    print(num)"
   ]
  },
  {
   "cell_type": "markdown",
   "id": "be3373a7-d802-490a-af99-cee23aaea79b",
   "metadata": {},
   "source": [
    "We will keep getting the same values each time because, when we call the `for` loop, our `__iter__` in `RandInts` is called with a specific seed value. This returns a new iterator, taking in that seed value and upon initialisation, it immediately sets it to that value. "
   ]
  },
  {
   "cell_type": "markdown",
   "id": "fd1d0d8f-9d4f-48f3-867c-d2d869cf4cf5",
   "metadata": {},
   "source": [
    "Now that we have our iterable, we can either iterate through it like above, or we can list them out with `list()`"
   ]
  },
  {
   "cell_type": "code",
   "execution_count": 21,
   "id": "ad809b02-dce5-42d4-b587-8452f449b8d3",
   "metadata": {},
   "outputs": [
    {
     "data": {
      "text/plain": [
       "[0, 4, 6, 6]"
      ]
     },
     "execution_count": 21,
     "metadata": {},
     "output_type": "execute_result"
    }
   ],
   "source": [
    "sorted(randoms)"
   ]
  },
  {
   "cell_type": "markdown",
   "id": "03b03711-1921-49c1-b87c-49221bcb33bc",
   "metadata": {},
   "source": [
    "# 09 - The iter() Function"
   ]
  },
  {
   "cell_type": "markdown",
   "id": "a25d1675-a0fa-4300-8e1c-98b75fe6cb03",
   "metadata": {},
   "source": [
    "When python needs to perform iteration over an iterable, we've seen that it uses the `__iter__` method that returns an iterator. Then, Python calls `__next__` on that newly returned iterator.\n",
    "\n",
    "But Python uses `__iter__` **indirectly**. \n",
    "\n",
    "What it actually does is call the `iter(obj)` function - there's a big difference. Why? \n",
    "\n",
    "This is what Python does when `iter(obj)` is called:\n",
    "\n",
    "- Looks for an `__iter__` method.\n",
    "    - If it's there, it uses it.\n",
    "    - If not,\\\n",
    "          -> look for a `__getitem__` method.\\\n",
    "                  ---> If it's there, **create an iterator object instance** and return that.\\\n",
    "                  ---> If not, raise TypeError exception saying it's not an iterable.\n",
    "\n",
    "\n",
    "\n",
    "\n",
    "\n",
    "Because if the object passed to the `iter()` function only implements `__getitem__` (i.e. a sequence), we *still* get an **iterator** back, even though our sequence class may not have an `__iter__` method.\n",
    "\n",
    "What does that iterator look like? It's basically an instance of the class below:"
   ]
  },
  {
   "cell_type": "code",
   "execution_count": 23,
   "id": "5b641aa6-0639-44e8-994d-4c3b24ed304e",
   "metadata": {},
   "outputs": [],
   "source": [
    "class SeqIterator:\n",
    "    def __init__(self, seq):\n",
    "        self.seq = seq\n",
    "        self.index = 0\n",
    "\n",
    "    def __iter__(self):\n",
    "        return self\n",
    "\n",
    "    def __next__(self):\n",
    "        try: \n",
    "            item = self.seq[self.index]\n",
    "            self.index += 1\n",
    "            return item\n",
    "\n",
    "        except IndexError:\n",
    "            raise StopIteration()"
   ]
  },
  {
   "cell_type": "markdown",
   "id": "f70f5f42-4cfd-4548-a254-ed6b8af1fd12",
   "metadata": {},
   "source": [
    "**Basic Error Handling**"
   ]
  },
  {
   "cell_type": "markdown",
   "id": "86696de4-ee0a-42ab-9f86-f68fe48dea7e",
   "metadata": {},
   "source": [
    "In Python, we have two ways of dealing with ambiguous objects as inputs. \n",
    "\n",
    "The first is to 'ask for permission/ look before you leap' using an `if` and `else` block. For example:\n",
    "\n",
    "```python\n",
    "obj = 100\n",
    "if is_iterable(obj): # not an inbuilt function\n",
    "    for i in obj:\n",
    "        print(i)\n",
    "\n",
    "else:\n",
    "    print('Error: obj is not iterable')\n",
    "```"
   ]
  },
  {
   "cell_type": "markdown",
   "id": "aabce076-f4be-46a7-9d8b-9d7b91a67017",
   "metadata": {},
   "source": [
    "The other is to 'ask for forgiveness' using a `try` and `except`block. For example:\n",
    "\n",
    "```python\n",
    "obj = 100\n",
    "try:\n",
    "    for i in obj:\n",
    "        print(i)\n",
    "\n",
    "except TypeError:\n",
    "    print('Error: obj is not iterable')\n",
    "```"
   ]
  },
  {
   "cell_type": "markdown",
   "id": "b04dd0f0-6311-40ac-adf0-8eb22d2778de",
   "metadata": {},
   "source": [
    "In python, it's recommended that ***it's easier to ask for forgiveness than it is to get permission***."
   ]
  },
  {
   "cell_type": "markdown",
   "id": "5967f0be-b651-4ca0-87e7-dbcfef970eea",
   "metadata": {},
   "source": [
    "# 10 - Iterating Callables"
   ]
  },
  {
   "cell_type": "markdown",
   "id": "79f47dcf-6e19-447f-bc91-a75e072486c0",
   "metadata": {},
   "source": [
    "By **iterating callables**, what we really mean is **iterating over the return values of a callable**.\n",
    "\n",
    "Take a look at the example below:"
   ]
  },
  {
   "cell_type": "code",
   "execution_count": 5,
   "id": "d2dc8e52-c6e6-4558-b717-bcfc37cd6d18",
   "metadata": {},
   "outputs": [
    {
     "name": "stdout",
     "output_type": "stream",
     "text": [
      "5\n",
      "4\n",
      "3\n",
      "2\n",
      "1\n"
     ]
    }
   ],
   "source": [
    "num = 6\n",
    "\n",
    "def countdown():\n",
    "    global num\n",
    "    num -= 1\n",
    "    \n",
    "    return num\n",
    "\n",
    "while True:\n",
    "    val = countdown()\n",
    "    if val == 0:\n",
    "        break\n",
    "    else:\n",
    "        print(val)"
   ]
  },
  {
   "cell_type": "markdown",
   "id": "36e1e7fc-ab6f-41eb-8b91-5089db25be9f",
   "metadata": {},
   "source": [
    "We could approach this in another way by using an iterator. It will need to know two things: the callable function `countdown()` and the **sentinel** value which will result in the `StopIteration` and iterator exhaustion procedure. "
   ]
  },
  {
   "cell_type": "markdown",
   "id": "f5760214-bfff-45b2-8914-95f72c8df86a",
   "metadata": {},
   "source": [
    "A **sentinel value** roughly speaking is a unique placeholder value (singleton objects) that can be used to flag different things. For example, a sentinel-controlled loop is one that terminates when the sentinel value is reached. `None` is a sentinel value."
   ]
  },
  {
   "cell_type": "markdown",
   "id": "e4d2cea5-140f-4d43-9825-9fa69702cdc7",
   "metadata": {},
   "source": [
    "**Second form of the `iter()` function**"
   ]
  },
  {
   "cell_type": "markdown",
   "id": "2dbecd96-3108-4feb-bf20-8bb0e0c57cb1",
   "metadata": {},
   "source": [
    "We saw that `iter()` returns an iterator which leverages either the `__iter__` method (if iterator protocol implemented) or `__getitem__` (if sequence protocol implemented). \n",
    "\n",
    "We can also let it control termination with the sentinel value -> **`iter(callable, sentinel)`**."
   ]
  },
  {
   "cell_type": "markdown",
   "id": "ceed4919-9f51-47c5-992c-a4c4c2620e9f",
   "metadata": {},
   "source": [
    "This will return an **iterator** that will:\n",
    "- call the callable when `next()` is called.\n",
    "- either\n",
    "  - raise `StopIteration`if the result is equal to the **sentinel** value.\n",
    "  - return the result otherwise."
   ]
  },
  {
   "cell_type": "markdown",
   "id": "afb2510f-71e7-4cd5-b181-9ce20e84b742",
   "metadata": {},
   "source": [
    "Before we use this, we'll make our own so we understand how it works."
   ]
  },
  {
   "cell_type": "markdown",
   "id": "68625194-1bab-4e8a-a75d-c090247212ed",
   "metadata": {},
   "source": [
    "##### Example 1"
   ]
  },
  {
   "cell_type": "markdown",
   "id": "60634c05-6b14-4807-ab76-ab01ba5ccc29",
   "metadata": {},
   "source": [
    "**Writing our own `iter()`**\n",
    "\n",
    "In this example we are going to create a counter function (using a closure) - it's a pretty simplistic function - `counter()` will return a closure that we can then call to increment an internal counter by `1` every time it is called:"
   ]
  },
  {
   "cell_type": "code",
   "execution_count": 6,
   "id": "82a9ea4a-ea61-4deb-9b73-4c6769014a6a",
   "metadata": {},
   "outputs": [],
   "source": [
    "def counter():\n",
    "    i = 0\n",
    "    \n",
    "    def inc():\n",
    "        nonlocal i\n",
    "        i += 1\n",
    "        return i\n",
    "    return inc"
   ]
  },
  {
   "cell_type": "markdown",
   "id": "158c822c-5d10-4d90-8400-2b3c70cef64d",
   "metadata": {},
   "source": [
    "**Quick reminder**: We need the `nonlocal` keyword because the `inc()` function contains `i +=1` which is equivalent to `i = i + 1` which is an **assignment, not a reference**. Therefore, python will assume `i` on the RHS (`i + 1`) is local, which raises the Reference before assignment error."
   ]
  },
  {
   "cell_type": "markdown",
   "id": "054fc152-da0d-4e96-ab31-a9b120b0dffc",
   "metadata": {},
   "source": [
    "This function allows us to create a simple counter, which we can use as follows:"
   ]
  },
  {
   "cell_type": "code",
   "execution_count": 10,
   "id": "23d2495e-efb9-4104-93b2-a9b88bd72163",
   "metadata": {},
   "outputs": [
    {
     "name": "stdout",
     "output_type": "stream",
     "text": [
      "1\n",
      "2\n"
     ]
    }
   ],
   "source": [
    "cnt = counter()\n",
    "print(cnt())\n",
    "print(cnt())"
   ]
  },
  {
   "cell_type": "markdown",
   "id": "94ae221d-f1d3-427e-9019-ed7c85096844",
   "metadata": {},
   "source": [
    "But this may not be the best way of doing it. We can instead use an iterator."
   ]
  },
  {
   "cell_type": "code",
   "execution_count": 14,
   "id": "c93d1672-7e6f-4ca3-8a70-67f77eb89b7b",
   "metadata": {},
   "outputs": [],
   "source": [
    "class CounterIterator:\n",
    "    def __init__(self, counter_callable, sentinel):\n",
    "        self.counter_callable = counter_callable\n",
    "        self.sentinel = sentinel\n",
    "        \n",
    "    def __iter__(self):\n",
    "        return self\n",
    "    \n",
    "    def __next__(self):\n",
    "        result = self.counter_callable()\n",
    "        if result == self.sentinel:\n",
    "            raise StopIteration\n",
    "        else:\n",
    "            return result"
   ]
  },
  {
   "cell_type": "code",
   "execution_count": 17,
   "id": "2ab754df-a3f2-454b-a609-c8277fbf6f7b",
   "metadata": {},
   "outputs": [
    {
     "name": "stdout",
     "output_type": "stream",
     "text": [
      "1\n",
      "2\n",
      "3\n",
      "4\n"
     ]
    }
   ],
   "source": [
    "cnt = counter()  # remember this is a callable because cnt returns a function. cnt() is valid and returns a value.\n",
    "cnt_iter = CounterIterator(cnt, sentinel=5)\n",
    "for c in cnt_iter:\n",
    "    print(c)"
   ]
  },
  {
   "cell_type": "markdown",
   "id": "d6342c70-a7ed-4fba-a1d6-a4e345260e04",
   "metadata": {},
   "source": [
    "Everything seems good, except for the fact that the iterator is still *alive*. "
   ]
  },
  {
   "cell_type": "code",
   "execution_count": 18,
   "id": "3e4a2591-a0c4-4eec-89e8-ac362a9c0fae",
   "metadata": {},
   "outputs": [
    {
     "data": {
      "text/plain": [
       "6"
      ]
     },
     "execution_count": 18,
     "metadata": {},
     "output_type": "execute_result"
    }
   ],
   "source": [
    "next(cnt_iter)"
   ]
  },
  {
   "cell_type": "markdown",
   "id": "ee5231bb-c95e-4c40-b2bf-642e7c6e4e39",
   "metadata": {},
   "source": [
    "We need to exhaust/consume the iterator. So, let's make a flag in our iterator class to handle this. But, let's also generalise it away from just 'counters'."
   ]
  },
  {
   "cell_type": "code",
   "execution_count": 21,
   "id": "14477c1a-fa9f-44b4-8eca-60ad00f4df92",
   "metadata": {},
   "outputs": [],
   "source": [
    "class CallableIterator:\n",
    "    def __init__(self, callable_, sentinel):\n",
    "        self.callable_ = callable_\n",
    "        self.sentinel = sentinel\n",
    "        self.is_consumed = False\n",
    "        \n",
    "    def __iter__(self):\n",
    "        return self\n",
    "    \n",
    "    def __next__(self):\n",
    "        if self.is_consumed:\n",
    "            raise StopIteration\n",
    "        else:\n",
    "            result = self.callable_()\n",
    "            if result == self.sentinel:\n",
    "                self.is_consumed = True\n",
    "                raise StopIteration\n",
    "            else:\n",
    "                return result"
   ]
  },
  {
   "cell_type": "markdown",
   "id": "bf094d33-2ad6-47ba-a91c-67632dcdc09e",
   "metadata": {},
   "source": [
    "Now it should behave as a normal iterator that cannot continue iterating once the first `StopIteration` exception has been raised:"
   ]
  },
  {
   "cell_type": "code",
   "execution_count": 22,
   "id": "af676edf-8556-4a2f-b19d-e99bb503dfd4",
   "metadata": {},
   "outputs": [
    {
     "name": "stdout",
     "output_type": "stream",
     "text": [
      "1\n",
      "2\n",
      "3\n",
      "4\n"
     ]
    }
   ],
   "source": [
    "cnt = counter()\n",
    "cnt_iter = CallableIterator(cnt, 5)\n",
    "for c in cnt_iter:\n",
    "    print(c)"
   ]
  },
  {
   "cell_type": "code",
   "execution_count": 23,
   "id": "78b5f167-2623-433c-8d19-b1e33af5874d",
   "metadata": {},
   "outputs": [
    {
     "ename": "StopIteration",
     "evalue": "",
     "output_type": "error",
     "traceback": [
      "\u001b[1;31m---------------------------------------------------------------------------\u001b[0m",
      "\u001b[1;31mStopIteration\u001b[0m                             Traceback (most recent call last)",
      "Cell \u001b[1;32mIn[23], line 1\u001b[0m\n\u001b[1;32m----> 1\u001b[0m \u001b[38;5;28;43mnext\u001b[39;49m\u001b[43m(\u001b[49m\u001b[43mcnt_iter\u001b[49m\u001b[43m)\u001b[49m\n",
      "Cell \u001b[1;32mIn[21], line 12\u001b[0m, in \u001b[0;36mCallableIterator.__next__\u001b[1;34m(self)\u001b[0m\n\u001b[0;32m     10\u001b[0m \u001b[38;5;28;01mdef\u001b[39;00m \u001b[38;5;21m__next__\u001b[39m(\u001b[38;5;28mself\u001b[39m):\n\u001b[0;32m     11\u001b[0m     \u001b[38;5;28;01mif\u001b[39;00m \u001b[38;5;28mself\u001b[39m\u001b[38;5;241m.\u001b[39mis_consumed:\n\u001b[1;32m---> 12\u001b[0m         \u001b[38;5;28;01mraise\u001b[39;00m \u001b[38;5;167;01mStopIteration\u001b[39;00m\n\u001b[0;32m     13\u001b[0m     \u001b[38;5;28;01melse\u001b[39;00m:\n\u001b[0;32m     14\u001b[0m         result \u001b[38;5;241m=\u001b[39m \u001b[38;5;28mself\u001b[39m\u001b[38;5;241m.\u001b[39mcallable_()\n",
      "\u001b[1;31mStopIteration\u001b[0m: "
     ]
    }
   ],
   "source": [
    "next(cnt_iter)"
   ]
  },
  {
   "cell_type": "markdown",
   "id": "2f83a3ca-4747-4bba-878d-ad18634a742e",
   "metadata": {},
   "source": [
    "**Using the inbuilt `iter(callable, sentinel)`**\n",
    "\n",
    "Now, we can do it achieve the same functionality via the inbuilt function:"
   ]
  },
  {
   "cell_type": "code",
   "execution_count": 25,
   "id": "1bdb5672-a1e6-455e-8a70-e2bb0bf7518e",
   "metadata": {},
   "outputs": [
    {
     "name": "stdout",
     "output_type": "stream",
     "text": [
      "1\n",
      "2\n",
      "3\n",
      "4\n"
     ]
    }
   ],
   "source": [
    "cnt = counter()\n",
    "\n",
    "cnt_iter = iter(cnt, 5)\n",
    "\n",
    "for i in cnt_iter:\n",
    "    print(i)"
   ]
  },
  {
   "cell_type": "markdown",
   "id": "366cccb6-8d63-4425-9a15-80cb60688db3",
   "metadata": {},
   "source": [
    "The utility of `iter()` is if you have a callable such that, when called, returns one value after another, you can iterate through it until you reach a desired value.\n",
    "\n",
    "For example, we can generate random values using `random.randint()` until we reach a specific value, but we'll first need to make it a callable using a `lambda`."
   ]
  },
  {
   "cell_type": "code",
   "execution_count": 38,
   "id": "57671db0-9204-4bd5-8032-8f30c177a8dc",
   "metadata": {},
   "outputs": [
    {
     "name": "stdout",
     "output_type": "stream",
     "text": [
      "7\n",
      "8\n",
      "1\n"
     ]
    }
   ],
   "source": [
    "import random\n",
    "\n",
    "rand_iter = iter(lambda: random.randint(0, 10), 5)\n",
    "# random.seed(0)\n",
    "for i in rand_iter:\n",
    "    print(i)"
   ]
  },
  {
   "cell_type": "markdown",
   "id": "807b8208-e639-4ffc-bfff-e51d3055ae76",
   "metadata": {},
   "source": [
    "You can keep calling the code block above to see how many times it takes to reach the sentinel value of 5. You can also uncomment the seed line to make it consistent."
   ]
  },
  {
   "cell_type": "markdown",
   "id": "6d59cdac-8603-460a-bcb5-f7fb85c3f9c5",
   "metadata": {},
   "source": [
    "##### Example 2"
   ]
  },
  {
   "cell_type": "markdown",
   "id": "4d3dbe8e-dd98-41e0-ae74-b05d665a28d6",
   "metadata": {},
   "source": [
    "Here's another quick example of the countdown that uses the closure approach:"
   ]
  },
  {
   "cell_type": "code",
   "execution_count": 56,
   "id": "35be3e75-cd25-4498-ad53-b2b24c2863e9",
   "metadata": {},
   "outputs": [
    {
     "name": "stdout",
     "output_type": "stream",
     "text": [
      "4\n",
      "3\n",
      "2\n",
      "1\n",
      "0\n"
     ]
    }
   ],
   "source": [
    "def countdown(val):\n",
    "\n",
    "    def run():\n",
    "        nonlocal val\n",
    "        val -= 1\n",
    "        return val\n",
    "\n",
    "    return run\n",
    "\n",
    "takeoff = countdown(5)\n",
    "takeoff_iter = iter(takeoff, -1)\n",
    "\n",
    "for i in takeoff_iter:\n",
    "    print(i)"
   ]
  },
  {
   "cell_type": "markdown",
   "id": "17e502e1-85ab-472e-a696-0729184c70aa",
   "metadata": {},
   "source": [
    "**Again, a quick reminder:** We need the `nonlocal` keyword because the `run()` function contains `val -= 1` which is equivalent to `val = val - 1` which is an **assignment, not a reference**. Therefore, python will assume `val` on the RHS (`val - 1`) is local, which raises the Reference before assignment error."
   ]
  },
  {
   "cell_type": "markdown",
   "id": "06ca0f75-2541-4368-a124-12497b1dfb45",
   "metadata": {},
   "source": [
    "# 11 - Delegating Iterators"
   ]
  },
  {
   "cell_type": "markdown",
   "id": "03a596e5-82ab-4b90-816e-6cb606ad81ae",
   "metadata": {},
   "source": [
    "Delegation, as we've seen before, helps by not making us implement methods when they've already been implemented at a lower level which can be leveraged. It's probably easiest to see this with an example:"
   ]
  },
  {
   "cell_type": "code",
   "execution_count": 57,
   "id": "3ddd0fe0-6a49-4e40-8a9f-45576808ec6a",
   "metadata": {},
   "outputs": [],
   "source": [
    "from collections import namedtuple\n",
    "\n",
    "Person = namedtuple('Person', 'first last')\n",
    "\n",
    "class PersonNames:\n",
    "    def __init__(self, persons):\n",
    "        try:\n",
    "            self._persons = [person.first.capitalize()\n",
    "                             + ' ' + person.last.capitalize()\n",
    "                            for person in persons]\n",
    "        except (TypeError, AttributeError):\n",
    "            self._persons = []"
   ]
  },
  {
   "cell_type": "markdown",
   "id": "af009fdf-cab6-4b59-a230-905580d908e6",
   "metadata": {},
   "source": [
    "- `persons` in the `__init__` is meant to be an iterable/list of `Person` objects (named tuples)\n",
    "- We need to catch the `TypeError` if `person` is not an iterable.\n",
    "- We need to catch an `AttributeError` if the `person` named tuple does not have a `.first` or `.last` attribute."
   ]
  },
  {
   "cell_type": "markdown",
   "id": "123facd0-2cf4-4185-9672-48c61a17c91e",
   "metadata": {},
   "source": [
    "In this case of exception, we fail silently for sake of simplicity, but this shouldn't ever be done in practice."
   ]
  },
  {
   "cell_type": "code",
   "execution_count": 62,
   "id": "675efe77-c2a8-41fa-bd0a-3cb38c703b66",
   "metadata": {},
   "outputs": [],
   "source": [
    "persons = [Person('michaeL', 'paLin'), Person('eric', 'idLe'), \n",
    "           Person('john', 'cLeese')]"
   ]
  },
  {
   "cell_type": "code",
   "execution_count": 63,
   "id": "6ebefd0b-7512-481d-a438-b9a8358105f6",
   "metadata": {},
   "outputs": [
    {
     "data": {
      "text/plain": [
       "['Michael Palin', 'Eric Idle', 'John Cleese']"
      ]
     },
     "execution_count": 63,
     "metadata": {},
     "output_type": "execute_result"
    }
   ],
   "source": [
    "person_names = PersonNames(persons)\n",
    "person_names._persons"
   ]
  },
  {
   "cell_type": "markdown",
   "id": "0cb686dc-5167-4374-b34a-6e3ba8e5eb8e",
   "metadata": {},
   "source": [
    "At this stage, we can iterate through these names e.g. `for name in person_names._persons` (requiring us to know about this class's pseudoprivate attributes), but what we can't do is iterate through `person_names` because the `PersonNames` class does not have any iterator/iterable protocol implemented."
   ]
  },
  {
   "cell_type": "code",
   "execution_count": 67,
   "id": "f6215206-b940-4083-af08-283ff82753a5",
   "metadata": {},
   "outputs": [
    {
     "ename": "TypeError",
     "evalue": "'PersonNames' object is not iterable",
     "output_type": "error",
     "traceback": [
      "\u001b[1;31m---------------------------------------------------------------------------\u001b[0m",
      "\u001b[1;31mTypeError\u001b[0m                                 Traceback (most recent call last)",
      "Cell \u001b[1;32mIn[67], line 1\u001b[0m\n\u001b[1;32m----> 1\u001b[0m \u001b[38;5;28;01mfor\u001b[39;00m person \u001b[38;5;129;01min\u001b[39;00m person_names:\n\u001b[0;32m      2\u001b[0m     \u001b[38;5;28mprint\u001b[39m(person)\n",
      "\u001b[1;31mTypeError\u001b[0m: 'PersonNames' object is not iterable"
     ]
    }
   ],
   "source": [
    "for person in person_names:\n",
    "    print(person)"
   ]
  },
  {
   "cell_type": "markdown",
   "id": "fc1aefe6-c971-4652-b9cf-24b5f416d18e",
   "metadata": {},
   "source": [
    "Because we'll want to iterate through this list without exhaustion, we should implement the iterable protocol. Therefore, we need `__iter__` which returns a new iterator.\n",
    "\n",
    "It would be a lot of effort to write an iterator class which implements `__next__` to get an element by index, increment the index, and raise StopIteration. See below.\n",
    "\n",
    "```python\n",
    "    def __next__(self):\n",
    "        try: \n",
    "            item = self.seq[self.index]\n",
    "            self.index += 1\n",
    "            return item\n",
    "\n",
    "        except IndexError:\n",
    "            raise StopIteration()\n",
    "```\n",
    "\n",
    "Instead, we can just **delegate** all of iterator creation to `iter()`\n",
    "\n",
    "Note that we can't return the `._persons` list in `__iter__` because lists are iterables, but we can recover an iterator from any iterable very easily using `iter()` and return that."
   ]
  },
  {
   "cell_type": "code",
   "execution_count": 72,
   "id": "e1446f96-2a04-431e-b84d-6e2253cfad60",
   "metadata": {},
   "outputs": [],
   "source": [
    "class PersonNames:\n",
    "    def __init__(self, persons):\n",
    "        try:\n",
    "            self._persons = [person.first.capitalize() + ' ' + person.last.capitalize()\n",
    "                            for person in persons]\n",
    "        except TypeError:\n",
    "            self._persons = []\n",
    "    \n",
    "    def __iter__(self):\n",
    "        return iter(self._persons)"
   ]
  },
  {
   "cell_type": "markdown",
   "id": "e554e796-356c-4aa2-9aa3-d16f9e9a0492",
   "metadata": {},
   "source": [
    "And now, `PersonNames` is iterable!"
   ]
  },
  {
   "cell_type": "code",
   "execution_count": 73,
   "id": "78828612-f855-4c7c-ad7d-c918ab99ea87",
   "metadata": {},
   "outputs": [],
   "source": [
    "persons = [Person('michaeL', 'paLin'), Person('eric', 'idLe'), \n",
    "           Person('john', 'cLeese')]\n",
    "person_names = PersonNames(persons)"
   ]
  },
  {
   "cell_type": "code",
   "execution_count": 74,
   "id": "77ecb04f-9006-4b2c-88db-2a0600aa42d0",
   "metadata": {},
   "outputs": [
    {
     "name": "stdout",
     "output_type": "stream",
     "text": [
      "Michael Palin\n",
      "Eric Idle\n",
      "John Cleese\n"
     ]
    }
   ],
   "source": [
    "for p in person_names:\n",
    "    print(p)"
   ]
  },
  {
   "cell_type": "markdown",
   "id": "d70f5e38-ad24-4569-b839-5b6e1369cd78",
   "metadata": {},
   "source": [
    "`person_names` is a true iterable (because it returns a new iterator every time it's called) so we can use list comprehensions etc."
   ]
  },
  {
   "cell_type": "markdown",
   "id": "762ecc0c-2d2b-43ff-931a-e765e72f3acb",
   "metadata": {},
   "source": [
    "# 12 - Reversed Iteration"
   ]
  },
  {
   "cell_type": "markdown",
   "id": "75fa8b7e-b2d3-44c7-8b49-eb0682f85c5a",
   "metadata": {},
   "source": [
    "Sometimes we may want to iterate through an iterable but in **reverse** order.\n",
    "\n",
    "Of course, this means the collection being iterated must be finite."
   ]
  },
  {
   "cell_type": "markdown",
   "id": "66cb5c13-7ddd-40e0-9828-8b91a8541f8e",
   "metadata": {},
   "source": [
    "Python has a built-in function called `reversed()` to do this that will work with any type that implement the sequence protocol. But for iterables in general it's a little more complicated.\n",
    "\n",
    "Also note, for our own custom objects, `reversed()` doesn't automatically do the reversing for us. It's up to us to write the functionality in `__reversed__`."
   ]
  },
  {
   "cell_type": "markdown",
   "id": "a0bda018-7b74-4ffc-a9b5-26cfab133ebd",
   "metadata": {},
   "source": [
    "The `reversed()` method works very similar to `iter()`. \n",
    "\n",
    "For a **sequence**:\n",
    "\n",
    "- Looks for an `__reversed__` method.\n",
    "    - If it's there, it uses it, returning an iterator.\n",
    "    - If not,\\\n",
    "          -> look for a `__getitem__` and `__len__` method for determining the end of the sequence to work back from.\\\n",
    "                  ---> If they're there, **create an iterator object instance**, leveraging those methods.\\\n",
    "                  ---> If not, raise TypeError exception saying it's not reversible."
   ]
  },
  {
   "cell_type": "markdown",
   "id": "024437af-26c3-4634-bd93-4d28349bdef0",
   "metadata": {},
   "source": [
    "Let's first build a custom iterable."
   ]
  },
  {
   "cell_type": "markdown",
   "id": "960a7292-7131-42da-9fcd-84a48b3f5234",
   "metadata": {},
   "source": [
    "For this example we are going to build a custom iterable that returns cards from a 52-card deck.\n",
    "\n",
    "The deck will be in order of suits (Spades, Hearts, Diamonds and Clubs) and card values (from 2 (lowest) to Ace (highest)).\n",
    "\n",
    "We are going to use lazy loading - i.e. we are not going to pre-build our card deck."
   ]
  },
  {
   "cell_type": "markdown",
   "id": "336e2657-9bab-4dab-bbf4-5e26b9fd8e91",
   "metadata": {},
   "source": [
    "We just need to recognize that each suit contains `13` cards, so an integer division of the index of the card in the deck will tell us which suit it is. But of course we start indexing at 0.\n",
    "\n",
    "**Example**\n",
    "\n",
    "If the requested card is the `6`th in the deck (i.e. index = `5`):\n",
    "\n",
    "`5 // 13 = 0` ==> first suit (Spades)\n",
    "\n",
    "If the requested card is the `13`th in the deck (i.e. index = `12`):\n",
    "\n",
    "`12 // 13 = 0` ==> first suit (Spades)\n",
    "\n",
    "If the requested card is the `14`th in the deck (i.e. index = `13`):\n",
    "\n",
    "`13 // 13 = 1` ==> second suit (Hearts)"
   ]
  },
  {
   "cell_type": "markdown",
   "id": "ebdaedfc-9252-4e59-96e8-c25fef781755",
   "metadata": {},
   "source": [
    "To determine which card in the suit we are interested in, we simply need to use the `%` operator, again recognizing that there are `13` cards in each suit:\n",
    "\n",
    "**Example**\n",
    "\n",
    "If the requested card is the `6`th in the deck (i.e. index = `5`):\n",
    "\n",
    "`5 % 13 = 5` ==> `5`th card in the suit\n",
    "\n",
    "If the requested card is the `13`th in the deck (i.e. index = `12`):\n",
    "\n",
    "`12 % 13 = 12` ==> `12`th card in the suit\n",
    "\n",
    "If the requested card is the `14`th in the deck (i.e. index = `13`):\n",
    "\n",
    "`13 % 13 = 0` ==> `1`st card in the suit"
   ]
  },
  {
   "cell_type": "code",
   "execution_count": 95,
   "id": "b1278153-7d13-4c5c-926e-3c143f70d656",
   "metadata": {},
   "outputs": [],
   "source": [
    "_SUITS = ('Spades', 'Hearts', 'Diamonds', 'Clubs')\n",
    "_RANKS = tuple(range(2, 11) ) + tuple('JQKA')\n",
    "from collections import namedtuple\n",
    "\n",
    "Card = namedtuple('Card', 'rank suit')\n",
    "\n",
    "class CardDeck:\n",
    "    def __init__(self):\n",
    "        self.length = len(_SUITS) * len(_RANKS)\n",
    "\n",
    "    def __len__(self):\n",
    "        return self.length\n",
    "    \n",
    "    def __iter__(self):\n",
    "        return self.CardDeckIterator(self.length)\n",
    "        \n",
    "    class CardDeckIterator:\n",
    "        def __init__(self, length):\n",
    "            self.length = length\n",
    "            self.i = 0\n",
    "            \n",
    "        def __iter__(self):\n",
    "            return self\n",
    "        \n",
    "        def __next__(self):\n",
    "            if self.i >= self.length:\n",
    "                raise StopIteration\n",
    "            else:\n",
    "                suit = _SUITS[self.i // len(_RANKS)]\n",
    "                rank = _RANKS[self.i % len(_RANKS)]\n",
    "                self.i += 1\n",
    "                return Card(rank, suit)"
   ]
  },
  {
   "cell_type": "markdown",
   "id": "81380cf3-5a54-432d-994a-1e5bb525358f",
   "metadata": {},
   "source": [
    "We can now iterate over a deck of cards as follows:"
   ]
  },
  {
   "cell_type": "code",
   "execution_count": 96,
   "id": "e3255eb8-a421-4d93-8621-343a022c26d1",
   "metadata": {},
   "outputs": [
    {
     "name": "stdout",
     "output_type": "stream",
     "text": [
      "Card(rank=2, suit='Spades')\n",
      "Card(rank=3, suit='Spades')\n",
      "Card(rank=4, suit='Spades')\n",
      "Card(rank=5, suit='Spades')\n",
      "Card(rank=6, suit='Spades')\n",
      "Card(rank=7, suit='Spades')\n"
     ]
    }
   ],
   "source": [
    "deck = CardDeck()\n",
    "\n",
    "j = 0 # just so we don't print all 52 cards\n",
    "\n",
    "for card in deck:\n",
    "    if j < 6:\n",
    "        print(card)\n",
    "        j += 1\n",
    "    else:\n",
    "        break"
   ]
  },
  {
   "cell_type": "markdown",
   "id": "e5c4bab8-0b4c-4cee-8e16-218cf3774e07",
   "metadata": {},
   "source": [
    "Now that we have our deck, how would we obtain the last `7` cards in reverse order from the deck lazily, i.e., without loading the entire thing into memory?"
   ]
  },
  {
   "cell_type": "markdown",
   "id": "e8c09978-b119-4fdb-a693-89e5f445c32b",
   "metadata": {},
   "source": [
    "We can't use `reversed()` just yet because we haven't implemented it, so let's do that. \n",
    "\n",
    "We know it must return a new iterator, but we don't want to create a whole new iterator class just for reversing. So instead, let's modify our current iterator class to take in a reverse flag that defaults to false: `reverse=False`. This is the same pattern as `sorted()`."
   ]
  },
  {
   "cell_type": "code",
   "execution_count": 99,
   "id": "93e94b1f-c4dc-49be-8982-b95d1607a39e",
   "metadata": {},
   "outputs": [],
   "source": [
    "_SUITS = ('Spades', 'Hearts', 'Diamonds', 'Clubs')\n",
    "_RANKS = tuple(range(2, 11) ) + ('J', 'Q', 'K', 'A')\n",
    "from collections import namedtuple\n",
    "\n",
    "Card = namedtuple('Card', 'rank suit')\n",
    "\n",
    "class CardDeck:\n",
    "    def __init__(self):\n",
    "        self.length = len(_SUITS) * len(_RANKS)\n",
    "\n",
    "    def __len__(self):\n",
    "        return self.length\n",
    "    \n",
    "    def __iter__(self):\n",
    "        return self.CardDeckIterator(self.length)\n",
    "        \n",
    "    def __reversed__(self):\n",
    "        return self.CardDeckIterator(self.length, reverse=True)\n",
    "    \n",
    "    class CardDeckIterator:\n",
    "        def __init__(self, length, *, reverse=False):\n",
    "            self.length = length\n",
    "            self.reverse = reverse\n",
    "            self.i = 0\n",
    "            \n",
    "        def __iter__(self):\n",
    "            return self\n",
    "        \n",
    "        def __next__(self):\n",
    "            if self.i >= self.length:\n",
    "                raise StopIteration\n",
    "            else:\n",
    "                if self.reverse:\n",
    "                    index = self.length -1 - self.i\n",
    "                else:\n",
    "                    index = self.i\n",
    "                suit = _SUITS[index // len(_RANKS)]\n",
    "                rank = _RANKS[index % len(_RANKS)]\n",
    "                self.i += 1\n",
    "                return Card(rank, suit)"
   ]
  },
  {
   "cell_type": "code",
   "execution_count": 100,
   "id": "39c629c9-af74-4ed3-b4be-063ad1a13f42",
   "metadata": {},
   "outputs": [
    {
     "name": "stdout",
     "output_type": "stream",
     "text": [
      "Card(rank='A', suit='Clubs')\n",
      "Card(rank='K', suit='Clubs')\n",
      "Card(rank='Q', suit='Clubs')\n",
      "Card(rank='J', suit='Clubs')\n",
      "Card(rank=10, suit='Clubs')\n",
      "Card(rank=9, suit='Clubs')\n"
     ]
    }
   ],
   "source": [
    "deck = reversed(CardDeck())\n",
    "j = 0 # just so we don't print all 52 cards\n",
    "\n",
    "for card in deck:\n",
    "    if j < 6:\n",
    "        print(card)\n",
    "        j += 1\n",
    "    else:\n",
    "        break"
   ]
  },
  {
   "cell_type": "markdown",
   "id": "bafd8633-4e17-479d-b4f0-206bd6c0a3d1",
   "metadata": {},
   "source": [
    "As mentioned earlier, this entire process was necessary because our iterable made from `CardDeck` is **not a sequence**. \n",
    "\n",
    "If it was a sequence, it would have `__len__` and `__getitem__` implemented. Therefore, `reversed()` will make its own iterator all by itself and utilise the sequence protocol methods for reverse iteration. But of course, we can always override this approach by implementing our own `__reversed__` into our sequence class."
   ]
  },
  {
   "cell_type": "markdown",
   "id": "cdbc3d5e-162c-442a-bb7e-4015d702b52b",
   "metadata": {},
   "source": [
    "# 13 - Caveat Using Iterators for Function Arguments"
   ]
  },
  {
   "cell_type": "markdown",
   "id": "933bdc80-8688-4273-8d83-ad239dd96357",
   "metadata": {},
   "source": [
    "When a function requires an iterable for one of its arguments, it will also work with any iterator (since iterators are themselves iterables).\n",
    "\n",
    "But things can go wrong if you do that!"
   ]
  },
  {
   "cell_type": "markdown",
   "id": "8ea8fbea-a38e-4e99-be4f-ba4cac8c7fd7",
   "metadata": {},
   "source": [
    "Let's say we have an iterator that returns a collection of random numbers, and we want, for each such collection, find the minimum amd maximum value:"
   ]
  },
  {
   "cell_type": "code",
   "execution_count": 1,
   "id": "82047654-422d-4289-82f9-78ecd2df12ed",
   "metadata": {
    "collapsed": true,
    "jupyter": {
     "outputs_hidden": true
    }
   },
   "outputs": [],
   "source": [
    "import random"
   ]
  },
  {
   "cell_type": "code",
   "execution_count": 2,
   "id": "acfe17c2-bd12-4677-9b61-8510f5a10c3c",
   "metadata": {
    "collapsed": true,
    "jupyter": {
     "outputs_hidden": true
    }
   },
   "outputs": [],
   "source": [
    "class Randoms:\n",
    "    def __init__(self, n):\n",
    "        self.n = n\n",
    "        self.i = 0\n",
    "        \n",
    "    def __iter__(self):\n",
    "        return self\n",
    "    \n",
    "    def __next__(self):\n",
    "        if self.i >= self.n:\n",
    "            raise StopIteration\n",
    "        else:\n",
    "            self.i += 1\n",
    "            return random.randint(0, 100)"
   ]
  },
  {
   "cell_type": "code",
   "execution_count": 3,
   "id": "8ead64b1-b755-4886-a1d4-82d4ef5c0148",
   "metadata": {},
   "outputs": [
    {
     "name": "stdout",
     "output_type": "stream",
     "text": [
      "[49, 97, 53, 5, 33, 65, 62, 51, 100, 38]\n"
     ]
    }
   ],
   "source": [
    "random.seed(0)\n",
    "l = list(Randoms(10))\n",
    "print(l)"
   ]
  },
  {
   "cell_type": "markdown",
   "id": "89c687ae-b100-4905-83fa-4b057dec2585",
   "metadata": {},
   "source": [
    "Now we can easily find the min and max values:"
   ]
  },
  {
   "cell_type": "code",
   "execution_count": 4,
   "id": "599ecb79-3c04-426b-8354-db0da2e7d3ef",
   "metadata": {},
   "outputs": [
    {
     "data": {
      "text/plain": [
       "(5, 100)"
      ]
     },
     "execution_count": 4,
     "metadata": {},
     "output_type": "execute_result"
    }
   ],
   "source": [
    "min(l), max(l)"
   ]
  },
  {
   "cell_type": "markdown",
   "id": "d1aec56d-ad1b-4b24-93a8-b46653b17e7b",
   "metadata": {},
   "source": [
    "But watch what happens if we do this:"
   ]
  },
  {
   "cell_type": "code",
   "execution_count": 5,
   "id": "d91fca97-96ec-4322-991d-a5dd95b77c28",
   "metadata": {
    "collapsed": true,
    "jupyter": {
     "outputs_hidden": true
    }
   },
   "outputs": [],
   "source": [
    "random.seed(0)\n",
    "l = Randoms(10)"
   ]
  },
  {
   "cell_type": "code",
   "execution_count": 6,
   "id": "b348f1ce-fc22-4535-bff8-29e2b43325ca",
   "metadata": {},
   "outputs": [
    {
     "data": {
      "text/plain": [
       "5"
      ]
     },
     "execution_count": 6,
     "metadata": {},
     "output_type": "execute_result"
    }
   ],
   "source": [
    "min(l)"
   ]
  },
  {
   "cell_type": "code",
   "execution_count": 7,
   "id": "69e279b3-0d01-4530-ae04-cdfc53999dee",
   "metadata": {},
   "outputs": [
    {
     "ename": "ValueError",
     "evalue": "max() arg is an empty sequence",
     "output_type": "error",
     "traceback": [
      "\u001b[1;31m---------------------------------------------------------------------------\u001b[0m",
      "\u001b[1;31mValueError\u001b[0m                                Traceback (most recent call last)",
      "\u001b[1;32m<ipython-input-7-5a4c194e27be>\u001b[0m in \u001b[0;36m<module>\u001b[1;34m()\u001b[0m\n\u001b[1;32m----> 1\u001b[1;33m \u001b[0mmax\u001b[0m\u001b[1;33m(\u001b[0m\u001b[0ml\u001b[0m\u001b[1;33m)\u001b[0m\u001b[1;33m\u001b[0m\u001b[0m\n\u001b[0m",
      "\u001b[1;31mValueError\u001b[0m: max() arg is an empty sequence"
     ]
    }
   ],
   "source": [
    "max(l)"
   ]
  },
  {
   "cell_type": "markdown",
   "id": "e133767f-6ba8-4f77-8726-8e66f74f589f",
   "metadata": {},
   "source": [
    "That's because when `min` ran, it iterated over the **iterator** `Randoms(10)`. When we called `max` on the same iterator, it had already been exhausted - i.e. the argument to max was now empty!"
   ]
  },
  {
   "cell_type": "markdown",
   "id": "e258ea62-7ac6-4af3-b5f1-5fa144e81c9f",
   "metadata": {},
   "source": [
    "There's a couple of work arounds.\n",
    "\n",
    "1. Make an iterable out of your iterator e.g. `l = list(my_iterator)` and use `l` from now on. This will store it all in memory though.\n",
    "2. If the iterator is `open('my_file.csv') as f`, then create a new iterator by opening the file twice.\n",
    "3. Prevent your functions from accepting an iterator instead of an iterable as an argument. Or, make an iterable out of the iterator\n",
    "\n",
    "For the last point, it is as simple as:\n",
    "\n",
    "```python\n",
    "\n",
    "def my_function(data):\n",
    "\n",
    "    if iter(data) is data:\n",
    "        raise ValueError('data cannot be an iterator')\n",
    "        # OR\n",
    "        data = list(data)\n",
    "    \n",
    "    # rest of code\n",
    "```"
   ]
  }
 ],
 "metadata": {
  "kernelspec": {
   "display_name": "Python 3 (ipykernel)",
   "language": "python",
   "name": "python3"
  },
  "language_info": {
   "codemirror_mode": {
    "name": "ipython",
    "version": 3
   },
   "file_extension": ".py",
   "mimetype": "text/x-python",
   "name": "python",
   "nbconvert_exporter": "python",
   "pygments_lexer": "ipython3",
   "version": "3.10.4"
  }
 },
 "nbformat": 4,
 "nbformat_minor": 5
}
