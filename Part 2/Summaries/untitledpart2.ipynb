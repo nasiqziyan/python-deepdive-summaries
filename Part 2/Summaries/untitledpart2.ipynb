{
 "cells": [
  {
   "cell_type": "markdown",
   "id": "b6ccbd29-9533-4a39-bd23-124391980496",
   "metadata": {},
   "source": [
    "**How would we implement a `for` loop ourselves?**"
   ]
  },
  {
   "cell_type": "code",
   "execution_count": 19,
   "id": "cf185f4a-a49f-43db-8d8a-6adb9d5c64be",
   "metadata": {},
   "outputs": [
    {
     "name": "stdout",
     "output_type": "stream",
     "text": [
      "1\n",
      "4\n",
      "9\n",
      "16\n",
      "25\n"
     ]
    }
   ],
   "source": [
    "my_list = [1, 2, 3, 4, 5]\n",
    "\n",
    "for item in my_list:\n",
    "    print(item**2)"
   ]
  },
  {
   "cell_type": "code",
   "execution_count": 21,
   "id": "d35e1a7b-cc63-4de5-b751-e0ce4894aa01",
   "metadata": {},
   "outputs": [
    {
     "name": "stdout",
     "output_type": "stream",
     "text": [
      "1\n",
      "4\n",
      "9\n",
      "16\n",
      "25\n"
     ]
    }
   ],
   "source": [
    "my_list = [1, 2, 3, 4, 5]\n",
    "index = 0\n",
    "\n",
    "while True:\n",
    "    try:\n",
    "        item = my_list.__getitem__(index)\n",
    "    except IndexError:\n",
    "        break\n",
    "    \n",
    "    print(item**2)\n",
    "    index += 1"
   ]
  },
  {
   "cell_type": "markdown",
   "id": "aab5686a-75c3-46a9-8b11-855e89299ce0",
   "metadata": {},
   "source": [
    "The approach above of using `while True` paired with `except` is more Pythonic than something like `while index < len(our_sequence)`.\n",
    "\n",
    "When we implement `__getitem__` in our class, the `for` loop (or list comprehension) notation will function, where the `x` in `for x in sequence` will be passed to `__getitem__`. Again, it  will keep iterating until it hits an `IndexError`"
   ]
  },
  {
   "cell_type": "code",
   "execution_count": 31,
   "id": "d531abe2-78b5-4824-ac50-0b40210bb9ea",
   "metadata": {},
   "outputs": [],
   "source": [
    "class Silly:\n",
    "    def __init__(self, n):\n",
    "        self.n = n\n",
    "        \n",
    "    def __getitem__(self, value): \n",
    "        print(f'{value=}')\n",
    "        \n",
    "        if value < 0 or value >= self.n:\n",
    "            raise IndexError\n",
    "        \n",
    "        else:\n",
    "            return 'This is a silly element'"
   ]
  },
  {
   "cell_type": "code",
   "execution_count": 32,
   "id": "26de0aab-42b0-480c-9d14-189f33794435",
   "metadata": {},
   "outputs": [
    {
     "name": "stdout",
     "output_type": "stream",
     "text": [
      "value=0\n",
      "This is a silly element\n",
      "value=1\n",
      "This is a silly element\n",
      "value=2\n",
      "This is a silly element\n",
      "value=3\n"
     ]
    }
   ],
   "source": [
    "silly = Silly(3)\n",
    "\n",
    "for e in silly:\n",
    "    print(e)"
   ]
  },
  {
   "cell_type": "markdown",
   "id": "1a437989-c944-4f95-bd2d-1594625b12bb",
   "metadata": {},
   "source": [
    "The small difference we notice with the list comprehension approach below is that the `__getitem__` is being called multiple times as the list is being built up, and then finally, the list object is returned. But of course, we won't normally have a `print` statement within the `__getitem__` method."
   ]
  },
  {
   "cell_type": "code",
   "execution_count": 34,
   "id": "829008d4-2976-4c87-9fa3-66c325ac44c8",
   "metadata": {},
   "outputs": [
    {
     "name": "stdout",
     "output_type": "stream",
     "text": [
      "value=0\n",
      "value=1\n",
      "value=2\n",
      "value=3\n"
     ]
    },
    {
     "data": {
      "text/plain": [
       "['This is a silly element',\n",
       " 'This is a silly element',\n",
       " 'This is a silly element']"
      ]
     },
     "execution_count": 34,
     "metadata": {},
     "output_type": "execute_result"
    }
   ],
   "source": [
    "[e for e in silly]"
   ]
  },
  {
   "cell_type": "markdown",
   "id": "56b66560-8548-4436-bdb5-d3a0c7cb81c1",
   "metadata": {},
   "source": [
    "**This object `silly` *is* a sequence**\n",
    "\n",
    "We can also use the slice notation such as `silly[0:5:2]` and Python will use the `__getitem__` method where the value is a `slice` object with the specified parameters. \n",
    "\n",
    "It won't work with our current setup because the line `if value < 0 or value >= self.n:` contains comparison operators which doesn't support slice objects of course. \n",
    "\n",
    "The appropriate approach is to check the instance/type of `value` and deal with it differently depending on whether it's a **slice** object or an integer. We'll demonstrate this below.\n",
    "\n",
    "Now let's work through a more practical example."
   ]
  }
 ],
 "metadata": {
  "kernelspec": {
   "display_name": "Python 3 (ipykernel)",
   "language": "python",
   "name": "python3"
  },
  "language_info": {
   "codemirror_mode": {
    "name": "ipython",
    "version": 3
   },
   "file_extension": ".py",
   "mimetype": "text/x-python",
   "name": "python",
   "nbconvert_exporter": "python",
   "pygments_lexer": "ipython3",
   "version": "3.10.4"
  }
 },
 "nbformat": 4,
 "nbformat_minor": 5
}
