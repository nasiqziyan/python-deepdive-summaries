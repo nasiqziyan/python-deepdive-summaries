{
 "cells": [
  {
   "cell_type": "markdown",
   "id": "8d51122f-ff8a-40dd-b35d-eed5645c3562",
   "metadata": {},
   "source": [
    "# 01 - Yielding and Generators"
   ]
  },
  {
   "cell_type": "markdown",
   "id": "2ee536f7-b85d-4b1e-b1e3-aea49fc8fa84",
   "metadata": {},
   "source": [
    "## Overview"
   ]
  },
  {
   "cell_type": "markdown",
   "id": "cbc5c7ac-4c23-43d7-a16d-f61915f3bc68",
   "metadata": {},
   "source": [
    "We're going to be looking at:\n",
    "- **generators** which is a type of iterator\n",
    "- **generator functions** which is a **generator factory** (they return a generator when called, but they are not generators themselves).\n",
    "- **generator expressions** which uses the comprehension syntax to concisely create generators. They're useful for simple situations.\n",
    "- **performance considerations** of generators vs lists."
   ]
  },
  {
   "cell_type": "markdown",
   "id": "14e46b57-2515-4560-94bf-3ad91e33b6ed",
   "metadata": {},
   "source": [
    "#### Lecture"
   ]
  },
  {
   "cell_type": "markdown",
   "id": "d54595c5-be1e-4f52-be7e-9a9af7651b87",
   "metadata": {},
   "source": [
    "We saw in the last section how we could make a factorial iterator which could be iterated through, but a large amount of code was needed. \n",
    "\n",
    "What if we could do something like:\n",
    "\n",
    "```python\n",
    "def factorials(n):\n",
    "    for i in range(n):\n",
    "        <emit> factorial(i)\n",
    "        <pause> execution here\n",
    "        wait for <resume>\n",
    "    return 'done!'\n",
    "\n",
    "facts = factorials(4)\n",
    "get_next(facts)\n",
    "get_next(facts)\n",
    "```\n",
    "\n",
    "Where, calling the `factorials(4)` function doesn't do any iteration - it just creates some object. `get_next` is some function that just retrieves the next thing emitted from `factorials`.\n",
    "\n",
    "When `get_next` is called for the second time, we want our `factorials` to be told that it can now `<resume>` and go to the top of the loop again.\n",
    "\n",
    "An essential feature that we need for this is to **emit** things out of functions without returning, because returning exits the function. We want it to retain its state (scope values etc) and be able to jump in and out of the function as we please.\n",
    "\n",
    "The functionality of **emit**, **pause** and **resume** is all handled by the keyword `yield` in python."
   ]
  },
  {
   "cell_type": "markdown",
   "id": "da74a643-e00e-4909-8390-da1877dbd5c6",
   "metadata": {},
   "source": [
    "**Yield**\n",
    "\n",
    "1. It emits a value, suspending the function but retaining its current state).\n",
    "2. Calling `next` on the function **resumes** running the function right after the yield statement.\n",
    "3. If function **returns** something instead of yielding, then `yield` knows the function has finished running and will raise `StopIteration` exception."
   ]
  },
  {
   "cell_type": "markdown",
   "id": "1a389fed-122b-42be-9157-f51759e410d8",
   "metadata": {},
   "source": [
    "Let's walk through a simple example."
   ]
  },
  {
   "attachments": {},
   "cell_type": "markdown",
   "id": "faa6433d-d558-4949-a275-323c11fc7e69",
   "metadata": {},
   "source": [
    "![6.1.png](s6-images/6.1.png)"
   ]
  },
  {
   "cell_type": "markdown",
   "id": "373c9f82-7d65-4c25-847c-63351757b1a9",
   "metadata": {},
   "source": [
    "It's very important to recognise that when the function `song()` is called, nothing happens at all, not even the first print statement! This is because python detected a yield statement in the function.\n",
    "\n",
    "Once we call `next`, we resume the function, executing the `yield` and storing it in a variable."
   ]
  },
  {
   "cell_type": "markdown",
   "id": "081c3dc9-96e6-4fb7-9041-c82e7712666a",
   "metadata": {},
   "source": [
    "**Generator Function / Generator Factories**\n",
    "\n",
    "A generator function is a function that uses the `yield` statement, just like `song()` above. Calling a **generator function** returns a **generator object**. You can think of Python packaging up everything inside the **generator function** into a single object.\n",
    "\n",
    "**Generators**\n",
    "\n",
    "Once we've called our generator function and got a generator back, we can now call `next()` on the generator. This is because **generators implement the iterator protocol**.\n",
    "\n",
    "**`StopIteration`**\n",
    "\n",
    "As mentioned above, once we reach the return statement of the generator function, we raise `StopIteration`. But, **the exception message is the return value**."
   ]
  },
  {
   "cell_type": "markdown",
   "id": "b356d053-1370-4692-9c15-447af857413e",
   "metadata": {},
   "source": [
    "**Iterator vs Generator Comparsion**"
   ]
  },
  {
   "cell_type": "markdown",
   "id": "da05e28d-15d1-4eb9-8c7c-84aa67008e51",
   "metadata": {},
   "source": [
    "Let's write out the factorial function using an iterator and a generator and we'll see how significantly they differ."
   ]
  },
  {
   "cell_type": "code",
   "execution_count": 5,
   "id": "0025655b-0bc1-4eef-b8ce-4ec6ad6e6225",
   "metadata": {},
   "outputs": [],
   "source": [
    "import math\n",
    "\n",
    "class FactIter:\n",
    "    def __init__(self, n):\n",
    "        self.n = n\n",
    "        self.i = 0\n",
    "        \n",
    "    def __iter__(self):\n",
    "        return self\n",
    "    \n",
    "    def __next__(self):\n",
    "        if self.i >= self.n:\n",
    "            raise StopIteration\n",
    "\n",
    "        else: \n",
    "            result = math.factorial(self.i)\n",
    "            self.i += 1\n",
    "            return result\n",
    "\n",
    "fact_iter = FactIter(5)"
   ]
  },
  {
   "cell_type": "code",
   "execution_count": 8,
   "id": "037f05d8-3df5-4331-8931-239249cb5e67",
   "metadata": {},
   "outputs": [],
   "source": [
    "import math\n",
    "\n",
    "def factorials(n):\n",
    "    for i in range(n):\n",
    "        yield math.factorial(i)\n",
    "\n",
    "fact_iter = factorials(5)"
   ]
  },
  {
   "cell_type": "markdown",
   "id": "8d9bef77-57fe-4a06-af8d-612b1213feb8",
   "metadata": {},
   "source": [
    "#### Coding"
   ]
  },
  {
   "cell_type": "markdown",
   "id": "a4836911-67e7-40a0-bc97-893e480b8b5d",
   "metadata": {},
   "source": [
    "Taking a look at that last example again:"
   ]
  },
  {
   "cell_type": "code",
   "execution_count": 1,
   "id": "a4c217ab-d29c-4a24-a862-aeeea4de50ce",
   "metadata": {},
   "outputs": [],
   "source": [
    "import math\n",
    "\n",
    "def factorials(n):\n",
    "    for i in range(n):\n",
    "        yield math.factorial(i)\n",
    "\n",
    "fact_iter = factorials(5)"
   ]
  },
  {
   "cell_type": "markdown",
   "id": "fe2b653d-ca59-4d55-b959-6a2c17b4b1fb",
   "metadata": {},
   "source": [
    "Notice that `factorials` is a function (technically, a generator function/factory), while `fact_iter` is a generator. In other words, calling a generator function/factory produces a generator object. \n",
    "\n",
    "And recall that **generators are a type of iterator**."
   ]
  },
  {
   "cell_type": "code",
   "execution_count": 12,
   "id": "615d3c89-1b36-4ba6-af5c-f5ee22f50a20",
   "metadata": {},
   "outputs": [
    {
     "name": "stdout",
     "output_type": "stream",
     "text": [
      "type(factorials)=<class 'function'>\n",
      "type(fact_iter)=<class 'generator'> \n",
      "\n",
      "'__iter__' in dir(fact_iter)=True\n",
      "'__next__' in dir(fact_iter)=True\n",
      "iter(fact_iter) is fact_iter=True\n"
     ]
    }
   ],
   "source": [
    "print(f'{type(factorials)=}')\n",
    "print(f'{type(fact_iter)=} \\n')\n",
    "\n",
    "print(f\"{'__iter__' in dir(fact_iter)=}\")\n",
    "print(f\"{'__next__' in dir(fact_iter)=}\")\n",
    "print(f\"{iter(fact_iter) is fact_iter=}\")"
   ]
  },
  {
   "cell_type": "markdown",
   "id": "ed26ab46-9366-482b-a4e8-b5e80937cdd9",
   "metadata": {},
   "source": [
    "# 02 - Example - Fibonacci Sequence"
   ]
  },
  {
   "cell_type": "markdown",
   "id": "f0937a5a-907d-48de-9793-3470384112c9",
   "metadata": {},
   "source": [
    "We can implement a fibonacci sequence function in several ways, but we've commonly seen 4: **Recursive (with memoisation)**, **non-recursive**, **iterator** and **closure**. We'll quickly show those four approaches:"
   ]
  },
  {
   "cell_type": "markdown",
   "id": "695118a2-c74b-4086-b92c-3c535ed7bb8a",
   "metadata": {},
   "source": [
    "#### Recursive"
   ]
  },
  {
   "cell_type": "markdown",
   "id": "b7c3bb61-185e-4ab9-b17b-723f6a1124c7",
   "metadata": {},
   "source": [
    "This is still problematic regarding recursion depth even with memoisation."
   ]
  },
  {
   "cell_type": "code",
   "execution_count": 35,
   "id": "4f9e80d1-578e-4aff-a5ec-4400adea9318",
   "metadata": {},
   "outputs": [],
   "source": [
    "from functools import lru_cache\n",
    "\n",
    "@lru_cache()\n",
    "def fib_recursive(n):\n",
    "    if n <= 1:\n",
    "        return 1\n",
    "    else:\n",
    "        return fib_recursive(n-1) + fib_recursive(n-2)"
   ]
  },
  {
   "cell_type": "code",
   "execution_count": 36,
   "id": "82bb298a-822d-4fee-a90a-1b0075862aa7",
   "metadata": {},
   "outputs": [
    {
     "data": {
      "text/plain": [
       "89"
      ]
     },
     "execution_count": 36,
     "metadata": {},
     "output_type": "execute_result"
    }
   ],
   "source": [
    "fib_recursive(10)"
   ]
  },
  {
   "cell_type": "markdown",
   "id": "2ca61921-a355-430b-8556-22c93f6e09ad",
   "metadata": {},
   "source": [
    "#### Non-recursive"
   ]
  },
  {
   "cell_type": "markdown",
   "id": "b0405f9d-9edb-4453-93bb-b9373c55eef8",
   "metadata": {},
   "source": [
    "Not a particularly bad approach."
   ]
  },
  {
   "cell_type": "code",
   "execution_count": 40,
   "id": "b287c24a-306c-426a-acb7-0fd2a0d5a0bf",
   "metadata": {},
   "outputs": [],
   "source": [
    "def fib(n):\n",
    "    fib_0 = 1\n",
    "    fib_1 = 1\n",
    "    for i in range(n-1):\n",
    "        fib_0, fib_1 = fib_1, fib_0 + fib_1\n",
    "    return fib_1"
   ]
  },
  {
   "cell_type": "code",
   "execution_count": 41,
   "id": "3161c1ef-9903-4618-b097-a183c4f71211",
   "metadata": {},
   "outputs": [
    {
     "data": {
      "text/plain": [
       "89"
      ]
     },
     "execution_count": 41,
     "metadata": {},
     "output_type": "execute_result"
    }
   ],
   "source": [
    "fib(10)"
   ]
  },
  {
   "cell_type": "markdown",
   "id": "f752712f-41a5-4102-b79c-c9b83eefbe4e",
   "metadata": {},
   "source": [
    "#### Iterator Approach"
   ]
  },
  {
   "cell_type": "markdown",
   "id": "81ec4737-0036-42f5-b5ef-287629fe1960",
   "metadata": {},
   "source": [
    "This will utilise the non-recursive function but while enabling us to perform lazy evaluation. It's problematic because every time the `for` loop calls `__next__`, it has to calculate all the fibonacci values internally because it uses the `fib()` function. "
   ]
  },
  {
   "cell_type": "code",
   "execution_count": 1,
   "id": "ff4783e2-9a82-4204-b621-d7ee7707abc9",
   "metadata": {},
   "outputs": [],
   "source": [
    "def fib_standard(n):\n",
    "    fib_0 = 1\n",
    "    fib_1 = 1\n",
    "    for i in range(n-1):\n",
    "        fib_0, fib_1 = fib_1, fib_0 + fib_1\n",
    "    return fib_1\n",
    "\n",
    "class FibIter:\n",
    "    def __init__(self, n):\n",
    "        self.n = n\n",
    "        self.i = 0\n",
    "\n",
    "    def __iter__(self):\n",
    "        return self\n",
    "\n",
    "    def __next__(self):\n",
    "        if self.i >= self.n:\n",
    "            raise StopIteration\n",
    "\n",
    "        else:\n",
    "            result = fib_standard(self.i)\n",
    "            self.i += 1\n",
    "            return result"
   ]
  },
  {
   "cell_type": "code",
   "execution_count": 2,
   "id": "93b6fd36-1a0f-4001-ab91-73d06540a822",
   "metadata": {},
   "outputs": [
    {
     "name": "stdout",
     "output_type": "stream",
     "text": [
      "1\n",
      "1\n",
      "2\n",
      "3\n",
      "5\n",
      "8\n",
      "13\n"
     ]
    }
   ],
   "source": [
    "fib_iter = FibIter(7)\n",
    "\n",
    "for i in fib_iter:\n",
    "    print(i)"
   ]
  },
  {
   "cell_type": "markdown",
   "id": "7fb3bb62-b8ca-401a-8d58-d737319f0143",
   "metadata": {},
   "source": [
    "#### Closure"
   ]
  },
  {
   "cell_type": "markdown",
   "id": "68ebc362-1be9-47a2-aa48-e01fb3cc0ba7",
   "metadata": {},
   "source": [
    "The syntax for this implementation is a little convoluted and not very clear.\n",
    "\n",
    "Just like the iterator approach above, it's problematic because every time the `for` loop calls `__next__`, it has to calculate all the fibonacci values internally because it uses the `fib()` function - that is wasteful.."
   ]
  },
  {
   "cell_type": "code",
   "execution_count": 65,
   "id": "36790a95-0979-41c8-994d-88283fbfc99c",
   "metadata": {},
   "outputs": [],
   "source": [
    "def fib_standard(n):\n",
    "    fib_0 = 1\n",
    "    fib_1 = 1\n",
    "    for i in range(n-1):\n",
    "        fib_0, fib_1 = fib_1, fib_0 + fib_1\n",
    "    return fib_1\n",
    "\n",
    "def fib_closure():\n",
    "    i = 0\n",
    "    def inner():\n",
    "        nonlocal i\n",
    "        result = fib_standard(i)\n",
    "        i += 1\n",
    "        return result\n",
    "    return inner"
   ]
  },
  {
   "cell_type": "code",
   "execution_count": 66,
   "id": "43d5fcb2-c6e6-470d-8330-9613ea6ed35f",
   "metadata": {},
   "outputs": [
    {
     "name": "stdout",
     "output_type": "stream",
     "text": [
      "1\n",
      "1\n",
      "2\n",
      "3\n",
      "5\n",
      "8\n",
      "13\n"
     ]
    }
   ],
   "source": [
    "my_fib = fib_closure()\n",
    "\n",
    "for i in range(7):\n",
    "    print(my_fib())"
   ]
  },
  {
   "cell_type": "markdown",
   "id": "47c0a3e6-c0c5-4b0d-bbd3-5daf5b647047",
   "metadata": {},
   "source": [
    "Alternatively, we could just produce an iterator from the closure and set up a sentinel value of whatever `fib(7)` is."
   ]
  },
  {
   "cell_type": "markdown",
   "id": "784cf2c6-25f8-4409-8794-a52faee8515a",
   "metadata": {},
   "source": [
    "**Quick reminder: Second form of the `iter()` function**:\n",
    "\n",
    "In the first form, we saw that `iter()` returns an iterator which leverages either the `__iter__` method (if iterator protocol implemented) or `__getitem__` (if sequence protocol implemented). \n",
    "\n",
    "In the second form, we can also let it control termination with the sentinel value -> **`iter(callable, sentinel)`**. This doesn't require the first argument to have implemented `__iter__` or `__getitem__`; it just needs to return a value every time it's called, i.e. a callable."
   ]
  },
  {
   "cell_type": "markdown",
   "id": "20d71967-f655-463c-b6d1-36e6c8845f98",
   "metadata": {},
   "source": [
    "This will return an **iterator** that will:\n",
    "- call the callable when `next()` is called.\n",
    "- either\n",
    "  - raise `StopIteration`if the result is equal to the **sentinel** value.\n",
    "  - return the result otherwise."
   ]
  },
  {
   "cell_type": "code",
   "execution_count": 55,
   "id": "050b9d5f-348b-40c5-9e13-a50cc318e043",
   "metadata": {},
   "outputs": [
    {
     "name": "stdout",
     "output_type": "stream",
     "text": [
      "1\n",
      "1\n",
      "2\n",
      "3\n",
      "5\n",
      "8\n",
      "13\n"
     ]
    }
   ],
   "source": [
    "def fib(n):\n",
    "    fib_0 = 1\n",
    "    fib_1 = 1\n",
    "    for i in range(n-1):\n",
    "        fib_0, fib_1 = fib_1, fib_0 + fib_1\n",
    "    return fib_1\n",
    "\n",
    "def fib_closure():\n",
    "    i = 0\n",
    "    def inner():\n",
    "        nonlocal i\n",
    "        result = fib(i)\n",
    "        i += 1\n",
    "        return result\n",
    "    return inner\n",
    "\n",
    "my_fib = fib_closure()\n",
    "\n",
    "fib_iter = iter(my_fib, fib(7))\n",
    "\n",
    "for i in fib_iter:\n",
    "    print(i)"
   ]
  },
  {
   "cell_type": "markdown",
   "id": "4b7ccadc-2c4a-4a72-97db-312d0129c85d",
   "metadata": {},
   "source": [
    "#### Iterable-Iterator with Lazy Evaluation"
   ]
  },
  {
   "cell_type": "markdown",
   "id": "05467ba0-a47b-4a7d-a0e3-c10e03566a23",
   "metadata": {},
   "source": [
    "Here's a solution that I came up with. It might not be the most appropriate way of doing things but here we are."
   ]
  },
  {
   "cell_type": "code",
   "execution_count": 8,
   "id": "2500f005-6f8f-4013-8d28-007bad7582cd",
   "metadata": {},
   "outputs": [
    {
     "name": "stdout",
     "output_type": "stream",
     "text": [
      "1\n",
      "1\n",
      "2\n",
      "3\n",
      "5\n",
      "8\n",
      "13\n",
      "21\n",
      "34\n",
      "55\n"
     ]
    }
   ],
   "source": [
    "class Fib:\n",
    "    \n",
    "    def __init__(self, n):\n",
    "        self.n = n\n",
    "    \n",
    "    def __len__(self):\n",
    "        return self.n\n",
    "        \n",
    "    def __iter__(self):\n",
    "        return self.FibIterator(self)\n",
    "    \n",
    "    class FibIterator:\n",
    "        def __init__(self, fib_obj):\n",
    "            self.fib_obj = fib_obj\n",
    "            self.fib_gen = self.fib_gen(self.fib_obj.n)\n",
    "        \n",
    "        def __iter__(self):\n",
    "            return self\n",
    "        \n",
    "        def __next__(self):\n",
    "                return next(self.fib_gen)\n",
    "        \n",
    "        def fib_gen(self, n):\n",
    "            num1 = 1\n",
    "            yield num1\n",
    "            num2 = 1\n",
    "            yield num2\n",
    "\n",
    "            for i in range(n-2):\n",
    "                num1, num2 = num2, num1 + num2\n",
    "                yield num2\n",
    "    \n",
    "my_fib = Fib(10)\n",
    "\n",
    "for i in my_fib:\n",
    "    print(i)"
   ]
  },
  {
   "cell_type": "markdown",
   "id": "580b0cf6-30ad-4649-8472-21b2c724cddd",
   "metadata": {},
   "source": [
    "#### Generator "
   ]
  },
  {
   "cell_type": "markdown",
   "id": "dc571672-fd65-4cb4-b3f7-ea08ef335d12",
   "metadata": {},
   "source": [
    "This approach is arguable the best one because it performs lazy evaluation like iterators but it doesn't need to recalculate previous values every time it wants to calculate the next value. \n",
    "\n",
    "Also, it is *extremely* fast which we'll prove below."
   ]
  },
  {
   "cell_type": "code",
   "execution_count": 67,
   "id": "477a26f7-631d-43e3-988c-c5eb3a26b4c5",
   "metadata": {},
   "outputs": [],
   "source": [
    "def fib(n):\n",
    "    fib_0 = 1\n",
    "    yield fib_0\n",
    "    fib_1 = 1\n",
    "    yield fib_1\n",
    "    \n",
    "    for i in range(n-2):\n",
    "        fib_0, fib_1 = fib_1, fib_0 + fib_1\n",
    "        yield fib_1"
   ]
  },
  {
   "cell_type": "code",
   "execution_count": 68,
   "id": "5b4ce510-f36c-495e-a9fa-9037af3c0399",
   "metadata": {},
   "outputs": [
    {
     "name": "stdout",
     "output_type": "stream",
     "text": [
      "1\n",
      "1\n",
      "2\n",
      "3\n",
      "5\n",
      "8\n",
      "13\n"
     ]
    }
   ],
   "source": [
    "gen = fib(7)\n",
    "for i in gen:\n",
    "    print(i)"
   ]
  },
  {
   "cell_type": "markdown",
   "id": "8a71cddd-4a05-49a0-a6e8-ca99d80ee051",
   "metadata": {},
   "source": [
    "To show how fast it is, we will compare it to the **non-recursive approach that utilises `FibIter` for lazy evaluation**."
   ]
  },
  {
   "cell_type": "code",
   "execution_count": 70,
   "id": "8e35c711-1efd-4228-b0e6-3293983cd765",
   "metadata": {},
   "outputs": [],
   "source": [
    "def fib_standard(n):\n",
    "    fib_0 = 1\n",
    "    fib_1 = 1\n",
    "    for i in range(n-1):\n",
    "        fib_0, fib_1 = fib_1, fib_0 + fib_1\n",
    "    return fib_1"
   ]
  },
  {
   "cell_type": "code",
   "execution_count": 71,
   "id": "1167596a-472c-474c-b3ba-239b8165b947",
   "metadata": {},
   "outputs": [],
   "source": [
    "def fib_gen(n):\n",
    "    fib_0 = 1\n",
    "    yield fib_0\n",
    "    fib_1 = 1\n",
    "    yield fib_1\n",
    "    \n",
    "    for i in range(n-2):\n",
    "        fib_0, fib_1 = fib_1, fib_0 + fib_1\n",
    "        yield fib_1"
   ]
  },
  {
   "cell_type": "code",
   "execution_count": 77,
   "id": "40add221-f9ad-4861-bb2c-0d9c121935a2",
   "metadata": {},
   "outputs": [],
   "source": [
    "class FibIter:\n",
    "    def __init__(self, n):\n",
    "        self.n = n\n",
    "        self.i = 0\n",
    "\n",
    "    def __iter__(self):\n",
    "        return self\n",
    "\n",
    "    def __next__(self):\n",
    "        if self.i >= self.n:\n",
    "            raise StopIteration\n",
    "\n",
    "        else:\n",
    "            result = fib_standard(self.i)\n",
    "            self.i += 1\n",
    "            return result"
   ]
  },
  {
   "cell_type": "markdown",
   "id": "ecdbe935-40c5-4288-8bc8-8c6056349453",
   "metadata": {},
   "source": [
    "**Non-recursive speed**"
   ]
  },
  {
   "cell_type": "code",
   "execution_count": 80,
   "id": "bef7ce1d-4d85-49e5-84f5-1d52a9f8f465",
   "metadata": {},
   "outputs": [
    {
     "data": {
      "text/plain": [
       "0.8088771998882294"
      ]
     },
     "execution_count": 80,
     "metadata": {},
     "output_type": "execute_result"
    }
   ],
   "source": [
    "from timeit import timeit\n",
    "timeit('[num for num in FibIter(5_000)]', globals=globals(), number=1)"
   ]
  },
  {
   "cell_type": "markdown",
   "id": "ccb73722-1b2a-4a5c-bc6c-61587ed2b2c2",
   "metadata": {},
   "source": [
    "**Generator speed**"
   ]
  },
  {
   "cell_type": "code",
   "execution_count": 81,
   "id": "4a43f1f5-114c-475a-b3bf-1de41800a1e8",
   "metadata": {},
   "outputs": [
    {
     "data": {
      "text/plain": [
       "0.0006814002990722656"
      ]
     },
     "execution_count": 81,
     "metadata": {},
     "output_type": "execute_result"
    }
   ],
   "source": [
    "timeit('[num for num in fib_gen(5_000)]', globals=globals(), number=1)"
   ]
  },
  {
   "cell_type": "markdown",
   "id": "964fcf27-39ca-4387-9413-1878f002c0f2",
   "metadata": {},
   "source": [
    "# 03 - Making an Iterable from a Generator"
   ]
  },
  {
   "cell_type": "markdown",
   "id": "f0927948-9cd1-4437-893c-3631ac17d0bc",
   "metadata": {
    "collapsed": true,
    "jupyter": {
     "outputs_hidden": true
    }
   },
   "source": [
    "#### Generators used with other Generators"
   ]
  },
  {
   "cell_type": "markdown",
   "id": "837b06e9-0b9c-4722-8281-3fe708b9ee42",
   "metadata": {},
   "source": [
    "I want to point out that you can also easily run into various bugs when you use generators with other generator functions.\n",
    "\n",
    "Consider this example:"
   ]
  },
  {
   "cell_type": "code",
   "execution_count": 31,
   "id": "dacabc9d-2dee-47a3-b6c4-e51e44baeb36",
   "metadata": {},
   "outputs": [],
   "source": [
    "def squares(n):\n",
    "    for i in range(n):\n",
    "        yield i ** 2\n",
    "\n",
    "sq = squares(5)"
   ]
  },
  {
   "cell_type": "markdown",
   "id": "0854c8a6-c521-4f96-94eb-51b04676ff79",
   "metadata": {},
   "source": [
    "`squares(5)` is a generator function so `sq` is a generator object. What if we place this generator as an argument into another **iterator** such as `enumerate`?"
   ]
  },
  {
   "cell_type": "code",
   "execution_count": 32,
   "id": "6209616b-2704-4d8c-ab69-67f4d0133241",
   "metadata": {},
   "outputs": [],
   "source": [
    "enum_sq = enumerate(sq)"
   ]
  },
  {
   "cell_type": "markdown",
   "id": "d18019ff-77b2-422f-82a6-5b90908add94",
   "metadata": {},
   "source": [
    "At this point, `enum_sq` has done nothing to `sq` because it `enumerate` uses **lazy evaluation**; it will only `yield` from `sq` when asked to do so. \n",
    "\n",
    "To walk through `enumerate`'s process, it will:\n",
    "1. Start up an index counter at index 0\n",
    "2. Yield from `sq` using `next`.\n",
    "3. Store the index and the yielded value in a tuple `(<index>, <yielded_value>)`\n",
    "4. Incrmment index and carry on from step 2."
   ]
  },
  {
   "cell_type": "markdown",
   "id": "61d4ecc2-c3c4-44f2-9be7-dd5fb8b47424",
   "metadata": {},
   "source": [
    "Let's manually `yield` `sq` ourselves."
   ]
  },
  {
   "cell_type": "code",
   "execution_count": 33,
   "id": "2fb55f77-76df-4e1e-85ae-277c5df952c0",
   "metadata": {},
   "outputs": [
    {
     "name": "stdout",
     "output_type": "stream",
     "text": [
      "0\n",
      "1\n"
     ]
    }
   ],
   "source": [
    "print(next(sq))\n",
    "print(next(sq))"
   ]
  },
  {
   "cell_type": "markdown",
   "id": "a7ccafc8-bc61-4aa0-b1e5-f9eda49b447f",
   "metadata": {},
   "source": [
    "Now if we call `list(enum_sq)`, it will appear 'out-of-sync` because `enumerate` will just `yield` from wherever we left off."
   ]
  },
  {
   "cell_type": "code",
   "execution_count": 34,
   "id": "fccdcb54-fea7-4027-b45e-a03d61ef6d95",
   "metadata": {},
   "outputs": [
    {
     "data": {
      "text/plain": [
       "[(0, 4), (1, 9), (2, 16)]"
      ]
     },
     "execution_count": 34,
     "metadata": {},
     "output_type": "execute_result"
    }
   ],
   "source": [
    "list(enum_sq)"
   ]
  },
  {
   "cell_type": "markdown",
   "id": "98fbf3dd-8eb3-434b-859d-9d058850ef48",
   "metadata": {},
   "source": [
    "#### Making an iterable\n"
   ]
  },
  {
   "cell_type": "markdown",
   "id": "654f8534-cee6-4a22-b31b-8455c9fdfbcc",
   "metadata": {},
   "source": [
    "So how do we make an iterable to save us the hassle of creating a new iterator every time we exhaust our first iterator?\n",
    "\n",
    "**The solution is to make a class that implements the `iterable protocol`. In other words, in the `__iter__` method, it must return a new *iterator* not *itself*. We've done this many times before - the only difference is the iterator will be a generator."
   ]
  },
  {
   "cell_type": "code",
   "execution_count": 35,
   "id": "17eaa10c-5257-4ae8-9dfd-95d78ad6b27a",
   "metadata": {},
   "outputs": [],
   "source": [
    "class Squares:\n",
    "    def __init__(self, n):\n",
    "        self.n = n\n",
    "\n",
    "    def __iter__(self):\n",
    "        return Squares.squares_gen(self.n)\n",
    "\n",
    "    @staticmethod\n",
    "    def squares_gen(n):\n",
    "        for i in range(n):\n",
    "            yield i**2"
   ]
  },
  {
   "cell_type": "code",
   "execution_count": 36,
   "id": "dda69b2f-902c-48da-ac97-7a8df8005e03",
   "metadata": {},
   "outputs": [
    {
     "name": "stdout",
     "output_type": "stream",
     "text": [
      "[0, 1, 4, 9, 16]\n",
      "[0, 1, 4, 9, 16]\n"
     ]
    }
   ],
   "source": [
    "sq = Squares(5)\n",
    "\n",
    "print(list(sq))\n",
    "print(list(sq))"
   ]
  },
  {
   "cell_type": "markdown",
   "id": "a8202647-ea86-4e7f-a848-cb80feb5f1db",
   "metadata": {},
   "source": [
    "`sq` is an **iterable** not an **iterator**.\n",
    "\n",
    "Also, `squares_gen` is a static method because it doesn't require any of the properties of the class - it could have just as easily be written outside of the class.\n",
    "\n",
    "Note on `@staticmethod`: It can be called from *inside* or *outside* the class with `ClassName.MethodName()` and also using `object.MethodName()`."
   ]
  },
  {
   "cell_type": "markdown",
   "id": "3cf775c9-1eb3-461a-a458-7ab64f7ea247",
   "metadata": {},
   "source": [
    "# 04 - Example - Card Deck"
   ]
  },
  {
   "cell_type": "markdown",
   "id": "2ea80217-c57e-4023-bb41-49ab1da7acc0",
   "metadata": {},
   "source": [
    "Let's go back to a previous example we worked with, our card deck.\n",
    "\n",
    "Let's rebuild it quickly, but this time using generators instead of a custom iterator:"
   ]
  },
  {
   "cell_type": "markdown",
   "id": "c74ca579-3732-4d59-9b82-33c33b29a0ef",
   "metadata": {},
   "source": [
    "A few notes:\n",
    "- In `__iter__`, we have to call `card_gen` with `card_gen()` because that returns a generator as opposed to a generator factory.\n",
    "- In the `reversed_card_gen()` method, we can use `reversed()` on the tuples because they support that protocol.\n",
    "- `deck` is an **iterable** not an **iterator** because it returns a new iterator (generator in this case) each time."
   ]
  },
  {
   "cell_type": "code",
   "execution_count": 41,
   "id": "62e7b52f-32b2-4b7e-b3d0-a796edef0270",
   "metadata": {},
   "outputs": [],
   "source": [
    "class CardDeck:\n",
    "    SUITS = ('Spades', 'Hearts', 'Diamonds', 'Clubs')\n",
    "    RANKS = tuple(range(2, 11)) + tuple('JQKA')\n",
    "        \n",
    "    def __iter__(self):\n",
    "        return CardDeck.card_gen()\n",
    "    \n",
    "    def __reversed__(self):\n",
    "        return CardDeck.reversed_card_gen() \n",
    "    \n",
    "    @staticmethod\n",
    "    def card_gen():\n",
    "        for suit in CardDeck.SUITS:\n",
    "            for rank in CardDeck.RANKS:\n",
    "                card = Card(rank, suit)\n",
    "                yield card\n",
    "        \n",
    "    @staticmethod\n",
    "    def reversed_card_gen():\n",
    "        for suit in reversed(CardDeck.SUITS):\n",
    "            for rank in reversed(CardDeck.RANKS):\n",
    "                card = Card(rank, suit)\n",
    "                yield card"
   ]
  },
  {
   "cell_type": "code",
   "execution_count": 42,
   "id": "b88a73db-5253-4c59-8883-22283072eca2",
   "metadata": {},
   "outputs": [
    {
     "name": "stdout",
     "output_type": "stream",
     "text": [
      "Card(rank=2, suit='Spades')\n",
      "Card(rank=3, suit='Spades')\n",
      "Card(rank=4, suit='Spades')\n"
     ]
    }
   ],
   "source": [
    "sentinel = Card(rank=5, suit='Spades')\n",
    "\n",
    "deck = CardDeck()\n",
    "\n",
    "for card in deck:\n",
    "    if card == sentinel:\n",
    "        break\n",
    "    else:\n",
    "        print(card)"
   ]
  },
  {
   "cell_type": "code",
   "execution_count": 43,
   "id": "28500ab2-e326-4ec2-8577-4811b4d79b47",
   "metadata": {},
   "outputs": [
    {
     "name": "stdout",
     "output_type": "stream",
     "text": [
      "Card(rank='A', suit='Clubs')\n",
      "Card(rank='K', suit='Clubs')\n",
      "Card(rank='Q', suit='Clubs')\n",
      "Card(rank='J', suit='Clubs')\n"
     ]
    }
   ],
   "source": [
    "sentinel = Card(rank=10, suit='Clubs')\n",
    "\n",
    "for card in reversed(deck):\n",
    "    if card == sentinel:\n",
    "        break\n",
    "    else:\n",
    "        print(card)"
   ]
  },
  {
   "cell_type": "markdown",
   "id": "19969edd-70ad-4cb5-8ddb-4d50ccd69571",
   "metadata": {},
   "source": [
    "# 05 - Generator Expressions"
   ]
  },
  {
   "cell_type": "markdown",
   "id": "a73c8b92-4b0b-4d7a-95a3-6a7a24c8dc78",
   "metadata": {},
   "source": [
    "Generator expressions/comprehensions are very similiar to list comprehensions - we can have multiple nested loops and/or nested comprehensions inside both of them. \n",
    "\n",
    "There are a few key differences. In a generator comprehension:\n",
    "\n",
    "- we use `()` instead of `[]`\n",
    "- a generator is returned instead of a list\n",
    "- evaluation is lazy instead of eager\n",
    "- returns an (exhaustible) iterator as opposed to an (inexhaustible) iterable"
   ]
  },
  {
   "cell_type": "markdown",
   "id": "a4616d06-06d3-425d-9ba4-ee2d6e92dcd9",
   "metadata": {},
   "source": [
    "Some notable consequences of the above is that for a generator comprehension:\n",
    "\n",
    "- it takes less time to be created than a list comprehension\n",
    "- iteration is slower than a list comprehension as the objects need to be created/calculated at every request.\n",
    "- **only a single item is loaded into memory as opposed to the entire collection when using a list comprehension.**"
   ]
  },
  {
   "cell_type": "markdown",
   "id": "7c54d2a9-8fe6-48b9-a12d-72a554425007",
   "metadata": {},
   "source": [
    "Here are some basic examples:"
   ]
  },
  {
   "cell_type": "code",
   "execution_count": 44,
   "id": "e0b33d38-bc12-4f0d-83fd-7597db8d275b",
   "metadata": {},
   "outputs": [
    {
     "data": {
      "text/plain": [
       "generator"
      ]
     },
     "execution_count": 44,
     "metadata": {},
     "output_type": "execute_result"
    }
   ],
   "source": [
    "g = (i**2 for i in range(5))\n",
    "type(g)"
   ]
  },
  {
   "cell_type": "code",
   "execution_count": 45,
   "id": "ae519e6d-76df-4d8a-9e24-d139787773a8",
   "metadata": {},
   "outputs": [
    {
     "name": "stdout",
     "output_type": "stream",
     "text": [
      "0\n",
      "1\n",
      "4\n",
      "9\n",
      "16\n"
     ]
    }
   ],
   "source": [
    "for item in g:\n",
    "    print(item)"
   ]
  },
  {
   "cell_type": "markdown",
   "id": "0939ee20-5bef-47cf-9801-9c597e4ca193",
   "metadata": {},
   "source": [
    "It is now exhausted, we can't iterate through it again."
   ]
  },
  {
   "cell_type": "code",
   "execution_count": 50,
   "id": "2833c39d-d1d3-450e-81ee-6ec263b02c07",
   "metadata": {},
   "outputs": [],
   "source": [
    "for item in g:\n",
    "    print(item)"
   ]
  },
  {
   "cell_type": "markdown",
   "id": "f6ccd860-663b-4cfa-a1c7-50c80f24712c",
   "metadata": {},
   "source": [
    "To prove a function is being created in the background, just like with list comprehensions, we can compile and disassemble the code:"
   ]
  },
  {
   "cell_type": "code",
   "execution_count": 51,
   "id": "533f1d24-5262-4aff-9481-d8c963be9d82",
   "metadata": {},
   "outputs": [],
   "source": [
    "import dis\n",
    "\n",
    "exp = compile('(i**2 for i in range(5))', filename='<string>', mode='eval')"
   ]
  },
  {
   "cell_type": "code",
   "execution_count": 52,
   "id": "3433396a-ee5a-44b1-ad89-0e386ab6f334",
   "metadata": {},
   "outputs": [
    {
     "name": "stdout",
     "output_type": "stream",
     "text": [
      "  1           0 LOAD_CONST               0 (<code object <genexpr> at 0x0000027F5200C500, file \"<string>\", line 1>)\n",
      "              2 LOAD_CONST               1 ('<genexpr>')\n",
      "              4 MAKE_FUNCTION            0\n",
      "              6 LOAD_NAME                0 (range)\n",
      "              8 LOAD_CONST               2 (5)\n",
      "             10 CALL_FUNCTION            1\n",
      "             12 GET_ITER\n",
      "             14 CALL_FUNCTION            1\n",
      "             16 RETURN_VALUE\n",
      "\n",
      "Disassembly of <code object <genexpr> at 0x0000027F5200C500, file \"<string>\", line 1>:\n",
      "  1           0 LOAD_FAST                0 (.0)\n",
      "        >>    2 FOR_ITER                14 (to 18)\n",
      "              4 STORE_FAST               1 (i)\n",
      "              6 LOAD_FAST                1 (i)\n",
      "              8 LOAD_CONST               0 (2)\n",
      "             10 BINARY_POWER\n",
      "             12 YIELD_VALUE\n",
      "             14 POP_TOP\n",
      "             16 JUMP_ABSOLUTE            2\n",
      "        >>   18 LOAD_CONST               1 (None)\n",
      "             20 RETURN_VALUE\n"
     ]
    }
   ],
   "source": [
    "dis.dis(exp)"
   ]
  },
  {
   "cell_type": "markdown",
   "id": "fa0c2770-2586-4742-ba7e-2b4282ee3c33",
   "metadata": {},
   "source": [
    "We can clearly see the `MAKE_FUNCTION` and `CALL_FUNCTION`."
   ]
  },
  {
   "cell_type": "code",
   "execution_count": 54,
   "id": "54f326c8-8567-4f4d-b2fb-925fd4f18c8a",
   "metadata": {},
   "outputs": [
    {
     "data": {
      "text/plain": [
       "'1 x 2 x 3'"
      ]
     },
     "execution_count": 54,
     "metadata": {},
     "output_type": "execute_result"
    }
   ],
   "source": [
    "' x '.join('123')"
   ]
  },
  {
   "cell_type": "markdown",
   "id": "77dbbf10-28cb-4ded-84e6-47dda3b7fd2f",
   "metadata": {},
   "source": [
    "##### Example - Pascal's Triangle"
   ]
  },
  {
   "cell_type": "markdown",
   "id": "7cabb82f-0821-450b-be1c-f1a0d11636b8",
   "metadata": {},
   "source": [
    "Let's try Pascal's triangle again:"
   ]
  },
  {
   "cell_type": "markdown",
   "id": "d309f1d7-e143-473d-b121-4df2eff0f8c1",
   "metadata": {},
   "source": [
    "```\n",
    "1\n",
    "1 1\n",
    "1 2 1\n",
    "1 3 3 1\n",
    "1 4 6 4 1\n",
    "```\n",
    "\n",
    "we just need to know how to calculate combinations:\n",
    "```\n",
    "C(n, k) = n! / (k! (n-k)!)\n",
    "```\n",
    "\n",
    "* row 0, column 0: n=0, k=0: c(0, 0) = 0! / 0! 0! = 1/1 = 1\n",
    "* row 4, column 2: n=4, k=2: c(4, 2) = 4! / 2! 2! = 4x3x2 / 2x2 = 6\n",
    "\n",
    "In other words, we need to calculate the following list of lists:\n",
    "```\n",
    "c(0,0)\n",
    "c(1,0) c(1,1)\n",
    "c(2,0) c(2,1) c(2,2)\n",
    "c(3,0) c(3,1) c(3,2) c(3,3)\n",
    "...\n",
    "```"
   ]
  },
  {
   "cell_type": "markdown",
   "id": "762085f9-3164-4830-9329-80072f41a826",
   "metadata": {},
   "source": [
    "Here's how we did it using a list comprehension:"
   ]
  },
  {
   "cell_type": "code",
   "execution_count": 66,
   "id": "d09825fd-aabc-4663-b1ed-4187aae129eb",
   "metadata": {},
   "outputs": [],
   "source": [
    "from math import factorial\n",
    "\n",
    "def combo(n, k):\n",
    "    return factorial(n) // (factorial(k) * factorial(n-k))\n",
    "\n",
    "size = 10  # global variable\n",
    "pascal = [ [combo(n, k) for k in range(n+1)] for n in range(size+1) ]"
   ]
  },
  {
   "cell_type": "code",
   "execution_count": 67,
   "id": "d551c3e3-6312-413f-a100-07dd6694a06c",
   "metadata": {},
   "outputs": [
    {
     "data": {
      "text/plain": [
       "[[1],\n",
       " [1, 1],\n",
       " [1, 2, 1],\n",
       " [1, 3, 3, 1],\n",
       " [1, 4, 6, 4, 1],\n",
       " [1, 5, 10, 10, 5, 1],\n",
       " [1, 6, 15, 20, 15, 6, 1],\n",
       " [1, 7, 21, 35, 35, 21, 7, 1],\n",
       " [1, 8, 28, 56, 70, 56, 28, 8, 1],\n",
       " [1, 9, 36, 84, 126, 126, 84, 36, 9, 1],\n",
       " [1, 10, 45, 120, 210, 252, 210, 120, 45, 10, 1]]"
      ]
     },
     "execution_count": 67,
     "metadata": {},
     "output_type": "execute_result"
    }
   ],
   "source": [
    "pascal"
   ]
  },
  {
   "cell_type": "markdown",
   "id": "3e22a02d-7994-433a-ac45-982227bc127d",
   "metadata": {},
   "source": [
    "We can now use generator expressions for either one or both of the nested list comprehensions. In this case I'll use it for both:"
   ]
  },
  {
   "cell_type": "code",
   "execution_count": 68,
   "id": "5b01c7a9-85a9-413d-ba77-f2ac484a0edf",
   "metadata": {},
   "outputs": [],
   "source": [
    "size = 10  # global variable\n",
    "pascal = ( (combo(n, k) for k in range(n+1)) for n in range(size+1) )"
   ]
  },
  {
   "cell_type": "markdown",
   "id": "6727c75d-4154-4461-951a-104f4999dcf0",
   "metadata": {},
   "source": [
    "Iterating through `pascal` will iterate through the outer generator expression, providing us with the inner generator expression:"
   ]
  },
  {
   "cell_type": "code",
   "execution_count": 69,
   "id": "beb9a3d3-3840-4cbe-9524-af6bf6125c32",
   "metadata": {},
   "outputs": [
    {
     "data": {
      "text/plain": [
       "[<generator object <genexpr>.<genexpr> at 0x0000027F52018430>,\n",
       " <generator object <genexpr>.<genexpr> at 0x0000027F51F7ABA0>,\n",
       " <generator object <genexpr>.<genexpr> at 0x0000027F51F7AC80>,\n",
       " <generator object <genexpr>.<genexpr> at 0x0000027F51EEA430>,\n",
       " <generator object <genexpr>.<genexpr> at 0x0000027F51EEA580>,\n",
       " <generator object <genexpr>.<genexpr> at 0x0000027F51EEABA0>,\n",
       " <generator object <genexpr>.<genexpr> at 0x0000027F51EEAF90>,\n",
       " <generator object <genexpr>.<genexpr> at 0x0000027F51EEAE40>,\n",
       " <generator object <genexpr>.<genexpr> at 0x0000027F51EEA270>,\n",
       " <generator object <genexpr>.<genexpr> at 0x0000027F520219E0>,\n",
       " <generator object <genexpr>.<genexpr> at 0x0000027F52021970>]"
      ]
     },
     "execution_count": 69,
     "metadata": {},
     "output_type": "execute_result"
    }
   ],
   "source": [
    "[row for row in pascal]"
   ]
  },
  {
   "cell_type": "markdown",
   "id": "2b79766c-a630-400a-9b23-fc9a3d0c3572",
   "metadata": {},
   "source": [
    "So, we need to yield all values from each generator expression, using `list()` for example. Remember `pascal` is now exhausted; we need to create it again."
   ]
  },
  {
   "cell_type": "code",
   "execution_count": 70,
   "id": "ed66c849-c5ac-4c0a-8628-d2eb6db24928",
   "metadata": {},
   "outputs": [
    {
     "data": {
      "text/plain": [
       "[[1],\n",
       " [1, 1],\n",
       " [1, 2, 1],\n",
       " [1, 3, 3, 1],\n",
       " [1, 4, 6, 4, 1],\n",
       " [1, 5, 10, 10, 5, 1],\n",
       " [1, 6, 15, 20, 15, 6, 1],\n",
       " [1, 7, 21, 35, 35, 21, 7, 1],\n",
       " [1, 8, 28, 56, 70, 56, 28, 8, 1],\n",
       " [1, 9, 36, 84, 126, 126, 84, 36, 9, 1],\n",
       " [1, 10, 45, 120, 210, 252, 210, 120, 45, 10, 1]]"
      ]
     },
     "execution_count": 70,
     "metadata": {},
     "output_type": "execute_result"
    }
   ],
   "source": [
    "size = 10  # global variable\n",
    "pascal = ( (combo(n, k) for k in range(n+1)) for n in range(size+1) )\n",
    "\n",
    "[list(row) for row in pascal]"
   ]
  },
  {
   "cell_type": "markdown",
   "id": "a6a39cd1-ff08-4e76-8ffc-5764a1f03d9c",
   "metadata": {},
   "source": [
    "A good thing to remember is the following form:\n",
    "```python\n",
    "(<expression_to_yield> for item in <some_iterable>),\n",
    "```\n",
    "where the `<expression_to_yield>` is not run until you iterate through the generator expression."
   ]
  },
  {
   "cell_type": "markdown",
   "id": "d3211091-a1e4-49d1-be19-8e3c732d0d94",
   "metadata": {},
   "source": [
    "So, if you have a list comprehension inside a generator expression, for example:\n",
    "```python\n",
    "([combo(n, k) for k in range(n+1)] for n in range(size+1)), \n",
    "```\n",
    "\n",
    "```python\n",
    "[combo(n, k) for k in range(n+1)]\n",
    "```\n",
    "is the `<expression_to_yield>`, which means that the list comprehension is **not** run until you iterate through the generator expression."
   ]
  },
  {
   "cell_type": "markdown",
   "id": "46032136-b6ee-4028-a94a-6b90117f521a",
   "metadata": {},
   "source": [
    "It's important to note that if you must iterate through an entire collection, using a [list comprehension] vs [using a generator expression and iterating through **all** of it] take roughly the same amount of time. \n",
    "\n",
    "**So generator expressions are only useful if you're short on memory or if you're iterating through a portion of the collection or you need lazy evaluation.**"
   ]
  },
  {
   "cell_type": "markdown",
   "id": "76342c51-db6f-41e8-8766-07c7035a14c0",
   "metadata": {},
   "source": [
    "# 06 - Yield From"
   ]
  },
  {
   "cell_type": "markdown",
   "id": "5cc30d54-b7d4-4ce3-ac1f-064341494b63",
   "metadata": {},
   "source": [
    "Say we have three files: 'file1.csv', 'file2.csv' and 'file3.csv', and we want to read all lines from the first sequentially using `yield`, then move onto the second, and finally the third. We could write:\n",
    "```python\n",
    "def read_all_data():\n",
    "    for file in ('file1.csv', 'file2.csv', 'file3.csv'):\n",
    "        with open(file) as f:\n",
    "            for line in f:\n",
    "                yield line\n",
    "```\n",
    "\n",
    "But you may have noticed that `open()` is an iterator, and therefore(?) supports `yield`, so we can **delegate yielding to `open()`, an iterator.**\n",
    "\n",
    "```python\n",
    "def read_all_data():\n",
    "    for file in ('file1.csv', 'file2.csv', 'file3.csv'):\n",
    "        with open(file) as f:\n",
    "            yield from f\n",
    "```"
   ]
  },
  {
   "cell_type": "markdown",
   "id": "73ee85b8-d949-4e8a-a707-81e8c9f29c50",
   "metadata": {},
   "source": [
    "#### Example 1 - Matrix"
   ]
  },
  {
   "cell_type": "markdown",
   "id": "3bf2f64a-c5b7-4bec-af0e-7b77a8be1ac6",
   "metadata": {},
   "source": [
    "Let's look at a function that will create a fairly simple `matrix` and a `matrix_iterator` which will iterate through the matrix to retrieve the values."
   ]
  },
  {
   "cell_type": "code",
   "execution_count": 29,
   "id": "1904e296-d37a-449a-8572-06bdffe04e64",
   "metadata": {},
   "outputs": [],
   "source": [
    "def matrix(n):\n",
    "    gen = ((i * j for j in range(1, n+1)) for i in range(1, n+1))\n",
    "    return gen\n",
    "\n",
    "def matrix_iterator(n):\n",
    "    for row in matrix(n):\n",
    "        for item in row:\n",
    "            yield item"
   ]
  },
  {
   "cell_type": "markdown",
   "id": "b934a06b-9a17-490d-8c1c-988f5fa00fae",
   "metadata": {},
   "source": [
    "`matrix_iterator` contains a `yield` statement so calling it returns a generator object. We must iterate through that generator object to get out the values."
   ]
  },
  {
   "cell_type": "code",
   "execution_count": 30,
   "id": "9f22f12c-4ac3-4408-9fc1-150cf5fad4eb",
   "metadata": {},
   "outputs": [
    {
     "name": "stdout",
     "output_type": "stream",
     "text": [
      "1\n",
      "2\n",
      "3\n",
      "2\n",
      "4\n",
      "6\n",
      "3\n",
      "6\n",
      "9\n"
     ]
    }
   ],
   "source": [
    "for item in matrix_iterator(3):\n",
    "    print(item)"
   ]
  },
  {
   "cell_type": "markdown",
   "id": "69c3bc92-7ce2-4d57-a058-b08c44685543",
   "metadata": {},
   "source": [
    "But the level of nesting seen in `matrix_iterator` is not great - we can use `yield from` to reduce it slightly. \n",
    "\n",
    "Since each `row` in `matrix(n)` is a generator object, and hence an iterator, we can `yield from` it, as opposed to iterating through the (iterator) object and yielding in each iteration."
   ]
  },
  {
   "cell_type": "code",
   "execution_count": 31,
   "id": "cfb6fb20-60e2-44ca-9e5a-cbde0e51cda6",
   "metadata": {},
   "outputs": [
    {
     "name": "stdout",
     "output_type": "stream",
     "text": [
      "1\n",
      "2\n",
      "3\n",
      "2\n",
      "4\n",
      "6\n",
      "3\n",
      "6\n",
      "9\n"
     ]
    }
   ],
   "source": [
    "def matrix_iterator(n):\n",
    "    for row in matrix(n):\n",
    "        yield from row\n",
    "\n",
    "for item in matrix_iterator(3):\n",
    "    print(item)"
   ]
  },
  {
   "cell_type": "markdown",
   "id": "7d9416fa-ae72-4d0f-bb8d-51c8901f6067",
   "metadata": {},
   "source": [
    "Alternatively, we could just iterate through the `matrix_iterator(n)` generator object in one shot using `list`."
   ]
  },
  {
   "cell_type": "code",
   "execution_count": 32,
   "id": "38e1f9a2-d941-4441-95a7-abd3c7349f16",
   "metadata": {},
   "outputs": [
    {
     "data": {
      "text/plain": [
       "[1, 2, 3, 2, 4, 6, 3, 6, 9]"
      ]
     },
     "execution_count": 32,
     "metadata": {},
     "output_type": "execute_result"
    }
   ],
   "source": [
    "list(matrix_iterator(3))"
   ]
  },
  {
   "cell_type": "markdown",
   "id": "703317b1-6452-4260-b08d-8d7273748407",
   "metadata": {},
   "source": [
    "#### Example 2 - Car brands"
   ]
  },
  {
   "cell_type": "markdown",
   "id": "60b6ba94-0afd-437a-ba63-af915d34ca43",
   "metadata": {},
   "source": [
    "For this example, we have 3 files all containing a list of car names. We want to iterate through each of these files sequentially and print out each one. \n",
    "\n",
    "Here's how we'd do it:"
   ]
  },
  {
   "cell_type": "code",
   "execution_count": 56,
   "id": "cfcd85c4-da47-4757-9433-cf6bc98bb948",
   "metadata": {},
   "outputs": [
    {
     "name": "stdout",
     "output_type": "stream",
     "text": [
      "Farboud, Ferrari, Fiat, Ford, Honda, Hummer, Hyundai, Jaguar, Jeep, KIA, Koenigsegg, Lada, Lamborghini, Lancia, Land Rover, Lexus, Ligier, Lincoln, Lotus, Martini, Maserati, Maybach, Mazda, McLaren, Mercedes-Benz, Mini, Mitsubishi, Nissan, Noble, Opel, Peugeot, Pontiac, Porsche, Renault, Rolls-Royce, Saab, Seat, Å koda, Smart, Spyker, Subaru, Suzuki, Toyota, Vauxhall, Volkswagen, Volvo, "
     ]
    }
   ],
   "source": [
    "root = \"../Section 06 - Generators/06 - Yield From/\"\n",
    "\n",
    "file_names = 'car-brands-1.txt', 'car-brands-2.txt', 'car-brands-3.txt'\n",
    "files = [root + file for file in file_names]\n",
    "\n",
    "\n",
    "def gen_clean_read(file):\n",
    "    with open(file) as f:\n",
    "        for line in f:\n",
    "            yield line.strip('\\n')\n",
    "\n",
    "def brands(*files):\n",
    "    for file in files:\n",
    "        yield from gen_clean_read(file)\n",
    "        \n",
    "for brand in brands(*files):\n",
    "    print(brand, end=', ')"
   ]
  },
  {
   "cell_type": "markdown",
   "id": "875e6482-9563-498f-b9ba-ab13e4f96219",
   "metadata": {},
   "source": [
    "Since we are using `yield from`, we will need a `gen_clean_read` file. The reason is because each line in the file contains a `\\n` character. When we use `yield from`, we don't get the option to modify the line yielded in any way, unlike the previous approach:\n",
    "```python\n",
    "for file in files:\n",
    "    for line in file:\n",
    "        yield line.strip('\\n')\n",
    "```"
   ]
  },
  {
   "cell_type": "code",
   "execution_count": null,
   "id": "9e723e27-691b-45e7-906b-e8d8e4aeee19",
   "metadata": {},
   "outputs": [],
   "source": []
  }
 ],
 "metadata": {
  "kernelspec": {
   "display_name": "Python 3 (ipykernel)",
   "language": "python",
   "name": "python3"
  },
  "language_info": {
   "codemirror_mode": {
    "name": "ipython",
    "version": 3
   },
   "file_extension": ".py",
   "mimetype": "text/x-python",
   "name": "python",
   "nbconvert_exporter": "python",
   "pygments_lexer": "ipython3",
   "version": "3.10.4"
  }
 },
 "nbformat": 4,
 "nbformat_minor": 5
}
