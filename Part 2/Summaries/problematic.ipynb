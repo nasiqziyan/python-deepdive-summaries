{
 "cells": [
  {
   "cell_type": "code",
   "execution_count": 1,
   "id": "38fe80a0-fde7-4a73-8c4c-f627db83c984",
   "metadata": {},
   "outputs": [
    {
     "name": "stdout",
     "output_type": "stream",
     "text": [
      "\trange(3)\n"
     ]
    }
   ],
   "source": [
    "print(f'\\trange(3)')  # \\t is tab special character"
   ]
  },
  {
   "cell_type": "code",
   "execution_count": null,
   "id": "ea6418ca-6df6-48db-b047-a6a87dc254e4",
   "metadata": {},
   "outputs": [],
   "source": []
  }
 ],
 "metadata": {
  "kernelspec": {
   "display_name": "Python 3 (ipykernel)",
   "language": "python",
   "name": "python3"
  },
  "language_info": {
   "codemirror_mode": {
    "name": "ipython",
    "version": 3
   },
   "file_extension": ".py",
   "mimetype": "text/x-python",
   "name": "python",
   "nbconvert_exporter": "python",
   "pygments_lexer": "ipython3",
   "version": "3.10.4"
  }
 },
 "nbformat": 4,
 "nbformat_minor": 5
}
