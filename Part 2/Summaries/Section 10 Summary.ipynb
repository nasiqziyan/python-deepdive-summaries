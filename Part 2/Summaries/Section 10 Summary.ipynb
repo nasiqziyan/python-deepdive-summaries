{
 "cells": [
  {
   "cell_type": "markdown",
   "id": "1cf799d3-87a6-4849-b841-3ec5ff1a8cda",
   "metadata": {},
   "source": [
    "# 01 - Context Managers in Python"
   ]
  },
  {
   "cell_type": "markdown",
   "id": "1981f50a-0636-4e81-8195-79f2bf161bc8",
   "metadata": {},
   "source": [
    "#### Introduction"
   ]
  },
  {
   "cell_type": "markdown",
   "id": "a4e32034-3c72-4fc5-b3fe-e48378e720bf",
   "metadata": {},
   "source": [
    "(PEP 343)"
   ]
  },
  {
   "cell_type": "markdown",
   "id": "9fd77c78-5031-4db6-bf6e-81d639495021",
   "metadata": {},
   "source": [
    "Typically, the steps involved in using a context manager are the following:\n",
    "\n",
    "1. Create a context (a minimal amount of state needed for a block of code)\n",
    "2. Execute some code that uses variables from the context\n",
    "3. Automatically clean up the context when we're done"
   ]
  },
  {
   "cell_type": "markdown",
   "id": "6297c920-dbf7-456f-a803-a2779897f8d1",
   "metadata": {},
   "source": [
    "Let's take a look at a simple example:"
   ]
  },
  {
   "cell_type": "markdown",
   "id": "a259686e-938a-4fe6-9ee2-691f633e880c",
   "metadata": {},
   "source": [
    "```python\n",
    "with open('test.txt', 'w') as f:\n",
    "    print(f.readlines())\n",
    "```"
   ]
  },
  {
   "cell_type": "markdown",
   "id": "552a2ff3-d9b6-4d2e-8b0e-381c2f23bdeb",
   "metadata": {},
   "source": [
    "- `open()`: **Creates** the context\n",
    "- `with`: **enters** the context\n",
    "\n",
    "The context closes once the indented block completes.\n",
    "\n",
    "Context managers data in our scope **on entry** and **on exit**. \n",
    "\n",
    "Therefore, it's very useful for anything that needs the **Enter/Exit** or **Start/Stop** or **Set/Reset** pattern.\n",
    "\n",
    "Examples are:\n",
    "- Open / close a file.\n",
    "- Start db transaction / commit or abort transaction.\n",
    "- Set decimal precision to 3 / reset back to original precision\n",
    "- Change / reset (the state of a class)\n",
    "- Lock / release (a thread)"
   ]
  },
  {
   "cell_type": "markdown",
   "id": "65bf86f9-44cd-4c85-ba4b-e1ae37e33783",
   "metadata": {},
   "source": [
    "#### Lecture"
   ]
  },
  {
   "cell_type": "markdown",
   "id": "2d241a6c-c42b-4416-a853-55faedf45f05",
   "metadata": {},
   "source": [
    "The functionality of a context manager can be achieved with a `try`-`finally` block, but it gets quite cumbersome."
   ]
  },
  {
   "cell_type": "markdown",
   "id": "d2ae349e-bdd1-45d6-a981-4092a92d30e8",
   "metadata": {},
   "source": [
    "The layout is as following:\n",
    "```python\n",
    "with <context object> as <obj_name>:\n",
    "    <with block>\n",
    "<after with block; context cleaned up>\n",
    "```"
   ]
  },
  {
   "cell_type": "markdown",
   "id": "25467ff1-4dea-4bb2-b408-7413cf642f29",
   "metadata": {},
   "source": [
    "A `context` object is one that implements the `context management protocol`.\n",
    "\n",
    "Classes implement this protocol by implementing two methods:\n",
    "1. `__enter__`: does the setup and optionally returns some object\n",
    "2. `__exit__` tear down / cleanup"
   ]
  },
  {
   "cell_type": "markdown",
   "id": "b2dff998-8059-458b-8614-8a64eb5c09e2",
   "metadata": {},
   "source": [
    "Consider this context:\n",
    "```python\n",
    "with CtxManager() as obj:\n",
    "    # do something\n",
    "# done with context\n",
    "```\n",
    "Let's replicate the functionality of a context manager with a simplified `try`-`finally`:\n",
    "```python\n",
    "mgr = CtxManager()\n",
    "obj = mgr.__enter__()\n",
    "try:\n",
    "    # do something\n",
    "finally:\n",
    "    # done with context\n",
    "    # mgr.__exit__()\n",
    "```"
   ]
  },
  {
   "cell_type": "markdown",
   "id": "42ec07bb-98ff-46e0-8d2f-d2095bc14ec2",
   "metadata": {},
   "source": [
    "**Further Breakdown**\n",
    "\n",
    "In the following code, note that `MyClass` behaves like a regular class from which objects can be instantiated until it encounters a `with` keyword.\n",
    "\n",
    "- **It is `with` that calls the `__enter__()` method.**\n",
    "- The return of `__enter__()` is passed to the object after the `as` keyword.\n",
    "- To emphasise, what gets put into `obj` is **not** the return of `MyClass` but rather the return of `__enter__()`.\n",
    "- `MyClass().__exit__()` only gets called after the `with` block **or** if an exception is called - the arguments of `__exit__()` are for dealing with exceptions."
   ]
  },
  {
   "cell_type": "markdown",
   "id": "353aa95b-b1bd-452a-81d0-b87731c20875",
   "metadata": {},
   "source": [
    "```python\n",
    "class MyClass:\n",
    "    def __init__(self):\n",
    "\n",
    "    def __enter__(self):\n",
    "        # return obj\n",
    "\n",
    "    def __exit__(self, <...>):\n",
    "        # clean up\n",
    "\n",
    "my_obj = MyClass()\n",
    "\n",
    "with MyClass() as obj:\n",
    "    # do something\n",
    "```"
   ]
  },
  {
   "cell_type": "markdown",
   "id": "ed9b63b5-6e21-427d-9cd3-42efa51da4c7",
   "metadata": {},
   "source": [
    "**Scopes**\n",
    "\n",
    "A `with` block does **not** have its own scope unlike a function or list comprehension. It just shares the scope of wherever it's running in. Even the `obj` in `as obj` is within this same scope.\n",
    "\n",
    "To illustrate with a simple example:\n",
    "```python\n",
    "# module.py\n",
    "with open(fname) as f:\n",
    "    row = next(f)\n",
    "\n",
    "print(f, row) # this will work\n",
    "```\n",
    "`f` and `row` are symbols in the **global** scope even after the context closes.\n",
    "\n",
    "Note that, in the case of `open()`, the return of `open()` is the same as the return of its `__enter__()` method. This allows both approaches:\n",
    "- `f = open('test.txt', 'w')`\n",
    "- `with open('test.txt', 'w') as f:`"
   ]
  },
  {
   "cell_type": "markdown",
   "id": "9c9cf35c-6336-4b85-ad65-73103cda1922",
   "metadata": {},
   "source": [
    "**`__enter__` and `__exit__`**\n",
    "\n",
    "`__enter__` is quite simple; we've explained everything that we need to about it.\n",
    "\n",
    "`__exit__` will **always** run even if an exception occurs, but if that's the case, how do we deal with it in comparison to when we normally finish our `with` block? \n",
    "\n",
    "    We can silence it which lets it continue the regular teardown or we can propagate it which lets it continue as if we hadn't intercepted it. The latter will terminate the entire module program thereby preventing any code below the `with` block to execute, unlike the former which will let the code continue as normal.\n",
    "\n",
    "    The `__exit__` method needs 3 arguments:\n",
    "    - exception type\n",
    "    - exception value\n",
    "    - traceback object (the big output that retraces our steps when we hit an exception) \n",
    "\n",
    "    If no exception occurs, then all three of these arguments will return `None`.\n",
    "\n",
    "    The `__exit__` method must return `True` or `False`. \n",
    "    - `True`: silence any raised exception; continue execution as normal\n",
    "    - `False`: propagate exception"
   ]
  },
  {
   "cell_type": "markdown",
   "id": "bbbf2b41-f28f-4186-9eee-40ef1bacfdd8",
   "metadata": {},
   "source": [
    "#### Coding"
   ]
  },
  {
   "cell_type": "markdown",
   "id": "ad20a59e-9c39-4c17-aec2-6509189daa8e",
   "metadata": {},
   "source": [
    "##### Example 1"
   ]
  },
  {
   "cell_type": "markdown",
   "id": "6cd327f4-282a-4fc5-ab98-36fb10dc18ac",
   "metadata": {},
   "source": [
    "Here's a basic example:"
   ]
  },
  {
   "cell_type": "code",
   "execution_count": 5,
   "id": "0ca65ce7-ac23-418b-aef8-1dbfaec2ea88",
   "metadata": {},
   "outputs": [],
   "source": [
    "class MyContext:\n",
    "    def __init__(self):\n",
    "        self.obj = None\n",
    "\n",
    "    def __enter__(self):\n",
    "        print('Entering context...')\n",
    "        self.obj = 'The Return Object'\n",
    "        return self.obj\n",
    "\n",
    "    def __exit__(self, exc_type, exc_value, exc_tb):\n",
    "        print('exiting context...')\n",
    "        if exc_type:\n",
    "            print(f\"*** Error occurred, manually catching: {exc_type}, {exc_value}\")\n",
    "        return False"
   ]
  },
  {
   "cell_type": "markdown",
   "id": "54c574a0-1028-4492-97e9-2c9bd067c5e8",
   "metadata": {},
   "source": [
    "Note:\n",
    "- `exc_type`, `exc_value`, `exc_tb` can be named whatever we like, but the positions matter. The first for the type, the second for the value and the third for the traceback info object.\n",
    "- Think of `__exit__` as *silent* or *normal* exit. Then, `return True` will silence the exception and no traceback will appear. `return False` will trap any exceptions caught and bubble it back up."
   ]
  },
  {
   "cell_type": "code",
   "execution_count": 8,
   "id": "098925a4-4e98-42cf-9e94-fde26a9c3fe2",
   "metadata": {},
   "outputs": [
    {
     "name": "stdout",
     "output_type": "stream",
     "text": [
      "Entering context...\n",
      "Inside block; obj = 'The Return Object'\n",
      "exiting context...\n",
      "*** Error occurred, manually catching: <class 'ValueError'>, some value\n"
     ]
    },
    {
     "ename": "ValueError",
     "evalue": "some value",
     "output_type": "error",
     "traceback": [
      "\u001b[1;31m---------------------------------------------------------------------------\u001b[0m",
      "\u001b[1;31mValueError\u001b[0m                                Traceback (most recent call last)",
      "Cell \u001b[1;32mIn[8], line 5\u001b[0m\n\u001b[0;32m      3\u001b[0m \u001b[38;5;28;01mwith\u001b[39;00m MyContext() \u001b[38;5;28;01mas\u001b[39;00m obj:\n\u001b[0;32m      4\u001b[0m     \u001b[38;5;28mprint\u001b[39m(\u001b[38;5;124mf\u001b[39m\u001b[38;5;124m\"\u001b[39m\u001b[38;5;124mInside block; \u001b[39m\u001b[38;5;132;01m{\u001b[39;00mobj\u001b[38;5;250m \u001b[39m\u001b[38;5;132;01m= }\u001b[39;00m\u001b[38;5;124m\"\u001b[39m)\n\u001b[1;32m----> 5\u001b[0m     \u001b[38;5;28;01mraise\u001b[39;00m \u001b[38;5;167;01mValueError\u001b[39;00m(\u001b[38;5;124m'\u001b[39m\u001b[38;5;124msome value\u001b[39m\u001b[38;5;124m'\u001b[39m)\n\u001b[0;32m      7\u001b[0m \u001b[38;5;28mprint\u001b[39m(\u001b[38;5;124m'\u001b[39m\u001b[38;5;124mrest of program here; I wont run\u001b[39m\u001b[38;5;124m'\u001b[39m)\n",
      "\u001b[1;31mValueError\u001b[0m: some value"
     ]
    }
   ],
   "source": [
    "# since `return False`, we expect exception to bubble back up and remaining code after `with` block to not run\n",
    "\n",
    "with MyContext() as obj:\n",
    "    print(f\"Inside block; {obj = }\")\n",
    "    raise ValueError('some value')\n",
    "\n",
    "print('rest of program here; I wont run')"
   ]
  },
  {
   "cell_type": "markdown",
   "id": "e996de24-60a1-45ea-858b-6fddbf46d680",
   "metadata": {},
   "source": [
    "Now let's switch the return flag to `False`:"
   ]
  },
  {
   "cell_type": "code",
   "execution_count": 10,
   "id": "419a5639-6925-4c5a-83ac-3e258e2ca161",
   "metadata": {},
   "outputs": [],
   "source": [
    "class MyContext:\n",
    "    def __init__(self):\n",
    "        self.obj = None\n",
    "\n",
    "    def __enter__(self):\n",
    "        print('Entering context...')\n",
    "        self.obj = 'The Return Object'\n",
    "        return self.obj\n",
    "\n",
    "    def __exit__(self, exc_type, exc_value, exc_tb):\n",
    "        print('exiting context...')\n",
    "        if exc_type:\n",
    "            print(f\"*** Error occurred, manually catching: {exc_type}, {exc_value}\")\n",
    "        return True"
   ]
  },
  {
   "cell_type": "code",
   "execution_count": 11,
   "id": "d8cdf902-8093-450c-a53b-ef5d74602053",
   "metadata": {},
   "outputs": [
    {
     "name": "stdout",
     "output_type": "stream",
     "text": [
      "Entering context...\n",
      "Inside block; obj = 'The Return Object'\n",
      "exiting context...\n",
      "*** Error occurred, manually catching: <class 'ValueError'>, some value\n",
      "rest of program here; I will run\n"
     ]
    }
   ],
   "source": [
    "# since `return True`, we expect exception to be suppressed and remaining code after `with` block will run\n",
    "\n",
    "with MyContext() as obj:\n",
    "    print(f\"Inside block; {obj = }\")\n",
    "    raise ValueError('some value')\n",
    "\n",
    "print('rest of program here; I will run')"
   ]
  },
  {
   "cell_type": "markdown",
   "id": "10629e5e-db31-4aa7-878e-48690e405b6c",
   "metadata": {},
   "source": [
    "**Good Practices**\n",
    "\n",
    "Often we will trap certain common exceptions, handle them and silent exit `return True`, but for the uncommon exceptions, we'll let them bubble back up (`return False`)."
   ]
  },
  {
   "cell_type": "markdown",
   "id": "65e16ff3-5f1f-4ec6-bfb8-7aee1a0d2746",
   "metadata": {},
   "source": [
    "##### Example 2"
   ]
  },
  {
   "cell_type": "markdown",
   "id": "d55d440f-9ce0-4847-92de-c28b7adb125f",
   "metadata": {},
   "source": [
    "Let's create a context manager that creates and utilises a new resource upon entering the context:"
   ]
  },
  {
   "cell_type": "code",
   "execution_count": 21,
   "id": "a372bb70-1e9d-4c73-a260-b08d458e6c6a",
   "metadata": {},
   "outputs": [],
   "source": [
    "class Resource:\n",
    "    def __init__(self, name):\n",
    "        self.name = name\n",
    "        self.state = None\n",
    "\n",
    "class ResourceManager:\n",
    "    def __init__(self, name):\n",
    "        self.name = name\n",
    "        self.resource = None  # we only want to create the resource when we enter a context\n",
    "\n",
    "    def __enter__(self):\n",
    "        print('entering context')\n",
    "        self.resource = Resource(self.name)\n",
    "        self.resource.state = 'Created'\n",
    "        return self.resource\n",
    "\n",
    "    def __exit__(self, exc_type, exc_value, exc_tb):\n",
    "        print('exiting context')\n",
    "        self.resource.state = 'Destroyed'\n",
    "        if exc_type: # if an exception has occured\n",
    "            print('Exception occurred!')\n",
    "        return False"
   ]
  },
  {
   "cell_type": "code",
   "execution_count": 25,
   "id": "aff28fb0-bb57-4c15-a4c6-e02827ee196d",
   "metadata": {},
   "outputs": [
    {
     "name": "stdout",
     "output_type": "stream",
     "text": [
      "entering context\n",
      "res.name = 'spam', res.state = 'Created'\n",
      "exiting context\n",
      "res.name = 'spam', res.state = 'Destroyed'\n"
     ]
    }
   ],
   "source": [
    "with ResourceManager('spam') as res:\n",
    "    print(f\"{res.name = }, {res.state = }\")\n",
    "\n",
    "print(f\"{res.name = }, {res.state = }\")"
   ]
  },
  {
   "cell_type": "markdown",
   "id": "54ea33a3-65f4-4346-937a-9919a741dc6b",
   "metadata": {},
   "source": [
    "# 02 - Caveat with Lazy Iterators"
   ]
  },
  {
   "cell_type": "markdown",
   "id": "4d607c28-5bb9-4595-bd5b-8f0ebb032a9c",
   "metadata": {},
   "source": [
    "As we know, `open()` creates a context and utilises a lazy iterator. What might often happen is the context closes before we get a chance to iterate through the iterator. For example:"
   ]
  },
  {
   "cell_type": "code",
   "execution_count": 30,
   "id": "60a5e42a-3029-4457-975c-496c4a32d9cc",
   "metadata": {},
   "outputs": [
    {
     "ename": "ValueError",
     "evalue": "I/O operation on closed file.",
     "output_type": "error",
     "traceback": [
      "\u001b[1;31m---------------------------------------------------------------------------\u001b[0m",
      "\u001b[1;31mValueError\u001b[0m                                Traceback (most recent call last)",
      "Cell \u001b[1;32mIn[30], line 8\u001b[0m\n\u001b[0;32m      5\u001b[0m         \u001b[38;5;28;01mreturn\u001b[39;00m csv\u001b[38;5;241m.\u001b[39mreader(f, delimiter\u001b[38;5;241m=\u001b[39m\u001b[38;5;124m'\u001b[39m\u001b[38;5;124m,\u001b[39m\u001b[38;5;124m'\u001b[39m, quotechar\u001b[38;5;241m=\u001b[39m\u001b[38;5;124m'\u001b[39m\u001b[38;5;124m\"\u001b[39m\u001b[38;5;124m'\u001b[39m)\n\u001b[0;32m      7\u001b[0m reader \u001b[38;5;241m=\u001b[39m read_data()\n\u001b[1;32m----> 8\u001b[0m \u001b[38;5;28;01mfor\u001b[39;00m row \u001b[38;5;129;01min\u001b[39;00m reader:\n\u001b[0;32m      9\u001b[0m     \u001b[38;5;28mprint\u001b[39m(row)\n",
      "\u001b[1;31mValueError\u001b[0m: I/O operation on closed file."
     ]
    }
   ],
   "source": [
    "import csv\n",
    "\n",
    "def read_data():\n",
    "    with open(\"nyc_parking_tickets_extract.csv\", 'w') as f:\n",
    "        return csv.reader(f, delimiter=',', quotechar='\"')\n",
    "\n",
    "reader = read_data()\n",
    "for row in reader:\n",
    "    print(row)"
   ]
  },
  {
   "cell_type": "markdown",
   "id": "8169de1c-7430-4510-8639-7a1f2c3d051c",
   "metadata": {},
   "source": [
    "This occurred because `return` is present in the `with` block. As a result, `with` called `open`'s `__exit__()` which closed the file. How do we get around this?\n",
    "\n",
    "After `return` returns, there's nothing left to execute in the `with` block so the `context` can exit.\n",
    "\n",
    "But `yield`/`yield from` doesn't exit until we've iterated through the entire iterator and hit a `StopIteration` exception. This is how we can solve our problem.\n",
    "\n",
    "Note: `csv.reader()` is an iterator; we can either start a `for` loop that yields on each iteration or yield directly from the iterator with `yield from`.\n",
    "\n",
    "The two lines below are *basically* identical\n",
    "\n",
    "```python\n",
    "yield from csv.reader(f, delimiter=',', quotechar='\"')`\n",
    "```\n",
    "```python\n",
    "for row in csv.reader(f, delimiter=',', quotechar='\"'):\n",
    "    yield row\n",
    "```"
   ]
  },
  {
   "cell_type": "code",
   "execution_count": 33,
   "id": "ec135620-5af5-42e1-aac1-d3c11216a034",
   "metadata": {},
   "outputs": [
    {
     "name": "stdout",
     "output_type": "stream",
     "text": [
      "['Summons Number', 'Plate ID', 'Registration State', 'Plate Type', 'Issue Date', 'Violation Code', 'Vehicle Body Type', 'Vehicle Make', 'Violation Description']\n"
     ]
    }
   ],
   "source": [
    "import csv\n",
    "\n",
    "def read_data():\n",
    "    with open(\"nyc_parking_tickets_extract.csv\") as f:\n",
    "        yield from csv.reader(f, delimiter=',', quotechar='\"')\n",
    "\n",
    "reader = read_data()\n",
    "\n",
    "for row in reader:\n",
    "    print(row)\n",
    "    break"
   ]
  },
  {
   "cell_type": "markdown",
   "id": "02b883ec-698c-4ac9-a26c-dcfcfd6aa977",
   "metadata": {},
   "source": [
    "# 03 - Not Just a Context Manager"
   ]
  },
  {
   "cell_type": "markdown",
   "id": "6e7ae43b-8b24-4a20-a3c4-49e24b5aa9e1",
   "metadata": {},
   "source": [
    "There's not much in this section. Just know that you can implement other protocols in addition to the **context manager protocol**. For example, we can implement the **iterator** and the **context manager protocol**:"
   ]
  },
  {
   "cell_type": "code",
   "execution_count": 34,
   "id": "17579fef-24d3-4105-ad56-64d96c2e7365",
   "metadata": {},
   "outputs": [],
   "source": [
    "class DataIterator:\n",
    "    def __init__(self, fname):\n",
    "        self._fname = fname\n",
    "        self._f = None\n",
    "    \n",
    "    def __iter__(self):\n",
    "        return self\n",
    "    \n",
    "    def __next__(self):\n",
    "        row = next(self._f)\n",
    "        return row.strip('\\n').split(',')\n",
    "    \n",
    "    def __enter__(self):\n",
    "        self._f = open(self._fname)\n",
    "        return self\n",
    "    \n",
    "    def __exit__(self, exc_type, exc_value, exc_tb):\n",
    "        if not self._f.closed:\n",
    "            self._f.close()\n",
    "        return False"
   ]
  },
  {
   "cell_type": "code",
   "execution_count": 35,
   "id": "c6ce2efe-4f29-4c8d-bfeb-ec7353b301c1",
   "metadata": {},
   "outputs": [
    {
     "name": "stdout",
     "output_type": "stream",
     "text": [
      "['Summons Number', 'Plate ID', 'Registration State', 'Plate Type', 'Issue Date', 'Violation Code', 'Vehicle Body Type', 'Vehicle Make', 'Violation Description']\n"
     ]
    }
   ],
   "source": [
    "with DataIterator('nyc_parking_tickets_extract.csv') as data:\n",
    "    for row in data:\n",
    "        print(row)\n",
    "        break"
   ]
  },
  {
   "cell_type": "markdown",
   "id": "09402167-219a-49eb-823e-425db08c6faa",
   "metadata": {},
   "source": [
    "But this isn't kitted to support the iterator independently (though it wouldn't be difficult to do):"
   ]
  },
  {
   "cell_type": "code",
   "execution_count": 36,
   "id": "25735856-62f3-4333-9053-9b7b445ae5e5",
   "metadata": {},
   "outputs": [
    {
     "ename": "TypeError",
     "evalue": "'NoneType' object is not an iterator",
     "output_type": "error",
     "traceback": [
      "\u001b[1;31m---------------------------------------------------------------------------\u001b[0m",
      "\u001b[1;31mTypeError\u001b[0m                                 Traceback (most recent call last)",
      "Cell \u001b[1;32mIn[36], line 2\u001b[0m\n\u001b[0;32m      1\u001b[0m data \u001b[38;5;241m=\u001b[39m DataIterator(\u001b[38;5;124m'\u001b[39m\u001b[38;5;124mnyc_parking_tickets_extract.csv\u001b[39m\u001b[38;5;124m'\u001b[39m)\n\u001b[1;32m----> 2\u001b[0m \u001b[38;5;28;01mfor\u001b[39;00m row \u001b[38;5;129;01min\u001b[39;00m data:\n\u001b[0;32m      3\u001b[0m     \u001b[38;5;28mprint\u001b[39m(row)\n\u001b[0;32m      4\u001b[0m     \u001b[38;5;28;01mbreak\u001b[39;00m\n",
      "Cell \u001b[1;32mIn[34], line 10\u001b[0m, in \u001b[0;36mDataIterator.__next__\u001b[1;34m(self)\u001b[0m\n\u001b[0;32m      9\u001b[0m \u001b[38;5;28;01mdef\u001b[39;00m \u001b[38;5;21m__next__\u001b[39m(\u001b[38;5;28mself\u001b[39m):\n\u001b[1;32m---> 10\u001b[0m     row \u001b[38;5;241m=\u001b[39m \u001b[38;5;28;43mnext\u001b[39;49m\u001b[43m(\u001b[49m\u001b[38;5;28;43mself\u001b[39;49m\u001b[38;5;241;43m.\u001b[39;49m\u001b[43m_f\u001b[49m\u001b[43m)\u001b[49m\n\u001b[0;32m     11\u001b[0m     \u001b[38;5;28;01mreturn\u001b[39;00m row\u001b[38;5;241m.\u001b[39mstrip(\u001b[38;5;124m'\u001b[39m\u001b[38;5;130;01m\\n\u001b[39;00m\u001b[38;5;124m'\u001b[39m)\u001b[38;5;241m.\u001b[39msplit(\u001b[38;5;124m'\u001b[39m\u001b[38;5;124m,\u001b[39m\u001b[38;5;124m'\u001b[39m)\n",
      "\u001b[1;31mTypeError\u001b[0m: 'NoneType' object is not an iterator"
     ]
    }
   ],
   "source": [
    "data = DataIterator('nyc_parking_tickets_extract.csv')\n",
    "for row in data:\n",
    "    print(row)\n",
    "    break"
   ]
  },
  {
   "cell_type": "markdown",
   "id": "5f57fa77-32e7-40d3-b193-100139a18c2e",
   "metadata": {},
   "source": [
    "# 04 - Additional Uses"
   ]
  },
  {
   "cell_type": "markdown",
   "id": "8a97def4-2300-4230-b92e-46422f53617e",
   "metadata": {},
   "source": [
    "Some more additional use cases besides those mentioned earlier are:\n",
    "- starting and stopping a timer to calculate how long the `with` block takes to run\n",
    "- acquire thread lock, perform some operations and release thread lock\n",
    "- redirect `stdout` to a file, perform some operations that write to `stdout` and reset `stdout` back to original value\n",
    "- format text/code with tags on either end e.g. prints `<p>`, waits for some text and then prints `</p>` -> `<p>some text</p>` These context managers can be nested.\n",
    "- A list maker with its own `.print` implemented. Every time the context manager is entered, we prepend an indent character. We can next `with` blocks to produce multi-indented print statements."
   ]
  },
  {
   "cell_type": "markdown",
   "id": "30ff6d09-8769-4efa-a872-1ac0aac8118a",
   "metadata": {},
   "source": [
    "#### Example 1 - Decimal precision"
   ]
  },
  {
   "cell_type": "markdown",
   "id": "87ee6822-16de-4a09-a9b5-f828df04dbb5",
   "metadata": {},
   "source": [
    "Decimals have a context which can be used to define many things, such as precision, rounding mechanism, etc.\n",
    "\n",
    "By default, Decimals have a \"global\" context - i.e. one that will apply to any Decimal object by default:"
   ]
  },
  {
   "cell_type": "code",
   "execution_count": 1,
   "id": "d6c336f8-fc43-475c-b81e-37f383e0da40",
   "metadata": {
    "collapsed": true,
    "jupyter": {
     "outputs_hidden": true
    }
   },
   "outputs": [],
   "source": [
    "import decimal"
   ]
  },
  {
   "cell_type": "code",
   "execution_count": 2,
   "id": "9543567d-8a8f-4802-9ff4-7f6005c79162",
   "metadata": {},
   "outputs": [
    {
     "data": {
      "text/plain": [
       "Context(prec=28, rounding=ROUND_HALF_EVEN, Emin=-999999, Emax=999999, capitals=1, clamp=0, flags=[], traps=[InvalidOperation, DivisionByZero, Overflow])"
      ]
     },
     "execution_count": 2,
     "metadata": {},
     "output_type": "execute_result"
    }
   ],
   "source": [
    "decimal.getcontext()"
   ]
  },
  {
   "cell_type": "code",
   "execution_count": 4,
   "id": "c4a1ce26-bdd4-49d8-b2b1-a5ef6662e5c7",
   "metadata": {},
   "outputs": [
    {
     "name": "stdout",
     "output_type": "stream",
     "text": [
      "0.333\n",
      "0.3333333333333333333333333333\n"
     ]
    }
   ],
   "source": [
    "import decimal\n",
    "\n",
    "class precision:\n",
    "    def __init__(self, prec):\n",
    "        self.prec = prec\n",
    "        self.original_prec = decimal.getcontext().prec\n",
    "\n",
    "    def __enter__(self):\n",
    "        decimal.getcontext().prec = self.prec\n",
    "\n",
    "    def __exit__(self, exc_type, exc_value, exc_tb):\n",
    "        decimal.getcontext().prec = self.original_prec\n",
    "        return False\n",
    "\n",
    "with precision(3):\n",
    "    print(decimal.Decimal(1)/decimal.Decimal(3))\n",
    "\n",
    "print(decimal.Decimal(1)/decimal.Decimal(3))"
   ]
  },
  {
   "cell_type": "markdown",
   "id": "ad14fdeb-21e4-4f5f-92ae-6e9d9a030d94",
   "metadata": {},
   "source": [
    "In fact, the decimal class already has a context manager, and it's way better than ours, because we can set not only the precision, but anything else we want:"
   ]
  },
  {
   "cell_type": "code",
   "execution_count": 5,
   "id": "4fa43745-2ecd-4dad-ae89-3a20792a911d",
   "metadata": {},
   "outputs": [
    {
     "name": "stdout",
     "output_type": "stream",
     "text": [
      "0.333\n",
      "0.3333333333333333333333333333\n"
     ]
    }
   ],
   "source": [
    "with decimal.localcontext() as ctx:\n",
    "    ctx.prec = 3\n",
    "    print(decimal.Decimal(1) / decimal.Decimal(3))\n",
    "print(decimal.Decimal(1) / decimal.Decimal(3))"
   ]
  },
  {
   "cell_type": "markdown",
   "id": "3639559b-3f43-4aca-b5eb-607da2661fc2",
   "metadata": {},
   "source": [
    "So this is an example of using a context manager for a **Change - Reset** type of situation."
   ]
  },
  {
   "cell_type": "markdown",
   "id": "481ae95a-774e-4cbb-ba22-4c271bd3e7ec",
   "metadata": {},
   "source": [
    "#### Example 2 - Timer"
   ]
  },
  {
   "cell_type": "markdown",
   "id": "808bd779-72d0-4e1b-81b7-d2f9e44b12b5",
   "metadata": {},
   "source": [
    "This is an example of a **start** - **stop** situation:"
   ]
  },
  {
   "cell_type": "code",
   "execution_count": 10,
   "id": "ce15295d-2d84-4dcd-85ac-167875f7d674",
   "metadata": {},
   "outputs": [
    {
     "data": {
      "text/plain": [
       "1.0046027000062168"
      ]
     },
     "execution_count": 10,
     "metadata": {},
     "output_type": "execute_result"
    }
   ],
   "source": [
    "from time import perf_counter, sleep\n",
    "\n",
    "class Timer:\n",
    "    def __init__(self):\n",
    "        self.elapsed = 0\n",
    "\n",
    "    def __enter__(self):\n",
    "        self.start = perf_counter()\n",
    "        return self\n",
    "\n",
    "    def __exit__(self, exc_type, exc_value, exc_tb):\n",
    "        self.stop = perf_counter()\n",
    "        self.elapsed = self.stop - self.start\n",
    "        return False\n",
    "\n",
    "with Timer() as t:\n",
    "    sleep(1)\n",
    "\n",
    "t.elapsed"
   ]
  },
  {
   "cell_type": "markdown",
   "id": "256461d0-2d5a-4c08-8256-6dc762ddb507",
   "metadata": {},
   "source": [
    "#### Example 3 - Redirecting stdout"
   ]
  },
  {
   "cell_type": "markdown",
   "id": "fd9967a9-25d3-4dde-80ae-0ef531df1711",
   "metadata": {},
   "source": [
    "By default, print redirects to the jupyter kernal, but we can change this to a file very easily.\n",
    "\n",
    "We can view what the current stdout is with:"
   ]
  },
  {
   "cell_type": "code",
   "execution_count": 3,
   "id": "56857d85-7e0d-4c28-95ee-958429b609ca",
   "metadata": {},
   "outputs": [
    {
     "name": "stdout",
     "output_type": "stream",
     "text": [
      "<ipykernel.iostream.OutStream object at 0x00000153761B0520>\n"
     ]
    }
   ],
   "source": [
    "import sys\n",
    "\n",
    "print(sys.stdout)"
   ]
  },
  {
   "cell_type": "markdown",
   "id": "89256d5e-7af9-4eb0-a7f6-69630f0ce3f6",
   "metadata": {},
   "source": [
    "We want to make a context manager that takes a file name and redirects all print statements to that file. We need to make sure we close the file in the exit:"
   ]
  },
  {
   "cell_type": "code",
   "execution_count": 16,
   "id": "25f145c4-4d0f-481d-8a0e-613fad005665",
   "metadata": {},
   "outputs": [
    {
     "name": "stdout",
     "output_type": "stream",
     "text": [
      "Line 3\n",
      "['Line 1\\n', 'Line 2\\n']\n"
     ]
    }
   ],
   "source": [
    "class OutToFile:\n",
    "    def __init__(self, fname):\n",
    "        self.fname = fname\n",
    "        self.original_std = sys.stdout\n",
    "   \n",
    "    def __enter__(self):\n",
    "        self.file = open(self.fname, 'w') \n",
    "        sys.stdout = self.file\n",
    "\n",
    "    def __exit__(self, exc_type, exc_value, exc_tb):\n",
    "        sys.stdout = self.original_std\n",
    "        self.file.close()\n",
    "        return False\n",
    "\n",
    "with OutToFile('test.txt'):\n",
    "    print('Line 1')\n",
    "    print('Line 2')\n",
    "\n",
    "print('Line 3')\n",
    "\n",
    "with open('test.txt', 'r') as f:\n",
    "    print(f.readlines())"
   ]
  },
  {
   "cell_type": "markdown",
   "id": "dd085896-bd58-4a66-a3c4-1e4ef377a84b",
   "metadata": {},
   "source": [
    "#### Example 4 - Re-entrant Context Manager (ListMaker)"
   ]
  },
  {
   "cell_type": "markdown",
   "id": "8dc2bef0-e411-498c-bf81-5df614161035",
   "metadata": {},
   "source": [
    "This is a more complex example where we have the ability to enter a context recursively (contexts within contexts).\n",
    "\n",
    "This context manager will allow us to create a list that automatically indents every time we (re)enter a context. The final output that we're looking for will look something like this:\n",
    "```\n",
    "Title\n",
    "- Item 1\n",
    "   - Sub item 1a\n",
    "   - Sub item 1b\n",
    "      - subsub item 1b(i)\n",
    "      - subsub item 1b(ii)\n",
    "- Item 2\n",
    "   - Sub item 2a\n",
    "   - Sub item 2b\n",
    "```"
   ]
  },
  {
   "cell_type": "code",
   "execution_count": 15,
   "id": "27071214-7bb9-40da-bd25-2e4e62cfddde",
   "metadata": {},
   "outputs": [
    {
     "name": "stdout",
     "output_type": "stream",
     "text": [
      "My Title\n",
      "   - Item 1\n",
      "      - Subitem 1a\n",
      "      - Subitem 1b\n",
      "         - Subitem 1b(i)\n",
      "         - Subitem 1b(ii)\n",
      "   - Item 2\n",
      "      - Sub item 2a\n",
      "      - Sub item 2b\n"
     ]
    }
   ],
   "source": [
    "class ListMaker:\n",
    "    def __init__(self, title, prefix, indent=3):\n",
    "        self.title = title\n",
    "        self.prefix = prefix\n",
    "        self.indent = indent\n",
    "        self.current_indent = 0\n",
    "        print(title)\n",
    "\n",
    "    def __enter__(self):\n",
    "        self.current_indent += self.indent\n",
    "        return self\n",
    "\n",
    "    def __exit__(self, exc_type, exc_value, exc_tb):\n",
    "        self.current_indent -= self.indent\n",
    "\n",
    "    def print_item(self, arg):\n",
    "        s = ' ' * self.current_indent + self.prefix + str(arg)\n",
    "        print(s)\n",
    "\n",
    "with ListMaker('My Title', prefix='- ') as lm:\n",
    "    lm.print_item('Item 1')\n",
    "    with lm:\n",
    "        lm.print_item('Subitem 1a')\n",
    "        lm.print_item('Subitem 1b')\n",
    "        with lm:\n",
    "            lm.print_item('Subitem 1b(i)')\n",
    "            lm.print_item('Subitem 1b(ii)')\n",
    "    lm.print_item('Item 2')\n",
    "    with lm:\n",
    "        lm.print_item('Sub item 2a')\n",
    "        lm.print_item('Sub item 2b')          "
   ]
  },
  {
   "cell_type": "markdown",
   "id": "2eaaafcf-f470-48d2-ab15-c2b272e8dfcf",
   "metadata": {},
   "source": [
    "We can redirect this output to a file using our `OutToFile` context manager:"
   ]
  },
  {
   "cell_type": "code",
   "execution_count": 24,
   "id": "6fd5aa89-b5b4-4524-86f5-6a9bf36af6b8",
   "metadata": {},
   "outputs": [],
   "source": [
    "with OutToFile('my_list.txt'):\n",
    "    with ListMaker('My Title', prefix='- ') as lm:\n",
    "        lm.print_item('Item 1')\n",
    "        with lm:\n",
    "            lm.print_item('Subitem 1a')\n",
    "            lm.print_item('Subitem 1b')\n",
    "            with lm:\n",
    "                lm.print_item('Subitem 1b(i)')\n",
    "                lm.print_item('Subitem 1b(ii)')\n",
    "        lm.print_item('Item 2')\n",
    "        with lm:\n",
    "            lm.print_item('Sub item 2a')\n",
    "            lm.print_item('Sub item 2b')  "
   ]
  },
  {
   "cell_type": "code",
   "execution_count": 26,
   "id": "1c3948f2-4d15-4091-ae13-cb3887886cdf",
   "metadata": {},
   "outputs": [
    {
     "name": "stdout",
     "output_type": "stream",
     "text": [
      "My Title\n",
      "   - Item 1\n",
      "      - Subitem 1a\n",
      "      - Subitem 1b\n",
      "         - Subitem 1b(i)\n",
      "         - Subitem 1b(ii)\n",
      "   - Item 2\n",
      "      - Sub item 2a\n",
      "      - Sub item 2b\n"
     ]
    }
   ],
   "source": [
    "with open('my_list.txt', 'r') as f:\n",
    "    for row in f:\n",
    "        print(row, end='')"
   ]
  },
  {
   "cell_type": "markdown",
   "id": "4d88da9f-8748-4bca-8bf6-6a7c0764a1b6",
   "metadata": {},
   "source": [
    "# 05 - Generators and Context Managers"
   ]
  },
  {
   "cell_type": "markdown",
   "id": "db6f384f-ac51-4e8d-bc8c-f9ebbdf8b39b",
   "metadata": {},
   "source": [
    "One of the design goals of context managers was to enable the creation of a context manager from a generator function.\n",
    "\n",
    "Generators and context managers have a number of similarities: A setup, the central code, and an end. \n",
    "\n",
    "The setup for a generator is the initial yield which pauses the generator. The end is reached by further yielding until we reach a `StopIteration` exception.\n",
    "\n",
    "As a basic example of opening a file using a generator that mimics a context manager:"
   ]
  },
  {
   "cell_type": "code",
   "execution_count": 39,
   "id": "e87fb23a-3d01-4be5-9014-eacc65f725f5",
   "metadata": {},
   "outputs": [
    {
     "name": "stdout",
     "output_type": "stream",
     "text": [
      "['Line 1\\n', 'Line 2\\n']\n"
     ]
    }
   ],
   "source": [
    "# generator function\n",
    "def open_file(fname, mode):\n",
    "    f = open(fname, mode)\n",
    "    try:\n",
    "        # this does nothing but gives us the file object returned by open.\n",
    "        # It does NOT call __enter__ or anything; that requires `with`.\n",
    "        yield f\n",
    "    \n",
    "    finally:\n",
    "        f.close()\n",
    "\n",
    "# call gen func `ctx` as it behaves like one\n",
    "ctx = open_file('test.txt', 'r')\n",
    "f = next(ctx)\n",
    "\n",
    "try:\n",
    "    # main work with file\n",
    "    print(f.readlines())\n",
    "\n",
    "finally:\n",
    "    try:\n",
    "        next(ctx)\n",
    "        \n",
    "    except StopIteration:\n",
    "        # we expect the exception so we don't need to do anything\n",
    "        pass"
   ]
  },
  {
   "cell_type": "markdown",
   "id": "adf3eb6d-e3d8-4659-8e19-0008a21b0e02",
   "metadata": {},
   "source": [
    "The generator function can be as generic as we like as long as it follows a particular pattern:\n",
    "```python\n",
    "def gen(args):\n",
    "    # do setup\n",
    "    try:\n",
    "        yield <obj>\n",
    "    finally:\n",
    "        # clean up <obj>\n",
    "```\n",
    "\n",
    "The generic pattern to get this generator to be treated as a context manager is the following:\n",
    "```python\n",
    "ctx = gen(...)\n",
    "obj = next(gen)\n",
    "\n",
    "try:\n",
    "    # do work with <obj>\n",
    "finally:\n",
    "    try:\n",
    "        next(ctx)\n",
    "    except StopIteration:\n",
    "        pass\n",
    "```\n",
    "This generic pattern to get a context manager replicate from a generator can be implemented using a context manager itself!\n",
    "```python\n",
    "class GenContext:\n",
    "    def __init__(self, gen):\n",
    "        self.gen = gen()\n",
    "\n",
    "    def __enter__(self):\n",
    "        obj = next(self.gen)\n",
    "        return obj\n",
    "\n",
    "    def __exit__(self, exc_type, exc_value, exc_tb):\n",
    "        try:\n",
    "            next(self.gen)\n",
    "        except StopIteration:\n",
    "            pass\n",
    "        return False\n",
    "```\n",
    "This is now quite clean; we can create a context manager out of any generator:\n",
    "```python\n",
    "gen = open_file('test.txt', 'w')\n",
    "with GenContext(gen) as f:\n",
    "    f.readlines()\n",
    "```"
   ]
  },
  {
   "cell_type": "markdown",
   "id": "0bc2d4ab-e4a6-483d-9324-6552488213cc",
   "metadata": {},
   "source": [
    "Here's a basic example:"
   ]
  },
  {
   "cell_type": "code",
   "execution_count": 45,
   "id": "7d301c8c-969f-4628-b0e2-e8b8b4ce0453",
   "metadata": {},
   "outputs": [],
   "source": [
    "class GenCtxManager:\n",
    "    def __init__(self, gen, *args, **kwargs):\n",
    "        self._gen = gen(*args, **kwargs)\n",
    "    \n",
    "    def __enter__(self):\n",
    "        return next(self._gen)\n",
    "\n",
    "    def __exit__(self, exc_type, exc_value, exc_tb):\n",
    "        try:\n",
    "            next(self._gen)\n",
    "        except StopIteration:\n",
    "            pass\n",
    "\n",
    "        return False"
   ]
  },
  {
   "cell_type": "code",
   "execution_count": 46,
   "id": "fbed2464-a141-4122-b63f-ac57f9326355",
   "metadata": {},
   "outputs": [
    {
     "name": "stdout",
     "output_type": "stream",
     "text": [
      "creating pseudo context\n",
      "[1, 2, 3, 4]\n",
      "exiting pseudo context\n"
     ]
    }
   ],
   "source": [
    "def my_gen():\n",
    "    my_list = [1, 2, 3, 4]\n",
    "    try:\n",
    "        print('creating pseudo context')\n",
    "        yield my_list\n",
    "    finally:\n",
    "        print('exiting pseudo context')\n",
    "\n",
    "with GenCtxManager(my_gen) as obj:\n",
    "    print(obj)"
   ]
  },
  {
   "cell_type": "code",
   "execution_count": 49,
   "id": "3d4aa8ee-642d-4437-9f35-d9062fb41f6e",
   "metadata": {},
   "outputs": [
    {
     "name": "stdout",
     "output_type": "stream",
     "text": [
      "opening file...\n",
      "['Line 1\\n', 'Line 2\\n']\n",
      "closing file...\n"
     ]
    }
   ],
   "source": [
    "def open_file(fname, mode):\n",
    "    f = open(fname, mode)\n",
    "    try:\n",
    "        print('opening file...')\n",
    "        yield f\n",
    "    \n",
    "    finally:\n",
    "        print('closing file...')\n",
    "        f.close()\n",
    "\n",
    "with GenCtxManager(open_file, 'test.txt', 'r') as f:\n",
    "    print(f.readlines())"
   ]
  },
  {
   "cell_type": "markdown",
   "id": "2e5e1636-aac2-45ca-a18c-452b0ad28daa",
   "metadata": {},
   "source": [
    "# 06 - The contextmanager Decorator"
   ]
  },
  {
   "cell_type": "markdown",
   "id": "b61f6ff4-ebb9-4592-8787-e4fd8f6c0e61",
   "metadata": {},
   "source": [
    "#### Lecture"
   ]
  },
  {
   "cell_type": "markdown",
   "id": "58332b35-d375-4ac5-908b-7e0e631c44a5",
   "metadata": {},
   "source": [
    "We saw how to create a context manager from a generator function, where the generation function had the following form:\n",
    "```python\n",
    "def gen_function(args):\n",
    "    # do setup\n",
    "    try:\n",
    "        yield <obj>  # similar to return value of `__enter__`\n",
    "    finally:\n",
    "        # do cleanup / __exit__\n",
    "```\n",
    "Take note of the 3 parts to the generator function which mimics the 3 parts of a context manager.\n",
    "\n",
    "Then, we created our own context manager called `GenCtxManager` which takes our generator function and provides a handle to the yielded object. \n",
    "\n",
    "One issue with this approach is we lose the name of the thing we actually care about (the generator function). \n",
    "\n",
    "That is, we must write \n",
    "\n",
    "```\n",
    "gen = gen_func(args)\n",
    "with GenCtxManager(gen_function)\n",
    "```\n",
    "as opposed to `with gen_function` or something like it, so our clarity suffers.\n",
    "\n",
    "So, instead, we can use a decorator to hide/encapsulate these steps. "
   ]
  },
  {
   "cell_type": "code",
   "execution_count": 51,
   "id": "08c74eb1-ecee-4c96-a09e-0caa4ca77c71",
   "metadata": {},
   "outputs": [],
   "source": [
    "class GenCtxManager:\n",
    "    def __init__(self, gen_obj):\n",
    "        self._gen = gen_obj\n",
    "    \n",
    "    def __enter__(self):\n",
    "        return next(self._gen)\n",
    "\n",
    "    def __exit__(self, exc_type, exc_value, exc_tb):\n",
    "        try:\n",
    "            next(self._gen)\n",
    "        except StopIteration:\n",
    "            pass\n",
    "\n",
    "        return False\n",
    "\n",
    "def contextmanager_dec(gen_fn):\n",
    "    def inner(*args, **kwargs):\n",
    "        gen = gen_fn(*args, **kwargs)\n",
    "        return GenCtxManager(gen)\n",
    "    return inner"
   ]
  },
  {
   "cell_type": "markdown",
   "id": "97afd4e1-f360-4c3c-9a99-474e12d3551b",
   "metadata": {},
   "source": [
    "This `contextmanager_dec` will be applied to a generator function and return a context manager. Therefore, the generator function post-decoration will be a context manager that can be entered with `with <generator_func_name>`."
   ]
  },
  {
   "cell_type": "code",
   "execution_count": 53,
   "id": "b0dd7adb-3801-4add-aff2-23b4e96f353d",
   "metadata": {},
   "outputs": [],
   "source": [
    "@contextmanager_dec\n",
    "def open_file(fname, mode):\n",
    "    f = open(fname, mode)\n",
    "    try:\n",
    "        print('opening file...')\n",
    "        yield f\n",
    "    \n",
    "    finally:\n",
    "        print('closing file...')\n",
    "        f.close()"
   ]
  },
  {
   "cell_type": "markdown",
   "id": "79108720-5574-4a30-ba48-971d72500fe5",
   "metadata": {},
   "source": [
    "`open_file` is now a context manager that has wrapped a generator function. We can treat it like a regular context manager:"
   ]
  },
  {
   "cell_type": "code",
   "execution_count": 54,
   "id": "5267aa21-1e87-4e37-813d-cf6aad14b187",
   "metadata": {},
   "outputs": [
    {
     "name": "stdout",
     "output_type": "stream",
     "text": [
      "opening file...\n",
      "['Line 1\\n', 'Line 2\\n']\n",
      "closing file...\n"
     ]
    }
   ],
   "source": [
    "with open_file('test.txt', 'r') as f:\n",
    "    print(f.readlines())"
   ]
  },
  {
   "cell_type": "markdown",
   "id": "3cf70a6a-da28-4f82-8479-78dd786acf7f",
   "metadata": {},
   "source": [
    "Of course, this decorator is already implemented in the standard library under `contextlib.contextmanager`. It is far better though, as it has more robust exception handling.\n",
    "\n",
    "**To summarise, `contextlib.contextmanager` is a decorator which turns a generator function of the form *`try-yield-finally`* (see above) into a context manager**."
   ]
  },
  {
   "cell_type": "markdown",
   "id": "1f117eea-2d57-479a-ae74-0b57d29db91f",
   "metadata": {},
   "source": [
    "#### Example 1 - Open File"
   ]
  },
  {
   "cell_type": "markdown",
   "id": "62a99ced-e7b0-49ed-9e16-17d37bb38d19",
   "metadata": {},
   "source": [
    "Let's apply the standard libary decorator to our generator function to ensure it works all the same:"
   ]
  },
  {
   "cell_type": "code",
   "execution_count": 55,
   "id": "7e4da1a1-0cb0-4d66-9c69-2ec4c0cc17e0",
   "metadata": {},
   "outputs": [
    {
     "name": "stdout",
     "output_type": "stream",
     "text": [
      "opening file...\n",
      "['Line 1\\n', 'Line 2\\n']\n",
      "closing file...\n"
     ]
    }
   ],
   "source": [
    "from contextlib import contextmanager\n",
    "\n",
    "@contextmanager\n",
    "def open_file(fname, mode):\n",
    "    f = open(fname, mode)\n",
    "    try:\n",
    "        print('opening file...')\n",
    "        yield f\n",
    "    \n",
    "    finally:\n",
    "        print('closing file...')\n",
    "        f.close()\n",
    "\n",
    "with open_file('test.txt', 'r') as f:\n",
    "    print(f.readlines())"
   ]
  },
  {
   "cell_type": "markdown",
   "id": "189b195b-9356-4db9-8021-6409cd2abbe1",
   "metadata": {},
   "source": [
    "#### Example 2 - Revisit Timer"
   ]
  },
  {
   "cell_type": "markdown",
   "id": "0e7720fe-9bce-4c12-99c4-4268287d3144",
   "metadata": {},
   "source": [
    "Instead of writing a timer context manager and then using it directly, we are going to write a timer generator function, convert it to a context manager with the decorator, and then use that. \n",
    "\n",
    "We need to make sure we have the `try-yield-finally` pattern inside out generator function. Here's one way to do it:"
   ]
  },
  {
   "cell_type": "code",
   "execution_count": 57,
   "id": "6714679a-7f9f-457c-b4bf-c0f88303a3d5",
   "metadata": {},
   "outputs": [
    {
     "name": "stdout",
     "output_type": "stream",
     "text": [
      "{'start': 496731.2352724, 'end': 496732.2432664, 'elapsed': 1.0079939999850467}\n"
     ]
    }
   ],
   "source": [
    "from time import sleep, perf_counter\n",
    "\n",
    "@contextmanager\n",
    "def timer():\n",
    "    stats = dict()\n",
    "    stats['start'] = perf_counter()\n",
    "    \n",
    "    try:\n",
    "        yield stats\n",
    "\n",
    "    finally:\n",
    "        stats['end'] = perf_counter()\n",
    "        stats['elapsed'] = stats['end'] - stats['start']\n",
    "\n",
    "with timer() as stats:\n",
    "    sleep(1)\n",
    "\n",
    "print(stats)"
   ]
  },
  {
   "cell_type": "markdown",
   "id": "9cd6c6fd-672a-471a-8744-50474309e4d5",
   "metadata": {},
   "source": [
    "Comparing this with the original...\n",
    "```python\n",
    "class Timer:\n",
    "    def __init__(self):\n",
    "        self.elapsed = 0\n",
    "\n",
    "    def __enter__(self):\n",
    "        self.start = perf_counter()\n",
    "        return self\n",
    "\n",
    "    def __exit__(self, exc_type, exc_value, exc_tb):\n",
    "        self.stop = perf_counter()\n",
    "        self.elapsed = self.stop - self.start\n",
    "        return False\n",
    "\n",
    "with Timer() as t:\n",
    "    sleep(1)\n",
    "\n",
    "t.elapsed\n",
    "```\n",
    "... and the generator function may be considered simpler."
   ]
  },
  {
   "cell_type": "markdown",
   "id": "a6e19712-eef8-4fad-ae1a-93bca3784ba0",
   "metadata": {},
   "source": [
    "#### Example 3 - Revisit redirecting stdout"
   ]
  },
  {
   "cell_type": "markdown",
   "id": "aca09d33-59c9-4a45-9837-780530e03cc6",
   "metadata": {},
   "source": [
    "Same idea as above:"
   ]
  },
  {
   "cell_type": "code",
   "execution_count": 61,
   "id": "00036c3c-b5c6-46f7-99ba-8df27b71405a",
   "metadata": {},
   "outputs": [
    {
     "name": "stdout",
     "output_type": "stream",
     "text": [
      "['Line X\\n', 'Line Y\\n']\n",
      "Line Z\n"
     ]
    }
   ],
   "source": [
    "import sys\n",
    "\n",
    "@contextmanager\n",
    "def out_to_file(fname):\n",
    "    original_stdout = sys.stdout\n",
    "    file = open(fname, 'w')\n",
    "    sys.stdout = file\n",
    "    try:\n",
    "        yield None\n",
    "        \n",
    "    finally:\n",
    "        file.close()\n",
    "        sys.stdout = original_stdout\n",
    "\n",
    "with out_to_file('test_2.txt'):\n",
    "    print('Line X')\n",
    "    print('Line Y')\n",
    "\n",
    "with open('test_2.txt', 'r') as f:\n",
    "    print(f.readlines())\n",
    "    \n",
    "print('Line Z')"
   ]
  },
  {
   "cell_type": "markdown",
   "id": "c26c3245-0c0c-4414-9d9e-e8071b01b34d",
   "metadata": {},
   "source": [
    "It turns out the standard library already has an implementation of redirecting stdout called `redirect_stdout` which is much more generic than ours.\n",
    "\n",
    "Ours was forced to take a file name, whereas `redirect_stdout` needs an output stream. A file object is an example of an output stream. "
   ]
  },
  {
   "cell_type": "code",
   "execution_count": 62,
   "id": "cd528f5a-3733-402b-948c-77d8a17474f8",
   "metadata": {},
   "outputs": [
    {
     "name": "stdout",
     "output_type": "stream",
     "text": [
      "['Look on the bright side of life\\n']\n"
     ]
    }
   ],
   "source": [
    "from contextlib import redirect_stdout\n",
    "\n",
    "with open('test_3.txt', 'w') as f:\n",
    "    with redirect_stdout(f):\n",
    "        print('Look on the bright side of life')\n",
    "\n",
    "with open('test_3.txt', 'r') as f:\n",
    "    print(f.readlines())"
   ]
  },
  {
   "cell_type": "markdown",
   "id": "e4240dfd-dcbd-4bad-a9eb-76ac3f083932",
   "metadata": {},
   "source": [
    "# 07 - Nested Context Managers"
   ]
  },
  {
   "cell_type": "code",
   "execution_count": null,
   "id": "ec4e8257-ba0d-4ece-9ffb-6fdf3f8d3c97",
   "metadata": {},
   "outputs": [],
   "source": []
  }
 ],
 "metadata": {
  "kernelspec": {
   "display_name": "Python 3 (ipykernel)",
   "language": "python",
   "name": "python3"
  },
  "language_info": {
   "codemirror_mode": {
    "name": "ipython",
    "version": 3
   },
   "file_extension": ".py",
   "mimetype": "text/x-python",
   "name": "python",
   "nbconvert_exporter": "python",
   "pygments_lexer": "ipython3",
   "version": "3.10.4"
  }
 },
 "nbformat": 4,
 "nbformat_minor": 5
}
