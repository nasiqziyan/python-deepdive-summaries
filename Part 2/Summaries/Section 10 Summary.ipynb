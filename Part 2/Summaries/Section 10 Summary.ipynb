{
 "cells": [
  {
   "cell_type": "markdown",
   "id": "1cf799d3-87a6-4849-b841-3ec5ff1a8cda",
   "metadata": {},
   "source": [
    "# 01 - Context Managers in Python"
   ]
  },
  {
   "cell_type": "markdown",
   "id": "1981f50a-0636-4e81-8195-79f2bf161bc8",
   "metadata": {},
   "source": [
    "#### Introduction"
   ]
  },
  {
   "cell_type": "markdown",
   "id": "a4e32034-3c72-4fc5-b3fe-e48378e720bf",
   "metadata": {},
   "source": [
    "(PEP 343)"
   ]
  },
  {
   "cell_type": "markdown",
   "id": "9fd77c78-5031-4db6-bf6e-81d639495021",
   "metadata": {},
   "source": [
    "Typically, the steps involved in using a context manager are the following:\n",
    "\n",
    "1. Create a context (a minimal amount of state needed for a block of code)\n",
    "2. Execute some code that uses variables from the context\n",
    "3. Automatically clean up the context when we're done"
   ]
  },
  {
   "cell_type": "markdown",
   "id": "6297c920-dbf7-456f-a803-a2779897f8d1",
   "metadata": {},
   "source": [
    "Let's take a look at a simple example:"
   ]
  },
  {
   "cell_type": "markdown",
   "id": "a259686e-938a-4fe6-9ee2-691f633e880c",
   "metadata": {},
   "source": [
    "```python\n",
    "with open('test.txt', 'w') as f:\n",
    "    print(f.readlines())\n",
    "```"
   ]
  },
  {
   "cell_type": "markdown",
   "id": "552a2ff3-d9b6-4d2e-8b0e-381c2f23bdeb",
   "metadata": {},
   "source": [
    "- `open()`: **Creates** the context\n",
    "- `with`: **enters** the context\n",
    "\n",
    "The context closes once the indented block completes.\n",
    "\n",
    "Context managers data in our scope **on entry** and **on exit**. \n",
    "\n",
    "Therefore, it's very useful for anything that needs the **Enter/Exit** or **Start/Stop** or **Set/Reset** pattern.\n",
    "\n",
    "Examples are:\n",
    "- Open / close a file.\n",
    "- Start db transaction / commit or abort transaction.\n",
    "- Set decimal precision to 3 / reset back to original precision\n",
    "- Change / reset (the state of a class)\n",
    "- Lock / release (a thread)"
   ]
  },
  {
   "cell_type": "markdown",
   "id": "65bf86f9-44cd-4c85-ba4b-e1ae37e33783",
   "metadata": {},
   "source": [
    "#### Lecture"
   ]
  },
  {
   "cell_type": "markdown",
   "id": "2d241a6c-c42b-4416-a853-55faedf45f05",
   "metadata": {},
   "source": [
    "The functionality of a context manager can be achieved with a `try`-`finally` block, but it gets quite cumbersome."
   ]
  },
  {
   "cell_type": "markdown",
   "id": "d2ae349e-bdd1-45d6-a981-4092a92d30e8",
   "metadata": {},
   "source": [
    "The layout is as following:\n",
    "```python\n",
    "with <context object> as <obj_name>:\n",
    "    <with block>\n",
    "<after with block; context cleaned up>\n",
    "```"
   ]
  },
  {
   "cell_type": "markdown",
   "id": "25467ff1-4dea-4bb2-b408-7413cf642f29",
   "metadata": {},
   "source": [
    "A `context` object is one that implements the `context management protocol`.\n",
    "\n",
    "Classes implement this protocol by implementing two methods:\n",
    "1. `__enter__`: does the setup and optionally returns some object\n",
    "2. `__exit__` tear down / cleanup"
   ]
  },
  {
   "cell_type": "markdown",
   "id": "b2dff998-8059-458b-8614-8a64eb5c09e2",
   "metadata": {},
   "source": [
    "Consider this context:\n",
    "```python\n",
    "with CtxManager() as obj:\n",
    "    # do something\n",
    "# done with context\n",
    "```\n",
    "Let's replicate the functionality of a context manager with a simplified `try`-`finally`:\n",
    "```python\n",
    "mgr = CtxManager()\n",
    "obj = mgr.__enter__()\n",
    "try:\n",
    "    # do something\n",
    "finally:\n",
    "    # done with context\n",
    "    # mgr.__exit__()\n",
    "```"
   ]
  },
  {
   "cell_type": "markdown",
   "id": "42ec07bb-98ff-46e0-8d2f-d2095bc14ec2",
   "metadata": {},
   "source": [
    "**Further Breakdown**\n",
    "\n",
    "In the following code, note that `MyClass` behaves like a regular class from which objects can be instantiated until it encounters a `with` keyword.\n",
    "\n",
    "- **It is `with` that calls the `__enter__()` method.**\n",
    "- The return of `__enter__()` is passed to the object after the `as` keyword.\n",
    "- To emphasise, what gets put into `obj` is **not** the return of `MyClass` but rather the return of `__enter__()`.\n",
    "- `MyClass().__exit__()` only gets called after the `with` block **or** if an exception is called - the arguments of `__exit__()` are for dealing with exceptions."
   ]
  },
  {
   "cell_type": "markdown",
   "id": "353aa95b-b1bd-452a-81d0-b87731c20875",
   "metadata": {},
   "source": [
    "```python\n",
    "class MyClass:\n",
    "    def __init__(self):\n",
    "\n",
    "    def __enter__(self):\n",
    "        # return obj\n",
    "\n",
    "    def __exit__(self, <...>):\n",
    "        # clean up\n",
    "\n",
    "my_obj = MyClass()\n",
    "\n",
    "with MyClass() as obj:\n",
    "    # do something\n",
    "```"
   ]
  },
  {
   "cell_type": "markdown",
   "id": "ed9b63b5-6e21-427d-9cd3-42efa51da4c7",
   "metadata": {},
   "source": [
    "**Scopes**\n",
    "\n",
    "A `with` block does **not** have its own scope unlike a function or list comprehension. It just shares the scope of wherever it's running in. Even the `obj` in `as obj` is within this same scope.\n",
    "\n",
    "To illustrate with a simple example:\n",
    "```python\n",
    "# module.py\n",
    "with open(fname) as f:\n",
    "    row = next(f)\n",
    "\n",
    "print(f, row) # this will work\n",
    "```\n",
    "`f` and `row` are symbols in the **global** scope even after the context closes.\n",
    "\n",
    "Note that, in the case of `open()`, the return of `open()` is the same as the return of its `__enter__()` method. This allows both approaches:\n",
    "- `f = open('test.txt', 'w')`\n",
    "- `with open('test.txt', 'w') as f:`"
   ]
  },
  {
   "cell_type": "markdown",
   "id": "9c9cf35c-6336-4b85-ad65-73103cda1922",
   "metadata": {},
   "source": [
    "**`__enter__` and `__exit__`**\n",
    "\n",
    "`__enter__` is quite simple; we've explained everything that we need to about it.\n",
    "\n",
    "`__exit__` will **always** run even if an exception occurs, but if that's the case, how do we deal with it in comparison to when we normally finish our `with` block? \n",
    "\n",
    "    We can silence it which lets it continue the regular teardown or we can propagate it which lets it continue as if we hadn't intercepted it. The latter will terminate the entire module program thereby preventing any code below the `with` block to execute, unlike the former which will let the code continue as normal.\n",
    "\n",
    "    The `__exit__` method needs 3 arguments:\n",
    "    - exception type\n",
    "    - exception value\n",
    "    - traceback object (the big output that retraces our steps when we hit an exception) \n",
    "\n",
    "    If no exception occurs, then all three of these arguments will return `None`.\n",
    "\n",
    "    The `__exit__` method must return `True` or `False`. \n",
    "    - `True`: silence any raised exception; continue execution as normal\n",
    "    - `False`: propagate exception"
   ]
  },
  {
   "cell_type": "markdown",
   "id": "bbbf2b41-f28f-4186-9eee-40ef1bacfdd8",
   "metadata": {},
   "source": [
    "#### Coding"
   ]
  },
  {
   "cell_type": "markdown",
   "id": "ad20a59e-9c39-4c17-aec2-6509189daa8e",
   "metadata": {},
   "source": [
    "##### Example 1"
   ]
  },
  {
   "cell_type": "markdown",
   "id": "6cd327f4-282a-4fc5-ab98-36fb10dc18ac",
   "metadata": {},
   "source": [
    "Here's a basic example:"
   ]
  },
  {
   "cell_type": "code",
   "execution_count": 5,
   "id": "0ca65ce7-ac23-418b-aef8-1dbfaec2ea88",
   "metadata": {},
   "outputs": [],
   "source": [
    "class MyContext:\n",
    "    def __init__(self):\n",
    "        self.obj = None\n",
    "\n",
    "    def __enter__(self):\n",
    "        print('Entering context...')\n",
    "        self.obj = 'The Return Object'\n",
    "        return self.obj\n",
    "\n",
    "    def __exit__(self, exc_type, exc_value, exc_tb):\n",
    "        print('exiting context...')\n",
    "        if exc_type:\n",
    "            print(f\"*** Error occurred, manually catching: {exc_type}, {exc_value}\")\n",
    "        return False"
   ]
  },
  {
   "cell_type": "markdown",
   "id": "54c574a0-1028-4492-97e9-2c9bd067c5e8",
   "metadata": {},
   "source": [
    "Note:\n",
    "- `exc_type`, `exc_value`, `exc_tb` can be named whatever we like, but the positions matter. The first for the type, the second for the value and the third for the traceback info object.\n",
    "- Think of `__exit__` as *silent* or *normal* exit. Then, `return True` will silence the exception and no traceback will appear. `return False` will trap any exceptions caught and bubble it back up."
   ]
  },
  {
   "cell_type": "code",
   "execution_count": 8,
   "id": "098925a4-4e98-42cf-9e94-fde26a9c3fe2",
   "metadata": {},
   "outputs": [
    {
     "name": "stdout",
     "output_type": "stream",
     "text": [
      "Entering context...\n",
      "Inside block; obj = 'The Return Object'\n",
      "exiting context...\n",
      "*** Error occurred, manually catching: <class 'ValueError'>, some value\n"
     ]
    },
    {
     "ename": "ValueError",
     "evalue": "some value",
     "output_type": "error",
     "traceback": [
      "\u001b[1;31m---------------------------------------------------------------------------\u001b[0m",
      "\u001b[1;31mValueError\u001b[0m                                Traceback (most recent call last)",
      "Cell \u001b[1;32mIn[8], line 5\u001b[0m\n\u001b[0;32m      3\u001b[0m \u001b[38;5;28;01mwith\u001b[39;00m MyContext() \u001b[38;5;28;01mas\u001b[39;00m obj:\n\u001b[0;32m      4\u001b[0m     \u001b[38;5;28mprint\u001b[39m(\u001b[38;5;124mf\u001b[39m\u001b[38;5;124m\"\u001b[39m\u001b[38;5;124mInside block; \u001b[39m\u001b[38;5;132;01m{\u001b[39;00mobj\u001b[38;5;250m \u001b[39m\u001b[38;5;132;01m= }\u001b[39;00m\u001b[38;5;124m\"\u001b[39m)\n\u001b[1;32m----> 5\u001b[0m     \u001b[38;5;28;01mraise\u001b[39;00m \u001b[38;5;167;01mValueError\u001b[39;00m(\u001b[38;5;124m'\u001b[39m\u001b[38;5;124msome value\u001b[39m\u001b[38;5;124m'\u001b[39m)\n\u001b[0;32m      7\u001b[0m \u001b[38;5;28mprint\u001b[39m(\u001b[38;5;124m'\u001b[39m\u001b[38;5;124mrest of program here; I wont run\u001b[39m\u001b[38;5;124m'\u001b[39m)\n",
      "\u001b[1;31mValueError\u001b[0m: some value"
     ]
    }
   ],
   "source": [
    "# since `return False`, we expect exception to bubble back up and remaining code after `with` block to not run\n",
    "\n",
    "with MyContext() as obj:\n",
    "    print(f\"Inside block; {obj = }\")\n",
    "    raise ValueError('some value')\n",
    "\n",
    "print('rest of program here; I wont run')"
   ]
  },
  {
   "cell_type": "markdown",
   "id": "e996de24-60a1-45ea-858b-6fddbf46d680",
   "metadata": {},
   "source": [
    "Now let's switch the return flag to `False`:"
   ]
  },
  {
   "cell_type": "code",
   "execution_count": 10,
   "id": "419a5639-6925-4c5a-83ac-3e258e2ca161",
   "metadata": {},
   "outputs": [],
   "source": [
    "class MyContext:\n",
    "    def __init__(self):\n",
    "        self.obj = None\n",
    "\n",
    "    def __enter__(self):\n",
    "        print('Entering context...')\n",
    "        self.obj = 'The Return Object'\n",
    "        return self.obj\n",
    "\n",
    "    def __exit__(self, exc_type, exc_value, exc_tb):\n",
    "        print('exiting context...')\n",
    "        if exc_type:\n",
    "            print(f\"*** Error occurred, manually catching: {exc_type}, {exc_value}\")\n",
    "        return True"
   ]
  },
  {
   "cell_type": "code",
   "execution_count": 11,
   "id": "d8cdf902-8093-450c-a53b-ef5d74602053",
   "metadata": {},
   "outputs": [
    {
     "name": "stdout",
     "output_type": "stream",
     "text": [
      "Entering context...\n",
      "Inside block; obj = 'The Return Object'\n",
      "exiting context...\n",
      "*** Error occurred, manually catching: <class 'ValueError'>, some value\n",
      "rest of program here; I will run\n"
     ]
    }
   ],
   "source": [
    "# since `return True`, we expect exception to be suppressed and remaining code after `with` block will run\n",
    "\n",
    "with MyContext() as obj:\n",
    "    print(f\"Inside block; {obj = }\")\n",
    "    raise ValueError('some value')\n",
    "\n",
    "print('rest of program here; I will run')"
   ]
  },
  {
   "cell_type": "markdown",
   "id": "10629e5e-db31-4aa7-878e-48690e405b6c",
   "metadata": {},
   "source": [
    "**Good Practices**\n",
    "\n",
    "Often we will trap certain common exceptions, handle them and silent exit `return True`, but for the uncommon exceptions, we'll let them bubble back up (`return False`)."
   ]
  },
  {
   "cell_type": "markdown",
   "id": "65e16ff3-5f1f-4ec6-bfb8-7aee1a0d2746",
   "metadata": {},
   "source": [
    "##### Example 2"
   ]
  },
  {
   "cell_type": "markdown",
   "id": "d55d440f-9ce0-4847-92de-c28b7adb125f",
   "metadata": {},
   "source": [
    "Let's create a context manager that creates and utilises a new resource upon entering the context:"
   ]
  },
  {
   "cell_type": "code",
   "execution_count": 21,
   "id": "a372bb70-1e9d-4c73-a260-b08d458e6c6a",
   "metadata": {},
   "outputs": [],
   "source": [
    "class Resource:\n",
    "    def __init__(self, name):\n",
    "        self.name = name\n",
    "        self.state = None\n",
    "\n",
    "class ResourceManager:\n",
    "    def __init__(self, name):\n",
    "        self.name = name\n",
    "        self.resource = None  # we only want to create the resource when we enter a context\n",
    "\n",
    "    def __enter__(self):\n",
    "        print('entering context')\n",
    "        self.resource = Resource(self.name)\n",
    "        self.resource.state = 'Created'\n",
    "        return self.resource\n",
    "\n",
    "    def __exit__(self, exc_type, exc_value, exc_tb):\n",
    "        print('exiting context')\n",
    "        self.resource.state = 'Destroyed'\n",
    "        if exc_type: # if an exception has occured\n",
    "            print('Exception occurred!')\n",
    "        return False"
   ]
  },
  {
   "cell_type": "code",
   "execution_count": 25,
   "id": "aff28fb0-bb57-4c15-a4c6-e02827ee196d",
   "metadata": {},
   "outputs": [
    {
     "name": "stdout",
     "output_type": "stream",
     "text": [
      "entering context\n",
      "res.name = 'spam', res.state = 'Created'\n",
      "exiting context\n",
      "res.name = 'spam', res.state = 'Destroyed'\n"
     ]
    }
   ],
   "source": [
    "with ResourceManager('spam') as res:\n",
    "    print(f\"{res.name = }, {res.state = }\")\n",
    "\n",
    "print(f\"{res.name = }, {res.state = }\")"
   ]
  },
  {
   "cell_type": "markdown",
   "id": "54ea33a3-65f4-4346-937a-9919a741dc6b",
   "metadata": {},
   "source": [
    "# 02 - Caveat with Lazy Iterators"
   ]
  },
  {
   "cell_type": "markdown",
   "id": "4d607c28-5bb9-4595-bd5b-8f0ebb032a9c",
   "metadata": {},
   "source": [
    "As we know, `open()` creates a context and utilises a lazy iterator. What might often happen is the context closes before we get a chance to iterate through the iterator. For example:"
   ]
  },
  {
   "cell_type": "code",
   "execution_count": 30,
   "id": "60a5e42a-3029-4457-975c-496c4a32d9cc",
   "metadata": {},
   "outputs": [
    {
     "ename": "ValueError",
     "evalue": "I/O operation on closed file.",
     "output_type": "error",
     "traceback": [
      "\u001b[1;31m---------------------------------------------------------------------------\u001b[0m",
      "\u001b[1;31mValueError\u001b[0m                                Traceback (most recent call last)",
      "Cell \u001b[1;32mIn[30], line 8\u001b[0m\n\u001b[0;32m      5\u001b[0m         \u001b[38;5;28;01mreturn\u001b[39;00m csv\u001b[38;5;241m.\u001b[39mreader(f, delimiter\u001b[38;5;241m=\u001b[39m\u001b[38;5;124m'\u001b[39m\u001b[38;5;124m,\u001b[39m\u001b[38;5;124m'\u001b[39m, quotechar\u001b[38;5;241m=\u001b[39m\u001b[38;5;124m'\u001b[39m\u001b[38;5;124m\"\u001b[39m\u001b[38;5;124m'\u001b[39m)\n\u001b[0;32m      7\u001b[0m reader \u001b[38;5;241m=\u001b[39m read_data()\n\u001b[1;32m----> 8\u001b[0m \u001b[38;5;28;01mfor\u001b[39;00m row \u001b[38;5;129;01min\u001b[39;00m reader:\n\u001b[0;32m      9\u001b[0m     \u001b[38;5;28mprint\u001b[39m(row)\n",
      "\u001b[1;31mValueError\u001b[0m: I/O operation on closed file."
     ]
    }
   ],
   "source": [
    "import csv\n",
    "\n",
    "def read_data():\n",
    "    with open(\"nyc_parking_tickets_extract.csv\", 'w') as f:\n",
    "        return csv.reader(f, delimiter=',', quotechar='\"')\n",
    "\n",
    "reader = read_data()\n",
    "for row in reader:\n",
    "    print(row)"
   ]
  },
  {
   "cell_type": "markdown",
   "id": "8169de1c-7430-4510-8639-7a1f2c3d051c",
   "metadata": {},
   "source": [
    "This occurred because `return` is present in the `with` block. As a result, `with` called `open`'s `__exit__()` which closed the file. How do we get around this?\n",
    "\n",
    "After `return` returns, there's nothing left to execute in the `with` block so the `context` can exit.\n",
    "\n",
    "But `yield`/`yield from` doesn't exit until we've iterated through the entire iterator and hit a `StopIteration` exception. This is how we can solve our problem.\n",
    "\n",
    "Note: `csv.reader()` is an iterator; we can either start a `for` loop that yields on each iteration or yield directly from the iterator with `yield from`.\n",
    "\n",
    "The two lines below are *basically* identical\n",
    "\n",
    "```python\n",
    "yield from csv.reader(f, delimiter=',', quotechar='\"')`\n",
    "```\n",
    "```python\n",
    "for row in csv.reader(f, delimiter=',', quotechar='\"'):\n",
    "    yield row\n",
    "```"
   ]
  },
  {
   "cell_type": "code",
   "execution_count": 33,
   "id": "ec135620-5af5-42e1-aac1-d3c11216a034",
   "metadata": {},
   "outputs": [
    {
     "name": "stdout",
     "output_type": "stream",
     "text": [
      "['Summons Number', 'Plate ID', 'Registration State', 'Plate Type', 'Issue Date', 'Violation Code', 'Vehicle Body Type', 'Vehicle Make', 'Violation Description']\n"
     ]
    }
   ],
   "source": [
    "import csv\n",
    "\n",
    "def read_data():\n",
    "    with open(\"nyc_parking_tickets_extract.csv\") as f:\n",
    "        yield from csv.reader(f, delimiter=',', quotechar='\"')\n",
    "\n",
    "reader = read_data()\n",
    "\n",
    "for row in reader:\n",
    "    print(row)\n",
    "    break"
   ]
  },
  {
   "cell_type": "markdown",
   "id": "02b883ec-698c-4ac9-a26c-dcfcfd6aa977",
   "metadata": {},
   "source": [
    "# 03 - Not Just a Context Manager"
   ]
  },
  {
   "cell_type": "markdown",
   "id": "5f57fa77-32e7-40d3-b193-100139a18c2e",
   "metadata": {},
   "source": [
    "# 04 - Additional Uses"
   ]
  },
  {
   "cell_type": "markdown",
   "id": "4d88da9f-8748-4bca-8bf6-6a7c0764a1b6",
   "metadata": {},
   "source": [
    "# 05 - Generators and Context Managers"
   ]
  },
  {
   "cell_type": "markdown",
   "id": "2e5e1636-aac2-45ca-a18c-452b0ad28daa",
   "metadata": {},
   "source": [
    "# 06 - The contextmanager Decorator"
   ]
  },
  {
   "cell_type": "markdown",
   "id": "e4240dfd-dcbd-4bad-a9eb-76ac3f083932",
   "metadata": {},
   "source": [
    "# 07 - Nested Context Managers"
   ]
  }
 ],
 "metadata": {
  "kernelspec": {
   "display_name": "Python 3 (ipykernel)",
   "language": "python",
   "name": "python3"
  },
  "language_info": {
   "codemirror_mode": {
    "name": "ipython",
    "version": 3
   },
   "file_extension": ".py",
   "mimetype": "text/x-python",
   "name": "python",
   "nbconvert_exporter": "python",
   "pygments_lexer": "ipython3",
   "version": "3.10.4"
  }
 },
 "nbformat": 4,
 "nbformat_minor": 5
}
