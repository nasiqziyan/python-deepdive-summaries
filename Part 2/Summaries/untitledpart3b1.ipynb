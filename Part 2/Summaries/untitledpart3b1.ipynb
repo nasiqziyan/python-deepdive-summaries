{
 "cells": [
  {
   "cell_type": "markdown",
   "id": "5c009729-8de0-4fac-b948-9fcde575aca5",
   "metadata": {},
   "source": [
    "**Fibonacci Sequence Example**\n",
    "\n",
    "Here, we're going to implement our own Fibonacci sequence type and we want to support slicing.\n",
    "\n",
    "We'll make our sequence type bounded (i.e. we'll have to specify the size of the sequence). But we are not going to pre-generate the entire sequence of Fibonacci numbers, we'll only generate the ones that are being requested as needed.\n",
    "\n",
    "So, when we create our object, we'll have to specify the maximum Fibonacci number that will be possible for this sequence (but we won't generate that value or any other Fibonacci value during the creation of the object). See below.\n",
    "\n",
    "```\n",
    "f = Fib(10)    # Creating our Fibonacci sequence that can generate up to 10 values.\n",
    "f[3:5]         # It can handle slices. In this case, return a list of the element 3 and 4 of the Fibonacci sequence (i.e. 4th and 5th).\n",
    "f[::-1]        # Return a list of all Fibonacci values in reverse order. In this case, the 10th value and below. \n",
    "```\n",
    "\n",
    "Here are the steps:\n",
    "\n",
    "\n",
    "1. First we'll need to handle requesting a single index e.g. `f[3]` for the 4th Fibonacci value. To do this, we just need `__getitem__` which will allow the `[]` notation. \n",
    "\n",
    "\n",
    "2. To actually calculate the nth Fibonacci number, we'll use memoisation as well (see lecture on decorators and memoisation if you need to refresh your memory on that).\n",
    "\n",
    "3. To be able to use `list(f)`, we need to raise an `IndexError` exception when the index is out of bounds as this is one of the two essential criteria for iterating through a sequence. \n",
    "\n",
    "4. We also need to remap negative indices (for example `-1` should correspond to the last element of the sequence, and so on). This is done with:     \n",
    "\n",
    "```\n",
    "if s < 0:\n",
    "    s = self._n + s\n",
    "```\n",
    "\n",
    "5. Now let's handle slice requests. If you recall from Section 05 - Slicing, you might think it to be difficult to implement all those rules. But remember, the slice method `indices(<length of sequence>)` returns a tuple of 3 values which correspond to the equivalent start, stop and step values. These can be converted into a range object which we can iterate through, e.g. using a list comprehension or a 'for' loop, computing the corresponding Fibonacci value at each step. We can go further by generating the full list to show us which indices are going to be asked for.\n",
    "\n",
    "For example:\n",
    "   \n",
    "```\n",
    "   my_slice = slice(2, -7, -2)          # When applied to a sequence s, it'd be equivalent to s[2:-7:-2]. Hard to see which indices we are requiring.\n",
    "\n",
    "   list(range(*my_slice.indices(6)))    # If we pass in the length of our sequence (6) then it outputs that we're asking for...\n",
    "   \n",
    "   > [2, 0]                             # ...index 2 and index 0. So find _fib(2) and then _fib(0), but we've not implemented this extra detail below.\n",
    " ```\n",
    "   \n",
    "We're done."
   ]
  },
  {
   "cell_type": "code",
   "execution_count": 27,
   "id": "69fa7425-eee8-4914-9f03-3a27f7090a2d",
   "metadata": {},
   "outputs": [],
   "source": [
    "from functools import lru_cache\n",
    "\n",
    "class Fib:\n",
    "    def __init__(self, n):\n",
    "        self._n = n\n",
    "    \n",
    "    def __getitem__(self, s):\n",
    "        if isinstance(s, int):\n",
    "            # single item requested\n",
    "            if s < 0:\n",
    "                s = self._n + s\n",
    "            if s < 0 or s > self._n - 1:\n",
    "                raise IndexError\n",
    "            return self._fib(s)                                 # this is basically our 'else' statement.\n",
    "            \n",
    "        else:\n",
    "            # slice being requested\n",
    "            idx = s.indices(self._n)                            # the argument required for s.indices is the length of the sequence which is self._n\n",
    "            rng = range(*idx)                                   # This will create a range sequence object e.g. range(0, 10, 2), corresponding to the indices\n",
    "            return [self._fib(n) for n in rng]                  # in the Fibonacci sequence that we want.\n",
    "            \n",
    "    @staticmethod\n",
    "    @lru_cache(2**32)\n",
    "    def _fib(n):\n",
    "        if n < 2:\n",
    "            return 1\n",
    "        else:\n",
    "            return Fib._fib(n-1) + Fib._fib(n-2)"
   ]
  },
  {
   "cell_type": "code",
   "execution_count": 28,
   "id": "ae305e7f-48ca-4073-8ee9-e349e25d0e69",
   "metadata": {},
   "outputs": [
    {
     "name": "stdout",
     "output_type": "stream",
     "text": [
      "1\n",
      "55\n",
      "[1, 1, 2, 3, 5, 8, 13, 21, 34, 55]\n",
      "[1, 1, 2, 3, 5, 8, 13, 21, 34, 55]\n",
      "[2, 5, 13, 34]\n"
     ]
    }
   ],
   "source": [
    "f = Fib(10)\n",
    "\n",
    "print(f[0])\n",
    "print(f[9])\n",
    "print(list(f))\n",
    "print(list(item for item in f))\n",
    "print(f[2:9:2])"
   ]
  }
 ],
 "metadata": {
  "kernelspec": {
   "display_name": "Python 3 (ipykernel)",
   "language": "python",
   "name": "python3"
  },
  "language_info": {
   "codemirror_mode": {
    "name": "ipython",
    "version": 3
   },
   "file_extension": ".py",
   "mimetype": "text/x-python",
   "name": "python",
   "nbconvert_exporter": "python",
   "pygments_lexer": "ipython3",
   "version": "3.10.4"
  }
 },
 "nbformat": 4,
 "nbformat_minor": 5
}
