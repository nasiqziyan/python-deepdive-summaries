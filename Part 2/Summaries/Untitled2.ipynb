{
 "cells": [
  {
   "cell_type": "markdown",
   "id": "1471371c-4d3e-436f-9c45-4892957ffb74",
   "metadata": {},
   "source": [
    "# 06 - Custom Sequences - Part 1"
   ]
  },
  {
   "cell_type": "markdown",
   "id": "b2dbfdd2-bf99-43cf-b5b9-b5c198bc0cdc",
   "metadata": {},
   "source": [
    "#### Lecture"
   ]
  },
  {
   "cell_type": "markdown",
   "id": "b88aa6a4-445b-4212-9489-8a0960819b43",
   "metadata": {},
   "source": [
    "We're going to be creating our own sequence types. For part 1, we'll focus on immutable sequence types only. At it's most basic, an immutable sequence type should support two things:\n",
    "\n",
    "- returning the **length** of the sequence,\n",
    "- given an **index**, return the element at that index.\n",
    "\n",
    "If an object provides this functionality, then in theory we should be able to:\n",
    "\n",
    "- retrieve elements **by index** using square brackets `[]`,\n",
    "- **iterate** through the elements using Python's native looping mechanisms such as `for` loops, list comprehensions, etc."
   ]
  },
  {
   "cell_type": "markdown",
   "id": "b7e2f641-1de3-4e46-9db9-3710b1c00911",
   "metadata": {},
   "source": [
    "**How does Python do it?** \n",
    "\n",
    "The sequence types must at the minimum implement:\n",
    "\n",
    "- `__len__`: We'll find out that this is not necessary but still recommended\n",
    "- `__getitem__`: This is the main one for taking a single integer argument - the index. However, it may also choose to handle a **slice** type argument. We decide.\n"
   ]
  },
  {
   "cell_type": "markdown",
   "id": "5e7e9b17-206e-450a-bc46-3bebd606b3c2",
   "metadata": {},
   "source": [
    "#### The `__getitem__` method"
   ]
  },
  {
   "cell_type": "markdown",
   "id": "34f63112-80fe-4f79-935b-d469e1ac6411",
   "metadata": {},
   "source": [
    "**This method should return an element of the sequence based on the specified index or raise an `IndexError` exception if the index is out of bounds.**\n",
    "\n",
    "If we implement these **two** things then Python can actually utilise our `__getitem__` method to iterate through our sequence, e.g. by using the `for` loop.\n",
    "\n",
    "(We may choose to support negative indices and slices but this is optional.)\n",
    "\n",
    "Python's `list` already supports `__getitem__` as an equivalent approach to the `[]`. Negative indices are valid so long as they are not out of bounds."
   ]
  },
  {
   "cell_type": "code",
   "execution_count": 18,
   "id": "11d33ea0-9b0f-47d8-b7d4-a8461342ae4e",
   "metadata": {},
   "outputs": [
    {
     "name": "stdout",
     "output_type": "stream",
     "text": [
      "a\n",
      "['a', 'c', 'e']\n",
      "f\n"
     ]
    }
   ],
   "source": [
    "my_list = ['a', 'b', 'c', 'd', 'e', 'f']\n",
    "\n",
    "print(my_list.__getitem__(0))\n",
    "print(my_list.__getitem__(slice(0, 6, 2)))\n",
    "print(my_list.__getitem__(-1))"
   ]
  },
  {
   "cell_type": "markdown",
   "id": "fe35a8b3-2292-4ff4-9519-7f9b94cc223c",
   "metadata": {},
   "source": [
    "This include the `IndexError`:"
   ]
  },
  {
   "cell_type": "code",
   "execution_count": 16,
   "id": "f9b9f73b-049a-405c-934c-037b7ea7f68b",
   "metadata": {},
   "outputs": [
    {
     "ename": "IndexError",
     "evalue": "list index out of range",
     "output_type": "error",
     "traceback": [
      "\u001b[0;31m---------------------------------------------------------------------------\u001b[0m",
      "\u001b[0;31mIndexError\u001b[0m                                Traceback (most recent call last)",
      "\u001b[0;32m/tmp/ipykernel_3888/2288129030.py\u001b[0m in \u001b[0;36m<module>\u001b[0;34m\u001b[0m\n\u001b[0;32m----> 1\u001b[0;31m \u001b[0mprint\u001b[0m\u001b[0;34m(\u001b[0m\u001b[0mmy_list\u001b[0m\u001b[0;34m.\u001b[0m\u001b[0m__getitem__\u001b[0m\u001b[0;34m(\u001b[0m\u001b[0;36m100\u001b[0m\u001b[0;34m)\u001b[0m\u001b[0;34m)\u001b[0m\u001b[0;34m\u001b[0m\u001b[0;34m\u001b[0m\u001b[0m\n\u001b[0m",
      "\u001b[0;31mIndexError\u001b[0m: list index out of range"
     ]
    }
   ],
   "source": [
    "print(my_list.__getitem__(100))"
   ]
  },
  {
   "cell_type": "markdown",
   "id": "36bca4bb-f8a7-40e7-b66b-c811cc0c7aca",
   "metadata": {},
   "source": [
    "**How would we implement a `for` loop ourselves?**"
   ]
  },
  {
   "cell_type": "code",
   "execution_count": 19,
   "id": "82b326c0-3b18-4f5a-bb22-01f5cd8e09f6",
   "metadata": {},
   "outputs": [
    {
     "name": "stdout",
     "output_type": "stream",
     "text": [
      "1\n",
      "4\n",
      "9\n",
      "16\n",
      "25\n"
     ]
    }
   ],
   "source": [
    "my_list = [1, 2, 3, 4, 5]\n",
    "\n",
    "for item in my_list:\n",
    "    print(item**2)"
   ]
  },
  {
   "cell_type": "code",
   "execution_count": 21,
   "id": "5ba3685e-350f-41bb-8f48-0d1a95611957",
   "metadata": {},
   "outputs": [
    {
     "name": "stdout",
     "output_type": "stream",
     "text": [
      "1\n",
      "4\n",
      "9\n",
      "16\n",
      "25\n"
     ]
    }
   ],
   "source": [
    "my_list = [1, 2, 3, 4, 5]\n",
    "index = 0\n",
    "\n",
    "while True:\n",
    "    try:\n",
    "        item = my_list.__getitem__(index)\n",
    "    except IndexError:\n",
    "        break\n",
    "    \n",
    "    print(item**2)\n",
    "    index += 1"
   ]
  },
  {
   "cell_type": "markdown",
   "id": "a554d052-7a97-4be7-ac5c-8cba73ab1161",
   "metadata": {},
   "source": [
    "The approach above of using `while True` paired with `except` is more Pythonic than something like `while index < len(our_sequence)`.\n",
    "\n",
    "When we implement `__getitem__` in our class, the `for` loop (or list comprehension) notation will function, where the `x` in `for x in sequence` will be passed to `__getitem__`. Again, it  will keep iterating until it hits an `IndexError`"
   ]
  },
  {
   "cell_type": "code",
   "execution_count": 31,
   "id": "f850dacb-4ccd-4ffd-8fdf-dea31279220f",
   "metadata": {},
   "outputs": [],
   "source": [
    "class Silly:\n",
    "    def __init__(self, n):\n",
    "        self.n = n\n",
    "        \n",
    "    def __getitem__(self, value): \n",
    "        print(f'{value=}')\n",
    "        \n",
    "        if value < 0 or value >= self.n:\n",
    "            raise IndexError\n",
    "        \n",
    "        else:\n",
    "            return 'This is a silly element'"
   ]
  },
  {
   "cell_type": "code",
   "execution_count": 32,
   "id": "b5ca73d7-c45c-4a09-9607-cde2e3a73b0a",
   "metadata": {},
   "outputs": [
    {
     "name": "stdout",
     "output_type": "stream",
     "text": [
      "value=0\n",
      "This is a silly element\n",
      "value=1\n",
      "This is a silly element\n",
      "value=2\n",
      "This is a silly element\n",
      "value=3\n"
     ]
    }
   ],
   "source": [
    "silly = Silly(3)\n",
    "\n",
    "for e in silly:\n",
    "    print(e)"
   ]
  },
  {
   "cell_type": "markdown",
   "id": "463653d9-41df-43f9-b46d-d5899bce7b56",
   "metadata": {},
   "source": [
    "The small difference we notice with the list comprehension approach below is that the `__getitem__` is being called multiple times as the list is being built up, and then finally, the list object is returned. But of course, we won't normally have a `print` statement within the `__getitem__` method."
   ]
  },
  {
   "cell_type": "code",
   "execution_count": 34,
   "id": "3114a3be-8e86-4be7-9223-4d80d2b679d6",
   "metadata": {},
   "outputs": [
    {
     "name": "stdout",
     "output_type": "stream",
     "text": [
      "value=0\n",
      "value=1\n",
      "value=2\n",
      "value=3\n"
     ]
    },
    {
     "data": {
      "text/plain": [
       "['This is a silly element',\n",
       " 'This is a silly element',\n",
       " 'This is a silly element']"
      ]
     },
     "execution_count": 34,
     "metadata": {},
     "output_type": "execute_result"
    }
   ],
   "source": [
    "[e for e in silly]"
   ]
  },
  {
   "cell_type": "markdown",
   "id": "f8a9af2e-645b-4fbb-8da2-6ff2d639e54f",
   "metadata": {},
   "source": [
    "**This object `silly` *is* a sequence**\n",
    "\n",
    "We can also use the slice notation such as `silly[0:5:2]` and Python will use the `__getitem__` method where the value is a `slice` object with the specified parameters. \n",
    "\n",
    "It won't work with our current setup because the line `if value < 0 or value >= self.n:` contains comparison operators which doesn't support slice objects of course. \n",
    "\n",
    "The appropriate approach is to check the instance/type of `value` and deal with it differently depending on whether it's a **slice** object or an integer. We'll demonstrate this below.\n",
    "\n",
    "Now let's work through a more practical example."
   ]
  },
  {
   "cell_type": "markdown",
   "id": "5c009729-8de0-4fac-b948-9fcde575aca5",
   "metadata": {},
   "source": [
    "**Fibonacci Sequence Example**\n",
    "\n",
    "Here, we're going to implement our own Fibonacci sequence type and we want to support slicing.\n",
    "\n",
    "We'll make our sequence type bounded (i.e. we'll have to specify the size of the sequence). But we are not going to pre-generate the entire sequence of Fibonacci numbers, we'll only generate the ones that are being requested as needed.\n",
    "\n",
    "So, when we create our object, we'll have to specify the maximum Fibonacci number that will be possible for this sequence (but we won't generate that value or any other Fibonacci value during the creation of the object). See below.\n",
    "\n",
    "```\n",
    "f = Fib(10)    # Creating our Fibonacci sequence that can generate up to 10 values.\n",
    "f[3:5]         # It can handle slices. In this case, return a list of the element 3 and 4 of the Fibonacci sequence (i.e. 4th and 5th).\n",
    "f[::-1]        # Return a list of all Fibonacci values in reverse order. In this case, the 10th value and below. \n",
    "```\n",
    "\n",
    "Here are the steps:\n",
    "\n",
    "\n",
    "1. First we'll need to handle requesting a single index e.g. `f[3]` for the 4th Fibonacci value. To do this, we just need `__getitem__` which will allow the `[]` notation. \n",
    "\n",
    "\n",
    "2. To actually calculate the nth Fibonacci number, we'll use memoisation as well (see lecture on decorators and memoisation if you need to refresh your memory on that).\n",
    "\n",
    "3. To be able to use `list(f)`, we need to raise an `IndexError` exception when the index is out of bounds as this is one of the two essential criteria for iterating through a sequence. \n",
    "\n",
    "4. We also need to remap negative indices (for example `-1` should correspond to the last element of the sequence, and so on). This is done with:     \n",
    "\n",
    "```\n",
    "if s < 0:\n",
    "    s = self._n + s\n",
    "```\n",
    "\n",
    "5. Now let's handle slice requests. If you recall from Section 05 - Slicing, you might think it to be difficult to implement all those rules. But remember, the slice method `indices(<length of sequence>)` returns a tuple of 3 values which correspond to the equivalent start, stop and step values. These can be converted into a range object which we can iterate through, e.g. using a list comprehension or a 'for' loop, computing the corresponding Fibonacci value at each step. We can go further by generating the full list to show us which indices are going to be asked for.\n",
    "\n",
    "   For example:\n",
    "   \n",
    "   ```\n",
    "   my_slice = slice(2, -7, -2)          # When applied to a sequence s, it'd be equivalent to s[2:-7:-2]. Hard to see which indices we are requiring.\n",
    "\n",
    "   list(range(*my_slice.indices(6)))    # If we pass in the length of our sequence (6) then it outputs that we're asking for...\n",
    "   \n",
    "   > [2, 0]                             # ...index 2 and index 0. So find _fib(2) and then _fib(0), but we've not implemented this extra detail below.\n",
    "   ```\n",
    "   \n",
    "   We're done."
   ]
  },
  {
   "cell_type": "code",
   "execution_count": 27,
   "id": "69fa7425-eee8-4914-9f03-3a27f7090a2d",
   "metadata": {},
   "outputs": [],
   "source": [
    "from functools import lru_cache\n",
    "\n",
    "class Fib:\n",
    "    def __init__(self, n):\n",
    "        self._n = n\n",
    "    \n",
    "    def __getitem__(self, s):\n",
    "        if isinstance(s, int):\n",
    "            # single item requested\n",
    "            if s < 0:\n",
    "                s = self._n + s\n",
    "            if s < 0 or s > self._n - 1:\n",
    "                raise IndexError\n",
    "            return self._fib(s)                                 # this is basically our 'else' statement.\n",
    "            \n",
    "        else:\n",
    "            # slice being requested\n",
    "            idx = s.indices(self._n)                            # the argument required for s.indices is the length of the sequence which is self._n\n",
    "            rng = range(*idx)                                   # This will create a range sequence object e.g. range(0, 10, 2), corresponding to the indices\n",
    "            return [self._fib(n) for n in rng]                  # in the Fibonacci sequence that we want.\n",
    "            \n",
    "    @staticmethod\n",
    "    @lru_cache(2**32)\n",
    "    def _fib(n):\n",
    "        if n < 2:\n",
    "            return 1\n",
    "        else:\n",
    "            return Fib._fib(n-1) + Fib._fib(n-2)"
   ]
  },
  {
   "cell_type": "code",
   "execution_count": 28,
   "id": "ae305e7f-48ca-4073-8ee9-e349e25d0e69",
   "metadata": {},
   "outputs": [
    {
     "name": "stdout",
     "output_type": "stream",
     "text": [
      "1\n",
      "55\n",
      "[1, 1, 2, 3, 5, 8, 13, 21, 34, 55]\n",
      "[1, 1, 2, 3, 5, 8, 13, 21, 34, 55]\n",
      "[2, 5, 13, 34]\n"
     ]
    }
   ],
   "source": [
    "f = Fib(10)\n",
    "\n",
    "print(f[0])\n",
    "print(f[9])\n",
    "print(list(f))\n",
    "print(list(item for item in f))\n",
    "print(f[2:9:2])"
   ]
  },
  {
   "cell_type": "markdown",
   "id": "40bf0392-e262-4a68-848a-31c3aabf4558",
   "metadata": {},
   "source": [
    "**Sidenote:**\n",
    "\n",
    "A static method is bound to a class rather than the objects for that class. This means that a static method can be called without an object for that class. This also means that static methods cannot modify the state of an object as they are not bound to it.\n",
    "\n",
    "Static methods have a very clear use-case. When we need some functionality not w.r.t an Object but w.r.t the complete class, we make a method static. This is pretty much advantageous when we need to create Utility methods as they aren’t tied to an object lifecycle usually. Finally, note that in a static method, we don’t need the self to be passed as the first argument."
   ]
  },
  {
   "cell_type": "markdown",
   "id": "37c155a5-6ab0-4fbd-9ea2-c238503f2114",
   "metadata": {},
   "source": [
    "**Sidenote:**\n",
    "\n",
    "You may be wondering why the last line is `Fib._fib(n-1)` as opposed to `self._fib(n-1)` that we see in the `__getitem__` method. We could do it that way but things will start to look convoluted very quickly. For starters `def _fib(n)` will need to become `def _fib(self, n)`. Then, in `__getitem__`, `return self._fib(s)` will need to become `return self._fib(self, s)`. The code below is the version with these changes made.\n",
    "\n",
    "\n",
    "```    \n",
    "def __getitem__(self, s):\n",
    "    if isinstance(s, int):\n",
    "        # single item requested\n",
    "        if s < 0:\n",
    "            s = self._n + s\n",
    "        if s < 0 or s > self._n - 1:\n",
    "            raise IndexError\n",
    "                \n",
    "        return self._fib(self, s)                                 # this is basically our 'else' statement.\n",
    "    else:\n",
    "        # slice being requested\n",
    "        print(f'requesting [{s.start}:{s.stop}:{s.step}]')\n",
    "        idx = s.indices(self._n)                            # the argument required for s.indices is the length of the sequence which is self._n\n",
    "        rng = range(*idx)\n",
    "        print(f'\\trange({idx[0]}, {idx[1]}, {idx[2]}) --> {list(rng)}')  # \\t is tab special character\n",
    "            \n",
    "@staticmethod\n",
    "@lru_cache(2**32)\n",
    "def _fib(self, n):\n",
    "    if n < 2:\n",
    "        return 1\n",
    "    else:\n",
    "        return self._fib(self, n-1) + self._fib(self, n-2)\n",
    "```"
   ]
  },
  {
   "cell_type": "markdown",
   "id": "678715de-cd4f-41e4-89a0-ea6c86849135",
   "metadata": {},
   "source": [
    "One thing I want to point out here: we did not need to use inheritance! There was no need to inherit from another sequence type. All we really needed was to implement the `__getitem__` and `__len__` methods."
   ]
  },
  {
   "cell_type": "markdown",
   "id": "e9e3e79e-b8c2-49c5-b0dd-80447459c0c8",
   "metadata": {},
   "source": [
    "The other thing I want to mention, is that I would not use recursion for production purposes for a Fibonacci sequence, even with memoization - partly because of the cost of recursion and the limit to the recursion depth that is possible.\n",
    "\n",
    "Also, when we look at generators, and more particularly generator expressions, we'll see better ways of doing this as well.\n",
    "\n",
    "I really wanted to show you a simple example of how to create your own sequence types."
   ]
  }
 ],
 "metadata": {
  "kernelspec": {
   "display_name": "Python 3 (ipykernel)",
   "language": "python",
   "name": "python3"
  },
  "language_info": {
   "codemirror_mode": {
    "name": "ipython",
    "version": 3
   },
   "file_extension": ".py",
   "mimetype": "text/x-python",
   "name": "python",
   "nbconvert_exporter": "python",
   "pygments_lexer": "ipython3",
   "version": "3.10.4"
  }
 },
 "nbformat": 4,
 "nbformat_minor": 5
}
