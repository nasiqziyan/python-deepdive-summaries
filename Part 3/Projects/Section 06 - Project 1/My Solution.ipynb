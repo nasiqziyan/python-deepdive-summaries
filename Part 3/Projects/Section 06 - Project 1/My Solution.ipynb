{
 "cells": [
  {
   "cell_type": "markdown",
   "id": "f961ba52-54b2-4cba-b83c-c62bfbf6f4eb",
   "metadata": {},
   "source": [
    "# Goal"
   ]
  },
  {
   "cell_type": "markdown",
   "id": "48a1a4ac-a697-4637-8a43-eba83ba6ed06",
   "metadata": {},
   "source": [
    "#### Description"
   ]
  },
  {
   "cell_type": "markdown",
   "id": "4dd6a7f7-4ca2-4fdf-9d0e-14c1e7be369c",
   "metadata": {},
   "source": [
    "In this project our goal is to validate one dictionary structure against a template dictionary.\n",
    "\n",
    "A typical example of this might be working with JSON data inputs in an API. You are trying to validate this received JSON against some kind of template to make sure the received JSON conforms to that template (i.e. all the keys and structure are identical - value types being important, but not the value itself - so just the structure, and the data type of the values).\n",
    "\n",
    "To keep things simple we'll assume that values can be either single values (like an integer, string, etc), or a dictionary, itself only containing single values or other dictionaries, recursively. In other words, we're not going to deal with lists as possible values. Also, to keep things simple, we'll assume that all keys are **required**, and that no extra keys are permitted.\n",
    "\n",
    "In practice we would not have these simplifying assumptions, and although we could definitely write this ourselves, there are many 3rd party libraries that already exist to do this (such as `jsonschema`, `marshmallow`, and many more, some of which I'll cover lightly in some later videos.)"
   ]
  },
  {
   "cell_type": "markdown",
   "id": "6ffb32c2-e421-469b-96a3-10b6741ab1cd",
   "metadata": {},
   "source": [
    "For example you might have this template:"
   ]
  },
  {
   "cell_type": "code",
   "execution_count": 1,
   "id": "5c400b8d-a447-4265-b7ce-d68e56fea5fe",
   "metadata": {},
   "outputs": [],
   "source": [
    "template = {\n",
    "    'user_id': int,\n",
    "    'name': {\n",
    "        'first': str,\n",
    "        'last': str\n",
    "    },\n",
    "    'bio': {\n",
    "        'dob': {\n",
    "            'year': int,\n",
    "            'month': int,\n",
    "            'day': int\n",
    "        },\n",
    "        'birthplace': {\n",
    "            'country': str,\n",
    "            'city': str\n",
    "        }\n",
    "    }\n",
    "}"
   ]
  },
  {
   "cell_type": "markdown",
   "id": "1aece88a-315e-4757-8d47-21d17f49317f",
   "metadata": {},
   "source": [
    "So, a JSON document such as this would match the template:"
   ]
  },
  {
   "cell_type": "code",
   "execution_count": 2,
   "id": "3b64587b-9863-483b-99dc-f1038180e630",
   "metadata": {},
   "outputs": [],
   "source": [
    "john = {\n",
    "    'user_id': 100,\n",
    "    'name': {\n",
    "        'first': 'John',\n",
    "        'last': 'Cleese'\n",
    "    },\n",
    "    'bio': {\n",
    "        'dob': {\n",
    "            'year': 1939,\n",
    "            'month': 11,\n",
    "            'day': 27\n",
    "        },\n",
    "        'birthplace': {\n",
    "            'country': 'United Kingdom',\n",
    "            'city': 'Weston-super-Mare'\n",
    "        }\n",
    "    }\n",
    "}"
   ]
  },
  {
   "cell_type": "markdown",
   "id": "872a9ea2-374e-4d8e-bcb5-706f0732b867",
   "metadata": {},
   "source": [
    "But this one would **not** match the template (missing key):"
   ]
  },
  {
   "cell_type": "code",
   "execution_count": 3,
   "id": "41a84e9c-92b1-4f5f-b100-f36cbf1e66bc",
   "metadata": {},
   "outputs": [],
   "source": [
    "eric = {\n",
    "    'user_id': 101,\n",
    "    'name': {\n",
    "        'first': 'Eric',\n",
    "        'last': 'Idle'\n",
    "    },\n",
    "    'bio': {\n",
    "        'dob': {\n",
    "            'year': 1943,\n",
    "            'month': 3,\n",
    "            'day': 29\n",
    "        },\n",
    "        'birthplace': {\n",
    "            'country': 'United Kingdom'\n",
    "        }\n",
    "    }\n",
    "}"
   ]
  },
  {
   "cell_type": "markdown",
   "id": "dd81e0e4-0a04-4463-b234-ebef0f7ec021",
   "metadata": {},
   "source": [
    "And neither would this one (wrong data type):"
   ]
  },
  {
   "cell_type": "code",
   "execution_count": 4,
   "id": "d04bcc34-cf29-444f-9993-0ce9c277cf48",
   "metadata": {},
   "outputs": [],
   "source": [
    "michael = {\n",
    "    'user_id': 102,\n",
    "    'name': {\n",
    "        'first': 'Michael',\n",
    "        'last': 'Palin'\n",
    "    },\n",
    "    'bio': {\n",
    "        'dob': {\n",
    "            'year': 1943,\n",
    "            'month': 'May',\n",
    "            'day': 5\n",
    "        },\n",
    "        'birthplace': {\n",
    "            'country': 'United Kingdom',\n",
    "            'city': 'Sheffield'\n",
    "        }\n",
    "    }\n",
    "}"
   ]
  },
  {
   "cell_type": "markdown",
   "id": "ce64d5ec-1106-44ab-8649-b86fc1dbd2c9",
   "metadata": {},
   "source": [
    "Write a function such this:"
   ]
  },
  {
   "cell_type": "code",
   "execution_count": 5,
   "id": "e2532520-66e2-4947-8b4a-df77e213ceb5",
   "metadata": {},
   "outputs": [],
   "source": [
    "def validate(data, template):\n",
    "    # implement\n",
    "    # and return True/False\n",
    "    # in the case of False, return a string describing \n",
    "    # the first error encountered\n",
    "    # in the case of True, string can be empty\n",
    "    return state, error"
   ]
  },
  {
   "cell_type": "markdown",
   "id": "bb03d87f-1a42-4a82-85e1-c11fd708f633",
   "metadata": {},
   "source": [
    "That should return this:\n",
    "* `validate(john, template) --> True, ''`\n",
    "* `validate(eric, template) --> False, 'mismatched keys: bio.birthplace.city'`\n",
    "* `validate(michael, template) --> False, 'bad type: bio.dob.month'`"
   ]
  },
  {
   "cell_type": "markdown",
   "id": "736d2f97-6aec-4f34-8481-1b2461231487",
   "metadata": {},
   "source": [
    "Better yet, use exceptions instead of return codes and strings!"
   ]
  },
  {
   "cell_type": "markdown",
   "id": "5d15ff26-1fb3-4bc8-9c9e-ce180b935c8b",
   "metadata": {},
   "source": [
    "#### Solution"
   ]
  },
  {
   "cell_type": "markdown",
   "id": "f1ab6bac-b7c7-4342-ae20-202cdc36bd8a",
   "metadata": {},
   "source": [
    "The first function we'll write is `match_keys(data, valid, path)`.\n",
    "- `data`: any dictionary (independent of depth in the original dictionary)\n",
    "- `valid`: a dictionary template that `data` must conform to.\n",
    "- `path`: a breadcrumb to specify the depth of `data` in the original dictionary.\n",
    "\n",
    "What's written below is the penultimate form of this function. Here, we return two parameters: `True`/`False` and `None`/`<some_error>`.\n",
    "\n",
    "Later, we'll raise a custom exception."
   ]
  },
  {
   "cell_type": "code",
   "execution_count": 17,
   "id": "3abc0d37-742c-4e22-80d3-966c2be63087",
   "metadata": {},
   "outputs": [],
   "source": [
    "def match_keys(data: dict, valid: dict, path: str):\n",
    "    data_keys = data.keys()\n",
    "    valid_keys = valid.keys()\n",
    "\n",
    "    extra_keys = data_keys - valid_keys\n",
    "    missing_keys = valid_keys - data_keys\n",
    "\n",
    "    if extra_keys or missing_keys:\n",
    "        extras_msg = (\n",
    "            \"Extra keys: \" + \", \".join({path + '.' + str(key) for key in extra_keys})\n",
    "        ) if extra_keys else ''\n",
    "        missing_msg = (\n",
    "            \"Missing keys: \" + \", \".join({path + '.' + str(key) for key in missing_keys})\n",
    "        ) if missing_keys else ''\n",
    "\n",
    "        return False, ', '.join((missing_msg, extras_msg))\n",
    "        \n",
    "    else:\n",
    "        return True, None"
   ]
  },
  {
   "cell_type": "markdown",
   "id": "f32d6209-5ab7-4153-a179-1c5fc8489f28",
   "metadata": {},
   "source": [
    "Testing the function:"
   ]
  },
  {
   "cell_type": "code",
   "execution_count": 21,
   "id": "f826dacb-30b5-401d-ae06-ad23d14ecb61",
   "metadata": {},
   "outputs": [
    {
     "name": "stdout",
     "output_type": "stream",
     "text": [
      "True None\n"
     ]
    }
   ],
   "source": [
    "t = {'a': int, 'b': int, 'c': int, 'd': int}\n",
    "d = {'a': 'wrong type', 'b': 100, 'c': 200, 'd': {'wrong': 'type'}}\n",
    "is_ok, err_msg = match_keys(d, t, 'some.path')\n",
    "print(is_ok, err_msg)"
   ]
  },
  {
   "cell_type": "code",
   "execution_count": 22,
   "id": "d6a1a118-3ce3-4c8e-8f24-3f84690e0217",
   "metadata": {},
   "outputs": [
    {
     "name": "stdout",
     "output_type": "stream",
     "text": [
      "False Missing keys: some.path.d, some.path.c, Extra keys: some.path.z\n"
     ]
    }
   ],
   "source": [
    "t = {'a': int, 'b': int, 'c': int, 'd': int}\n",
    "d = {'a': 'test', 'b': 'test', 'z': 'extra'}\n",
    "is_ok, err_msg = match_keys(d, t, 'some.path')\n",
    "print(is_ok, err_msg)"
   ]
  }
 ],
 "metadata": {
  "kernelspec": {
   "display_name": "Python 3 (ipykernel)",
   "language": "python",
   "name": "python3"
  },
  "language_info": {
   "codemirror_mode": {
    "name": "ipython",
    "version": 3
   },
   "file_extension": ".py",
   "mimetype": "text/x-python",
   "name": "python",
   "nbconvert_exporter": "python",
   "pygments_lexer": "ipython3",
   "version": "3.10.4"
  }
 },
 "nbformat": 4,
 "nbformat_minor": 5
}
