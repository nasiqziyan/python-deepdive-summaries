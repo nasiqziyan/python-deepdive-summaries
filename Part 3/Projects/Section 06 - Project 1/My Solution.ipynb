{
 "cells": [
  {
   "cell_type": "markdown",
   "id": "f961ba52-54b2-4cba-b83c-c62bfbf6f4eb",
   "metadata": {},
   "source": [
    "# Goal"
   ]
  },
  {
   "cell_type": "markdown",
   "id": "48a1a4ac-a697-4637-8a43-eba83ba6ed06",
   "metadata": {},
   "source": [
    "#### Description"
   ]
  },
  {
   "cell_type": "markdown",
   "id": "4dd6a7f7-4ca2-4fdf-9d0e-14c1e7be369c",
   "metadata": {},
   "source": [
    "In this project our goal is to validate one dictionary structure against a template dictionary.\n",
    "\n",
    "A typical example of this might be working with JSON data inputs in an API. You are trying to validate this received JSON against some kind of template to make sure the received JSON conforms to that template (i.e. all the keys and structure are identical - value types being important, but not the value itself - so just the structure, and the data type of the values).\n",
    "\n",
    "To keep things simple we'll assume that values can be either single values (like an integer, string, etc), or a dictionary, itself only containing single values or other dictionaries, recursively. In other words, we're not going to deal with lists as possible values. Also, to keep things simple, we'll assume that all keys are **required**, and that no extra keys are permitted.\n",
    "\n",
    "In practice we would not have these simplifying assumptions, and although we could definitely write this ourselves, there are many 3rd party libraries that already exist to do this (such as `jsonschema`, `marshmallow`, and many more, some of which I'll cover lightly in some later videos.)"
   ]
  },
  {
   "cell_type": "markdown",
   "id": "6ffb32c2-e421-469b-96a3-10b6741ab1cd",
   "metadata": {},
   "source": [
    "For example you might have this template:"
   ]
  },
  {
   "cell_type": "code",
   "execution_count": 74,
   "id": "5c400b8d-a447-4265-b7ce-d68e56fea5fe",
   "metadata": {},
   "outputs": [],
   "source": [
    "template = {\n",
    "    'user_id': int,\n",
    "    'name': {\n",
    "        'first': str,\n",
    "        'last': str\n",
    "    },\n",
    "    'bio': {\n",
    "        'dob': {\n",
    "            'year': int,\n",
    "            'month': int,\n",
    "            'day': int\n",
    "        },\n",
    "        'birthplace': {\n",
    "            'country': str,\n",
    "            'city': str\n",
    "        }\n",
    "    }\n",
    "}"
   ]
  },
  {
   "cell_type": "markdown",
   "id": "1aece88a-315e-4757-8d47-21d17f49317f",
   "metadata": {},
   "source": [
    "So, a JSON document such as this would match the template:"
   ]
  },
  {
   "cell_type": "code",
   "execution_count": 69,
   "id": "3b64587b-9863-483b-99dc-f1038180e630",
   "metadata": {},
   "outputs": [],
   "source": [
    "john = {\n",
    "    'user_id': 100,\n",
    "    'name': {\n",
    "        'first': 'John',\n",
    "        'last': 'Cleese'\n",
    "    },\n",
    "    'bio': {\n",
    "        'dob': {\n",
    "            'year': 1939,\n",
    "            'month': 11,\n",
    "            'day': 27\n",
    "        },\n",
    "        'birthplace': {\n",
    "            'country': 'United Kingdom',\n",
    "            'city': 'Weston-super-Mare'\n",
    "        }\n",
    "    }\n",
    "}"
   ]
  },
  {
   "cell_type": "markdown",
   "id": "872a9ea2-374e-4d8e-bcb5-706f0732b867",
   "metadata": {},
   "source": [
    "But this one would **not** match the template (missing key):"
   ]
  },
  {
   "cell_type": "code",
   "execution_count": 70,
   "id": "41a84e9c-92b1-4f5f-b100-f36cbf1e66bc",
   "metadata": {},
   "outputs": [],
   "source": [
    "eric = {\n",
    "    'user_id': 101,\n",
    "    'name': {\n",
    "        'first': 'Eric',\n",
    "        'last': 'Idle'\n",
    "    },\n",
    "    'bio': {\n",
    "        'dob': {\n",
    "            'year': 1943,\n",
    "            'month': 3,\n",
    "            'day': 29\n",
    "        },\n",
    "        'birthplace': {\n",
    "            'country': 'United Kingdom'\n",
    "        }\n",
    "    }\n",
    "}"
   ]
  },
  {
   "cell_type": "markdown",
   "id": "dd81e0e4-0a04-4463-b234-ebef0f7ec021",
   "metadata": {},
   "source": [
    "And neither would this one (wrong data type):"
   ]
  },
  {
   "cell_type": "code",
   "execution_count": 71,
   "id": "d04bcc34-cf29-444f-9993-0ce9c277cf48",
   "metadata": {},
   "outputs": [],
   "source": [
    "michael = {\n",
    "    'user_id': 102,\n",
    "    'name': {\n",
    "        'first': 'Michael',\n",
    "        'last': 'Palin'\n",
    "    },\n",
    "    'bio': {\n",
    "        'dob': {\n",
    "            'year': 1943,\n",
    "            'month': 'May',\n",
    "            'day': 5\n",
    "        },\n",
    "        'birthplace': {\n",
    "            'country': 'United Kingdom',\n",
    "            'city': 'Sheffield'\n",
    "        }\n",
    "    }\n",
    "}"
   ]
  },
  {
   "cell_type": "markdown",
   "id": "ce64d5ec-1106-44ab-8649-b86fc1dbd2c9",
   "metadata": {},
   "source": [
    "Write a function such this:"
   ]
  },
  {
   "cell_type": "code",
   "execution_count": 5,
   "id": "e2532520-66e2-4947-8b4a-df77e213ceb5",
   "metadata": {},
   "outputs": [],
   "source": [
    "def validate(data, template):\n",
    "    # implement\n",
    "    # and return True/False\n",
    "    # in the case of False, return a string describing \n",
    "    # the first error encountered\n",
    "    # in the case of True, string can be empty\n",
    "    return state, error"
   ]
  },
  {
   "cell_type": "markdown",
   "id": "bb03d87f-1a42-4a82-85e1-c11fd708f633",
   "metadata": {},
   "source": [
    "That should return this:\n",
    "* `validate(john, template) --> True, ''`\n",
    "* `validate(eric, template) --> False, 'mismatched keys: bio.birthplace.city'`\n",
    "* `validate(michael, template) --> False, 'bad type: bio.dob.month'`"
   ]
  },
  {
   "cell_type": "markdown",
   "id": "736d2f97-6aec-4f34-8481-1b2461231487",
   "metadata": {},
   "source": [
    "Better yet, use exceptions instead of return codes and strings!"
   ]
  },
  {
   "cell_type": "markdown",
   "id": "5d15ff26-1fb3-4bc8-9c9e-ce180b935c8b",
   "metadata": {},
   "source": [
    "#### Solution"
   ]
  },
  {
   "cell_type": "markdown",
   "id": "ffc5d585-241e-41f2-b483-b2935021c8c5",
   "metadata": {},
   "source": [
    "##### `match_keys`"
   ]
  },
  {
   "cell_type": "markdown",
   "id": "f1ab6bac-b7c7-4342-ae20-202cdc36bd8a",
   "metadata": {},
   "source": [
    "The first function we'll write is `match_keys(data, valid, path)`.\n",
    "- `data`: any dictionary (independent of depth in the original dictionary)\n",
    "- `valid`: a dictionary template that `data` must conform to.\n",
    "- `path`: a breadcrumb to specify the depth of `data` in the original dictionary.\n",
    "\n",
    "We want this function to be silent if all goes well or raise a custom exception if something goes wrong. \n",
    "\n",
    "To jump ahead a little, we can see that we have `match_keys` which validates if all keys are there and none extra, raising one custom exception if invalid. Soon we'll have `match_types` which will validate if all values are of the correct type, raising another custom exception if invalid. Thereafter, we will contain these two functions in a larger function that will be called recursively.\n",
    "\n",
    "Both of these exceptions are specific exceptions of a more general schema exception. That is to say, these specific exceptions can inherit from a general schema exception which itself inherits from `Exception`. This will make more sense later on. For now, we will write the exceptions."
   ]
  },
  {
   "cell_type": "code",
   "execution_count": 19,
   "id": "e8d9dcdd-9704-4af8-8a51-820fd9ee2f4f",
   "metadata": {},
   "outputs": [],
   "source": [
    "class SchemaError(Exception):\n",
    "    pass\n",
    "\n",
    "class SchemaKeyMismatch(SchemaError):\n",
    "    pass\n",
    "\n",
    "class SchemaTypeMismatch(SchemaError, TypeError):  # we'll come back to the reason why this inherits `TypeError`\n",
    "    pass"
   ]
  },
  {
   "cell_type": "code",
   "execution_count": 26,
   "id": "3abc0d37-742c-4e22-80d3-966c2be63087",
   "metadata": {},
   "outputs": [],
   "source": [
    "def match_keys(data: dict, valid: dict, path: str):\n",
    "    data_keys = data.keys()\n",
    "    valid_keys = valid.keys()\n",
    "\n",
    "    extra_keys = data_keys - valid_keys\n",
    "    missing_keys = valid_keys - data_keys\n",
    "\n",
    "    if extra_keys or missing_keys:\n",
    "        extras_msg = (\n",
    "            \"Extra keys: \" + \", \".join({path + '.' + str(key) for key in extra_keys})\n",
    "        ) if extra_keys else ''\n",
    "        missing_msg = (\n",
    "            \"Missing keys: \" + \", \".join({path + '.' + str(key) for key in missing_keys})\n",
    "        ) if missing_keys else ''\n",
    "\n",
    "        err_msg = ', '.join((missing_msg, extras_msg))\n",
    "        raise SchemaKeyMismatch(err_msg)"
   ]
  },
  {
   "cell_type": "markdown",
   "id": "f32d6209-5ab7-4153-a179-1c5fc8489f28",
   "metadata": {},
   "source": [
    "Testing the function:"
   ]
  },
  {
   "cell_type": "code",
   "execution_count": 27,
   "id": "f826dacb-30b5-401d-ae06-ad23d14ecb61",
   "metadata": {},
   "outputs": [],
   "source": [
    "t = {'a': int, 'b': int, 'c': int, 'd': int}\n",
    "d = {'a': 'wrong type', 'b': 100, 'c': 200, 'd': {'wrong': 'type'}}\n",
    "match_keys(d, t, 'some.path')"
   ]
  },
  {
   "cell_type": "code",
   "execution_count": 28,
   "id": "d6a1a118-3ce3-4c8e-8f24-3f84690e0217",
   "metadata": {},
   "outputs": [
    {
     "ename": "SchemaKeyMismatch",
     "evalue": "Missing keys: some.path.c, some.path.d, Extra keys: some.path.z",
     "output_type": "error",
     "traceback": [
      "\u001b[1;31m---------------------------------------------------------------------------\u001b[0m",
      "\u001b[1;31mSchemaKeyMismatch\u001b[0m                         Traceback (most recent call last)",
      "Cell \u001b[1;32mIn[28], line 3\u001b[0m\n\u001b[0;32m      1\u001b[0m t \u001b[38;5;241m=\u001b[39m {\u001b[38;5;124m'\u001b[39m\u001b[38;5;124ma\u001b[39m\u001b[38;5;124m'\u001b[39m: \u001b[38;5;28mint\u001b[39m, \u001b[38;5;124m'\u001b[39m\u001b[38;5;124mb\u001b[39m\u001b[38;5;124m'\u001b[39m: \u001b[38;5;28mint\u001b[39m, \u001b[38;5;124m'\u001b[39m\u001b[38;5;124mc\u001b[39m\u001b[38;5;124m'\u001b[39m: \u001b[38;5;28mint\u001b[39m, \u001b[38;5;124m'\u001b[39m\u001b[38;5;124md\u001b[39m\u001b[38;5;124m'\u001b[39m: \u001b[38;5;28mint\u001b[39m}\n\u001b[0;32m      2\u001b[0m d \u001b[38;5;241m=\u001b[39m {\u001b[38;5;124m'\u001b[39m\u001b[38;5;124ma\u001b[39m\u001b[38;5;124m'\u001b[39m: \u001b[38;5;124m'\u001b[39m\u001b[38;5;124mtest\u001b[39m\u001b[38;5;124m'\u001b[39m, \u001b[38;5;124m'\u001b[39m\u001b[38;5;124mb\u001b[39m\u001b[38;5;124m'\u001b[39m: \u001b[38;5;124m'\u001b[39m\u001b[38;5;124mtest\u001b[39m\u001b[38;5;124m'\u001b[39m, \u001b[38;5;124m'\u001b[39m\u001b[38;5;124mz\u001b[39m\u001b[38;5;124m'\u001b[39m: \u001b[38;5;124m'\u001b[39m\u001b[38;5;124mextra\u001b[39m\u001b[38;5;124m'\u001b[39m}\n\u001b[1;32m----> 3\u001b[0m \u001b[43mmatch_keys\u001b[49m\u001b[43m(\u001b[49m\u001b[43md\u001b[49m\u001b[43m,\u001b[49m\u001b[43m \u001b[49m\u001b[43mt\u001b[49m\u001b[43m,\u001b[49m\u001b[43m \u001b[49m\u001b[38;5;124;43m'\u001b[39;49m\u001b[38;5;124;43msome.path\u001b[39;49m\u001b[38;5;124;43m'\u001b[39;49m\u001b[43m)\u001b[49m\n",
      "Cell \u001b[1;32mIn[26], line 17\u001b[0m, in \u001b[0;36mmatch_keys\u001b[1;34m(data, valid, path)\u001b[0m\n\u001b[0;32m     12\u001b[0m missing_msg \u001b[38;5;241m=\u001b[39m (\n\u001b[0;32m     13\u001b[0m     \u001b[38;5;124m\"\u001b[39m\u001b[38;5;124mMissing keys: \u001b[39m\u001b[38;5;124m\"\u001b[39m \u001b[38;5;241m+\u001b[39m \u001b[38;5;124m\"\u001b[39m\u001b[38;5;124m, \u001b[39m\u001b[38;5;124m\"\u001b[39m\u001b[38;5;241m.\u001b[39mjoin({path \u001b[38;5;241m+\u001b[39m \u001b[38;5;124m'\u001b[39m\u001b[38;5;124m.\u001b[39m\u001b[38;5;124m'\u001b[39m \u001b[38;5;241m+\u001b[39m \u001b[38;5;28mstr\u001b[39m(key) \u001b[38;5;28;01mfor\u001b[39;00m key \u001b[38;5;129;01min\u001b[39;00m missing_keys})\n\u001b[0;32m     14\u001b[0m ) \u001b[38;5;28;01mif\u001b[39;00m missing_keys \u001b[38;5;28;01melse\u001b[39;00m \u001b[38;5;124m'\u001b[39m\u001b[38;5;124m'\u001b[39m\n\u001b[0;32m     16\u001b[0m err_msg \u001b[38;5;241m=\u001b[39m \u001b[38;5;124m'\u001b[39m\u001b[38;5;124m, \u001b[39m\u001b[38;5;124m'\u001b[39m\u001b[38;5;241m.\u001b[39mjoin((missing_msg, extras_msg))\n\u001b[1;32m---> 17\u001b[0m \u001b[38;5;28;01mraise\u001b[39;00m SchemaKeyMismatch(err_msg)\n",
      "\u001b[1;31mSchemaKeyMismatch\u001b[0m: Missing keys: some.path.c, some.path.d, Extra keys: some.path.z"
     ]
    }
   ],
   "source": [
    "t = {'a': int, 'b': int, 'c': int, 'd': int}\n",
    "d = {'a': 'test', 'b': 'test', 'z': 'extra'}\n",
    "match_keys(d, t, 'some.path')"
   ]
  },
  {
   "cell_type": "markdown",
   "id": "0e499e73-8999-4b13-a1d4-3513823e5633",
   "metadata": {},
   "source": [
    "##### `match_values`"
   ]
  },
  {
   "cell_type": "markdown",
   "id": "27e361f1-984d-4806-ae70-279be77ce819",
   "metadata": {},
   "source": [
    "Now, we're going to do type-checking. We will assume that this function will follow the previous function, and therefore, we can assume that we have all the required keys and none extra. \n",
    "\n",
    "This function will be very similiar in layout to the previous too. Instead of a `valid` argument, we will have `template` which looks something like this:\n",
    "```python\n",
    "template = {\n",
    "    'user_id': int,\n",
    "    'name': {\n",
    "        'first': str,\n",
    "        'last': str\n",
    "    }\n",
    "}\n",
    "```\n",
    "\n",
    "Notice how the values are types **unless** they're dictionaries, at which point the value is the dictionary. Our code will have to make this distinction."
   ]
  },
  {
   "cell_type": "code",
   "execution_count": 78,
   "id": "a31ef147-ff7d-4649-987c-ac87875ea579",
   "metadata": {},
   "outputs": [],
   "source": [
    "def match_types(data, template, path):\n",
    "    for key, value in template.items():\n",
    "        if isinstance(value, dict):\n",
    "            template_type = dict\n",
    "        else:\n",
    "            template_type = value \n",
    "\n",
    "        data_value = data[key]\n",
    "        if not isinstance(data_value, template_type):\n",
    "            err_msg = f\"Incorrect Type:\\nAt {path}.{key}.\\nExpected {template_type.__name__}.\\nGot {type(data_value).__name__}\"\n",
    "            raise SchemaTypeMismatch(err_msg)     "
   ]
  },
  {
   "cell_type": "markdown",
   "id": "7cf1e638-e45f-4244-b5e3-7a62389f9488",
   "metadata": {},
   "source": [
    "Testing the function:"
   ]
  },
  {
   "cell_type": "code",
   "execution_count": 79,
   "id": "4a92eafd-d9a5-4646-a44a-248cd44f1181",
   "metadata": {},
   "outputs": [],
   "source": [
    "t = {'a': int, 'b': str, 'c': int, 'd': dict}\n",
    "d = {'a': 100, 'b': 'a', 'c': 200, 'd': {'some':'value'}}\n",
    "match_types(d, t, 'some.path')"
   ]
  },
  {
   "cell_type": "code",
   "execution_count": 80,
   "id": "ed7c50d7-e16e-436d-a6e6-edffaedb0f35",
   "metadata": {},
   "outputs": [
    {
     "ename": "SchemaTypeMismatch",
     "evalue": "Incorrect Type:\nAt some.path.a.\nExpected int.\nGot str",
     "output_type": "error",
     "traceback": [
      "\u001b[1;31m---------------------------------------------------------------------------\u001b[0m",
      "\u001b[1;31mSchemaTypeMismatch\u001b[0m                        Traceback (most recent call last)",
      "Cell \u001b[1;32mIn[80], line 3\u001b[0m\n\u001b[0;32m      1\u001b[0m t \u001b[38;5;241m=\u001b[39m {\u001b[38;5;124m'\u001b[39m\u001b[38;5;124ma\u001b[39m\u001b[38;5;124m'\u001b[39m: \u001b[38;5;28mint\u001b[39m, \u001b[38;5;124m'\u001b[39m\u001b[38;5;124mb\u001b[39m\u001b[38;5;124m'\u001b[39m: \u001b[38;5;28mstr\u001b[39m, \u001b[38;5;124m'\u001b[39m\u001b[38;5;124mc\u001b[39m\u001b[38;5;124m'\u001b[39m: \u001b[38;5;28mint\u001b[39m, \u001b[38;5;124m'\u001b[39m\u001b[38;5;124md\u001b[39m\u001b[38;5;124m'\u001b[39m: \u001b[38;5;28mdict\u001b[39m}\n\u001b[0;32m      2\u001b[0m d \u001b[38;5;241m=\u001b[39m {\u001b[38;5;124m'\u001b[39m\u001b[38;5;124ma\u001b[39m\u001b[38;5;124m'\u001b[39m: \u001b[38;5;124m'\u001b[39m\u001b[38;5;124mstr\u001b[39m\u001b[38;5;124m'\u001b[39m, \u001b[38;5;124m'\u001b[39m\u001b[38;5;124mb\u001b[39m\u001b[38;5;124m'\u001b[39m: \u001b[38;5;124m'\u001b[39m\u001b[38;5;124ma\u001b[39m\u001b[38;5;124m'\u001b[39m, \u001b[38;5;124m'\u001b[39m\u001b[38;5;124mc\u001b[39m\u001b[38;5;124m'\u001b[39m: \u001b[38;5;241m200\u001b[39m, \u001b[38;5;124m'\u001b[39m\u001b[38;5;124md\u001b[39m\u001b[38;5;124m'\u001b[39m: {\u001b[38;5;124m'\u001b[39m\u001b[38;5;124msome\u001b[39m\u001b[38;5;124m'\u001b[39m:\u001b[38;5;124m'\u001b[39m\u001b[38;5;124mvalue\u001b[39m\u001b[38;5;124m'\u001b[39m}}\n\u001b[1;32m----> 3\u001b[0m \u001b[43mmatch_types\u001b[49m\u001b[43m(\u001b[49m\u001b[43md\u001b[49m\u001b[43m,\u001b[49m\u001b[43m \u001b[49m\u001b[43mt\u001b[49m\u001b[43m,\u001b[49m\u001b[43m \u001b[49m\u001b[38;5;124;43m'\u001b[39;49m\u001b[38;5;124;43msome.path\u001b[39;49m\u001b[38;5;124;43m'\u001b[39;49m\u001b[43m)\u001b[49m\n",
      "Cell \u001b[1;32mIn[78], line 11\u001b[0m, in \u001b[0;36mmatch_types\u001b[1;34m(data, template, path)\u001b[0m\n\u001b[0;32m      9\u001b[0m \u001b[38;5;28;01mif\u001b[39;00m \u001b[38;5;129;01mnot\u001b[39;00m \u001b[38;5;28misinstance\u001b[39m(data_value, template_type):\n\u001b[0;32m     10\u001b[0m     err_msg \u001b[38;5;241m=\u001b[39m \u001b[38;5;124mf\u001b[39m\u001b[38;5;124m\"\u001b[39m\u001b[38;5;124mIncorrect Type:\u001b[39m\u001b[38;5;130;01m\\n\u001b[39;00m\u001b[38;5;124mAt \u001b[39m\u001b[38;5;132;01m{\u001b[39;00mpath\u001b[38;5;132;01m}\u001b[39;00m\u001b[38;5;124m.\u001b[39m\u001b[38;5;132;01m{\u001b[39;00mkey\u001b[38;5;132;01m}\u001b[39;00m\u001b[38;5;124m.\u001b[39m\u001b[38;5;130;01m\\n\u001b[39;00m\u001b[38;5;124mExpected \u001b[39m\u001b[38;5;132;01m{\u001b[39;00mtemplate_type\u001b[38;5;241m.\u001b[39m\u001b[38;5;18m__name__\u001b[39m\u001b[38;5;132;01m}\u001b[39;00m\u001b[38;5;124m.\u001b[39m\u001b[38;5;130;01m\\n\u001b[39;00m\u001b[38;5;124mGot \u001b[39m\u001b[38;5;132;01m{\u001b[39;00m\u001b[38;5;28mtype\u001b[39m(data_value)\u001b[38;5;241m.\u001b[39m\u001b[38;5;18m__name__\u001b[39m\u001b[38;5;132;01m}\u001b[39;00m\u001b[38;5;124m\"\u001b[39m\n\u001b[1;32m---> 11\u001b[0m     \u001b[38;5;28;01mraise\u001b[39;00m SchemaTypeMismatch(err_msg)\n",
      "\u001b[1;31mSchemaTypeMismatch\u001b[0m: Incorrect Type:\nAt some.path.a.\nExpected int.\nGot str"
     ]
    }
   ],
   "source": [
    "t = {'a': int, 'b': str, 'c': int, 'd': dict}\n",
    "d = {'a': 'str', 'b': 'a', 'c': 200, 'd': {'some':'value'}}\n",
    "match_types(d, t, 'some.path')"
   ]
  },
  {
   "cell_type": "markdown",
   "id": "5fe08263-e9de-4ea4-bbe5-31511bc873ae",
   "metadata": {},
   "source": [
    "##### Combine together to build recursive function"
   ]
  },
  {
   "cell_type": "markdown",
   "id": "71a67993-7989-45ef-ba86-7c0a8a9938f3",
   "metadata": {},
   "source": [
    "You should be able to call this function on any dictionary for it to be successfully recursive. "
   ]
  },
  {
   "cell_type": "code",
   "execution_count": 81,
   "id": "5d097cb4-15a4-4914-8b1b-0c6300c3b9db",
   "metadata": {},
   "outputs": [],
   "source": [
    "def recurse_validate(data, template, path):\n",
    "    match_keys(data, template, path)  # all exception handling is done internally which bubbles up if necessary\n",
    "    match_types(data, template, path)  # all exception handling is done internally which bubbles up if necessary\n",
    "\n",
    "    # Now we know the keys and types are correct, we need to revalidate the keys and types\n",
    "    # of any subdictionaries. Get all keys whose types were dictionaries and recurse on them.\n",
    "    keys_with_dict_as_value = {key for key, value in template.items() if isinstance(value, dict)}\n",
    "\n",
    "    for key in keys_with_dict_as_value:\n",
    "        sub_data = data[key]\n",
    "        sub_template = template[key]\n",
    "        sub_path = path + \".\" + str(key)\n",
    "        recurse_validate(sub_data, sub_template, sub_path)     "
   ]
  },
  {
   "cell_type": "markdown",
   "id": "c6c17d94-c1b3-4b8b-be9c-eb58eff0d641",
   "metadata": {},
   "source": [
    "##### Make User-Facing Function"
   ]
  },
  {
   "cell_type": "markdown",
   "id": "0c903d3e-01b8-46be-80e8-3adfbb8c0547",
   "metadata": {},
   "source": [
    "This step isn't 100% necessary; it just abstracts away the implementation and gives the user a cleaner interface.\n",
    "\n",
    "At the top of this file, we defined some example data: `john`, `eric` and `michael`, and a template. We'll test our function against them dictionaries with our template:"
   ]
  },
  {
   "cell_type": "code",
   "execution_count": 82,
   "id": "5a0a7e0a-a76a-459e-b45e-2cf307b8b166",
   "metadata": {},
   "outputs": [],
   "source": [
    "def validate(data, template):\n",
    "    recurse_validate(data, template, path='root')"
   ]
  },
  {
   "cell_type": "code",
   "execution_count": 83,
   "id": "8cefecad-9783-4d81-98fa-ba59e1cd1b88",
   "metadata": {},
   "outputs": [],
   "source": [
    "validate(john, template)"
   ]
  },
  {
   "cell_type": "code",
   "execution_count": 84,
   "id": "fa062e45-5db5-43aa-a500-ae17c6640c71",
   "metadata": {},
   "outputs": [
    {
     "ename": "SchemaKeyMismatch",
     "evalue": "Missing keys: root.bio.birthplace.city, ",
     "output_type": "error",
     "traceback": [
      "\u001b[1;31m---------------------------------------------------------------------------\u001b[0m",
      "\u001b[1;31mSchemaKeyMismatch\u001b[0m                         Traceback (most recent call last)",
      "Cell \u001b[1;32mIn[84], line 1\u001b[0m\n\u001b[1;32m----> 1\u001b[0m \u001b[43mvalidate\u001b[49m\u001b[43m(\u001b[49m\u001b[43meric\u001b[49m\u001b[43m,\u001b[49m\u001b[43m \u001b[49m\u001b[43mtemplate\u001b[49m\u001b[43m)\u001b[49m\n",
      "Cell \u001b[1;32mIn[82], line 2\u001b[0m, in \u001b[0;36mvalidate\u001b[1;34m(data, template)\u001b[0m\n\u001b[0;32m      1\u001b[0m \u001b[38;5;28;01mdef\u001b[39;00m \u001b[38;5;21mvalidate\u001b[39m(data, template):\n\u001b[1;32m----> 2\u001b[0m     \u001b[43mrecurse_validate\u001b[49m\u001b[43m(\u001b[49m\u001b[43mdata\u001b[49m\u001b[43m,\u001b[49m\u001b[43m \u001b[49m\u001b[43mtemplate\u001b[49m\u001b[43m,\u001b[49m\u001b[43m \u001b[49m\u001b[43mpath\u001b[49m\u001b[38;5;241;43m=\u001b[39;49m\u001b[38;5;124;43m'\u001b[39;49m\u001b[38;5;124;43mroot\u001b[39;49m\u001b[38;5;124;43m'\u001b[39;49m\u001b[43m)\u001b[49m\n",
      "Cell \u001b[1;32mIn[81], line 13\u001b[0m, in \u001b[0;36mrecurse_validate\u001b[1;34m(data, template, path)\u001b[0m\n\u001b[0;32m     11\u001b[0m sub_template \u001b[38;5;241m=\u001b[39m template[key]\n\u001b[0;32m     12\u001b[0m sub_path \u001b[38;5;241m=\u001b[39m path \u001b[38;5;241m+\u001b[39m \u001b[38;5;124m\"\u001b[39m\u001b[38;5;124m.\u001b[39m\u001b[38;5;124m\"\u001b[39m \u001b[38;5;241m+\u001b[39m \u001b[38;5;28mstr\u001b[39m(key)\n\u001b[1;32m---> 13\u001b[0m \u001b[43mrecurse_validate\u001b[49m\u001b[43m(\u001b[49m\u001b[43msub_data\u001b[49m\u001b[43m,\u001b[49m\u001b[43m \u001b[49m\u001b[43msub_template\u001b[49m\u001b[43m,\u001b[49m\u001b[43m \u001b[49m\u001b[43msub_path\u001b[49m\u001b[43m)\u001b[49m\n",
      "Cell \u001b[1;32mIn[81], line 13\u001b[0m, in \u001b[0;36mrecurse_validate\u001b[1;34m(data, template, path)\u001b[0m\n\u001b[0;32m     11\u001b[0m sub_template \u001b[38;5;241m=\u001b[39m template[key]\n\u001b[0;32m     12\u001b[0m sub_path \u001b[38;5;241m=\u001b[39m path \u001b[38;5;241m+\u001b[39m \u001b[38;5;124m\"\u001b[39m\u001b[38;5;124m.\u001b[39m\u001b[38;5;124m\"\u001b[39m \u001b[38;5;241m+\u001b[39m \u001b[38;5;28mstr\u001b[39m(key)\n\u001b[1;32m---> 13\u001b[0m \u001b[43mrecurse_validate\u001b[49m\u001b[43m(\u001b[49m\u001b[43msub_data\u001b[49m\u001b[43m,\u001b[49m\u001b[43m \u001b[49m\u001b[43msub_template\u001b[49m\u001b[43m,\u001b[49m\u001b[43m \u001b[49m\u001b[43msub_path\u001b[49m\u001b[43m)\u001b[49m\n",
      "Cell \u001b[1;32mIn[81], line 2\u001b[0m, in \u001b[0;36mrecurse_validate\u001b[1;34m(data, template, path)\u001b[0m\n\u001b[0;32m      1\u001b[0m \u001b[38;5;28;01mdef\u001b[39;00m \u001b[38;5;21mrecurse_validate\u001b[39m(data, template, path):\n\u001b[1;32m----> 2\u001b[0m     \u001b[43mmatch_keys\u001b[49m\u001b[43m(\u001b[49m\u001b[43mdata\u001b[49m\u001b[43m,\u001b[49m\u001b[43m \u001b[49m\u001b[43mtemplate\u001b[49m\u001b[43m,\u001b[49m\u001b[43m \u001b[49m\u001b[43mpath\u001b[49m\u001b[43m)\u001b[49m  \u001b[38;5;66;03m# all exception handling is done internally which bubbles up if necessary\u001b[39;00m\n\u001b[0;32m      3\u001b[0m     match_types(data, template, path)  \u001b[38;5;66;03m# all exception handling is done internally which bubbles up if necessary\u001b[39;00m\n\u001b[0;32m      5\u001b[0m     \u001b[38;5;66;03m# Now we know the keys and types are correct, we need to revalidate the keys and types\u001b[39;00m\n\u001b[0;32m      6\u001b[0m     \u001b[38;5;66;03m# of any subdictionaries. Get all keys whose types were dictionaries and recurse on them.\u001b[39;00m\n",
      "Cell \u001b[1;32mIn[26], line 17\u001b[0m, in \u001b[0;36mmatch_keys\u001b[1;34m(data, valid, path)\u001b[0m\n\u001b[0;32m     12\u001b[0m missing_msg \u001b[38;5;241m=\u001b[39m (\n\u001b[0;32m     13\u001b[0m     \u001b[38;5;124m\"\u001b[39m\u001b[38;5;124mMissing keys: \u001b[39m\u001b[38;5;124m\"\u001b[39m \u001b[38;5;241m+\u001b[39m \u001b[38;5;124m\"\u001b[39m\u001b[38;5;124m, \u001b[39m\u001b[38;5;124m\"\u001b[39m\u001b[38;5;241m.\u001b[39mjoin({path \u001b[38;5;241m+\u001b[39m \u001b[38;5;124m'\u001b[39m\u001b[38;5;124m.\u001b[39m\u001b[38;5;124m'\u001b[39m \u001b[38;5;241m+\u001b[39m \u001b[38;5;28mstr\u001b[39m(key) \u001b[38;5;28;01mfor\u001b[39;00m key \u001b[38;5;129;01min\u001b[39;00m missing_keys})\n\u001b[0;32m     14\u001b[0m ) \u001b[38;5;28;01mif\u001b[39;00m missing_keys \u001b[38;5;28;01melse\u001b[39;00m \u001b[38;5;124m'\u001b[39m\u001b[38;5;124m'\u001b[39m\n\u001b[0;32m     16\u001b[0m err_msg \u001b[38;5;241m=\u001b[39m \u001b[38;5;124m'\u001b[39m\u001b[38;5;124m, \u001b[39m\u001b[38;5;124m'\u001b[39m\u001b[38;5;241m.\u001b[39mjoin((missing_msg, extras_msg))\n\u001b[1;32m---> 17\u001b[0m \u001b[38;5;28;01mraise\u001b[39;00m SchemaKeyMismatch(err_msg)\n",
      "\u001b[1;31mSchemaKeyMismatch\u001b[0m: Missing keys: root.bio.birthplace.city, "
     ]
    }
   ],
   "source": [
    "validate(eric, template)"
   ]
  },
  {
   "cell_type": "code",
   "execution_count": 85,
   "id": "97c9fd3e-bfbe-4ab7-9b81-ad3a7cde7ccc",
   "metadata": {},
   "outputs": [
    {
     "ename": "SchemaTypeMismatch",
     "evalue": "Incorrect Type:\nAt root.bio.dob.month.\nExpected int.\nGot str",
     "output_type": "error",
     "traceback": [
      "\u001b[1;31m---------------------------------------------------------------------------\u001b[0m",
      "\u001b[1;31mSchemaTypeMismatch\u001b[0m                        Traceback (most recent call last)",
      "Cell \u001b[1;32mIn[85], line 1\u001b[0m\n\u001b[1;32m----> 1\u001b[0m \u001b[43mvalidate\u001b[49m\u001b[43m(\u001b[49m\u001b[43mmichael\u001b[49m\u001b[43m,\u001b[49m\u001b[43m \u001b[49m\u001b[43mtemplate\u001b[49m\u001b[43m)\u001b[49m\n",
      "Cell \u001b[1;32mIn[82], line 2\u001b[0m, in \u001b[0;36mvalidate\u001b[1;34m(data, template)\u001b[0m\n\u001b[0;32m      1\u001b[0m \u001b[38;5;28;01mdef\u001b[39;00m \u001b[38;5;21mvalidate\u001b[39m(data, template):\n\u001b[1;32m----> 2\u001b[0m     \u001b[43mrecurse_validate\u001b[49m\u001b[43m(\u001b[49m\u001b[43mdata\u001b[49m\u001b[43m,\u001b[49m\u001b[43m \u001b[49m\u001b[43mtemplate\u001b[49m\u001b[43m,\u001b[49m\u001b[43m \u001b[49m\u001b[43mpath\u001b[49m\u001b[38;5;241;43m=\u001b[39;49m\u001b[38;5;124;43m'\u001b[39;49m\u001b[38;5;124;43mroot\u001b[39;49m\u001b[38;5;124;43m'\u001b[39;49m\u001b[43m)\u001b[49m\n",
      "Cell \u001b[1;32mIn[81], line 13\u001b[0m, in \u001b[0;36mrecurse_validate\u001b[1;34m(data, template, path)\u001b[0m\n\u001b[0;32m     11\u001b[0m sub_template \u001b[38;5;241m=\u001b[39m template[key]\n\u001b[0;32m     12\u001b[0m sub_path \u001b[38;5;241m=\u001b[39m path \u001b[38;5;241m+\u001b[39m \u001b[38;5;124m\"\u001b[39m\u001b[38;5;124m.\u001b[39m\u001b[38;5;124m\"\u001b[39m \u001b[38;5;241m+\u001b[39m \u001b[38;5;28mstr\u001b[39m(key)\n\u001b[1;32m---> 13\u001b[0m \u001b[43mrecurse_validate\u001b[49m\u001b[43m(\u001b[49m\u001b[43msub_data\u001b[49m\u001b[43m,\u001b[49m\u001b[43m \u001b[49m\u001b[43msub_template\u001b[49m\u001b[43m,\u001b[49m\u001b[43m \u001b[49m\u001b[43msub_path\u001b[49m\u001b[43m)\u001b[49m\n",
      "Cell \u001b[1;32mIn[81], line 13\u001b[0m, in \u001b[0;36mrecurse_validate\u001b[1;34m(data, template, path)\u001b[0m\n\u001b[0;32m     11\u001b[0m sub_template \u001b[38;5;241m=\u001b[39m template[key]\n\u001b[0;32m     12\u001b[0m sub_path \u001b[38;5;241m=\u001b[39m path \u001b[38;5;241m+\u001b[39m \u001b[38;5;124m\"\u001b[39m\u001b[38;5;124m.\u001b[39m\u001b[38;5;124m\"\u001b[39m \u001b[38;5;241m+\u001b[39m \u001b[38;5;28mstr\u001b[39m(key)\n\u001b[1;32m---> 13\u001b[0m \u001b[43mrecurse_validate\u001b[49m\u001b[43m(\u001b[49m\u001b[43msub_data\u001b[49m\u001b[43m,\u001b[49m\u001b[43m \u001b[49m\u001b[43msub_template\u001b[49m\u001b[43m,\u001b[49m\u001b[43m \u001b[49m\u001b[43msub_path\u001b[49m\u001b[43m)\u001b[49m\n",
      "Cell \u001b[1;32mIn[81], line 3\u001b[0m, in \u001b[0;36mrecurse_validate\u001b[1;34m(data, template, path)\u001b[0m\n\u001b[0;32m      1\u001b[0m \u001b[38;5;28;01mdef\u001b[39;00m \u001b[38;5;21mrecurse_validate\u001b[39m(data, template, path):\n\u001b[0;32m      2\u001b[0m     match_keys(data, template, path)  \u001b[38;5;66;03m# all exception handling is done internally which bubbles up if necessary\u001b[39;00m\n\u001b[1;32m----> 3\u001b[0m     \u001b[43mmatch_types\u001b[49m\u001b[43m(\u001b[49m\u001b[43mdata\u001b[49m\u001b[43m,\u001b[49m\u001b[43m \u001b[49m\u001b[43mtemplate\u001b[49m\u001b[43m,\u001b[49m\u001b[43m \u001b[49m\u001b[43mpath\u001b[49m\u001b[43m)\u001b[49m  \u001b[38;5;66;03m# all exception handling is done internally which bubbles up if necessary\u001b[39;00m\n\u001b[0;32m      5\u001b[0m     \u001b[38;5;66;03m# Now we know the keys and types are correct, we need to revalidate the keys and types\u001b[39;00m\n\u001b[0;32m      6\u001b[0m     \u001b[38;5;66;03m# of any subdictionaries. Get all keys whose types were dictionaries and recurse on them.\u001b[39;00m\n\u001b[0;32m      7\u001b[0m     keys_with_dict_as_value \u001b[38;5;241m=\u001b[39m {key \u001b[38;5;28;01mfor\u001b[39;00m key, value \u001b[38;5;129;01min\u001b[39;00m template\u001b[38;5;241m.\u001b[39mitems() \u001b[38;5;28;01mif\u001b[39;00m \u001b[38;5;28misinstance\u001b[39m(value, \u001b[38;5;28mdict\u001b[39m)}\n",
      "Cell \u001b[1;32mIn[78], line 11\u001b[0m, in \u001b[0;36mmatch_types\u001b[1;34m(data, template, path)\u001b[0m\n\u001b[0;32m      9\u001b[0m \u001b[38;5;28;01mif\u001b[39;00m \u001b[38;5;129;01mnot\u001b[39;00m \u001b[38;5;28misinstance\u001b[39m(data_value, template_type):\n\u001b[0;32m     10\u001b[0m     err_msg \u001b[38;5;241m=\u001b[39m \u001b[38;5;124mf\u001b[39m\u001b[38;5;124m\"\u001b[39m\u001b[38;5;124mIncorrect Type:\u001b[39m\u001b[38;5;130;01m\\n\u001b[39;00m\u001b[38;5;124mAt \u001b[39m\u001b[38;5;132;01m{\u001b[39;00mpath\u001b[38;5;132;01m}\u001b[39;00m\u001b[38;5;124m.\u001b[39m\u001b[38;5;132;01m{\u001b[39;00mkey\u001b[38;5;132;01m}\u001b[39;00m\u001b[38;5;124m.\u001b[39m\u001b[38;5;130;01m\\n\u001b[39;00m\u001b[38;5;124mExpected \u001b[39m\u001b[38;5;132;01m{\u001b[39;00mtemplate_type\u001b[38;5;241m.\u001b[39m\u001b[38;5;18m__name__\u001b[39m\u001b[38;5;132;01m}\u001b[39;00m\u001b[38;5;124m.\u001b[39m\u001b[38;5;130;01m\\n\u001b[39;00m\u001b[38;5;124mGot \u001b[39m\u001b[38;5;132;01m{\u001b[39;00m\u001b[38;5;28mtype\u001b[39m(data_value)\u001b[38;5;241m.\u001b[39m\u001b[38;5;18m__name__\u001b[39m\u001b[38;5;132;01m}\u001b[39;00m\u001b[38;5;124m\"\u001b[39m\n\u001b[1;32m---> 11\u001b[0m     \u001b[38;5;28;01mraise\u001b[39;00m SchemaTypeMismatch(err_msg)\n",
      "\u001b[1;31mSchemaTypeMismatch\u001b[0m: Incorrect Type:\nAt root.bio.dob.month.\nExpected int.\nGot str"
     ]
    }
   ],
   "source": [
    "validate(michael, template)"
   ]
  },
  {
   "cell_type": "markdown",
   "id": "0ac52952-737c-4c86-826d-eff3bc3f383a",
   "metadata": {},
   "source": [
    "So why did we create three custom type exceptions, two of which inherit from the other? Here is the code:\n",
    "```python\n",
    "class SchemaError(Exception):\n",
    "    pass\n",
    "\n",
    "class SchemaKeyMismatch(SchemaError):\n",
    "    pass\n",
    "\n",
    "class SchemaTypeMismatch(SchemaError, TypeError):\n",
    "    pass\n",
    "```"
   ]
  },
  {
   "cell_type": "markdown",
   "id": "5b94719c-426a-4e59-9a99-d668344d8a77",
   "metadata": {},
   "source": [
    "This allows for finer granularity in our `try-except` blocks. Let's explain with the final custom exception as an example.\n",
    "\n",
    "`SchemaTypeMismatch` will raise a `SchemaError`'s and `TypeError` too. So, if we have a `try-except` block that attempts to only catch `TypeError`s, and then we raise a `SchemaTypeMismatch`, that will inturn raise a `TypeError` which will bubble up. \n",
    "\n",
    "`michael` gives us a `SchemaTypeMismatch`; if we look out for a `TypeError`, we will catch this `SchemaTypeMismatch` exception:"
   ]
  },
  {
   "cell_type": "code",
   "execution_count": 87,
   "id": "02e0e34b-8968-4454-a9e5-b2c6def32669",
   "metadata": {},
   "outputs": [
    {
     "name": "stdout",
     "output_type": "stream",
     "text": [
      "Incorrect Type:\n",
      "At root.bio.dob.month.\n",
      "Expected int.\n",
      "Got str\n"
     ]
    }
   ],
   "source": [
    "try:\n",
    "    validate(michael, template)\n",
    "except TypeError as ex:\n",
    "    print(ex)"
   ]
  },
  {
   "cell_type": "markdown",
   "id": "acc05dc4-50e2-4d09-b6a5-1003673c15d9",
   "metadata": {},
   "source": [
    "We can also look out for the general `SchemaError` exception or use the direct custom exception:"
   ]
  },
  {
   "cell_type": "code",
   "execution_count": 88,
   "id": "d8f9db05-728d-4fb8-a8a6-68ec182ea0c2",
   "metadata": {},
   "outputs": [
    {
     "name": "stdout",
     "output_type": "stream",
     "text": [
      "Incorrect Type:\n",
      "At root.bio.dob.month.\n",
      "Expected int.\n",
      "Got str\n"
     ]
    }
   ],
   "source": [
    "try:\n",
    "    validate(michael, template)\n",
    "except SchemaError as ex:\n",
    "    print(ex)"
   ]
  },
  {
   "cell_type": "code",
   "execution_count": 89,
   "id": "26f23dde-ec24-45b1-bcda-5a7fe5f6eb0b",
   "metadata": {},
   "outputs": [
    {
     "name": "stdout",
     "output_type": "stream",
     "text": [
      "Incorrect Type:\n",
      "At root.bio.dob.month.\n",
      "Expected int.\n",
      "Got str\n"
     ]
    }
   ],
   "source": [
    "try:\n",
    "    validate(michael, template)\n",
    "except SchemaTypeMismatch as ex:\n",
    "    print(ex)"
   ]
  },
  {
   "cell_type": "markdown",
   "id": "2549857b-356f-4287-ad06-0a3a0e446197",
   "metadata": {},
   "source": [
    "Another advantage of using these exceptions is that it allows us to deal with exception specific exception differently:"
   ]
  },
  {
   "cell_type": "code",
   "execution_count": 91,
   "id": "b9518855-710e-4e07-b4d4-1429ade95dd9",
   "metadata": {},
   "outputs": [
    {
     "name": "stdout",
     "output_type": "stream",
     "text": [
      "mismatched keys, doing some specific handling for that Missing keys: root.bio.birthplace.city, \n"
     ]
    }
   ],
   "source": [
    "try:\n",
    "    validate(eric, template)\n",
    "except SchemaKeyMismatch as ex:\n",
    "    print('mismatched keys, doing some specific handling for that', ex)\n",
    "except SchemaTypeMismatch as ex:\n",
    "    print('mismatched types, doing some specific handling for that', ex)\n",
    "except SchemaError as ex:\n",
    "    print('general exception, doing some specific handling for that', ex)"
   ]
  },
  {
   "cell_type": "code",
   "execution_count": 93,
   "id": "a221e343-e308-43cf-a345-db114879dfb8",
   "metadata": {},
   "outputs": [
    {
     "name": "stdout",
     "output_type": "stream",
     "text": [
      "mismatched types, doing some specific handling for that Incorrect Type:\n",
      "At root.bio.dob.month.\n",
      "Expected int.\n",
      "Got str\n"
     ]
    }
   ],
   "source": [
    "try:\n",
    "    validate(michael, template)\n",
    "except SchemaKeyMismatch as ex:\n",
    "    print('mismatched keys, doing some specific handling for that', ex)\n",
    "except SchemaTypeMismatch as ex:\n",
    "    print('mismatched types, doing some specific handling for that', ex)\n",
    "except SchemaError as ex:\n",
    "    print('general exception, doing some specific handling for that', ex)"
   ]
  },
  {
   "cell_type": "markdown",
   "id": "bb808d30-8ee1-4078-badb-20cbcd931919",
   "metadata": {},
   "source": [
    "Of course, since there are no `SchemaError` exceptions raised in our code, and since `SchemaKeyMismatch` and `SchemaTypeMismatch` both inherit from `SchemaError`, and there are no other exceptions, the `SchemaError` exception block will never run. \n",
    "\n",
    "Below, we get a `SchemaTypeMismatch` but we don't catch that, but `SchemaTypeMismatch` does inherit from `SchemaError`, but we don't catch that either...\n",
    "\n",
    "But, it also inherits from `TypeError` and we are catching that, so it gets raised!"
   ]
  },
  {
   "cell_type": "code",
   "execution_count": 94,
   "id": "7060217e-187d-4b9a-9842-f3027382b6ba",
   "metadata": {},
   "outputs": [
    {
     "name": "stdout",
     "output_type": "stream",
     "text": [
      "type exception, doing some specific handling for that Incorrect Type:\n",
      "At root.bio.dob.month.\n",
      "Expected int.\n",
      "Got str\n"
     ]
    }
   ],
   "source": [
    "try:\n",
    "    validate(michael, template)\n",
    "except SchemaKeyMismatch as ex:\n",
    "    print('mismatched keys, doing some specific handling for that', ex)\n",
    "except TypeError as ex:\n",
    "    print('type exception, doing some specific handling for that', ex)"
   ]
  }
 ],
 "metadata": {
  "kernelspec": {
   "display_name": "Python 3 (ipykernel)",
   "language": "python",
   "name": "python3"
  },
  "language_info": {
   "codemirror_mode": {
    "name": "ipython",
    "version": 3
   },
   "file_extension": ".py",
   "mimetype": "text/x-python",
   "name": "python",
   "nbconvert_exporter": "python",
   "pygments_lexer": "ipython3",
   "version": "3.10.4"
  }
 },
 "nbformat": 4,
 "nbformat_minor": 5
}
