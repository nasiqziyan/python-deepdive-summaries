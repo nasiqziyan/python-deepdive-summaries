{
 "cells": [
  {
   "cell_type": "markdown",
   "id": "6bc054b9-eae0-4c7b-8a32-f3a6e1ca10f0",
   "metadata": {},
   "source": [
    "This is actually a section of short exercises, so we'll keep it here instead of inside the projects folder for simplicity."
   ]
  },
  {
   "cell_type": "markdown",
   "id": "4556de0f-059f-4baa-add9-6c2001cf0bb2",
   "metadata": {},
   "source": [
    "#### Exercise 1"
   ]
  },
  {
   "cell_type": "markdown",
   "id": "ef7382a8-a37d-4b02-b354-667f05341e7e",
   "metadata": {},
   "source": [
    "Let's revisit an exercise we did right after the section on dictionaries.\n",
    "\n",
    "You have text data spread across multiple servers. Each server is able to analyze this data and return a dictionary that contains words and their frequency.\n",
    "\n",
    "Your job is to combine this data to create a single dictionary that contains all the words and their combined frequencies from all these data sources. Bonus points if you can make your dictionary sorted by frequency (highest to lowest).\n",
    "\n",
    "Solve it using `defaultdict` and `Counter`\n",
    "\n",
    "For example, you may have three servers that each return these dictionaries:"
   ]
  },
  {
   "cell_type": "code",
   "execution_count": 15,
   "id": "714a97f1-198a-4abe-82dd-5d0e8d376ed9",
   "metadata": {},
   "outputs": [],
   "source": [
    "d1 = {'python': 10, 'java': 3, 'c#': 8, 'javascript': 15}\n",
    "d2 = {'java': 10, 'c++': 10, 'c#': 4, 'go': 9, 'python': 6}\n",
    "d3 = {'erlang': 5, 'haskell': 2, 'python': 1, 'pascal': 1}"
   ]
  },
  {
   "cell_type": "markdown",
   "id": "87d69290-3470-4c39-8d39-3e0009ef6354",
   "metadata": {},
   "source": [
    "#### Solution"
   ]
  },
  {
   "cell_type": "code",
   "execution_count": 19,
   "id": "eac96066-7668-49ee-bb93-b90f1370d8e7",
   "metadata": {},
   "outputs": [],
   "source": [
    "from collections import Counter, defaultdict"
   ]
  },
  {
   "cell_type": "code",
   "execution_count": 18,
   "id": "d2712132-54a2-452c-9796-cfc8364e88f5",
   "metadata": {},
   "outputs": [
    {
     "data": {
      "text/plain": [
       "{'python': 17,\n",
       " 'javascript': 15,\n",
       " 'java': 13,\n",
       " 'c#': 12,\n",
       " 'c++': 10,\n",
       " 'go': 9,\n",
       " 'erlang': 5,\n",
       " 'haskell': 2,\n",
       " 'pascal': 1}"
      ]
     },
     "execution_count": 18,
     "metadata": {},
     "output_type": "execute_result"
    }
   ],
   "source": [
    "def merge(*dicts):\n",
    "    unsorted = defaultdict(int)\n",
    "    for d in dicts:\n",
    "        for k, v in d.items():\n",
    "            unsorted[k] += v\n",
    "\n",
    "    return dict(sorted(unsorted.items(), key=lambda e: e[1], reverse=True))\n",
    "\n",
    "merge(d1, d2, d3)"
   ]
  },
  {
   "cell_type": "code",
   "execution_count": 21,
   "id": "7f33776d-2d9b-4e88-b554-5504d7cd5b30",
   "metadata": {},
   "outputs": [
    {
     "data": {
      "text/plain": [
       "{'python': 17,\n",
       " 'javascript': 15,\n",
       " 'java': 13,\n",
       " 'c#': 12,\n",
       " 'c++': 10,\n",
       " 'go': 9,\n",
       " 'erlang': 5,\n",
       " 'haskell': 2,\n",
       " 'pascal': 1}"
      ]
     },
     "execution_count": 21,
     "metadata": {},
     "output_type": "execute_result"
    }
   ],
   "source": [
    "def merge(*dicts):\n",
    "    unsorted = Counter()\n",
    "    for d in dicts:\n",
    "        unsorted.update(d)\n",
    "    return dict(unsorted.most_common())\n",
    "\n",
    "merge(d1, d2, d3)"
   ]
  },
  {
   "cell_type": "markdown",
   "id": "016b34e8-87e6-462a-9096-93f2d0844701",
   "metadata": {},
   "source": [
    "#### Exercise 2"
   ]
  },
  {
   "cell_type": "markdown",
   "id": "4a7f257b-5edf-4946-9e75-f32c44c4a594",
   "metadata": {},
   "source": [
    "Suppose you have a list of all possible eye colors:"
   ]
  },
  {
   "cell_type": "code",
   "execution_count": 42,
   "id": "747e93f6-f54c-40fa-85a3-9eceb696c9e3",
   "metadata": {},
   "outputs": [],
   "source": [
    "eye_colours = (\"amber\", \"blue\", \"brown\", \"gray\", \"green\", \"hazel\", \"red\", \"violet\")"
   ]
  },
  {
   "cell_type": "markdown",
   "id": "33d9f25f-fc0c-4bcf-b9a4-ca37d32ea2d4",
   "metadata": {},
   "source": [
    "Some other collection (say recovered from a database, or an external API) contains a list of `Person` objects that have an eye colour property.\n",
    "\n",
    "Your goal is to create a dictionary that contains the number of people that have the eye colour as specified in `eye_colours`. The wrinkle here is that even if no one matches some eye colour, say `amber`, your dictionary should still contain an entry `\"amber\": 0`."
   ]
  },
  {
   "cell_type": "markdown",
   "id": "b060e8f6-30cc-4a08-b030-a9fe512a3d89",
   "metadata": {},
   "source": [
    "Here is some sample data:"
   ]
  },
  {
   "cell_type": "code",
   "execution_count": 43,
   "id": "05b5fe31-3110-4fe9-8ca9-095ab3b01ff0",
   "metadata": {},
   "outputs": [],
   "source": [
    "class Person:\n",
    "    def __init__(self, eye_colour):\n",
    "        self.eye_colour = eye_colour"
   ]
  },
  {
   "cell_type": "code",
   "execution_count": 44,
   "id": "eee1d734-dcb8-4caf-8c53-30496a1faf8d",
   "metadata": {},
   "outputs": [],
   "source": [
    "from random import seed, choices\n",
    "seed(0)\n",
    "persons = [Person(colour) for colour in choices(eye_colours[2:], k = 50)]"
   ]
  },
  {
   "cell_type": "markdown",
   "id": "0df5fb7c-80ff-410f-8ca0-af45e7bc550d",
   "metadata": {},
   "source": [
    "As you can see we built up a list of `Person` objects, none of which should have `amber` or `blue` eye colours"
   ]
  },
  {
   "cell_type": "markdown",
   "id": "bd72f3fa-3ba1-435b-bb53-b553bb2122c7",
   "metadata": {},
   "source": [
    "Write a function that returns a dictionary with the correct counts for each eye colour listed in `eye_colours`."
   ]
  },
  {
   "cell_type": "markdown",
   "id": "87caf8e0-b1c7-47b2-8aa1-4836e8161ae2",
   "metadata": {},
   "source": [
    "#### Solution"
   ]
  },
  {
   "cell_type": "code",
   "execution_count": 45,
   "id": "f427bddc-10b7-412b-96bc-e15e5b1429e3",
   "metadata": {},
   "outputs": [
    {
     "data": {
      "text/plain": [
       "Counter({'violet': 12,\n",
       "         'gray': 10,\n",
       "         'red': 10,\n",
       "         'green': 8,\n",
       "         'hazel': 7,\n",
       "         'brown': 3,\n",
       "         'amber': 0,\n",
       "         'blue': 0})"
      ]
     },
     "execution_count": 45,
     "metadata": {},
     "output_type": "execute_result"
    }
   ],
   "source": [
    "def count_eye_colours(persons: list, possible_eye_colours: tuple):\n",
    "    counts = Counter({colour: 0 for colour in possible_eye_colours})\n",
    "    counts.update(person.eye_colour for person in persons)\n",
    "    return counts\n",
    "\n",
    "count_eye_colours(persons, eye_colors)"
   ]
  },
  {
   "cell_type": "markdown",
   "id": "0994791e-ad19-4d30-a54d-b4e2f28f3543",
   "metadata": {},
   "source": [
    "#### Exercise 3"
   ]
  },
  {
   "cell_type": "markdown",
   "id": "7ee002f5-877a-4aa4-9b07-5f833a531da4",
   "metadata": {},
   "source": [
    "You are given three JSON files, representing a default set of settings, and environment specific settings. The files are included in the downloads, and are named:\n",
    "\n",
    "- common.json\n",
    "- dev.json\n",
    "- prod.json\n",
    "\n",
    "Your goal is to write a function that has a single argument, the environment name, and returns the \"combined\" dictionary that merges the two dictionaries together, with the environment specific settings overriding any common settings already defined.\n",
    "\n",
    "For simplicity, assume that the argument values are going to be the same as the file names, without the .json extension. So for example, `dev` or `prod`.\n",
    "\n",
    "The wrinkle: We don't want to duplicate data for the \"merged\" dictionary - use ChainMap to implement this instead."
   ]
  },
  {
   "cell_type": "markdown",
   "id": "c18c216c-358e-4692-bb84-44d1b1622737",
   "metadata": {},
   "source": [
    "#### Solution"
   ]
  },
  {
   "cell_type": "markdown",
   "id": "8caa745a-d539-4d76-8d28-69888baaa8bd",
   "metadata": {},
   "source": [
    "Here are the following steps:\n",
    "\n",
    "1. Write a function `load_settings` that takes in an environment name (str) and returns a dictionary of its settings found in its JSON file.\n",
    "2. Write a function `settings` that takes an environment name (str) and returns a `ChainMap` dictionary which merges the specified environment with the `common.json` settings.\n",
    "3. Recognise that `dev` and `common` both have a key called `database` whose value is a dictionary. We don't want the dev dictionary to override the common dictionary; instead, we want to merge them.\n",
    "4. Write a function called `chain_recursive` which takes two dictionaries (child and parent). Iterate through the values of the child and if it's a dictionary *and* that key is in the parent dictionary (with an associated dictionary value), merge the two dictionaries using the `chain_recursive` function.\n",
    "5. Modify your `settings` function to return a `chain_recursive` of the two environment dictionaries instead of a regular `ChainMap`"
   ]
  },
  {
   "cell_type": "code",
   "execution_count": 54,
   "id": "0dd416d0-019b-4e0e-91cd-19a62d216f62",
   "metadata": {},
   "outputs": [
    {
     "name": "stdout",
     "output_type": "stream",
     "text": [
      "{'data': {'input_root': '/default/path/inputs',\n",
      "          'numerics': {'precision': 6, 'type': 'Decimal'},\n",
      "          'output_root': '/default/path/outputs'},\n",
      " 'database': {'db_name': 'deepdive', 'port': 5432, 'schema': 'public'},\n",
      " 'logs': {'format': '%(asctime)s: %(levelname)s: %(clientip)s %(user)s '\n",
      "                    '%(message)s',\n",
      "          'level': 'info'}}\n"
     ]
    }
   ],
   "source": [
    "import json\n",
    "from pprint import pprint\n",
    "\n",
    "# STEP 1\n",
    "def load_settings(env: str):\n",
    "    with open(f\"{env}.json\") as f:\n",
    "        settings = json.load(f)\n",
    "    return settings\n",
    "\n",
    "pprint(load_settings('common'))"
   ]
  },
  {
   "cell_type": "code",
   "execution_count": 55,
   "id": "13dcd269-c69c-4de4-8dd1-20aa20415ded",
   "metadata": {},
   "outputs": [
    {
     "name": "stdout",
     "output_type": "stream",
     "text": [
      "ChainMap({'data': {'input_root': '/dev/path/inputs',\n",
      "                   'numerics': {'type': 'float'},\n",
      "                   'operators': {'add': '__add__'},\n",
      "                   'output_root': '/dev/path/outputs'},\n",
      "          'database': {'pwd': 'test', 'user': 'test'},\n",
      "          'logs': {'format': '%(asctime)s: %(levelname)s: %(clientip)s '\n",
      "                             '%(user)s %(filename)s %(funcName)s %(message)s',\n",
      "                   'level': 'trace'}},\n",
      "         {'data': {'input_root': '/default/path/inputs',\n",
      "                   'numerics': {'precision': 6, 'type': 'Decimal'},\n",
      "                   'output_root': '/default/path/outputs'},\n",
      "          'database': {'db_name': 'deepdive', 'port': 5432, 'schema': 'public'},\n",
      "          'logs': {'format': '%(asctime)s: %(levelname)s: %(clientip)s '\n",
      "                             '%(user)s %(message)s',\n",
      "                   'level': 'info'}})\n"
     ]
    }
   ],
   "source": [
    "from collections import ChainMap\n",
    "\n",
    "# STEP 2\n",
    "def settings(env: str):\n",
    "    env_settings = load_settings(env)\n",
    "    common_settings = load_settings('common')\n",
    "    return ChainMap(env_settings, common_settings)\n",
    "\n",
    "pprint(settings('dev'))  # 1st dict in output is child; 2nd is parent"
   ]
  },
  {
   "cell_type": "code",
   "execution_count": 57,
   "id": "4ff1e16d-f2b6-428c-bb67-6cbcde5a4cc4",
   "metadata": {},
   "outputs": [
    {
     "name": "stdout",
     "output_type": "stream",
     "text": [
      "ChainMap({'data': ChainMap({'input_root': '/dev/path/inputs',\n",
      "                            'numerics': ChainMap({'type': 'float'},\n",
      "                                                 {'precision': 6,\n",
      "                                                  'type': 'Decimal'}),\n",
      "                            'operators': {'add': '__add__'},\n",
      "                            'output_root': '/dev/path/outputs'},\n",
      "                           {'input_root': '/default/path/inputs',\n",
      "                            'numerics': {'precision': 6, 'type': 'Decimal'},\n",
      "                            'output_root': '/default/path/outputs'}),\n",
      "          'database': ChainMap({'pwd': 'test', 'user': 'test'},\n",
      "                               {'db_name': 'deepdive',\n",
      "                                'port': 5432,\n",
      "                                'schema': 'public'}),\n",
      "          'logs': ChainMap({'format': '%(asctime)s: %(levelname)s: '\n",
      "                                      '%(clientip)s %(user)s %(filename)s '\n",
      "                                      '%(funcName)s %(message)s',\n",
      "                            'level': 'trace'},\n",
      "                           {'format': '%(asctime)s: %(levelname)s: '\n",
      "                                      '%(clientip)s %(user)s %(message)s',\n",
      "                            'level': 'info'})},\n",
      "         {'data': {'input_root': '/default/path/inputs',\n",
      "                   'numerics': {'precision': 6, 'type': 'Decimal'},\n",
      "                   'output_root': '/default/path/outputs'},\n",
      "          'database': {'db_name': 'deepdive', 'port': 5432, 'schema': 'public'},\n",
      "          'logs': {'format': '%(asctime)s: %(levelname)s: %(clientip)s '\n",
      "                             '%(user)s %(message)s',\n",
      "                   'level': 'info'}})\n"
     ]
    }
   ],
   "source": [
    "# STEP 3, 4\n",
    "\n",
    "def chain_recursive(child, parent):\n",
    "    chain = ChainMap(child, parent)\n",
    "    for k, v in child.items():\n",
    "        if isinstance(v, dict) and k in parent:\n",
    "            chain[k] = chain_recursive(child[k], parent[k])\n",
    "\n",
    "    return chain\n",
    "\n",
    "common_d = load_settings('common')\n",
    "dev_d = load_settings('dev')\n",
    "\n",
    "pprint(chain_recursive(dev_d, common_d))"
   ]
  },
  {
   "cell_type": "markdown",
   "id": "6ac8b1dc-351a-4550-aee1-aed196f9b335",
   "metadata": {},
   "source": [
    "Notice that `'database'` has the `user` and `pwd` from `dev`, but also the `db_name`, `schema` and `port` from `common`"
   ]
  },
  {
   "cell_type": "code",
   "execution_count": 58,
   "id": "f77ecc91-551c-4917-8630-601efcb251f2",
   "metadata": {},
   "outputs": [],
   "source": [
    "# STEP 5\n",
    "\n",
    "def settings(env: str):\n",
    "    env_settings = load_settings(env)\n",
    "    common_settings = load_settings('common')\n",
    "    return chain_recursive(env_settings, common_settings)"
   ]
  },
  {
   "cell_type": "code",
   "execution_count": 59,
   "id": "c0089e1a-538a-47a1-854a-3a6637b72aa3",
   "metadata": {},
   "outputs": [
    {
     "name": "stdout",
     "output_type": "stream",
     "text": [
      "ChainMap({'data': ChainMap({'input_root': '/dev/path/inputs',\n",
      "                            'numerics': ChainMap({'type': 'float'},\n",
      "                                                 {'precision': 6,\n",
      "                                                  'type': 'Decimal'}),\n",
      "                            'operators': {'add': '__add__'},\n",
      "                            'output_root': '/dev/path/outputs'},\n",
      "                           {'input_root': '/default/path/inputs',\n",
      "                            'numerics': {'precision': 6, 'type': 'Decimal'},\n",
      "                            'output_root': '/default/path/outputs'}),\n",
      "          'database': ChainMap({'pwd': 'test', 'user': 'test'},\n",
      "                               {'db_name': 'deepdive',\n",
      "                                'port': 5432,\n",
      "                                'schema': 'public'}),\n",
      "          'logs': ChainMap({'format': '%(asctime)s: %(levelname)s: '\n",
      "                                      '%(clientip)s %(user)s %(filename)s '\n",
      "                                      '%(funcName)s %(message)s',\n",
      "                            'level': 'trace'},\n",
      "                           {'format': '%(asctime)s: %(levelname)s: '\n",
      "                                      '%(clientip)s %(user)s %(message)s',\n",
      "                            'level': 'info'})},\n",
      "         {'data': {'input_root': '/default/path/inputs',\n",
      "                   'numerics': {'precision': 6, 'type': 'Decimal'},\n",
      "                   'output_root': '/default/path/outputs'},\n",
      "          'database': {'db_name': 'deepdive', 'port': 5432, 'schema': 'public'},\n",
      "          'logs': {'format': '%(asctime)s: %(levelname)s: %(clientip)s '\n",
      "                             '%(user)s %(message)s',\n",
      "                   'level': 'info'}})\n"
     ]
    }
   ],
   "source": [
    "pprint(settings('dev'))"
   ]
  },
  {
   "cell_type": "code",
   "execution_count": 60,
   "id": "a2787deb-1ead-4311-9242-2db19c9a8a66",
   "metadata": {},
   "outputs": [
    {
     "name": "stdout",
     "output_type": "stream",
     "text": [
      "ChainMap({'data': ChainMap({'input_root': '$DATA_INPUT_PATH',\n",
      "                            'output_root': '$DATA_OUTPUT_PATH'},\n",
      "                           {'input_root': '/default/path/inputs',\n",
      "                            'numerics': {'precision': 6, 'type': 'Decimal'},\n",
      "                            'output_root': '/default/path/outputs'}),\n",
      "          'database': ChainMap({'pwd': '$PG_PWD', 'user': '$PG_USER'},\n",
      "                               {'db_name': 'deepdive',\n",
      "                                'port': 5432,\n",
      "                                'schema': 'public'})},\n",
      "         {'data': {'input_root': '/default/path/inputs',\n",
      "                   'numerics': {'precision': 6, 'type': 'Decimal'},\n",
      "                   'output_root': '/default/path/outputs'},\n",
      "          'database': {'db_name': 'deepdive', 'port': 5432, 'schema': 'public'},\n",
      "          'logs': {'format': '%(asctime)s: %(levelname)s: %(clientip)s '\n",
      "                             '%(user)s %(message)s',\n",
      "                   'level': 'info'}})\n"
     ]
    }
   ],
   "source": [
    "pprint(settings('prod'))"
   ]
  },
  {
   "cell_type": "code",
   "execution_count": null,
   "id": "33a9130a-f219-4e4c-8479-1c69cc2de63f",
   "metadata": {},
   "outputs": [],
   "source": []
  }
 ],
 "metadata": {
  "kernelspec": {
   "display_name": "Python 3 (ipykernel)",
   "language": "python",
   "name": "python3"
  },
  "language_info": {
   "codemirror_mode": {
    "name": "ipython",
    "version": 3
   },
   "file_extension": ".py",
   "mimetype": "text/x-python",
   "name": "python",
   "nbconvert_exporter": "python",
   "pygments_lexer": "ipython3",
   "version": "3.10.4"
  }
 },
 "nbformat": 4,
 "nbformat_minor": 5
}
