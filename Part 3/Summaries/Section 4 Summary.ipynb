{
 "cells": [
  {
   "cell_type": "markdown",
   "id": "4f37e596-5a41-4744-adb0-75370349b8f1",
   "metadata": {},
   "source": [
    "This is actually a section of short exercises, so we'll keep it here instead of inside the projects folder for simplicity."
   ]
  },
  {
   "cell_type": "markdown",
   "id": "ec42090d-2fa8-4acc-8bf8-f5f28f4b2542",
   "metadata": {},
   "source": [
    "#### Exercise 1"
   ]
  },
  {
   "cell_type": "markdown",
   "id": "0b0b6052-d2d2-4e1d-ba0d-0bd19c2967da",
   "metadata": {},
   "source": [
    "Write a Python function that will create and return a dictionary from another dictionary, but sorted by value. You can assume the values are all comparable and have a natural sort order."
   ]
  },
  {
   "cell_type": "markdown",
   "id": "f82dd412-3ca9-4f85-9774-8932cf398a15",
   "metadata": {},
   "source": [
    "For example, given the following dictionary:"
   ]
  },
  {
   "cell_type": "code",
   "execution_count": 1,
   "id": "74093653-cd10-4658-8716-3f455aedb558",
   "metadata": {},
   "outputs": [],
   "source": [
    "composers = {'Johann': 65, 'Ludwig': 56, 'Frederic': 39, 'Wolfgang': 35}"
   ]
  },
  {
   "cell_type": "markdown",
   "id": "325eff69-6464-4f59-82a1-d0d3056b169e",
   "metadata": {},
   "source": [
    "Your function should return a dictionary that looks like the following:"
   ]
  },
  {
   "cell_type": "code",
   "execution_count": 2,
   "id": "4ea5d559-fbd3-4e91-a444-3e23b97db2bb",
   "metadata": {},
   "outputs": [],
   "source": [
    "sorted_composers = {'Wolfgang': 35,\n",
    "                    'Frederic': 39, \n",
    "                    'Ludwig': 56,\n",
    "                    'Johann': 65}"
   ]
  },
  {
   "cell_type": "markdown",
   "id": "9c505bb6-1f26-463c-a78e-350f9711573a",
   "metadata": {},
   "source": [
    "Remember if you are using Jupyter notebook to use `print()` to view your dictionary in it's natural ordering (in case Jupyter displays your dictionary sorted by key).\n",
    "\n",
    "Also try to keep your code Pythonic - i.e. don't start with an empty dictionary and build it up one key at a time - look for a different, more Pythonic, way of doing it. \n",
    "\n",
    "Hint: you'll likely want to use Python's `sorted` function."
   ]
  },
  {
   "cell_type": "markdown",
   "id": "181c7b84-8a0b-4128-a5e8-b6a649bfc1a0",
   "metadata": {},
   "source": [
    "#### Solution"
   ]
  },
  {
   "cell_type": "markdown",
   "id": "f75ed965-ec5c-42c6-b8b6-b8be5b7938aa",
   "metadata": {},
   "source": [
    "This first approach is quite inefficient but it's fine for small dictionaries"
   ]
  },
  {
   "cell_type": "code",
   "execution_count": 10,
   "id": "81e2033b-593b-4857-8e43-dc18afb2abd5",
   "metadata": {},
   "outputs": [
    {
     "name": "stdout",
     "output_type": "stream",
     "text": [
      "{'Wolfgang': 35, 'Frederic': 39, 'Ludwig': 56, 'Johann': 65}\n"
     ]
    }
   ],
   "source": [
    "composers = {'Johann': 65, 'Ludwig': 56, 'Frederic': 39, 'Wolfgang': 35}\n",
    "\n",
    "sorted_composers = {k: v for k, v in sorted(composers.items(), key=lambda t: t[1])}\n",
    "print(sorted_composers)           "
   ]
  },
  {
   "cell_type": "markdown",
   "id": "18722c9f-d0d8-44fd-8a12-91cd5146f4e0",
   "metadata": {},
   "source": [
    "Here's the better approach. Recall that the `dict()` function has three forms, one of which is taking an iterable of subiterables."
   ]
  },
  {
   "cell_type": "code",
   "execution_count": 14,
   "id": "e9c12908-23ae-4d95-9c07-914e2743efb9",
   "metadata": {},
   "outputs": [
    {
     "name": "stdout",
     "output_type": "stream",
     "text": [
      "sorted_it = [('Wolfgang', 35), ('Frederic', 39), ('Ludwig', 56), ('Johann', 65)]\n",
      "{'Wolfgang': 35, 'Frederic': 39, 'Ludwig': 56, 'Johann': 65}\n"
     ]
    }
   ],
   "source": [
    "composers = {'Johann': 65, 'Ludwig': 56, 'Frederic': 39, 'Wolfgang': 35}\n",
    "\n",
    "sorted_it = sorted(composers.items(), key = lambda t: t[1])\n",
    "print(f\"{sorted_it = }\")\n",
    "\n",
    "sorted_composers = dict(sorted_it)\n",
    "print(sorted_composers)"
   ]
  },
  {
   "cell_type": "markdown",
   "id": "0cc357bc-34be-4ab5-97b9-1ec703bae413",
   "metadata": {},
   "source": [
    "#### Exercise 2"
   ]
  },
  {
   "cell_type": "markdown",
   "id": "71afe7b5-5d87-44ee-bc4f-66f33f069b2d",
   "metadata": {},
   "source": [
    "Given two dictionaries, `d1` and `d2`, write a function that creates a dictionary that contains only the keys common to both dictionaries, with values being a tuple containg the values from `d1` and `d2`. (Order of keys is not important)."
   ]
  },
  {
   "cell_type": "markdown",
   "id": "eb0e04c1-8bca-48df-9d08-66540d0d1853",
   "metadata": {},
   "source": [
    "For example, given two dictionaries as follows:"
   ]
  },
  {
   "cell_type": "code",
   "execution_count": 3,
   "id": "0619e9e4-35b1-447f-8fa4-bdac59437101",
   "metadata": {},
   "outputs": [],
   "source": [
    "d1 = {'a': 1, 'b': 2, 'c': 3, 'd': 4}\n",
    "d2 = {'b': 20, 'c': 30, 'y': 40, 'z': 50}"
   ]
  },
  {
   "cell_type": "markdown",
   "id": "7a919ef1-b2bf-4fae-847c-1b80f5b33a55",
   "metadata": {},
   "source": [
    "Your function should return a dictionary that looks like this:"
   ]
  },
  {
   "cell_type": "code",
   "execution_count": 4,
   "id": "5513b7b4-0905-4302-a65b-9b9d380eeaf8",
   "metadata": {},
   "outputs": [],
   "source": [
    "d = {'b': (2, 20), 'c': (3, 30)}"
   ]
  },
  {
   "cell_type": "markdown",
   "id": "862eaeb0-4c1d-4e74-b46e-d06b9d3138a4",
   "metadata": {},
   "source": [
    "Hint: Remember that `s1 & s2` will return the intersection of two sets."
   ]
  },
  {
   "cell_type": "markdown",
   "id": "3ff932e3-a34e-4e14-be99-360ac792317a",
   "metadata": {},
   "source": [
    "Again, try to keep your code Pythonic - don't just start with an empty dictionary and build it up one by one - think of a cleaner approach."
   ]
  },
  {
   "cell_type": "markdown",
   "id": "76d76767-a795-4401-a049-a4a61730fa64",
   "metadata": {},
   "source": [
    "#### Solution"
   ]
  },
  {
   "cell_type": "code",
   "execution_count": 19,
   "id": "5371f687-54a9-4295-b6b0-81b9544f7ee6",
   "metadata": {},
   "outputs": [
    {
     "name": "stdout",
     "output_type": "stream",
     "text": [
      "{'c': (3, 30), 'b': (2, 20)}\n"
     ]
    }
   ],
   "source": [
    "d1 = {'a': 1, 'b': 2, 'c': 3, 'd': 4}\n",
    "d2 = {'b': 20, 'c': 30, 'y': 40, 'z': 50}\n",
    "\n",
    "common_dict = {k: (d1[k], d2[k]) for k in d1.keys() & d2.keys()}\n",
    "print(common_dict)"
   ]
  },
  {
   "cell_type": "markdown",
   "id": "876cde20-2f2a-4b8b-881c-dc552123a9b5",
   "metadata": {},
   "source": [
    "#### Exercise 3"
   ]
  },
  {
   "cell_type": "markdown",
   "id": "30e14a9c-2756-4d39-b764-2c1655262881",
   "metadata": {},
   "source": [
    "You have text data spread across multiple servers.\n",
    "Each server is able to analyze this data and return a dictionary that contains words and their frequency.\n",
    "\n",
    "Your job is to combine this data to create a single dictionary that contains all the words and their combined frequencies from all these data sources. Bonus points if you can make your dictionary sorted by frequency (highest to lowest).\n",
    "\n",
    "For example, you may have three servers that each return these dictionaries:"
   ]
  },
  {
   "cell_type": "code",
   "execution_count": 41,
   "id": "18aebbea-cb75-4a78-81a2-2bb27fa1dab5",
   "metadata": {},
   "outputs": [],
   "source": [
    "d1 = {'python': 10, 'java': 3, 'c#': 8, 'javascript': 15}\n",
    "d2 = {'java': 10, 'c++': 10, 'c#': 4, 'go': 9, 'python': 6}\n",
    "d3 = {'erlang': 5, 'haskell': 2, 'python': 1, 'pascal': 1}"
   ]
  },
  {
   "cell_type": "markdown",
   "id": "e5dd07f0-8dcf-40a3-b901-e052cddb6b8d",
   "metadata": {},
   "source": [
    "Your resulting dictionary should look like this:"
   ]
  },
  {
   "cell_type": "code",
   "execution_count": 6,
   "id": "1e2fd493-8a6f-4fd4-b24a-018d65d61e87",
   "metadata": {},
   "outputs": [],
   "source": [
    "d = {'python': 17,\n",
    "     'javascript': 15,\n",
    "     'java': 13,\n",
    "     'c#': 12,\n",
    "     'c++': 10,\n",
    "     'go': 9,\n",
    "     'erlang': 5,\n",
    "     'haskell': 2,\n",
    "     'pascal': 1}"
   ]
  },
  {
   "cell_type": "markdown",
   "id": "1747d53c-d3d2-4b40-936c-c9c477dfa7b1",
   "metadata": {},
   "source": [
    "If only servers 1 and 2 return data (so d1 and d2), your results would look like:"
   ]
  },
  {
   "cell_type": "code",
   "execution_count": 7,
   "id": "65491253-6f5b-4fde-83b7-b0b34d513e0c",
   "metadata": {},
   "outputs": [],
   "source": [
    "d = {'python': 16,\n",
    "     'javascript': 15,\n",
    "     'java': 13,\n",
    "     'c#': 12,\n",
    "     'c++': 10, \n",
    "     'go': 9}"
   ]
  },
  {
   "cell_type": "markdown",
   "id": "39a3649d-06b7-4dc0-9de2-78f93b741cdb",
   "metadata": {},
   "source": [
    "#### Solution"
   ]
  },
  {
   "cell_type": "code",
   "execution_count": 62,
   "id": "de338962-6dab-463e-abac-eced31171883",
   "metadata": {},
   "outputs": [
    {
     "name": "stdout",
     "output_type": "stream",
     "text": [
      "{'python': 17, 'javascript': 15, 'java': 13, 'c#': 12, 'c++': 10, 'go': 9, 'erlang': 5, 'haskell': 2, 'pascal': 1}\n"
     ]
    }
   ],
   "source": [
    "def merge(*dicts):\n",
    "    unsorted = {}\n",
    "\n",
    "    for d in dicts:\n",
    "        for k, v in d.items():\n",
    "            unsorted[k] = unsorted.get(k, 0) + v\n",
    "\n",
    "    sorted_dict = sorted(unsorted.items(), key = lambda t: t[1], reverse=True)\n",
    "    return dict(sorted_dict)\n",
    "\n",
    "print(merge(d1, d2, d3))"
   ]
  },
  {
   "cell_type": "markdown",
   "id": "480d5755-435e-4e09-9895-7f819e6925f4",
   "metadata": {},
   "source": [
    "#### Exercise 4"
   ]
  },
  {
   "cell_type": "markdown",
   "id": "43fed9e0-8923-4975-bcd2-82615d078363",
   "metadata": {},
   "source": [
    "For this exercise suppose you have a web API load balanced across multiple nodes. This API receives various requests for resources and logs each request to some local storage. Each instance of the API is able to return a dictionary containing the resource that was accessed (the dictionary key) and the number of times it was requested (the associated value).\n",
    "\n",
    "Your task here is to identify resources that have been requested on some, but not all the servers, so you can determine if you have an issue with your load balancer not distributing certain resource requests across all nodes.\n",
    "\n",
    "For simplicity, we will assume that there are exactly 3 nodes in the cluster.\n",
    "\n",
    "You should write a function that takes 3 dictionaries as arguments for node 1, node 2, and node 3, and returns a dictionary that contains only keys that are not found in **all** of the dictionaries. The value should be a list containing the number of times it was requested in each node (the node order should match the dictionary (node) order passed to your function). Use `0` if the resource was not requested from the corresponding node."
   ]
  },
  {
   "cell_type": "markdown",
   "id": "db403d53-6511-49d8-8dc3-4696fb60620b",
   "metadata": {},
   "source": [
    "Suppose your dictionaries are for logs of all the GET requests on each node:"
   ]
  },
  {
   "cell_type": "code",
   "execution_count": 8,
   "id": "38061eac-dbc8-41db-8a9d-42f335b92367",
   "metadata": {},
   "outputs": [],
   "source": [
    "n1 = {'employees': 100, 'employee': 5000, 'users': 10, 'user': 100}\n",
    "n2 = {'employees': 250, 'users': 23, 'user': 230}\n",
    "n3 = {'employees': 150, 'users': 4, 'login': 1000}"
   ]
  },
  {
   "cell_type": "markdown",
   "id": "95ee9c60-9182-4503-a329-134f96c13a7b",
   "metadata": {},
   "source": [
    "Your result should then be:"
   ]
  },
  {
   "cell_type": "code",
   "execution_count": 9,
   "id": "97b3cefb-3b92-496a-b502-4f826ed6d811",
   "metadata": {},
   "outputs": [],
   "source": [
    "result = {'employee': (5000, 0, 0),\n",
    "          'user': (100, 230, 0),\n",
    "          'login': (0, 0, 1000)}"
   ]
  },
  {
   "cell_type": "markdown",
   "id": "58ec4278-a340-482d-a295-e89fea35b9b0",
   "metadata": {},
   "source": [
    "#### Solution"
   ]
  },
  {
   "cell_type": "code",
   "execution_count": 100,
   "id": "d64c2650-01f9-4165-a027-62369ec025a6",
   "metadata": {},
   "outputs": [
    {
     "data": {
      "text/plain": [
       "{'user': (100, 230, 0), 'employee': (5000, 0, 0), 'login': (0, 0, 1000)}"
      ]
     },
     "execution_count": 100,
     "metadata": {},
     "output_type": "execute_result"
    }
   ],
   "source": [
    "def uncommon_to_all(n1, n2, n3):\n",
    "\n",
    "    union = n1.keys() | n2.keys() | n3.keys()\n",
    "    intersection = n1.keys() & n2.keys() & n3.keys()\n",
    "\n",
    "    remainders = union - intersection\n",
    "\n",
    "    combined_dict = {\n",
    "        key: (n1.get(key, 0), n2.get(key, 0), n3.get(key, 0))\n",
    "        for key in remainders\n",
    "    }\n",
    "\n",
    "    return combined_dict\n",
    "    \n",
    "\n",
    "uncommon_to_all(n1, n2, n3)"
   ]
  }
 ],
 "metadata": {
  "kernelspec": {
   "display_name": "Python 3 (ipykernel)",
   "language": "python",
   "name": "python3"
  },
  "language_info": {
   "codemirror_mode": {
    "name": "ipython",
    "version": 3
   },
   "file_extension": ".py",
   "mimetype": "text/x-python",
   "name": "python",
   "nbconvert_exporter": "python",
   "pygments_lexer": "ipython3",
   "version": "3.10.4"
  }
 },
 "nbformat": 4,
 "nbformat_minor": 5
}
