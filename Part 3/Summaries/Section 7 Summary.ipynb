{
 "cells": [
  {
   "cell_type": "markdown",
   "id": "7807ab61-c7a3-49df-abf6-520859b1d53f",
   "metadata": {},
   "source": [
    "#### Introduction"
   ]
  },
  {
   "cell_type": "markdown",
   "id": "4a609ce2-1ac0-4a70-b637-c554e1f56cc8",
   "metadata": {},
   "source": [
    "Serialising and deserialising objects is useful for persistence of data (even after a program has terminated) and/or transmission."
   ]
  },
  {
   "cell_type": "markdown",
   "id": "0b311673-51eb-471a-a8f9-53507d58e249",
   "metadata": {},
   "source": [
    "# 01 - Pickling"
   ]
  },
  {
   "cell_type": "markdown",
   "id": "7086655b-ae3f-4c14-866f-3f7d42e0cf7a",
   "metadata": {},
   "source": [
    "#### Lecture"
   ]
  },
  {
   "cell_type": "markdown",
   "id": "6dccfc6f-c7e5-48cd-894c-eb232d027ba0",
   "metadata": {},
   "source": [
    "This is a python-specific mechanism to serialise/deserialise objects using **binary** (by default) representation.\n",
    "\n",
    "While pickling applies to *more* than just python dictionaries, we will focus on dictionaries here because of JSON - it's easy to serialise/deserialise them into JSON.\n",
    "\n",
    "But not all data types are serialisable; `datetime`s, for example, don't serialise without loss of data, but there are 3rd party libraries that solve these problems (marshmallow)."
   ]
  },
  {
   "cell_type": "markdown",
   "id": "9dd5d5c8-bbe8-4c95-ba75-56bcf2d1ae46",
   "metadata": {},
   "source": [
    "**Object/Data Marshalling** is the process of serialising **and** deserialising objects/data:\n",
    "\n",
    "`obj -- serialise --> 0101001110011... -- deserialise --> obj`"
   ]
  },
  {
   "cell_type": "markdown",
   "id": "6883f6e7-2aa9-46de-b2b1-dcb7aa22394c",
   "metadata": {},
   "source": [
    "Unpickling data can be **dangerous** because they can **execute code**."
   ]
  },
  {
   "cell_type": "markdown",
   "id": "e57ef357-e977-43b9-801d-9b59b5dec2d9",
   "metadata": {},
   "source": [
    "##### Usage"
   ]
  },
  {
   "cell_type": "markdown",
   "id": "ab684dc3-f81e-4aee-bd58-995c8bbbad68",
   "metadata": {},
   "source": [
    "```import pickle```\n",
    "\n",
    "`dump` -> pickle to file\n",
    "\n",
    "`load` -> unpickle from file\n",
    "\n",
    "`dumps` -> returns a string pickled representation that can be stored in a variable\n",
    "\n",
    "`loads` -> unpickles from a string"
   ]
  },
  {
   "cell_type": "markdown",
   "id": "d88b83d4-fa7b-42f8-bf43-494cc92e8713",
   "metadata": {},
   "source": [
    "##### Equality and Identity"
   ]
  },
  {
   "cell_type": "markdown",
   "id": "01c6bd14-4f41-4f5b-9d39-ce48978f09a5",
   "metadata": {},
   "source": [
    "A pickled object does not contain information of its ID. Therefore, if a dictionary `dict_1` is pickled and then unpickled, the final dictionary `dict_2` will have a different ID to the original.\n",
    "\n",
    "`dict_1 == dict_2` but `dict_1 is not dict_2`\n",
    "\n",
    "Serialising/Deserialising data behaves very similar to making deepcopies. If we deepcopy an object which contains two identical references to the same object, then, the copy will ensure that the relationship is maintained. To elaborate with an example:\n",
    "\n",
    "```python\n",
    "my_list = [1, 2]\n",
    "l1 = ['a', 'b', my_list, my_list]\n",
    "\n",
    "l1[2] == l1[3] --> True\n",
    "l1[2] is l1[3] --> True\n",
    "\n",
    "l2 = deepcopy(l1)\n",
    "l2 -> ['a', 'b', [1, 2], [1, 2]\n",
    "\n",
    "l2[2] == l2[3] --> True\n",
    "l2[2] is l2[3] --> True\n",
    "```\n",
    "\n",
    "So Python sees the shared reference of `l1[2]` and `l2[3]` pointing to `my_list` and it replicates that relationship in the copy"
   ]
  },
  {
   "cell_type": "markdown",
   "id": "5a515702-7860-4e60-b22c-6267ac896776",
   "metadata": {},
   "source": [
    "#### Coding"
   ]
  },
  {
   "cell_type": "markdown",
   "id": "32eb12ce-8fc9-4f9c-8538-5c9e1894fff7",
   "metadata": {},
   "source": [
    "##### `.dumps()` and `.loads()`"
   ]
  },
  {
   "cell_type": "markdown",
   "id": "81dc8355-3d91-4242-ad59-3e2227d6f7a3",
   "metadata": {},
   "source": [
    "We can pickle **strings**:"
   ]
  },
  {
   "cell_type": "code",
   "execution_count": 1,
   "id": "df82eedf-1fd1-4592-a28d-603d825500fe",
   "metadata": {},
   "outputs": [],
   "source": [
    "import pickle"
   ]
  },
  {
   "cell_type": "code",
   "execution_count": 2,
   "id": "11a34974-b983-4ef7-85df-594784fac5c8",
   "metadata": {},
   "outputs": [
    {
     "data": {
      "text/plain": [
       "b'\\x80\\x04\\x95\\x19\\x00\\x00\\x00\\x00\\x00\\x00\\x00\\x8c\\x15Python Pickle Peppers\\x94.'"
      ]
     },
     "execution_count": 2,
     "metadata": {},
     "output_type": "execute_result"
    }
   ],
   "source": [
    "ser = pickle.dumps('Python Pickle Peppers')\n",
    "ser"
   ]
  },
  {
   "cell_type": "code",
   "execution_count": 3,
   "id": "149ba4c7-09f7-416f-ba53-0281cda6519c",
   "metadata": {},
   "outputs": [
    {
     "data": {
      "text/plain": [
       "'Python Pickle Peppers'"
      ]
     },
     "execution_count": 3,
     "metadata": {},
     "output_type": "execute_result"
    }
   ],
   "source": [
    "deser = pickle.loads(ser)\n",
    "deser"
   ]
  },
  {
   "cell_type": "markdown",
   "id": "69d21217-5163-4e9a-b735-092856b9a6a9",
   "metadata": {},
   "source": [
    "And **floats/integers**:"
   ]
  },
  {
   "cell_type": "code",
   "execution_count": 4,
   "id": "ea45278f-6bb0-4a54-8c12-4077475e6a55",
   "metadata": {},
   "outputs": [
    {
     "data": {
      "text/plain": [
       "b'\\x80\\x04\\x95\\n\\x00\\x00\\x00\\x00\\x00\\x00\\x00G@\\t\\x1e\\xb8Q\\xeb\\x85\\x1f.'"
      ]
     },
     "execution_count": 4,
     "metadata": {},
     "output_type": "execute_result"
    }
   ],
   "source": [
    "ser = pickle.dumps(3.14)\n",
    "ser"
   ]
  },
  {
   "cell_type": "code",
   "execution_count": 5,
   "id": "bdf76488-11a8-4028-ba0f-6055fde36788",
   "metadata": {},
   "outputs": [
    {
     "data": {
      "text/plain": [
       "3.14"
      ]
     },
     "execution_count": 5,
     "metadata": {},
     "output_type": "execute_result"
    }
   ],
   "source": [
    "deser = pickle.loads(ser)\n",
    "deser"
   ]
  },
  {
   "cell_type": "markdown",
   "id": "c8f4b451-37df-475b-92bf-ddbebab566e0",
   "metadata": {},
   "source": [
    "And **sets**:"
   ]
  },
  {
   "cell_type": "code",
   "execution_count": 13,
   "id": "759a4f5d-b59d-4b55-af4c-11fcbc157869",
   "metadata": {},
   "outputs": [
    {
     "data": {
      "text/plain": [
       "b'\\x80\\x04\\x95\\x0f\\x00\\x00\\x00\\x00\\x00\\x00\\x00\\x8f\\x94(\\x8c\\x01a\\x94K\\n\\x8c\\x01b\\x94\\x90.'"
      ]
     },
     "execution_count": 13,
     "metadata": {},
     "output_type": "execute_result"
    }
   ],
   "source": [
    "ser = pickle.dumps({'a', 'b', 10})\n",
    "ser"
   ]
  },
  {
   "cell_type": "code",
   "execution_count": 14,
   "id": "f08cf3ed-3953-4918-934e-458d68957077",
   "metadata": {},
   "outputs": [
    {
     "data": {
      "text/plain": [
       "{10, 'a', 'b'}"
      ]
     },
     "execution_count": 14,
     "metadata": {},
     "output_type": "execute_result"
    }
   ],
   "source": [
    "deser = pickle.loads(ser)\n",
    "deser"
   ]
  },
  {
   "cell_type": "markdown",
   "id": "2405dbf9-e01e-4751-9378-b5a1eb552a76",
   "metadata": {},
   "source": [
    "And **lists/tuples**:"
   ]
  },
  {
   "cell_type": "code",
   "execution_count": 10,
   "id": "3de90d34-8340-4877-8195-2e110254991b",
   "metadata": {},
   "outputs": [
    {
     "data": {
      "text/plain": [
       "b'\\x80\\x04\\x95\\x15\\x00\\x00\\x00\\x00\\x00\\x00\\x00]\\x94(K\\nK\\x14\\x8c\\x01a\\x94\\x8c\\x01b\\x94K\\x1e\\x87\\x94e.'"
      ]
     },
     "execution_count": 10,
     "metadata": {},
     "output_type": "execute_result"
    }
   ],
   "source": [
    "l1 = [10, 20, ('a', 'b', 30)]\n",
    "ser = pickle.dumps(l1)\n",
    "ser"
   ]
  },
  {
   "cell_type": "code",
   "execution_count": 11,
   "id": "28c7745a-df58-45e0-84b4-8086f06c9e5e",
   "metadata": {},
   "outputs": [
    {
     "data": {
      "text/plain": [
       "[10, 20, ('a', 'b', 30)]"
      ]
     },
     "execution_count": 11,
     "metadata": {},
     "output_type": "execute_result"
    }
   ],
   "source": [
    "l2 = pickle.loads(ser)\n",
    "l2"
   ]
  },
  {
   "cell_type": "markdown",
   "id": "cde68b58-57cf-44ad-91bf-f4e815dc4a79",
   "metadata": {},
   "source": [
    "But remember that the IDs will **change**. They are **equal** but not **identical**."
   ]
  },
  {
   "cell_type": "code",
   "execution_count": 12,
   "id": "c4748737-5fc4-48d1-8f54-be7d25c6be23",
   "metadata": {},
   "outputs": [
    {
     "name": "stdout",
     "output_type": "stream",
     "text": [
      "l1 == l2 = True\n",
      "l1 is l2 = False\n"
     ]
    }
   ],
   "source": [
    "print(f\"{l1 == l2 = }\")\n",
    "print(f\"{l1 is l2 = }\")"
   ]
  },
  {
   "cell_type": "markdown",
   "id": "bfc83bc2-4e88-4075-81fc-8550acb3465e",
   "metadata": {},
   "source": [
    "And **dictionaries**:"
   ]
  },
  {
   "cell_type": "code",
   "execution_count": 15,
   "id": "9c950c44-396e-4099-97e3-a0a6ec9bc7eb",
   "metadata": {},
   "outputs": [
    {
     "data": {
      "text/plain": [
       "b'\\x80\\x04\\x95\\x8b\\x00\\x00\\x00\\x00\\x00\\x00\\x00}\\x94(\\x8c\\x01a\\x94Kd\\x8c\\x01b\\x94]\\x94(K\\x01K\\x02K\\x03e\\x8c\\x01c\\x94K\\x01K\\x02K\\x03\\x87\\x94\\x8c\\x01d\\x94}\\x94(\\x8c\\x01x\\x94\\x8c\\x08builtins\\x94\\x8c\\x07complex\\x94\\x93\\x94G?\\xf0\\x00\\x00\\x00\\x00\\x00\\x00G?\\xf0\\x00\\x00\\x00\\x00\\x00\\x00\\x86\\x94R\\x94\\x8c\\x01y\\x94\\x8c\\x08datetime\\x94\\x8c\\x08datetime\\x94\\x93\\x94C\\n\\x07\\xe8\\x01\\x1c\\x13: \\x07\\x94\\xda\\x94\\x85\\x94R\\x94uu.'"
      ]
     },
     "execution_count": 15,
     "metadata": {},
     "output_type": "execute_result"
    }
   ],
   "source": [
    "from datetime import datetime\n",
    "\n",
    "d = {\n",
    "    'a': 100,\n",
    "    'b': [1, 2, 3],\n",
    "    'c': (1, 2, 3),\n",
    "    'd': {'x': 1 + 1j, 'y': datetime.utcnow()}\n",
    "}\n",
    "\n",
    "ser = pickle.dumps(d)\n",
    "ser"
   ]
  },
  {
   "cell_type": "code",
   "execution_count": 16,
   "id": "d7a9451d-e150-4fa9-984c-def79398b226",
   "metadata": {},
   "outputs": [
    {
     "data": {
      "text/plain": [
       "{'a': 100,\n",
       " 'b': [1, 2, 3],\n",
       " 'c': (1, 2, 3),\n",
       " 'd': {'x': (1+1j), 'y': datetime.datetime(2024, 1, 28, 19, 58, 32, 496858)}}"
      ]
     },
     "execution_count": 16,
     "metadata": {},
     "output_type": "execute_result"
    }
   ],
   "source": [
    "deser = pickle.loads(ser)\n",
    "deser"
   ]
  },
  {
   "cell_type": "markdown",
   "id": "89ac9c49-b7bf-4984-8a4f-cc84a906c556",
   "metadata": {},
   "source": [
    "As mentioned in the lecture, shared reference relationships are maintained with serialising/deserialising just like with deepcopies:"
   ]
  },
  {
   "cell_type": "code",
   "execution_count": 18,
   "id": "60f57e95-5e6e-44f2-8dc7-b608661df944",
   "metadata": {},
   "outputs": [
    {
     "name": "stdout",
     "output_type": "stream",
     "text": [
      "True\n",
      "True\n"
     ]
    }
   ],
   "source": [
    "my_dict = {'a': 10, 'b': 20}\n",
    "d = {'x': 100, 'y': my_dict, 'z': my_dict}\n",
    "\n",
    "print(d['y'] == d['y'])\n",
    "print(d['y'] is d['y'])"
   ]
  },
  {
   "cell_type": "code",
   "execution_count": 19,
   "id": "23462cc6-437b-4a7f-b680-78caf257ff90",
   "metadata": {},
   "outputs": [
    {
     "name": "stdout",
     "output_type": "stream",
     "text": [
      "True\n",
      "True\n"
     ]
    }
   ],
   "source": [
    "ser = pickle.dumps(d)\n",
    "d2 = pickle.loads(ser)\n",
    "\n",
    "print(d2['y'] == d2['y'])\n",
    "print(d2['y'] is d2['y'])"
   ]
  },
  {
   "cell_type": "markdown",
   "id": "d4d9168a-990e-46a9-a149-d2f430767e8c",
   "metadata": {},
   "source": [
    "# 02 - JSON Serialization"
   ]
  },
  {
   "cell_type": "code",
   "execution_count": null,
   "id": "3ebc3192-4435-4a45-807c-f3f3710f3386",
   "metadata": {},
   "outputs": [],
   "source": []
  },
  {
   "cell_type": "markdown",
   "id": "3137a359-4e7d-4c49-a259-ec3c991a9e60",
   "metadata": {},
   "source": [
    "# 03 - Custom JSON Encoding"
   ]
  },
  {
   "cell_type": "markdown",
   "id": "bfda76b2-ce0d-4b62-a256-d71edcf669ad",
   "metadata": {},
   "source": [
    "# 04 - Custom Encoding using JSONEncoder"
   ]
  },
  {
   "cell_type": "markdown",
   "id": "c8c73cf1-14b6-4c5e-a746-39b9d7d80cd2",
   "metadata": {},
   "source": [
    "# 05 - Custom JSON Decoding"
   ]
  },
  {
   "cell_type": "markdown",
   "id": "d928d198-9de0-43a1-aadd-3cd226207a57",
   "metadata": {},
   "source": [
    "# 06 - Using JSONDecoder"
   ]
  },
  {
   "cell_type": "markdown",
   "id": "288b9deb-f8e3-431d-b34e-0a449a23d0d5",
   "metadata": {},
   "source": [
    "# 07 - JSONSchema"
   ]
  },
  {
   "cell_type": "markdown",
   "id": "5d36ab9a-6051-4582-9383-22489bd0725a",
   "metadata": {},
   "source": [
    "# 08 - Marshmallow"
   ]
  },
  {
   "cell_type": "markdown",
   "id": "6e22cdc4-529b-4a4d-bc26-3f8fae03fd93",
   "metadata": {},
   "source": [
    "# 09 - YAML"
   ]
  },
  {
   "cell_type": "markdown",
   "id": "090a302a-192b-4cb0-aac8-6ebf1b353b09",
   "metadata": {},
   "source": [
    "# 10 - Serpy"
   ]
  },
  {
   "cell_type": "code",
   "execution_count": null,
   "id": "77084b49-ddb1-4ae3-aaad-8d7021a86726",
   "metadata": {},
   "outputs": [],
   "source": []
  }
 ],
 "metadata": {
  "kernelspec": {
   "display_name": "Python 3 (ipykernel)",
   "language": "python",
   "name": "python3"
  },
  "language_info": {
   "codemirror_mode": {
    "name": "ipython",
    "version": 3
   },
   "file_extension": ".py",
   "mimetype": "text/x-python",
   "name": "python",
   "nbconvert_exporter": "python",
   "pygments_lexer": "ipython3",
   "version": "3.10.4"
  }
 },
 "nbformat": 4,
 "nbformat_minor": 5
}
