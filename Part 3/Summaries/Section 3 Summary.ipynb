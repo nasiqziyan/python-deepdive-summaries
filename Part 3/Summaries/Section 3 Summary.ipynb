{
 "cells": [
  {
   "cell_type": "markdown",
   "id": "cebd9b19-3042-4647-93ee-9aaefe9bf567",
   "metadata": {},
   "source": [
    "# 01 - Creating Python Dictionaries"
   ]
  },
  {
   "cell_type": "markdown",
   "id": "49a6ca24-be44-48ed-b659-65cff0797f79",
   "metadata": {},
   "source": [
    "#### Literals"
   ]
  },
  {
   "cell_type": "markdown",
   "id": "eaf7d9e6-0346-4f0f-b5be-2fe691643737",
   "metadata": {},
   "source": [
    "For example:"
   ]
  },
  {
   "cell_type": "code",
   "execution_count": 1,
   "id": "7e0dd7d7-b6b3-40d1-8ad3-52c75b4eda0c",
   "metadata": {},
   "outputs": [],
   "source": [
    "d = {'john': ['John Cleese'],\n",
    "     (0, 0): 'origin',\n",
    "    }"
   ]
  },
  {
   "cell_type": "markdown",
   "id": "e8049f8f-0eb0-4b90-a4e9-a3bd7c381c6f",
   "metadata": {},
   "source": [
    "#### Constructor"
   ]
  },
  {
   "cell_type": "markdown",
   "id": "484f9482-835f-4db0-839c-75b70e20a4fe",
   "metadata": {},
   "source": [
    "This approach is less flexible than using literals because the keys must be a valid identifier name (e.g. variable, function, class names, etc). The key will be converted into a string. We cannot create a dictionary with a tuple as a key using this approach:\n",
    "\n",
    "It has the form `dict(key1=value1, key2=value2)`"
   ]
  },
  {
   "cell_type": "code",
   "execution_count": 8,
   "id": "991e6651-e88f-4bae-bd75-17efc8c68701",
   "metadata": {},
   "outputs": [],
   "source": [
    "d = dict(john=['John Cleese'], my_func='this is a function')"
   ]
  },
  {
   "cell_type": "markdown",
   "id": "1c65ae96-1919-4552-91c0-23eff00d3470",
   "metadata": {},
   "source": [
    "We can also use another form with the `dict()` constructor: `dict([(key1, value1), [key2, value2]])`. \n",
    "\n",
    "As you can see, the key-value pairs can be any iterables e.g. tuples, lists etc. Also they can be contained in any iterable. In the above, they are contained in a list."
   ]
  },
  {
   "cell_type": "code",
   "execution_count": 1,
   "id": "ae3d0234-9260-45c1-8ef6-9a7d37f80d74",
   "metadata": {},
   "outputs": [
    {
     "data": {
      "text/plain": [
       "{'a': 100, 'b': 200}"
      ]
     },
     "execution_count": 1,
     "metadata": {},
     "output_type": "execute_result"
    }
   ],
   "source": [
    "d = dict([('a', 100), ['b', 200]])\n",
    "d"
   ]
  },
  {
   "cell_type": "markdown",
   "id": "6af85e71-b409-4af3-ab13-3865697547c3",
   "metadata": {},
   "source": [
    "We can also pass dictionaries to `dict()`. This will produce a **shallow copy**:"
   ]
  },
  {
   "cell_type": "code",
   "execution_count": 2,
   "id": "7e204871-a86a-49b4-9d4b-3130a2ab2501",
   "metadata": {},
   "outputs": [
    {
     "data": {
      "text/plain": [
       "{'a': 1, 'b': 2, 'c': [3, 4, 5]}"
      ]
     },
     "execution_count": 2,
     "metadata": {},
     "output_type": "execute_result"
    }
   ],
   "source": [
    "d = {'a': 1, 'b': 2, 'c': [3, 4, 5]}\n",
    "\n",
    "copy = dict(d)\n",
    "d"
   ]
  },
  {
   "cell_type": "code",
   "execution_count": 3,
   "id": "f0d7d3e1-d6e0-4757-806c-83ac2ec0c2b1",
   "metadata": {},
   "outputs": [
    {
     "name": "stdout",
     "output_type": "stream",
     "text": [
      "{'a': 1, 'b': 2, 'c': [3, 4, 5, 100]}\n",
      "{'a': 1, 'b': 2, 'c': [3, 4, 5, 100]}\n"
     ]
    }
   ],
   "source": [
    "d['c'].append(100)\n",
    "\n",
    "print(d)\n",
    "print(copy)"
   ]
  },
  {
   "cell_type": "markdown",
   "id": "f7f7758a-3da2-46c1-86d9-47f7ce6d4b09",
   "metadata": {},
   "source": [
    "#### Dictionary Comprehensions"
   ]
  },
  {
   "cell_type": "markdown",
   "id": "efbf9c9e-647e-43ed-be0a-bf63b1d73d90",
   "metadata": {},
   "source": [
    "For example:"
   ]
  },
  {
   "cell_type": "code",
   "execution_count": 11,
   "id": "a0461089-7b69-42f7-a67b-2cdf65e85a2f",
   "metadata": {},
   "outputs": [
    {
     "data": {
      "text/plain": [
       "{'0': 0, '1': 1, '2': 4, '3': 9, '4': 16}"
      ]
     },
     "execution_count": 11,
     "metadata": {},
     "output_type": "execute_result"
    }
   ],
   "source": [
    "d = {str(i): i ** 2 for i in range(5)}\n",
    "d"
   ]
  },
  {
   "cell_type": "markdown",
   "id": "e9a3ed53-976e-4799-bc00-d87d05fa3332",
   "metadata": {},
   "source": [
    "Here's another example:"
   ]
  },
  {
   "cell_type": "code",
   "execution_count": 4,
   "id": "b872d773-54e2-42d7-93db-d0afc5b8cba7",
   "metadata": {},
   "outputs": [
    {
     "data": {
      "text/plain": [
       "{'a': 1, 'b': 2, 'c': 3}"
      ]
     },
     "execution_count": 4,
     "metadata": {},
     "output_type": "execute_result"
    }
   ],
   "source": [
    "keys = ['a', 'b', 'c']\n",
    "values = (1, 2, 3)\n",
    "\n",
    "d = {k: v for k, v in zip(keys, values)}\n",
    "d"
   ]
  },
  {
   "cell_type": "markdown",
   "id": "26fcd12e-ebcb-4f74-ad21-1197d0461610",
   "metadata": {},
   "source": [
    "#### `dict.fromkeys()`"
   ]
  },
  {
   "cell_type": "markdown",
   "id": "fb6b72d3-f55c-487c-8326-a934487b87c2",
   "metadata": {},
   "source": [
    "This created a dictionary with `specified keys` all having the **same value**. It has the form `dict.fromkeys(iterable, value=None)` where the iterable must have **hashable elements**. These elements will become the keys."
   ]
  },
  {
   "cell_type": "code",
   "execution_count": 13,
   "id": "c4cec738-bafc-4611-aa5e-54dbe7379968",
   "metadata": {},
   "outputs": [
    {
     "data": {
      "text/plain": [
       "{'a': 'N/A', (0, 0): 'N/A', 250: 'N/A'}"
      ]
     },
     "execution_count": 13,
     "metadata": {},
     "output_type": "execute_result"
    }
   ],
   "source": [
    "d = dict.fromkeys(['a', (0,0), 250], 'N/A')\n",
    "d"
   ]
  },
  {
   "cell_type": "markdown",
   "id": "6fa1801f-aec1-461b-860a-4f67bd70e9cf",
   "metadata": {},
   "source": [
    "Any iterable will do, so we can pass a generator expression if we like:"
   ]
  },
  {
   "cell_type": "code",
   "execution_count": 15,
   "id": "4f52dca5-e412-41b6-b2a2-19c8a7dce09c",
   "metadata": {},
   "outputs": [
    {
     "data": {
      "text/plain": [
       "{0: False, 1: False, 4: False, 9: False, 16: False}"
      ]
     },
     "execution_count": 15,
     "metadata": {},
     "output_type": "execute_result"
    }
   ],
   "source": [
    "d = dict.fromkeys((i**2 for i in range(5)), False)\n",
    "d"
   ]
  },
  {
   "cell_type": "markdown",
   "id": "e91b5c10-7cde-48b3-939d-8fa5a49d6cfc",
   "metadata": {},
   "source": [
    "# 02 - Common Operations"
   ]
  },
  {
   "cell_type": "markdown",
   "id": "4edf98ab-a494-4e80-971d-8ee8b05b87a1",
   "metadata": {},
   "source": [
    "Most common operations will be related to the keys not the values. For example `len(d)` will return the number of keys in `d`."
   ]
  },
  {
   "cell_type": "markdown",
   "id": "eac8df9b-eba8-4364-8529-9ae3eb9d2b2d",
   "metadata": {},
   "source": [
    "#### Membership Tests"
   ]
  },
  {
   "cell_type": "markdown",
   "id": "911d714d-9e68-4d0d-aa88-a44ecf879933",
   "metadata": {},
   "source": [
    "Membership tests are seeing if keys are present in a dictionary - they're very efficient. All we need to do is hash the key and traverse the probe sequence."
   ]
  },
  {
   "cell_type": "markdown",
   "id": "eb6aadde-fbe5-4a9c-b45b-fde2836891e3",
   "metadata": {},
   "source": [
    "We can use the `in` and `not in` operators to test the presence of a **key** in a dictionary:"
   ]
  },
  {
   "cell_type": "code",
   "execution_count": 27,
   "id": "897f684e-603b-4fea-8f2c-bb7bce3b4591",
   "metadata": {},
   "outputs": [],
   "source": [
    "d = dict(a=1, b=2, c=3)"
   ]
  },
  {
   "cell_type": "code",
   "execution_count": 28,
   "id": "a5609a37-bd51-4ab4-890b-59eb04f95bd6",
   "metadata": {},
   "outputs": [
    {
     "data": {
      "text/plain": [
       "True"
      ]
     },
     "execution_count": 28,
     "metadata": {},
     "output_type": "execute_result"
    }
   ],
   "source": [
    "'a' in d"
   ]
  },
  {
   "cell_type": "markdown",
   "id": "70a7255d-4d40-4657-8e94-c7addfe029eb",
   "metadata": {},
   "source": [
    "#### Removing elements from a dictionary"
   ]
  },
  {
   "cell_type": "markdown",
   "id": "17445583-2d8f-4636-8a99-d4f1bcebf14c",
   "metadata": {},
   "source": [
    "We can use the `del` operator, `.pop(key)` method or the `.popitem()` method to remove a key from a dictionary:"
   ]
  },
  {
   "cell_type": "code",
   "execution_count": 29,
   "id": "1da01e3a-4cbc-4d89-b0ee-2d1ffc15da97",
   "metadata": {},
   "outputs": [],
   "source": [
    "d = dict.fromkeys('abcd', 0)"
   ]
  },
  {
   "cell_type": "code",
   "execution_count": 30,
   "id": "efe0e295-a0be-4ea3-a38e-6cbab3d3d4a8",
   "metadata": {},
   "outputs": [
    {
     "data": {
      "text/plain": [
       "{'a': 0, 'b': 0, 'c': 0, 'd': 0}"
      ]
     },
     "execution_count": 30,
     "metadata": {},
     "output_type": "execute_result"
    }
   ],
   "source": [
    "d"
   ]
  },
  {
   "cell_type": "markdown",
   "id": "59abef03-8de0-43f4-b57d-aed7b20f753b",
   "metadata": {},
   "source": [
    "We can remove a key this way. If it doesn't exist, we get a `KeyError` exception."
   ]
  },
  {
   "cell_type": "code",
   "execution_count": 31,
   "id": "40ef9f68-3cf6-467a-aabf-ec0347968f18",
   "metadata": {},
   "outputs": [
    {
     "data": {
      "text/plain": [
       "{'b': 0, 'c': 0, 'd': 0}"
      ]
     },
     "execution_count": 31,
     "metadata": {},
     "output_type": "execute_result"
    }
   ],
   "source": [
    "del d['a']\n",
    "d"
   ]
  },
  {
   "cell_type": "markdown",
   "id": "2e488fdf-2db6-45eb-8e46-6cecaa8e2d4c",
   "metadata": {},
   "source": [
    "When the key is popped, the **value** is returned"
   ]
  },
  {
   "cell_type": "code",
   "execution_count": 32,
   "id": "ec872acf-e4b4-4782-a802-29d6d178a945",
   "metadata": {},
   "outputs": [
    {
     "name": "stdout",
     "output_type": "stream",
     "text": [
      "0\n"
     ]
    },
    {
     "data": {
      "text/plain": [
       "{'c': 0, 'd': 0}"
      ]
     },
     "execution_count": 32,
     "metadata": {},
     "output_type": "execute_result"
    }
   ],
   "source": [
    "print(d.pop('b'))\n",
    "d"
   ]
  },
  {
   "cell_type": "markdown",
   "id": "3262f174-da11-4538-90db-4fc979bb3eb6",
   "metadata": {},
   "source": [
    "We can specify a default value to `.pop()` so that a `KeyError` exception isn't thrown when we can't find the key:"
   ]
  },
  {
   "cell_type": "code",
   "execution_count": 34,
   "id": "c4ff9e7e-16dd-4601-9c2d-9fcfa988e0c1",
   "metadata": {},
   "outputs": [
    {
     "name": "stdout",
     "output_type": "stream",
     "text": [
      "None\n"
     ]
    }
   ],
   "source": [
    "print(d.pop('idontexist', None))"
   ]
  },
  {
   "cell_type": "markdown",
   "id": "bad8f11e-05eb-4ea9-8892-bb1032c14740",
   "metadata": {},
   "source": [
    "The `.popitem()` method will remove the **last** item that was inserted into the dictionary and return that item, i.e. a key-value pair. In other words, **last inserted - popped first -> LIFO**."
   ]
  },
  {
   "cell_type": "code",
   "execution_count": 35,
   "id": "aec640cf-b80b-4b9b-9d7a-4d89cf9a66dd",
   "metadata": {},
   "outputs": [
    {
     "name": "stdout",
     "output_type": "stream",
     "text": [
      "('d', 0)\n"
     ]
    }
   ],
   "source": [
    "print(d.popitem())"
   ]
  },
  {
   "cell_type": "markdown",
   "id": "3ff40c5c-fc2f-455d-bd9f-71695ad3d00e",
   "metadata": {},
   "source": [
    "#### Inserting keys with a default"
   ]
  },
  {
   "cell_type": "markdown",
   "id": "da25538b-4668-4527-a0cc-f573b31d6b52",
   "metadata": {},
   "source": [
    "Sometimes we may want to insert an element in a dictionary with a default value, but only if the element is not already present. It has the form: `.setdefault(key, value)`."
   ]
  },
  {
   "cell_type": "code",
   "execution_count": 37,
   "id": "a2656df7-4a16-4f83-b39b-6cacbcebbbe1",
   "metadata": {},
   "outputs": [
    {
     "name": "stdout",
     "output_type": "stream",
     "text": [
      "1\n",
      "100\n",
      "{'a': 1, 'b': 2, 'c': 3, 'd': 100}\n"
     ]
    }
   ],
   "source": [
    "d = {'a':1, 'b':2, 'c':3}\n",
    "\n",
    "print(d.setdefault('a', 100))\n",
    "print(d.setdefault('d', 100))\n",
    "print(d)"
   ]
  },
  {
   "cell_type": "markdown",
   "id": "da065385-8c47-4e2c-a749-4d04a7db0f5d",
   "metadata": {},
   "source": [
    "#### Examples"
   ]
  },
  {
   "cell_type": "markdown",
   "id": "a444b42f-f4f5-4347-bed6-f9c15abdbde7",
   "metadata": {},
   "source": [
    "##### Example 1"
   ]
  },
  {
   "cell_type": "markdown",
   "id": "c29ea581-4dcc-44a5-9a7e-73948b023a4c",
   "metadata": {},
   "source": [
    "Here we have a string where we want to count the number of each character that appears in the string.\n",
    "Since we know the alphabet is a-z, we could create a dictionary with these initial keys - but maybe the string contains characters outside of that, maybe punctuation marks, emojis, etc. So it's not really feasible to take that approach."
   ]
  },
  {
   "cell_type": "code",
   "execution_count": 39,
   "id": "03f2815f-1924-4433-aae3-7b522b2f0561",
   "metadata": {},
   "outputs": [
    {
     "name": "stdout",
     "output_type": "stream",
     "text": [
      "{'S': 1, 'e': 77, 'd': 22, ' ': 128, 'u': 69, 't': 65, 'p': 22, 'r': 38, 's': 43, 'i': 76, 'c': 19, 'a': 70, ',': 20, 'n': 37, 'o': 51, 'm': 43, 'v': 15, 'l': 33, 'q': 26, 'b': 5, 'h': 3, 'x': 3, '.': 2, 'N': 1, 'f': 2, 'g': 5, '[': 3, ']': 3, '-': 1, 'U': 1, '?': 2, 'Q': 1}\n"
     ]
    }
   ],
   "source": [
    "text = 'Sed ut perspiciatis, unde omnis iste natus error sit voluptatem accusantium doloremque laudantium, totam rem aperiam eaque ipsa, quae ab illo inventore veritatis et quasi architecto beatae vitae dicta sunt, explicabo. Nemo enim ipsam voluptatem, quia voluptas sit, aspernatur aut odit aut fugit, sed quia consequuntur magni dolores eos, qui ratione voluptatem sequi nesciunt, neque porro quisquam est, qui dolorem ipsum, quia dolor sit amet consectetur adipisci[ng] velit, sed quia non-numquam [do] eius modi tempora inci[di]dunt, ut labore et dolore magnam aliquam quaerat voluptatem. Ut enim ad minima veniam, quis nostrum exercitationem ullam corporis suscipit laboriosam, nisi ut aliquid ex ea commodi consequatur? Quis autem vel eum iure reprehenderit, qui in ea voluptate velit esse, quam nihil molestiae consequatur, vel illum, qui dolorem eum fugiat, quo voluptas nulla pariatur?'\n",
    "\n",
    "counts = dict()\n",
    "for char in text:\n",
    "    counts[char] = counts.get(char, 0) + 1\n",
    "\n",
    "print(counts)"
   ]
  },
  {
   "cell_type": "markdown",
   "id": "30e82c53-9dcc-4eca-85d6-235bbe74e6d7",
   "metadata": {},
   "source": [
    "##### Example 2"
   ]
  },
  {
   "cell_type": "markdown",
   "id": "9aa0901a-a4a7-4970-ac40-1e844aa9337e",
   "metadata": {},
   "source": [
    "This is a continuation of the first example. What we want to do is create a dictionary with three keys: upper, lower and other. The values of these keys should be any iterable that contains all the upper, lower and other values, respectively. \n",
    "\n",
    "Since we don't want repeat characters, the values are going to be sets."
   ]
  },
  {
   "cell_type": "markdown",
   "id": "67015eca-746a-47a5-977c-beca084d7b41",
   "metadata": {},
   "source": [
    "The string module will come in handy:"
   ]
  },
  {
   "cell_type": "code",
   "execution_count": 41,
   "id": "9543a7ef-2f6b-4a60-9bcd-704840962c5a",
   "metadata": {},
   "outputs": [
    {
     "name": "stdout",
     "output_type": "stream",
     "text": [
      "abcdefghijklmnopqrstuvwxyz\n",
      "ABCDEFGHIJKLMNOPQRSTUVWXYZ\n"
     ]
    }
   ],
   "source": [
    "import string\n",
    "\n",
    "print(string.ascii_lowercase)\n",
    "print(string.ascii_uppercase)"
   ]
  },
  {
   "cell_type": "code",
   "execution_count": 43,
   "id": "ad33f064-fc79-4d79-a590-07a6ed0db728",
   "metadata": {},
   "outputs": [
    {
     "name": "stdout",
     "output_type": "stream",
     "text": [
      "{'upper': {'N', 'Q', 'S', 'U'}, 'lower': {'f', 's', 'e', 'h', 'c', 'p', 'a', 'd', 'n', 'g', 'i', 't', 'v', 'r', 'u', 'o', 'b', 'x', 'q', 'l', 'm'}, 'other': {' ', ']', '.', ',', '?', '[', '-'}}\n"
     ]
    }
   ],
   "source": [
    "import string\n",
    "\n",
    "text = 'Sed ut perspiciatis, unde omnis iste natus error sit voluptatem accusantium doloremque laudantium, totam rem aperiam eaque ipsa, quae ab illo inventore veritatis et quasi architecto beatae vitae dicta sunt, explicabo. Nemo enim ipsam voluptatem, quia voluptas sit, aspernatur aut odit aut fugit, sed quia consequuntur magni dolores eos, qui ratione voluptatem sequi nesciunt, neque porro quisquam est, qui dolorem ipsum, quia dolor sit amet consectetur adipisci[ng] velit, sed quia non-numquam [do] eius modi tempora inci[di]dunt, ut labore et dolore magnam aliquam quaerat voluptatem. Ut enim ad minima veniam, quis nostrum exercitationem ullam corporis suscipit laboriosam, nisi ut aliquid ex ea commodi consequatur? Quis autem vel eum iure reprehenderit, qui in ea voluptate velit esse, quam nihil molestiae consequatur, vel illum, qui dolorem eum fugiat, quo voluptas nulla pariatur?'\n",
    "\n",
    "categories = {}\n",
    "\n",
    "for char in text:\n",
    "    if char in string.ascii_lowercase:\n",
    "        key = 'lower'\n",
    "    elif char in string.ascii_uppercase:\n",
    "        key = 'upper'\n",
    "    else:\n",
    "        key = 'other'\n",
    "\n",
    "    if key not in categories:   \n",
    "        categories[key] = set()\n",
    "\n",
    "    categories[key].add(char)\n",
    "\n",
    "print(categories)"
   ]
  },
  {
   "cell_type": "markdown",
   "id": "d5ce2cc8-84c1-4782-b4ab-8d9740fc48de",
   "metadata": {},
   "source": [
    "To make the output more readable:"
   ]
  },
  {
   "cell_type": "code",
   "execution_count": 47,
   "id": "4f2bf65e-76cd-4da3-a79d-586d8d47c5e3",
   "metadata": {},
   "outputs": [
    {
     "name": "stdout",
     "output_type": "stream",
     "text": [
      "upper: NQSU\n",
      "lower: fsehcpadngitvruobxqlm\n",
      "other:  ].,?[-\n"
     ]
    }
   ],
   "source": [
    "for key, value in categories.items():\n",
    "    print(f\"{key}: {''.join(value)}\")"
   ]
  },
  {
   "cell_type": "markdown",
   "id": "1d5f4403-1b47-46aa-8d3d-81b214e90900",
   "metadata": {},
   "source": [
    "We can improve this by using `setdefault()` so that, if the key doesn't exist, we create it with a default value of `set()` and return that set. If the key does exist, we just get the set back."
   ]
  },
  {
   "cell_type": "code",
   "execution_count": 50,
   "id": "63744eaf-d63f-4e1d-9866-f9ec9d2e4908",
   "metadata": {},
   "outputs": [
    {
     "name": "stdout",
     "output_type": "stream",
     "text": [
      "upper: NQSU\n",
      "lower: fsehcpadngitvruobxqlm\n",
      "other:  ].,?[-\n"
     ]
    }
   ],
   "source": [
    "import string\n",
    "\n",
    "text = 'Sed ut perspiciatis, unde omnis iste natus error sit voluptatem accusantium doloremque laudantium, totam rem aperiam eaque ipsa, quae ab illo inventore veritatis et quasi architecto beatae vitae dicta sunt, explicabo. Nemo enim ipsam voluptatem, quia voluptas sit, aspernatur aut odit aut fugit, sed quia consequuntur magni dolores eos, qui ratione voluptatem sequi nesciunt, neque porro quisquam est, qui dolorem ipsum, quia dolor sit amet consectetur adipisci[ng] velit, sed quia non-numquam [do] eius modi tempora inci[di]dunt, ut labore et dolore magnam aliquam quaerat voluptatem. Ut enim ad minima veniam, quis nostrum exercitationem ullam corporis suscipit laboriosam, nisi ut aliquid ex ea commodi consequatur? Quis autem vel eum iure reprehenderit, qui in ea voluptate velit esse, quam nihil molestiae consequatur, vel illum, qui dolorem eum fugiat, quo voluptas nulla pariatur?'\n",
    "\n",
    "categories = {}\n",
    "\n",
    "for char in text:\n",
    "    if char in string.ascii_lowercase:\n",
    "        key = 'lower'\n",
    "    elif char in string.ascii_uppercase:\n",
    "        key = 'upper'\n",
    "    else:\n",
    "        key = 'other'\n",
    "\n",
    "    value = categories.setdefault(key, set())\n",
    "    value.add(char)\n",
    "\n",
    "for key, value in categories.items():\n",
    "    print(f\"{key}: {''.join(value)}\")"
   ]
  },
  {
   "cell_type": "markdown",
   "id": "f18ce8da-52a6-4686-a532-e0e538f58119",
   "metadata": {},
   "source": [
    "To further improve the efficiency and also reduce the number of lines of code, we can wrap the if-elif-else into a function.\n",
    "\n",
    "What's more efficient than `if char in string.ascii_lowercase`? This has to iterate through each character in `string.ascii_lowercase` -> O(n) time complexity.\n",
    "\n",
    "It would be faster if each character, either upper, lower or other, was a key whose value was 'upper', 'lower' or 'other' -> O(1) time complexity"
   ]
  },
  {
   "cell_type": "code",
   "execution_count": 52,
   "id": "0394b620-5dd2-46c5-811e-4f31e8e3281c",
   "metadata": {},
   "outputs": [
    {
     "name": "stdout",
     "output_type": "stream",
     "text": [
      "upper: NQSU\n",
      "lower: fsehcpadngitvruobxqlm\n",
      "other:  ].,?[-\n"
     ]
    }
   ],
   "source": [
    "import string\n",
    "\n",
    "def key_category_from_char(char):\n",
    "    lower = dict.fromkeys(string.ascii_lowercase, 'lower')\n",
    "    upper = dict.fromkeys(string.ascii_uppercase, 'upper')\n",
    "    char_to_category = {**lower, **upper}\n",
    "\n",
    "    return char_to_category.get(char, 'other')\n",
    "\n",
    "text = 'Sed ut perspiciatis, unde omnis iste natus error sit voluptatem accusantium doloremque laudantium, totam rem aperiam eaque ipsa, quae ab illo inventore veritatis et quasi architecto beatae vitae dicta sunt, explicabo. Nemo enim ipsam voluptatem, quia voluptas sit, aspernatur aut odit aut fugit, sed quia consequuntur magni dolores eos, qui ratione voluptatem sequi nesciunt, neque porro quisquam est, qui dolorem ipsum, quia dolor sit amet consectetur adipisci[ng] velit, sed quia non-numquam [do] eius modi tempora inci[di]dunt, ut labore et dolore magnam aliquam quaerat voluptatem. Ut enim ad minima veniam, quis nostrum exercitationem ullam corporis suscipit laboriosam, nisi ut aliquid ex ea commodi consequatur? Quis autem vel eum iure reprehenderit, qui in ea voluptate velit esse, quam nihil molestiae consequatur, vel illum, qui dolorem eum fugiat, quo voluptas nulla pariatur?'\n",
    "\n",
    "categories = {}\n",
    "\n",
    "for char in text:\n",
    "    key = key_category_from_char(char)\n",
    "\n",
    "    char_set = categories.setdefault(key, set())\n",
    "    char_set.add(char)\n",
    "\n",
    "for key, value in categories.items():\n",
    "    print(f\"{key}: {''.join(value)}\")"
   ]
  },
  {
   "cell_type": "markdown",
   "id": "dff05847-8171-4552-9d25-b4ca0dfee249",
   "metadata": {},
   "source": [
    "# 03 - Dictionary Views"
   ]
  },
  {
   "cell_type": "code",
   "execution_count": null,
   "id": "c07bd689-03ed-4a58-bc08-6620ee745b46",
   "metadata": {},
   "outputs": [],
   "source": []
  },
  {
   "cell_type": "markdown",
   "id": "efb1bdbe-1527-4a39-9df5-357e8b055faf",
   "metadata": {},
   "source": [
    "# 04 - Updating, Merging and Copying"
   ]
  },
  {
   "cell_type": "markdown",
   "id": "9a38fc5e-f84e-4951-942f-fdd236b86f59",
   "metadata": {},
   "source": [
    "# 05 - Custom Classes and Hashing"
   ]
  },
  {
   "cell_type": "code",
   "execution_count": null,
   "id": "57b75cc1-ee9b-47fd-a09e-40fa3c4f869f",
   "metadata": {},
   "outputs": [],
   "source": []
  }
 ],
 "metadata": {
  "kernelspec": {
   "display_name": "Python 3 (ipykernel)",
   "language": "python",
   "name": "python3"
  },
  "language_info": {
   "codemirror_mode": {
    "name": "ipython",
    "version": 3
   },
   "file_extension": ".py",
   "mimetype": "text/x-python",
   "name": "python",
   "nbconvert_exporter": "python",
   "pygments_lexer": "ipython3",
   "version": "3.10.4"
  }
 },
 "nbformat": 4,
 "nbformat_minor": 5
}
