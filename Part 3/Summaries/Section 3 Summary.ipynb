{
 "cells": [
  {
   "cell_type": "markdown",
   "id": "cebd9b19-3042-4647-93ee-9aaefe9bf567",
   "metadata": {},
   "source": [
    "# 01 - Creating Python Dictionaries"
   ]
  },
  {
   "cell_type": "markdown",
   "id": "49a6ca24-be44-48ed-b659-65cff0797f79",
   "metadata": {},
   "source": [
    "#### Literals"
   ]
  },
  {
   "cell_type": "markdown",
   "id": "eaf7d9e6-0346-4f0f-b5be-2fe691643737",
   "metadata": {},
   "source": [
    "For example:"
   ]
  },
  {
   "cell_type": "code",
   "execution_count": 1,
   "id": "7e0dd7d7-b6b3-40d1-8ad3-52c75b4eda0c",
   "metadata": {},
   "outputs": [],
   "source": [
    "d = {'john': ['John Cleese'],\n",
    "     (0, 0): 'origin',\n",
    "    }"
   ]
  },
  {
   "cell_type": "markdown",
   "id": "e8049f8f-0eb0-4b90-a4e9-a3bd7c381c6f",
   "metadata": {},
   "source": [
    "#### Constructor"
   ]
  },
  {
   "cell_type": "markdown",
   "id": "484f9482-835f-4db0-839c-75b70e20a4fe",
   "metadata": {},
   "source": [
    "This approach is less flexible than using literals because the keys must be a valid identifier name (e.g. variable, function, class names, etc). The key will be converted into a string. We cannot create a dictionary with a tuple as a key using this approach:\n",
    "\n",
    "It has the form `dict(key1=value1, key2=value2)`"
   ]
  },
  {
   "cell_type": "code",
   "execution_count": 8,
   "id": "991e6651-e88f-4bae-bd75-17efc8c68701",
   "metadata": {},
   "outputs": [],
   "source": [
    "d = dict(john=['John Cleese'], my_func='this is a function')"
   ]
  },
  {
   "cell_type": "markdown",
   "id": "1c65ae96-1919-4552-91c0-23eff00d3470",
   "metadata": {},
   "source": [
    "We can also use another form with the `dict()` constructor: `dict([(key1, value1), [key2, value2]])`. \n",
    "\n",
    "As you can see, the key-value pairs can be any iterables e.g. tuples, lists etc. Also they can be contained in any iterable. In the above, they are contained in a list."
   ]
  },
  {
   "cell_type": "code",
   "execution_count": 1,
   "id": "ae3d0234-9260-45c1-8ef6-9a7d37f80d74",
   "metadata": {},
   "outputs": [
    {
     "data": {
      "text/plain": [
       "{'a': 100, 'b': 200}"
      ]
     },
     "execution_count": 1,
     "metadata": {},
     "output_type": "execute_result"
    }
   ],
   "source": [
    "d = dict([('a', 100), ['b', 200]])\n",
    "d"
   ]
  },
  {
   "cell_type": "markdown",
   "id": "6af85e71-b409-4af3-ab13-3865697547c3",
   "metadata": {},
   "source": [
    "We can also pass dictionaries to `dict()`. This will produce a **shallow copy**:"
   ]
  },
  {
   "cell_type": "code",
   "execution_count": 2,
   "id": "7e204871-a86a-49b4-9d4b-3130a2ab2501",
   "metadata": {},
   "outputs": [
    {
     "data": {
      "text/plain": [
       "{'a': 1, 'b': 2, 'c': [3, 4, 5]}"
      ]
     },
     "execution_count": 2,
     "metadata": {},
     "output_type": "execute_result"
    }
   ],
   "source": [
    "d = {'a': 1, 'b': 2, 'c': [3, 4, 5]}\n",
    "\n",
    "copy = dict(d)\n",
    "d"
   ]
  },
  {
   "cell_type": "code",
   "execution_count": 3,
   "id": "f0d7d3e1-d6e0-4757-806c-83ac2ec0c2b1",
   "metadata": {},
   "outputs": [
    {
     "name": "stdout",
     "output_type": "stream",
     "text": [
      "{'a': 1, 'b': 2, 'c': [3, 4, 5, 100]}\n",
      "{'a': 1, 'b': 2, 'c': [3, 4, 5, 100]}\n"
     ]
    }
   ],
   "source": [
    "d['c'].append(100)\n",
    "\n",
    "print(d)\n",
    "print(copy)"
   ]
  },
  {
   "cell_type": "markdown",
   "id": "f7f7758a-3da2-46c1-86d9-47f7ce6d4b09",
   "metadata": {},
   "source": [
    "#### Dictionary Comprehensions"
   ]
  },
  {
   "cell_type": "markdown",
   "id": "efbf9c9e-647e-43ed-be0a-bf63b1d73d90",
   "metadata": {},
   "source": [
    "For example:"
   ]
  },
  {
   "cell_type": "code",
   "execution_count": 11,
   "id": "a0461089-7b69-42f7-a67b-2cdf65e85a2f",
   "metadata": {},
   "outputs": [
    {
     "data": {
      "text/plain": [
       "{'0': 0, '1': 1, '2': 4, '3': 9, '4': 16}"
      ]
     },
     "execution_count": 11,
     "metadata": {},
     "output_type": "execute_result"
    }
   ],
   "source": [
    "d = {str(i): i ** 2 for i in range(5)}\n",
    "d"
   ]
  },
  {
   "cell_type": "markdown",
   "id": "e9a3ed53-976e-4799-bc00-d87d05fa3332",
   "metadata": {},
   "source": [
    "Here's another example:"
   ]
  },
  {
   "cell_type": "code",
   "execution_count": 4,
   "id": "b872d773-54e2-42d7-93db-d0afc5b8cba7",
   "metadata": {},
   "outputs": [
    {
     "data": {
      "text/plain": [
       "{'a': 1, 'b': 2, 'c': 3}"
      ]
     },
     "execution_count": 4,
     "metadata": {},
     "output_type": "execute_result"
    }
   ],
   "source": [
    "keys = ['a', 'b', 'c']\n",
    "values = (1, 2, 3)\n",
    "\n",
    "d = {k: v for k, v in zip(keys, values)}\n",
    "d"
   ]
  },
  {
   "cell_type": "markdown",
   "id": "26fcd12e-ebcb-4f74-ad21-1197d0461610",
   "metadata": {},
   "source": [
    "#### `dict.fromkeys()`"
   ]
  },
  {
   "cell_type": "markdown",
   "id": "fb6b72d3-f55c-487c-8326-a934487b87c2",
   "metadata": {},
   "source": [
    "This created a dictionary with `specified keys` all having the **same value**. It has the form `dict.fromkeys(iterable, value=None)` where the iterable must have **hashable elements**. These elements will become the keys."
   ]
  },
  {
   "cell_type": "code",
   "execution_count": 13,
   "id": "c4cec738-bafc-4611-aa5e-54dbe7379968",
   "metadata": {},
   "outputs": [
    {
     "data": {
      "text/plain": [
       "{'a': 'N/A', (0, 0): 'N/A', 250: 'N/A'}"
      ]
     },
     "execution_count": 13,
     "metadata": {},
     "output_type": "execute_result"
    }
   ],
   "source": [
    "d = dict.fromkeys(['a', (0,0), 250], 'N/A')\n",
    "d"
   ]
  },
  {
   "cell_type": "markdown",
   "id": "6fa1801f-aec1-461b-860a-4f67bd70e9cf",
   "metadata": {},
   "source": [
    "Any iterable will do, so we can pass a generator expression if we like:"
   ]
  },
  {
   "cell_type": "code",
   "execution_count": 15,
   "id": "4f52dca5-e412-41b6-b2a2-19c8a7dce09c",
   "metadata": {},
   "outputs": [
    {
     "data": {
      "text/plain": [
       "{0: False, 1: False, 4: False, 9: False, 16: False}"
      ]
     },
     "execution_count": 15,
     "metadata": {},
     "output_type": "execute_result"
    }
   ],
   "source": [
    "d = dict.fromkeys((i**2 for i in range(5)), False)\n",
    "d"
   ]
  },
  {
   "cell_type": "markdown",
   "id": "e91b5c10-7cde-48b3-939d-8fa5a49d6cfc",
   "metadata": {},
   "source": [
    "# 02 - Common Operations"
   ]
  },
  {
   "cell_type": "markdown",
   "id": "4edf98ab-a494-4e80-971d-8ee8b05b87a1",
   "metadata": {},
   "source": [
    "Most common operations will be related to the keys not the values. For example `len(d)` will return the number of keys in `d`."
   ]
  },
  {
   "cell_type": "markdown",
   "id": "eac8df9b-eba8-4364-8529-9ae3eb9d2b2d",
   "metadata": {},
   "source": [
    "#### Membership Tests"
   ]
  },
  {
   "cell_type": "markdown",
   "id": "911d714d-9e68-4d0d-aa88-a44ecf879933",
   "metadata": {},
   "source": [
    "Membership tests are seeing if keys are present in a dictionary - they're very efficient. All we need to do is hash the key and traverse the probe sequence."
   ]
  },
  {
   "cell_type": "markdown",
   "id": "eb6aadde-fbe5-4a9c-b45b-fde2836891e3",
   "metadata": {},
   "source": [
    "We can use the `in` and `not in` operators to test the presence of a **key** in a dictionary:"
   ]
  },
  {
   "cell_type": "code",
   "execution_count": 27,
   "id": "897f684e-603b-4fea-8f2c-bb7bce3b4591",
   "metadata": {},
   "outputs": [],
   "source": [
    "d = dict(a=1, b=2, c=3)"
   ]
  },
  {
   "cell_type": "code",
   "execution_count": 28,
   "id": "a5609a37-bd51-4ab4-890b-59eb04f95bd6",
   "metadata": {},
   "outputs": [
    {
     "data": {
      "text/plain": [
       "True"
      ]
     },
     "execution_count": 28,
     "metadata": {},
     "output_type": "execute_result"
    }
   ],
   "source": [
    "'a' in d"
   ]
  },
  {
   "cell_type": "markdown",
   "id": "70a7255d-4d40-4657-8e94-c7addfe029eb",
   "metadata": {},
   "source": [
    "#### Removing elements from a dictionary"
   ]
  },
  {
   "cell_type": "markdown",
   "id": "17445583-2d8f-4636-8a99-d4f1bcebf14c",
   "metadata": {},
   "source": [
    "We can use the `del` operator, `.pop(key)` method or the `.popitem()` method to remove a key from a dictionary:"
   ]
  },
  {
   "cell_type": "code",
   "execution_count": 29,
   "id": "1da01e3a-4cbc-4d89-b0ee-2d1ffc15da97",
   "metadata": {},
   "outputs": [],
   "source": [
    "d = dict.fromkeys('abcd', 0)"
   ]
  },
  {
   "cell_type": "code",
   "execution_count": 30,
   "id": "efe0e295-a0be-4ea3-a38e-6cbab3d3d4a8",
   "metadata": {},
   "outputs": [
    {
     "data": {
      "text/plain": [
       "{'a': 0, 'b': 0, 'c': 0, 'd': 0}"
      ]
     },
     "execution_count": 30,
     "metadata": {},
     "output_type": "execute_result"
    }
   ],
   "source": [
    "d"
   ]
  },
  {
   "cell_type": "markdown",
   "id": "59abef03-8de0-43f4-b57d-aed7b20f753b",
   "metadata": {},
   "source": [
    "We can remove a key this way. If it doesn't exist, we get a `KeyError` exception."
   ]
  },
  {
   "cell_type": "code",
   "execution_count": 31,
   "id": "40ef9f68-3cf6-467a-aabf-ec0347968f18",
   "metadata": {},
   "outputs": [
    {
     "data": {
      "text/plain": [
       "{'b': 0, 'c': 0, 'd': 0}"
      ]
     },
     "execution_count": 31,
     "metadata": {},
     "output_type": "execute_result"
    }
   ],
   "source": [
    "del d['a']\n",
    "d"
   ]
  },
  {
   "cell_type": "markdown",
   "id": "2e488fdf-2db6-45eb-8e46-6cecaa8e2d4c",
   "metadata": {},
   "source": [
    "When the key is popped, the **value** is returned"
   ]
  },
  {
   "cell_type": "code",
   "execution_count": 32,
   "id": "ec872acf-e4b4-4782-a802-29d6d178a945",
   "metadata": {},
   "outputs": [
    {
     "name": "stdout",
     "output_type": "stream",
     "text": [
      "0\n"
     ]
    },
    {
     "data": {
      "text/plain": [
       "{'c': 0, 'd': 0}"
      ]
     },
     "execution_count": 32,
     "metadata": {},
     "output_type": "execute_result"
    }
   ],
   "source": [
    "print(d.pop('b'))\n",
    "d"
   ]
  },
  {
   "cell_type": "markdown",
   "id": "3262f174-da11-4538-90db-4fc979bb3eb6",
   "metadata": {},
   "source": [
    "We can specify a default value to `.pop()` so that a `KeyError` exception isn't thrown when we can't find the key:"
   ]
  },
  {
   "cell_type": "code",
   "execution_count": 34,
   "id": "c4ff9e7e-16dd-4601-9c2d-9fcfa988e0c1",
   "metadata": {},
   "outputs": [
    {
     "name": "stdout",
     "output_type": "stream",
     "text": [
      "None\n"
     ]
    }
   ],
   "source": [
    "print(d.pop('idontexist', None))"
   ]
  },
  {
   "cell_type": "markdown",
   "id": "bad8f11e-05eb-4ea9-8892-bb1032c14740",
   "metadata": {},
   "source": [
    "The `.popitem()` method will remove the **last** item that was inserted into the dictionary and return that item, i.e. a key-value pair. In other words, **last inserted - popped first -> LIFO**."
   ]
  },
  {
   "cell_type": "code",
   "execution_count": 35,
   "id": "aec640cf-b80b-4b9b-9d7a-4d89cf9a66dd",
   "metadata": {},
   "outputs": [
    {
     "name": "stdout",
     "output_type": "stream",
     "text": [
      "('d', 0)\n"
     ]
    }
   ],
   "source": [
    "print(d.popitem())"
   ]
  },
  {
   "cell_type": "markdown",
   "id": "3ff40c5c-fc2f-455d-bd9f-71695ad3d00e",
   "metadata": {},
   "source": [
    "#### Inserting keys with a default"
   ]
  },
  {
   "cell_type": "markdown",
   "id": "da25538b-4668-4527-a0cc-f573b31d6b52",
   "metadata": {},
   "source": [
    "Sometimes we may want to insert an element in a dictionary with a default value, but only if the element is not already present. It has the form: `.setdefault(key, value)`."
   ]
  },
  {
   "cell_type": "code",
   "execution_count": 37,
   "id": "a2656df7-4a16-4f83-b39b-6cacbcebbbe1",
   "metadata": {},
   "outputs": [
    {
     "name": "stdout",
     "output_type": "stream",
     "text": [
      "1\n",
      "100\n",
      "{'a': 1, 'b': 2, 'c': 3, 'd': 100}\n"
     ]
    }
   ],
   "source": [
    "d = {'a':1, 'b':2, 'c':3}\n",
    "\n",
    "print(d.setdefault('a', 100))\n",
    "print(d.setdefault('d', 100))\n",
    "print(d)"
   ]
  },
  {
   "cell_type": "markdown",
   "id": "da065385-8c47-4e2c-a749-4d04a7db0f5d",
   "metadata": {},
   "source": [
    "#### Examples"
   ]
  },
  {
   "cell_type": "markdown",
   "id": "a444b42f-f4f5-4347-bed6-f9c15abdbde7",
   "metadata": {},
   "source": [
    "##### Example 1"
   ]
  },
  {
   "cell_type": "markdown",
   "id": "c29ea581-4dcc-44a5-9a7e-73948b023a4c",
   "metadata": {},
   "source": [
    "Here we have a string where we want to count the number of each character that appears in the string.\n",
    "Since we know the alphabet is a-z, we could create a dictionary with these initial keys - but maybe the string contains characters outside of that, maybe punctuation marks, emojis, etc. So it's not really feasible to take that approach."
   ]
  },
  {
   "cell_type": "code",
   "execution_count": 39,
   "id": "03f2815f-1924-4433-aae3-7b522b2f0561",
   "metadata": {},
   "outputs": [
    {
     "name": "stdout",
     "output_type": "stream",
     "text": [
      "{'S': 1, 'e': 77, 'd': 22, ' ': 128, 'u': 69, 't': 65, 'p': 22, 'r': 38, 's': 43, 'i': 76, 'c': 19, 'a': 70, ',': 20, 'n': 37, 'o': 51, 'm': 43, 'v': 15, 'l': 33, 'q': 26, 'b': 5, 'h': 3, 'x': 3, '.': 2, 'N': 1, 'f': 2, 'g': 5, '[': 3, ']': 3, '-': 1, 'U': 1, '?': 2, 'Q': 1}\n"
     ]
    }
   ],
   "source": [
    "text = 'Sed ut perspiciatis, unde omnis iste natus error sit voluptatem accusantium doloremque laudantium, totam rem aperiam eaque ipsa, quae ab illo inventore veritatis et quasi architecto beatae vitae dicta sunt, explicabo. Nemo enim ipsam voluptatem, quia voluptas sit, aspernatur aut odit aut fugit, sed quia consequuntur magni dolores eos, qui ratione voluptatem sequi nesciunt, neque porro quisquam est, qui dolorem ipsum, quia dolor sit amet consectetur adipisci[ng] velit, sed quia non-numquam [do] eius modi tempora inci[di]dunt, ut labore et dolore magnam aliquam quaerat voluptatem. Ut enim ad minima veniam, quis nostrum exercitationem ullam corporis suscipit laboriosam, nisi ut aliquid ex ea commodi consequatur? Quis autem vel eum iure reprehenderit, qui in ea voluptate velit esse, quam nihil molestiae consequatur, vel illum, qui dolorem eum fugiat, quo voluptas nulla pariatur?'\n",
    "\n",
    "counts = dict()\n",
    "for char in text:\n",
    "    counts[char] = counts.get(char, 0) + 1\n",
    "\n",
    "print(counts)"
   ]
  },
  {
   "cell_type": "markdown",
   "id": "30e82c53-9dcc-4eca-85d6-235bbe74e6d7",
   "metadata": {},
   "source": [
    "##### Example 2"
   ]
  },
  {
   "cell_type": "markdown",
   "id": "9aa0901a-a4a7-4970-ac40-1e844aa9337e",
   "metadata": {},
   "source": [
    "This is a continuation of the first example. What we want to do is create a dictionary with three keys: upper, lower and other. The values of these keys should be any iterable that contains all the upper, lower and other values, respectively. \n",
    "\n",
    "Since we don't want repeat characters, the values are going to be sets."
   ]
  },
  {
   "cell_type": "markdown",
   "id": "67015eca-746a-47a5-977c-beca084d7b41",
   "metadata": {},
   "source": [
    "The string module will come in handy:"
   ]
  },
  {
   "cell_type": "code",
   "execution_count": 41,
   "id": "9543a7ef-2f6b-4a60-9bcd-704840962c5a",
   "metadata": {},
   "outputs": [
    {
     "name": "stdout",
     "output_type": "stream",
     "text": [
      "abcdefghijklmnopqrstuvwxyz\n",
      "ABCDEFGHIJKLMNOPQRSTUVWXYZ\n"
     ]
    }
   ],
   "source": [
    "import string\n",
    "\n",
    "print(string.ascii_lowercase)\n",
    "print(string.ascii_uppercase)"
   ]
  },
  {
   "cell_type": "code",
   "execution_count": 43,
   "id": "ad33f064-fc79-4d79-a590-07a6ed0db728",
   "metadata": {},
   "outputs": [
    {
     "name": "stdout",
     "output_type": "stream",
     "text": [
      "{'upper': {'N', 'Q', 'S', 'U'}, 'lower': {'f', 's', 'e', 'h', 'c', 'p', 'a', 'd', 'n', 'g', 'i', 't', 'v', 'r', 'u', 'o', 'b', 'x', 'q', 'l', 'm'}, 'other': {' ', ']', '.', ',', '?', '[', '-'}}\n"
     ]
    }
   ],
   "source": [
    "import string\n",
    "\n",
    "text = 'Sed ut perspiciatis, unde omnis iste natus error sit voluptatem accusantium doloremque laudantium, totam rem aperiam eaque ipsa, quae ab illo inventore veritatis et quasi architecto beatae vitae dicta sunt, explicabo. Nemo enim ipsam voluptatem, quia voluptas sit, aspernatur aut odit aut fugit, sed quia consequuntur magni dolores eos, qui ratione voluptatem sequi nesciunt, neque porro quisquam est, qui dolorem ipsum, quia dolor sit amet consectetur adipisci[ng] velit, sed quia non-numquam [do] eius modi tempora inci[di]dunt, ut labore et dolore magnam aliquam quaerat voluptatem. Ut enim ad minima veniam, quis nostrum exercitationem ullam corporis suscipit laboriosam, nisi ut aliquid ex ea commodi consequatur? Quis autem vel eum iure reprehenderit, qui in ea voluptate velit esse, quam nihil molestiae consequatur, vel illum, qui dolorem eum fugiat, quo voluptas nulla pariatur?'\n",
    "\n",
    "categories = {}\n",
    "\n",
    "for char in text:\n",
    "    if char in string.ascii_lowercase:\n",
    "        key = 'lower'\n",
    "    elif char in string.ascii_uppercase:\n",
    "        key = 'upper'\n",
    "    else:\n",
    "        key = 'other'\n",
    "\n",
    "    if key not in categories:   \n",
    "        categories[key] = set()\n",
    "\n",
    "    categories[key].add(char)\n",
    "\n",
    "print(categories)"
   ]
  },
  {
   "cell_type": "markdown",
   "id": "d5ce2cc8-84c1-4782-b4ab-8d9740fc48de",
   "metadata": {},
   "source": [
    "To make the output more readable:"
   ]
  },
  {
   "cell_type": "code",
   "execution_count": 47,
   "id": "4f2bf65e-76cd-4da3-a79d-586d8d47c5e3",
   "metadata": {},
   "outputs": [
    {
     "name": "stdout",
     "output_type": "stream",
     "text": [
      "upper: NQSU\n",
      "lower: fsehcpadngitvruobxqlm\n",
      "other:  ].,?[-\n"
     ]
    }
   ],
   "source": [
    "for key, value in categories.items():\n",
    "    print(f\"{key}: {''.join(value)}\")"
   ]
  },
  {
   "cell_type": "markdown",
   "id": "1d5f4403-1b47-46aa-8d3d-81b214e90900",
   "metadata": {},
   "source": [
    "We can improve this by using `setdefault()` so that, if the key doesn't exist, we create it with a default value of `set()` and return that set. If the key does exist, we just get the set back."
   ]
  },
  {
   "cell_type": "code",
   "execution_count": 50,
   "id": "63744eaf-d63f-4e1d-9866-f9ec9d2e4908",
   "metadata": {},
   "outputs": [
    {
     "name": "stdout",
     "output_type": "stream",
     "text": [
      "upper: NQSU\n",
      "lower: fsehcpadngitvruobxqlm\n",
      "other:  ].,?[-\n"
     ]
    }
   ],
   "source": [
    "import string\n",
    "\n",
    "text = 'Sed ut perspiciatis, unde omnis iste natus error sit voluptatem accusantium doloremque laudantium, totam rem aperiam eaque ipsa, quae ab illo inventore veritatis et quasi architecto beatae vitae dicta sunt, explicabo. Nemo enim ipsam voluptatem, quia voluptas sit, aspernatur aut odit aut fugit, sed quia consequuntur magni dolores eos, qui ratione voluptatem sequi nesciunt, neque porro quisquam est, qui dolorem ipsum, quia dolor sit amet consectetur adipisci[ng] velit, sed quia non-numquam [do] eius modi tempora inci[di]dunt, ut labore et dolore magnam aliquam quaerat voluptatem. Ut enim ad minima veniam, quis nostrum exercitationem ullam corporis suscipit laboriosam, nisi ut aliquid ex ea commodi consequatur? Quis autem vel eum iure reprehenderit, qui in ea voluptate velit esse, quam nihil molestiae consequatur, vel illum, qui dolorem eum fugiat, quo voluptas nulla pariatur?'\n",
    "\n",
    "categories = {}\n",
    "\n",
    "for char in text:\n",
    "    if char in string.ascii_lowercase:\n",
    "        key = 'lower'\n",
    "    elif char in string.ascii_uppercase:\n",
    "        key = 'upper'\n",
    "    else:\n",
    "        key = 'other'\n",
    "\n",
    "    value = categories.setdefault(key, set())\n",
    "    value.add(char)\n",
    "\n",
    "for key, value in categories.items():\n",
    "    print(f\"{key}: {''.join(value)}\")"
   ]
  },
  {
   "cell_type": "markdown",
   "id": "f18ce8da-52a6-4686-a532-e0e538f58119",
   "metadata": {},
   "source": [
    "To further improve the efficiency and also reduce the number of lines of code, we can wrap the if-elif-else into a function.\n",
    "\n",
    "What's more efficient than `if char in string.ascii_lowercase`? This has to iterate through each character in `string.ascii_lowercase` -> O(n) time complexity.\n",
    "\n",
    "It would be faster if each character, either upper, lower or other, was a key whose value was 'upper', 'lower' or 'other' -> O(1) time complexity"
   ]
  },
  {
   "cell_type": "code",
   "execution_count": 52,
   "id": "0394b620-5dd2-46c5-811e-4f31e8e3281c",
   "metadata": {},
   "outputs": [
    {
     "name": "stdout",
     "output_type": "stream",
     "text": [
      "upper: NQSU\n",
      "lower: fsehcpadngitvruobxqlm\n",
      "other:  ].,?[-\n"
     ]
    }
   ],
   "source": [
    "import string\n",
    "\n",
    "def key_category_from_char(char):\n",
    "    lower = dict.fromkeys(string.ascii_lowercase, 'lower')\n",
    "    upper = dict.fromkeys(string.ascii_uppercase, 'upper')\n",
    "    char_to_category = {**lower, **upper}\n",
    "\n",
    "    return char_to_category.get(char, 'other')\n",
    "\n",
    "text = 'Sed ut perspiciatis, unde omnis iste natus error sit voluptatem accusantium doloremque laudantium, totam rem aperiam eaque ipsa, quae ab illo inventore veritatis et quasi architecto beatae vitae dicta sunt, explicabo. Nemo enim ipsam voluptatem, quia voluptas sit, aspernatur aut odit aut fugit, sed quia consequuntur magni dolores eos, qui ratione voluptatem sequi nesciunt, neque porro quisquam est, qui dolorem ipsum, quia dolor sit amet consectetur adipisci[ng] velit, sed quia non-numquam [do] eius modi tempora inci[di]dunt, ut labore et dolore magnam aliquam quaerat voluptatem. Ut enim ad minima veniam, quis nostrum exercitationem ullam corporis suscipit laboriosam, nisi ut aliquid ex ea commodi consequatur? Quis autem vel eum iure reprehenderit, qui in ea voluptate velit esse, quam nihil molestiae consequatur, vel illum, qui dolorem eum fugiat, quo voluptas nulla pariatur?'\n",
    "\n",
    "categories = {}\n",
    "\n",
    "for char in text:\n",
    "    key = key_category_from_char(char)\n",
    "\n",
    "    char_set = categories.setdefault(key, set())\n",
    "    char_set.add(char)\n",
    "\n",
    "for key, value in categories.items():\n",
    "    print(f\"{key}: {''.join(value)}\")"
   ]
  },
  {
   "cell_type": "markdown",
   "id": "dff05847-8171-4552-9d25-b4ca0dfee249",
   "metadata": {},
   "source": [
    "# 03 - Dictionary Views"
   ]
  },
  {
   "cell_type": "markdown",
   "id": "75310731-4e1b-4689-8b7e-ad2dc44050c4",
   "metadata": {},
   "source": [
    "#### Basics"
   ]
  },
  {
   "cell_type": "markdown",
   "id": "7dd94ab6-2dd7-4b25-9384-7d5d70834a74",
   "metadata": {},
   "source": [
    "We already know `d.keys()`, `d.values()` and `d.items()`, each of which produce an iterable. Since order is maintained, zipping up `.keys()` and `.values()` will produce the same output as `.items()`. \n",
    "\n",
    "All of these views are **read-only**. We cannot modify the dictionary by modifying the views."
   ]
  },
  {
   "cell_type": "markdown",
   "id": "c80beded-dfe0-4c1d-b53a-3697a42a99e4",
   "metadata": {},
   "source": [
    "**Dictionary Views are Dynamic**\n",
    "\n",
    "**Views are more than just iterables**. This is something unintuitive. If we store the result of *any* of these views in a variable and then modify the dictionary, the variable will reflect this modification. That is to say, looking up the variable performs a dictionary lookup too. "
   ]
  },
  {
   "cell_type": "code",
   "execution_count": 54,
   "id": "0bbcd356-04ad-4622-89af-1fca1008de36",
   "metadata": {},
   "outputs": [
    {
     "name": "stdout",
     "output_type": "stream",
     "text": [
      "dict_items([('a', 1), ('b', 2)])\n",
      "dict_items([('a', 100), ('b', 200), ('c', 300)])\n"
     ]
    }
   ],
   "source": [
    "d = {'a': 1, 'b': 2}\n",
    "\n",
    "my_items = d.items()\n",
    "print(my_items)\n",
    "\n",
    "d['a'] = 100\n",
    "d['b'] = 200\n",
    "d['c'] = 300\n",
    "\n",
    "print(my_items)"
   ]
  },
  {
   "cell_type": "markdown",
   "id": "77bab9a4-5120-4cdc-a620-12441de15a58",
   "metadata": {},
   "source": [
    "The `keys()` view behaves like a **set**. \n",
    "\n",
    "This makes sense since `sets` are essentially dictionaries with no values. The elements in a set are guaranteed to be unique and hashable. So to reiterate, the **keys of a dictionary are a set**. \n",
    "\n",
    "Therefore, the `.keys()` view has set-like functionality. We can perform unions, intersections and differences."
   ]
  },
  {
   "cell_type": "markdown",
   "id": "c42ce4c3-aa07-4cf6-a89e-a3025efeaaa4",
   "metadata": {},
   "source": [
    "**The `values()` view does *not* behave like a set**. \n",
    "\n",
    "This makes sense since it doesn't satisfy either condition of uniqueness and hashability above."
   ]
  },
  {
   "cell_type": "markdown",
   "id": "e44db4aa-1cba-47bf-ae88-6415e611ee76",
   "metadata": {},
   "source": [
    "**The `items()` view *may* behave like a set**.\n",
    "\n",
    "We know that each key-value tuple will be unique from one another because each key is guaranteed to be unique. \n",
    "\n",
    "The only thing we need to check is if **all** the values are hashable - Python does this. If they are, then the `items()` view will also have set-like behaviour. "
   ]
  },
  {
   "cell_type": "markdown",
   "id": "66706c24-2810-480c-90ee-caf6535f0620",
   "metadata": {},
   "source": [
    "#### Set Operations"
   ]
  },
  {
   "cell_type": "markdown",
   "id": "0f1c314d-d6b0-4f9e-ae7e-2a1260123cc8",
   "metadata": {},
   "source": [
    "We already know the basics of this:"
   ]
  },
  {
   "cell_type": "code",
   "execution_count": 1,
   "id": "019dbc1a-9865-4f85-a5c4-34a646a1a658",
   "metadata": {},
   "outputs": [],
   "source": [
    "s1 = {1, 2, 3}\n",
    "s2 = {2, 3, 4}"
   ]
  },
  {
   "cell_type": "markdown",
   "id": "26d25285-0031-4902-ac53-a235ed65af02",
   "metadata": {},
   "source": [
    "Unions:"
   ]
  },
  {
   "cell_type": "code",
   "execution_count": 2,
   "id": "07711fdf-8584-496b-902f-63a791a1e602",
   "metadata": {},
   "outputs": [
    {
     "data": {
      "text/plain": [
       "{1, 2, 3, 4}"
      ]
     },
     "execution_count": 2,
     "metadata": {},
     "output_type": "execute_result"
    }
   ],
   "source": [
    "s1 | s2"
   ]
  },
  {
   "cell_type": "code",
   "execution_count": 3,
   "id": "ab5cb814-d822-42dd-bc41-fdd9b6ec3fac",
   "metadata": {},
   "outputs": [
    {
     "data": {
      "text/plain": [
       "{2, 3}"
      ]
     },
     "execution_count": 3,
     "metadata": {},
     "output_type": "execute_result"
    }
   ],
   "source": [
    "s1 & s2"
   ]
  },
  {
   "cell_type": "markdown",
   "id": "96ecc5b9-f97a-461c-8cb1-2101e24929fe",
   "metadata": {},
   "source": [
    "Differences: \n",
    "\n",
    "What is in `s1` that isn't in `s2`:"
   ]
  },
  {
   "cell_type": "code",
   "execution_count": 4,
   "id": "dec75afd-14e0-45bb-a98d-659a8bf9e7f7",
   "metadata": {},
   "outputs": [
    {
     "data": {
      "text/plain": [
       "{1}"
      ]
     },
     "execution_count": 4,
     "metadata": {},
     "output_type": "execute_result"
    }
   ],
   "source": [
    "s1 - s2"
   ]
  },
  {
   "cell_type": "markdown",
   "id": "94d4c56a-84c8-4f46-986c-d388ab62c4ba",
   "metadata": {},
   "source": [
    "What is in `s2` that isn't in `s1`:"
   ]
  },
  {
   "cell_type": "code",
   "execution_count": 5,
   "id": "4946ed3c-56e4-48d5-83d8-6d9ad3b718c2",
   "metadata": {},
   "outputs": [
    {
     "data": {
      "text/plain": [
       "{4}"
      ]
     },
     "execution_count": 5,
     "metadata": {},
     "output_type": "execute_result"
    }
   ],
   "source": [
    "s2 - s1"
   ]
  },
  {
   "cell_type": "markdown",
   "id": "b4b21c3c-4869-48e2-b399-e79e4c48754e",
   "metadata": {},
   "source": [
    "To demonstrate the set-like behaviour of dictionary keys:"
   ]
  },
  {
   "cell_type": "code",
   "execution_count": 56,
   "id": "d32b4207-d469-4516-9237-0cc568587ef6",
   "metadata": {},
   "outputs": [],
   "source": [
    "d1 = {1: None, 2: None, 3: None}\n",
    "d2 = {2: None, 3: None, 4: None}"
   ]
  },
  {
   "cell_type": "code",
   "execution_count": 57,
   "id": "ccdb7bea-b0ac-4c35-9183-1e5ca946dbb5",
   "metadata": {},
   "outputs": [
    {
     "data": {
      "text/plain": [
       "{1, 2, 3, 4}"
      ]
     },
     "execution_count": 57,
     "metadata": {},
     "output_type": "execute_result"
    }
   ],
   "source": [
    "d1.keys() | d2.keys()"
   ]
  },
  {
   "cell_type": "code",
   "execution_count": 58,
   "id": "337ea462-24a7-4754-a241-af4790528603",
   "metadata": {},
   "outputs": [
    {
     "data": {
      "text/plain": [
       "{2, 3}"
      ]
     },
     "execution_count": 58,
     "metadata": {},
     "output_type": "execute_result"
    }
   ],
   "source": [
    "d1.keys() & d2.keys()"
   ]
  },
  {
   "cell_type": "code",
   "execution_count": 59,
   "id": "03b3c540-37c6-4005-a4b1-93a140f21a98",
   "metadata": {},
   "outputs": [
    {
     "data": {
      "text/plain": [
       "{1}"
      ]
     },
     "execution_count": 59,
     "metadata": {},
     "output_type": "execute_result"
    }
   ],
   "source": [
    "d1.keys() - d2.keys()"
   ]
  },
  {
   "cell_type": "code",
   "execution_count": 60,
   "id": "fd588acd-9d43-4b96-87e7-db24fe19d7f2",
   "metadata": {},
   "outputs": [
    {
     "data": {
      "text/plain": [
       "{4}"
      ]
     },
     "execution_count": 60,
     "metadata": {},
     "output_type": "execute_result"
    }
   ],
   "source": [
    "d2.keys() - d1.keys()"
   ]
  },
  {
   "cell_type": "markdown",
   "id": "efb1bdbe-1527-4a39-9df5-357e8b055faf",
   "metadata": {},
   "source": [
    "# 04 - Updating, Merging and Copying"
   ]
  },
  {
   "cell_type": "markdown",
   "id": "9a38fc5e-f84e-4951-942f-fdd236b86f59",
   "metadata": {},
   "source": [
    "# 05 - Custom Classes and Hashing"
   ]
  },
  {
   "cell_type": "code",
   "execution_count": null,
   "id": "57b75cc1-ee9b-47fd-a09e-40fa3c4f869f",
   "metadata": {},
   "outputs": [],
   "source": []
  }
 ],
 "metadata": {
  "kernelspec": {
   "display_name": "Python 3 (ipykernel)",
   "language": "python",
   "name": "python3"
  },
  "language_info": {
   "codemirror_mode": {
    "name": "ipython",
    "version": 3
   },
   "file_extension": ".py",
   "mimetype": "text/x-python",
   "name": "python",
   "nbconvert_exporter": "python",
   "pygments_lexer": "ipython3",
   "version": "3.10.4"
  }
 },
 "nbformat": 4,
 "nbformat_minor": 5
}
