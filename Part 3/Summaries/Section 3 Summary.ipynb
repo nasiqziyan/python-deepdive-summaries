{
 "cells": [
  {
   "cell_type": "markdown",
   "id": "cebd9b19-3042-4647-93ee-9aaefe9bf567",
   "metadata": {},
   "source": [
    "# 01 - Creating Python Dictionaries"
   ]
  },
  {
   "cell_type": "markdown",
   "id": "49a6ca24-be44-48ed-b659-65cff0797f79",
   "metadata": {},
   "source": [
    "#### Literals"
   ]
  },
  {
   "cell_type": "markdown",
   "id": "eaf7d9e6-0346-4f0f-b5be-2fe691643737",
   "metadata": {},
   "source": [
    "For example:"
   ]
  },
  {
   "cell_type": "code",
   "execution_count": 1,
   "id": "7e0dd7d7-b6b3-40d1-8ad3-52c75b4eda0c",
   "metadata": {},
   "outputs": [],
   "source": [
    "d = {'john': ['John Cleese'],\n",
    "     (0, 0): 'origin',\n",
    "    }"
   ]
  },
  {
   "cell_type": "markdown",
   "id": "e8049f8f-0eb0-4b90-a4e9-a3bd7c381c6f",
   "metadata": {},
   "source": [
    "#### Constructor"
   ]
  },
  {
   "cell_type": "markdown",
   "id": "484f9482-835f-4db0-839c-75b70e20a4fe",
   "metadata": {},
   "source": [
    "This approach is less flexible than using literals because the keys must be a valid identifier name (e.g. variable, function, class names, etc). The key will be converted into a string. We cannot create a dictionary with a tuple as a key using this approach:\n",
    "\n",
    "It has the form `dict(key1=value1, key2=value2)`"
   ]
  },
  {
   "cell_type": "code",
   "execution_count": 8,
   "id": "991e6651-e88f-4bae-bd75-17efc8c68701",
   "metadata": {},
   "outputs": [],
   "source": [
    "d = dict(john=['John Cleese'], my_func='this is a function')"
   ]
  },
  {
   "cell_type": "markdown",
   "id": "1c65ae96-1919-4552-91c0-23eff00d3470",
   "metadata": {},
   "source": [
    "We can also use another form with the `dict()` constructor: `dict([(key1, value1), [key2, value2]])`. \n",
    "\n",
    "As you can see, the key-value pairs can be any iterables e.g. tuples, lists etc. Also they can be contained in any iterable. In the above, they are contained in a list."
   ]
  },
  {
   "cell_type": "code",
   "execution_count": 1,
   "id": "ae3d0234-9260-45c1-8ef6-9a7d37f80d74",
   "metadata": {},
   "outputs": [
    {
     "data": {
      "text/plain": [
       "{'a': 100, 'b': 200}"
      ]
     },
     "execution_count": 1,
     "metadata": {},
     "output_type": "execute_result"
    }
   ],
   "source": [
    "d = dict([('a', 100), ['b', 200]])\n",
    "d"
   ]
  },
  {
   "cell_type": "markdown",
   "id": "6af85e71-b409-4af3-ab13-3865697547c3",
   "metadata": {},
   "source": [
    "We can also pass dictionaries to `dict()`. This will produce a **shallow copy**:"
   ]
  },
  {
   "cell_type": "code",
   "execution_count": 2,
   "id": "7e204871-a86a-49b4-9d4b-3130a2ab2501",
   "metadata": {},
   "outputs": [
    {
     "data": {
      "text/plain": [
       "{'a': 1, 'b': 2, 'c': [3, 4, 5]}"
      ]
     },
     "execution_count": 2,
     "metadata": {},
     "output_type": "execute_result"
    }
   ],
   "source": [
    "d = {'a': 1, 'b': 2, 'c': [3, 4, 5]}\n",
    "\n",
    "copy = dict(d)\n",
    "d"
   ]
  },
  {
   "cell_type": "code",
   "execution_count": 3,
   "id": "f0d7d3e1-d6e0-4757-806c-83ac2ec0c2b1",
   "metadata": {},
   "outputs": [
    {
     "name": "stdout",
     "output_type": "stream",
     "text": [
      "{'a': 1, 'b': 2, 'c': [3, 4, 5, 100]}\n",
      "{'a': 1, 'b': 2, 'c': [3, 4, 5, 100]}\n"
     ]
    }
   ],
   "source": [
    "d['c'].append(100)\n",
    "\n",
    "print(d)\n",
    "print(copy)"
   ]
  },
  {
   "cell_type": "markdown",
   "id": "f7f7758a-3da2-46c1-86d9-47f7ce6d4b09",
   "metadata": {},
   "source": [
    "#### Dictionary Comprehensions"
   ]
  },
  {
   "cell_type": "markdown",
   "id": "efbf9c9e-647e-43ed-be0a-bf63b1d73d90",
   "metadata": {},
   "source": [
    "For example:"
   ]
  },
  {
   "cell_type": "code",
   "execution_count": 11,
   "id": "a0461089-7b69-42f7-a67b-2cdf65e85a2f",
   "metadata": {},
   "outputs": [
    {
     "data": {
      "text/plain": [
       "{'0': 0, '1': 1, '2': 4, '3': 9, '4': 16}"
      ]
     },
     "execution_count": 11,
     "metadata": {},
     "output_type": "execute_result"
    }
   ],
   "source": [
    "d = {str(i): i ** 2 for i in range(5)}\n",
    "d"
   ]
  },
  {
   "cell_type": "markdown",
   "id": "e9a3ed53-976e-4799-bc00-d87d05fa3332",
   "metadata": {},
   "source": [
    "Here's another example:"
   ]
  },
  {
   "cell_type": "code",
   "execution_count": 4,
   "id": "b872d773-54e2-42d7-93db-d0afc5b8cba7",
   "metadata": {},
   "outputs": [
    {
     "data": {
      "text/plain": [
       "{'a': 1, 'b': 2, 'c': 3}"
      ]
     },
     "execution_count": 4,
     "metadata": {},
     "output_type": "execute_result"
    }
   ],
   "source": [
    "keys = ['a', 'b', 'c']\n",
    "values = (1, 2, 3)\n",
    "\n",
    "d = {k: v for k, v in zip(keys, values)}\n",
    "d"
   ]
  },
  {
   "cell_type": "markdown",
   "id": "26fcd12e-ebcb-4f74-ad21-1197d0461610",
   "metadata": {},
   "source": [
    "#### `dict.fromkeys()`"
   ]
  },
  {
   "cell_type": "markdown",
   "id": "fb6b72d3-f55c-487c-8326-a934487b87c2",
   "metadata": {},
   "source": [
    "This created a dictionary with `specified keys` all having the **same value**. It has the form `dict.fromkeys(iterable, value=None)` where the iterable must have **hashable elements**. These elements will become the keys."
   ]
  },
  {
   "cell_type": "code",
   "execution_count": 13,
   "id": "c4cec738-bafc-4611-aa5e-54dbe7379968",
   "metadata": {},
   "outputs": [
    {
     "data": {
      "text/plain": [
       "{'a': 'N/A', (0, 0): 'N/A', 250: 'N/A'}"
      ]
     },
     "execution_count": 13,
     "metadata": {},
     "output_type": "execute_result"
    }
   ],
   "source": [
    "d = dict.fromkeys(['a', (0,0), 250], 'N/A')\n",
    "d"
   ]
  },
  {
   "cell_type": "markdown",
   "id": "6fa1801f-aec1-461b-860a-4f67bd70e9cf",
   "metadata": {},
   "source": [
    "Any iterable will do, so we can pass a generator expression if we like:"
   ]
  },
  {
   "cell_type": "code",
   "execution_count": 15,
   "id": "4f52dca5-e412-41b6-b2a2-19c8a7dce09c",
   "metadata": {},
   "outputs": [
    {
     "data": {
      "text/plain": [
       "{0: False, 1: False, 4: False, 9: False, 16: False}"
      ]
     },
     "execution_count": 15,
     "metadata": {},
     "output_type": "execute_result"
    }
   ],
   "source": [
    "d = dict.fromkeys((i**2 for i in range(5)), False)\n",
    "d"
   ]
  },
  {
   "cell_type": "markdown",
   "id": "e91b5c10-7cde-48b3-939d-8fa5a49d6cfc",
   "metadata": {},
   "source": [
    "# 02 - Common Operations"
   ]
  },
  {
   "cell_type": "markdown",
   "id": "4edf98ab-a494-4e80-971d-8ee8b05b87a1",
   "metadata": {},
   "source": [
    "Most common operations will be related to the keys not the values. For example `len(d)` will return the number of keys in `d`."
   ]
  },
  {
   "cell_type": "markdown",
   "id": "eac8df9b-eba8-4364-8529-9ae3eb9d2b2d",
   "metadata": {},
   "source": [
    "#### Membership Tests"
   ]
  },
  {
   "cell_type": "markdown",
   "id": "911d714d-9e68-4d0d-aa88-a44ecf879933",
   "metadata": {},
   "source": [
    "Membership tests are seeing if keys are present in a dictionary - they're very efficient. All we need to do is hash the key and traverse the probe sequence."
   ]
  },
  {
   "cell_type": "markdown",
   "id": "eb6aadde-fbe5-4a9c-b45b-fde2836891e3",
   "metadata": {},
   "source": [
    "We can use the `in` and `not in` operators to test the presence of a **key** in a dictionary:"
   ]
  },
  {
   "cell_type": "code",
   "execution_count": 27,
   "id": "897f684e-603b-4fea-8f2c-bb7bce3b4591",
   "metadata": {},
   "outputs": [],
   "source": [
    "d = dict(a=1, b=2, c=3)"
   ]
  },
  {
   "cell_type": "code",
   "execution_count": 28,
   "id": "a5609a37-bd51-4ab4-890b-59eb04f95bd6",
   "metadata": {},
   "outputs": [
    {
     "data": {
      "text/plain": [
       "True"
      ]
     },
     "execution_count": 28,
     "metadata": {},
     "output_type": "execute_result"
    }
   ],
   "source": [
    "'a' in d"
   ]
  },
  {
   "cell_type": "markdown",
   "id": "70a7255d-4d40-4657-8e94-c7addfe029eb",
   "metadata": {},
   "source": [
    "#### Removing elements from a dictionary"
   ]
  },
  {
   "cell_type": "markdown",
   "id": "17445583-2d8f-4636-8a99-d4f1bcebf14c",
   "metadata": {},
   "source": [
    "We can use the `del` operator, `.pop(key)` method or the `.popitem()` method to remove a key from a dictionary:"
   ]
  },
  {
   "cell_type": "code",
   "execution_count": 29,
   "id": "1da01e3a-4cbc-4d89-b0ee-2d1ffc15da97",
   "metadata": {},
   "outputs": [],
   "source": [
    "d = dict.fromkeys('abcd', 0)"
   ]
  },
  {
   "cell_type": "code",
   "execution_count": 30,
   "id": "efe0e295-a0be-4ea3-a38e-6cbab3d3d4a8",
   "metadata": {},
   "outputs": [
    {
     "data": {
      "text/plain": [
       "{'a': 0, 'b': 0, 'c': 0, 'd': 0}"
      ]
     },
     "execution_count": 30,
     "metadata": {},
     "output_type": "execute_result"
    }
   ],
   "source": [
    "d"
   ]
  },
  {
   "cell_type": "markdown",
   "id": "59abef03-8de0-43f4-b57d-aed7b20f753b",
   "metadata": {},
   "source": [
    "We can remove a key this way. If it doesn't exist, we get a `KeyError` exception."
   ]
  },
  {
   "cell_type": "code",
   "execution_count": 31,
   "id": "40ef9f68-3cf6-467a-aabf-ec0347968f18",
   "metadata": {},
   "outputs": [
    {
     "data": {
      "text/plain": [
       "{'b': 0, 'c': 0, 'd': 0}"
      ]
     },
     "execution_count": 31,
     "metadata": {},
     "output_type": "execute_result"
    }
   ],
   "source": [
    "del d['a']\n",
    "d"
   ]
  },
  {
   "cell_type": "markdown",
   "id": "2e488fdf-2db6-45eb-8e46-6cecaa8e2d4c",
   "metadata": {},
   "source": [
    "When the key is popped, the **value** is returned"
   ]
  },
  {
   "cell_type": "code",
   "execution_count": 32,
   "id": "ec872acf-e4b4-4782-a802-29d6d178a945",
   "metadata": {},
   "outputs": [
    {
     "name": "stdout",
     "output_type": "stream",
     "text": [
      "0\n"
     ]
    },
    {
     "data": {
      "text/plain": [
       "{'c': 0, 'd': 0}"
      ]
     },
     "execution_count": 32,
     "metadata": {},
     "output_type": "execute_result"
    }
   ],
   "source": [
    "print(d.pop('b'))\n",
    "d"
   ]
  },
  {
   "cell_type": "markdown",
   "id": "3262f174-da11-4538-90db-4fc979bb3eb6",
   "metadata": {},
   "source": [
    "We can specify a default value to `.pop()` so that a `KeyError` exception isn't thrown when we can't find the key:"
   ]
  },
  {
   "cell_type": "code",
   "execution_count": 34,
   "id": "c4ff9e7e-16dd-4601-9c2d-9fcfa988e0c1",
   "metadata": {},
   "outputs": [
    {
     "name": "stdout",
     "output_type": "stream",
     "text": [
      "None\n"
     ]
    }
   ],
   "source": [
    "print(d.pop('idontexist', None))"
   ]
  },
  {
   "cell_type": "markdown",
   "id": "bad8f11e-05eb-4ea9-8892-bb1032c14740",
   "metadata": {},
   "source": [
    "The `.popitem()` method will remove the **last** item that was inserted into the dictionary and return that item, i.e. a key-value pair. In other words, **last inserted - popped first -> LIFO**."
   ]
  },
  {
   "cell_type": "code",
   "execution_count": 35,
   "id": "aec640cf-b80b-4b9b-9d7a-4d89cf9a66dd",
   "metadata": {},
   "outputs": [
    {
     "name": "stdout",
     "output_type": "stream",
     "text": [
      "('d', 0)\n"
     ]
    }
   ],
   "source": [
    "print(d.popitem())"
   ]
  },
  {
   "cell_type": "markdown",
   "id": "3ff40c5c-fc2f-455d-bd9f-71695ad3d00e",
   "metadata": {},
   "source": [
    "#### Inserting keys with a default"
   ]
  },
  {
   "cell_type": "markdown",
   "id": "da25538b-4668-4527-a0cc-f573b31d6b52",
   "metadata": {},
   "source": [
    "Sometimes we may want to insert an element in a dictionary with a default value, but only if the element is not already present. It has the form: `.setdefault(key, value)`."
   ]
  },
  {
   "cell_type": "code",
   "execution_count": 37,
   "id": "a2656df7-4a16-4f83-b39b-6cacbcebbbe1",
   "metadata": {},
   "outputs": [
    {
     "name": "stdout",
     "output_type": "stream",
     "text": [
      "1\n",
      "100\n",
      "{'a': 1, 'b': 2, 'c': 3, 'd': 100}\n"
     ]
    }
   ],
   "source": [
    "d = {'a':1, 'b':2, 'c':3}\n",
    "\n",
    "print(d.setdefault('a', 100))\n",
    "print(d.setdefault('d', 100))\n",
    "print(d)"
   ]
  },
  {
   "cell_type": "markdown",
   "id": "da065385-8c47-4e2c-a749-4d04a7db0f5d",
   "metadata": {},
   "source": [
    "#### Examples"
   ]
  },
  {
   "cell_type": "markdown",
   "id": "a444b42f-f4f5-4347-bed6-f9c15abdbde7",
   "metadata": {},
   "source": [
    "##### Example 1"
   ]
  },
  {
   "cell_type": "markdown",
   "id": "c29ea581-4dcc-44a5-9a7e-73948b023a4c",
   "metadata": {},
   "source": [
    "Here we have a string where we want to count the number of each character that appears in the string.\n",
    "Since we know the alphabet is a-z, we could create a dictionary with these initial keys - but maybe the string contains characters outside of that, maybe punctuation marks, emojis, etc. So it's not really feasible to take that approach."
   ]
  },
  {
   "cell_type": "code",
   "execution_count": 39,
   "id": "03f2815f-1924-4433-aae3-7b522b2f0561",
   "metadata": {},
   "outputs": [
    {
     "name": "stdout",
     "output_type": "stream",
     "text": [
      "{'S': 1, 'e': 77, 'd': 22, ' ': 128, 'u': 69, 't': 65, 'p': 22, 'r': 38, 's': 43, 'i': 76, 'c': 19, 'a': 70, ',': 20, 'n': 37, 'o': 51, 'm': 43, 'v': 15, 'l': 33, 'q': 26, 'b': 5, 'h': 3, 'x': 3, '.': 2, 'N': 1, 'f': 2, 'g': 5, '[': 3, ']': 3, '-': 1, 'U': 1, '?': 2, 'Q': 1}\n"
     ]
    }
   ],
   "source": [
    "text = 'Sed ut perspiciatis, unde omnis iste natus error sit voluptatem accusantium doloremque laudantium, totam rem aperiam eaque ipsa, quae ab illo inventore veritatis et quasi architecto beatae vitae dicta sunt, explicabo. Nemo enim ipsam voluptatem, quia voluptas sit, aspernatur aut odit aut fugit, sed quia consequuntur magni dolores eos, qui ratione voluptatem sequi nesciunt, neque porro quisquam est, qui dolorem ipsum, quia dolor sit amet consectetur adipisci[ng] velit, sed quia non-numquam [do] eius modi tempora inci[di]dunt, ut labore et dolore magnam aliquam quaerat voluptatem. Ut enim ad minima veniam, quis nostrum exercitationem ullam corporis suscipit laboriosam, nisi ut aliquid ex ea commodi consequatur? Quis autem vel eum iure reprehenderit, qui in ea voluptate velit esse, quam nihil molestiae consequatur, vel illum, qui dolorem eum fugiat, quo voluptas nulla pariatur?'\n",
    "\n",
    "counts = dict()\n",
    "for char in text:\n",
    "    counts[char] = counts.get(char, 0) + 1\n",
    "\n",
    "print(counts)"
   ]
  },
  {
   "cell_type": "markdown",
   "id": "30e82c53-9dcc-4eca-85d6-235bbe74e6d7",
   "metadata": {},
   "source": [
    "##### Example 2"
   ]
  },
  {
   "cell_type": "markdown",
   "id": "9aa0901a-a4a7-4970-ac40-1e844aa9337e",
   "metadata": {},
   "source": [
    "This is a continuation of the first example. What we want to do is create a dictionary with three keys: upper, lower and other. The values of these keys should be any iterable that contains all the upper, lower and other values, respectively. \n",
    "\n",
    "Since we don't want repeat characters, the values are going to be sets."
   ]
  },
  {
   "cell_type": "markdown",
   "id": "67015eca-746a-47a5-977c-beca084d7b41",
   "metadata": {},
   "source": [
    "The string module will come in handy:"
   ]
  },
  {
   "cell_type": "code",
   "execution_count": 41,
   "id": "9543a7ef-2f6b-4a60-9bcd-704840962c5a",
   "metadata": {},
   "outputs": [
    {
     "name": "stdout",
     "output_type": "stream",
     "text": [
      "abcdefghijklmnopqrstuvwxyz\n",
      "ABCDEFGHIJKLMNOPQRSTUVWXYZ\n"
     ]
    }
   ],
   "source": [
    "import string\n",
    "\n",
    "print(string.ascii_lowercase)\n",
    "print(string.ascii_uppercase)"
   ]
  },
  {
   "cell_type": "code",
   "execution_count": 43,
   "id": "ad33f064-fc79-4d79-a590-07a6ed0db728",
   "metadata": {},
   "outputs": [
    {
     "name": "stdout",
     "output_type": "stream",
     "text": [
      "{'upper': {'N', 'Q', 'S', 'U'}, 'lower': {'f', 's', 'e', 'h', 'c', 'p', 'a', 'd', 'n', 'g', 'i', 't', 'v', 'r', 'u', 'o', 'b', 'x', 'q', 'l', 'm'}, 'other': {' ', ']', '.', ',', '?', '[', '-'}}\n"
     ]
    }
   ],
   "source": [
    "import string\n",
    "\n",
    "text = 'Sed ut perspiciatis, unde omnis iste natus error sit voluptatem accusantium doloremque laudantium, totam rem aperiam eaque ipsa, quae ab illo inventore veritatis et quasi architecto beatae vitae dicta sunt, explicabo. Nemo enim ipsam voluptatem, quia voluptas sit, aspernatur aut odit aut fugit, sed quia consequuntur magni dolores eos, qui ratione voluptatem sequi nesciunt, neque porro quisquam est, qui dolorem ipsum, quia dolor sit amet consectetur adipisci[ng] velit, sed quia non-numquam [do] eius modi tempora inci[di]dunt, ut labore et dolore magnam aliquam quaerat voluptatem. Ut enim ad minima veniam, quis nostrum exercitationem ullam corporis suscipit laboriosam, nisi ut aliquid ex ea commodi consequatur? Quis autem vel eum iure reprehenderit, qui in ea voluptate velit esse, quam nihil molestiae consequatur, vel illum, qui dolorem eum fugiat, quo voluptas nulla pariatur?'\n",
    "\n",
    "categories = {}\n",
    "\n",
    "for char in text:\n",
    "    if char in string.ascii_lowercase:\n",
    "        key = 'lower'\n",
    "    elif char in string.ascii_uppercase:\n",
    "        key = 'upper'\n",
    "    else:\n",
    "        key = 'other'\n",
    "\n",
    "    if key not in categories:   \n",
    "        categories[key] = set()\n",
    "\n",
    "    categories[key].add(char)\n",
    "\n",
    "print(categories)"
   ]
  },
  {
   "cell_type": "markdown",
   "id": "d5ce2cc8-84c1-4782-b4ab-8d9740fc48de",
   "metadata": {},
   "source": [
    "To make the output more readable:"
   ]
  },
  {
   "cell_type": "code",
   "execution_count": 47,
   "id": "4f2bf65e-76cd-4da3-a79d-586d8d47c5e3",
   "metadata": {},
   "outputs": [
    {
     "name": "stdout",
     "output_type": "stream",
     "text": [
      "upper: NQSU\n",
      "lower: fsehcpadngitvruobxqlm\n",
      "other:  ].,?[-\n"
     ]
    }
   ],
   "source": [
    "for key, value in categories.items():\n",
    "    print(f\"{key}: {''.join(value)}\")"
   ]
  },
  {
   "cell_type": "markdown",
   "id": "1d5f4403-1b47-46aa-8d3d-81b214e90900",
   "metadata": {},
   "source": [
    "We can improve this by using `setdefault()` so that, if the key doesn't exist, we create it with a default value of `set()` and return that set. If the key does exist, we just get the set back."
   ]
  },
  {
   "cell_type": "code",
   "execution_count": 50,
   "id": "63744eaf-d63f-4e1d-9866-f9ec9d2e4908",
   "metadata": {},
   "outputs": [
    {
     "name": "stdout",
     "output_type": "stream",
     "text": [
      "upper: NQSU\n",
      "lower: fsehcpadngitvruobxqlm\n",
      "other:  ].,?[-\n"
     ]
    }
   ],
   "source": [
    "import string\n",
    "\n",
    "text = 'Sed ut perspiciatis, unde omnis iste natus error sit voluptatem accusantium doloremque laudantium, totam rem aperiam eaque ipsa, quae ab illo inventore veritatis et quasi architecto beatae vitae dicta sunt, explicabo. Nemo enim ipsam voluptatem, quia voluptas sit, aspernatur aut odit aut fugit, sed quia consequuntur magni dolores eos, qui ratione voluptatem sequi nesciunt, neque porro quisquam est, qui dolorem ipsum, quia dolor sit amet consectetur adipisci[ng] velit, sed quia non-numquam [do] eius modi tempora inci[di]dunt, ut labore et dolore magnam aliquam quaerat voluptatem. Ut enim ad minima veniam, quis nostrum exercitationem ullam corporis suscipit laboriosam, nisi ut aliquid ex ea commodi consequatur? Quis autem vel eum iure reprehenderit, qui in ea voluptate velit esse, quam nihil molestiae consequatur, vel illum, qui dolorem eum fugiat, quo voluptas nulla pariatur?'\n",
    "\n",
    "categories = {}\n",
    "\n",
    "for char in text:\n",
    "    if char in string.ascii_lowercase:\n",
    "        key = 'lower'\n",
    "    elif char in string.ascii_uppercase:\n",
    "        key = 'upper'\n",
    "    else:\n",
    "        key = 'other'\n",
    "\n",
    "    value = categories.setdefault(key, set())\n",
    "    value.add(char)\n",
    "\n",
    "for key, value in categories.items():\n",
    "    print(f\"{key}: {''.join(value)}\")"
   ]
  },
  {
   "cell_type": "markdown",
   "id": "f18ce8da-52a6-4686-a532-e0e538f58119",
   "metadata": {},
   "source": [
    "To further improve the efficiency and also reduce the number of lines of code, we can wrap the if-elif-else into a function.\n",
    "\n",
    "What's more efficient than `if char in string.ascii_lowercase`? This has to iterate through each character in `string.ascii_lowercase` -> O(n) time complexity.\n",
    "\n",
    "It would be faster if each character, either upper, lower or other, was a key whose value was 'upper', 'lower' or 'other' -> O(1) time complexity"
   ]
  },
  {
   "cell_type": "code",
   "execution_count": 52,
   "id": "0394b620-5dd2-46c5-811e-4f31e8e3281c",
   "metadata": {},
   "outputs": [
    {
     "name": "stdout",
     "output_type": "stream",
     "text": [
      "upper: NQSU\n",
      "lower: fsehcpadngitvruobxqlm\n",
      "other:  ].,?[-\n"
     ]
    }
   ],
   "source": [
    "import string\n",
    "\n",
    "def key_category_from_char(char):\n",
    "    lower = dict.fromkeys(string.ascii_lowercase, 'lower')\n",
    "    upper = dict.fromkeys(string.ascii_uppercase, 'upper')\n",
    "    char_to_category = {**lower, **upper}\n",
    "\n",
    "    return char_to_category.get(char, 'other')\n",
    "\n",
    "text = 'Sed ut perspiciatis, unde omnis iste natus error sit voluptatem accusantium doloremque laudantium, totam rem aperiam eaque ipsa, quae ab illo inventore veritatis et quasi architecto beatae vitae dicta sunt, explicabo. Nemo enim ipsam voluptatem, quia voluptas sit, aspernatur aut odit aut fugit, sed quia consequuntur magni dolores eos, qui ratione voluptatem sequi nesciunt, neque porro quisquam est, qui dolorem ipsum, quia dolor sit amet consectetur adipisci[ng] velit, sed quia non-numquam [do] eius modi tempora inci[di]dunt, ut labore et dolore magnam aliquam quaerat voluptatem. Ut enim ad minima veniam, quis nostrum exercitationem ullam corporis suscipit laboriosam, nisi ut aliquid ex ea commodi consequatur? Quis autem vel eum iure reprehenderit, qui in ea voluptate velit esse, quam nihil molestiae consequatur, vel illum, qui dolorem eum fugiat, quo voluptas nulla pariatur?'\n",
    "\n",
    "categories = {}\n",
    "\n",
    "for char in text:\n",
    "    key = key_category_from_char(char)\n",
    "\n",
    "    char_set = categories.setdefault(key, set())\n",
    "    char_set.add(char)\n",
    "\n",
    "for key, value in categories.items():\n",
    "    print(f\"{key}: {''.join(value)}\")"
   ]
  },
  {
   "cell_type": "markdown",
   "id": "dff05847-8171-4552-9d25-b4ca0dfee249",
   "metadata": {},
   "source": [
    "# 03 - Dictionary Views"
   ]
  },
  {
   "cell_type": "markdown",
   "id": "75310731-4e1b-4689-8b7e-ad2dc44050c4",
   "metadata": {},
   "source": [
    "#### Basics"
   ]
  },
  {
   "cell_type": "markdown",
   "id": "7dd94ab6-2dd7-4b25-9384-7d5d70834a74",
   "metadata": {},
   "source": [
    "We already know `d.keys()`, `d.values()` and `d.items()`, each of which produce an iterable. Since order is maintained, zipping up `.keys()` and `.values()` will produce the same output as `.items()`. \n",
    "\n",
    "All of these views are **read-only**. We cannot modify the dictionary by modifying the views."
   ]
  },
  {
   "cell_type": "markdown",
   "id": "c80beded-dfe0-4c1d-b53a-3697a42a99e4",
   "metadata": {},
   "source": [
    "**Dictionary Views are Dynamic**\n",
    "\n",
    "**Views are more than just iterables**. This is something unintuitive. If we store the result of *any* of these views in a variable and then modify the dictionary, the variable will reflect this modification. That is to say, looking up the variable performs a dictionary lookup too. "
   ]
  },
  {
   "cell_type": "code",
   "execution_count": 54,
   "id": "0bbcd356-04ad-4622-89af-1fca1008de36",
   "metadata": {},
   "outputs": [
    {
     "name": "stdout",
     "output_type": "stream",
     "text": [
      "dict_items([('a', 1), ('b', 2)])\n",
      "dict_items([('a', 100), ('b', 200), ('c', 300)])\n"
     ]
    }
   ],
   "source": [
    "d = {'a': 1, 'b': 2}\n",
    "\n",
    "my_items = d.items()\n",
    "print(my_items)\n",
    "\n",
    "d['a'] = 100\n",
    "d['b'] = 200\n",
    "d['c'] = 300\n",
    "\n",
    "print(my_items)"
   ]
  },
  {
   "cell_type": "markdown",
   "id": "77bab9a4-5120-4cdc-a620-12441de15a58",
   "metadata": {},
   "source": [
    "The `keys()` view behaves like a **set**. \n",
    "\n",
    "This makes sense since `sets` are essentially dictionaries with no values. The elements in a set are guaranteed to be unique and hashable. So to reiterate, the **keys of a dictionary are a set**. \n",
    "\n",
    "Therefore, the `.keys()` view has set-like functionality. We can perform unions, intersections and differences."
   ]
  },
  {
   "cell_type": "markdown",
   "id": "c42ce4c3-aa07-4cf6-a89e-a3025efeaaa4",
   "metadata": {},
   "source": [
    "**The `values()` view does *not* behave like a set**. \n",
    "\n",
    "This makes sense since it doesn't satisfy either condition of uniqueness and hashability above."
   ]
  },
  {
   "cell_type": "markdown",
   "id": "e44db4aa-1cba-47bf-ae88-6415e611ee76",
   "metadata": {},
   "source": [
    "**The `items()` view *may* behave like a set**.\n",
    "\n",
    "We know that each key-value tuple will be unique from one another because each key is guaranteed to be unique. \n",
    "\n",
    "The only thing we need to check is if **all** the values are hashable - Python does this. If they are, then the `items()` view will also have set-like behaviour. "
   ]
  },
  {
   "cell_type": "markdown",
   "id": "66706c24-2810-480c-90ee-caf6535f0620",
   "metadata": {},
   "source": [
    "#### Set Operations"
   ]
  },
  {
   "cell_type": "markdown",
   "id": "0f1c314d-d6b0-4f9e-ae7e-2a1260123cc8",
   "metadata": {},
   "source": [
    "We already know the basics of this:"
   ]
  },
  {
   "cell_type": "code",
   "execution_count": 1,
   "id": "019dbc1a-9865-4f85-a5c4-34a646a1a658",
   "metadata": {},
   "outputs": [],
   "source": [
    "s1 = {1, 2, 3}\n",
    "s2 = {2, 3, 4}"
   ]
  },
  {
   "cell_type": "markdown",
   "id": "26d25285-0031-4902-ac53-a235ed65af02",
   "metadata": {},
   "source": [
    "Unions:"
   ]
  },
  {
   "cell_type": "code",
   "execution_count": 2,
   "id": "07711fdf-8584-496b-902f-63a791a1e602",
   "metadata": {},
   "outputs": [
    {
     "data": {
      "text/plain": [
       "{1, 2, 3, 4}"
      ]
     },
     "execution_count": 2,
     "metadata": {},
     "output_type": "execute_result"
    }
   ],
   "source": [
    "s1 | s2"
   ]
  },
  {
   "cell_type": "code",
   "execution_count": 3,
   "id": "ab5cb814-d822-42dd-bc41-fdd9b6ec3fac",
   "metadata": {},
   "outputs": [
    {
     "data": {
      "text/plain": [
       "{2, 3}"
      ]
     },
     "execution_count": 3,
     "metadata": {},
     "output_type": "execute_result"
    }
   ],
   "source": [
    "s1 & s2"
   ]
  },
  {
   "cell_type": "markdown",
   "id": "96ecc5b9-f97a-461c-8cb1-2101e24929fe",
   "metadata": {},
   "source": [
    "Differences: \n",
    "\n",
    "What is in `s1` that isn't in `s2`:"
   ]
  },
  {
   "cell_type": "code",
   "execution_count": 4,
   "id": "dec75afd-14e0-45bb-a98d-659a8bf9e7f7",
   "metadata": {},
   "outputs": [
    {
     "data": {
      "text/plain": [
       "{1}"
      ]
     },
     "execution_count": 4,
     "metadata": {},
     "output_type": "execute_result"
    }
   ],
   "source": [
    "s1 - s2"
   ]
  },
  {
   "cell_type": "markdown",
   "id": "94d4c56a-84c8-4f46-986c-d388ab62c4ba",
   "metadata": {},
   "source": [
    "What is in `s2` that isn't in `s1`:"
   ]
  },
  {
   "cell_type": "code",
   "execution_count": 5,
   "id": "4946ed3c-56e4-48d5-83d8-6d9ad3b718c2",
   "metadata": {},
   "outputs": [
    {
     "data": {
      "text/plain": [
       "{4}"
      ]
     },
     "execution_count": 5,
     "metadata": {},
     "output_type": "execute_result"
    }
   ],
   "source": [
    "s2 - s1"
   ]
  },
  {
   "cell_type": "markdown",
   "id": "b4b21c3c-4869-48e2-b399-e79e4c48754e",
   "metadata": {},
   "source": [
    "To demonstrate the set-like behaviour of dictionary keys:"
   ]
  },
  {
   "cell_type": "code",
   "execution_count": 56,
   "id": "d32b4207-d469-4516-9237-0cc568587ef6",
   "metadata": {},
   "outputs": [],
   "source": [
    "d1 = {1: None, 2: None, 3: None}\n",
    "d2 = {2: None, 3: None, 4: None}"
   ]
  },
  {
   "cell_type": "code",
   "execution_count": 57,
   "id": "ccdb7bea-b0ac-4c35-9183-1e5ca946dbb5",
   "metadata": {},
   "outputs": [
    {
     "data": {
      "text/plain": [
       "{1, 2, 3, 4}"
      ]
     },
     "execution_count": 57,
     "metadata": {},
     "output_type": "execute_result"
    }
   ],
   "source": [
    "d1.keys() | d2.keys()"
   ]
  },
  {
   "cell_type": "code",
   "execution_count": 58,
   "id": "337ea462-24a7-4754-a241-af4790528603",
   "metadata": {},
   "outputs": [
    {
     "data": {
      "text/plain": [
       "{2, 3}"
      ]
     },
     "execution_count": 58,
     "metadata": {},
     "output_type": "execute_result"
    }
   ],
   "source": [
    "d1.keys() & d2.keys()"
   ]
  },
  {
   "cell_type": "code",
   "execution_count": 59,
   "id": "03b3c540-37c6-4005-a4b1-93a140f21a98",
   "metadata": {},
   "outputs": [
    {
     "data": {
      "text/plain": [
       "{1}"
      ]
     },
     "execution_count": 59,
     "metadata": {},
     "output_type": "execute_result"
    }
   ],
   "source": [
    "d1.keys() - d2.keys()"
   ]
  },
  {
   "cell_type": "code",
   "execution_count": 60,
   "id": "fd588acd-9d43-4b96-87e7-db24fe19d7f2",
   "metadata": {},
   "outputs": [
    {
     "data": {
      "text/plain": [
       "{4}"
      ]
     },
     "execution_count": 60,
     "metadata": {},
     "output_type": "execute_result"
    }
   ],
   "source": [
    "d2.keys() - d1.keys()"
   ]
  },
  {
   "cell_type": "markdown",
   "id": "7ff52488-3592-47df-983d-1ead2391c4b0",
   "metadata": {},
   "source": [
    "We can demonstrate the set-like behaviour working on the `.items()` view given that the values are hashable:"
   ]
  },
  {
   "cell_type": "code",
   "execution_count": 4,
   "id": "43a1b466-fb6d-4910-9dd5-1f9b4a1cc4d9",
   "metadata": {},
   "outputs": [
    {
     "data": {
      "text/plain": [
       "{('a', 1), ('b', 2), ('c', 3), ('c', 30), ('d', 4)}"
      ]
     },
     "execution_count": 4,
     "metadata": {},
     "output_type": "execute_result"
    }
   ],
   "source": [
    "d1 = {'a': 1, 'b': 2, 'c': 3}\n",
    "d2 = {'b': 2, 'c': 30, 'd': 4}\n",
    "\n",
    "d1.items() | d2.items() "
   ]
  },
  {
   "cell_type": "markdown",
   "id": "4f26ae51-d683-4228-934c-7dd070df3a9d",
   "metadata": {},
   "source": [
    "As you can see, `('c', 3)` and `('c', 30)` are both present because, while they do have the same key, their values are different, so the key-value pairs are different.\n",
    "\n",
    "We can show that it doesn't work if the values are unhashable (i.e. they're mutable)."
   ]
  },
  {
   "cell_type": "code",
   "execution_count": 5,
   "id": "25b151bc-463f-4fce-87f4-9c8e73886347",
   "metadata": {},
   "outputs": [
    {
     "ename": "TypeError",
     "evalue": "unhashable type: 'list'",
     "output_type": "error",
     "traceback": [
      "\u001b[1;31m---------------------------------------------------------------------------\u001b[0m",
      "\u001b[1;31mTypeError\u001b[0m                                 Traceback (most recent call last)",
      "Cell \u001b[1;32mIn[5], line 4\u001b[0m\n\u001b[0;32m      1\u001b[0m d3 \u001b[38;5;241m=\u001b[39m {\u001b[38;5;124m'\u001b[39m\u001b[38;5;124ma\u001b[39m\u001b[38;5;124m'\u001b[39m: [\u001b[38;5;241m1\u001b[39m, \u001b[38;5;241m2\u001b[39m], \u001b[38;5;124m'\u001b[39m\u001b[38;5;124mb\u001b[39m\u001b[38;5;124m'\u001b[39m: [\u001b[38;5;241m3\u001b[39m, \u001b[38;5;241m4\u001b[39m]}\n\u001b[0;32m      2\u001b[0m d4 \u001b[38;5;241m=\u001b[39m {\u001b[38;5;124m'\u001b[39m\u001b[38;5;124mb\u001b[39m\u001b[38;5;124m'\u001b[39m: [\u001b[38;5;241m30\u001b[39m, \u001b[38;5;241m40\u001b[39m], \u001b[38;5;124m'\u001b[39m\u001b[38;5;124mc\u001b[39m\u001b[38;5;124m'\u001b[39m: [\u001b[38;5;241m5\u001b[39m, \u001b[38;5;241m6\u001b[39m]}\n\u001b[1;32m----> 4\u001b[0m \u001b[43md3\u001b[49m\u001b[38;5;241;43m.\u001b[39;49m\u001b[43mitems\u001b[49m\u001b[43m(\u001b[49m\u001b[43m)\u001b[49m\u001b[43m \u001b[49m\u001b[38;5;241;43m|\u001b[39;49m\u001b[43m \u001b[49m\u001b[43md4\u001b[49m\u001b[38;5;241;43m.\u001b[39;49m\u001b[43mitems\u001b[49m\u001b[43m(\u001b[49m\u001b[43m)\u001b[49m \n",
      "\u001b[1;31mTypeError\u001b[0m: unhashable type: 'list'"
     ]
    }
   ],
   "source": [
    "d3 = {'a': [1, 2], 'b': [3, 4]}\n",
    "d4 = {'b': [30, 40], 'c': [5, 6]}\n",
    "\n",
    "d3.items() | d4.items() "
   ]
  },
  {
   "cell_type": "markdown",
   "id": "a87993e4-c5a9-4a63-a5a8-d1c30d1b3b60",
   "metadata": {},
   "source": [
    "#### Examples"
   ]
  },
  {
   "cell_type": "markdown",
   "id": "18401808-810a-4a16-b191-2d080f0f3e70",
   "metadata": {},
   "source": [
    "##### Example 1"
   ]
  },
  {
   "cell_type": "markdown",
   "id": "91f99102-3e21-447b-a251-da80928b097b",
   "metadata": {},
   "source": [
    "Let's say we have two dictionaries, and we want to create a new dictionary that contains all the items whose keys are in both dictionaries.\n",
    "We want the value in the new dictionary to be a tuple containing all the values from both dictionaries:"
   ]
  },
  {
   "cell_type": "code",
   "execution_count": 33,
   "id": "07858368-647c-44dd-95f6-4d72cc660e9b",
   "metadata": {},
   "outputs": [],
   "source": [
    "d1 = {'a': 1, 'b': 2, 'c': 3}\n",
    "d2 = {'b': 2, 'c': 30, 'd': 4}"
   ]
  },
  {
   "cell_type": "markdown",
   "id": "4f4c7e1b-95e8-471c-8da6-b958cc1f1a80",
   "metadata": {},
   "source": [
    "We can do this with a dictionary comprehension:"
   ]
  },
  {
   "cell_type": "code",
   "execution_count": 6,
   "id": "430d3f65-fc40-41b0-9471-068abbf60e15",
   "metadata": {},
   "outputs": [
    {
     "name": "stdout",
     "output_type": "stream",
     "text": [
      "{'b': (2, 2), 'c': (3, 30)}\n"
     ]
    }
   ],
   "source": [
    "new_dict = {key:(d1[key], d2[key]) for key in d1.keys() & d2.keys()}\n",
    "print(new_dict)"
   ]
  },
  {
   "cell_type": "markdown",
   "id": "ffcbf9d9-cc44-4adb-b310-e17a57941825",
   "metadata": {},
   "source": [
    "##### Example 2"
   ]
  },
  {
   "cell_type": "markdown",
   "id": "fcc7a959-3439-40d6-b94e-2a036eaff544",
   "metadata": {},
   "source": [
    "###### Part I"
   ]
  },
  {
   "cell_type": "markdown",
   "id": "f842cef6-bd19-4c63-be26-cc647253628a",
   "metadata": {},
   "source": [
    "For this example, suppose we have two dictionaries, and we want to identify items whose keys are common to both dictionaries, i.e., the **symmetric difference**. We can do this three ways:\n",
    "\n",
    "Firstly:"
   ]
  },
  {
   "cell_type": "code",
   "execution_count": 22,
   "id": "c0d9392a-0b73-447e-ad4c-8e3387542dc9",
   "metadata": {},
   "outputs": [
    {
     "name": "stdout",
     "output_type": "stream",
     "text": [
      "{'d', 'e'}\n"
     ]
    }
   ],
   "source": [
    "d1 = {'a': 1, 'b': 2, 'c': 3, 'd': 4}\n",
    "d2 = {'a': 10, 'b': 20, 'c': 30, 'e': 5}\n",
    "\n",
    "unique_keys = (d1.keys() - d2.keys()) | (d2.keys() - d1.keys())\n",
    "print(unique_keys)"
   ]
  },
  {
   "cell_type": "markdown",
   "id": "cad3be67-603c-4076-9519-12ce18b4443e",
   "metadata": {},
   "source": [
    "Secondly:"
   ]
  },
  {
   "cell_type": "code",
   "execution_count": 23,
   "id": "4ac7921b-93b0-4cd6-b1be-68cd0d9a7c09",
   "metadata": {},
   "outputs": [
    {
     "name": "stdout",
     "output_type": "stream",
     "text": [
      "{'d', 'e'}\n"
     ]
    }
   ],
   "source": [
    "d1 = {'a': 1, 'b': 2, 'c': 3, 'd': 4}\n",
    "d2 = {'a': 10, 'b': 20, 'c': 30, 'e': 5}\n",
    "\n",
    "unique_keys = (d1.keys() | d2.keys()) - (d2.keys() & d1.keys())\n",
    "print(unique_keys)"
   ]
  },
  {
   "cell_type": "markdown",
   "id": "c51c64a4-f77a-4aff-b8dc-33c426e277bc",
   "metadata": {},
   "source": [
    "Thirdly:"
   ]
  },
  {
   "cell_type": "code",
   "execution_count": 26,
   "id": "b9324072-4e53-4a2a-96e8-f0f9e882a00b",
   "metadata": {},
   "outputs": [
    {
     "name": "stdout",
     "output_type": "stream",
     "text": [
      "{'d', 'e'}\n"
     ]
    }
   ],
   "source": [
    "d1 = {'a': 1, 'b': 2, 'c': 3, 'd': 4}\n",
    "d2 = {'a': 10, 'b': 20, 'c': 30, 'e': 5}\n",
    "\n",
    "unique_keys = d1.keys() ^ d2.keys()\n",
    "print(unique_keys)"
   ]
  },
  {
   "cell_type": "markdown",
   "id": "5914c71a-b1c2-4406-b57e-abce12b327f3",
   "metadata": {},
   "source": [
    "###### Part II"
   ]
  },
  {
   "cell_type": "markdown",
   "id": "e48ba61c-3d01-43bf-aee5-a8aff7c3f7f4",
   "metadata": {},
   "source": [
    "Let's say we want the associated value with the key. We could do this two ways:\n",
    "\n",
    "Firstly:"
   ]
  },
  {
   "cell_type": "code",
   "execution_count": 28,
   "id": "f5885c7e-4efc-427d-a626-45bcfd283588",
   "metadata": {},
   "outputs": [
    {
     "name": "stdout",
     "output_type": "stream",
     "text": [
      "{'d': 4, 'e': 5}\n"
     ]
    }
   ],
   "source": [
    "unique_dict = {}\n",
    "\n",
    "for key in unique_keys:\n",
    "    if key in d1:\n",
    "        unique_dict[key] = d1[key]\n",
    "\n",
    "    else:\n",
    "        unique_dict[key] = d2[key]\n",
    "\n",
    "print(unique_dict)"
   ]
  },
  {
   "cell_type": "markdown",
   "id": "f1e714d6-9dd6-40ce-b3cc-873c583907ad",
   "metadata": {},
   "source": [
    "Secondly (much better):"
   ]
  },
  {
   "cell_type": "code",
   "execution_count": 29,
   "id": "e0f4ec4b-6fba-46b4-b761-77543f56b0a9",
   "metadata": {},
   "outputs": [
    {
     "name": "stdout",
     "output_type": "stream",
     "text": [
      "{'d': 4, 'e': 5}\n"
     ]
    }
   ],
   "source": [
    "unique_dict = {key: d1.get(key) or d2.get(key) for key in unique_keys}\n",
    "print(unique_dict)"
   ]
  },
  {
   "cell_type": "markdown",
   "id": "bcc2ffe5-fc87-4ac4-9cb6-7d61c408253c",
   "metadata": {},
   "source": [
    "If `d1.get(key)` returns `None` (falsy), then we return whatever `d2.get(key)` returns."
   ]
  },
  {
   "cell_type": "markdown",
   "id": "efb1bdbe-1527-4a39-9df5-357e8b055faf",
   "metadata": {},
   "source": [
    "# 04 - Updating, Merging and Copying"
   ]
  },
  {
   "cell_type": "markdown",
   "id": "3d24cd31-deec-455e-8615-9492e8b6ada6",
   "metadata": {},
   "source": [
    "#### Updating/Merging"
   ]
  },
  {
   "cell_type": "markdown",
   "id": "f26b3714-56f3-4367-8732-8c66b1105fc3",
   "metadata": {},
   "source": [
    "There are three forms to the `.update()` method. They are similar to the different ways we can create dictionaries:"
   ]
  },
  {
   "cell_type": "markdown",
   "id": "d530723d-9399-4822-804a-34531c5154f0",
   "metadata": {},
   "source": [
    "**Updating** means that: for every key-value pair in `d2`, if the key is not in `d1`, insert the pair into d1, otherwise update the value for the key in d1."
   ]
  },
  {
   "cell_type": "markdown",
   "id": "8cec58f1-1b7d-4d09-b1a4-0f27cd3f9564",
   "metadata": {},
   "source": [
    "##### `d1.update(d2)`"
   ]
  },
  {
   "cell_type": "markdown",
   "id": "aa99b3aa-2d57-41f8-9635-01aae0a3bcac",
   "metadata": {},
   "source": [
    "We pass one dictionary `d2` to another dictionary `d1` to update `d1`'s items (key order preserved):"
   ]
  },
  {
   "cell_type": "code",
   "execution_count": 39,
   "id": "f65d937f-eb18-42c5-ac85-1ca4556aa486",
   "metadata": {},
   "outputs": [
    {
     "name": "stdout",
     "output_type": "stream",
     "text": [
      "{'a': 1, 'b': 20, 'c': 30}\n"
     ]
    }
   ],
   "source": [
    "d1 = {'a': 1, 'b': 2}\n",
    "d2 = {'b': 20, 'c': 30}\n",
    "d1.update(d2)\n",
    "\n",
    "print(d1)"
   ]
  },
  {
   "cell_type": "markdown",
   "id": "7eef6a7a-59ac-4057-98c7-de3327fd7b6d",
   "metadata": {},
   "source": [
    "##### `d1.update(iterable)`"
   ]
  },
  {
   "cell_type": "markdown",
   "id": "bdadf160-406e-47f2-8282-9d130f9864e6",
   "metadata": {},
   "source": [
    "The iterable must contain subiterables of the form `(key, value)`, e.g. `iterable = ((key1, value1), (key2, value2))`. The iterable and subiterables do not need to be homogeneous. They can be lists, tuples, list comprehensions, generator expressions or a mix of them - they can be **any iterable**. (key order preserved.)"
   ]
  },
  {
   "cell_type": "code",
   "execution_count": 40,
   "id": "4df4367b-e856-4009-b139-8be9ecc72dae",
   "metadata": {},
   "outputs": [
    {
     "name": "stdout",
     "output_type": "stream",
     "text": [
      "{'a': 1, 'b': 20, 'c': 30}\n"
     ]
    }
   ],
   "source": [
    "d1 = {'a': 1, 'b': 2}\n",
    "d2 = [('b', 20), ['c', 30]]\n",
    "\n",
    "d1.update(d2)\n",
    "print(d1)"
   ]
  },
  {
   "cell_type": "markdown",
   "id": "fb61d3a6-7842-471a-9431-c4964a62ce69",
   "metadata": {},
   "source": [
    "##### `d1.update(key1=value1, key2=value2, key3=value3)`"
   ]
  },
  {
   "cell_type": "markdown",
   "id": "dde794a6-777d-447d-adcc-cfd41b3b7a4b",
   "metadata": {},
   "source": [
    "(key order still preserved)"
   ]
  },
  {
   "cell_type": "code",
   "execution_count": 41,
   "id": "a8437197-2585-4a97-a0d4-9497a3ee830a",
   "metadata": {},
   "outputs": [
    {
     "name": "stdout",
     "output_type": "stream",
     "text": [
      "{'a': 1, 'b': 20, 'c': 30}\n"
     ]
    }
   ],
   "source": [
    "d1 = {'a': 1, 'b': 2}\n",
    "d2 = {'b': 20, 'c': 30}\n",
    "d1.update(b=20, c=30)\n",
    "\n",
    "print(d1)"
   ]
  },
  {
   "cell_type": "markdown",
   "id": "049a2374-9062-4729-9b01-28b06f3e25f2",
   "metadata": {},
   "source": [
    "##### Unpacking Dictionaries"
   ]
  },
  {
   "cell_type": "markdown",
   "id": "3ba27418-ae4c-4d84-9225-4b790f0f1550",
   "metadata": {},
   "source": [
    "We can also update via unpacking.\n",
    "\n",
    "The key thing to note is that **last \"update\" wins**. If you unpack three dictionaries with common keys, the last to be unpacked will determine the value of the common key. For example:"
   ]
  },
  {
   "cell_type": "code",
   "execution_count": 42,
   "id": "a2a3ce06-7f7d-44db-bd81-01c21c7987f1",
   "metadata": {},
   "outputs": [
    {
     "name": "stdout",
     "output_type": "stream",
     "text": [
      "{'a': 100, 'b': 20, (0, 0): 'origin', 'c': 30}\n"
     ]
    }
   ],
   "source": [
    "d1 = {'a': 1, 'b': 2}\n",
    "d2 = {'a': 10, (0,0): 'origin'}\n",
    "d3 = {'b': 20, 'c': 30, 'a': 100}\n",
    "\n",
    "d = {**d1, **d2, **d3}\n",
    "print(d)"
   ]
  },
  {
   "cell_type": "markdown",
   "id": "58b3137d-ef41-4725-a1da-13ca08d51e89",
   "metadata": {},
   "source": [
    "As you can see, `d3` was unpacked last, so the value of `a` was determined by `d3`, not `d1` or `d2`."
   ]
  },
  {
   "cell_type": "markdown",
   "id": "0447f618-4838-4ca2-a5b4-9269717e8500",
   "metadata": {},
   "source": [
    "An example use case of this is if we have multiple configurations such as default config, global config, dev config and a production config. If we unpack a number of them into a new dictionary in the aforementioned order, then we'll have a superposition of configs:"
   ]
  },
  {
   "cell_type": "code",
   "execution_count": 44,
   "id": "c1c469dd-ea2d-4d6a-9699-50085dc1efb5",
   "metadata": {},
   "outputs": [],
   "source": [
    "conf_defaults = dict.fromkeys(('host', 'port', 'user', 'pwd', 'database'), None)\n",
    "conf_global = {'port': 5432, 'database': 'deepdive'}\n",
    "conf_dev = {\n",
    "    'host': 'localhost',\n",
    "    'user': 'test',\n",
    "    'pwd': 'test'\n",
    "}\n",
    "\n",
    "conf_prod = {\n",
    "    'host': 'prodpg.deepdive.com',\n",
    "    'user': '$prod_user',\n",
    "    'pwd': '$prod_pwd',\n",
    "    'database': 'deepdive_prod'\n",
    "}"
   ]
  },
  {
   "cell_type": "markdown",
   "id": "e6d1071b-3e5a-44c3-8c15-b96edb67f76a",
   "metadata": {},
   "source": [
    "So if we wanted the production config, all we'll need to do is:"
   ]
  },
  {
   "cell_type": "code",
   "execution_count": 46,
   "id": "1c05b5b6-4983-4430-9b8f-dbab9692b32d",
   "metadata": {},
   "outputs": [
    {
     "name": "stdout",
     "output_type": "stream",
     "text": [
      "{'host': 'prodpg.deepdive.com', 'port': 5432, 'user': '$prod_user', 'pwd': '$prod_pwd', 'database': 'deepdive_prod'}\n"
     ]
    }
   ],
   "source": [
    "conf = {**conf_defaults, **conf_global, **conf_prod}\n",
    "print(conf)"
   ]
  },
  {
   "cell_type": "markdown",
   "id": "2b1ad104-a4c3-45af-94e4-ab47e1ae9522",
   "metadata": {},
   "source": [
    "#### Copying"
   ]
  },
  {
   "cell_type": "markdown",
   "id": "22cc2c90-432d-4ebc-a9c1-c3e5631e4e66",
   "metadata": {},
   "source": [
    "##### Shallow copies"
   ]
  },
  {
   "cell_type": "markdown",
   "id": "9cb09f5e-d757-47a6-94d1-7bae0a9720f8",
   "metadata": {},
   "source": [
    "Shallow copying creates a new container object whose keys and values are shared references with the original object. Updating the original will mutate the copy. But we *can* **insert and delete** without modifying the other because the container is different. \n",
    "\n",
    "The three ways to shallow copy are:\n",
    "\n",
    "- `d_copy = d.copy()`\n",
    "- `d_copy = {**d}`\n",
    "- `d_copy = dict(d)`"
   ]
  },
  {
   "cell_type": "markdown",
   "id": "1679fc19-4ee6-476b-95dc-3a2c5535e6d9",
   "metadata": {},
   "source": [
    "Therefore, we have to be careful if we have mutable objects in the **keys** and the values.\n",
    "\n",
    "Notice how I said **keys** above. You would think that you can't have mutable objects for **keys**. It turns out you can. See later on."
   ]
  },
  {
   "cell_type": "markdown",
   "id": "2b2ba734-5d12-4c16-8dbc-0da7cfe0e670",
   "metadata": {},
   "source": [
    "##### Deep copies"
   ]
  },
  {
   "cell_type": "markdown",
   "id": "99b01a5c-ec3b-4997-a5b9-f259b3f80831",
   "metadata": {},
   "source": [
    "There will be no shared references even in multi-nested dictionaries. The approach is `d_copy = d.deepcopy()`. This method is general - it works for custom objects, iterables, dictionaries etc (`from copy import deepcopy`)"
   ]
  },
  {
   "cell_type": "code",
   "execution_count": 53,
   "id": "1d9a19b9-ec11-4936-ac99-dc377d66e496",
   "metadata": {},
   "outputs": [],
   "source": [
    "from copy import deepcopy\n",
    "\n",
    "d1 = {\n",
    "    'id': 12345,\n",
    "    'person': {'name': 'John', 'age': 78},\n",
    "    'posts': [100, 105, 200]\n",
    "    }\n",
    "\n",
    "d2 = deepcopy(d1)"
   ]
  },
  {
   "cell_type": "code",
   "execution_count": 54,
   "id": "9522fa6f-8d55-431d-b2ff-aeecfb49d5bb",
   "metadata": {},
   "outputs": [],
   "source": [
    "d2['person']['name'] = 'John Cleese'\n",
    "d2['posts'].append(300)"
   ]
  },
  {
   "cell_type": "code",
   "execution_count": 55,
   "id": "7f597fc2-a978-4709-bb35-9c5be7946a85",
   "metadata": {},
   "outputs": [
    {
     "name": "stdout",
     "output_type": "stream",
     "text": [
      "{'id': 12345, 'person': {'name': 'John', 'age': 78}, 'posts': [100, 105, 200]}\n",
      "{'id': 12345, 'person': {'name': 'John Cleese', 'age': 78}, 'posts': [100, 105, 200, 300]}\n"
     ]
    }
   ],
   "source": [
    "print(d1)\n",
    "print(d2)"
   ]
  },
  {
   "cell_type": "markdown",
   "id": "9a38fc5e-f84e-4951-942f-fdd236b86f59",
   "metadata": {},
   "source": [
    "# 05 - Custom Classes and Hashing"
   ]
  },
  {
   "cell_type": "markdown",
   "id": "00d95501-117b-482e-96d9-369c8a9b6762",
   "metadata": {},
   "source": [
    "Consider the following class:"
   ]
  },
  {
   "cell_type": "code",
   "execution_count": 65,
   "id": "186fa6d3-b612-47b5-9b7c-daf74e9e1aee",
   "metadata": {},
   "outputs": [],
   "source": [
    "class Person:\n",
    "    def __init__(self, name):\n",
    "        self.name = name\n",
    "\n",
    "p1 = Person('john')\n",
    "p2 = Person('john')"
   ]
  },
  {
   "cell_type": "markdown",
   "id": "bc890914-e0fa-421b-afd0-202db6b050ee",
   "metadata": {},
   "source": [
    "By default, custom classes compare == if they have the same ID. In other words, if **iff** `p1 == p2` then `p1 is p2`."
   ]
  },
  {
   "cell_type": "code",
   "execution_count": 66,
   "id": "67b14a5e-6a21-4600-98c1-35b0ae4910c8",
   "metadata": {},
   "outputs": [
    {
     "data": {
      "text/plain": [
       "False"
      ]
     },
     "execution_count": 66,
     "metadata": {},
     "output_type": "execute_result"
    }
   ],
   "source": [
    "p1 == p2"
   ]
  },
  {
   "cell_type": "markdown",
   "id": "9cf433c3-0f2c-4c40-ab1f-a5b942cdab0e",
   "metadata": {},
   "source": [
    "By default, Python makes class instances hashable by hashing the ID of the instance. Therefore, if **iff** `p1 == p2` then `p1 is p2`, then `id(p1) == id(p2)` then `hash(p1) == hash(p2)`."
   ]
  },
  {
   "cell_type": "code",
   "execution_count": 67,
   "id": "677612bf-287d-4ef6-9a5b-d4cb8a121e4c",
   "metadata": {},
   "outputs": [
    {
     "data": {
      "text/plain": [
       "127613996201"
      ]
     },
     "execution_count": 67,
     "metadata": {},
     "output_type": "execute_result"
    }
   ],
   "source": [
    "hash(p1)"
   ]
  },
  {
   "cell_type": "markdown",
   "id": "f1da5d5d-abc7-4d19-8657-f1d2046e0160",
   "metadata": {},
   "source": [
    "As a result:"
   ]
  },
  {
   "cell_type": "code",
   "execution_count": 59,
   "id": "aa6646ee-0b89-4f7d-bf37-4dc442265a7c",
   "metadata": {},
   "outputs": [
    {
     "name": "stdout",
     "output_type": "stream",
     "text": [
      "78\n"
     ]
    }
   ],
   "source": [
    "d = {p1: 78}\n",
    "print(d[p1])"
   ]
  },
  {
   "cell_type": "code",
   "execution_count": 60,
   "id": "a50afeef-6932-40f4-aba1-bb297d20dc29",
   "metadata": {},
   "outputs": [
    {
     "ename": "KeyError",
     "evalue": "<__main__.Person object at 0x000001DB66F33850>",
     "output_type": "error",
     "traceback": [
      "\u001b[1;31m---------------------------------------------------------------------------\u001b[0m",
      "\u001b[1;31mKeyError\u001b[0m                                  Traceback (most recent call last)",
      "Cell \u001b[1;32mIn[60], line 1\u001b[0m\n\u001b[1;32m----> 1\u001b[0m \u001b[38;5;28mprint\u001b[39m(\u001b[43md\u001b[49m\u001b[43m[\u001b[49m\u001b[43mp2\u001b[49m\u001b[43m]\u001b[49m)\n",
      "\u001b[1;31mKeyError\u001b[0m: <__main__.Person object at 0x000001DB66F33850>"
     ]
    }
   ],
   "source": [
    "print(d[p2])"
   ]
  },
  {
   "cell_type": "markdown",
   "id": "82e2a6a3-3df3-4d38-96d2-5955b0ddb15e",
   "metadata": {},
   "source": [
    "That may not be want... \n",
    "\n",
    "It's somewhat unintuitive as we've seen that `t1 = (1, 2)` and `t2 = (1, 2)` will have the same hash value despite being different objects.\n",
    "\n",
    "To implement this behaviour is simple. All we need to do is override the `__eq__` ensuring that the comparison being made is of immutable objects such as the name which is a string."
   ]
  },
  {
   "cell_type": "code",
   "execution_count": 69,
   "id": "f34d4e36-6544-4bd6-9fec-218f96c03254",
   "metadata": {},
   "outputs": [],
   "source": [
    "class Person:\n",
    "    def __init__(self, name):\n",
    "        self.name = name\n",
    "\n",
    "    def __eq__(self, other):\n",
    "        if isinstance(other, Person):\n",
    "            return self.name == other.name\n",
    "        else:\n",
    "            return False\n",
    "\n",
    "p1 = Person('john')\n",
    "p2 = Person('john')"
   ]
  },
  {
   "cell_type": "code",
   "execution_count": 70,
   "id": "b7d0e17a-e78b-46b5-b642-13a48cb73c36",
   "metadata": {},
   "outputs": [
    {
     "name": "stdout",
     "output_type": "stream",
     "text": [
      "True\n"
     ]
    }
   ],
   "source": [
    "print(p1 == p2)"
   ]
  },
  {
   "cell_type": "markdown",
   "id": "2d16452e-2a01-4e05-a26d-77f03f80c20d",
   "metadata": {},
   "source": [
    "But once we implement `__eq__`, the class instance is no longer hashable:"
   ]
  },
  {
   "cell_type": "code",
   "execution_count": 71,
   "id": "14098230-80a9-4362-ae18-e0e0bfc54b19",
   "metadata": {},
   "outputs": [
    {
     "ename": "TypeError",
     "evalue": "unhashable type: 'Person'",
     "output_type": "error",
     "traceback": [
      "\u001b[1;31m---------------------------------------------------------------------------\u001b[0m",
      "\u001b[1;31mTypeError\u001b[0m                                 Traceback (most recent call last)",
      "Cell \u001b[1;32mIn[71], line 1\u001b[0m\n\u001b[1;32m----> 1\u001b[0m \u001b[38;5;28;43mhash\u001b[39;49m\u001b[43m(\u001b[49m\u001b[43mp1\u001b[49m\u001b[43m)\u001b[49m\n",
      "\u001b[1;31mTypeError\u001b[0m: unhashable type: 'Person'"
     ]
    }
   ],
   "source": [
    "hash(p1)"
   ]
  },
  {
   "cell_type": "markdown",
   "id": "ca3cbaf0-61d6-4d50-b399-e65e53d2f85d",
   "metadata": {},
   "source": [
    "This behaviour is understandable because the hash is determined by the ID. If we assume that `p1 == p2`, then `id(p1) != id(p2)` so `hash(p1) != hash(p2)` - but this violates as our initial assumption of `p1 == p2` implies that `hash(p1) == hash(p2)`."
   ]
  },
  {
   "cell_type": "markdown",
   "id": "4f37918f-bde7-414c-a73f-9827e631680e",
   "metadata": {},
   "source": [
    "If we want to define hashing for custom classes, all we need to do is implement `__hash__` and **ensure that it returns an integer** and if `a == b` then `__hash__(a) == __hash__(b)`.\n",
    "\n",
    "How do we indicate that the class is **not** hashable? We set the `__hash__` *attribute* to `None`; that is, `__hash__ = None`. This is infact what Python does when we implement the `__eq__` method. Note that this attribution is **not** the same as defining the function and returning `None`."
   ]
  },
  {
   "cell_type": "markdown",
   "id": "6122cd63-a4b2-4a97-b01e-917d983532e4",
   "metadata": {},
   "source": [
    "Very often we'll hash some particular defining attribute of the class instance, such as the name."
   ]
  },
  {
   "cell_type": "code",
   "execution_count": 72,
   "id": "9ecff333-7b68-47e6-8079-f63fef27836e",
   "metadata": {},
   "outputs": [],
   "source": [
    "class Person:\n",
    "    def __init__(self, name):\n",
    "        self.name = name\n",
    "\n",
    "    def __eq__(self, other):\n",
    "        if isinstance(other, Person):\n",
    "            return self.name == other.name\n",
    "        else:\n",
    "            return False\n",
    "\n",
    "    def __hash__(self):\n",
    "        return hash(self.name)\n",
    "\n",
    "p1 = Person('john')\n",
    "p2 = Person('john')"
   ]
  },
  {
   "cell_type": "code",
   "execution_count": 73,
   "id": "2572797e-8b99-46b2-87f1-5858b0c9ce99",
   "metadata": {},
   "outputs": [
    {
     "name": "stdout",
     "output_type": "stream",
     "text": [
      "78\n"
     ]
    }
   ],
   "source": [
    "d = {p1: 78}\n",
    "print(d[p1])"
   ]
  },
  {
   "cell_type": "markdown",
   "id": "8f96c01b-864f-4ca3-962f-9ff3e4d4c0df",
   "metadata": {},
   "source": [
    "We can now access `p1`'s key using `p2` because `hash(p1) == hash(p2)`: "
   ]
  },
  {
   "cell_type": "code",
   "execution_count": 74,
   "id": "dc0a4265-f2f0-458d-b09d-a9a120ad286e",
   "metadata": {},
   "outputs": [
    {
     "name": "stdout",
     "output_type": "stream",
     "text": [
      "78\n"
     ]
    }
   ],
   "source": [
    "print(d[p2])"
   ]
  }
 ],
 "metadata": {
  "kernelspec": {
   "display_name": "Python 3 (ipykernel)",
   "language": "python",
   "name": "python3"
  },
  "language_info": {
   "codemirror_mode": {
    "name": "ipython",
    "version": 3
   },
   "file_extension": ".py",
   "mimetype": "text/x-python",
   "name": "python",
   "nbconvert_exporter": "python",
   "pygments_lexer": "ipython3",
   "version": "3.10.4"
  }
 },
 "nbformat": 4,
 "nbformat_minor": 5
}
