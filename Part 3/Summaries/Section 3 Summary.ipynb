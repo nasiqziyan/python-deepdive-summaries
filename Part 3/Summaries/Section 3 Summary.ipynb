{
 "cells": [
  {
   "cell_type": "markdown",
   "id": "cebd9b19-3042-4647-93ee-9aaefe9bf567",
   "metadata": {},
   "source": [
    "# 01 - Creating Python Dictionaries"
   ]
  },
  {
   "cell_type": "markdown",
   "id": "49a6ca24-be44-48ed-b659-65cff0797f79",
   "metadata": {},
   "source": [
    "#### Literals"
   ]
  },
  {
   "cell_type": "markdown",
   "id": "eaf7d9e6-0346-4f0f-b5be-2fe691643737",
   "metadata": {},
   "source": [
    "For example:"
   ]
  },
  {
   "cell_type": "code",
   "execution_count": 1,
   "id": "7e0dd7d7-b6b3-40d1-8ad3-52c75b4eda0c",
   "metadata": {},
   "outputs": [],
   "source": [
    "d = {'john': ['John Cleese'],\n",
    "     (0, 0): 'origin',\n",
    "    }"
   ]
  },
  {
   "cell_type": "markdown",
   "id": "e8049f8f-0eb0-4b90-a4e9-a3bd7c381c6f",
   "metadata": {},
   "source": [
    "#### Constructor"
   ]
  },
  {
   "cell_type": "markdown",
   "id": "484f9482-835f-4db0-839c-75b70e20a4fe",
   "metadata": {},
   "source": [
    "This approach is less flexible than using literals because the keys must be a valid identifier name (e.g. variable, function, class names, etc). The key will be converted into a string. We cannot create a dictionary with a tuple as a key using this approach:\n",
    "\n",
    "It has the form `dict(key1=value1, key2=value2)`"
   ]
  },
  {
   "cell_type": "code",
   "execution_count": 8,
   "id": "991e6651-e88f-4bae-bd75-17efc8c68701",
   "metadata": {},
   "outputs": [],
   "source": [
    "d = dict(john=['John Cleese'], my_func='this is a function')"
   ]
  },
  {
   "cell_type": "markdown",
   "id": "1c65ae96-1919-4552-91c0-23eff00d3470",
   "metadata": {},
   "source": [
    "We can also use another form with the `dict()` constructor: `dict([(key1, value1), [key2, value2]])`. \n",
    "\n",
    "As you can see, the key-value pairs can be any iterables e.g. tuples, lists etc. Also they can be contained in any iterable. In the above, they are contained in a list."
   ]
  },
  {
   "cell_type": "code",
   "execution_count": 1,
   "id": "ae3d0234-9260-45c1-8ef6-9a7d37f80d74",
   "metadata": {},
   "outputs": [
    {
     "data": {
      "text/plain": [
       "{'a': 100, 'b': 200}"
      ]
     },
     "execution_count": 1,
     "metadata": {},
     "output_type": "execute_result"
    }
   ],
   "source": [
    "d = dict([('a', 100), ['b', 200]])\n",
    "d"
   ]
  },
  {
   "cell_type": "markdown",
   "id": "6af85e71-b409-4af3-ab13-3865697547c3",
   "metadata": {},
   "source": [
    "We can also pass dictionaries to `dict()`. This will produce a **shallow copy**:"
   ]
  },
  {
   "cell_type": "code",
   "execution_count": 2,
   "id": "7e204871-a86a-49b4-9d4b-3130a2ab2501",
   "metadata": {},
   "outputs": [
    {
     "data": {
      "text/plain": [
       "{'a': 1, 'b': 2, 'c': [3, 4, 5]}"
      ]
     },
     "execution_count": 2,
     "metadata": {},
     "output_type": "execute_result"
    }
   ],
   "source": [
    "d = {'a': 1, 'b': 2, 'c': [3, 4, 5]}\n",
    "\n",
    "copy = dict(d)\n",
    "d"
   ]
  },
  {
   "cell_type": "code",
   "execution_count": 3,
   "id": "f0d7d3e1-d6e0-4757-806c-83ac2ec0c2b1",
   "metadata": {},
   "outputs": [
    {
     "name": "stdout",
     "output_type": "stream",
     "text": [
      "{'a': 1, 'b': 2, 'c': [3, 4, 5, 100]}\n",
      "{'a': 1, 'b': 2, 'c': [3, 4, 5, 100]}\n"
     ]
    }
   ],
   "source": [
    "d['c'].append(100)\n",
    "\n",
    "print(d)\n",
    "print(copy)"
   ]
  },
  {
   "cell_type": "markdown",
   "id": "f7f7758a-3da2-46c1-86d9-47f7ce6d4b09",
   "metadata": {},
   "source": [
    "#### Dictionary Comprehensions"
   ]
  },
  {
   "cell_type": "markdown",
   "id": "efbf9c9e-647e-43ed-be0a-bf63b1d73d90",
   "metadata": {},
   "source": [
    "For example:"
   ]
  },
  {
   "cell_type": "code",
   "execution_count": 11,
   "id": "a0461089-7b69-42f7-a67b-2cdf65e85a2f",
   "metadata": {},
   "outputs": [
    {
     "data": {
      "text/plain": [
       "{'0': 0, '1': 1, '2': 4, '3': 9, '4': 16}"
      ]
     },
     "execution_count": 11,
     "metadata": {},
     "output_type": "execute_result"
    }
   ],
   "source": [
    "d = {str(i): i ** 2 for i in range(5)}\n",
    "d"
   ]
  },
  {
   "cell_type": "markdown",
   "id": "e9a3ed53-976e-4799-bc00-d87d05fa3332",
   "metadata": {},
   "source": [
    "Here's another example:"
   ]
  },
  {
   "cell_type": "code",
   "execution_count": 4,
   "id": "b872d773-54e2-42d7-93db-d0afc5b8cba7",
   "metadata": {},
   "outputs": [
    {
     "data": {
      "text/plain": [
       "{'a': 1, 'b': 2, 'c': 3}"
      ]
     },
     "execution_count": 4,
     "metadata": {},
     "output_type": "execute_result"
    }
   ],
   "source": [
    "keys = ['a', 'b', 'c']\n",
    "values = (1, 2, 3)\n",
    "\n",
    "d = {k: v for k, v in zip(keys, values)}\n",
    "d"
   ]
  },
  {
   "cell_type": "markdown",
   "id": "26fcd12e-ebcb-4f74-ad21-1197d0461610",
   "metadata": {},
   "source": [
    "#### `dict.fromkeys()`"
   ]
  },
  {
   "cell_type": "markdown",
   "id": "fb6b72d3-f55c-487c-8326-a934487b87c2",
   "metadata": {},
   "source": [
    "This created a dictionary with `specified keys` all having the **same value**. It has the form `dict.fromkeys(iterable, value=None)` where the iterable must have **hashable elements**. These elements will become the keys."
   ]
  },
  {
   "cell_type": "code",
   "execution_count": 13,
   "id": "c4cec738-bafc-4611-aa5e-54dbe7379968",
   "metadata": {},
   "outputs": [
    {
     "data": {
      "text/plain": [
       "{'a': 'N/A', (0, 0): 'N/A', 250: 'N/A'}"
      ]
     },
     "execution_count": 13,
     "metadata": {},
     "output_type": "execute_result"
    }
   ],
   "source": [
    "d = dict.fromkeys(['a', (0,0), 250], 'N/A')\n",
    "d"
   ]
  },
  {
   "cell_type": "markdown",
   "id": "6fa1801f-aec1-461b-860a-4f67bd70e9cf",
   "metadata": {},
   "source": [
    "Any iterable will do, so we can pass a generator expression if we like:"
   ]
  },
  {
   "cell_type": "code",
   "execution_count": 15,
   "id": "4f52dca5-e412-41b6-b2a2-19c8a7dce09c",
   "metadata": {},
   "outputs": [
    {
     "data": {
      "text/plain": [
       "{0: False, 1: False, 4: False, 9: False, 16: False}"
      ]
     },
     "execution_count": 15,
     "metadata": {},
     "output_type": "execute_result"
    }
   ],
   "source": [
    "d = dict.fromkeys((i**2 for i in range(5)), False)\n",
    "d"
   ]
  },
  {
   "cell_type": "markdown",
   "id": "e91b5c10-7cde-48b3-939d-8fa5a49d6cfc",
   "metadata": {},
   "source": [
    "# 02 - Common Operations"
   ]
  },
  {
   "cell_type": "markdown",
   "id": "dff05847-8171-4552-9d25-b4ca0dfee249",
   "metadata": {},
   "source": [
    "# 03 - Dictionary Views"
   ]
  },
  {
   "cell_type": "markdown",
   "id": "efb1bdbe-1527-4a39-9df5-357e8b055faf",
   "metadata": {},
   "source": [
    "# 04 - Updating, Merging and Copying"
   ]
  },
  {
   "cell_type": "markdown",
   "id": "9a38fc5e-f84e-4951-942f-fdd236b86f59",
   "metadata": {},
   "source": [
    "# 05 - Custom Classes and Hashing"
   ]
  },
  {
   "cell_type": "code",
   "execution_count": null,
   "id": "57b75cc1-ee9b-47fd-a09e-40fa3c4f869f",
   "metadata": {},
   "outputs": [],
   "source": []
  }
 ],
 "metadata": {
  "kernelspec": {
   "display_name": "Python 3 (ipykernel)",
   "language": "python",
   "name": "python3"
  },
  "language_info": {
   "codemirror_mode": {
    "name": "ipython",
    "version": 3
   },
   "file_extension": ".py",
   "mimetype": "text/x-python",
   "name": "python",
   "nbconvert_exporter": "python",
   "pygments_lexer": "ipython3",
   "version": "3.10.4"
  }
 },
 "nbformat": 4,
 "nbformat_minor": 5
}
