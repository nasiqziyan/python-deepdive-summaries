{
 "cells": [
  {
   "cell_type": "markdown",
   "id": "5d7aed8e-d5ff-44e4-8bc4-4bb4c3882e12",
   "metadata": {},
   "source": [
    "This is actually a section of short exercises, so we'll keep it here instead of inside the projects folder for simplicity."
   ]
  },
  {
   "cell_type": "markdown",
   "id": "9b80876c-4337-4dac-a70d-07961727855c",
   "metadata": {},
   "source": [
    "Consider the following classes:"
   ]
  },
  {
   "cell_type": "code",
   "execution_count": 1,
   "id": "1b214257-7018-4c3f-bef3-2270daaa89c2",
   "metadata": {},
   "outputs": [],
   "source": [
    "class Stock:\n",
    "    def __init__(self, symbol, date, open, high, low, close, volume):\n",
    "        self.symbol = symbol\n",
    "        self.date = date\n",
    "        self.open = open\n",
    "        self.high = high\n",
    "        self.low = low\n",
    "        self.close = close\n",
    "        self.volume = volume\n",
    "        \n",
    "class Trade:\n",
    "    def __init__(self, symbol, timestamp, order, price, volume, commission):\n",
    "        self.symbol = symbol\n",
    "        self.timestamp = timestamp\n",
    "        self.order = order\n",
    "        self.price = price\n",
    "        self.commission = commission\n",
    "        self.volume = volume"
   ]
  },
  {
   "cell_type": "markdown",
   "id": "a1d1044d-428f-4b00-8edd-6d3c99ccead0",
   "metadata": {},
   "source": [
    "#### Exercise 1"
   ]
  },
  {
   "cell_type": "markdown",
   "id": "1abb5766-997b-4524-af2b-265a44fb0998",
   "metadata": {},
   "source": [
    "Given the above class, write a custom `JSONEncoder` class to **serialize** dictionaries that contain instances of these particular classes. Keep in mind that you will want to deserialize the data too - so you will need some technique to indicate the object type in your serialization."
   ]
  },
  {
   "cell_type": "markdown",
   "id": "b3f52f9a-1a9d-4fdc-aab0-bde769b2f83a",
   "metadata": {},
   "source": [
    "For example you may have an object such as this one that needs to be serialized:"
   ]
  },
  {
   "cell_type": "code",
   "execution_count": 2,
   "id": "96ccab78-340b-4ab5-8023-d684f3bb6bd5",
   "metadata": {},
   "outputs": [],
   "source": [
    "from datetime import date, datetime\n",
    "from decimal import Decimal\n",
    "\n",
    "activity = {\n",
    "    \"quotes\": [\n",
    "        Stock('TSLA', date(2018, 11, 22), \n",
    "              Decimal('338.19'), Decimal('338.64'), Decimal('337.60'), Decimal('338.19'), 365_607),\n",
    "        Stock('AAPL', date(2018, 11, 22), \n",
    "              Decimal('176.66'), Decimal('177.25'), Decimal('176.64'), Decimal('176.78'), 3_699_184),\n",
    "        Stock('MSFT', date(2018, 11, 22), \n",
    "              Decimal('103.25'), Decimal('103.48'), Decimal('103.07'), Decimal('103.11'), 4_493_689)\n",
    "    ],\n",
    "    \n",
    "    \"trades\": [\n",
    "        Trade('TSLA', datetime(2018, 11, 22, 10, 5, 12), 'buy', Decimal('338.25'), 100, Decimal('9.99')),\n",
    "        Trade('AAPL', datetime(2018, 11, 22, 10, 30, 5), 'sell', Decimal('177.01'), 20, Decimal('9.99'))\n",
    "    ]\n",
    "}"
   ]
  },
  {
   "cell_type": "markdown",
   "id": "773c7bc5-0183-4e3b-8872-430b5fd22d18",
   "metadata": {},
   "source": [
    "#### Solution"
   ]
  },
  {
   "cell_type": "markdown",
   "id": "d8d5440c-8f39-476a-b2ce-80b1bf8f702b",
   "metadata": {},
   "source": [
    "Here is a solution different to the one provided in the video. It is based off the solution found in the comments under the Solution video (61) which uses `jsonschema` for validation and `@singledispatch` for handling serialisation of the different types. \n",
    "\n",
    "To keep things simple, we'll only implement the `@singledispatch` side of that solution."
   ]
  },
  {
   "cell_type": "markdown",
   "id": "001469eb-bd11-4805-9f3a-d6163988acc2",
   "metadata": {},
   "source": [
    "Here's our plan:\n",
    "\n",
    "1. Implement `as_dict()` methods to both of our classes - this will be used to tell our JSONEncoder what to do when it comes across the unfamiliar `Stock`/`Trade` \"type\". We will not typecast any values yet; `self.date` will be a `date` type object.\n",
    "\n",
    "2. Add an additional key to the `as_dict()` methods to indicate what class this data came from - this will help with serialising it back to the correct class in the next exercise.\n",
    "\n",
    "3. Create a `CustomJSONEncoder` class and inside that, create a `@singledispatchmethod` function  for which we'll register all of our types with their desired serialisation behaviour.\n",
    "\n",
    "4. In our `@singledispatchmethod` function, return str(arg) - this is the default behaviour if an unexpected type is received.\n",
    "\n",
    "6. Return this `@singledispatchmethod` function in our `default(self, arg)` method inside our `CustomJSONEncoder` class - when `json.dumps()` is called and a type that json doesn't know how to serialise appears, this `default(self, arg)` function will be called to the rescue."
   ]
  },
  {
   "cell_type": "code",
   "execution_count": 3,
   "id": "5475eb89-5b64-4343-8cca-088a1d4fe2c8",
   "metadata": {},
   "outputs": [],
   "source": [
    "# STEP 1, 2\n",
    "\n",
    "class Stock:\n",
    "    def __init__(self, symbol, date, open, high, low, close, volume):\n",
    "        self.symbol = symbol\n",
    "        self.date = date\n",
    "        self.open = open\n",
    "        self.high = high\n",
    "        self.low = low\n",
    "        self.close = close\n",
    "        self.volume = volume\n",
    "\n",
    "    def as_dict(self):\n",
    "        return dict(symbol=self.symbol, date=self.date, open=self.open, high=self.high, low=self.low, close=self.close, volume=self.volume, object=self.__class__.__name__)\n",
    "        \n",
    "class Trade:\n",
    "    def __init__(self, symbol, timestamp, order, price, volume, commission):\n",
    "        self.symbol = symbol\n",
    "        self.timestamp = timestamp\n",
    "        self.order = order\n",
    "        self.price = price\n",
    "        self.commission = commission\n",
    "        self.volume = volume\n",
    "\n",
    "    def as_dict(self):\n",
    "        return dict(symbol=self.symbol, timestamp=self.timestamp, order=self.order, price=self.price, commission=self.commission, volume=self.volume, object=self.__class__.__name__)"
   ]
  },
  {
   "cell_type": "code",
   "execution_count": 4,
   "id": "410cd741-18a4-4f4a-ba0a-6038ee6d086f",
   "metadata": {},
   "outputs": [],
   "source": [
    "import json\n",
    "from datetime import date, datetime\n",
    "from decimal import Decimal\n",
    "\n",
    "activity = {\n",
    "    \"quotes\": [\n",
    "        Stock('TSLA', date(2018, 11, 22), \n",
    "              Decimal('338.19'), Decimal('338.64'), Decimal('337.60'), Decimal('338.19'), 365_607),\n",
    "        Stock('AAPL', date(2018, 11, 22), \n",
    "              Decimal('176.66'), Decimal('177.25'), Decimal('176.64'), Decimal('176.78'), 3_699_184),\n",
    "        Stock('MSFT', date(2018, 11, 22), \n",
    "              Decimal('103.25'), Decimal('103.48'), Decimal('103.07'), Decimal('103.11'), 4_493_689)\n",
    "    ],\n",
    "    \n",
    "    \"trades\": [\n",
    "        Trade('TSLA', datetime(2018, 11, 22, 10, 5, 12), 'buy', Decimal('338.25'), 100, Decimal('9.99')),\n",
    "        Trade('AAPL', datetime(2018, 11, 22, 10, 30, 5), 'sell', Decimal('177.01'), 20, Decimal('9.99'))\n",
    "    ]\n",
    "}"
   ]
  },
  {
   "cell_type": "code",
   "execution_count": 5,
   "id": "c21eb35c-56e6-48d1-871d-a7076f7e921c",
   "metadata": {},
   "outputs": [],
   "source": [
    "# STEP 3, 4, 5, 6\n",
    "\n",
    "from functools import singledispatchmethod\n",
    "import json\n",
    "from datetime import date, datetime\n",
    "from decimal import Decimal\n",
    "\n",
    "class CustomJSONEncoder(json.JSONEncoder):\n",
    "    def default(self, arg):\n",
    "        return self.serialise_obj(arg)\n",
    "\n",
    "    @singledispatchmethod\n",
    "    def serialise_obj(self, obj):\n",
    "        return str(obj)  # default behaviour\n",
    "\n",
    "    @serialise_obj.register(date)\n",
    "    def _(self, arg):\n",
    "        return arg.isoformat()\n",
    "\n",
    "    @serialise_obj.register(datetime)\n",
    "    def _(self, arg):\n",
    "        return arg.isoformat()\n",
    "\n",
    "    @serialise_obj.register(Decimal)\n",
    "    def _(self, arg):\n",
    "        return str(arg)\n",
    "\n",
    "    @serialise_obj.register(Stock)\n",
    "    @serialise_obj.register(Trade)\n",
    "    def _(self, arg):\n",
    "        return arg.as_dict()\n",
    "\n"
   ]
  },
  {
   "cell_type": "code",
   "execution_count": 6,
   "id": "cf2efd98-5cf5-4928-9936-ba187adce28b",
   "metadata": {},
   "outputs": [
    {
     "name": "stdout",
     "output_type": "stream",
     "text": [
      "{\n",
      "  \"quotes\": [\n",
      "    {\n",
      "      \"symbol\": \"TSLA\",\n",
      "      \"date\": \"2018-11-22\",\n",
      "      \"open\": \"338.19\",\n",
      "      \"high\": \"338.64\",\n",
      "      \"low\": \"337.60\",\n",
      "      \"close\": \"338.19\",\n",
      "      \"volume\": 365607,\n",
      "      \"object\": \"Stock\"\n",
      "    },\n",
      "    {\n",
      "      \"symbol\": \"AAPL\",\n",
      "      \"date\": \"2018-11-22\",\n",
      "      \"open\": \"176.66\",\n",
      "      \"high\": \"177.25\",\n",
      "      \"low\": \"176.64\",\n",
      "      \"close\": \"176.78\",\n",
      "      \"volume\": 3699184,\n",
      "      \"object\": \"Stock\"\n",
      "    },\n",
      "    {\n",
      "      \"symbol\": \"MSFT\",\n",
      "      \"date\": \"2018-11-22\",\n",
      "      \"open\": \"103.25\",\n",
      "      \"high\": \"103.48\",\n",
      "      \"low\": \"103.07\",\n",
      "      \"close\": \"103.11\",\n",
      "      \"volume\": 4493689,\n",
      "      \"object\": \"Stock\"\n",
      "    }\n",
      "  ],\n",
      "  \"trades\": [\n",
      "    {\n",
      "      \"symbol\": \"TSLA\",\n",
      "      \"timestamp\": \"2018-11-22T10:05:12\",\n",
      "      \"order\": \"buy\",\n",
      "      \"price\": \"338.25\",\n",
      "      \"commission\": \"9.99\",\n",
      "      \"volume\": 100,\n",
      "      \"object\": \"Trade\"\n",
      "    },\n",
      "    {\n",
      "      \"symbol\": \"AAPL\",\n",
      "      \"timestamp\": \"2018-11-22T10:30:05\",\n",
      "      \"order\": \"sell\",\n",
      "      \"price\": \"177.01\",\n",
      "      \"commission\": \"9.99\",\n",
      "      \"volume\": 20,\n",
      "      \"object\": \"Trade\"\n",
      "    }\n",
      "  ]\n",
      "}\n"
     ]
    }
   ],
   "source": [
    "print(json.dumps(activity, cls=CustomJSONEncoder, indent=2))"
   ]
  },
  {
   "cell_type": "markdown",
   "id": "7e265941-1165-4ab1-8e96-d88a6b141e7c",
   "metadata": {},
   "source": [
    "#### Exercise 2"
   ]
  },
  {
   "cell_type": "markdown",
   "id": "8f667140-877a-4a89-a6a1-1e50acc3b15c",
   "metadata": {},
   "source": [
    "Write code to reverse the serialization you just created. Write a custom decoder that can deserialize a JSON structure containing `Stock` and `Trade` objects. "
   ]
  },
  {
   "cell_type": "markdown",
   "id": "7d18e851-759b-4aef-b8ac-81840aaa6558",
   "metadata": {},
   "source": [
    "#### Solution"
   ]
  },
  {
   "cell_type": "markdown",
   "id": "f2d11c91-52f7-4cd9-9dfb-3adccad5c6fa",
   "metadata": {},
   "source": [
    "Here's our plan:\n",
    "\n",
    "1. Update the `Stock` and `Trade` classes (the ones made after Exercise 1) with an `__eq__` method matching on all elements (note that we can use compare equal on the `as_dict` methods of each class instance instead of individually comparing each property. This step is so we can ensure that we retrieve the original object after serialising + deserialising.\n",
    "2. Write a utility function `decode_stock()` that takes a dictionary assuming it used to be a `Stock` object and recreate a `Stock` object, parsing each key's value back to its original type.\n",
    "3. Do exactly the same for `Trade`.\n",
    "4. Write a utility function called `decode_financials` which will take a dictionary and look for the `'object'` key. If `d['object'] == 'Stock'`, call `decode_stock()`, and likewise for `'Trade'`. If it's neither, return the original dictionary. \n",
    "5. Subclass `json.JSONDecoder` and override the `decode(arg)` method.\n",
    "6. Write another utility function called `parse_financials()` - this will be our recursive function that will be called in `decode()`. Here's how it will deal with its argument:\n",
    "    - if it's a dictionary, call `decode_financials()` - this will return a `Stock` or `Trade` object, or the original dictionary.\n",
    "    - if it's still a dictionary (from calling the above), call this function on all values in the dictionary - there could be a `Stock`/`Trade` object within.\n",
    "    - if it's a list, enumerate it and call the this function on each element, replacing the original element.\n",
    "    - if it's anything else, return it as is.\n",
    "7. In the `decode()` method, first run `json.loads(arg)` to handle the rough initial parsing and then run your `parse_financials()`\n"
   ]
  },
  {
   "cell_type": "code",
   "execution_count": 7,
   "id": "41853cb7-b870-4e98-9bae-c6414813919a",
   "metadata": {},
   "outputs": [],
   "source": [
    "# STEP 1\n",
    "class Stock:\n",
    "    def __init__(self, symbol, date, open, high, low, close, volume):\n",
    "        self.symbol = symbol\n",
    "        self.date = date\n",
    "        self.open = open\n",
    "        self.high = high\n",
    "        self.low = low\n",
    "        self.close = close\n",
    "        self.volume = volume\n",
    "\n",
    "    def as_dict(self):\n",
    "        return dict(symbol=self.symbol, date=self.date, open=self.open, high=self.high, low=self.low, close=self.close, volume=self.volume, object=self.__class__.__name__)\n",
    "\n",
    "    def __eq__(self, other):\n",
    "        return isinstance(other, Stock) and self.as_dict() == other.as_dict()\n",
    "        \n",
    "class Trade:\n",
    "    def __init__(self, symbol, timestamp, order, price, volume, commission):\n",
    "        self.symbol = symbol\n",
    "        self.timestamp = timestamp\n",
    "        self.order = order\n",
    "        self.price = price\n",
    "        self.commission = commission\n",
    "        self.volume = volume\n",
    "\n",
    "    def as_dict(self):\n",
    "        return dict(symbol=self.symbol, timestamp=self.timestamp, order=self.order, price=self.price, commission=self.commission, volume=self.volume, object=self.__class__.__name__)\n",
    "\n",
    "    def __eq__(self, other):\n",
    "        return isinstance(other, Trade) and self.as_dict() == other.as_dict()"
   ]
  },
  {
   "cell_type": "code",
   "execution_count": 8,
   "id": "7a6f2628-ed7e-4bb4-b8a0-7861773c0b68",
   "metadata": {},
   "outputs": [],
   "source": [
    "# STEP 2\n",
    "from datetime import datetime\n",
    "from decimal import Decimal\n",
    "\n",
    "def decode_stock(d):\n",
    "    return Stock(\n",
    "        symbol=str(d['symbol']),  # not necessary since json.loads would've already ensured this, but nice for readability/reminder\n",
    "        date=datetime.strptime(d['date'], '%Y-%m-%d').date(),\n",
    "        open=Decimal(d['open']),\n",
    "        high=Decimal(d['high']),\n",
    "        low=Decimal(d['low']),\n",
    "        close=Decimal(d['close']),\n",
    "        volume=int(d['volume'])  # not necessary since ...\n",
    "    )"
   ]
  },
  {
   "cell_type": "code",
   "execution_count": 9,
   "id": "100ff0ba-f491-4a94-9243-1dfd1da79b88",
   "metadata": {},
   "outputs": [],
   "source": [
    "# STEP 3\n",
    "def decode_trade(d):\n",
    "    return Trade(\n",
    "        symbol=str(d['symbol']),  # not necessary since json.loads would've already ensured this, but nice for readability/reminder\n",
    "        timestamp=datetime.strptime(d['timestamp'], '%Y-%m-%dT%H:%M:%S'),\n",
    "        order=str(d['order']),  # not necessary since ...\n",
    "        price=Decimal(d['price']),\n",
    "        commission=Decimal(d['commission']),\n",
    "        volume=int(d['volume'])  # not necessary since ...\n",
    "    )"
   ]
  },
  {
   "cell_type": "code",
   "execution_count": 10,
   "id": "c15642e8-1387-4122-87d9-96edb8a5d7c2",
   "metadata": {},
   "outputs": [],
   "source": [
    "# STEP 4\n",
    "def decode_financials(d):\n",
    "    object_type = d.get('object', None)\n",
    "    if object_type == 'Stock':\n",
    "        return decode_stock(d)\n",
    "    elif object_type == 'Trade':\n",
    "        return decode_trade(d)\n",
    "    else:\n",
    "        return d"
   ]
  },
  {
   "cell_type": "code",
   "execution_count": 11,
   "id": "04e56747-37c7-4013-8532-c540f7071f87",
   "metadata": {},
   "outputs": [],
   "source": [
    "# STEP 5, 6, 7\n",
    "import json\n",
    "\n",
    "class CustomJSONDecoder(json.JSONDecoder):\n",
    "    def decode(self, arg):\n",
    "        obj = json.loads(arg)\n",
    "        return self.parse_financials(obj)\n",
    "\n",
    "    def parse_financials(self, obj):\n",
    "        if isinstance(obj, dict):\n",
    "            obj = decode_financials(obj)\n",
    "            if isinstance(obj, dict):\n",
    "                for key, value in obj.items():\n",
    "                    obj[key] = self.parse_financials(value)\n",
    "\n",
    "            \n",
    "        elif isinstance(obj, list):\n",
    "            for idx, elem in enumerate(obj):\n",
    "                obj[idx] = self.parse_financials(elem)\n",
    "\n",
    "        return obj"
   ]
  },
  {
   "cell_type": "markdown",
   "id": "237b402d-59d0-448b-a95b-8dffa5caff5e",
   "metadata": {},
   "source": [
    "Now that we're done writing the setup, we will take the initial data, serialise it, deserialise it, and then compare it to initial. "
   ]
  },
  {
   "cell_type": "code",
   "execution_count": 13,
   "id": "4ceb9620-3aa8-49af-8aa6-ea17d1bc3687",
   "metadata": {},
   "outputs": [],
   "source": [
    "activity = {\n",
    "    \"quotes\": [\n",
    "        Stock('TSLA', date(2018, 11, 22), \n",
    "              Decimal('338.19'), Decimal('338.64'), Decimal('337.60'), Decimal('338.19'), 365_607),\n",
    "        Stock('AAPL', date(2018, 11, 22), \n",
    "              Decimal('176.66'), Decimal('177.25'), Decimal('176.64'), Decimal('176.78'), 3_699_184),\n",
    "        Stock('MSFT', date(2018, 11, 22), \n",
    "              Decimal('103.25'), Decimal('103.48'), Decimal('103.07'), Decimal('103.11'), 4_493_689)\n",
    "    ],\n",
    "    \n",
    "    \"trades\": [\n",
    "        Trade('TSLA', datetime(2018, 11, 22, 10, 5, 12), 'buy', Decimal('338.25'), 100, Decimal('9.99')),\n",
    "        Trade('AAPL', datetime(2018, 11, 22, 10, 30, 5), 'sell', Decimal('177.01'), 20, Decimal('9.99'))\n",
    "    ]\n",
    "}"
   ]
  },
  {
   "cell_type": "code",
   "execution_count": 14,
   "id": "a8914da0-01d2-4d12-bf4e-081eb1165fcd",
   "metadata": {},
   "outputs": [],
   "source": [
    "class CustomJSONEncoder(json.JSONEncoder):\n",
    "    def default(self, arg):\n",
    "        return self.serialise_obj(arg)\n",
    "\n",
    "    @singledispatchmethod\n",
    "    def serialise_obj(self, obj):\n",
    "        return str(obj)  # default behaviour\n",
    "\n",
    "    @serialise_obj.register(date)\n",
    "    def _(self, arg):\n",
    "        return arg.isoformat()\n",
    "\n",
    "    @serialise_obj.register(datetime)\n",
    "    def _(self, arg):\n",
    "        return arg.isoformat()\n",
    "\n",
    "    @serialise_obj.register(Decimal)\n",
    "    def _(self, arg):\n",
    "        return str(arg)\n",
    "\n",
    "    @serialise_obj.register(Stock)\n",
    "    @serialise_obj.register(Trade)\n",
    "    def _(self, arg):\n",
    "        return arg.as_dict()"
   ]
  },
  {
   "cell_type": "code",
   "execution_count": 19,
   "id": "a79bd0eb-372f-4760-9535-d701e9b6c578",
   "metadata": {},
   "outputs": [
    {
     "name": "stdout",
     "output_type": "stream",
     "text": [
      "True\n"
     ]
    }
   ],
   "source": [
    "encoded = json.dumps(activity, cls=CustomJSONEncoder, indent=2)\n",
    "decoded = json.loads(encoded, cls=CustomJSONDecoder)\n",
    "print(decoded == activity)"
   ]
  }
 ],
 "metadata": {
  "kernelspec": {
   "display_name": "Python 3 (ipykernel)",
   "language": "python",
   "name": "python3"
  },
  "language_info": {
   "codemirror_mode": {
    "name": "ipython",
    "version": 3
   },
   "file_extension": ".py",
   "mimetype": "text/x-python",
   "name": "python",
   "nbconvert_exporter": "python",
   "pygments_lexer": "ipython3",
   "version": "3.10.4"
  }
 },
 "nbformat": 4,
 "nbformat_minor": 5
}
