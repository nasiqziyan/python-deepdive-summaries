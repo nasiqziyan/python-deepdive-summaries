{
 "cells": [
  {
   "cell_type": "markdown",
   "id": "78e6353e-e4a0-427d-96b6-8ed91487a0a3",
   "metadata": {},
   "source": [
    "# 01 - Introduction"
   ]
  },
  {
   "cell_type": "markdown",
   "id": "7840fa14-b534-4899-925d-655e223e1259",
   "metadata": {},
   "source": [
    "Dictionaries are everywhere in Python. All of the following are dictionaries: modules, classes, objects (class instances), scopes, sets, your own dictionaries."
   ]
  },
  {
   "cell_type": "markdown",
   "id": "a4b50a78-3d24-4446-925b-eca759f233ab",
   "metadata": {},
   "source": [
    "Here are two main points:\n",
    "- dictionary keys must be **hashable**.\n",
    "- dictionary key order is **maintained** (in order of insertion)."
   ]
  },
  {
   "cell_type": "markdown",
   "id": "88255735-78f6-4517-81cf-148068ac6cbd",
   "metadata": {},
   "source": [
    "# 02 - Associative Arrays"
   ]
  },
  {
   "cell_type": "markdown",
   "id": "5ee533bd-e74c-4050-a2eb-61a3611a1bd1",
   "metadata": {},
   "source": [
    "Let's say we have the following list:\n",
    "```python\n",
    "persons = [John, Eric, Michael, Graham]\n",
    "```\n",
    "where each name is a `Person` object. How do we retrieve `Michael`? We have to remember its index in the list which is 2. Therefore the index behaves like a key to the different objects in the list. Of course, remembering numbers is not a great idea. So, let's consider this following list: \n",
    "```python\n",
    "persons = [\n",
    "    ('john', John),\n",
    "    ('eric', Eric),\n",
    "    ('michael', Michael),\n",
    "    ('graham', Graham)\n",
    "]\n",
    "```\n",
    "To get the `Michael` Person object, we need look up the key `'michael'` and return the associated value. This is better, but we still have to scan through the entire list to find our key. "
   ]
  },
  {
   "cell_type": "markdown",
   "id": "a6b83507-3bdb-4c89-acb8-62490cb78802",
   "metadata": {},
   "source": [
    "How could we improve it? Let's consider another approach. We'll split our list of tuples into two lists:\n",
    "```python\n",
    "keys = ['john', 'eric', 'michael', 'graham']\n",
    "persons = [John, Eric, Michael, Graham]\n",
    "```\n",
    "Then, we can define a function `h` such that `h('john') -> 0`, `h('eric') -> 1`, `h('michael') -> 2` and `h('graham') -> 3`.\n",
    "\n",
    "To get Michael now, we would perform `persons[h('michael')] --> persons[2] --> Michael`. "
   ]
  },
  {
   "cell_type": "markdown",
   "id": "750d4919-86f5-4111-8d35-888a22d27cdc",
   "metadata": {},
   "source": [
    "So what are **associative arrays**?\n",
    "\n",
    "They are an **abstract data structure** that associates (unique) **keys** to **values**. \n",
    "\n",
    "They are also called **maps** or **dictionaries**.\n",
    "\n",
    "They can be implemented in a number of concrete ways.\n",
    "\n",
    "Any of these ways should support: \n",
    "- **adding/removing key-value pairs**\n",
    "- **modifying an associated value**\n",
    "- **looking up a value via its key** (the more efficient this step is, the more efficient our dictionaries will be)."
   ]
  },
  {
   "cell_type": "markdown",
   "id": "5137f8fd-af65-453e-876e-03deda76010c",
   "metadata": {},
   "source": [
    "# 03 - Hash Maps (Hash Tables)"
   ]
  },
  {
   "cell_type": "markdown",
   "id": "bb0817b1-d3db-4158-bf3b-12a6ae3a0a60",
   "metadata": {},
   "source": [
    "This is one concrete implementation of associative arrays.\n",
    "\n",
    "Suppose we have an array of 7 slots (labelled 0-6), initially containing nothing. This is our hash map/hash table/dictionary. We want to store the aforementioned Person objects.\n",
    "\n",
    "We'll define a function that'll return an integer value given a string e.g 'john'.\n",
    "\n",
    "We need to ensure:\n",
    "- the value will be unique for each given string (this is the hard bit)\n",
    "- is between 0 and 6\n",
    "- always returns the same integer for the same string (deterministic)"
   ]
  },
  {
   "cell_type": "markdown",
   "id": "b378d8e4-c256-4f4c-b975-3e5b75002a61",
   "metadata": {},
   "source": [
    "A **hash function** is a function in the mathematical sense such that if `x = y`, `f(x) = f(y)`.\n",
    "\n",
    "It maps a set (domain, D) of arbitrary size (possibly infinite) to another (smaller) set of fixed size (range, R)\n",
    "\n",
    "`h: D -> R where X(R) < X(D)` (`X` is chi and it's the cardinality of the set, i.e. the number of elements in the set). "
   ]
  },
  {
   "cell_type": "markdown",
   "id": "d80ec247-64a2-415a-b042-65a1a88692a2",
   "metadata": {},
   "source": [
    "Let's drop our first requirement that we mentioned above by now allowing getting the **same output** for **different keys**, e.g. `h('john') -> 15` and `h('michael') -> 15`."
   ]
  },
  {
   "cell_type": "markdown",
   "id": "e90bd62f-4e04-4fce-8512-5af829ebfc09",
   "metadata": {},
   "source": [
    "Let's write a simple hash function that's based on the **length** of the key:"
   ]
  },
  {
   "cell_type": "code",
   "execution_count": 2,
   "id": "c7e614c2-541f-48a9-992a-3ffad817e9d7",
   "metadata": {},
   "outputs": [
    {
     "name": "stdout",
     "output_type": "stream",
     "text": [
      "9\n",
      "4\n",
      "4\n"
     ]
    }
   ],
   "source": [
    "def h(key, num_slots):\n",
    "    return len(key) % num_slots\n",
    "\n",
    "print(h('alexander', 11))\n",
    "print(h('john', 11))\n",
    "print(h('eric', 11))"
   ]
  },
  {
   "cell_type": "markdown",
   "id": "9bfd09bb-ebe2-4153-9b50-a5c36dab47c1",
   "metadata": {},
   "source": [
    "Here we have a **collision**."
   ]
  },
  {
   "cell_type": "markdown",
   "id": "e6bab0ef-2c21-4d17-a9d1-211d020b52ef",
   "metadata": {},
   "source": [
    "Let's write another hash function that uses the ord function (ASCII value from character):"
   ]
  },
  {
   "cell_type": "code",
   "execution_count": 7,
   "id": "81e8b7e9-4531-4050-9219-fa76cee53281",
   "metadata": {},
   "outputs": [
    {
     "name": "stdout",
     "output_type": "stream",
     "text": [
      "3\n",
      "1\n",
      "4\n",
      "3\n"
     ]
    }
   ],
   "source": [
    "def h(key, num_slots):\n",
    "    total = sum(ord(c) for c in key)\n",
    "    return total % num_slots\n",
    "\n",
    "print(h('alexander', 5))\n",
    "print(h('john', 5))\n",
    "print(h('eric', 5))\n",
    "print(h('michael', 5))"
   ]
  },
  {
   "cell_type": "markdown",
   "id": "9a7a5e22-1f6b-4469-902c-be175c27e875",
   "metadata": {},
   "source": [
    "**Dealing with Collisions**\n",
    "\n",
    "There are numerous ways but we'll show two. The first is:"
   ]
  },
  {
   "cell_type": "markdown",
   "id": "c5652731-b4c9-407e-b4db-990505ff4564",
   "metadata": {},
   "source": [
    "**Chaining**:\n",
    "\n",
    "We'll store the collided key-value pair as a list of lists/tuples. Using the last example:\n",
    "```python\n",
    "0 -> \n",
    "1 -> ['john', John]\n",
    "2 -> \n",
    "3 -> [['alexander', Alexander], ['michael', Michael]]\n",
    "4 -> ['eric', Eric]\n",
    "```\n",
    "Now, when `h['michael']` returns 3, we need to iterate through each item until we find the list whose first element is `'michael'`. "
   ]
  },
  {
   "cell_type": "markdown",
   "id": "fea4cc4c-ac91-4e5e-babf-6c291693569f",
   "metadata": {},
   "source": [
    "**Probing (linear)**\n",
    "\n",
    "Now, each key returns a value and a probe sequence. This sequence value starts from the value and increases incrementally until we've covered all the numbers. This probe sequence is also deterministic, so if `h('alexander', 5) -> 3`, then the probe sequence associated with `3` is **always** `3 -> 4 -> 0 -> 1 -> 2`.\n",
    "\n",
    "Let's apply it to our case above:\n",
    "```\n",
    "h('alexander', 5) -> 3 : Sequence 3 -> 4 -> 0 -> 1 -> 2\n",
    "h('john', 5) ->      1 : Sequence 1 -> 2 -> 3 -> 4 -> 0\n",
    "h('eric', 5) ->      4 : Sequence 4 -> 0 -> 1 -> 2 -> 3\n",
    "h('michael', 5) ->   3 : Sequence 3 -> 4 -> 0 -> 1 -> 2\n",
    "h('graham', 5) ->    4 : Sequence 4 -> 0 -> 1 -> 2 -> 3\n",
    "```\n",
    "\n",
    "The first three are fine; we have no collisions.\n",
    "```python\n",
    "0 -> \n",
    "1 -> ['john', John]\n",
    "2 -> \n",
    "3 -> ['alexander', Alexander]\n",
    "4 -> ['eric', Eric]\n",
    "```\n",
    "But for `'michael'`, we have a collision. What we do is we go through the probe sequence until we land on a value that is not taken. In the sequence `3 -> 4 -> 0 -> 1 -> 2`, `3` and `4` are taken so `'michael'` gets a value of `0`.\n",
    "\n",
    "For `'graham'`, we also have a collision. In its sequence of `4 -> 0 -> 1 -> 2 -> 3`, `4`, `0` and `1` are all taken so it gets a value of `2`\n",
    "```python\n",
    "0 -> ['michael', Michael]\n",
    "1 -> ['john', John]\n",
    "2 -> ['graham', Graham]\n",
    "3 -> ['alexander', Alexander]\n",
    "4 -> ['eric', Eric]\n",
    "```\n"
   ]
  },
  {
   "cell_type": "markdown",
   "id": "6d6427b5-e74c-401d-b659-f89a3174c087",
   "metadata": {},
   "source": [
    "If we were to look up the key `'michael'` after having added `'alexander'`, we would see if `'michael'` is at position `3`. It isn't, so we continue through the probe sequence. Is it at `4`? No, so move onto `0`, and that's where we find it."
   ]
  },
  {
   "cell_type": "markdown",
   "id": "856388e2-ba18-4dd7-95a8-207403824916",
   "metadata": {},
   "source": [
    "**Sizing Issues**\n",
    "\n",
    "When it comes to creating a hash table, we start small and grow it as needed. But resizing is expensive because the hash values will change.\n",
    "\n",
    "Deleting pairs also makes things much more complicated but we won't worry about that for now."
   ]
  },
  {
   "cell_type": "markdown",
   "id": "a4e03dcb-7e91-443e-8643-933ff3fe634e",
   "metadata": {},
   "source": [
    "# 04 - Python Dictionaries"
   ]
  },
  {
   "cell_type": "markdown",
   "id": "d848e56d-f0a2-44aa-91f1-ae4524cc6e49",
   "metadata": {},
   "source": [
    "To make dictionaries as efficient as possible, two implementations in particular were made: **key sharing** and **compact dictionaries**"
   ]
  },
  {
   "cell_type": "markdown",
   "id": "b7a66e12-9b0f-4123-adef-61848b5f0d37",
   "metadata": {},
   "source": [
    "#### Key Sharing (PEP 412)"
   ]
  },
  {
   "cell_type": "markdown",
   "id": "da9af8d3-8440-493d-951f-755e568699aa",
   "metadata": {},
   "source": [
    "Let's say we have 3 Person objects:"
   ]
  },
  {
   "cell_type": "code",
   "execution_count": 8,
   "id": "cc9eb58a-d339-4a9c-a2a7-48bbf8043db7",
   "metadata": {},
   "outputs": [],
   "source": [
    "class Person:\n",
    "    def __init__(self, name, age):\n",
    "        self.name = name\n",
    "        self.age = age\n",
    "\n",
    "john = Person('John', 78)\n",
    "eric = Person('Eric', 75)\n",
    "michael = Person('Michael', 78)"
   ]
  },
  {
   "cell_type": "markdown",
   "id": "1151aa25-4610-4218-b7a3-068960d38593",
   "metadata": {},
   "source": [
    "We have three groupings that look like:\n",
    "```python\n",
    "john\n",
    "['name', 'John']\n",
    "['age', 78]\n",
    "\n",
    "eric\n",
    "['name', 'Eric']\n",
    "['age', 75]\n",
    "\n",
    "michael\n",
    "['name', 'Michael']\n",
    "['age', 78]\n",
    "```\n",
    "But since we expect to have multiple instances of the same class, we can expect that the keys e.g. 'name' and 'age' will appear in all three dictionaries. What we can do instead is pool these keys as separate objects which store all the associated values:\n",
    "\n",
    "```python\n",
    "            john    eric    michael\n",
    "'name' -> ['John', 'Eric', 'Michael']\n",
    "'age' ->  [  78,     75,      75    ]\n",
    "```\n",
    "\n",
    "This is also known as a **split-table dictionary**. As you can see the multiple class instances are key sharing which optimises storage."
   ]
  },
  {
   "cell_type": "markdown",
   "id": "90cae8df-43a0-448c-82a6-d5a6ae87c016",
   "metadata": {},
   "source": [
    "#### Compact Dictionaries"
   ]
  },
  {
   "cell_type": "markdown",
   "id": "df8b3527-9ebb-44f3-9512-2f7556fb6671",
   "metadata": {},
   "source": [
    "I am not going to write this subsection out. You can watch from 2:55 in Video 7. Basically, this allows the key order to be the same as insertion order which is achieved by splitting our associative array into two smaller arrays, values and indices."
   ]
  },
  {
   "cell_type": "markdown",
   "id": "fcc8993d-c1e8-49b8-9570-fc6a71823656",
   "metadata": {},
   "source": [
    "# 05 - Python's `hash()` Function"
   ]
  },
  {
   "cell_type": "markdown",
   "id": "f95cf903-12c1-4d3c-8e68-b6e1ba4a2b87",
   "metadata": {},
   "source": [
    "This function always returns an `int`.\n",
    "\n",
    "Also, if `a == b`, then `hash(a) == hash(b)`, **even if `a is not b`**.\n",
    "\n",
    "But, if `a != b`, then the following is **possible** : `hash(a) == hash(b)`. This is a **hash collision**. "
   ]
  },
  {
   "cell_type": "markdown",
   "id": "19c436e0-07a2-4edc-bfa2-c65d788db4be",
   "metadata": {},
   "source": [
    "Regarding the first equality:"
   ]
  },
  {
   "cell_type": "code",
   "execution_count": 23,
   "id": "74cd8129-44fe-4d25-a810-75b4f3b949c8",
   "metadata": {},
   "outputs": [
    {
     "name": "stdout",
     "output_type": "stream",
     "text": [
      "True\n",
      "False\n"
     ]
    }
   ],
   "source": [
    "t1 = (1, 2, 3)\n",
    "t2 = (1, 2, 3)\n",
    "\n",
    "print(t1 == t2)\n",
    "print(t1 is t2)"
   ]
  },
  {
   "cell_type": "markdown",
   "id": "364c03a8-35f8-462e-af1a-c28e97bb3dc3",
   "metadata": {},
   "source": [
    "But the hash will be the same because they **compare equal**"
   ]
  },
  {
   "cell_type": "code",
   "execution_count": 24,
   "id": "d936970e-aa09-436b-b665-b853931a1dfe",
   "metadata": {},
   "outputs": [
    {
     "data": {
      "text/plain": [
       "True"
      ]
     },
     "execution_count": 24,
     "metadata": {},
     "output_type": "execute_result"
    }
   ],
   "source": [
    "hash(t1) == hash(t2)"
   ]
  },
  {
   "cell_type": "markdown",
   "id": "b5d0b8bb-e098-4e79-8084-5a77fc0a5a1e",
   "metadata": {},
   "source": [
    "Let's look at the hashed value for different inputs:"
   ]
  },
  {
   "cell_type": "code",
   "execution_count": 2,
   "id": "fa6b7119-ab26-474b-8c92-32c60dcf25a8",
   "metadata": {},
   "outputs": [
    {
     "data": {
      "text/plain": [
       "[1, 2, 3, 4]"
      ]
     },
     "execution_count": 2,
     "metadata": {},
     "output_type": "execute_result"
    }
   ],
   "source": [
    "list(map(hash, [1, 2, 3, 4]))"
   ]
  },
  {
   "cell_type": "code",
   "execution_count": 4,
   "id": "5898a47f-8c1c-46d6-9159-6ff5f4c1ed1a",
   "metadata": {},
   "outputs": [
    {
     "data": {
      "text/plain": [
       "[230584300921369601,\n",
       " 461168601842739202,\n",
       " 691752902764107779,\n",
       " 922337203685478404]"
      ]
     },
     "execution_count": 4,
     "metadata": {},
     "output_type": "execute_result"
    }
   ],
   "source": [
    "list(map(hash, [1.1, 2.2, 3.3, 4.4]))"
   ]
  },
  {
   "cell_type": "code",
   "execution_count": 6,
   "id": "10e7d29a-4f66-4e00-b3b0-e4bc92c9b3c8",
   "metadata": {},
   "outputs": [
    {
     "data": {
      "text/plain": [
       "[-3570319062466401029, 2050679169924955308, -1117742727718564197]"
      ]
     },
     "execution_count": 6,
     "metadata": {},
     "output_type": "execute_result"
    }
   ],
   "source": [
    "list(map(hash, ['hello', 'Python', '!']))"
   ]
  },
  {
   "cell_type": "markdown",
   "id": "35f8ae59-3969-4992-87bc-f31b0d857ac3",
   "metadata": {},
   "source": [
    "We can even hash tuples:"
   ]
  },
  {
   "cell_type": "code",
   "execution_count": 7,
   "id": "f9e4ed37-05b5-4746-a1fd-d9e3542a6bca",
   "metadata": {},
   "outputs": [
    {
     "data": {
      "text/plain": [
       "7390257652650833158"
      ]
     },
     "execution_count": 7,
     "metadata": {},
     "output_type": "execute_result"
    }
   ],
   "source": [
    "hash((1, 'a', 10.5))"
   ]
  },
  {
   "cell_type": "markdown",
   "id": "9d5bc0eb-6521-440e-9289-4ca03fe1885d",
   "metadata": {},
   "source": [
    "But not lists:"
   ]
  },
  {
   "cell_type": "code",
   "execution_count": 8,
   "id": "40b3252a-7a2c-425c-8058-451ee7209bee",
   "metadata": {},
   "outputs": [
    {
     "ename": "TypeError",
     "evalue": "unhashable type: 'list'",
     "output_type": "error",
     "traceback": [
      "\u001b[1;31m---------------------------------------------------------------------------\u001b[0m",
      "\u001b[1;31mTypeError\u001b[0m                                 Traceback (most recent call last)",
      "Cell \u001b[1;32mIn[8], line 1\u001b[0m\n\u001b[1;32m----> 1\u001b[0m \u001b[38;5;28;43mhash\u001b[39;49m\u001b[43m(\u001b[49m\u001b[43m[\u001b[49m\u001b[38;5;241;43m1\u001b[39;49m\u001b[43m,\u001b[49m\u001b[43m \u001b[49m\u001b[38;5;241;43m2\u001b[39;49m\u001b[43m]\u001b[49m\u001b[43m)\u001b[49m\n",
      "\u001b[1;31mTypeError\u001b[0m: unhashable type: 'list'"
     ]
    }
   ],
   "source": [
    "hash([1, 2])"
   ]
  },
  {
   "cell_type": "markdown",
   "id": "6d04682d-8cee-46a7-8960-3cc27b1f9902",
   "metadata": {},
   "source": [
    "Or sets:"
   ]
  },
  {
   "cell_type": "code",
   "execution_count": 9,
   "id": "1c0b2a69-308d-4970-89db-a170c2840ee4",
   "metadata": {},
   "outputs": [
    {
     "ename": "TypeError",
     "evalue": "unhashable type: 'set'",
     "output_type": "error",
     "traceback": [
      "\u001b[1;31m---------------------------------------------------------------------------\u001b[0m",
      "\u001b[1;31mTypeError\u001b[0m                                 Traceback (most recent call last)",
      "Cell \u001b[1;32mIn[9], line 1\u001b[0m\n\u001b[1;32m----> 1\u001b[0m \u001b[38;5;28;43mhash\u001b[39;49m\u001b[43m(\u001b[49m\u001b[43m{\u001b[49m\u001b[38;5;241;43m1\u001b[39;49m\u001b[43m,\u001b[49m\u001b[43m \u001b[49m\u001b[38;5;241;43m2\u001b[39;49m\u001b[43m}\u001b[49m\u001b[43m)\u001b[49m\n",
      "\u001b[1;31mTypeError\u001b[0m: unhashable type: 'set'"
     ]
    }
   ],
   "source": [
    "hash({1, 2})"
   ]
  },
  {
   "cell_type": "markdown",
   "id": "bb0dbe11-e9b9-4432-8041-5113d6b0ee71",
   "metadata": {},
   "source": [
    "But we can hash frozen sets:"
   ]
  },
  {
   "cell_type": "code",
   "execution_count": 13,
   "id": "d334ba22-dd27-4287-95d2-cbb4ca219fa8",
   "metadata": {},
   "outputs": [
    {
     "data": {
      "text/plain": [
       "-1826646154956904602"
      ]
     },
     "execution_count": 13,
     "metadata": {},
     "output_type": "execute_result"
    }
   ],
   "source": [
    "hash(frozenset({1, 2}))"
   ]
  },
  {
   "cell_type": "markdown",
   "id": "5aed120d-9736-44ff-b084-6eaebad65d36",
   "metadata": {},
   "source": [
    "In other words, **we can only hash immutable types**.\n",
    "\n",
    "This means we cannot hash a tuple that contains a list either:"
   ]
  },
  {
   "cell_type": "code",
   "execution_count": 14,
   "id": "7531d8b8-42ef-4a9d-9bee-a1292a0ea728",
   "metadata": {},
   "outputs": [
    {
     "ename": "TypeError",
     "evalue": "unhashable type: 'list'",
     "output_type": "error",
     "traceback": [
      "\u001b[1;31m---------------------------------------------------------------------------\u001b[0m",
      "\u001b[1;31mTypeError\u001b[0m                                 Traceback (most recent call last)",
      "Cell \u001b[1;32mIn[14], line 1\u001b[0m\n\u001b[1;32m----> 1\u001b[0m \u001b[38;5;28;43mhash\u001b[39;49m\u001b[43m(\u001b[49m\u001b[43m(\u001b[49m\u001b[38;5;124;43m'\u001b[39;49m\u001b[38;5;124;43ma\u001b[39;49m\u001b[38;5;124;43m'\u001b[39;49m\u001b[43m,\u001b[49m\u001b[43m \u001b[49m\u001b[38;5;241;43m1\u001b[39;49m\u001b[43m,\u001b[49m\u001b[43m \u001b[49m\u001b[43m[\u001b[49m\u001b[38;5;241;43m2\u001b[39;49m\u001b[43m,\u001b[49m\u001b[43m \u001b[49m\u001b[38;5;241;43m3\u001b[39;49m\u001b[43m]\u001b[49m\u001b[43m)\u001b[49m\u001b[43m)\u001b[49m\n",
      "\u001b[1;31mTypeError\u001b[0m: unhashable type: 'list'"
     ]
    }
   ],
   "source": [
    "hash(('a', 1, [2, 3]))"
   ]
  },
  {
   "cell_type": "markdown",
   "id": "792c8d0f-58dc-44fc-bf52-10ec6b478e6b",
   "metadata": {},
   "source": [
    "But we can hash functions even though we can change metadata, docstrings etc., because we are not mutating the function itself:"
   ]
  },
  {
   "cell_type": "code",
   "execution_count": 21,
   "id": "7629af56-5521-45b2-b345-912b16b9bcbd",
   "metadata": {},
   "outputs": [
    {
     "data": {
      "text/plain": [
       "182101179765"
      ]
     },
     "execution_count": 21,
     "metadata": {},
     "output_type": "execute_result"
    }
   ],
   "source": [
    "def func():\n",
    "    return None\n",
    "\n",
    "hash(func)"
   ]
  },
  {
   "cell_type": "markdown",
   "id": "316397c0-7ab4-4517-9dfd-f838c258aeac",
   "metadata": {},
   "source": [
    "Remember that the hash function is used to determine the position index and hence, the start of the probe sequence.\n",
    "\n",
    "Let's consider the following `a` which is a **key** in our dictionary `d`:"
   ]
  },
  {
   "cell_type": "code",
   "execution_count": 16,
   "id": "ba8332cc-a343-4ded-8334-ca907ed2c8f5",
   "metadata": {},
   "outputs": [],
   "source": [
    "a = (1, 2, 3)\n",
    "d = {a: 'this key is a tuple - immutable'}"
   ]
  },
  {
   "cell_type": "markdown",
   "id": "43a7dd4b-49e5-4b47-9c6c-fd52e7a86c7f",
   "metadata": {},
   "source": [
    "We want to hash this key `a` which will produce a hash value. This hash value will be mapped to a specifix index in an array which retrieves the desired value.\n",
    "\n",
    "The above dictionary is allowed because looking up `d[a]` will always look for `a` at the same index.\n",
    "\n",
    "But let's try `a` as a list:"
   ]
  },
  {
   "cell_type": "code",
   "execution_count": 18,
   "id": "f4a23405-fbe8-4065-93c6-2eca20aa41f7",
   "metadata": {},
   "outputs": [
    {
     "ename": "TypeError",
     "evalue": "unhashable type: 'list'",
     "output_type": "error",
     "traceback": [
      "\u001b[1;31m---------------------------------------------------------------------------\u001b[0m",
      "\u001b[1;31mTypeError\u001b[0m                                 Traceback (most recent call last)",
      "Cell \u001b[1;32mIn[18], line 2\u001b[0m\n\u001b[0;32m      1\u001b[0m a \u001b[38;5;241m=\u001b[39m [\u001b[38;5;241m1\u001b[39m, \u001b[38;5;241m2\u001b[39m, \u001b[38;5;241m3\u001b[39m]\n\u001b[1;32m----> 2\u001b[0m d \u001b[38;5;241m=\u001b[39m {a: \u001b[38;5;124m'\u001b[39m\u001b[38;5;124mthis key is a list - mutable\u001b[39m\u001b[38;5;124m'\u001b[39m}\n",
      "\u001b[1;31mTypeError\u001b[0m: unhashable type: 'list'"
     ]
    }
   ],
   "source": [
    "a = [1, 2, 3]\n",
    "d = {a: 'this key is a list - mutable'}"
   ]
  },
  {
   "cell_type": "markdown",
   "id": "a6971b2f-fd95-4c59-a98e-86224c2dfe26",
   "metadata": {},
   "source": [
    "This doesn't work. Why? Let's say we could generate a hash value for it. Then, we mutate `a`, e.g. `a.append(4)`. In Python, the object `a` has remained the same, **but the hash has changed**.\n",
    "\n",
    "So looking up `d[a]` which calculates `hash(a)` as an intermediary step, will return an index that corresponds to the wrong desired value."
   ]
  },
  {
   "cell_type": "markdown",
   "id": "2a076aad-a915-4df6-b68d-eb555deed222",
   "metadata": {},
   "source": [
    "Going back to the earlier example:"
   ]
  },
  {
   "cell_type": "code",
   "execution_count": 26,
   "id": "220302b3-e21d-479c-ac68-2db596716bbf",
   "metadata": {},
   "outputs": [
    {
     "data": {
      "text/plain": [
       "False"
      ]
     },
     "execution_count": 26,
     "metadata": {},
     "output_type": "execute_result"
    }
   ],
   "source": [
    "t1 = (1, 2, 3)\n",
    "t2 = (1, 2, 3)\n",
    "\n",
    "t1 is t2"
   ]
  },
  {
   "cell_type": "code",
   "execution_count": 28,
   "id": "48b3ec42-476e-4cd0-9eaf-9a960d67496e",
   "metadata": {},
   "outputs": [
    {
     "name": "stdout",
     "output_type": "stream",
     "text": [
      "this is a tuple\n",
      "this is a tuple\n"
     ]
    }
   ],
   "source": [
    "d = {t1: 'this is a tuple'}\n",
    "\n",
    "print(d[t1])\n",
    "print(d[t2])"
   ]
  },
  {
   "cell_type": "markdown",
   "id": "e3c9373f-bd33-48ef-983d-03b8ebc7f346",
   "metadata": {},
   "source": [
    "Both return the desired value because their hashes are the same even if the objects arent. The reason why it's done this way can be understood by the following:"
   ]
  },
  {
   "cell_type": "code",
   "execution_count": 29,
   "id": "56408b68-41dd-4d2c-ad7b-2000934a54d0",
   "metadata": {},
   "outputs": [
    {
     "data": {
      "text/plain": [
       "'another tuple'"
      ]
     },
     "execution_count": 29,
     "metadata": {},
     "output_type": "execute_result"
    }
   ],
   "source": [
    "d = {(1, 2, 3): 'another tuple'}\n",
    "d[(1, 2, 3)]"
   ]
  },
  {
   "cell_type": "markdown",
   "id": "5c8ea50f-1279-4ee1-b10a-5bc5c10f0fb4",
   "metadata": {},
   "source": [
    "The two `(1, 2, 3)`s will be different objects, but we still need the same desired value."
   ]
  },
  {
   "cell_type": "markdown",
   "id": "9611d677-aff1-4a86-9738-79c398f9ab6e",
   "metadata": {},
   "source": [
    "**Caveat:**\n",
    "\n",
    "The hash value obtained from Python's `hash()` for a given input will always be the same **for a single run of the program**. It will differ from run to run (which prevents particular types of hacking)"
   ]
  },
  {
   "cell_type": "markdown",
   "id": "33fcec73-3340-486c-b75e-984002604203",
   "metadata": {},
   "source": [
    "#### 06 - Mini Summaries"
   ]
  },
  {
   "cell_type": "markdown",
   "id": "222b801d-40b2-4007-8a42-71be11232f62",
   "metadata": {},
   "source": [
    "##### How Python performs dictionary insertions"
   ]
  },
  {
   "cell_type": "markdown",
   "id": "7b02e859-b4da-4f16-896d-a0401935ca1f",
   "metadata": {},
   "source": [
    "This is a simplified explanation without worrying about dictionary resizing or how Python handles deletions.\n",
    "\n",
    "We start with a key and a value:\n",
    "\n",
    "1. The key is hashed -> `hash(key) = hash value`.\n",
    "2. The `hash value` is modded against the **allocated** dictionary size to get the start index in a hash table -> `<hash value> mod <allocated_dict_size> = start index` \n",
    "3. A probe sequence is generated which is a sequence of valid indices starting from the start index all the way until the last possible index value.\n",
    "4. Iterate over the probe sequence. If the slot at the index is empty, store the following pair `(hash value, key, value).` Otherwise we have a collision so continue iterating until we hit an empty slot."
   ]
  },
  {
   "cell_type": "markdown",
   "id": "750ca0aa-7f13-415b-a5e5-d1d82a9f4791",
   "metadata": {},
   "source": [
    "##### How Python performs dictionary lookups"
   ]
  },
  {
   "cell_type": "markdown",
   "id": "4274bfd4-91af-4d8b-bcf3-e28e293de780",
   "metadata": {},
   "source": [
    "The first three steps are the same.\n",
    "\n",
    "We start with a key:\n",
    "\n",
    "1. The key is hashed -> `hash(key) = hash value`.\n",
    "2. The `hash value` is modded against the **allocated** dictionary size to get the start index in a hash table -> `<hash value> mod <allocated_dict_size> = start index`.\n",
    "3. A probe sequence is generated which is a sequence of valid indices starting from the start index all the way until the last possible index value.\n",
    "4. Iterate over the probe sequence.\n",
    "   - If the slot at the index is empty, the key **doesn't exist**. If slot isn't empty, then for `(hash value, key, value)`, we check if the `hash value` and `key` pair is equal to what we just computed. We check the `hash value` first because it's an integer comparison (very fast).\n",
    "   - If the hash value and key pair is equal, we found the key, so return the value. If they aren't equal, continue iterating until we find a matching key or an empty slot."
   ]
  }
 ],
 "metadata": {
  "kernelspec": {
   "display_name": "Python 3 (ipykernel)",
   "language": "python",
   "name": "python3"
  },
  "language_info": {
   "codemirror_mode": {
    "name": "ipython",
    "version": 3
   },
   "file_extension": ".py",
   "mimetype": "text/x-python",
   "name": "python",
   "nbconvert_exporter": "python",
   "pygments_lexer": "ipython3",
   "version": "3.10.4"
  }
 },
 "nbformat": 4,
 "nbformat_minor": 5
}
