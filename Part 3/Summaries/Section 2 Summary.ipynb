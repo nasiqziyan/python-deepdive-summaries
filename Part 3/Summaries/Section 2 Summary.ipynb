{
 "cells": [
  {
   "cell_type": "markdown",
   "id": "78e6353e-e4a0-427d-96b6-8ed91487a0a3",
   "metadata": {},
   "source": [
    "# 01 - Introduction"
   ]
  },
  {
   "cell_type": "markdown",
   "id": "7840fa14-b534-4899-925d-655e223e1259",
   "metadata": {},
   "source": [
    "Dictionaries are everywhere in Python. All of the following are dictionaries: modules, classes, objects (class instances), scopes, sets, your own dictionaries."
   ]
  },
  {
   "cell_type": "markdown",
   "id": "a4b50a78-3d24-4446-925b-eca759f233ab",
   "metadata": {},
   "source": [
    "Here are two main points:\n",
    "- dictionary keys must be **hashable**.\n",
    "- dictionary key order is **maintained** (in order of insertion)."
   ]
  },
  {
   "cell_type": "markdown",
   "id": "88255735-78f6-4517-81cf-148068ac6cbd",
   "metadata": {},
   "source": [
    "# 02 - Associative Arrays"
   ]
  },
  {
   "cell_type": "markdown",
   "id": "5ee533bd-e74c-4050-a2eb-61a3611a1bd1",
   "metadata": {},
   "source": [
    "Let's say we have the following list:\n",
    "```python\n",
    "persons = [John, Eric, Michael, Graham]\n",
    "```\n",
    "where each name is a `Person` object. How do we retrieve `Michael`? We have to remember its index in the list which is 2. Therefore the index behaves like a key to the different objects in the list. Of course, remembering numbers is not a great idea. So, let's consider this following list: \n",
    "```python\n",
    "persons = [\n",
    "    ('john', John),\n",
    "    ('eric', Eric),\n",
    "    ('michael', Michael),\n",
    "    ('graham', Graham)\n",
    "]\n",
    "```\n",
    "To get the `Michael` Person object, we need look up the key `'michael'` and return the associated value. This is better, but we still have to scan through the entire list to find our key. "
   ]
  },
  {
   "cell_type": "markdown",
   "id": "a6b83507-3bdb-4c89-acb8-62490cb78802",
   "metadata": {},
   "source": [
    "How could we improve it? Let's consider another approach. We'll split our list of tuples into two lists:\n",
    "```python\n",
    "keys = ['john', 'eric', 'michael', 'graham']\n",
    "persons = [John, Eric, Michael, Graham]\n",
    "```\n",
    "Then, we can define a function `h` such that `h('john') -> 0`, `h('eric') -> 1`, `h('michael') -> 2` and `h('graham') -> 3`.\n",
    "\n",
    "To get Michael now, we would perform `persons[h('michael')] --> persons[2] --> Michael`. "
   ]
  },
  {
   "cell_type": "markdown",
   "id": "750d4919-86f5-4111-8d35-888a22d27cdc",
   "metadata": {},
   "source": [
    "So what are **associative arrays**?\n",
    "\n",
    "They are an **abstract data structure** that associates (unique) **keys** to **values**. \n",
    "\n",
    "They are also called **maps** or **dictionaries**.\n",
    "\n",
    "They can be implemented in a number of concrete ways.\n",
    "\n",
    "Any of these ways should support: \n",
    "- **adding/removing key-value pairs**\n",
    "- **modifying an associated value**\n",
    "- **looking up a value via its key** (the more efficient this step is, the more efficient our dictionaries will be)."
   ]
  },
  {
   "cell_type": "markdown",
   "id": "5137f8fd-af65-453e-876e-03deda76010c",
   "metadata": {},
   "source": [
    "# 03 - Hash Maps (Hash Tables)"
   ]
  },
  {
   "cell_type": "markdown",
   "id": "bb0817b1-d3db-4158-bf3b-12a6ae3a0a60",
   "metadata": {},
   "source": [
    "This is one concrete implementation of associative arrays.\n",
    "\n",
    "Suppose we have an array of 7 slots (labelled 0-6), initially containing nothing. This is our hash map/hash table/dictionary. We want to store the aforementioned Person objects.\n",
    "\n",
    "We'll define a function that'll return an integer value given a string e.g 'john'.\n",
    "\n",
    "We need to ensure:\n",
    "- the value will be unique for each given string (this is the hard bit)\n",
    "- is between 0 and 6\n",
    "- always returns the same integer for the same string (deterministic)"
   ]
  },
  {
   "cell_type": "markdown",
   "id": "b378d8e4-c256-4f4c-b975-3e5b75002a61",
   "metadata": {},
   "source": [
    "A **hash function** is a function in the mathematical sense such that if `x = y`, `f(x) = f(y)`.\n",
    "\n",
    "It maps a set (domain, D) of arbitrary size (possibly infinite) to another (smaller) set of fixed size (range, R)\n",
    "\n",
    "`h: D -> R where X(R) < X(D)` (`X` is chi and it's the cardinality of the set, i.e. the number of elements in the set). "
   ]
  },
  {
   "cell_type": "markdown",
   "id": "d80ec247-64a2-415a-b042-65a1a88692a2",
   "metadata": {},
   "source": [
    "Let's drop our first requirement that we mentioned above by now allowing getting the **same output** for **different keys**, e.g. `h('john') -> 15` and `h('michael') -> 15`."
   ]
  },
  {
   "cell_type": "markdown",
   "id": "e90bd62f-4e04-4fce-8512-5af829ebfc09",
   "metadata": {},
   "source": [
    "Let's write a simple hash function that's based on the **length** of the key:"
   ]
  },
  {
   "cell_type": "code",
   "execution_count": 2,
   "id": "c7e614c2-541f-48a9-992a-3ffad817e9d7",
   "metadata": {},
   "outputs": [
    {
     "name": "stdout",
     "output_type": "stream",
     "text": [
      "9\n",
      "4\n",
      "4\n"
     ]
    }
   ],
   "source": [
    "def h(key, num_slots):\n",
    "    return len(key) % num_slots\n",
    "\n",
    "print(h('alexander', 11))\n",
    "print(h('john', 11))\n",
    "print(h('eric', 11))"
   ]
  },
  {
   "cell_type": "markdown",
   "id": "9bfd09bb-ebe2-4153-9b50-a5c36dab47c1",
   "metadata": {},
   "source": [
    "Here we have a **collision**."
   ]
  },
  {
   "cell_type": "markdown",
   "id": "e6bab0ef-2c21-4d17-a9d1-211d020b52ef",
   "metadata": {},
   "source": [
    "Let's write another hash function that uses the ord function (ASCII value from character):"
   ]
  },
  {
   "cell_type": "code",
   "execution_count": 7,
   "id": "81e8b7e9-4531-4050-9219-fa76cee53281",
   "metadata": {},
   "outputs": [
    {
     "name": "stdout",
     "output_type": "stream",
     "text": [
      "3\n",
      "1\n",
      "4\n",
      "3\n"
     ]
    }
   ],
   "source": [
    "def h(key, num_slots):\n",
    "    total = sum(ord(c) for c in key)\n",
    "    return total % num_slots\n",
    "\n",
    "print(h('alexander', 5))\n",
    "print(h('john', 5))\n",
    "print(h('eric', 5))\n",
    "print(h('michael', 5))"
   ]
  },
  {
   "cell_type": "markdown",
   "id": "9a7a5e22-1f6b-4469-902c-be175c27e875",
   "metadata": {},
   "source": [
    "**Dealing with Collisions**\n",
    "\n",
    "There are numerous ways but we'll show two. The first is:"
   ]
  },
  {
   "cell_type": "markdown",
   "id": "c5652731-b4c9-407e-b4db-990505ff4564",
   "metadata": {},
   "source": [
    "**Chaining**:\n",
    "\n",
    "We'll store the collided key-value pair as a list of lists/tuples. Using the last example:\n",
    "```python\n",
    "0 -> \n",
    "1 -> ['john', John]\n",
    "2 -> \n",
    "3 -> [['alexander', Alexander], ['michael', Michael]]\n",
    "4 -> ['eric', Eric]\n",
    "```\n",
    "Now, when `h['michael']` returns 3, we need to iterate through each item until we find the list whose first element is `'michael'`. "
   ]
  },
  {
   "cell_type": "markdown",
   "id": "fea4cc4c-ac91-4e5e-babf-6c291693569f",
   "metadata": {},
   "source": [
    "**Probing (linear)**\n",
    "\n",
    "Now, each key returns a value and a probe sequence. This sequence value starts from the value and increases incrementally until we've covered all the numbers. This probe sequence is also deterministic, so if `h('alexander', 5) -> 3`, then the probe sequence associated with `3` is **always** `3 -> 4 -> 0 -> 1 -> 2`.\n",
    "\n",
    "Let's apply it to our case above:\n",
    "```\n",
    "h('alexander', 5) -> 3 : Sequence 3 -> 4 -> 0 -> 1 -> 2\n",
    "h('john', 5) ->      1 : Sequence 1 -> 2 -> 3 -> 4 -> 0\n",
    "h('eric', 5) ->      4 : Sequence 4 -> 0 -> 1 -> 2 -> 3\n",
    "h('michael', 5) ->   3 : Sequence 3 -> 4 -> 0 -> 1 -> 2\n",
    "h('graham', 5) ->    4 : Sequence 4 -> 0 -> 1 -> 2 -> 3\n",
    "```\n",
    "\n",
    "The first three are fine; we have no collisions.\n",
    "```python\n",
    "0 -> \n",
    "1 -> ['john', John]\n",
    "2 -> \n",
    "3 -> ['alexander', Alexander]\n",
    "4 -> ['eric', Eric]\n",
    "```\n",
    "But for `'michael'`, we have a collision. What we do is we go through the probe sequence until we land on a value that is not taken. In the sequence `3 -> 4 -> 0 -> 1 -> 2`, `3` and `4` are taken so `'michael'` gets a value of `0`.\n",
    "\n",
    "For `'graham'`, we also have a collision. In its sequence of `4 -> 0 -> 1 -> 2 -> 3`, `4`, `0` and `1` are all taken so it gets a value of `2`\n",
    "```python\n",
    "0 -> ['michael', Michael]\n",
    "1 -> ['john', John]\n",
    "2 -> ['graham', Graham]\n",
    "3 -> ['alexander', Alexander]\n",
    "4 -> ['eric', Eric]\n",
    "```\n"
   ]
  },
  {
   "cell_type": "markdown",
   "id": "6d6427b5-e74c-401d-b659-f89a3174c087",
   "metadata": {},
   "source": [
    "If we were to look up the key `'michael'` after having added `'alexander'`, we would see if `'michael'` is at position `3`. It isn't, so we continue through the probe sequence. Is it at `4`? No, so move onto `0`, and that's where we find it."
   ]
  },
  {
   "cell_type": "markdown",
   "id": "856388e2-ba18-4dd7-95a8-207403824916",
   "metadata": {},
   "source": [
    "**Sizing Issues**\n",
    "\n",
    "When it comes to creating a hash table, we start small and grow it as needed. But resizing is expensive because the hash values will change.\n",
    "\n",
    "Deleting pairs also makes things much more complicated but we won't worry about that for now."
   ]
  },
  {
   "cell_type": "markdown",
   "id": "a4e03dcb-7e91-443e-8643-933ff3fe634e",
   "metadata": {},
   "source": [
    "# 04 - Python Dictionaries"
   ]
  },
  {
   "cell_type": "markdown",
   "id": "d848e56d-f0a2-44aa-91f1-ae4524cc6e49",
   "metadata": {},
   "source": [
    "To make dictionaries as efficient as possible, two implementations in particular were made: **key sharing** and **compact dictionaries**"
   ]
  },
  {
   "cell_type": "markdown",
   "id": "b7a66e12-9b0f-4123-adef-61848b5f0d37",
   "metadata": {},
   "source": [
    "#### Key Sharing (PEP 412)"
   ]
  },
  {
   "cell_type": "markdown",
   "id": "da9af8d3-8440-493d-951f-755e568699aa",
   "metadata": {},
   "source": [
    "Let's say we have 3 Person objects:"
   ]
  },
  {
   "cell_type": "code",
   "execution_count": 8,
   "id": "cc9eb58a-d339-4a9c-a2a7-48bbf8043db7",
   "metadata": {},
   "outputs": [],
   "source": [
    "class Person:\n",
    "    def __init__(self, name, age):\n",
    "        self.name = name\n",
    "        self.age = age\n",
    "\n",
    "john = Person('John', 78)\n",
    "eric = Person('Eric', 75)\n",
    "michael = Person('Michael', 78)"
   ]
  },
  {
   "cell_type": "markdown",
   "id": "1151aa25-4610-4218-b7a3-068960d38593",
   "metadata": {},
   "source": [
    "We have three groupings that look like:\n",
    "```python\n",
    "john\n",
    "['name', 'John']\n",
    "['age', 78]\n",
    "\n",
    "eric\n",
    "['name', 'Eric']\n",
    "['age', 75]\n",
    "\n",
    "michael\n",
    "['name', 'Michael']\n",
    "['age', 78]\n",
    "```\n",
    "But since we expect to have multiple instances of the same class, we can expect that the keys e.g. 'name' and 'age' will appear in all three dictionaries. What we can do instead is pool these keys as separate objects which store all the associated values:\n",
    "\n",
    "```python\n",
    "            john    eric    michael\n",
    "'name' -> ['John', 'Eric', 'Michael']\n",
    "'age' ->  [  78,     75,      75    ]\n",
    "```\n",
    "\n",
    "This is also known as a **split-table dictionary**. As you can see the multiple class instances are key sharing which optimises storage."
   ]
  },
  {
   "cell_type": "markdown",
   "id": "90cae8df-43a0-448c-82a6-d5a6ae87c016",
   "metadata": {},
   "source": [
    "#### Compact Dictionaries"
   ]
  },
  {
   "cell_type": "markdown",
   "id": "df8b3527-9ebb-44f3-9512-2f7556fb6671",
   "metadata": {},
   "source": [
    "I am not going to write this subsection out. You can watch from 2:55 in Video 7. Basically, this allows the key order to be the same as insertion order which is achieved by splitting our associative array into two smaller arrays, values and indices."
   ]
  },
  {
   "cell_type": "code",
   "execution_count": null,
   "id": "2dd422f3-0733-4b17-b82b-835d57939d03",
   "metadata": {},
   "outputs": [],
   "source": []
  }
 ],
 "metadata": {
  "kernelspec": {
   "display_name": "Python 3 (ipykernel)",
   "language": "python",
   "name": "python3"
  },
  "language_info": {
   "codemirror_mode": {
    "name": "ipython",
    "version": 3
   },
   "file_extension": ".py",
   "mimetype": "text/x-python",
   "name": "python",
   "nbconvert_exporter": "python",
   "pygments_lexer": "ipython3",
   "version": "3.10.4"
  }
 },
 "nbformat": 4,
 "nbformat_minor": 5
}
