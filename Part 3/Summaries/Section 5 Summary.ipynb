{
 "cells": [
  {
   "cell_type": "markdown",
   "id": "121c4b71-04e6-4c08-bfca-dd2b4b6bcfba",
   "metadata": {},
   "source": [
    "**Introduction**\n",
    "\n",
    "The most basic definition of a set is an **unordered** collection of **distinct** objects.\n",
    "\n",
    "In Python, elements in a set are generally **unordered** and always **distinct** (they do not compare `==`), but additionally, they must be **hashable**. Sets are implemented as hash maps so they're (almost) the same as dictionaries."
   ]
  },
  {
   "cell_type": "markdown",
   "id": "19166fd1-fa12-4bad-ad80-6d653362653f",
   "metadata": {},
   "source": [
    "For pretty much all the operations that we'll want to do, e.g. unions, intersections, symmetric differences, checking if disjointed, checking if one set is a subset/superset of another - there will be a method for it, but these return a **new** set, not mutate the original. \n",
    "\n",
    "The **key difference** is that with the method approach, you can pass in iterables instead of just sets. "
   ]
  },
  {
   "cell_type": "markdown",
   "id": "c8ef63c9-b416-4bae-884e-46699c47d86b",
   "metadata": {},
   "source": [
    "Here is the full set of operations:\n",
    "\n",
    "- cardinality: `len(s)`\n",
    "- membership testing: `in`, `not in`\n",
    "- unions: `s1 | s2`, `s1.union(s2)`\n",
    "- intersections: `s1 & s2`, `s1.intersection(s2)`\n",
    "- differences: `s1 - s2`, `s1.difference(s2)`\n",
    "- symmetric difference: `s1 ^ s2`, `s1.symmetric_difference(s2)`\n",
    "- subsets: `s1 <= s2`, `s1.issubset(s2)`\n",
    "- proper subsets: `s1 < s2`\n",
    "- supersets: `s1 >= s2`, `s1.issuperset(s2)`\n",
    "- proper supersets: `s1 > s2`\n",
    "- disjointness: `s1.isdisjoint(s2)`"
   ]
  },
  {
   "cell_type": "markdown",
   "id": "eb53d508-4312-4d78-8561-c9e9c12ee289",
   "metadata": {},
   "source": [
    "Elements of a set must be **unique** and **hashable**. Sets are a mutable collection. \n",
    " \n",
    "Therefore, a set is **not hashable**. Therefore, they can't be used as a dictionary key, nor can you have a set containing another set. \n",
    "\n",
    "**Frozen Sets**\n",
    "\n",
    "Elements of a set must also be **unique** and **hashable**. Frozen sets are NOT a mutable collection. \n",
    "\n",
    "Therefore, a frozen set *is* **hashable**. Therefore, they *can* be used as a dictionary key and you *can* you have a set/frozenset containing a frozen set. \n",
    "\n",
    "These take the form: `frozenset(iterable)` where the `iterable` can be a set. These are the immutable equivalent of sets. Tuples to lists are frozen sets to sets. "
   ]
  },
  {
   "cell_type": "markdown",
   "id": "eced616a-447d-43d5-88a3-bbaef3a13a08",
   "metadata": {},
   "source": [
    "**Membership Testing**\n",
    "\n",
    "This is one of the strong points of a set. Testing membership of an element in a set is **extremely** efficient (hash table lookup). \n",
    "\n",
    "Therefore, `if a in {10, 20, 30}:` is much better than `if a in [10, 20, 30]:` or `if a in (10, 20, 30):`.\n",
    "\n",
    "**But**, there's a higher storage cost since it's a hash table."
   ]
  },
  {
   "cell_type": "markdown",
   "id": "ce434274-7c3a-4223-890c-f82ad6054137",
   "metadata": {},
   "source": [
    "# 01 - Creating Sets"
   ]
  },
  {
   "cell_type": "markdown",
   "id": "924f3466-372f-4924-9e72-7277437df43a",
   "metadata": {},
   "source": [
    "We can use literals, constructors, comprehensions or unpacking, but we cannot use literals for an empty set - that will create an empty dictionary."
   ]
  },
  {
   "cell_type": "code",
   "execution_count": 6,
   "id": "99c3608c-9143-46a6-ac3a-d529ebad849c",
   "metadata": {},
   "outputs": [],
   "source": [
    "literal = {'a', 10, 3.14159}\n",
    "constructor = set(('a', 'b', 'c'))\n",
    "comprehension = {c for c in 'python'}  # since 'python' is already an iterable, better to use the constructor for this."
   ]
  },
  {
   "cell_type": "markdown",
   "id": "1f3a48a1-39f6-4a8d-aabe-d6e4f8dd127a",
   "metadata": {},
   "source": [
    "Remember, we **cannot** make sets containing mutable elements: "
   ]
  },
  {
   "cell_type": "code",
   "execution_count": 12,
   "id": "16d32484-2d16-4edd-827c-9c1cecb4237e",
   "metadata": {},
   "outputs": [
    {
     "ename": "TypeError",
     "evalue": "unhashable type: 'list'",
     "output_type": "error",
     "traceback": [
      "\u001b[1;31m---------------------------------------------------------------------------\u001b[0m",
      "\u001b[1;31mTypeError\u001b[0m                                 Traceback (most recent call last)",
      "Cell \u001b[1;32mIn[12], line 1\u001b[0m\n\u001b[1;32m----> 1\u001b[0m \u001b[38;5;28;43mset\u001b[39;49m\u001b[43m(\u001b[49m\u001b[43m[\u001b[49m\u001b[43m[\u001b[49m\u001b[38;5;124;43m'\u001b[39;49m\u001b[38;5;124;43ma\u001b[39;49m\u001b[38;5;124;43m'\u001b[39;49m\u001b[43m,\u001b[49m\u001b[43m \u001b[49m\u001b[38;5;124;43m'\u001b[39;49m\u001b[38;5;124;43mb\u001b[39;49m\u001b[38;5;124;43m'\u001b[39;49m\u001b[43m]\u001b[49m\u001b[43m,\u001b[49m\u001b[43m \u001b[49m\u001b[43m[\u001b[49m\u001b[38;5;124;43m'\u001b[39;49m\u001b[38;5;124;43mc\u001b[39;49m\u001b[38;5;124;43m'\u001b[39;49m\u001b[43m,\u001b[49m\u001b[43m \u001b[49m\u001b[38;5;124;43m'\u001b[39;49m\u001b[38;5;124;43md\u001b[39;49m\u001b[38;5;124;43m'\u001b[39;49m\u001b[43m]\u001b[49m\u001b[43m]\u001b[49m\u001b[43m)\u001b[49m\n",
      "\u001b[1;31mTypeError\u001b[0m: unhashable type: 'list'"
     ]
    }
   ],
   "source": [
    "set([['a', 'b'], ['c', 'd']])"
   ]
  },
  {
   "cell_type": "markdown",
   "id": "91157cf9-4745-47e6-8012-368ce46c89aa",
   "metadata": {},
   "source": [
    "When it comes to unpacking, we use `*` for iterables and `**` for dictionaries.\n",
    "\n",
    "Since sets are iterables, we can unpack them with `*my_set`."
   ]
  },
  {
   "cell_type": "code",
   "execution_count": 9,
   "id": "f3737e41-db8d-49af-8eb0-e3cfb33f18fe",
   "metadata": {},
   "outputs": [
    {
     "data": {
      "text/plain": [
       "{'a', 'b', 'c', 'd', 'e', 'f'}"
      ]
     },
     "execution_count": 9,
     "metadata": {},
     "output_type": "execute_result"
    }
   ],
   "source": [
    "s1 = {'a', 'b', 'c'}\n",
    "s2 = {'d', 'e', 'f'}\n",
    "\n",
    "{*s1, *s2}"
   ]
  },
  {
   "cell_type": "markdown",
   "id": "3e11d439-1a60-45cc-88f7-724faa7b28af",
   "metadata": {},
   "source": [
    "Recall that the default iteration on a dictionary will be on its keys, so passing a dictionary to a `set()` constructor will make a set of the keys:"
   ]
  },
  {
   "cell_type": "code",
   "execution_count": 13,
   "id": "694ce375-8180-4597-bb4a-c3d750ded239",
   "metadata": {},
   "outputs": [
    {
     "data": {
      "text/plain": [
       "{'a', 'b'}"
      ]
     },
     "execution_count": 13,
     "metadata": {},
     "output_type": "execute_result"
    }
   ],
   "source": [
    "d = {'a': 1, 'b': 2}\n",
    "set(d)"
   ]
  },
  {
   "cell_type": "markdown",
   "id": "14f27f90-6025-4731-a4a0-6d251ec16321",
   "metadata": {},
   "source": [
    "Also, note that `*` on a dict will unpack **only the keys**."
   ]
  },
  {
   "cell_type": "code",
   "execution_count": 11,
   "id": "131999fc-9316-4a25-b47f-07afb0dfeaca",
   "metadata": {},
   "outputs": [
    {
     "data": {
      "text/plain": [
       "{'a', 'b', 'c'}"
      ]
     },
     "execution_count": 11,
     "metadata": {},
     "output_type": "execute_result"
    }
   ],
   "source": [
    "my_dict = {'a': 1, 'b': 2, 'c': 3}\n",
    "\n",
    "my_set = {*my_dict}\n",
    "my_set"
   ]
  },
  {
   "cell_type": "markdown",
   "id": "97f42549-2d6b-4922-bd12-3b8188960802",
   "metadata": {},
   "source": [
    "# 02 - Common Set Operations"
   ]
  },
  {
   "cell_type": "markdown",
   "id": "5763075e-d8eb-4daa-9f46-dfcff39fb6c6",
   "metadata": {},
   "source": [
    "**Adding Elements**\n",
    "\n",
    "This is straight forward:"
   ]
  },
  {
   "cell_type": "code",
   "execution_count": 14,
   "id": "dd098a45-413d-445a-ae48-4d70ce2f5af1",
   "metadata": {},
   "outputs": [
    {
     "data": {
      "text/plain": [
       "{'python'}"
      ]
     },
     "execution_count": 14,
     "metadata": {},
     "output_type": "execute_result"
    }
   ],
   "source": [
    "s = set()\n",
    "s.add('python')\n",
    "s"
   ]
  },
  {
   "cell_type": "markdown",
   "id": "733947ed-b1f3-4921-82ff-f71c84acd022",
   "metadata": {},
   "source": [
    "**Removing Elements**"
   ]
  },
  {
   "cell_type": "markdown",
   "id": "085213a1-b68f-47de-84b0-52151ebde651",
   "metadata": {},
   "source": [
    "The three ways are `s.remove(element)`, `s.discard(element)`, `s.pop()` and `s.clear()`. All are mutating operations."
   ]
  },
  {
   "cell_type": "markdown",
   "id": "9572d370-3c41-4002-aaec-f3926c7eb98d",
   "metadata": {},
   "source": [
    "Using `.remove(element)` will throw a `KeyError` exception if the element does not exist, just like with dictionaries. "
   ]
  },
  {
   "cell_type": "code",
   "execution_count": 18,
   "id": "3d95630a-7e90-46ee-a7e6-86dba9623ab6",
   "metadata": {},
   "outputs": [
    {
     "name": "stdout",
     "output_type": "stream",
     "text": [
      "{'c', 'a'}\n"
     ]
    },
    {
     "ename": "KeyError",
     "evalue": "'z'",
     "output_type": "error",
     "traceback": [
      "\u001b[1;31m---------------------------------------------------------------------------\u001b[0m",
      "\u001b[1;31mKeyError\u001b[0m                                  Traceback (most recent call last)",
      "Cell \u001b[1;32mIn[18], line 4\u001b[0m\n\u001b[0;32m      2\u001b[0m s\u001b[38;5;241m.\u001b[39mremove(\u001b[38;5;124m'\u001b[39m\u001b[38;5;124mb\u001b[39m\u001b[38;5;124m'\u001b[39m)\n\u001b[0;32m      3\u001b[0m \u001b[38;5;28mprint\u001b[39m(s)\n\u001b[1;32m----> 4\u001b[0m \u001b[43ms\u001b[49m\u001b[38;5;241;43m.\u001b[39;49m\u001b[43mremove\u001b[49m\u001b[43m(\u001b[49m\u001b[38;5;124;43m'\u001b[39;49m\u001b[38;5;124;43mz\u001b[39;49m\u001b[38;5;124;43m'\u001b[39;49m\u001b[43m)\u001b[49m\n",
      "\u001b[1;31mKeyError\u001b[0m: 'z'"
     ]
    }
   ],
   "source": [
    "s = {'a', 'b', 'c'}\n",
    "s.remove('b')\n",
    "print(s)\n",
    "s.remove('z')"
   ]
  },
  {
   "cell_type": "markdown",
   "id": "e728ede9-2768-4f47-8447-7d66173e5473",
   "metadata": {},
   "source": [
    "Using `.discard(element)` won't throw an exception:"
   ]
  },
  {
   "cell_type": "code",
   "execution_count": 21,
   "id": "e4a82c93-075f-458a-ba67-47cebb6883b0",
   "metadata": {},
   "outputs": [
    {
     "name": "stdout",
     "output_type": "stream",
     "text": [
      "{'c', 'a'}\n"
     ]
    }
   ],
   "source": [
    "s = {'a', 'b', 'c'}\n",
    "s.discard('b')\n",
    "print(s)\n",
    "s.discard('z')"
   ]
  },
  {
   "cell_type": "markdown",
   "id": "1994f07c-1e16-4b5c-a004-e237d609c20d",
   "metadata": {},
   "source": [
    "`s.pop(element)` will remove and return an **arbitrary** element - `KeyError` if set is empty."
   ]
  },
  {
   "cell_type": "code",
   "execution_count": 23,
   "id": "c129c4fc-e9b6-4177-a6d5-7ae0132300ce",
   "metadata": {},
   "outputs": [
    {
     "data": {
      "text/plain": [
       "'c'"
      ]
     },
     "execution_count": 23,
     "metadata": {},
     "output_type": "execute_result"
    }
   ],
   "source": [
    "s = {'a', 'b', 'c'}\n",
    "s.pop()"
   ]
  },
  {
   "cell_type": "markdown",
   "id": "831dd85b-aa83-4d6b-9007-d0edb4f8c8bd",
   "metadata": {},
   "source": [
    "`s.clear()` removes **all** elements:"
   ]
  },
  {
   "cell_type": "code",
   "execution_count": 24,
   "id": "84ef6d55-a079-4dc4-b719-2955296fcebc",
   "metadata": {},
   "outputs": [
    {
     "data": {
      "text/plain": [
       "set()"
      ]
     },
     "execution_count": 24,
     "metadata": {},
     "output_type": "execute_result"
    }
   ],
   "source": [
    "s = {'a', 'b', 'c'}\n",
    "s.clear()\n",
    "s"
   ]
  },
  {
   "cell_type": "markdown",
   "id": "5a64270a-1640-48b8-ae4b-2965c142841d",
   "metadata": {},
   "source": [
    "# 03 - Set Operations"
   ]
  },
  {
   "cell_type": "markdown",
   "id": "789c0bbc-90b1-4837-b9a2-099420c9eff6",
   "metadata": {},
   "source": [
    "Everything in this subsection is just demonstrating the usage of the set operators and set methods on simple examples. For example:"
   ]
  },
  {
   "cell_type": "markdown",
   "id": "5f03dabf-54a3-4343-b97e-21b6107bf389",
   "metadata": {},
   "source": [
    "**Method**"
   ]
  },
  {
   "cell_type": "code",
   "execution_count": 28,
   "id": "56ff3789-fe66-4303-9f03-77f7351134a9",
   "metadata": {},
   "outputs": [
    {
     "name": "stdout",
     "output_type": "stream",
     "text": [
      "{3}\n"
     ]
    }
   ],
   "source": [
    "s1 = {1, 2, 3}\n",
    "s2 = {2, 3, 4}\n",
    "s3 = {3, 4, 5}\n",
    "\n",
    "print(s1.intersection(s2, s3))"
   ]
  },
  {
   "cell_type": "code",
   "execution_count": 34,
   "id": "07c7a09f-b6ca-44a6-a095-00948b659180",
   "metadata": {},
   "outputs": [
    {
     "name": "stdout",
     "output_type": "stream",
     "text": [
      "{3}\n"
     ]
    }
   ],
   "source": [
    "print(s1.intersection((i for i in range(2, 5)), range(3,6)))  # can pass in generators as they're iterables."
   ]
  },
  {
   "cell_type": "markdown",
   "id": "edec5b00-4fb8-4efe-b7df-516aa849c087",
   "metadata": {},
   "source": [
    "Remember that the iterable has to contain hashable objects:"
   ]
  },
  {
   "cell_type": "code",
   "execution_count": 35,
   "id": "8b014c5c-0a30-4db2-9f40-3c600113eb07",
   "metadata": {},
   "outputs": [
    {
     "data": {
      "text/plain": [
       "set()"
      ]
     },
     "execution_count": 35,
     "metadata": {},
     "output_type": "execute_result"
    }
   ],
   "source": [
    "{1, 2}.intersection([(1, 2), (3, 4)])"
   ]
  },
  {
   "cell_type": "code",
   "execution_count": 36,
   "id": "294b62b8-a459-4f98-9583-12480bcb1664",
   "metadata": {},
   "outputs": [
    {
     "ename": "TypeError",
     "evalue": "unhashable type: 'list'",
     "output_type": "error",
     "traceback": [
      "\u001b[1;31m---------------------------------------------------------------------------\u001b[0m",
      "\u001b[1;31mTypeError\u001b[0m                                 Traceback (most recent call last)",
      "Cell \u001b[1;32mIn[36], line 1\u001b[0m\n\u001b[1;32m----> 1\u001b[0m \u001b[43m{\u001b[49m\u001b[38;5;241;43m1\u001b[39;49m\u001b[43m,\u001b[49m\u001b[43m \u001b[49m\u001b[38;5;241;43m2\u001b[39;49m\u001b[43m}\u001b[49m\u001b[38;5;241;43m.\u001b[39;49m\u001b[43mintersection\u001b[49m\u001b[43m(\u001b[49m\u001b[43m[\u001b[49m\u001b[43m[\u001b[49m\u001b[38;5;241;43m1\u001b[39;49m\u001b[43m,\u001b[49m\u001b[43m \u001b[49m\u001b[38;5;241;43m2\u001b[39;49m\u001b[43m]\u001b[49m\u001b[43m,\u001b[49m\u001b[43m \u001b[49m\u001b[43m[\u001b[49m\u001b[38;5;241;43m3\u001b[39;49m\u001b[43m,\u001b[49m\u001b[43m \u001b[49m\u001b[38;5;241;43m4\u001b[39;49m\u001b[43m]\u001b[49m\u001b[43m]\u001b[49m\u001b[43m)\u001b[49m\n",
      "\u001b[1;31mTypeError\u001b[0m: unhashable type: 'list'"
     ]
    }
   ],
   "source": [
    "{1, 2}.intersection([[1, 2], [3, 4]])"
   ]
  },
  {
   "cell_type": "markdown",
   "id": "7a432b87-0e6f-4c45-a684-e125412cc9d9",
   "metadata": {},
   "source": [
    "**Set Operator**"
   ]
  },
  {
   "cell_type": "code",
   "execution_count": 27,
   "id": "3472ade1-232a-4877-87ad-bd0a4319b39d",
   "metadata": {},
   "outputs": [
    {
     "name": "stdout",
     "output_type": "stream",
     "text": [
      "{3}\n"
     ]
    }
   ],
   "source": [
    "print(s1 & s2 & s3)"
   ]
  },
  {
   "cell_type": "markdown",
   "id": "1bfc02aa-06be-43d5-8878-f5ee4511a1d6",
   "metadata": {},
   "source": [
    "# 04 - Update Operations"
   ]
  },
  {
   "cell_type": "markdown",
   "id": "de5a4774-99b3-45f4-b1cf-0339ecafe8e2",
   "metadata": {},
   "source": [
    "Recall that with lists `l1 += l2` mutates `l1` whereas `l1 + l2` creates a new object. A similar notation exists for sets:\n",
    "\n",
    "- `|=` or `s1.update(s2)`\n",
    "- `&=` or `s1.intersection_update(s2)` (whereas `s1.intersection(s2)` creates a new set) \n",
    "- `-=` or `s1.difference_update(s2)` \"\"\n",
    "- `^=` or `s1.symmetric_difference_update(s2)` \"\"\n",
    "  "
   ]
  },
  {
   "cell_type": "markdown",
   "id": "96e75107-bd2b-4a33-946e-608f3c00c67f",
   "metadata": {},
   "source": [
    "One somewhat unintuitive thing to remember is that the `difference` method doesn't behave very intuitively:"
   ]
  },
  {
   "cell_type": "markdown",
   "id": "6f8b6ba7-fc5a-48cd-b882-3f0cdf5a5e4d",
   "metadata": {},
   "source": [
    "The operator approach makes sense - we compute the RHS and then the left: `s1 = s1 - ((s2 - s3) - s4)`"
   ]
  },
  {
   "cell_type": "code",
   "execution_count": 48,
   "id": "9d91e9d3-6299-4ad3-8cc9-ec15a5726213",
   "metadata": {},
   "outputs": [
    {
     "data": {
      "text/plain": [
       "{1, 3, 4}"
      ]
     },
     "execution_count": 48,
     "metadata": {},
     "output_type": "execute_result"
    }
   ],
   "source": [
    "s1 = {1, 2, 3, 4}\n",
    "s2 = {2, 3}\n",
    "s3 = {3, 4}\n",
    "s4 = {4, 5}\n",
    "\n",
    "s1 -= s2 - s3 - s4\n",
    "s1"
   ]
  },
  {
   "cell_type": "markdown",
   "id": "cb550f8f-04c1-40b2-96b3-37e8ccd27e86",
   "metadata": {},
   "source": [
    "But this approach is unintuitive: `s1 = ((s1 - s2) - s3) - s4`"
   ]
  },
  {
   "cell_type": "code",
   "execution_count": 49,
   "id": "7c0fdbc2-bb60-497e-89a9-4935f7900e38",
   "metadata": {},
   "outputs": [
    {
     "data": {
      "text/plain": [
       "{1}"
      ]
     },
     "execution_count": 49,
     "metadata": {},
     "output_type": "execute_result"
    }
   ],
   "source": [
    "s1 = {1, 2, 3, 4}\n",
    "s2 = {2, 3}\n",
    "s3 = {3, 4}\n",
    "s4 = {4, 5}\n",
    "\n",
    "s1.difference_update(s2, s3, s4)\n",
    "s1"
   ]
  },
  {
   "cell_type": "markdown",
   "id": "1e7aada2-0a85-48a9-8cc0-972445c1861e",
   "metadata": {},
   "source": [
    "#### Example"
   ]
  },
  {
   "cell_type": "markdown",
   "id": "1d8f598f-3c12-4a9b-89a4-8e58fa97df3e",
   "metadata": {},
   "source": [
    "Here's a practical example which demonstrates the use of `difference_update`.\n",
    "\n",
    "Suppose we have a program that fetches data from some API, database, whatever - and it retrieves a paged list of city names. We want our program to keep fetching data from the source until the source is exhausted, and filter out any cities we are not interested in from our final result."
   ]
  },
  {
   "cell_type": "markdown",
   "id": "ba369324-69c0-4fec-9b8e-01e42c71d0aa",
   "metadata": {},
   "source": [
    "To simulate the data source, let's do this:"
   ]
  },
  {
   "cell_type": "code",
   "execution_count": 20,
   "id": "22732475-aa24-4394-a71f-437dc8e499dc",
   "metadata": {},
   "outputs": [],
   "source": [
    "def gen_read_data():\n",
    "    yield ['Paris', 'Beijing', 'New York', 'London', 'Madrid', 'Mumbai']\n",
    "    yield ['Hyderabad', 'New York', 'Milan', 'Phoenix', 'Berlin', 'Cairo']\n",
    "    yield ['Stockholm', 'Cairo', 'Paris', 'Barcelona', 'San Francisco']"
   ]
  },
  {
   "cell_type": "markdown",
   "id": "3f88bb74-2ae7-4de4-86ca-e7f62396c841",
   "metadata": {},
   "source": [
    "Now, we take our data and mutate it by removing any cities that we are not interested in. `filter_incoming('London', 'Paris', data_set={'London', 'Paris', 'Madrid'})` -> `{'Madrid'}`"
   ]
  },
  {
   "cell_type": "code",
   "execution_count": 26,
   "id": "2d3e5490-c608-4cbe-8f82-2f435ef940de",
   "metadata": {},
   "outputs": [],
   "source": [
    "def filter_incoming(*cities, data_set):\n",
    "    data_set.difference_update(cities)"
   ]
  },
  {
   "cell_type": "code",
   "execution_count": 27,
   "id": "d6fb3034-2862-4c01-a7c5-4a41212c6024",
   "metadata": {},
   "outputs": [
    {
     "name": "stdout",
     "output_type": "stream",
     "text": [
      "{'Hyderabad', 'New York', 'Phoenix', 'San Francisco', 'Barcelona', 'Mumbai', 'Stockholm', 'Cairo', 'Madrid', 'Milan', 'Beijing', 'Berlin'}\n"
     ]
    }
   ],
   "source": [
    "result = set()\n",
    "data = gen_read_data()\n",
    "for page in data:\n",
    "    result.update(page)\n",
    "    filter_incoming('Paris', 'London', data_set=result)\n",
    "print(result)"
   ]
  },
  {
   "cell_type": "markdown",
   "id": "72649c0b-c427-4d77-9098-a327031b01a2",
   "metadata": {},
   "source": [
    "# 05 - Copying Sets"
   ]
  },
  {
   "cell_type": "markdown",
   "id": "66ee95d8-3b49-4b3c-881b-28cb2b5c3514",
   "metadata": {},
   "source": [
    "We know everything in this section.\n",
    "\n",
    "For shallow copies, do: `s2 = s1.copy()`, `s2 = set(s1)`, `s2 = {*s1}`\n",
    "\n",
    "For deep copies, do: `from copy import deepcopy` and `s2 = deepcopy(s1)`."
   ]
  },
  {
   "cell_type": "markdown",
   "id": "d31540ce-afa4-44bb-bf7b-125e6be0cfc3",
   "metadata": {},
   "source": [
    "# 06 - Frozen Sets"
   ]
  },
  {
   "cell_type": "markdown",
   "id": "62e3fab4-6897-4387-888e-89bae894151a",
   "metadata": {},
   "source": [
    "# 07 - Dictionary Views"
   ]
  }
 ],
 "metadata": {
  "kernelspec": {
   "display_name": "Python 3 (ipykernel)",
   "language": "python",
   "name": "python3"
  },
  "language_info": {
   "codemirror_mode": {
    "name": "ipython",
    "version": 3
   },
   "file_extension": ".py",
   "mimetype": "text/x-python",
   "name": "python",
   "nbconvert_exporter": "python",
   "pygments_lexer": "ipython3",
   "version": "3.10.4"
  }
 },
 "nbformat": 4,
 "nbformat_minor": 5
}
