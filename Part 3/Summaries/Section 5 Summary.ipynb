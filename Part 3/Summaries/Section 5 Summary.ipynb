{
 "cells": [
  {
   "cell_type": "markdown",
   "id": "121c4b71-04e6-4c08-bfca-dd2b4b6bcfba",
   "metadata": {},
   "source": [
    "**Introduction**\n",
    "\n",
    "The most basic definition of a set is an **unordered** collection of **distinct** objects.\n",
    "\n",
    "In Python, elements in a set are generally **unordered** and always **distinct** (they do not compare `==`), but additionally, they must be **hashable**. Sets are implemented as hash maps so they're (almost) the same as dictionaries."
   ]
  },
  {
   "cell_type": "markdown",
   "id": "19166fd1-fa12-4bad-ad80-6d653362653f",
   "metadata": {},
   "source": [
    "For pretty much all the operations that we'll want to do, e.g. unions, intersections, symmetric differences, checking if disjointed, checking if one set is a subset/superset of another - there will be a method for it, but these return a **new** set, not mutate the original. \n",
    "\n",
    "The **key difference** is that with the method approach, you can pass in iterables instead of just sets. "
   ]
  },
  {
   "cell_type": "markdown",
   "id": "c8ef63c9-b416-4bae-884e-46699c47d86b",
   "metadata": {},
   "source": [
    "Here is the full set of operations:\n",
    "\n",
    "- cardinality: `len(s)`\n",
    "- membership testing: `in`, `not in`\n",
    "- unions: `s1 | s2`, `s1.union(s2)`\n",
    "- intersections: `s1 & s2`, `s1.intersection(s2)`\n",
    "- differences: `s1 - s2`, `s1.difference(s2)`\n",
    "- symmetric difference: `s1 ^ s2`, `s1.symmetric_difference(s2)`\n",
    "- subsets: `s1 <= s2`, `s1.issubset(s2)`\n",
    "- proper subsets: `s1 < s2`\n",
    "- supersets: `s1 >= s2`, `s1.issuperset(s2)`\n",
    "- proper supersets: `s1 > s2`\n",
    "- disjointness: `s1.isdisjoint(s2)`"
   ]
  },
  {
   "cell_type": "markdown",
   "id": "eb53d508-4312-4d78-8561-c9e9c12ee289",
   "metadata": {},
   "source": [
    "Elements of a set must be **unique** and **hashable**. Sets are a mutable collection. \n",
    " \n",
    "Therefore, a set is **not hashable**. Therefore, they can't be used as a dictionary key, nor can you have a set containing another set. \n",
    "\n",
    "**Frozen Sets**\n",
    "\n",
    "Elements of a set must also be **unique** and **hashable**. Frozen sets are NOT a mutable collection. \n",
    "\n",
    "Therefore, a frozen set *is* **hashable**. Therefore, they *can* be used as a dictionary key and you *can* you have a set/frozenset containing a frozen set. \n",
    "\n",
    "These take the form: `frozenset(iterable)` where the `iterable` can be a set. These are the immutable equivalent of sets. Tuples to lists are frozen sets to sets. "
   ]
  },
  {
   "cell_type": "markdown",
   "id": "eced616a-447d-43d5-88a3-bbaef3a13a08",
   "metadata": {},
   "source": [
    "**Membership Testing**\n",
    "\n",
    "This is one of the strong points of a set. Testing membership of an element in a set is **extremely** efficient (hash table lookup). \n",
    "\n",
    "Therefore, `if a in {10, 20, 30}:` is much better than `if a in [10, 20, 30]:` or `if a in (10, 20, 30):`.\n",
    "\n",
    "**But**, there's a higher storage cost since it's a hash table."
   ]
  },
  {
   "cell_type": "markdown",
   "id": "ce434274-7c3a-4223-890c-f82ad6054137",
   "metadata": {},
   "source": [
    "# 01 - Creating Sets"
   ]
  },
  {
   "cell_type": "markdown",
   "id": "924f3466-372f-4924-9e72-7277437df43a",
   "metadata": {},
   "source": [
    "We can use literals, constructors, comprehensions or unpacking, but we cannot use literals for an empty set - that will create an empty dictionary."
   ]
  },
  {
   "cell_type": "code",
   "execution_count": 6,
   "id": "99c3608c-9143-46a6-ac3a-d529ebad849c",
   "metadata": {},
   "outputs": [],
   "source": [
    "literal = {'a', 10, 3.14159}\n",
    "constructor = set(('a', 'b', 'c'))\n",
    "comprehension = {c for c in 'python'}  # since 'python' is already an iterable, better to use the constructor for this."
   ]
  },
  {
   "cell_type": "markdown",
   "id": "1f3a48a1-39f6-4a8d-aabe-d6e4f8dd127a",
   "metadata": {},
   "source": [
    "Remember, we **cannot** make sets containing mutable elements: "
   ]
  },
  {
   "cell_type": "code",
   "execution_count": 12,
   "id": "16d32484-2d16-4edd-827c-9c1cecb4237e",
   "metadata": {},
   "outputs": [
    {
     "ename": "TypeError",
     "evalue": "unhashable type: 'list'",
     "output_type": "error",
     "traceback": [
      "\u001b[1;31m---------------------------------------------------------------------------\u001b[0m",
      "\u001b[1;31mTypeError\u001b[0m                                 Traceback (most recent call last)",
      "Cell \u001b[1;32mIn[12], line 1\u001b[0m\n\u001b[1;32m----> 1\u001b[0m \u001b[38;5;28;43mset\u001b[39;49m\u001b[43m(\u001b[49m\u001b[43m[\u001b[49m\u001b[43m[\u001b[49m\u001b[38;5;124;43m'\u001b[39;49m\u001b[38;5;124;43ma\u001b[39;49m\u001b[38;5;124;43m'\u001b[39;49m\u001b[43m,\u001b[49m\u001b[43m \u001b[49m\u001b[38;5;124;43m'\u001b[39;49m\u001b[38;5;124;43mb\u001b[39;49m\u001b[38;5;124;43m'\u001b[39;49m\u001b[43m]\u001b[49m\u001b[43m,\u001b[49m\u001b[43m \u001b[49m\u001b[43m[\u001b[49m\u001b[38;5;124;43m'\u001b[39;49m\u001b[38;5;124;43mc\u001b[39;49m\u001b[38;5;124;43m'\u001b[39;49m\u001b[43m,\u001b[49m\u001b[43m \u001b[49m\u001b[38;5;124;43m'\u001b[39;49m\u001b[38;5;124;43md\u001b[39;49m\u001b[38;5;124;43m'\u001b[39;49m\u001b[43m]\u001b[49m\u001b[43m]\u001b[49m\u001b[43m)\u001b[49m\n",
      "\u001b[1;31mTypeError\u001b[0m: unhashable type: 'list'"
     ]
    }
   ],
   "source": [
    "set([['a', 'b'], ['c', 'd']])"
   ]
  },
  {
   "cell_type": "markdown",
   "id": "91157cf9-4745-47e6-8012-368ce46c89aa",
   "metadata": {},
   "source": [
    "When it comes to unpacking, we use `*` for iterables and `**` for dictionaries.\n",
    "\n",
    "Since sets are iterables, we can unpack them with `*my_set`."
   ]
  },
  {
   "cell_type": "code",
   "execution_count": 9,
   "id": "f3737e41-db8d-49af-8eb0-e3cfb33f18fe",
   "metadata": {},
   "outputs": [
    {
     "data": {
      "text/plain": [
       "{'a', 'b', 'c', 'd', 'e', 'f'}"
      ]
     },
     "execution_count": 9,
     "metadata": {},
     "output_type": "execute_result"
    }
   ],
   "source": [
    "s1 = {'a', 'b', 'c'}\n",
    "s2 = {'d', 'e', 'f'}\n",
    "\n",
    "{*s1, *s2}"
   ]
  },
  {
   "cell_type": "markdown",
   "id": "3e11d439-1a60-45cc-88f7-724faa7b28af",
   "metadata": {},
   "source": [
    "Recall that the default iteration on a dictionary will be on its keys, so passing a dictionary to a `set()` constructor will make a set of the keys:"
   ]
  },
  {
   "cell_type": "code",
   "execution_count": 13,
   "id": "694ce375-8180-4597-bb4a-c3d750ded239",
   "metadata": {},
   "outputs": [
    {
     "data": {
      "text/plain": [
       "{'a', 'b'}"
      ]
     },
     "execution_count": 13,
     "metadata": {},
     "output_type": "execute_result"
    }
   ],
   "source": [
    "d = {'a': 1, 'b': 2}\n",
    "set(d)"
   ]
  },
  {
   "cell_type": "markdown",
   "id": "14f27f90-6025-4731-a4a0-6d251ec16321",
   "metadata": {},
   "source": [
    "Also, note that `*` on a dict will unpack **only the keys**."
   ]
  },
  {
   "cell_type": "code",
   "execution_count": 11,
   "id": "131999fc-9316-4a25-b47f-07afb0dfeaca",
   "metadata": {},
   "outputs": [
    {
     "data": {
      "text/plain": [
       "{'a', 'b', 'c'}"
      ]
     },
     "execution_count": 11,
     "metadata": {},
     "output_type": "execute_result"
    }
   ],
   "source": [
    "my_dict = {'a': 1, 'b': 2, 'c': 3}\n",
    "\n",
    "my_set = {*my_dict}\n",
    "my_set"
   ]
  },
  {
   "cell_type": "markdown",
   "id": "97f42549-2d6b-4922-bd12-3b8188960802",
   "metadata": {},
   "source": [
    "# 02 - Common Set Operations"
   ]
  },
  {
   "cell_type": "markdown",
   "id": "5763075e-d8eb-4daa-9f46-dfcff39fb6c6",
   "metadata": {},
   "source": [
    "**Adding Elements**\n",
    "\n",
    "This is straight forward:"
   ]
  },
  {
   "cell_type": "code",
   "execution_count": 14,
   "id": "dd098a45-413d-445a-ae48-4d70ce2f5af1",
   "metadata": {},
   "outputs": [
    {
     "data": {
      "text/plain": [
       "{'python'}"
      ]
     },
     "execution_count": 14,
     "metadata": {},
     "output_type": "execute_result"
    }
   ],
   "source": [
    "s = set()\n",
    "s.add('python')\n",
    "s"
   ]
  },
  {
   "cell_type": "markdown",
   "id": "733947ed-b1f3-4921-82ff-f71c84acd022",
   "metadata": {},
   "source": [
    "**Removing Elements**"
   ]
  },
  {
   "cell_type": "markdown",
   "id": "085213a1-b68f-47de-84b0-52151ebde651",
   "metadata": {},
   "source": [
    "The three ways are `s.remove(element)`, `s.discard(element)`, `s.pop()` and `s.clear()`. All are mutating operations."
   ]
  },
  {
   "cell_type": "markdown",
   "id": "9572d370-3c41-4002-aaec-f3926c7eb98d",
   "metadata": {},
   "source": [
    "Using `.remove(element)` will throw a `KeyError` exception if the element does not exist, just like with dictionaries. "
   ]
  },
  {
   "cell_type": "code",
   "execution_count": 18,
   "id": "3d95630a-7e90-46ee-a7e6-86dba9623ab6",
   "metadata": {},
   "outputs": [
    {
     "name": "stdout",
     "output_type": "stream",
     "text": [
      "{'c', 'a'}\n"
     ]
    },
    {
     "ename": "KeyError",
     "evalue": "'z'",
     "output_type": "error",
     "traceback": [
      "\u001b[1;31m---------------------------------------------------------------------------\u001b[0m",
      "\u001b[1;31mKeyError\u001b[0m                                  Traceback (most recent call last)",
      "Cell \u001b[1;32mIn[18], line 4\u001b[0m\n\u001b[0;32m      2\u001b[0m s\u001b[38;5;241m.\u001b[39mremove(\u001b[38;5;124m'\u001b[39m\u001b[38;5;124mb\u001b[39m\u001b[38;5;124m'\u001b[39m)\n\u001b[0;32m      3\u001b[0m \u001b[38;5;28mprint\u001b[39m(s)\n\u001b[1;32m----> 4\u001b[0m \u001b[43ms\u001b[49m\u001b[38;5;241;43m.\u001b[39;49m\u001b[43mremove\u001b[49m\u001b[43m(\u001b[49m\u001b[38;5;124;43m'\u001b[39;49m\u001b[38;5;124;43mz\u001b[39;49m\u001b[38;5;124;43m'\u001b[39;49m\u001b[43m)\u001b[49m\n",
      "\u001b[1;31mKeyError\u001b[0m: 'z'"
     ]
    }
   ],
   "source": [
    "s = {'a', 'b', 'c'}\n",
    "s.remove('b')\n",
    "print(s)\n",
    "s.remove('z')"
   ]
  },
  {
   "cell_type": "markdown",
   "id": "e728ede9-2768-4f47-8447-7d66173e5473",
   "metadata": {},
   "source": [
    "Using `.discard(element)` won't throw an exception:"
   ]
  },
  {
   "cell_type": "code",
   "execution_count": 21,
   "id": "e4a82c93-075f-458a-ba67-47cebb6883b0",
   "metadata": {},
   "outputs": [
    {
     "name": "stdout",
     "output_type": "stream",
     "text": [
      "{'c', 'a'}\n"
     ]
    }
   ],
   "source": [
    "s = {'a', 'b', 'c'}\n",
    "s.discard('b')\n",
    "print(s)\n",
    "s.discard('z')"
   ]
  },
  {
   "cell_type": "markdown",
   "id": "1994f07c-1e16-4b5c-a004-e237d609c20d",
   "metadata": {},
   "source": [
    "`s.pop(element)` will remove and return an **arbitrary** element - `KeyError` if set is empty."
   ]
  },
  {
   "cell_type": "code",
   "execution_count": 23,
   "id": "c129c4fc-e9b6-4177-a6d5-7ae0132300ce",
   "metadata": {},
   "outputs": [
    {
     "data": {
      "text/plain": [
       "'c'"
      ]
     },
     "execution_count": 23,
     "metadata": {},
     "output_type": "execute_result"
    }
   ],
   "source": [
    "s = {'a', 'b', 'c'}\n",
    "s.pop()"
   ]
  },
  {
   "cell_type": "markdown",
   "id": "831dd85b-aa83-4d6b-9007-d0edb4f8c8bd",
   "metadata": {},
   "source": [
    "`s.clear()` removes **all** elements:"
   ]
  },
  {
   "cell_type": "code",
   "execution_count": 24,
   "id": "84ef6d55-a079-4dc4-b719-2955296fcebc",
   "metadata": {},
   "outputs": [
    {
     "data": {
      "text/plain": [
       "set()"
      ]
     },
     "execution_count": 24,
     "metadata": {},
     "output_type": "execute_result"
    }
   ],
   "source": [
    "s = {'a', 'b', 'c'}\n",
    "s.clear()\n",
    "s"
   ]
  },
  {
   "cell_type": "markdown",
   "id": "5a64270a-1640-48b8-ae4b-2965c142841d",
   "metadata": {},
   "source": [
    "# 03 - Set Operations"
   ]
  },
  {
   "cell_type": "markdown",
   "id": "789c0bbc-90b1-4837-b9a2-099420c9eff6",
   "metadata": {},
   "source": [
    "Everything in this subsection is just demonstrating the usage of the set operators and set methods on simple examples. For example:"
   ]
  },
  {
   "cell_type": "markdown",
   "id": "5f03dabf-54a3-4343-b97e-21b6107bf389",
   "metadata": {},
   "source": [
    "**Method**"
   ]
  },
  {
   "cell_type": "code",
   "execution_count": 28,
   "id": "56ff3789-fe66-4303-9f03-77f7351134a9",
   "metadata": {},
   "outputs": [
    {
     "name": "stdout",
     "output_type": "stream",
     "text": [
      "{3}\n"
     ]
    }
   ],
   "source": [
    "s1 = {1, 2, 3}\n",
    "s2 = {2, 3, 4}\n",
    "s3 = {3, 4, 5}\n",
    "\n",
    "print(s1.intersection(s2, s3))"
   ]
  },
  {
   "cell_type": "code",
   "execution_count": 34,
   "id": "07c7a09f-b6ca-44a6-a095-00948b659180",
   "metadata": {},
   "outputs": [
    {
     "name": "stdout",
     "output_type": "stream",
     "text": [
      "{3}\n"
     ]
    }
   ],
   "source": [
    "print(s1.intersection((i for i in range(2, 5)), range(3,6)))  # can pass in generators as they're iterables."
   ]
  },
  {
   "cell_type": "markdown",
   "id": "edec5b00-4fb8-4efe-b7df-516aa849c087",
   "metadata": {},
   "source": [
    "Remember that the iterable has to contain hashable objects:"
   ]
  },
  {
   "cell_type": "code",
   "execution_count": 35,
   "id": "8b014c5c-0a30-4db2-9f40-3c600113eb07",
   "metadata": {},
   "outputs": [
    {
     "data": {
      "text/plain": [
       "set()"
      ]
     },
     "execution_count": 35,
     "metadata": {},
     "output_type": "execute_result"
    }
   ],
   "source": [
    "{1, 2}.intersection([(1, 2), (3, 4)])"
   ]
  },
  {
   "cell_type": "code",
   "execution_count": 36,
   "id": "294b62b8-a459-4f98-9583-12480bcb1664",
   "metadata": {},
   "outputs": [
    {
     "ename": "TypeError",
     "evalue": "unhashable type: 'list'",
     "output_type": "error",
     "traceback": [
      "\u001b[1;31m---------------------------------------------------------------------------\u001b[0m",
      "\u001b[1;31mTypeError\u001b[0m                                 Traceback (most recent call last)",
      "Cell \u001b[1;32mIn[36], line 1\u001b[0m\n\u001b[1;32m----> 1\u001b[0m \u001b[43m{\u001b[49m\u001b[38;5;241;43m1\u001b[39;49m\u001b[43m,\u001b[49m\u001b[43m \u001b[49m\u001b[38;5;241;43m2\u001b[39;49m\u001b[43m}\u001b[49m\u001b[38;5;241;43m.\u001b[39;49m\u001b[43mintersection\u001b[49m\u001b[43m(\u001b[49m\u001b[43m[\u001b[49m\u001b[43m[\u001b[49m\u001b[38;5;241;43m1\u001b[39;49m\u001b[43m,\u001b[49m\u001b[43m \u001b[49m\u001b[38;5;241;43m2\u001b[39;49m\u001b[43m]\u001b[49m\u001b[43m,\u001b[49m\u001b[43m \u001b[49m\u001b[43m[\u001b[49m\u001b[38;5;241;43m3\u001b[39;49m\u001b[43m,\u001b[49m\u001b[43m \u001b[49m\u001b[38;5;241;43m4\u001b[39;49m\u001b[43m]\u001b[49m\u001b[43m]\u001b[49m\u001b[43m)\u001b[49m\n",
      "\u001b[1;31mTypeError\u001b[0m: unhashable type: 'list'"
     ]
    }
   ],
   "source": [
    "{1, 2}.intersection([[1, 2], [3, 4]])"
   ]
  },
  {
   "cell_type": "markdown",
   "id": "7a432b87-0e6f-4c45-a684-e125412cc9d9",
   "metadata": {},
   "source": [
    "**Set Operator**"
   ]
  },
  {
   "cell_type": "code",
   "execution_count": 27,
   "id": "3472ade1-232a-4877-87ad-bd0a4319b39d",
   "metadata": {},
   "outputs": [
    {
     "name": "stdout",
     "output_type": "stream",
     "text": [
      "{3}\n"
     ]
    }
   ],
   "source": [
    "print(s1 & s2 & s3)"
   ]
  },
  {
   "cell_type": "markdown",
   "id": "1bfc02aa-06be-43d5-8878-f5ee4511a1d6",
   "metadata": {},
   "source": [
    "# 04 - Update Operations"
   ]
  },
  {
   "cell_type": "markdown",
   "id": "de5a4774-99b3-45f4-b1cf-0339ecafe8e2",
   "metadata": {},
   "source": [
    "Recall that with lists `l1 += l2` mutates `l1` whereas `l1 + l2` creates a new object. A similar notation exists for sets:\n",
    "\n",
    "- `|=` or `s1.update(s2)`\n",
    "- `&=` or `s1.intersection_update(s2)` (whereas `s1.intersection(s2)` creates a new set) \n",
    "- `-=` or `s1.difference_update(s2)` \"\"\n",
    "- `^=` or `s1.symmetric_difference_update(s2)` \"\"\n",
    "  "
   ]
  },
  {
   "cell_type": "markdown",
   "id": "96e75107-bd2b-4a33-946e-608f3c00c67f",
   "metadata": {},
   "source": [
    "One somewhat unintuitive thing to remember is that the `difference` method doesn't behave very intuitively:"
   ]
  },
  {
   "cell_type": "markdown",
   "id": "6f8b6ba7-fc5a-48cd-b882-3f0cdf5a5e4d",
   "metadata": {},
   "source": [
    "The operator approach makes sense - we compute the RHS and then the left: `s1 = s1 - ((s2 - s3) - s4)`"
   ]
  },
  {
   "cell_type": "code",
   "execution_count": 48,
   "id": "9d91e9d3-6299-4ad3-8cc9-ec15a5726213",
   "metadata": {},
   "outputs": [
    {
     "data": {
      "text/plain": [
       "{1, 3, 4}"
      ]
     },
     "execution_count": 48,
     "metadata": {},
     "output_type": "execute_result"
    }
   ],
   "source": [
    "s1 = {1, 2, 3, 4}\n",
    "s2 = {2, 3}\n",
    "s3 = {3, 4}\n",
    "s4 = {4, 5}\n",
    "\n",
    "s1 -= s2 - s3 - s4\n",
    "s1"
   ]
  },
  {
   "cell_type": "markdown",
   "id": "cb550f8f-04c1-40b2-96b3-37e8ccd27e86",
   "metadata": {},
   "source": [
    "But this approach is unintuitive: `s1 = ((s1 - s2) - s3) - s4`"
   ]
  },
  {
   "cell_type": "code",
   "execution_count": 49,
   "id": "7c0fdbc2-bb60-497e-89a9-4935f7900e38",
   "metadata": {},
   "outputs": [
    {
     "data": {
      "text/plain": [
       "{1}"
      ]
     },
     "execution_count": 49,
     "metadata": {},
     "output_type": "execute_result"
    }
   ],
   "source": [
    "s1 = {1, 2, 3, 4}\n",
    "s2 = {2, 3}\n",
    "s3 = {3, 4}\n",
    "s4 = {4, 5}\n",
    "\n",
    "s1.difference_update(s2, s3, s4)\n",
    "s1"
   ]
  },
  {
   "cell_type": "markdown",
   "id": "1e7aada2-0a85-48a9-8cc0-972445c1861e",
   "metadata": {},
   "source": [
    "#### Example"
   ]
  },
  {
   "cell_type": "markdown",
   "id": "1d8f598f-3c12-4a9b-89a4-8e58fa97df3e",
   "metadata": {},
   "source": [
    "Here's a practical example which demonstrates the use of `difference_update`.\n",
    "\n",
    "Suppose we have a program that fetches data from some API, database, whatever - and it retrieves a paged list of city names. We want our program to keep fetching data from the source until the source is exhausted, and filter out any cities we are not interested in from our final result."
   ]
  },
  {
   "cell_type": "markdown",
   "id": "ba369324-69c0-4fec-9b8e-01e42c71d0aa",
   "metadata": {},
   "source": [
    "To simulate the data source, let's do this:"
   ]
  },
  {
   "cell_type": "code",
   "execution_count": 20,
   "id": "22732475-aa24-4394-a71f-437dc8e499dc",
   "metadata": {},
   "outputs": [],
   "source": [
    "def gen_read_data():\n",
    "    yield ['Paris', 'Beijing', 'New York', 'London', 'Madrid', 'Mumbai']\n",
    "    yield ['Hyderabad', 'New York', 'Milan', 'Phoenix', 'Berlin', 'Cairo']\n",
    "    yield ['Stockholm', 'Cairo', 'Paris', 'Barcelona', 'San Francisco']"
   ]
  },
  {
   "cell_type": "markdown",
   "id": "3f88bb74-2ae7-4de4-86ca-e7f62396c841",
   "metadata": {},
   "source": [
    "Now, we take our data and mutate it by removing any cities that we are not interested in. `filter_incoming('London', 'Paris', data_set={'London', 'Paris', 'Madrid'})` -> `{'Madrid'}`"
   ]
  },
  {
   "cell_type": "code",
   "execution_count": 26,
   "id": "2d3e5490-c608-4cbe-8f82-2f435ef940de",
   "metadata": {},
   "outputs": [],
   "source": [
    "def filter_incoming(*cities, data_set):\n",
    "    data_set.difference_update(cities)"
   ]
  },
  {
   "cell_type": "code",
   "execution_count": 27,
   "id": "d6fb3034-2862-4c01-a7c5-4a41212c6024",
   "metadata": {},
   "outputs": [
    {
     "name": "stdout",
     "output_type": "stream",
     "text": [
      "{'Hyderabad', 'New York', 'Phoenix', 'San Francisco', 'Barcelona', 'Mumbai', 'Stockholm', 'Cairo', 'Madrid', 'Milan', 'Beijing', 'Berlin'}\n"
     ]
    }
   ],
   "source": [
    "result = set()\n",
    "data = gen_read_data()\n",
    "for page in data:\n",
    "    result.update(page)\n",
    "    filter_incoming('Paris', 'London', data_set=result)\n",
    "print(result)"
   ]
  },
  {
   "cell_type": "markdown",
   "id": "72649c0b-c427-4d77-9098-a327031b01a2",
   "metadata": {},
   "source": [
    "# 05 - Copying Sets"
   ]
  },
  {
   "cell_type": "markdown",
   "id": "66ee95d8-3b49-4b3c-881b-28cb2b5c3514",
   "metadata": {},
   "source": [
    "We know everything in this section.\n",
    "\n",
    "For shallow copies, do: `s2 = s1.copy()`, `s2 = set(s1)`, `s2 = {*s1}`\n",
    "\n",
    "For deep copies, do: `from copy import deepcopy` and `s2 = deepcopy(s1)`."
   ]
  },
  {
   "cell_type": "markdown",
   "id": "d31540ce-afa4-44bb-bf7b-125e6be0cfc3",
   "metadata": {},
   "source": [
    "# 06 - Frozen Sets"
   ]
  },
  {
   "cell_type": "markdown",
   "id": "32dfb7d4-7e55-4575-89a8-13ed15743441",
   "metadata": {},
   "source": [
    "#### Lecture"
   ]
  },
  {
   "cell_type": "markdown",
   "id": "8e782b15-e88f-470a-955c-3a24fcfaf5ce",
   "metadata": {},
   "source": [
    "The similarities between tuples vs lists follow through to frozen sets vs sets. \n",
    "\n",
    "If **all** elements of a frozen set are hashable, then the frozen set is **hashable**. So, it can be a key of a dictionary or an element of another set, for example. "
   ]
  },
  {
   "cell_type": "markdown",
   "id": "33d2e25f-c437-4e67-aeea-c2166ae1b7f0",
   "metadata": {},
   "source": [
    "Remember that, for tuples, we can **shallow** copy it and the copy will have the same ID. This is safes because tuples are immutables. The same applies for **frozen** sets."
   ]
  },
  {
   "cell_type": "code",
   "execution_count": 4,
   "id": "d21e4321-201e-445a-92fc-e61c517f8d6f",
   "metadata": {},
   "outputs": [
    {
     "name": "stdout",
     "output_type": "stream",
     "text": [
      "t1 is t2 = True\n"
     ]
    }
   ],
   "source": [
    "t1 = (1, 2, 3)\n",
    "t2 = tuple(t1)\n",
    "print(f\"{t1 is t2 = }\")"
   ]
  },
  {
   "cell_type": "code",
   "execution_count": 9,
   "id": "60a0e000-61f0-4fac-96cb-4efac9d41a34",
   "metadata": {},
   "outputs": [
    {
     "name": "stdout",
     "output_type": "stream",
     "text": [
      "fs1 is fs2 = True\n"
     ]
    }
   ],
   "source": [
    "fs1 = frozenset({1, 2, 3})\n",
    "fs2 = frozenset(fs1)\n",
    "print(f\"{fs1 is fs2 = }\")"
   ]
  },
  {
   "cell_type": "markdown",
   "id": "2e5a8c13-7bb9-4f04-bf5b-91662ad13949",
   "metadata": {},
   "source": [
    "But, remember, this doesn't apply to regular sets which are mutable:"
   ]
  },
  {
   "cell_type": "code",
   "execution_count": 10,
   "id": "e3314edc-6ad6-44d2-883f-0ec7f3b5f9a4",
   "metadata": {},
   "outputs": [
    {
     "name": "stdout",
     "output_type": "stream",
     "text": [
      "s1 is s2 = False\n"
     ]
    }
   ],
   "source": [
    "s1 = set({1, 2, 3})\n",
    "s2 = set(s1)\n",
    "print(f\"{s1 is s2 = }\")"
   ]
  },
  {
   "cell_type": "markdown",
   "id": "5b969a78-1588-4354-98dc-78256c623440",
   "metadata": {},
   "source": [
    "**Set Operations**\n",
    "\n",
    "We can perform **not-mutating** set operations (`& | - ^`) on sets with frozen sets and vice versa. What type would the resulting set be?\n",
    "\n",
    "Resulting type: type of the **first** operand.\n",
    "\n",
    "So, if `s3 = s1 & s2`, then `type(s3) == type(s1)`  "
   ]
  },
  {
   "cell_type": "code",
   "execution_count": 14,
   "id": "1d8aad7a-5fe4-4ab6-9273-1b5eb90eb6da",
   "metadata": {},
   "outputs": [
    {
     "name": "stdout",
     "output_type": "stream",
     "text": [
      "intersection_s_fs = {3}, type(intersection_s_fs) = <class 'set'>\n",
      "intersection_fs_s = frozenset({3}), type(intersection_fs_s) = <class 'frozenset'>\n"
     ]
    }
   ],
   "source": [
    "s1 = {1, 2, 3}\n",
    "fs1 = frozenset({3, 4, 5})\n",
    "\n",
    "intersection_s_fs = s1 & fs1\n",
    "intersection_fs_s = fs1 & s1\n",
    "\n",
    "print(f\"{intersection_s_fs = }, {type(intersection_s_fs) = }\")\n",
    "print(f\"{intersection_fs_s = }, {type(intersection_fs_s) = }\")"
   ]
  },
  {
   "cell_type": "markdown",
   "id": "5a361b10-dfd6-4cae-83d4-b2df7d8c2597",
   "metadata": {},
   "source": [
    "**Identity and Equality**\n",
    "\n",
    "Sets and frozensets containing the same elements will be `==` but not `is`. "
   ]
  },
  {
   "cell_type": "code",
   "execution_count": 18,
   "id": "da2fdd42-9fe2-443e-b093-e8d2018fee09",
   "metadata": {},
   "outputs": [
    {
     "name": "stdout",
     "output_type": "stream",
     "text": [
      "s1 is fs1 = False\n",
      "s1 == fs1 = True\n"
     ]
    }
   ],
   "source": [
    "s1 = set(list((1, 2, 3)))\n",
    "fs1 = frozenset(tuple((1, 2, 3)))\n",
    "\n",
    "print(f\"{s1 is fs1 = }\")\n",
    "print(f\"{s1 == fs1 = }\")"
   ]
  },
  {
   "cell_type": "markdown",
   "id": "73bfd350-c89f-4a42-872e-252d8e6590a3",
   "metadata": {},
   "source": [
    "#### Coding"
   ]
  },
  {
   "cell_type": "markdown",
   "id": "84e60a52-aa2c-450a-97b1-46690788e8ea",
   "metadata": {},
   "source": [
    "##### Example: Memoisation"
   ]
  },
  {
   "cell_type": "markdown",
   "id": "27012bfc-a527-43ab-bf19-cba72664b91b",
   "metadata": {},
   "source": [
    "Let's take a simple example of using the memoisation decorator in the standard library:"
   ]
  },
  {
   "cell_type": "code",
   "execution_count": 24,
   "id": "bb57bfcd-fbf5-497d-9c7c-6960c68fdf22",
   "metadata": {},
   "outputs": [
    {
     "name": "stdout",
     "output_type": "stream",
     "text": [
      "calculating 1 + 2\n",
      "3\n",
      "3\n",
      "3\n"
     ]
    }
   ],
   "source": [
    "from functools import lru_cache\n",
    "\n",
    "@lru_cache()\n",
    "def my_func(*, a, b):\n",
    "    print(f\"calculating {a} + {b}\")\n",
    "    return a + b\n",
    "\n",
    "print(my_func(a=1, b=2))\n",
    "print(my_func(a=1, b=2))\n",
    "print(my_func(a=1, b=2))"
   ]
  },
  {
   "cell_type": "markdown",
   "id": "03e3cbb8-a038-4a8a-9b11-3b87063ff576",
   "metadata": {},
   "source": [
    "As we can see, we only called the function / calculated it once - the other two times, we pulled it from the cache.\n",
    "\n",
    "We should imagine that the decorator has some dictionary that looks something like:\n",
    "```python\n",
    "{\n",
    "    (1, 2): 3\n",
    "}\n",
    "```"
   ]
  },
  {
   "cell_type": "markdown",
   "id": "4192a2df-ed9f-4c27-a971-2910fe942c45",
   "metadata": {},
   "source": [
    "But, if we swap the *arguments* `a` and `b` around (but `a` and `b` both have their original values), we'll have to recalculate the value. Our dictionary now looks like this:\n",
    "```python\n",
    "{\n",
    "    (1, 2): 3\n",
    "    (2, 1): 3\n",
    "}\n",
    "```"
   ]
  },
  {
   "cell_type": "code",
   "execution_count": 47,
   "id": "f0c2a25c-0e8d-4400-9aff-5d9052924f40",
   "metadata": {},
   "outputs": [
    {
     "name": "stdout",
     "output_type": "stream",
     "text": [
      "calculating 2 + 1\n",
      "3\n"
     ]
    }
   ],
   "source": [
    "print(my_func(b=1, a=2))"
   ]
  },
  {
   "cell_type": "markdown",
   "id": "4ec36f17-e6db-4932-9c82-c60c76432f9b",
   "metadata": {},
   "source": [
    "This is a problem because the entire point of keyword arguments is that they're independent of position. So `a=1, b=2` should be identical to `b=2, a=1`."
   ]
  },
  {
   "cell_type": "markdown",
   "id": "d4dd9dc9-848b-4eab-8766-80c7182f06fc",
   "metadata": {},
   "source": [
    "Before we fix this limitation with our implementation, let's try running the code below:"
   ]
  },
  {
   "cell_type": "code",
   "execution_count": 27,
   "id": "b312892a-3f96-4fb6-b275-82fee9c08102",
   "metadata": {},
   "outputs": [
    {
     "ename": "TypeError",
     "evalue": "unhashable type: 'list'",
     "output_type": "error",
     "traceback": [
      "\u001b[1;31m---------------------------------------------------------------------------\u001b[0m",
      "\u001b[1;31mTypeError\u001b[0m                                 Traceback (most recent call last)",
      "Cell \u001b[1;32mIn[27], line 1\u001b[0m\n\u001b[1;32m----> 1\u001b[0m \u001b[38;5;28mprint\u001b[39m(\u001b[43mmy_func\u001b[49m\u001b[43m(\u001b[49m\u001b[43ma\u001b[49m\u001b[38;5;241;43m=\u001b[39;49m\u001b[43m[\u001b[49m\u001b[38;5;241;43m1\u001b[39;49m\u001b[43m,\u001b[49m\u001b[43m \u001b[49m\u001b[38;5;241;43m2\u001b[39;49m\u001b[43m,\u001b[49m\u001b[43m \u001b[49m\u001b[38;5;241;43m3\u001b[39;49m\u001b[43m]\u001b[49m\u001b[43m,\u001b[49m\u001b[43m \u001b[49m\u001b[43mb\u001b[49m\u001b[38;5;241;43m=\u001b[39;49m\u001b[43m[\u001b[49m\u001b[38;5;241;43m4\u001b[39;49m\u001b[43m,\u001b[49m\u001b[43m \u001b[49m\u001b[38;5;241;43m5\u001b[39;49m\u001b[43m,\u001b[49m\u001b[43m \u001b[49m\u001b[38;5;241;43m6\u001b[39;49m\u001b[43m]\u001b[49m\u001b[43m)\u001b[49m)\n",
      "\u001b[1;31mTypeError\u001b[0m: unhashable type: 'list'"
     ]
    }
   ],
   "source": [
    "print(my_func(a=[1, 2, 3], b=[4, 5, 6]))"
   ]
  },
  {
   "cell_type": "markdown",
   "id": "e945cbc2-5b6a-483c-b625-919c76eacf48",
   "metadata": {},
   "source": [
    "This is a perfectly valid operation that would work if function wasn't decorated. Once decorated, the arguments of the function become keys, but lists **cannot** be keys because they are **unhashable**. It's always useful to reiterate that point."
   ]
  },
  {
   "cell_type": "code",
   "execution_count": 46,
   "id": "7faed6a0-c0d9-47d6-8d4a-779e55c54433",
   "metadata": {},
   "outputs": [
    {
     "name": "stdout",
     "output_type": "stream",
     "text": [
      "{('a', 1), ('b', 2)}\n"
     ]
    }
   ],
   "source": [
    "d = {'a': 1, 'b': 2}\n",
    "\n",
    "print(set(d.items()))\n"
   ]
  },
  {
   "cell_type": "markdown",
   "id": "f40ed19c-1391-4d4a-8b70-fc48f8d24299",
   "metadata": {},
   "source": [
    "Our solution is to write our own memoiser that takes in the keyword arguments and converts them into a frozen set. \n",
    "\n",
    "- if `a=1, b=2` ---> `{('a', 1), ('b', 2)}` (this is a frozen set but I'm not using the constructor `frozenset()` so that I can reduce bracket fatigue).\n",
    "- if `b=2, a=1` ---> `{('b', 2), ('a', 1)}`\n",
    "\n",
    "Both are identical because order is not important in sets/frozen sets.\n",
    "\n",
    "We'll let this decorator take positional arguments too, though it's irrelevant to this example. We don't need to convert `args` into a frozenset because they are already hashable."
   ]
  },
  {
   "cell_type": "code",
   "execution_count": 51,
   "id": "d82a4771-850d-46c7-81f7-31eb72fa36da",
   "metadata": {},
   "outputs": [],
   "source": [
    "def memoiser(fn):\n",
    "    cache = {}\n",
    "\n",
    "    def inner(*args, **kwargs):\n",
    "        key = (args, frozenset(kwargs.items()))\n",
    "        if key not in cache:\n",
    "            result = fn(*args, **kwargs)\n",
    "            cache[key] = result\n",
    "        return cache[key]\n",
    "\n",
    "    return inner\n",
    "\n",
    "@memoiser\n",
    "def my_func(*, a, b):\n",
    "    print(f\"Calculating {a} + {b}...\")\n",
    "    return a + b"
   ]
  },
  {
   "cell_type": "code",
   "execution_count": 52,
   "id": "44f59b8c-d5f4-4700-9489-d9b7c73c2e6a",
   "metadata": {},
   "outputs": [
    {
     "name": "stdout",
     "output_type": "stream",
     "text": [
      "Calculating 1 + 2...\n"
     ]
    },
    {
     "data": {
      "text/plain": [
       "3"
      ]
     },
     "execution_count": 52,
     "metadata": {},
     "output_type": "execute_result"
    }
   ],
   "source": [
    "my_func(a=1, b=2)"
   ]
  },
  {
   "cell_type": "code",
   "execution_count": 53,
   "id": "0f2e8ab7-a8fe-4588-b8b6-91c24b11bdf0",
   "metadata": {},
   "outputs": [
    {
     "data": {
      "text/plain": [
       "3"
      ]
     },
     "execution_count": 53,
     "metadata": {},
     "output_type": "execute_result"
    }
   ],
   "source": [
    "my_func(b=2, a=1)"
   ]
  },
  {
   "cell_type": "markdown",
   "id": "a001b6bc-8993-43a1-b3ff-fcd4d0851f34",
   "metadata": {},
   "source": [
    "As you can see, the second function call did not print `Calculating...` because we read from the cache.\n",
    "\n",
    "Also note, constructors like `set()` and `frozenset()` take a **single** iterable whose elements will be elements of the set/frozenset."
   ]
  },
  {
   "cell_type": "markdown",
   "id": "62e3fab4-6897-4387-888e-89bae894151a",
   "metadata": {},
   "source": [
    "# 07 - Dictionary Views"
   ]
  },
  {
   "cell_type": "markdown",
   "id": "08ea830d-46d4-40d3-a27f-fc043170221c",
   "metadata": {},
   "source": [
    "#### Reminder from Section 3"
   ]
  },
  {
   "cell_type": "markdown",
   "id": "85f28243-42bb-46e8-b3b5-27af87323da6",
   "metadata": {},
   "source": [
    "**Dictionary Views are Dynamic**\n",
    "\n",
    "**Views are more than just iterables**. This is something unintuitive. If we store the result of *any* of these views in a variable and then modify the dictionary, the variable will reflect this modification. That is to say, looking up the variable performs a dictionary lookup too. "
   ]
  },
  {
   "cell_type": "code",
   "execution_count": 8,
   "id": "40e6ef61-c6c5-4608-ab21-235d263d3c21",
   "metadata": {},
   "outputs": [
    {
     "name": "stdout",
     "output_type": "stream",
     "text": [
      "my_items = dict_items([('a', 1), ('b', 2)]), id(my_items) = 2264696224160\n",
      "my_items = dict_items([('a', 100), ('b', 200), ('c', 300)]), id(my_items) = 2264696224160\n"
     ]
    }
   ],
   "source": [
    "d = {'a': 1, 'b': 2}\n",
    "\n",
    "my_items = d.items()\n",
    "print(f\"{my_items = }, {id(my_items) = }\")\n",
    "\n",
    "d['a'] = 100\n",
    "d['b'] = 200\n",
    "d['c'] = 300\n",
    "\n",
    "print(f\"{my_items = }, {id(my_items) = }\")"
   ]
  },
  {
   "cell_type": "markdown",
   "id": "26147989-e0dc-443a-9b24-85ed8a20774b",
   "metadata": {},
   "source": [
    "Notice how the IDs are the same. \n",
    "\n",
    "What's going on under the hood is that when we request a variable that points to a view, we are infact iterating through the original dictionary again to build up the view.\n",
    "\n",
    "Python does this by going back to the original dictionary, creates a new **iterator** and consumes it. Since the iterator is new, the elements within it reflect the most recent state of the dictionary."
   ]
  },
  {
   "cell_type": "markdown",
   "id": "edf55eac-3dc8-4656-b96e-21fa8b3d004b",
   "metadata": {},
   "source": [
    "#### Lecture"
   ]
  },
  {
   "cell_type": "markdown",
   "id": "3dc2a807-2bbd-46c8-8e96-e134eb6c0139",
   "metadata": {},
   "source": [
    "A very long time ago, a dictionary's `d.keys()` and `d.values()` methods were highly inflexible. Calling them produced lists which duplicated memory, had no set-like functionality, and searching through these iterables requires linear scanning (O(n)) since they were lists.\n",
    "\n",
    "Now (PEP3106), we have dictionary views which behaves like an iterable, implements set-like behaviour and does not \"own\" any data (no memory duplication)."
   ]
  },
  {
   "cell_type": "markdown",
   "id": "3b593540-7593-4314-9f19-e8fe9e74a1c7",
   "metadata": {},
   "source": [
    "**Important**: The order of keys, values and items are guaranteed to be the **same**. So, for example, the fourth item in the `keys` view corresponds to the fourth item in the `values` view, which together corresponds to the fourth item in the `items` view:"
   ]
  },
  {
   "cell_type": "code",
   "execution_count": 55,
   "id": "4f2f96f1-ded0-493d-b0d8-7475dccd599d",
   "metadata": {},
   "outputs": [
    {
     "name": "stdout",
     "output_type": "stream",
     "text": [
      "['a', 'b', 'c']\n",
      "[1, 2, 3]\n",
      "[('a', 1), ('b', 2), ('c', 3)]\n"
     ]
    }
   ],
   "source": [
    "d = {'a':1, 'b':2, 'c':3}\n",
    "print(list(d.keys()))\n",
    "print(list(d.values()))\n",
    "print(list(d.items()))"
   ]
  },
  {
   "cell_type": "markdown",
   "id": "5c77053e-6032-494b-83f1-99c8de890e7a",
   "metadata": {},
   "source": [
    "**Iterating through the keys directly vs. through the `keys()` view**\n",
    "\n",
    "As you know, there's two ways we can iterate through the keys of a dictionary:"
   ]
  },
  {
   "cell_type": "code",
   "execution_count": 68,
   "id": "b35e2bf3-e3b2-4809-bc93-d6301f7fb149",
   "metadata": {},
   "outputs": [
    {
     "name": "stdout",
     "output_type": "stream",
     "text": [
      "a\n",
      "b\n",
      "c\n"
     ]
    }
   ],
   "source": [
    "d = dict(zip('abc',[1, 2, 3]))\n",
    "for k in d:\n",
    "    print(k)"
   ]
  },
  {
   "cell_type": "code",
   "execution_count": 69,
   "id": "74deb798-1816-4483-b23a-9ca69f3cacde",
   "metadata": {},
   "outputs": [
    {
     "name": "stdout",
     "output_type": "stream",
     "text": [
      "a\n",
      "b\n",
      "c\n"
     ]
    }
   ],
   "source": [
    "d = dict(zip('abc',[1, 2, 3]))\n",
    "\n",
    "for k in d.keys():\n",
    "    print(k)"
   ]
  },
  {
   "cell_type": "markdown",
   "id": "ca4eeefd-04d6-45f6-a431-ab4ef63b1973",
   "metadata": {},
   "source": [
    "The difference is that in the first example, we are returning an iterator from the dictionary while in the second, we are returning a `view` object. But, there's no difference in speed - use whichever approach you want.\n",
    "\n",
    "But if you want set-like functionality, you need to use the `view` object."
   ]
  },
  {
   "cell_type": "markdown",
   "id": "99efbdf1-ed21-4718-b52a-74cb8e57d2df",
   "metadata": {},
   "source": [
    "**Set Behaviour**\n",
    "\n",
    "The `keys()` view **always** behaves like a **frozen** set; frozen because we cannot modify the `keys()` view directly - we must modify the dictionary that contains them.\n",
    "\n",
    "The `items()` view **may** behave like a **frozen** set; this is true if all values are hashable (uniqueness is guaranteed since the keys are guaranteed unique).\n",
    "\n",
    "The `values()` view will **never** behave like a set; values are not guaranteed to be unique or hashable."
   ]
  },
  {
   "cell_type": "markdown",
   "id": "ef155299-86be-4b66-9af1-438625fafa4e",
   "metadata": {},
   "source": [
    "**Modifying a dictionary during iteration**\n",
    "\n",
    "Python will **not allow** modifying the **size** of a dictionary as you iterate through any view.\n",
    "\n",
    "The first iteration of this actually runs perfectly fine. But, when we get to the second iteration `d.values()` is **called/computed** again, and since the length of this iterable is different, we break."
   ]
  },
  {
   "cell_type": "code",
   "execution_count": 58,
   "id": "c5f22c0c-4889-4711-bbd1-b4749b44fcbc",
   "metadata": {},
   "outputs": [
    {
     "ename": "RuntimeError",
     "evalue": "dictionary changed size during iteration",
     "output_type": "error",
     "traceback": [
      "\u001b[1;31m---------------------------------------------------------------------------\u001b[0m",
      "\u001b[1;31mRuntimeError\u001b[0m                              Traceback (most recent call last)",
      "Cell \u001b[1;32mIn[58], line 3\u001b[0m\n\u001b[0;32m      1\u001b[0m d \u001b[38;5;241m=\u001b[39m {\u001b[38;5;124m'\u001b[39m\u001b[38;5;124ma\u001b[39m\u001b[38;5;124m'\u001b[39m:\u001b[38;5;241m1\u001b[39m, \u001b[38;5;124m'\u001b[39m\u001b[38;5;124mb\u001b[39m\u001b[38;5;124m'\u001b[39m:\u001b[38;5;241m2\u001b[39m, \u001b[38;5;124m'\u001b[39m\u001b[38;5;124mc\u001b[39m\u001b[38;5;124m'\u001b[39m:\u001b[38;5;241m3\u001b[39m}\n\u001b[1;32m----> 3\u001b[0m \u001b[38;5;28;01mfor\u001b[39;00m val \u001b[38;5;129;01min\u001b[39;00m d\u001b[38;5;241m.\u001b[39mvalues():\n\u001b[0;32m      4\u001b[0m     \u001b[38;5;28;01mdel\u001b[39;00m d[\u001b[38;5;124m'\u001b[39m\u001b[38;5;124mc\u001b[39m\u001b[38;5;124m'\u001b[39m]\n",
      "\u001b[1;31mRuntimeError\u001b[0m: dictionary changed size during iteration"
     ]
    }
   ],
   "source": [
    "d = {'a':1, 'b':2, 'c':3}\n",
    "\n",
    "for val in d.values():\n",
    "    del d['c']"
   ]
  },
  {
   "cell_type": "markdown",
   "id": "22df44fc-4c64-41d7-a29c-b19a6f2fe0a0",
   "metadata": {},
   "source": [
    "What if we actually do want to do something with a key and then throw it away. Well, a better data structure might be a queue or a deque. But, if we have to use a dictionary, then here's how we could do it:\n",
    "\n",
    "We'll need to iterate through a static list, and during each iteration, delete the key from the dictionary. Thus, we've avoided modifying the size of a dictionary while iterating through **its own** view:"
   ]
  },
  {
   "cell_type": "code",
   "execution_count": 79,
   "id": "88f973a5-173b-49a4-9464-64702b68958b",
   "metadata": {},
   "outputs": [
    {
     "name": "stdout",
     "output_type": "stream",
     "text": [
      "a 1\n",
      "b 4\n",
      "c 9\n",
      "final dictionary: {}\n"
     ]
    }
   ],
   "source": [
    "d = {'a':1, 'b':2, 'c':3}\n",
    "\n",
    "keys = list(d.keys())  # keys view went from dynamic to static when we converted to list\n",
    "\n",
    "for k in keys:\n",
    "    print(k, d[k]**2)  # some random operation before throwing key away\n",
    "    del d[k]\n",
    "\n",
    "print(f\"final dictionary: {d}\")"
   ]
  },
  {
   "cell_type": "markdown",
   "id": "b50bb42e-6be5-4432-af01-a72636685a77",
   "metadata": {},
   "source": [
    "A better way to do this is with `d.pop()` which will remove the key but give us a handle to the value before doing so: "
   ]
  },
  {
   "cell_type": "code",
   "execution_count": 81,
   "id": "2fc46925-0f89-4e83-8e1b-6cd31b4118b1",
   "metadata": {},
   "outputs": [
    {
     "name": "stdout",
     "output_type": "stream",
     "text": [
      "a 1\n",
      "b 4\n",
      "c 9\n",
      "final dictionary: {}\n"
     ]
    }
   ],
   "source": [
    "d = {'a':1, 'b':2, 'c':3}\n",
    "\n",
    "for k in list(d.keys()):\n",
    "    v = d.pop(k)\n",
    "    print(k, v**2)\n",
    "\n",
    "print(f\"final dictionary: {d}\")"
   ]
  },
  {
   "cell_type": "markdown",
   "id": "f97e968c-f368-462e-878f-e925f6df3613",
   "metadata": {},
   "source": [
    "There are plenty of other ways that do not require iterating through any of the views:"
   ]
  },
  {
   "cell_type": "code",
   "execution_count": 84,
   "id": "9176bb2f-d820-48f1-9a4a-7fea4e921baa",
   "metadata": {},
   "outputs": [
    {
     "name": "stdout",
     "output_type": "stream",
     "text": [
      "c 9\n",
      "b 4\n",
      "a 1\n",
      "final dictionary: {}\n"
     ]
    }
   ],
   "source": [
    "d = {'a':1, 'b':2, 'c':3}\n",
    "\n",
    "while len(d):\n",
    "    key, val = d.popitem()\n",
    "    print(key, val**2)\n",
    "\n",
    "print(f\"final dictionary: {d}\")"
   ]
  },
  {
   "cell_type": "markdown",
   "id": "07d2b0c2-a068-4258-a8aa-957c4df3a6de",
   "metadata": {},
   "source": [
    "Python *will* **allow** modifying the **keys** of a dictionary, **BUT DON'T DO IT**!"
   ]
  }
 ],
 "metadata": {
  "kernelspec": {
   "display_name": "Python 3 (ipykernel)",
   "language": "python",
   "name": "python3"
  },
  "language_info": {
   "codemirror_mode": {
    "name": "ipython",
    "version": 3
   },
   "file_extension": ".py",
   "mimetype": "text/x-python",
   "name": "python",
   "nbconvert_exporter": "python",
   "pygments_lexer": "ipython3",
   "version": "3.10.4"
  }
 },
 "nbformat": 4,
 "nbformat_minor": 5
}
