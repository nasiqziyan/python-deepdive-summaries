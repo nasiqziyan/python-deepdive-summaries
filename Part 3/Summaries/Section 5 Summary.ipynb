{
 "cells": [
  {
   "cell_type": "markdown",
   "id": "121c4b71-04e6-4c08-bfca-dd2b4b6bcfba",
   "metadata": {},
   "source": [
    "The most basic definition of a set is an **unordered** collection of **distinct** objects.\n",
    "\n",
    "In Python, elements in a set are generally **unordered** and always **distinct** (they do not compare `==`), but additionally, they must be **hashable**. Sets are implemented as hash maps so they're (almost) the same as dictionaries."
   ]
  },
  {
   "cell_type": "markdown",
   "id": "19166fd1-fa12-4bad-ad80-6d653362653f",
   "metadata": {},
   "source": [
    "For pretty much all the operations that we'll want to do, e.g. unions, intersections, symmetric differences, checking if disjointed, checking if one set is a subset/superset of another - there will be a method for it. \n",
    "\n",
    "For example `s1.issubset(s2)`. \n",
    "\n",
    "There will also be an operator. For the above example, we could do `s1 <= s2`."
   ]
  },
  {
   "cell_type": "markdown",
   "id": "ce434274-7c3a-4223-890c-f82ad6054137",
   "metadata": {},
   "source": [
    "# 01 - Creating Sets"
   ]
  },
  {
   "cell_type": "markdown",
   "id": "97f42549-2d6b-4922-bd12-3b8188960802",
   "metadata": {},
   "source": [
    "# 02 - Common Set Operations"
   ]
  },
  {
   "cell_type": "markdown",
   "id": "5a64270a-1640-48b8-ae4b-2965c142841d",
   "metadata": {},
   "source": [
    "# 03 - Set Operations"
   ]
  },
  {
   "cell_type": "markdown",
   "id": "1bfc02aa-06be-43d5-8878-f5ee4511a1d6",
   "metadata": {},
   "source": [
    "# 04 - Update Operations"
   ]
  },
  {
   "cell_type": "markdown",
   "id": "72649c0b-c427-4d77-9098-a327031b01a2",
   "metadata": {},
   "source": [
    "# 05 - Copying Sets"
   ]
  },
  {
   "cell_type": "markdown",
   "id": "d31540ce-afa4-44bb-bf7b-125e6be0cfc3",
   "metadata": {},
   "source": [
    "# 06 - Frozen Sets"
   ]
  },
  {
   "cell_type": "markdown",
   "id": "62e3fab4-6897-4387-888e-89bae894151a",
   "metadata": {},
   "source": [
    "# 07 - Dictionary Views"
   ]
  }
 ],
 "metadata": {
  "kernelspec": {
   "display_name": "Python 3 (ipykernel)",
   "language": "python",
   "name": "python3"
  },
  "language_info": {
   "codemirror_mode": {
    "name": "ipython",
    "version": 3
   },
   "file_extension": ".py",
   "mimetype": "text/x-python",
   "name": "python",
   "nbconvert_exporter": "python",
   "pygments_lexer": "ipython3",
   "version": "3.10.4"
  }
 },
 "nbformat": 4,
 "nbformat_minor": 5
}
