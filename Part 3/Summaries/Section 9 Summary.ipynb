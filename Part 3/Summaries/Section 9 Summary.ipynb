{
 "cells": [
  {
   "cell_type": "markdown",
   "id": "4fbd486c-61c2-4e70-aadf-729672c5227f",
   "metadata": {},
   "source": [
    "# 01 - defaultdict"
   ]
  },
  {
   "cell_type": "markdown",
   "id": "b975ebbe-5434-4f1d-950b-0506bd20e27a",
   "metadata": {},
   "source": [
    "#### Lecture"
   ]
  },
  {
   "cell_type": "markdown",
   "id": "f0b92ff3-cb64-4a1f-b030-2f435cd016c0",
   "metadata": {},
   "source": [
    "The `defaultdict` is a specialized dictionary found in the `collections` module. (It is a subclass of the `dict` type)."
   ]
  },
  {
   "cell_type": "code",
   "execution_count": 8,
   "id": "5f65bdb4-502c-40f1-a525-ae9dd7851cba",
   "metadata": {},
   "outputs": [],
   "source": [
    "from collections import defaultdict"
   ]
  },
  {
   "cell_type": "markdown",
   "id": "d264e4b6-f622-44b0-9a13-18ca6bb25b1f",
   "metadata": {},
   "source": [
    "Standard dictionaries in Python will raise an exception if we try to access a non-existent key:"
   ]
  },
  {
   "cell_type": "code",
   "execution_count": 1,
   "id": "6aa269be-ee45-4915-8114-1a24c18b7701",
   "metadata": {},
   "outputs": [
    {
     "ename": "KeyError",
     "evalue": "'a'",
     "output_type": "error",
     "traceback": [
      "\u001b[1;31m---------------------------------------------------------------------------\u001b[0m",
      "\u001b[1;31mKeyError\u001b[0m                                  Traceback (most recent call last)",
      "Cell \u001b[1;32mIn[1], line 2\u001b[0m\n\u001b[0;32m      1\u001b[0m d \u001b[38;5;241m=\u001b[39m {}\n\u001b[1;32m----> 2\u001b[0m \u001b[43md\u001b[49m\u001b[43m[\u001b[49m\u001b[38;5;124;43m'\u001b[39;49m\u001b[38;5;124;43ma\u001b[39;49m\u001b[38;5;124;43m'\u001b[39;49m\u001b[43m]\u001b[49m\n",
      "\u001b[1;31mKeyError\u001b[0m: 'a'"
     ]
    }
   ],
   "source": [
    "d = {}\n",
    "d['a']"
   ]
  },
  {
   "cell_type": "markdown",
   "id": "a5afd021-a9a2-4e15-81fe-7e208fc2a91c",
   "metadata": {},
   "source": [
    "We can get around this with `.get` method which returns `None` by default, or we can specify a default value:"
   ]
  },
  {
   "cell_type": "code",
   "execution_count": 2,
   "id": "a8588310-2e3e-4d5f-b130-f9fe4547b151",
   "metadata": {},
   "outputs": [
    {
     "data": {
      "text/plain": [
       "0"
      ]
     },
     "execution_count": 2,
     "metadata": {},
     "output_type": "execute_result"
    }
   ],
   "source": [
    "d.get('a', 0)"
   ]
  },
  {
   "cell_type": "markdown",
   "id": "d7392177-4e0b-47cb-a6eb-676b656eb373",
   "metadata": {},
   "source": [
    "We have already seen before that the pattern for using dictionaries for counting is the following:"
   ]
  },
  {
   "cell_type": "code",
   "execution_count": 6,
   "id": "d240902c-fe8b-47dc-9a66-8fcafc015375",
   "metadata": {},
   "outputs": [
    {
     "name": "stdout",
     "output_type": "stream",
     "text": [
      "{'a': 4, 'b': 2, 'l': 2, 'e': 4, ' ': 6, 'w': 2, 's': 2, 'I': 2, 'r': 1}\n"
     ]
    }
   ],
   "source": [
    "counts = {}\n",
    "sentence = \"able was I ere I saw elba\"\n",
    "for c in sentence:\n",
    "    counts[c] = counts.get(c, 0) + 1\n",
    "\n",
    "print(counts)"
   ]
  },
  {
   "cell_type": "markdown",
   "id": "1e4b969d-da7b-43a1-b308-cb349f26fbe0",
   "metadata": {},
   "source": [
    "But the issue is we have to remember to implement this pattern for each key that needs it. It would be easier to define the default value **once** per dict."
   ]
  },
  {
   "cell_type": "markdown",
   "id": "0e49e040-7de2-4067-8103-7830332bcf73",
   "metadata": {},
   "source": [
    "`defaultdict` solves this issue. It has the following structure: `defaultdict(<callable>, <...>)` where \n",
    "- `<callable>` is called to calculate a default value and must have zero arguments.\n",
    "- `<...>` are the arguments you would pass to the regular `dict()` function, e.g.  `defaultdict(<callable>, x=1, y=2)` will create a defaultdict with two keys, `x` and `y` with values 1 and 2."
   ]
  },
  {
   "cell_type": "markdown",
   "id": "b3fd6856-f8df-4270-961c-abf572cf4ad9",
   "metadata": {},
   "source": [
    "It's worth noting\n",
    "- **accessing** nonexist keys in a `defaultdict` will create those keys in the dictionary with the default value. This is in contrast to `.get` which only reads, never writes. This is true even when we call `.get` on a `defaultdict`.\n",
    "- the callable is a factory function that is called every time it is **needed**, not when the `defaultdict` is created. So whenever you access a nonexistent key, that's when the callable is called."
   ]
  },
  {
   "cell_type": "code",
   "execution_count": 15,
   "id": "f047a754-1219-4621-9436-c8b336b1bef3",
   "metadata": {},
   "outputs": [
    {
     "name": "stdout",
     "output_type": "stream",
     "text": [
      "defaultdict(<function <lambda> at 0x00000210B398F5B0>, {'x': 1, 'y': 2})\n",
      "defaultdict(<function <lambda> at 0x00000210B398F5B0>, {'x': 1, 'y': 2, 'z': 'python'})\n"
     ]
    }
   ],
   "source": [
    "d = defaultdict(lambda: 'python', x=1, y=2)\n",
    "print(d)\n",
    "d['z']\n",
    "print(d)"
   ]
  },
  {
   "cell_type": "markdown",
   "id": "13609c96-66f9-4d8e-a8ef-78863ea1863f",
   "metadata": {},
   "source": [
    "If we want to create an empty list as the default value, we could pass `list` as our callable since `list() => []`, but there are other **factory functions** (these are functions in addition to types):\n",
    "- `int: int() => 0`\n",
    "- `dict: dict() => {}`\n",
    "- `set: set() => {}`\n",
    "- `str: str() => ''`"
   ]
  },
  {
   "cell_type": "markdown",
   "id": "19b7f8b1-8ea2-4f21-abb5-3f1f7c941939",
   "metadata": {},
   "source": [
    "Here is the better pattern for counting. Since `defaultdict` is a subclass of `dict`, we have access to all `dict` methods like `.items()`, etc."
   ]
  },
  {
   "cell_type": "code",
   "execution_count": 14,
   "id": "67af2f61-bdbe-4cc2-80cc-daf530f655d7",
   "metadata": {},
   "outputs": [
    {
     "name": "stdout",
     "output_type": "stream",
     "text": [
      "defaultdict(<class 'int'>, {'a': 4, 'b': 2, 'l': 2, 'e': 4, ' ': 6, 'w': 2, 's': 2, 'I': 2, 'r': 1})\n"
     ]
    }
   ],
   "source": [
    "counts = defaultdict(int)\n",
    "sentence = \"able was I ere I saw elba\"\n",
    "\n",
    "for c in sentence:\n",
    "    counts[c] += 1\n",
    "\n",
    "print(counts)"
   ]
  },
  {
   "cell_type": "markdown",
   "id": "5c2685dd-d11f-49ba-9a3a-93e7c86b9903",
   "metadata": {},
   "source": [
    "#### Coding"
   ]
  },
  {
   "cell_type": "markdown",
   "id": "120687d5-f22d-418e-a6de-6a6e2149afd8",
   "metadata": {},
   "source": [
    "##### Example 1"
   ]
  },
  {
   "cell_type": "markdown",
   "id": "79b5b1e5-e245-4620-85ff-32fc2098e987",
   "metadata": {},
   "source": [
    "Let's take a look at another example of where a `defaultdict` can be useful.\n",
    "\n",
    "Suppose we have a dictionary structure that has people's names as keys, and a dictionary for the value that contains the person's eye color. We want to create a dictionary of eye colors, with a list of the people's names that have that eye color. For the data below, we would expect:\n",
    "```python\n",
    "{'blue': ['john', 'jill'], 'brown': ['jack'], 'unknown': ['eric', 'michael']}\n",
    "```"
   ]
  },
  {
   "cell_type": "code",
   "execution_count": 17,
   "id": "b0e6d2e2-4d6f-4682-8d13-22b0c0022bac",
   "metadata": {},
   "outputs": [],
   "source": [
    "persons = {\n",
    "    'john': {'age': 20, 'eye_color': 'blue'},\n",
    "    'jack': {'age': 25, 'eye_color': 'brown'},\n",
    "    'jill': {'age': 22, 'eye_color': 'blue'},\n",
    "    'eric': {'age': 35},\n",
    "    'michael': {'age': 27}\n",
    "}"
   ]
  },
  {
   "cell_type": "markdown",
   "id": "1b27b687-cfe3-409f-a404-1c125648a4eb",
   "metadata": {},
   "source": [
    "Using regular dictionaries and `.get`, here's one approach:"
   ]
  },
  {
   "cell_type": "code",
   "execution_count": 21,
   "id": "9470f40e-9f5e-4fce-83e5-f6143106d3c7",
   "metadata": {},
   "outputs": [
    {
     "name": "stdout",
     "output_type": "stream",
     "text": [
      "{'blue': ['john', 'jill'], 'brown': ['jack'], 'unknown': ['eric', 'michael']}\n"
     ]
    }
   ],
   "source": [
    "eye_colours = {}\n",
    "\n",
    "for person, details in persons.items():\n",
    "    colour = details.get('eye_color', 'unknown')\n",
    "    if colour not in eye_colours:\n",
    "        eye_colours[colour] = [person]\n",
    "    else:\n",
    "        eye_colours[colour].append(person)\n",
    "\n",
    "print(eye_colours)"
   ]
  },
  {
   "cell_type": "markdown",
   "id": "b285053d-72ab-4139-8add-15141f341633",
   "metadata": {},
   "source": [
    "Here's the improved approach:"
   ]
  },
  {
   "cell_type": "code",
   "execution_count": 22,
   "id": "27e8522c-79d6-48bd-a77b-425203453a49",
   "metadata": {},
   "outputs": [
    {
     "name": "stdout",
     "output_type": "stream",
     "text": [
      "defaultdict(<class 'list'>, {'blue': ['john', 'jill'], 'brown': ['jack'], 'unknown': ['eric', 'michael']})\n"
     ]
    }
   ],
   "source": [
    "eye_colours = defaultdict(list)\n",
    "for person, details in persons.items():\n",
    "    eye_colours[details.get('eye_color', 'unknown')].append(person)\n",
    "\n",
    "print(eye_colours)"
   ]
  },
  {
   "cell_type": "markdown",
   "id": "4313dee9-23d7-4485-aed2-25f8f1637c83",
   "metadata": {},
   "source": [
    "To simplify further, we can move the complexity of setting 'unknown' into the `persons` dictionary itself; if a person has no specified eye colour, return 'unknown'. One way we could do this is:"
   ]
  },
  {
   "cell_type": "code",
   "execution_count": 23,
   "id": "bb56de85-e9c0-4bc7-a9ff-99ba40b6a00d",
   "metadata": {},
   "outputs": [],
   "source": [
    "persons = {\n",
    "    'john': defaultdict(lambda: 'unknown', age=20, eye_color='blue'),\n",
    "    'jack': defaultdict(lambda: 'unknown', age=20, eye_color='brown'),\n",
    "    'jill': defaultdict(lambda: 'unknown', age=22, eye_color='blue'),\n",
    "    'eric': defaultdict(lambda: 'unknown', age=35),\n",
    "    'michael': defaultdict(lambda: 'unknown', age=27)\n",
    "}"
   ]
  },
  {
   "cell_type": "markdown",
   "id": "ff6c3983-1db2-4672-acd5-cfd7e2d6c532",
   "metadata": {},
   "source": [
    "Since each details dict has the same first argument, we can create a partial function which sets this argument implicitly. Our fully improved code becomes:"
   ]
  },
  {
   "cell_type": "code",
   "execution_count": 31,
   "id": "2815a3fc-1cb1-45d1-8419-834db5091b6b",
   "metadata": {},
   "outputs": [
    {
     "name": "stdout",
     "output_type": "stream",
     "text": [
      "defaultdict(<class 'list'>, {'blue': ['john', 'jill'], 'brown': ['jack'], 'unknown': ['eric', 'michael']})\n"
     ]
    }
   ],
   "source": [
    "from functools import partial\n",
    "\n",
    "details_dict = partial(defaultdict, lambda: 'unknown')  # this returns a version of defaultdict whose first argument is lambda: 'unknown'\n",
    "persons = {\n",
    "    'john': details_dict(age=20, eye_color='blue'),\n",
    "    'jack': details_dict(age=20, eye_color='brown'),\n",
    "    'jill': details_dict(age=22, eye_color='blue'),\n",
    "    'eric': details_dict(age=35),\n",
    "    'michael': details_dict(age=27)\n",
    "}\n",
    "\n",
    "eye_colours = defaultdict(list)\n",
    "for person, details in persons.items():\n",
    "    eye_colours[details['eye_color']].append(person)\n",
    "\n",
    "print(eye_colours)"
   ]
  },
  {
   "cell_type": "markdown",
   "id": "72a8aa27-43ff-4e12-af84-173199f20765",
   "metadata": {},
   "source": [
    "##### Example 2"
   ]
  },
  {
   "cell_type": "markdown",
   "id": "adcf1b3a-2012-4bed-919d-3137c7c93c87",
   "metadata": {},
   "source": [
    "So far, the factory method used in `defaultdict` has been deterministic, but since it's called whenever we hit a nonexistent key, it can be nondeterministic in that it could call to a database, API, etc. In this example, we'll show it being called on different datetimes.\n",
    "\n",
    "In this example we want to keep track of how many times certain functions are being called, as well as when they were **first** called. To do this I want to be able to decorate the functions I want to keep track of, and I want to be able to specify the dictionary that should be used so I can keep a reference to it so I can examine the results."
   ]
  },
  {
   "cell_type": "code",
   "execution_count": 53,
   "id": "2678053f-44b7-4f6e-bc9f-f00e4600f897",
   "metadata": {},
   "outputs": [],
   "source": [
    "from collections import defaultdict, namedtuple\n",
    "from datetime import datetime\n",
    "from functools import wraps\n",
    "\n",
    "Stats = namedtuple('Stats', 'decorator data')\n",
    "d = defaultdict(lambda: {\"count\": 0, \"first_called\": datetime.utcnow()})\n",
    "\n",
    "def decorator(fn):\n",
    "    @wraps(fn)\n",
    "    def wrapper(*args, **kwargs):\n",
    "        d[fn.__name__]['count'] += 1\n",
    "        return fn(*args, **kwargs)\n",
    "    return wrapper\n",
    "\n",
    "stats = Stats(decorator=decorator, data=d)        "
   ]
  },
  {
   "cell_type": "code",
   "execution_count": 54,
   "id": "bd9e473a-ce88-4e10-b071-881531afde95",
   "metadata": {},
   "outputs": [],
   "source": [
    "@stats.decorator\n",
    "def func_1():\n",
    "    pass\n",
    "\n",
    "@stats.decorator\n",
    "def func_2(x, y):\n",
    "    pass"
   ]
  },
  {
   "cell_type": "markdown",
   "id": "a0b7fe70-bcaa-4fde-8bde-778119cbbdb8",
   "metadata": {},
   "source": [
    "We expect `stats.data` to be empty because the functions haven't been called yet and `defaultdict` won't call the factory method until it has."
   ]
  },
  {
   "cell_type": "code",
   "execution_count": 55,
   "id": "217991d4-ebd6-4cea-9460-29117517f27d",
   "metadata": {},
   "outputs": [
    {
     "data": {
      "text/plain": [
       "defaultdict(<function __main__.<lambda>()>, {})"
      ]
     },
     "execution_count": 55,
     "metadata": {},
     "output_type": "execute_result"
    }
   ],
   "source": [
    "stats.data"
   ]
  },
  {
   "cell_type": "code",
   "execution_count": 56,
   "id": "fffcc586-6868-4f43-b410-d989b80106c3",
   "metadata": {},
   "outputs": [],
   "source": [
    "func_1()\n",
    "func_1()\n",
    "func_1()"
   ]
  },
  {
   "cell_type": "code",
   "execution_count": 57,
   "id": "8e52f01c-6358-42c6-834d-38ad4cb2e421",
   "metadata": {},
   "outputs": [
    {
     "data": {
      "text/plain": [
       "defaultdict(<function __main__.<lambda>()>,\n",
       "            {'func_1': {'count': 3,\n",
       "              'first_called': datetime.datetime(2024, 6, 10, 17, 6, 4, 971158)}})"
      ]
     },
     "execution_count": 57,
     "metadata": {},
     "output_type": "execute_result"
    }
   ],
   "source": [
    "stats.data"
   ]
  },
  {
   "cell_type": "markdown",
   "id": "d8047ec2-ae72-4df8-b718-d25e5c02f698",
   "metadata": {},
   "source": [
    "Waiting some time before calling the line below..."
   ]
  },
  {
   "cell_type": "code",
   "execution_count": 58,
   "id": "ecfe231c-d210-4eb4-9a19-c3c1614da1fa",
   "metadata": {},
   "outputs": [],
   "source": [
    "func_2(10, 20)"
   ]
  },
  {
   "cell_type": "code",
   "execution_count": 59,
   "id": "4c89438c-eb0f-4d97-9eb1-f491a8d26f4f",
   "metadata": {},
   "outputs": [
    {
     "data": {
      "text/plain": [
       "defaultdict(<function __main__.<lambda>()>,\n",
       "            {'func_1': {'count': 3,\n",
       "              'first_called': datetime.datetime(2024, 6, 10, 17, 6, 4, 971158)},\n",
       "             'func_2': {'count': 1,\n",
       "              'first_called': datetime.datetime(2024, 6, 10, 17, 6, 8, 634088)}})"
      ]
     },
     "execution_count": 59,
     "metadata": {},
     "output_type": "execute_result"
    }
   ],
   "source": [
    "stats.data"
   ]
  },
  {
   "cell_type": "markdown",
   "id": "df1a2c4e-f95a-45a2-b01a-9595e068a0ad",
   "metadata": {},
   "source": [
    "# 02 - OrderedDict"
   ]
  },
  {
   "cell_type": "markdown",
   "id": "ee25baeb-b090-4510-8c62-5a792eac76a8",
   "metadata": {},
   "source": [
    "Prior to Python 3.7, dictionary key order was not guaranteed. This became part of the language in 3.7, so the usefullness of this `OrderedDict` is diminished - but necessary if you want your dictionaries to maintain key order **and** be compatible with Python versions earlier then 3.6 (technically dicts are ordered in 3.6 as well, but it was considered an implementation detail, and not actually guaranteed).\n",
    "\n",
    "With that being said, `OrderedDict` does have additional order-related functionality such as:\n",
    "- reverse iteration: `reversed(d)` (note that you can now do this on regular dicts in Python 3.8)\n",
    "- popping first or last item: `d.popitem(last=False)` or `d.popitem(last=True)`\n",
    "- move item to end: `d.move_to_end('second_key')`\n",
    "- move item to beginning: `d.move_to_end('second_key', last=False)`\n",
    "\n",
    "Also equality comparison (`==`) of two `OrderedDict` is only `True` if the keys **and** the order is identical, unlike regular dictionaries where order doesn't matter.\n",
    "\n",
    "Since all of this is trivial to demonstrate with code, I've left it out here. Defer back the original notebook if needed."
   ]
  },
  {
   "cell_type": "markdown",
   "id": "25f5de9b-7ff4-457c-8246-5ebc747ce3d9",
   "metadata": {},
   "source": [
    "# 03 - OrderedDict vs Plain Dict"
   ]
  },
  {
   "cell_type": "markdown",
   "id": "817246c9-44a1-4012-86aa-d35cf0fa12e2",
   "metadata": {},
   "source": [
    "In this section, we can show how we can achieve the same functionality of `OrderedDict` but using a regular dictionary instead, constrained to **only performing mutations, not creating new dicts** . For example, \n",
    "\n",
    "- we can get the first key with `next(iter(d2.keys())`\n",
    "- we can get the last key with `d2.popitem()`\n",
    "\n",
    "Alternatively, we can convert the dict views into a list and get the first/last.\n",
    "\n",
    "Since, this is unlikely to be useful in practice, I've left it out here too. Defer back the original notebook if needed."
   ]
  },
  {
   "cell_type": "markdown",
   "id": "0b147309-07ed-482b-bc0c-8b3c18584e4c",
   "metadata": {},
   "source": [
    "# 04 - Counter"
   ]
  },
  {
   "cell_type": "markdown",
   "id": "00375127-a5e9-4a77-99cd-b8ff75d8e73f",
   "metadata": {},
   "source": [
    "#### Lecture"
   ]
  },
  {
   "cell_type": "markdown",
   "id": "d2186d07-a668-4693-b80d-aa4d6f521a61",
   "metadata": {},
   "source": [
    "We've already seen how we can use `defaultdict` to create a counter."
   ]
  },
  {
   "cell_type": "code",
   "execution_count": 12,
   "id": "15fa4ffa-b265-472a-a16b-50080681c23c",
   "metadata": {},
   "outputs": [
    {
     "name": "stdout",
     "output_type": "stream",
     "text": [
      "defaultdict(<class 'int'>, {'a': 4, 'b': 2, 'l': 2, 'e': 4, ' ': 6, 'w': 2, 's': 2, 'i': 2, 'r': 1})\n"
     ]
    }
   ],
   "source": [
    "from collections import defaultdict\n",
    "\n",
    "sentence = 'able was i ere i saw elba'\n",
    "d = defaultdict(int)\n",
    "\n",
    "for c in sentence:\n",
    "    d[c] += 1\n",
    "\n",
    "print(d)"
   ]
  },
  {
   "cell_type": "markdown",
   "id": "967e6b72-6d82-4aa9-9b2e-7024490d6548",
   "metadata": {},
   "source": [
    "But there are certain counter operations that are tedious to do manually, for example:\n",
    "- count the frequency of items in an iterable\n",
    "- update one counter dictionary with another counter dictionary\n",
    "- over multiple counter dictionaries, find the min/max counter value for each key that's present in all counter dictionaries.\n",
    "\n",
    "`collections.Counter` allows us to do this."
   ]
  },
  {
   "cell_type": "markdown",
   "id": "04ebc914-68f3-4437-b43d-0cac794ce154",
   "metadata": {},
   "source": [
    "`Counter` is a specialised dictionary with certain properties:\n",
    "- it is (python's implementation of) a multiset which is just a set that can contain identical elements. The frequency of each element is the **multiplicity** and the **cardinality** of the multiset is the sum of the multiplicities.\n",
    "- supports the same constructor options as regular dicts.\n",
    "- acts like a `defaultdict` with a default value of 0.\n",
    "- `update()` performs an in-place addition of counts as opposed to updating the value of a key."
   ]
  },
  {
   "cell_type": "markdown",
   "id": "ec427750-1858-44cb-b226-bb79ed0ef0b0",
   "metadata": {},
   "source": [
    "#### Coding"
   ]
  },
  {
   "cell_type": "markdown",
   "id": "3dd2dcf0-bbf3-439d-998e-0abff59dff09",
   "metadata": {},
   "source": [
    "##### Example 1: Frequency of items in an iterable"
   ]
  },
  {
   "cell_type": "markdown",
   "id": "edc91bd0-d3c9-4a91-984f-fbb19fdc4aae",
   "metadata": {},
   "source": [
    "This one is identical to `defaultdict`:"
   ]
  },
  {
   "cell_type": "code",
   "execution_count": 3,
   "id": "5c2e2a71-075e-4ae2-9160-3a6b96930a7c",
   "metadata": {},
   "outputs": [
    {
     "name": "stdout",
     "output_type": "stream",
     "text": [
      "Counter({' ': 6, 'a': 4, 'e': 4, 'b': 2, 'l': 2, 'w': 2, 's': 2, 'i': 2, 'r': 1})\n"
     ]
    }
   ],
   "source": [
    "from collections import Counter\n",
    "\n",
    "sentence = 'able was i ere i saw elba'\n",
    "counter = Counter()\n",
    "\n",
    "for c in sentence:\n",
    "    counter[c] += 1\n",
    "\n",
    "print(counter)"
   ]
  },
  {
   "cell_type": "markdown",
   "id": "94e3515b-a4a9-450f-8cb9-eadea809055c",
   "metadata": {},
   "source": [
    "But we can also do it this way:"
   ]
  },
  {
   "cell_type": "code",
   "execution_count": 16,
   "id": "4f17e044-c281-4f84-80b7-9f5d40c50ab4",
   "metadata": {},
   "outputs": [
    {
     "name": "stdout",
     "output_type": "stream",
     "text": [
      "Counter({' ': 6, 'a': 4, 'e': 4, 'b': 2, 'l': 2, 'w': 2, 's': 2, 'i': 2, 'r': 1})\n"
     ]
    }
   ],
   "source": [
    "counter = Counter('able was i ere i saw elba')\n",
    "print(counter)"
   ]
  },
  {
   "cell_type": "code",
   "execution_count": 21,
   "id": "b7bc0b83-9f74-4c69-8b0e-d786e98f3b82",
   "metadata": {},
   "outputs": [
    {
     "name": "stdout",
     "output_type": "stream",
     "text": [
      "Counter({7: 114, 10: 103, 5: 100, 8: 94, 9: 90, 1: 89, 3: 88, 0: 85, 6: 84, 2: 77, 4: 76})\n"
     ]
    }
   ],
   "source": [
    "import random\n",
    "counter = Counter([random.randint(0, 10) for _ in range(1_000)])\n",
    "print(counter)"
   ]
  },
  {
   "cell_type": "markdown",
   "id": "7ff02a09-b55b-4a36-a774-fd718ab46db0",
   "metadata": {},
   "source": [
    "##### Example 2: n most common items"
   ]
  },
  {
   "cell_type": "markdown",
   "id": "8d8df0da-2ef1-4944-ad54-bf427fba1049",
   "metadata": {},
   "source": [
    "Let's find the `n` most common words (by frequency) in a paragraph of text. Words are considered delimited by white space or punctuation marks such as `.`, `,`, `!`, etc - basically anything except a character or a digit.\n",
    "This is actually quite difficult to do, so we'll use a close enough approximation that will cover most cases just fine, using a regular expression:"
   ]
  },
  {
   "cell_type": "code",
   "execution_count": 22,
   "id": "5b90d26f-0a1b-427e-82d2-a404e7665da4",
   "metadata": {},
   "outputs": [
    {
     "name": "stdout",
     "output_type": "stream",
     "text": [
      "Counter({'': 23, 'the': 4, '0': 3, 'functions': 2, 'distributions': 2, 'random': 2, 'On': 1, 'real': 1, 'line': 1, 'there': 1, 'are': 1, 'to': 1, 'compute': 1, 'uniform': 1, 'normal': 1, 'Gaussian': 1, 'lognormal': 1, 'negative': 1, 'exponential': 1, 'gamma': 1, 'and': 1, 'beta': 1, 'For': 1, 'generating': 1, 'of': 1, 'angles': 1, 'von': 1, 'Mises': 1, 'distribution': 1, 'is': 1, 'available': 1, 'Almost': 1, 'all': 1, 'module': 1, 'depend': 1, 'on': 1, 'basic': 1, 'function': 1, 'which': 1, 'generates': 1, 'a': 1, 'float': 1, 'uniformly': 1, 'in': 1, 'semi': 1, 'open': 1, 'range': 1, '1': 1})\n"
     ]
    }
   ],
   "source": [
    "import re\n",
    "sentence = '''\n",
    "On the real line, there are functions to compute uniform, normal (Gaussian), lognormal, negative exponential, gamma, \n",
    "and beta distributions. For generating distributions of angles, the von Mises distribution is available. \n",
    "Almost all module functions depend on the basic function random(), which generates a random float uniformly in the semi-open range [0.0, 1.0). \n",
    "'''\n",
    "words = re.split('\\W', sentence)\n",
    "counter = Counter(words)\n",
    "print(counter)"
   ]
  },
  {
   "cell_type": "code",
   "execution_count": 23,
   "id": "74225c74-5b77-4500-acd2-00e8f6d6e426",
   "metadata": {},
   "outputs": [
    {
     "data": {
      "text/plain": [
       "[('', 23), ('the', 4), ('0', 3), ('functions', 2), ('distributions', 2)]"
      ]
     },
     "execution_count": 23,
     "metadata": {},
     "output_type": "execute_result"
    }
   ],
   "source": [
    "counter.most_common(5)"
   ]
  },
  {
   "cell_type": "markdown",
   "id": "b3e3223f-14a2-4858-a2ec-36c6fda267cf",
   "metadata": {},
   "source": [
    "##### Example 3: Iterating through repeated elements"
   ]
  },
  {
   "cell_type": "markdown",
   "id": "eaaf2851-0327-4f02-93e4-806857145634",
   "metadata": {},
   "source": [
    "As we already know, we can't have identical keys in a dictionary so when we iterate through the keys view, we are guaranteed to get unique elements. \n",
    "\n",
    "But the same is not true for `Counter` - we *can* iterate through and see repeated elements:"
   ]
  },
  {
   "cell_type": "code",
   "execution_count": 41,
   "id": "a985a44e-8bbf-41ba-add9-a8b272b21f32",
   "metadata": {},
   "outputs": [
    {
     "name": "stdout",
     "output_type": "stream",
     "text": [
      "Counter({'a': 3, 'y': 3, 'b': 2, 'z': 1, 'x': 1})\n",
      "a\n",
      "a\n",
      "a\n",
      "b\n",
      "b\n",
      "z\n",
      "y\n",
      "y\n",
      "y\n",
      "x\n"
     ]
    }
   ],
   "source": [
    "counter = Counter('abbazyyyxa')\n",
    "print(counter)\n",
    "\n",
    "for c in counter.elements():\n",
    "    print(c)"
   ]
  },
  {
   "cell_type": "markdown",
   "id": "98efbb0a-2f8e-458c-892f-fd7170ed5d73",
   "metadata": {},
   "source": [
    "##### Example 4: Aggregating Counters with `.update()`, `.subtract()`,"
   ]
  },
  {
   "cell_type": "markdown",
   "id": "5418b4d8-3295-4fe8-b8a8-93a20dbca470",
   "metadata": {},
   "source": [
    "Remember that the values refer to frequencies. `Counter.update()` and `Counter.subtract()` will not replace one value with another like with regular dictionaries. Instead it will sum them and **mutate** the original dictionary."
   ]
  },
  {
   "cell_type": "code",
   "execution_count": 4,
   "id": "a5f25f04-2e4c-448e-8942-cfbd40865f05",
   "metadata": {},
   "outputs": [
    {
     "name": "stdout",
     "output_type": "stream",
     "text": [
      "Counter({'c': 5, 'b': 3, 'd': 3, 'a': 1})\n"
     ]
    }
   ],
   "source": [
    "c1 = Counter(a=1, b=2, c=3)\n",
    "c2 = Counter(b=1, c=2, d=3)\n",
    "\n",
    "c1.update(c2)\n",
    "print(c1)"
   ]
  },
  {
   "cell_type": "code",
   "execution_count": 5,
   "id": "b7a28ad4-4cb4-4bd6-92cd-d5a73a242d19",
   "metadata": {},
   "outputs": [
    {
     "name": "stdout",
     "output_type": "stream",
     "text": [
      "Counter({'a': 1, 'b': 1, 'c': 1, 'd': -3})\n"
     ]
    }
   ],
   "source": [
    "c1 = Counter(a=1, b=2, c=3)\n",
    "c2 = Counter(b=1, c=2, d=3)\n",
    "\n",
    "c1.subtract(c2)\n",
    "print(c1)"
   ]
  },
  {
   "cell_type": "markdown",
   "id": "d4c37153-f098-4491-b223-80fe2785483b",
   "metadata": {},
   "source": [
    "We can also aggregate using the constructor:"
   ]
  },
  {
   "cell_type": "code",
   "execution_count": 7,
   "id": "9d79ef34-3452-40f5-ba2e-714c59851747",
   "metadata": {},
   "outputs": [
    {
     "name": "stdout",
     "output_type": "stream",
     "text": [
      "Counter({'a': 3, 'b': 3, 'c': 3, 'd': 1, 'e': 1, 'f': 1, 'g': 1, 'h': 1})\n"
     ]
    }
   ],
   "source": [
    "c1 = Counter('aabbcc')\n",
    "c1.update('abcdefgh')\n",
    "print(c1)"
   ]
  },
  {
   "cell_type": "markdown",
   "id": "c733c68e-00d1-4f2e-a550-ce8cb7a76921",
   "metadata": {},
   "source": [
    "##### Example 5: Aggregating Counters with mathematical operations"
   ]
  },
  {
   "cell_type": "markdown",
   "id": "3d9bcf26-7a9e-4325-9829-4376a3ab387c",
   "metadata": {},
   "source": [
    "These `Counter` objects also support several other mathematical operations when both operands are `Counter` objects. In all these cases the result is a new `Counter` object.\n",
    "\n",
    "* `+`: same as `update`, but returns a new `Counter` object instead of an in-place update.\n",
    "* `-`: subtracts one counter from another, but discards zero and negative values\n",
    "* `&`: keeps the **minimum** of the key values\n",
    "* `|`: keeps the **maximum** of the key values"
   ]
  },
  {
   "cell_type": "markdown",
   "id": "621c3ddc-e128-46a9-8554-a9451612e857",
   "metadata": {},
   "source": [
    "We can also aggregate with the operators which is **non-mutating**:"
   ]
  },
  {
   "cell_type": "code",
   "execution_count": 10,
   "id": "dfbd08a3-7d22-4fe5-9cdd-d90e474a4a5e",
   "metadata": {},
   "outputs": [
    {
     "data": {
      "text/plain": [
       "Counter({'a': 3, 'b': 3, 'c': 3})"
      ]
     },
     "execution_count": 10,
     "metadata": {},
     "output_type": "execute_result"
    }
   ],
   "source": [
    "c1 = Counter('aabbcc')\n",
    "c2 = Counter('abc')\n",
    "c1 + c2"
   ]
  },
  {
   "cell_type": "code",
   "execution_count": 11,
   "id": "a4c0669a-1744-41ba-be8c-2e0cbb7ab080",
   "metadata": {},
   "outputs": [
    {
     "data": {
      "text/plain": [
       "Counter({'a': 1, 'b': 1, 'c': 1})"
      ]
     },
     "execution_count": 11,
     "metadata": {},
     "output_type": "execute_result"
    }
   ],
   "source": [
    "c1 = Counter('aabbcc')\n",
    "c2 = Counter('abc')\n",
    "c1 - c2"
   ]
  },
  {
   "cell_type": "markdown",
   "id": "a624fd32-7607-44b7-ba01-5995f41fbfca",
   "metadata": {},
   "source": [
    "We can also get the minimum of the key values across dictionaries:"
   ]
  },
  {
   "cell_type": "code",
   "execution_count": 12,
   "id": "55b412f3-e501-41fc-91a8-05aad8649005",
   "metadata": {},
   "outputs": [
    {
     "data": {
      "text/plain": [
       "Counter({'a': 1, 'b': 1})"
      ]
     },
     "execution_count": 12,
     "metadata": {},
     "output_type": "execute_result"
    }
   ],
   "source": [
    "c1 = Counter(a=5, b=1)\n",
    "c2 = Counter(a=1, b=10)\n",
    "c1 & c2"
   ]
  },
  {
   "cell_type": "markdown",
   "id": "12168cba-95cf-48eb-9448-28e4a498f704",
   "metadata": {},
   "source": [
    "We can get the maximum with |:"
   ]
  },
  {
   "cell_type": "code",
   "execution_count": 13,
   "id": "6ee8d423-c62f-4338-9076-db0708c55a7f",
   "metadata": {},
   "outputs": [
    {
     "data": {
      "text/plain": [
       "Counter({'b': 10, 'a': 5})"
      ]
     },
     "execution_count": 13,
     "metadata": {},
     "output_type": "execute_result"
    }
   ],
   "source": [
    "c1 = Counter(a=5, b=1)\n",
    "c2 = Counter(a=1, b=10)\n",
    "c1 | c2"
   ]
  },
  {
   "cell_type": "markdown",
   "id": "c67bc8a7-1bb1-4f55-beae-48e01e36802f",
   "metadata": {},
   "source": [
    "The **unary** `+` can also be used to remove any non-positive count from the Counter:"
   ]
  },
  {
   "cell_type": "code",
   "execution_count": 15,
   "id": "1420164b-8959-4809-9047-dca0babfde24",
   "metadata": {},
   "outputs": [
    {
     "data": {
      "text/plain": [
       "Counter({'a': 10})"
      ]
     },
     "execution_count": 15,
     "metadata": {},
     "output_type": "execute_result"
    }
   ],
   "source": [
    "c1 = Counter(a=10, b=-20, c=0)\n",
    "+c1"
   ]
  },
  {
   "cell_type": "markdown",
   "id": "ad566658-aaa5-4db1-acc9-f46bf44533dd",
   "metadata": {},
   "source": [
    "The **unary** `-` changes the sign of each counter, and removes any non-positive result:"
   ]
  },
  {
   "cell_type": "code",
   "execution_count": 16,
   "id": "5dfcdb63-b974-468a-adfd-4d5dfcb8e058",
   "metadata": {},
   "outputs": [
    {
     "data": {
      "text/plain": [
       "Counter({'b': 20})"
      ]
     },
     "execution_count": 16,
     "metadata": {},
     "output_type": "execute_result"
    }
   ],
   "source": [
    "c1 = Counter(a=10, b=-20, c=0)\n",
    "-c1"
   ]
  },
  {
   "cell_type": "markdown",
   "id": "3a60439b-b0f8-42fb-8b77-386e601dd138",
   "metadata": {},
   "source": [
    "##### Example 6: Top selling widgets"
   ]
  },
  {
   "cell_type": "markdown",
   "id": "aad6e60e-fc6b-479f-8649-4c40c44dfc10",
   "metadata": {},
   "source": [
    "Let's assume you are working for a company that produces different kinds of widgets.\n",
    "You are asked to identify the top 3 best selling widgets.\n",
    "\n",
    "You have two separate data sources - one data source can give you a history of all widget orders (widget name, quantity), while another data source can give you a history of widget refunds (widget name, quantity refunded).\n",
    "\n",
    "From these two data sources, you need to determine the top selling widgets (taking refinds into account of course)."
   ]
  },
  {
   "cell_type": "markdown",
   "id": "76f5e56e-1ad5-462e-9635-0ca834b8a522",
   "metadata": {},
   "source": [
    "Let's simulate both of these lists:"
   ]
  },
  {
   "cell_type": "code",
   "execution_count": 18,
   "id": "22ba0b0d-30ad-4655-8d4f-132107795981",
   "metadata": {},
   "outputs": [],
   "source": [
    "import random\n",
    "random.seed(0)\n",
    "\n",
    "widgets = ['battery', 'charger', 'cable', 'case', 'keyboard', 'mouse']\n",
    "\n",
    "orders = [(random.choice(widgets), random.randint(1, 5)) for _ in range(100)]\n",
    "refunds = [(random.choice(widgets), random.randint(1, 3)) for _ in range(20)]"
   ]
  },
  {
   "cell_type": "code",
   "execution_count": 19,
   "id": "a4821bd1-6853-4fe4-b772-fc82ae37a432",
   "metadata": {},
   "outputs": [
    {
     "name": "stdout",
     "output_type": "stream",
     "text": [
      "('case', 4)\n",
      "('battery', 3)\n",
      "('keyboard', 4)\n"
     ]
    }
   ],
   "source": [
    "for order in orders[:3]:\n",
    "    print(order)"
   ]
  },
  {
   "cell_type": "markdown",
   "id": "22790a22-e574-4cf1-a960-95cd01048f05",
   "metadata": {},
   "source": [
    "**Solution 1**"
   ]
  },
  {
   "cell_type": "code",
   "execution_count": 20,
   "id": "ebce00af-5a85-410e-922d-df96b628fd38",
   "metadata": {},
   "outputs": [],
   "source": [
    "sold_counter = Counter()\n",
    "refund_counter = Counter()\n",
    "\n",
    "for order in orders:\n",
    "    sold_counter[order[0]] += order[1]\n",
    "\n",
    "for refund in refunds:\n",
    "    refund_counter[refund[0]] += refund[1]"
   ]
  },
  {
   "cell_type": "code",
   "execution_count": 21,
   "id": "eeacd443-b868-4bc1-b7af-f1600d25e2a4",
   "metadata": {},
   "outputs": [
    {
     "data": {
      "text/plain": [
       "[('keyboard', 58), ('battery', 54), ('mouse', 39)]"
      ]
     },
     "execution_count": 21,
     "metadata": {},
     "output_type": "execute_result"
    }
   ],
   "source": [
    "net_counter = sold_counter - refund_counter\n",
    "net_counter.most_common(3)"
   ]
  },
  {
   "cell_type": "markdown",
   "id": "fe16b15c-1b98-43b2-9abd-8efd3ebef7d0",
   "metadata": {},
   "source": [
    "**Solution 2**"
   ]
  },
  {
   "cell_type": "markdown",
   "id": "db990755-01d3-4512-a8fd-e9fe8ee42c5e",
   "metadata": {},
   "source": [
    "We know that `Counter` can take an iterable (remember iterators/generators are included) so:\n",
    "```python\n",
    "Counter(['case', 'case', 'case', 'case', 'battery', 'battery', 'battery', ...])\n",
    "```\n",
    "This gives us a single iterable (generator) of iterables (generators) which can be passed into `itertools.chain.from_iterable(<iterable>)`\n",
    "```python\n",
    "(repeat(*order) for order in orders) \n",
    "```"
   ]
  },
  {
   "cell_type": "code",
   "execution_count": 40,
   "id": "b7092c75-d602-42fa-902d-c661295b6c4b",
   "metadata": {},
   "outputs": [
    {
     "name": "stdout",
     "output_type": "stream",
     "text": [
      "[('keyboard', 65), ('battery', 61), ('mouse', 46)]\n"
     ]
    }
   ],
   "source": [
    "from itertools import chain, repeat\n",
    "\n",
    "repeat_orders_iter = (repeat(*order) for order in orders) \n",
    "sold_counter = Counter(chain.from_iterable(repeat_orders_iter))\n",
    "\n",
    "repeat_refunds_iter = (repeat(*refund) for refund in refunds) \n",
    "refund_counter = Counter(chain.from_iterable(repeat_orders_iter))\n",
    "\n",
    "net_counter = sold_counter - refund_counter\n",
    "print(net_counter.most_common(3))"
   ]
  },
  {
   "cell_type": "markdown",
   "id": "3bd86068-d821-4645-8863-0ce42f646f26",
   "metadata": {},
   "source": [
    "Alternatively, we could (eager) unpack the single iterable and use `itertools.chain(<iter_1>, <iter_2>, ...)`"
   ]
  },
  {
   "cell_type": "code",
   "execution_count": 41,
   "id": "698efe3f-7c88-4a28-bb8f-e422badd46d6",
   "metadata": {},
   "outputs": [
    {
     "name": "stdout",
     "output_type": "stream",
     "text": [
      "[('keyboard', 65), ('battery', 61), ('mouse', 46)]\n"
     ]
    }
   ],
   "source": [
    "from itertools import chain, repeat\n",
    "\n",
    "repeat_orders_iter = (repeat(*order) for order in orders) \n",
    "sold_counter = Counter(chain(*repeat_orders_iter))\n",
    "\n",
    "repeat_refunds_iter = (repeat(*refund) for refund in refunds) \n",
    "refund_counter = Counter(chain(*repeat_orders_iter))\n",
    "\n",
    "net_counter = sold_counter - refund_counter\n",
    "print(net_counter.most_common(3))"
   ]
  },
  {
   "cell_type": "markdown",
   "id": "c043c97e-deaf-463d-b3e6-3e98d2430ef5",
   "metadata": {},
   "source": [
    "# 05 - ChainMap"
   ]
  },
  {
   "cell_type": "markdown",
   "id": "d529a395-5d6a-4523-80a6-5de881ea5ad2",
   "metadata": {},
   "source": [
    "#### Lecture"
   ]
  },
  {
   "cell_type": "markdown",
   "id": "2df9a2a1-2892-4e80-b0cf-7585fe4d182f",
   "metadata": {},
   "source": [
    "`collections.ChainMap` is the dictionary equivalent to `itertools.chain`, but it is **not** an instance of a dictionary.\n",
    "\n",
    "With `chain`, we could \"concatenate\" multiple iterables together but iterate through them as if it was one large iterable. The big iterable never duplicated any data - instead it would iterate through the underlying iterables.\n",
    "\n",
    "`ChainMap` is the same - we can chain multiple dictionaries without duplicating any data. \n",
    "\n",
    "It also behaves like a **view**. If we start mutating the original underlying dictionaries during iteration, the `ChainMap` dictionary will reflect those changes. Alternatively, if we modify the `ChainMap`, this will modify the underlying dictionaries. In fact, it will only modify one specific dictionary called the **Child** (see below)."
   ]
  },
  {
   "cell_type": "markdown",
   "id": "e1e8e2a3-a011-450e-8dd0-d7eddc178593",
   "metadata": {},
   "source": [
    "##### Comparison to regular dicts"
   ]
  },
  {
   "cell_type": "markdown",
   "id": "b678a260-63d4-4196-ab9d-6d0d617ac792",
   "metadata": {},
   "source": [
    "- `d = {**d1, **d2, **d3}` duplicates data from `d1`, `d2` and `d3` so it uses twice as much storage.\n",
    "- Unpacking also **merges** so if two dictionaries contain identical keys, **last \"update\" wins**. With `ChainMap`, **first key wins** (see below)\n",
    "- There is **no guarantee of key order when iterating a `ChainMap`**"
   ]
  },
  {
   "cell_type": "code",
   "execution_count": 56,
   "id": "101f266b-f018-4904-9e89-fa75c060b3b2",
   "metadata": {},
   "outputs": [
    {
     "name": "stdout",
     "output_type": "stream",
     "text": [
      "c 3\n",
      "d 4\n",
      "b 2\n",
      "a 1\n"
     ]
    }
   ],
   "source": [
    "from collections import ChainMap\n",
    "\n",
    "d1 = {'a': 1, 'b': 2}\n",
    "d2 = {'b': 20, 'c': 3}\n",
    "d3 = {'c': 30, 'd': 4}\n",
    "\n",
    "d = ChainMap(d1, d2, d3)\n",
    "for k, v in d.items():\n",
    "    print(k, v)"
   ]
  },
  {
   "cell_type": "markdown",
   "id": "25bb6e1f-3abf-4e96-9590-f580cb478eb9",
   "metadata": {},
   "source": [
    "##### Parent-Child Relationships"
   ]
  },
  {
   "cell_type": "markdown",
   "id": "4b8d366d-9a55-410c-b3a7-abda5b96017a",
   "metadata": {},
   "source": [
    "In `ChainMap(d1, d2, d3)`, the first dict is called the **child** and all subsequent dictionaries are **parents**. Recalling that **first key wins**, `d1` overrides `d2` which overrides `d3`.\n",
    "\n",
    "There are specific attributes to deal with these relationships:\n",
    "\n",
    "- `d.parents`: A `ChainMap` containing the **parent** elements only; equivalent to `ChainMap(d2, d3)`\n",
    "- `d.new_child(d0)`: Adds `d0` to the bottom of the relationship so it's the new child that overrides all others; equivalent to `ChainMap(d0, d1, d2, d3)`\n",
    "- `d.maps` returns a **mutable** list representing the hierarchy. All iterable operations performed on this will apply to the ChainMap. This is the preferable way of mutating the relationships.\n",
    "```\n",
    "d = ChainMap(d1, d2, d3) --> ChainMap(d1, d2, d3)\n",
    "d.maps.append(d4)        --> ChainMap(d1, d2, d3, d4)\n",
    "d.maps.insert(0, d0)     --> ChainMap(d0, d1, d2, d3, d4) \n",
    "```\n",
    "\n",
    "\n",
    "  \n"
   ]
  },
  {
   "cell_type": "markdown",
   "id": "f627cc82-67ff-4b1f-9550-a2a72072c4bd",
   "metadata": {},
   "source": [
    "##### Mutating Maps via the ChainMap"
   ]
  },
  {
   "cell_type": "markdown",
   "id": "3098671a-dfa6-4562-add1-eb48357f0c6c",
   "metadata": {},
   "source": [
    "We can mutate the key-value pairs in the underlying map itself. \n",
    "```python\n",
    "d = ChainMap(d1, d2)\n",
    "d[key] = value\n",
    "```\n",
    "**But**, these mutations only affect the underlying **child** map **only**."
   ]
  },
  {
   "cell_type": "code",
   "execution_count": 58,
   "id": "ecf91390-941d-40aa-82d5-893fe3e29620",
   "metadata": {},
   "outputs": [
    {
     "name": "stdout",
     "output_type": "stream",
     "text": [
      "{'a': 100, 'b': 2}\n",
      "{'a': 100, 'b': 2, 'c': 200}\n"
     ]
    }
   ],
   "source": [
    "d1 = {'a': 1, 'b': 2}\n",
    "d2 = {'a': 20, 'c': 3}\n",
    "\n",
    "d = ChainMap(d1, d2)\n",
    "\n",
    "d['a'] = 100  # d1 has been mutated; d2 unaffected\n",
    "print(d1)\n",
    "\n",
    "d['c'] = 200 # d1 has been mutated EVEN THOUGH d2 contains a 'c' key; d2 unaffected.\n",
    "print(d1)"
   ]
  },
  {
   "cell_type": "markdown",
   "id": "9bb9a723-460a-491d-a553-f7502ec990e0",
   "metadata": {},
   "source": [
    "If we try to delete a key that's present in a parent but not the child, we'll get a `KeyError` exception:"
   ]
  },
  {
   "cell_type": "code",
   "execution_count": 59,
   "id": "0b8a252f-6472-483e-aa0b-586bde759f1c",
   "metadata": {},
   "outputs": [
    {
     "ename": "KeyError",
     "evalue": "\"Key not found in the first mapping: 'c'\"",
     "output_type": "error",
     "traceback": [
      "\u001b[1;31m---------------------------------------------------------------------------\u001b[0m",
      "\u001b[1;31mKeyError\u001b[0m                                  Traceback (most recent call last)",
      "File \u001b[1;32m~\\AppData\\Local\\Programs\\Python\\Python310\\lib\\collections\\__init__.py:1042\u001b[0m, in \u001b[0;36mChainMap.__delitem__\u001b[1;34m(self, key)\u001b[0m\n\u001b[0;32m   1041\u001b[0m \u001b[38;5;28;01mtry\u001b[39;00m:\n\u001b[1;32m-> 1042\u001b[0m     \u001b[38;5;28;01mdel\u001b[39;00m \u001b[38;5;28mself\u001b[39m\u001b[38;5;241m.\u001b[39mmaps[\u001b[38;5;241m0\u001b[39m][key]\n\u001b[0;32m   1043\u001b[0m \u001b[38;5;28;01mexcept\u001b[39;00m \u001b[38;5;167;01mKeyError\u001b[39;00m:\n",
      "\u001b[1;31mKeyError\u001b[0m: 'c'",
      "\nDuring handling of the above exception, another exception occurred:\n",
      "\u001b[1;31mKeyError\u001b[0m                                  Traceback (most recent call last)",
      "Cell \u001b[1;32mIn[59], line 6\u001b[0m\n\u001b[0;32m      2\u001b[0m d2 \u001b[38;5;241m=\u001b[39m {\u001b[38;5;124m'\u001b[39m\u001b[38;5;124ma\u001b[39m\u001b[38;5;124m'\u001b[39m: \u001b[38;5;241m20\u001b[39m, \u001b[38;5;124m'\u001b[39m\u001b[38;5;124mc\u001b[39m\u001b[38;5;124m'\u001b[39m: \u001b[38;5;241m3\u001b[39m}\n\u001b[0;32m      4\u001b[0m d \u001b[38;5;241m=\u001b[39m ChainMap(d1, d2)\n\u001b[1;32m----> 6\u001b[0m \u001b[38;5;28;01mdel\u001b[39;00m d[\u001b[38;5;124m'\u001b[39m\u001b[38;5;124mc\u001b[39m\u001b[38;5;124m'\u001b[39m]\n",
      "File \u001b[1;32m~\\AppData\\Local\\Programs\\Python\\Python310\\lib\\collections\\__init__.py:1044\u001b[0m, in \u001b[0;36mChainMap.__delitem__\u001b[1;34m(self, key)\u001b[0m\n\u001b[0;32m   1042\u001b[0m     \u001b[38;5;28;01mdel\u001b[39;00m \u001b[38;5;28mself\u001b[39m\u001b[38;5;241m.\u001b[39mmaps[\u001b[38;5;241m0\u001b[39m][key]\n\u001b[0;32m   1043\u001b[0m \u001b[38;5;28;01mexcept\u001b[39;00m \u001b[38;5;167;01mKeyError\u001b[39;00m:\n\u001b[1;32m-> 1044\u001b[0m     \u001b[38;5;28;01mraise\u001b[39;00m \u001b[38;5;167;01mKeyError\u001b[39;00m(\u001b[38;5;124mf\u001b[39m\u001b[38;5;124m'\u001b[39m\u001b[38;5;124mKey not found in the first mapping: \u001b[39m\u001b[38;5;132;01m{\u001b[39;00mkey\u001b[38;5;132;01m!r}\u001b[39;00m\u001b[38;5;124m'\u001b[39m)\n",
      "\u001b[1;31mKeyError\u001b[0m: \"Key not found in the first mapping: 'c'\""
     ]
    }
   ],
   "source": [
    "d1 = {'a': 1, 'b': 2}\n",
    "d2 = {'a': 20, 'c': 3}\n",
    "\n",
    "d = ChainMap(d1, d2)\n",
    "\n",
    "del d['c']"
   ]
  },
  {
   "cell_type": "markdown",
   "id": "f05db9e8-bd94-45b6-87b2-8598ea4a85f7",
   "metadata": {},
   "source": [
    "#### Example: Temporarily modifying a config"
   ]
  },
  {
   "cell_type": "markdown",
   "id": "781ef9c3-c937-408c-a4dd-849f55a2b835",
   "metadata": {},
   "source": [
    "Let's say we have a dictionary with some settings and we want to temporarily modify these settings, but without modifying the original dictionary.\n",
    "\n",
    "We could certainly copy the dictionary and work with the copy, discarding the copy when we no longer need it - but again this incurs some overhead copying all the data.\n",
    "\n",
    "Instead we can use a chain map this way, by making the first dictionary in the chain a new empty dictionary - any updates we make will be made to that dictionary only, thereby preserving the other dictionaries."
   ]
  },
  {
   "cell_type": "code",
   "execution_count": 62,
   "id": "a922c1c5-bdf7-46f1-bed0-04d435dc3c31",
   "metadata": {},
   "outputs": [],
   "source": [
    "config = {\n",
    "    'host': 'prod.deepdive.com',\n",
    "    'port': 5432,\n",
    "    'database': 'deepdive',\n",
    "    'user_id': '$pg_user',\n",
    "    'user_pwd': '$pg_pwd'\n",
    "}"
   ]
  },
  {
   "cell_type": "code",
   "execution_count": 63,
   "id": "98f8ccce-45eb-433a-8e5f-ea20d0da4c35",
   "metadata": {},
   "outputs": [],
   "source": [
    "local_config = ChainMap({}, config)"
   ]
  },
  {
   "cell_type": "markdown",
   "id": "06994aad-9d76-4936-a7e0-31157502e79c",
   "metadata": {},
   "source": [
    "Now let's mutate the child `{}` which will override the parent (config):"
   ]
  },
  {
   "cell_type": "code",
   "execution_count": 64,
   "id": "a6005f58-9868-4c3a-9ceb-d77f47d732b8",
   "metadata": {},
   "outputs": [
    {
     "data": {
      "text/plain": [
       "[('host', 'prod.deepdive.com'),\n",
       " ('port', 5432),\n",
       " ('database', 'deepdive'),\n",
       " ('user_id', 'test'),\n",
       " ('user_pwd', 'test')]"
      ]
     },
     "execution_count": 64,
     "metadata": {},
     "output_type": "execute_result"
    }
   ],
   "source": [
    "local_config['user_id'] = 'test'\n",
    "local_config['user_pwd'] = 'test'\n",
    "\n",
    "list(local_config.items())"
   ]
  },
  {
   "cell_type": "markdown",
   "id": "cee2a137-ac34-4ea6-a0e6-ca1b702f6044",
   "metadata": {},
   "source": [
    "The original config remains unchanged:"
   ]
  },
  {
   "cell_type": "code",
   "execution_count": 65,
   "id": "2bd1ab5f-229c-4caf-bca2-e821feb5120a",
   "metadata": {},
   "outputs": [
    {
     "name": "stdout",
     "output_type": "stream",
     "text": [
      "{'host': 'prod.deepdive.com', 'port': 5432, 'database': 'deepdive', 'user_id': '$pg_user', 'user_pwd': '$pg_pwd'}\n"
     ]
    }
   ],
   "source": [
    "print(config)"
   ]
  },
  {
   "cell_type": "markdown",
   "id": "ea146c07-b8b1-411f-946f-5b2c27b12a3d",
   "metadata": {},
   "source": [
    "This can be extended to having configs with defined hierarchies e.g. server, dev, prod, test, global etc."
   ]
  },
  {
   "cell_type": "markdown",
   "id": "b5ec4469-4627-4eb1-b7be-df0c25849ec0",
   "metadata": {},
   "source": [
    "# 06 - UserDict"
   ]
  },
  {
   "cell_type": "markdown",
   "id": "4df16f21-5d54-4fa8-9868-8755dd7cd0b6",
   "metadata": {},
   "source": [
    "If we wanted to create our own version of a dictionary with special rules implicit, we could **subclass `dict`**. Then, we could override the various dunder methods to customise the behaviour. \n",
    "\n",
    "There are some caveats to this approach however:\n",
    "\n",
    "While overriding `d.__getitem__('a')` does override the behaviour of `d['a']` and similarly for `d.__setitem__('a', 10)`, we do not observe overriding of `.get()` and `.update()`. The reason is because these are **built-in types** that use direct access to the data in C. Even `len(string)` does not use `__len__`."
   ]
  },
  {
   "cell_type": "markdown",
   "id": "fbfc476d-01f5-4043-98b4-6b989086cc4a",
   "metadata": {},
   "source": [
    "**Alternative, better approach**\n",
    "\n",
    "We can instead use `collections.UserDict` which is *not* a subclass of `dict`, it's a **mapping type**.\n",
    "\n",
    "It implements \n",
    "- all key functionality that we have with dictionaries\n",
    "- views\n",
    "- `__getitem__` and `__setitem__` and uses them internally for `.get()` and `.update()`"
   ]
  }
 ],
 "metadata": {
  "kernelspec": {
   "display_name": "Python 3 (ipykernel)",
   "language": "python",
   "name": "python3"
  },
  "language_info": {
   "codemirror_mode": {
    "name": "ipython",
    "version": 3
   },
   "file_extension": ".py",
   "mimetype": "text/x-python",
   "name": "python",
   "nbconvert_exporter": "python",
   "pygments_lexer": "ipython3",
   "version": "3.10.4"
  }
 },
 "nbformat": 4,
 "nbformat_minor": 5
}
