{
 "cells": [
  {
   "cell_type": "markdown",
   "id": "4fbd486c-61c2-4e70-aadf-729672c5227f",
   "metadata": {},
   "source": [
    "# 01 - defaultdict"
   ]
  },
  {
   "cell_type": "markdown",
   "id": "b975ebbe-5434-4f1d-950b-0506bd20e27a",
   "metadata": {},
   "source": [
    "#### Lecture"
   ]
  },
  {
   "cell_type": "markdown",
   "id": "f0b92ff3-cb64-4a1f-b030-2f435cd016c0",
   "metadata": {},
   "source": [
    "The `defaultdict` is a specialized dictionary found in the `collections` module. (It is a subclass of the `dict` type)."
   ]
  },
  {
   "cell_type": "code",
   "execution_count": 8,
   "id": "5f65bdb4-502c-40f1-a525-ae9dd7851cba",
   "metadata": {},
   "outputs": [],
   "source": [
    "from collections import defaultdict"
   ]
  },
  {
   "cell_type": "markdown",
   "id": "d264e4b6-f622-44b0-9a13-18ca6bb25b1f",
   "metadata": {},
   "source": [
    "Standard dictionaries in Python will raise an exception if we try to access a non-existent key:"
   ]
  },
  {
   "cell_type": "code",
   "execution_count": 1,
   "id": "6aa269be-ee45-4915-8114-1a24c18b7701",
   "metadata": {},
   "outputs": [
    {
     "ename": "KeyError",
     "evalue": "'a'",
     "output_type": "error",
     "traceback": [
      "\u001b[1;31m---------------------------------------------------------------------------\u001b[0m",
      "\u001b[1;31mKeyError\u001b[0m                                  Traceback (most recent call last)",
      "Cell \u001b[1;32mIn[1], line 2\u001b[0m\n\u001b[0;32m      1\u001b[0m d \u001b[38;5;241m=\u001b[39m {}\n\u001b[1;32m----> 2\u001b[0m \u001b[43md\u001b[49m\u001b[43m[\u001b[49m\u001b[38;5;124;43m'\u001b[39;49m\u001b[38;5;124;43ma\u001b[39;49m\u001b[38;5;124;43m'\u001b[39;49m\u001b[43m]\u001b[49m\n",
      "\u001b[1;31mKeyError\u001b[0m: 'a'"
     ]
    }
   ],
   "source": [
    "d = {}\n",
    "d['a']"
   ]
  },
  {
   "cell_type": "markdown",
   "id": "a5afd021-a9a2-4e15-81fe-7e208fc2a91c",
   "metadata": {},
   "source": [
    "We can get around this with `.get` method which returns `None` by default, or we can specify a default value:"
   ]
  },
  {
   "cell_type": "code",
   "execution_count": 2,
   "id": "a8588310-2e3e-4d5f-b130-f9fe4547b151",
   "metadata": {},
   "outputs": [
    {
     "data": {
      "text/plain": [
       "0"
      ]
     },
     "execution_count": 2,
     "metadata": {},
     "output_type": "execute_result"
    }
   ],
   "source": [
    "d.get('a', 0)"
   ]
  },
  {
   "cell_type": "markdown",
   "id": "d7392177-4e0b-47cb-a6eb-676b656eb373",
   "metadata": {},
   "source": [
    "We have already seen before that the pattern for using dictionaries for counting is the following:"
   ]
  },
  {
   "cell_type": "code",
   "execution_count": 6,
   "id": "d240902c-fe8b-47dc-9a66-8fcafc015375",
   "metadata": {},
   "outputs": [
    {
     "name": "stdout",
     "output_type": "stream",
     "text": [
      "{'a': 4, 'b': 2, 'l': 2, 'e': 4, ' ': 6, 'w': 2, 's': 2, 'I': 2, 'r': 1}\n"
     ]
    }
   ],
   "source": [
    "counts = {}\n",
    "sentence = \"able was I ere I saw elba\"\n",
    "for c in sentence:\n",
    "    counts[c] = counts.get(c, 0) + 1\n",
    "\n",
    "print(counts)"
   ]
  },
  {
   "cell_type": "markdown",
   "id": "1e4b969d-da7b-43a1-b308-cb349f26fbe0",
   "metadata": {},
   "source": [
    "But the issue is we have to remember to implement this pattern for each key that needs it. It would be easier to define the default value **once** per dict."
   ]
  },
  {
   "cell_type": "markdown",
   "id": "0e49e040-7de2-4067-8103-7830332bcf73",
   "metadata": {},
   "source": [
    "`defaultdict` solves this issue. It has the following structure: `defaultdict(<callable>, <...>)` where \n",
    "- `<callable>` is called to calculate a default value and must have zero arguments.\n",
    "- `<...>` are the arguments you would pass to the regular `dict()` function, e.g.  `defaultdict(<callable>, x=1, y=2)` will create a defaultdict with two keys, `x` and `y` with values 1 and 2."
   ]
  },
  {
   "cell_type": "markdown",
   "id": "b3fd6856-f8df-4270-961c-abf572cf4ad9",
   "metadata": {},
   "source": [
    "It's worth noting\n",
    "- **accessing** nonexist keys in a `defaultdict` will create those keys in the dictionary with the default value. This is in contrast to `.get` which only reads, never writes. This is true even when we call `.get` on a `defaultdict`.\n",
    "- the callable is a factory function that is called every time it is **needed**, not when the `defaultdict` is created. So whenever you access a nonexistent key, that's when the callable is called."
   ]
  },
  {
   "cell_type": "code",
   "execution_count": 15,
   "id": "f047a754-1219-4621-9436-c8b336b1bef3",
   "metadata": {},
   "outputs": [
    {
     "name": "stdout",
     "output_type": "stream",
     "text": [
      "defaultdict(<function <lambda> at 0x00000210B398F5B0>, {'x': 1, 'y': 2})\n",
      "defaultdict(<function <lambda> at 0x00000210B398F5B0>, {'x': 1, 'y': 2, 'z': 'python'})\n"
     ]
    }
   ],
   "source": [
    "d = defaultdict(lambda: 'python', x=1, y=2)\n",
    "print(d)\n",
    "d['z']\n",
    "print(d)"
   ]
  },
  {
   "cell_type": "markdown",
   "id": "13609c96-66f9-4d8e-a8ef-78863ea1863f",
   "metadata": {},
   "source": [
    "If we want to create an empty list as the default value, we could pass `list` as our callable since `list() => []`, but there are other **factory functions** (these are functions in addition to types):\n",
    "- `int: int() => 0`\n",
    "- `dict: dict() => {}`\n",
    "- `set: set() => {}`\n",
    "- `str: str() => ''`"
   ]
  },
  {
   "cell_type": "markdown",
   "id": "19b7f8b1-8ea2-4f21-abb5-3f1f7c941939",
   "metadata": {},
   "source": [
    "Here is the better pattern for counting. Since `defaultdict` is a subclass of `dict`, we have access to all `dict` methods like `.items()`, etc."
   ]
  },
  {
   "cell_type": "code",
   "execution_count": 14,
   "id": "67af2f61-bdbe-4cc2-80cc-daf530f655d7",
   "metadata": {},
   "outputs": [
    {
     "name": "stdout",
     "output_type": "stream",
     "text": [
      "defaultdict(<class 'int'>, {'a': 4, 'b': 2, 'l': 2, 'e': 4, ' ': 6, 'w': 2, 's': 2, 'I': 2, 'r': 1})\n"
     ]
    }
   ],
   "source": [
    "counts = defaultdict(int)\n",
    "sentence = \"able was I ere I saw elba\"\n",
    "\n",
    "for c in sentence:\n",
    "    counts[c] += 1\n",
    "\n",
    "print(counts)"
   ]
  },
  {
   "cell_type": "markdown",
   "id": "5c2685dd-d11f-49ba-9a3a-93e7c86b9903",
   "metadata": {},
   "source": [
    "#### Coding"
   ]
  },
  {
   "cell_type": "markdown",
   "id": "120687d5-f22d-418e-a6de-6a6e2149afd8",
   "metadata": {
    "jp-MarkdownHeadingCollapsed": true
   },
   "source": [
    "##### Example 1"
   ]
  },
  {
   "cell_type": "markdown",
   "id": "79b5b1e5-e245-4620-85ff-32fc2098e987",
   "metadata": {},
   "source": [
    "Let's take a look at another example of where a `defaultdict` can be useful.\n",
    "\n",
    "Suppose we have a dictionary structure that has people's names as keys, and a dictionary for the value that contains the person's eye color. We want to create a dictionary of eye colors, with a list of the people's names that have that eye color. For the data below, we would expect:\n",
    "```python\n",
    "{'blue': ['john', 'jill'], 'brown': ['jack'], 'unknown': ['eric', 'michael']}\n",
    "```"
   ]
  },
  {
   "cell_type": "code",
   "execution_count": 17,
   "id": "b0e6d2e2-4d6f-4682-8d13-22b0c0022bac",
   "metadata": {},
   "outputs": [],
   "source": [
    "persons = {\n",
    "    'john': {'age': 20, 'eye_color': 'blue'},\n",
    "    'jack': {'age': 25, 'eye_color': 'brown'},\n",
    "    'jill': {'age': 22, 'eye_color': 'blue'},\n",
    "    'eric': {'age': 35},\n",
    "    'michael': {'age': 27}\n",
    "}"
   ]
  },
  {
   "cell_type": "markdown",
   "id": "1b27b687-cfe3-409f-a404-1c125648a4eb",
   "metadata": {},
   "source": [
    "Using regular dictionaries and `.get`, here's one approach:"
   ]
  },
  {
   "cell_type": "code",
   "execution_count": 21,
   "id": "9470f40e-9f5e-4fce-83e5-f6143106d3c7",
   "metadata": {},
   "outputs": [
    {
     "name": "stdout",
     "output_type": "stream",
     "text": [
      "{'blue': ['john', 'jill'], 'brown': ['jack'], 'unknown': ['eric', 'michael']}\n"
     ]
    }
   ],
   "source": [
    "eye_colours = {}\n",
    "\n",
    "for person, details in persons.items():\n",
    "    colour = details.get('eye_color', 'unknown')\n",
    "    if colour not in eye_colours:\n",
    "        eye_colours[colour] = [person]\n",
    "    else:\n",
    "        eye_colours[colour].append(person)\n",
    "\n",
    "print(eye_colours)"
   ]
  },
  {
   "cell_type": "markdown",
   "id": "b285053d-72ab-4139-8add-15141f341633",
   "metadata": {},
   "source": [
    "Here's the improved approach:"
   ]
  },
  {
   "cell_type": "code",
   "execution_count": 22,
   "id": "27e8522c-79d6-48bd-a77b-425203453a49",
   "metadata": {},
   "outputs": [
    {
     "name": "stdout",
     "output_type": "stream",
     "text": [
      "defaultdict(<class 'list'>, {'blue': ['john', 'jill'], 'brown': ['jack'], 'unknown': ['eric', 'michael']})\n"
     ]
    }
   ],
   "source": [
    "eye_colours = defaultdict(list)\n",
    "for person, details in persons.items():\n",
    "    eye_colours[details.get('eye_color', 'unknown')].append(person)\n",
    "\n",
    "print(eye_colours)"
   ]
  },
  {
   "cell_type": "markdown",
   "id": "4313dee9-23d7-4485-aed2-25f8f1637c83",
   "metadata": {},
   "source": [
    "To simplify further, we can move the complexity of setting 'unknown' into the `persons` dictionary itself; if a person has no specified eye colour, return 'unknown'. One way we could do this is:"
   ]
  },
  {
   "cell_type": "code",
   "execution_count": 23,
   "id": "bb56de85-e9c0-4bc7-a9ff-99ba40b6a00d",
   "metadata": {},
   "outputs": [],
   "source": [
    "persons = {\n",
    "    'john': defaultdict(lambda: 'unknown', age=20, eye_color='blue'),\n",
    "    'jack': defaultdict(lambda: 'unknown', age=20, eye_color='brown'),\n",
    "    'jill': defaultdict(lambda: 'unknown', age=22, eye_color='blue'),\n",
    "    'eric': defaultdict(lambda: 'unknown', age=35),\n",
    "    'michael': defaultdict(lambda: 'unknown', age=27)\n",
    "}"
   ]
  },
  {
   "cell_type": "markdown",
   "id": "ff6c3983-1db2-4672-acd5-cfd7e2d6c532",
   "metadata": {},
   "source": [
    "Since each details dict has the same first argument, we can create a partial function which sets this argument implicitly. Our fully improved code becomes:"
   ]
  },
  {
   "cell_type": "code",
   "execution_count": 31,
   "id": "2815a3fc-1cb1-45d1-8419-834db5091b6b",
   "metadata": {},
   "outputs": [
    {
     "name": "stdout",
     "output_type": "stream",
     "text": [
      "defaultdict(<class 'list'>, {'blue': ['john', 'jill'], 'brown': ['jack'], 'unknown': ['eric', 'michael']})\n"
     ]
    }
   ],
   "source": [
    "from functools import partial\n",
    "\n",
    "details_dict = partial(defaultdict, lambda: 'unknown')  # this returns a version of defaultdict whose first argument is lambda: 'unknown'\n",
    "persons = {\n",
    "    'john': details_dict(age=20, eye_color='blue'),\n",
    "    'jack': details_dict(age=20, eye_color='brown'),\n",
    "    'jill': details_dict(age=22, eye_color='blue'),\n",
    "    'eric': details_dict(age=35),\n",
    "    'michael': details_dict(age=27)\n",
    "}\n",
    "\n",
    "eye_colours = defaultdict(list)\n",
    "for person, details in persons.items():\n",
    "    eye_colours[details['eye_color']].append(person)\n",
    "\n",
    "print(eye_colours)"
   ]
  },
  {
   "cell_type": "markdown",
   "id": "72a8aa27-43ff-4e12-af84-173199f20765",
   "metadata": {},
   "source": [
    "##### Example 2"
   ]
  },
  {
   "cell_type": "markdown",
   "id": "adcf1b3a-2012-4bed-919d-3137c7c93c87",
   "metadata": {},
   "source": [
    "So far, the factory method used in `defaultdict` has been deterministic, but since it's called whenever we hit a nonexistent key, it can be nondeterministic in that it could call to a database, API, etc. In this example, we'll show it being called on different datetimes.\n",
    "\n",
    "In this example we want to keep track of how many times certain functions are being called, as well as when they were **first** called. To do this I want to be able to decorate the functions I want to keep track of, and I want to be able to specify the dictionary that should be used so I can keep a reference to it so I can examine the results."
   ]
  },
  {
   "cell_type": "code",
   "execution_count": 53,
   "id": "2678053f-44b7-4f6e-bc9f-f00e4600f897",
   "metadata": {},
   "outputs": [],
   "source": [
    "from collections import defaultdict, namedtuple\n",
    "from datetime import datetime\n",
    "from functools import wraps\n",
    "\n",
    "Stats = namedtuple('Stats', 'decorator data')\n",
    "d = defaultdict(lambda: {\"count\": 0, \"first_called\": datetime.utcnow()})\n",
    "\n",
    "def decorator(fn):\n",
    "    @wraps(fn)\n",
    "    def wrapper(*args, **kwargs):\n",
    "        d[fn.__name__]['count'] += 1\n",
    "        return fn(*args, **kwargs)\n",
    "    return wrapper\n",
    "\n",
    "stats = Stats(decorator=decorator, data=d)        "
   ]
  },
  {
   "cell_type": "code",
   "execution_count": 54,
   "id": "bd9e473a-ce88-4e10-b071-881531afde95",
   "metadata": {},
   "outputs": [],
   "source": [
    "@stats.decorator\n",
    "def func_1():\n",
    "    pass\n",
    "\n",
    "@stats.decorator\n",
    "def func_2(x, y):\n",
    "    pass"
   ]
  },
  {
   "cell_type": "markdown",
   "id": "a0b7fe70-bcaa-4fde-8bde-778119cbbdb8",
   "metadata": {},
   "source": [
    "We expect `stats.data` to be empty because the functions haven't been called yet and `defaultdict` won't call the factory method until it has."
   ]
  },
  {
   "cell_type": "code",
   "execution_count": 55,
   "id": "217991d4-ebd6-4cea-9460-29117517f27d",
   "metadata": {},
   "outputs": [
    {
     "data": {
      "text/plain": [
       "defaultdict(<function __main__.<lambda>()>, {})"
      ]
     },
     "execution_count": 55,
     "metadata": {},
     "output_type": "execute_result"
    }
   ],
   "source": [
    "stats.data"
   ]
  },
  {
   "cell_type": "code",
   "execution_count": 56,
   "id": "fffcc586-6868-4f43-b410-d989b80106c3",
   "metadata": {},
   "outputs": [],
   "source": [
    "func_1()\n",
    "func_1()\n",
    "func_1()"
   ]
  },
  {
   "cell_type": "code",
   "execution_count": 57,
   "id": "8e52f01c-6358-42c6-834d-38ad4cb2e421",
   "metadata": {},
   "outputs": [
    {
     "data": {
      "text/plain": [
       "defaultdict(<function __main__.<lambda>()>,\n",
       "            {'func_1': {'count': 3,\n",
       "              'first_called': datetime.datetime(2024, 6, 10, 17, 6, 4, 971158)}})"
      ]
     },
     "execution_count": 57,
     "metadata": {},
     "output_type": "execute_result"
    }
   ],
   "source": [
    "stats.data"
   ]
  },
  {
   "cell_type": "markdown",
   "id": "d8047ec2-ae72-4df8-b718-d25e5c02f698",
   "metadata": {},
   "source": [
    "Waiting some time before calling the line below..."
   ]
  },
  {
   "cell_type": "code",
   "execution_count": 58,
   "id": "ecfe231c-d210-4eb4-9a19-c3c1614da1fa",
   "metadata": {},
   "outputs": [],
   "source": [
    "func_2(10, 20)"
   ]
  },
  {
   "cell_type": "code",
   "execution_count": 59,
   "id": "4c89438c-eb0f-4d97-9eb1-f491a8d26f4f",
   "metadata": {},
   "outputs": [
    {
     "data": {
      "text/plain": [
       "defaultdict(<function __main__.<lambda>()>,\n",
       "            {'func_1': {'count': 3,\n",
       "              'first_called': datetime.datetime(2024, 6, 10, 17, 6, 4, 971158)},\n",
       "             'func_2': {'count': 1,\n",
       "              'first_called': datetime.datetime(2024, 6, 10, 17, 6, 8, 634088)}})"
      ]
     },
     "execution_count": 59,
     "metadata": {},
     "output_type": "execute_result"
    }
   ],
   "source": [
    "stats.data"
   ]
  },
  {
   "cell_type": "markdown",
   "id": "df1a2c4e-f95a-45a2-b01a-9595e068a0ad",
   "metadata": {},
   "source": [
    "# 02 - OrderedDict"
   ]
  },
  {
   "cell_type": "markdown",
   "id": "ee25baeb-b090-4510-8c62-5a792eac76a8",
   "metadata": {},
   "source": [
    "Prior to Python 3.7, dictionary key order was not guaranteed. This became part of the language in 3.7, so the usefullness of this `OrderedDict` is diminished - but necessary if you want your dictionaries to maintain key order **and** be compatible with Python versions earlier then 3.6 (technically dicts are ordered in 3.6 as well, but it was considered an implementation detail, and not actually guaranteed).\n",
    "\n",
    "With that being said, `OrderedDict` does have additional order-related functionality such as:\n",
    "- reverse iteration: `reversed(d)` (note that you can now do this on regular dicts in Python 3.8)\n",
    "- popping first or last item: `d.popitem(last=False)` or `d.popitem(last=True)`\n",
    "- move item to end: `d.move_to_end('second_key')`\n",
    "- move item to beginning: `d.move_to_end('second_key', last=False)`\n",
    "\n",
    "Also equality comparison (`==`) of two `OrderedDict` is only `True` if the keys **and** the order is identical, unlike regular dictionaries where order doesn't matter.\n",
    "\n",
    "Since all of this is trivial to demonstrate with code, I've left it out here. Defer back the original notebook if needed."
   ]
  },
  {
   "cell_type": "markdown",
   "id": "25f5de9b-7ff4-457c-8246-5ebc747ce3d9",
   "metadata": {},
   "source": [
    "# 03 - OrderedDict vs Plain Dict"
   ]
  },
  {
   "cell_type": "markdown",
   "id": "817246c9-44a1-4012-86aa-d35cf0fa12e2",
   "metadata": {},
   "source": [
    "In this section, we can show how we can achieve the same functionality of `OrderedDict` but using a regular dictionary instead, constrained to **only performing mutations, not creating new dicts** . For example, \n",
    "\n",
    "- we can get the first key with `next(iter(d2.keys())`\n",
    "- we can get the last key with `d2.popitem()`\n",
    "\n",
    "Alternatively, we can convert the dict views into a list and get the first/last.\n",
    "\n",
    "Since, this is unlikely to be useful in practice, I've left it out here too. Defer back the original notebook if needed."
   ]
  },
  {
   "cell_type": "markdown",
   "id": "0b147309-07ed-482b-bc0c-8b3c18584e4c",
   "metadata": {},
   "source": [
    "# 04 - Counter"
   ]
  },
  {
   "cell_type": "markdown",
   "id": "00375127-a5e9-4a77-99cd-b8ff75d8e73f",
   "metadata": {},
   "source": [
    "#### Lecture"
   ]
  },
  {
   "cell_type": "markdown",
   "id": "d2186d07-a668-4693-b80d-aa4d6f521a61",
   "metadata": {},
   "source": [
    "We've already seen how we can use `defaultdict` to create a counter."
   ]
  },
  {
   "cell_type": "code",
   "execution_count": 12,
   "id": "15fa4ffa-b265-472a-a16b-50080681c23c",
   "metadata": {},
   "outputs": [
    {
     "name": "stdout",
     "output_type": "stream",
     "text": [
      "defaultdict(<class 'int'>, {'a': 4, 'b': 2, 'l': 2, 'e': 4, ' ': 6, 'w': 2, 's': 2, 'i': 2, 'r': 1})\n"
     ]
    }
   ],
   "source": [
    "from collections import defaultdict\n",
    "\n",
    "sentence = 'able was i ere i saw elba'\n",
    "d = defaultdict(int)\n",
    "\n",
    "for c in sentence:\n",
    "    d[c] += 1\n",
    "\n",
    "print(d)"
   ]
  },
  {
   "cell_type": "markdown",
   "id": "967e6b72-6d82-4aa9-9b2e-7024490d6548",
   "metadata": {},
   "source": [
    "But there are certain counter operations that are tedious to do manually, for example:\n",
    "- count the frequency of items in an iterable\n",
    "- update one counter dictionary with another counter dictionary\n",
    "- over multiple counter dictionaries, find the min/max counter value for each key that's present in all counter dictionaries.\n",
    "\n",
    "`collections.Counter` allows us to do this."
   ]
  },
  {
   "cell_type": "markdown",
   "id": "04ebc914-68f3-4437-b43d-0cac794ce154",
   "metadata": {},
   "source": [
    "`Counter` is a specialised dictionary with certain properties:\n",
    "- it is (python's implementation of) a multiset which is just a set that can contain identical elements. The frequency of each element is the **multiplicity** and the **cardinality** of the multiset is the sum of the multiplicities.\n",
    "- supports the same constructor options as regular dicts.\n",
    "- acts like a `defaultdict` with a default value of 0.\n",
    "- `update()` performs an in-place addition of counts as opposed to updating the value of a key."
   ]
  },
  {
   "cell_type": "markdown",
   "id": "ec427750-1858-44cb-b226-bb79ed0ef0b0",
   "metadata": {},
   "source": [
    "#### Coding"
   ]
  },
  {
   "cell_type": "markdown",
   "id": "3dd2dcf0-bbf3-439d-998e-0abff59dff09",
   "metadata": {},
   "source": [
    "##### Example 1: Frequency of items in an iterable"
   ]
  },
  {
   "cell_type": "markdown",
   "id": "edc91bd0-d3c9-4a91-984f-fbb19fdc4aae",
   "metadata": {},
   "source": [
    "This one is identical to `defaultdict`:"
   ]
  },
  {
   "cell_type": "code",
   "execution_count": 13,
   "id": "5c2e2a71-075e-4ae2-9160-3a6b96930a7c",
   "metadata": {},
   "outputs": [
    {
     "name": "stdout",
     "output_type": "stream",
     "text": [
      "Counter({' ': 6, 'a': 4, 'e': 4, 'b': 2, 'l': 2, 'w': 2, 's': 2, 'i': 2, 'r': 1})\n"
     ]
    }
   ],
   "source": [
    "from collections import Counter\n",
    "\n",
    "sentence = 'able was i ere i saw elba'\n",
    "counter = Counter()\n",
    "\n",
    "for c in sentence:\n",
    "    counter[c] += 1\n",
    "\n",
    "print(counter)"
   ]
  },
  {
   "cell_type": "markdown",
   "id": "94e3515b-a4a9-450f-8cb9-eadea809055c",
   "metadata": {},
   "source": [
    "But we can also do it this way:"
   ]
  },
  {
   "cell_type": "code",
   "execution_count": 16,
   "id": "4f17e044-c281-4f84-80b7-9f5d40c50ab4",
   "metadata": {},
   "outputs": [
    {
     "name": "stdout",
     "output_type": "stream",
     "text": [
      "Counter({' ': 6, 'a': 4, 'e': 4, 'b': 2, 'l': 2, 'w': 2, 's': 2, 'i': 2, 'r': 1})\n"
     ]
    }
   ],
   "source": [
    "counter = Counter('able was i ere i saw elba')\n",
    "print(counter)"
   ]
  },
  {
   "cell_type": "code",
   "execution_count": 21,
   "id": "b7bc0b83-9f74-4c69-8b0e-d786e98f3b82",
   "metadata": {},
   "outputs": [
    {
     "name": "stdout",
     "output_type": "stream",
     "text": [
      "Counter({7: 114, 10: 103, 5: 100, 8: 94, 9: 90, 1: 89, 3: 88, 0: 85, 6: 84, 2: 77, 4: 76})\n"
     ]
    }
   ],
   "source": [
    "import random\n",
    "counter = Counter([random.randint(0, 10) for _ in range(1_000)])\n",
    "print(counter)"
   ]
  },
  {
   "cell_type": "markdown",
   "id": "7ff02a09-b55b-4a36-a774-fd718ab46db0",
   "metadata": {},
   "source": [
    "##### Example 2: n most common items"
   ]
  },
  {
   "cell_type": "markdown",
   "id": "8d8df0da-2ef1-4944-ad54-bf427fba1049",
   "metadata": {},
   "source": [
    "Let's find the `n` most common words (by frequency) in a paragraph of text. Words are considered delimited by white space or punctuation marks such as `.`, `,`, `!`, etc - basically anything except a character or a digit.\n",
    "This is actually quite difficult to do, so we'll use a close enough approximation that will cover most cases just fine, using a regular expression:"
   ]
  },
  {
   "cell_type": "code",
   "execution_count": 22,
   "id": "5b90d26f-0a1b-427e-82d2-a404e7665da4",
   "metadata": {},
   "outputs": [
    {
     "name": "stdout",
     "output_type": "stream",
     "text": [
      "Counter({'': 23, 'the': 4, '0': 3, 'functions': 2, 'distributions': 2, 'random': 2, 'On': 1, 'real': 1, 'line': 1, 'there': 1, 'are': 1, 'to': 1, 'compute': 1, 'uniform': 1, 'normal': 1, 'Gaussian': 1, 'lognormal': 1, 'negative': 1, 'exponential': 1, 'gamma': 1, 'and': 1, 'beta': 1, 'For': 1, 'generating': 1, 'of': 1, 'angles': 1, 'von': 1, 'Mises': 1, 'distribution': 1, 'is': 1, 'available': 1, 'Almost': 1, 'all': 1, 'module': 1, 'depend': 1, 'on': 1, 'basic': 1, 'function': 1, 'which': 1, 'generates': 1, 'a': 1, 'float': 1, 'uniformly': 1, 'in': 1, 'semi': 1, 'open': 1, 'range': 1, '1': 1})\n"
     ]
    }
   ],
   "source": [
    "import re\n",
    "sentence = '''\n",
    "On the real line, there are functions to compute uniform, normal (Gaussian), lognormal, negative exponential, gamma, \n",
    "and beta distributions. For generating distributions of angles, the von Mises distribution is available. \n",
    "Almost all module functions depend on the basic function random(), which generates a random float uniformly in the semi-open range [0.0, 1.0). \n",
    "'''\n",
    "words = re.split('\\W', sentence)\n",
    "counter = Counter(words)\n",
    "print(counter)"
   ]
  },
  {
   "cell_type": "code",
   "execution_count": 23,
   "id": "74225c74-5b77-4500-acd2-00e8f6d6e426",
   "metadata": {},
   "outputs": [
    {
     "data": {
      "text/plain": [
       "[('', 23), ('the', 4), ('0', 3), ('functions', 2), ('distributions', 2)]"
      ]
     },
     "execution_count": 23,
     "metadata": {},
     "output_type": "execute_result"
    }
   ],
   "source": [
    "counter.most_common(5)"
   ]
  },
  {
   "cell_type": "markdown",
   "id": "b3e3223f-14a2-4858-a2ec-36c6fda267cf",
   "metadata": {},
   "source": [
    "##### Example 3: Iterating through repeated elements"
   ]
  },
  {
   "cell_type": "markdown",
   "id": "eaaf2851-0327-4f02-93e4-806857145634",
   "metadata": {},
   "source": [
    "As we already know, we can't have identical keys in a dictionary so when we iterate through the keys view, we are guaranteed to get unique elements. \n",
    "\n",
    "But the same is not true for `Counter` - we *can* iterate through and see repeated elements:"
   ]
  },
  {
   "cell_type": "code",
   "execution_count": 41,
   "id": "a985a44e-8bbf-41ba-add9-a8b272b21f32",
   "metadata": {},
   "outputs": [
    {
     "name": "stdout",
     "output_type": "stream",
     "text": [
      "Counter({'a': 3, 'y': 3, 'b': 2, 'z': 1, 'x': 1})\n",
      "a\n",
      "a\n",
      "a\n",
      "b\n",
      "b\n",
      "z\n",
      "y\n",
      "y\n",
      "y\n",
      "x\n"
     ]
    }
   ],
   "source": [
    "counter = Counter('abbazyyyxa')\n",
    "print(counter)\n",
    "\n",
    "for c in counter.elements():\n",
    "    print(c)"
   ]
  },
  {
   "cell_type": "markdown",
   "id": "c043c97e-deaf-463d-b3e6-3e98d2430ef5",
   "metadata": {},
   "source": [
    "# 05 - ChainMap"
   ]
  },
  {
   "cell_type": "markdown",
   "id": "b5ec4469-4627-4eb1-b7be-df0c25849ec0",
   "metadata": {},
   "source": [
    "# 06 - UserDict"
   ]
  }
 ],
 "metadata": {
  "kernelspec": {
   "display_name": "Python 3 (ipykernel)",
   "language": "python",
   "name": "python3"
  },
  "language_info": {
   "codemirror_mode": {
    "name": "ipython",
    "version": 3
   },
   "file_extension": ".py",
   "mimetype": "text/x-python",
   "name": "python",
   "nbconvert_exporter": "python",
   "pygments_lexer": "ipython3",
   "version": "3.8.0"
  }
 },
 "nbformat": 4,
 "nbformat_minor": 5
}
